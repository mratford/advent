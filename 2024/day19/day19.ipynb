{
 "cells": [
  {
   "cell_type": "markdown",
   "id": "a4ec88ee",
   "metadata": {},
   "source": [
    "# Day 19\n",
    "## Part 1\n"
   ]
  },
  {
   "cell_type": "code",
   "execution_count": null,
   "id": "88a2617e",
   "metadata": {},
   "outputs": [],
   "source": []
  }
 ],
 "metadata": {},
 "nbformat": 4,
 "nbformat_minor": 5
}
