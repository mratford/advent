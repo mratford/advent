{
 "cells": [
  {
   "cell_type": "markdown",
   "id": "a4ec88ee",
   "metadata": {},
   "source": [
    "# Day 19\n",
    "## Part 1\n",
    "\n",
    "Use dynamic programming, counting the number of possible combos of patterns because I suspect that's what Part 2 will be asked for.\n",
    "Try using `startswith` though a trie would be better."
   ]
  },
  {
   "cell_type": "code",
   "execution_count": 4,
   "id": "88a2617e",
   "metadata": {},
   "outputs": [
    {
     "data": {
      "text/plain": [
       "(frozenset({'b', 'br', 'bwu', 'g', 'gb', 'r', 'rb', 'wr'}),\n",
       " ['brwrr', 'bggr', 'gbbr', 'rrbgbr', 'ubwu', 'bwurrg', 'brgr', 'bbrgwb'])"
      ]
     },
     "execution_count": 4,
     "metadata": {},
     "output_type": "execute_result"
    }
   ],
   "source": [
    "from functools import cache\n",
    "\n",
    "def parse_data(s):\n",
    "    lines = s.strip().splitlines()\n",
    "    return (frozenset(lines[0].split(\", \")), lines[2:]) \n",
    "\n",
    "test_data = parse_data(\"\"\"r, wr, b, g, bwu, rb, gb, br\n",
    "\n",
    "brwrr\n",
    "bggr\n",
    "gbbr\n",
    "rrbgbr\n",
    "ubwu\n",
    "bwurrg\n",
    "brgr\n",
    "bbrgwb\"\"\")\n",
    "\n",
    "test_data"
   ]
  },
  {
   "cell_type": "code",
   "execution_count": 5,
   "id": "9e9b9629-d135-4d18-99a5-dfaf66d6e632",
   "metadata": {},
   "outputs": [
    {
     "data": {
      "text/plain": [
       "6"
      ]
     },
     "execution_count": 5,
     "metadata": {},
     "output_type": "execute_result"
    }
   ],
   "source": [
    "def possible(design, patterns):\n",
    "    @cache\n",
    "    def n_combos(design):\n",
    "        if design == \"\":\n",
    "            return 1\n",
    "    \n",
    "        result = 0\n",
    "        for p in patterns:\n",
    "            if design.startswith(p):\n",
    "                result += n_combos(design[len(p):])\n",
    "\n",
    "        return result\n",
    "\n",
    "    return n_combos(design) > 0\n",
    "\n",
    "def part_1(data):\n",
    "    patterns, designs = data\n",
    "    return sum(\n",
    "        1\n",
    "        for design in designs\n",
    "        if possible(design, patterns)\n",
    "    )\n",
    "\n",
    "part_1(test_data)"
   ]
  },
  {
   "cell_type": "code",
   "execution_count": 7,
   "id": "5d947fb0-be2b-4888-9e4e-d4aa756d3672",
   "metadata": {},
   "outputs": [
    {
     "data": {
      "text/plain": [
       "228"
      ]
     },
     "execution_count": 7,
     "metadata": {},
     "output_type": "execute_result"
    }
   ],
   "source": [
    "data = parse_data(open(\"input\").read())\n",
    "part_1(data)"
   ]
  },
  {
   "cell_type": "markdown",
   "id": "76d34d9f-66e1-480e-a43c-c5e380b79016",
   "metadata": {},
   "source": [
    "## Part 2\n",
    "\n",
    "I was right, just need to tweak the code a bit."
   ]
  },
  {
   "cell_type": "code",
   "execution_count": 8,
   "id": "bf15d14f-33da-4a60-b19a-0bcd6791fb37",
   "metadata": {},
   "outputs": [
    {
     "data": {
      "text/plain": [
       "16"
      ]
     },
     "execution_count": 8,
     "metadata": {},
     "output_type": "execute_result"
    }
   ],
   "source": [
    "def n_possible(design, patterns):\n",
    "    @cache\n",
    "    def n_combos(design):\n",
    "        if design == \"\":\n",
    "            return 1\n",
    "    \n",
    "        result = 0\n",
    "        for p in patterns:\n",
    "            if design.startswith(p):\n",
    "                result += n_combos(design[len(p):])\n",
    "\n",
    "        return result\n",
    "\n",
    "    return n_combos(design)\n",
    "\n",
    "def part_2(data):\n",
    "    patterns, designs = data\n",
    "    return sum(\n",
    "        n_possible(design, patterns)\n",
    "        for design in designs\n",
    "    )\n",
    "\n",
    "part_2(test_data)"
   ]
  },
  {
   "cell_type": "code",
   "execution_count": 9,
   "id": "9b8729f2-262c-4c14-b2e4-cc6763bc95a7",
   "metadata": {},
   "outputs": [
    {
     "data": {
      "text/plain": [
       "584553405070389"
      ]
     },
     "execution_count": 9,
     "metadata": {},
     "output_type": "execute_result"
    }
   ],
   "source": [
    "part_2(data)"
   ]
  },
  {
   "cell_type": "code",
   "execution_count": null,
   "id": "44d51820-667c-4d6b-bb50-f6ebc8b08641",
   "metadata": {},
   "outputs": [],
   "source": []
  }
 ],
 "metadata": {
  "kernelspec": {
   "display_name": "Python 3 (ipykernel)",
   "language": "python",
   "name": "python3"
  },
  "language_info": {
   "codemirror_mode": {
    "name": "ipython",
    "version": 3
   },
   "file_extension": ".py",
   "mimetype": "text/x-python",
   "name": "python",
   "nbconvert_exporter": "python",
   "pygments_lexer": "ipython3",
   "version": "3.12.6"
  }
 },
 "nbformat": 4,
 "nbformat_minor": 5
}
