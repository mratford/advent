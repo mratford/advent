{
 "cells": [
  {
   "cell_type": "markdown",
   "id": "4167084a",
   "metadata": {},
   "source": [
    "# Day 11\n",
    "## Part 1\n",
    "\n",
    "Not sure where this is going so just calculate everything for now."
   ]
  },
  {
   "cell_type": "code",
   "execution_count": 23,
   "id": "c75b752b",
   "metadata": {},
   "outputs": [],
   "source": [
    "def parse_data(s):\n",
    "    return [int(x) for x in s.strip().split()]\n",
    "\n",
    "def blink_stone(stone):\n",
    "    if stone == 0:\n",
    "        yield 1\n",
    "    elif (n := len(s := str(stone))) % 2 == 0:\n",
    "        yield int(s[:n // 2])\n",
    "        yield int(s[n // 2:])\n",
    "    else:\n",
    "        yield stone * 2024\n",
    "\n",
    "def blink(stones):\n",
    "    for stone in stones:\n",
    "        yield from blink_stone(stone)\n",
    "\n",
    "def part_1(data):\n",
    "    stones = data.copy()\n",
    "    for _ in range(25):\n",
    "        stones = blink(stones)\n",
    "    return sum(1 for _ in stones)\n",
    "\n",
    "test_data = parse_data(\"125 17\")\n",
    "\n",
    "assert part_1(test_data) == 55312"
   ]
  },
  {
   "cell_type": "code",
   "execution_count": 9,
   "id": "93302b14-fbd3-4a58-b234-c5fc9998ee97",
   "metadata": {},
   "outputs": [
    {
     "data": {
      "text/plain": [
       "198075"
      ]
     },
     "execution_count": 9,
     "metadata": {},
     "output_type": "execute_result"
    }
   ],
   "source": [
    "data = parse_data(open(\"input\").read())\n",
    "part_1(data)"
   ]
  },
  {
   "cell_type": "markdown",
   "id": "2a5c7fb5-3f78-49a6-8690-2d481b55fcf4",
   "metadata": {},
   "source": [
    "## Part 2\n",
    "\n",
    "Need a function that gives the number of stones from a number after n blinks. There must be a cycle, I'm struggling to think of a way this can be done analytically.\n",
    "\n",
    "Try just keeping a count of how many times each number is on a stone."
   ]
  },
  {
   "cell_type": "code",
   "execution_count": 29,
   "id": "76312504-c205-4682-ad65-78c9b719bd41",
   "metadata": {},
   "outputs": [],
   "source": [
    "from collections import defaultdict\n",
    "\n",
    "def blinks(data, n):\n",
    "    counts = defaultdict(int)\n",
    "    for x in data:\n",
    "        counts[x] += 1\n",
    "    for _ in range(n):\n",
    "        new_counts = defaultdict(int)\n",
    "        for stone in counts:\n",
    "            for new_stone in blink_stone(stone):\n",
    "                new_counts[new_stone] += counts[stone]\n",
    "        counts = new_counts\n",
    "    return sum(counts.values())\n",
    "\n",
    "def part_1(data):\n",
    "    return blinks(data, 25)\n",
    "\n",
    "assert part_1(test_data) == 55312"
   ]
  },
  {
   "cell_type": "code",
   "execution_count": 27,
   "id": "3697e92d-6000-4515-ac9b-a5a7080801dc",
   "metadata": {},
   "outputs": [
    {
     "data": {
      "text/plain": [
       "235571309320764"
      ]
     },
     "execution_count": 27,
     "metadata": {},
     "output_type": "execute_result"
    }
   ],
   "source": [
    "def part_2(data):\n",
    "    return blinks(data, 75)\n",
    "\n",
    "part_2(data)"
   ]
  },
  {
   "cell_type": "code",
   "execution_count": 30,
   "id": "6e9b5edd-a46e-4c92-ad51-7d125fd68748",
   "metadata": {},
   "outputs": [
    {
     "name": "stdout",
     "output_type": "stream",
     "text": [
      "91.2 ms ± 808 μs per loop (mean ± std. dev. of 7 runs, 10 loops each)\n"
     ]
    }
   ],
   "source": [
    "%%timeit\n",
    "\n",
    "part_2(data)"
   ]
  },
  {
   "cell_type": "markdown",
   "id": "fd9ac092-a1ca-4527-bd71-b34187235abc",
   "metadata": {},
   "source": [
    "Try caching the blink function."
   ]
  },
  {
   "cell_type": "code",
   "execution_count": 33,
   "id": "3245c401-6a4d-4d16-b65e-cf620f59dbc9",
   "metadata": {},
   "outputs": [],
   "source": [
    "from functools import cache\n",
    "\n",
    "@cache\n",
    "def blink_stone(stone):\n",
    "    if stone == 0:\n",
    "        return (1,)\n",
    "    elif (n := len(s := str(stone))) % 2 == 0:\n",
    "        return (int(s[:n // 2]), int(s[n // 2:]))\n",
    "    else:\n",
    "        return (stone * 2024,)"
   ]
  },
  {
   "cell_type": "code",
   "execution_count": 35,
   "id": "9bab0129-15f8-4b84-bf04-2cb61fb393be",
   "metadata": {},
   "outputs": [
    {
     "name": "stdout",
     "output_type": "stream",
     "text": [
      "52.8 ms ± 631 μs per loop (mean ± std. dev. of 7 runs, 10 loops each)\n"
     ]
    }
   ],
   "source": [
    "%%timeit\n",
    "\n",
    "part_2(data)"
   ]
  },
  {
   "cell_type": "code",
   "execution_count": null,
   "id": "b2722986-40a0-4416-bebc-d213807c773a",
   "metadata": {},
   "outputs": [],
   "source": []
  }
 ],
 "metadata": {
  "kernelspec": {
   "display_name": "Python 3 (ipykernel)",
   "language": "python",
   "name": "python3"
  },
  "language_info": {
   "codemirror_mode": {
    "name": "ipython",
    "version": 3
   },
   "file_extension": ".py",
   "mimetype": "text/x-python",
   "name": "python",
   "nbconvert_exporter": "python",
   "pygments_lexer": "ipython3",
   "version": "3.13.0"
  }
 },
 "nbformat": 4,
 "nbformat_minor": 5
}
