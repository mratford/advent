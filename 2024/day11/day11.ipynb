{
 "cells": [
  {
   "cell_type": "markdown",
   "id": "4167084a",
   "metadata": {},
   "source": [
    "# Day 11\n",
    "## Part 1\n"
   ]
  },
  {
   "cell_type": "code",
   "execution_count": null,
   "id": "c75b752b",
   "metadata": {},
   "outputs": [],
   "source": []
  }
 ],
 "metadata": {},
 "nbformat": 4,
 "nbformat_minor": 5
}
