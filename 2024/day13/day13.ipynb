{
 "cells": [
  {
   "cell_type": "markdown",
   "id": "520304b4",
   "metadata": {},
   "source": [
    "# Day 13\n",
    "## Part 1\n",
    "\n",
    "$x = n_aa_x + n_bb_x$\n",
    "\n",
    "$n_b = (x - n_aa_x)/b_x$"
   ]
  },
  {
   "cell_type": "code",
   "execution_count": 6,
   "id": "b1a2e009",
   "metadata": {},
   "outputs": [
    {
     "data": {
      "text/plain": [
       "[(94, 34, 22, 67, 8400, 5400),\n",
       " (26, 66, 67, 21, 12748, 12176),\n",
       " (17, 86, 84, 37, 7870, 6450),\n",
       " (69, 23, 27, 71, 18641, 10279)]"
      ]
     },
     "execution_count": 6,
     "metadata": {},
     "output_type": "execute_result"
    }
   ],
   "source": [
    "import parse\n",
    "\n",
    "def parse_machine(s):\n",
    "    p = parse.parse(\"\"\"Button A: X+{:d}, Y+{:d}\n",
    "Button B: X+{:d}, Y+{:d}\n",
    "Prize: X={:d}, Y={:d}\"\"\", s.strip())\n",
    "    return p.fixed\n",
    "\n",
    "def parse_data(s):\n",
    "    return [\n",
    "        parse_machine(x) for x in s.strip().split(\"\\n\\n\")\n",
    "    ]\n",
    "    \n",
    "test_data = parse_data(\"\"\"Button A: X+94, Y+34\n",
    "Button B: X+22, Y+67\n",
    "Prize: X=8400, Y=5400\n",
    "\n",
    "Button A: X+26, Y+66\n",
    "Button B: X+67, Y+21\n",
    "Prize: X=12748, Y=12176\n",
    "\n",
    "Button A: X+17, Y+86\n",
    "Button B: X+84, Y+37\n",
    "Prize: X=7870, Y=6450\n",
    "\n",
    "Button A: X+69, Y+23\n",
    "Button B: X+27, Y+71\n",
    "Prize: X=18641, Y=10279\"\"\")\n",
    "\n",
    "test_data"
   ]
  },
  {
   "cell_type": "code",
   "execution_count": 7,
   "id": "aea50646-adfb-4044-82b1-15a43d0e3160",
   "metadata": {},
   "outputs": [],
   "source": [
    "def possible_tokens(machine):\n",
    "    ax, ay, bx, by, x, y = machine\n",
    "    for na in range(101):\n",
    "        nb, r = divmod(x - na * ax, bx)\n",
    "        if r == 0 and nb >= 0 and y == na * ay + nb * by:\n",
    "            yield na * 3 + nb\n",
    "\n",
    "def min_tokens(machine):\n",
    "    return min(possible_tokens(machine), default=0)\n",
    "\n",
    "def part_1(data):\n",
    "    return sum(min_tokens(machine) for machine in data)\n",
    "\n",
    "assert part_1(test_data) == 480"
   ]
  },
  {
   "cell_type": "code",
   "execution_count": 8,
   "id": "0b4fa4d9-9769-4fe3-9b7c-ba83b9db819f",
   "metadata": {},
   "outputs": [
    {
     "data": {
      "text/plain": [
       "29598"
      ]
     },
     "execution_count": 8,
     "metadata": {},
     "output_type": "execute_result"
    }
   ],
   "source": [
    "data = parse_data(open(\"input\").read())\n",
    "part_1(data)"
   ]
  },
  {
   "cell_type": "markdown",
   "id": "be96f1e1-8ba2-4e81-b259-6f32f49745ac",
   "metadata": {},
   "source": [
    "## Part 2\n",
    "\n",
    "Ok, solve it properly.\n",
    "\n",
    "$x = n_aa_x + n_bb_x$\n",
    "\n",
    "$n_b = (x - n_aa_x)/b_x$\n",
    "\n",
    "$y = n_aa_y + (x - n_aa_x)\\frac{b_y}{b_x}$\n",
    "\n",
    "$y - x\\frac{b_y}{b_x} = n_a(a_y - a_x\\frac{b_y}{b_x})$\n",
    "\n",
    "$n_a = \\frac{y - x\\frac{b_y}{b_x}}{a_y - a_x\\frac{b_y}{b_x}}$\n",
    "\n",
    "Use the `fractions` library to avoid floating point issues."
   ]
  },
  {
   "cell_type": "code",
   "execution_count": 10,
   "id": "f0013f19-bbb7-4d4f-b718-7529532d71c4",
   "metadata": {},
   "outputs": [
    {
     "data": {
      "text/plain": [
       "93217456941970"
      ]
     },
     "execution_count": 10,
     "metadata": {},
     "output_type": "execute_result"
    }
   ],
   "source": [
    "from fractions import Fraction\n",
    "\n",
    "def fix_machine(machine):\n",
    "    ax, ay, bx, by, x, y = machine\n",
    "    return (ax, ay, bx, by, x + 10000000000000, y + 10000000000000)\n",
    "\n",
    "def tokens(machine):\n",
    "    ax, ay, bx, by, x, y = machine\n",
    "    na = Fraction(y - x * Fraction(by, bx), ay - ax * Fraction(by, bx))\n",
    "    nb = Fraction(x - na * ax, bx)\n",
    "    if na >= 0 and nb >= 0 and na.denominator == 1 and nb.denominator == 1:\n",
    "        return (3 * na + nb).numerator\n",
    "    else:\n",
    "        return 0\n",
    "\n",
    "def part_2(data):\n",
    "    return sum(tokens(fix_machine(machine)) for machine in data)\n",
    "\n",
    "part_2(data)"
   ]
  },
  {
   "cell_type": "code",
   "execution_count": null,
   "id": "3d1fba28-6ab3-453e-9ddb-90da9462858d",
   "metadata": {},
   "outputs": [],
   "source": []
  }
 ],
 "metadata": {
  "kernelspec": {
   "display_name": "Python 3 (ipykernel)",
   "language": "python",
   "name": "python3"
  },
  "language_info": {
   "codemirror_mode": {
    "name": "ipython",
    "version": 3
   },
   "file_extension": ".py",
   "mimetype": "text/x-python",
   "name": "python",
   "nbconvert_exporter": "python",
   "pygments_lexer": "ipython3",
   "version": "3.12.7"
  }
 },
 "nbformat": 4,
 "nbformat_minor": 5
}
