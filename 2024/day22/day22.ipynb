{
 "cells": [
  {
   "cell_type": "markdown",
   "id": "7fe0fce3",
   "metadata": {},
   "source": [
    "# Day 22\n",
    "## Part 1\n"
   ]
  },
  {
   "cell_type": "code",
   "execution_count": null,
   "id": "d53624ab",
   "metadata": {},
   "outputs": [],
   "source": []
  }
 ],
 "metadata": {},
 "nbformat": 4,
 "nbformat_minor": 5
}
