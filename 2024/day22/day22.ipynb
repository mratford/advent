{
 "cells": [
  {
   "cell_type": "markdown",
   "id": "7fe0fce3",
   "metadata": {},
   "source": [
    "# Day 22\n",
    "## Part 1\n",
    "Let's get part 1 done and then see where we are with part 2. Hopefully it will just be a question of detecting a loop within a max of ~17m possible numbers."
   ]
  },
  {
   "cell_type": "code",
   "execution_count": 3,
   "id": "d53624ab",
   "metadata": {},
   "outputs": [
    {
     "name": "stdout",
     "output_type": "stream",
     "text": [
      "15887950\n",
      "16495136\n",
      "527345\n",
      "704524\n",
      "1553684\n",
      "12683156\n",
      "11100544\n",
      "12249484\n",
      "7753432\n",
      "5908254\n"
     ]
    }
   ],
   "source": [
    "def mix(result, secret):\n",
    "    return result ^ secret\n",
    "\n",
    "def prune(secret):\n",
    "    return secret % 16777216\n",
    "\n",
    "def next_secret(secret):\n",
    "    secret = prune(mix(secret * 64, secret))\n",
    "    secret = prune(mix(secret // 32, secret))\n",
    "    secret = prune(mix(secret * 2048, secret))\n",
    "    return secret\n",
    "\n",
    "secret = 123\n",
    "for _ in range(10):\n",
    "    print(secret := next_secret(secret))"
   ]
  },
  {
   "cell_type": "code",
   "execution_count": 4,
   "id": "ca02ed1a-349d-4f1c-b813-bbf85d19496f",
   "metadata": {},
   "outputs": [
    {
     "data": {
      "text/plain": [
       "37327623"
      ]
     },
     "execution_count": 4,
     "metadata": {},
     "output_type": "execute_result"
    }
   ],
   "source": [
    "def part_1(data):\n",
    "    result = 0\n",
    "    for secret in data:\n",
    "        for _ in range(2000):\n",
    "            secret = next_secret(secret)\n",
    "        result += secret\n",
    "    return result\n",
    "\n",
    "test_data = [1, 10, 100, 2024]\n",
    "part_1(test_data)"
   ]
  },
  {
   "cell_type": "code",
   "execution_count": 6,
   "id": "32b52810-0de4-4de8-a796-d3e4fd711163",
   "metadata": {},
   "outputs": [
    {
     "data": {
      "text/plain": [
       "20215960478"
      ]
     },
     "execution_count": 6,
     "metadata": {},
     "output_type": "execute_result"
    }
   ],
   "source": [
    "data = [int(x) for x in open(\"input\").read().strip().splitlines()]\n",
    "part_1(data)"
   ]
  },
  {
   "cell_type": "markdown",
   "id": "b765b971-32db-4f4e-8856-c1acafb998c9",
   "metadata": {},
   "source": [
    "## Part 2"
   ]
  },
  {
   "cell_type": "code",
   "execution_count": 17,
   "id": "094b6f42-553a-4ef4-81d0-2c3fb19dce2c",
   "metadata": {},
   "outputs": [
    {
     "name": "stdout",
     "output_type": "stream",
     "text": [
      "1 7\n",
      "2 7\n",
      "3 0\n",
      "2024 9\n"
     ]
    }
   ],
   "source": [
    "import itertools\n",
    "\n",
    "def first_2000_prices(secret):\n",
    "    for _ in range(2000):\n",
    "        yield (secret := next_secret(secret)) % 10\n",
    "\n",
    "def most_bananas(secret):\n",
    "    prices = list(first_2000_prices(secret))\n",
    "    diff = [p2 - p1 for p1, p2 in zip(prices, prices[1:])]\n",
    "    for i in range(len(diff)):\n",
    "        if diff[i:i + 4] == [-2, 1, -1, 3]:\n",
    "            return prices[i + 4]\n",
    "    return 0\n",
    "\n",
    "for secret in [1, 2, 3, 2024]:\n",
    "    print(secret, most_bananas(secret))"
   ]
  },
  {
   "cell_type": "code",
   "execution_count": 19,
   "id": "17d2a8d0-1807-4fff-a4ac-6c20fe224e67",
   "metadata": {},
   "outputs": [
    {
     "data": {
      "text/plain": [
       "23"
      ]
     },
     "execution_count": 19,
     "metadata": {},
     "output_type": "execute_result"
    }
   ],
   "source": [
    "def part_2(data):\n",
    "    return sum(most_bananas(secret) for secret in data)\n",
    "\n",
    "part_2([1, 2, 3, 2024])"
   ]
  },
  {
   "cell_type": "code",
   "execution_count": 20,
   "id": "2609a8d7-f94e-4318-aeb6-007a47f2c45e",
   "metadata": {},
   "outputs": [
    {
     "name": "stdout",
     "output_type": "stream",
     "text": [
      "CPU times: user 4.1 s, sys: 29.3 ms, total: 4.13 s\n",
      "Wall time: 4.15 s\n"
     ]
    },
    {
     "data": {
      "text/plain": [
       "1973"
      ]
     },
     "execution_count": 20,
     "metadata": {},
     "output_type": "execute_result"
    }
   ],
   "source": [
    "%%time\n",
    "\n",
    "part_2(data)"
   ]
  },
  {
   "cell_type": "markdown",
   "id": "d9380542-c873-43da-8ab5-c3e6b26f5fa6",
   "metadata": {},
   "source": [
    "Oh hang on, I misread the question, I need to find the best sequence. I thought that was a bit easy."
   ]
  },
  {
   "cell_type": "code",
   "execution_count": 27,
   "id": "36848747-196a-4872-a054-94327e61dc3f",
   "metadata": {},
   "outputs": [
    {
     "data": {
      "text/plain": [
       "6"
      ]
     },
     "execution_count": 27,
     "metadata": {},
     "output_type": "execute_result"
    }
   ],
   "source": [
    "(19 ** 4) * 4 // (3600 * 24)"
   ]
  },
  {
   "cell_type": "markdown",
   "id": "29df4534-1531-4951-9da6-f10044aeb8d1",
   "metadata": {},
   "source": [
    "It will take six days to brute force. Need to think about this one."
   ]
  },
  {
   "cell_type": "code",
   "execution_count": 28,
   "id": "efb42918-168a-44ba-9bc8-708b91b58c35",
   "metadata": {},
   "outputs": [
    {
     "data": {
      "text/plain": [
       "2406"
      ]
     },
     "execution_count": 28,
     "metadata": {},
     "output_type": "execute_result"
    }
   ],
   "source": [
    "len(data)"
   ]
  },
  {
   "cell_type": "markdown",
   "id": "3b7ba2d3-727f-4d31-96a1-2390ec86350c",
   "metadata": {},
   "source": [
    "That's only about 2m sequences. Count the sequences as you go, summing the bananas."
   ]
  },
  {
   "cell_type": "code",
   "execution_count": 41,
   "id": "0739ce0c-65de-41cc-b66f-3ce3db29f536",
   "metadata": {},
   "outputs": [
    {
     "data": {
      "text/plain": [
       "23"
      ]
     },
     "execution_count": 41,
     "metadata": {},
     "output_type": "execute_result"
    }
   ],
   "source": [
    "from collections import defaultdict\n",
    "\n",
    "def part_2(data):\n",
    "    total_seqs = defaultdict(int)\n",
    "    for secret in data:\n",
    "        seqs = set()\n",
    "        prices = list(first_2000_prices(secret))\n",
    "        diff = [p2 - p1 for p1, p2 in zip(prices, prices[1:])]\n",
    "        for i in range(len(diff) - 5):\n",
    "            seq = tuple(diff[i:i + 4])\n",
    "            if seq not in seqs:\n",
    "                seqs.add(seq)\n",
    "                total_seqs[seq] += prices[i + 4]\n",
    "    return max(total_seqs.values())\n",
    "\n",
    "part_2([1, 2, 3, 2024])"
   ]
  },
  {
   "cell_type": "code",
   "execution_count": 42,
   "id": "d07cf7ba-dc8e-4749-8dec-8b1f007855e0",
   "metadata": {},
   "outputs": [
    {
     "name": "stdout",
     "output_type": "stream",
     "text": [
      "CPU times: user 7.53 s, sys: 44 ms, total: 7.58 s\n",
      "Wall time: 7.65 s\n"
     ]
    },
    {
     "data": {
      "text/plain": [
       "2221"
      ]
     },
     "execution_count": 42,
     "metadata": {},
     "output_type": "execute_result"
    }
   ],
   "source": [
    "%%time\n",
    "\n",
    "part_2(data)"
   ]
  },
  {
   "cell_type": "code",
   "execution_count": null,
   "id": "3d782743-8842-4246-ba66-c75468b05cfa",
   "metadata": {},
   "outputs": [],
   "source": []
  }
 ],
 "metadata": {
  "kernelspec": {
   "display_name": "Python 3 (ipykernel)",
   "language": "python",
   "name": "python3"
  },
  "language_info": {
   "codemirror_mode": {
    "name": "ipython",
    "version": 3
   },
   "file_extension": ".py",
   "mimetype": "text/x-python",
   "name": "python",
   "nbconvert_exporter": "python",
   "pygments_lexer": "ipython3",
   "version": "3.12.7"
  }
 },
 "nbformat": 4,
 "nbformat_minor": 5
}
