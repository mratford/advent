{
 "cells": [
  {
   "cell_type": "markdown",
   "id": "b72604a7",
   "metadata": {},
   "source": [
    "# Day 18\n",
    "## Part 1\n"
   ]
  },
  {
   "cell_type": "code",
   "execution_count": 13,
   "id": "f575e2fa",
   "metadata": {},
   "outputs": [
    {
     "data": {
      "text/plain": [
       "22"
      ]
     },
     "execution_count": 13,
     "metadata": {},
     "output_type": "execute_result"
    }
   ],
   "source": [
    "from dataclasses import dataclass\n",
    "import heapq\n",
    "import math\n",
    "\n",
    "@dataclass(eq=True, frozen=True)\n",
    "class Point:\n",
    "    x: int\n",
    "    y: int\n",
    "\n",
    "    def __add__(self, other):\n",
    "        return self.__class__(self.x + other.x, self.y + other.y)\n",
    "\n",
    "    def __sub__(self, other):\n",
    "        return self.__class__(self.x - other.x, self.y - other.y)\n",
    "\n",
    "    def __neg__(self):\n",
    "        return self.__class__(-self.x, -self.y)\n",
    "\n",
    "    def __lt__(self, other):\n",
    "        if self.x < other.x:\n",
    "            return True\n",
    "        elif self.x > other.x:\n",
    "            return False\n",
    "        else:\n",
    "            return self.y < other.y\n",
    "\n",
    "    def __iter__(self):\n",
    "        yield self.x\n",
    "        yield self.y\n",
    "\n",
    "    def __mod__(self, other):\n",
    "        if isinstance(other, Point):\n",
    "            return self.__class__(self.x % other.x, self.y % other.y)\n",
    "        else:\n",
    "            return self.__class__(self.x % other, self.y % other)\n",
    "        \n",
    "    def __mul__(self, multiple):\n",
    "        return self.__class__(self.x * multiple, self.y * multiple)\n",
    "\n",
    "N = Point(0, 1)\n",
    "S = Point(0, -1)\n",
    "W = Point(-1, 0)\n",
    "E = Point(1, 0)\n",
    "\n",
    "DIRECTIONS = {N, E, S, W}\n",
    "\n",
    "def parse_data(s):\n",
    "    return [Point(*map(int, line.split(\",\"))) for line in s.strip().splitlines()]\n",
    "\n",
    "test_data = parse_data(\"\"\"5,4\n",
    "4,2\n",
    "4,5\n",
    "3,0\n",
    "2,1\n",
    "6,3\n",
    "2,4\n",
    "1,5\n",
    "0,6\n",
    "3,3\n",
    "2,6\n",
    "5,1\n",
    "1,2\n",
    "5,5\n",
    "2,5\n",
    "6,5\n",
    "1,4\n",
    "0,4\n",
    "6,4\n",
    "1,1\n",
    "6,1\n",
    "1,0\n",
    "0,5\n",
    "1,6\n",
    "2,0\"\"\")\n",
    "\n",
    "def part_1(data, kilobytes=1024, size=70):\n",
    "    byte_locations = set(data[:kilobytes])\n",
    "    q = [(0, Point(0, 0))]\n",
    "    heapq.heapify(q)\n",
    "    seen = {Point(0, 0): 0}\n",
    "\n",
    "    while q:\n",
    "        path_length, p = heapq.heappop(q)\n",
    "        for d in DIRECTIONS:\n",
    "            n = p + d\n",
    "            if n == Point(size, size):\n",
    "                return path_length + 1\n",
    "            elif (\n",
    "                n not in byte_locations\n",
    "                and 0 <= n.x <= size \n",
    "                and 0 <= n.y <= size \n",
    "                and path_length + 1 < seen.get(n, math.inf)\n",
    "            ):\n",
    "                seen[n] = path_length + 1\n",
    "                heapq.heappush(q, (path_length + 1, n))\n",
    "\n",
    "part_1(test_data, 12, 6)"
   ]
  },
  {
   "cell_type": "code",
   "execution_count": 14,
   "id": "dba43e99-2351-400f-975a-83d6dc057753",
   "metadata": {},
   "outputs": [
    {
     "data": {
      "text/plain": [
       "320"
      ]
     },
     "execution_count": 14,
     "metadata": {},
     "output_type": "execute_result"
    }
   ],
   "source": [
    "data = parse_data(open(\"input\").read())\n",
    "\n",
    "part_1(data)"
   ]
  },
  {
   "cell_type": "markdown",
   "id": "e08cef16-1d48-4a85-bcbe-c3d32fd3ce77",
   "metadata": {},
   "source": [
    "## Part 2"
   ]
  },
  {
   "cell_type": "code",
   "execution_count": 16,
   "id": "d3aeb63b-9700-44b9-9bdc-eff60e7e4ec8",
   "metadata": {},
   "outputs": [
    {
     "data": {
      "text/plain": [
       "Point(x=6, y=1)"
      ]
     },
     "execution_count": 16,
     "metadata": {},
     "output_type": "execute_result"
    }
   ],
   "source": [
    "def part_2(data, kilobytes=1024, size=70):\n",
    "    for k in range(kilobytes + 1, len(data) + 1):\n",
    "        if part_1(data, kilobytes = k, size=size) is None:\n",
    "            return data[k - 1]\n",
    "\n",
    "part_2(test_data, 12, 6)"
   ]
  },
  {
   "cell_type": "code",
   "execution_count": 17,
   "id": "c868d433-5d0d-463e-a89c-625a83940c8a",
   "metadata": {},
   "outputs": [
    {
     "data": {
      "text/plain": [
       "Point(x=34, y=40)"
      ]
     },
     "execution_count": 17,
     "metadata": {},
     "output_type": "execute_result"
    }
   ],
   "source": [
    "part_2(data)"
   ]
  },
  {
   "cell_type": "markdown",
   "id": "003938de-fd4d-4397-baa2-bec20cd94f90",
   "metadata": {},
   "source": [
    "That's a bit slow, A* with a Manhattan distance heuristic might speed it up."
   ]
  },
  {
   "cell_type": "code",
   "execution_count": null,
   "id": "137cc989-37a7-4b9e-acae-766568fd9ad9",
   "metadata": {},
   "outputs": [],
   "source": []
  }
 ],
 "metadata": {
  "kernelspec": {
   "display_name": "Python 3 (ipykernel)",
   "language": "python",
   "name": "python3"
  },
  "language_info": {
   "codemirror_mode": {
    "name": "ipython",
    "version": 3
   },
   "file_extension": ".py",
   "mimetype": "text/x-python",
   "name": "python",
   "nbconvert_exporter": "python",
   "pygments_lexer": "ipython3",
   "version": "3.12.6"
  }
 },
 "nbformat": 4,
 "nbformat_minor": 5
}
