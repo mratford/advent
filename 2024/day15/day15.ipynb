{
 "cells": [
  {
   "cell_type": "markdown",
   "id": "6bc9d9bb",
   "metadata": {},
   "source": [
    "# Day 15\n",
    "## Part 1\n",
    "~~I'm skipping this one for now, it looks annoying.~~ This still looks annoying but it's the only day I haven't done."
   ]
  },
  {
   "cell_type": "code",
   "execution_count": 1,
   "id": "1b397722",
   "metadata": {},
   "outputs": [
    {
     "data": {
      "text/plain": [
       "2028"
      ]
     },
     "execution_count": 1,
     "metadata": {},
     "output_type": "execute_result"
    }
   ],
   "source": [
    "from pyrsistent import pmap, pset\n",
    "\n",
    "from dataclasses import dataclass\n",
    "import heapq\n",
    "import math\n",
    "\n",
    "@dataclass(eq=True, frozen=True)\n",
    "class Point:\n",
    "    x: int\n",
    "    y: int\n",
    "\n",
    "    def __add__(self, other):\n",
    "        return self.__class__(self.x + other.x, self.y + other.y)\n",
    "\n",
    "    def __sub__(self, other):\n",
    "        return self.__class__(self.x - other.x, self.y - other.y)\n",
    "\n",
    "    def __neg__(self):\n",
    "        return self.__class__(-self.x, -self.y)\n",
    "\n",
    "    def __lt__(self, other):\n",
    "        if self.x < other.x:\n",
    "            return True\n",
    "        elif self.x > other.x:\n",
    "            return False\n",
    "        else:\n",
    "            return self.y < other.y\n",
    "\n",
    "    def __iter__(self):\n",
    "        yield self.x\n",
    "        yield self.y\n",
    "\n",
    "    def __mod__(self, other):\n",
    "        if isinstance(other, Point):\n",
    "            return self.__class__(self.x % other.x, self.y % other.y)\n",
    "        else:\n",
    "            return self.__class__(self.x % other, self.y % other)\n",
    "        \n",
    "    def __mul__(self, multiple):\n",
    "        return self.__class__(self.x * multiple, self.y * multiple)\n",
    "\n",
    "DIRECTIONS = {\n",
    "    \"<\": Point(-1, 0),\n",
    "    \"^\": Point(0, -1),\n",
    "    \">\": Point(1, 0),\n",
    "    \"v\": Point(0, 1)\n",
    "}\n",
    "\n",
    "def parse_data(s):\n",
    "    warehouse_map, instructions = s.strip().split(\"\\n\\n\")\n",
    "\n",
    "    warehouse = {}\n",
    "    boxes = set()\n",
    "\n",
    "    for row, line in enumerate(warehouse_map.splitlines()):\n",
    "        for col, c in enumerate(line):\n",
    "            loc = Point(col, row)\n",
    "            if c == \"#\":\n",
    "                warehouse[loc] = c\n",
    "            else:\n",
    "                warehouse[loc] = \".\"\n",
    "                if c == \"O\":\n",
    "                    boxes.add(loc)\n",
    "                elif c == \"@\":\n",
    "                    robot = loc\n",
    "\n",
    "    return pmap(warehouse), pset(boxes), robot, instructions.replace(\"\\n\", \"\")\n",
    "\n",
    "def part_1(data):\n",
    "    warehouse, boxes, robot, instructions = data\n",
    "\n",
    "    def move(boxes, robot, d):\n",
    "        boxes_to_move = []\n",
    "        p = robot + d\n",
    "        while p in boxes:\n",
    "            boxes_to_move.append(p)\n",
    "            p = p + d\n",
    "        if warehouse[p] == \".\":\n",
    "            robot = robot + d\n",
    "            for box in boxes_to_move:\n",
    "                boxes = boxes.remove(box)\n",
    "            for box in boxes_to_move:\n",
    "                boxes = boxes.add(box + d)\n",
    "\n",
    "        return boxes, robot\n",
    "\n",
    "    for i in instructions:\n",
    "        boxes, robot = move(boxes, robot, DIRECTIONS[i])\n",
    "\n",
    "    return sum(\n",
    "        box.x +  100 * box.y\n",
    "        for box in boxes\n",
    "    )\n",
    "        \n",
    "test_data_1 = parse_data(\"\"\"########\n",
    "#..O.O.#\n",
    "##@.O..#\n",
    "#...O..#\n",
    "#.#.O..#\n",
    "#...O..#\n",
    "#......#\n",
    "########\n",
    "\n",
    "<^^>>>vv<v>>v<<\"\"\")\n",
    "\n",
    "part_1(test_data_1)"
   ]
  },
  {
   "cell_type": "code",
   "execution_count": 3,
   "id": "0a399e60-5f30-4f1f-8e86-e620822afd59",
   "metadata": {},
   "outputs": [
    {
     "data": {
      "text/plain": [
       "1479679"
      ]
     },
     "execution_count": 3,
     "metadata": {},
     "output_type": "execute_result"
    }
   ],
   "source": [
    "data = parse_data(open(\"input\").read())\n",
    "\n",
    "part_1(data)"
   ]
  },
  {
   "cell_type": "markdown",
   "id": "09ae3bde-5257-4884-a264-891e7dfb0269",
   "metadata": {},
   "source": [
    "## Part 2\n",
    "This looks _really_ annoying."
   ]
  },
  {
   "cell_type": "code",
   "execution_count": 8,
   "id": "4e67ba62-00d5-456c-aa2d-a79806cd76ae",
   "metadata": {},
   "outputs": [],
   "source": [
    "import itertools\n",
    "\n",
    "def parse_data_2(s):\n",
    "    warehouse_map, instructions = s.strip().split(\"\\n\\n\")\n",
    "\n",
    "    warehouse = {}\n",
    "    boxes = {}\n",
    "    box_locations = {}\n",
    "    box_ids = itertools.count()\n",
    "\n",
    "    for row, line in enumerate(warehouse_map.splitlines()):\n",
    "        for col, c in enumerate(line):\n",
    "            loc1 = Point(col * 2, row)\n",
    "            loc2 = Point(col * 2 + 1, row)\n",
    "            if c == \"#\":\n",
    "                warehouse[loc1] = c\n",
    "                warehouse[loc2] = c\n",
    "            else:\n",
    "                warehouse[loc1] = \".\"\n",
    "                warehouse[loc2] = \".\"\n",
    "                if c == \"O\":\n",
    "                    box_id = next(box_ids)\n",
    "                    box_locations[loc1] = box_id\n",
    "                    box_locations[loc2] = box_id\n",
    "                    boxes[box_id] = [loc1, loc2]\n",
    "                elif c == \"@\":\n",
    "                    robot = loc1\n",
    "\n",
    "    return pmap(warehouse), pmap(boxes), pmap(box_locations), robot, instructions.replace(\"\\n\", \"\")\n",
    "\n",
    "def part_2(data):\n",
    "    warehouse, boxes, box_locations, robot, instructions = data\n",
    "\n",
    "    def move(boxes, box_locations, robot, d):\n",
    "        boxes_to_move = []\n",
    "        move_into = {robot + d}\n",
    "        q = {robot + d}\n",
    "        while q:\n",
    "            p = q.pop()\n",
    "            if p in boxes and boxes[p] not in boxes_to_move:\n",
    "                b = box_locations[boxes[p]]\n",
    "                q.add(b[0])\n",
    "                q.add(b[1])\n",
    "                move_into.add(b[0])\n",
    "                move_into.add(b[1])\n",
    "                boxes_to_move.append(boxes[p])\n",
    "        if not any(warehouse[p] == \"#\" for p in move_into):\n",
    "            robot = robot + d\n",
    "            new_locations = {}\n",
    "            for box in boxes_to_move:\n",
    "                p1, p2 = boxes[box]\n",
    "                new_locations[box] = [p1 + d, p2 + d]\n",
    "                boxes = boxes.remove(box)\n",
    "                box_locations = box_locations.remove(p1).remove(p2)\n",
    "            for box in boxes_to_move:\n",
    "                boxes = boxes.set(box + d, new_locations[box])\n",
    "                for p in new_locations[box]:\n",
    "                    box_locations = box_locations.set(p, box)\n",
    "\n",
    "        return boxes, box_locations, robot\n",
    "\n",
    "    for i in instructions:\n",
    "        boxes, box_locations, robot = move(boxes, box_locations, robot, DIRECTIONS[i])\n",
    "\n",
    "    return sum(\n",
    "        boxes[box][0].x + 100 * boxes[box][0].y\n",
    "        for box in boxes\n",
    "    )"
   ]
  },
  {
   "cell_type": "code",
   "execution_count": 11,
   "id": "33e7fb7e-4707-4fe4-9e1e-11524d9a8e59",
   "metadata": {},
   "outputs": [],
   "source": [
    "test_data_2 = parse_data_2(\"\"\"#######\n",
    "#...#.#\n",
    "#.....#\n",
    "#..OO@#\n",
    "#..O..#\n",
    "#.....#\n",
    "#######\n",
    "\n",
    "<vv<<^^<<^^\"\"\")"
   ]
  },
  {
   "cell_type": "code",
   "execution_count": 12,
   "id": "10be7f11-504d-4836-9cda-bf937b38ac8b",
   "metadata": {},
   "outputs": [
    {
     "data": {
      "text/plain": [
       "1020"
      ]
     },
     "execution_count": 12,
     "metadata": {},
     "output_type": "execute_result"
    }
   ],
   "source": [
    "part_2(test_data_2)"
   ]
  },
  {
   "cell_type": "code",
   "execution_count": 13,
   "id": "68347c4f-2609-47da-89a9-6e6683285f9c",
   "metadata": {},
   "outputs": [],
   "source": [
    "test_data_3 = parse_data_2(\"\"\"##########\n",
    "#..O..O.O#\n",
    "#......O.#\n",
    "#.OO..O.O#\n",
    "#..O@..O.#\n",
    "#O#..O...#\n",
    "#O..O..O.#\n",
    "#.OO.O.OO#\n",
    "#....O...#\n",
    "##########\n",
    "\n",
    "<vv>^<v^>v>^vv^v>v<>v^v<v<^vv<<<^><<><>>v<vvv<>^v^>^<<<><<v<<<v^vv^v>^\n",
    "vvv<<^>^v^^><<>>><>^<<><^vv^^<>vvv<>><^^v>^>vv<>v<<<<v<^v>^<^^>>>^<v<v\n",
    "><>vv>v^v^<>><>>>><^^>vv>v<^^^>>v^v^<^^>v^^>v^<^v>v<>>v^v^<v>v^^<^^vv<\n",
    "<<v<^>>^^^^>>>v^<>vvv^><v<<<>^^^vv^<vvv>^>v<^^^^v<>^>vvvv><>>v^<<^^^^^\n",
    "^><^><>>><>^^<<^^v>>><^<v>^<vv>>v>>>^v><>^v><<<<v>>v<v<v>vvv>^<><<>^><\n",
    "^>><>^v<><^vvv<^^<><v<<<<<><^v<<<><<<^^<v<^^^><^>>^<v^><<<^>>^v<v^v<v^\n",
    ">^>>^v>vv>^<<^v<>><<><<v<<v><>v<^vv<<<>^^v^>^^>>><<^v>>v^v><^^>>^<>vv^\n",
    "<><^^>^^^<><vvvvv^v<v<<>^v<v>v<<^><<><<><<<^^<<<^<<>><<><^^^>^^<>^>v<>\n",
    "^^>vv<^v^v<vv>^<><v<^v>^^^>>>^^vvv^>vvv<>>>^<^>>>>>^<<^v>^vvv<>^<><<v>\n",
    "v^^>>><<^^<>>^v^<v^vv<>v^<<>^<^v^v><^<<<><<^<v><v<>vv>>v><v^<vv<>v^<<^\"\"\")"
   ]
  },
  {
   "cell_type": "code",
   "execution_count": 14,
   "id": "e68ec065-ba62-4a55-91be-38f11f80c280",
   "metadata": {},
   "outputs": [
    {
     "data": {
      "text/plain": [
       "9802"
      ]
     },
     "execution_count": 14,
     "metadata": {},
     "output_type": "execute_result"
    }
   ],
   "source": [
    "part_2(test_data_3)"
   ]
  },
  {
   "cell_type": "markdown",
   "id": "a5cd9b2d-1bc2-4f18-9c68-7bfd68c52349",
   "metadata": {},
   "source": [
    "Nope.\n",
    "\n",
    "Let's debug the small example."
   ]
  },
  {
   "cell_type": "code",
   "execution_count": 36,
   "id": "c1638053-2593-461f-aeb3-d5a50145d29e",
   "metadata": {},
   "outputs": [
    {
     "name": "stdout",
     "output_type": "stream",
     "text": [
      "Move <\n",
      "##############\n",
      "##......##..##\n",
      "##..........##\n",
      "##...[][]@..##\n",
      "##....[]....##\n",
      "##..........##\n",
      "##############\n",
      "\n",
      "Move v\n",
      "##############\n",
      "##......##..##\n",
      "##..........##\n",
      "##...[][]...##\n",
      "##....[].@..##\n",
      "##..........##\n",
      "##############\n",
      "\n",
      "Move v\n",
      "##############\n",
      "##......##..##\n",
      "##..........##\n",
      "##...[][]...##\n",
      "##....[]....##\n",
      "##.......@..##\n",
      "##############\n",
      "\n",
      "Move <\n",
      "##############\n",
      "##......##..##\n",
      "##..........##\n",
      "##...[][]...##\n",
      "##....[]....##\n",
      "##......@...##\n",
      "##############\n",
      "\n",
      "Move <\n",
      "##############\n",
      "##......##..##\n",
      "##..........##\n",
      "##...[][]...##\n",
      "##....[]....##\n",
      "##.....@....##\n",
      "##############\n",
      "\n",
      "Move ^\n",
      "##############\n",
      "##......##..##\n",
      "##...[][]...##\n",
      "##....[]....##\n",
      "##.....@....##\n",
      "##..........##\n",
      "##############\n",
      "\n",
      "Move ^\n",
      "##############\n",
      "##......##..##\n",
      "##...[][]...##\n",
      "##....[]....##\n",
      "##.....@....##\n",
      "##..........##\n",
      "##############\n",
      "\n",
      "Move <\n",
      "##############\n",
      "##......##..##\n",
      "##...[][]...##\n",
      "##....[]....##\n",
      "##....@.....##\n",
      "##..........##\n",
      "##############\n",
      "\n",
      "Move <\n",
      "##############\n",
      "##......##..##\n",
      "##...[][]...##\n",
      "##....[]....##\n",
      "##...@......##\n",
      "##..........##\n",
      "##############\n",
      "\n",
      "Move ^\n",
      "##############\n",
      "##......##..##\n",
      "##...[][]...##\n",
      "##...@[]....##\n",
      "##..........##\n",
      "##..........##\n",
      "##############\n",
      "\n",
      "Move ^\n",
      "##############\n",
      "##...[].##..##\n",
      "##...@.[]...##\n",
      "##....[]....##\n",
      "##..........##\n",
      "##..........##\n",
      "##############\n",
      "\n"
     ]
    },
    {
     "data": {
      "text/plain": [
       "618"
      ]
     },
     "execution_count": 36,
     "metadata": {},
     "output_type": "execute_result"
    }
   ],
   "source": [
    "def part_2(data, debug = False):\n",
    "    warehouse, boxes, box_locations, robot, instructions = data\n",
    "\n",
    "    def move(boxes, box_locations, robot, d):\n",
    "        boxes_to_move = []\n",
    "        move_into = {robot + d}\n",
    "        q = {robot + d}\n",
    "        while q:\n",
    "            p = q.pop()\n",
    "            if p in box_locations and box_locations[p] not in boxes_to_move:\n",
    "                b = boxes[box_locations[p]]\n",
    "                q.add(b[0] + d)\n",
    "                q.add(b[1] + d)\n",
    "                move_into.add(b[0] + d)\n",
    "                move_into.add(b[1] + d)\n",
    "                boxes_to_move.append(box_locations[p])\n",
    "\n",
    "        if not any(warehouse[p] == \"#\" for p in move_into):\n",
    "            robot = robot + d\n",
    "            new_locations = {}\n",
    "            for box in boxes_to_move:\n",
    "                p1, p2 = boxes[box]\n",
    "                new_locations[box] = [p1 + d, p2 + d]\n",
    "                boxes = boxes.remove(box)\n",
    "                box_locations = box_locations.remove(p1).remove(p2)\n",
    "            for box in boxes_to_move:\n",
    "                boxes = boxes.set(box, new_locations[box])\n",
    "                for p in new_locations[box]:\n",
    "                    box_locations = box_locations.set(p, box)\n",
    "\n",
    "        return boxes, box_locations, robot\n",
    "\n",
    "    for i in instructions:\n",
    "        boxes, box_locations, robot = move(boxes, box_locations, robot, DIRECTIONS[i])\n",
    "        if debug:\n",
    "            print(\"Move\", i)\n",
    "            for row in range(max(p.y for p in warehouse) + 1):\n",
    "                line = \"\"\n",
    "                for col in range(max(p.x for p in warehouse) + 1):\n",
    "                    p = Point(col, row)\n",
    "                    if p == robot:\n",
    "                        line += \"@\"\n",
    "                    elif p in box_locations:\n",
    "                        if boxes[box_locations[p]][0] == p:\n",
    "                            line += \"[\"\n",
    "                        else:\n",
    "                            line += \"]\"\n",
    "                    else:\n",
    "                        line += warehouse[p]\n",
    "                print(line)\n",
    "            print()\n",
    "\n",
    "    return sum(\n",
    "        boxes[box][0].x + 100 * boxes[box][0].y\n",
    "        for box in boxes\n",
    "    )\n",
    "\n",
    "part_2(test_data_2, True)"
   ]
  },
  {
   "cell_type": "markdown",
   "id": "e5be45b5-92de-41a9-8b84-51f5a6e66d4f",
   "metadata": {},
   "source": [
    "Lots of squashed bugs there, but now looks good."
   ]
  },
  {
   "cell_type": "code",
   "execution_count": 37,
   "id": "2c1cbaa6-2e6a-4326-8dff-fb1da333d469",
   "metadata": {},
   "outputs": [
    {
     "data": {
      "text/plain": [
       "9021"
      ]
     },
     "execution_count": 37,
     "metadata": {},
     "output_type": "execute_result"
    }
   ],
   "source": [
    "part_2(test_data_3)"
   ]
  },
  {
   "cell_type": "code",
   "execution_count": 38,
   "id": "0809f92e-b75e-4af5-81bd-dce5df9eb535",
   "metadata": {},
   "outputs": [
    {
     "data": {
      "text/plain": [
       "1509780"
      ]
     },
     "execution_count": 38,
     "metadata": {},
     "output_type": "execute_result"
    }
   ],
   "source": [
    "data_2 = parse_data_2(open(\"input\").read())\n",
    "\n",
    "part_2(data_2)"
   ]
  },
  {
   "cell_type": "markdown",
   "id": "934eccea-bd5a-4198-8501-7393f1cf25da",
   "metadata": {},
   "source": [
    "Finished!"
   ]
  },
  {
   "cell_type": "code",
   "execution_count": null,
   "id": "0397e511-8c10-4a6f-9c54-d91ad963ca6e",
   "metadata": {},
   "outputs": [],
   "source": []
  }
 ],
 "metadata": {
  "kernelspec": {
   "display_name": "Python 3 (ipykernel)",
   "language": "python",
   "name": "python3"
  },
  "language_info": {
   "codemirror_mode": {
    "name": "ipython",
    "version": 3
   },
   "file_extension": ".py",
   "mimetype": "text/x-python",
   "name": "python",
   "nbconvert_exporter": "python",
   "pygments_lexer": "ipython3",
   "version": "3.12.7"
  }
 },
 "nbformat": 4,
 "nbformat_minor": 5
}
