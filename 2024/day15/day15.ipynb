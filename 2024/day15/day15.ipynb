{
 "cells": [
  {
   "cell_type": "markdown",
   "id": "6bc9d9bb",
   "metadata": {},
   "source": [
    "# Day 15\n",
    "## Part 1\n"
   ]
  },
  {
   "cell_type": "code",
   "execution_count": null,
   "id": "1b397722",
   "metadata": {},
   "outputs": [],
   "source": []
  }
 ],
 "metadata": {},
 "nbformat": 4,
 "nbformat_minor": 5
}
