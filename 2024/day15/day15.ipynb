{
 "cells": [
  {
   "cell_type": "markdown",
   "id": "6bc9d9bb",
   "metadata": {},
   "source": [
    "# Day 15\n",
    "## Part 1\n",
    "~~I'm skipping this one for now, it looks annoying.~~ This still looks annoying but it's the only day I haven't done."
   ]
  },
  {
   "cell_type": "code",
   "execution_count": 20,
   "id": "1b397722",
   "metadata": {},
   "outputs": [
    {
     "data": {
      "text/plain": [
       "2028"
      ]
     },
     "execution_count": 20,
     "metadata": {},
     "output_type": "execute_result"
    }
   ],
   "source": [
    "from pyrsistent import pmap, pset\n",
    "\n",
    "from dataclasses import dataclass\n",
    "import heapq\n",
    "import math\n",
    "\n",
    "@dataclass(eq=True, frozen=True)\n",
    "class Point:\n",
    "    x: int\n",
    "    y: int\n",
    "\n",
    "    def __add__(self, other):\n",
    "        return self.__class__(self.x + other.x, self.y + other.y)\n",
    "\n",
    "    def __sub__(self, other):\n",
    "        return self.__class__(self.x - other.x, self.y - other.y)\n",
    "\n",
    "    def __neg__(self):\n",
    "        return self.__class__(-self.x, -self.y)\n",
    "\n",
    "    def __lt__(self, other):\n",
    "        if self.x < other.x:\n",
    "            return True\n",
    "        elif self.x > other.x:\n",
    "            return False\n",
    "        else:\n",
    "            return self.y < other.y\n",
    "\n",
    "    def __iter__(self):\n",
    "        yield self.x\n",
    "        yield self.y\n",
    "\n",
    "    def __mod__(self, other):\n",
    "        if isinstance(other, Point):\n",
    "            return self.__class__(self.x % other.x, self.y % other.y)\n",
    "        else:\n",
    "            return self.__class__(self.x % other, self.y % other)\n",
    "        \n",
    "    def __mul__(self, multiple):\n",
    "        return self.__class__(self.x * multiple, self.y * multiple)\n",
    "\n",
    "DIRECTIONS = {\n",
    "    \"<\": Point(-1, 0),\n",
    "    \"^\": Point(0, -1),\n",
    "    \">\": Point(1, 0),\n",
    "    \"v\": Point(0, 1)\n",
    "}\n",
    "\n",
    "def parse_data(s):\n",
    "    warehouse_map, instructions = s.strip().split(\"\\n\\n\")\n",
    "\n",
    "    warehouse = {}\n",
    "    boxes = set()\n",
    "\n",
    "    for row, line in enumerate(warehouse_map.splitlines()):\n",
    "        for col, c in enumerate(line):\n",
    "            loc = Point(col, row)\n",
    "            if c == \"#\":\n",
    "                warehouse[loc] = c\n",
    "            else:\n",
    "                warehouse[loc] = \".\"\n",
    "                if c == \"O\":\n",
    "                    boxes.add(loc)\n",
    "                elif c == \"@\":\n",
    "                    robot = loc\n",
    "\n",
    "    return pmap(warehouse), pset(boxes), robot, instructions.replace(\"\\n\", \"\")\n",
    "\n",
    "def part_1(data):\n",
    "    warehouse, boxes, robot, instructions = data\n",
    "\n",
    "    def move(boxes, robot, d):\n",
    "        boxes_to_move = []\n",
    "        p = robot + d\n",
    "        while p in boxes:\n",
    "            boxes_to_move.append(p)\n",
    "            p = p + d\n",
    "        if warehouse[p] == \".\":\n",
    "            robot = robot + d\n",
    "            for box in boxes_to_move:\n",
    "                boxes = boxes.remove(box)\n",
    "            for box in boxes_to_move:\n",
    "                boxes = boxes.add(box + d)\n",
    "\n",
    "        return boxes, robot\n",
    "\n",
    "    for i in instructions:\n",
    "        boxes, robot = move(boxes, robot, DIRECTIONS[i])\n",
    "\n",
    "    return sum(\n",
    "        box.x +  100 * box.y\n",
    "        for box in boxes\n",
    "    )\n",
    "        \n",
    "test_data_1 = parse_data(\"\"\"########\n",
    "#..O.O.#\n",
    "##@.O..#\n",
    "#...O..#\n",
    "#.#.O..#\n",
    "#...O..#\n",
    "#......#\n",
    "########\n",
    "\n",
    "<^^>>>vv<v>>v<<\"\"\")\n",
    "\n",
    "part_1(test_data_1)"
   ]
  },
  {
   "cell_type": "code",
   "execution_count": 21,
   "id": "0a399e60-5f30-4f1f-8e86-e620822afd59",
   "metadata": {},
   "outputs": [
    {
     "data": {
      "text/plain": [
       "1479679"
      ]
     },
     "execution_count": 21,
     "metadata": {},
     "output_type": "execute_result"
    }
   ],
   "source": [
    "data = parse_data(open(\"input\").read())\n",
    "\n",
    "part_1(data)"
   ]
  },
  {
   "cell_type": "markdown",
   "id": "09ae3bde-5257-4884-a264-891e7dfb0269",
   "metadata": {},
   "source": [
    "## Part 2\n",
    "This looks _really_ annoying."
   ]
  },
  {
   "cell_type": "code",
   "execution_count": null,
   "id": "4e67ba62-00d5-456c-aa2d-a79806cd76ae",
   "metadata": {},
   "outputs": [],
   "source": []
  }
 ],
 "metadata": {
  "kernelspec": {
   "display_name": "Python 3 (ipykernel)",
   "language": "python",
   "name": "python3"
  },
  "language_info": {
   "codemirror_mode": {
    "name": "ipython",
    "version": 3
   },
   "file_extension": ".py",
   "mimetype": "text/x-python",
   "name": "python",
   "nbconvert_exporter": "python",
   "pygments_lexer": "ipython3",
   "version": "3.12.6"
  }
 },
 "nbformat": 4,
 "nbformat_minor": 5
}
