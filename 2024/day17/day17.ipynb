{
 "cells": [
  {
   "cell_type": "markdown",
   "id": "39f5825e",
   "metadata": {},
   "source": [
    "# Day 17\n",
    "## Part 1\n"
   ]
  },
  {
   "cell_type": "code",
   "execution_count": 2,
   "id": "f14a4ad2",
   "metadata": {},
   "outputs": [
    {
     "data": {
      "text/plain": [
       "(729, 0, 0, [0, 1, 5, 4, 3, 0])"
      ]
     },
     "execution_count": 2,
     "metadata": {},
     "output_type": "execute_result"
    }
   ],
   "source": [
    "import parse\n",
    "\n",
    "def parse_data(s):\n",
    "    r = parse.parse(\"\"\"Register A: {a:d}\n",
    "Register B: {b:d}\n",
    "Register C: {c:d}\n",
    "\n",
    "Program: {program}\"\"\", s)\n",
    "    return r[\"a\"], r[\"b\"], r[\"c\"], [int(x) for x in r[\"program\"].split(\",\")]\n",
    "\n",
    "test_data = parse_data(\"\"\"Register A: 729\n",
    "Register B: 0\n",
    "Register C: 0\n",
    "\n",
    "Program: 0,1,5,4,3,0\"\"\")\n",
    "test_data"
   ]
  },
  {
   "cell_type": "code",
   "execution_count": 3,
   "id": "ec4683e8-add5-4c13-aeea-f7aaa4d8450c",
   "metadata": {},
   "outputs": [
    {
     "data": {
      "text/plain": [
       "'4,6,3,5,6,3,5,2,1,0'"
      ]
     },
     "execution_count": 3,
     "metadata": {},
     "output_type": "execute_result"
    }
   ],
   "source": [
    "def combo(x, a, b, c):\n",
    "    match x:\n",
    "        case 0 | 1 | 2 | 3:\n",
    "            return x\n",
    "        case 4:\n",
    "            return a\n",
    "        case 5:\n",
    "            return b\n",
    "        case 6:\n",
    "            return c\n",
    "\n",
    "def run(a, b, c, program):\n",
    "    i = 0\n",
    "    while i < len(program):\n",
    "        lit = program[i+1]\n",
    "        com = combo(lit, a, b, c)\n",
    "        match program[i]:\n",
    "            case 0:\n",
    "                a = a // (2 ** com)\n",
    "            case 1:\n",
    "                b = b ^ lit\n",
    "            case 2:\n",
    "                b = com % 8\n",
    "            case 3:\n",
    "                if a != 0:\n",
    "                    i = lit - 2\n",
    "            case 4:\n",
    "                b = b ^ c\n",
    "            case 5:\n",
    "                yield com % 8\n",
    "            case 6:\n",
    "                b = a // (2 ** com)\n",
    "            case 7:\n",
    "                c = a // (2 ** com)\n",
    "        i += 2\n",
    "\n",
    "def part_1(data):\n",
    "    return \",\".join(str(x) for x in run(*data))\n",
    "\n",
    "part_1(test_data)"
   ]
  },
  {
   "cell_type": "code",
   "execution_count": 4,
   "id": "e7dbd021-35ff-4b35-a41b-eaa9f589fdd2",
   "metadata": {},
   "outputs": [
    {
     "data": {
      "text/plain": [
       "'1,7,6,5,1,0,5,0,7'"
      ]
     },
     "execution_count": 4,
     "metadata": {},
     "output_type": "execute_result"
    }
   ],
   "source": [
    "data = parse_data(open(\"input\").read())\n",
    "part_1(data)"
   ]
  },
  {
   "cell_type": "markdown",
   "id": "b1c68872-131f-40ce-9634-c18c2f19ae14",
   "metadata": {},
   "source": [
    "## Part 2\n",
    "\n",
    "I'm going to have to think about this one.\n",
    "\n",
    "The code for my input can be translated to the following Python function."
   ]
  },
  {
   "cell_type": "code",
   "execution_count": 34,
   "id": "bb12d7d2-37ce-416e-817f-74b32a776e84",
   "metadata": {},
   "outputs": [
    {
     "data": {
      "text/plain": [
       "[1, 7, 6, 5, 1, 0, 5, 0, 7]"
      ]
     },
     "execution_count": 34,
     "metadata": {},
     "output_type": "execute_result"
    }
   ],
   "source": [
    "a, b, c, _ = data\n",
    "\n",
    "def run_2(a, b, c):\n",
    "    result = []\n",
    "    while a > 0:\n",
    "        # Takes the lowest 3 bits of a and \n",
    "        # converts\n",
    "        b = (a % 8) ^ 3\n",
    "        # Take all but the lowest b bits of a\n",
    "        c = a // (2**b)\n",
    "        # Another less predictable conversion\n",
    "        b = b ^ c\n",
    "        # Strip the last 3 bits from a\n",
    "        a = a // 8\n",
    "        b = b ^ 5\n",
    "        result.append(b % 8)\n",
    "    return result\n",
    "    \n",
    "run_2(a, b, c)"
   ]
  },
  {
   "cell_type": "markdown",
   "id": "6eec29e2-89dd-4e7f-9918-a520d934b291",
   "metadata": {},
   "source": [
    "I think this can be built backwards. For each value work out what the next one is based on previous values."
   ]
  },
  {
   "cell_type": "code",
   "execution_count": 50,
   "id": "089a86e0-8110-4883-b942-a97e5d2ec3f2",
   "metadata": {},
   "outputs": [
    {
     "name": "stdout",
     "output_type": "stream",
     "text": [
      "[2, 4, 1, 3, 7, 5, 4, 2, 0, 3, 1, 5, 5, 5, 3, 0]\n",
      "[0]\n",
      "6\n",
      "[3, 0]\n",
      "1\n",
      "[5, 3, 0]\n",
      "1\n",
      "[5, 5, 3, 0]\n",
      "1\n",
      "[5, 5, 5, 3, 0]\n",
      "1\n",
      "[1, 5, 5, 5, 3, 0]\n",
      "2\n",
      "[3, 1, 5, 5, 5, 3, 0]\n",
      "1\n",
      "[0, 3, 1, 5, 5, 5, 3, 0]\n",
      "[2, 0, 3, 1, 5, 5, 5, 3, 0]\n",
      "[4, 2, 0, 3, 1, 5, 5, 5, 3, 0]\n",
      "[5, 4, 2, 0, 3, 1, 5, 5, 5, 3, 0]\n",
      "[7, 5, 4, 2, 0, 3, 1, 5, 5, 5, 3, 0]\n",
      "[3, 7, 5, 4, 2, 0, 3, 1, 5, 5, 5, 3, 0]\n",
      "[1, 3, 7, 5, 4, 2, 0, 3, 1, 5, 5, 5, 3, 0]\n",
      "[4, 1, 3, 7, 5, 4, 2, 0, 3, 1, 5, 5, 5, 3, 0]\n"
     ]
    },
    {
     "data": {
      "text/plain": [
       "[6, 6, 6, 6, 6, 6, 6, 7, 3, 1, 5, 5, 5, 3, 0]"
      ]
     },
     "execution_count": 50,
     "metadata": {},
     "output_type": "execute_result"
    }
   ],
   "source": [
    "result = 0\n",
    "for i, x in enumerate(reversed(program)):\n",
    "    result = result * 8\n",
    "    required_so_far = program[-i:]\n",
    "    print(required_so_far)\n",
    "    for a in range(8):\n",
    "        if run_2(result + a, 0, 0) == required_so_far:\n",
    "            print(a)\n",
    "            result += a\n",
    "            break\n",
    "run_2(result, 0, 0)"
   ]
  },
  {
   "cell_type": "markdown",
   "id": "e6a7ccbb-7b77-4205-9ea3-91f215eebf43",
   "metadata": {},
   "source": [
    "Hmm, halfway through it can't find a value based on the previous choices. I'm going to have to search through the possibilities, I think. (Unless there's an analytical method I'm missing.)"
   ]
  },
  {
   "cell_type": "code",
   "execution_count": null,
   "id": "09823022-1dd0-4b1c-a435-1e7f3dcce367",
   "metadata": {},
   "outputs": [],
   "source": []
  }
 ],
 "metadata": {
  "kernelspec": {
   "display_name": "Python 3 (ipykernel)",
   "language": "python",
   "name": "python3"
  },
  "language_info": {
   "codemirror_mode": {
    "name": "ipython",
    "version": 3
   },
   "file_extension": ".py",
   "mimetype": "text/x-python",
   "name": "python",
   "nbconvert_exporter": "python",
   "pygments_lexer": "ipython3",
   "version": "3.12.6"
  }
 },
 "nbformat": 4,
 "nbformat_minor": 5
}
