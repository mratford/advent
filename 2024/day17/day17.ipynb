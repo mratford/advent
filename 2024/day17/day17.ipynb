{
 "cells": [
  {
   "cell_type": "markdown",
   "id": "39f5825e",
   "metadata": {},
   "source": [
    "# Day 17\n",
    "## Part 1\n"
   ]
  },
  {
   "cell_type": "code",
   "execution_count": null,
   "id": "f14a4ad2",
   "metadata": {},
   "outputs": [],
   "source": []
  }
 ],
 "metadata": {},
 "nbformat": 4,
 "nbformat_minor": 5
}
