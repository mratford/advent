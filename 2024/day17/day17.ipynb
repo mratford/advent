{
 "cells": [
  {
   "cell_type": "markdown",
   "id": "39f5825e",
   "metadata": {},
   "source": [
    "# Day 17\n",
    "## Part 1\n"
   ]
  },
  {
   "cell_type": "code",
   "execution_count": 4,
   "id": "f14a4ad2",
   "metadata": {},
   "outputs": [
    {
     "data": {
      "text/plain": [
       "(729, 0, 0, [0, 1, 5, 4, 3, 0])"
      ]
     },
     "execution_count": 4,
     "metadata": {},
     "output_type": "execute_result"
    }
   ],
   "source": [
    "import parse\n",
    "\n",
    "def parse_data(s):\n",
    "    r = parse.parse(\"\"\"Register A: {a:d}\n",
    "Register B: {b:d}\n",
    "Register C: {c:d}\n",
    "\n",
    "Program: {program}\"\"\", s)\n",
    "    return r[\"a\"], r[\"b\"], r[\"c\"], [int(x) for x in r[\"program\"].split(\",\")]\n",
    "\n",
    "test_data = parse_data(\"\"\"Register A: 729\n",
    "Register B: 0\n",
    "Register C: 0\n",
    "\n",
    "Program: 0,1,5,4,3,0\"\"\")\n",
    "test_data"
   ]
  },
  {
   "cell_type": "code",
   "execution_count": 9,
   "id": "ec4683e8-add5-4c13-aeea-f7aaa4d8450c",
   "metadata": {},
   "outputs": [
    {
     "data": {
      "text/plain": [
       "'4,6,3,5,6,3,5,2,1,0'"
      ]
     },
     "execution_count": 9,
     "metadata": {},
     "output_type": "execute_result"
    }
   ],
   "source": [
    "def combo(x, a, b, c):\n",
    "    match x:\n",
    "        case 0 | 1 | 2 | 3:\n",
    "            return x\n",
    "        case 4:\n",
    "            return a\n",
    "        case 5:\n",
    "            return b\n",
    "        case 6:\n",
    "            return c\n",
    "\n",
    "def run(a, b, c, program):\n",
    "    i = 0\n",
    "    while i < len(program):\n",
    "        lit = program[i+1]\n",
    "        com = combo(lit, a, b, c)\n",
    "        match program[i]:\n",
    "            case 0:\n",
    "                a = a // (2 ** com)\n",
    "            case 1:\n",
    "                b = b ^ lit\n",
    "            case 2:\n",
    "                b = com % 8\n",
    "            case 3:\n",
    "                if a != 0:\n",
    "                    i = lit - 2\n",
    "            case 4:\n",
    "                b = b ^ c\n",
    "            case 5:\n",
    "                yield com % 8\n",
    "            case 6:\n",
    "                b = a // (2 ** com)\n",
    "            case 7:\n",
    "                c = a // (2 ** com)\n",
    "        i += 2\n",
    "\n",
    "def part_1(data):\n",
    "    return \",\".join(str(x) for x in run(*data))\n",
    "\n",
    "part_1(test_data)"
   ]
  },
  {
   "cell_type": "code",
   "execution_count": 10,
   "id": "e7dbd021-35ff-4b35-a41b-eaa9f589fdd2",
   "metadata": {},
   "outputs": [
    {
     "data": {
      "text/plain": [
       "'1,7,6,5,1,0,5,0,7'"
      ]
     },
     "execution_count": 10,
     "metadata": {},
     "output_type": "execute_result"
    }
   ],
   "source": [
    "data = parse_data(open(\"input\").read())\n",
    "part_1(data)"
   ]
  },
  {
   "cell_type": "markdown",
   "id": "b1c68872-131f-40ce-9634-c18c2f19ae14",
   "metadata": {},
   "source": [
    "## Part 2\n",
    "\n",
    "I'm going to have to think about this one."
   ]
  },
  {
   "cell_type": "code",
   "execution_count": null,
   "id": "bbd4d98b-8b7b-4265-8485-9c56b79d29e9",
   "metadata": {},
   "outputs": [],
   "source": []
  }
 ],
 "metadata": {
  "kernelspec": {
   "display_name": "Python 3 (ipykernel)",
   "language": "python",
   "name": "python3"
  },
  "language_info": {
   "codemirror_mode": {
    "name": "ipython",
    "version": 3
   },
   "file_extension": ".py",
   "mimetype": "text/x-python",
   "name": "python",
   "nbconvert_exporter": "python",
   "pygments_lexer": "ipython3",
   "version": "3.12.6"
  }
 },
 "nbformat": 4,
 "nbformat_minor": 5
}
