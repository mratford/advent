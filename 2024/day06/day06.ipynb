{
 "cells": [
  {
   "cell_type": "markdown",
   "id": "6f307c49",
   "metadata": {},
   "source": [
    "# Day 6\n",
    "## Part 1\n"
   ]
  },
  {
   "cell_type": "code",
   "execution_count": null,
   "id": "b7d44b69",
   "metadata": {},
   "outputs": [],
   "source": []
  }
 ],
 "metadata": {},
 "nbformat": 4,
 "nbformat_minor": 5
}
