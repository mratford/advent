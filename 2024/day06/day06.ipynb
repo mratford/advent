{
 "cells": [
  {
   "cell_type": "markdown",
   "id": "6f307c49",
   "metadata": {},
   "source": [
    "# Day 6\n",
    "## Part 1\n"
   ]
  },
  {
   "cell_type": "code",
   "execution_count": 2,
   "id": "b7d44b69",
   "metadata": {},
   "outputs": [],
   "source": [
    "from dataclasses import dataclass\n",
    "\n",
    "@dataclass\n",
    "class Point:\n",
    "    x: int\n",
    "    y: int\n",
    "\n",
    "    def __add__(self, other):\n",
    "        return self.__class__(self.x + other.x, self.y + other.y)\n",
    "\n",
    "    def __sub__(self, other):\n",
    "        return self.__class__(self.x - other.x, self.y - other.y)\n",
    "\n",
    "    def __neg__(self):\n",
    "        return self.__class__(-self.x, -self.y)\n",
    "\n",
    "    def __hash__(self):\n",
    "        return hash((self.x, self.y))\n",
    "\n",
    "    def __lt__(self, other):\n",
    "        if self.x < other.x:\n",
    "            return True\n",
    "        elif self.x > other.x:\n",
    "            return False\n",
    "        else:\n",
    "            return self.y < other.y\n",
    "\n",
    "    def __iter__(self):\n",
    "        yield self.x\n",
    "        yield self.y\n",
    "\n",
    "    def __mod__(self, other):\n",
    "        if isinstance(other, Point):\n",
    "            return self.__class__(self.x % other.x, self.y % other.y)\n",
    "        else:\n",
    "            return self.__class__(self.x % other, self.y % other)\n",
    "        \n",
    "    def __mul__(self, multiple):\n",
    "        return self.__class__(self.x * multiple, self.y * multiple)\n",
    "    \n",
    "\n",
    "N = Point(0, 1)\n",
    "S = Point(0, -1)\n",
    "W = Point(-1, 0)\n",
    "E = Point(1, 0)\n",
    "\n",
    "TURN_RIGHT = { N: E, E: S, S: W, W: N }\n",
    "\n",
    "def parse_data(s):\n",
    "    lab = {}\n",
    "    for y, line in enumerate(reversed(s.strip().splitlines())):\n",
    "        for x, c in enumerate(line):\n",
    "            if c == \"^\":\n",
    "                starting_point = Point(x, y)\n",
    "            lab[Point(x, y)] = c\n",
    "    return starting_point, lab\n",
    "\n",
    "def part_1(data):\n",
    "    loc, lab = data\n",
    "    visited = {loc}\n",
    "    d = N\n",
    "    while loc + d in lab:\n",
    "        if lab[loc + d] == \"#\":\n",
    "            d = TURN_RIGHT[d]\n",
    "        else:\n",
    "            loc = loc + d\n",
    "            visited.add(loc)\n",
    "    return len(visited)\n",
    "\n",
    "test_data = parse_data(\"\"\"....#.....\n",
    ".........#\n",
    "..........\n",
    "..#.......\n",
    ".......#..\n",
    "..........\n",
    ".#..^.....\n",
    "........#.\n",
    "#.........\n",
    "......#...\"\"\")\n",
    "\n",
    "assert part_1(test_data) == 41"
   ]
  },
  {
   "cell_type": "code",
   "execution_count": 4,
   "id": "7f3f9740-3c30-4177-9c7d-73fce01303bb",
   "metadata": {},
   "outputs": [
    {
     "data": {
      "text/plain": [
       "4988"
      ]
     },
     "execution_count": 4,
     "metadata": {},
     "output_type": "execute_result"
    }
   ],
   "source": [
    "data = parse_data(open(\"input\").read())\n",
    "part_1(data)"
   ]
  },
  {
   "cell_type": "markdown",
   "id": "bd51a9dd-ce5d-4df2-bca2-102f955267b6",
   "metadata": {},
   "source": [
    "## Part 2\n",
    "\n",
    "Brute force for now."
   ]
  },
  {
   "cell_type": "code",
   "execution_count": 20,
   "id": "31614c89-070e-43aa-8522-855d58c14965",
   "metadata": {},
   "outputs": [
    {
     "name": "stderr",
     "output_type": "stream",
     "text": [
      "100%|███████████████████████████████████████████████████| 91/91 [00:00<00:00, 12282.20it/s]\n"
     ]
    }
   ],
   "source": [
    "import tqdm\n",
    "\n",
    "def gets_in_loop(starting_position, lab, new_obstacle):\n",
    "    loc = starting_position\n",
    "    d = N\n",
    "    visited = {(loc, d)}\n",
    "    while loc + d in lab:\n",
    "        if lab[loc + d] == \"#\" or loc + d == new_obstacle:\n",
    "            d = TURN_RIGHT[d]\n",
    "        else:\n",
    "            loc = loc + d\n",
    "            if (loc, d) in visited:\n",
    "                return True\n",
    "            visited.add((loc, d))\n",
    "    return False\n",
    "\n",
    "def part_2(data):\n",
    "    starting_position, lab = data\n",
    "    result = 0\n",
    "\n",
    "    for new_obstacle in tqdm.tqdm([x for x in lab if lab[x] == \".\"]):\n",
    "        if gets_in_loop(starting_position, lab, new_obstacle):\n",
    "            result += 1\n",
    "    return result\n",
    "\n",
    "assert part_2(test_data) == 6"
   ]
  },
  {
   "cell_type": "code",
   "execution_count": 21,
   "id": "d76dbbfe-4d30-42a5-938e-22390b1779b7",
   "metadata": {},
   "outputs": [
    {
     "name": "stderr",
     "output_type": "stream",
     "text": [
      "100%|████████████████████████████████████████████████| 16081/16081 [02:55<00:00, 91.88it/s]\n"
     ]
    },
    {
     "data": {
      "text/plain": [
       "1697"
      ]
     },
     "execution_count": 21,
     "metadata": {},
     "output_type": "execute_result"
    }
   ],
   "source": [
    "part_2(data)"
   ]
  },
  {
   "cell_type": "markdown",
   "id": "1cdca22a-594e-43b7-9c1d-092f150f5412",
   "metadata": {},
   "source": [
    "That's slow. We don't have to check every location in the lab for an extra obstacle, just those that would have blocked the original route."
   ]
  },
  {
   "cell_type": "code",
   "execution_count": 27,
   "id": "fb361eb7-ddca-4eb7-a588-bdce1837e762",
   "metadata": {},
   "outputs": [
    {
     "name": "stderr",
     "output_type": "stream",
     "text": [
      "100%|████████████████████████████████████████████████████| 40/40 [00:00<00:00, 6358.38it/s]\n"
     ]
    }
   ],
   "source": [
    "def possible_obstacles(data):\n",
    "    loc, lab = data\n",
    "    d = N\n",
    "    visited = {loc}\n",
    "    while loc + d in lab:\n",
    "        if lab[loc + d] == \"#\":\n",
    "            d = TURN_RIGHT[d]\n",
    "        else:\n",
    "            loc = loc + d\n",
    "            if loc not in visited:\n",
    "                yield loc\n",
    "                visited.add(loc)\n",
    "\n",
    "def part_2_v2(data):\n",
    "    starting_position, lab = data\n",
    "    result = 0\n",
    "\n",
    "    for new_obstacle in tqdm.tqdm(list(possible_obstacles(data))):\n",
    "        if gets_in_loop(starting_position, lab, new_obstacle):\n",
    "            result += 1\n",
    "    return result\n",
    "\n",
    "assert part_2_v2(test_data) == 6"
   ]
  },
  {
   "cell_type": "code",
   "execution_count": 28,
   "id": "dfb92982-f23e-4f92-8e37-757d310f146c",
   "metadata": {},
   "outputs": [
    {
     "name": "stderr",
     "output_type": "stream",
     "text": [
      "100%|█████████████████████████████████████████████████| 4987/4987 [00:36<00:00, 135.43it/s]\n"
     ]
    },
    {
     "data": {
      "text/plain": [
       "1697"
      ]
     },
     "execution_count": 28,
     "metadata": {},
     "output_type": "execute_result"
    }
   ],
   "source": [
    "part_2_v2(data)"
   ]
  },
  {
   "cell_type": "markdown",
   "id": "91284b34-0da2-47a1-834b-df66f9053b31",
   "metadata": {},
   "source": [
    "Still slow though."
   ]
  },
  {
   "cell_type": "code",
   "execution_count": null,
   "id": "56ea2ddc-6152-4edc-a348-db30f59370e8",
   "metadata": {},
   "outputs": [],
   "source": []
  }
 ],
 "metadata": {
  "kernelspec": {
   "display_name": "Python 3 (ipykernel)",
   "language": "python",
   "name": "python3"
  },
  "language_info": {
   "codemirror_mode": {
    "name": "ipython",
    "version": 3
   },
   "file_extension": ".py",
   "mimetype": "text/x-python",
   "name": "python",
   "nbconvert_exporter": "python",
   "pygments_lexer": "ipython3",
   "version": "3.13.0"
  }
 },
 "nbformat": 4,
 "nbformat_minor": 5
}
