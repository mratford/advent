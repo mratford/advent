{
 "cells": [
  {
   "cell_type": "markdown",
   "id": "69fea138",
   "metadata": {},
   "source": [
    "# Day 25\n",
    "## Part 1\n"
   ]
  },
  {
   "cell_type": "code",
   "execution_count": null,
   "id": "615f6534",
   "metadata": {},
   "outputs": [],
   "source": []
  }
 ],
 "metadata": {},
 "nbformat": 4,
 "nbformat_minor": 5
}
