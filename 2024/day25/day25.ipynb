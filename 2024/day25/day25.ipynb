{
 "cells": [
  {
   "cell_type": "markdown",
   "id": "69fea138",
   "metadata": {},
   "source": [
    "# Day 25\n",
    "## Part 1\n"
   ]
  },
  {
   "cell_type": "code",
   "execution_count": 3,
   "id": "615f6534",
   "metadata": {},
   "outputs": [
    {
     "data": {
      "text/plain": [
       "[1, 6, 4, 5, 4]"
      ]
     },
     "execution_count": 3,
     "metadata": {},
     "output_type": "execute_result"
    }
   ],
   "source": [
    "def parse_key(s):\n",
    "    return [line.count(\"#\") for line in zip(*s.strip().splitlines())]\n",
    "\n",
    "parse_key(\"\"\"#####\n",
    ".####\n",
    ".####\n",
    ".####\n",
    ".#.#.\n",
    ".#...\n",
    ".....\"\"\")"
   ]
  },
  {
   "cell_type": "code",
   "execution_count": 8,
   "id": "62f68373-00f1-43d1-b97e-9bd100fe461b",
   "metadata": {},
   "outputs": [
    {
     "data": {
      "text/plain": [
       "3"
      ]
     },
     "execution_count": 8,
     "metadata": {},
     "output_type": "execute_result"
    }
   ],
   "source": [
    "import itertools\n",
    "\n",
    "def parse_data(s):\n",
    "    ups = []\n",
    "    downs = []\n",
    "\n",
    "    for key in s.strip().split(\"\\n\\n\"):\n",
    "        heights = parse_key(key)\n",
    "        if key[0] == \"#\":\n",
    "            downs.append(parse_key(key))\n",
    "        else:\n",
    "            ups.append(parse_key(key))\n",
    "\n",
    "    return ups, downs\n",
    "\n",
    "def fit(key1, key2, max_height=7):\n",
    "    return all(x + y <= max_height for x, y in zip(key1, key2))\n",
    "\n",
    "def part_1(data):\n",
    "    ups, downs = data\n",
    "    return sum(\n",
    "        1 \n",
    "        for x, y in itertools.product(ups, downs)\n",
    "        if fit(x, y)\n",
    "    )\n",
    "\n",
    "test_data = parse_data(\"\"\"#####\n",
    ".####\n",
    ".####\n",
    ".####\n",
    ".#.#.\n",
    ".#...\n",
    ".....\n",
    "\n",
    "#####\n",
    "##.##\n",
    ".#.##\n",
    "...##\n",
    "...#.\n",
    "...#.\n",
    ".....\n",
    "\n",
    ".....\n",
    "#....\n",
    "#....\n",
    "#...#\n",
    "#.#.#\n",
    "#.###\n",
    "#####\n",
    "\n",
    ".....\n",
    ".....\n",
    "#.#..\n",
    "###..\n",
    "###.#\n",
    "###.#\n",
    "#####\n",
    "\n",
    ".....\n",
    ".....\n",
    ".....\n",
    "#....\n",
    "#.#..\n",
    "#.#.#\n",
    "#####\"\"\")\n",
    "\n",
    "part_1(test_data)"
   ]
  },
  {
   "cell_type": "code",
   "execution_count": 10,
   "id": "40675da1-571d-4f26-8644-4f1e7e6f5275",
   "metadata": {},
   "outputs": [
    {
     "data": {
      "text/plain": [
       "3327"
      ]
     },
     "execution_count": 10,
     "metadata": {},
     "output_type": "execute_result"
    }
   ],
   "source": [
    "data = parse_data(open(\"input\").read())\n",
    "\n",
    "part_1(data)"
   ]
  },
  {
   "cell_type": "code",
   "execution_count": null,
   "id": "ba06b22c-ede3-4a56-83a8-f0a7be59afb2",
   "metadata": {},
   "outputs": [],
   "source": []
  }
 ],
 "metadata": {
  "kernelspec": {
   "display_name": "Python 3 (ipykernel)",
   "language": "python",
   "name": "python3"
  },
  "language_info": {
   "codemirror_mode": {
    "name": "ipython",
    "version": 3
   },
   "file_extension": ".py",
   "mimetype": "text/x-python",
   "name": "python",
   "nbconvert_exporter": "python",
   "pygments_lexer": "ipython3",
   "version": "3.13.0"
  }
 },
 "nbformat": 4,
 "nbformat_minor": 5
}
