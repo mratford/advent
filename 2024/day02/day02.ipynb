{
 "cells": [
  {
   "cell_type": "markdown",
   "id": "f29cae56",
   "metadata": {},
   "source": [
    "# Day 2\n",
    "## Part 1\n"
   ]
  },
  {
   "cell_type": "code",
   "execution_count": null,
   "id": "cb591473",
   "metadata": {},
   "outputs": [],
   "source": []
  }
 ],
 "metadata": {},
 "nbformat": 4,
 "nbformat_minor": 5
}
