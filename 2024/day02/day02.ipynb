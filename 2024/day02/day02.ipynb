{
 "cells": [
  {
   "cell_type": "markdown",
   "id": "f29cae56",
   "metadata": {},
   "source": [
    "# Day 2\n",
    "## Part 1\n"
   ]
  },
  {
   "cell_type": "code",
   "execution_count": 1,
   "id": "cb591473",
   "metadata": {},
   "outputs": [
    {
     "data": {
      "text/plain": [
       "526"
      ]
     },
     "execution_count": 1,
     "metadata": {},
     "output_type": "execute_result"
    }
   ],
   "source": [
    "def read_data(s):\n",
    "    return [\n",
    "        [int(x) for x in line.split()] \n",
    "        for line in s.strip().splitlines()\n",
    "    ]\n",
    "\n",
    "def valid(level):\n",
    "    diffs = [x - y for x, y in zip(level, level[1:])]\n",
    "    return (\n",
    "        (all(x > 0 for x in diffs) or all(x < 0 for x in diffs))\n",
    "        and all(abs(x) >= 1 for x in diffs) and all(abs(x) <= 3 for x in diffs)\n",
    "    )\n",
    "\n",
    "def part_1(data):\n",
    "    return sum(1 for level in data if valid(level)) \n",
    "\n",
    "data = read_data(open(\"input\").read())\n",
    "part_1(data)"
   ]
  },
  {
   "cell_type": "markdown",
   "id": "ea1612ae-f332-4f0a-a3a8-401523ffc7d2",
   "metadata": {},
   "source": [
    "## Part 2"
   ]
  },
  {
   "cell_type": "code",
   "execution_count": 5,
   "id": "15ce5f96-ab2f-4dc8-bdbc-3ae5dfd7c3ef",
   "metadata": {},
   "outputs": [
    {
     "data": {
      "text/plain": [
       "566"
      ]
     },
     "execution_count": 5,
     "metadata": {},
     "output_type": "execute_result"
    }
   ],
   "source": [
    "def valid_dampened(level):\n",
    "    for l in [level] + [level[:i] + level[i+1:] for i in range(len(level))]:\n",
    "        if valid(l):\n",
    "            return True\n",
    "    return False\n",
    "\n",
    "def part_2(data):\n",
    "    return sum(1 for level in data if valid_dampened(level)) \n",
    "\n",
    "part_2(data)"
   ]
  },
  {
   "cell_type": "code",
   "execution_count": null,
   "id": "b5a0e2d2-ec09-4071-a7d9-2b70224d235d",
   "metadata": {},
   "outputs": [],
   "source": []
  }
 ],
 "metadata": {
  "kernelspec": {
   "display_name": "Python 3 (ipykernel)",
   "language": "python",
   "name": "python3"
  },
  "language_info": {
   "codemirror_mode": {
    "name": "ipython",
    "version": 3
   },
   "file_extension": ".py",
   "mimetype": "text/x-python",
   "name": "python",
   "nbconvert_exporter": "python",
   "pygments_lexer": "ipython3",
   "version": "3.12.7"
  }
 },
 "nbformat": 4,
 "nbformat_minor": 5
}
