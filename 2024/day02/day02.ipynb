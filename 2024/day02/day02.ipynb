{
 "cells": [
  {
   "cell_type": "markdown",
   "id": "f29cae56",
   "metadata": {},
   "source": [
    "# Day 2\n",
    "## Part 1\n"
   ]
  },
  {
   "cell_type": "code",
   "execution_count": 8,
   "id": "cb591473",
   "metadata": {},
   "outputs": [
    {
     "data": {
      "text/plain": [
       "526"
      ]
     },
     "execution_count": 8,
     "metadata": {},
     "output_type": "execute_result"
    }
   ],
   "source": [
    "def read_data(s):\n",
    "    return [\n",
    "        [int(x) for x in line.split()] \n",
    "        for line in s.strip().splitlines()\n",
    "    ]\n",
    "\n",
    "def valid(level):\n",
    "    diffs = [x - y for x, y in zip(level[1:], level)]\n",
    "    return (\n",
    "        (all(x > 0 for x in diffs) or all(x < 0 for x in diffs))\n",
    "        and all(1 <= abs(x) <= 3 for x in diffs)\n",
    "    )\n",
    "\n",
    "def part_1(data):\n",
    "    return sum(1 for level in data if valid(level)) \n",
    "\n",
    "data = read_data(open(\"input\").read())\n",
    "part_1(data)"
   ]
  },
  {
   "cell_type": "markdown",
   "id": "ea1612ae-f332-4f0a-a3a8-401523ffc7d2",
   "metadata": {},
   "source": [
    "## Part 2"
   ]
  },
  {
   "cell_type": "code",
   "execution_count": 5,
   "id": "15ce5f96-ab2f-4dc8-bdbc-3ae5dfd7c3ef",
   "metadata": {},
   "outputs": [
    {
     "data": {
      "text/plain": [
       "566"
      ]
     },
     "execution_count": 5,
     "metadata": {},
     "output_type": "execute_result"
    }
   ],
   "source": [
    "def valid_dampened(level):\n",
    "    for l in [level] + [level[:i] + level[i+1:] for i in range(len(level))]:\n",
    "        if valid(l):\n",
    "            return True\n",
    "    return False\n",
    "\n",
    "def part_2(data):\n",
    "    return sum(1 for level in data if valid_dampened(level)) \n",
    "\n",
    "part_2(data)"
   ]
  },
  {
   "cell_type": "markdown",
   "id": "5188e35e-329d-49ec-80fc-6f4b45b6a1dc",
   "metadata": {},
   "source": [
    "### Part 2 revisited\n",
    "\n",
    "Rather than brute-forcing across all possible skips and testing for validity, instead run a single pass for each level."
   ]
  },
  {
   "cell_type": "code",
   "execution_count": 21,
   "id": "df262a38-dce5-4e3a-bcf1-a33f52fc5a91",
   "metadata": {},
   "outputs": [
    {
     "data": {
      "text/plain": [
       "566"
      ]
     },
     "execution_count": 21,
     "metadata": {},
     "output_type": "execute_result"
    }
   ],
   "source": [
    "def valid_dampened_v2(level):\n",
    "    diffs = [x - y for x, y in zip(level[1:], level)]\n",
    "    # What direction, negative or positive, are nearly all diffs \n",
    "    # going in?\n",
    "    if sum(1 for d in diffs if d < 0) <= 1:\n",
    "        direction = 1\n",
    "    elif sum(1 for d in diffs if d > 0) <= 1:\n",
    "        direction = -1\n",
    "    else:\n",
    "        # More than one wrong direction can't be corrected\n",
    "        # with a single skip\n",
    "        return False\n",
    "\n",
    "    # Track if we've already skipped an item\n",
    "    deleted = False\n",
    "    i = 0\n",
    "    while i < len(level) - 1:\n",
    "        if diffs[i] * direction < 0 or not (1 <= abs(diffs[i]) <= 3):\n",
    "            if deleted:\n",
    "                # We've already skipped something\n",
    "                return False\n",
    "            # Can we just delete the last item?\n",
    "            if i + 1 == len(level) - 1:\n",
    "                return True\n",
    "            # What's the difference if the next item is skipped?\n",
    "            diff_skipped = level[i + 2] - level[i]\n",
    "            if diff_skipped * direction > 0 and (1 <= abs(diff_skipped) <= 3):\n",
    "                # Skipping (i+1)th item\n",
    "                deleted = True\n",
    "                # Increment index so we're next looking at (i+2)th item\n",
    "                i = i + 1\n",
    "            # Is this the first item? If so delete it\n",
    "            elif i == 0:\n",
    "                deleted = True\n",
    "            else:\n",
    "                # Check what happens if we skip the current item\n",
    "                diff_skipped = level[i + 1] - level[i - 1]\n",
    "                if diff_skipped * direction > 0 and (1 <= abs(diff_skipped) <= 3):\n",
    "                    # Skipping ith item\n",
    "                    deleted = True\n",
    "                else:\n",
    "                    # No valid skips\n",
    "                    return False\n",
    "        i = i + 1\n",
    "\n",
    "    return True\n",
    "\n",
    "def part_2_v2(data):\n",
    "    return sum(1 for level in data if valid_dampened_v2(level)) \n",
    "\n",
    "part_2_v2(data)"
   ]
  },
  {
   "cell_type": "code",
   "execution_count": 26,
   "id": "60d292fa-77c7-42f5-97cf-0f0d5cdb3f41",
   "metadata": {},
   "outputs": [
    {
     "name": "stdout",
     "output_type": "stream",
     "text": [
      "9.82 ms ± 466 μs per loop (mean ± std. dev. of 7 runs, 100 loops each)\n"
     ]
    }
   ],
   "source": [
    "%%timeit\n",
    "\n",
    "part_2(data)"
   ]
  },
  {
   "cell_type": "code",
   "execution_count": 27,
   "id": "f6e21936-49a7-4d61-b82e-b43dae0d5243",
   "metadata": {},
   "outputs": [
    {
     "name": "stdout",
     "output_type": "stream",
     "text": [
      "1.85 ms ± 104 μs per loop (mean ± std. dev. of 7 runs, 100 loops each)\n"
     ]
    }
   ],
   "source": [
    "%%timeit\n",
    "\n",
    "part_2_v2(data)"
   ]
  },
  {
   "cell_type": "markdown",
   "id": "4358190b-a931-4c94-a604-88d48596ee1f",
   "metadata": {},
   "source": []
  }
 ],
 "metadata": {
  "kernelspec": {
   "display_name": "Python 3 (ipykernel)",
   "language": "python",
   "name": "python3"
  },
  "language_info": {
   "codemirror_mode": {
    "name": "ipython",
    "version": 3
   },
   "file_extension": ".py",
   "mimetype": "text/x-python",
   "name": "python",
   "nbconvert_exporter": "python",
   "pygments_lexer": "ipython3",
   "version": "3.12.7"
  }
 },
 "nbformat": 4,
 "nbformat_minor": 5
}
