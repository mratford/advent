{
 "cells": [
  {
   "cell_type": "markdown",
   "id": "5f7cefcd",
   "metadata": {},
   "source": [
    "# Day 5\n",
    "## Part 1\n"
   ]
  },
  {
   "cell_type": "code",
   "execution_count": null,
   "id": "2643f60a",
   "metadata": {},
   "outputs": [],
   "source": []
  }
 ],
 "metadata": {},
 "nbformat": 4,
 "nbformat_minor": 5
}
