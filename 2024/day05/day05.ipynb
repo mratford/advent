{
 "cells": [
  {
   "cell_type": "markdown",
   "id": "5f7cefcd",
   "metadata": {},
   "source": [
    "# Day 5\n",
    "## Part 1"
   ]
  },
  {
   "cell_type": "code",
   "execution_count": 4,
   "id": "2643f60a",
   "metadata": {},
   "outputs": [],
   "source": [
    "from collections import defaultdict\n",
    "\n",
    "def read_data(s):\n",
    "    section_1, section_2 = s.strip().split(\"\\n\\n\")\n",
    "    \n",
    "    rules = defaultdict(set)\n",
    "    for line in section_1.splitlines():\n",
    "        a, b = line.split(\"|\")\n",
    "        rules[int(a)].add(int(b))\n",
    "\n",
    "    updates = [\n",
    "        [int(x) for x in line.split(\",\")]\n",
    "        for line in section_2.splitlines()\n",
    "    ]\n",
    "\n",
    "    return rules, updates\n",
    "\n",
    "def middle_value(l):\n",
    "    return l[len(l) // 2]\n",
    "\n",
    "def valid_update(rules, update):\n",
    "    return all(\n",
    "        y in rules[x]\n",
    "        for x, y in zip(update, update[1:])\n",
    "    )\n",
    "\n",
    "def part_1(data):\n",
    "    rules, updates = data\n",
    "    return sum(\n",
    "        middle_value(update)\n",
    "        for update in updates\n",
    "        if valid_update(rules, update)\n",
    "    )\n",
    "\n",
    "test_data = read_data(\"\"\"47|53\n",
    "97|13\n",
    "97|61\n",
    "97|47\n",
    "75|29\n",
    "61|13\n",
    "75|53\n",
    "29|13\n",
    "97|29\n",
    "53|29\n",
    "61|53\n",
    "97|53\n",
    "61|29\n",
    "47|13\n",
    "75|47\n",
    "97|75\n",
    "47|61\n",
    "75|61\n",
    "47|29\n",
    "75|13\n",
    "53|13\n",
    "\n",
    "75,47,61,53,29\n",
    "97,61,53,29,13\n",
    "75,29,13\n",
    "75,97,47,61,53\n",
    "61,13,29\n",
    "97,13,75,29,47\"\"\")\n",
    "\n",
    "assert part_1(test_data) == 143"
   ]
  },
  {
   "cell_type": "code",
   "execution_count": 6,
   "id": "fb76f59e-4fa5-4a4f-9de8-daeb18a80cf7",
   "metadata": {},
   "outputs": [
    {
     "data": {
      "text/plain": [
       "6951"
      ]
     },
     "execution_count": 6,
     "metadata": {},
     "output_type": "execute_result"
    }
   ],
   "source": [
    "data = read_data(open(\"input\").read())\n",
    "\n",
    "part_1(data)"
   ]
  },
  {
   "cell_type": "markdown",
   "id": "7e909e55-a41d-478c-9990-b75768284858",
   "metadata": {},
   "source": [
    "## Part 2\n",
    "Recursively find the first page of the remaining update."
   ]
  },
  {
   "cell_type": "code",
   "execution_count": 7,
   "id": "4000f538-293b-49f3-9b92-7760e01d72b4",
   "metadata": {},
   "outputs": [],
   "source": [
    "def correct_order(rules, update):\n",
    "    if len(update) == 1:\n",
    "        return update\n",
    "        \n",
    "    first = next(\n",
    "        p \n",
    "        for p in update \n",
    "        if not any(p in rules[x] for x in update)\n",
    "    )\n",
    "    remaining = update[:]\n",
    "    remaining.remove(first)\n",
    "    return [first] + correct_order(rules, remaining)\n",
    "\n",
    "def part_2(data):\n",
    "    rules, updates = data\n",
    "\n",
    "    return sum(\n",
    "        middle_value(correct_order(rules, update))\n",
    "        for update in updates\n",
    "        if not valid_update(rules, update)\n",
    "    )\n",
    "\n",
    "assert part_2(test_data) == 123"
   ]
  },
  {
   "cell_type": "code",
   "execution_count": 8,
   "id": "0b9a7894-4843-4ba8-a913-07e8ce29debf",
   "metadata": {},
   "outputs": [
    {
     "data": {
      "text/plain": [
       "4121"
      ]
     },
     "execution_count": 8,
     "metadata": {},
     "output_type": "execute_result"
    }
   ],
   "source": [
    "part_2(data)"
   ]
  },
  {
   "cell_type": "markdown",
   "id": "e15fe622-8547-484a-a9b2-65eb81328a3f",
   "metadata": {},
   "source": [
    "### Part 2 revisited\n",
    "\n",
    "I'm a bit uncomfortable with how the ordered list is constructed above as repeatedly concatenating lists is inefficient, so here's a non-recursive rewrite using set operations."
   ]
  },
  {
   "cell_type": "code",
   "execution_count": 21,
   "id": "d864a054-a9e6-4e14-b285-fd9e25f42a72",
   "metadata": {},
   "outputs": [],
   "source": [
    "def correct_order_v2(rules, update):\n",
    "    q = set(update)\n",
    "    ordered = []\n",
    "\n",
    "    while q:\n",
    "        next_page = q.difference(*(rules[p] for p in q)).pop()\n",
    "        ordered.append(next_page)\n",
    "        q.remove(next_page)\n",
    "\n",
    "    return ordered\n",
    "\n",
    "def part_2_v2(data):\n",
    "    rules, updates = data\n",
    "    \n",
    "    return sum(\n",
    "        middle_value(correct_order_v2(rules, update))\n",
    "        for update in updates\n",
    "        if not valid_update(rules, update)\n",
    "    )\n",
    "\n",
    "assert part_2_v2(test_data) == 123"
   ]
  },
  {
   "cell_type": "code",
   "execution_count": 22,
   "id": "f9f0c497-9c9f-40db-87ff-57995ab46d6b",
   "metadata": {},
   "outputs": [
    {
     "data": {
      "text/plain": [
       "4121"
      ]
     },
     "execution_count": 22,
     "metadata": {},
     "output_type": "execute_result"
    }
   ],
   "source": [
    "part_2_v2(data)"
   ]
  },
  {
   "cell_type": "code",
   "execution_count": 23,
   "id": "d4fafbbf-4a8b-4bfa-8e6e-2b745c2854b4",
   "metadata": {},
   "outputs": [
    {
     "name": "stdout",
     "output_type": "stream",
     "text": [
      "6.48 ms ± 140 μs per loop (mean ± std. dev. of 7 runs, 100 loops each)\n"
     ]
    }
   ],
   "source": [
    "%%timeit\n",
    "\n",
    "part_2(data)"
   ]
  },
  {
   "cell_type": "code",
   "execution_count": 24,
   "id": "1cc4b864-4290-4324-b3c6-8df64cc0b2b7",
   "metadata": {},
   "outputs": [
    {
     "name": "stdout",
     "output_type": "stream",
     "text": [
      "4.47 ms ± 54.1 μs per loop (mean ± std. dev. of 7 runs, 100 loops each)\n"
     ]
    }
   ],
   "source": [
    "%%timeit\n",
    "\n",
    "part_2_v2(data)"
   ]
  },
  {
   "cell_type": "markdown",
   "id": "04d62443-58e1-46f7-93fc-8ba6e76e2f79",
   "metadata": {},
   "source": [
    "Maybe not worth spending time on that."
   ]
  },
  {
   "cell_type": "code",
   "execution_count": null,
   "id": "68cae847-7446-4f2a-acf4-6672fb73a1c3",
   "metadata": {},
   "outputs": [],
   "source": []
  }
 ],
 "metadata": {
  "kernelspec": {
   "display_name": "Python 3 (ipykernel)",
   "language": "python",
   "name": "python3"
  },
  "language_info": {
   "codemirror_mode": {
    "name": "ipython",
    "version": 3
   },
   "file_extension": ".py",
   "mimetype": "text/x-python",
   "name": "python",
   "nbconvert_exporter": "python",
   "pygments_lexer": "ipython3",
   "version": "3.12.7"
  }
 },
 "nbformat": 4,
 "nbformat_minor": 5
}
