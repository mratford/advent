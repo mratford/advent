{
 "cells": [
  {
   "cell_type": "markdown",
   "id": "5f7cefcd",
   "metadata": {},
   "source": [
    "# Day 5\n",
    "## Part 1"
   ]
  },
  {
   "cell_type": "code",
   "execution_count": 3,
   "id": "2643f60a",
   "metadata": {},
   "outputs": [],
   "source": [
    "from collections import defaultdict\n",
    "\n",
    "def read_data(s):\n",
    "    section_1, section_2 = s.strip().split(\"\\n\\n\")\n",
    "    \n",
    "    rules = defaultdict(set)\n",
    "    for line in section_1.splitlines():\n",
    "        a, b = line.split(\"|\")\n",
    "        rules[int(a)].add(int(b))\n",
    "\n",
    "    updates = [\n",
    "        [int(x) for x in line.split(\",\")]\n",
    "        for line in section_2.splitlines()\n",
    "    ]\n",
    "\n",
    "    return rules, updates\n",
    "\n",
    "def middle_value(l):\n",
    "    return l[len(l) // 2]\n",
    "\n",
    "def valid_update(rules, update):\n",
    "    return all(\n",
    "        y in rules[x]\n",
    "        for x, y in zip(update, update[1:])\n",
    "    )\n",
    "\n",
    "def part_1(data):\n",
    "    rules, updates = data\n",
    "    return sum(\n",
    "        middle_value(update)\n",
    "        for update in updates\n",
    "        if valid_update(rules, update)\n",
    "    )\n",
    "\n",
    "test_data = read_data(\"\"\"47|53\n",
    "97|13\n",
    "97|61\n",
    "97|47\n",
    "75|29\n",
    "61|13\n",
    "75|53\n",
    "29|13\n",
    "97|29\n",
    "53|29\n",
    "61|53\n",
    "97|53\n",
    "61|29\n",
    "47|13\n",
    "75|47\n",
    "97|75\n",
    "47|61\n",
    "75|61\n",
    "47|29\n",
    "75|13\n",
    "53|13\n",
    "\n",
    "75,47,61,53,29\n",
    "97,61,53,29,13\n",
    "75,29,13\n",
    "75,97,47,61,53\n",
    "61,13,29\n",
    "97,13,75,29,47\"\"\")\n",
    "\n",
    "assert part_1(test_data) == 143"
   ]
  },
  {
   "cell_type": "code",
   "execution_count": 4,
   "id": "fb76f59e-4fa5-4a4f-9de8-daeb18a80cf7",
   "metadata": {},
   "outputs": [
    {
     "data": {
      "text/plain": [
       "6951"
      ]
     },
     "execution_count": 4,
     "metadata": {},
     "output_type": "execute_result"
    }
   ],
   "source": [
    "data = read_data(open(\"input\").read())\n",
    "\n",
    "part_1(data)"
   ]
  },
  {
   "cell_type": "markdown",
   "id": "7e909e55-a41d-478c-9990-b75768284858",
   "metadata": {},
   "source": [
    "## Part 2\n",
    "Recursively find the first page of the remaining update."
   ]
  },
  {
   "cell_type": "code",
   "execution_count": 12,
   "id": "4000f538-293b-49f3-9b92-7760e01d72b4",
   "metadata": {},
   "outputs": [],
   "source": [
    "def correct_order(rules, update):\n",
    "    if len(update) == 1:\n",
    "        return update\n",
    "        \n",
    "    first = next(\n",
    "        p \n",
    "        for p in update \n",
    "        if not any(p in rules[x] for x in update)\n",
    "    )\n",
    "    remaining = update[:]\n",
    "    remaining.remove(first)\n",
    "    return [first] + correct_order(rules, remaining)\n",
    "\n",
    "def part_2(data):\n",
    "    rules, updates = data\n",
    "\n",
    "    return sum(\n",
    "        middle_value(correct_order(rules, update))\n",
    "        for update in updates\n",
    "        if not valid_update(rules, update)\n",
    "    )\n",
    "\n",
    "assert part_2(test_data) == 123"
   ]
  },
  {
   "cell_type": "code",
   "execution_count": 13,
   "id": "0b9a7894-4843-4ba8-a913-07e8ce29debf",
   "metadata": {},
   "outputs": [
    {
     "data": {
      "text/plain": [
       "4121"
      ]
     },
     "execution_count": 13,
     "metadata": {},
     "output_type": "execute_result"
    }
   ],
   "source": [
    "part_2(data)"
   ]
  },
  {
   "cell_type": "code",
   "execution_count": null,
   "id": "d864a054-a9e6-4e14-b285-fd9e25f42a72",
   "metadata": {},
   "outputs": [],
   "source": []
  }
 ],
 "metadata": {
  "kernelspec": {
   "display_name": "Python 3 (ipykernel)",
   "language": "python",
   "name": "python3"
  },
  "language_info": {
   "codemirror_mode": {
    "name": "ipython",
    "version": 3
   },
   "file_extension": ".py",
   "mimetype": "text/x-python",
   "name": "python",
   "nbconvert_exporter": "python",
   "pygments_lexer": "ipython3",
   "version": "3.13.0"
  }
 },
 "nbformat": 4,
 "nbformat_minor": 5
}
