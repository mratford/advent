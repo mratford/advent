{
 "cells": [
  {
   "cell_type": "markdown",
   "id": "a349f535",
   "metadata": {},
   "source": [
    "# Day 16\n",
    "## Part 1\n",
    "Use Dijkstra."
   ]
  },
  {
   "cell_type": "code",
   "execution_count": 49,
   "id": "04280960-9b8b-418c-8d59-306ddcec9dca",
   "metadata": {},
   "outputs": [
    {
     "data": {
      "text/plain": [
       "7036"
      ]
     },
     "execution_count": 49,
     "metadata": {},
     "output_type": "execute_result"
    }
   ],
   "source": [
    "from dataclasses import dataclass\n",
    "import heapq\n",
    "\n",
    "@dataclass(eq=True, frozen=True)\n",
    "class Point:\n",
    "    x: int\n",
    "    y: int\n",
    "\n",
    "    def __add__(self, other):\n",
    "        return self.__class__(self.x + other.x, self.y + other.y)\n",
    "\n",
    "    def __sub__(self, other):\n",
    "        return self.__class__(self.x - other.x, self.y - other.y)\n",
    "\n",
    "    def __neg__(self):\n",
    "        return self.__class__(-self.x, -self.y)\n",
    "\n",
    "    def __lt__(self, other):\n",
    "        if self.x < other.x:\n",
    "            return True\n",
    "        elif self.x > other.x:\n",
    "            return False\n",
    "        else:\n",
    "            return self.y < other.y\n",
    "\n",
    "    def __iter__(self):\n",
    "        yield self.x\n",
    "        yield self.y\n",
    "\n",
    "    def __mod__(self, other):\n",
    "        if isinstance(other, Point):\n",
    "            return self.__class__(self.x % other.x, self.y % other.y)\n",
    "        else:\n",
    "            return self.__class__(self.x % other, self.y % other)\n",
    "        \n",
    "    def __mul__(self, multiple):\n",
    "        return self.__class__(self.x * multiple, self.y * multiple)\n",
    "\n",
    "N = Point(0, 1)\n",
    "S = Point(0, -1)\n",
    "W = Point(-1, 0)\n",
    "E = Point(1, 0)\n",
    "\n",
    "DIRECTIONS = {N, E, S, W}\n",
    "\n",
    "def parse_data(s):\n",
    "    grid = {}\n",
    "    lines = s.strip().splitlines()\n",
    "    for y, line in zip(range(len(lines) - 1, -1, -1), lines):\n",
    "        for x, c in enumerate(line):\n",
    "            if c != \"#\":\n",
    "                grid[Point(x, y)] = c\n",
    "    return grid\n",
    "\n",
    "def part_1(grid):\n",
    "    starting_point = next(p for p in grid if grid[p] == \"S\")\n",
    "    end_point = next(p for p in grid if grid[p] == \"E\")\n",
    "    q = []\n",
    "    seen = set()\n",
    "    seen.add((starting_point, E))\n",
    "    heapq.heappush(q, (0, starting_point, E))\n",
    "\n",
    "    while q:\n",
    "        score, p, current_d = heapq.heappop(q)\n",
    "        seen.add((p, current_d))\n",
    "\n",
    "        if p == end_point:\n",
    "            return score\n",
    "\n",
    "        for d in DIRECTIONS - {-current_d}:\n",
    "            next_point = p + d\n",
    "            if next_point in grid and (next_point, d) not in seen:\n",
    "                new_score = score + (1 if d == current_d else 1001)\n",
    "                heapq.heappush(\n",
    "                    q, \n",
    "                    (new_score, next_point, d)\n",
    "                )\n",
    "\n",
    "test_data_1 = parse_data(\"\"\"###############\n",
    "#.......#....E#\n",
    "#.#.###.#.###.#\n",
    "#.....#.#...#.#\n",
    "#.###.#####.#.#\n",
    "#.#.#.......#.#\n",
    "#.#.#####.###.#\n",
    "#...........#.#\n",
    "###.#.#####.#.#\n",
    "#...#.....#.#.#\n",
    "#.#.#.###.#.#.#\n",
    "#.....#...#.#.#\n",
    "#.###.#.#.#.#.#\n",
    "#S..#.....#...#\n",
    "###############\"\"\")\n",
    "part_1(test_data_1)"
   ]
  },
  {
   "cell_type": "code",
   "execution_count": 50,
   "id": "b742291b-bdf6-4c2c-985c-2e2625858a44",
   "metadata": {},
   "outputs": [
    {
     "data": {
      "text/plain": [
       "11048"
      ]
     },
     "execution_count": 50,
     "metadata": {},
     "output_type": "execute_result"
    }
   ],
   "source": [
    "test_data_2 = parse_data(\"\"\"#################\n",
    "#...#...#...#..E#\n",
    "#.#.#.#.#.#.#.#.#\n",
    "#.#.#.#...#...#.#\n",
    "#.#.#.#.###.#.#.#\n",
    "#...#.#.#.....#.#\n",
    "#.#.#.#.#.#####.#\n",
    "#.#...#.#.#.....#\n",
    "#.#.#####.#.###.#\n",
    "#.#.#.......#...#\n",
    "#.#.###.#####.###\n",
    "#.#.#...#.....#.#\n",
    "#.#.#.#####.###.#\n",
    "#.#.#.........#.#\n",
    "#.#.#.#########.#\n",
    "#S#.............#\n",
    "#################\"\"\")\n",
    "part_1(test_data_2)"
   ]
  },
  {
   "cell_type": "code",
   "execution_count": 51,
   "id": "f2ae07fb-0a2a-4f50-a00d-d319cbfd6043",
   "metadata": {},
   "outputs": [
    {
     "name": "stdout",
     "output_type": "stream",
     "text": [
      "CPU times: user 556 ms, sys: 36 μs, total: 556 ms\n",
      "Wall time: 555 ms\n"
     ]
    },
    {
     "data": {
      "text/plain": [
       "88468"
      ]
     },
     "execution_count": 51,
     "metadata": {},
     "output_type": "execute_result"
    }
   ],
   "source": [
    "%%time\n",
    "\n",
    "data = parse_data(open(\"input\").read())\n",
    "part_1(data)"
   ]
  },
  {
   "cell_type": "markdown",
   "id": "f5537d7c-f306-4633-acf7-a8ea85219381",
   "metadata": {},
   "source": [
    "## Part 2\n",
    "\n",
    "Keep track of visited nodes, returning each path when the destination is found. When the path cost becomes higher than the best cost stop iterating."
   ]
  },
  {
   "cell_type": "code",
   "execution_count": 53,
   "id": "53ee42e2-c621-478c-8edc-723c50c6cb90",
   "metadata": {},
   "outputs": [
    {
     "data": {
      "text/plain": [
       "45"
      ]
     },
     "execution_count": 53,
     "metadata": {},
     "output_type": "execute_result"
    }
   ],
   "source": [
    "def best_paths(grid):\n",
    "    starting_point = next(p for p in grid if grid[p] == \"S\")\n",
    "    end_point = next(p for p in grid if grid[p] == \"E\")\n",
    "    q = []\n",
    "    seen = set()\n",
    "    seen.add((starting_point, E))\n",
    "    heapq.heappush(q, (0, starting_point, E, frozenset({starting_point})))\n",
    "    best_score = None\n",
    "\n",
    "    while q:\n",
    "        score, p, current_d, path = heapq.heappop(q)\n",
    "        seen.add((p, current_d))\n",
    "\n",
    "        if p == end_point:\n",
    "            if best_score is None:\n",
    "                best_score = score\n",
    "            if score == best_score:\n",
    "                yield path\n",
    "            else:\n",
    "                break\n",
    "\n",
    "        for d in DIRECTIONS - {-current_d}:\n",
    "            next_point = p + d\n",
    "            if next_point in grid and (next_point, d) not in seen:\n",
    "                new_score = score + (1 if d == current_d else 1001)\n",
    "                heapq.heappush(\n",
    "                    q, \n",
    "                    (\n",
    "                        new_score, \n",
    "                        next_point, \n",
    "                        d, \n",
    "                        path | frozenset({next_point})\n",
    "                    )\n",
    "                )\n",
    "\n",
    "def part_2(data):\n",
    "    return len(frozenset.union(*best_paths(data)))\n",
    "\n",
    "part_2(test_data_1)"
   ]
  },
  {
   "cell_type": "code",
   "execution_count": 54,
   "id": "2044cd6b-9cde-447e-9415-df7b94bc0dc6",
   "metadata": {},
   "outputs": [
    {
     "data": {
      "text/plain": [
       "64"
      ]
     },
     "execution_count": 54,
     "metadata": {},
     "output_type": "execute_result"
    }
   ],
   "source": [
    "part_2(test_data_2)"
   ]
  },
  {
   "cell_type": "code",
   "execution_count": 55,
   "id": "0668795c-fa28-42d1-989a-2aee291e8777",
   "metadata": {},
   "outputs": [
    {
     "data": {
      "text/plain": [
       "616"
      ]
     },
     "execution_count": 55,
     "metadata": {},
     "output_type": "execute_result"
    }
   ],
   "source": [
    "part_2(data)"
   ]
  },
  {
   "cell_type": "code",
   "execution_count": null,
   "id": "aa5a0fbd-8e86-4c43-9021-58b7b214e997",
   "metadata": {},
   "outputs": [],
   "source": []
  }
 ],
 "metadata": {
  "kernelspec": {
   "display_name": "Python 3 (ipykernel)",
   "language": "python",
   "name": "python3"
  },
  "language_info": {
   "codemirror_mode": {
    "name": "ipython",
    "version": 3
   },
   "file_extension": ".py",
   "mimetype": "text/x-python",
   "name": "python",
   "nbconvert_exporter": "python",
   "pygments_lexer": "ipython3",
   "version": "3.12.6"
  }
 },
 "nbformat": 4,
 "nbformat_minor": 5
}
