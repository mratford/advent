{
 "cells": [
  {
   "cell_type": "markdown",
   "id": "a349f535",
   "metadata": {},
   "source": [
    "# Day 16\n",
    "## Part 1\n"
   ]
  },
  {
   "cell_type": "code",
   "execution_count": null,
   "id": "13811fb7",
   "metadata": {},
   "outputs": [],
   "source": []
  }
 ],
 "metadata": {},
 "nbformat": 4,
 "nbformat_minor": 5
}
