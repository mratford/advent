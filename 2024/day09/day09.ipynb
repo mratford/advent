{
 "cells": [
  {
   "cell_type": "markdown",
   "id": "205037da",
   "metadata": {},
   "source": [
    "# Day 9\n",
    "## Part 1\n"
   ]
  },
  {
   "cell_type": "code",
   "execution_count": 12,
   "id": "a9f25169",
   "metadata": {},
   "outputs": [
    {
     "name": "stdout",
     "output_type": "stream",
     "text": [
      "[0, 0, None, None, None, 1, 1, 1, None, None, None, 2, None, None, None, 3, 3, 3, None, 4, 4, None, 5, 5, 5, 5, None, 6, 6, 6, 6, None, 7, 7, 7, None, 8, 8, 8, 8, 9, 9]\n"
     ]
    }
   ],
   "source": [
    "import itertools\n",
    "\n",
    "def parse_data(s):\n",
    "    return [int(c) for c in s.strip()]\n",
    "\n",
    "def uncompress(data):\n",
    "    filesystem = []\n",
    "    for file_id, file_size, free_space in zip(\n",
    "        itertools.count(),\n",
    "        data[::2],\n",
    "        # The last file has no free space after it\n",
    "        data[1::2] + [0]\n",
    "    ):\n",
    "        filesystem.extend([file_id] * file_size)\n",
    "        filesystem.extend([None] * free_space)\n",
    "    return filesystem\n",
    "\n",
    "test_data = parse_data(\"2333133121414131402\")\n",
    "print(uncompress(test_data))"
   ]
  },
  {
   "cell_type": "code",
   "execution_count": 16,
   "id": "b9113923-9a11-40ce-8b8f-fcc3808e4ef1",
   "metadata": {},
   "outputs": [
    {
     "name": "stdout",
     "output_type": "stream",
     "text": [
      "[0, 0, 9, 9, 8, 1, 1, 1, 8, 8, 8, 2, 7, 7, 7, 3, 3, 3, 6, 4, 4, 6, 5, 5, 5, 5, 6, 6, None, None, None, None, None, None, None, None, None, None, None, None, None, None]\n"
     ]
    }
   ],
   "source": [
    "def compress(filesystem):\n",
    "    fs = filesystem.copy()\n",
    "    i = 0\n",
    "    j = len(fs) - 1\n",
    "    while True:\n",
    "        while fs[i] is not None:\n",
    "            i += 1\n",
    "        while fs[j] is None:\n",
    "            j -= 1\n",
    "        if i >= j:\n",
    "            return fs\n",
    "        fs[i] = fs[j]\n",
    "        fs[j] = None\n",
    "\n",
    "print(compress(uncompress(test_data)))"
   ]
  },
  {
   "cell_type": "code",
   "execution_count": 19,
   "id": "e0a4eeeb-d220-43e6-bebe-f1ea845540d3",
   "metadata": {},
   "outputs": [],
   "source": [
    "def part_1(data):\n",
    "    return sum(\n",
    "        i * x\n",
    "        for i, x in enumerate(\n",
    "            y \n",
    "            for y in compress(uncompress(data))\n",
    "            if y is not None)\n",
    "    )\n",
    "\n",
    "assert part_1(test_data) == 1928"
   ]
  },
  {
   "cell_type": "code",
   "execution_count": 20,
   "id": "f692ce31-22c8-40de-bfdb-7fad50895715",
   "metadata": {},
   "outputs": [
    {
     "data": {
      "text/plain": [
       "6367087064415"
      ]
     },
     "execution_count": 20,
     "metadata": {},
     "output_type": "execute_result"
    }
   ],
   "source": [
    "data = parse_data(open(\"input\").read())\n",
    "part_1(data)"
   ]
  },
  {
   "cell_type": "markdown",
   "id": "74be8fc9-8446-4338-8c3c-b0bf9246f9af",
   "metadata": {},
   "source": [
    "## Part 2"
   ]
  },
  {
   "cell_type": "code",
   "execution_count": 21,
   "id": "41965114-e184-44b6-9c9d-05124329d968",
   "metadata": {},
   "outputs": [
    {
     "data": {
      "text/plain": [
       "[Block(id=0, position=0, size=2),\n",
       " Block(id=None, position=2, size=3),\n",
       " Block(id=1, position=5, size=3),\n",
       " Block(id=None, position=8, size=3),\n",
       " Block(id=2, position=11, size=1),\n",
       " Block(id=None, position=12, size=3),\n",
       " Block(id=3, position=15, size=3),\n",
       " Block(id=None, position=18, size=1),\n",
       " Block(id=4, position=19, size=2),\n",
       " Block(id=None, position=21, size=1),\n",
       " Block(id=5, position=22, size=4),\n",
       " Block(id=None, position=26, size=1),\n",
       " Block(id=6, position=27, size=4),\n",
       " Block(id=None, position=31, size=1),\n",
       " Block(id=7, position=32, size=3),\n",
       " Block(id=None, position=35, size=1),\n",
       " Block(id=8, position=36, size=4),\n",
       " Block(id=None, position=40, size=0),\n",
       " Block(id=9, position=40, size=2),\n",
       " Block(id=None, position=42, size=0)]"
      ]
     },
     "execution_count": 21,
     "metadata": {},
     "output_type": "execute_result"
    }
   ],
   "source": [
    "from collections import namedtuple\n",
    "\n",
    "Block = namedtuple(\"Block\", \"id position size\")\n",
    "\n",
    "def blocks(data):\n",
    "    i = 0\n",
    "    filesystem = []\n",
    "    for file_id, file_size, free_space in zip(\n",
    "        itertools.count(),\n",
    "        data[::2],\n",
    "        # The last file has no free space after it\n",
    "        data[1::2] + [0]\n",
    "    ):\n",
    "        filesystem.append(Block(file_id, i, file_size))\n",
    "        i += file_size\n",
    "        filesystem.append(Block(None, i, free_space))\n",
    "        i += free_space\n",
    "    return filesystem\n",
    "\n",
    "blocks(test_data)"
   ]
  },
  {
   "cell_type": "code",
   "execution_count": null,
   "id": "bd78c9be-5433-4a2b-ad4b-08f75aee6f47",
   "metadata": {},
   "outputs": [],
   "source": []
  }
 ],
 "metadata": {
  "kernelspec": {
   "display_name": "Python 3 (ipykernel)",
   "language": "python",
   "name": "python3"
  },
  "language_info": {
   "codemirror_mode": {
    "name": "ipython",
    "version": 3
   },
   "file_extension": ".py",
   "mimetype": "text/x-python",
   "name": "python",
   "nbconvert_exporter": "python",
   "pygments_lexer": "ipython3",
   "version": "3.13.0"
  }
 },
 "nbformat": 4,
 "nbformat_minor": 5
}
