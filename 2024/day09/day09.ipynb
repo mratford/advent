{
 "cells": [
  {
   "cell_type": "markdown",
   "id": "205037da",
   "metadata": {},
   "source": [
    "# Day 9\n",
    "## Part 1\n"
   ]
  },
  {
   "cell_type": "code",
   "execution_count": 1,
   "id": "a9f25169",
   "metadata": {},
   "outputs": [
    {
     "name": "stdout",
     "output_type": "stream",
     "text": [
      "[0, 0, None, None, None, 1, 1, 1, None, None, None, 2, None, None, None, 3, 3, 3, None, 4, 4, None, 5, 5, 5, 5, None, 6, 6, 6, 6, None, 7, 7, 7, None, 8, 8, 8, 8, 9, 9]\n"
     ]
    }
   ],
   "source": [
    "import itertools\n",
    "\n",
    "def parse_data(s):\n",
    "    return [int(c) for c in s.strip()]\n",
    "\n",
    "def uncompress(data):\n",
    "    filesystem = []\n",
    "    for file_id, file_size, free_space in zip(\n",
    "        itertools.count(),\n",
    "        data[::2],\n",
    "        # The last file has no free space after it\n",
    "        data[1::2] + [0]\n",
    "    ):\n",
    "        filesystem.extend([file_id] * file_size)\n",
    "        filesystem.extend([None] * free_space)\n",
    "    return filesystem\n",
    "\n",
    "test_data = parse_data(\"2333133121414131402\")\n",
    "print(uncompress(test_data))"
   ]
  },
  {
   "cell_type": "code",
   "execution_count": 2,
   "id": "b9113923-9a11-40ce-8b8f-fcc3808e4ef1",
   "metadata": {},
   "outputs": [
    {
     "name": "stdout",
     "output_type": "stream",
     "text": [
      "[0, 0, 9, 9, 8, 1, 1, 1, 8, 8, 8, 2, 7, 7, 7, 3, 3, 3, 6, 4, 4, 6, 5, 5, 5, 5, 6, 6, None, None, None, None, None, None, None, None, None, None, None, None, None, None]\n"
     ]
    }
   ],
   "source": [
    "def compress(filesystem):\n",
    "    fs = filesystem.copy()\n",
    "    i = 0\n",
    "    j = len(fs) - 1\n",
    "    while True:\n",
    "        while fs[i] is not None:\n",
    "            i += 1\n",
    "        while fs[j] is None:\n",
    "            j -= 1\n",
    "        if i >= j:\n",
    "            return fs\n",
    "        fs[i] = fs[j]\n",
    "        fs[j] = None\n",
    "\n",
    "print(compress(uncompress(test_data)))"
   ]
  },
  {
   "cell_type": "code",
   "execution_count": 3,
   "id": "e0a4eeeb-d220-43e6-bebe-f1ea845540d3",
   "metadata": {},
   "outputs": [],
   "source": [
    "def part_1(data):\n",
    "    return sum(\n",
    "        i * x\n",
    "        for i, x in enumerate(\n",
    "            y \n",
    "            for y in compress(uncompress(data))\n",
    "            if y is not None)\n",
    "    )\n",
    "\n",
    "assert part_1(test_data) == 1928"
   ]
  },
  {
   "cell_type": "code",
   "execution_count": 5,
   "id": "f692ce31-22c8-40de-bfdb-7fad50895715",
   "metadata": {},
   "outputs": [
    {
     "data": {
      "text/plain": [
       "6367087064415"
      ]
     },
     "execution_count": 5,
     "metadata": {},
     "output_type": "execute_result"
    }
   ],
   "source": [
    "data = parse_data(open(\"input\").read())\n",
    "part_1(data)"
   ]
  },
  {
   "cell_type": "markdown",
   "id": "74be8fc9-8446-4338-8c3c-b0bf9246f9af",
   "metadata": {},
   "source": [
    "## Part 2\n",
    "\n",
    "This is fiddly.|"
   ]
  },
  {
   "cell_type": "code",
   "execution_count": 14,
   "id": "41965114-e184-44b6-9c9d-05124329d968",
   "metadata": {},
   "outputs": [
    {
     "data": {
      "text/plain": [
       "({0: Block(position=0, size=2),\n",
       "  1: Block(position=5, size=3),\n",
       "  2: Block(position=11, size=1),\n",
       "  3: Block(position=15, size=3),\n",
       "  4: Block(position=19, size=2),\n",
       "  5: Block(position=22, size=4),\n",
       "  6: Block(position=27, size=4),\n",
       "  7: Block(position=32, size=3),\n",
       "  8: Block(position=36, size=4),\n",
       "  9: Block(position=40, size=2)},\n",
       " [Block(position=2, size=3),\n",
       "  Block(position=8, size=3),\n",
       "  Block(position=12, size=3),\n",
       "  Block(position=18, size=1),\n",
       "  Block(position=21, size=1),\n",
       "  Block(position=26, size=1),\n",
       "  Block(position=31, size=1),\n",
       "  Block(position=35, size=1),\n",
       "  Block(position=40, size=0),\n",
       "  Block(position=42, size=0)])"
      ]
     },
     "execution_count": 14,
     "metadata": {},
     "output_type": "execute_result"
    }
   ],
   "source": [
    "from dataclasses import dataclass\n",
    "\n",
    "@dataclass\n",
    "class Block:\n",
    "    position: int\n",
    "    size: int\n",
    "\n",
    "def blocks(data):\n",
    "    i = 0\n",
    "    filesystem = {}\n",
    "    freespace = []\n",
    "    for file_id, file_size, free_space in zip(\n",
    "        itertools.count(),\n",
    "        data[::2],\n",
    "        # The last file has no free space after it\n",
    "        data[1::2] + [0]\n",
    "    ):\n",
    "        filesystem[file_id] = Block(i, file_size)\n",
    "        i += file_size\n",
    "        freespace.append(Block(i, free_space))\n",
    "        i += free_space\n",
    "    return filesystem, freespace\n",
    "\n",
    "blocks(test_data)"
   ]
  },
  {
   "cell_type": "code",
   "execution_count": 24,
   "id": "bd78c9be-5433-4a2b-ad4b-08f75aee6f47",
   "metadata": {},
   "outputs": [
    {
     "data": {
      "text/plain": [
       "{0: Block(position=0, size=2),\n",
       " 1: Block(position=5, size=3),\n",
       " 2: Block(position=4, size=1),\n",
       " 3: Block(position=15, size=3),\n",
       " 4: Block(position=12, size=2),\n",
       " 5: Block(position=22, size=4),\n",
       " 6: Block(position=27, size=4),\n",
       " 7: Block(position=8, size=3),\n",
       " 8: Block(position=36, size=4),\n",
       " 9: Block(position=2, size=2)}"
      ]
     },
     "execution_count": 24,
     "metadata": {},
     "output_type": "execute_result"
    }
   ],
   "source": [
    "from collections import deque\n",
    "\n",
    "def compress_blocks(filesystem, freespace):\n",
    "    fs = filesystem.copy()\n",
    "    sp = freespace.copy()\n",
    "    for f in reversed(fs):\n",
    "        i = 0\n",
    "        moved = False\n",
    "        while not moved and i < len(sp) and sp[i].position < fs[f].position:\n",
    "            if sp[i].size >= fs[f].size:\n",
    "                sp[i].size -= fs[f].size\n",
    "                fs[f].position = sp[i].position\n",
    "                sp[i].position += fs[f].size\n",
    "                moved = True\n",
    "            else:\n",
    "                i += 1\n",
    "    return fs    \n",
    "\n",
    "compress_blocks(*blocks(test_data))"
   ]
  },
  {
   "cell_type": "code",
   "execution_count": 26,
   "id": "6bc67513-19a6-4142-9944-20db95d3ab78",
   "metadata": {},
   "outputs": [],
   "source": [
    "def checksum_block(file_id, block):\n",
    "    return sum(\n",
    "        file_id * (block.position + i)\n",
    "        for i in range(block.size)\n",
    "    )\n",
    "\n",
    "def part_2(data):\n",
    "    compressed = compress_blocks(*blocks(data))\n",
    "    return sum(\n",
    "        checksum_block(x, compressed[x])\n",
    "        for x in compressed\n",
    "    )\n",
    "\n",
    "assert part_2(test_data) == 2858"
   ]
  },
  {
   "cell_type": "code",
   "execution_count": 27,
   "id": "1a0cc1b1-71a3-4f59-bd88-ed1caa173487",
   "metadata": {},
   "outputs": [
    {
     "data": {
      "text/plain": [
       "6390781891880"
      ]
     },
     "execution_count": 27,
     "metadata": {},
     "output_type": "execute_result"
    }
   ],
   "source": [
    "part_2(data)"
   ]
  },
  {
   "cell_type": "code",
   "execution_count": null,
   "id": "d533b1a1-fb96-4276-8c13-8e5987ef83ed",
   "metadata": {},
   "outputs": [],
   "source": []
  }
 ],
 "metadata": {
  "kernelspec": {
   "display_name": "Python 3 (ipykernel)",
   "language": "python",
   "name": "python3"
  },
  "language_info": {
   "codemirror_mode": {
    "name": "ipython",
    "version": 3
   },
   "file_extension": ".py",
   "mimetype": "text/x-python",
   "name": "python",
   "nbconvert_exporter": "python",
   "pygments_lexer": "ipython3",
   "version": "3.12.7"
  }
 },
 "nbformat": 4,
 "nbformat_minor": 5
}
