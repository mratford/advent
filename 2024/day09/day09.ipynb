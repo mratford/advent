{
 "cells": [
  {
   "cell_type": "markdown",
   "id": "205037da",
   "metadata": {},
   "source": [
    "# Day 9\n",
    "## Part 1\n"
   ]
  },
  {
   "cell_type": "code",
   "execution_count": 12,
   "id": "a9f25169",
   "metadata": {},
   "outputs": [
    {
     "name": "stdout",
     "output_type": "stream",
     "text": [
      "[0, 0, None, None, None, 1, 1, 1, None, None, None, 2, None, None, None, 3, 3, 3, None, 4, 4, None, 5, 5, 5, 5, None, 6, 6, 6, 6, None, 7, 7, 7, None, 8, 8, 8, 8, 9, 9]\n"
     ]
    }
   ],
   "source": [
    "import itertools\n",
    "\n",
    "def parse_data(s):\n",
    "    return [int(c) for c in s.strip()]\n",
    "\n",
    "def uncompress(data):\n",
    "    filesystem = []\n",
    "    for file_id, file_size, free_space in zip(\n",
    "        itertools.count(),\n",
    "        data[::2],\n",
    "        # The last file has no free space after it\n",
    "        data[1::2] + [0]\n",
    "    ):\n",
    "        filesystem.extend([file_id] * file_size)\n",
    "        filesystem.extend([None] * free_space)\n",
    "    return filesystem\n",
    "\n",
    "test_data = parse_data(\"2333133121414131402\")\n",
    "print(uncompress(test_data))"
   ]
  },
  {
   "cell_type": "code",
   "execution_count": 16,
   "id": "b9113923-9a11-40ce-8b8f-fcc3808e4ef1",
   "metadata": {},
   "outputs": [
    {
     "name": "stdout",
     "output_type": "stream",
     "text": [
      "[0, 0, 9, 9, 8, 1, 1, 1, 8, 8, 8, 2, 7, 7, 7, 3, 3, 3, 6, 4, 4, 6, 5, 5, 5, 5, 6, 6, None, None, None, None, None, None, None, None, None, None, None, None, None, None]\n"
     ]
    }
   ],
   "source": [
    "def compress(filesystem):\n",
    "    fs = filesystem.copy()\n",
    "    i = 0\n",
    "    j = len(fs) - 1\n",
    "    while True:\n",
    "        while fs[i] is not None:\n",
    "            i += 1\n",
    "        while fs[j] is None:\n",
    "            j -= 1\n",
    "        if i >= j:\n",
    "            return fs\n",
    "        fs[i] = fs[j]\n",
    "        fs[j] = None\n",
    "\n",
    "print(compress(uncompress(test_data)))"
   ]
  },
  {
   "cell_type": "code",
   "execution_count": 19,
   "id": "e0a4eeeb-d220-43e6-bebe-f1ea845540d3",
   "metadata": {},
   "outputs": [],
   "source": [
    "def part_1(data):\n",
    "    return sum(\n",
    "        i * x\n",
    "        for i, x in enumerate(\n",
    "            y \n",
    "            for y in compress(uncompress(data))\n",
    "            if y is not None)\n",
    "    )\n",
    "\n",
    "assert part_1(test_data) == 1928"
   ]
  },
  {
   "cell_type": "code",
   "execution_count": 20,
   "id": "f692ce31-22c8-40de-bfdb-7fad50895715",
   "metadata": {},
   "outputs": [
    {
     "data": {
      "text/plain": [
       "6367087064415"
      ]
     },
     "execution_count": 20,
     "metadata": {},
     "output_type": "execute_result"
    }
   ],
   "source": [
    "data = parse_data(open(\"input\").read())\n",
    "part_1(data)"
   ]
  },
  {
   "cell_type": "markdown",
   "id": "74be8fc9-8446-4338-8c3c-b0bf9246f9af",
   "metadata": {},
   "source": [
    "## Part 2\n",
    "\n",
    "I've read the question wrong."
   ]
  },
  {
   "cell_type": "code",
   "execution_count": 28,
   "id": "41965114-e184-44b6-9c9d-05124329d968",
   "metadata": {},
   "outputs": [
    {
     "data": {
      "text/plain": [
       "({0: Block(position=0, size=2),\n",
       "  1: Block(position=5, size=3),\n",
       "  2: Block(position=11, size=1),\n",
       "  3: Block(position=15, size=3),\n",
       "  4: Block(position=19, size=2),\n",
       "  5: Block(position=22, size=4),\n",
       "  6: Block(position=27, size=4),\n",
       "  7: Block(position=32, size=3),\n",
       "  8: Block(position=36, size=4),\n",
       "  9: Block(position=40, size=2)},\n",
       " [Block(position=2, size=3),\n",
       "  Block(position=8, size=3),\n",
       "  Block(position=12, size=3),\n",
       "  Block(position=18, size=1),\n",
       "  Block(position=21, size=1),\n",
       "  Block(position=26, size=1),\n",
       "  Block(position=31, size=1),\n",
       "  Block(position=35, size=1),\n",
       "  Block(position=40, size=0),\n",
       "  Block(position=42, size=0)])"
      ]
     },
     "execution_count": 28,
     "metadata": {},
     "output_type": "execute_result"
    }
   ],
   "source": [
    "from collections import namedtuple\n",
    "\n",
    "Block = namedtuple(\"Block\", \"position size\")\n",
    "\n",
    "def blocks(data):\n",
    "    i = 0\n",
    "    filesystem = {}\n",
    "    freespace = []\n",
    "    for file_id, file_size, free_space in zip(\n",
    "        itertools.count(),\n",
    "        data[::2],\n",
    "        # The last file has no free space after it\n",
    "        data[1::2] + [0]\n",
    "    ):\n",
    "        filesystem[file_id] = Block(i, file_size)\n",
    "        i += file_size\n",
    "        freespace.append(Block(i, free_space))\n",
    "        i += free_space\n",
    "    return filesystem, freespace\n",
    "\n",
    "blocks(test_data)"
   ]
  },
  {
   "cell_type": "code",
   "execution_count": 26,
   "id": "bd78c9be-5433-4a2b-ad4b-08f75aee6f47",
   "metadata": {},
   "outputs": [
    {
     "ename": "_IncompleteInputError",
     "evalue": "incomplete input (2716796061.py, line 17)",
     "output_type": "error",
     "traceback": [
      "\u001b[0;36m  Cell \u001b[0;32mIn[26], line 17\u001b[0;36m\u001b[0m\n\u001b[0;31m    \u001b[0m\n\u001b[0m    ^\u001b[0m\n\u001b[0;31m_IncompleteInputError\u001b[0m\u001b[0;31m:\u001b[0m incomplete input\n"
     ]
    }
   ],
   "source": [
    "from collections import deque\n",
    "\n",
    "def compress_blocks(filesystem, freespace):\n",
    "    fs = filesystem.copy()\n",
    "    sp = deque(freespace)\n",
    "    while sp:\n",
    "        s = sp.popleft()\n",
    "        movables = [\n",
    "            x \n",
    "            for x in fs \n",
    "            if f[x].position > s.position\n",
    "            and f[x].size <= s.size\n",
    "        ]\n",
    "        if movables:\n",
    "            m = max(movables, key=lambda x: fs[x].position)\n",
    "            "
   ]
  },
  {
   "cell_type": "code",
   "execution_count": 29,
   "id": "6bc67513-19a6-4142-9944-20db95d3ab78",
   "metadata": {},
   "outputs": [
    {
     "data": {
      "text/plain": [
       "\u001b[0;31mDocstring:\u001b[0m\n",
       "max(iterable, *[, default=obj, key=func]) -> value\n",
       "max(arg1, arg2, *args, *[, key=func]) -> value\n",
       "\n",
       "With a single iterable argument, return its biggest item. The\n",
       "default keyword-only argument specifies an object to return if\n",
       "the provided iterable is empty.\n",
       "With two or more positional arguments, return the largest argument.\n",
       "\u001b[0;31mType:\u001b[0m      builtin_function_or_method"
      ]
     },
     "metadata": {},
     "output_type": "display_data"
    }
   ],
   "source": [
    "?max"
   ]
  },
  {
   "cell_type": "code",
   "execution_count": null,
   "id": "1a0cc1b1-71a3-4f59-bd88-ed1caa173487",
   "metadata": {},
   "outputs": [],
   "source": []
  }
 ],
 "metadata": {
  "kernelspec": {
   "display_name": "Python 3 (ipykernel)",
   "language": "python",
   "name": "python3"
  },
  "language_info": {
   "codemirror_mode": {
    "name": "ipython",
    "version": 3
   },
   "file_extension": ".py",
   "mimetype": "text/x-python",
   "name": "python",
   "nbconvert_exporter": "python",
   "pygments_lexer": "ipython3",
   "version": "3.13.0"
  }
 },
 "nbformat": 4,
 "nbformat_minor": 5
}
