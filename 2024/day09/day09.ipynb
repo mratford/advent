{
 "cells": [
  {
   "cell_type": "markdown",
   "id": "205037da",
   "metadata": {},
   "source": [
    "# Day 9\n",
    "## Part 1\n"
   ]
  },
  {
   "cell_type": "code",
   "execution_count": null,
   "id": "a9f25169",
   "metadata": {},
   "outputs": [],
   "source": []
  }
 ],
 "metadata": {},
 "nbformat": 4,
 "nbformat_minor": 5
}
