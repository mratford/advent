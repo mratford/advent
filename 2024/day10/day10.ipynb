{
 "cells": [
  {
   "cell_type": "markdown",
   "id": "11dabec3",
   "metadata": {},
   "source": [
    "# Day 10\n",
    "## Part 1\n"
   ]
  },
  {
   "cell_type": "code",
   "execution_count": null,
   "id": "b0e4668e",
   "metadata": {},
   "outputs": [],
   "source": []
  }
 ],
 "metadata": {},
 "nbformat": 4,
 "nbformat_minor": 5
}
