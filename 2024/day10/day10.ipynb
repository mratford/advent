{
 "cells": [
  {
   "cell_type": "markdown",
   "id": "11dabec3",
   "metadata": {},
   "source": [
    "# Day 10\n",
    "## Part 1\n",
    "\n",
    "Use dynamic programming to calculate the score at each neighbour and combine.\n",
    "\n",
    "I misread the question thinking it was asking for the number of distinct trails - fortunately I kept the code as I suspected it might ask for that in part 2."
   ]
  },
  {
   "cell_type": "code",
   "execution_count": 17,
   "id": "b0e4668e",
   "metadata": {},
   "outputs": [],
   "source": [
    "from dataclasses import dataclass\n",
    "from functools import cache\n",
    "\n",
    "@dataclass(eq=True, frozen=True)\n",
    "class Point:\n",
    "    x: int\n",
    "    y: int\n",
    "\n",
    "    def __add__(self, other):\n",
    "        return self.__class__(self.x + other.x, self.y + other.y)\n",
    "\n",
    "    def __sub__(self, other):\n",
    "        return self.__class__(self.x - other.x, self.y - other.y)\n",
    "\n",
    "    def __neg__(self):\n",
    "        return self.__class__(-self.x, -self.y)\n",
    "\n",
    "    def __lt__(self, other):\n",
    "        if self.x < other.x:\n",
    "            return True\n",
    "        elif self.x > other.x:\n",
    "            return False\n",
    "        else:\n",
    "            return self.y < other.y\n",
    "\n",
    "    def __iter__(self):\n",
    "        yield self.x\n",
    "        yield self.y\n",
    "\n",
    "    def __mod__(self, other):\n",
    "        if isinstance(other, Point):\n",
    "            return self.__class__(self.x % other.x, self.y % other.y)\n",
    "        else:\n",
    "            return self.__class__(self.x % other, self.y % other)\n",
    "        \n",
    "    def __mul__(self, multiple):\n",
    "        return self.__class__(self.x * multiple, self.y * multiple)\n",
    "\n",
    "N = Point(0, 1)\n",
    "S = Point(0, -1)\n",
    "W = Point(-1, 0)\n",
    "E = Point(1, 0)\n",
    "\n",
    "DIRECTIONS = (N, E, S, W)\n",
    "\n",
    "def parse_grid(s, convert=lambda x: x, ignore=\"\"):\n",
    "    grid = {}\n",
    "    for y, line in enumerate(reversed(s.strip().splitlines())):\n",
    "        for x, c in enumerate(line):\n",
    "            if c not in ignore:\n",
    "                grid[Point(x, y)] = convert(c)\n",
    "    return grid\n",
    "\n",
    "def parse_data(s):\n",
    "    return parse_grid(s, convert=int, ignore=\".\")\n",
    "\n",
    "# def part_1(grid):\n",
    "#     @cache\n",
    "#     def score(p):\n",
    "#         if grid[p] == 9:\n",
    "#             return 1\n",
    "#         result = sum(\n",
    "#             score(nbr) \n",
    "#             for nbr in [p + d for d in DIRECTIONS]\n",
    "#             if nbr in grid and grid[nbr] == grid[p] + 1\n",
    "#         )\n",
    "#         print(p,grid[p],result)\n",
    "#         return result\n",
    "            \n",
    "\n",
    "#     return sum(\n",
    "#         score(p) \n",
    "#         for p in grid\n",
    "#         if grid[p] == 0\n",
    "#     )\n",
    "\n",
    "def part_1(grid):\n",
    "    @cache\n",
    "    def score(p):\n",
    "        if grid[p] == 9:\n",
    "            return {p}\n",
    "        result = set().union(*(\n",
    "            score(nbr) \n",
    "            for nbr in [p + d for d in DIRECTIONS]\n",
    "            if nbr in grid and grid[nbr] == grid[p] + 1\n",
    "        ))\n",
    "        return result\n",
    "            \n",
    "\n",
    "    return sum(\n",
    "        len(score(p))\n",
    "        for p in grid\n",
    "        if grid[p] == 0\n",
    "    )\n",
    "\n",
    "test_data_1 = parse_data(\"\"\"...0...\n",
    "...1...\n",
    "...2...\n",
    "6543456\n",
    "7.....7\n",
    "8.....8\n",
    "9.....9\"\"\")\n",
    "\n",
    "test_data = parse_data(\"\"\"89010123\n",
    "78121874\n",
    "87430965\n",
    "96549874\n",
    "45678903\n",
    "32019012\n",
    "01329801\n",
    "10456732\"\"\")\n",
    "\n",
    "assert part_1(test_data) == 36"
   ]
  },
  {
   "cell_type": "code",
   "execution_count": 18,
   "id": "e014e9df-6ec8-4c5b-987c-7151f0c0a5ed",
   "metadata": {},
   "outputs": [
    {
     "data": {
      "text/plain": [
       "550"
      ]
     },
     "execution_count": 18,
     "metadata": {},
     "output_type": "execute_result"
    }
   ],
   "source": [
    "data = parse_data(open(\"input\").read())\n",
    "part_1(data)"
   ]
  },
  {
   "cell_type": "markdown",
   "id": "b04c2c6a-790e-46d3-9439-01841b10e60a",
   "metadata": {},
   "source": [
    "## Part 2"
   ]
  },
  {
   "cell_type": "code",
   "execution_count": 20,
   "id": "1292d9d2-750b-462c-9905-fb544bbb25cf",
   "metadata": {},
   "outputs": [
    {
     "data": {
      "text/plain": [
       "1255"
      ]
     },
     "execution_count": 20,
     "metadata": {},
     "output_type": "execute_result"
    }
   ],
   "source": [
    "def part_2(grid):\n",
    "    @cache\n",
    "    def score(p):\n",
    "        if grid[p] == 9:\n",
    "            return 1\n",
    "        result = sum(\n",
    "            score(nbr) \n",
    "            for nbr in [p + d for d in DIRECTIONS]\n",
    "            if nbr in grid and grid[nbr] == grid[p] + 1\n",
    "        )\n",
    "        return result\n",
    "            \n",
    "\n",
    "    return sum(\n",
    "        score(p) \n",
    "        for p in grid\n",
    "        if grid[p] == 0\n",
    "    )\n",
    "\n",
    "part_2(data)"
   ]
  },
  {
   "cell_type": "code",
   "execution_count": null,
   "id": "0e1690f3-7a28-4c77-b3c1-57bfc796f701",
   "metadata": {},
   "outputs": [],
   "source": []
  }
 ],
 "metadata": {
  "kernelspec": {
   "display_name": "Python 3 (ipykernel)",
   "language": "python",
   "name": "python3"
  },
  "language_info": {
   "codemirror_mode": {
    "name": "ipython",
    "version": 3
   },
   "file_extension": ".py",
   "mimetype": "text/x-python",
   "name": "python",
   "nbconvert_exporter": "python",
   "pygments_lexer": "ipython3",
   "version": "3.13.0"
  }
 },
 "nbformat": 4,
 "nbformat_minor": 5
}
