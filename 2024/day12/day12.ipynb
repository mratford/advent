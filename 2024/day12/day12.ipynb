{
 "cells": [
  {
   "cell_type": "markdown",
   "id": "896442f0",
   "metadata": {},
   "source": [
    "# Day 12\n",
    "## Part 1\n"
   ]
  },
  {
   "cell_type": "code",
   "execution_count": 26,
   "id": "8f7b4977",
   "metadata": {},
   "outputs": [],
   "source": [
    "from dataclasses import dataclass\n",
    "from collections import defaultdict, namedtuple\n",
    "from functools import cached_property\n",
    "\n",
    "@dataclass(eq=True, frozen=True)\n",
    "class Point:\n",
    "    x: int\n",
    "    y: int\n",
    "\n",
    "    def __add__(self, other):\n",
    "        return self.__class__(self.x + other.x, self.y + other.y)\n",
    "\n",
    "    def __sub__(self, other):\n",
    "        return self.__class__(self.x - other.x, self.y - other.y)\n",
    "\n",
    "    def __neg__(self):\n",
    "        return self.__class__(-self.x, -self.y)\n",
    "\n",
    "    def __lt__(self, other):\n",
    "        if self.x < other.x:\n",
    "            return True\n",
    "        elif self.x > other.x:\n",
    "            return False\n",
    "        else:\n",
    "            return self.y < other.y\n",
    "\n",
    "    def __iter__(self):\n",
    "        yield self.x\n",
    "        yield self.y\n",
    "\n",
    "    def __mod__(self, other):\n",
    "        if isinstance(other, Point):\n",
    "            return self.__class__(self.x % other.x, self.y % other.y)\n",
    "        else:\n",
    "            return self.__class__(self.x % other, self.y % other)\n",
    "        \n",
    "    def __mul__(self, multiple):\n",
    "        return self.__class__(self.x * multiple, self.y * multiple)\n",
    "\n",
    "N = Point(0, 1)\n",
    "S = Point(0, -1)\n",
    "W = Point(-1, 0)\n",
    "E = Point(1, 0)\n",
    "\n",
    "DIRECTIONS = (N, E, S, W)\n",
    "\n",
    "FenceSection = namedtuple(\"FenceSection\", \"location direction\")\n",
    "\n",
    "@dataclass(frozen=True)\n",
    "class Region:\n",
    "    plant: str\n",
    "    area: frozenset\n",
    "\n",
    "    @cached_property\n",
    "    def perimeters(self):\n",
    "        result = set()\n",
    "        for p in self.area:\n",
    "            for d in DIRECTIONS:\n",
    "                if p + d not in self.area:\n",
    "                    result.add(FenceSection(p, d)) \n",
    "        return result\n",
    "\n",
    "    @cached_property\n",
    "    def price(self):\n",
    "        return len(self.perimeters) * len(self.area)\n",
    "\n",
    "    @cached_property\n",
    "    def fences(self):\n",
    "        result = set()\n",
    "        seen = set()\n",
    "        for p in self.perimeters:\n",
    "            if p not in seen:\n",
    "                fence = {p}\n",
    "                q = {p}\n",
    "                seen.add(p)\n",
    "                while q:\n",
    "                    x = q.pop()\n",
    "                    for nbr in self.perimeters - seen - fence:\n",
    "                        # A pair of perimeter sections are neighbouring parts of a fence\n",
    "                        # if the difference in location is 1 and they're facing in the\n",
    "                        # same direction\n",
    "                        if x.location - nbr.location in DIRECTIONS and x.direction == nbr.direction:\n",
    "                            fence.add(nbr)\n",
    "                            q.add(nbr)\n",
    "                            seen.add(nbr)\n",
    "                result.add(frozenset(fence))\n",
    "        return result\n",
    "\n",
    "    @cached_property\n",
    "    def price_2(self):\n",
    "        return len(self.fences) * len(self.area)\n",
    "    \n",
    "\n",
    "def parse_grid(s, convert=lambda x: x, ignore=\"\"):\n",
    "    grid = {}\n",
    "    for y, line in enumerate(reversed(s.strip().splitlines())):\n",
    "        for x, c in enumerate(line):\n",
    "            if c not in ignore:\n",
    "                grid[Point(x, y)] = convert(c)\n",
    "    return grid\n",
    "\n",
    "def parse_data(s):\n",
    "    g = defaultdict(set)\n",
    "    farm = parse_grid(s)\n",
    "    for p in farm:\n",
    "        for d in DIRECTIONS:\n",
    "            nbr = p + d\n",
    "            if farm.get(nbr, None) == farm[p]:\n",
    "                g[p].add(nbr)\n",
    "\n",
    "    seen = set()\n",
    "    result = []\n",
    "    for p in farm:\n",
    "        if p not in seen:\n",
    "            region = {p}\n",
    "            q = {p}\n",
    "            seen.add(p)\n",
    "            while q:\n",
    "                x = q.pop()\n",
    "                for d in DIRECTIONS:\n",
    "                    nbr = x + d\n",
    "                    if farm[p] == farm.get(nbr, None) and nbr not in region | q:\n",
    "                        region.add(nbr)\n",
    "                        q.add(nbr)\n",
    "                        seen.add(nbr)\n",
    "            result.append(Region(farm[p], frozenset(region)))\n",
    "    return result\n",
    "\n",
    "def part_1(data):\n",
    "    return sum(region.price for region in data)\n",
    "\n",
    "\n",
    "test_data = parse_data(\"\"\"RRRRIICCFF\n",
    "RRRRIICCCF\n",
    "VVRRRCCFFF\n",
    "VVRCCCJFFF\n",
    "VVVVCJJCFE\n",
    "VVIVCCJJEE\n",
    "VVIIICJJEE\n",
    "MIIIIIJJEE\n",
    "MIIISIJEEE\n",
    "MMMISSJEEE\"\"\")\n",
    "\n",
    "assert part_1(test_data) == 1930"
   ]
  },
  {
   "cell_type": "code",
   "execution_count": 27,
   "id": "344078e4-f1ca-40ab-8b73-cded7c96b9b7",
   "metadata": {},
   "outputs": [
    {
     "data": {
      "text/plain": [
       "1485656"
      ]
     },
     "execution_count": 27,
     "metadata": {},
     "output_type": "execute_result"
    }
   ],
   "source": [
    "data = parse_data(open(\"input\").read())\n",
    "part_1(data)"
   ]
  },
  {
   "cell_type": "markdown",
   "id": "abc39a77-c8e9-49bb-a868-b8b94a393fe8",
   "metadata": {},
   "source": [
    "## Part 2"
   ]
  },
  {
   "cell_type": "code",
   "execution_count": 29,
   "id": "ca4ab982-6aef-4984-8052-853b652afd4a",
   "metadata": {},
   "outputs": [],
   "source": [
    "def part_2(data):\n",
    "    return sum(region.price_2 for region in data)\n",
    "\n",
    "assert part_2(test_data) == 1206"
   ]
  },
  {
   "cell_type": "code",
   "execution_count": 30,
   "id": "26c14137-7085-41a8-ae64-7d3ea290fac7",
   "metadata": {},
   "outputs": [
    {
     "data": {
      "text/plain": [
       "899196"
      ]
     },
     "execution_count": 30,
     "metadata": {},
     "output_type": "execute_result"
    }
   ],
   "source": [
    "part_2(data)"
   ]
  },
  {
   "cell_type": "code",
   "execution_count": null,
   "id": "2bcd257c-fbda-49b1-b5ac-f92b67ce1dbf",
   "metadata": {},
   "outputs": [],
   "source": []
  }
 ],
 "metadata": {
  "kernelspec": {
   "display_name": "Python 3 (ipykernel)",
   "language": "python",
   "name": "python3"
  },
  "language_info": {
   "codemirror_mode": {
    "name": "ipython",
    "version": 3
   },
   "file_extension": ".py",
   "mimetype": "text/x-python",
   "name": "python",
   "nbconvert_exporter": "python",
   "pygments_lexer": "ipython3",
   "version": "3.13.0"
  }
 },
 "nbformat": 4,
 "nbformat_minor": 5
}
