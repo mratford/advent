{
 "cells": [
  {
   "cell_type": "markdown",
   "id": "fb05463b",
   "metadata": {},
   "source": [
    "# Day 7\n",
    "## Part 1\n",
    "\n",
    "How many possible combinations of operators might there be?"
   ]
  },
  {
   "cell_type": "code",
   "execution_count": 1,
   "id": "b89233e6",
   "metadata": {},
   "outputs": [
    {
     "data": {
      "text/plain": [
       "2048"
      ]
     },
     "execution_count": 1,
     "metadata": {},
     "output_type": "execute_result"
    }
   ],
   "source": [
    "def parse_data(s):\n",
    "    data = {}\n",
    "    for line in s.strip().splitlines():\n",
    "        k, vs = line.split(\":\")\n",
    "        data[int(k)] = [int(v) for v in vs.split()]\n",
    "    return data\n",
    "\n",
    "data = parse_data(open(\"input\").read())\n",
    "2 ** (max(len(data[k]) for k in data) - 1)"
   ]
  },
  {
   "cell_type": "markdown",
   "id": "6e9e906b-c112-436a-9aa4-c298fb969797",
   "metadata": {},
   "source": [
    "Not too bad."
   ]
  },
  {
   "cell_type": "code",
   "execution_count": 2,
   "id": "54b34f62-a21b-4513-a06c-7f7cddac239a",
   "metadata": {},
   "outputs": [],
   "source": [
    "from operator import add, mul\n",
    "import itertools\n",
    "\n",
    "def calculable(target, values):\n",
    "    def f(acc, xs):\n",
    "        if len(xs) == 0:\n",
    "            return acc == target\n",
    "        return any(\n",
    "            f(g(acc, xs[0]), xs[1:])\n",
    "            for g in [add, mul]\n",
    "        )\n",
    "\n",
    "    return f(values[0], values[1:])\n",
    "        \n",
    "\n",
    "def part_1(data):\n",
    "    return sum(k for k in data if calculable(k, data[k]))\n",
    "\n",
    "test_data = parse_data(\"\"\"190: 10 19\n",
    "3267: 81 40 27\n",
    "83: 17 5\n",
    "156: 15 6\n",
    "7290: 6 8 6 15\n",
    "161011: 16 10 13\n",
    "192: 17 8 14\n",
    "21037: 9 7 18 13\n",
    "292: 11 6 16 20\"\"\")\n",
    "\n",
    "assert part_1(test_data) == 3749"
   ]
  },
  {
   "cell_type": "code",
   "execution_count": 3,
   "id": "0b2e4ea4-789e-4ab5-82e4-b9e2d4189759",
   "metadata": {},
   "outputs": [
    {
     "data": {
      "text/plain": [
       "1153997401072"
      ]
     },
     "execution_count": 3,
     "metadata": {},
     "output_type": "execute_result"
    }
   ],
   "source": [
    "part_1(data)"
   ]
  },
  {
   "cell_type": "markdown",
   "id": "7d16fb10-8b6f-471c-822c-e39107be5789",
   "metadata": {},
   "source": [
    "## Part 2"
   ]
  },
  {
   "cell_type": "code",
   "execution_count": 4,
   "id": "3c362802-6125-4c78-b30d-cee7c47162b6",
   "metadata": {},
   "outputs": [
    {
     "data": {
      "text/plain": [
       "177147"
      ]
     },
     "execution_count": 4,
     "metadata": {},
     "output_type": "execute_result"
    }
   ],
   "source": [
    "3 ** (max(len(data[k]) for k in data) - 1)"
   ]
  },
  {
   "cell_type": "markdown",
   "id": "e24e091c-12a5-4f96-87ae-7d06be9b7047",
   "metadata": {},
   "source": [
    "Still brute forceable but might take a while."
   ]
  },
  {
   "cell_type": "code",
   "execution_count": 5,
   "id": "1ecbadc8-5eaa-4a53-a128-df441b4c9177",
   "metadata": {},
   "outputs": [
    {
     "data": {
      "text/plain": [
       "123456"
      ]
     },
     "execution_count": 5,
     "metadata": {},
     "output_type": "execute_result"
    }
   ],
   "source": [
    "from math import log10, ceil\n",
    "\n",
    "def concatenate(x, y):\n",
    "    return x * 10 ** ceil(log10(y + 1)) + y\n",
    "\n",
    "concatenate(123, 456)"
   ]
  },
  {
   "cell_type": "markdown",
   "id": "1c93147d-7f4c-4884-b033-01fc5400d04b",
   "metadata": {},
   "source": [
    "A slight optimisation is to check the rolling value has not exceeded the target."
   ]
  },
  {
   "cell_type": "code",
   "execution_count": 6,
   "id": "3cc6ec9f-65b9-4d91-a2fb-4cf7f815ae99",
   "metadata": {},
   "outputs": [],
   "source": [
    "def calculable_2(target, values):\n",
    "    def f(acc, xs):\n",
    "        if len(xs) == 0:\n",
    "            return acc == target\n",
    "        return not acc > target and any(\n",
    "            f(g(acc, xs[0]), xs[1:])\n",
    "            for g in [add, mul, concatenate]\n",
    "        )\n",
    "\n",
    "    return f(values[0], values[1:])\n",
    "\n",
    "def part_2(data):\n",
    "    return sum(k for k in data if calculable_2(k, data[k]))\n",
    "\n",
    "assert part_2(test_data) == 11387"
   ]
  },
  {
   "cell_type": "code",
   "execution_count": 7,
   "id": "58467748-bf8e-42cf-9faf-955a3e0375ae",
   "metadata": {},
   "outputs": [
    {
     "data": {
      "text/plain": [
       "97902809384118"
      ]
     },
     "execution_count": 7,
     "metadata": {},
     "output_type": "execute_result"
    }
   ],
   "source": [
    "part_2(data)"
   ]
  },
  {
   "cell_type": "code",
   "execution_count": 8,
   "id": "48f49d38-276c-4a6f-871f-c3028c5f5364",
   "metadata": {},
   "outputs": [
    {
     "name": "stdout",
     "output_type": "stream",
     "text": [
      "3.04 s ± 6.79 ms per loop (mean ± std. dev. of 7 runs, 1 loop each)\n"
     ]
    }
   ],
   "source": [
    "%%timeit \n",
    "\n",
    "part_2(data)"
   ]
  },
  {
   "cell_type": "code",
   "execution_count": null,
   "id": "c3395c3f-4215-41fd-92d1-72d28a391b53",
   "metadata": {},
   "outputs": [],
   "source": []
  }
 ],
 "metadata": {
  "kernelspec": {
   "display_name": "Python 3 (ipykernel)",
   "language": "python",
   "name": "python3"
  },
  "language_info": {
   "codemirror_mode": {
    "name": "ipython",
    "version": 3
   },
   "file_extension": ".py",
   "mimetype": "text/x-python",
   "name": "python",
   "nbconvert_exporter": "python",
   "pygments_lexer": "ipython3",
   "version": "3.13.0"
  }
 },
 "nbformat": 4,
 "nbformat_minor": 5
}
