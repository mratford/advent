{
 "cells": [
  {
   "cell_type": "markdown",
   "id": "13bb00ff",
   "metadata": {},
   "source": [
    "# Day 1\n",
    "## Part 1\n"
   ]
  },
  {
   "cell_type": "code",
   "execution_count": 1,
   "id": "8979a1a5",
   "metadata": {},
   "outputs": [
    {
     "data": {
      "text/plain": [
       "1889772"
      ]
     },
     "execution_count": 1,
     "metadata": {},
     "output_type": "execute_result"
    }
   ],
   "source": [
    "l = []\n",
    "r = []\n",
    "\n",
    "for x, y in [line.split() for line in open(\"input.txt\").read().strip().splitlines()]:\n",
    "    l.append(int(x))\n",
    "    r.append(int(y))\n",
    "\n",
    "sum(abs(x - y) for x, y in zip(sorted(l), sorted(r)))"
   ]
  },
  {
   "cell_type": "markdown",
   "id": "e4c95d9d-9e7f-4a34-b0d7-ec5d9df9da59",
   "metadata": {},
   "source": [
    "## Part 2"
   ]
  },
  {
   "cell_type": "code",
   "execution_count": 2,
   "id": "30b1917a-eed3-4a27-b605-a52a283e5b9f",
   "metadata": {},
   "outputs": [
    {
     "data": {
      "text/plain": [
       "23228917"
      ]
     },
     "execution_count": 2,
     "metadata": {},
     "output_type": "execute_result"
    }
   ],
   "source": [
    "from collections import Counter\n",
    "\n",
    "rc = Counter(r)\n",
    "sum(x * rc[x] for x in l)"
   ]
  },
  {
   "cell_type": "code",
   "execution_count": null,
   "id": "0a9d0d7d-2830-48de-bab5-ab7dad0541c6",
   "metadata": {},
   "outputs": [],
   "source": []
  }
 ],
 "metadata": {
  "kernelspec": {
   "display_name": "Python 3 (ipykernel)",
   "language": "python",
   "name": "python3"
  },
  "language_info": {
   "codemirror_mode": {
    "name": "ipython",
    "version": 3
   },
   "file_extension": ".py",
   "mimetype": "text/x-python",
   "name": "python",
   "nbconvert_exporter": "python",
   "pygments_lexer": "ipython3",
   "version": "3.12.6"
  }
 },
 "nbformat": 4,
 "nbformat_minor": 5
}
