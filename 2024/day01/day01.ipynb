{
 "cells": [
  {
   "cell_type": "markdown",
   "id": "13bb00ff",
   "metadata": {},
   "source": [
    "# Day 1\n",
    "## Part 1\n"
   ]
  },
  {
   "cell_type": "code",
   "execution_count": null,
   "id": "8979a1a5",
   "metadata": {},
   "outputs": [],
   "source": []
  }
 ],
 "metadata": {},
 "nbformat": 4,
 "nbformat_minor": 5
}
