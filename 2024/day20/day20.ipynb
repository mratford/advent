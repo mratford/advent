{
 "cells": [
  {
   "cell_type": "markdown",
   "id": "41b1a79a",
   "metadata": {},
   "source": [
    "# Day 20\n",
    "## Part 1\n"
   ]
  },
  {
   "cell_type": "code",
   "execution_count": 2,
   "id": "e2ec8547",
   "metadata": {},
   "outputs": [
    {
     "data": {
      "text/plain": [
       "84"
      ]
     },
     "execution_count": 2,
     "metadata": {},
     "output_type": "execute_result"
    }
   ],
   "source": [
    "from dataclasses import dataclass\n",
    "import heapq\n",
    "import math\n",
    "\n",
    "@dataclass(eq=True, frozen=True)\n",
    "class Point:\n",
    "    x: int\n",
    "    y: int\n",
    "\n",
    "    def __add__(self, other):\n",
    "        return self.__class__(self.x + other.x, self.y + other.y)\n",
    "\n",
    "    def __sub__(self, other):\n",
    "        return self.__class__(self.x - other.x, self.y - other.y)\n",
    "\n",
    "    def __neg__(self):\n",
    "        return self.__class__(-self.x, -self.y)\n",
    "\n",
    "    def __lt__(self, other):\n",
    "        if self.x < other.x:\n",
    "            return True\n",
    "        elif self.x > other.x:\n",
    "            return False\n",
    "        else:\n",
    "            return self.y < other.y\n",
    "\n",
    "    def __iter__(self):\n",
    "        yield self.x\n",
    "        yield self.y\n",
    "\n",
    "    def __mod__(self, other):\n",
    "        if isinstance(other, Point):\n",
    "            return self.__class__(self.x % other.x, self.y % other.y)\n",
    "        else:\n",
    "            return self.__class__(self.x % other, self.y % other)\n",
    "        \n",
    "    def __mul__(self, multiple):\n",
    "        return self.__class__(self.x * multiple, self.y * multiple)\n",
    "\n",
    "N = Point(0, 1)\n",
    "S = Point(0, -1)\n",
    "W = Point(-1, 0)\n",
    "E = Point(1, 0)\n",
    "\n",
    "DIRECTIONS = {N, E, S, W}\n",
    "\n",
    "def manhattan(p1, p2):\n",
    "    return abs(p1.x - p2.x) + abs(p1.y - p2.y)\n",
    "\n",
    "def parse_data(s):\n",
    "    grid = {}\n",
    "    lines = s.strip().splitlines()\n",
    "    starting_point = None\n",
    "    end_point = None\n",
    "    for y, line in zip(range(len(lines) - 1, -1, -1), lines):\n",
    "        for x, c in enumerate(line):\n",
    "            grid[Point(x, y)] = c\n",
    "            if c == \"S\":\n",
    "                starting_point = Point(x, y)\n",
    "            elif c == \"E\":\n",
    "                end_point = Point(x, y)\n",
    "    return grid, starting_point, end_point\n",
    "\n",
    "def shortest_path(grid, starting_point, end_point):\n",
    "    q = [(manhattan(starting_point, end_point), 0, starting_point)]\n",
    "    seen = {}\n",
    "\n",
    "    while q:\n",
    "        _, length, p = heapq.heappop(q)\n",
    "        for d in DIRECTIONS:\n",
    "            n = p + d\n",
    "            if n == end_point:\n",
    "                return length + 1\n",
    "            if grid[n] == \".\" and seen.get(n, math.inf) > length + 1:\n",
    "                seen[n] = length + 1\n",
    "                heapq.heappush(q, (length + 1 + manhattan(n, end_point), length + 1, n))\n",
    "\n",
    "test_data = parse_data(\"\"\"###############\n",
    "#...#...#.....#\n",
    "#.#.#.#.#.###.#\n",
    "#S#...#.#.#...#\n",
    "#######.#.#.###\n",
    "#######.#.#...#\n",
    "#######.#.###.#\n",
    "###..E#...#...#\n",
    "###.#######.###\n",
    "#...###...#...#\n",
    "#.#####.#.###.#\n",
    "#.#...#.#.#...#\n",
    "#.#.#.#.#.#.###\n",
    "#...#...#...###\n",
    "###############\"\"\")\n",
    "\n",
    "shortest_path(*test_data)"
   ]
  },
  {
   "cell_type": "code",
   "execution_count": null,
   "id": "83c2ec76-4651-4ef8-8c5b-9990a20910b7",
   "metadata": {},
   "outputs": [],
   "source": [
    "def part_1(data, save_value=100):\n",
    "    grid, starting_point, end_point = data\n",
    "    target = shortest_path(grid, starting_point, end_point) - save_value\n",
    "    q = [(0, starting_point, None, set())]\n",
    "    cheats = set()\n",
    "    result = 0\n",
    "    \n",
    "    while q:\n",
    "        length, p, cheat, path_so_far = q.pop()\n",
    "        if p == end_point and length <= target:\n",
    "            cheats.add(cheat)\n",
    "            result += 1\n",
    "        else:\n",
    "            for d in DIRECTIONS:\n",
    "                n = p + d\n",
    "                if n in grid:\n",
    "                    l = length + 1\n",
    "                    h = l + manhattan(n, end_point)\n",
    "                    if h <= target and n not in path_so_far:\n",
    "                        if grid[n] in (\".\", \"E\") and cheat not in cheats:\n",
    "                            q.append((l, n, cheat, path_so_far | {n}))\n",
    "                        elif grid[n] == \"#\" and cheat is None and n not in cheats:\n",
    "                            q.append((l, n, n, path_so_far | {n}))\n",
    "\n",
    "    return len(cheats), result"
   ]
  },
  {
   "cell_type": "code",
   "execution_count": 46,
   "id": "204d6e9a-2224-4e28-abfa-2fd05f81b621",
   "metadata": {},
   "outputs": [
    {
     "name": "stdout",
     "output_type": "stream",
     "text": [
      "2 44\n",
      "4 30\n",
      "6 16\n",
      "8 14\n",
      "10 10\n",
      "12 8\n",
      "20 5\n",
      "36 4\n",
      "38 3\n",
      "40 2\n",
      "64 1\n"
     ]
    }
   ],
   "source": [
    "for t in [2, 4, 6, 8, 10, 12, 20, 36, 38, 40, 64]:\n",
    "    print(t, part_1(test_data, t))"
   ]
  },
  {
   "cell_type": "code",
   "execution_count": 51,
   "id": "2db0ba01-2c12-4653-9a60-62de2cc34761",
   "metadata": {},
   "outputs": [
    {
     "ename": "KeyboardInterrupt",
     "evalue": "",
     "output_type": "error",
     "traceback": [
      "\u001b[0;31m---------------------------------------------------------------------------\u001b[0m",
      "\u001b[0;31mKeyboardInterrupt\u001b[0m                         Traceback (most recent call last)",
      "Cell \u001b[0;32mIn[51], line 2\u001b[0m\n\u001b[1;32m      1\u001b[0m data \u001b[38;5;241m=\u001b[39m parse_data(\u001b[38;5;28mopen\u001b[39m(\u001b[38;5;124m\"\u001b[39m\u001b[38;5;124minput\u001b[39m\u001b[38;5;124m\"\u001b[39m)\u001b[38;5;241m.\u001b[39mread())\n\u001b[0;32m----> 2\u001b[0m \u001b[43mpart_1\u001b[49m\u001b[43m(\u001b[49m\u001b[43mdata\u001b[49m\u001b[43m)\u001b[49m\n",
      "Cell \u001b[0;32mIn[43], line 9\u001b[0m, in \u001b[0;36mpart_1\u001b[0;34m(data, save_value)\u001b[0m\n\u001b[1;32m      7\u001b[0m \u001b[38;5;28;01mwhile\u001b[39;00m q:\n\u001b[1;32m      8\u001b[0m     length, p, cheat, path_so_far \u001b[38;5;241m=\u001b[39m q\u001b[38;5;241m.\u001b[39mpop()\n\u001b[0;32m----> 9\u001b[0m     \u001b[38;5;28;01mif\u001b[39;00m \u001b[43mp\u001b[49m\u001b[43m \u001b[49m\u001b[38;5;241;43m==\u001b[39;49m\u001b[43m \u001b[49m\u001b[43mend_point\u001b[49m \u001b[38;5;129;01mand\u001b[39;00m length \u001b[38;5;241m<\u001b[39m\u001b[38;5;241m=\u001b[39m target:\n\u001b[1;32m     10\u001b[0m         cheats\u001b[38;5;241m.\u001b[39madd(cheat)\n\u001b[1;32m     11\u001b[0m     \u001b[38;5;28;01melse\u001b[39;00m:\n",
      "File \u001b[0;32m<string>:2\u001b[0m, in \u001b[0;36m__eq__\u001b[0;34m(self, other)\u001b[0m\n",
      "\u001b[0;31mKeyboardInterrupt\u001b[0m: "
     ]
    }
   ],
   "source": [
    "data = parse_data(open(\"input\").read())\n",
    "part_1(data)"
   ]
  },
  {
   "cell_type": "markdown",
   "id": "68240299-35af-426a-9321-d6afc169044b",
   "metadata": {},
   "source": [
    "That is massively inefficient and isn't ending any time soon. How long does it take to find the shortest path?"
   ]
  },
  {
   "cell_type": "code",
   "execution_count": 50,
   "id": "beba53b5-05f2-43dc-b3e2-9663a2dcadc4",
   "metadata": {},
   "outputs": [
    {
     "name": "stdout",
     "output_type": "stream",
     "text": [
      "CPU times: user 42.8 ms, sys: 10 ms, total: 52.9 ms\n",
      "Wall time: 51.9 ms\n"
     ]
    },
    {
     "data": {
      "text/plain": [
       "9468"
      ]
     },
     "execution_count": 50,
     "metadata": {},
     "output_type": "execute_result"
    }
   ],
   "source": [
    "%%time\n",
    "shortest_path(*data)"
   ]
  },
  {
   "cell_type": "markdown",
   "id": "dbcd8852-f5d4-4571-9cd5-802ba02cb553",
   "metadata": {},
   "source": [
    "Not long. Try removing each wall section and finding the shortest path."
   ]
  },
  {
   "cell_type": "code",
   "execution_count": 55,
   "id": "637b9481-d705-4268-912c-8cb8482ef22f",
   "metadata": {},
   "outputs": [],
   "source": [
    "import tqdm\n",
    "\n",
    "def part_1_v2(data, save_value=100):\n",
    "    grid, starting_point, end_point = data\n",
    "    target = shortest_path(grid, starting_point, end_point) - save_value\n",
    "    result = 0\n",
    "    \n",
    "    max_x = max(p.x for p in grid)\n",
    "    max_y = max(p.y for p in grid)\n",
    "    walls = [\n",
    "        p for p in grid \n",
    "        if grid[p] == \"#\" \n",
    "            and p.x != 0 and p.x != max_x\n",
    "            and p.y != 0 and p.y != max_y\n",
    "    ]\n",
    "    for wall in tqdm.tqdm(walls):\n",
    "        grid[wall] = \".\"\n",
    "        if shortest_path(grid, starting_point, end_point) <= target:\n",
    "            result += 1\n",
    "        grid[wall] = \"#\"\n",
    "\n",
    "    return result"
   ]
  },
  {
   "cell_type": "code",
   "execution_count": 57,
   "id": "4f67a566-45ad-4121-b5bf-7832ca1e9669",
   "metadata": {},
   "outputs": [
    {
     "name": "stderr",
     "output_type": "stream",
     "text": [
      "100%|███████████████████████████████████████████████████████████████████████████████| 9852/9852 [08:03<00:00, 20.36it/s]\n"
     ]
    },
    {
     "data": {
      "text/plain": [
       "1827"
      ]
     },
     "execution_count": 57,
     "metadata": {},
     "output_type": "execute_result"
    }
   ],
   "source": [
    "part_1_v2(data, t)"
   ]
  },
  {
   "cell_type": "markdown",
   "id": "01e7f9cc-657d-4be9-837e-eb7a1dfb2fa3",
   "metadata": {},
   "source": [
    "That's wrong, the answer is too high. I'm leaving this one for now.\n",
    "\n",
    "Update: the first version took 18 minutes to get the answer with pypy. "
   ]
  },
  {
   "cell_type": "code",
   "execution_count": null,
   "id": "16012d72-404c-49e3-9c12-59155a18c7bd",
   "metadata": {},
   "outputs": [],
   "source": []
  }
 ],
 "metadata": {
  "kernelspec": {
   "display_name": "Python 3 (ipykernel)",
   "language": "python",
   "name": "python3"
  },
  "language_info": {
   "codemirror_mode": {
    "name": "ipython",
    "version": 3
   },
   "file_extension": ".py",
   "mimetype": "text/x-python",
   "name": "python",
   "nbconvert_exporter": "python",
   "pygments_lexer": "ipython3",
   "version": "3.12.6"
  }
 },
 "nbformat": 4,
 "nbformat_minor": 5
}
