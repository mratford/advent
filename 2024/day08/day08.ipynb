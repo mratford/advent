{
 "cells": [
  {
   "cell_type": "markdown",
   "id": "39cddc19",
   "metadata": {},
   "source": [
    "# Day 8\n",
    "## Part 1\n"
   ]
  },
  {
   "cell_type": "code",
   "execution_count": 10,
   "id": "3b8827fa",
   "metadata": {},
   "outputs": [],
   "source": [
    "from dataclasses import dataclass\n",
    "from collections import defaultdict\n",
    "import itertools\n",
    "\n",
    "@dataclass\n",
    "class Point:\n",
    "    x: int\n",
    "    y: int\n",
    "\n",
    "    def __add__(self, other):\n",
    "        return self.__class__(self.x + other.x, self.y + other.y)\n",
    "\n",
    "    def __sub__(self, other):\n",
    "        return self.__class__(self.x - other.x, self.y - other.y)\n",
    "\n",
    "    def __neg__(self):\n",
    "        return self.__class__(-self.x, -self.y)\n",
    "\n",
    "    def __hash__(self):\n",
    "        return hash((self.x, self.y))\n",
    "\n",
    "    def __lt__(self, other):\n",
    "        if self.x < other.x:\n",
    "            return True\n",
    "        elif self.x > other.x:\n",
    "            return False\n",
    "        else:\n",
    "            return self.y < other.y\n",
    "\n",
    "    def __iter__(self):\n",
    "        yield self.x\n",
    "        yield self.y\n",
    "\n",
    "    def __mod__(self, other):\n",
    "        if isinstance(other, Point):\n",
    "            return self.__class__(self.x % other.x, self.y % other.y)\n",
    "        else:\n",
    "            return self.__class__(self.x % other, self.y % other)\n",
    "        \n",
    "    def __mul__(self, multiple):\n",
    "        return self.__class__(self.x * multiple, self.y * multiple)\n",
    "\n",
    "\n",
    "def parse_data(s):\n",
    "    grid = {}\n",
    "    antennae = defaultdict(list)\n",
    "    for y, line in enumerate(reversed(s.strip().splitlines())):\n",
    "        for x, c in enumerate(line):\n",
    "            grid[Point(x, y)] = c\n",
    "            if c != \".\":\n",
    "                antennae[c].append(Point(x, y))\n",
    "    return grid, antennae\n",
    "\n",
    "def part_1(data):\n",
    "    grid, antennae = data\n",
    "    antinodes = set()\n",
    "    for antenna in antennae:\n",
    "        for loc1, loc2 in itertools.permutations(antennae[antenna], r=2):\n",
    "            antinode = loc1 + (loc2 - loc1) * 2\n",
    "            if antinode in grid:\n",
    "                antinodes.add(antinode)\n",
    "    return len(antinodes)\n",
    "\n",
    "test_data = parse_data(\"\"\"............\n",
    "........0...\n",
    ".....0......\n",
    ".......0....\n",
    "....0.......\n",
    "......A.....\n",
    "............\n",
    "............\n",
    "........A...\n",
    ".........A..\n",
    "............\n",
    "............\"\"\")\n",
    "\n",
    "assert part_1(test_data) == 14"
   ]
  },
  {
   "cell_type": "code",
   "execution_count": 12,
   "id": "bf65c4e9-2c09-48b8-890a-6ad1116436be",
   "metadata": {},
   "outputs": [
    {
     "data": {
      "text/plain": [
       "303"
      ]
     },
     "execution_count": 12,
     "metadata": {},
     "output_type": "execute_result"
    }
   ],
   "source": [
    "data = parse_data(open(\"input\").read())\n",
    "part_1(data)"
   ]
  },
  {
   "cell_type": "markdown",
   "id": "bfbcf276-84b6-4307-8d63-29275eeb7939",
   "metadata": {},
   "source": [
    "## Part 2\n",
    "*sigh*"
   ]
  },
  {
   "cell_type": "code",
   "execution_count": 34,
   "id": "ed7226de-68fc-4c92-8ede-38a363a9dd5c",
   "metadata": {},
   "outputs": [],
   "source": [
    "from fractions import Fraction\n",
    "\n",
    "def find_antinodes(loc1, loc2, max_x, max_y):\n",
    "    if loc1.x == loc2.x:\n",
    "        for y in range(0, max_y + 1):\n",
    "            yield Point(loc1.x, y)\n",
    "    else:\n",
    "        d = loc1 - loc2\n",
    "        for x in range(0, max_x + 1):\n",
    "            dy = Fraction(loc1.x - x, d.x) * d.y\n",
    "            if dy.denominator == 1:\n",
    "                y = loc1.y - dy.numerator\n",
    "                if 0 <= y <= max_y:\n",
    "                    yield Point(x, y)\n",
    "                \n",
    "def part_2(data):\n",
    "    grid, antennae = data\n",
    "    antinodes = set()\n",
    "    max_x = max(p.x for p in grid)\n",
    "    max_y = max(p.y for p in grid)\n",
    "    for antenna in antennae:\n",
    "        for loc1, loc2 in itertools.combinations(antennae[antenna], r=2):\n",
    "            antinodes |= set(find_antinodes(loc1, loc2, max_x, max_y))\n",
    "    return len(antinodes)\n",
    "\n",
    "assert part_2(test_data)"
   ]
  },
  {
   "cell_type": "code",
   "execution_count": 35,
   "id": "ce765d3d-6be9-4768-b94b-b5afaf07dae7",
   "metadata": {},
   "outputs": [
    {
     "data": {
      "text/plain": [
       "1045"
      ]
     },
     "execution_count": 35,
     "metadata": {},
     "output_type": "execute_result"
    }
   ],
   "source": [
    "part_2(data)"
   ]
  },
  {
   "cell_type": "code",
   "execution_count": null,
   "id": "fe2fadfd-9e04-46ef-ab40-77c3268a9f93",
   "metadata": {},
   "outputs": [],
   "source": []
  }
 ],
 "metadata": {
  "kernelspec": {
   "display_name": "Python 3 (ipykernel)",
   "language": "python",
   "name": "python3"
  },
  "language_info": {
   "codemirror_mode": {
    "name": "ipython",
    "version": 3
   },
   "file_extension": ".py",
   "mimetype": "text/x-python",
   "name": "python",
   "nbconvert_exporter": "python",
   "pygments_lexer": "ipython3",
   "version": "3.12.6"
  }
 },
 "nbformat": 4,
 "nbformat_minor": 5
}
