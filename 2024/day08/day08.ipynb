{
 "cells": [
  {
   "cell_type": "markdown",
   "id": "39cddc19",
   "metadata": {},
   "source": [
    "# Day 8\n",
    "## Part 1\n"
   ]
  },
  {
   "cell_type": "code",
   "execution_count": null,
   "id": "3b8827fa",
   "metadata": {},
   "outputs": [],
   "source": []
  }
 ],
 "metadata": {},
 "nbformat": 4,
 "nbformat_minor": 5
}
