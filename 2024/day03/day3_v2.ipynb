{
 "cells": [
  {
   "cell_type": "code",
   "execution_count": 3,
   "id": "b8491889-2c65-40a1-9e05-f2a1e65dec08",
   "metadata": {},
   "outputs": [
    {
     "data": {
      "text/plain": [
       "161"
      ]
     },
     "execution_count": 3,
     "metadata": {},
     "output_type": "execute_result"
    }
   ],
   "source": [
    "from parsy import digit, string, generate, any_char, eof, seq, success\n",
    "\n",
    "number = digit.times(1, 3).concat().map(int)\n",
    "\n",
    "@generate\n",
    "def mult():\n",
    "    yield string(\"mul(\") \n",
    "    x = yield number \n",
    "    yield string(\",\") \n",
    "    y = yield number\n",
    "    yield string(\")\")\n",
    "    return x * y\n",
    "\n",
    "part_1 = (any_char.until(mult) >> mult).many().map(sum) << any_char.many()\n",
    "\n",
    "test_data = \"xmul(2,4)%&mul[3,7]!@^do_not_mul(5,5)+mul(32,64]then(mul(11,8)mul(8,5))\"\n",
    "part_1.parse(test_data)"
   ]
  },
  {
   "cell_type": "code",
   "execution_count": 5,
   "id": "d35d0843-562d-4553-9a78-5a236700e1ee",
   "metadata": {},
   "outputs": [
    {
     "data": {
      "text/plain": [
       "161085926"
      ]
     },
     "execution_count": 5,
     "metadata": {},
     "output_type": "execute_result"
    }
   ],
   "source": [
    "data = open(\"input\").read()\n",
    "part_1.parse(data)"
   ]
  },
  {
   "cell_type": "code",
   "execution_count": 28,
   "id": "169c72b1-f7a8-4950-b90a-429c502d60c3",
   "metadata": {},
   "outputs": [],
   "source": [
    "test_data_2 = \"xmul(2,4)&mul[3,7]!^don't()_mul(5,5)+mul(32,64](mul(11,8)undo()?mul(8,5))\"\n",
    "\n",
    "do = string(\"do()\")\n",
    "dont = string(\"don't()\")\n",
    "until_do_or_dont = any_char.until(do | dont | eof)\n",
    "mults = until_do_or_dont.concat().map(part_1.parse)\n",
    "do_seq = do >> mults\n",
    "dont_seq = dont >> until_do_or_dont >> success(0)\n",
    "part_2 = mults + (do_seq | dont_seq).many().map(sum)"
   ]
  },
  {
   "cell_type": "code",
   "execution_count": 29,
   "id": "b3367724-7124-4242-967f-13bce2be7711",
   "metadata": {},
   "outputs": [
    {
     "data": {
      "text/plain": [
       "48"
      ]
     },
     "execution_count": 29,
     "metadata": {},
     "output_type": "execute_result"
    }
   ],
   "source": [
    "part_2.parse(test_data_2)"
   ]
  },
  {
   "cell_type": "code",
   "execution_count": 30,
   "id": "cb77b2ea-9ced-497c-ac7c-f62a4ad9cdf8",
   "metadata": {},
   "outputs": [
    {
     "data": {
      "text/plain": [
       "82045421"
      ]
     },
     "execution_count": 30,
     "metadata": {},
     "output_type": "execute_result"
    }
   ],
   "source": [
    "part_2.parse(data)"
   ]
  },
  {
   "cell_type": "code",
   "execution_count": null,
   "id": "02d26806-a793-4edc-a167-3d11120aaaf7",
   "metadata": {},
   "outputs": [],
   "source": []
  }
 ],
 "metadata": {
  "kernelspec": {
   "display_name": "Python 3 (ipykernel)",
   "language": "python",
   "name": "python3"
  },
  "language_info": {
   "codemirror_mode": {
    "name": "ipython",
    "version": 3
   },
   "file_extension": ".py",
   "mimetype": "text/x-python",
   "name": "python",
   "nbconvert_exporter": "python",
   "pygments_lexer": "ipython3",
   "version": "3.12.7"
  }
 },
 "nbformat": 4,
 "nbformat_minor": 5
}
