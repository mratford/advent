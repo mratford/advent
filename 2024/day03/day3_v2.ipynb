{
 "cells": [
  {
   "cell_type": "code",
   "execution_count": 20,
   "id": "b8491889-2c65-40a1-9e05-f2a1e65dec08",
   "metadata": {},
   "outputs": [
    {
     "data": {
      "text/plain": [
       "161"
      ]
     },
     "execution_count": 20,
     "metadata": {},
     "output_type": "execute_result"
    }
   ],
   "source": [
    "from parsy import digit, string, generate, any_char, eof, seq, success\n",
    "\n",
    "number = digit.times(1, 3).concat().map(int)\n",
    "\n",
    "@generate\n",
    "def mult():\n",
    "    yield string(\"mul(\") \n",
    "    x = yield number \n",
    "    yield string(\",\") \n",
    "    y = yield number\n",
    "    yield string(\")\")\n",
    "    return x * y\n",
    "\n",
    "part_1 = (any_char.until(mult) >> mult).many().map(sum) << any_char.many()\n",
    "\n",
    "test_data = \"xmul(2,4)%&mul[3,7]!@^do_not_mul(5,5)+mul(32,64]then(mul(11,8)mul(8,5))\"\n",
    "part_1.parse(test_data)"
   ]
  },
  {
   "cell_type": "code",
   "execution_count": 3,
   "id": "d35d0843-562d-4553-9a78-5a236700e1ee",
   "metadata": {},
   "outputs": [
    {
     "data": {
      "text/plain": [
       "161085926"
      ]
     },
     "execution_count": 3,
     "metadata": {},
     "output_type": "execute_result"
    }
   ],
   "source": [
    "data = open(\"input\").read()\n",
    "part_1.parse(data)"
   ]
  },
  {
   "cell_type": "code",
   "execution_count": 41,
   "id": "169c72b1-f7a8-4950-b90a-429c502d60c3",
   "metadata": {},
   "outputs": [],
   "source": [
    "do = string(\"do()\")\n",
    "dont = string(\"don't()\")\n",
    "\n",
    "do_seq = do >> any_char.until(do | dont | eof).concat().map(part_1.parse)\n",
    "dont_seq = dont >> any_char.until(do | dont | eof) >> success(0)\n",
    "\n",
    "start_sum = any_char.until(do | dont | eof).concat().map(part_1.parse)\n",
    "part_2 = start_sum >> (do_seq | dont_seq).many().map(sum) << eof\n"
   ]
  },
  {
   "cell_type": "code",
   "execution_count": 42,
   "id": "b3367724-7124-4242-967f-13bce2be7711",
   "metadata": {},
   "outputs": [
    {
     "ename": "ParseError",
     "evalue": "expected 'EOF' at 0:666",
     "output_type": "error",
     "traceback": [
      "\u001b[0;31m---------------------------------------------------------------------------\u001b[0m",
      "\u001b[0;31mParseError\u001b[0m                                Traceback (most recent call last)",
      "Cell \u001b[0;32mIn[42], line 1\u001b[0m\n\u001b[0;32m----> 1\u001b[0m \u001b[43mstart_sum\u001b[49m\u001b[38;5;241;43m.\u001b[39;49m\u001b[43mparse\u001b[49m\u001b[43m(\u001b[49m\u001b[43mdata\u001b[49m\u001b[43m)\u001b[49m\n",
      "File \u001b[0;32m~/src/advent/.venv/lib/python3.13/site-packages/parsy/__init__.py:98\u001b[0m, in \u001b[0;36mParser.parse\u001b[0;34m(self, stream)\u001b[0m\n\u001b[1;32m     96\u001b[0m \u001b[38;5;28;01mdef\u001b[39;00m \u001b[38;5;21mparse\u001b[39m(\u001b[38;5;28mself\u001b[39m, stream: \u001b[38;5;28mstr\u001b[39m \u001b[38;5;241m|\u001b[39m \u001b[38;5;28mbytes\u001b[39m \u001b[38;5;241m|\u001b[39m \u001b[38;5;28mlist\u001b[39m) \u001b[38;5;241m-\u001b[39m\u001b[38;5;241m>\u001b[39m Any:\n\u001b[1;32m     97\u001b[0m \u001b[38;5;250m    \u001b[39m\u001b[38;5;124;03m\"\"\"Parses a string or list of tokens and returns the result or raise a ParseError.\"\"\"\u001b[39;00m\n\u001b[0;32m---> 98\u001b[0m     (result, _) \u001b[38;5;241m=\u001b[39m \u001b[43m(\u001b[49m\u001b[38;5;28;43mself\u001b[39;49m\u001b[43m \u001b[49m\u001b[38;5;241;43m<<\u001b[39;49m\u001b[43m \u001b[49m\u001b[43meof\u001b[49m\u001b[43m)\u001b[49m\u001b[38;5;241;43m.\u001b[39;49m\u001b[43mparse_partial\u001b[49m\u001b[43m(\u001b[49m\u001b[43mstream\u001b[49m\u001b[43m)\u001b[49m\n\u001b[1;32m     99\u001b[0m     \u001b[38;5;28;01mreturn\u001b[39;00m result\n",
      "File \u001b[0;32m~/src/advent/.venv/lib/python3.13/site-packages/parsy/__init__.py:112\u001b[0m, in \u001b[0;36mParser.parse_partial\u001b[0;34m(self, stream)\u001b[0m\n\u001b[1;32m    110\u001b[0m     \u001b[38;5;28;01mreturn\u001b[39;00m (result\u001b[38;5;241m.\u001b[39mvalue, stream[result\u001b[38;5;241m.\u001b[39mindex :])\n\u001b[1;32m    111\u001b[0m \u001b[38;5;28;01melse\u001b[39;00m:\n\u001b[0;32m--> 112\u001b[0m     \u001b[38;5;28;01mraise\u001b[39;00m ParseError(result\u001b[38;5;241m.\u001b[39mexpected, stream, result\u001b[38;5;241m.\u001b[39mfurthest)\n",
      "\u001b[0;31mParseError\u001b[0m: expected 'EOF' at 0:666"
     ]
    }
   ],
   "source": [
    "start_sum.parse(data)"
   ]
  },
  {
   "cell_type": "code",
   "execution_count": 27,
   "id": "cb77b2ea-9ced-497c-ac7c-f62a4ad9cdf8",
   "metadata": {},
   "outputs": [
    {
     "data": {
      "text/plain": [
       "18684"
      ]
     },
     "execution_count": 27,
     "metadata": {},
     "output_type": "execute_result"
    }
   ],
   "source": [
    "len(data)"
   ]
  },
  {
   "cell_type": "code",
   "execution_count": 35,
   "id": "0d60f029-c415-49f0-8e3e-ac784298c6d6",
   "metadata": {},
   "outputs": [
    {
     "data": {
      "text/plain": [
       "(76722192, '')"
      ]
     },
     "execution_count": 35,
     "metadata": {},
     "output_type": "execute_result"
    }
   ],
   "source": [
    "(do_seq | dont_seq).many().map(sum).parse_partial(data[666:])"
   ]
  },
  {
   "cell_type": "code",
   "execution_count": 43,
   "id": "23d9c3f5-961f-4ad7-9e2e-573fe747935b",
   "metadata": {},
   "outputs": [
    {
     "data": {
      "text/plain": [
       "5323229"
      ]
     },
     "execution_count": 43,
     "metadata": {},
     "output_type": "execute_result"
    }
   ],
   "source": [
    "start_sum.parse(data[:666])"
   ]
  },
  {
   "cell_type": "code",
   "execution_count": 44,
   "id": "2ade9e17-1aa7-4e56-8ce5-a89025c3f5d5",
   "metadata": {},
   "outputs": [
    {
     "data": {
      "text/plain": [
       "82045421"
      ]
     },
     "execution_count": 44,
     "metadata": {},
     "output_type": "execute_result"
    }
   ],
   "source": [
    "76722192 + 5323229"
   ]
  },
  {
   "cell_type": "code",
   "execution_count": null,
   "id": "02d26806-a793-4edc-a167-3d11120aaaf7",
   "metadata": {},
   "outputs": [],
   "source": []
  }
 ],
 "metadata": {
  "kernelspec": {
   "display_name": "Python 3 (ipykernel)",
   "language": "python",
   "name": "python3"
  },
  "language_info": {
   "codemirror_mode": {
    "name": "ipython",
    "version": 3
   },
   "file_extension": ".py",
   "mimetype": "text/x-python",
   "name": "python",
   "nbconvert_exporter": "python",
   "pygments_lexer": "ipython3",
   "version": "3.13.0"
  }
 },
 "nbformat": 4,
 "nbformat_minor": 5
}
