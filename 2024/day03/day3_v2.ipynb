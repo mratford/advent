{
 "cells": [
  {
   "cell_type": "code",
   "execution_count": 49,
   "id": "b8491889-2c65-40a1-9e05-f2a1e65dec08",
   "metadata": {},
   "outputs": [
    {
     "data": {
      "text/plain": [
       "161"
      ]
     },
     "execution_count": 49,
     "metadata": {},
     "output_type": "execute_result"
    }
   ],
   "source": [
    "from parsy import digit, string, generate, any_char\n",
    "\n",
    "number = digit.times(1, 3).concat().map(int)\n",
    "\n",
    "@generate\n",
    "def mult():\n",
    "    yield string(\"mul(\") \n",
    "    x = yield number \n",
    "    yield string(\",\") \n",
    "    y = yield number\n",
    "    yield string(\")\")\n",
    "    return x * y\n",
    "\n",
    "part_1 = (any_char.until(mult) >> mult).many().map(sum) << any_char.many()\n",
    "\n",
    "test_data = \"xmul(2,4)%&mul[3,7]!@^do_not_mul(5,5)+mul(32,64]then(mul(11,8)mul(8,5))\"\n",
    "part_1.parse(test_data)"
   ]
  },
  {
   "cell_type": "code",
   "execution_count": null,
   "id": "d35d0843-562d-4553-9a78-5a236700e1ee",
   "metadata": {},
   "outputs": [],
   "source": []
  }
 ],
 "metadata": {
  "kernelspec": {
   "display_name": "Python 3 (ipykernel)",
   "language": "python",
   "name": "python3"
  },
  "language_info": {
   "codemirror_mode": {
    "name": "ipython",
    "version": 3
   },
   "file_extension": ".py",
   "mimetype": "text/x-python",
   "name": "python",
   "nbconvert_exporter": "python",
   "pygments_lexer": "ipython3",
   "version": "3.12.7"
  }
 },
 "nbformat": 4,
 "nbformat_minor": 5
}
