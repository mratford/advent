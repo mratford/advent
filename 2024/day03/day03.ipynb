{
 "cells": [
  {
   "cell_type": "markdown",
   "id": "317d5612",
   "metadata": {},
   "source": [
    "# Day 3\n",
    "## Part 1\n"
   ]
  },
  {
   "cell_type": "code",
   "execution_count": 1,
   "id": "0841d466",
   "metadata": {},
   "outputs": [
    {
     "data": {
      "text/plain": [
       "[('2', '4'), ('5', '5'), ('11', '8'), ('8', '5')]"
      ]
     },
     "execution_count": 1,
     "metadata": {},
     "output_type": "execute_result"
    }
   ],
   "source": [
    "import re\n",
    "\n",
    "pattern = r\"mul\\((\\d{1,3}),(\\d{1,3})\\)\"\n",
    "test_data = \"xmul(2,4)%&mul[3,7]!@^do_not_mul(5,5)+mul(32,64]then(mul(11,8)mul(8,5))\"\n",
    "re.findall(pattern, test_data)"
   ]
  },
  {
   "cell_type": "code",
   "execution_count": 2,
   "id": "e5a1ed22-07da-49c3-a2c3-abe52bb7aab7",
   "metadata": {},
   "outputs": [
    {
     "data": {
      "text/plain": [
       "161"
      ]
     },
     "execution_count": 2,
     "metadata": {},
     "output_type": "execute_result"
    }
   ],
   "source": [
    "import math\n",
    "\n",
    "def part_1(s):\n",
    "    return sum(\n",
    "        math.prod(map(int, x))\n",
    "        for x in re.findall(r\"mul\\((\\d{1,3}),(\\d{1,3})\\)\", s)\n",
    "    )\n",
    "\n",
    "part_1(test_data)"
   ]
  },
  {
   "cell_type": "code",
   "execution_count": 3,
   "id": "63783aac-fc59-4a13-b965-abb761654a61",
   "metadata": {},
   "outputs": [
    {
     "data": {
      "text/plain": [
       "161085926"
      ]
     },
     "execution_count": 3,
     "metadata": {},
     "output_type": "execute_result"
    }
   ],
   "source": [
    "data = open(\"input\").read()\n",
    "part_1(data)"
   ]
  },
  {
   "cell_type": "markdown",
   "id": "7f44300a-1d92-4e1f-a4d5-2987e797fcbb",
   "metadata": {},
   "source": [
    "## Part 2"
   ]
  },
  {
   "cell_type": "code",
   "execution_count": 4,
   "id": "bb760ac8-40a1-4376-b55f-b1cdeefb4140",
   "metadata": {},
   "outputs": [
    {
     "data": {
      "text/plain": [
       "[('mul(2,4)', '2', '4'),\n",
       " (\"don't()\", '', ''),\n",
       " ('mul(5,5)', '5', '5'),\n",
       " ('mul(11,8)', '11', '8'),\n",
       " ('do()', '', ''),\n",
       " ('mul(8,5)', '8', '5')]"
      ]
     },
     "execution_count": 4,
     "metadata": {},
     "output_type": "execute_result"
    }
   ],
   "source": [
    "pattern = r\"(don't\\(\\)|do\\(\\)|mul\\((\\d{1,3}),(\\d{1,3})\\))\"\n",
    "test_data_2 = \"xmul(2,4)&mul[3,7]!^don't()_mul(5,5)+mul(32,64](mul(11,8)undo()?mul(8,5))\"\n",
    "re.findall(pattern, test_data_2)"
   ]
  },
  {
   "cell_type": "code",
   "execution_count": 5,
   "id": "817acec8-1f09-49d3-b219-9d3454523635",
   "metadata": {},
   "outputs": [
    {
     "data": {
      "text/plain": [
       "48"
      ]
     },
     "execution_count": 5,
     "metadata": {},
     "output_type": "execute_result"
    }
   ],
   "source": [
    "def part_2(data):\n",
    "    enabled = True\n",
    "    sum = 0\n",
    "    \n",
    "    for t in re.findall(\n",
    "        r\"(don't\\(\\)|do\\(\\)|mul\\((\\d{1,3}),(\\d{1,3})\\))\",\n",
    "        data\n",
    "    ):\n",
    "        if t[0].startswith(\"don\"):\n",
    "            enabled = False\n",
    "        elif t[0].startswith(\"do\"):\n",
    "            enabled = True\n",
    "        elif enabled:\n",
    "            sum = sum + int(t[1]) * int(t[2])\n",
    "\n",
    "    return sum\n",
    "\n",
    "part_2(test_data_2)"
   ]
  },
  {
   "cell_type": "code",
   "execution_count": 6,
   "id": "09111c0b-050d-411a-b840-3b84c4cc4618",
   "metadata": {},
   "outputs": [
    {
     "data": {
      "text/plain": [
       "82045421"
      ]
     },
     "execution_count": 6,
     "metadata": {},
     "output_type": "execute_result"
    }
   ],
   "source": [
    "part_2(data)"
   ]
  },
  {
   "cell_type": "code",
   "execution_count": null,
   "id": "ff48c8a6-ab5f-476e-bd24-11e243df5608",
   "metadata": {},
   "outputs": [],
   "source": []
  }
 ],
 "metadata": {
  "kernelspec": {
   "display_name": "Python 3 (ipykernel)",
   "language": "python",
   "name": "python3"
  },
  "language_info": {
   "codemirror_mode": {
    "name": "ipython",
    "version": 3
   },
   "file_extension": ".py",
   "mimetype": "text/x-python",
   "name": "python",
   "nbconvert_exporter": "python",
   "pygments_lexer": "ipython3",
   "version": "3.13.0"
  }
 },
 "nbformat": 4,
 "nbformat_minor": 5
}
