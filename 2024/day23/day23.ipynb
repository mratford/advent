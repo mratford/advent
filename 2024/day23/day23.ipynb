{
 "cells": [
  {
   "cell_type": "markdown",
   "id": "f76ef9e7",
   "metadata": {},
   "source": [
    "# Day 23\n",
    "## Part 1\n"
   ]
  },
  {
   "cell_type": "code",
   "execution_count": null,
   "id": "c7eaa6be",
   "metadata": {},
   "outputs": [],
   "source": []
  }
 ],
 "metadata": {},
 "nbformat": 4,
 "nbformat_minor": 5
}
