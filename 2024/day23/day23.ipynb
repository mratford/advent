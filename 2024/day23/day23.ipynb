{
 "cells": [
  {
   "cell_type": "markdown",
   "id": "f76ef9e7",
   "metadata": {},
   "source": [
    "# Day 23\n",
    "## Part 1\n",
    "I'll try to avoid the temptation to use networkx."
   ]
  },
  {
   "cell_type": "code",
   "execution_count": 8,
   "id": "c7eaa6be",
   "metadata": {},
   "outputs": [
    {
     "data": {
      "text/plain": [
       "{frozenset({'aq', 'cg', 'yn'}),\n",
       " frozenset({'aq', 'vc', 'wq'}),\n",
       " frozenset({'qp', 'td', 'wh'}),\n",
       " frozenset({'co', 'de', 'ta'}),\n",
       " frozenset({'kh', 'qp', 'ub'}),\n",
       " frozenset({'tb', 'vc', 'wq'}),\n",
       " frozenset({'ub', 'vc', 'wq'}),\n",
       " frozenset({'co', 'de', 'ka'}),\n",
       " frozenset({'co', 'ka', 'ta'}),\n",
       " frozenset({'td', 'wh', 'yn'}),\n",
       " frozenset({'de', 'ka', 'ta'}),\n",
       " frozenset({'tc', 'td', 'wh'})}"
      ]
     },
     "execution_count": 8,
     "metadata": {},
     "output_type": "execute_result"
    }
   ],
   "source": [
    "from collections import defaultdict\n",
    "\n",
    "def parse_data(s):\n",
    "    g = defaultdict(set)\n",
    "    for line in s.strip().splitlines():\n",
    "        x, y = line.strip().split(\"-\")\n",
    "        g[x].add(y)\n",
    "        g[y].add(x)\n",
    "    for n in g:\n",
    "        g[n] = frozenset(g[n])\n",
    "    return g\n",
    "\n",
    "def three_cliques(g):\n",
    "    c = set()\n",
    "    for n1 in g:\n",
    "        for n2 in g[n1]:\n",
    "            for n3 in g[n1] & g[n2]:\n",
    "                c.add(frozenset({n1, n2, n3}))\n",
    "    return c\n",
    "\n",
    "test_data = parse_data(\"\"\"kh-tc\n",
    "qp-kh\n",
    "de-cg\n",
    "ka-co\n",
    "yn-aq\n",
    "qp-ub\n",
    "cg-tb\n",
    "vc-aq\n",
    "tb-ka\n",
    "wh-tc\n",
    "yn-cg\n",
    "kh-ub\n",
    "ta-co\n",
    "de-co\n",
    "tc-td\n",
    "tb-wq\n",
    "wh-td\n",
    "ta-ka\n",
    "td-qp\n",
    "aq-cg\n",
    "wq-ub\n",
    "ub-vc\n",
    "de-ta\n",
    "wq-aq\n",
    "wq-vc\n",
    "wh-yn\n",
    "ka-de\n",
    "kh-ta\n",
    "co-tc\n",
    "wh-qp\n",
    "tb-vc\n",
    "td-yn\"\"\")\n",
    "\n",
    "three_cliques(test_data)"
   ]
  },
  {
   "cell_type": "code",
   "execution_count": 9,
   "id": "ec98eddc-a6df-4429-929a-f9dd60c80f71",
   "metadata": {},
   "outputs": [
    {
     "data": {
      "text/plain": [
       "7"
      ]
     },
     "execution_count": 9,
     "metadata": {},
     "output_type": "execute_result"
    }
   ],
   "source": [
    "def part_1(g):\n",
    "    return sum(\n",
    "        1 \n",
    "        for c in three_cliques(g)\n",
    "        if any(n.startswith(\"t\") for n in c)\n",
    "    )\n",
    "\n",
    "part_1(test_data)"
   ]
  },
  {
   "cell_type": "code",
   "execution_count": 10,
   "id": "7f56cd02-0197-4e5e-9bc0-900e56054b0d",
   "metadata": {},
   "outputs": [
    {
     "data": {
      "text/plain": [
       "1000"
      ]
     },
     "execution_count": 10,
     "metadata": {},
     "output_type": "execute_result"
    }
   ],
   "source": [
    "data = parse_data(open(\"input\").read())\n",
    "part_1(data)"
   ]
  },
  {
   "cell_type": "markdown",
   "id": "03441fc2-8723-488e-a15b-89c285b660b1",
   "metadata": {},
   "source": [
    "## Part 2\n",
    "Use [Bron-Kerbosch](https://en.wikipedia.org/wiki/Bron%E2%80%93Kerbosch_algorithm)."
   ]
  },
  {
   "cell_type": "code",
   "execution_count": 19,
   "id": "46291a28-b79f-4301-b4c4-d1c908089256",
   "metadata": {},
   "outputs": [
    {
     "data": {
      "text/plain": [
       "frozenset({'co', 'de', 'ka', 'ta'})"
      ]
     },
     "execution_count": 19,
     "metadata": {},
     "output_type": "execute_result"
    }
   ],
   "source": [
    "def max_clique(g):\n",
    "    def bron_kerbosch(r, p, x):\n",
    "        if not p and not x:\n",
    "            yield r\n",
    "        while p:\n",
    "            n = next(iter(p))\n",
    "            yield from bron_kerbosch(r | frozenset({n}), p & g[n], x & g[n])\n",
    "            p = p - {n}\n",
    "            x = x | {n}\n",
    "\n",
    "    return max(bron_kerbosch(frozenset(), frozenset(g), frozenset()), key=len)\n",
    "\n",
    "max_clique(test_data)"
   ]
  },
  {
   "cell_type": "code",
   "execution_count": 20,
   "id": "166e9780-0901-4621-bca5-78cbe8b67e34",
   "metadata": {},
   "outputs": [
    {
     "data": {
      "text/plain": [
       "'co,de,ka,ta'"
      ]
     },
     "execution_count": 20,
     "metadata": {},
     "output_type": "execute_result"
    }
   ],
   "source": [
    "def part_2(g):\n",
    "    return \",\".join(sorted(max_clique(g)))\n",
    "\n",
    "part_2(test_data)"
   ]
  },
  {
   "cell_type": "code",
   "execution_count": 21,
   "id": "44df7d85-f299-42c0-a06f-e49e431adfd4",
   "metadata": {},
   "outputs": [
    {
     "data": {
      "text/plain": [
       "'cf,ct,cv,cz,fi,lq,my,pa,sl,tt,vw,wz,yd'"
      ]
     },
     "execution_count": 21,
     "metadata": {},
     "output_type": "execute_result"
    }
   ],
   "source": [
    "part_2(data)"
   ]
  },
  {
   "cell_type": "code",
   "execution_count": null,
   "id": "9f766b05-1e11-49d8-9b64-1596ce9c262f",
   "metadata": {},
   "outputs": [],
   "source": []
  }
 ],
 "metadata": {
  "kernelspec": {
   "display_name": "Python 3 (ipykernel)",
   "language": "python",
   "name": "python3"
  },
  "language_info": {
   "codemirror_mode": {
    "name": "ipython",
    "version": 3
   },
   "file_extension": ".py",
   "mimetype": "text/x-python",
   "name": "python",
   "nbconvert_exporter": "python",
   "pygments_lexer": "ipython3",
   "version": "3.13.0"
  }
 },
 "nbformat": 4,
 "nbformat_minor": 5
}
