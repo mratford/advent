{
 "cells": [
  {
   "cell_type": "markdown",
   "id": "2acfac32",
   "metadata": {},
   "source": [
    "# Day 21\n",
    "## Part 1\n",
    "I thought this was a reasonably simple dynamic programming problem but I got in a real mess. Wish I hadn't started."
   ]
  },
  {
   "cell_type": "code",
   "execution_count": 74,
   "id": "2e57b940",
   "metadata": {},
   "outputs": [
    {
     "data": {
      "text/plain": [
       "68"
      ]
     },
     "execution_count": 74,
     "metadata": {},
     "output_type": "execute_result"
    }
   ],
   "source": [
    "from functools import cache\n",
    "from dataclasses import dataclass\n",
    "\n",
    "@dataclass(eq=True, frozen=True)\n",
    "class Point:\n",
    "    x: int\n",
    "    y: int\n",
    "\n",
    "    def __add__(self, other):\n",
    "        return self.__class__(self.x + other.x, self.y + other.y)\n",
    "\n",
    "    def __sub__(self, other):\n",
    "        return self.__class__(self.x - other.x, self.y - other.y)\n",
    "\n",
    "    def __neg__(self):\n",
    "        return self.__class__(-self.x, -self.y)\n",
    "\n",
    "    def __lt__(self, other):\n",
    "        if self.x < other.x:\n",
    "            return True\n",
    "        elif self.x > other.x:\n",
    "            return False\n",
    "        else:\n",
    "            return self.y < other.y\n",
    "\n",
    "    def __iter__(self):\n",
    "        yield self.x\n",
    "        yield self.y\n",
    "\n",
    "    def __mod__(self, other):\n",
    "        if isinstance(other, Point):\n",
    "            return self.__class__(self.x % other.x, self.y % other.y)\n",
    "        else:\n",
    "            return self.__class__(self.x % other, self.y % other)\n",
    "        \n",
    "    def __mul__(self, multiple):\n",
    "        return self.__class__(self.x * multiple, self.y * multiple)\n",
    "\n",
    "N = Point(0, 1)\n",
    "S = Point(0, -1)\n",
    "W = Point(-1, 0)\n",
    "E = Point(1, 0)\n",
    "\n",
    "DIRECTIONS = {N, E, S, W}\n",
    "\n",
    "def manhattan(p1, p2):\n",
    "    return abs(p1.x - p2.x) + abs(p1.y - p2.y)\n",
    "\n",
    "\n",
    "def keypad(rows):\n",
    "    pad = {}\n",
    "    for y, line in enumerate(reversed(rows)):\n",
    "        for x, c in enumerate(line):\n",
    "            pad[c] = Point(x, y)\n",
    "    return pad\n",
    "\n",
    "@cache\n",
    "def nkeypad():\n",
    "    return keypad([\"789\", \"456\", \"123\", \" 0A\"])\n",
    "\n",
    "@cache\n",
    "def dkeypad():\n",
    "    return keypad([\" ^A\", \"<v>\"])\n",
    "\n",
    "def dir_presses(p_from, p_to, pad):\n",
    "    p_from = pad[p_from]\n",
    "    p_to = pad[p_to]\n",
    "    d = p_to - p_from\n",
    "    dx = 1 if d.x > 0 else -1\n",
    "    dy = 1 if d.y > 0 else -1\n",
    "    xs = list(range(p_from.x, p_to.x + dx, dx))\n",
    "    ys = list(range(p_from.y, p_to.y + dy, dy))\n",
    "    xstr = (\"<\" if dx == -1 else \">\") * abs(d.x)\n",
    "    ystr = (\"v\" if dy == -1 else \"^\") * abs(d.y)\n",
    "\n",
    "    result = set()\n",
    "    if not (pad[\" \"].y == p_to.y and pad[\" \"].x in xs):\n",
    "        result.add(ystr + xstr + \"A\")\n",
    "    if not (pad[\" \"].x == p_to.x and pad[\" \"].y in ys):\n",
    "        result.add(xstr + ystr + \"A\")\n",
    "    return result\n",
    "\n",
    "@cache\n",
    "def d_dir_presses(p_from, p_to):\n",
    "    return dir_presses(p_from, p_to, dkeypad())\n",
    "\n",
    "def min_path(code):\n",
    "    result = 0\n",
    "    for p1, p2 in zip(\"A\" + code, code):\n",
    "        result += min(\n",
    "            min_path_d(s, 2) \n",
    "            for s in dir_presses(p1, p2, nkeypad())\n",
    "        )\n",
    "    return result\n",
    "\n",
    "@cache\n",
    "def min_path_d(ds, robot_no):\n",
    "    if robot_no == 0:\n",
    "        return len(ds)\n",
    "    result = 0\n",
    "    for p1, p2 in zip(\"A\" + ds, ds):\n",
    "        result += min(\n",
    "            min_path_d(s, robot_no - 1) \n",
    "            for s in d_dir_presses(p1, p2)\n",
    "        )\n",
    "    return result\n",
    "\n",
    "min_path(\"029A\")"
   ]
  },
  {
   "cell_type": "code",
   "execution_count": 75,
   "id": "194f351d-8c2c-4167-a980-f169d05d25aa",
   "metadata": {},
   "outputs": [
    {
     "name": "stdout",
     "output_type": "stream",
     "text": [
      "029A 68\n",
      "980A 60\n",
      "179A 68\n",
      "456A 64\n",
      "379A 64\n"
     ]
    }
   ],
   "source": [
    "def parse_data(s):\n",
    "    return s.strip().splitlines()\n",
    "\n",
    "test_data = parse_data(\"\"\"029A\n",
    "980A\n",
    "179A\n",
    "456A\n",
    "379A\"\"\")\n",
    "\n",
    "def part_1(data):\n",
    "    return sum(\n",
    "        int(code[:-1]) * min_path(code) \n",
    "        for code in data\n",
    "    )\n",
    "\n",
    "for code in test_data:\n",
    "    print(code, min_path(code))"
   ]
  },
  {
   "cell_type": "code",
   "execution_count": 77,
   "id": "bbddf6d9-1321-4ca0-bf3f-e0faf8377387",
   "metadata": {},
   "outputs": [
    {
     "data": {
      "text/plain": [
       "126384"
      ]
     },
     "execution_count": 77,
     "metadata": {},
     "output_type": "execute_result"
    }
   ],
   "source": [
    "part_1(test_data)"
   ]
  },
  {
   "cell_type": "code",
   "execution_count": 78,
   "id": "ddd7ed8f-ac56-4990-9c53-3c9b61e195f9",
   "metadata": {},
   "outputs": [
    {
     "data": {
      "text/plain": [
       "215374"
      ]
     },
     "execution_count": 78,
     "metadata": {},
     "output_type": "execute_result"
    }
   ],
   "source": [
    "data = parse_data(open(\"input\").read())\n",
    "\n",
    "part_1(data)"
   ]
  },
  {
   "cell_type": "markdown",
   "id": "f478a4e7-3100-4a1d-80f2-63fecfb1ad22",
   "metadata": {},
   "source": [
    "## Part 2"
   ]
  },
  {
   "cell_type": "code",
   "execution_count": 80,
   "id": "0cbcf959-0d3a-4952-a156-1b0ff63b8d1f",
   "metadata": {},
   "outputs": [
    {
     "data": {
      "text/plain": [
       "260586897262600"
      ]
     },
     "execution_count": 80,
     "metadata": {},
     "output_type": "execute_result"
    }
   ],
   "source": [
    "def min_path_2(code):\n",
    "    result = 0\n",
    "    for p1, p2 in zip(\"A\" + code, code):\n",
    "        result += min(\n",
    "            min_path_d(s, 25) \n",
    "            for s in dir_presses(p1, p2, nkeypad())\n",
    "        )\n",
    "    return result\n",
    "\n",
    "def part_2(data):\n",
    "    return sum(\n",
    "        int(code[:-1]) * min_path_2(code) \n",
    "        for code in data\n",
    "    )\n",
    "\n",
    "part_2(data)"
   ]
  },
  {
   "cell_type": "code",
   "execution_count": null,
   "id": "297bf53f-ccf1-4828-a017-008db7be7225",
   "metadata": {},
   "outputs": [],
   "source": []
  }
 ],
 "metadata": {
  "kernelspec": {
   "display_name": "Python 3 (ipykernel)",
   "language": "python",
   "name": "python3"
  },
  "language_info": {
   "codemirror_mode": {
    "name": "ipython",
    "version": 3
   },
   "file_extension": ".py",
   "mimetype": "text/x-python",
   "name": "python",
   "nbconvert_exporter": "python",
   "pygments_lexer": "ipython3",
   "version": "3.12.7"
  }
 },
 "nbformat": 4,
 "nbformat_minor": 5
}
