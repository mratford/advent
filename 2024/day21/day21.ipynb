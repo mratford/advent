{
 "cells": [
  {
   "cell_type": "markdown",
   "id": "2acfac32",
   "metadata": {},
   "source": [
    "# Day 21\n",
    "## Part 1\n",
    "\n",
    "This seems to be a bit simpler, though fiddly, than it first appears. The order of key presses does not need to be optimised as it will always be a shortest Manhattam path with $x$ steps left or right and $y$ steps up or down. The blank button is a red herring."
   ]
  },
  {
   "cell_type": "code",
   "execution_count": 23,
   "id": "2e57b940",
   "metadata": {},
   "outputs": [
    {
     "data": {
      "text/plain": [
       "'<A^A>^^AvvvA'"
      ]
     },
     "execution_count": 23,
     "metadata": {},
     "output_type": "execute_result"
    }
   ],
   "source": [
    "from functools import cache\n",
    "from dataclasses import dataclass\n",
    "\n",
    "@dataclass(eq=True, frozen=True)\n",
    "class Point:\n",
    "    x: int\n",
    "    y: int\n",
    "\n",
    "    def __add__(self, other):\n",
    "        return self.__class__(self.x + other.x, self.y + other.y)\n",
    "\n",
    "    def __sub__(self, other):\n",
    "        return self.__class__(self.x - other.x, self.y - other.y)\n",
    "\n",
    "    def __neg__(self):\n",
    "        return self.__class__(-self.x, -self.y)\n",
    "\n",
    "    def __lt__(self, other):\n",
    "        if self.x < other.x:\n",
    "            return True\n",
    "        elif self.x > other.x:\n",
    "            return False\n",
    "        else:\n",
    "            return self.y < other.y\n",
    "\n",
    "    def __iter__(self):\n",
    "        yield self.x\n",
    "        yield self.y\n",
    "\n",
    "    def __mod__(self, other):\n",
    "        if isinstance(other, Point):\n",
    "            return self.__class__(self.x % other.x, self.y % other.y)\n",
    "        else:\n",
    "            return self.__class__(self.x % other, self.y % other)\n",
    "        \n",
    "    def __mul__(self, multiple):\n",
    "        return self.__class__(self.x * multiple, self.y * multiple)\n",
    "\n",
    "N = Point(0, 1)\n",
    "S = Point(0, -1)\n",
    "W = Point(-1, 0)\n",
    "E = Point(1, 0)\n",
    "\n",
    "DIRECTIONS = {N, E, S, W}\n",
    "\n",
    "def manhattan(p1, p2):\n",
    "    return abs(p1.x - p2.x) + abs(p1.y - p2.y)\n",
    "\n",
    "@cache\n",
    "def nkeypad():\n",
    "    pad = {}\n",
    "    for y, line in enumerate(\n",
    "        reversed(\n",
    "            [\n",
    "                \"789\",\n",
    "                \"456\",\n",
    "                \"123\",\n",
    "                \" 0A\"\n",
    "            ]\n",
    "        )\n",
    "    ):\n",
    "        for x, c in enumerate(line):\n",
    "            pad[c] = Point(x, y)\n",
    "    del pad[\" \"]\n",
    "    return pad\n",
    "\n",
    "@cache\n",
    "def dkeypad():\n",
    "    pad = {}\n",
    "    for y, line in enumerate(\n",
    "        reversed(\n",
    "            [\n",
    "                \" ^A\",\n",
    "                \"<v>\",\n",
    "            ]\n",
    "        )\n",
    "    ):\n",
    "        for x, c in enumerate(line):\n",
    "            pad[c] = Point(x, y)\n",
    "    del pad[\" \"]\n",
    "    return pad\n",
    "\n",
    "@cache\n",
    "def dir_presses(p_from, p_to):\n",
    "    d = p_to - p_from\n",
    "    return (\n",
    "        (\"<\" * abs(d.x) if d.x < 0 else \">\" * d.x)\n",
    "        + (\"v\" * abs(d.y) if d.y < 0 else \"^\" * d.y)\n",
    "    )\n",
    "\n",
    "def presses(s, pad):\n",
    "    result = \"\"\n",
    "    for p1, p2 in zip(\"A\" + s, s):\n",
    "        result += dir_presses(pad[p1], pad[p2]) + \"A\"\n",
    "    return result\n",
    "\n",
    "presses(\"029A\", nkeypad())"
   ]
  },
  {
   "cell_type": "code",
   "execution_count": 26,
   "id": "453587ed-cbe2-418b-a553-8c4bc902ceb3",
   "metadata": {},
   "outputs": [
    {
     "data": {
      "text/plain": [
       "148"
      ]
     },
     "execution_count": 26,
     "metadata": {},
     "output_type": "execute_result"
    }
   ],
   "source": [
    "@cache\n",
    "def dpad_presses(c, robot_n):\n",
    "    ps = presses(c, dkeypad())\n",
    "    return (\n",
    "        len(ps) if robot_n == 0 \n",
    "        else sum(dpad_presses(p, robot_n - 1) for p in ps)\n",
    "    )\n",
    "\n",
    "def total_presses(code):\n",
    "    return sum(\n",
    "        dpad_presses(p, 2)\n",
    "        for p in presses(code, nkeypad())\n",
    "    )\n",
    "\n",
    "total_presses(\"029A\")"
   ]
  },
  {
   "cell_type": "code",
   "execution_count": 22,
   "id": "194f351d-8c2c-4167-a980-f169d05d25aa",
   "metadata": {},
   "outputs": [
    {
     "data": {
      "text/plain": [
       "{'0': Point(x=1, y=0),\n",
       " 'A': Point(x=2, y=0),\n",
       " '1': Point(x=0, y=1),\n",
       " '2': Point(x=1, y=1),\n",
       " '3': Point(x=2, y=1),\n",
       " '4': Point(x=0, y=2),\n",
       " '5': Point(x=1, y=2),\n",
       " '6': Point(x=2, y=2),\n",
       " '7': Point(x=0, y=3),\n",
       " '8': Point(x=1, y=3),\n",
       " '9': Point(x=2, y=3)}"
      ]
     },
     "execution_count": 22,
     "metadata": {},
     "output_type": "execute_result"
    }
   ],
   "source": [
    "nkeypad()"
   ]
  },
  {
   "cell_type": "code",
   "execution_count": null,
   "id": "4b854d80-9f76-4d5e-8083-9d47d3d631c0",
   "metadata": {},
   "outputs": [],
   "source": []
  }
 ],
 "metadata": {
  "kernelspec": {
   "display_name": "Python 3 (ipykernel)",
   "language": "python",
   "name": "python3"
  },
  "language_info": {
   "codemirror_mode": {
    "name": "ipython",
    "version": 3
   },
   "file_extension": ".py",
   "mimetype": "text/x-python",
   "name": "python",
   "nbconvert_exporter": "python",
   "pygments_lexer": "ipython3",
   "version": "3.13.0"
  }
 },
 "nbformat": 4,
 "nbformat_minor": 5
}
