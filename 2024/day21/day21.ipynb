{
 "cells": [
  {
   "cell_type": "markdown",
   "id": "2acfac32",
   "metadata": {},
   "source": [
    "# Day 21\n",
    "## Part 1\n"
   ]
  },
  {
   "cell_type": "code",
   "execution_count": null,
   "id": "2e57b940",
   "metadata": {},
   "outputs": [],
   "source": []
  }
 ],
 "metadata": {},
 "nbformat": 4,
 "nbformat_minor": 5
}
