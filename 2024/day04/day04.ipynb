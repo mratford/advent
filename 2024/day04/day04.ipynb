{
 "cells": [
  {
   "cell_type": "markdown",
   "id": "bffd3436",
   "metadata": {},
   "source": [
    "# Day 4\n",
    "## Part 1\n"
   ]
  },
  {
   "cell_type": "code",
   "execution_count": null,
   "id": "6f7ba2a0",
   "metadata": {},
   "outputs": [],
   "source": []
  }
 ],
 "metadata": {},
 "nbformat": 4,
 "nbformat_minor": 5
}
