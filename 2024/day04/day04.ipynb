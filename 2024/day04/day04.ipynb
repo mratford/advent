{
 "cells": [
  {
   "cell_type": "markdown",
   "id": "bffd3436",
   "metadata": {},
   "source": [
    "# Day 4\n",
    "## Part 1\n",
    "This is a bit tedious. Use numpy as it makes generating the diagonals relatively straightforward."
   ]
  },
  {
   "cell_type": "code",
   "execution_count": 1,
   "id": "6f7ba2a0",
   "metadata": {},
   "outputs": [],
   "source": [
    "import numpy as np\n",
    "\n",
    "test_data = \"\"\"MMMSXXMASM\n",
    "MSAMXMSMSA\n",
    "AMXSXMAAMM\n",
    "MSAMASMSMX\n",
    "XMASAMXAMM\n",
    "XXAMMXXAMA\n",
    "SMSMSASXSS\n",
    "SAXAMASAAA\n",
    "MAMMMXMMMM\n",
    "MXMXAXMASX\"\"\"\n",
    "\n",
    "def count_xmas(s):\n",
    "    return s.count(\"XMAS\") + s.count(\"SAMX\")\n",
    "\n",
    "def all_lines_np(s):\n",
    "    data = np.array([list(line) for line in s.strip().splitlines()])\n",
    "    # horizontal\n",
    "    yield from data\n",
    "    # vertical\n",
    "    yield from data.T\n",
    "    # diagonals\n",
    "    nx, ny = data.shape\n",
    "    for i in range(-ny + 1, nx):\n",
    "        yield data.diagonal(offset=i)\n",
    "        yield np.fliplr(data).diagonal(offset=i)\n",
    "\n",
    "def all_lines(s):\n",
    "    for line in all_lines_np(s):\n",
    "        yield \"\".join(line)\n",
    "\n",
    "def part_1(data):\n",
    "    return sum(count_xmas(line) for line in all_lines(data))\n",
    "\n",
    "assert part_1(test_data) == 18"
   ]
  },
  {
   "cell_type": "code",
   "execution_count": 2,
   "id": "5ad5ebde-854b-4ca7-89cc-34b76faa8993",
   "metadata": {},
   "outputs": [
    {
     "data": {
      "text/plain": [
       "2573"
      ]
     },
     "execution_count": 2,
     "metadata": {},
     "output_type": "execute_result"
    }
   ],
   "source": [
    "data = open(\"input\").read()\n",
    "part_1(data)"
   ]
  },
  {
   "cell_type": "markdown",
   "id": "8c927d35-5745-4829-bf0a-429bbae99054",
   "metadata": {},
   "source": [
    "## Part 2\n",
    "Unless I'm missing a trick this is very tedious."
   ]
  },
  {
   "cell_type": "code",
   "execution_count": 3,
   "id": "2ae6c706-0949-4428-8deb-f8e20d41b09d",
   "metadata": {},
   "outputs": [],
   "source": [
    "def part_2(s):\n",
    "    grid = s.strip().splitlines()\n",
    "    nrows = len(grid)\n",
    "    ncols = len(grid)\n",
    "    total = 0\n",
    "    for r in range(1, nrows - 1):\n",
    "        for c in range(1, ncols - 1):\n",
    "            x = grid[r-1][c-1] + grid[r-1][c+1] + grid[r][c] + grid[r+1][c-1] + grid[r+1][c+1]\n",
    "            if x in (\"MMASS\", \"SSAMM\", \"SMASM\", \"MSAMS\"):\n",
    "                total += 1\n",
    "    return total\n",
    "\n",
    "assert part_2(test_data) == 9"
   ]
  },
  {
   "cell_type": "code",
   "execution_count": 4,
   "id": "435f3a94-5758-4b4e-b435-7c7881a25a49",
   "metadata": {},
   "outputs": [
    {
     "data": {
      "text/plain": [
       "1850"
      ]
     },
     "execution_count": 4,
     "metadata": {},
     "output_type": "execute_result"
    }
   ],
   "source": [
    "part_2(data)"
   ]
  },
  {
   "cell_type": "code",
   "execution_count": null,
   "id": "ecae1e4f-ab3f-4c47-837c-a3ff7c320fc6",
   "metadata": {},
   "outputs": [],
   "source": []
  }
 ],
 "metadata": {
  "kernelspec": {
   "display_name": "Python 3 (ipykernel)",
   "language": "python",
   "name": "python3"
  },
  "language_info": {
   "codemirror_mode": {
    "name": "ipython",
    "version": 3
   },
   "file_extension": ".py",
   "mimetype": "text/x-python",
   "name": "python",
   "nbconvert_exporter": "python",
   "pygments_lexer": "ipython3",
   "version": "3.13.0"
  }
 },
 "nbformat": 4,
 "nbformat_minor": 5
}
