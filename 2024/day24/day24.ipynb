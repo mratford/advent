{
 "cells": [
  {
   "cell_type": "markdown",
   "id": "00d3720b",
   "metadata": {},
   "source": [
    "# Day 24\n",
    "## Part 1\n"
   ]
  },
  {
   "cell_type": "code",
   "execution_count": 8,
   "id": "501f61d3",
   "metadata": {},
   "outputs": [
    {
     "data": {
      "text/plain": [
       "(pmap({'y02': 0, 'x01': 1, 'y00': 0, 'x00': 1, 'y01': 1, 'x02': 1}),\n",
       " pmap({'z01': Gate(input1='x01', op='XOR', input2='y01'), 'z02': Gate(input1='x02', op='OR', input2='y02'), 'z00': Gate(input1='x00', op='AND', input2='y00')}))"
      ]
     },
     "execution_count": 8,
     "metadata": {},
     "output_type": "execute_result"
    }
   ],
   "source": [
    "from collections import namedtuple\n",
    "from pyrsistent import pmap\n",
    "\n",
    "Gate = namedtuple(\"Gate\", \"input1 op input2\")\n",
    "\n",
    "ops = {\n",
    "    \"AND\": lambda x, y: x & y,\n",
    "    \"OR\": lambda x, y: x | y,\n",
    "    \"XOR\": lambda x, y: x ^ y\n",
    "}\n",
    "\n",
    "def parse_data(s):\n",
    "    chunks = s.strip().split(\"\\n\\n\")\n",
    "\n",
    "    values = {}\n",
    "    for line in chunks[0].splitlines():\n",
    "        wire, value = line.split(\": \")\n",
    "        values[wire] = int(value)\n",
    "\n",
    "    gates = {}\n",
    "    for line in chunks[1].splitlines():\n",
    "        inputs, output = line.split(\" -> \")\n",
    "        gates[output] = Gate(*inputs.split())\n",
    "\n",
    "    return pmap(values), pmap(gates)\n",
    "\n",
    "test_data = parse_data(\"\"\"x00: 1\n",
    "x01: 1\n",
    "x02: 1\n",
    "y00: 0\n",
    "y01: 1\n",
    "y02: 0\n",
    "\n",
    "x00 AND y00 -> z00\n",
    "x01 XOR y01 -> z01\n",
    "x02 OR y02 -> z02\"\"\")\n",
    "\n",
    "test_data"
   ]
  },
  {
   "cell_type": "code",
   "execution_count": 23,
   "id": "d8d7fe89-4262-45e2-894e-0d89f7108d4c",
   "metadata": {},
   "outputs": [
    {
     "data": {
      "text/plain": [
       "4"
      ]
     },
     "execution_count": 23,
     "metadata": {},
     "output_type": "execute_result"
    }
   ],
   "source": [
    "import graphlib\n",
    "\n",
    "def part_1(data):\n",
    "    values, gates = data\n",
    "\n",
    "    ts = graphlib.TopologicalSorter()\n",
    "    for g in gates:\n",
    "        ts.add(g, gates[g].input1, gates[g].input2)\n",
    "\n",
    "    for wire in ts.static_order():\n",
    "        if wire not in values:\n",
    "            g = gates[wire]\n",
    "            values = values.set(\n",
    "                wire, ops[g.op](values[g.input1], values[g.input2])\n",
    "            )\n",
    "\n",
    "    zs = [wire for wire in values if wire.startswith(\"z\")]\n",
    "    binary = \"\".join(str(values[x]) for x in reversed(sorted(zs)))\n",
    "    return int(binary, 2)\n",
    "    \n",
    "part_1(test_data)"
   ]
  },
  {
   "cell_type": "code",
   "execution_count": 24,
   "id": "2e9a8247-4985-4cb2-9417-d2e5067df1ca",
   "metadata": {},
   "outputs": [
    {
     "data": {
      "text/plain": [
       "2024"
      ]
     },
     "execution_count": 24,
     "metadata": {},
     "output_type": "execute_result"
    }
   ],
   "source": [
    "test_data_2 = parse_data(\"\"\"x00: 1\n",
    "x01: 0\n",
    "x02: 1\n",
    "x03: 1\n",
    "x04: 0\n",
    "y00: 1\n",
    "y01: 1\n",
    "y02: 1\n",
    "y03: 1\n",
    "y04: 1\n",
    "\n",
    "ntg XOR fgs -> mjb\n",
    "y02 OR x01 -> tnw\n",
    "kwq OR kpj -> z05\n",
    "x00 OR x03 -> fst\n",
    "tgd XOR rvg -> z01\n",
    "vdt OR tnw -> bfw\n",
    "bfw AND frj -> z10\n",
    "ffh OR nrd -> bqk\n",
    "y00 AND y03 -> djm\n",
    "y03 OR y00 -> psh\n",
    "bqk OR frj -> z08\n",
    "tnw OR fst -> frj\n",
    "gnj AND tgd -> z11\n",
    "bfw XOR mjb -> z00\n",
    "x03 OR x00 -> vdt\n",
    "gnj AND wpb -> z02\n",
    "x04 AND y00 -> kjc\n",
    "djm OR pbm -> qhw\n",
    "nrd AND vdt -> hwm\n",
    "kjc AND fst -> rvg\n",
    "y04 OR y02 -> fgs\n",
    "y01 AND x02 -> pbm\n",
    "ntg OR kjc -> kwq\n",
    "psh XOR fgs -> tgd\n",
    "qhw XOR tgd -> z09\n",
    "pbm OR djm -> kpj\n",
    "x03 XOR y03 -> ffh\n",
    "x00 XOR y04 -> ntg\n",
    "bfw OR bqk -> z06\n",
    "nrd XOR fgs -> wpb\n",
    "frj XOR qhw -> z04\n",
    "bqk OR frj -> z07\n",
    "y03 OR x01 -> nrd\n",
    "hwm AND bqk -> z03\n",
    "tgd XOR rvg -> z12\n",
    "tnw OR pbm -> gnj\"\"\")\n",
    "\n",
    "part_1(test_data_2)"
   ]
  },
  {
   "cell_type": "code",
   "execution_count": 25,
   "id": "4abc4d00-8a75-435c-bd84-a34538c459bf",
   "metadata": {},
   "outputs": [
    {
     "data": {
      "text/plain": [
       "69201640933606"
      ]
     },
     "execution_count": 25,
     "metadata": {},
     "output_type": "execute_result"
    }
   ],
   "source": [
    "data = parse_data(open(\"input\").read())\n",
    "\n",
    "part_1(data)"
   ]
  },
  {
   "cell_type": "markdown",
   "id": "fc0d0098-ea18-4f9c-a95b-13a244710b85",
   "metadata": {},
   "source": [
    "## Part 2\n",
    "\n",
    "Chunky! How many bits are in the values to be added?"
   ]
  },
  {
   "cell_type": "code",
   "execution_count": 29,
   "id": "8881a60a-4690-46be-aa92-750b87edf3db",
   "metadata": {},
   "outputs": [
    {
     "data": {
      "text/plain": [
       "45"
      ]
     },
     "execution_count": 29,
     "metadata": {},
     "output_type": "execute_result"
    }
   ],
   "source": [
    "values, gates = data\n",
    "len([v for v in values if v.startswith(\"x\")])"
   ]
  },
  {
   "cell_type": "code",
   "execution_count": null,
   "id": "eaf9d383-e67e-4f48-b41d-1a458995bdb0",
   "metadata": {},
   "outputs": [],
   "source": []
  }
 ],
 "metadata": {
  "kernelspec": {
   "display_name": "Python 3 (ipykernel)",
   "language": "python",
   "name": "python3"
  },
  "language_info": {
   "codemirror_mode": {
    "name": "ipython",
    "version": 3
   },
   "file_extension": ".py",
   "mimetype": "text/x-python",
   "name": "python",
   "nbconvert_exporter": "python",
   "pygments_lexer": "ipython3",
   "version": "3.12.7"
  }
 },
 "nbformat": 4,
 "nbformat_minor": 5
}
