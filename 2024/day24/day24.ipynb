{
 "cells": [
  {
   "cell_type": "markdown",
   "id": "00d3720b",
   "metadata": {},
   "source": [
    "# Day 24\n",
    "## Part 1\n"
   ]
  },
  {
   "cell_type": "code",
   "execution_count": null,
   "id": "501f61d3",
   "metadata": {},
   "outputs": [],
   "source": []
  }
 ],
 "metadata": {},
 "nbformat": 4,
 "nbformat_minor": 5
}
