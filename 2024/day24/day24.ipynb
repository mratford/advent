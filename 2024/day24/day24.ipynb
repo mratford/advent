{
 "cells": [
  {
   "cell_type": "markdown",
   "id": "00d3720b",
   "metadata": {},
   "source": [
    "# Day 24\n",
    "## Part 1\n",
    "I'm going to use graphlib to sort the DAG."
   ]
  },
  {
   "cell_type": "code",
   "execution_count": 4,
   "id": "501f61d3",
   "metadata": {},
   "outputs": [
    {
     "data": {
      "text/plain": [
       "(pmap({'y01': 1, 'x00': 1, 'x01': 1, 'y00': 0, 'x02': 1, 'y02': 0}),\n",
       " pmap({'z00': Gate(input1='x00', op='AND', input2='y00'), 'z02': Gate(input1='x02', op='OR', input2='y02'), 'z01': Gate(input1='x01', op='XOR', input2='y01')}))"
      ]
     },
     "execution_count": 4,
     "metadata": {},
     "output_type": "execute_result"
    }
   ],
   "source": [
    "from collections import namedtuple\n",
    "from pyrsistent import pmap\n",
    "\n",
    "Gate = namedtuple(\"Gate\", \"input1 op input2\")\n",
    "\n",
    "ops = {\n",
    "    \"AND\": lambda x, y: x & y,\n",
    "    \"OR\": lambda x, y: x | y,\n",
    "    \"XOR\": lambda x, y: x ^ y\n",
    "}\n",
    "\n",
    "def parse_data(s):\n",
    "    chunks = s.strip().split(\"\\n\\n\")\n",
    "\n",
    "    values = {}\n",
    "    for line in chunks[0].splitlines():\n",
    "        wire, value = line.split(\": \")\n",
    "        values[wire] = int(value)\n",
    "\n",
    "    gates = {}\n",
    "    for line in chunks[1].splitlines():\n",
    "        inputs, output = line.split(\" -> \")\n",
    "        gates[output] = Gate(*inputs.split())\n",
    "\n",
    "    return pmap(values), pmap(gates)\n",
    "\n",
    "test_data = parse_data(\"\"\"x00: 1\n",
    "x01: 1\n",
    "x02: 1\n",
    "y00: 0\n",
    "y01: 1\n",
    "y02: 0\n",
    "\n",
    "x00 AND y00 -> z00\n",
    "x01 XOR y01 -> z01\n",
    "x02 OR y02 -> z02\"\"\")\n",
    "\n",
    "test_data"
   ]
  },
  {
   "cell_type": "code",
   "execution_count": 5,
   "id": "d8d7fe89-4262-45e2-894e-0d89f7108d4c",
   "metadata": {},
   "outputs": [
    {
     "data": {
      "text/plain": [
       "4"
      ]
     },
     "execution_count": 5,
     "metadata": {},
     "output_type": "execute_result"
    }
   ],
   "source": [
    "import graphlib\n",
    "\n",
    "def part_1(data):\n",
    "    values, gates = data\n",
    "\n",
    "    ts = graphlib.TopologicalSorter()\n",
    "    for g in gates:\n",
    "        ts.add(g, gates[g].input1, gates[g].input2)\n",
    "\n",
    "    for wire in ts.static_order():\n",
    "        if wire not in values:\n",
    "            g = gates[wire]\n",
    "            values = values.set(\n",
    "                wire, ops[g.op](values[g.input1], values[g.input2])\n",
    "            )\n",
    "\n",
    "    zs = [wire for wire in values if wire.startswith(\"z\")]\n",
    "    binary = \"\".join(str(values[x]) for x in reversed(sorted(zs)))\n",
    "    return int(binary, 2)\n",
    "    \n",
    "part_1(test_data)"
   ]
  },
  {
   "cell_type": "code",
   "execution_count": 6,
   "id": "2e9a8247-4985-4cb2-9417-d2e5067df1ca",
   "metadata": {},
   "outputs": [
    {
     "data": {
      "text/plain": [
       "2024"
      ]
     },
     "execution_count": 6,
     "metadata": {},
     "output_type": "execute_result"
    }
   ],
   "source": [
    "test_data_2 = parse_data(\"\"\"x00: 1\n",
    "x01: 0\n",
    "x02: 1\n",
    "x03: 1\n",
    "x04: 0\n",
    "y00: 1\n",
    "y01: 1\n",
    "y02: 1\n",
    "y03: 1\n",
    "y04: 1\n",
    "\n",
    "ntg XOR fgs -> mjb\n",
    "y02 OR x01 -> tnw\n",
    "kwq OR kpj -> z05\n",
    "x00 OR x03 -> fst\n",
    "tgd XOR rvg -> z01\n",
    "vdt OR tnw -> bfw\n",
    "bfw AND frj -> z10\n",
    "ffh OR nrd -> bqk\n",
    "y00 AND y03 -> djm\n",
    "y03 OR y00 -> psh\n",
    "bqk OR frj -> z08\n",
    "tnw OR fst -> frj\n",
    "gnj AND tgd -> z11\n",
    "bfw XOR mjb -> z00\n",
    "x03 OR x00 -> vdt\n",
    "gnj AND wpb -> z02\n",
    "x04 AND y00 -> kjc\n",
    "djm OR pbm -> qhw\n",
    "nrd AND vdt -> hwm\n",
    "kjc AND fst -> rvg\n",
    "y04 OR y02 -> fgs\n",
    "y01 AND x02 -> pbm\n",
    "ntg OR kjc -> kwq\n",
    "psh XOR fgs -> tgd\n",
    "qhw XOR tgd -> z09\n",
    "pbm OR djm -> kpj\n",
    "x03 XOR y03 -> ffh\n",
    "x00 XOR y04 -> ntg\n",
    "bfw OR bqk -> z06\n",
    "nrd XOR fgs -> wpb\n",
    "frj XOR qhw -> z04\n",
    "bqk OR frj -> z07\n",
    "y03 OR x01 -> nrd\n",
    "hwm AND bqk -> z03\n",
    "tgd XOR rvg -> z12\n",
    "tnw OR pbm -> gnj\"\"\")\n",
    "\n",
    "part_1(test_data_2)"
   ]
  },
  {
   "cell_type": "code",
   "execution_count": 9,
   "id": "4abc4d00-8a75-435c-bd84-a34538c459bf",
   "metadata": {},
   "outputs": [
    {
     "data": {
      "text/plain": [
       "69201640933606"
      ]
     },
     "execution_count": 9,
     "metadata": {},
     "output_type": "execute_result"
    }
   ],
   "source": [
    "data = parse_data(open(\"input\").read())\n",
    "\n",
    "part_1(data)"
   ]
  },
  {
   "cell_type": "markdown",
   "id": "fc0d0098-ea18-4f9c-a95b-13a244710b85",
   "metadata": {},
   "source": [
    "## Part 2\n",
    "\n",
    "Chunky! How many bits are in the values to be added?"
   ]
  },
  {
   "cell_type": "code",
   "execution_count": 10,
   "id": "8881a60a-4690-46be-aa92-750b87edf3db",
   "metadata": {},
   "outputs": [
    {
     "data": {
      "text/plain": [
       "45"
      ]
     },
     "execution_count": 10,
     "metadata": {},
     "output_type": "execute_result"
    }
   ],
   "source": [
    "values, gates = data\n",
    "len([v for v in values if v.startswith(\"x\")])"
   ]
  },
  {
   "cell_type": "markdown",
   "id": "2d72c4e9-840f-4f81-a7df-052ca009e155",
   "metadata": {},
   "source": [
    "I did the [nand2tetris](https://www.nand2tetris.org/) course a few years ago, and my solution for binary addition looks like\n",
    "```\n",
    "CHIP HalfAdder {\n",
    "    IN a, b;    // 1-bit inputs\n",
    "    OUT sum,    // Right bit of a + b \n",
    "        carry;  // Left bit of a + b\n",
    "\n",
    "    PARTS:\n",
    "    Xor (a = a, b = b, out = sum);\n",
    "    And (a = a, b = b, out = carry);\n",
    "}\n",
    "\n",
    "CHIP FullAdder {\n",
    "    IN a, b, c;  // 1-bit inputs\n",
    "    OUT sum,     // Right bit of a + b + c\n",
    "        carry;   // Left bit of a + b + c\n",
    "\n",
    "    PARTS:\n",
    "    HalfAdder (a = a, b = b, sum = sumab, carry = carryab);\n",
    "    HalfAdder (a = sumab, b = c, sum = sum, carry = carryabc);\n",
    "    Or (a = carryab, b = carryabc, out = carry);\n",
    "}\n",
    "\n",
    "CHIP Add16 {\n",
    "    IN a[16], b[16];\n",
    "    OUT out[16];\n",
    "\n",
    "    PARTS:\n",
    "    HalfAdder (a = a[0], b = b[0], sum = out[0], carry = carry0);\n",
    "    FullAdder (a = a[1], b = b[1], c = carry0, sum = out[1], carry = carry1);\n",
    "    FullAdder (a = a[2], b = b[2], c = carry1, sum = out[2], carry = carry2);\n",
    "    FullAdder (a = a[3], b = b[3], c = carry2, sum = out[3], carry = carry3);\n",
    "    ...\n",
    "}\n",
    "```\n",
    "\n",
    "So a three bit addition would be\n",
    "```\n",
    "x0 XOR y0 -> z0\n",
    "x0 AND y0 -> carry0\n",
    "x1 XOR y1 -> sum1\n",
    "x1 AND y1 -> carry1_1\n",
    "sum1 XOR carry0 -> z1\n",
    "sum1 AND carry0 -> carry0_1\n",
    "carry1_1 OR carry0_1 -> carry1\n",
    "x2 XOR y2 -> sum2\n",
    "x2 AND y2 -> carry2_1\n",
    "sum2 XOR carry1 -> z2\n",
    "sum2 AND carry1 -> carry1_2\n",
    "carry2_1 OR carry1_2 -> carry2\n",
    "```\n",
    "\n",
    "The number of gates, taking into account the last carry is not needed, would be"
   ]
  },
  {
   "cell_type": "code",
   "execution_count": 14,
   "id": "3f7537d4-4093-415f-b1c0-c67dbff5bbb1",
   "metadata": {},
   "outputs": [
    {
     "data": {
      "text/plain": [
       "221"
      ]
     },
     "execution_count": 14,
     "metadata": {},
     "output_type": "execute_result"
    }
   ],
   "source": [
    "4 + 5*44 - 3"
   ]
  },
  {
   "cell_type": "code",
   "execution_count": 11,
   "id": "96d55278-cebe-4f2b-9cca-b8c9708b879e",
   "metadata": {},
   "outputs": [
    {
     "data": {
      "text/plain": [
       "222"
      ]
     },
     "execution_count": 11,
     "metadata": {},
     "output_type": "execute_result"
    }
   ],
   "source": [
    "len(gates)"
   ]
  },
  {
   "cell_type": "markdown",
   "id": "dd0c9456-9b3a-40f2-933e-e3b405fa82aa",
   "metadata": {},
   "source": [
    "Oh, maybe an unnecessary carry is included? Or more likely I've made a mistake?\n",
    "\n",
    "I have two ideas - generate the correct gates and compare to the ones in the data, or eyeball them in pyvis. Try the latter to start with."
   ]
  },
  {
   "cell_type": "code",
   "execution_count": 47,
   "id": "e3775557-1dee-4c9d-9e86-c0fc3e9edc5e",
   "metadata": {},
   "outputs": [
    {
     "name": "stdout",
     "output_type": "stream",
     "text": [
      "Warning: When  cdn_resources is 'local' jupyter notebook has issues displaying graphics on chrome/safari. Use cdn_resources='in_line' or cdn_resources='remote' if you have issues viewing graphics in a notebook.\n",
      "graph.html\n"
     ]
    },
    {
     "data": {
      "text/html": [
       "\n",
       "        <iframe\n",
       "            width=\"100%\"\n",
       "            height=\"600px\"\n",
       "            src=\"graph.html\"\n",
       "            frameborder=\"0\"\n",
       "            allowfullscreen\n",
       "            \n",
       "        ></iframe>\n",
       "        "
      ],
      "text/plain": [
       "<IPython.lib.display.IFrame at 0x107ddd7f0>"
      ]
     },
     "execution_count": 47,
     "metadata": {},
     "output_type": "execute_result"
    }
   ],
   "source": [
    "values, gates = data\n",
    "\n",
    "from pyvis.network import Network\n",
    "g = Network(notebook=True, directed=True)\n",
    "for value in values:\n",
    "    g.add_node(value, color=\"#999999\")\n",
    "\n",
    "ts = graphlib.TopologicalSorter()\n",
    "for gate in gates:\n",
    "    ts.add(gate, gates[gate].input1, gates[gate].input2)\n",
    "\n",
    "for wire in ts.static_order():\n",
    "    if wire not in g.get_nodes():\n",
    "        if wire in gates:\n",
    "            gate = gates[wire]\n",
    "            match gate.op:\n",
    "                case \"AND\": color=\"#ff0000\"\n",
    "                case \"OR\": color=\"#00ff00\"\n",
    "                case \"XOR\": color=\"#0000ff\"\n",
    "\n",
    "            g.add_node(wire, label=f\"{gate.op} -> {wire}\", color=color)\n",
    "            g.add_edge(gate.input1, wire)\n",
    "            g.add_edge(gate.input2, wire)\n",
    "\n",
    "g.show(\"graph.html\")        "
   ]
  },
  {
   "cell_type": "markdown",
   "id": "c7756099-918a-411c-be16-8125af8f31dd",
   "metadata": {},
   "source": [
    "Eyeballing it is too hard, I'll have to automate it somehow. What the graph does show is that the swaps are localised as there are no links across the graph. The graph can be neatly split by the OR output nodes that contain the carry bit for the next section. These should look like, given an input `CARRY{N-1}` from the previous bit,\n",
    "```\n",
    "x{N} XOR y{N} -> SUM{N}\n",
    "x{N} AND y{N} -> SUBCARRY1{N}\n",
    "SUM{N} XOR CARRY{N-1} -> z{N}\n",
    "SUM{N} AND CARRY{N-1} -> SUBCARRY2{N}\n",
    "SUBCARRY1{N} OR SUBCARRY2{N} -> CARRY{N}\n",
    "```\n",
    "Apologies for the horrendous uncomposed code."
   ]
  },
  {
   "cell_type": "code",
   "execution_count": 62,
   "id": "89025e77-c9eb-4d17-8577-d05b81825fb9",
   "metadata": {},
   "outputs": [
    {
     "name": "stdout",
     "output_type": "stream",
     "text": [
      "Gate(input1='qgt', op='XOR', input2='gwq')\n",
      "gwq is here as CARRY0, is in fact SUBCARRY10\n",
      "Possibly expecting []\n",
      "\n",
      "Gate(input1='qgt', op='AND', input2='gwq')\n",
      "gwq is here as CARRY0, is in fact SUBCARRY10\n",
      "Possibly expecting []\n",
      "\n",
      "Gate(input1='kfp', op='AND', input2='fcw')\n",
      "kfp is here as SUM9, is in fact SUBCARRY19\n",
      "Possibly expecting ['hbs']\n",
      "\n",
      "Gate(input1='kfp', op='XOR', input2='fcw')\n",
      "kfp is here as SUM9, is in fact SUBCARRY19\n",
      "Possibly expecting ['hbs']\n",
      "\n",
      "Gate(input1='hbs', op='OR', input2='bqw')\n",
      "hbs is here as SUBCARRY19, is in fact SUM9\n",
      "Possibly expecting ['kfp']\n",
      "\n",
      "Gate(input1='pvk', op='XOR', input2='fwt')\n",
      "pvk is here as SUM18, is in fact SUM18\n",
      "Possibly expecting ['fwt']\n",
      "\n",
      "Gate(input1='dhq', op='OR', input2='qdb')\n",
      "dhq is here as SUBCARRY118, is in fact None\n",
      "Possibly expecting ['z18']\n",
      "\n",
      "Gate(input1='dcm', op='XOR', input2='dbp')\n",
      "dcm is here as SUM22, is in fact SUM22\n",
      "Possibly expecting ['dbp']\n",
      "\n",
      "Gate(input1='pdg', op='XOR', input2='tfm')\n",
      "pdg is here as CARRY22, is in fact None\n",
      "Possibly expecting ['z22']\n",
      "\n",
      "Gate(input1='pdg', op='AND', input2='tfm')\n",
      "pdg is here as CARRY22, is in fact None\n",
      "Possibly expecting ['z22']\n",
      "\n",
      "Gate(input1='ckj', op='XOR', input2='bch')\n",
      "ckj is here as SUM27, is in fact SUM27\n",
      "Possibly expecting ['ckj']\n",
      "\n",
      "Gate(input1='jcp', op='OR', input2='knm')\n",
      "jcp is here as SUBCARRY227, is in fact None\n",
      "Possibly expecting ['z27']\n",
      "\n"
     ]
    }
   ],
   "source": [
    "ts = graphlib.TopologicalSorter()\n",
    "for gate in gates:\n",
    "    ts.add(gate, gates[gate].input1, gates[gate].input2)\n",
    "\n",
    "d = {}\n",
    "\n",
    "for output, gate in [(x, gates[x]) for x in ts.static_order() if x not in values]:\n",
    "    if gate.input1.startswith(\"x\") or gate.input1.startswith(\"y\"):\n",
    "        n = int(gate.input1[1:])\n",
    "        if gate.op == \"XOR\":\n",
    "            d[output] = f\"SUM{n}\"\n",
    "        elif gate.op == \"AND\":\n",
    "            d[output] = f\"SUBCARRY1{n}\"\n",
    "    else:\n",
    "        a = gate.input1\n",
    "        b = gate.input2\n",
    "        o = output\n",
    "        da = d.get(a, \"NONE\")\n",
    "        db = d.get(b, \"NONE\")\n",
    "        if gate.op == \"XOR\" or gate.op == \"AND\":\n",
    "            if da.startswith(\"SUM\"):\n",
    "                n = int(d[a][3:])\n",
    "                carry = f\"CARRY{n-1}\"\n",
    "                i = d.get(b, None)\n",
    "                if i != carry:\n",
    "                    print(gate)\n",
    "                    print(f\"{b} is here as {carry}, is in fact {i}\")\n",
    "                    print(f\"Possibly expecting {[x for x in d if d[x] == carry]}\")\n",
    "                    print()\n",
    "            elif db.startswith(\"SUM\"):\n",
    "                n = int(d[b][3:])\n",
    "                carry = f\"CARRY{n-1}\"\n",
    "                i = d.get(a, None)\n",
    "                if i != carry:\n",
    "                    print(gate)\n",
    "                    print(f\"{a} is here as {carry}, is in fact {i}\")\n",
    "                    print(f\"Possibly expecting {[x for x in d if d[x] == carry]}\")\n",
    "                    print()\n",
    "            if da.startswith(\"CARRY\"):\n",
    "                n = int(d[a][5:]) + 1\n",
    "                sm = f\"SUM{n}\"\n",
    "                i = d.get(b, None)\n",
    "                if i != sm:\n",
    "                    print(gate)\n",
    "                    print(f\"{b} is here as {sm}, is in fact {i}\")\n",
    "                    print(f\"Possibly expecting {[x for x in d if d[x] == sm]}\")\n",
    "                    print()\n",
    "            elif db.startswith(\"CARRY\"):\n",
    "                n = int(d[b][5:]) + 1\n",
    "                sm = f\"SUM{n}\"\n",
    "                i = d.get(a, None)\n",
    "                if i != sm:\n",
    "                    print(gate)\n",
    "                    print(f\"{a} is here as {sm}, is in fact {i}\")\n",
    "                    print(f\"Possibly expecting {[x for x in d if d[x] == sm]}\")\n",
    "                    print()\n",
    "            if gate.op == \"XOR\" and not o.startswith(\"z\"):\n",
    "                print(gate)\n",
    "                print(f\"{a} is here as {sm}, is in fact {i}\")\n",
    "                print(f\"Possibly expecting {[x for x in d if d[x] == sm]}\")\n",
    "                print()\n",
    "            if gate.op == \"AND\":\n",
    "                try:\n",
    "                    d[o] = f\"SUBCARRY2{n}\"\n",
    "                except:\n",
    "                    print(\"Error:\", gate) \n",
    "                \n",
    "        if gate.op == \"OR\":\n",
    "            if da.startswith(\"SUBCARRY1\"):\n",
    "                n = int(d[a][9:])\n",
    "                carry = f\"SUBCARRY2{n}\"\n",
    "                i = d.get(b, None)\n",
    "                if i != carry:\n",
    "                    print(gate)\n",
    "                    print(f\"{b} is here as {carry}, is in fact {i}\")\n",
    "                    print(f\"Possibly expecting {[x for x in d if d[x] == carry]}\")\n",
    "                    print()\n",
    "            elif db.startswith(\"SUBCARRY1\"):\n",
    "                n = int(d[b][9:])\n",
    "                carry = f\"SUBCARRY2{n}\"\n",
    "                i = d.get(a, None)\n",
    "                if i != carry:\n",
    "                    print(gate)\n",
    "                    print(f\"{a} is here as {carry}, is in fact {i}\")\n",
    "                    print(f\"Possibly expecting {[x for x in d if d[x] == carry]}\")\n",
    "                    print()\n",
    "            if da.startswith(\"SUBCARRY2\"):\n",
    "                n = int(d[a][9:])\n",
    "                carry = f\"SUBCARRY1{n}\"\n",
    "                i = d.get(b, None)\n",
    "                if i != carry:\n",
    "                    print(gate)\n",
    "                    print(f\"{b} is here as {carry}, is in fact {i}\")\n",
    "                    print(f\"Possibly expecting {[x for x in d if d[x] == carry]}\")\n",
    "                    print()\n",
    "            elif db.startswith(\"SUBCARRY2\"):\n",
    "                n = int(d[b][9:])\n",
    "                carry = f\"SUBCARRY1{n}\"\n",
    "                i = d.get(a, None)\n",
    "                if i != carry:\n",
    "                    print(gate)\n",
    "                    print(f\"{a} is here as {carry}, is in fact {i}\")\n",
    "                    print(f\"Possibly expecting {[x for x in d if d[x] == carry]}\")\n",
    "                    print()\n",
    "            d[o] = f\"CARRY{n}\"\n",
    "            "
   ]
  },
  {
   "cell_type": "markdown",
   "id": "d214cee6-0870-42f9-865b-e13e93888974",
   "metadata": {},
   "source": [
    "There's an error in there somewhere, but plug the ones that look like they should be swapped in to the answer."
   ]
  },
  {
   "cell_type": "code",
   "execution_count": 66,
   "id": "1fd1a4a9-4816-486b-ad26-82bb545f7ca5",
   "metadata": {},
   "outputs": [
    {
     "data": {
      "text/plain": [
       "'dhq,hbs,jcp,kfp,pdg,z18,z22,z27'"
      ]
     },
     "execution_count": 66,
     "metadata": {},
     "output_type": "execute_result"
    }
   ],
   "source": [
    "\",\".join(sorted(\"kfp,hbs,dhq,z18,pdg,z22,jcp,z27\".split(\",\")))"
   ]
  },
  {
   "cell_type": "markdown",
   "id": "3d101f64-a025-4c2c-8c5a-d6a4e1d0bcd6",
   "metadata": {},
   "source": [
    "It works. That was tough!"
   ]
  },
  {
   "cell_type": "code",
   "execution_count": null,
   "id": "52f9964d-fc7e-4320-a0fb-1480f2ba6ce9",
   "metadata": {},
   "outputs": [],
   "source": []
  }
 ],
 "metadata": {
  "kernelspec": {
   "display_name": "Python 3 (ipykernel)",
   "language": "python",
   "name": "python3"
  },
  "language_info": {
   "codemirror_mode": {
    "name": "ipython",
    "version": 3
   },
   "file_extension": ".py",
   "mimetype": "text/x-python",
   "name": "python",
   "nbconvert_exporter": "python",
   "pygments_lexer": "ipython3",
   "version": "3.12.7"
  }
 },
 "nbformat": 4,
 "nbformat_minor": 5
}
