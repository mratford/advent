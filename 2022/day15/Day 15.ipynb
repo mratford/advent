{
 "cells": [
  {
   "cell_type": "markdown",
   "id": "08c39263",
   "metadata": {},
   "source": [
    "# Day 15\n",
    "\n",
    "Switching to a notebook for this one as it will be easier to get a measure of the problem. First load the data. "
   ]
  },
  {
   "cell_type": "code",
   "execution_count": 8,
   "id": "2e599bd5",
   "metadata": {},
   "outputs": [
    {
     "data": {
      "text/plain": [
       "[((2, 18), (-2, 15)),\n",
       " ((9, 16), (10, 16)),\n",
       " ((13, 2), (15, 3)),\n",
       " ((12, 14), (10, 16)),\n",
       " ((10, 20), (10, 16)),\n",
       " ((14, 17), (10, 16)),\n",
       " ((8, 7), (2, 10)),\n",
       " ((2, 0), (2, 10)),\n",
       " ((0, 11), (2, 10)),\n",
       " ((20, 14), (25, 17)),\n",
       " ((17, 20), (21, 22)),\n",
       " ((16, 7), (15, 3)),\n",
       " ((14, 3), (15, 3)),\n",
       " ((20, 1), (15, 3))]"
      ]
     },
     "execution_count": 8,
     "metadata": {},
     "output_type": "execute_result"
    }
   ],
   "source": [
    "import parse\n",
    "\n",
    "def parse_data(s):\n",
    "    sensors = []\n",
    "    for line in s.strip().splitlines():\n",
    "        r = parse.parse(\n",
    "            \"Sensor at x={sensor_x:d}, y={sensor_y:d}: closest beacon is at x={beacon_x:d}, y={beacon_y:d}\",\n",
    "            line\n",
    "        )\n",
    "        sensors.append(((r[\"sensor_x\"], r[\"sensor_y\"]), (r[\"beacon_x\"], r[\"beacon_y\"])))\n",
    "    return sensors\n",
    "\n",
    "test_sensors = parse_data(\"\"\"\n",
    "Sensor at x=2, y=18: closest beacon is at x=-2, y=15\n",
    "Sensor at x=9, y=16: closest beacon is at x=10, y=16\n",
    "Sensor at x=13, y=2: closest beacon is at x=15, y=3\n",
    "Sensor at x=12, y=14: closest beacon is at x=10, y=16\n",
    "Sensor at x=10, y=20: closest beacon is at x=10, y=16\n",
    "Sensor at x=14, y=17: closest beacon is at x=10, y=16\n",
    "Sensor at x=8, y=7: closest beacon is at x=2, y=10\n",
    "Sensor at x=2, y=0: closest beacon is at x=2, y=10\n",
    "Sensor at x=0, y=11: closest beacon is at x=2, y=10\n",
    "Sensor at x=20, y=14: closest beacon is at x=25, y=17\n",
    "Sensor at x=17, y=20: closest beacon is at x=21, y=22\n",
    "Sensor at x=16, y=7: closest beacon is at x=15, y=3\n",
    "Sensor at x=14, y=3: closest beacon is at x=15, y=3\n",
    "Sensor at x=20, y=1: closest beacon is at x=15, y=3\n",
    "\"\"\")\n",
    "\n",
    "test_sensors"
   ]
  },
  {
   "cell_type": "code",
   "execution_count": 10,
   "id": "66e464ab",
   "metadata": {},
   "outputs": [
    {
     "name": "stdout",
     "output_type": "stream",
     "text": [
      "3818017 * 4081722 = 15584083985274\n"
     ]
    }
   ],
   "source": [
    "from itertools import chain\n",
    "\n",
    "sensors = parse_data(open(\"input\").read())\n",
    "\n",
    "xs = list(chain(*((s[0][0], s[1][0]) for s in sensors)))\n",
    "ys = list(chain(*((s[0][1], s[1][1]) for s in sensors)))\n",
    "\n",
    "x_range = max(xs) - min(xs)\n",
    "y_range = max(ys) - min(ys)\n",
    "print(f\"{x_range} * {y_range} = {x_range * y_range}\")"
   ]
  },
  {
   "cell_type": "markdown",
   "id": "4522e0ca",
   "metadata": {},
   "source": [
    "That's not going to be held in memory so an array's out of the question. How big are the distances? Could we generate sets of sensed positions?"
   ]
  },
  {
   "cell_type": "code",
   "execution_count": 13,
   "id": "3d8f2dee",
   "metadata": {},
   "outputs": [
    {
     "data": {
      "text/plain": [
       "1908498"
      ]
     },
     "execution_count": 13,
     "metadata": {},
     "output_type": "execute_result"
    }
   ],
   "source": [
    "def manhattan_distance(point_a, point_b):\n",
    "    a_x, a_y = point_a\n",
    "    b_x, b_y = point_b\n",
    "    return abs(a_x - b_x) + abs(a_y - b_y)\n",
    "\n",
    "manhattans = [manhattan_distance(s, b) for s, b in sensors]\n",
    "max(manhattans)"
   ]
  },
  {
   "cell_type": "markdown",
   "id": "1e100a9a",
   "metadata": {},
   "source": [
    "I think that's too big, this will have to be tackled by calculating ranges of sensed positions on the row for each sensor."
   ]
  },
  {
   "cell_type": "code",
   "execution_count": 21,
   "id": "e5a73b06",
   "metadata": {},
   "outputs": [
    {
     "data": {
      "text/plain": [
       "(2, 14)"
      ]
     },
     "execution_count": 21,
     "metadata": {},
     "output_type": "execute_result"
    }
   ],
   "source": [
    "def range(y, sensor, beacon):\n",
    "    manhattan = manhattan_distance(sensor, beacon)\n",
    "    sensor_x, sensor_y = sensor\n",
    "    x_distance_at_y = manhattan - abs(sensor_y - y)\n",
    "    if x_distance_at_y >= 0:\n",
    "        yield (sensor_x - x_distance_at_y, sensor_x + x_distance_at_y)\n",
    "        \n",
    "next(range(10, (8, 7), (2, 10)))"
   ]
  },
  {
   "cell_type": "code",
   "execution_count": 24,
   "id": "8ff15054",
   "metadata": {},
   "outputs": [
    {
     "data": {
      "text/plain": [
       "[(12, 12), (2, 14), (2, 2), (-2, 2), (16, 24), (14, 18)]"
      ]
     },
     "execution_count": 24,
     "metadata": {},
     "output_type": "execute_result"
    }
   ],
   "source": [
    "def ranges(y, sensors):\n",
    "    for s, b in sensors:\n",
    "        yield from range(y, s, b)\n",
    "        \n",
    "list(ranges(10, test_sensors))"
   ]
  },
  {
   "cell_type": "markdown",
   "id": "4a8512b5",
   "metadata": {},
   "source": [
    "That gives a range of $24 - (-2) + 1 = 27$, which is one more than in the instructions. Let's check if the existing beacon needs to be excluded."
   ]
  },
  {
   "cell_type": "code",
   "execution_count": 25,
   "id": "5dd910d2",
   "metadata": {},
   "outputs": [
    {
     "data": {
      "text/plain": [
       "26"
      ]
     },
     "execution_count": 25,
     "metadata": {},
     "output_type": "execute_result"
    }
   ],
   "source": [
    "s = \"..####B######################..\"\n",
    "s.count('#')"
   ]
  },
  {
   "cell_type": "markdown",
   "id": "3b32dbd5",
   "metadata": {},
   "source": [
    "Yes it does. Now to reduce overlapping ranges."
   ]
  },
  {
   "cell_type": "code",
   "execution_count": null,
   "id": "a268f92a",
   "metadata": {},
   "outputs": [],
   "source": [
    "def overlap(p1, p2):\n",
    "    p1.x, p1.y = p1\n",
    "    p2.x, p2.y = p2\n",
    "    return p2.x <= p1.x <= p2.y or p1.x <= p2.x <= p1.y\n",
    "\n"
   ]
  },
  {
   "cell_type": "code",
   "execution_count": null,
   "id": "5e77348d",
   "metadata": {},
   "outputs": [],
   "source": []
  }
 ],
 "metadata": {
  "kernelspec": {
   "display_name": "Python 3 (ipykernel)",
   "language": "python",
   "name": "python3"
  },
  "language_info": {
   "codemirror_mode": {
    "name": "ipython",
    "version": 3
   },
   "file_extension": ".py",
   "mimetype": "text/x-python",
   "name": "python",
   "nbconvert_exporter": "python",
   "pygments_lexer": "ipython3",
   "version": "3.11.0"
  }
 },
 "nbformat": 4,
 "nbformat_minor": 5
}
