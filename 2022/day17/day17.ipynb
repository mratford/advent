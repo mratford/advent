{
 "cells": [
  {
   "cell_type": "markdown",
   "id": "2020365a",
   "metadata": {},
   "source": [
    "# Day 17\n",
    "## Part 1"
   ]
  },
  {
   "cell_type": "code",
   "execution_count": 19,
   "id": "c4a8fdaf",
   "metadata": {},
   "outputs": [],
   "source": [
    "from collections import defaultdict\n",
    "\n",
    "test_data = \">>><<><>><<<>><>>><<<>>><<<><<<>><>><<>>\"\n",
    "\n",
    "def rocks():\n",
    "    while True:\n",
    "        yield [[True, True, True, True]]\n",
    "        yield [[False, True, False], [True, True, True], [False, True, False]]\n",
    "        yield [[False, False, True], [False, False, True], [True, True, True]]\n",
    "        yield [[True], [True], [True], [True]]\n",
    "        yield [[True, True], [True, True]]\n",
    "        \n",
    "def jets(s):\n",
    "    while True:\n",
    "        for jet in jets:\n",
    "            yield jet\n",
    "            \n",
    "def draw(chamber, rock = None, rock_x = None, rock_y = None):\n",
    "    if rock is None:\n",
    "        for r in reversed(range(min(chamber.keys()), max(chamber.keys()) + 4)):\n",
    "            print(f\"|{''.join('#' if c else '.' for r in chamber[r])}|\")\n",
    "    else:\n",
    "        rock_height = len(rock)\n",
    "        rock_width = len(rock[0])\n",
    "        \n",
    "    print(\"+-------+\")                    \n",
    "        \n",
    "def initial_chamber():\n",
    "    c = defaultdict(lambda: [False] * 7)\n",
    "    c[1] = [False] * 7\n",
    "    return c\n",
    "                            \n",
    "def height(chamber):\n",
    "    for h in reversed(sorted(chamber.keys())):\n",
    "        if any(chamber[h]):\n",
    "            return h\n",
    "    return 0\n",
    "        "
   ]
  },
  {
   "cell_type": "code",
   "execution_count": 20,
   "id": "7984f331",
   "metadata": {},
   "outputs": [
    {
     "name": "stdout",
     "output_type": "stream",
     "text": [
      "|.......|\n",
      "|.......|\n",
      "|.......|\n",
      "|.......|\n",
      "+-------+\n"
     ]
    }
   ],
   "source": [
    "draw(initial_chamber())"
   ]
  },
  {
   "cell_type": "code",
   "execution_count": 7,
   "id": "dcb39504",
   "metadata": {},
   "outputs": [],
   "source": []
  },
  {
   "cell_type": "code",
   "execution_count": 8,
   "id": "b36a8b4c",
   "metadata": {},
   "outputs": [
    {
     "data": {
      "text/plain": [
       "['.', '.', '.', 0, '.', '.', '.']"
      ]
     },
     "execution_count": 8,
     "metadata": {},
     "output_type": "execute_result"
    }
   ],
   "source": []
  },
  {
   "cell_type": "code",
   "execution_count": null,
   "id": "ccd1745c",
   "metadata": {},
   "outputs": [],
   "source": []
  }
 ],
 "metadata": {
  "kernelspec": {
   "display_name": "Python 3 (ipykernel)",
   "language": "python",
   "name": "python3"
  },
  "language_info": {
   "codemirror_mode": {
    "name": "ipython",
    "version": 3
   },
   "file_extension": ".py",
   "mimetype": "text/x-python",
   "name": "python",
   "nbconvert_exporter": "python",
   "pygments_lexer": "ipython3",
   "version": "3.11.0"
  }
 },
 "nbformat": 4,
 "nbformat_minor": 5
}
