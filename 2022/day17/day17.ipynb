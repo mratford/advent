{
 "cells": [
  {
   "cell_type": "markdown",
   "id": "afe149a1",
   "metadata": {},
   "source": [
    "# Day 17\n",
    "## Part 1\n",
    "\n",
    "This looks tedious. Represent rows and rocks with numpy arrays. Don't use a ndarry as it will keep having to be resized."
   ]
  },
  {
   "cell_type": "code",
   "execution_count": 1,
   "id": "c4a8fdaf",
   "metadata": {},
   "outputs": [],
   "source": [
    "from collections import defaultdict\n",
    "import numpy as np\n",
    "from itertools import cycle\n",
    "\n",
    "\n",
    "def rocks():\n",
    "    rock_strings = \"\"\"\n",
    "####\n",
    "\n",
    ".#.\n",
    "###\n",
    ".#.\n",
    "\n",
    "..#\n",
    "..#\n",
    "###\n",
    "\n",
    "#\n",
    "#\n",
    "#\n",
    "#\n",
    "\n",
    "##\n",
    "##\n",
    "\"\"\"\n",
    "    rocks = []\n",
    "    for rock_string in rock_strings.strip().split(\"\\n\\n\"):\n",
    "        rocks.append(\n",
    "            list(reversed( # Reverse as using a proper y axis\n",
    "                [\n",
    "                    np.array([1 if c == \"#\" else 0 for c in line])\n",
    "                    for line in rock_string.splitlines()\n",
    "                ]\n",
    "            ))\n",
    "        )\n",
    "    yield from cycle(rocks)\n",
    "\n",
    "    \n",
    "def jets(s):\n",
    "    yield from cycle(s)\n",
    "\n",
    "    \n",
    "def initial_chamber():\n",
    "    c = defaultdict(lambda: np.array([1, 0, 0, 0, 0, 0, 0, 0, 1]))\n",
    "    c[0] = np.ones((9,), dtype=int)\n",
    "    for i in range(1, 5):\n",
    "        c[i] = np.array([1, 0, 0, 0, 0, 0, 0, 0, 1])\n",
    "    return c\n",
    "\n",
    "                    \n",
    "def height(chamber):\n",
    "    for h in reversed(sorted(chamber.keys())):\n",
    "        if chamber[h].sum() > 2:\n",
    "            return h\n",
    "    return 0\n",
    "\n",
    "\n",
    "def draw_chamber(chamber):\n",
    "    for k in reversed(sorted(chamber)):\n",
    "        print(\"\".join('#' if x == 1 else '.' for x in chamber[k]))\n",
    "    print()"
   ]
  },
  {
   "cell_type": "code",
   "execution_count": 2,
   "id": "7984f331",
   "metadata": {},
   "outputs": [],
   "source": [
    "def add_rock(rock, chamber, jets):\n",
    "    x = 3\n",
    "    y = height(chamber) + 4\n",
    "    w = len(rock[0])\n",
    "    h = len(rock)\n",
    "    for i in range(h):\n",
    "        chamber[y+i][x:x+w] += rock[i]\n",
    "    while True:\n",
    "        # Jet movement\n",
    "        dx = -1 if next(jets) == '<' else 1\n",
    "        new_x = x + dx\n",
    "        new_chamber = {}\n",
    "        for i in range(h):\n",
    "            new_chamber[y+i] = chamber[y+i].copy()\n",
    "            new_chamber[y+i][x:x+w] -= rock[i]\n",
    "        for i in range(h):\n",
    "            new_chamber[y+i][new_x:new_x+w] += rock[i]\n",
    "        if not any((row > 1).any() for row in new_chamber.values()):\n",
    "            for k in new_chamber:\n",
    "                chamber[k] = new_chamber[k]\n",
    "                x = new_x\n",
    "#         print(f\"{dx = }\")\n",
    "#         draw_chamber(chamber)\n",
    "                \n",
    "        # Down movement\n",
    "        new_chamber = {}\n",
    "        new_y = y - 1\n",
    "        for i in range(h):\n",
    "            new_chamber[y+i] = chamber[y+i].copy()\n",
    "            new_chamber[y+i][x:x+w] -= rock[i]\n",
    "        new_chamber[y-1] = chamber[y-1].copy()\n",
    "        for i in range(h):\n",
    "            new_chamber[y-1+i][x:x+w] += rock[i]\n",
    "        if any((row > 1).any() for row in new_chamber.values()):\n",
    "            return chamber\n",
    "        else:\n",
    "            for k in new_chamber:\n",
    "                chamber[k] = new_chamber[k]\n",
    "                y = new_y\n",
    "#         print(\"Down\")\n",
    "#         draw_chamber(chamber)\n",
    "                \n",
    "def part_1(s):\n",
    "    j = jets(s)\n",
    "    chamber = initial_chamber()\n",
    "    for rock, _ in zip(rocks(), range(2022)):\n",
    "        chamber = add_rock(rock, chamber, j)\n",
    "#         draw_chamber(chamber)\n",
    "#         print()\n",
    "    return height(chamber)"
   ]
  },
  {
   "cell_type": "code",
   "execution_count": 3,
   "id": "ccd1745c",
   "metadata": {},
   "outputs": [
    {
     "data": {
      "text/plain": [
       "3068"
      ]
     },
     "execution_count": 3,
     "metadata": {},
     "output_type": "execute_result"
    }
   ],
   "source": [
    "test_data = \">>><<><>><<<>><>>><<<>>><<<><<<>><>><<>>\"\n",
    "part_1(test_data)"
   ]
  },
  {
   "cell_type": "code",
   "execution_count": 5,
   "id": "3f7fb0cb",
   "metadata": {},
   "outputs": [
    {
     "data": {
      "text/plain": [
       "3193"
      ]
     },
     "execution_count": 5,
     "metadata": {},
     "output_type": "execute_result"
    }
   ],
   "source": [
    "data = open(\"input\").read().strip()\n",
    "part_1(data)"
   ]
  },
  {
   "cell_type": "markdown",
   "id": "5cc41815",
   "metadata": {},
   "source": [
    "## Part 2\n",
    "\n",
    "Need to find a cycle. Represent the last 200 rows as a binary number and see where it repeats. Use fiddly modular arithmetic to calculate the height after a very large number of rocks."
   ]
  },
  {
   "cell_type": "code",
   "execution_count": 58,
   "id": "79072bec",
   "metadata": {},
   "outputs": [
    {
     "data": {
      "text/plain": [
       "1514285714288"
      ]
     },
     "execution_count": 58,
     "metadata": {},
     "output_type": "execute_result"
    }
   ],
   "source": [
    "from itertools import count\n",
    "\n",
    "def find_loop(data):\n",
    "    j = jets(data)\n",
    "    chamber = initial_chamber()\n",
    "    seen = {}\n",
    "    for rock, i in zip(rocks(), count(1)):\n",
    "        if i % 10000 == 0:\n",
    "            print(i)\n",
    "        chamber = add_rock(rock, chamber, j)\n",
    "        h = height(chamber)\n",
    "        s = \"\"\n",
    "        if h > 200:\n",
    "            for u in range(200):\n",
    "                s = s + \"\".join(str(x) for x in chamber[h-u][1:-1])\n",
    "            if s in seen:\n",
    "                return (seen[s], (i, h))\n",
    "            seen[s] = (i, h)\n",
    "        \n",
    "def part_2(data):\n",
    "    (i1, h1), (i2, h2) = find_loop(data)\n",
    "    mod = i2 - i1\n",
    "    q, r = divmod(1000000000000 - i1, mod)\n",
    "    chamber = initial_chamber()\n",
    "    j = jets(data)\n",
    "    for rock, _ in zip(rocks(), range(i1 + r)):\n",
    "        chamber = add_rock(rock, chamber, j)\n",
    "    h = height(chamber)\n",
    "    return h1 + q * (h2 - h1) + (h - h1)\n",
    "\n",
    "part_2(test_data)"
   ]
  },
  {
   "cell_type": "code",
   "execution_count": 59,
   "id": "cbd0fabc",
   "metadata": {},
   "outputs": [
    {
     "data": {
      "text/plain": [
       "1577650429835"
      ]
     },
     "execution_count": 59,
     "metadata": {},
     "output_type": "execute_result"
    }
   ],
   "source": [
    "part_2(data)"
   ]
  },
  {
   "cell_type": "code",
   "execution_count": null,
   "id": "42e8bbf0",
   "metadata": {},
   "outputs": [],
   "source": []
  }
 ],
 "metadata": {
  "kernelspec": {
   "display_name": "Python 3 (ipykernel)",
   "language": "python",
   "name": "python3"
  },
  "language_info": {
   "codemirror_mode": {
    "name": "ipython",
    "version": 3
   },
   "file_extension": ".py",
   "mimetype": "text/x-python",
   "name": "python",
   "nbconvert_exporter": "python",
   "pygments_lexer": "ipython3",
   "version": "3.11.0"
  }
 },
 "nbformat": 4,
 "nbformat_minor": 5
}
