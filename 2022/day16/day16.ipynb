{
 "cells": [
  {
   "cell_type": "markdown",
   "id": "0d920f76",
   "metadata": {},
   "source": [
    "# Day 16\n",
    "## Part 1"
   ]
  },
  {
   "cell_type": "code",
   "execution_count": 17,
   "id": "397232c5",
   "metadata": {},
   "outputs": [
    {
     "data": {
      "text/plain": [
       "({'AA': ['DD', 'II', 'BB'],\n",
       "  'BB': ['CC', 'AA'],\n",
       "  'CC': ['DD', 'BB'],\n",
       "  'DD': ['CC', 'AA', 'EE'],\n",
       "  'EE': ['FF', 'DD'],\n",
       "  'FF': ['EE', 'GG'],\n",
       "  'GG': ['FF', 'HH'],\n",
       "  'HH': ['GG'],\n",
       "  'II': ['AA', 'JJ'],\n",
       "  'JJ': ['II']},\n",
       " {'AA': 0,\n",
       "  'BB': 13,\n",
       "  'CC': 2,\n",
       "  'DD': 20,\n",
       "  'EE': 3,\n",
       "  'FF': 0,\n",
       "  'GG': 0,\n",
       "  'HH': 22,\n",
       "  'II': 0,\n",
       "  'JJ': 21})"
      ]
     },
     "execution_count": 17,
     "metadata": {},
     "output_type": "execute_result"
    }
   ],
   "source": [
    "import re\n",
    "\n",
    "def parse_data(s):\n",
    "    tunnels = {}\n",
    "    flows = {}\n",
    "    for line in s.strip().splitlines():\n",
    "        m = re.match(\n",
    "            r\"Valve (\\w\\w) has flow rate=(\\d+); tunnels? leads? to valves? (.*)\", \n",
    "            line\n",
    "        )\n",
    "        valve = m.group(1)\n",
    "        flows[valve] = int(m.group(2))\n",
    "        tunnels[valve] = m.group(3).split(\", \")\n",
    "    return (tunnels, flows)\n",
    "\n",
    "test_string = \"\"\"\n",
    "Valve AA has flow rate=0; tunnels lead to valves DD, II, BB\n",
    "Valve BB has flow rate=13; tunnels lead to valves CC, AA\n",
    "Valve CC has flow rate=2; tunnels lead to valves DD, BB\n",
    "Valve DD has flow rate=20; tunnels lead to valves CC, AA, EE\n",
    "Valve EE has flow rate=3; tunnels lead to valves FF, DD\n",
    "Valve FF has flow rate=0; tunnels lead to valves EE, GG\n",
    "Valve GG has flow rate=0; tunnels lead to valves FF, HH\n",
    "Valve HH has flow rate=22; tunnel leads to valve GG\n",
    "Valve II has flow rate=0; tunnels lead to valves AA, JJ\n",
    "Valve JJ has flow rate=21; tunnel leads to valve II\n",
    "\"\"\"\n",
    "\n",
    "test_data = parse_data(test_string)\n",
    "test_data"
   ]
  },
  {
   "cell_type": "markdown",
   "id": "cbc44467",
   "metadata": {},
   "source": [
    "Parsing that was surprisingly annoying.\n",
    "\n",
    "Hmm, the valves with zero flow can be removed from the tunnels, apart from the starting position AA, and replaced with weighted paths representing the minutes taken to move from valve to valve. These weights should be the shortest distance between each valve. Remove paths back to AA as they're not needed.\n",
    "\n",
    "Thinking about it, while we're at it add 1 to each weight as we're only visiting these valves to turn them on, which will take an extra minute."
   ]
  },
  {
   "cell_type": "code",
   "execution_count": 44,
   "id": "731994ce",
   "metadata": {},
   "outputs": [
    {
     "data": {
      "text/plain": [
       "defaultdict(dict,\n",
       "            {'AA': {'DD': 2, 'BB': 2, 'CC': 3, 'EE': 3, 'JJ': 3, 'HH': 6},\n",
       "             'HH': {'EE': 4, 'DD': 5, 'CC': 6, 'BB': 7, 'JJ': 8},\n",
       "             'JJ': {'DD': 4, 'BB': 4, 'CC': 5, 'EE': 5, 'HH': 8},\n",
       "             'EE': {'DD': 2, 'CC': 3, 'HH': 4, 'BB': 4, 'JJ': 5},\n",
       "             'DD': {'CC': 2, 'EE': 2, 'BB': 3, 'JJ': 4, 'HH': 5},\n",
       "             'CC': {'DD': 2, 'BB': 2, 'EE': 3, 'JJ': 5, 'HH': 6},\n",
       "             'BB': {'CC': 2, 'DD': 3, 'EE': 4, 'JJ': 4, 'HH': 7}})"
      ]
     },
     "execution_count": 44,
     "metadata": {},
     "output_type": "execute_result"
    }
   ],
   "source": [
    "from collections import deque, defaultdict\n",
    "\n",
    "def trim_tunnels(tunnels, flows):\n",
    "    working_valves = {v for v in flows if flows[v] > 0}\n",
    "    working_valves.add('AA')\n",
    "    trimmed = defaultdict(dict)\n",
    "    \n",
    "    for v in working_valves:\n",
    "        q = deque([(u, 1) for u in tunnels[v]])\n",
    "        visited = {v}\n",
    "        \n",
    "        while q and len(trimmed[v]) < len(working_valves):\n",
    "            valve, minutes = q.popleft()\n",
    "            if valve not in visited:\n",
    "                visited.add(valve)\n",
    "                if valve in working_valves and valve not in trimmed[v]:\n",
    "                    trimmed[v][valve] = minutes\n",
    "                for u in tunnels[valve]:\n",
    "                    if u not in visited:\n",
    "                        q.append((u, minutes + 1))\n",
    "                    \n",
    "    for v in trimmed:\n",
    "        if 'AA' in trimmed[v]:\n",
    "            del trimmed[v]['AA']\n",
    "        for u in trimmed[v]:\n",
    "            trimmed[v][u] += 1\n",
    "            \n",
    "    return trimmed\n",
    "\n",
    "\n",
    "trim_tunnels(*test_data)"
   ]
  },
  {
   "cell_type": "markdown",
   "id": "ef8930c6",
   "metadata": {},
   "source": [
    "So now the gained flow from visiting a node is the time left to 30 minus the time taken to get to the node and switch on the valve multiplied by the valve's flow rate. Which doesn't get away from this being a Travelling Salesman's Problem with a twist which needs an optimal solution.\n",
    "\n",
    "Let's try a dynamic programming approach. Create a recursive cached function that calculates the optimal flow for a location, remaining unvisited valves, and time left and hope that makes it more tractable."
   ]
  },
  {
   "cell_type": "code",
   "execution_count": 51,
   "id": "697e420e",
   "metadata": {},
   "outputs": [
    {
     "data": {
      "text/plain": [
       "1651"
      ]
     },
     "execution_count": 51,
     "metadata": {},
     "output_type": "execute_result"
    }
   ],
   "source": [
    "from functools import cache\n",
    "def create_optimal_flow(tunnels, flows):\n",
    "    @cache\n",
    "    def optimal_flow(position, unvisited, time_left):\n",
    "        added_flow = []\n",
    "        for valve in tunnels[position]:\n",
    "            if valve in unvisited and tunnels[position][valve] < time_left:\n",
    "                new_time_left = time_left - tunnels[position][valve]\n",
    "                added_flow.append(\n",
    "                    new_time_left * flows[valve] + optimal_flow(\n",
    "                        valve, unvisited - {valve}, new_time_left\n",
    "                    )\n",
    "                )\n",
    "        if added_flow:\n",
    "            return max(added_flow)\n",
    "        else: \n",
    "            return 0\n",
    "    \n",
    "    return optimal_flow\n",
    "\n",
    "                    \n",
    "def part_1(tunnels, flows):\n",
    "    trimmed_tunnels = trim_tunnels(tunnels, flows)\n",
    "    let_it_flow = create_optimal_flow(trimmed_tunnels, flows)\n",
    "    return let_it_flow('AA', frozenset({t for t in tunnels if t != 'AA'}), 30)\n",
    "\n",
    "\n",
    "part_1(*test_data)"
   ]
  },
  {
   "cell_type": "markdown",
   "id": "6890f515",
   "metadata": {},
   "source": [
    "Bloody hell! Worked first time."
   ]
  },
  {
   "cell_type": "code",
   "execution_count": 52,
   "id": "4ba7da4b",
   "metadata": {},
   "outputs": [
    {
     "data": {
      "text/plain": [
       "2265"
      ]
     },
     "execution_count": 52,
     "metadata": {},
     "output_type": "execute_result"
    }
   ],
   "source": [
    "data = parse_data(open('input').read())\n",
    "part_1(*data)"
   ]
  },
  {
   "cell_type": "code",
   "execution_count": 53,
   "id": "fc3a05f6",
   "metadata": {},
   "outputs": [
    {
     "name": "stdout",
     "output_type": "stream",
     "text": [
      "160 ms ± 3.42 ms per loop (mean ± std. dev. of 7 runs, 1 loop each)\n"
     ]
    }
   ],
   "source": [
    "%%timeit\n",
    "part_1(*data)"
   ]
  },
  {
   "cell_type": "markdown",
   "id": "90f82e18",
   "metadata": {},
   "source": [
    "## Part 2\n",
    "The approach I took in part 1 is particularly unsuitable for part 2. Hmm."
   ]
  },
  {
   "cell_type": "code",
   "execution_count": null,
   "id": "224498d6",
   "metadata": {},
   "outputs": [],
   "source": []
  }
 ],
 "metadata": {
  "kernelspec": {
   "display_name": "Python 3 (ipykernel)",
   "language": "python",
   "name": "python3"
  },
  "language_info": {
   "codemirror_mode": {
    "name": "ipython",
    "version": 3
   },
   "file_extension": ".py",
   "mimetype": "text/x-python",
   "name": "python",
   "nbconvert_exporter": "python",
   "pygments_lexer": "ipython3",
   "version": "3.10.8"
  }
 },
 "nbformat": 4,
 "nbformat_minor": 5
}
