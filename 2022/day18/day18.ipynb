{
 "cells": [
  {
   "cell_type": "markdown",
   "id": "722c3361",
   "metadata": {},
   "source": [
    "# Day 18\n",
    "## Part 1\n",
    "This seems so simple that I'm nervous part 2."
   ]
  },
  {
   "cell_type": "code",
   "execution_count": 1,
   "id": "bb797fa0",
   "metadata": {},
   "outputs": [
    {
     "data": {
      "text/plain": [
       "{(1, 2, 2),\n",
       " (1, 2, 5),\n",
       " (2, 1, 2),\n",
       " (2, 1, 5),\n",
       " (2, 2, 1),\n",
       " (2, 2, 2),\n",
       " (2, 2, 3),\n",
       " (2, 2, 4),\n",
       " (2, 2, 6),\n",
       " (2, 3, 2),\n",
       " (2, 3, 5),\n",
       " (3, 2, 2),\n",
       " (3, 2, 5)}"
      ]
     },
     "execution_count": 1,
     "metadata": {},
     "output_type": "execute_result"
    }
   ],
   "source": [
    "def parse_data(s):\n",
    "    return {tuple(int(x) for x in line.split(',')) \n",
    "            for line in s.strip().splitlines()}\n",
    "\n",
    "test_string = \"\"\"\n",
    "2,2,2\n",
    "1,2,2\n",
    "3,2,2\n",
    "2,1,2\n",
    "2,3,2\n",
    "2,2,1\n",
    "2,2,3\n",
    "2,2,4\n",
    "2,2,6\n",
    "1,2,5\n",
    "3,2,5\n",
    "2,1,5\n",
    "2,3,5\n",
    "\"\"\"\n",
    "\n",
    "test_data = parse_data(test_string)\n",
    "test_data"
   ]
  },
  {
   "cell_type": "code",
   "execution_count": 2,
   "id": "ed81558b",
   "metadata": {},
   "outputs": [
    {
     "data": {
      "text/plain": [
       "64"
      ]
     },
     "execution_count": 2,
     "metadata": {},
     "output_type": "execute_result"
    }
   ],
   "source": [
    "def part_1(data):\n",
    "    sides = 0\n",
    "    for x, y, z in data:\n",
    "        for d in -1, 1:\n",
    "            sides += sum([\n",
    "                (x + d, y, z) not in data, \n",
    "                (x, y + d, z) not in data,\n",
    "                (x, y, z + d) not in data\n",
    "            ])\n",
    "    return sides\n",
    "\n",
    "part_1(test_data)"
   ]
  },
  {
   "cell_type": "code",
   "execution_count": 3,
   "id": "9466c73d",
   "metadata": {},
   "outputs": [
    {
     "data": {
      "text/plain": [
       "4444"
      ]
     },
     "execution_count": 3,
     "metadata": {},
     "output_type": "execute_result"
    }
   ],
   "source": [
    "data = parse_data(open(\"input\").read())\n",
    "part_1(data)"
   ]
  },
  {
   "cell_type": "markdown",
   "id": "5728d8f4",
   "metadata": {},
   "source": [
    "## Part 2\n",
    "\n",
    "Yep. How am I going to do this? I'll have a think during the football.\n",
    "\n",
    "Right, vectors. Use a location and vector pair to represent each open face. Put them in a graph. Connect them if they're linked and examine the independent subgraphs. Either do some fancy maths I haven't thought of to work out which is the exterior or, more likely, iterate through the sizes of the subgraphs largest first."
   ]
  },
  {
   "cell_type": "code",
   "execution_count": 82,
   "id": "7c83298f",
   "metadata": {},
   "outputs": [],
   "source": [
    "import networkx as nx\n",
    "\n",
    "debug = ((2,2,1), (0, 0, 1))\n",
    "\n",
    "def part_2(data):\n",
    "    g = nx.Graph()\n",
    "    for x, y, z in data:\n",
    "        for d in -1, 1:\n",
    "            if (x + d, y, z) not in data:\n",
    "                g.add_node(((x, y, z), (d, 0, 0)))\n",
    "            if (x, y + d, z) not in data:\n",
    "                g.add_node(((x, y, z), (0, d, 0)))\n",
    "            if (x, y, z + d) not in data:\n",
    "                g.add_node(((x, y, z), (0, 0, d)))\n",
    "                \n",
    "    for p, v in g.nodes:\n",
    "        x, y, z = p\n",
    "        vx, vy, vz = v\n",
    "        if vx != 0:\n",
    "            for d in -1, 1:\n",
    "                # Any connected faces on the same cube?\n",
    "                if (n := (p, (0, d, 0))) in g:\n",
    "                    g.add_edge((p, v), n)\n",
    "                    if n == debug:\n",
    "                        print(\"x1\")\n",
    "                if (n := (p, (0, 0, d))) in g:\n",
    "                    g.add_edge((p, v), n)\n",
    "                    if n == debug:\n",
    "                        print(\"x2\")\n",
    "                # Any on the same plane?\n",
    "                if (n := ((x, y + d, z), v)) in g:\n",
    "                    g.add_edge((p, v), n)\n",
    "                    if n == debug:\n",
    "                        print(\"x3\")\n",
    "                if (n := ((x, y, z + d), v)) in g:\n",
    "                    g.add_edge((p, v), n)\n",
    "                # Any at a 90 degree angle?\n",
    "                    if n == debug:\n",
    "                        print(\"x4\")\n",
    "                if (n := ((x + d, y - d, z), (0, d, 0))) in g:\n",
    "                    g.add_edge((p, v), n)\n",
    "                    if n == debug:\n",
    "                        print(\"x5\")\n",
    "                if (n := ((x + d, y, z - d), (0, 0, d))) in g:\n",
    "                    g.add_edge((p, v), n)\n",
    "                    if n == debug:\n",
    "                        print(\"x6\")\n",
    "                        print(p)\n",
    "                        print(v)\n",
    "                        print(d)\n",
    "                        print(n)                    \n",
    "        if vy != 0:\n",
    "            for d in -1, 1:\n",
    "                # Any connected faces on the same cube?\n",
    "                if (n := (p, (d, 0, 0))) in g:\n",
    "                    g.add_edge((p, v), n)\n",
    "                    if n == debug:\n",
    "                        print(\"y1\")\n",
    "                if (n := (p, (0, 0, d))) in g:\n",
    "                    g.add_edge((p, v), n)\n",
    "                    if n == debug:\n",
    "                        print(\"y2\")\n",
    "                # Any on the same plane?\n",
    "                if (n := ((x + d, y, z), v)) in g:\n",
    "                    if n == debug:\n",
    "                        print(\"y3\")\n",
    "                        print(p)\n",
    "                        print(v)\n",
    "                        print(d)\n",
    "                        print(n)\n",
    "                    g.add_edge((p, v), n)\n",
    "                if (n := ((x, y, z + d), v)) in g:\n",
    "                    g.add_edge((p, v), n)\n",
    "                    if n == debug:\n",
    "                        print(\"y4\")\n",
    "                        print(p)\n",
    "                        print(v)\n",
    "                        print(d)\n",
    "                        print(n)\n",
    "                # Any at a 90 degree angle?\n",
    "                if (n := ((x - d, y + d, z), (d, 0, 0))) in g:\n",
    "                    g.add_edge((p, v), n)\n",
    "                    if n == debug:\n",
    "                        print(\"y5\")\n",
    "                if (n := ((x, y + d, z - d), (0, 0, d))) in g:\n",
    "                    g.add_edge((p, v), n)\n",
    "                    if n == debug:\n",
    "                        print(\"y6\")\n",
    "                        print(p)\n",
    "                        print(v)\n",
    "                        print(d)\n",
    "                        print(n)\n",
    "                    \n",
    "        if vz != 0:\n",
    "            for d in -1, 1:\n",
    "                # Any connected faces on the same cube?\n",
    "                if (n := (p, (d, 0, 0))) in g:\n",
    "                    g.add_edge((p, v), n)\n",
    "                    if n == debug:\n",
    "                        print(\"z1\")\n",
    "                if (n := (p, (0, d, 0))) in g:\n",
    "                    g.add_edge((p, v), n)\n",
    "                    if n == debug:\n",
    "                        print(\"z1\")\n",
    "                # Any on the same plane?\n",
    "                if (n := ((x + d, y, z), v)) in g:\n",
    "                    g.add_edge((p, v), n)\n",
    "                    if n == debug:\n",
    "                        print(\"z1\")\n",
    "                if (n := ((x, y + d, z), v)) in g:\n",
    "                    g.add_edge((p, v), n)\n",
    "                    if n == debug:\n",
    "                        print(\"z4\")\n",
    "                # Any at a 90 degree angle?\n",
    "                if (n := ((x - d, y, z + d), (d, 0, 0))) in g:\n",
    "                    g.add_edge((p, v), n)\n",
    "                    if n == debug:\n",
    "                        print(\"z5\")\n",
    "                if (n := ((x, y - d, z + d), (0, d, 0))) in g:\n",
    "                    g.add_edge((p, v), n)\n",
    "                    if n == debug:\n",
    "                        print(\"z6\")\n",
    "    for subgraph in nx.connected_components(g):\n",
    "        print(len(subgraph))\n",
    "    return g\n",
    "                    "
   ]
  },
  {
   "cell_type": "code",
   "execution_count": 72,
   "id": "6ecfb1ff",
   "metadata": {},
   "outputs": [
    {
     "name": "stdout",
     "output_type": "stream",
     "text": [
      "x1\n",
      "z1\n",
      "x1\n",
      "z1\n",
      "31\n",
      "18\n",
      "15\n"
     ]
    }
   ],
   "source": [
    "g = part_2(test_data)"
   ]
  },
  {
   "cell_type": "markdown",
   "id": "f7d105a5",
   "metadata": {},
   "source": [
    "I've made a mistake somewhere. Let's create a 3x3 cube with a hole in the middle."
   ]
  },
  {
   "cell_type": "code",
   "execution_count": 83,
   "id": "28613d1a",
   "metadata": {},
   "outputs": [
    {
     "name": "stdout",
     "output_type": "stream",
     "text": [
      "x6\n",
      "(1, 2, 2)\n",
      "(-1, 0, 0)\n",
      "1\n",
      "((2, 2, 1), (0, 0, 1))\n",
      "x6\n",
      "(1, 2, 2)\n",
      "(1, 0, 0)\n",
      "1\n",
      "((2, 2, 1), (0, 0, 1))\n",
      "y6\n",
      "(2, 1, 2)\n",
      "(0, -1, 0)\n",
      "1\n",
      "((2, 2, 1), (0, 0, 1))\n",
      "y6\n",
      "(2, 1, 2)\n",
      "(0, 1, 0)\n",
      "1\n",
      "((2, 2, 1), (0, 0, 1))\n",
      "60\n"
     ]
    }
   ],
   "source": [
    "my_test = \"\"\"\n",
    "1,1,1\n",
    "2,1,1\n",
    "3,1,1\n",
    "1,2,1\n",
    "2,2,1\n",
    "3,2,1\n",
    "1,3,1\n",
    "2,3,1\n",
    "3,3,1\n",
    "1,1,2\n",
    "2,1,2\n",
    "3,1,2\n",
    "1,2,2\n",
    "3,2,2\n",
    "1,3,2\n",
    "2,3,2\n",
    "3,3,2\n",
    "1,1,3\n",
    "2,1,3\n",
    "3,1,3\n",
    "1,2,3\n",
    "2,2,3\n",
    "3,2,3\n",
    "1,3,3\n",
    "2,3,3\n",
    "3,3,3\n",
    "\"\"\"\n",
    "my_data = parse_data(my_test)\n",
    "g = part_2(my_data)"
   ]
  },
  {
   "cell_type": "code",
   "execution_count": 33,
   "id": "62d8e6a0",
   "metadata": {},
   "outputs": [
    {
     "data": {
      "text/plain": [
       "AtlasView({((1, 2, 2), (-1, 0, 0)): {}, ((1, 2, 2), (1, 0, 0)): {}, ((2, 1, 2), (0, -1, 0)): {}, ((2, 1, 2), (0, 1, 0)): {}})"
      ]
     },
     "execution_count": 33,
     "metadata": {},
     "output_type": "execute_result"
    }
   ],
   "source": [
    "g[((2,2,1), (0, 0, 1))]"
   ]
  },
  {
   "cell_type": "code",
   "execution_count": 55,
   "id": "33f2dd46",
   "metadata": {},
   "outputs": [
    {
     "data": {
      "text/plain": [
       "False"
      ]
     },
     "execution_count": 55,
     "metadata": {},
     "output_type": "execute_result"
    }
   ],
   "source": [
    "((2,2,2), (0,1,0)) in g.nodes"
   ]
  },
  {
   "cell_type": "code",
   "execution_count": 57,
   "id": "26fa5fa4",
   "metadata": {},
   "outputs": [
    {
     "data": {
      "text/plain": [
       "True"
      ]
     },
     "execution_count": 57,
     "metadata": {},
     "output_type": "execute_result"
    }
   ],
   "source": [
    "((1, 2, 2), (-1, 0, 0)) in g.nodes"
   ]
  },
  {
   "cell_type": "code",
   "execution_count": 61,
   "id": "d04e6494",
   "metadata": {},
   "outputs": [
    {
     "data": {
      "text/plain": [
       "60"
      ]
     },
     "execution_count": 61,
     "metadata": {},
     "output_type": "execute_result"
    }
   ],
   "source": [
    "len(g)"
   ]
  },
  {
   "cell_type": "code",
   "execution_count": null,
   "id": "b9a5c54c",
   "metadata": {},
   "outputs": [],
   "source": []
  }
 ],
 "metadata": {
  "kernelspec": {
   "display_name": "Python 3 (ipykernel)",
   "language": "python",
   "name": "python3"
  },
  "language_info": {
   "codemirror_mode": {
    "name": "ipython",
    "version": 3
   },
   "file_extension": ".py",
   "mimetype": "text/x-python",
   "name": "python",
   "nbconvert_exporter": "python",
   "pygments_lexer": "ipython3",
   "version": "3.11.0"
  }
 },
 "nbformat": 4,
 "nbformat_minor": 5
}
