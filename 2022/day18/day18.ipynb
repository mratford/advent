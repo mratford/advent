{
 "cells": [
  {
   "cell_type": "markdown",
   "id": "722c3361",
   "metadata": {},
   "source": [
    "# Day 18\n",
    "## Part 1\n",
    "This seems so simple that I'm nervous part 2."
   ]
  },
  {
   "cell_type": "code",
   "execution_count": 36,
   "id": "bb797fa0",
   "metadata": {},
   "outputs": [
    {
     "data": {
      "text/plain": [
       "{(1, 2, 2),\n",
       " (1, 2, 5),\n",
       " (2, 1, 2),\n",
       " (2, 1, 5),\n",
       " (2, 2, 1),\n",
       " (2, 2, 2),\n",
       " (2, 2, 3),\n",
       " (2, 2, 4),\n",
       " (2, 2, 6),\n",
       " (2, 3, 2),\n",
       " (2, 3, 5),\n",
       " (3, 2, 2),\n",
       " (3, 2, 5)}"
      ]
     },
     "execution_count": 36,
     "metadata": {},
     "output_type": "execute_result"
    }
   ],
   "source": [
    "def parse_data(s):\n",
    "    return {tuple(int(x) for x in line.split(',')) \n",
    "            for line in s.strip().splitlines()}\n",
    "\n",
    "test_string = \"\"\"\n",
    "2,2,2\n",
    "1,2,2\n",
    "3,2,2\n",
    "2,1,2\n",
    "2,3,2\n",
    "2,2,1\n",
    "2,2,3\n",
    "2,2,4\n",
    "2,2,6\n",
    "1,2,5\n",
    "3,2,5\n",
    "2,1,5\n",
    "2,3,5\n",
    "\"\"\"\n",
    "\n",
    "test_data = parse_data(test_string)\n",
    "test_data"
   ]
  },
  {
   "cell_type": "code",
   "execution_count": 37,
   "id": "ed81558b",
   "metadata": {},
   "outputs": [
    {
     "data": {
      "text/plain": [
       "64"
      ]
     },
     "execution_count": 37,
     "metadata": {},
     "output_type": "execute_result"
    }
   ],
   "source": [
    "def part_1(data):\n",
    "    sides = 0\n",
    "    for x, y, z in data:\n",
    "        for d in -1, 1:\n",
    "            sides += sum([\n",
    "                (x + d, y, z) not in data, \n",
    "                (x, y + d, z) not in data,\n",
    "                (x, y, z + d) not in data\n",
    "            ])\n",
    "    return sides\n",
    "\n",
    "part_1(test_data)"
   ]
  },
  {
   "cell_type": "code",
   "execution_count": 38,
   "id": "9466c73d",
   "metadata": {},
   "outputs": [
    {
     "data": {
      "text/plain": [
       "4444"
      ]
     },
     "execution_count": 38,
     "metadata": {},
     "output_type": "execute_result"
    }
   ],
   "source": [
    "data = parse_data(open(\"input\").read())\n",
    "part_1(data)"
   ]
  },
  {
   "cell_type": "markdown",
   "id": "5728d8f4",
   "metadata": {},
   "source": [
    "## Part 2\n",
    "\n",
    "Yep. How am I going to do this? I'll have a think during the football.\n",
    "\n",
    "Right, vectors. Use a location and vector pair to represent each open face. Put them in a graph. Connect them if they're linked and examine the independent subgraphs. Either do some fancy maths I haven't thought of to work out which is the exterior or, more likely, iterate through the sizes of the subgraphs largest first."
   ]
  },
  {
   "cell_type": "code",
   "execution_count": 68,
   "id": "7f6f89f1",
   "metadata": {},
   "outputs": [],
   "source": [
    "# ... a whole load of stuff that didn't work and took ages to debug"
   ]
  },
  {
   "cell_type": "markdown",
   "id": "e9d0d77d",
   "metadata": {},
   "source": [
    "Ok, scrap that. Let's do a search from each face to a point that is definitely outside the shape."
   ]
  },
  {
   "cell_type": "code",
   "execution_count": 70,
   "id": "3fcb8b15",
   "metadata": {},
   "outputs": [
    {
     "data": {
      "text/plain": [
       "54"
      ]
     },
     "execution_count": 70,
     "metadata": {},
     "output_type": "execute_result"
    }
   ],
   "source": [
    "from heapq import heappop, heappush\n",
    "\n",
    "def manhattan(p1, p2):\n",
    "    return sum(abs(x1 - x2) for x1, x2 in zip(p1, p2))\n",
    "\n",
    "def search(p, goal, cubes):\n",
    "    seen = set((manhattan(p, goal), p))\n",
    "    q = [(manhattan(p, goal), p)]\n",
    "    i = 0\n",
    "    while q:\n",
    "        m, p = heappop(q)\n",
    "        if p == goal: \n",
    "            return True\n",
    "        seen.add(p)\n",
    "        x, y, z = p\n",
    "        for d in -1, 1:\n",
    "            nbr = (x + d, y, z)\n",
    "            if nbr not in seen and nbr not in cubes:\n",
    "                heappush(q, (manhattan(nbr, goal), nbr))\n",
    "                seen.add(nbr)\n",
    "            nbr = (x, y + d, z)\n",
    "            if nbr not in seen and nbr not in cubes:\n",
    "                heappush(q, (manhattan(nbr, goal), nbr))\n",
    "                seen.add(nbr)\n",
    "            nbr = (x, y, z + d)\n",
    "            if nbr not in seen and nbr not in cubes:\n",
    "                heappush(q, (manhattan(nbr, goal), nbr))\n",
    "                seen.add(nbr)\n",
    "    return False\n",
    "    \n",
    "\n",
    "def part_2(data):\n",
    "    g = nx.Graph()\n",
    "    max_x, max_y, max_z = 0, 0, 0\n",
    "    for x, y, z in data:\n",
    "        max_x = max(x, max_x)\n",
    "        max_y = max(y, max_y)\n",
    "        max_z = max(z, max_z)\n",
    "        for d in -1, 1:\n",
    "            if (x + d, y, z) not in data:\n",
    "                g.add_node(((x, y, z), (d, 0, 0)))\n",
    "            if (x, y + d, z) not in data:\n",
    "                g.add_node(((x, y, z), (0, d, 0)))\n",
    "            if (x, y, z + d) not in data:\n",
    "                g.add_node(((x, y, z), (0, 0, d)))\n",
    "                \n",
    "    goal = (max_x + 1, max_y + 1, max_z + 1)\n",
    "    \n",
    "    outer_surfaces = 0\n",
    "    for p, v in g:\n",
    "        x, y, z = p\n",
    "        vx, vy, vz = v\n",
    "        if search((x + vx, y + vy, z + vz), goal, data):\n",
    "            outer_surfaces += 1\n",
    "            \n",
    "    return outer_surfaces\n",
    "        \n",
    "        \n",
    "part_2(my_data)"
   ]
  },
  {
   "cell_type": "code",
   "execution_count": 53,
   "id": "389fd20b",
   "metadata": {},
   "outputs": [
    {
     "data": {
      "text/plain": [
       "58"
      ]
     },
     "execution_count": 53,
     "metadata": {},
     "output_type": "execute_result"
    }
   ],
   "source": [
    "part_2(test_data)"
   ]
  },
  {
   "cell_type": "code",
   "execution_count": 54,
   "id": "5d287bfe",
   "metadata": {},
   "outputs": [
    {
     "data": {
      "text/plain": [
       "2530"
      ]
     },
     "execution_count": 54,
     "metadata": {},
     "output_type": "execute_result"
    }
   ],
   "source": [
    "part_2(data)"
   ]
  },
  {
   "cell_type": "code",
   "execution_count": 71,
   "id": "351a21e3",
   "metadata": {},
   "outputs": [
    {
     "name": "stdout",
     "output_type": "stream",
     "text": [
      "CPU times: user 4.76 s, sys: 6.56 ms, total: 4.76 s\n",
      "Wall time: 4.76 s\n"
     ]
    },
    {
     "data": {
      "text/plain": [
       "2530"
      ]
     },
     "execution_count": 71,
     "metadata": {},
     "output_type": "execute_result"
    }
   ],
   "source": [
    "%%time\n",
    "part_2(data)"
   ]
  },
  {
   "cell_type": "markdown",
   "id": "17b2c100",
   "metadata": {},
   "source": []
  }
 ],
 "metadata": {
  "kernelspec": {
   "display_name": "Python 3 (ipykernel)",
   "language": "python",
   "name": "python3"
  },
  "language_info": {
   "codemirror_mode": {
    "name": "ipython",
    "version": 3
   },
   "file_extension": ".py",
   "mimetype": "text/x-python",
   "name": "python",
   "nbconvert_exporter": "python",
   "pygments_lexer": "ipython3",
   "version": "3.10.8"
  }
 },
 "nbformat": 4,
 "nbformat_minor": 5
}
