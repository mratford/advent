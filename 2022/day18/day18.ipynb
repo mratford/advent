{
 "cells": [
  {
   "cell_type": "markdown",
   "id": "722c3361",
   "metadata": {},
   "source": [
    "# Day 18\n",
    "## Part 1\n",
    "This seems so simple that I'm nervous part 2."
   ]
  },
  {
   "cell_type": "code",
   "execution_count": 4,
   "id": "bb797fa0",
   "metadata": {},
   "outputs": [
    {
     "data": {
      "text/plain": [
       "{(1, 2, 2),\n",
       " (1, 2, 5),\n",
       " (2, 1, 2),\n",
       " (2, 1, 5),\n",
       " (2, 2, 1),\n",
       " (2, 2, 2),\n",
       " (2, 2, 3),\n",
       " (2, 2, 4),\n",
       " (2, 2, 6),\n",
       " (2, 3, 2),\n",
       " (2, 3, 5),\n",
       " (3, 2, 2),\n",
       " (3, 2, 5)}"
      ]
     },
     "execution_count": 4,
     "metadata": {},
     "output_type": "execute_result"
    }
   ],
   "source": [
    "def parse_data(s):\n",
    "    return {tuple(int(x) for x in line.split(',')) \n",
    "            for line in s.strip().splitlines()}\n",
    "\n",
    "test_string = \"\"\"\n",
    "2,2,2\n",
    "1,2,2\n",
    "3,2,2\n",
    "2,1,2\n",
    "2,3,2\n",
    "2,2,1\n",
    "2,2,3\n",
    "2,2,4\n",
    "2,2,6\n",
    "1,2,5\n",
    "3,2,5\n",
    "2,1,5\n",
    "2,3,5\n",
    "\"\"\"\n",
    "\n",
    "test_data = parse_data(test_string)\n",
    "test_data"
   ]
  },
  {
   "cell_type": "code",
   "execution_count": 6,
   "id": "ed81558b",
   "metadata": {},
   "outputs": [
    {
     "data": {
      "text/plain": [
       "64"
      ]
     },
     "execution_count": 6,
     "metadata": {},
     "output_type": "execute_result"
    }
   ],
   "source": [
    "def part_1(data):\n",
    "    sides = 0\n",
    "    for x, y, z in data:\n",
    "        for d in -1, 1:\n",
    "            sides += sum([\n",
    "                (x + d, y, z) not in data, \n",
    "                (x, y + d, z) not in data,\n",
    "                (x, y, z + d) not in data\n",
    "            ])\n",
    "    return sides\n",
    "\n",
    "part_1(test_data)"
   ]
  },
  {
   "cell_type": "code",
   "execution_count": 7,
   "id": "9466c73d",
   "metadata": {},
   "outputs": [
    {
     "data": {
      "text/plain": [
       "4444"
      ]
     },
     "execution_count": 7,
     "metadata": {},
     "output_type": "execute_result"
    }
   ],
   "source": [
    "data = parse_data(open(\"input\").read())\n",
    "part_1(data)"
   ]
  },
  {
   "cell_type": "markdown",
   "id": "5728d8f4",
   "metadata": {},
   "source": [
    "## Part 2\n",
    "\n",
    "Yep. How am I going to do this? I'll have a think during the football."
   ]
  },
  {
   "cell_type": "code",
   "execution_count": null,
   "id": "7c83298f",
   "metadata": {},
   "outputs": [],
   "source": []
  }
 ],
 "metadata": {
  "kernelspec": {
   "display_name": "Python 3 (ipykernel)",
   "language": "python",
   "name": "python3"
  },
  "language_info": {
   "codemirror_mode": {
    "name": "ipython",
    "version": 3
   },
   "file_extension": ".py",
   "mimetype": "text/x-python",
   "name": "python",
   "nbconvert_exporter": "python",
   "pygments_lexer": "ipython3",
   "version": "3.10.8"
  }
 },
 "nbformat": 4,
 "nbformat_minor": 5
}
