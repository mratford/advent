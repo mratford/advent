{
 "cells": [
  {
   "cell_type": "markdown",
   "id": "268eeed3-4573-4b1d-9cb6-43d41b160b24",
   "metadata": {},
   "source": [
    "# Day 5 \n",
    "## Part 1\n",
    "There are no loops in the map so it's just a question of working through the conversions."
   ]
  },
  {
   "cell_type": "code",
   "execution_count": 12,
   "id": "494f7b41-a035-4dd5-bf3d-79a642bc558b",
   "metadata": {},
   "outputs": [
    {
     "data": {
      "text/plain": [
       "Almanac(seeds=[79, 14, 55, 13], map=defaultdict(<class 'list'>, {('seed', 'soil'): [Range(source=98, destination=50, length=2), Range(source=50, destination=52, length=48)], ('soil', 'fertilizer'): [Range(source=15, destination=0, length=37), Range(source=52, destination=37, length=2), Range(source=0, destination=39, length=15)], ('fertilizer', 'water'): [Range(source=53, destination=49, length=8), Range(source=11, destination=0, length=42), Range(source=0, destination=42, length=7), Range(source=7, destination=57, length=4)], ('water', 'light'): [Range(source=18, destination=88, length=7), Range(source=25, destination=18, length=70)], ('light', 'temperature'): [Range(source=77, destination=45, length=23), Range(source=45, destination=81, length=19), Range(source=64, destination=68, length=13)], ('temperature', 'humidity'): [Range(source=69, destination=0, length=1), Range(source=0, destination=1, length=69)], ('humidity', 'location'): [Range(source=56, destination=60, length=37), Range(source=93, destination=56, length=4)]}))"
      ]
     },
     "execution_count": 12,
     "metadata": {},
     "output_type": "execute_result"
    }
   ],
   "source": [
    "from collections import defaultdict, namedtuple\n",
    "\n",
    "Almanac = namedtuple(\"Almanac\", \"seeds map\")\n",
    "Range = namedtuple(\"Range\", \"source destination length\")\n",
    "\n",
    "def parse_data(s):\n",
    "    blocks = s.strip().split(\"\\n\\n\")\n",
    "    \n",
    "    seeds = [int(x) for x in blocks[0].split(\": \")[1].split()]\n",
    "    \n",
    "    source_map = defaultdict(list)\n",
    "    \n",
    "    for block in blocks[1:]:\n",
    "        lines = block.strip().splitlines()\n",
    "        source, _, destination = lines[0].split()[0].split(\"-\")\n",
    "        for line in lines[1:]:\n",
    "            destination_start, source_start, length = [int(x) for x in line.split()]\n",
    "            source_map[(source, destination)].append(Range(source_start, destination_start, length))\n",
    "            \n",
    "    return Almanac(seeds, source_map)\n",
    "\n",
    "test_data = parse_data(\"\"\"seeds: 79 14 55 13\n",
    "\n",
    "seed-to-soil map:\n",
    "50 98 2\n",
    "52 50 48\n",
    "\n",
    "soil-to-fertilizer map:\n",
    "0 15 37\n",
    "37 52 2\n",
    "39 0 15\n",
    "\n",
    "fertilizer-to-water map:\n",
    "49 53 8\n",
    "0 11 42\n",
    "42 0 7\n",
    "57 7 4\n",
    "\n",
    "water-to-light map:\n",
    "88 18 7\n",
    "18 25 70\n",
    "\n",
    "light-to-temperature map:\n",
    "45 77 23\n",
    "81 45 19\n",
    "68 64 13\n",
    "\n",
    "temperature-to-humidity map:\n",
    "0 69 1\n",
    "1 0 69\n",
    "\n",
    "humidity-to-location map:\n",
    "60 56 37\n",
    "56 93 4\"\"\")\n",
    "\n",
    "test_data"
   ]
  },
  {
   "cell_type": "code",
   "execution_count": 16,
   "id": "f1cc2b43",
   "metadata": {},
   "outputs": [
    {
     "data": {
      "text/plain": [
       "[82, 43, 86, 35]"
      ]
     },
     "execution_count": 16,
     "metadata": {},
     "output_type": "execute_result"
    }
   ],
   "source": [
    "def convert_number(number: int, ranges: [Range]) -> int:\n",
    "    for r in ranges:\n",
    "        if r.source <= number < r.source + r.length:\n",
    "            return r.destination + number - r.source\n",
    "    return number\n",
    "\n",
    "def find_location(seed, almanac):\n",
    "    source = \"seed\"\n",
    "    current_number = seed\n",
    "    \n",
    "    while source != \"location\":\n",
    "        destination = [\n",
    "            d \n",
    "            for s, d in almanac.map \n",
    "            if s == source\n",
    "        ][0]\n",
    "        \n",
    "        current_number = convert_number(\n",
    "            current_number, \n",
    "            almanac.map[(source, destination)]\n",
    "        )\n",
    "        \n",
    "        source = destination\n",
    "        \n",
    "    return current_number\n",
    "\n",
    "[find_location(seed, test_data) for seed in test_data.seeds]"
   ]
  },
  {
   "cell_type": "code",
   "execution_count": 17,
   "id": "02778b08",
   "metadata": {},
   "outputs": [],
   "source": [
    "def part_1(almanac):\n",
    "    return min(find_location(seed, almanac) for seed in almanac.seeds)\n",
    "\n",
    "assert part_1(test_data) == 35"
   ]
  },
  {
   "cell_type": "code",
   "execution_count": 18,
   "id": "0fe2db80",
   "metadata": {},
   "outputs": [
    {
     "data": {
      "text/plain": [
       "551761867"
      ]
     },
     "execution_count": 18,
     "metadata": {},
     "output_type": "execute_result"
    }
   ],
   "source": [
    "data = parse_data(open(\"input\").read())\n",
    "\n",
    "part_1(data)"
   ]
  },
  {
   "cell_type": "markdown",
   "id": "edb418b3",
   "metadata": {},
   "source": [
    "## Part 2\n",
    "Applying the above to billions of seeds individually doesn't seem like a very good idea. Represent the resources as a list of slices, creating a new list of slices at each stage. \n",
    "\n",
    "Use a namedtuple Slice rather than the unhashable built-in so sets can be used to eliminate repeats."
   ]
  },
  {
   "cell_type": "code",
   "execution_count": 59,
   "id": "9e8fbedc",
   "metadata": {},
   "outputs": [
    {
     "data": {
      "text/plain": [
       "{Slice(start=0, stop=40),\n",
       " Slice(start=60, stop=100),\n",
       " Slice(start=1000, stop=1020)}"
      ]
     },
     "execution_count": 59,
     "metadata": {},
     "output_type": "execute_result"
    }
   ],
   "source": [
    "Slice = namedtuple(\"Slice\", \"start stop\")\n",
    "\n",
    "def convert_numbers(numbers: [Slice], ranges: [Range]) -> [Slice]:\n",
    "    new_numbers = set()\n",
    "    for n in numbers:\n",
    "        for r in ranges:\n",
    "            # Convert the overlapping range\n",
    "            overlap_start = max(n.start, r.source)\n",
    "            overlap_end = min(n.stop, r.source + r.length)\n",
    "            if overlap_end > overlap_start:\n",
    "                new_numbers.add(\n",
    "                    Slice(\n",
    "                        r.destination + (overlap_start - r.source),\n",
    "                        (r.destination + (overlap_start - r.source) \n",
    "                             + (overlap_end - overlap_start))\n",
    "                    )\n",
    "                )\n",
    "            # Add anything before the start of the range\n",
    "            if n.start < overlap_start:\n",
    "                new_numbers.add(\n",
    "                    Slice(\n",
    "                        n.start,\n",
    "                        min(n.stop, overlap_start)\n",
    "                    )\n",
    "                )\n",
    "            # and after\n",
    "            if n.stop > overlap_end:\n",
    "                new_numbers.add(\n",
    "                    Slice(\n",
    "                        max(n.start, overlap_end),\n",
    "                        n.stop\n",
    "                    )\n",
    "                )\n",
    "    return new_numbers\n",
    "\n",
    "convert_numbers([Slice(0, 100)], [Range(40, 1000, 20)])"
   ]
  },
  {
   "cell_type": "code",
   "execution_count": 60,
   "id": "881a368f",
   "metadata": {},
   "outputs": [
    {
     "data": {
      "text/plain": [
       "{Slice(start=20, stop=100), Slice(start=1010, stop=1020)}"
      ]
     },
     "execution_count": 60,
     "metadata": {},
     "output_type": "execute_result"
    }
   ],
   "source": [
    "convert_numbers([Slice(10, 100)], [Range(0, 1000, 20)])"
   ]
  },
  {
   "cell_type": "code",
   "execution_count": 61,
   "id": "ae039017",
   "metadata": {},
   "outputs": [
    {
     "data": {
      "text/plain": [
       "{Slice(start=0, stop=80), Slice(start=1000, stop=1010)}"
      ]
     },
     "execution_count": 61,
     "metadata": {},
     "output_type": "execute_result"
    }
   ],
   "source": [
    "convert_numbers([Slice(0, 90)], [Range(80, 1000, 20)])"
   ]
  },
  {
   "cell_type": "code",
   "execution_count": 62,
   "id": "d2323ec0",
   "metadata": {},
   "outputs": [
    {
     "data": {
      "text/plain": [
       "{Slice(start=0, stop=10)}"
      ]
     },
     "execution_count": 62,
     "metadata": {},
     "output_type": "execute_result"
    }
   ],
   "source": [
    "convert_numbers([Slice(0, 10)], [Range(20, 1000, 20)])"
   ]
  },
  {
   "cell_type": "code",
   "execution_count": 63,
   "id": "beb6724f",
   "metadata": {},
   "outputs": [
    {
     "data": {
      "text/plain": [
       "{Slice(start=90, stop=100)}"
      ]
     },
     "execution_count": 63,
     "metadata": {},
     "output_type": "execute_result"
    }
   ],
   "source": [
    "convert_numbers([Slice(90, 100)], [Range(20, 1000, 20)])"
   ]
  },
  {
   "cell_type": "markdown",
   "id": "02da46de",
   "metadata": {},
   "source": [
    "That does seem to have worked first time."
   ]
  },
  {
   "cell_type": "code",
   "execution_count": 64,
   "id": "acacf9c9",
   "metadata": {},
   "outputs": [
    {
     "name": "stdout",
     "output_type": "stream",
     "text": [
      "seed\n",
      "soil\n",
      "{Slice(start=82, stop=83), Slice(start=84, stop=85)}\n",
      "soil\n",
      "fertilizer\n",
      "{Slice(start=82, stop=83), Slice(start=84, stop=85)}\n",
      "fertilizer\n",
      "water\n",
      "{Slice(start=82, stop=83), Slice(start=84, stop=85)}\n",
      "water\n",
      "light\n",
      "{Slice(start=75, stop=76), Slice(start=77, stop=78), Slice(start=82, stop=83), Slice(start=84, stop=85)}\n",
      "light\n",
      "temperature\n",
      "{Slice(start=52, stop=53), Slice(start=45, stop=46), Slice(start=50, stop=51), Slice(start=82, stop=83), Slice(start=77, stop=78), Slice(start=75, stop=76), Slice(start=79, stop=80), Slice(start=84, stop=85)}\n",
      "temperature\n",
      "humidity\n",
      "{Slice(start=52, stop=53), Slice(start=45, stop=46), Slice(start=50, stop=51), Slice(start=82, stop=83), Slice(start=77, stop=78), Slice(start=75, stop=76), Slice(start=79, stop=80), Slice(start=51, stop=52), Slice(start=53, stop=54), Slice(start=46, stop=47), Slice(start=84, stop=85)}\n",
      "humidity\n",
      "location\n",
      "{Slice(start=81, stop=82), Slice(start=52, stop=53), Slice(start=83, stop=84), Slice(start=45, stop=46), Slice(start=50, stop=51), Slice(start=82, stop=83), Slice(start=86, stop=87), Slice(start=77, stop=78), Slice(start=79, stop=80), Slice(start=75, stop=76), Slice(start=88, stop=89), Slice(start=51, stop=52), Slice(start=53, stop=54), Slice(start=46, stop=47), Slice(start=84, stop=85)}\n"
     ]
    },
    {
     "data": {
      "text/plain": [
       "45"
      ]
     },
     "execution_count": 64,
     "metadata": {},
     "output_type": "execute_result"
    }
   ],
   "source": [
    "def find_locations(seed_start, seed_length, almanac):\n",
    "    source = \"seed\"\n",
    "    current_slices = {Slice(seed_start, seed_start + seed_length)}\n",
    "    \n",
    "    while source != \"location\":\n",
    "        destination = [\n",
    "            d \n",
    "            for s, d in almanac.map \n",
    "            if s == source\n",
    "        ][0]\n",
    "        \n",
    "        current_slices = convert_numbers(\n",
    "            current_slices, \n",
    "            almanac.map[(source, destination)]\n",
    "        )\n",
    "        \n",
    "        print(source)\n",
    "        print(destination)\n",
    "        print(current_slices)\n",
    "        \n",
    "        source = destination\n",
    "        \n",
    "    return current_slices\n",
    "\n",
    "min(s.start for s in find_locations(82, 1, test_data))"
   ]
  },
  {
   "cell_type": "code",
   "execution_count": 67,
   "id": "fb71bcba",
   "metadata": {},
   "outputs": [
    {
     "data": {
      "text/plain": [
       "{Slice(start=84, stop=85)}"
      ]
     },
     "execution_count": 67,
     "metadata": {},
     "output_type": "execute_result"
    }
   ],
   "source": [
    "convert_numbers([Slice(start=82, stop=83)], [Range(source=50, destination=52, length=48)])"
   ]
  },
  {
   "cell_type": "code",
   "execution_count": 45,
   "id": "1899b5a6",
   "metadata": {},
   "outputs": [],
   "source": []
  },
  {
   "cell_type": "code",
   "execution_count": null,
   "id": "f9e9d7bd",
   "metadata": {},
   "outputs": [],
   "source": []
  }
 ],
 "metadata": {
  "kernelspec": {
   "display_name": "Python 3 (ipykernel)",
   "language": "python",
   "name": "python3"
  },
  "language_info": {
   "codemirror_mode": {
    "name": "ipython",
    "version": 3
   },
   "file_extension": ".py",
   "mimetype": "text/x-python",
   "name": "python",
   "nbconvert_exporter": "python",
   "pygments_lexer": "ipython3",
   "version": "3.11.0"
  }
 },
 "nbformat": 4,
 "nbformat_minor": 5
}
