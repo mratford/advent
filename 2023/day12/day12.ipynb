{
 "cells": [
  {
   "cell_type": "markdown",
   "id": "268eeed3-4573-4b1d-9cb6-43d41b160b24",
   "metadata": {},
   "source": [
    "# Day 12 \n",
    "## Part 1\n",
    "Each question mark has two possible states, so the number of combinations is two to the power of the number of question marks in a row. What's the maximum?"
   ]
  },
  {
   "cell_type": "code",
   "execution_count": 9,
   "id": "494f7b41-a035-4dd5-bf3d-79a642bc558b",
   "metadata": {},
   "outputs": [
    {
     "data": {
      "text/plain": [
       "262144"
      ]
     },
     "execution_count": 9,
     "metadata": {},
     "output_type": "execute_result"
    }
   ],
   "source": [
    "def parse_data(s):\n",
    "    lines = s.strip().splitlines()\n",
    "    return [\n",
    "        (springs, [int(n) for n in ns.split(\",\")])\n",
    "        for (springs, ns) in [\n",
    "            line.split() \n",
    "            for line in s.strip().splitlines()\n",
    "        ]\n",
    "    ]\n",
    "\n",
    "data = parse_data(open(\"input\").read())\n",
    "max(2 ** springs.count(\"?\") for springs, _ in data)"
   ]
  },
  {
   "cell_type": "markdown",
   "id": "02e17771",
   "metadata": {},
   "source": [
    "That's tractable individually. How many in total?"
   ]
  },
  {
   "cell_type": "code",
   "execution_count": 10,
   "id": "31154af3",
   "metadata": {},
   "outputs": [
    {
     "data": {
      "text/plain": [
       "5488304"
      ]
     },
     "execution_count": 10,
     "metadata": {},
     "output_type": "execute_result"
    }
   ],
   "source": [
    "sum(2 ** springs.count(\"?\") for springs, _ in data)"
   ]
  },
  {
   "cell_type": "markdown",
   "id": "f9aeaef6",
   "metadata": {},
   "source": [
    "Not _too_ bad. I think I'm just going to check each combination for now."
   ]
  },
  {
   "cell_type": "code",
   "execution_count": 13,
   "id": "4ec21ac3",
   "metadata": {},
   "outputs": [
    {
     "data": {
      "text/plain": [
       "[1, 6, 5]"
      ]
     },
     "execution_count": 13,
     "metadata": {},
     "output_type": "execute_result"
    }
   ],
   "source": [
    "import itertools\n",
    "\n",
    "def damaged_springs(springs):\n",
    "    return [\n",
    "        len(list(g))\n",
    "        for k, g in itertools.groupby(springs)\n",
    "        if k == \"#\"\n",
    "    ]\n",
    "\n",
    "damaged_springs(\"#....######..#####.\")"
   ]
  },
  {
   "cell_type": "markdown",
   "id": "9e3b4270",
   "metadata": {},
   "source": [
    "Hellish combination of regular expressions and itertools to get each possible string with the unknowns replaced."
   ]
  },
  {
   "cell_type": "code",
   "execution_count": 26,
   "id": "7d0205f5",
   "metadata": {},
   "outputs": [
    {
     "data": {
      "text/plain": [
       "['...', '..#', '#..', '#.#']"
      ]
     },
     "execution_count": 26,
     "metadata": {},
     "output_type": "execute_result"
    }
   ],
   "source": [
    "import re\n",
    "\n",
    "def spring_combos(springs):\n",
    "    n_unknowns = springs.count(\"?\")\n",
    "    for p in itertools.product(\".#\", repeat=n_unknowns):\n",
    "        known_unknown = iter(p)\n",
    "        yield re.sub(\"\\?\", lambda _: next(known_unknown), springs)\n",
    "    \n",
    "list(spring_combos(\"?.?\"))"
   ]
  },
  {
   "cell_type": "code",
   "execution_count": 29,
   "id": "5fe566e4",
   "metadata": {},
   "outputs": [
    {
     "data": {
      "text/plain": [
       "[1, 4, 1, 1, 4, 10]"
      ]
     },
     "execution_count": 29,
     "metadata": {},
     "output_type": "execute_result"
    }
   ],
   "source": [
    "def valid_arrangements(springs, damaged_counts):\n",
    "    return sum(\n",
    "        1\n",
    "        for s in spring_combos(springs)\n",
    "        if damaged_springs(s) == damaged_counts\n",
    "    )\n",
    "\n",
    "test_data = parse_data(\"\"\"???.### 1,1,3\n",
    ".??..??...?##. 1,1,3\n",
    "?#?#?#?#?#?#?#? 1,3,1,6\n",
    "????.#...#... 4,1,1\n",
    "????.######..#####. 1,6,5\n",
    "?###???????? 3,2,1\"\"\")\n",
    "\n",
    "[valid_arrangements(s, d) for s, d in test_data]"
   ]
  },
  {
   "cell_type": "code",
   "execution_count": 31,
   "id": "28dfe87e",
   "metadata": {},
   "outputs": [],
   "source": [
    "def part_1(data):\n",
    "    return sum(valid_arrangements(s, d) for s, d in data)\n",
    "\n",
    "assert part_1(test_data) == 21"
   ]
  },
  {
   "cell_type": "code",
   "execution_count": 32,
   "id": "bf0a8ebf",
   "metadata": {},
   "outputs": [
    {
     "name": "stdout",
     "output_type": "stream",
     "text": [
      "CPU times: user 22.9 s, sys: 36.2 ms, total: 22.9 s\n",
      "Wall time: 22.9 s\n"
     ]
    },
    {
     "data": {
      "text/plain": [
       "7307"
      ]
     },
     "execution_count": 32,
     "metadata": {},
     "output_type": "execute_result"
    }
   ],
   "source": [
    "%%time\n",
    "\n",
    "part_1(data)"
   ]
  },
  {
   "cell_type": "markdown",
   "id": "98b108ad",
   "metadata": {},
   "source": [
    "## Part 2\n",
    "The previous approach was slow anyway and is now intractable. I need to have a think.\n",
    "\n",
    "Possibly a pruned search will wo?"
   ]
  },
  {
   "cell_type": "code",
   "execution_count": null,
   "id": "912d8981",
   "metadata": {},
   "outputs": [],
   "source": []
  }
 ],
 "metadata": {
  "kernelspec": {
   "display_name": "Python (AoC)",
   "language": "python",
   "name": "advent"
  },
  "language_info": {
   "codemirror_mode": {
    "name": "ipython",
    "version": 3
   },
   "file_extension": ".py",
   "mimetype": "text/x-python",
   "name": "python",
   "nbconvert_exporter": "python",
   "pygments_lexer": "ipython3",
   "version": "3.11.0"
  }
 },
 "nbformat": 4,
 "nbformat_minor": 5
}
