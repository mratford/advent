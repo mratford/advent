{
 "cells": [
  {
   "cell_type": "markdown",
   "id": "268eeed3-4573-4b1d-9cb6-43d41b160b24",
   "metadata": {},
   "source": [
    "# Day 1 \n",
    "## Part 1"
   ]
  },
  {
   "cell_type": "code",
   "execution_count": 1,
   "id": "494f7b41-a035-4dd5-bf3d-79a642bc558b",
   "metadata": {},
   "outputs": [
    {
     "data": {
      "text/plain": [
       "['1abc2', 'pqr3stu8vwx', 'a1b2c3d4e5f', 'treb7uchet']"
      ]
     },
     "execution_count": 1,
     "metadata": {},
     "output_type": "execute_result"
    }
   ],
   "source": [
    "def parse_data(s):\n",
    "    return s.strip().splitlines()\n",
    "\n",
    "test_input = \"\"\"1abc2\n",
    "pqr3stu8vwx\n",
    "a1b2c3d4e5f\n",
    "treb7uchet\"\"\"\n",
    "\n",
    "test_data = parse_data(test_input)\n",
    "test_data"
   ]
  },
  {
   "cell_type": "code",
   "execution_count": 2,
   "id": "25e1db9f",
   "metadata": {},
   "outputs": [],
   "source": [
    "def part_1(data):\n",
    "    total = 0\n",
    "    for line in data:\n",
    "        # Find the integers in the line\n",
    "        ints = [x for x in line if x.isnumeric()]\n",
    "        # Put the first and last together to get\n",
    "        # the calibration value\n",
    "        total += int(ints[0] + ints[-1])\n",
    "    return total\n",
    "\n",
    "assert part_1(test_data) == 142"
   ]
  },
  {
   "cell_type": "code",
   "execution_count": 3,
   "id": "174866b2",
   "metadata": {},
   "outputs": [
    {
     "data": {
      "text/plain": [
       "53974"
      ]
     },
     "execution_count": 3,
     "metadata": {},
     "output_type": "execute_result"
    }
   ],
   "source": [
    "data = parse_data(open(\"input\").read())\n",
    "part_1(data)"
   ]
  },
  {
   "cell_type": "markdown",
   "id": "2c0236f6",
   "metadata": {},
   "source": [
    "## Part 2\n",
    "Surprisingly tricky for the first day."
   ]
  },
  {
   "cell_type": "code",
   "execution_count": 4,
   "id": "dc4d8c31",
   "metadata": {},
   "outputs": [
    {
     "data": {
      "text/plain": [
       "{'one': '1',\n",
       " 'two': '2',\n",
       " 'three': '3',\n",
       " 'four': '4',\n",
       " 'five': '5',\n",
       " 'six': '6',\n",
       " 'seven': '7',\n",
       " 'eight': '8',\n",
       " 'nine': '9'}"
      ]
     },
     "execution_count": 4,
     "metadata": {},
     "output_type": "execute_result"
    }
   ],
   "source": [
    "WORD_TO_NUMBER =  {\n",
    "    word: str(number)\n",
    "    for word, number\n",
    "    in zip(\n",
    "        \"one,two,three,four,five,six,seven,eight,nine\".split(\",\"),\n",
    "        range(1, 10)\n",
    "    )\n",
    "}\n",
    "        \n",
    "WORD_TO_NUMBER"
   ]
  },
  {
   "cell_type": "code",
   "execution_count": 5,
   "id": "f8b19825",
   "metadata": {},
   "outputs": [
    {
     "data": {
      "text/plain": [
       "'49872'"
      ]
     },
     "execution_count": 5,
     "metadata": {},
     "output_type": "execute_result"
    }
   ],
   "source": [
    "def replace_numeric_words(s):\n",
    "    for w in WORD_TO_NUMBER:\n",
    "        s = s.replace(w, WORD_TO_NUMBER[w])\n",
    "    return s\n",
    "\n",
    "replace_numeric_words(\"4nineeightseven2\")"
   ]
  },
  {
   "cell_type": "code",
   "execution_count": 6,
   "id": "7e02f16a",
   "metadata": {},
   "outputs": [
    {
     "data": {
      "text/plain": [
       "211"
      ]
     },
     "execution_count": 6,
     "metadata": {},
     "output_type": "execute_result"
    }
   ],
   "source": [
    "def part_2(data):\n",
    "    return part_1(replace_numeric_words(line) for line in data)\n",
    "\n",
    "test_data_2 = parse_data(\"\"\"two1nine\n",
    "eightwothree\n",
    "abcone2threexyz\n",
    "xtwone3four\n",
    "4nineeightseven2\n",
    "zoneight234\n",
    "7pqrstsixteen\"\"\")\n",
    "\n",
    "part_2(test_data_2)"
   ]
  },
  {
   "cell_type": "markdown",
   "id": "d8ea7469",
   "metadata": {},
   "source": [
    "Wrong. Check the conversion from words to numbers."
   ]
  },
  {
   "cell_type": "code",
   "execution_count": 7,
   "id": "0ae4483f",
   "metadata": {},
   "outputs": [
    {
     "data": {
      "text/plain": [
       "['219', 'eigh23', 'abc123xyz', 'xtw134', '49872', 'z1ight234', '7pqrst6teen']"
      ]
     },
     "execution_count": 7,
     "metadata": {},
     "output_type": "execute_result"
    }
   ],
   "source": [
    "[replace_numeric_words(line) for line in test_data_2]"
   ]
  },
  {
   "cell_type": "markdown",
   "id": "b2dff64b",
   "metadata": {},
   "source": [
    "There are overlaps. The input is small enough that I'm just going to check for the first and last digit by brute force."
   ]
  },
  {
   "cell_type": "code",
   "execution_count": 8,
   "id": "a649f15e",
   "metadata": {},
   "outputs": [
    {
     "data": {
      "text/plain": [
       "{'one': '1',\n",
       " 'two': '2',\n",
       " 'three': '3',\n",
       " 'four': '4',\n",
       " 'five': '5',\n",
       " 'six': '6',\n",
       " 'seven': '7',\n",
       " 'eight': '8',\n",
       " 'nine': '9',\n",
       " '1': '1',\n",
       " '2': '2',\n",
       " '3': '3',\n",
       " '4': '4',\n",
       " '5': '5',\n",
       " '6': '6',\n",
       " '7': '7',\n",
       " '8': '8',\n",
       " '9': '9'}"
      ]
     },
     "execution_count": 8,
     "metadata": {},
     "output_type": "execute_result"
    }
   ],
   "source": [
    "import itertools\n",
    "\n",
    "WORD_TO_NUMBER =  {\n",
    "    word: str(number)\n",
    "    for word, number\n",
    "    in itertools.chain(\n",
    "        zip(\n",
    "            \"one,two,three,four,five,six,seven,eight,nine\".split(\",\"),\n",
    "            range(1, 10)\n",
    "        ),\n",
    "        ( (str(x), str(x)) for x in range(1, 10) )\n",
    "    )\n",
    "}\n",
    "\n",
    "WORD_TO_NUMBER"
   ]
  },
  {
   "cell_type": "markdown",
   "id": "1bab0fcf",
   "metadata": {},
   "source": [
    "For the first integer work forwards from the start of the string to find a number, work backwards to find the last."
   ]
  },
  {
   "cell_type": "code",
   "execution_count": 9,
   "id": "cab9c620",
   "metadata": {},
   "outputs": [
    {
     "data": {
      "text/plain": [
       "[29, 83, 13, 24, 42, 14, 76]"
      ]
     },
     "execution_count": 9,
     "metadata": {},
     "output_type": "execute_result"
    }
   ],
   "source": [
    "def find_integer(substrings):\n",
    "    \"\"\"Find the first in a sequence of substrings\n",
    "    beginning with a number and return that\n",
    "    number as a decimal string.\"\"\"\n",
    "    for s in substrings:\n",
    "        for w in WORD_TO_NUMBER:\n",
    "            if s.startswith(w):\n",
    "                return WORD_TO_NUMBER[w]\n",
    "            \n",
    "def first_substrings(s):\n",
    "    \"\"\"Create a sequence of substrings of a string\n",
    "    beginning with the first, then second, then third etc\n",
    "    characters in the string.\"\"\"\n",
    "    for i in range(len(s)):\n",
    "        yield s[i:]\n",
    "        \n",
    "def last_substrings(s):\n",
    "    \"\"\"Create a sequence of substrings of a string\n",
    "    beginning with the last, then second last, etc\n",
    "    characters in the string.\"\"\"\n",
    "    for i in range(len(s) - 1, -1, -1):\n",
    "        yield s[i:]\n",
    "        \n",
    "def calibration_value(line):\n",
    "    return int(find_integer(first_substrings(line)) + find_integer(last_substrings(line)))\n",
    "\n",
    "[calibration_value(line) for line in test_data_2]"
   ]
  },
  {
   "cell_type": "code",
   "execution_count": 10,
   "id": "db46494e",
   "metadata": {},
   "outputs": [
    {
     "data": {
      "text/plain": [
       "281"
      ]
     },
     "execution_count": 10,
     "metadata": {},
     "output_type": "execute_result"
    }
   ],
   "source": [
    "sum(_)"
   ]
  },
  {
   "cell_type": "markdown",
   "id": "eb6b6f03",
   "metadata": {},
   "source": [
    "That's better."
   ]
  },
  {
   "cell_type": "code",
   "execution_count": 11,
   "id": "f2189513",
   "metadata": {},
   "outputs": [],
   "source": [
    "def part_2(data):\n",
    "    return sum(calibration_value(line) for line in data)\n",
    "\n",
    "assert part_2(test_data_2) == 281"
   ]
  },
  {
   "cell_type": "code",
   "execution_count": 12,
   "id": "897f5df7",
   "metadata": {},
   "outputs": [
    {
     "data": {
      "text/plain": [
       "52840"
      ]
     },
     "execution_count": 12,
     "metadata": {},
     "output_type": "execute_result"
    }
   ],
   "source": [
    "part_2(data)"
   ]
  },
  {
   "cell_type": "code",
   "execution_count": null,
   "id": "bf214ff8",
   "metadata": {},
   "outputs": [],
   "source": []
  }
 ],
 "metadata": {
  "kernelspec": {
   "display_name": "Python 3 (ipykernel)",
   "language": "python",
   "name": "python3"
  },
  "language_info": {
   "codemirror_mode": {
    "name": "ipython",
    "version": 3
   },
   "file_extension": ".py",
   "mimetype": "text/x-python",
   "name": "python",
   "nbconvert_exporter": "python",
   "pygments_lexer": "ipython3",
   "version": "3.11.0"
  }
 },
 "nbformat": 4,
 "nbformat_minor": 5
}
