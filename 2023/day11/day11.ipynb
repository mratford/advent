{
 "cells": [
  {
   "cell_type": "markdown",
   "id": "268eeed3-4573-4b1d-9cb6-43d41b160b24",
   "metadata": {},
   "source": [
    "# Day 11 \n",
    "## Part 1\n",
    "\n",
    "Keep the coordinates of the stars, work out the rows and columns between the max and min coordinates without stars, and calculate th"
   ]
  },
  {
   "cell_type": "code",
   "execution_count": 5,
   "id": "494f7b41-a035-4dd5-bf3d-79a642bc558b",
   "metadata": {},
   "outputs": [],
   "source": [
    "from dataclasses import dataclass\n",
    "import itertools\n",
    "\n",
    "@dataclass\n",
    "class Point:\n",
    "    x: int\n",
    "    y: int\n",
    "\n",
    "    def __add__(self, other):\n",
    "        return self.__class__(self.x + other.x, self.y + other.y)\n",
    "\n",
    "    def __sub__(self, other):\n",
    "        return self.__class__(self.x - other.x, self.y - other.y)\n",
    "\n",
    "    def __neg__(self):\n",
    "        return self.__class__(-self.x, -self.y)\n",
    "\n",
    "    def __hash__(self):\n",
    "        return hash((self.x, self.y))\n",
    "\n",
    "    def __lt__(self, other):\n",
    "        if self.x < other.x:\n",
    "            return True\n",
    "        elif self.x > other.x:\n",
    "            return False\n",
    "        else:\n",
    "            return self.y < other.y\n",
    "\n",
    "    def __iter__(self):\n",
    "        yield self.x\n",
    "        yield self.y\n",
    "\n",
    "    def __mod__(self, other):\n",
    "        if isinstance(other, Point):\n",
    "            return self.__class__(self.x % other.x, self.y % other.y)\n",
    "        else:\n",
    "            return self.__class__(self.x % other, self.y % other)\n",
    "        \n",
    "    def __mul__(self, multiple):\n",
    "        return self.__class__(self.x * multiple, self.y * multiple)\n",
    "    \n",
    "\n",
    "def parse_data(s):\n",
    "    stars = set()\n",
    "    \n",
    "    for y, line in enumerate(reversed(s.strip().splitlines())):\n",
    "        for x, c in enumerate(line):\n",
    "            if c == \"#\":\n",
    "                stars.add(Point(x, y))\n",
    "                \n",
    "    return stars\n",
    "\n",
    "\n",
    "def part_1(stars):\n",
    "    xs = {star.x for star in stars}\n",
    "    ys = {star.y for star in stars}\n",
    "    empty_xs = set(range(min(xs), max(xs))) - xs\n",
    "    empty_ys = set(range(min(ys), max(ys))) - ys\n",
    "    total = 0\n",
    "    for star_1, star_2 in itertools.combinations(stars, 2):\n",
    "        total += (\n",
    "            abs(star_1.x - star_2.x)\n",
    "            + abs(star_1.y - star_2.y)\n",
    "            + sum(\n",
    "                1 \n",
    "                for x in empty_xs \n",
    "                if star_1.x < x < star_2.x or star_1.x > x > star_2.x\n",
    "            )\n",
    "            + sum(\n",
    "                1 \n",
    "                for y in empty_ys \n",
    "                if star_1.y < y < star_2.y or star_1.y > y > star_2.y\n",
    "            )\n",
    "        )\n",
    "    return total\n",
    "\n",
    "test_data = parse_data(\"\"\"...#......\n",
    ".......#..\n",
    "#.........\n",
    "..........\n",
    "......#...\n",
    ".#........\n",
    ".........#\n",
    "..........\n",
    ".......#..\n",
    "#...#.....\"\"\")\n",
    "\n",
    "assert part_1(test_data) == 374"
   ]
  },
  {
   "cell_type": "code",
   "execution_count": 7,
   "id": "3a7210d7-1984-46fd-a55d-9b7be1df23e7",
   "metadata": {},
   "outputs": [
    {
     "data": {
      "text/plain": [
       "9605127"
      ]
     },
     "execution_count": 7,
     "metadata": {},
     "output_type": "execute_result"
    }
   ],
   "source": [
    "data = parse_data(open(\"input\").read())\n",
    "\n",
    "part_1(data)"
   ]
  },
  {
   "cell_type": "markdown",
   "id": "7f839be6-eb87-415f-a7af-725cab416ef6",
   "metadata": {},
   "source": [
    "## Part 2"
   ]
  },
  {
   "cell_type": "code",
   "execution_count": 12,
   "id": "4c091bb5-11eb-41ec-9708-6bbddf566a3e",
   "metadata": {},
   "outputs": [
    {
     "data": {
      "text/plain": [
       "458191688761"
      ]
     },
     "execution_count": 12,
     "metadata": {},
     "output_type": "execute_result"
    }
   ],
   "source": [
    "def part_2(stars):\n",
    "    xs = {star.x for star in stars}\n",
    "    ys = {star.y for star in stars}\n",
    "    empty_xs = set(range(min(xs), max(xs))) - xs\n",
    "    empty_ys = set(range(min(ys), max(ys))) - ys\n",
    "    total = 0\n",
    "    for star_1, star_2 in itertools.combinations(stars, 2):\n",
    "        total += (\n",
    "            abs(star_1.x - star_2.x)\n",
    "            + abs(star_1.y - star_2.y)\n",
    "            + sum(\n",
    "                1000000 - 1 \n",
    "                for x in empty_xs \n",
    "                if star_1.x < x < star_2.x or star_1.x > x > star_2.x\n",
    "            )\n",
    "            + sum(\n",
    "                1000000 - 1 \n",
    "                for y in empty_ys \n",
    "                if star_1.y < y < star_2.y or star_1.y > y > star_2.y\n",
    "            )\n",
    "        )\n",
    "    return total\n",
    "\n",
    "part_2(data)"
   ]
  },
  {
   "cell_type": "code",
   "execution_count": null,
   "id": "55cfd5c7-9a57-4660-ba6b-0b51f361495b",
   "metadata": {},
   "outputs": [],
   "source": []
  }
 ],
 "metadata": {
  "kernelspec": {
   "display_name": "Python 3 (ipykernel)",
   "language": "python",
   "name": "python3"
  },
  "language_info": {
   "codemirror_mode": {
    "name": "ipython",
    "version": 3
   },
   "file_extension": ".py",
   "mimetype": "text/x-python",
   "name": "python",
   "nbconvert_exporter": "python",
   "pygments_lexer": "ipython3",
   "version": "3.11.0"
  }
 },
 "nbformat": 4,
 "nbformat_minor": 5
}
