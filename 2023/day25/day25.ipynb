{
 "cells": [
  {
   "cell_type": "markdown",
   "id": "268eeed3-4573-4b1d-9cb6-43d41b160b24",
   "metadata": {},
   "source": [
    "# Day 25 \n",
    "## Part 1\n",
    "\n",
    "I'm going to cheat and just [visualise the network](graph.html) (warning: that loads slowly), removing the three connecting edges."
   ]
  },
  {
   "cell_type": "code",
   "execution_count": 10,
   "id": "494f7b41-a035-4dd5-bf3d-79a642bc558b",
   "metadata": {},
   "outputs": [
    {
     "name": "stdout",
     "output_type": "stream",
     "text": [
      "Warning: When  cdn_resources is 'local' jupyter notebook has issues displaying graphics on chrome/safari. Use cdn_resources='in_line' or cdn_resources='remote' if you have issues viewing graphics in a notebook.\n",
      "graph.html\n"
     ]
    },
    {
     "data": {
      "text/html": [
       "\n",
       "        <iframe\n",
       "            width=\"100%\"\n",
       "            height=\"600px\"\n",
       "            src=\"graph.html\"\n",
       "            frameborder=\"0\"\n",
       "            allowfullscreen\n",
       "            \n",
       "        ></iframe>\n",
       "        "
      ],
      "text/plain": [
       "<IPython.lib.display.IFrame at 0x105428740>"
      ]
     },
     "execution_count": 10,
     "metadata": {},
     "output_type": "execute_result"
    }
   ],
   "source": [
    "import networkx as nx\n",
    "from pyvis.network import Network\n",
    "\n",
    "G = nx.Graph()\n",
    "\n",
    "for line in open(\"input\").read().strip().splitlines():\n",
    "    node, nbrs = line.strip().split(\": \")\n",
    "    for nbr in nbrs.split():\n",
    "        G.add_edge(node, nbr)\n",
    "\n",
    "nt = Network(notebook=True)\n",
    "nt.from_nx(G)\n",
    "nt.show(\"graph.html\")"
   ]
  },
  {
   "cell_type": "code",
   "execution_count": null,
   "id": "02bfb174-1e11-48c4-8db8-e8f11acead07",
   "metadata": {},
   "outputs": [],
   "source": []
  },
  {
   "cell_type": "code",
   "execution_count": 11,
   "id": "882fa804-cdb5-419d-aebe-f14dc4e3e172",
   "metadata": {},
   "outputs": [],
   "source": [
    "for edge in [(\"tqn\", \"tvf\"), (\"vzb\", \"tnr\"), (\"krx\", \"lmg\")]:\n",
    "    G.remove_edge(*edge)"
   ]
  },
  {
   "cell_type": "code",
   "execution_count": 12,
   "id": "a589b22a-c93b-4bd9-a584-ce332750999b",
   "metadata": {},
   "outputs": [
    {
     "data": {
      "text/plain": [
       "AtlasView({'zjv': {'width': 1}, 'vmh': {'width': 1}, 'lfk': {'width': 1}, 'dgm': {'width': 1}})"
      ]
     },
     "execution_count": 12,
     "metadata": {},
     "output_type": "execute_result"
    }
   ],
   "source": [
    "G[\"tnr\"]"
   ]
  },
  {
   "cell_type": "code",
   "execution_count": 13,
   "id": "a67e3297-6823-4681-b81b-f39b2bed1554",
   "metadata": {},
   "outputs": [
    {
     "data": {
      "text/plain": [
       "582626"
      ]
     },
     "execution_count": 13,
     "metadata": {},
     "output_type": "execute_result"
    }
   ],
   "source": [
    "import math\n",
    "\n",
    "math.prod(len(c) for c in nx.connected_components(G))"
   ]
  },
  {
   "cell_type": "code",
   "execution_count": null,
   "id": "6de3333a-5919-4c69-a02b-0d06df93db6f",
   "metadata": {},
   "outputs": [],
   "source": []
  }
 ],
 "metadata": {
  "kernelspec": {
   "display_name": "Python 3 (ipykernel)",
   "language": "python",
   "name": "python3"
  },
  "language_info": {
   "codemirror_mode": {
    "name": "ipython",
    "version": 3
   },
   "file_extension": ".py",
   "mimetype": "text/x-python",
   "name": "python",
   "nbconvert_exporter": "python",
   "pygments_lexer": "ipython3",
   "version": "3.12.1"
  }
 },
 "nbformat": 4,
 "nbformat_minor": 5
}
