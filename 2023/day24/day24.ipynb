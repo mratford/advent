{
 "cells": [
  {
   "cell_type": "markdown",
   "id": "268eeed3-4573-4b1d-9cb6-43d41b160b24",
   "metadata": {},
   "source": [
    "# Day 24 \n",
    "## Part 1\n",
    "\n",
    "We want\n",
    "$$\n",
    "p + av = q + bu\n",
    "$$\n",
    "for positive $a$ and $b$ within the bounds set.\n",
    "So solve the simultaneous equations \n",
    "$$\n",
    "p_x + av_x = q_x + bu_x\n",
    "$$\n",
    "$$\n",
    "p_y + av_y = q_y + bu_y\n",
    "$$\n",
    "so\n",
    "$$\n",
    "b = \\frac{p_x + av_x - q_x}{u_x}\n",
    "$$\n",
    "$$\n",
    "v_ya = q_y + (p_x + av_x - q_x)\\frac{u_y}{u_x} - p_y  \n",
    "$$\n",
    "$$\n",
    "(v_y - \\frac{v_xu_y}{u_x})a = q_y + {p_x - q_x}\\frac{u_y}{u_x} - p_y\n",
    "$$\n",
    "$$\n",
    "a = \\frac{q_yu_x + p_xu_y - q_xu_y - p_yu_x}{v_yu_x - v_xu_y}\n",
    "$$\n",
    "and substitute for b."
   ]
  },
  {
   "cell_type": "code",
   "execution_count": 1,
   "id": "494f7b41-a035-4dd5-bf3d-79a642bc558b",
   "metadata": {},
   "outputs": [
    {
     "data": {
      "text/plain": [
       "[(Point3D(x=19, y=13, z=30), Point3D(x=-2, y=1, z=-2)),\n",
       " (Point3D(x=18, y=19, z=22), Point3D(x=-1, y=-1, z=-2)),\n",
       " (Point3D(x=20, y=25, z=34), Point3D(x=-2, y=-2, z=-4)),\n",
       " (Point3D(x=12, y=31, z=28), Point3D(x=-1, y=-2, z=-1)),\n",
       " (Point3D(x=20, y=19, z=15), Point3D(x=1, y=-5, z=-3))]"
      ]
     },
     "execution_count": 1,
     "metadata": {},
     "output_type": "execute_result"
    }
   ],
   "source": [
    "from dataclasses import dataclass\n",
    "\n",
    "@dataclass\n",
    "class Point3D:\n",
    "    x: int\n",
    "    y: int\n",
    "    z: int\n",
    "\n",
    "    def __add__(self, other):\n",
    "        return self.__class__(self.x + other.x, self.y + other.y, self.z + other.z)\n",
    "\n",
    "    def __sub__(self, other):\n",
    "        return self.__class__(self.x - other.x, self.y - other.y, self.z - other.z)\n",
    "\n",
    "    def __neg__(self):\n",
    "        return self.__class__(-self.x, -self.y, -self.z)\n",
    "\n",
    "    def __hash__(self):\n",
    "        return hash((self.x, self.y, self.z))\n",
    "\n",
    "    def __iter__(self):\n",
    "        yield self.x\n",
    "        yield self.y\n",
    "        yield self.y\n",
    "\n",
    "    def __mod__(self, other):\n",
    "        if isinstance(other, Point):\n",
    "            return self.__class__(self.x % other.x, self.y % other.y, self.z % other.z)\n",
    "        else:\n",
    "            return self.__class__(self.x % other, self.y % other, self.z % other)\n",
    "        \n",
    "    def __mul__(self, multiple):\n",
    "        return self.__class__(self.x * multiple, self.y * multiple, self.z * multiple)\n",
    "\n",
    "def intersection_times(p, v, q, u):\n",
    "    a = (q.y * u.x + p.x * u.y - q.x * u.y - p.y * u.x) / (v.y * u.x - v.x * u.y)\n",
    "    b = (p.x + a * v.x - q.x) / u.x\n",
    "    return (a, b)\n",
    "\n",
    "def parse_data(s):\n",
    "    data = []\n",
    "    for line in s.strip().splitlines():\n",
    "        p, v = [Point3D(*map(int, xs.split(\", \"))) for xs in line.split(\" @ \")]\n",
    "        data.append((p, v))\n",
    "    return data\n",
    "\n",
    "test_data = parse_data(\"\"\"19, 13, 30 @ -2,  1, -2\n",
    "18, 19, 22 @ -1, -1, -2\n",
    "20, 25, 34 @ -2, -2, -4\n",
    "12, 31, 28 @ -1, -2, -1\n",
    "20, 19, 15 @  1, -5, -3\"\"\")\n",
    "\n",
    "test_data"
   ]
  },
  {
   "cell_type": "code",
   "execution_count": 2,
   "id": "fd70e95b-6365-4e19-9ac7-5def55735cf0",
   "metadata": {},
   "outputs": [
    {
     "name": "stdout",
     "output_type": "stream",
     "text": [
      "2.3333333333333335 3.666666666666668\n"
     ]
    },
    {
     "data": {
      "text/plain": [
       "Point3D(x=14.333333333333332, y=15.333333333333334, z=25.333333333333332)"
      ]
     },
     "execution_count": 2,
     "metadata": {},
     "output_type": "execute_result"
    }
   ],
   "source": [
    "p, v = test_data[0]\n",
    "q, u = test_data[1]\n",
    "a, b = intersection_times(p, v, q, u)\n",
    "print(a, b)\n",
    "p + v * a"
   ]
  },
  {
   "cell_type": "code",
   "execution_count": 3,
   "id": "25292c59-c37f-4bd0-a7f6-f76f7ecf20d7",
   "metadata": {},
   "outputs": [
    {
     "data": {
      "text/plain": [
       "2"
      ]
     },
     "execution_count": 3,
     "metadata": {},
     "output_type": "execute_result"
    }
   ],
   "source": [
    "from itertools import combinations, chain\n",
    "\n",
    "def intersections(data, lbound, ubound):\n",
    "    total = 0\n",
    "    for (p, v), (q, u) in combinations(data, 2):\n",
    "        try:\n",
    "            a, b = intersection_times(p, v, q, u)\n",
    "            if a > 0 and b > 0:\n",
    "                newp = p + v * a\n",
    "                newq = q + u * b\n",
    "                if all(lbound <= n <= ubound for n in (newp.x, newp.y, newq.x, newq.y)):\n",
    "                    total += 1\n",
    "        # parallel vectors\n",
    "        except ZeroDivisionError:\n",
    "            pass\n",
    "    return total\n",
    "\n",
    "intersections(test_data, 7, 27)        "
   ]
  },
  {
   "cell_type": "code",
   "execution_count": 4,
   "id": "220a047a-52a5-4d90-8019-905514e4cc77",
   "metadata": {},
   "outputs": [
    {
     "data": {
      "text/plain": [
       "11995"
      ]
     },
     "execution_count": 4,
     "metadata": {},
     "output_type": "execute_result"
    }
   ],
   "source": [
    "data = parse_data(open(\"input\").read())\n",
    "\n",
    "intersections(data, 200000000000000, 400000000000000)"
   ]
  },
  {
   "cell_type": "markdown",
   "id": "5eb4e98a-b4a7-4855-9b44-3dd54b035b42",
   "metadata": {},
   "source": [
    "## Part 2\n",
    "Matching one hailstone means the throw could be from anywhere, matching two defines a plane, matching three gives the throw location on the plane. Presumably the problem is constructed so the rest of the hailstones are hit by the defined throw. I made a mistake first time round even in the algebra above so I think I'll get some help with this one."
   ]
  },
  {
   "cell_type": "code",
   "execution_count": 5,
   "id": "7eb961f8-3d5c-4dfd-b8d2-44acdabd5316",
   "metadata": {},
   "outputs": [
    {
     "data": {
      "text/plain": [
       "[(Point3D(x=288998070705911, y=281498310692304, z=225433163951734),\n",
       "  Point3D(x=-63, y=25, z=66)),\n",
       " (Point3D(x=267942038821112, y=319206560980050, z=228821793591214),\n",
       "  Point3D(x=97, y=-61, z=70)),\n",
       " (Point3D(x=444805588706877, y=248504563833176, z=237588696365934),\n",
       "  Point3D(x=-167, y=337, z=94))]"
      ]
     },
     "execution_count": 5,
     "metadata": {},
     "output_type": "execute_result"
    }
   ],
   "source": [
    "data[:3]"
   ]
  },
  {
   "cell_type": "code",
   "execution_count": 6,
   "id": "0c32fc76-9bcb-4349-a42c-7e9c257c1918",
   "metadata": {},
   "outputs": [
    {
     "data": {
      "text/plain": [
       "[(24, 13, 10, -3, 1, 2, 5, 3, 4)]"
      ]
     },
     "execution_count": 6,
     "metadata": {},
     "output_type": "execute_result"
    }
   ],
   "source": [
    "import sympy\n",
    "\n",
    "def intersection(data):\n",
    "    x, y, z, vx, vy, vz, *ts = sympy.symbols(\"x y z vx vy vz t0 t1 t2\")\n",
    "    return sympy.solve(\n",
    "        [\n",
    "            x + ts[i] * vx - q.x - ts[i] * u.x for i, (q, u) in enumerate(data[:3])\n",
    "        ] +\n",
    "        [\n",
    "            y + ts[i] * vy - q.y - ts[i] * u.y for i, (q, u) in enumerate(data[:3])\n",
    "        ] +\n",
    "        [\n",
    "            z + ts[i] * vz - q.z - ts[i] * u.z for i, (q, u) in enumerate(data[:3])\n",
    "        ],\n",
    "        [x, y, z, vx, vy, vz, *ts]\n",
    "    )\n",
    "\n",
    "intersection(test_data)"
   ]
  },
  {
   "cell_type": "code",
   "execution_count": 7,
   "id": "a427e3e1-0018-4245-80d1-fa6b81c1c810",
   "metadata": {},
   "outputs": [],
   "source": [
    "x, y, z, *rest = intersection(data)[0]"
   ]
  },
  {
   "cell_type": "code",
   "execution_count": 8,
   "id": "c21f71f3-94a7-4494-8c64-b715d09b1dd8",
   "metadata": {},
   "outputs": [
    {
     "data": {
      "text/plain": [
       "983620716335751"
      ]
     },
     "execution_count": 8,
     "metadata": {},
     "output_type": "execute_result"
    }
   ],
   "source": [
    "int(x + y + z)"
   ]
  },
  {
   "cell_type": "code",
   "execution_count": null,
   "id": "868be0cd-f0e2-4fcd-9b09-3c12b867c514",
   "metadata": {},
   "outputs": [],
   "source": []
  }
 ],
 "metadata": {
  "kernelspec": {
   "display_name": "Python 3 (ipykernel)",
   "language": "python",
   "name": "python3"
  },
  "language_info": {
   "codemirror_mode": {
    "name": "ipython",
    "version": 3
   },
   "file_extension": ".py",
   "mimetype": "text/x-python",
   "name": "python",
   "nbconvert_exporter": "python",
   "pygments_lexer": "ipython3",
   "version": "3.11.0"
  }
 },
 "nbformat": 4,
 "nbformat_minor": 5
}
