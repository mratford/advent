{
 "cells": [
  {
   "cell_type": "markdown",
   "id": "268eeed3-4573-4b1d-9cb6-43d41b160b24",
   "metadata": {},
   "source": [
    "# Day 10 \n",
    "## Part 1\n",
    "I'm going to create a graph of connections, represented by a dictionary of sets of connected nodes. Use a Point class from earlier years."
   ]
  },
  {
   "cell_type": "code",
   "execution_count": 1,
   "id": "494f7b41-a035-4dd5-bf3d-79a642bc558b",
   "metadata": {},
   "outputs": [
    {
     "data": {
      "text/plain": [
       "(Point(x=0, y=2),\n",
       " {Point(x=0, y=0): {Point(x=0, y=1), Point(x=1, y=0)},\n",
       "  Point(x=1, y=0): {Point(x=0, y=0), Point(x=1, y=1)},\n",
       "  Point(x=3, y=0): {Point(x=3, y=1), Point(x=4, y=0)},\n",
       "  Point(x=4, y=0): {Point(x=3, y=0), Point(x=4, y=1)},\n",
       "  Point(x=0, y=1): {Point(x=0, y=0), Point(x=0, y=2)},\n",
       "  Point(x=1, y=1): {Point(x=1, y=0), Point(x=2, y=1)},\n",
       "  Point(x=2, y=1): {Point(x=1, y=1), Point(x=3, y=1)},\n",
       "  Point(x=3, y=1): {Point(x=2, y=1), Point(x=4, y=1)},\n",
       "  Point(x=4, y=1): {Point(x=3, y=1), Point(x=4, y=2)},\n",
       "  Point(x=1, y=2): {Point(x=0, y=2), Point(x=1, y=3)},\n",
       "  Point(x=2, y=2): {Point(x=2, y=3), Point(x=3, y=2)},\n",
       "  Point(x=3, y=2): {Point(x=3, y=3), Point(x=4, y=2)},\n",
       "  Point(x=4, y=2): {Point(x=3, y=2), Point(x=4, y=1)},\n",
       "  Point(x=1, y=3): {Point(x=1, y=2), Point(x=2, y=3)},\n",
       "  Point(x=2, y=3): {Point(x=1, y=3), Point(x=2, y=4)},\n",
       "  Point(x=3, y=3): {Point(x=3, y=2), Point(x=3, y=4)},\n",
       "  Point(x=4, y=3): {Point(x=3, y=3), Point(x=4, y=2)},\n",
       "  Point(x=0, y=4): {Point(x=-1, y=4), Point(x=0, y=3)},\n",
       "  Point(x=1, y=4): {Point(x=0, y=4), Point(x=2, y=4)},\n",
       "  Point(x=2, y=4): {Point(x=2, y=3), Point(x=3, y=4)},\n",
       "  Point(x=3, y=4): {Point(x=2, y=4), Point(x=3, y=3)},\n",
       "  Point(x=4, y=4): {Point(x=3, y=4), Point(x=5, y=4)},\n",
       "  Point(x=0, y=2): {Point(x=0, y=1), Point(x=1, y=2)}})"
      ]
     },
     "execution_count": 1,
     "metadata": {},
     "output_type": "execute_result"
    }
   ],
   "source": [
    "from dataclasses import dataclass\n",
    "\n",
    "@dataclass\n",
    "class Point:\n",
    "    x: int\n",
    "    y: int\n",
    "\n",
    "    def __add__(self, other):\n",
    "        return self.__class__(self.x + other.x, self.y + other.y)\n",
    "\n",
    "    def __sub__(self, other):\n",
    "        return self.__class__(self.x - other.x, self.y - other.y)\n",
    "\n",
    "    def __neg__(self):\n",
    "        return self.__class__(-self.x, -self.y)\n",
    "\n",
    "    def __hash__(self):\n",
    "        return hash((self.x, self.y))\n",
    "\n",
    "    def __lt__(self, other):\n",
    "        if self.x < other.x:\n",
    "            return True\n",
    "        elif self.x > other.x:\n",
    "            return False\n",
    "        else:\n",
    "            return self.y < other.y\n",
    "\n",
    "    def __iter__(self):\n",
    "        yield self.x\n",
    "        yield self.y\n",
    "\n",
    "    def __mod__(self, other):\n",
    "        if isinstance(other, Point):\n",
    "            return self.__class__(self.x % other.x, self.y % other.y)\n",
    "        else:\n",
    "            return self.__class__(self.x % other, self.y % other)\n",
    "        \n",
    "    def __mul__(self, multiple):\n",
    "        return self.__class__(self.x * multiple, self.y * multiple)\n",
    "    \n",
    "\n",
    "N = Point(0, 1)\n",
    "S = Point(0, -1)\n",
    "W = Point(-1, 0)\n",
    "E = Point(1, 0)\n",
    "\n",
    "def parse_data(s):\n",
    "    directions = {\n",
    "        \"|\": [N, S],\n",
    "        \"-\": [E, W],\n",
    "        \"L\": [N, E],\n",
    "        \"J\": [N, W],\n",
    "        \"7\": [S, W],\n",
    "        \"F\": [S, E]\n",
    "    }\n",
    "    g = {}\n",
    "    \n",
    "    for y, line in enumerate(reversed(s.strip().splitlines())):\n",
    "        for x, c in enumerate(line):\n",
    "            p = Point(x, y)\n",
    "            if c in directions:\n",
    "                g[p] = {p + d for d in directions[c]}\n",
    "            elif c == \"S\":\n",
    "                starting_point = p\n",
    "                \n",
    "    # Find the positions the starting point is connected to\n",
    "    g[starting_point] = {loc for loc in g if starting_point in g[loc]}\n",
    "    \n",
    "    return starting_point, g\n",
    "                \n",
    "test_data = parse_data(\"\"\"7-F7-\n",
    ".FJ|7\n",
    "SJLL7\n",
    "|F--J\n",
    "LJ.LJ\"\"\")\n",
    "\n",
    "test_data"
   ]
  },
  {
   "cell_type": "code",
   "execution_count": 2,
   "id": "261b3152",
   "metadata": {},
   "outputs": [],
   "source": [
    "def part_1(data):\n",
    "    starting_point, g = data\n",
    "    current_location = next(iter(g[starting_point]))\n",
    "    locations_visited = {starting_point, current_location}\n",
    "    steps = 1\n",
    "    while (\n",
    "        next_locations := [\n",
    "            p  \n",
    "            for p in g[current_location]\n",
    "            if p not in locations_visited\n",
    "        ]):\n",
    "        current_location = next_locations[0]\n",
    "        locations_visited.add(current_location)\n",
    "        steps += 1\n",
    "    # Final step back to start\n",
    "    steps += 1\n",
    "    return steps // 2\n",
    "\n",
    "assert part_1(test_data) == 8"
   ]
  },
  {
   "cell_type": "code",
   "execution_count": 4,
   "id": "e823f333",
   "metadata": {},
   "outputs": [
    {
     "data": {
      "text/plain": [
       "6733"
      ]
     },
     "execution_count": 4,
     "metadata": {},
     "output_type": "execute_result"
    }
   ],
   "source": [
    "data = parse_data(open(\"input\").read())\n",
    "\n",
    "part_1(data)"
   ]
  },
  {
   "cell_type": "markdown",
   "id": "af6a8e5f",
   "metadata": {},
   "source": [
    "## Part 2\n",
    "The ability to squeeze between pipes is a pain, not sure how to do this.\n",
    "\n",
    "I think what I'll do is double the coordinates so the existing pipes have all even coordinates. This allows for odd numbered coordinates between the pipes. Add extra pipe sections in the coordinates between connected nodes. Then for all coordinates that aren't part of the loop see if there is a clear path to the boundary.\n",
    "\n",
    "First amend the `part_1` function to return just the nodes in the loop and strip everything else out of the graph."
   ]
  },
  {
   "cell_type": "code",
   "execution_count": 5,
   "id": "0bba3793",
   "metadata": {},
   "outputs": [],
   "source": [
    "def strip_nodes(data):\n",
    "    starting_point, g = data\n",
    "    current_location = next(iter(g[starting_point]))\n",
    "    locations_visited = {starting_point, current_location}\n",
    "    while (\n",
    "        next_locations := [\n",
    "            p  \n",
    "            for p in g[current_location]\n",
    "            if p not in locations_visited\n",
    "        ]):\n",
    "        current_location = next_locations[0]\n",
    "        locations_visited.add(current_location)\n",
    "    for k in list(g.keys()):\n",
    "        if k not in locations_visited:\n",
    "            del g[k]\n",
    "    return g"
   ]
  },
  {
   "cell_type": "markdown",
   "id": "64cbbce0",
   "metadata": {},
   "source": [
    "Let's visualise this to make debugging easier."
   ]
  },
  {
   "cell_type": "code",
   "execution_count": 6,
   "id": "d45f5aee",
   "metadata": {},
   "outputs": [
    {
     "name": "stdout",
     "output_type": "stream",
     "text": [
      "..##.\n",
      ".###.\n",
      "##.##\n",
      "#####\n",
      "##...\n"
     ]
    }
   ],
   "source": [
    "def print_points(ps):\n",
    "    lines = []\n",
    "    min_x = min(p.x for p in ps)\n",
    "    max_x = max(p.x for p in ps)\n",
    "    min_y = min(p.y for p in ps)\n",
    "    max_y = max(p.y for p in ps)\n",
    "    for y in range(max_y, min_y - 1, -1):\n",
    "        lines.append(\n",
    "            \"\".join(\n",
    "                \"#\" if Point(x, y) in ps else \".\"\n",
    "                for x in range(min_x, max_x + 1)\n",
    "            )\n",
    "        )\n",
    "    return \"\\n\".join(lines)\n",
    "            \n",
    "print(print_points(strip_nodes(test_data)))"
   ]
  },
  {
   "cell_type": "markdown",
   "id": "a8f33c03",
   "metadata": {},
   "source": [
    "Double the coordinates, adding odd corrdinates in between connected nodes. We don't need the connections any more so just return a set of coordinates."
   ]
  },
  {
   "cell_type": "code",
   "execution_count": 7,
   "id": "d5e5e27a",
   "metadata": {},
   "outputs": [
    {
     "name": "stdout",
     "output_type": "stream",
     "text": [
      "....###..\n",
      "....#.#..\n",
      "..###.#..\n",
      "..#...#..\n",
      "###...###\n",
      "#.......#\n",
      "#.#######\n",
      "#.#......\n",
      "###......\n"
     ]
    }
   ],
   "source": [
    "def double_map(g):\n",
    "    new_map = set()\n",
    "    for p in g:\n",
    "        new_p = p * 2\n",
    "        new_map.add(new_p)\n",
    "        for nbr in g[p]:\n",
    "            d = nbr - p\n",
    "            new_map.add(new_p + d)\n",
    "    return new_map\n",
    "\n",
    "print(print_points(double_map(strip_nodes(test_data))))"
   ]
  },
  {
   "cell_type": "code",
   "execution_count": 38,
   "id": "e0d93710",
   "metadata": {},
   "outputs": [],
   "source": [
    "def part_2(data):\n",
    "    ps = double_map(strip_nodes(data))\n",
    "    min_x = min(p.x for p in ps)\n",
    "    max_x = max(p.x for p in ps)\n",
    "    min_y = min(p.y for p in ps)\n",
    "    max_y = max(p.y for p in ps)\n",
    "    \n",
    "    inner = set()\n",
    "    outer = set()\n",
    "    \n",
    "    for x in range(min_x, max_x + 1):\n",
    "        for y in range(min_y, max_y + 1):\n",
    "            if (p := Point(x, y)) not in (ps | inner | outer):\n",
    "                q = [p]\n",
    "                connected = {p}\n",
    "                hit_boundary = False\n",
    "                while q and not hit_boundary:\n",
    "                    loc = q.pop()\n",
    "                    for d in (N, S, E, W):\n",
    "                        if (nbr := loc + d) not in (ps | connected):\n",
    "                            if (\n",
    "                                nbr.x < min_x \n",
    "                                or nbr.x > max_x \n",
    "                                or nbr.y < min_y\n",
    "                                or nbr.y > max_y\n",
    "                            ):\n",
    "                                hit_boundary = True\n",
    "                            else:\n",
    "                                q.append(nbr)\n",
    "                                connected.add(nbr)\n",
    "                if not hit_boundary:\n",
    "                    inner = inner | connected\n",
    "                else:\n",
    "                    outer = outer | connected\n",
    "\n",
    "    even_ps = [\n",
    "        p \n",
    "        for p in inner \n",
    "        if p.x % 2 == 0 and p.y % 2 == 0\n",
    "    ]\n",
    "        \n",
    "    # lines = []\n",
    "    # min_x = min(p.x for p in ps)\n",
    "    # max_x = max(p.x for p in ps)\n",
    "    # min_y = min(p.y for p in ps)\n",
    "    # max_y = max(p.y for p in ps)\n",
    "    # for y in range(max_y, min_y - 1, -1):\n",
    "    #     lines.append(\n",
    "    #         \"\".join(\n",
    "    #             \"I\" if Point(x, y) in even_ps else\n",
    "    #             \"#\" if Point(x, y) in ps else \".\"\n",
    "    #             for x in range(min_x, max_x + 1)\n",
    "    #         )\n",
    "    #     )\n",
    "    # print(\"\\n\".join(lines))\n",
    "\n",
    "    return len(even_ps)\n",
    "\n",
    "test_data_2 = parse_data(\"\"\"FF7FSF7F7F7F7F7F---7\n",
    "L|LJ||||||||||||F--J\n",
    "FL-7LJLJ||||||LJL-77\n",
    "F--JF--7||LJLJ7F7FJ-\n",
    "L---JF-JLJ.||-FJLJJ7\n",
    "|F|F-JF---7F7-L7L|7|\n",
    "|FFJF7L7F-JF7|JL---7\n",
    "7-L-JL7||F7|L7F-7F7|\n",
    "L.L7LFJ|||||FJL7||LJ\n",
    "L7JLJL-JLJLJL--JLJ.L\"\"\")\n",
    "\n",
    "assert part_2(test_data_2) == 10"
   ]
  },
  {
   "cell_type": "markdown",
   "id": "4ce6f627",
   "metadata": {},
   "source": [
    "Finally got this working, but it takes eleven minutes with pypy so I've messed up somewhere."
   ]
  },
  {
   "cell_type": "code",
   "execution_count": null,
   "id": "e254e555-4199-4d4a-ba44-e2c99e356577",
   "metadata": {},
   "outputs": [],
   "source": []
  }
 ],
 "metadata": {
  "kernelspec": {
   "display_name": "Python 3 (ipykernel)",
   "language": "python",
   "name": "python3"
  },
  "language_info": {
   "codemirror_mode": {
    "name": "ipython",
    "version": 3
   },
   "file_extension": ".py",
   "mimetype": "text/x-python",
   "name": "python",
   "nbconvert_exporter": "python",
   "pygments_lexer": "ipython3",
   "version": "3.11.0"
  }
 },
 "nbformat": 4,
 "nbformat_minor": 5
}
