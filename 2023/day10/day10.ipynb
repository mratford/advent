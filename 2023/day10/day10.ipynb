{
 "cells": [
  {
   "cell_type": "markdown",
   "id": "268eeed3-4573-4b1d-9cb6-43d41b160b24",
   "metadata": {},
   "source": [
    "# Day 10 \n",
    "## Part 1\n",
    "I'm going to create a graph of connections, represented by a dictionary of sets of connected nodes. Use a Point class from earlier years."
   ]
  },
  {
   "cell_type": "code",
   "execution_count": 1,
   "id": "494f7b41-a035-4dd5-bf3d-79a642bc558b",
   "metadata": {},
   "outputs": [
    {
     "data": {
      "text/plain": [
       "(Point(x=0, y=2),\n",
       " {Point(x=0, y=0): {Point(x=0, y=1), Point(x=1, y=0)},\n",
       "  Point(x=1, y=0): {Point(x=0, y=0), Point(x=1, y=1)},\n",
       "  Point(x=3, y=0): {Point(x=3, y=1), Point(x=4, y=0)},\n",
       "  Point(x=4, y=0): {Point(x=3, y=0), Point(x=4, y=1)},\n",
       "  Point(x=0, y=1): {Point(x=0, y=0), Point(x=0, y=2)},\n",
       "  Point(x=1, y=1): {Point(x=1, y=0), Point(x=2, y=1)},\n",
       "  Point(x=2, y=1): {Point(x=1, y=1), Point(x=3, y=1)},\n",
       "  Point(x=3, y=1): {Point(x=2, y=1), Point(x=4, y=1)},\n",
       "  Point(x=4, y=1): {Point(x=3, y=1), Point(x=4, y=2)},\n",
       "  Point(x=1, y=2): {Point(x=0, y=2), Point(x=1, y=3)},\n",
       "  Point(x=2, y=2): {Point(x=2, y=3), Point(x=3, y=2)},\n",
       "  Point(x=3, y=2): {Point(x=3, y=3), Point(x=4, y=2)},\n",
       "  Point(x=4, y=2): {Point(x=3, y=2), Point(x=4, y=1)},\n",
       "  Point(x=1, y=3): {Point(x=1, y=2), Point(x=2, y=3)},\n",
       "  Point(x=2, y=3): {Point(x=1, y=3), Point(x=2, y=4)},\n",
       "  Point(x=3, y=3): {Point(x=3, y=2), Point(x=3, y=4)},\n",
       "  Point(x=4, y=3): {Point(x=3, y=3), Point(x=4, y=2)},\n",
       "  Point(x=0, y=4): {Point(x=-1, y=4), Point(x=0, y=3)},\n",
       "  Point(x=1, y=4): {Point(x=0, y=4), Point(x=2, y=4)},\n",
       "  Point(x=2, y=4): {Point(x=2, y=3), Point(x=3, y=4)},\n",
       "  Point(x=3, y=4): {Point(x=2, y=4), Point(x=3, y=3)},\n",
       "  Point(x=4, y=4): {Point(x=3, y=4), Point(x=5, y=4)},\n",
       "  Point(x=0, y=2): {Point(x=0, y=1), Point(x=1, y=2)}})"
      ]
     },
     "execution_count": 1,
     "metadata": {},
     "output_type": "execute_result"
    }
   ],
   "source": [
    "from dataclasses import dataclass\n",
    "\n",
    "@dataclass\n",
    "class Point:\n",
    "    x: int\n",
    "    y: int\n",
    "\n",
    "    def __add__(self, other):\n",
    "        return self.__class__(self.x + other.x, self.y + other.y)\n",
    "\n",
    "    def __sub__(self, other):\n",
    "        return self.__class__(self.x - other.x, self.y - other.y)\n",
    "\n",
    "    def __neg__(self):\n",
    "        return self.__class__(-self.x, -self.y)\n",
    "\n",
    "    def __hash__(self):\n",
    "        return hash((self.x, self.y))\n",
    "\n",
    "    def __lt__(self, other):\n",
    "        if self.x < other.x:\n",
    "            return True\n",
    "        elif self.x > other.x:\n",
    "            return False\n",
    "        else:\n",
    "            return self.y < other.y\n",
    "\n",
    "    def __iter__(self):\n",
    "        yield self.x\n",
    "        yield self.y\n",
    "\n",
    "    def __mod__(self, other):\n",
    "        if isinstance(other, Point):\n",
    "            return self.__class__(self.x % other.x, self.y % other.y)\n",
    "        else:\n",
    "            return self.__class__(self.x % other, self.y % other)\n",
    "\n",
    "\n",
    "def parse_data(s):\n",
    "    N = Point(0, 1)\n",
    "    S = Point(0, -1)\n",
    "    W = Point(-1, 0)\n",
    "    E = Point(1, 0)\n",
    "    \n",
    "    directions = {\n",
    "        \"|\": [N, S],\n",
    "        \"-\": [E, W],\n",
    "        \"L\": [N, E],\n",
    "        \"J\": [N, W],\n",
    "        \"7\": [S, W],\n",
    "        \"F\": [S, E]\n",
    "    }\n",
    "    g = {}\n",
    "    \n",
    "    for y, line in enumerate(reversed(s.strip().splitlines())):\n",
    "        for x, c in enumerate(line):\n",
    "            p = Point(x, y)\n",
    "            if c in directions:\n",
    "                g[p] = {p + d for d in directions[c]}\n",
    "            elif c == \"S\":\n",
    "                starting_point = p\n",
    "                \n",
    "    # Find the positions the starting point is connected to\n",
    "    g[starting_point] = {loc for loc in g if starting_point in g[loc]}\n",
    "    \n",
    "    return starting_point, g\n",
    "                \n",
    "test_data = parse_data(\"\"\"7-F7-\n",
    ".FJ|7\n",
    "SJLL7\n",
    "|F--J\n",
    "LJ.LJ\"\"\")\n",
    "\n",
    "test_data"
   ]
  },
  {
   "cell_type": "code",
   "execution_count": 2,
   "id": "36c5ca1b",
   "metadata": {},
   "outputs": [],
   "source": [
    "def part_1(data):\n",
    "    starting_point, g = data\n",
    "    current_location = next(iter(g[starting_point]))\n",
    "    locations_visited = {starting_point, current_location}\n",
    "    steps = 1\n",
    "    while (\n",
    "        next_locations := [\n",
    "            p  \n",
    "            for p in g[current_location]\n",
    "            if p not in locations_visited\n",
    "        ]):\n",
    "        current_location = next_locations[0]\n",
    "        locations_visited.add(current_location)\n",
    "        steps += 1\n",
    "    # Final step back to start\n",
    "    steps += 1\n",
    "    return steps // 2\n",
    "\n",
    "assert part_1(test_data) == 8"
   ]
  },
  {
   "cell_type": "code",
   "execution_count": 3,
   "id": "e49685a2",
   "metadata": {},
   "outputs": [
    {
     "data": {
      "text/plain": [
       "6733"
      ]
     },
     "execution_count": 3,
     "metadata": {},
     "output_type": "execute_result"
    }
   ],
   "source": [
    "data = parse_data(open(\"input\").read())\n",
    "\n",
    "part_1(data)"
   ]
  },
  {
   "cell_type": "markdown",
   "id": "10ec27df",
   "metadata": {},
   "source": [
    "## Part 2\n",
    "The ability to squeeze between pipes is a pain, not sure how to do this."
   ]
  },
  {
   "cell_type": "code",
   "execution_count": null,
   "id": "b483e9f2",
   "metadata": {},
   "outputs": [],
   "source": []
  }
 ],
 "metadata": {
  "kernelspec": {
   "display_name": "Python (AoC)",
   "language": "python",
   "name": "advent"
  },
  "language_info": {
   "codemirror_mode": {
    "name": "ipython",
    "version": 3
   },
   "file_extension": ".py",
   "mimetype": "text/x-python",
   "name": "python",
   "nbconvert_exporter": "python",
   "pygments_lexer": "ipython3",
   "version": "3.11.0"
  }
 },
 "nbformat": 4,
 "nbformat_minor": 5
}
