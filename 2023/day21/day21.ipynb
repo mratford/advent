{
 "cells": [
  {
   "cell_type": "markdown",
   "id": "268eeed3-4573-4b1d-9cb6-43d41b160b24",
   "metadata": {},
   "source": [
    "# Day 21 \n",
    "## Part 1\n",
    "Each point is either an odd or even number of steps away, so once that's been determined it doesn't need revisiting. Find all the evens reachable in 64 steps as any step reachable in n steps where n is divisible by 2 can keep taking 2 steps forward and back until 64 has been reached."
   ]
  },
  {
   "cell_type": "code",
   "execution_count": 1,
   "id": "494f7b41-a035-4dd5-bf3d-79a642bc558b",
   "metadata": {},
   "outputs": [],
   "source": [
    "from dataclasses import dataclass\n",
    "from collections import deque\n",
    "\n",
    "@dataclass\n",
    "class Point:\n",
    "    x: int\n",
    "    y: int\n",
    "\n",
    "    def __add__(self, other):\n",
    "        return self.__class__(self.x + other.x, self.y + other.y)\n",
    "\n",
    "    def __sub__(self, other):\n",
    "        return self.__class__(self.x - other.x, self.y - other.y)\n",
    "\n",
    "    def __neg__(self):\n",
    "        return self.__class__(-self.x, -self.y)\n",
    "\n",
    "    def __hash__(self):\n",
    "        return hash((self.x, self.y))\n",
    "\n",
    "    def __lt__(self, other):\n",
    "        if self.x < other.x:\n",
    "            return True\n",
    "        elif self.x > other.x:\n",
    "            return False\n",
    "        else:\n",
    "            return self.y < other.y\n",
    "\n",
    "    def __iter__(self):\n",
    "        yield self.x\n",
    "        yield self.y\n",
    "\n",
    "    def __mod__(self, other):\n",
    "        if isinstance(other, Point):\n",
    "            return self.__class__(self.x % other.x, self.y % other.y)\n",
    "        else:\n",
    "            return self.__class__(self.x % other, self.y % other)\n",
    "        \n",
    "    def __mul__(self, multiple):\n",
    "        return self.__class__(self.x * multiple, self.y * multiple)\n",
    "    \n",
    "\n",
    "N = Point(0, 1)\n",
    "S = Point(0, -1)\n",
    "W = Point(-1, 0)\n",
    "E = Point(1, 0)\n",
    "\n",
    "DIRECTIONS = (N, E, S, W)\n",
    "\n",
    "def parse_data(s):\n",
    "    grid = {}\n",
    "    lines = s.strip().splitlines()\n",
    "    for y, line in zip(range(len(lines) - 1, -1, -1), lines):\n",
    "        for x, c in enumerate(line):\n",
    "            grid[Point(x, y)] = c\n",
    "            if c == \"S\":\n",
    "                starting_point = Point(x,y)\n",
    "    return starting_point, grid\n",
    "\n",
    "def reachable(s, target):\n",
    "    starting_point, grid = parse_data(s)\n",
    "\n",
    "    seen = set()\n",
    "    evens = 0\n",
    "    q = deque([(starting_point, 0)])\n",
    "    while q:\n",
    "        p, steps = q.popleft()\n",
    "        if steps <= target:\n",
    "            if steps % 2 == 0:\n",
    "                evens += 1\n",
    "            seen.add(p)\n",
    "            for d in DIRECTIONS:\n",
    "                nbr = p + d\n",
    "                if nbr in grid and grid[nbr] == \".\" and nbr not in seen:\n",
    "                    q.append((nbr, steps + 1))\n",
    "                    seen.add(nbr)\n",
    "    return evens\n",
    "\n",
    "def part_1(s):\n",
    "    return reachable(s, 64)"
   ]
  },
  {
   "cell_type": "code",
   "execution_count": 2,
   "id": "355ea0f5-afd3-4339-b480-db3cf0a13622",
   "metadata": {},
   "outputs": [],
   "source": [
    "test_input = \"\"\"...........\n",
    ".....###.#.\n",
    ".###.##..#.\n",
    "..#.#...#..\n",
    "....#.#....\n",
    ".##..S####.\n",
    ".##..#...#.\n",
    ".......##..\n",
    ".##.#.####.\n",
    ".##..##.##.\n",
    "...........\"\"\"\n",
    "\n",
    "assert reachable(test_input, 6) == 16"
   ]
  },
  {
   "cell_type": "code",
   "execution_count": 3,
   "id": "8fe174ff-52fc-459f-92d6-082d319a2d1a",
   "metadata": {},
   "outputs": [
    {
     "data": {
      "text/plain": [
       "3830"
      ]
     },
     "execution_count": 3,
     "metadata": {},
     "output_type": "execute_result"
    }
   ],
   "source": [
    "inp = open(\"input\").read()\n",
    "\n",
    "part_1(inp)"
   ]
  },
  {
   "cell_type": "code",
   "execution_count": null,
   "id": "bfc9b4d1-7a62-4274-8252-859b342c2b05",
   "metadata": {},
   "outputs": [],
   "source": []
  }
 ],
 "metadata": {
  "kernelspec": {
   "display_name": "Python 3 (ipykernel)",
   "language": "python",
   "name": "python3"
  },
  "language_info": {
   "codemirror_mode": {
    "name": "ipython",
    "version": 3
   },
   "file_extension": ".py",
   "mimetype": "text/x-python",
   "name": "python",
   "nbconvert_exporter": "python",
   "pygments_lexer": "ipython3",
   "version": "3.11.0"
  }
 },
 "nbformat": 4,
 "nbformat_minor": 5
}
