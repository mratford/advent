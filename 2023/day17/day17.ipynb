{
 "cells": [
  {
   "cell_type": "markdown",
   "id": "268eeed3-4573-4b1d-9cb6-43d41b160b24",
   "metadata": {},
   "source": [
    "# Day 17 \n",
    "## Part 1\n",
    "Start off with implementing A* with a Manhattan distance ($m$) heuristic. I'm not sure if that's going to be fast enough, I thought originally of using the minimum sum of $m$ heat losses within the square boundary between the current position and the end but that won't be admissible as you could have e.g. 9s surrounded by 1s. \n",
    "\n",
    "What's the size of the problem?"
   ]
  },
  {
   "cell_type": "code",
   "execution_count": 1,
   "id": "97055bdf-3775-42cb-8123-7fde4560c9f1",
   "metadata": {},
   "outputs": [
    {
     "data": {
      "text/plain": [
       "20022"
      ]
     },
     "execution_count": 1,
     "metadata": {},
     "output_type": "execute_result"
    }
   ],
   "source": [
    "input = open(\"input\").read()\n",
    "\n",
    "len(input)"
   ]
  },
  {
   "cell_type": "markdown",
   "id": "efdc44d3-7bd6-40b9-ba90-d0454a9eb1dd",
   "metadata": {},
   "source": [
    "I think that's going to be too big for such a simple heuristic.  I think there needs to be some sort of global check that we haven't visited the same state before. All we need to know is the last direction and the number of times it was used, plus the current position. Given that this will be 4 directions * 3 possible times used * ~20000 I think that will be tractable."
   ]
  },
  {
   "cell_type": "code",
   "execution_count": 2,
   "id": "a24cd5b7-179d-40ef-b00a-f7e84d6c4a91",
   "metadata": {},
   "outputs": [],
   "source": [
    "from functools import cache\n",
    "from dataclasses import dataclass\n",
    "\n",
    "@dataclass\n",
    "class Point:\n",
    "    x: int\n",
    "    y: int\n",
    "\n",
    "    def __add__(self, other):\n",
    "        return self.__class__(self.x + other.x, self.y + other.y)\n",
    "\n",
    "    def __sub__(self, other):\n",
    "        return self.__class__(self.x - other.x, self.y - other.y)\n",
    "\n",
    "    def __neg__(self):\n",
    "        return self.__class__(-self.x, -self.y)\n",
    "\n",
    "    def __hash__(self):\n",
    "        return hash((self.x, self.y))\n",
    "\n",
    "    def __lt__(self, other):\n",
    "        if self.x < other.x:\n",
    "            return True\n",
    "        elif self.x > other.x:\n",
    "            return False\n",
    "        else:\n",
    "            return self.y < other.y\n",
    "\n",
    "    def __iter__(self):\n",
    "        yield self.x\n",
    "        yield self.y\n",
    "\n",
    "    def __mod__(self, other):\n",
    "        if isinstance(other, Point):\n",
    "            return self.__class__(self.x % other.x, self.y % other.y)\n",
    "        else:\n",
    "            return self.__class__(self.x % other, self.y % other)\n",
    "        \n",
    "    def __mul__(self, multiple):\n",
    "        return self.__class__(self.x * multiple, self.y * multiple)\n",
    "    \n",
    "    def __eq__(self, other):\n",
    "        return self.x == other.x and self.y == other.y\n",
    "    \n",
    "\n",
    "N = Point(0, 1)\n",
    "S = Point(0, -1)\n",
    "W = Point(-1, 0)\n",
    "E = Point(1, 0)\n",
    "\n",
    "\n",
    "def manhattan_distance(p1, p2):\n",
    "    return abs(p1.x - p2.x) + abs(p1.y - p2.y)"
   ]
  },
  {
   "cell_type": "code",
   "execution_count": 3,
   "id": "494f7b41-a035-4dd5-bf3d-79a642bc558b",
   "metadata": {},
   "outputs": [],
   "source": [
    "def parse_data(s):\n",
    "    grid = {}\n",
    "    lines = s.strip().splitlines()\n",
    "    for y, line in zip(range(len(lines) - 1, -1, -1), lines):\n",
    "        for x, c in enumerate(line):\n",
    "            grid[Point(x, y)] = int(c)\n",
    "    return grid\n",
    "\n",
    "test_data = parse_data(\"\"\"2413432311323\n",
    "3215453535623\n",
    "3255245654254\n",
    "3446585845452\n",
    "4546657867536\n",
    "1438598798454\n",
    "4457876987766\n",
    "3637877979653\n",
    "4654967986887\n",
    "4564679986453\n",
    "1224686865563\n",
    "2546548887735\n",
    "4322674655533\"\"\")\n",
    "\n",
    "data = parse_data(input)"
   ]
  },
  {
   "cell_type": "code",
   "execution_count": 4,
   "id": "5f1b20a0-6afb-47f0-bb34-058428d6119b",
   "metadata": {},
   "outputs": [],
   "source": [
    "import heapq\n",
    "from collections import namedtuple\n",
    "from functools import cache\n",
    "\n",
    "State = namedtuple(\"State\", \"h cost position\")\n",
    "DirectionState = namedtuple(\"DirectionState\", \"direction times_used\")\n",
    "PositionState = namedtuple(\"PositionState\", \"position direction_state\")\n",
    "\n",
    "def part_1(grid):\n",
    "    start_position = Point(0, max(p.y for p in grid))\n",
    "    end_position = Point(max(p.x for p in grid), 0)\n",
    "    m = lambda p: manhattan_distance(p, end_position)\n",
    "    q = [\n",
    "        (\n",
    "            State(\n",
    "                m(start_position),\n",
    "                0,\n",
    "                start_position,\n",
    "            ),\n",
    "            DirectionState(S, 0)\n",
    "        )\n",
    "    ]\n",
    "    visited = set()\n",
    "\n",
    "    while q:\n",
    "        state, dirstate = heapq.heappop(q)\n",
    "        directions = {N, S, W, E}\n",
    "        directions.discard(-dirstate.direction)\n",
    "        if dirstate.times_used == 3:\n",
    "            directions.discard(dirstate.direction)\n",
    "        for d in directions:\n",
    "            p = state.position + d\n",
    "            ps = PositionState(\n",
    "                p,\n",
    "                DirectionState(d, dirstate.times_used + 1) \n",
    "                if dirstate.direction == d\n",
    "                else DirectionState(d, 1)\n",
    "            )\n",
    "            if p == end_position:\n",
    "                return state.cost + grid[p]\n",
    "            if p in grid and ps not in visited:\n",
    "                visited.add(ps)\n",
    "                cost = state.cost + grid[p]\n",
    "                h = m(p) + cost\n",
    "                heapq.heappush(\n",
    "                    q,\n",
    "                    (\n",
    "                        State(\n",
    "                            h,\n",
    "                            cost,\n",
    "                            p\n",
    "                        ),\n",
    "                        ps.direction_state\n",
    "                    )\n",
    "                )"
   ]
  },
  {
   "cell_type": "code",
   "execution_count": 58,
   "id": "02d41c8c-db85-490e-8279-dfc03f262795",
   "metadata": {},
   "outputs": [
    {
     "name": "stdout",
     "output_type": "stream",
     "text": [
      "CPU times: user 26.8 ms, sys: 2.56 ms, total: 29.3 ms\n",
      "Wall time: 27.3 ms\n"
     ]
    },
    {
     "data": {
      "text/plain": [
       "102"
      ]
     },
     "execution_count": 58,
     "metadata": {},
     "output_type": "execute_result"
    }
   ],
   "source": [
    "%%time \n",
    "\n",
    "part_1(test_data)"
   ]
  },
  {
   "cell_type": "code",
   "execution_count": 6,
   "id": "4da3a15b-c109-471b-a8f3-99e969746ae1",
   "metadata": {},
   "outputs": [
    {
     "name": "stdout",
     "output_type": "stream",
     "text": [
      "CPU times: user 2.38 s, sys: 26.8 ms, total: 2.4 s\n",
      "Wall time: 2.4 s\n"
     ]
    },
    {
     "data": {
      "text/plain": [
       "698"
      ]
     },
     "execution_count": 6,
     "metadata": {},
     "output_type": "execute_result"
    }
   ],
   "source": [
    "%%time\n",
    "\n",
    "part_1(data)"
   ]
  },
  {
   "cell_type": "markdown",
   "id": "3c79673c-75a1-4cc7-88e2-8d5ec8605cce",
   "metadata": {},
   "source": [
    "Great. That worked with no problems whatsoever.\n",
    "\n",
    "## Part 2\n",
    "\n",
    "This is fiddly."
   ]
  },
  {
   "cell_type": "code",
   "execution_count": 7,
   "id": "e3bff5b4-52ec-4d76-90e7-a11a3cc9cfb8",
   "metadata": {},
   "outputs": [],
   "source": [
    "DirectionState = namedtuple(\"DirectionState\", \"direction times_used\")\n",
    "PositionState = namedtuple(\"PositionState\", \"position direction_state\")\n",
    "\n",
    "def part_2(grid):\n",
    "    start_position = Point(0, max(p.y for p in grid))\n",
    "    end_position = Point(max(p.x for p in grid), 0)\n",
    "    m = lambda p: manhattan_distance(p, end_position)\n",
    "    q = [\n",
    "        (\n",
    "            State(\n",
    "                m(start_position),\n",
    "                0,\n",
    "                start_position,\n",
    "            ),\n",
    "            DirectionState(S, 0)\n",
    "        ),\n",
    "        (\n",
    "            State(\n",
    "                m(start_position),\n",
    "                0,\n",
    "                start_position,\n",
    "            ),\n",
    "            DirectionState(E, 0)\n",
    "        )\n",
    "    ]\n",
    "    visited = set()\n",
    "\n",
    "    while q:\n",
    "        state, dirstate = heapq.heappop(q)\n",
    "        directions = {N, S, W, E}\n",
    "        directions.discard(-dirstate.direction)\n",
    "        if dirstate.times_used == 10:\n",
    "            directions.discard(dirstate.direction)\n",
    "        elif dirstate.times_used < 4:\n",
    "            directions = {dirstate.direction}\n",
    "        for d in directions:\n",
    "            p = state.position + d\n",
    "            ps = PositionState(\n",
    "                p,\n",
    "                DirectionState(d, dirstate.times_used + 1) \n",
    "                if dirstate.direction == d\n",
    "                else DirectionState(d, 1)\n",
    "            )\n",
    "            if p == end_position:\n",
    "                return state.cost + grid[p]\n",
    "            if p in grid and ps not in visited:\n",
    "                visited.add(ps)\n",
    "                cost = state.cost + grid[p]\n",
    "                h = m(p) + cost\n",
    "                heapq.heappush(\n",
    "                    q,\n",
    "                    (\n",
    "                        State(\n",
    "                            h,\n",
    "                            cost,\n",
    "                            p\n",
    "                        ),\n",
    "                        ps.direction_state\n",
    "                    )\n",
    "                )"
   ]
  },
  {
   "cell_type": "code",
   "execution_count": 8,
   "id": "2d3cb097-0aa9-4567-8346-6f035940074c",
   "metadata": {},
   "outputs": [
    {
     "name": "stdout",
     "output_type": "stream",
     "text": [
      "CPU times: user 12.5 ms, sys: 831 µs, total: 13.3 ms\n",
      "Wall time: 12.6 ms\n"
     ]
    },
    {
     "data": {
      "text/plain": [
       "94"
      ]
     },
     "execution_count": 8,
     "metadata": {},
     "output_type": "execute_result"
    }
   ],
   "source": [
    "%%time\n",
    "\n",
    "part_2(test_data)"
   ]
  },
  {
   "cell_type": "code",
   "execution_count": 9,
   "id": "39e301f1-ec3b-4e28-bdd4-f6d875abb8d8",
   "metadata": {},
   "outputs": [
    {
     "name": "stdout",
     "output_type": "stream",
     "text": [
      "CPU times: user 8.2 s, sys: 52.9 ms, total: 8.25 s\n",
      "Wall time: 8.25 s\n"
     ]
    },
    {
     "data": {
      "text/plain": [
       "819"
      ]
     },
     "execution_count": 9,
     "metadata": {},
     "output_type": "execute_result"
    }
   ],
   "source": [
    "%%time\n",
    "\n",
    "part_2(data)"
   ]
  },
  {
   "cell_type": "markdown",
   "id": "ced158d6-90ff-479e-9760-759fb8b2a7a2",
   "metadata": {},
   "source": [
    "Great. Right on the test data, wrong on the actual data."
   ]
  },
  {
   "cell_type": "code",
   "execution_count": 10,
   "id": "aa2b64e8-c6a2-4127-9a2e-ff6bc2d8c2ba",
   "metadata": {},
   "outputs": [
    {
     "data": {
      "text/plain": [
       "47"
      ]
     },
     "execution_count": 10,
     "metadata": {},
     "output_type": "execute_result"
    }
   ],
   "source": [
    "test_data_2 = parse_data(\"\"\"111111111111\n",
    "999999999991\n",
    "999999999991\n",
    "999999999991\n",
    "999999999991\"\"\")\n",
    "\n",
    "part_2(test_data_2)"
   ]
  },
  {
   "cell_type": "markdown",
   "id": "697434ad-7b81-41db-b00b-f0b18e40be08",
   "metadata": {},
   "source": [
    "Why is that 71 in the problem statement? Shouldn't it go ten blocks to the right and then go down?\n",
    "\n",
    "Aha! I missed the \"(or even before it can stop at the end)\" part."
   ]
  },
  {
   "cell_type": "code",
   "execution_count": 11,
   "id": "b84e05cf-9491-412b-88ce-78f63e470b64",
   "metadata": {},
   "outputs": [],
   "source": [
    "DirectionState = namedtuple(\"DirectionState\", \"direction times_used\")\n",
    "PositionState = namedtuple(\"PositionState\", \"position direction_state\")\n",
    "\n",
    "def part_2(grid):\n",
    "    start_position = Point(0, max(p.y for p in grid))\n",
    "    end_position = Point(max(p.x for p in grid), 0)\n",
    "    m = lambda p: manhattan_distance(p, end_position)\n",
    "    q = [\n",
    "        (\n",
    "            State(\n",
    "                m(start_position),\n",
    "                0,\n",
    "                start_position,\n",
    "            ),\n",
    "            DirectionState(S, 0)\n",
    "        ),\n",
    "        (\n",
    "            State(\n",
    "                m(start_position),\n",
    "                0,\n",
    "                start_position,\n",
    "            ),\n",
    "            DirectionState(E, 0)\n",
    "        )\n",
    "    ]\n",
    "    visited = set()\n",
    "\n",
    "    while q:\n",
    "        state, dirstate = heapq.heappop(q)\n",
    "        directions = {N, S, W, E}\n",
    "        directions.discard(-dirstate.direction)\n",
    "        if dirstate.times_used == 10:\n",
    "            directions.discard(dirstate.direction)\n",
    "        elif dirstate.times_used < 4:\n",
    "            directions = {dirstate.direction}\n",
    "        for d in directions:\n",
    "            p = state.position + d\n",
    "            ps = PositionState(\n",
    "                p,\n",
    "                DirectionState(d, dirstate.times_used + 1) \n",
    "                if dirstate.direction == d\n",
    "                else DirectionState(d, 1)\n",
    "            )\n",
    "            if p == end_position and ps.direction_state.times_used >= 4:\n",
    "                return state.cost + grid[p]\n",
    "            if p in grid and ps not in visited:\n",
    "                visited.add(ps)\n",
    "                cost = state.cost + grid[p]\n",
    "                h = m(p) + cost\n",
    "                heapq.heappush(\n",
    "                    q,\n",
    "                    (\n",
    "                        State(\n",
    "                            h,\n",
    "                            cost,\n",
    "                            p\n",
    "                        ),\n",
    "                        ps.direction_state\n",
    "                    )\n",
    "                )"
   ]
  },
  {
   "cell_type": "code",
   "execution_count": 12,
   "id": "e254e743-320c-4787-ba80-5079b50e483e",
   "metadata": {},
   "outputs": [
    {
     "data": {
      "text/plain": [
       "94"
      ]
     },
     "execution_count": 12,
     "metadata": {},
     "output_type": "execute_result"
    }
   ],
   "source": [
    "part_2(test_data)"
   ]
  },
  {
   "cell_type": "code",
   "execution_count": 13,
   "id": "6d3ab861-ce14-4a21-98b9-8821e3ed5b02",
   "metadata": {},
   "outputs": [
    {
     "data": {
      "text/plain": [
       "71"
      ]
     },
     "execution_count": 13,
     "metadata": {},
     "output_type": "execute_result"
    }
   ],
   "source": [
    "part_2(test_data_2)"
   ]
  },
  {
   "cell_type": "code",
   "execution_count": 14,
   "id": "f16d6656-c200-4f60-9f00-46f8e17498fd",
   "metadata": {},
   "outputs": [
    {
     "name": "stdout",
     "output_type": "stream",
     "text": [
      "CPU times: user 8.42 s, sys: 36.6 ms, total: 8.46 s\n",
      "Wall time: 8.45 s\n"
     ]
    },
    {
     "data": {
      "text/plain": [
       "825"
      ]
     },
     "execution_count": 14,
     "metadata": {},
     "output_type": "execute_result"
    }
   ],
   "source": [
    "%%time\n",
    "\n",
    "part_2(data)"
   ]
  },
  {
   "cell_type": "code",
   "execution_count": null,
   "id": "c4ab8b3a-2cc5-48b7-b7a5-775e50f5f293",
   "metadata": {},
   "outputs": [],
   "source": []
  }
 ],
 "metadata": {
  "kernelspec": {
   "display_name": "Python (AoC)",
   "language": "python",
   "name": "advent"
  },
  "language_info": {
   "codemirror_mode": {
    "name": "ipython",
    "version": 3
   },
   "file_extension": ".py",
   "mimetype": "text/x-python",
   "name": "python",
   "nbconvert_exporter": "python",
   "pygments_lexer": "ipython3",
   "version": "3.11.0"
  }
 },
 "nbformat": 4,
 "nbformat_minor": 5
}
