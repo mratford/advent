{
 "cells": [
  {
   "cell_type": "markdown",
   "id": "268eeed3-4573-4b1d-9cb6-43d41b160b24",
   "metadata": {},
   "source": [
    "# Day 17 \n",
    "## Part 1\n",
    "Start off with implementing A* with a Manhattan distance ($m$) heuristic. I'm not sure if that's going to be fast enough, I thought originally of using the minimum sum of $m$ heat losses within the square boundary between the current position and the end but that won't be admissible as you could have e.g. 9s surrounded by 1s. \n",
    "\n",
    "What's the size of the problem?"
   ]
  },
  {
   "cell_type": "code",
   "execution_count": 1,
   "id": "97055bdf-3775-42cb-8123-7fde4560c9f1",
   "metadata": {},
   "outputs": [
    {
     "data": {
      "text/plain": [
       "20022"
      ]
     },
     "execution_count": 1,
     "metadata": {},
     "output_type": "execute_result"
    }
   ],
   "source": [
    "input = open(\"input\").read()\n",
    "\n",
    "len(input)"
   ]
  },
  {
   "cell_type": "markdown",
   "id": "efdc44d3-7bd6-40b9-ba90-d0454a9eb1dd",
   "metadata": {},
   "source": [
    "I think that's going to be too big for such a simple heuristic. Let's think about the one but see how far the simpler one gets."
   ]
  },
  {
   "cell_type": "code",
   "execution_count": 2,
   "id": "a24cd5b7-179d-40ef-b00a-f7e84d6c4a91",
   "metadata": {},
   "outputs": [],
   "source": [
    "from functools import cache\n",
    "from dataclasses import dataclass\n",
    "\n",
    "@dataclass\n",
    "class Point:\n",
    "    x: int\n",
    "    y: int\n",
    "\n",
    "    def __add__(self, other):\n",
    "        return self.__class__(self.x + other.x, self.y + other.y)\n",
    "\n",
    "    def __sub__(self, other):\n",
    "        return self.__class__(self.x - other.x, self.y - other.y)\n",
    "\n",
    "    def __neg__(self):\n",
    "        return self.__class__(-self.x, -self.y)\n",
    "\n",
    "    def __hash__(self):\n",
    "        return hash((self.x, self.y))\n",
    "\n",
    "    def __lt__(self, other):\n",
    "        if self.x < other.x:\n",
    "            return True\n",
    "        elif self.x > other.x:\n",
    "            return False\n",
    "        else:\n",
    "            return self.y < other.y\n",
    "\n",
    "    def __iter__(self):\n",
    "        yield self.x\n",
    "        yield self.y\n",
    "\n",
    "    def __mod__(self, other):\n",
    "        if isinstance(other, Point):\n",
    "            return self.__class__(self.x % other.x, self.y % other.y)\n",
    "        else:\n",
    "            return self.__class__(self.x % other, self.y % other)\n",
    "        \n",
    "    def __mul__(self, multiple):\n",
    "        return self.__class__(self.x * multiple, self.y * multiple)\n",
    "    \n",
    "    def __eq__(self, other):\n",
    "        return self.x == other.x and self.y == other.y\n",
    "    \n",
    "\n",
    "N = Point(0, 1)\n",
    "S = Point(0, -1)\n",
    "W = Point(-1, 0)\n",
    "E = Point(1, 0)\n",
    "\n",
    "\n",
    "def manhattan_distance(p1, p2):\n",
    "    return abs(p1.x - p2.x) + abs(p1.y - p2.y)"
   ]
  },
  {
   "cell_type": "code",
   "execution_count": 3,
   "id": "494f7b41-a035-4dd5-bf3d-79a642bc558b",
   "metadata": {},
   "outputs": [],
   "source": [
    "def parse_data(s):\n",
    "    grid = {}\n",
    "    lines = s.strip().splitlines()\n",
    "    for y, line in zip(range(len(lines) - 1, -1, -1), lines):\n",
    "        for x, c in enumerate(line):\n",
    "            grid[Point(x, y)] = int(c)\n",
    "    return grid\n",
    "\n",
    "test_data = parse_data(\"\"\"2413432311323\n",
    "3215453535623\n",
    "3255245654254\n",
    "3446585845452\n",
    "4546657867536\n",
    "1438598798454\n",
    "4457876987766\n",
    "3637877979653\n",
    "4654967986887\n",
    "4564679986453\n",
    "1224686865563\n",
    "2546548887735\n",
    "4322674655533\"\"\")\n",
    "\n",
    "data = parse_data(input)"
   ]
  },
  {
   "cell_type": "code",
   "execution_count": 4,
   "id": "5f1b20a0-6afb-47f0-bb34-058428d6119b",
   "metadata": {},
   "outputs": [],
   "source": [
    "import heapq\n",
    "from collections import namedtuple\n",
    "from functools import cache\n",
    "\n",
    "State = namedtuple(\"State\", \"h cost position\")\n",
    "\n",
    "\n",
    "def a_star_factory(grid):\n",
    "    end_position = Point(max(p.x for p in grid), 0)\n",
    "\n",
    "    @cache\n",
    "    def a_star(start_position):\n",
    "        q = [State(\n",
    "            manhattan_distance(start_position, end_position),\n",
    "            0,\n",
    "            start_position\n",
    "        )]\n",
    "    \n",
    "        visited = {start_position}\n",
    "    \n",
    "        while q:\n",
    "            state = heapq.heappop(q)\n",
    "            for d in {N, S, W, E}:\n",
    "                p = state.position + d\n",
    "                if p == end_position:\n",
    "                    return state.cost + grid[p]\n",
    "                if p in grid and p not in visited:\n",
    "                    cost = state.cost + grid[p]\n",
    "                    visited.add(p)\n",
    "                    h = manhattan_distance(p, end_position) + cost\n",
    "                    heapq.heappush(\n",
    "                        q,\n",
    "                        State(\n",
    "                            h,\n",
    "                            cost,\n",
    "                            p\n",
    "                        )\n",
    "                    )\n",
    "\n",
    "    return a_star\n",
    "    \n",
    "\n",
    "def part_1(grid):\n",
    "    a_star = a_star_factory(grid)\n",
    "    start_position = Point(0, max(p.y for p in grid))\n",
    "    end_position = Point(max(p.x for p in grid), 0)\n",
    "    q = [\n",
    "        (\n",
    "            State(\n",
    "                a_star(start_position),\n",
    "                0,\n",
    "                start_position,\n",
    "            ),\n",
    "            [None, None, None]\n",
    "        )\n",
    "    ]\n",
    "\n",
    "    while q:\n",
    "        state, last_three_directions = heapq.heappop(q)\n",
    "        directions = {N, S, W, E}\n",
    "        if last_three_directions[-1] is not None:\n",
    "            # Remove reverse\n",
    "            directions.discard(-last_three_directions[-1])\n",
    "        if len(set(last_three_directions)) == 1:\n",
    "            directions.discard(last_three_directions[-1])\n",
    "        for d in directions:\n",
    "            p = state.position + d\n",
    "            if p == end_position:\n",
    "                return state.cost + grid[p]\n",
    "            if p in grid:\n",
    "                cost = state.cost + grid[p]\n",
    "                h = a_star(p) + cost\n",
    "                heapq.heappush(\n",
    "                    q,\n",
    "                    (\n",
    "                        State(\n",
    "                            h,\n",
    "                            cost,\n",
    "                            p\n",
    "                        ),\n",
    "                        last_three_directions[1:] + [d]\n",
    "                    )\n",
    "                )"
   ]
  },
  {
   "cell_type": "code",
   "execution_count": null,
   "id": "73e12e8f-e58a-4627-8fd8-9fb46e28e3f4",
   "metadata": {},
   "outputs": [],
   "source": [
    "import heapq\n",
    "from collections import namedtuple\n",
    "from functools import cache\n",
    "\n",
    "State = namedtuple(\"State\", \"h cost position\")\n",
    "\n",
    "\n",
    "def a_star_factory(grid):\n",
    "    end_position = Point(max(p.x for p in grid), 0)\n",
    "\n",
    "    @cache\n",
    "    def a_star(start_position):\n",
    "        q = [State(\n",
    "            manhattan_distance(start_position, end_position),\n",
    "            0,\n",
    "            start_position\n",
    "        )]\n",
    "    \n",
    "        visited = {start_position}\n",
    "    \n",
    "        while q:\n",
    "            state = heapq.heappop(q)\n",
    "            for d in {N, S, W, E}:\n",
    "                p = state.position + d\n",
    "                if p == end_position:\n",
    "                    return state.cost + grid[p]\n",
    "                if p in grid and p not in visited:\n",
    "                    cost = state.cost + grid[p]\n",
    "                    visited.add(p)\n",
    "                    h = manhattan_distance(p, end_position) + cost\n",
    "                    heapq.heappush(\n",
    "                        q,\n",
    "                        State(\n",
    "                            h,\n",
    "                            cost,\n",
    "                            p\n",
    "                        )\n",
    "                    )\n",
    "\n",
    "    return a_star\n",
    "    \n",
    "\n",
    "def part_1(grid):\n",
    "    a_star = a_star_factory(grid)\n",
    "    start_position = Point(0, max(p.y for p in grid))\n",
    "    end_position = Point(max(p.x for p in grid), 0)\n",
    "    q = [\n",
    "        (\n",
    "            State(\n",
    "                a_star(start_position),\n",
    "                0,\n",
    "                start_position,\n",
    "            ),\n",
    "            ()\n",
    "        )\n",
    "    ]\n",
    "    visited = (start_position, ())\n",
    "\n",
    "    while q:\n",
    "        state, last_equal_directions = heapq.heappop(q)\n",
    "        directions = {N, S, W, E}\n",
    "        if last_three_directions[-1] is not None:\n",
    "            # Remove reverse\n",
    "            directions.discard(-last_three_directions[-1])\n",
    "        if len(set(last_three_directions)) == 1:\n",
    "            directions.discard(last_three_directions[-1])\n",
    "        for d in directions:\n",
    "            p = state.position + d\n",
    "            ds = tuple\n",
    "            if p == end_position:\n",
    "                return state.cost + grid[p]\n",
    "            if p in grid:\n",
    "                cost = state.cost + grid[p]\n",
    "                h = a_star(p) + cost\n",
    "                heapq.heappush(\n",
    "                    q,\n",
    "                    (\n",
    "                        State(\n",
    "                            h,\n",
    "                            cost,\n",
    "                            p\n",
    "                        ),\n",
    "                        last_three_directions[1:] + [d]\n",
    "                    )\n",
    "                )"
   ]
  },
  {
   "cell_type": "code",
   "execution_count": 5,
   "id": "7e85687d-c61b-4d66-9074-f860f92447cf",
   "metadata": {},
   "outputs": [
    {
     "data": {
      "text/plain": [
       "78"
      ]
     },
     "execution_count": 5,
     "metadata": {},
     "output_type": "execute_result"
    }
   ],
   "source": [
    "h = a_star_factory(test_data)\n",
    "h(Point(0, max(p.y for p in test_data)))"
   ]
  },
  {
   "cell_type": "code",
   "execution_count": 6,
   "id": "62bffd23-1606-444b-9ada-d31f0e2c3b8e",
   "metadata": {},
   "outputs": [
    {
     "name": "stdout",
     "output_type": "stream",
     "text": [
      "CPU times: user 494 ms, sys: 7.14 ms, total: 501 ms\n",
      "Wall time: 499 ms\n"
     ]
    },
    {
     "data": {
      "text/plain": [
       "102"
      ]
     },
     "execution_count": 6,
     "metadata": {},
     "output_type": "execute_result"
    }
   ],
   "source": [
    "%%time \n",
    "\n",
    "part_1(test_data)"
   ]
  },
  {
   "cell_type": "markdown",
   "id": "de434942-dad0-472b-a325-ace1c3358792",
   "metadata": {},
   "source": [
    "That works, but is very slow for test data on part 1."
   ]
  },
  {
   "cell_type": "code",
   "execution_count": 7,
   "id": "e94767f2-4c51-4cf6-81f7-ca0d858b3f82",
   "metadata": {},
   "outputs": [
    {
     "ename": "KeyboardInterrupt",
     "evalue": "",
     "output_type": "error",
     "traceback": [
      "\u001b[0;31m---------------------------------------------------------------------------\u001b[0m",
      "\u001b[0;31mKeyboardInterrupt\u001b[0m                         Traceback (most recent call last)",
      "File \u001b[0;32m<timed eval>:1\u001b[0m\n",
      "Cell \u001b[0;32mIn[4], line 72\u001b[0m, in \u001b[0;36mpart_1\u001b[0;34m(grid)\u001b[0m\n\u001b[1;32m     70\u001b[0m \u001b[38;5;28;01mif\u001b[39;00m p \u001b[38;5;129;01min\u001b[39;00m grid:\n\u001b[1;32m     71\u001b[0m     cost \u001b[38;5;241m=\u001b[39m state\u001b[38;5;241m.\u001b[39mcost \u001b[38;5;241m+\u001b[39m grid[p]\n\u001b[0;32m---> 72\u001b[0m     h \u001b[38;5;241m=\u001b[39m \u001b[43ma_star\u001b[49m\u001b[43m(\u001b[49m\u001b[43mp\u001b[49m\u001b[43m)\u001b[49m \u001b[38;5;241m+\u001b[39m cost\n\u001b[1;32m     73\u001b[0m     heapq\u001b[38;5;241m.\u001b[39mheappush(\n\u001b[1;32m     74\u001b[0m         q,\n\u001b[1;32m     75\u001b[0m         (\n\u001b[0;32m   (...)\u001b[0m\n\u001b[1;32m     82\u001b[0m         )\n\u001b[1;32m     83\u001b[0m     )\n",
      "Cell \u001b[0;32mIn[4], line 27\u001b[0m, in \u001b[0;36ma_star_factory.<locals>.a_star\u001b[0;34m(start_position)\u001b[0m\n\u001b[1;32m     25\u001b[0m \u001b[38;5;28;01mif\u001b[39;00m p \u001b[38;5;241m==\u001b[39m end_position:\n\u001b[1;32m     26\u001b[0m     \u001b[38;5;28;01mreturn\u001b[39;00m state\u001b[38;5;241m.\u001b[39mcost \u001b[38;5;241m+\u001b[39m grid[p]\n\u001b[0;32m---> 27\u001b[0m \u001b[38;5;28;01mif\u001b[39;00m \u001b[43mp\u001b[49m\u001b[43m \u001b[49m\u001b[38;5;129;43;01min\u001b[39;49;00m\u001b[43m \u001b[49m\u001b[43mgrid\u001b[49m \u001b[38;5;129;01mand\u001b[39;00m p \u001b[38;5;129;01mnot\u001b[39;00m \u001b[38;5;129;01min\u001b[39;00m visited:\n\u001b[1;32m     28\u001b[0m     cost \u001b[38;5;241m=\u001b[39m state\u001b[38;5;241m.\u001b[39mcost \u001b[38;5;241m+\u001b[39m grid[p]\n\u001b[1;32m     29\u001b[0m     visited\u001b[38;5;241m.\u001b[39madd(p)\n",
      "Cell \u001b[0;32mIn[2], line 42\u001b[0m, in \u001b[0;36mPoint.__eq__\u001b[0;34m(self, other)\u001b[0m\n\u001b[1;32m     39\u001b[0m \u001b[38;5;28;01mdef\u001b[39;00m \u001b[38;5;21m__mul__\u001b[39m(\u001b[38;5;28mself\u001b[39m, multiple):\n\u001b[1;32m     40\u001b[0m     \u001b[38;5;28;01mreturn\u001b[39;00m \u001b[38;5;28mself\u001b[39m\u001b[38;5;241m.\u001b[39m\u001b[38;5;18m__class__\u001b[39m(\u001b[38;5;28mself\u001b[39m\u001b[38;5;241m.\u001b[39mx \u001b[38;5;241m*\u001b[39m multiple, \u001b[38;5;28mself\u001b[39m\u001b[38;5;241m.\u001b[39my \u001b[38;5;241m*\u001b[39m multiple)\n\u001b[0;32m---> 42\u001b[0m \u001b[38;5;28;01mdef\u001b[39;00m \u001b[38;5;21m__eq__\u001b[39m(\u001b[38;5;28mself\u001b[39m, other):\n\u001b[1;32m     43\u001b[0m     \u001b[38;5;28;01mreturn\u001b[39;00m \u001b[38;5;28mself\u001b[39m\u001b[38;5;241m.\u001b[39mx \u001b[38;5;241m==\u001b[39m other\u001b[38;5;241m.\u001b[39mx \u001b[38;5;129;01mand\u001b[39;00m \u001b[38;5;28mself\u001b[39m\u001b[38;5;241m.\u001b[39my \u001b[38;5;241m==\u001b[39m other\u001b[38;5;241m.\u001b[39my\n",
      "\u001b[0;31mKeyboardInterrupt\u001b[0m: "
     ]
    }
   ],
   "source": [
    "%%time\n",
    "\n",
    "# part_1(data)"
   ]
  },
  {
   "cell_type": "markdown",
   "id": "481ed052-7dd5-4a45-ba5f-03115dc2f056",
   "metadata": {},
   "source": [
    "That rapidly chews up the memory. I think there needs to be some sort of global check that we haven't visited the same state before. All we need to know is the last direction and the number of times it was used, plus the current position. Given that this will be 4 directions x 3 consecutive times used x ~20000 I think that will be tractable.\n",
    "*TODO* implement that."
   ]
  },
  {
   "cell_type": "code",
   "execution_count": 2,
   "id": "62105bd4-8ccf-454f-b68f-248014bc9c2a",
   "metadata": {},
   "outputs": [
    {
     "data": {
      "text/plain": [
       "()"
      ]
     },
     "execution_count": 2,
     "metadata": {},
     "output_type": "execute_result"
    }
   ],
   "source": [
    "import heapq\n",
    "from collections import namedtuple\n",
    "from functools import cache\n",
    "\n",
    "State = namedtuple(\"State\", \"h cost position\")\n",
    "\n",
    "\n",
    "def a_star_factory(grid):\n",
    "    end_position = Point(max(p.x for p in grid), 0)\n",
    "\n",
    "    @cache\n",
    "    def a_star(start_position):\n",
    "        q = [State(\n",
    "            manhattan_distance(start_position, end_position),\n",
    "            0,\n",
    "            start_position\n",
    "        )]\n",
    "    \n",
    "        visited = {start_position}\n",
    "    \n",
    "        while q:\n",
    "            state = heapq.heappop(q)\n",
    "            for d in {N, S, W, E}:\n",
    "                p = state.position + d\n",
    "                if p == end_position:\n",
    "                    return state.cost + grid[p]\n",
    "                if p in grid and p not in visited:\n",
    "                    cost = state.cost + grid[p]\n",
    "                    visited.add(p)\n",
    "                    h = manhattan_distance(p, end_position) + cost\n",
    "                    heapq.heappush(\n",
    "                        q,\n",
    "                        State(\n",
    "                            h,\n",
    "                            cost,\n",
    "                            p\n",
    "                        )\n",
    "                    )\n",
    "\n",
    "    return a_star\n",
    "    \n",
    "\n",
    "def part_1(grid):\n",
    "    a_star = a_star_factory(grid)\n",
    "    start_position = Point(0, max(p.y for p in grid))\n",
    "    end_position = Point(max(p.x for p in grid), 0)\n",
    "    q = [\n",
    "        (\n",
    "            State(\n",
    "                a_star(start_position),\n",
    "                0,\n",
    "                start_position,\n",
    "            ),\n",
    "            ()\n",
    "        )\n",
    "    ]\n",
    "    visited = (start_position, ())\n",
    "\n",
    "    while q:\n",
    "        state, last_equal_directions = heapq.heappop(q)\n",
    "        directions = {N, S, W, E}\n",
    "        if last_three_directions[-1] is not None:\n",
    "            # Remove reverse\n",
    "            directions.discard(-last_three_directions[-1])\n",
    "        if len(set(last_three_directions)) == 1:\n",
    "            directions.discard(last_three_directions[-1])\n",
    "        for d in directions:\n",
    "            p = state.position + d\n",
    "            ds = tuple\n",
    "            if p == end_position:\n",
    "                return state.cost + grid[p]\n",
    "            if p in grid:\n",
    "                cost = state.cost + grid[p]\n",
    "                h = a_star(p) + cost\n",
    "                heapq.heappush(\n",
    "                    q,\n",
    "                    (\n",
    "                        State(\n",
    "                            h,\n",
    "                            cost,\n",
    "                            p\n",
    "                        ),\n",
    "                        last_three_directions[1:] + [d]\n",
    "                    )\n",
    "                )"
   ]
  },
  {
   "cell_type": "code",
   "execution_count": 3,
   "id": "31fba1b3-d1c7-4d89-af9c-3213a7ae3a32",
   "metadata": {},
   "outputs": [
    {
     "data": {
      "text/plain": [
       "()"
      ]
     },
     "execution_count": 3,
     "metadata": {},
     "output_type": "execute_result"
    }
   ],
   "source": [
    "()"
   ]
  },
  {
   "cell_type": "code",
   "execution_count": 4,
   "id": "558e19c2-df39-456e-afaa-190e8d794767",
   "metadata": {},
   "outputs": [
    {
     "data": {
      "text/plain": [
       "(2, 3)"
      ]
     },
     "execution_count": 4,
     "metadata": {},
     "output_type": "execute_result"
    }
   ],
   "source": [
    "x = (1,2,3)\n",
    "x[1:]"
   ]
  },
  {
   "cell_type": "code",
   "execution_count": null,
   "id": "5b8a2c16-278e-4689-a096-15c959951b73",
   "metadata": {},
   "outputs": [],
   "source": []
  }
 ],
 "metadata": {
  "kernelspec": {
   "display_name": "Python (AoC)",
   "language": "python",
   "name": "advent"
  },
  "language_info": {
   "codemirror_mode": {
    "name": "ipython",
    "version": 3
   },
   "file_extension": ".py",
   "mimetype": "text/x-python",
   "name": "python",
   "nbconvert_exporter": "python",
   "pygments_lexer": "ipython3",
   "version": "3.11.0"
  }
 },
 "nbformat": 4,
 "nbformat_minor": 5
}
