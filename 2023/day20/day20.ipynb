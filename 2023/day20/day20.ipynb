{
 "cells": [
  {
   "cell_type": "markdown",
   "id": "268eeed3-4573-4b1d-9cb6-43d41b160b24",
   "metadata": {},
   "source": [
    "# Day 20 \n",
    "## Part 1\n",
    "I'm going to start off doing what it says on the tin but I think it will need a cycle check."
   ]
  },
  {
   "cell_type": "code",
   "execution_count": 1,
   "id": "494f7b41-a035-4dd5-bf3d-79a642bc558b",
   "metadata": {},
   "outputs": [],
   "source": [
    "from dataclasses import dataclass, field\n",
    "from enum import IntEnum\n",
    "from collections import defaultdict, deque\n",
    "from pyrsistent import pmap\n",
    "\n",
    "\n",
    "class Pulse(IntEnum):\n",
    "    LOW = 0\n",
    "    HIGH = 1\n",
    "\n",
    "\n",
    "@dataclass\n",
    "class FlipFlop:\n",
    "    on: bool = False\n",
    "\n",
    "    def receive(self, pulse, source):\n",
    "        if not pulse:\n",
    "            self.on = not self.on\n",
    "            yield Pulse(self.on)\n",
    "\n",
    "\n",
    "@dataclass\n",
    "class Conjunction:\n",
    "    received: defaultdict = field(default_factory=lambda: defaultdict(list))\n",
    "\n",
    "    def receive(self, pulse, source):\n",
    "        self.received[source] = pulse\n",
    "        yield Pulse(not all(self.received.values()))\n",
    "\n",
    "\n",
    "@dataclass \n",
    "class Broadcaster:\n",
    "    def receive(self, pulse, source):\n",
    "        yield pulse"
   ]
  },
  {
   "cell_type": "code",
   "execution_count": 2,
   "id": "51faf6e5-cc6f-41f5-81cf-ad6bf7784a2a",
   "metadata": {},
   "outputs": [
    {
     "data": {
      "text/plain": [
       "({'broadcaster': Broadcaster(),\n",
       "  'a': FlipFlop(on=False),\n",
       "  'inv': Conjunction(received=defaultdict(<class 'list'>, {'a': <Pulse.LOW: 0>})),\n",
       "  'b': FlipFlop(on=False),\n",
       "  'con': Conjunction(received=defaultdict(<class 'list'>, {'a': <Pulse.LOW: 0>, 'b': <Pulse.LOW: 0>}))},\n",
       " defaultdict(list,\n",
       "             {'broadcaster': ['a'],\n",
       "              'a': ['inv', 'con'],\n",
       "              'inv': ['b'],\n",
       "              'b': ['con'],\n",
       "              'con': ['output']}))"
      ]
     },
     "execution_count": 2,
     "metadata": {},
     "output_type": "execute_result"
    }
   ],
   "source": [
    "def parse_data(s):\n",
    "    modules = {}\n",
    "    connections = defaultdict(list)\n",
    "    \n",
    "    for line in s.strip().splitlines():\n",
    "        source, destinations = line.split(\" -> \")\n",
    "        match source[0]:\n",
    "            case \"%\":\n",
    "                label = source[1:]\n",
    "                modules[label] = FlipFlop()\n",
    "            case \"&\":\n",
    "                label = source[1:]\n",
    "                modules[label] = Conjunction()\n",
    "            case _:\n",
    "                label = source\n",
    "                modules[label] = Broadcaster()\n",
    "        connections[label] = destinations.split(\", \")\n",
    "\n",
    "    for m in modules:\n",
    "        for c in connections[m]:\n",
    "            if c in modules and isinstance(modules[c], Conjunction):\n",
    "                modules[c].received[m] = Pulse.LOW\n",
    "\n",
    "    return modules, connections\n",
    "\n",
    "test_input = \"\"\"broadcaster -> a\n",
    "%a -> inv, con\n",
    "&inv -> b\n",
    "%b -> con\n",
    "&con -> output\"\"\"\n",
    "\n",
    "parse_data(test_input)"
   ]
  },
  {
   "cell_type": "code",
   "execution_count": 3,
   "id": "05062555-6ef1-4813-a548-bc14a20a6a73",
   "metadata": {},
   "outputs": [],
   "source": [
    "from itertools import count\n",
    "\n",
    "def push_button(modules, connections):\n",
    "    q = deque([(\"button\", \"broadcaster\", Pulse.LOW)])\n",
    "    counts = defaultdict(int)\n",
    "    counts[Pulse.LOW] = 1\n",
    "\n",
    "    while q:\n",
    "        source, destination, pulse = q.popleft()\n",
    "        if destination in modules:\n",
    "            for p in modules[destination].receive(pulse, source):\n",
    "                for c in connections[destination]:\n",
    "                    q.append((destination, c, p))\n",
    "                    counts[p] += 1\n",
    "\n",
    "    return (modules, counts[Pulse.LOW], counts[Pulse.HIGH])"
   ]
  },
  {
   "cell_type": "markdown",
   "id": "bd613e7f-77da-46b9-b0c7-80ea0a049d02",
   "metadata": {},
   "source": [
    "Tracking the cycles is going for a while so perhaps that won't work here, just do what's asked."
   ]
  },
  {
   "cell_type": "code",
   "execution_count": 4,
   "id": "ce60dc07-ad59-49c3-8042-9c87e9f50610",
   "metadata": {},
   "outputs": [
    {
     "data": {
      "text/plain": [
       "11687500"
      ]
     },
     "execution_count": 4,
     "metadata": {},
     "output_type": "execute_result"
    }
   ],
   "source": [
    "def part_1(s):\n",
    "    modules, connections = parse_data(s)\n",
    "    \n",
    "    counts_low = 0\n",
    "    counts_high = 0\n",
    "\n",
    "    for _ in range(1000):\n",
    "        modules, l, h = push_button(modules, connections)\n",
    "        counts_low += l\n",
    "        counts_high += h\n",
    "\n",
    "    return counts_low * counts_high\n",
    "\n",
    "part_1(test_input)"
   ]
  },
  {
   "cell_type": "code",
   "execution_count": 5,
   "id": "9806cab8-82a3-42af-ab6a-35ff11b9b0fe",
   "metadata": {},
   "outputs": [
    {
     "data": {
      "text/plain": [
       "711650489"
      ]
     },
     "execution_count": 5,
     "metadata": {},
     "output_type": "execute_result"
    }
   ],
   "source": [
    "inp = open(\"input\").read()\n",
    "part_1(inp)"
   ]
  },
  {
   "cell_type": "markdown",
   "id": "ff682b32-b2d0-4364-8375-52920cd1431a",
   "metadata": {},
   "source": [
    "I'm not going to pretend that that didn't take some debugging, and the code's pretty horrible as a result.\n",
    "\n",
    "## Part 2\n",
    "\n",
    "This _looks_ simple."
   ]
  },
  {
   "cell_type": "code",
   "execution_count": 6,
   "id": "1c2b4e26-0c5e-4577-9146-ed1c13442b6f",
   "metadata": {},
   "outputs": [],
   "source": [
    "def push_button(modules, connections):\n",
    "    q = deque([(\"button\", \"broadcaster\", Pulse.LOW)])\n",
    "\n",
    "    while q:\n",
    "        source, destination, pulse = q.popleft()\n",
    "        found = False\n",
    "        if destination in modules:\n",
    "            for p in modules[destination].receive(pulse, source):\n",
    "                for c in connections[destination]:\n",
    "                    q.append((destination, c, p))\n",
    "                    if destination == \"rx\" and p == pulse.LOW:\n",
    "                        found = True\n",
    "\n",
    "    return (modules, found)\n",
    "\n",
    "def part_1(s):\n",
    "    modules, connections = parse_data(s)\n",
    "    \n",
    "    counts_low = 0\n",
    "    counts_high = 0\n",
    "\n",
    "    for n in count(1):\n",
    "        modules, found = push_button(modules, connections)\n",
    "        if found:\n",
    "            return n\n",
    "\n",
    "# part_1(inp)"
   ]
  },
  {
   "cell_type": "markdown",
   "id": "44ae516c-140e-499b-834a-f6ddd0ebe1d9",
   "metadata": {},
   "source": [
    "This is running very slowly. It looks like it needs decompiling."
   ]
  },
  {
   "cell_type": "code",
   "execution_count": 7,
   "id": "0db74996-a625-49c8-bd5b-e5747b29978f",
   "metadata": {},
   "outputs": [],
   "source": [
    "modules, connections = parse_data(inp)"
   ]
  },
  {
   "cell_type": "code",
   "execution_count": 27,
   "id": "430fb673-8fb7-4928-afc2-f9230b80cf78",
   "metadata": {},
   "outputs": [
    {
     "data": {
      "text/plain": [
       "['dt']"
      ]
     },
     "execution_count": 27,
     "metadata": {},
     "output_type": "execute_result"
    }
   ],
   "source": [
    "[c for c in connections if \"rx\" in connections[c]]"
   ]
  },
  {
   "cell_type": "code",
   "execution_count": 28,
   "id": "5adca076-5be0-4219-9bb3-b80992ee7497",
   "metadata": {},
   "outputs": [
    {
     "data": {
      "text/plain": [
       "Conjunction(received=defaultdict(<class 'list'>, {'ks': <Pulse.LOW: 0>, 'pm': <Pulse.LOW: 0>, 'dl': <Pulse.LOW: 0>, 'vk': <Pulse.LOW: 0>}))"
      ]
     },
     "execution_count": 28,
     "metadata": {},
     "output_type": "execute_result"
    }
   ],
   "source": [
    "modules[\"dt\"]"
   ]
  },
  {
   "cell_type": "markdown",
   "id": "fb3d3fdc-61f0-4f5f-a785-8208f8788114",
   "metadata": {},
   "source": [
    "So `dt` will output a low pulse when all four of `ks`, `pm`, `dl` and `vk` send high pulses. Before decompiling further let's see if there's a cycle there."
   ]
  },
  {
   "cell_type": "code",
   "execution_count": 33,
   "id": "0c85f7fd-a5aa-4edb-a09c-0375f789ff63",
   "metadata": {},
   "outputs": [],
   "source": [
    "def push_button(modules, connections):\n",
    "    q = deque([(\"button\", \"broadcaster\", Pulse.LOW)])\n",
    "\n",
    "    while q:\n",
    "        source, destination, pulse = q.popleft()\n",
    "        found = False\n",
    "        if destination in modules:\n",
    "            for p in modules[destination].receive(pulse, source):\n",
    "                for c in connections[destination]:\n",
    "                    q.append((destination, c, p))\n",
    "\n",
    "    return modules\n",
    "\n",
    "modules, connections = parse_data(inp)\n",
    "# for i in count(1):\n",
    "#     modules = push_button(modules, connections)\n",
    "#     for m in [\"ks\", \"pm\", \"dl\", \"vk\"]:\n",
    "#         if modules[m] == Pulse.HIGH:\n",
    "#             print(m, i)\n",
    "            "
   ]
  },
  {
   "cell_type": "markdown",
   "id": "f6fd5e14-63c3-4be4-857e-954c0f9ef6ad",
   "metadata": {},
   "source": [
    "No, that's too slow too. Hmm."
   ]
  },
  {
   "cell_type": "code",
   "execution_count": 34,
   "id": "905fc852-868f-4988-9ca1-f11316a83323",
   "metadata": {},
   "outputs": [
    {
     "data": {
      "text/plain": [
       "Conjunction(received=defaultdict(<class 'list'>, {'vr': <Pulse.LOW: 0>}))"
      ]
     },
     "execution_count": 34,
     "metadata": {},
     "output_type": "execute_result"
    }
   ],
   "source": [
    "modules[\"ks\"]"
   ]
  },
  {
   "cell_type": "markdown",
   "id": "f6b293ca-7ee0-4844-9794-c982131c9e2f",
   "metadata": {},
   "source": [
    "That will be high when `vr` sends a low pulse."
   ]
  },
  {
   "cell_type": "code",
   "execution_count": 35,
   "id": "3479e9f2-80f1-4bb6-81d4-d2f7a8c8ea0f",
   "metadata": {},
   "outputs": [
    {
     "data": {
      "text/plain": [
       "Conjunction(received=defaultdict(<class 'list'>, {'lz': <Pulse.LOW: 0>, 'gx': <Pulse.LOW: 0>, 'lt': <Pulse.LOW: 0>, 'tx': <Pulse.LOW: 0>, 'xz': <Pulse.LOW: 0>, 'sb': <Pulse.LOW: 0>, 'ng': <Pulse.LOW: 0>, 'cn': <Pulse.LOW: 0>}))"
      ]
     },
     "execution_count": 35,
     "metadata": {},
     "output_type": "execute_result"
    }
   ],
   "source": [
    "modules[\"vr\"]"
   ]
  },
  {
   "cell_type": "markdown",
   "id": "fdf48d2f-a12b-4a92-9f4f-118fa1823284",
   "metadata": {},
   "source": [
    "... which happens when all of these are high."
   ]
  },
  {
   "cell_type": "code",
   "execution_count": 42,
   "id": "d536f75c-807f-4221-9647-3f962a126743",
   "metadata": {},
   "outputs": [
    {
     "data": {
      "text/plain": [
       "FlipFlop(on=False)"
      ]
     },
     "execution_count": 42,
     "metadata": {},
     "output_type": "execute_result"
    }
   ],
   "source": [
    "modules[\"lz\"]"
   ]
  },
  {
   "cell_type": "code",
   "execution_count": 44,
   "id": "8d7093de-9f60-49a9-b29b-7c8144c3493a",
   "metadata": {},
   "outputs": [
    {
     "data": {
      "text/plain": [
       "['sb']"
      ]
     },
     "execution_count": 44,
     "metadata": {},
     "output_type": "execute_result"
    }
   ],
   "source": [
    "[c for c in connections if \"lz\" in connections[c]]"
   ]
  },
  {
   "cell_type": "code",
   "execution_count": 46,
   "id": "e3512811-146f-4408-9c8f-82e643bcfdc4",
   "metadata": {},
   "outputs": [
    {
     "data": {
      "text/plain": [
       "FlipFlop(on=False)"
      ]
     },
     "execution_count": 46,
     "metadata": {},
     "output_type": "execute_result"
    }
   ],
   "source": [
    "modules[\"sb\"]"
   ]
  },
  {
   "cell_type": "code",
   "execution_count": 47,
   "id": "9ec7f6f9-44c6-4fef-87e9-2c7a1e293208",
   "metadata": {},
   "outputs": [
    {
     "data": {
      "text/plain": [
       "['jg']"
      ]
     },
     "execution_count": 47,
     "metadata": {},
     "output_type": "execute_result"
    }
   ],
   "source": [
    "[c for c in connections if \"sb\" in connections[c]]"
   ]
  },
  {
   "cell_type": "code",
   "execution_count": 48,
   "id": "5c140746-23af-4511-980f-f9de1fc845ae",
   "metadata": {},
   "outputs": [
    {
     "data": {
      "text/plain": [
       "FlipFlop(on=False)"
      ]
     },
     "execution_count": 48,
     "metadata": {},
     "output_type": "execute_result"
    }
   ],
   "source": [
    "modules[\"jg\"]"
   ]
  },
  {
   "cell_type": "code",
   "execution_count": 49,
   "id": "ad8080ae-9309-48df-aa76-5c9796994ac7",
   "metadata": {},
   "outputs": [
    {
     "data": {
      "text/plain": [
       "['tx', 'vr']"
      ]
     },
     "execution_count": 49,
     "metadata": {},
     "output_type": "execute_result"
    }
   ],
   "source": [
    "[c for c in connections if \"jg\" in connections[c]]"
   ]
  },
  {
   "cell_type": "markdown",
   "id": "0aff5f4f-70e8-424c-a8b5-da8a4fd3c684",
   "metadata": {},
   "source": [
    "Ok, so there's a feedback loop from `vr`."
   ]
  },
  {
   "cell_type": "code",
   "execution_count": 50,
   "id": "34fa6fc1-3f11-4009-829d-85e676f4963c",
   "metadata": {},
   "outputs": [
    {
     "data": {
      "text/plain": [
       "['vr', 'broadcaster']"
      ]
     },
     "execution_count": 50,
     "metadata": {},
     "output_type": "execute_result"
    }
   ],
   "source": [
    "[c for c in connections if \"tx\" in connections[c]]"
   ]
  },
  {
   "cell_type": "markdown",
   "id": "2f8d7f45-b67a-4946-8563-26921ae64f85",
   "metadata": {},
   "source": [
    "And again here. And finally there's the broadcaster. I think I need to draw the whole network."
   ]
  },
  {
   "cell_type": "code",
   "execution_count": 58,
   "id": "a358e721-7fcd-48ff-8636-7c4278f8d264",
   "metadata": {},
   "outputs": [
    {
     "name": "stdout",
     "output_type": "stream",
     "text": [
      "Warning: When  cdn_resources is 'local' jupyter notebook has issues displaying graphics on chrome/safari. Use cdn_resources='in_line' or cdn_resources='remote' if you have issues viewing graphics in a notebook.\n",
      "circuit.html\n"
     ]
    },
    {
     "data": {
      "text/html": [
       "\n",
       "        <iframe\n",
       "            width=\"100%\"\n",
       "            height=\"600px\"\n",
       "            src=\"circuit.html\"\n",
       "            frameborder=\"0\"\n",
       "            allowfullscreen\n",
       "            \n",
       "        ></iframe>\n",
       "        "
      ],
      "text/plain": [
       "<IPython.lib.display.IFrame at 0x10e8c3950>"
      ]
     },
     "execution_count": 58,
     "metadata": {},
     "output_type": "execute_result"
    }
   ],
   "source": [
    "import networkx as nx\n",
    "from pyvis.network import Network\n",
    "\n",
    "G = nx.DiGraph()\n",
    "for m in modules:\n",
    "    if isinstance(modules[m], Conjunction):\n",
    "        G.add_node(m, type=\"C\", label=m, color=\"#ff0000\")\n",
    "    elif isinstance(modules[m], FlipFlop):\n",
    "        G.add_node(m, type=\"F\", label=m, color=\"#00ff00\")\n",
    "    else:\n",
    "        G.add_node(m, type=\"B\", label=m, color=\"#0000ff\")\n",
    "for c in connections:\n",
    "    for n in connections[c]:\n",
    "        G.add_edge(c, n)\n",
    "\n",
    "nt = Network(notebook=True, directed=True)\n",
    "nt.from_nx(G)\n",
    "nt.show(\"circuit.html\")"
   ]
  },
  {
   "cell_type": "code",
   "execution_count": null,
   "id": "6f491866-fc8f-45b4-af33-f6368e2b54ba",
   "metadata": {},
   "outputs": [],
   "source": []
  }
 ],
 "metadata": {
  "kernelspec": {
   "display_name": "Python 3 (ipykernel)",
   "language": "python",
   "name": "python3"
  },
  "language_info": {
   "codemirror_mode": {
    "name": "ipython",
    "version": 3
   },
   "file_extension": ".py",
   "mimetype": "text/x-python",
   "name": "python",
   "nbconvert_exporter": "python",
   "pygments_lexer": "ipython3",
   "version": "3.11.0"
  }
 },
 "nbformat": 4,
 "nbformat_minor": 5
}
