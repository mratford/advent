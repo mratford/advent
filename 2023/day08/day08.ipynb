{
 "cells": [
  {
   "cell_type": "markdown",
   "id": "268eeed3-4573-4b1d-9cb6-43d41b160b24",
   "metadata": {},
   "source": [
    "# Day 8 \n",
    "## Part 1"
   ]
  },
  {
   "cell_type": "code",
   "execution_count": 1,
   "id": "494f7b41-a035-4dd5-bf3d-79a642bc558b",
   "metadata": {},
   "outputs": [
    {
     "data": {
      "text/plain": [
       "('RL',\n",
       " defaultdict(dict,\n",
       "             {'AAA': {'L': 'BBB', 'R': 'CCC'},\n",
       "              'BBB': {'L': 'DDD', 'R': 'EEE'},\n",
       "              'CCC': {'L': 'ZZZ', 'R': 'GGG'},\n",
       "              'DDD': {'L': 'DDD', 'R': 'DDD'},\n",
       "              'EEE': {'L': 'EEE', 'R': 'EEE'},\n",
       "              'GGG': {'L': 'GGG', 'R': 'GGG'},\n",
       "              'ZZZ': {'L': 'ZZZ', 'R': 'ZZZ'}}))"
      ]
     },
     "execution_count": 1,
     "metadata": {},
     "output_type": "execute_result"
    }
   ],
   "source": [
    "import parse\n",
    "from collections import defaultdict\n",
    "\n",
    "def parse_data(s):\n",
    "    lines = s.strip().splitlines()\n",
    "    route = lines[0]\n",
    "    \n",
    "    network = defaultdict(dict)\n",
    "    for line in lines[2:]:\n",
    "        r = parse.parse(\"{node} = ({L}, {R})\", line)\n",
    "        network[r[\"node\"]][\"L\"] = r[\"L\"]\n",
    "        network[r[\"node\"]][\"R\"] = r[\"R\"]\n",
    "        \n",
    "    return route, network\n",
    "\n",
    "test_data = parse_data(\"\"\"RL\n",
    "\n",
    "AAA = (BBB, CCC)\n",
    "BBB = (DDD, EEE)\n",
    "CCC = (ZZZ, GGG)\n",
    "DDD = (DDD, DDD)\n",
    "EEE = (EEE, EEE)\n",
    "GGG = (GGG, GGG)\n",
    "ZZZ = (ZZZ, ZZZ)\"\"\")\n",
    "\n",
    "test_data"
   ]
  },
  {
   "cell_type": "code",
   "execution_count": 2,
   "id": "374510f7",
   "metadata": {},
   "outputs": [],
   "source": [
    "import itertools\n",
    "\n",
    "def part_1(data):\n",
    "    route, network = data\n",
    "    location = \"AAA\"\n",
    "    steps = 0\n",
    "    for direction in itertools.cycle(route):\n",
    "        location = network[location][direction]\n",
    "        steps += 1\n",
    "        if location == \"ZZZ\":\n",
    "            return steps\n",
    "        \n",
    "assert part_1(test_data) == 2"
   ]
  },
  {
   "cell_type": "code",
   "execution_count": 3,
   "id": "439ef31a",
   "metadata": {},
   "outputs": [],
   "source": [
    "test_data_2 = parse_data(\"\"\"LLR\n",
    "\n",
    "AAA = (BBB, BBB)\n",
    "BBB = (AAA, ZZZ)\n",
    "ZZZ = (ZZZ, ZZZ)\"\"\")\n",
    "\n",
    "assert part_1(test_data_2) == 6"
   ]
  },
  {
   "cell_type": "code",
   "execution_count": 4,
   "id": "702a4168",
   "metadata": {},
   "outputs": [
    {
     "data": {
      "text/plain": [
       "20221"
      ]
     },
     "execution_count": 4,
     "metadata": {},
     "output_type": "execute_result"
    }
   ],
   "source": [
    "data = parse_data(open(\"input\").read())\n",
    "\n",
    "part_1(data)"
   ]
  },
  {
   "cell_type": "markdown",
   "id": "e9aab4bd",
   "metadata": {},
   "source": [
    "## Part 2\n",
    "This is probably going to be another one that's quicker to brute force than write a proper solution, but let's write the proper solution anyway. I'm not sure if the graph is connected, but for each starting node find the steps to the first end node and then all other end nodes until an end node repeats, and get the number of steps until the repeat. \n",
    "\n",
    "It would make things easier if only one finish location is accessible from each starting point, let's see if that's the case."
   ]
  },
  {
   "cell_type": "code",
   "execution_count": 5,
   "id": "3666fdfc",
   "metadata": {},
   "outputs": [
    {
     "name": "stdout",
     "output_type": "stream",
     "text": [
      "AAA\n",
      "Cycle(ends={'ZZZ': 20221}, repeat='ZZZ', length=20221)\n",
      "SJA\n",
      "Cycle(ends={'FPZ': 13019}, repeat='FPZ', length=13019)\n",
      "BXA\n",
      "Cycle(ends={'CPZ': 19667}, repeat='CPZ', length=19667)\n",
      "QTA\n",
      "Cycle(ends={'MLZ': 14681}, repeat='MLZ', length=14681)\n",
      "HCA\n",
      "Cycle(ends={'MTZ': 18559}, repeat='MTZ', length=18559)\n",
      "LDA\n",
      "Cycle(ends={'DPZ': 16897}, repeat='DPZ', length=16897)\n"
     ]
    }
   ],
   "source": [
    "from collections import namedtuple\n",
    "\n",
    "Cycle = namedtuple(\"Cycle\", \"ends repeat length\")\n",
    "\n",
    "def find_ends(route, network, location):\n",
    "    steps = 0\n",
    "    ends = {}\n",
    "    for direction in itertools.cycle(route):\n",
    "        location = network[location][direction]\n",
    "        steps += 1\n",
    "        if location.endswith(\"Z\"):\n",
    "            if location in ends:\n",
    "                return Cycle(ends, location, steps - ends[location])\n",
    "            ends[location] = steps\n",
    "            \n",
    "route, network = data\n",
    "for location in network:\n",
    "    if location.endswith(\"A\"):\n",
    "        print(location)\n",
    "        print(find_ends(route, network, location))"
   ]
  },
  {
   "cell_type": "markdown",
   "id": "e9ab742d",
   "metadata": {},
   "source": [
    "The steps to the first and only end location are the same as the cycle lengths. That makes things very easy, it's just the least common multiple of those lengths. I'm guessing they're all prime?"
   ]
  },
  {
   "cell_type": "code",
   "execution_count": 6,
   "id": "8665f0e4",
   "metadata": {},
   "outputs": [
    {
     "data": {
      "text/plain": [
       "23836264090002437844135179"
      ]
     },
     "execution_count": 6,
     "metadata": {},
     "output_type": "execute_result"
    }
   ],
   "source": [
    "import math\n",
    "\n",
    "lengths = [20221, 13019, 19667, 14681, 18559, 16897]\n",
    "math.prod(lengths)"
   ]
  },
  {
   "cell_type": "markdown",
   "id": "d97bc740",
   "metadata": {},
   "source": [
    "Maybe not, but it turns out the math module has"
   ]
  },
  {
   "cell_type": "code",
   "execution_count": 7,
   "id": "3fdfed9f",
   "metadata": {},
   "outputs": [
    {
     "data": {
      "text/plain": [
       "14616363770447"
      ]
     },
     "execution_count": 7,
     "metadata": {},
     "output_type": "execute_result"
    }
   ],
   "source": [
    "math.lcm(*lengths)"
   ]
  },
  {
   "cell_type": "code",
   "execution_count": null,
   "id": "d2e9075f",
   "metadata": {},
   "outputs": [],
   "source": []
  }
 ],
 "metadata": {
  "kernelspec": {
   "display_name": "Python (AoC)",
   "language": "python",
   "name": "advent"
  },
  "language_info": {
   "codemirror_mode": {
    "name": "ipython",
    "version": 3
   },
   "file_extension": ".py",
   "mimetype": "text/x-python",
   "name": "python",
   "nbconvert_exporter": "python",
   "pygments_lexer": "ipython3",
   "version": "3.11.0"
  }
 },
 "nbformat": 4,
 "nbformat_minor": 5
}
