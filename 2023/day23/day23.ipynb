{
 "cells": [
  {
   "cell_type": "markdown",
   "id": "268eeed3-4573-4b1d-9cb6-43d41b160b24",
   "metadata": {},
   "source": [
    "# Day 23 \n",
    "## Part 1\n",
    "The longest path problem is NP complete unless it's a DAG, so I'll assume that's the case where the slopes enforce a lack of loops."
   ]
  },
  {
   "cell_type": "code",
   "execution_count": 4,
   "id": "494f7b41-a035-4dd5-bf3d-79a642bc558b",
   "metadata": {},
   "outputs": [],
   "source": [
    "from dataclasses import dataclass\n",
    "\n",
    "@dataclass\n",
    "class Point:\n",
    "    x: int\n",
    "    y: int\n",
    "\n",
    "    def __add__(self, other):\n",
    "        return self.__class__(self.x + other.x, self.y + other.y)\n",
    "\n",
    "    def __sub__(self, other):\n",
    "        return self.__class__(self.x - other.x, self.y - other.y)\n",
    "\n",
    "    def __neg__(self):\n",
    "        return self.__class__(-self.x, -self.y)\n",
    "\n",
    "    def __hash__(self):\n",
    "        return hash((self.x, self.y))\n",
    "\n",
    "    def __lt__(self, other):\n",
    "        if self.x < other.x:\n",
    "            return True\n",
    "        elif self.x > other.x:\n",
    "            return False\n",
    "        else:\n",
    "            return self.y < other.y\n",
    "\n",
    "    def __iter__(self):\n",
    "        yield self.x\n",
    "        yield self.y\n",
    "\n",
    "    def __mod__(self, other):\n",
    "        if isinstance(other, Point):\n",
    "            return self.__class__(self.x % other.x, self.y % other.y)\n",
    "        else:\n",
    "            return self.__class__(self.x % other, self.y % other)\n",
    "        \n",
    "    def __mul__(self, multiple):\n",
    "        return self.__class__(self.x * multiple, self.y * multiple)\n",
    "    \n",
    "\n",
    "N = Point(0, 1)\n",
    "S = Point(0, -1)\n",
    "W = Point(-1, 0)\n",
    "E = Point(1, 0)\n",
    "\n",
    "DIRECTIONS = (N, E, S, W)"
   ]
  },
  {
   "cell_type": "code",
   "execution_count": 68,
   "id": "7b33bd83-4f01-4660-9c32-0085580dd909",
   "metadata": {},
   "outputs": [],
   "source": [
    "slopes = {\n",
    "    \">\": E,\n",
    "    \"<\": W,\n",
    "    \"v\": S,\n",
    "    \"^\": N\n",
    "}\n",
    "\n",
    "import networkx as nx\n",
    "from collections import deque\n",
    "\n",
    "def parse_data(s):\n",
    "    grid = {}\n",
    "    lines = s.strip().splitlines()\n",
    "    for y, line in zip(range(len(lines) - 1, -1, -1), lines):\n",
    "        for x, c in enumerate(line):\n",
    "            if c != \"#\":\n",
    "                grid[Point(x, y)] = c\n",
    "    return grid\n",
    "\n",
    "def create_dag(grid):\n",
    "    # create a DAG\n",
    "    max_y = max(p.y for p in grid)\n",
    "    start = next(p for p in grid if p.y == max_y)\n",
    "    end = next(p for p in grid if p.y == 0)\n",
    "\n",
    "    G = nx.DiGraph()\n",
    "    G.add_edge(start, start + S)\n",
    "    q = deque([(start, start + S)])\n",
    "\n",
    "    while q:\n",
    "        a, b = q.popleft()\n",
    "        for d in DIRECTIONS:\n",
    "            n = b + d\n",
    "            if (\n",
    "                n in grid and\n",
    "                n != a and\n",
    "                (grid[b] not in slopes or slopes[grid[b]] == d) \n",
    "                and (grid[n] not in slopes or slopes[grid[n]] == d)\n",
    "            ):\n",
    "                G.add_edge(b, n)\n",
    "                q.append((b, n))\n",
    "\n",
    "    return G\n",
    "\n",
    "def part_1(data):\n",
    "    return nx.dag_longest_path_length(create_dag(data))\n",
    "    \n",
    "test_data = parse_data(\"\"\"#.#####################\n",
    "#.......#########...###\n",
    "#######.#########.#.###\n",
    "###.....#.>.>.###.#.###\n",
    "###v#####.#v#.###.#.###\n",
    "###.>...#.#.#.....#...#\n",
    "###v###.#.#.#########.#\n",
    "###...#.#.#.......#...#\n",
    "#####.#.#.#######.#.###\n",
    "#.....#.#.#.......#...#\n",
    "#.#####.#.#.#########v#\n",
    "#.#...#...#...###...>.#\n",
    "#.#.#v#######v###.###v#\n",
    "#...#.>.#...>.>.#.###.#\n",
    "#####v#.#.###v#.#.###.#\n",
    "#.....#...#...#.#.#...#\n",
    "#.#########.###.#.#.###\n",
    "#...###...#...#...#.###\n",
    "###.###.#.###v#####v###\n",
    "#...#...#.#.>.>.#.>.###\n",
    "#.###.###.#.###.#.#v###\n",
    "#.....###...###...#...#\n",
    "#####################.#\"\"\")\n",
    "\n",
    "assert part_1(test_data) == 94"
   ]
  },
  {
   "cell_type": "code",
   "execution_count": 70,
   "id": "e09cfa62-4b2d-4ee1-b00c-41bc3e1cac17",
   "metadata": {},
   "outputs": [
    {
     "data": {
      "text/plain": [
       "2294"
      ]
     },
     "execution_count": 70,
     "metadata": {},
     "output_type": "execute_result"
    }
   ],
   "source": [
    "data = parse_data(open(\"input\").read())\n",
    "\n",
    "part_1(data)"
   ]
  },
  {
   "cell_type": "markdown",
   "id": "c69e02c9-f3bd-4c31-b589-79c76a7f92bc",
   "metadata": {},
   "source": [
    "## Part 2\n",
    "\n",
    "This is no longer a DAG, so this is NP. However there are a lot of corridors where there's no choice for direction. Create a graph which connects only nodes with more than two neighbours."
   ]
  },
  {
   "cell_type": "code",
   "execution_count": 133,
   "id": "4fc83bfd-4f70-42a1-96e4-a21cd02cfa6c",
   "metadata": {},
   "outputs": [],
   "source": [
    "def create_graph(grid):\n",
    "    # create a graph\n",
    "    max_y = max(p.y for p in grid)\n",
    "    start = next(p for p in grid if p.y == max_y)\n",
    "    end = next(p for p in grid if p.y == 0)\n",
    "\n",
    "    G = nx.Graph()\n",
    "    G.add_edge(start, start + S)\n",
    "    q = deque([(start, start + S)])\n",
    "\n",
    "    for p in grid:\n",
    "        for d in DIRECTIONS:\n",
    "            n = p + d\n",
    "            if n in grid:\n",
    "                G.add_edge(p, n, weight=1)\n",
    "\n",
    "    # compress the graph to connect only nodes not in corridors\n",
    "    for p in grid:\n",
    "        nbrs = list(G[p])\n",
    "        if len(nbrs) == 2:\n",
    "            a, b = nbrs\n",
    "            G.add_edge(a, b, weight = G[p][a][\"weight\"] + G[p][b][\"weight\"])\n",
    "            G.remove_node(p)\n",
    "\n",
    "    # compress further to remove dead ends\n",
    "    for p in grid:\n",
    "        if p in G and p != start and p != end:\n",
    "            nbrs = list(G[p])\n",
    "            if len(nbrs) == 1:\n",
    "                G.remove_node(p)\n",
    "\n",
    "    return start, end, G"
   ]
  },
  {
   "cell_type": "code",
   "execution_count": 134,
   "id": "09c38b66-4b21-4ff4-a3e9-5c50f6c49066",
   "metadata": {},
   "outputs": [],
   "source": [
    "start, end, g = create_graph(test_data)"
   ]
  },
  {
   "cell_type": "code",
   "execution_count": 135,
   "id": "d77b5da5-9418-44cc-9ca5-667129f9abe8",
   "metadata": {},
   "outputs": [
    {
     "data": {
      "text/plain": [
       "NodeView((Point(x=1, y=22), Point(x=11, y=19), Point(x=3, y=17), Point(x=21, y=11), Point(x=5, y=9), Point(x=13, y=9), Point(x=13, y=3), Point(x=19, y=3), Point(x=21, y=0)))"
      ]
     },
     "execution_count": 135,
     "metadata": {},
     "output_type": "execute_result"
    }
   ],
   "source": [
    "g.nodes"
   ]
  },
  {
   "cell_type": "code",
   "execution_count": 123,
   "id": "49f2c4d0-c9b5-4d2c-bdee-42f617394a10",
   "metadata": {},
   "outputs": [
    {
     "data": {
      "text/plain": [
       "[150, 110, 82, 126, 94, 86, 118, 82, 74, 154, 118, 90]"
      ]
     },
     "execution_count": 123,
     "metadata": {},
     "output_type": "execute_result"
    }
   ],
   "source": [
    "[nx.path_weight(g, path, \"weight\") for path in nx.all_simple_paths(g, start, end)]"
   ]
  },
  {
   "cell_type": "code",
   "execution_count": 142,
   "id": "64138853-c080-451d-921c-0ce7034cf259",
   "metadata": {},
   "outputs": [],
   "source": [
    "def part_2(data):\n",
    "    start, end, g = create_graph(data)\n",
    "    max_so_far = 0\n",
    "    for m in (\n",
    "        nx.path_weight(g, path, \"weight\") \n",
    "        for path in nx.all_simple_paths(g, start, end)\n",
    "    ):\n",
    "        if m > max_so_far:\n",
    "            print(m)\n",
    "            max_so_far = m\n",
    "    return max_so_far"
   ]
  },
  {
   "cell_type": "code",
   "execution_count": 143,
   "id": "3bb3a18d-7041-4cd7-8690-1d1bc9558be0",
   "metadata": {},
   "outputs": [
    {
     "name": "stdout",
     "output_type": "stream",
     "text": [
      "150\n",
      "154\n"
     ]
    }
   ],
   "source": [
    "assert part_2(test_data) == 154"
   ]
  },
  {
   "cell_type": "code",
   "execution_count": 145,
   "id": "3f5788c3-c009-48d9-a451-c42a39240af6",
   "metadata": {},
   "outputs": [
    {
     "name": "stdout",
     "output_type": "stream",
     "text": [
      "4662\n",
      "4726\n",
      "5034\n",
      "5102\n",
      "5166\n",
      "5254\n",
      "5362\n",
      "5394\n",
      "5582\n",
      "5726\n",
      "5794\n",
      "5850\n",
      "5894\n",
      "5910\n",
      "5986\n",
      "5998\n",
      "6142\n",
      "6214\n",
      "6246\n",
      "6342\n",
      "6418\n"
     ]
    },
    {
     "ename": "KeyboardInterrupt",
     "evalue": "",
     "output_type": "error",
     "traceback": [
      "\u001b[0;31m---------------------------------------------------------------------------\u001b[0m",
      "\u001b[0;31mKeyboardInterrupt\u001b[0m                         Traceback (most recent call last)",
      "File \u001b[0;32m<timed eval>:1\u001b[0m\n",
      "Cell \u001b[0;32mIn[142], line 4\u001b[0m, in \u001b[0;36mpart_2\u001b[0;34m(data)\u001b[0m\n\u001b[1;32m      2\u001b[0m start, end, g \u001b[38;5;241m=\u001b[39m create_graph(data)\n\u001b[1;32m      3\u001b[0m max_so_far \u001b[38;5;241m=\u001b[39m \u001b[38;5;241m0\u001b[39m\n\u001b[0;32m----> 4\u001b[0m \u001b[43m\u001b[49m\u001b[38;5;28;43;01mfor\u001b[39;49;00m\u001b[43m \u001b[49m\u001b[43mm\u001b[49m\u001b[43m \u001b[49m\u001b[38;5;129;43;01min\u001b[39;49;00m\u001b[43m \u001b[49m\u001b[43m(\u001b[49m\n\u001b[1;32m      5\u001b[0m \u001b[43m    \u001b[49m\u001b[43mnx\u001b[49m\u001b[38;5;241;43m.\u001b[39;49m\u001b[43mpath_weight\u001b[49m\u001b[43m(\u001b[49m\u001b[43mg\u001b[49m\u001b[43m,\u001b[49m\u001b[43m \u001b[49m\u001b[43mpath\u001b[49m\u001b[43m,\u001b[49m\u001b[43m \u001b[49m\u001b[38;5;124;43m\"\u001b[39;49m\u001b[38;5;124;43mweight\u001b[39;49m\u001b[38;5;124;43m\"\u001b[39;49m\u001b[43m)\u001b[49m\u001b[43m \u001b[49m\n\u001b[1;32m      6\u001b[0m \u001b[43m    \u001b[49m\u001b[38;5;28;43;01mfor\u001b[39;49;00m\u001b[43m \u001b[49m\u001b[43mpath\u001b[49m\u001b[43m \u001b[49m\u001b[38;5;129;43;01min\u001b[39;49;00m\u001b[43m \u001b[49m\u001b[43mnx\u001b[49m\u001b[38;5;241;43m.\u001b[39;49m\u001b[43mall_simple_paths\u001b[49m\u001b[43m(\u001b[49m\u001b[43mg\u001b[49m\u001b[43m,\u001b[49m\u001b[43m \u001b[49m\u001b[43mstart\u001b[49m\u001b[43m,\u001b[49m\u001b[43m \u001b[49m\u001b[43mend\u001b[49m\u001b[43m)\u001b[49m\n\u001b[1;32m      7\u001b[0m \u001b[43m\u001b[49m\u001b[43m)\u001b[49m\u001b[43m:\u001b[49m\n\u001b[1;32m      8\u001b[0m \u001b[43m    \u001b[49m\u001b[38;5;28;43;01mif\u001b[39;49;00m\u001b[43m \u001b[49m\u001b[43mm\u001b[49m\u001b[43m \u001b[49m\u001b[38;5;241;43m>\u001b[39;49m\u001b[43m \u001b[49m\u001b[43mmax_so_far\u001b[49m\u001b[43m:\u001b[49m\n\u001b[1;32m      9\u001b[0m \u001b[43m        \u001b[49m\u001b[38;5;28;43mprint\u001b[39;49m\u001b[43m(\u001b[49m\u001b[43mm\u001b[49m\u001b[43m)\u001b[49m\n",
      "Cell \u001b[0;32mIn[142], line 4\u001b[0m, in \u001b[0;36m<genexpr>\u001b[0;34m(.0)\u001b[0m\n\u001b[1;32m      2\u001b[0m start, end, g \u001b[38;5;241m=\u001b[39m create_graph(data)\n\u001b[1;32m      3\u001b[0m max_so_far \u001b[38;5;241m=\u001b[39m \u001b[38;5;241m0\u001b[39m\n\u001b[0;32m----> 4\u001b[0m \u001b[38;5;28;01mfor\u001b[39;00m m \u001b[38;5;129;01min\u001b[39;00m \u001b[43m(\u001b[49m\n\u001b[1;32m      5\u001b[0m \u001b[43m    \u001b[49m\u001b[43mnx\u001b[49m\u001b[38;5;241;43m.\u001b[39;49m\u001b[43mpath_weight\u001b[49m\u001b[43m(\u001b[49m\u001b[43mg\u001b[49m\u001b[43m,\u001b[49m\u001b[43m \u001b[49m\u001b[43mpath\u001b[49m\u001b[43m,\u001b[49m\u001b[43m \u001b[49m\u001b[38;5;124;43m\"\u001b[39;49m\u001b[38;5;124;43mweight\u001b[39;49m\u001b[38;5;124;43m\"\u001b[39;49m\u001b[43m)\u001b[49m\u001b[43m \u001b[49m\n\u001b[1;32m      6\u001b[0m \u001b[43m    \u001b[49m\u001b[38;5;28;43;01mfor\u001b[39;49;00m\u001b[43m \u001b[49m\u001b[43mpath\u001b[49m\u001b[43m \u001b[49m\u001b[38;5;129;43;01min\u001b[39;49;00m\u001b[43m \u001b[49m\u001b[43mnx\u001b[49m\u001b[38;5;241;43m.\u001b[39;49m\u001b[43mall_simple_paths\u001b[49m\u001b[43m(\u001b[49m\u001b[43mg\u001b[49m\u001b[43m,\u001b[49m\u001b[43m \u001b[49m\u001b[43mstart\u001b[49m\u001b[43m,\u001b[49m\u001b[43m \u001b[49m\u001b[43mend\u001b[49m\u001b[43m)\u001b[49m\n\u001b[1;32m      7\u001b[0m \u001b[43m\u001b[49m\u001b[43m)\u001b[49m:\n\u001b[1;32m      8\u001b[0m     \u001b[38;5;28;01mif\u001b[39;00m m \u001b[38;5;241m>\u001b[39m max_so_far:\n\u001b[1;32m      9\u001b[0m         \u001b[38;5;28mprint\u001b[39m(m)\n",
      "File \u001b[0;32m~/src/advent/venv/lib/python3.11/site-packages/networkx/algorithms/simple_paths.py:285\u001b[0m, in \u001b[0;36m_all_simple_paths_graph\u001b[0;34m(G, source, targets, cutoff)\u001b[0m\n\u001b[1;32m    283\u001b[0m     \u001b[38;5;28;01myield\u001b[39;00m \u001b[38;5;28mlist\u001b[39m(visited) \u001b[38;5;241m+\u001b[39m [child]\n\u001b[1;32m    284\u001b[0m visited[child] \u001b[38;5;241m=\u001b[39m \u001b[38;5;28;01mTrue\u001b[39;00m\n\u001b[0;32m--> 285\u001b[0m \u001b[38;5;28;01mif\u001b[39;00m targets \u001b[38;5;241m-\u001b[39m \u001b[38;5;28mset\u001b[39m(visited\u001b[38;5;241m.\u001b[39mkeys()):  \u001b[38;5;66;03m# expand stack until find all targets\u001b[39;00m\n\u001b[1;32m    286\u001b[0m     stack\u001b[38;5;241m.\u001b[39mappend(\u001b[38;5;28miter\u001b[39m(G[child]))\n\u001b[1;32m    287\u001b[0m \u001b[38;5;28;01melse\u001b[39;00m:\n",
      "Cell \u001b[0;32mIn[4], line 17\u001b[0m, in \u001b[0;36mPoint.__hash__\u001b[0;34m(self)\u001b[0m\n\u001b[1;32m     14\u001b[0m \u001b[38;5;28;01mdef\u001b[39;00m \u001b[38;5;21m__neg__\u001b[39m(\u001b[38;5;28mself\u001b[39m):\n\u001b[1;32m     15\u001b[0m     \u001b[38;5;28;01mreturn\u001b[39;00m \u001b[38;5;28mself\u001b[39m\u001b[38;5;241m.\u001b[39m\u001b[38;5;18m__class__\u001b[39m(\u001b[38;5;241m-\u001b[39m\u001b[38;5;28mself\u001b[39m\u001b[38;5;241m.\u001b[39mx, \u001b[38;5;241m-\u001b[39m\u001b[38;5;28mself\u001b[39m\u001b[38;5;241m.\u001b[39my)\n\u001b[0;32m---> 17\u001b[0m \u001b[38;5;28;01mdef\u001b[39;00m \u001b[38;5;21m__hash__\u001b[39m(\u001b[38;5;28mself\u001b[39m):\n\u001b[1;32m     18\u001b[0m     \u001b[38;5;28;01mreturn\u001b[39;00m \u001b[38;5;28mhash\u001b[39m((\u001b[38;5;28mself\u001b[39m\u001b[38;5;241m.\u001b[39mx, \u001b[38;5;28mself\u001b[39m\u001b[38;5;241m.\u001b[39my))\n\u001b[1;32m     20\u001b[0m \u001b[38;5;28;01mdef\u001b[39;00m \u001b[38;5;21m__lt__\u001b[39m(\u001b[38;5;28mself\u001b[39m, other):\n",
      "\u001b[0;31mKeyboardInterrupt\u001b[0m: "
     ]
    }
   ],
   "source": [
    "%%time \n",
    "\n",
    "part_2(data)"
   ]
  },
  {
   "cell_type": "markdown",
   "id": "c9f32317-1017-4afc-b7e4-ad7facb51eed",
   "metadata": {},
   "source": [
    "I've completely cheated here, I've left this running and just punted the max so far into the answer and it worked. The search needs pruning. If I'm feeling eager, which I doubt, I'll implement that. Even using networkx that took from Newcastle to Hitchin to solve."
   ]
  },
  {
   "cell_type": "code",
   "execution_count": null,
   "id": "fead07ec-47b2-4d55-96a8-8be8deac4155",
   "metadata": {},
   "outputs": [],
   "source": []
  }
 ],
 "metadata": {
  "kernelspec": {
   "display_name": "Python (AoC)",
   "language": "python",
   "name": "advent"
  },
  "language_info": {
   "codemirror_mode": {
    "name": "ipython",
    "version": 3
   },
   "file_extension": ".py",
   "mimetype": "text/x-python",
   "name": "python",
   "nbconvert_exporter": "python",
   "pygments_lexer": "ipython3",
   "version": "3.11.0"
  }
 },
 "nbformat": 4,
 "nbformat_minor": 5
}
