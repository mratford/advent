{
 "cells": [
  {
   "cell_type": "markdown",
   "id": "268eeed3-4573-4b1d-9cb6-43d41b160b24",
   "metadata": {},
   "source": [
    "# Day 23 \n",
    "## Part 1\n",
    "The longest path problem is NP complete unless it's a DAG, so I'll assume that's the case where the slopes enforce a lack of loops."
   ]
  },
  {
   "cell_type": "code",
   "execution_count": 1,
   "id": "494f7b41-a035-4dd5-bf3d-79a642bc558b",
   "metadata": {},
   "outputs": [],
   "source": [
    "from dataclasses import dataclass\n",
    "\n",
    "@dataclass\n",
    "class Point:\n",
    "    x: int\n",
    "    y: int\n",
    "\n",
    "    def __add__(self, other):\n",
    "        return self.__class__(self.x + other.x, self.y + other.y)\n",
    "\n",
    "    def __sub__(self, other):\n",
    "        return self.__class__(self.x - other.x, self.y - other.y)\n",
    "\n",
    "    def __neg__(self):\n",
    "        return self.__class__(-self.x, -self.y)\n",
    "\n",
    "    def __hash__(self):\n",
    "        return hash((self.x, self.y))\n",
    "\n",
    "    def __lt__(self, other):\n",
    "        if self.x < other.x:\n",
    "            return True\n",
    "        elif self.x > other.x:\n",
    "            return False\n",
    "        else:\n",
    "            return self.y < other.y\n",
    "\n",
    "    def __iter__(self):\n",
    "        yield self.x\n",
    "        yield self.y\n",
    "\n",
    "    def __mod__(self, other):\n",
    "        if isinstance(other, Point):\n",
    "            return self.__class__(self.x % other.x, self.y % other.y)\n",
    "        else:\n",
    "            return self.__class__(self.x % other, self.y % other)\n",
    "        \n",
    "    def __mul__(self, multiple):\n",
    "        return self.__class__(self.x * multiple, self.y * multiple)\n",
    "    \n",
    "\n",
    "N = Point(0, 1)\n",
    "S = Point(0, -1)\n",
    "W = Point(-1, 0)\n",
    "E = Point(1, 0)\n",
    "\n",
    "DIRECTIONS = (N, E, S, W)"
   ]
  },
  {
   "cell_type": "code",
   "execution_count": 2,
   "id": "7b33bd83-4f01-4660-9c32-0085580dd909",
   "metadata": {},
   "outputs": [],
   "source": [
    "slopes = {\n",
    "    \">\": E,\n",
    "    \"<\": W,\n",
    "    \"v\": S,\n",
    "    \"^\": N\n",
    "}\n",
    "\n",
    "import networkx as nx\n",
    "from collections import deque\n",
    "\n",
    "def parse_data(s):\n",
    "    grid = {}\n",
    "    lines = s.strip().splitlines()\n",
    "    for y, line in zip(range(len(lines) - 1, -1, -1), lines):\n",
    "        for x, c in enumerate(line):\n",
    "            if c != \"#\":\n",
    "                grid[Point(x, y)] = c\n",
    "    return grid\n",
    "\n",
    "def create_dag(grid):\n",
    "    # create a DAG\n",
    "    max_y = max(p.y for p in grid)\n",
    "    start = next(p for p in grid if p.y == max_y)\n",
    "    end = next(p for p in grid if p.y == 0)\n",
    "\n",
    "    G = nx.DiGraph()\n",
    "    G.add_edge(start, start + S)\n",
    "    q = deque([(start, start + S)])\n",
    "\n",
    "    while q:\n",
    "        a, b = q.popleft()\n",
    "        for d in DIRECTIONS:\n",
    "            n = b + d\n",
    "            if (\n",
    "                n in grid and\n",
    "                n != a and\n",
    "                (grid[b] not in slopes or slopes[grid[b]] == d) \n",
    "                and (grid[n] not in slopes or slopes[grid[n]] == d)\n",
    "            ):\n",
    "                G.add_edge(b, n)\n",
    "                q.append((b, n))\n",
    "\n",
    "    return G\n",
    "\n",
    "def part_1(data):\n",
    "    return nx.dag_longest_path_length(create_dag(data))\n",
    "    \n",
    "test_data = parse_data(\"\"\"#.#####################\n",
    "#.......#########...###\n",
    "#######.#########.#.###\n",
    "###.....#.>.>.###.#.###\n",
    "###v#####.#v#.###.#.###\n",
    "###.>...#.#.#.....#...#\n",
    "###v###.#.#.#########.#\n",
    "###...#.#.#.......#...#\n",
    "#####.#.#.#######.#.###\n",
    "#.....#.#.#.......#...#\n",
    "#.#####.#.#.#########v#\n",
    "#.#...#...#...###...>.#\n",
    "#.#.#v#######v###.###v#\n",
    "#...#.>.#...>.>.#.###.#\n",
    "#####v#.#.###v#.#.###.#\n",
    "#.....#...#...#.#.#...#\n",
    "#.#########.###.#.#.###\n",
    "#...###...#...#...#.###\n",
    "###.###.#.###v#####v###\n",
    "#...#...#.#.>.>.#.>.###\n",
    "#.###.###.#.###.#.#v###\n",
    "#.....###...###...#...#\n",
    "#####################.#\"\"\")\n",
    "\n",
    "assert part_1(test_data) == 94"
   ]
  },
  {
   "cell_type": "code",
   "execution_count": 3,
   "id": "e09cfa62-4b2d-4ee1-b00c-41bc3e1cac17",
   "metadata": {},
   "outputs": [
    {
     "data": {
      "text/plain": [
       "2294"
      ]
     },
     "execution_count": 3,
     "metadata": {},
     "output_type": "execute_result"
    }
   ],
   "source": [
    "data = parse_data(open(\"input\").read())\n",
    "\n",
    "part_1(data)"
   ]
  },
  {
   "cell_type": "markdown",
   "id": "c69e02c9-f3bd-4c31-b589-79c76a7f92bc",
   "metadata": {},
   "source": [
    "## Part 2\n",
    "\n",
    "This is no longer a DAG, so this is NP. However there are a lot of corridors where there's no choice for direction. Create a graph which connects only nodes with more than two neighbours."
   ]
  },
  {
   "cell_type": "code",
   "execution_count": 4,
   "id": "4fc83bfd-4f70-42a1-96e4-a21cd02cfa6c",
   "metadata": {},
   "outputs": [],
   "source": [
    "def create_graph(grid):\n",
    "    # create a graph\n",
    "    max_y = max(p.y for p in grid)\n",
    "    start = next(p for p in grid if p.y == max_y)\n",
    "    end = next(p for p in grid if p.y == 0)\n",
    "\n",
    "    G = nx.Graph()\n",
    "    G.add_edge(start, start + S)\n",
    "    q = deque([(start, start + S)])\n",
    "\n",
    "    for p in grid:\n",
    "        for d in DIRECTIONS:\n",
    "            n = p + d\n",
    "            if n in grid:\n",
    "                G.add_edge(p, n, weight=1)\n",
    "\n",
    "    # compress the graph to connect only nodes not in corridors\n",
    "    for p in grid:\n",
    "        nbrs = list(G[p])\n",
    "        if len(nbrs) == 2:\n",
    "            a, b = nbrs\n",
    "            G.add_edge(a, b, weight = G[p][a][\"weight\"] + G[p][b][\"weight\"])\n",
    "            G.remove_node(p)\n",
    "\n",
    "    # compress further to remove dead ends\n",
    "    for p in grid:\n",
    "        if p in G and p != start and p != end:\n",
    "            nbrs = list(G[p])\n",
    "            if len(nbrs) == 1:\n",
    "                G.remove_node(p)\n",
    "\n",
    "    return start, end, G"
   ]
  },
  {
   "cell_type": "code",
   "execution_count": 5,
   "id": "09c38b66-4b21-4ff4-a3e9-5c50f6c49066",
   "metadata": {},
   "outputs": [],
   "source": [
    "start, end, g = create_graph(test_data)"
   ]
  },
  {
   "cell_type": "code",
   "execution_count": 6,
   "id": "d77b5da5-9418-44cc-9ca5-667129f9abe8",
   "metadata": {},
   "outputs": [
    {
     "data": {
      "text/plain": [
       "NodeView((Point(x=1, y=22), Point(x=11, y=19), Point(x=3, y=17), Point(x=21, y=11), Point(x=5, y=9), Point(x=13, y=9), Point(x=13, y=3), Point(x=19, y=3), Point(x=21, y=0)))"
      ]
     },
     "execution_count": 6,
     "metadata": {},
     "output_type": "execute_result"
    }
   ],
   "source": [
    "g.nodes"
   ]
  },
  {
   "cell_type": "code",
   "execution_count": 7,
   "id": "49f2c4d0-c9b5-4d2c-bdee-42f617394a10",
   "metadata": {},
   "outputs": [
    {
     "data": {
      "text/plain": [
       "[150, 110, 82, 126, 94, 86, 118, 82, 74, 154, 118, 90]"
      ]
     },
     "execution_count": 7,
     "metadata": {},
     "output_type": "execute_result"
    }
   ],
   "source": [
    "[nx.path_weight(g, path, \"weight\") for path in nx.all_simple_paths(g, start, end)]"
   ]
  },
  {
   "cell_type": "code",
   "execution_count": 8,
   "id": "64138853-c080-451d-921c-0ce7034cf259",
   "metadata": {},
   "outputs": [],
   "source": [
    "from tqdm import tqdm\n",
    "\n",
    "def part_2(data):\n",
    "    start, end, g = create_graph(data)\n",
    "    max_so_far = 0\n",
    "    for m in tqdm(\n",
    "        nx.path_weight(g, path, \"weight\") \n",
    "        for path in nx.all_simple_paths(g, start, end)\n",
    "    ):\n",
    "        if m > max_so_far:\n",
    "            print(m)\n",
    "            max_so_far = m\n",
    "    return max_so_far"
   ]
  },
  {
   "cell_type": "code",
   "execution_count": 9,
   "id": "3bb3a18d-7041-4cd7-8690-1d1bc9558be0",
   "metadata": {},
   "outputs": [
    {
     "name": "stderr",
     "output_type": "stream",
     "text": [
      "12it [00:00, 18269.20it/s]"
     ]
    },
    {
     "name": "stdout",
     "output_type": "stream",
     "text": [
      "150\n",
      "154\n"
     ]
    },
    {
     "name": "stderr",
     "output_type": "stream",
     "text": [
      "\n"
     ]
    }
   ],
   "source": [
    "assert part_2(test_data) == 154"
   ]
  },
  {
   "cell_type": "code",
   "execution_count": 10,
   "id": "3f5788c3-c009-48d9-a451-c42a39240af6",
   "metadata": {},
   "outputs": [
    {
     "name": "stderr",
     "output_type": "stream",
     "text": [
      "0it [00:00, ?it/s]"
     ]
    },
    {
     "name": "stdout",
     "output_type": "stream",
     "text": [
      "4662\n",
      "4726\n",
      "5034\n",
      "5102\n",
      "5166\n",
      "5254\n",
      "5362\n"
     ]
    },
    {
     "name": "stderr",
     "output_type": "stream",
     "text": [
      "1313it [00:00, 6573.62it/s]"
     ]
    },
    {
     "name": "stdout",
     "output_type": "stream",
     "text": [
      "5394\n",
      "5582\n"
     ]
    },
    {
     "name": "stderr",
     "output_type": "stream",
     "text": [
      "3387it [00:00, 6889.99it/s]"
     ]
    },
    {
     "name": "stdout",
     "output_type": "stream",
     "text": [
      "5726\n"
     ]
    },
    {
     "name": "stderr",
     "output_type": "stream",
     "text": [
      "18320it [00:03, 3947.11it/s]"
     ]
    },
    {
     "name": "stdout",
     "output_type": "stream",
     "text": [
      "5794\n"
     ]
    },
    {
     "name": "stderr",
     "output_type": "stream",
     "text": [
      "58935it [00:13, 3023.33it/s]"
     ]
    },
    {
     "name": "stdout",
     "output_type": "stream",
     "text": [
      "5850\n",
      "5894\n"
     ]
    },
    {
     "name": "stderr",
     "output_type": "stream",
     "text": [
      "62298it [00:14, 5064.34it/s]"
     ]
    },
    {
     "name": "stdout",
     "output_type": "stream",
     "text": [
      "5910\n",
      "5986\n"
     ]
    },
    {
     "name": "stderr",
     "output_type": "stream",
     "text": [
      "64068it [00:14, 5486.88it/s]"
     ]
    },
    {
     "name": "stdout",
     "output_type": "stream",
     "text": [
      "5998\n"
     ]
    },
    {
     "name": "stderr",
     "output_type": "stream",
     "text": [
      "69891it [00:15, 5017.72it/s]"
     ]
    },
    {
     "name": "stdout",
     "output_type": "stream",
     "text": [
      "6142\n"
     ]
    },
    {
     "name": "stderr",
     "output_type": "stream",
     "text": [
      "77572it [00:17, 6177.05it/s]"
     ]
    },
    {
     "name": "stdout",
     "output_type": "stream",
     "text": [
      "6214\n"
     ]
    },
    {
     "name": "stderr",
     "output_type": "stream",
     "text": [
      "84473it [00:18, 3703.67it/s]"
     ]
    },
    {
     "name": "stdout",
     "output_type": "stream",
     "text": [
      "6246\n"
     ]
    },
    {
     "name": "stderr",
     "output_type": "stream",
     "text": [
      "126917it [00:27, 7998.67it/s]"
     ]
    },
    {
     "name": "stdout",
     "output_type": "stream",
     "text": [
      "6342\n"
     ]
    },
    {
     "name": "stderr",
     "output_type": "stream",
     "text": [
      "131291it [00:28, 4421.45it/s]"
     ]
    },
    {
     "name": "stdout",
     "output_type": "stream",
     "text": [
      "6418\n"
     ]
    },
    {
     "name": "stderr",
     "output_type": "stream",
     "text": [
      "1262816it [04:59, 4221.58it/s]"
     ]
    },
    {
     "name": "stdout",
     "output_type": "stream",
     "text": [
      "CPU times: user 4min 57s, sys: 716 ms, total: 4min 58s\n",
      "Wall time: 4min 59s\n"
     ]
    },
    {
     "name": "stderr",
     "output_type": "stream",
     "text": [
      "\n"
     ]
    },
    {
     "data": {
      "text/plain": [
       "6418"
      ]
     },
     "execution_count": 10,
     "metadata": {},
     "output_type": "execute_result"
    }
   ],
   "source": [
    "%%time \n",
    "\n",
    "part_2(data)"
   ]
  },
  {
   "cell_type": "markdown",
   "id": "c9f32317-1017-4afc-b7e4-ad7facb51eed",
   "metadata": {},
   "source": [
    "I've completely cheated here, I've left this running and just punted the max so far into the answer and it worked. The search needs pruning. If I'm feeling eager, which I doubt, I'll implement that. Even using networkx that took from Newcastle to Hitchin to solve."
   ]
  },
  {
   "cell_type": "code",
   "execution_count": null,
   "id": "0774b4aa-9f09-4fe3-a486-12c297b61696",
   "metadata": {},
   "outputs": [],
   "source": []
  }
 ],
 "metadata": {
  "kernelspec": {
   "display_name": "Python (AoC)",
   "language": "python",
   "name": "advent"
  },
  "language_info": {
   "codemirror_mode": {
    "name": "ipython",
    "version": 3
   },
   "file_extension": ".py",
   "mimetype": "text/x-python",
   "name": "python",
   "nbconvert_exporter": "python",
   "pygments_lexer": "ipython3",
   "version": "3.11.0"
  }
 },
 "nbformat": 4,
 "nbformat_minor": 5
}
