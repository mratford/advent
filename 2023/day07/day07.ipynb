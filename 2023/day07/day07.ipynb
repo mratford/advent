{
 "cells": [
  {
   "cell_type": "markdown",
   "id": "268eeed3-4573-4b1d-9cb6-43d41b160b24",
   "metadata": {},
   "source": [
    "# Day 7 \n",
    "## Part 1\n",
    "I'm going to build a class for a hand that will allow ordering. First build some of the necessary infrastructure. An ordered HandType will be useful, as will a function to give the type of a hand. The code here is possibly too terse, but it gives the counts for blocks of common cards, so e.g. a full house \"QQQ66\" will look like `{3: 1, 2: 1}`. It's then fairly simple to define and check the requirements for each type of hand."
   ]
  },
  {
   "cell_type": "code",
   "execution_count": 1,
   "id": "494f7b41-a035-4dd5-bf3d-79a642bc558b",
   "metadata": {},
   "outputs": [
    {
     "data": {
      "text/plain": [
       "[('32T3K', <HandType.ONE_PAIR: 2>),\n",
       " ('T55J5', <HandType.THREE_OF_A_KIND: 4>),\n",
       " ('KK677', <HandType.TWO_PAIR: 3>),\n",
       " ('KTJJT', <HandType.TWO_PAIR: 3>),\n",
       " ('QQQJA', <HandType.THREE_OF_A_KIND: 4>)]"
      ]
     },
     "execution_count": 1,
     "metadata": {},
     "output_type": "execute_result"
    }
   ],
   "source": [
    "from enum import IntEnum\n",
    "from collections import Counter\n",
    "\n",
    "HandType = IntEnum(\n",
    "    \"HandType\", \n",
    "    [\n",
    "        \"HIGH_CARD\",\n",
    "        \"ONE_PAIR\", \n",
    "        \"TWO_PAIR\", \n",
    "        \"THREE_OF_A_KIND\",\n",
    "        \"FULL_HOUSE\",\n",
    "        \"FOUR_OF_A_KIND\",\n",
    "        \"FIVE_OF_A_KIND\"\n",
    "    ]\n",
    ")\n",
    "\n",
    "def value_hand(s: str) -> HandType:\n",
    "    c = Counter(Counter(s).values())\n",
    "    for ht, needed in zip(\n",
    "        reversed(HandType),\n",
    "        [\n",
    "            {5: 1}, \n",
    "            {4: 1}, \n",
    "            {3: 1, 2: 1}, \n",
    "            {3: 1}, \n",
    "            {2: 2}, \n",
    "            {2: 1}, \n",
    "            {1: 5}\n",
    "        ],\n",
    "    ):\n",
    "        if all(\n",
    "            c[card_count] == needed[card_count] \n",
    "            for card_count in needed\n",
    "        ):\n",
    "            return ht\n",
    "\n",
    "def parse_data(s):\n",
    "    return [\n",
    "        (spl[0], int(spl[1]))\n",
    "        for spl in [\n",
    "            line.split() \n",
    "            for line in s.strip().splitlines()\n",
    "        ]\n",
    "    ]\n",
    "\n",
    "test_data = parse_data(\"\"\"32T3K 765\n",
    "T55J5 684\n",
    "KK677 28\n",
    "KTJJT 220\n",
    "QQQJA 483\"\"\")\n",
    "\n",
    "[ (s, value_hand(s)) for s, _ in test_data ]"
   ]
  },
  {
   "cell_type": "markdown",
   "id": "9be71144",
   "metadata": {},
   "source": [
    "Provide the ranking of cards as a constant lookup."
   ]
  },
  {
   "cell_type": "code",
   "execution_count": 2,
   "id": "fd4f3558",
   "metadata": {},
   "outputs": [
    {
     "data": {
      "text/plain": [
       "{'A': 14,\n",
       " 'K': 13,\n",
       " 'Q': 12,\n",
       " 'J': 11,\n",
       " 'T': 10,\n",
       " '9': 9,\n",
       " '8': 8,\n",
       " '7': 7,\n",
       " '6': 6,\n",
       " '5': 5,\n",
       " '4': 4,\n",
       " '3': 3,\n",
       " '2': 2}"
      ]
     },
     "execution_count": 2,
     "metadata": {},
     "output_type": "execute_result"
    }
   ],
   "source": [
    "CARDS = { \n",
    "    c: v \n",
    "    for c, v in zip(\n",
    "        \"AKQJT98765432\",\n",
    "        range(14, 1, -1)\n",
    "    )\n",
    "}\n",
    "\n",
    "CARDS"
   ]
  },
  {
   "cell_type": "markdown",
   "id": "f8e3b8fb",
   "metadata": {},
   "source": [
    "Finally the class for the ordered hands."
   ]
  },
  {
   "cell_type": "code",
   "execution_count": 3,
   "id": "b9df7d58",
   "metadata": {},
   "outputs": [
    {
     "data": {
      "text/plain": [
       "[Hand(32T3K), Hand(KTJJT), Hand(KK677), Hand(T55J5), Hand(QQQJA)]"
      ]
     },
     "execution_count": 3,
     "metadata": {},
     "output_type": "execute_result"
    }
   ],
   "source": [
    "class Hand:\n",
    "    def __init__(self, s: str):\n",
    "        self.hand = s\n",
    "        self.type = value_hand(s)\n",
    "        \n",
    "    def __lt__(self, other):\n",
    "        if self.type != other.type:\n",
    "            return self.type < other.type\n",
    "        return (\n",
    "            [CARDS[c] for c in self.hand] \n",
    "            < [CARDS[c] for c in other.hand]\n",
    "        )\n",
    "    \n",
    "    def __repr__(self):\n",
    "        return f\"Hand({self.hand})\"\n",
    "    \n",
    "sorted(Hand(s) for s, _ in test_data)"
   ]
  },
  {
   "cell_type": "code",
   "execution_count": 4,
   "id": "f28b651c",
   "metadata": {},
   "outputs": [],
   "source": [
    "import itertools\n",
    "\n",
    "def part_1(data):\n",
    "    sorted_hands = sorted((Hand(hand), bid) for hand, bid in data)\n",
    "    return sum(\n",
    "        bid * rank\n",
    "        for (_, bid), rank\n",
    "        in zip(sorted_hands, itertools.count(1))\n",
    "    )\n",
    "\n",
    "assert part_1(test_data) == 6440"
   ]
  },
  {
   "cell_type": "code",
   "execution_count": 5,
   "id": "402d3c02",
   "metadata": {},
   "outputs": [
    {
     "data": {
      "text/plain": [
       "6440"
      ]
     },
     "execution_count": 5,
     "metadata": {},
     "output_type": "execute_result"
    }
   ],
   "source": [
    "part_1(test_data)"
   ]
  },
  {
   "cell_type": "code",
   "execution_count": 6,
   "id": "f55bc7e7",
   "metadata": {},
   "outputs": [
    {
     "data": {
      "text/plain": [
       "253933213"
      ]
     },
     "execution_count": 6,
     "metadata": {},
     "output_type": "execute_result"
    }
   ],
   "source": [
    "data = parse_data(open(\"input\").read())\n",
    "\n",
    "part_1(data)"
   ]
  },
  {
   "cell_type": "markdown",
   "id": "683c5548",
   "metadata": {},
   "source": [
    "## Part 2\n",
    "Amend the cards lookup for the Joker."
   ]
  },
  {
   "cell_type": "code",
   "execution_count": 7,
   "id": "cdb48946",
   "metadata": {},
   "outputs": [],
   "source": [
    "CARDS = { \n",
    "    c: v \n",
    "    for c, v in zip(\n",
    "        \"AKQT98765432J\",\n",
    "        range(14, 1, -1)\n",
    "    )\n",
    "}"
   ]
  },
  {
   "cell_type": "markdown",
   "id": "b4183f94",
   "metadata": {},
   "source": [
    "The Joker cards can be added to the most common other card, and this will always give the highest ranked hand in the absence of flushes."
   ]
  },
  {
   "cell_type": "code",
   "execution_count": 8,
   "id": "6fc515a8",
   "metadata": {},
   "outputs": [],
   "source": [
    "def value_hand(s: str) -> HandType:\n",
    "    card_counts = Counter(s)\n",
    "    joker_count = card_counts[\"J\"]\n",
    "    non_joker_count = Counter(''.join(c) for c in s if c != \"J\")\n",
    "    if non_joker_count:\n",
    "        top_card = non_joker_count.most_common(1)[0][0]\n",
    "    else: # all cards are Jokers\n",
    "        return HandType.FIVE_OF_A_KIND\n",
    "    non_joker_count[top_card] += joker_count\n",
    "    c = Counter(non_joker_count.values())\n",
    "    for ht, needed in zip(\n",
    "        reversed(HandType),\n",
    "        [\n",
    "            {5: 1}, \n",
    "            {4: 1}, \n",
    "            {3: 1, 2: 1}, \n",
    "            {3: 1}, \n",
    "            {2: 2}, \n",
    "            {2: 1}, \n",
    "            {1: 5}\n",
    "        ]\n",
    "    ):\n",
    "        if all(\n",
    "            c[card_count] == needed[card_count] \n",
    "            for card_count in needed\n",
    "        ):\n",
    "            return ht\n",
    "        \n",
    "assert part_1(test_data) == 5905"
   ]
  },
  {
   "cell_type": "code",
   "execution_count": 9,
   "id": "14353c0b",
   "metadata": {},
   "outputs": [
    {
     "data": {
      "text/plain": [
       "253473930"
      ]
     },
     "execution_count": 9,
     "metadata": {},
     "output_type": "execute_result"
    }
   ],
   "source": [
    "part_1(data)"
   ]
  },
  {
   "cell_type": "code",
   "execution_count": null,
   "id": "53b0ff32",
   "metadata": {},
   "outputs": [],
   "source": []
  }
 ],
 "metadata": {
  "kernelspec": {
   "display_name": "Python 3 (ipykernel)",
   "language": "python",
   "name": "python3"
  },
  "language_info": {
   "codemirror_mode": {
    "name": "ipython",
    "version": 3
   },
   "file_extension": ".py",
   "mimetype": "text/x-python",
   "name": "python",
   "nbconvert_exporter": "python",
   "pygments_lexer": "ipython3",
   "version": "3.11.0"
  }
 },
 "nbformat": 4,
 "nbformat_minor": 5
}
