{
 "cells": [
  {
   "cell_type": "markdown",
   "id": "268eeed3-4573-4b1d-9cb6-43d41b160b24",
   "metadata": {},
   "source": [
    "# Day 3 \n",
    "## Part 1\n",
    "These are escalating quickly this year."
   ]
  },
  {
   "cell_type": "code",
   "execution_count": 1,
   "id": "494f7b41-a035-4dd5-bf3d-79a642bc558b",
   "metadata": {},
   "outputs": [
    {
     "data": {
      "text/plain": [
       "['467..114..',\n",
       " '...*......',\n",
       " '..35..633.',\n",
       " '......#...',\n",
       " '617*......',\n",
       " '.....+.58.',\n",
       " '..592.....',\n",
       " '......755.',\n",
       " '...$.*....',\n",
       " '.664.598..']"
      ]
     },
     "execution_count": 1,
     "metadata": {},
     "output_type": "execute_result"
    }
   ],
   "source": [
    "def parse_data(s):\n",
    "    return s.strip().splitlines()\n",
    "\n",
    "test_data = parse_data(\"\"\"467..114..\n",
    "...*......\n",
    "..35..633.\n",
    "......#...\n",
    "617*......\n",
    ".....+.58.\n",
    "..592.....\n",
    "......755.\n",
    "...$.*....\n",
    ".664.598..\"\"\")\n",
    "\n",
    "test_data"
   ]
  },
  {
   "cell_type": "code",
   "execution_count": 2,
   "id": "d2cc7e2f",
   "metadata": {},
   "outputs": [
    {
     "data": {
      "text/plain": [
       "[[('467', 0), ('114', 5)],\n",
       " [],\n",
       " [('35', 2), ('633', 6)],\n",
       " [],\n",
       " [('617', 0)],\n",
       " [('58', 7)],\n",
       " [('592', 2)],\n",
       " [('755', 6)],\n",
       " [],\n",
       " [('664', 1), ('598', 5)]]"
      ]
     },
     "execution_count": 2,
     "metadata": {},
     "output_type": "execute_result"
    }
   ],
   "source": [
    "def get_numbers(line):\n",
    "    \"\"\"Return the numbers and columns of where\n",
    "    they start within a line\"\"\"\n",
    "    i = 0\n",
    "    while i < len(line):\n",
    "        c = i\n",
    "        if line[i].isdigit():\n",
    "            new_num = \"\"\n",
    "            while i < len(line) and line[i].isdigit():\n",
    "                new_num += line[i]\n",
    "                i += 1\n",
    "            yield (new_num, c)\n",
    "        i += 1\n",
    "        \n",
    "[list(get_numbers(line)) for line in test_data]"
   ]
  },
  {
   "cell_type": "code",
   "execution_count": 3,
   "id": "5eef7a8e",
   "metadata": {},
   "outputs": [
    {
     "data": {
      "text/plain": [
       "[(467, {'*'}),\n",
       " (114, set()),\n",
       " (35, {'*'}),\n",
       " (633, {'#'}),\n",
       " (617, {'*'}),\n",
       " (58, set()),\n",
       " (592, {'+'}),\n",
       " (755, {'*'}),\n",
       " (664, {'$'}),\n",
       " (598, {'*'})]"
      ]
     },
     "execution_count": 3,
     "metadata": {},
     "output_type": "execute_result"
    }
   ],
   "source": [
    "def get_surrounding_symbols(schematic, row, column, length):\n",
    "    \"\"\"Get the valid symbols around a string.\"\"\"\n",
    "    def yield_if_valid(r, c):\n",
    "        if (\n",
    "            r >= 0\n",
    "            and r < len(schematic)\n",
    "            and c >= 0\n",
    "            and c < len(schematic[0])\n",
    "        ):\n",
    "            s = schematic[r][c]\n",
    "            if not s.isdigit() and s != \".\":\n",
    "                yield s\n",
    "    \n",
    "    for r in (row - 1, row + 1):\n",
    "        for c in range(column - 1, column + length + 1):\n",
    "            yield from yield_if_valid(r, c)\n",
    "    yield from yield_if_valid(row, column - 1)\n",
    "    yield from yield_if_valid(row, column + length)\n",
    "    \n",
    "            \n",
    "def numbers_with_surrounding_symbols(schematic):\n",
    "    \"\"\"Return numbers with any surrounding symbols\n",
    "    from the schematic.\"\"\"\n",
    "    for r, line in enumerate(schematic):\n",
    "        for number, c in get_numbers(line):\n",
    "            yield (int(number), set(get_surrounding_symbols(schematic, r, c, len(number))))\n",
    "            \n",
    "list(numbers_with_surrounding_symbols(test_data))"
   ]
  },
  {
   "cell_type": "code",
   "execution_count": 4,
   "id": "7768165d",
   "metadata": {},
   "outputs": [],
   "source": [
    "def part_1(data):\n",
    "    return sum(\n",
    "        n \n",
    "        for n, symbols in numbers_with_surrounding_symbols(data)\n",
    "        if symbols\n",
    "    )\n",
    "\n",
    "assert part_1(test_data) == 4361"
   ]
  },
  {
   "cell_type": "code",
   "execution_count": 5,
   "id": "c2a598b0",
   "metadata": {},
   "outputs": [
    {
     "data": {
      "text/plain": [
       "531932"
      ]
     },
     "execution_count": 5,
     "metadata": {},
     "output_type": "execute_result"
    }
   ],
   "source": [
    "data = parse_data(open(\"input\").read())\n",
    "\n",
    "part_1(data)"
   ]
  },
  {
   "cell_type": "markdown",
   "id": "c0fc2d20",
   "metadata": {},
   "source": [
    "## Part 2\n",
    "Amend the `get_surrounding_symbols` function to yield coordinates of gears and solve from there."
   ]
  },
  {
   "cell_type": "code",
   "execution_count": 6,
   "id": "a5db8b68",
   "metadata": {},
   "outputs": [
    {
     "data": {
      "text/plain": [
       "defaultdict(list, {(1, 3): [467, 35], (4, 3): [617], (8, 5): [755, 598]})"
      ]
     },
     "execution_count": 6,
     "metadata": {},
     "output_type": "execute_result"
    }
   ],
   "source": [
    "from collections import defaultdict\n",
    "\n",
    "def get_surrounding_gears(schematic, row, column, length):\n",
    "    \"\"\"Get the valid symbols around a string.\"\"\"\n",
    "    def yield_if_valid(r, c):\n",
    "        if (\n",
    "            r >= 0\n",
    "            and r < len(schematic)\n",
    "            and c >= 0\n",
    "            and c < len(schematic[0])\n",
    "        ):\n",
    "            if schematic[r][c] == \"*\":\n",
    "                yield (r, c)\n",
    "    \n",
    "    for r in (row - 1, row + 1):\n",
    "        for c in range(column - 1, column + length + 1):\n",
    "            yield from yield_if_valid(r, c)\n",
    "    yield from yield_if_valid(row, column - 1)\n",
    "    yield from yield_if_valid(row, column + length)\n",
    "    \n",
    "            \n",
    "def gears_with_surrounding_numbers(schematic):\n",
    "    \"\"\"Return numbers with any surrounding symbols\n",
    "    from the schematic.\"\"\"\n",
    "    gears = defaultdict(list)\n",
    "    for r, line in enumerate(schematic):\n",
    "        for number, c in get_numbers(line):\n",
    "            for gear_r, gear_c in get_surrounding_gears(schematic, r, c, len(number)):\n",
    "                gears[(gear_r, gear_c)].append(int(number))\n",
    "    return gears\n",
    "\n",
    "gears_with_surrounding_numbers(test_data)"
   ]
  },
  {
   "cell_type": "code",
   "execution_count": 7,
   "id": "e8a61881",
   "metadata": {},
   "outputs": [],
   "source": [
    "import math\n",
    "\n",
    "def part_2(data):\n",
    "    return sum(\n",
    "        math.prod(numbers)\n",
    "        for numbers in gears_with_surrounding_numbers(data).values()\n",
    "        if len(numbers) == 2\n",
    "    )\n",
    "\n",
    "assert part_2(test_data) == 467835"
   ]
  },
  {
   "cell_type": "code",
   "execution_count": 8,
   "id": "491bd17a",
   "metadata": {},
   "outputs": [
    {
     "data": {
      "text/plain": [
       "73646890"
      ]
     },
     "execution_count": 8,
     "metadata": {},
     "output_type": "execute_result"
    }
   ],
   "source": [
    "part_2(data)"
   ]
  },
  {
   "cell_type": "code",
   "execution_count": null,
   "id": "211510ba",
   "metadata": {},
   "outputs": [],
   "source": []
  }
 ],
 "metadata": {
  "kernelspec": {
   "display_name": "Python 3 (ipykernel)",
   "language": "python",
   "name": "python3"
  },
  "language_info": {
   "codemirror_mode": {
    "name": "ipython",
    "version": 3
   },
   "file_extension": ".py",
   "mimetype": "text/x-python",
   "name": "python",
   "nbconvert_exporter": "python",
   "pygments_lexer": "ipython3",
   "version": "3.11.0"
  }
 },
 "nbformat": 4,
 "nbformat_minor": 5
}
