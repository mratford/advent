{
 "cells": [
  {
   "cell_type": "markdown",
   "id": "268eeed3-4573-4b1d-9cb6-43d41b160b24",
   "metadata": {},
   "source": [
    "# Day 9 \n",
    "## Part 1\n",
    "I _think_ I understand the instructions. "
   ]
  },
  {
   "cell_type": "code",
   "execution_count": 1,
   "id": "494f7b41-a035-4dd5-bf3d-79a642bc558b",
   "metadata": {},
   "outputs": [
    {
     "data": {
      "text/plain": [
       "[[0, 3, 6, 9, 12, 15], [1, 3, 6, 10, 15, 21], [10, 13, 16, 21, 30, 45]]"
      ]
     },
     "execution_count": 1,
     "metadata": {},
     "output_type": "execute_result"
    }
   ],
   "source": [
    "def parse_data(s):\n",
    "    return [\n",
    "        [int(x) for x in line.split()] \n",
    "        for line in s.strip().splitlines()\n",
    "    ]\n",
    "\n",
    "test_data = parse_data(\"\"\"0 3 6 9 12 15\n",
    "1 3 6 10 15 21\n",
    "10 13 16 21 30 45\"\"\")\n",
    "\n",
    "test_data"
   ]
  },
  {
   "cell_type": "code",
   "execution_count": 2,
   "id": "b9ed0506",
   "metadata": {},
   "outputs": [
    {
     "data": {
      "text/plain": [
       "[[3, 3, 5, 9, 15], [0, 2, 4, 6], [2, 2, 2], [0, 0]]"
      ]
     },
     "execution_count": 2,
     "metadata": {},
     "output_type": "execute_result"
    }
   ],
   "source": [
    "def d(l):\n",
    "    return [l[i + 1] - l[i] for i in range(len(l) - 1)]\n",
    "\n",
    "def ds(l):\n",
    "    l = d(l)\n",
    "    if all(x == 0 for x in l):\n",
    "        return [l]\n",
    "    else:\n",
    "        return [l] + ds(l)\n",
    "    \n",
    "ds(test_data[-1])"
   ]
  },
  {
   "cell_type": "code",
   "execution_count": 3,
   "id": "e99ecb70",
   "metadata": {},
   "outputs": [
    {
     "data": {
      "text/plain": [
       "[10, 13, 16, 21, 30, 45, 68]"
      ]
     },
     "execution_count": 3,
     "metadata": {},
     "output_type": "execute_result"
    }
   ],
   "source": [
    "def augment_list(l):\n",
    "    new_lists = [l] + ds(l)\n",
    "    for i in range(len(new_lists) - 1, 0, -1):\n",
    "        new_lists[i - 1] = (\n",
    "            new_lists[i - 1] \n",
    "            + [new_lists[i - 1][-1] + new_lists[i][-1]]\n",
    "        )\n",
    "    return new_lists[0]\n",
    "\n",
    "augment_list(test_data[-1])"
   ]
  },
  {
   "cell_type": "code",
   "execution_count": 4,
   "id": "e8508e60",
   "metadata": {},
   "outputs": [],
   "source": [
    "def part_1(data):\n",
    "    return sum(augment_list(l)[-1] for l in data)\n",
    "\n",
    "assert part_1(test_data) == 114"
   ]
  },
  {
   "cell_type": "code",
   "execution_count": 5,
   "id": "89fec242",
   "metadata": {},
   "outputs": [
    {
     "data": {
      "text/plain": [
       "1904165718"
      ]
     },
     "execution_count": 5,
     "metadata": {},
     "output_type": "execute_result"
    }
   ],
   "source": [
    "data = parse_data(open(\"input\").read())\n",
    "\n",
    "part_1(data)"
   ]
  },
  {
   "cell_type": "markdown",
   "id": "288e0f7c",
   "metadata": {},
   "source": [
    "I've a feeling that code could be more elegant but it's the weekend so it will do.\n",
    "\n",
    "## Part 2\n",
    "\n",
    "This is starting to make my head hurt."
   ]
  },
  {
   "cell_type": "code",
   "execution_count": 6,
   "id": "04e3d3a7",
   "metadata": {},
   "outputs": [
    {
     "data": {
      "text/plain": [
       "[5, 10, 13, 16, 21, 30, 45]"
      ]
     },
     "execution_count": 6,
     "metadata": {},
     "output_type": "execute_result"
    }
   ],
   "source": [
    "def augment_list(l):\n",
    "    new_lists = [l] + ds(l)\n",
    "    for i in range(len(new_lists) - 1, 0, -1):\n",
    "        new_lists[i - 1] = (\n",
    "            [new_lists[i - 1][0] - new_lists[i][0]] +\n",
    "            new_lists[i - 1] \n",
    "        )\n",
    "    return new_lists[0]\n",
    "\n",
    "augment_list(test_data[-1])"
   ]
  },
  {
   "cell_type": "code",
   "execution_count": 7,
   "id": "3524dcc0",
   "metadata": {},
   "outputs": [],
   "source": [
    "def part_2(data):\n",
    "    return sum(augment_list(l)[0] for l in data)"
   ]
  },
  {
   "cell_type": "code",
   "execution_count": 8,
   "id": "780a1601",
   "metadata": {},
   "outputs": [
    {
     "data": {
      "text/plain": [
       "964"
      ]
     },
     "execution_count": 8,
     "metadata": {},
     "output_type": "execute_result"
    }
   ],
   "source": [
    "part_2(data)"
   ]
  },
  {
   "cell_type": "code",
   "execution_count": null,
   "id": "068ade5d",
   "metadata": {},
   "outputs": [],
   "source": []
  }
 ],
 "metadata": {
  "kernelspec": {
   "display_name": "Python (AoC)",
   "language": "python",
   "name": "advent"
  },
  "language_info": {
   "codemirror_mode": {
    "name": "ipython",
    "version": 3
   },
   "file_extension": ".py",
   "mimetype": "text/x-python",
   "name": "python",
   "nbconvert_exporter": "python",
   "pygments_lexer": "ipython3",
   "version": "3.11.0"
  }
 },
 "nbformat": 4,
 "nbformat_minor": 5
}
