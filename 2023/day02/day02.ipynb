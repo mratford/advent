{
 "cells": [
  {
   "cell_type": "markdown",
   "id": "268eeed3-4573-4b1d-9cb6-43d41b160b24",
   "metadata": {},
   "source": [
    "# Day 2 \n",
    "## Part 1\n",
    "Tedious fiddly parsing to get data in list of dictionaries per id."
   ]
  },
  {
   "cell_type": "code",
   "execution_count": 1,
   "id": "494f7b41-a035-4dd5-bf3d-79a642bc558b",
   "metadata": {},
   "outputs": [
    {
     "data": {
      "text/plain": [
       "{1: [{'blue': 3, 'red': 4}, {'red': 1, 'green': 2, 'blue': 6}, {'green': 2}],\n",
       " 2: [{'blue': 1, 'green': 2},\n",
       "  {'green': 3, 'blue': 4, 'red': 1},\n",
       "  {'green': 1, 'blue': 1}],\n",
       " 3: [{'green': 8, 'blue': 6, 'red': 20},\n",
       "  {'blue': 5, 'red': 4, 'green': 13},\n",
       "  {'green': 5, 'red': 1}],\n",
       " 4: [{'green': 1, 'red': 3, 'blue': 6},\n",
       "  {'green': 3, 'red': 6},\n",
       "  {'green': 3, 'blue': 15, 'red': 14}],\n",
       " 5: [{'red': 6, 'blue': 1, 'green': 3}, {'blue': 2, 'red': 1, 'green': 2}]}"
      ]
     },
     "execution_count": 1,
     "metadata": {},
     "output_type": "execute_result"
    }
   ],
   "source": [
    "def parse_data(s):\n",
    "    lines = s.strip().splitlines()\n",
    "    games = {}\n",
    "    for line in lines:\n",
    "        game_id = int(line.split(\": \")[0].split()[1])\n",
    "        games[game_id] = []\n",
    "        gs = line.split(\": \")[1].split(\"; \")\n",
    "        for g in gs:\n",
    "            cubes = g.strip().split(\", \")\n",
    "            cube_dict = {}\n",
    "            for cube in cubes:\n",
    "                cube_count, cube_colour = cube.split()\n",
    "                cube_dict[cube_colour] = int(cube_count)\n",
    "            games[game_id].append(cube_dict)\n",
    "    return games\n",
    "\n",
    "test_data = parse_data(\"\"\"Game 1: 3 blue, 4 red; 1 red, 2 green, 6 blue; 2 green\n",
    "Game 2: 1 blue, 2 green; 3 green, 4 blue, 1 red; 1 green, 1 blue\n",
    "Game 3: 8 green, 6 blue, 20 red; 5 blue, 4 red, 13 green; 5 green, 1 red\n",
    "Game 4: 1 green, 3 red, 6 blue; 3 green, 6 red; 3 green, 15 blue, 14 red\n",
    "Game 5: 6 red, 1 blue, 3 green; 2 blue, 1 red, 2 green\"\"\")\n",
    "\n",
    "test_data"
   ]
  },
  {
   "cell_type": "code",
   "execution_count": 2,
   "id": "bb6cac4f",
   "metadata": {},
   "outputs": [],
   "source": [
    "def valid_turn(turn):\n",
    "    return (\n",
    "        turn.get(\"red\", 0) <= 12\n",
    "        and turn.get(\"green\", 0) <= 13\n",
    "        and turn.get(\"blue\", 0) <= 14\n",
    "    )\n",
    "\n",
    "def valid_game(game):\n",
    "    return all(valid_turn(turn) for turn in game)\n",
    "\n",
    "def valid_game_ids(games):\n",
    "    return (game_id for game_id in games if valid_game(games[game_id]))\n",
    "\n",
    "def part_1(games):\n",
    "    return sum(valid_game_ids(games))\n",
    "\n",
    "assert part_1(test_data) == 8"
   ]
  },
  {
   "cell_type": "code",
   "execution_count": 3,
   "id": "33536dad",
   "metadata": {},
   "outputs": [
    {
     "data": {
      "text/plain": [
       "2593"
      ]
     },
     "execution_count": 3,
     "metadata": {},
     "output_type": "execute_result"
    }
   ],
   "source": [
    "data = parse_data(open(\"input\").read())\n",
    "\n",
    "part_1(data)"
   ]
  },
  {
   "cell_type": "markdown",
   "id": "11c8728b",
   "metadata": {},
   "source": [
    "## Part 2"
   ]
  },
  {
   "cell_type": "code",
   "execution_count": 4,
   "id": "913fd770",
   "metadata": {},
   "outputs": [],
   "source": [
    "import math\n",
    "\n",
    "def power(game):\n",
    "    return math.prod(\n",
    "        max(turn.get(cube, 0) for turn in game)\n",
    "        for cube in (\"red\", \"green\", \"blue\")\n",
    "    )\n",
    "\n",
    "def part_2(games):\n",
    "    return sum(power(games[game_id]) for game_id in games)\n",
    "\n",
    "assert part_2(test_data) == 2286"
   ]
  },
  {
   "cell_type": "code",
   "execution_count": 5,
   "id": "92520296",
   "metadata": {},
   "outputs": [
    {
     "data": {
      "text/plain": [
       "54699"
      ]
     },
     "execution_count": 5,
     "metadata": {},
     "output_type": "execute_result"
    }
   ],
   "source": [
    "part_2(data)"
   ]
  },
  {
   "cell_type": "code",
   "execution_count": null,
   "id": "e60087cf",
   "metadata": {},
   "outputs": [],
   "source": []
  }
 ],
 "metadata": {
  "kernelspec": {
   "display_name": "Python 3 (ipykernel)",
   "language": "python",
   "name": "python3"
  },
  "language_info": {
   "codemirror_mode": {
    "name": "ipython",
    "version": 3
   },
   "file_extension": ".py",
   "mimetype": "text/x-python",
   "name": "python",
   "nbconvert_exporter": "python",
   "pygments_lexer": "ipython3",
   "version": "3.11.0"
  }
 },
 "nbformat": 4,
 "nbformat_minor": 5
}
