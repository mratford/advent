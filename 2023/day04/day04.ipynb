{
 "cells": [
  {
   "cell_type": "markdown",
   "id": "268eeed3-4573-4b1d-9cb6-43d41b160b24",
   "metadata": {},
   "source": [
    "# Day 4 \n",
    "## Part 1"
   ]
  },
  {
   "cell_type": "code",
   "execution_count": 1,
   "id": "494f7b41-a035-4dd5-bf3d-79a642bc558b",
   "metadata": {},
   "outputs": [
    {
     "data": {
      "text/plain": [
       "{1: Card(winning_numbers={41, 48, 17, 83, 86}, numbers={6, 9, 48, 17, 83, 53, 86, 31}),\n",
       " 2: Card(winning_numbers={32, 13, 16, 20, 61}, numbers={32, 68, 17, 82, 19, 24, 61, 30}),\n",
       " 3: Card(winning_numbers={1, 44, 53, 21, 59}, numbers={1, 69, 72, 14, 16, 82, 21, 63}),\n",
       " 4: Card(winning_numbers={69, 73, 41, 84, 92}, numbers={5, 76, 51, 84, 83, 54, 58, 59}),\n",
       " 5: Card(winning_numbers={32, 83, 87, 26, 28}, numbers={36, 70, 12, 82, 22, 88, 93, 30}),\n",
       " 6: Card(winning_numbers={72, 13, 18, 56, 31}, numbers={35, 67, 36, 74, 10, 11, 77, 23})}"
      ]
     },
     "execution_count": 1,
     "metadata": {},
     "output_type": "execute_result"
    }
   ],
   "source": [
    "from collections import namedtuple\n",
    "\n",
    "Card = namedtuple(\"Card\", \"winning_numbers numbers\")\n",
    "\n",
    "def parse_data(s):\n",
    "    cards = {}\n",
    "    for line in s.strip().splitlines():\n",
    "        card_id, ns = line.split(\":\")\n",
    "        card_no = int(card_id.strip().split()[-1])\n",
    "        wns, card_ns = ns.split(\"|\")\n",
    "        winning_numbers = {int(x) for x in wns.strip().split()}\n",
    "        numbers = {int(x) for x in card_ns.strip().split()}\n",
    "        cards[card_no] = Card(winning_numbers, numbers)\n",
    "    return cards\n",
    "\n",
    "test_data = parse_data(\"\"\"Card 1: 41 48 83 86 17 | 83 86  6 31 17  9 48 53\n",
    "Card 2: 13 32 20 16 61 | 61 30 68 82 17 32 24 19\n",
    "Card 3:  1 21 53 59 44 | 69 82 63 72 16 21 14  1\n",
    "Card 4: 41 92 73 84 69 | 59 84 76 51 58  5 54 83\n",
    "Card 5: 87 83 26 28 32 | 88 30 70 12 93 22 82 36\n",
    "Card 6: 31 18 13 56 72 | 74 77 10 23 35 67 36 11\"\"\")\n",
    "\n",
    "test_data"
   ]
  },
  {
   "cell_type": "code",
   "execution_count": 2,
   "id": "14ab54fb",
   "metadata": {},
   "outputs": [],
   "source": [
    "def card_value(card):\n",
    "    n_winners = len(card.winning_numbers & card.numbers)\n",
    "    if n_winners > 0:\n",
    "        return 2 ** (n_winners - 1)\n",
    "    else:\n",
    "        return 0\n",
    "    \n",
    "def part_1(cards):\n",
    "    return sum(card_value(card) for card in cards.values())\n",
    "\n",
    "assert part_1(test_data) == 13"
   ]
  },
  {
   "cell_type": "code",
   "execution_count": 3,
   "id": "d9312541",
   "metadata": {},
   "outputs": [
    {
     "data": {
      "text/plain": [
       "21213"
      ]
     },
     "execution_count": 3,
     "metadata": {},
     "output_type": "execute_result"
    }
   ],
   "source": [
    "data = parse_data(open(\"input\").read())\n",
    "\n",
    "part_1(data)"
   ]
  },
  {
   "cell_type": "markdown",
   "id": "09f94444",
   "metadata": {},
   "source": [
    "## Part 2\n",
    "Keep track of the count of each scratchcard and go through the cards in order, updating the counts"
   ]
  },
  {
   "cell_type": "code",
   "execution_count": 4,
   "id": "74a6fca4",
   "metadata": {},
   "outputs": [],
   "source": [
    "def part_2(cards):\n",
    "    card_ids = sorted(cards)\n",
    "    card_counts = {card_id: 1 for card_id in card_ids}\n",
    "    for card_id in card_ids:\n",
    "        score = len(cards[card_id].winning_numbers & cards[card_id].numbers)\n",
    "        for extra in range(card_id + 1, card_id + 1 + score):\n",
    "            card_counts[extra] += card_counts[card_id]\n",
    "    return sum(card_counts.values())\n",
    "\n",
    "assert part_2(test_data) == 30"
   ]
  },
  {
   "cell_type": "code",
   "execution_count": 5,
   "id": "23b2453d",
   "metadata": {},
   "outputs": [
    {
     "data": {
      "text/plain": [
       "8549735"
      ]
     },
     "execution_count": 5,
     "metadata": {},
     "output_type": "execute_result"
    }
   ],
   "source": [
    "part_2(data)"
   ]
  },
  {
   "cell_type": "code",
   "execution_count": null,
   "id": "8449fa21",
   "metadata": {},
   "outputs": [],
   "source": []
  }
 ],
 "metadata": {
  "kernelspec": {
   "display_name": "Python 3 (ipykernel)",
   "language": "python",
   "name": "python3"
  },
  "language_info": {
   "codemirror_mode": {
    "name": "ipython",
    "version": 3
   },
   "file_extension": ".py",
   "mimetype": "text/x-python",
   "name": "python",
   "nbconvert_exporter": "python",
   "pygments_lexer": "ipython3",
   "version": "3.11.0"
  }
 },
 "nbformat": 4,
 "nbformat_minor": 5
}
