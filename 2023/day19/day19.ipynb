{
 "cells": [
  {
   "cell_type": "markdown",
   "id": "268eeed3-4573-4b1d-9cb6-43d41b160b24",
   "metadata": {},
   "source": [
    "# Day 19 \n",
    "## Part 1\n",
    "Far too tempting. Let's compile this to Python."
   ]
  },
  {
   "cell_type": "code",
   "execution_count": 1,
   "id": "494f7b41-a035-4dd5-bf3d-79a642bc558b",
   "metadata": {},
   "outputs": [
    {
     "name": "stdout",
     "output_type": "stream",
     "text": [
      "def px(x):\n",
      "    if x[\"a\"] < 2006:\n",
      "        return qkq(x)\n",
      "    if x[\"m\"] > 2090:\n",
      "        return \"A\"\n",
      "    return rfg(x)\n"
     ]
    }
   ],
   "source": [
    "import parse\n",
    "\n",
    "TAB = \"    \"\n",
    "\n",
    "def compile_result(result):\n",
    "    if result in \"AR\":\n",
    "        return f'\"{result}\"'\n",
    "    return f\"{result}(x)\"\n",
    "\n",
    "def compile_workflow(workflow):\n",
    "    lines = []\n",
    "    r = parse.parse(\"{label}{{{rules}}}\", workflow)\n",
    "    if r[\"label\"] != \"in\":\n",
    "        label = r[\"label\"]\n",
    "    else:\n",
    "        label = \"start\"\n",
    "    lines.append(f\"def {label}(x):\")\n",
    "    rules = r[\"rules\"].split(\",\")\n",
    "    for rule in rules[:-1]:\n",
    "        cond, result = rule.split(\":\")\n",
    "        lines.append(TAB + f'if x[\"{cond[0]}\"] {cond[1]} {cond[2:]}:')\n",
    "        lines.append(TAB * 2 + f\"return {compile_result(result)}\")\n",
    "    lines.append(TAB + f\"return {compile_result(rules[-1])}\")\n",
    "    return \"\\n\".join(lines)\n",
    "\n",
    "print(compile_workflow(\"px{a<2006:qkq,m>2090:A,rfg}\"))"
   ]
  },
  {
   "cell_type": "code",
   "execution_count": 2,
   "id": "35762f7d-965a-4fe1-998d-a5ed478868bf",
   "metadata": {},
   "outputs": [
    {
     "data": {
      "text/plain": [
       "'{\"x\":787,\"m\":2655,\"a\":1222,\"s\":2876}'"
      ]
     },
     "execution_count": 2,
     "metadata": {},
     "output_type": "execute_result"
    }
   ],
   "source": [
    "import re\n",
    "\n",
    "def compile_part(part):\n",
    "    return re.sub(r\"(.)=\", r'\"\\1\":', part)\n",
    "\n",
    "compile_part(\"{x=787,m=2655,a=1222,s=2876}\")"
   ]
  },
  {
   "cell_type": "code",
   "execution_count": 3,
   "id": "096acf4b-6bf8-47e5-b4ce-50e938c3ad3a",
   "metadata": {},
   "outputs": [],
   "source": [
    "def compile(input):\n",
    "    workflows, parts = input.split(\"\\n\\n\")\n",
    "    code = \"\\n\\n\".join([\n",
    "        compile_workflow(workflow)\n",
    "        for workflow in workflows.splitlines()\n",
    "    ])\n",
    "    data = (\n",
    "        \"parts = [\\n\" \n",
    "        + \",\\n\".join([\n",
    "            TAB + compile_part(part)\n",
    "            for part in parts.splitlines()\n",
    "        ])\n",
    "        + \"\\n]\\n\"\n",
    "    )\n",
    "    return code + \"\\n\\n\" + data"
   ]
  },
  {
   "cell_type": "code",
   "execution_count": 4,
   "id": "67618251-a3ae-49d7-9bff-8d21abe8a6cf",
   "metadata": {},
   "outputs": [
    {
     "name": "stdout",
     "output_type": "stream",
     "text": [
      "def px(x):\n",
      "    if x[\"a\"] < 2006:\n",
      "        return qkq(x)\n",
      "    if x[\"m\"] > 2090:\n",
      "        return \"A\"\n",
      "    return rfg(x)\n",
      "\n",
      "def pv(x):\n",
      "    if x[\"a\"] > 1716:\n",
      "        return \"R\"\n",
      "    return \"A\"\n",
      "\n",
      "def lnx(x):\n",
      "    if x[\"m\"] > 1548:\n",
      "        return \"A\"\n",
      "    return \"A\"\n",
      "\n",
      "def rfg(x):\n",
      "    if x[\"s\"] < 537:\n",
      "        return gd(x)\n",
      "    if x[\"x\"] > 2440:\n",
      "        return \"R\"\n",
      "    return \"A\"\n",
      "\n",
      "def qs(x):\n",
      "    if x[\"s\"] > 3448:\n",
      "        return \"A\"\n",
      "    return lnx(x)\n",
      "\n",
      "def qkq(x):\n",
      "    if x[\"x\"] < 1416:\n",
      "        return \"A\"\n",
      "    return crn(x)\n",
      "\n",
      "def crn(x):\n",
      "    if x[\"x\"] > 2662:\n",
      "        return \"A\"\n",
      "    return \"R\"\n",
      "\n",
      "def start(x):\n",
      "    if x[\"s\"] < 1351:\n",
      "        return px(x)\n",
      "    return qqz(x)\n",
      "\n",
      "def qqz(x):\n",
      "    if x[\"s\"] > 2770:\n",
      "        return qs(x)\n",
      "    if x[\"m\"] < 1801:\n",
      "        return hdj(x)\n",
      "    return \"R\"\n",
      "\n",
      "def gd(x):\n",
      "    if x[\"a\"] > 3333:\n",
      "        return \"R\"\n",
      "    return \"R\"\n",
      "\n",
      "def hdj(x):\n",
      "    if x[\"m\"] > 838:\n",
      "        return \"A\"\n",
      "    return pv(x)\n",
      "\n",
      "parts = [\n",
      "    {\"x\":787,\"m\":2655,\"a\":1222,\"s\":2876},\n",
      "    {\"x\":1679,\"m\":44,\"a\":2067,\"s\":496},\n",
      "    {\"x\":2036,\"m\":264,\"a\":79,\"s\":2244},\n",
      "    {\"x\":2461,\"m\":1339,\"a\":466,\"s\":291},\n",
      "    {\"x\":2127,\"m\":1623,\"a\":2188,\"s\":1013}\n",
      "]\n",
      "\n"
     ]
    }
   ],
   "source": [
    "test_input = \"\"\"px{a<2006:qkq,m>2090:A,rfg}\n",
    "pv{a>1716:R,A}\n",
    "lnx{m>1548:A,A}\n",
    "rfg{s<537:gd,x>2440:R,A}\n",
    "qs{s>3448:A,lnx}\n",
    "qkq{x<1416:A,crn}\n",
    "crn{x>2662:A,R}\n",
    "in{s<1351:px,qqz}\n",
    "qqz{s>2770:qs,m<1801:hdj,R}\n",
    "gd{a>3333:R,R}\n",
    "hdj{m>838:A,pv}\n",
    "\n",
    "{x=787,m=2655,a=1222,s=2876}\n",
    "{x=1679,m=44,a=2067,s=496}\n",
    "{x=2036,m=264,a=79,s=2244}\n",
    "{x=2461,m=1339,a=466,s=291}\n",
    "{x=2127,m=1623,a=2188,s=1013}\"\"\"\n",
    "\n",
    "print(compile(test_input))"
   ]
  },
  {
   "cell_type": "code",
   "execution_count": 5,
   "id": "38f84a2b-f454-4421-ba29-8d3dc450641b",
   "metadata": {},
   "outputs": [],
   "source": [
    "exec(compile(test_input))"
   ]
  },
  {
   "cell_type": "code",
   "execution_count": 6,
   "id": "3c0d81d0-51f4-4f14-991d-94588ac0fe18",
   "metadata": {},
   "outputs": [
    {
     "data": {
      "text/plain": [
       "[7540, 4623, 6951]"
      ]
     },
     "execution_count": 6,
     "metadata": {},
     "output_type": "execute_result"
    }
   ],
   "source": [
    "[sum(part.values()) for part in parts if start(part) == \"A\"]"
   ]
  },
  {
   "cell_type": "code",
   "execution_count": 7,
   "id": "043216cd-d60f-40ab-bf38-3da3f06b263b",
   "metadata": {},
   "outputs": [],
   "source": [
    "def part_1(input):\n",
    "    # this is so bad\n",
    "    exec(compile(input), globals())\n",
    "    return sum(sum(part.values()) for part in parts if start(part) == \"A\")\n",
    "\n",
    "assert part_1(test_input) == 19114"
   ]
  },
  {
   "cell_type": "code",
   "execution_count": 8,
   "id": "b540898b-88f2-430d-a424-c61490f4d6d3",
   "metadata": {},
   "outputs": [
    {
     "data": {
      "text/plain": [
       "330820"
      ]
     },
     "execution_count": 8,
     "metadata": {},
     "output_type": "execute_result"
    }
   ],
   "source": [
    "input = open(\"input\").read()\n",
    "\n",
    "part_1(input)"
   ]
  },
  {
   "cell_type": "markdown",
   "id": "17a3935f-0e6a-4ffc-ba63-ee5ac58f138a",
   "metadata": {},
   "source": [
    "## Part 2\n",
    "Well that approach was fun but isn't going to be useful for this. Start again. "
   ]
  },
  {
   "cell_type": "code",
   "execution_count": 9,
   "id": "21acac94-976d-424c-8944-b10dba804222",
   "metadata": {},
   "outputs": [
    {
     "data": {
      "text/plain": [
       "defaultdict(list,\n",
       "            {'px': [('a', '<', 2006, 'qkq'), ('m', '>', 2090, 'A'), ('rfg',)],\n",
       "             'pv': [('a', '>', 1716, 'R'), ('A',)],\n",
       "             'lnx': [('m', '>', 1548, 'A'), ('A',)],\n",
       "             'rfg': [('s', '<', 537, 'gd'), ('x', '>', 2440, 'R'), ('A',)],\n",
       "             'qs': [('s', '>', 3448, 'A'), ('lnx',)],\n",
       "             'qkq': [('x', '<', 1416, 'A'), ('crn',)],\n",
       "             'crn': [('x', '>', 2662, 'A'), ('R',)],\n",
       "             'in': [('s', '<', 1351, 'px'), ('qqz',)],\n",
       "             'qqz': [('s', '>', 2770, 'qs'), ('m', '<', 1801, 'hdj'), ('R',)],\n",
       "             'gd': [('a', '>', 3333, 'R'), ('R',)],\n",
       "             'hdj': [('m', '>', 838, 'A'), ('pv',)]})"
      ]
     },
     "execution_count": 9,
     "metadata": {},
     "output_type": "execute_result"
    }
   ],
   "source": [
    "from collections import defaultdict, namedtuple\n",
    "\n",
    "def parse_data(input):\n",
    "    workflows = defaultdict(list)\n",
    "    lines = input.strip().split(\"\\n\\n\")[0].splitlines()\n",
    "    for line in lines:\n",
    "        r = parse.parse(\"{label}{{{rules}}}\", line)\n",
    "        rules = r[\"rules\"].split(\",\")\n",
    "        for rule in rules[:-1]:\n",
    "            comp, res = rule.split(\":\")\n",
    "            workflows[r[\"label\"]].append((\n",
    "                comp[0], \n",
    "                comp[1], \n",
    "                int(comp[2:]),\n",
    "                res\n",
    "            ))\n",
    "        workflows[r[\"label\"]].append((rules[-1],))\n",
    "    return workflows\n",
    "\n",
    "parse_data(test_input)"
   ]
  },
  {
   "cell_type": "markdown",
   "id": "ffc8cdd5-b51e-46f2-afb2-1d1cd4ebc671",
   "metadata": {},
   "source": [
    "Use intervals with minimum and maximum values to track the possible values through the control flow. When hitting an \"A\" add the product of the size of the intervals, i.e. the number of combinations of values that could hit that \"A\"."
   ]
  },
  {
   "cell_type": "code",
   "execution_count": 10,
   "id": "45b41233-dea0-4e4f-babb-723470773d08",
   "metadata": {},
   "outputs": [],
   "source": [
    "from pyrsistent import pmap\n",
    "import math\n",
    "\n",
    "Interval = namedtuple(\"Interval\", \"min max\")\n",
    "\n",
    "def part_2(input):\n",
    "    workflows = parse_data(input)\n",
    "\n",
    "    def sum_acceptable(workflow, intervals):\n",
    "        if workflow == \"R\" or any(\n",
    "            intervals[i].min > intervals[i].max \n",
    "            for i in intervals\n",
    "        ):\n",
    "            return 0\n",
    "        if workflow == \"A\":\n",
    "            return math.prod(\n",
    "                max(intervals[i].max - intervals[i].min + 1, 0)\n",
    "                for i in intervals\n",
    "            )\n",
    "        total = 0\n",
    "        for w in workflows[workflow]:\n",
    "            match w:\n",
    "                case (\"R\",):\n",
    "                    pass\n",
    "                case (\"A\",):\n",
    "                    total += math.prod(\n",
    "                        max(intervals[i].max - intervals[i].min + 1, 0)\n",
    "                        for i in intervals\n",
    "                    )\n",
    "                case (wf,):\n",
    "                    total += sum_acceptable(wf, intervals)\n",
    "                case (rating, op, n, res):\n",
    "                    i = intervals[rating]\n",
    "                    if op == \"<\":\n",
    "                        new_intervals = intervals.set(rating, Interval(i.min, min(i.max, n - 1)))\n",
    "                        intervals = intervals.set(rating, Interval(n, i.max))\n",
    "                    elif op == \">\":\n",
    "                        new_intervals = intervals.set(rating, Interval(max(i.min, n + 1), i.max))\n",
    "                        intervals = intervals.set(rating, Interval(i.min, n))\n",
    "                    total += sum_acceptable(res, new_intervals)\n",
    "        return total\n",
    "    \n",
    "    intervals = pmap({c: Interval(1, 4000) for c in \"xmas\"})\n",
    "    return sum_acceptable(\"in\", intervals) \n",
    "\n",
    "assert part_2(test_input) == 167409079868000"
   ]
  },
  {
   "cell_type": "code",
   "execution_count": 11,
   "id": "c1b178cd-63c7-4fcb-8971-20777a3b592d",
   "metadata": {},
   "outputs": [
    {
     "data": {
      "text/plain": [
       "123972546935551"
      ]
     },
     "execution_count": 11,
     "metadata": {},
     "output_type": "execute_result"
    }
   ],
   "source": [
    "part_2(input)"
   ]
  },
  {
   "cell_type": "markdown",
   "id": "8e593cbb-23b3-4836-a63a-2272b31e9679",
   "metadata": {},
   "source": [
    "Unbelievably that code worked first time, which is always a treat."
   ]
  },
  {
   "cell_type": "code",
   "execution_count": null,
   "id": "ad947ccd-9dea-4c68-88ba-56ae00331e88",
   "metadata": {},
   "outputs": [],
   "source": []
  }
 ],
 "metadata": {
  "kernelspec": {
   "display_name": "Python 3 (ipykernel)",
   "language": "python",
   "name": "python3"
  },
  "language_info": {
   "codemirror_mode": {
    "name": "ipython",
    "version": 3
   },
   "file_extension": ".py",
   "mimetype": "text/x-python",
   "name": "python",
   "nbconvert_exporter": "python",
   "pygments_lexer": "ipython3",
   "version": "3.11.0"
  }
 },
 "nbformat": 4,
 "nbformat_minor": 5
}
