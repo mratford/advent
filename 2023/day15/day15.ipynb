{
 "cells": [
  {
   "cell_type": "markdown",
   "id": "268eeed3-4573-4b1d-9cb6-43d41b160b24",
   "metadata": {},
   "source": [
    "# Day 15 \n",
    "## Part 1"
   ]
  },
  {
   "cell_type": "code",
   "execution_count": 5,
   "id": "494f7b41-a035-4dd5-bf3d-79a642bc558b",
   "metadata": {},
   "outputs": [
    {
     "data": {
      "text/plain": [
       "52"
      ]
     },
     "execution_count": 5,
     "metadata": {},
     "output_type": "execute_result"
    }
   ],
   "source": [
    "def parse_data(s):\n",
    "    return s.strip().split(\",\")\n",
    "\n",
    "def hash(s):\n",
    "    current_value = 0\n",
    "    for c in s:\n",
    "        current_value = ((current_value + ord(c)) * 17) % 256\n",
    "    return current_value\n",
    "\n",
    "test_data = parse_data(\"rn=1,cm-,qp=3,cm=2,qp-,pc=4,ot=9,ab=5,pc-,pc=6,ot=7\")\n",
    "\n",
    "hash(\"HASH\")"
   ]
  },
  {
   "cell_type": "code",
   "execution_count": 6,
   "id": "ce3ad9b9",
   "metadata": {},
   "outputs": [],
   "source": [
    "def part_1(data):\n",
    "    return sum(hash(s) for s in data)\n",
    "\n",
    "assert part_1(test_data) == 1320"
   ]
  },
  {
   "cell_type": "code",
   "execution_count": 7,
   "id": "44b1ce2c",
   "metadata": {},
   "outputs": [
    {
     "data": {
      "text/plain": [
       "515495"
      ]
     },
     "execution_count": 7,
     "metadata": {},
     "output_type": "execute_result"
    }
   ],
   "source": [
    "data = parse_data(open(\"input\").read())\n",
    "\n",
    "part_1(data)"
   ]
  },
  {
   "cell_type": "markdown",
   "id": "a17c1dfe",
   "metadata": {},
   "source": [
    "## Part 2\n",
    "u wot m8"
   ]
  },
  {
   "cell_type": "code",
   "execution_count": 19,
   "id": "edfe16f5",
   "metadata": {},
   "outputs": [],
   "source": [
    "from collections import defaultdict, namedtuple\n",
    "from itertools import count\n",
    "import pprint\n",
    "\n",
    "pp = pprint.PrettyPrinter(indent=4)\n",
    "\n",
    "Lens = namedtuple(\"Lens\", \"label focal_length\")\n",
    "\n",
    "def find_lens(l, label):\n",
    "    for i, lens in enumerate(l):\n",
    "        if label == lens.label:\n",
    "            return i\n",
    "    return None\n",
    "\n",
    "def part_2(data):\n",
    "    boxes = defaultdict(list)\n",
    "    for s in data:\n",
    "        if \"=\" in s:\n",
    "            label, focal_length = s.split(\"=\")\n",
    "            lens = Lens(label, int(focal_length))\n",
    "            box = hash(label)\n",
    "            if (i := find_lens(boxes[box], label)) is not None:\n",
    "                boxes[box][i] = lens\n",
    "            else:\n",
    "                boxes[box].append(lens)\n",
    "        else:\n",
    "            label = s.rstrip(\"-\")\n",
    "            box = hash(label)\n",
    "            if (i := find_lens(boxes[box], label)) is not None:\n",
    "                boxes[box].pop(i)\n",
    "\n",
    "    total = 0\n",
    "    for box in boxes:\n",
    "        for slot, lens in zip(count(1), boxes[box]):\n",
    "            total += (box + 1) * slot * lens.focal_length\n",
    "    return total\n",
    "\n",
    "assert part_2(test_data) == 145"
   ]
  },
  {
   "cell_type": "code",
   "execution_count": 20,
   "id": "02f7cbbd",
   "metadata": {},
   "outputs": [
    {
     "data": {
      "text/plain": [
       "229349"
      ]
     },
     "execution_count": 20,
     "metadata": {},
     "output_type": "execute_result"
    }
   ],
   "source": [
    "part_2(data)"
   ]
  },
  {
   "cell_type": "code",
   "execution_count": null,
   "id": "14b5cc69",
   "metadata": {},
   "outputs": [],
   "source": []
  }
 ],
 "metadata": {
  "kernelspec": {
   "display_name": "Python (AoC)",
   "language": "python",
   "name": "advent"
  },
  "language_info": {
   "codemirror_mode": {
    "name": "ipython",
    "version": 3
   },
   "file_extension": ".py",
   "mimetype": "text/x-python",
   "name": "python",
   "nbconvert_exporter": "python",
   "pygments_lexer": "ipython3",
   "version": "3.11.0"
  }
 },
 "nbformat": 4,
 "nbformat_minor": 5
}
