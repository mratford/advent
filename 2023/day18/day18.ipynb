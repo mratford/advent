{
 "cells": [
  {
   "cell_type": "markdown",
   "id": "268eeed3-4573-4b1d-9cb6-43d41b160b24",
   "metadata": {},
   "source": [
    "# Day 18 \n",
    "## Part 1\n",
    "\n",
    "I really need a library of utilities rather than copying and pasting this every time.\n",
    "\n",
    "Fill the trench in the same way as in day 10, i.e. do a search and one that doesn't hit a boundary contains the inner points.\n",
    "\n",
    "I've a horrible feeling Part 2 will consist of doing this for an enormous number of steps, not sure how I'll deal with that."
   ]
  },
  {
   "cell_type": "code",
   "execution_count": 1,
   "id": "494f7b41-a035-4dd5-bf3d-79a642bc558b",
   "metadata": {},
   "outputs": [],
   "source": [
    "from dataclasses import dataclass\n",
    "\n",
    "@dataclass\n",
    "class Point:\n",
    "    x: int\n",
    "    y: int\n",
    "\n",
    "    def __add__(self, other):\n",
    "        return self.__class__(self.x + other.x, self.y + other.y)\n",
    "\n",
    "    def __sub__(self, other):\n",
    "        return self.__class__(self.x - other.x, self.y - other.y)\n",
    "\n",
    "    def __neg__(self):\n",
    "        return self.__class__(-self.x, -self.y)\n",
    "\n",
    "    def __hash__(self):\n",
    "        return hash((self.x, self.y))\n",
    "\n",
    "    def __lt__(self, other):\n",
    "        if self.x < other.x:\n",
    "            return True\n",
    "        elif self.x > other.x:\n",
    "            return False\n",
    "        else:\n",
    "            return self.y < other.y\n",
    "\n",
    "    def __iter__(self):\n",
    "        yield self.x\n",
    "        yield self.y\n",
    "\n",
    "    def __mod__(self, other):\n",
    "        if isinstance(other, Point):\n",
    "            return self.__class__(self.x % other.x, self.y % other.y)\n",
    "        else:\n",
    "            return self.__class__(self.x % other, self.y % other)\n",
    "        \n",
    "    def __mul__(self, multiple):\n",
    "        return self.__class__(self.x * multiple, self.y * multiple)\n",
    "    \n",
    "    def __eq__(self, other):\n",
    "        return self.x == other.x and self.y == other.y\n",
    "    \n",
    "\n",
    "N = Point(0, 1)\n",
    "S = Point(0, -1)\n",
    "W = Point(-1, 0)\n",
    "E = Point(1, 0)\n",
    "\n",
    "\n",
    "def manhattan_distance(p1, p2):\n",
    "    return abs(p1.x - p2.x) + abs(p1.y - p2.y)"
   ]
  },
  {
   "cell_type": "code",
   "execution_count": 2,
   "id": "c83207e5-2417-4c1e-8aa7-048485f943de",
   "metadata": {},
   "outputs": [
    {
     "data": {
      "text/plain": [
       "[{'direction': 'R', 'steps': 6, 'colour': 7390992},\n",
       " {'direction': 'D', 'steps': 5, 'colour': 902513},\n",
       " {'direction': 'L', 'steps': 2, 'colour': 5706736},\n",
       " {'direction': 'D', 'steps': 2, 'colour': 13811841},\n",
       " {'direction': 'R', 'steps': 2, 'colour': 5883520},\n",
       " {'direction': 'D', 'steps': 2, 'colour': 4266897},\n",
       " {'direction': 'L', 'steps': 5, 'colour': 9236194},\n",
       " {'direction': 'U', 'steps': 2, 'colour': 13279603},\n",
       " {'direction': 'L', 'steps': 1, 'colour': 1792162},\n",
       " {'direction': 'U', 'steps': 2, 'colour': 13279601},\n",
       " {'direction': 'R', 'steps': 2, 'colour': 7866322},\n",
       " {'direction': 'U', 'steps': 3, 'colour': 10977187},\n",
       " {'direction': 'L', 'steps': 2, 'colour': 86578},\n",
       " {'direction': 'U', 'steps': 2, 'colour': 8004067}]"
      ]
     },
     "execution_count": 2,
     "metadata": {},
     "output_type": "execute_result"
    }
   ],
   "source": [
    "import parse\n",
    "\n",
    "def parse_data(input):\n",
    "    instructions = []\n",
    "    for line in input.strip().splitlines():\n",
    "        r = parse.parse(\"{direction} {steps:d} ({colour:x})\", line.replace('#', '0x'))\n",
    "        instructions.append(r.named)\n",
    "    return instructions\n",
    "\n",
    "test_data = parse_data(\"\"\"R 6 (#70c710)\n",
    "D 5 (#0dc571)\n",
    "L 2 (#5713f0)\n",
    "D 2 (#d2c081)\n",
    "R 2 (#59c680)\n",
    "D 2 (#411b91)\n",
    "L 5 (#8ceee2)\n",
    "U 2 (#caa173)\n",
    "L 1 (#1b58a2)\n",
    "U 2 (#caa171)\n",
    "R 2 (#7807d2)\n",
    "U 3 (#a77fa3)\n",
    "L 2 (#015232)\n",
    "U 2 (#7a21e3)\"\"\")\n",
    "\n",
    "test_data"
   ]
  },
  {
   "cell_type": "code",
   "execution_count": 3,
   "id": "97b25c73-3ae0-495f-9d55-7c4f8b3a08af",
   "metadata": {},
   "outputs": [],
   "source": [
    "directions = {\n",
    "    \"R\": E,\n",
    "    \"L\": W,\n",
    "    \"U\": N,\n",
    "    \"D\": S\n",
    "}\n",
    "\n",
    "def dig_trench(instructions):\n",
    "    trench = {}\n",
    "    p = Point(0, 0)\n",
    "    for i in instructions:\n",
    "        for _ in range(i[\"steps\"]):\n",
    "            p += directions[i[\"direction\"]]\n",
    "            trench[p] = i[\"colour\"]\n",
    "    return trench\n",
    "\n",
    "test_trench = dig_trench(test_data)\n",
    "assert len(test_trench) == 38\n",
    "\n",
    "def print_points(ps):\n",
    "    lines = []\n",
    "    min_x = min(p.x for p in ps)\n",
    "    max_x = max(p.x for p in ps)\n",
    "    min_y = min(p.y for p in ps)\n",
    "    max_y = max(p.y for p in ps)\n",
    "    for y in range(max_y, min_y - 1, -1):\n",
    "        lines.append(\n",
    "            \"\".join(\n",
    "                \"#\" if Point(x, y) in ps else \".\"\n",
    "                for x in range(min_x, max_x + 1)\n",
    "            )\n",
    "        )\n",
    "    print(\"\\n\".join(lines))"
   ]
  },
  {
   "cell_type": "code",
   "execution_count": 4,
   "id": "d0312908-b18c-49b0-92e4-d2e55d55be96",
   "metadata": {},
   "outputs": [],
   "source": [
    "from copy import deepcopy\n",
    "\n",
    "def fill_trench(trench):\n",
    "    ps = deepcopy(trench)\n",
    "    min_x = min(p.x for p in ps)\n",
    "    max_x = max(p.x for p in ps)\n",
    "    min_y = min(p.y for p in ps)\n",
    "    max_y = max(p.y for p in ps)\n",
    "\n",
    "    inner = set()\n",
    "    outer = set()\n",
    "    \n",
    "    n = 0\n",
    "    \n",
    "    for x in range(min_x, max_x + 1):\n",
    "        for y in range(min_y, max_y + 1):\n",
    "            p = Point(x, y)\n",
    "            if p not in ps and p not in inner and p not in outer:\n",
    "                q = [p]\n",
    "                connected = {p}\n",
    "                hit_boundary = False\n",
    "                while q:\n",
    "                    loc = q.pop()\n",
    "                    for d in (N, S, E, W):\n",
    "                        nbr = loc + d\n",
    "                        if nbr not in ps and nbr not in connected:\n",
    "                            if min_x <= nbr.x <= max_x and min_y <= nbr.y <= max_y:\n",
    "                                q.append(nbr)\n",
    "                                connected.add(nbr)\n",
    "                                n += 1\n",
    "                            else:\n",
    "                                hit_boundary = True\n",
    "                if not hit_boundary:\n",
    "                    inner.update(connected)\n",
    "                else:\n",
    "                    outer.update(connected)\n",
    "\n",
    "    for i in inner:\n",
    "        ps[i] = 0\n",
    "\n",
    "    return(ps)\n",
    "\n",
    "def part_1(data):\n",
    "    return len(fill_trench(dig_trench(data)))\n",
    "\n",
    "assert part_1(test_data) == 62"
   ]
  },
  {
   "cell_type": "code",
   "execution_count": 5,
   "id": "e7b25802-07c1-47d4-b07b-b96e62673654",
   "metadata": {},
   "outputs": [
    {
     "data": {
      "text/plain": [
       "74074"
      ]
     },
     "execution_count": 5,
     "metadata": {},
     "output_type": "execute_result"
    }
   ],
   "source": [
    "data = parse_data(open(\"input\").read())\n",
    "\n",
    "part_1(data)"
   ]
  },
  {
   "cell_type": "code",
   "execution_count": 6,
   "id": "cb7dad94-85a2-4628-8e5f-2c4516094242",
   "metadata": {},
   "outputs": [
    {
     "name": "stdout",
     "output_type": "stream",
     "text": [
      "CPU times: user 1.06 s, sys: 16.7 ms, total: 1.08 s\n",
      "Wall time: 1.08 s\n"
     ]
    },
    {
     "data": {
      "text/plain": [
       "74074"
      ]
     },
     "execution_count": 6,
     "metadata": {},
     "output_type": "execute_result"
    }
   ],
   "source": [
    "%%time\n",
    "\n",
    "part_1(data)"
   ]
  },
  {
   "cell_type": "markdown",
   "id": "569c4500-1ff6-4c75-9e48-fb369486ed22",
   "metadata": {},
   "source": [
    "## Part 2\n",
    "\n",
    "Of course. Will have to track the coordinates of the corners somehow and do something with overlaps, at a guess."
   ]
  },
  {
   "cell_type": "code",
   "execution_count": null,
   "id": "3691a93e-3aa3-46b7-84b0-9ff0e060b20b",
   "metadata": {},
   "outputs": [],
   "source": []
  }
 ],
 "metadata": {
  "kernelspec": {
   "display_name": "Python (AoC)",
   "language": "python",
   "name": "advent"
  },
  "language_info": {
   "codemirror_mode": {
    "name": "ipython",
    "version": 3
   },
   "file_extension": ".py",
   "mimetype": "text/x-python",
   "name": "python",
   "nbconvert_exporter": "python",
   "pygments_lexer": "ipython3",
   "version": "3.11.0"
  }
 },
 "nbformat": 4,
 "nbformat_minor": 5
}
