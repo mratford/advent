{
 "cells": [
  {
   "cell_type": "markdown",
   "id": "268eeed3-4573-4b1d-9cb6-43d41b160b24",
   "metadata": {},
   "source": [
    "# Day 14 \n",
    "## Part 1\n",
    "Roll by splitting a column by immobile rocks and for each section putting the rolling rocks at the start."
   ]
  },
  {
   "cell_type": "code",
   "execution_count": 6,
   "id": "494f7b41-a035-4dd5-bf3d-79a642bc558b",
   "metadata": {},
   "outputs": [],
   "source": [
    "def parse_data(s):\n",
    "    return s.strip().splitlines()\n",
    "\n",
    "def roll_north(column):\n",
    "    sections = column.split(\"#\")\n",
    "    return \"#\".join(\n",
    "        [\n",
    "            section.count(\"O\") * \"O\" + section.count(\".\") * \".\"\n",
    "            for section in sections\n",
    "        ]\n",
    "    )\n",
    "\n",
    "def north_load(column):\n",
    "    return sum(\n",
    "        l \n",
    "        for c, l in zip(column, range(len(column), 0, -1))\n",
    "        if c == \"O\"\n",
    "    )\n",
    "\n",
    "def part_1(data):\n",
    "    return sum(\n",
    "        north_load(roll_north(\"\".join(column)))\n",
    "        for column in zip(*data)\n",
    "    )\n",
    "\n",
    "test_data = parse_data(\"\"\"O....#....\n",
    "O.OO#....#\n",
    ".....##...\n",
    "OO.#O....O\n",
    ".O.....O#.\n",
    "O.#..O.#.#\n",
    "..O..#O..O\n",
    ".......O..\n",
    "#....###..\n",
    "#OO..#....\"\"\")\n",
    "\n",
    "assert part_1(test_data) == 136"
   ]
  },
  {
   "cell_type": "code",
   "execution_count": 8,
   "id": "46e14ee5",
   "metadata": {},
   "outputs": [
    {
     "data": {
      "text/plain": [
       "103333"
      ]
     },
     "execution_count": 8,
     "metadata": {},
     "output_type": "execute_result"
    }
   ],
   "source": [
    "data = parse_data(open(\"input\").read())\n",
    "\n",
    "part_1(data)"
   ]
  },
  {
   "cell_type": "markdown",
   "id": "cf522227",
   "metadata": {},
   "source": [
    "## Part 2\n",
    "Find a cycle within the cycles by looking for a repeated map and doing modular arithmetic.\n",
    "\n",
    "First define the different rolls and cycle."
   ]
  },
  {
   "cell_type": "code",
   "execution_count": 34,
   "id": "13fa18e5",
   "metadata": {},
   "outputs": [
    {
     "data": {
      "text/plain": [
       "['OOOO.#.O..',\n",
       " 'OO..#....#',\n",
       " 'OO..O##..O',\n",
       " 'O..#.OO...',\n",
       " '........#.',\n",
       " '..#....#.#',\n",
       " '..O..#.O.O',\n",
       " '..O.......',\n",
       " '#....###..',\n",
       " '#....#....']"
      ]
     },
     "execution_count": 34,
     "metadata": {},
     "output_type": "execute_result"
    }
   ],
   "source": [
    "roll = roll_north\n",
    "\n",
    "def spin_north(data):\n",
    "    new_cols = [\n",
    "        roll(\"\".join(column))\n",
    "        for column in zip(*data)\n",
    "    ]\n",
    "    return [\"\".join(r) for r in zip(*new_cols)]\n",
    "\n",
    "n = spin_north(test_data)\n",
    "n"
   ]
  },
  {
   "cell_type": "code",
   "execution_count": 25,
   "id": "de31953d",
   "metadata": {},
   "outputs": [
    {
     "data": {
      "text/plain": [
       "['.OOOO#...O',\n",
       " '..OO#....#',\n",
       " '..OOO##..O',\n",
       " '..O#....OO',\n",
       " '........#.',\n",
       " '..#....#.#',\n",
       " '....O#..OO',\n",
       " '.........O',\n",
       " '#....###..',\n",
       " '#....#....']"
      ]
     },
     "execution_count": 25,
     "metadata": {},
     "output_type": "execute_result"
    }
   ],
   "source": [
    "def sreversed(xs):\n",
    "    return \"\".join(list(reversed(xs)))\n",
    "\n",
    "def spin_east(data):\n",
    "    new_rows = [\n",
    "        sreversed(roll(sreversed(column)))\n",
    "        for column in data\n",
    "    ]\n",
    "    return new_rows\n",
    "\n",
    "e = spin_east(n)\n",
    "e"
   ]
  },
  {
   "cell_type": "code",
   "execution_count": 26,
   "id": "1a820a89",
   "metadata": {},
   "outputs": [
    {
     "data": {
      "text/plain": [
       "['...OO#...O',\n",
       " '..OO#....#',\n",
       " '..OO.##...',\n",
       " '..O#....OO',\n",
       " '..O.....#O',\n",
       " '..#....#.#',\n",
       " '.....#....',\n",
       " '..........',\n",
       " '#...O###.O',\n",
       " '#O..O#..OO']"
      ]
     },
     "execution_count": 26,
     "metadata": {},
     "output_type": "execute_result"
    }
   ],
   "source": [
    "def spin_south(data):\n",
    "    new_cols = [\n",
    "        sreversed(roll(sreversed(column)))\n",
    "        for column in zip(*data)\n",
    "    ]\n",
    "    return [\"\".join(r) for r in zip(*new_cols)]\n",
    "\n",
    "s = spin_south(e)\n",
    "s"
   ]
  },
  {
   "cell_type": "code",
   "execution_count": 28,
   "id": "e225f669",
   "metadata": {},
   "outputs": [
    {
     "data": {
      "text/plain": [
       "['OO...#O...',\n",
       " 'OO..#....#',\n",
       " 'OO...##...',\n",
       " 'O..#OO....',\n",
       " 'O.......#O',\n",
       " '..#....#.#',\n",
       " '.....#....',\n",
       " '..........',\n",
       " '#O...###O.',\n",
       " '#OO..#OO..']"
      ]
     },
     "execution_count": 28,
     "metadata": {},
     "output_type": "execute_result"
    }
   ],
   "source": [
    "def spin_west(data):\n",
    "    new_rows = [\n",
    "        roll(column)\n",
    "        for column in data\n",
    "    ]\n",
    "    return new_rows\n",
    "\n",
    "w = spin_west(s)\n",
    "w"
   ]
  },
  {
   "cell_type": "markdown",
   "id": "472bebf4",
   "metadata": {},
   "source": [
    "Oops, going clockwise there, should be anti-clockwise."
   ]
  },
  {
   "cell_type": "code",
   "execution_count": 33,
   "id": "32b501b3",
   "metadata": {},
   "outputs": [
    {
     "data": {
      "text/plain": [
       "['.....#....',\n",
       " '....#...O#',\n",
       " '...OO##...',\n",
       " '.OO#......',\n",
       " '.....OOO#.',\n",
       " '.O#...O#.#',\n",
       " '....O#....',\n",
       " '......OOOO',\n",
       " '#...O###..',\n",
       " '#..OO#....']"
      ]
     },
     "execution_count": 33,
     "metadata": {},
     "output_type": "execute_result"
    }
   ],
   "source": [
    "def compose(*fs):\n",
    "    def composed(x):\n",
    "        for f in fs:\n",
    "            x = f(x)\n",
    "        return x\n",
    "    return composed\n",
    "\n",
    "cycle = compose(spin_north, spin_west, spin_south, spin_east)\n",
    "\n",
    "cycle(test_data)"
   ]
  },
  {
   "cell_type": "markdown",
   "id": "24bd349f",
   "metadata": {},
   "source": [
    "Find out when a cycle repeats."
   ]
  },
  {
   "cell_type": "code",
   "execution_count": 53,
   "id": "7508382e",
   "metadata": {},
   "outputs": [
    {
     "data": {
      "text/plain": [
       "(3, 7)"
      ]
     },
     "execution_count": 53,
     "metadata": {},
     "output_type": "execute_result"
    }
   ],
   "source": [
    "def find_cycle(data):\n",
    "    n = 0\n",
    "    seen = {tuple(data): 0}\n",
    "\n",
    "    while True:\n",
    "        data = cycle(data)\n",
    "        n += 1\n",
    "        t = tuple(data)\n",
    "        if t in seen:\n",
    "            return seen[t], n - seen[t]\n",
    "        seen[t] = n\n",
    "        \n",
    "find_cycle(test_data)"
   ]
  },
  {
   "cell_type": "markdown",
   "id": "3e1985c7",
   "metadata": {},
   "source": [
    "Use the cycle start and cycle length to find the number of full spins to get to the same map as after the big number. Inefficiently repeat those spins to get the map."
   ]
  },
  {
   "cell_type": "code",
   "execution_count": 66,
   "id": "c22e1192",
   "metadata": {},
   "outputs": [
    {
     "name": "stdout",
     "output_type": "stream",
     "text": [
      "3 7 6\n"
     ]
    }
   ],
   "source": [
    "def load(data):\n",
    "    total = 0\n",
    "    for n, line in zip(range(len(data), 0, -1), data):\n",
    "        total += line.count(\"O\") * n\n",
    "    return total\n",
    "\n",
    "def part_2(data):\n",
    "    cycle_start, cycle_length = find_cycle(data)\n",
    "    i = cycle_start + ((1000000000 - cycle_start) % cycle_length)\n",
    "    print(cycle_start, cycle_length, i)\n",
    "    for n in range(i):\n",
    "        data = cycle(data)\n",
    "    return load(data)\n",
    "\n",
    "assert part_2(test_data) == 64"
   ]
  },
  {
   "cell_type": "code",
   "execution_count": 68,
   "id": "60fd4211",
   "metadata": {},
   "outputs": [
    {
     "name": "stdout",
     "output_type": "stream",
     "text": [
      "99 36 100\n",
      "CPU times: user 1.12 s, sys: 5.77 ms, total: 1.12 s\n",
      "Wall time: 1.12 s\n"
     ]
    },
    {
     "data": {
      "text/plain": [
       "97241"
      ]
     },
     "execution_count": 68,
     "metadata": {},
     "output_type": "execute_result"
    }
   ],
   "source": [
    "%%time\n",
    "\n",
    "part_2(data)"
   ]
  },
  {
   "cell_type": "markdown",
   "id": "f8733333",
   "metadata": {},
   "source": [
    "I've gone for ease of coding over efficiency in this one."
   ]
  },
  {
   "cell_type": "code",
   "execution_count": null,
   "id": "26d09b9f",
   "metadata": {},
   "outputs": [],
   "source": []
  }
 ],
 "metadata": {
  "kernelspec": {
   "display_name": "Python (AoC)",
   "language": "python",
   "name": "advent"
  },
  "language_info": {
   "codemirror_mode": {
    "name": "ipython",
    "version": 3
   },
   "file_extension": ".py",
   "mimetype": "text/x-python",
   "name": "python",
   "nbconvert_exporter": "python",
   "pygments_lexer": "ipython3",
   "version": "3.11.0"
  }
 },
 "nbformat": 4,
 "nbformat_minor": 5
}
