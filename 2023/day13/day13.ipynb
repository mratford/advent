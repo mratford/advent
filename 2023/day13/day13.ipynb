{
 "cells": [
  {
   "cell_type": "markdown",
   "id": "268eeed3-4573-4b1d-9cb6-43d41b160b24",
   "metadata": {},
   "source": [
    "# Day 13 \n",
    "## Part 1\n",
    "There are just about too many inputs to eyeball. Use numpy for ease of access to columns."
   ]
  },
  {
   "cell_type": "code",
   "execution_count": 1,
   "id": "494f7b41-a035-4dd5-bf3d-79a642bc558b",
   "metadata": {},
   "outputs": [
    {
     "data": {
      "text/plain": [
       "[array([[1, 0, 1, 1, 0, 0, 1, 1, 0],\n",
       "        [0, 0, 1, 0, 1, 1, 0, 1, 0],\n",
       "        [1, 1, 0, 0, 0, 0, 0, 0, 1],\n",
       "        [1, 1, 0, 0, 0, 0, 0, 0, 1],\n",
       "        [0, 0, 1, 0, 1, 1, 0, 1, 0],\n",
       "        [0, 0, 1, 1, 0, 0, 1, 1, 0],\n",
       "        [1, 0, 1, 0, 1, 1, 0, 1, 0]]),\n",
       " array([[1, 0, 0, 0, 1, 1, 0, 0, 1],\n",
       "        [1, 0, 0, 0, 0, 1, 0, 0, 1],\n",
       "        [0, 0, 1, 1, 0, 0, 1, 1, 1],\n",
       "        [1, 1, 1, 1, 1, 0, 1, 1, 0],\n",
       "        [1, 1, 1, 1, 1, 0, 1, 1, 0],\n",
       "        [0, 0, 1, 1, 0, 0, 1, 1, 1],\n",
       "        [1, 0, 0, 0, 0, 1, 0, 0, 1]])]"
      ]
     },
     "execution_count": 1,
     "metadata": {},
     "output_type": "execute_result"
    }
   ],
   "source": [
    "import numpy as np\n",
    "\n",
    "def parse_data(s):\n",
    "    blocks = [\n",
    "        block.splitlines() \n",
    "        for block in s.strip().split(\"\\n\\n\")\n",
    "    ]\n",
    "    arrays = []\n",
    "    for block in blocks:\n",
    "        nums = [\n",
    "            [\n",
    "                1 if c == \"#\" else 0\n",
    "                for c in line\n",
    "            ]\n",
    "            for line in block\n",
    "        ]\n",
    "        arrays.append(np.array(nums))\n",
    "    return arrays\n",
    "\n",
    "test_data = parse_data(\"\"\"#.##..##.\n",
    "..#.##.#.\n",
    "##......#\n",
    "##......#\n",
    "..#.##.#.\n",
    "..##..##.\n",
    "#.#.##.#.\n",
    "\n",
    "#...##..#\n",
    "#....#..#\n",
    "..##..###\n",
    "#####.##.\n",
    "#####.##.\n",
    "..##..###\n",
    "#....#..#\"\"\")\n",
    "\n",
    "test_data"
   ]
  },
  {
   "cell_type": "code",
   "execution_count": 2,
   "id": "dd196472",
   "metadata": {},
   "outputs": [
    {
     "data": {
      "text/plain": [
       "[5, 400]"
      ]
     },
     "execution_count": 2,
     "metadata": {},
     "output_type": "execute_result"
    }
   ],
   "source": [
    "def find_mirror(array):\n",
    "    rows, columns = array.shape\n",
    "    for x in range(1, rows):\n",
    "        mirrored = zip(\n",
    "            array[x-1::-1],\n",
    "            array[x:]\n",
    "        )\n",
    "        if all(np.all(a == b) for a, b in mirrored):\n",
    "            return 100 * x\n",
    "    for x in range(1, columns):\n",
    "        mirrored = zip(\n",
    "            array.T[x-1::-1],\n",
    "            array.T[x:]\n",
    "        )\n",
    "        if all(np.all(a == b) for a, b in mirrored):\n",
    "            return x\n",
    "    \n",
    "[find_mirror(a) for a in test_data]"
   ]
  },
  {
   "cell_type": "code",
   "execution_count": 3,
   "id": "3ac34d46",
   "metadata": {},
   "outputs": [],
   "source": [
    "def part_1(data):\n",
    "    return sum(find_mirror(a) for a in data)\n",
    "\n",
    "assert part_1(test_data) == 405"
   ]
  },
  {
   "cell_type": "code",
   "execution_count": 4,
   "id": "677d9783",
   "metadata": {},
   "outputs": [
    {
     "data": {
      "text/plain": [
       "37113"
      ]
     },
     "execution_count": 4,
     "metadata": {},
     "output_type": "execute_result"
    }
   ],
   "source": [
    "data = parse_data(open(\"input\").read())\n",
    "\n",
    "part_1(data)"
   ]
  },
  {
   "cell_type": "markdown",
   "id": "c712d014",
   "metadata": {},
   "source": [
    "## Part 2"
   ]
  },
  {
   "cell_type": "code",
   "execution_count": 5,
   "id": "39af61ec",
   "metadata": {},
   "outputs": [
    {
     "data": {
      "text/plain": [
       "[300, 100]"
      ]
     },
     "execution_count": 5,
     "metadata": {},
     "output_type": "execute_result"
    }
   ],
   "source": [
    "def smudged_mirror(array):\n",
    "    rows, columns = array.shape\n",
    "    for x in range(1, rows):\n",
    "        mirrored = zip(\n",
    "            array[x-1::-1],\n",
    "            array[x:]\n",
    "        )\n",
    "        if sum(sum(np.abs(a-b) for a, b in mirrored)) == 1:\n",
    "            return 100 * x\n",
    "    for x in range(1, columns):\n",
    "        mirrored = zip(\n",
    "            array.T[x-1::-1],\n",
    "            array.T[x:]\n",
    "        )\n",
    "        if sum(sum(np.abs(a-b) for a, b in mirrored)) == 1:\n",
    "            return x\n",
    "            \n",
    "[smudged_mirror(a) for a in test_data]"
   ]
  },
  {
   "cell_type": "code",
   "execution_count": 6,
   "id": "adc12174",
   "metadata": {},
   "outputs": [
    {
     "data": {
      "text/plain": [
       "400"
      ]
     },
     "execution_count": 6,
     "metadata": {},
     "output_type": "execute_result"
    }
   ],
   "source": [
    "def part_2(data):\n",
    "    return sum(smudged_mirror(a) for a in data)\n",
    "\n",
    "part_2(test_data)"
   ]
  },
  {
   "cell_type": "code",
   "execution_count": 7,
   "id": "052db0a8",
   "metadata": {},
   "outputs": [
    {
     "data": {
      "text/plain": [
       "30449"
      ]
     },
     "execution_count": 7,
     "metadata": {},
     "output_type": "execute_result"
    }
   ],
   "source": [
    "part_2(data)"
   ]
  },
  {
   "cell_type": "code",
   "execution_count": null,
   "id": "c0963f93",
   "metadata": {},
   "outputs": [],
   "source": []
  },
  {
   "cell_type": "code",
   "execution_count": null,
   "id": "538fe6db",
   "metadata": {},
   "outputs": [],
   "source": []
  }
 ],
 "metadata": {
  "kernelspec": {
   "display_name": "Python (AoC)",
   "language": "python",
   "name": "advent"
  },
  "language_info": {
   "codemirror_mode": {
    "name": "ipython",
    "version": 3
   },
   "file_extension": ".py",
   "mimetype": "text/x-python",
   "name": "python",
   "nbconvert_exporter": "python",
   "pygments_lexer": "ipython3",
   "version": "3.11.0"
  }
 },
 "nbformat": 4,
 "nbformat_minor": 5
}
