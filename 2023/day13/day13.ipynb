{
 "cells": [
  {
   "cell_type": "markdown",
   "id": "268eeed3-4573-4b1d-9cb6-43d41b160b24",
   "metadata": {},
   "source": [
    "# Day 13 \n",
    "## Part 1\n",
    "There are just about too many inputs to eyeball. Use numpy for ease of access to columns."
   ]
  },
  {
   "cell_type": "code",
   "execution_count": 1,
   "id": "494f7b41-a035-4dd5-bf3d-79a642bc558b",
   "metadata": {},
   "outputs": [
    {
     "data": {
      "text/plain": [
       "[array([[1, 0, 1, 1, 0, 0, 1, 1, 0],\n",
       "        [0, 0, 1, 0, 1, 1, 0, 1, 0],\n",
       "        [1, 1, 0, 0, 0, 0, 0, 0, 1],\n",
       "        [1, 1, 0, 0, 0, 0, 0, 0, 1],\n",
       "        [0, 0, 1, 0, 1, 1, 0, 1, 0],\n",
       "        [0, 0, 1, 1, 0, 0, 1, 1, 0],\n",
       "        [1, 0, 1, 0, 1, 1, 0, 1, 0]]),\n",
       " array([[1, 0, 0, 0, 1, 1, 0, 0, 1],\n",
       "        [1, 0, 0, 0, 0, 1, 0, 0, 1],\n",
       "        [0, 0, 1, 1, 0, 0, 1, 1, 1],\n",
       "        [1, 1, 1, 1, 1, 0, 1, 1, 0],\n",
       "        [1, 1, 1, 1, 1, 0, 1, 1, 0],\n",
       "        [0, 0, 1, 1, 0, 0, 1, 1, 1],\n",
       "        [1, 0, 0, 0, 0, 1, 0, 0, 1]])]"
      ]
     },
     "execution_count": 1,
     "metadata": {},
     "output_type": "execute_result"
    }
   ],
   "source": [
    "import numpy as np\n",
    "\n",
    "def parse_data(s):\n",
    "    blocks = [\n",
    "        block.splitlines() \n",
    "        for block in s.strip().split(\"\\n\\n\")\n",
    "    ]\n",
    "    arrays = []\n",
    "    for block in blocks:\n",
    "        nums = [\n",
    "            [\n",
    "                1 if c == \"#\" else 0\n",
    "                for c in line\n",
    "            ]\n",
    "            for line in block\n",
    "        ]\n",
    "        arrays.append(np.array(nums))\n",
    "    return arrays\n",
    "\n",
    "test_data = parse_data(\"\"\"#.##..##.\n",
    "..#.##.#.\n",
    "##......#\n",
    "##......#\n",
    "..#.##.#.\n",
    "..##..##.\n",
    "#.#.##.#.\n",
    "\n",
    "#...##..#\n",
    "#....#..#\n",
    "..##..###\n",
    "#####.##.\n",
    "#####.##.\n",
    "..##..###\n",
    "#....#..#\"\"\")\n",
    "\n",
    "test_data"
   ]
  },
  {
   "cell_type": "code",
   "execution_count": 2,
   "id": "06131030",
   "metadata": {},
   "outputs": [
    {
     "data": {
      "text/plain": [
       "[5, 400]"
      ]
     },
     "execution_count": 2,
     "metadata": {},
     "output_type": "execute_result"
    }
   ],
   "source": [
    "def find_mirror(array):\n",
    "    rows, columns = array.shape\n",
    "    for x in range(1, rows):\n",
    "        mirrored = list(zip(\n",
    "            array[x-1::-1],\n",
    "            array[x:]\n",
    "        ))\n",
    "        if all(np.all(a == b) for a, b in mirrored):\n",
    "            return 100 * x\n",
    "    for x in range(1, columns):\n",
    "        mirrored = zip(\n",
    "            array.T[x-1::-1],\n",
    "            array.T[x:]\n",
    "        )\n",
    "        if all(np.all(a == b) for a, b in mirrored):\n",
    "            return x\n",
    "    \n",
    "[find_mirror(a) for a in test_data]"
   ]
  },
  {
   "cell_type": "code",
   "execution_count": 3,
   "id": "288041d5",
   "metadata": {},
   "outputs": [],
   "source": [
    "def part_1(data):\n",
    "    return sum(find_mirror(a) for a in data)\n",
    "\n",
    "assert part_1(test_data) == 405"
   ]
  },
  {
   "cell_type": "code",
   "execution_count": 4,
   "id": "289a1d2d",
   "metadata": {},
   "outputs": [
    {
     "data": {
      "text/plain": [
       "37113"
      ]
     },
     "execution_count": 4,
     "metadata": {},
     "output_type": "execute_result"
    }
   ],
   "source": [
    "data = parse_data(open(\"input\").read())\n",
    "\n",
    "part_1(data)"
   ]
  },
  {
   "cell_type": "markdown",
   "id": "cebc9056",
   "metadata": {},
   "source": [
    "## Part 2"
   ]
  },
  {
   "cell_type": "code",
   "execution_count": 5,
   "id": "31dc4a48",
   "metadata": {},
   "outputs": [
    {
     "data": {
      "text/plain": [
       "[300, 100]"
      ]
     },
     "execution_count": 5,
     "metadata": {},
     "output_type": "execute_result"
    }
   ],
   "source": [
    "def smudged_mirror(array):\n",
    "    rows, columns = array.shape\n",
    "    old_x = find_mirror(array)\n",
    "    for r in range(rows):\n",
    "        for c in range(columns):\n",
    "            array[r, c] = 1 if array[r, c] == 0 else 0\n",
    "            x = find_mirror(array)\n",
    "            array[r, c] = 1 if array[r, c] == 0 else 0\n",
    "            if x is not None and x != old_x:\n",
    "                return x\n",
    "    return old_x\n",
    "            \n",
    "[smudged_mirror(a) for a in test_data]"
   ]
  },
  {
   "cell_type": "code",
   "execution_count": 6,
   "id": "04a0fea3",
   "metadata": {},
   "outputs": [],
   "source": [
    "def part_2(data):\n",
    "    return sum(smudged_mirror(a) for a in data)"
   ]
  },
  {
   "cell_type": "code",
   "execution_count": 7,
   "id": "e5c3e108",
   "metadata": {},
   "outputs": [
    {
     "data": {
      "text/plain": [
       "41403"
      ]
     },
     "execution_count": 7,
     "metadata": {},
     "output_type": "execute_result"
    }
   ],
   "source": [
    "part_2(data)"
   ]
  },
  {
   "cell_type": "markdown",
   "id": "56b39cc8",
   "metadata": {},
   "source": [
    "Wrong. No idea how to debug this."
   ]
  },
  {
   "cell_type": "code",
   "execution_count": null,
   "id": "73c25238",
   "metadata": {},
   "outputs": [],
   "source": []
  }
 ],
 "metadata": {
  "kernelspec": {
   "display_name": "Python (AoC)",
   "language": "python",
   "name": "advent"
  },
  "language_info": {
   "codemirror_mode": {
    "name": "ipython",
    "version": 3
   },
   "file_extension": ".py",
   "mimetype": "text/x-python",
   "name": "python",
   "nbconvert_exporter": "python",
   "pygments_lexer": "ipython3",
   "version": "3.11.0"
  }
 },
 "nbformat": 4,
 "nbformat_minor": 5
}
