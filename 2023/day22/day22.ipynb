{
 "cells": [
  {
   "cell_type": "markdown",
   "id": "268eeed3-4573-4b1d-9cb6-43d41b160b24",
   "metadata": {},
   "source": [
    "# Day 22 \n",
    "## Part 1"
   ]
  },
  {
   "cell_type": "code",
   "execution_count": 1,
   "id": "494f7b41-a035-4dd5-bf3d-79a642bc558b",
   "metadata": {},
   "outputs": [],
   "source": [
    "from dataclasses import dataclass\n",
    "\n",
    "@dataclass\n",
    "class Point3D:\n",
    "    x: int\n",
    "    y: int\n",
    "    z: int\n",
    "\n",
    "    def __add__(self, other):\n",
    "        return self.__class__(self.x + other.x, self.y + other.y, self.z + other.z)\n",
    "\n",
    "    def __sub__(self, other):\n",
    "        return self.__class__(self.x - other.x, self.y - other.y, self.z - other.z)\n",
    "\n",
    "    def __neg__(self):\n",
    "        return self.__class__(-self.x, -self.y, -self.z)\n",
    "\n",
    "    def __hash__(self):\n",
    "        return hash((self.x, self.y, self.z))\n",
    "\n",
    "    def __iter__(self):\n",
    "        yield self.x\n",
    "        yield self.y\n",
    "        yield self.y\n",
    "\n",
    "    def __mod__(self, other):\n",
    "        if isinstance(other, Point):\n",
    "            return self.__class__(self.x % other.x, self.y % other.y, self.z % other.z)\n",
    "        else:\n",
    "            return self.__class__(self.x % other, self.y % other, self.z % other)\n",
    "        \n",
    "    def __mul__(self, multiple):\n",
    "        return self.__class__(self.x * multiple, self.y * multiple, self.z * multiple)\n",
    "    \n",
    "DOWN = Point3D(0, 0, -1)\n",
    "UP = -DOWN"
   ]
  },
  {
   "cell_type": "code",
   "execution_count": 2,
   "id": "57a6f860-f0be-4764-8d26-c9976085049b",
   "metadata": {},
   "outputs": [
    {
     "data": {
      "text/plain": [
       "{frozenset({Point3D(x=0, y=0, z=2),\n",
       "            Point3D(x=1, y=0, z=2),\n",
       "            Point3D(x=2, y=0, z=2)}),\n",
       " frozenset({Point3D(x=1, y=0, z=1),\n",
       "            Point3D(x=1, y=1, z=1),\n",
       "            Point3D(x=1, y=2, z=1)}),\n",
       " frozenset({Point3D(x=0, y=2, z=3),\n",
       "            Point3D(x=1, y=2, z=3),\n",
       "            Point3D(x=2, y=2, z=3)}),\n",
       " frozenset({Point3D(x=1, y=1, z=8), Point3D(x=1, y=1, z=9)}),\n",
       " frozenset({Point3D(x=0, y=1, z=6),\n",
       "            Point3D(x=1, y=1, z=6),\n",
       "            Point3D(x=2, y=1, z=6)}),\n",
       " frozenset({Point3D(x=2, y=0, z=5),\n",
       "            Point3D(x=2, y=1, z=5),\n",
       "            Point3D(x=2, y=2, z=5)}),\n",
       " frozenset({Point3D(x=0, y=0, z=4),\n",
       "            Point3D(x=0, y=1, z=4),\n",
       "            Point3D(x=0, y=2, z=4)})}"
      ]
     },
     "execution_count": 2,
     "metadata": {},
     "output_type": "execute_result"
    }
   ],
   "source": [
    "def parse_data(s):\n",
    "    bricks = set()\n",
    "    for line in s.strip().splitlines():\n",
    "        a, b = [Point3D(*map(int, ns)) for ns in [xs.split(\",\") for xs in line.split(\"~\")]]\n",
    "        brick = set()\n",
    "        for x in range(min(a.x, b.x), max(a.x, b.x) + 1):\n",
    "            for y in range(min(a.y, b.y), max(a.y, b.y) + 1):\n",
    "                for z in range(min(a.z, b.z), max(a.z, b.z) + 1):\n",
    "                    brick.add(Point3D(x, y, z))\n",
    "        bricks.add(frozenset(brick))\n",
    "    return bricks\n",
    "\n",
    "test_data = parse_data(\"\"\"1,0,1~1,2,1\n",
    "0,0,2~2,0,2\n",
    "0,2,3~2,2,3\n",
    "0,0,4~0,2,4\n",
    "2,0,5~2,2,5\n",
    "0,1,6~2,1,6\n",
    "1,1,8~1,1,9\"\"\")\n",
    "\n",
    "test_data"
   ]
  },
  {
   "cell_type": "code",
   "execution_count": 12,
   "id": "9a202aef-d587-42fd-a347-657c3a7ff2da",
   "metadata": {},
   "outputs": [
    {
     "data": {
      "text/plain": [
       "5"
      ]
     },
     "execution_count": 12,
     "metadata": {},
     "output_type": "execute_result"
    }
   ],
   "source": [
    "from itertools import count, permutations\n",
    "import networkx as nx\n",
    "from functools import reduce\n",
    "from copy import deepcopy\n",
    "\n",
    "def min_z(brick):\n",
    "    return min(p.z for p in brick)\n",
    "\n",
    "def part_1(bricks):\n",
    "    spaces_used = set.union(*[set(s) for s in bricks])\n",
    "    moving = deepcopy(bricks)\n",
    "    finished = set()\n",
    "\n",
    "    while moving:\n",
    "        for layer in sorted({min_z(b) for b in moving}):\n",
    "            new_bricks = []\n",
    "            for brick in [b for b in moving if min_z(b) == layer]:\n",
    "                new_brick = {p + DOWN for p in brick}\n",
    "                if any(p.z == 0 for p in new_brick) or ((spaces_used - brick) & new_brick):\n",
    "                    moving.remove(brick)\n",
    "                    finished.add(brick)\n",
    "                else:\n",
    "                    moving.remove(brick)\n",
    "                    moving.add(frozenset(new_brick))\n",
    "                    spaces_used = (spaces_used - brick)\n",
    "                    new_bricks.append(new_brick)\n",
    "            for brick in new_bricks:\n",
    "                spaces_used = spaces_used | brick\n",
    "\n",
    "    G = nx.DiGraph()\n",
    "    G.add_nodes_from(finished)\n",
    "    for a, b in permutations(finished, 2):\n",
    "        if {p + UP for p in a} & b:\n",
    "            G.add_edge(b, a)\n",
    "\n",
    "    unsafe = set()\n",
    "    for n in G.nodes:\n",
    "        nbrs = list(G[n])\n",
    "        if len(nbrs) == 1:\n",
    "            unsafe.add(nbrs[0])\n",
    "\n",
    "    return G, len(finished - unsafe)\n",
    "            \n",
    "test_g, test_answer = part_1(test_data)\n",
    "test_answer"
   ]
  },
  {
   "cell_type": "code",
   "execution_count": 13,
   "id": "8d33f70b-ac13-4732-b7ca-57a63075c246",
   "metadata": {},
   "outputs": [],
   "source": [
    "data = parse_data(open(\"input\").read())"
   ]
  },
  {
   "cell_type": "code",
   "execution_count": 14,
   "id": "544e79f5-1611-491b-b535-4e23f769b672",
   "metadata": {},
   "outputs": [
    {
     "name": "stdout",
     "output_type": "stream",
     "text": [
      "CPU times: user 23.1 s, sys: 8.58 ms, total: 23.1 s\n",
      "Wall time: 23.2 s\n"
     ]
    },
    {
     "data": {
      "text/plain": [
       "439"
      ]
     },
     "execution_count": 14,
     "metadata": {},
     "output_type": "execute_result"
    }
   ],
   "source": [
    "%%time\n",
    "\n",
    "g, answer = part_1(data)\n",
    "answer"
   ]
  },
  {
   "cell_type": "markdown",
   "id": "68184cba-7ff9-463b-94c0-07bedb23f0a0",
   "metadata": {},
   "source": [
    "## Part 2"
   ]
  },
  {
   "cell_type": "code",
   "execution_count": 16,
   "id": "64c7b6f9-63c8-4732-bf2e-27806092cf1d",
   "metadata": {},
   "outputs": [
    {
     "data": {
      "text/plain": [
       "19"
      ]
     },
     "execution_count": 16,
     "metadata": {},
     "output_type": "execute_result"
    }
   ],
   "source": [
    "def part_2(g):\n",
    "    r = g.reverse()\n",
    "    total = 0\n",
    "    for n in r.nodes:\n",
    "        demolished = \n",
    "\n",
    "part_2(test_g)"
   ]
  },
  {
   "cell_type": "code",
   "execution_count": null,
   "id": "53f48ad3-3e2e-4f98-b663-8566e61a3812",
   "metadata": {},
   "outputs": [],
   "source": []
  }
 ],
 "metadata": {
  "kernelspec": {
   "display_name": "Python (AoC)",
   "language": "python",
   "name": "advent"
  },
  "language_info": {
   "codemirror_mode": {
    "name": "ipython",
    "version": 3
   },
   "file_extension": ".py",
   "mimetype": "text/x-python",
   "name": "python",
   "nbconvert_exporter": "python",
   "pygments_lexer": "ipython3",
   "version": "3.11.0"
  }
 },
 "nbformat": 4,
 "nbformat_minor": 5
}
