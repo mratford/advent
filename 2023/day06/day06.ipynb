{
 "cells": [
  {
   "cell_type": "markdown",
   "id": "268eeed3-4573-4b1d-9cb6-43d41b160b24",
   "metadata": {},
   "source": [
    "# Day 6 \n",
    "## Part 1\n",
    "\n",
    "If $n$ is the number of milliseconds the button is held and $l$ is the length of the race, then distance\n",
    "$$d = (l - n)n$$\n",
    "When is $d$ bigger than the record $r$?\n",
    "$$(l - n)n > r$$\n",
    "Find the roots of\n",
    "$$n^2 - ln + r = 0$$\n",
    "which are\n",
    "$$ {l \\pm \\sqrt{l^2-4r} \\over 2} $$"
   ]
  },
  {
   "cell_type": "code",
   "execution_count": 1,
   "id": "494f7b41-a035-4dd5-bf3d-79a642bc558b",
   "metadata": {},
   "outputs": [
    {
     "data": {
      "text/plain": [
       "(1.6972243622680054, 5.302775637731995)"
      ]
     },
     "execution_count": 1,
     "metadata": {},
     "output_type": "execute_result"
    }
   ],
   "source": [
    "import math\n",
    "\n",
    "def roots(length, record):\n",
    "    pm = math.sqrt(length ** 2 - 4 * record)\n",
    "    return (\n",
    "        (length - pm) / 2,\n",
    "        (length + pm) / 2\n",
    "    )\n",
    "\n",
    "roots(7, 9)"
   ]
  },
  {
   "cell_type": "markdown",
   "id": "7f22d781",
   "metadata": {},
   "source": [
    "The number of ways to win a race is the number of integers between the roots."
   ]
  },
  {
   "cell_type": "code",
   "execution_count": 2,
   "id": "7fef9352",
   "metadata": {},
   "outputs": [
    {
     "data": {
      "text/plain": [
       "4"
      ]
     },
     "execution_count": 2,
     "metadata": {},
     "output_type": "execute_result"
    }
   ],
   "source": [
    "def number_ways_to_win(length, record):\n",
    "    l, u = roots(length, record)\n",
    "    return math.floor(u) - math.ceil(l) + 1\n",
    "\n",
    "number_ways_to_win(7, 9)"
   ]
  },
  {
   "cell_type": "markdown",
   "id": "6242f98a",
   "metadata": {},
   "source": [
    "The data's small so I'm just copying it in."
   ]
  },
  {
   "cell_type": "code",
   "execution_count": 3,
   "id": "ded0f38d",
   "metadata": {},
   "outputs": [],
   "source": [
    "races = list(\n",
    "    zip(\n",
    "        (48, 87, 69, 81),\n",
    "        (255, 1288, 1117, 1623)\n",
    "    )\n",
    ")"
   ]
  },
  {
   "cell_type": "code",
   "execution_count": 4,
   "id": "27bf0983",
   "metadata": {},
   "outputs": [
    {
     "data": {
      "text/plain": [
       "252000"
      ]
     },
     "execution_count": 4,
     "metadata": {},
     "output_type": "execute_result"
    }
   ],
   "source": [
    "math.prod(\n",
    "    number_ways_to_win(r, l)\n",
    "    for r, l in data\n",
    ")"
   ]
  },
  {
   "cell_type": "markdown",
   "id": "6584a4d1",
   "metadata": {},
   "source": [
    "is the answer. That solution is possibly overkill but\n",
    "\n",
    "## Part 2\n",
    "\n",
    "is now just"
   ]
  },
  {
   "cell_type": "code",
   "execution_count": 5,
   "id": "c71e2c5d",
   "metadata": {},
   "outputs": [
    {
     "data": {
      "text/plain": [
       "36992486"
      ]
     },
     "execution_count": 5,
     "metadata": {},
     "output_type": "execute_result"
    }
   ],
   "source": [
    "number_ways_to_win(48876981, 255128811171623)"
   ]
  }
 ],
 "metadata": {
  "kernelspec": {
   "display_name": "Python 3 (ipykernel)",
   "language": "python",
   "name": "python3"
  },
  "language_info": {
   "codemirror_mode": {
    "name": "ipython",
    "version": 3
   },
   "file_extension": ".py",
   "mimetype": "text/x-python",
   "name": "python",
   "nbconvert_exporter": "python",
   "pygments_lexer": "ipython3",
   "version": "3.11.0"
  }
 },
 "nbformat": 4,
 "nbformat_minor": 5
}
