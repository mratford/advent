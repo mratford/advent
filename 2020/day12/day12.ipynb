{
 "cells": [
  {
   "cell_type": "markdown",
   "metadata": {},
   "source": [
    "# Day 12\n",
    "## Part 1\n",
    "First check that all the angles are multiples of right angles."
   ]
  },
  {
   "cell_type": "code",
   "execution_count": 1,
   "metadata": {},
   "outputs": [
    {
     "data": {
      "text/plain": [
       "{90, 180, 270}"
      ]
     },
     "execution_count": 1,
     "metadata": {},
     "output_type": "execute_result"
    }
   ],
   "source": [
    "def parse_data(s):\n",
    "    return [(line[0], int(line[1:])) for line in s.strip().splitlines()]\n",
    "\n",
    "data = parse_data(open('input').read())\n",
    "\n",
    "{n for command, n in data if command == 'R'}"
   ]
  },
  {
   "cell_type": "markdown",
   "metadata": {},
   "source": [
    "That makes life easier."
   ]
  },
  {
   "cell_type": "code",
   "execution_count": 16,
   "metadata": {},
   "outputs": [],
   "source": [
    "from collections import deque\n",
    "import numpy as np\n",
    "\n",
    "\n",
    "def part_1(data):\n",
    "    directions = deque([np.array(ds) for ds in [(1, 0), (0, -1), (-1, 0), (0, 1)]])\n",
    "    dir_dict = {k: v for k, v in zip('ESWN', directions)}\n",
    "    pos = np.array([0, 0])\n",
    "    \n",
    "    for command, n in data:\n",
    "        if command == 'F':\n",
    "            pos += directions[0] * n\n",
    "        elif command == 'R':\n",
    "            directions.rotate(-n // 90)\n",
    "        elif command == 'L':\n",
    "            directions.rotate(n // 90)\n",
    "        else:\n",
    "            pos += dir_dict[command] * n\n",
    "\n",
    "    return abs(pos[0]) + abs(pos[1])\n",
    "\n",
    "\n",
    "test_data = parse_data('''F10\n",
    "N3\n",
    "F7\n",
    "R90\n",
    "F11\n",
    "''')\n",
    "\n",
    "assert part_1(test_data) == 25"
   ]
  },
  {
   "cell_type": "code",
   "execution_count": 17,
   "metadata": {},
   "outputs": [
    {
     "data": {
      "text/plain": [
       "1106"
      ]
     },
     "execution_count": 17,
     "metadata": {},
     "output_type": "execute_result"
    }
   ],
   "source": [
    "part_1(data)"
   ]
  },
  {
   "cell_type": "markdown",
   "metadata": {},
   "source": [
    "## Part 2"
   ]
  },
  {
   "cell_type": "code",
   "execution_count": 27,
   "metadata": {},
   "outputs": [],
   "source": [
    "def rotate_clockwise(p):\n",
    "    return np.array([p[1], -p[0]])\n",
    "\n",
    "\n",
    "def part_2(data):\n",
    "    directions = deque([np.array(ds) for ds in [(1, 0), (0, -1), (-1, 0), (0, 1)]])\n",
    "    dir_dict = {k: v for k, v in zip('ESWN', directions)}\n",
    "    pos = np.array([0, 0])\n",
    "    waypoint = np.array([10, 1])\n",
    "    \n",
    "    for command, n in data:\n",
    "        if command == 'F':\n",
    "            pos += waypoint * n\n",
    "        elif command == 'R':\n",
    "            for _ in range(n // 90):\n",
    "                waypoint = rotate_clockwise(waypoint)\n",
    "        elif command == 'L':\n",
    "            for _ in range((360 - n) // 90):\n",
    "                waypoint = rotate_clockwise(waypoint)\n",
    "        else:\n",
    "            waypoint += dir_dict[command] * n\n",
    "            \n",
    "    return abs(pos[0]) + abs(pos[1])\n",
    "\n",
    "\n",
    "assert part_2(test_data) == 286"
   ]
  },
  {
   "cell_type": "code",
   "execution_count": 28,
   "metadata": {},
   "outputs": [
    {
     "data": {
      "text/plain": [
       "107281"
      ]
     },
     "execution_count": 28,
     "metadata": {},
     "output_type": "execute_result"
    }
   ],
   "source": [
    "part_2(data)"
   ]
  },
  {
   "cell_type": "code",
   "execution_count": null,
   "metadata": {},
   "outputs": [],
   "source": []
  }
 ],
 "metadata": {
  "kernelspec": {
   "display_name": "Python 3",
   "language": "python",
   "name": "python3"
  },
  "language_info": {
   "codemirror_mode": {
    "name": "ipython",
    "version": 3
   },
   "file_extension": ".py",
   "mimetype": "text/x-python",
   "name": "python",
   "nbconvert_exporter": "python",
   "pygments_lexer": "ipython3",
   "version": "3.8.5"
  }
 },
 "nbformat": 4,
 "nbformat_minor": 4
}
