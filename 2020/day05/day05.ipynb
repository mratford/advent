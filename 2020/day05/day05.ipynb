{
 "cells": [
  {
   "cell_type": "markdown",
   "metadata": {},
   "source": [
    "# Day 5\n",
    "## Part 1\n",
    "\n",
    "Convert the boarding passes to binary, split them up, and convery to base 10 row and column numbers.\n",
    "\n",
    "Create a closure for the translator so `str.maketrans` is only called once (this is completely unnecessary)."
   ]
  },
  {
   "cell_type": "code",
   "execution_count": 4,
   "metadata": {},
   "outputs": [],
   "source": [
    "from collections import namedtuple\n",
    "\n",
    "Seat = namedtuple('Seat', 'row column id')\n",
    "\n",
    "def make_translator(*args):\n",
    "    t = str.maketrans(*args)\n",
    "    \n",
    "    def f(s):\n",
    "        return s.translate(t)\n",
    "    \n",
    "    return f\n",
    "\n",
    "seat_translator = make_translator('FBLR', '0101')\n",
    "\n",
    "def parse_seat(s):\n",
    "    binary = seat_translator(s)\n",
    "    row = int(binary[:7], 2)\n",
    "    col = int(binary[7:], 2)\n",
    "    return Seat(row, col, row * 8 + col)\n",
    "\n",
    "assert parse_seat('FBFBBFFRLR').id == 357"
   ]
  },
  {
   "cell_type": "code",
   "execution_count": 17,
   "metadata": {},
   "outputs": [
    {
     "data": {
      "text/plain": [
       "963"
      ]
     },
     "execution_count": 17,
     "metadata": {},
     "output_type": "execute_result"
    }
   ],
   "source": [
    "seats = [parse_seat(s.strip()) for s in open('input')]\n",
    "max(s.id for s in seats)"
   ]
  },
  {
   "cell_type": "markdown",
   "metadata": {},
   "source": [
    "### Post mortem\n",
    "\n",
    "Bloody hell, I've just realised the whole thing is the binary id. Duh."
   ]
  },
  {
   "cell_type": "code",
   "execution_count": 18,
   "metadata": {},
   "outputs": [
    {
     "data": {
      "text/plain": [
       "357"
      ]
     },
     "execution_count": 18,
     "metadata": {},
     "output_type": "execute_result"
    }
   ],
   "source": [
    "int(seat_translator('FBFBBFFRLR'), 2)"
   ]
  },
  {
   "cell_type": "markdown",
   "metadata": {},
   "source": [
    "## Part 2\n",
    "\n",
    "Find the seat ids for all seats occupied by others which aren't in the front or back rows. I'm not sure this is necessary, but just in case."
   ]
  },
  {
   "cell_type": "code",
   "execution_count": 12,
   "metadata": {},
   "outputs": [],
   "source": [
    "seats_no_front_or_back = [seat for seat in seats if seat.row not in (0, 127)]\n",
    "seat_ids = {seat.id for seat in seats_no_front_or_back}"
   ]
  },
  {
   "cell_type": "markdown",
   "metadata": {},
   "source": [
    "Generate all possible seat ids, and find the one not in the occupied seats whose neighbours are occupied."
   ]
  },
  {
   "cell_type": "code",
   "execution_count": 16,
   "metadata": {},
   "outputs": [
    {
     "data": {
      "text/plain": [
       "{592}"
      ]
     },
     "execution_count": 16,
     "metadata": {},
     "output_type": "execute_result"
    }
   ],
   "source": [
    "all_seat_ids = {row * 8 + column for row in range(1, 127) for column in range(8)}\n",
    "{seat_id for seat_id in all_seat_ids if {seat_id + 1, seat_id -1} <= seat_ids} - seat_ids "
   ]
  }
 ],
 "metadata": {
  "kernelspec": {
   "display_name": "Python 3",
   "language": "python",
   "name": "python3"
  },
  "language_info": {
   "codemirror_mode": {
    "name": "ipython",
    "version": 3
   },
   "file_extension": ".py",
   "mimetype": "text/x-python",
   "name": "python",
   "nbconvert_exporter": "python",
   "pygments_lexer": "ipython3",
   "version": "3.8.5"
  }
 },
 "nbformat": 4,
 "nbformat_minor": 4
}
