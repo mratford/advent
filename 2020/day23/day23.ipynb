{
 "cells": [
  {
   "cell_type": "markdown",
   "metadata": {},
   "source": [
    "# Day 23\n",
    "## Part 1\n",
    "Represent the clockwise circle of cups as a graph."
   ]
  },
  {
   "cell_type": "code",
   "execution_count": 27,
   "metadata": {},
   "outputs": [],
   "source": [
    "class Circle:\n",
    "    def __init__(self, s):\n",
    "        self.g = {}\n",
    "        self.cups = [int(x) for x in s.strip()]\n",
    "        for x, y in zip(self.cups, self.cups[1:] + self.cups[:1]):\n",
    "            self.g[x] = y\n",
    "        self.current = self.cups[0]\n",
    "        \n",
    "    def __repr__(self):\n",
    "        result = f'({self.current})'\n",
    "        next_cup = self.g[self.current]\n",
    "        while next_cup != self.current:\n",
    "            result = result + f', {next_cup}'\n",
    "            next_cup = self.g[next_cup]\n",
    "        return result\n",
    "    \n",
    "    def round(self):\n",
    "        moved_cups = [self.g[self.current]]\n",
    "        for _ in range(2):\n",
    "            moved_cups.append(self.g[moved_cups[-1]])\n",
    "        dest = self.current - 1\n",
    "        while dest in moved_cups or dest < min(self.cups):\n",
    "            dest -= 1\n",
    "            if dest < min(self.cups):\n",
    "                dest = max(self.cups)\n",
    "        next_after_dest = self.g[dest]\n",
    "        next_after_current = self.g[moved_cups[-1]]\n",
    "        self.g[dest] = moved_cups[0]\n",
    "        self.g[moved_cups[-1]] = next_after_dest\n",
    "        self.g[self.current] = next_after_current\n",
    "        self.current = next_after_current\n",
    "        \n",
    "    def state_after_1(self):\n",
    "        result = ''\n",
    "        next_cup = self.g[1]\n",
    "        while next_cup != 1:\n",
    "            result = result + str(next_cup)\n",
    "            next_cup = self.g[next_cup]\n",
    "        return result"
   ]
  },
  {
   "cell_type": "code",
   "execution_count": 28,
   "metadata": {},
   "outputs": [
    {
     "name": "stdout",
     "output_type": "stream",
     "text": [
      "Round 1: (3), 8, 9, 1, 2, 5, 4, 6, 7\n",
      "Round 2: (2), 8, 9, 1, 5, 4, 6, 7, 3\n",
      "Round 3: (5), 4, 6, 7, 8, 9, 1, 3, 2\n",
      "Round 4: (8), 9, 1, 3, 4, 6, 7, 2, 5\n",
      "Round 5: (4), 6, 7, 9, 1, 3, 2, 5, 8\n",
      "Round 6: (1), 3, 6, 7, 9, 2, 5, 8, 4\n",
      "Round 7: (9), 3, 6, 7, 2, 5, 8, 4, 1\n",
      "Round 8: (2), 5, 8, 3, 6, 7, 4, 1, 9\n",
      "Round 9: (6), 7, 4, 1, 5, 8, 3, 9, 2\n",
      "Round 10: (5), 7, 4, 1, 8, 3, 9, 2, 6\n",
      "Final: (8), 3, 7, 4, 1, 9, 2, 6, 5\n"
     ]
    }
   ],
   "source": [
    "test_circle = Circle('389125467')\n",
    "for i in range(1, 11):\n",
    "    print(f'Round {i}: {test_circle}')\n",
    "    test_circle.round()\n",
    "print(f'Final: {test_circle}')"
   ]
  },
  {
   "cell_type": "code",
   "execution_count": 31,
   "metadata": {},
   "outputs": [
    {
     "data": {
      "text/plain": [
       "'92658374'"
      ]
     },
     "execution_count": 31,
     "metadata": {},
     "output_type": "execute_result"
    }
   ],
   "source": [
    "test_circle.state_after_1()"
   ]
  },
  {
   "cell_type": "code",
   "execution_count": 32,
   "metadata": {},
   "outputs": [
    {
     "data": {
      "text/plain": [
       "'67384529'"
      ]
     },
     "execution_count": 32,
     "metadata": {},
     "output_type": "execute_result"
    }
   ],
   "source": [
    "test_circle = Circle('389125467')\n",
    "for i in range(100):\n",
    "    test_circle.round()\n",
    "test_circle.state_after_1()"
   ]
  },
  {
   "cell_type": "code",
   "execution_count": 33,
   "metadata": {},
   "outputs": [
    {
     "data": {
      "text/plain": [
       "'76952348'"
      ]
     },
     "execution_count": 33,
     "metadata": {},
     "output_type": "execute_result"
    }
   ],
   "source": [
    "circle = Circle('653427918')\n",
    "for i in range(100):\n",
    "    circle.round()\n",
    "circle.state_after_1()"
   ]
  },
  {
   "cell_type": "markdown",
   "metadata": {},
   "source": [
    "## Part 2\n",
    "I can't immediately think of a shortcut, apart from memoising for loops which will take an insane amount of memory, so do the big calculation and hope it finishes in reasonable time."
   ]
  },
  {
   "cell_type": "code",
   "execution_count": 34,
   "metadata": {},
   "outputs": [],
   "source": [
    "class Circle:\n",
    "    def __init__(self, s):\n",
    "        self.g = {}\n",
    "        self.cups = [int(x) for x in s.strip()]\n",
    "        self.cups = self.cups + list(range(max(self.cups) + 1, 1000000))\n",
    "        for x, y in zip(self.cups, self.cups[1:] + self.cups[:1]):\n",
    "            self.g[x] = y\n",
    "        self.current = self.cups[0]\n",
    "        \n",
    "    def __repr__(self):\n",
    "        result = f'({self.current})'\n",
    "        next_cup = self.g[self.current]\n",
    "        while next_cup != self.current:\n",
    "            result = result + f', {next_cup}'\n",
    "            next_cup = self.g[next_cup]\n",
    "        return result\n",
    "    \n",
    "    def round(self):\n",
    "        moved_cups = [self.g[self.current]]\n",
    "        for _ in range(2):\n",
    "            moved_cups.append(self.g[moved_cups[-1]])\n",
    "        dest = self.current - 1\n",
    "        while dest in moved_cups or dest < min(self.cups):\n",
    "            dest -= 1\n",
    "            if dest < 1:\n",
    "                dest = 1000000\n",
    "        next_after_dest = self.g[dest]\n",
    "        next_after_current = self.g[moved_cups[-1]]\n",
    "        self.g[dest] = moved_cups[0]\n",
    "        self.g[moved_cups[-1]] = next_after_dest\n",
    "        self.g[self.current] = next_after_current\n",
    "        self.current = next_after_current\n",
    "        \n",
    "    def state_after_1(self):\n",
    "        result = ''\n",
    "        next_cup = self.g[1]\n",
    "        return (next_cup, self.g[next_cup])"
   ]
  },
  {
   "cell_type": "code",
   "execution_count": null,
   "metadata": {},
   "outputs": [],
   "source": [
    "circle = Circle('653427918')\n",
    "for i in range(10000000):\n",
    "    circle.round()\n",
    "circle.state_after_1()"
   ]
  },
  {
   "cell_type": "code",
   "execution_count": null,
   "metadata": {},
   "outputs": [],
   "source": [
    "result = _"
   ]
  },
  {
   "cell_type": "code",
   "execution_count": null,
   "metadata": {},
   "outputs": [],
   "source": []
  }
 ],
 "metadata": {
  "kernelspec": {
   "display_name": "Python 3",
   "language": "python",
   "name": "python3"
  },
  "language_info": {
   "codemirror_mode": {
    "name": "ipython",
    "version": 3
   },
   "file_extension": ".py",
   "mimetype": "text/x-python",
   "name": "python",
   "nbconvert_exporter": "python",
   "pygments_lexer": "ipython3",
   "version": "3.9.0"
  }
 },
 "nbformat": 4,
 "nbformat_minor": 4
}
