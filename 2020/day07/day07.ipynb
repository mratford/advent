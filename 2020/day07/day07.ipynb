{
 "cells": [
  {
   "cell_type": "markdown",
   "metadata": {},
   "source": [
    "# Day 7\n",
    "## Part 1\n",
    "\n",
    "Represent the rules as a directed graph, with colours of bags as nodes and the \"can be contained by\" relationship as edges. Add the weight in case it's useful later on. Then count the number of nodes a search from the \"shiny gold\" node will find. \n",
    "\n",
    "Represent the graph as a dictionary with nodes as keys and edges as tuples of neighbour and weight."
   ]
  },
  {
   "cell_type": "code",
   "execution_count": 21,
   "metadata": {},
   "outputs": [],
   "source": [
    "import re\n",
    "from collections import namedtuple, defaultdict\n",
    "\n",
    "\n",
    "Edge = namedtuple('Edge', 'nbr wgt')\n",
    "\n",
    "\n",
    "def parse_data(s):\n",
    "    g = defaultdict(list)\n",
    "\n",
    "    for line in s.strip().splitlines():\n",
    "        container, contained = line.split(\" bags contain \")\n",
    "        for bag in contained.split(\", \"):\n",
    "            if m := re.match('(\\d+) (.+) bag', bag):\n",
    "                g[m.group(2)].append(Edge(container, int(m.group(1))))\n",
    "\n",
    "    return g"
   ]
  },
  {
   "cell_type": "code",
   "execution_count": 24,
   "metadata": {},
   "outputs": [
    {
     "data": {
      "text/plain": [
       "defaultdict(list,\n",
       "            {'bright white': [Edge(nbr='light red', wgt=1),\n",
       "              Edge(nbr='dark orange', wgt=3)],\n",
       "             'muted yellow': [Edge(nbr='light red', wgt=2),\n",
       "              Edge(nbr='dark orange', wgt=4)],\n",
       "             'shiny gold': [Edge(nbr='bright white', wgt=1),\n",
       "              Edge(nbr='muted yellow', wgt=2)],\n",
       "             'faded blue': [Edge(nbr='muted yellow', wgt=9),\n",
       "              Edge(nbr='dark olive', wgt=3),\n",
       "              Edge(nbr='vibrant plum', wgt=5)],\n",
       "             'dark olive': [Edge(nbr='shiny gold', wgt=1)],\n",
       "             'vibrant plum': [Edge(nbr='shiny gold', wgt=2)],\n",
       "             'dotted black': [Edge(nbr='dark olive', wgt=4),\n",
       "              Edge(nbr='vibrant plum', wgt=6)]})"
      ]
     },
     "execution_count": 24,
     "metadata": {},
     "output_type": "execute_result"
    }
   ],
   "source": [
    "test_data = '''light red bags contain 1 bright white bag, 2 muted yellow bags.\n",
    "dark orange bags contain 3 bright white bags, 4 muted yellow bags.\n",
    "bright white bags contain 1 shiny gold bag.\n",
    "muted yellow bags contain 2 shiny gold bags, 9 faded blue bags.\n",
    "shiny gold bags contain 1 dark olive bag, 2 vibrant plum bags.\n",
    "dark olive bags contain 3 faded blue bags, 4 dotted black bags.\n",
    "vibrant plum bags contain 5 faded blue bags, 6 dotted black bags.\n",
    "faded blue bags contain no other bags.\n",
    "dotted black bags contain no other bags.'''\n",
    "\n",
    "test_graph = parse_data(test_data)\n",
    "test_graph"
   ]
  },
  {
   "cell_type": "markdown",
   "metadata": {},
   "source": [
    "Do a depth first search to find every accessible node from \"shiny gold\"."
   ]
  },
  {
   "cell_type": "code",
   "execution_count": 27,
   "metadata": {},
   "outputs": [],
   "source": [
    "def part_1(graph):\n",
    "    # Nodes that have already been seen, track these\n",
    "    # in case of cycles\n",
    "    seen = {\"shiny gold\"}\n",
    "    result = 0\n",
    "    # Nodes that are yet to be searched\n",
    "    search = [\"shiny gold\"]\n",
    "    \n",
    "    while search:\n",
    "        # DFS means use the most recent addition to\n",
    "        # the search\n",
    "        node = search.pop()\n",
    "        \n",
    "        for edge in graph[node]:\n",
    "            if edge.nbr not in seen:\n",
    "                seen.add(edge.nbr)\n",
    "                result += 1\n",
    "                search.append(edge.nbr)\n",
    "                \n",
    "    return result\n",
    "\n",
    "assert part_1(test_graph) == 4"
   ]
  },
  {
   "cell_type": "code",
   "execution_count": 28,
   "metadata": {},
   "outputs": [
    {
     "data": {
      "text/plain": [
       "296"
      ]
     },
     "execution_count": 28,
     "metadata": {},
     "output_type": "execute_result"
    }
   ],
   "source": [
    "graph = parse_data(open('input').read())\n",
    "part_1(graph)"
   ]
  },
  {
   "cell_type": "markdown",
   "metadata": {},
   "source": [
    "## Part 2\n",
    "\n",
    "First need to reverse the graph, so the edge relationship is now \"contains\" "
   ]
  },
  {
   "cell_type": "code",
   "execution_count": 31,
   "metadata": {},
   "outputs": [
    {
     "data": {
      "text/plain": [
       "defaultdict(list,\n",
       "            {'light red': [Edge(nbr='bright white', wgt=1),\n",
       "              Edge(nbr='muted yellow', wgt=2)],\n",
       "             'dark orange': [Edge(nbr='bright white', wgt=3),\n",
       "              Edge(nbr='muted yellow', wgt=4)],\n",
       "             'bright white': [Edge(nbr='shiny gold', wgt=1)],\n",
       "             'muted yellow': [Edge(nbr='shiny gold', wgt=2),\n",
       "              Edge(nbr='faded blue', wgt=9)],\n",
       "             'dark olive': [Edge(nbr='faded blue', wgt=3),\n",
       "              Edge(nbr='dotted black', wgt=4)],\n",
       "             'vibrant plum': [Edge(nbr='faded blue', wgt=5),\n",
       "              Edge(nbr='dotted black', wgt=6)],\n",
       "             'shiny gold': [Edge(nbr='dark olive', wgt=1),\n",
       "              Edge(nbr='vibrant plum', wgt=2)]})"
      ]
     },
     "execution_count": 31,
     "metadata": {},
     "output_type": "execute_result"
    }
   ],
   "source": [
    "def reverse_graph(graph):\n",
    "    g = defaultdict(list)\n",
    "    \n",
    "    for node in graph:\n",
    "        for edge in graph[node]:\n",
    "            g[edge.nbr].append(Edge(node, edge.wgt))\n",
    "            \n",
    "    return g\n",
    "\n",
    "test_graph_2 = reverse_graph(test_graph)\n",
    "test_graph_2"
   ]
  },
  {
   "cell_type": "markdown",
   "metadata": {},
   "source": [
    "DFS again, but keep track of the multiple of bags e.g a light red bag needs 2 muted yellows, which need 4 shiny golds (2 each). I'm assuming it's acyclic as otherwise there wouldn't be an answer, so there's no need to track which nodes have been visited."
   ]
  },
  {
   "cell_type": "code",
   "execution_count": 36,
   "metadata": {},
   "outputs": [],
   "source": [
    "def part_2(graph):\n",
    "    result = 0\n",
    "    search = [(\"shiny gold\", 1)]\n",
    "    \n",
    "    while search:\n",
    "        node, multiple = search.pop()\n",
    "        \n",
    "        for edge in graph[node]:\n",
    "            result += multiple * edge.wgt\n",
    "            search.append((edge.nbr, multiple * edge.wgt))\n",
    "            \n",
    "    return result\n",
    "\n",
    "assert part_2(test_graph_2) == 32"
   ]
  },
  {
   "cell_type": "code",
   "execution_count": 38,
   "metadata": {},
   "outputs": [],
   "source": [
    "test_data_2 ='''shiny gold bags contain 2 dark red bags.\n",
    "dark red bags contain 2 dark orange bags.\n",
    "dark orange bags contain 2 dark yellow bags.\n",
    "dark yellow bags contain 2 dark green bags.\n",
    "dark green bags contain 2 dark blue bags.\n",
    "dark blue bags contain 2 dark violet bags.\n",
    "dark violet bags contain no other bags.'''\n",
    "\n",
    "test_graph_3 = reverse_graph(parse_data(test_data_2))\n",
    "assert part_2(test_graph_3) == 126"
   ]
  },
  {
   "cell_type": "code",
   "execution_count": 39,
   "metadata": {},
   "outputs": [
    {
     "data": {
      "text/plain": [
       "9339"
      ]
     },
     "execution_count": 39,
     "metadata": {},
     "output_type": "execute_result"
    }
   ],
   "source": [
    "part_2(reverse_graph(graph))"
   ]
  },
  {
   "cell_type": "code",
   "execution_count": null,
   "metadata": {},
   "outputs": [],
   "source": []
  },
  {
   "cell_type": "code",
   "execution_count": null,
   "metadata": {},
   "outputs": [],
   "source": []
  }
 ],
 "metadata": {
  "kernelspec": {
   "display_name": "Python 3",
   "language": "python",
   "name": "python3"
  },
  "language_info": {
   "codemirror_mode": {
    "name": "ipython",
    "version": 3
   },
   "file_extension": ".py",
   "mimetype": "text/x-python",
   "name": "python",
   "nbconvert_exporter": "python",
   "pygments_lexer": "ipython3",
   "version": "3.8.5"
  }
 },
 "nbformat": 4,
 "nbformat_minor": 4
}
