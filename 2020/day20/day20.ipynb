{
 "cells": [
  {
   "cell_type": "markdown",
   "metadata": {},
   "source": [
    "# Day 20\n",
    "## Part 1"
   ]
  },
  {
   "cell_type": "code",
   "execution_count": 56,
   "metadata": {},
   "outputs": [],
   "source": [
    "import parse\n",
    "import itertools\n",
    "from collections import defaultdict\n",
    "from pyrsistent import pvector, pset\n",
    "from functools import lru_cache\n",
    "import operator\n",
    "from functools import reduce\n",
    "import re\n",
    "\n",
    "def parse_data(s):\n",
    "    lines = s.strip().splitlines()\n",
    "    tiles = {}\n",
    "    for i, line in enumerate(lines):\n",
    "        if (p := parse.parse('Tile {id:d}:', line)):\n",
    "            tiles[p['id']] = pvector(lines[i + 1: i + 11])\n",
    "            \n",
    "    return tiles"
   ]
  },
  {
   "cell_type": "code",
   "execution_count": 57,
   "metadata": {},
   "outputs": [],
   "source": [
    "test_input = open('test_input').read()\n",
    "test_tiles = parse_data(test_input)"
   ]
  },
  {
   "cell_type": "code",
   "execution_count": 58,
   "metadata": {},
   "outputs": [
    {
     "data": {
      "text/plain": [
       "3.0"
      ]
     },
     "execution_count": 58,
     "metadata": {},
     "output_type": "execute_result"
    }
   ],
   "source": [
    "len(test_tiles) ** 0.5"
   ]
  },
  {
   "cell_type": "code",
   "execution_count": 59,
   "metadata": {},
   "outputs": [],
   "source": [
    "def north_edge(tile):\n",
    "    return tile[0]\n",
    "\n",
    "def south_edge(tile):\n",
    "    return tile[-1]\n",
    "\n",
    "def east_edge(tile):\n",
    "    return ''.join(row[-1] for row in tile)\n",
    "\n",
    "def west_edge(tile):\n",
    "    return ''.join(row[0] for row in tile)\n",
    "\n",
    "def possible_edges(tile):\n",
    "    edges = {north_edge(tile), south_edge(tile),\n",
    "             west_edge(tile), east_edge(tile)}\n",
    "    return edges | {''.join(reversed(e)) for e in edges}"
   ]
  },
  {
   "cell_type": "code",
   "execution_count": 60,
   "metadata": {},
   "outputs": [],
   "source": [
    "data = open('input').read()\n",
    "tiles = parse_data(data)"
   ]
  },
  {
   "cell_type": "code",
   "execution_count": 61,
   "metadata": {},
   "outputs": [],
   "source": [
    "def generate_graph(tiles):\n",
    "    g = defaultdict(set)\n",
    "    for t1, t2 in itertools.combinations(tiles, 2):\n",
    "        if possible_edges(tiles[t1]) & possible_edges(tiles[t2]):\n",
    "            g[t1].add(t2)\n",
    "            g[t2].add(t1)\n",
    "    return g"
   ]
  },
  {
   "cell_type": "code",
   "execution_count": 62,
   "metadata": {},
   "outputs": [
    {
     "data": {
      "text/plain": [
       "defaultdict(set,\n",
       "            {2311: {1427, 1951, 3079},\n",
       "             1951: {2311, 2729},\n",
       "             1427: {1489, 2311, 2473, 2729},\n",
       "             3079: {2311, 2473},\n",
       "             2729: {1427, 1951, 2971},\n",
       "             1171: {1489, 2473},\n",
       "             1489: {1171, 1427, 2971},\n",
       "             2473: {1171, 1427, 3079},\n",
       "             2971: {1489, 2729}})"
      ]
     },
     "execution_count": 62,
     "metadata": {},
     "output_type": "execute_result"
    }
   ],
   "source": [
    "generate_graph(test_tiles)"
   ]
  },
  {
   "cell_type": "code",
   "execution_count": 63,
   "metadata": {},
   "outputs": [],
   "source": [
    "g = generate_graph(tiles)"
   ]
  },
  {
   "cell_type": "code",
   "execution_count": 64,
   "metadata": {},
   "outputs": [
    {
     "data": {
      "text/plain": [
       "[1699, 2351, 1433, 3229]"
      ]
     },
     "execution_count": 64,
     "metadata": {},
     "output_type": "execute_result"
    }
   ],
   "source": [
    "[n for n in g if len(g[n]) == 2]"
   ]
  },
  {
   "cell_type": "code",
   "execution_count": 65,
   "metadata": {},
   "outputs": [
    {
     "data": {
      "text/plain": [
       "18482479935793"
      ]
     },
     "execution_count": 65,
     "metadata": {},
     "output_type": "execute_result"
    }
   ],
   "source": [
    "import math\n",
    "math.prod(_)"
   ]
  },
  {
   "cell_type": "markdown",
   "metadata": {},
   "source": [
    "## Part 2\n",
    "I can't say I wasn't warned."
   ]
  },
  {
   "cell_type": "code",
   "execution_count": 66,
   "metadata": {},
   "outputs": [
    {
     "data": {
      "text/plain": [
       "12.0"
      ]
     },
     "execution_count": 66,
     "metadata": {},
     "output_type": "execute_result"
    }
   ],
   "source": [
    "len(g) ** 0.5"
   ]
  },
  {
   "cell_type": "code",
   "execution_count": 67,
   "metadata": {},
   "outputs": [
    {
     "data": {
      "text/plain": [
       "10.0"
      ]
     },
     "execution_count": 67,
     "metadata": {},
     "output_type": "execute_result"
    }
   ],
   "source": [
    "len([n for n in g if len(g[n]) == 3])/4"
   ]
  },
  {
   "cell_type": "markdown",
   "metadata": {},
   "source": [
    "Ok, so it's a 12 by 12 square. Let's map it out starting from one of the corners."
   ]
  },
  {
   "cell_type": "code",
   "execution_count": 68,
   "metadata": {},
   "outputs": [],
   "source": [
    "def map_square(graph):\n",
    "    # Width of square\n",
    "    d = int(len(graph) ** 0.5)\n",
    "    # Pick one of the corners\n",
    "    corner = {t for t in graph if len(graph[t]) == 2}.pop()\n",
    "    assigned = {corner}\n",
    "    unassigned = set(graph.keys()) - {corner}\n",
    "    square = {(0, 0): corner}\n",
    "    \n",
    "    for x in range(1, d - 1):\n",
    "        # Add a neighbour if it has a degree of 3, therefore\n",
    "        # is on the square's edge\n",
    "        next_tile = ({t for t in graph[square[(x - 1, 0)]] \n",
    "                      if len(graph[t]) == 3} & unassigned).pop()\n",
    "        square[(x, 0)] = next_tile\n",
    "        assigned.add(next_tile)\n",
    "        unassigned.discard(next_tile)\n",
    "        \n",
    "    # Find the top right corner\n",
    "    next_tile = ({t for t in graph[square[(d - 2, 0)]] \n",
    "                 if len(graph[t]) == 2} & unassigned).pop()\n",
    "    assigned.add(next_tile)\n",
    "    unassigned.discard(next_tile)\n",
    "    square[(d - 1, 0)] = next_tile\n",
    "    \n",
    "    for y in range(1, d - 1):\n",
    "        # Add a neighbour if it has a degree of 3, therefore\n",
    "        # is on the square's edge\n",
    "        next_tile = ({t for t in graph[square[(0, y - 1)]] \n",
    "                      if len(graph[t]) == 3} & unassigned).pop()\n",
    "        square[(0, y)] = next_tile\n",
    "        assigned.add(next_tile)\n",
    "        unassigned.discard(next_tile)\n",
    "        \n",
    "    # Find the bottom left corner\n",
    "    next_tile = ({t for t in graph[square[(0, d - 2)]] \n",
    "                 if len(graph[t]) == 2} & unassigned).pop()\n",
    "    assigned.add(next_tile)\n",
    "    unassigned.discard(next_tile)\n",
    "    square[(0, d - 1)] = next_tile\n",
    "    \n",
    "    # Now add the rest from their top and left corners\n",
    "    for x in range(1, d):\n",
    "        for y in range(1, d):\n",
    "#             print(square)\n",
    "#             print(x, y)\n",
    "#             print(graph[square[(x - 1, y)]])\n",
    "#             print(graph[square[(x, y - 1)]])\n",
    "#             print(unassigned)\n",
    "            next_tile = (graph[square[(x - 1, y)]] \n",
    "                         & graph[square[(x, y - 1)]]\n",
    "                         & unassigned).pop()\n",
    "            square[(x, y)] = next_tile\n",
    "            assigned.add(next_tile)\n",
    "            unassigned.discard(next_tile)\n",
    "\n",
    "    return square"
   ]
  },
  {
   "cell_type": "code",
   "execution_count": 69,
   "metadata": {},
   "outputs": [
    {
     "name": "stdout",
     "output_type": "stream",
     "text": [
      "yxwvu\n",
      "tsrqp\n",
      "onmlk\n",
      "jihgf\n",
      "edcba\n",
      "\n",
      "abcde\n",
      "fghij\n",
      "klmno\n",
      "pqrst\n",
      "uvwxy\n",
      "\n",
      "edcba\n",
      "jihgf\n",
      "onmlk\n",
      "tsrqp\n",
      "yxwvu\n",
      "\n",
      "uvwxy\n",
      "pqrst\n",
      "klmno\n",
      "fghij\n",
      "abcde\n",
      "\n",
      "ejoty\n",
      "dinsx\n",
      "chmrw\n",
      "bglqv\n",
      "afkpu\n",
      "\n",
      "upkfa\n",
      "vqlgb\n",
      "wrmhc\n",
      "xsnid\n",
      "ytoje\n",
      "\n",
      "ytoje\n",
      "xsnid\n",
      "wrmhc\n",
      "vqlgb\n",
      "upkfa\n",
      "\n",
      "afkpu\n",
      "bglqv\n",
      "chmrw\n",
      "dinsx\n",
      "ejoty\n",
      "\n"
     ]
    }
   ],
   "source": [
    "@lru_cache(maxsize=None)\n",
    "def flips_and_rotates(tile):\n",
    "    d = len(tile)\n",
    "    result = pset()\n",
    "    result = result.add(tile)\n",
    "    # flip vertically\n",
    "    result = result.add(pvector(reversed(tile)))\n",
    "    # flip horizontally\n",
    "    result = result.add(pvector(''.join(reversed(row)) for row in tile))\n",
    "    # rotate by 90 degrees three times and flip\n",
    "    # - some of this will be redundant\n",
    "    for _ in range(3):\n",
    "        tile = pvector([\n",
    "            ''.join(reversed(list(tile[i][j] for i in range(d))))\n",
    "            for j in range(d)\n",
    "        ])\n",
    "        result = result.add(tile)\n",
    "        result = result.add(pvector(reversed(tile)))\n",
    "        result = result.add(pvector(''.join(reversed(row)) for row in tile))\n",
    "    return result\n",
    "\n",
    "my_image = pvector('''abcde\n",
    "fghij\n",
    "klmno\n",
    "pqrst\n",
    "uvwxy'''.splitlines())\n",
    "\n",
    "for transform in set(flips_and_rotates(my_image)):\n",
    "    print('\\n'.join(transform))\n",
    "    print()"
   ]
  },
  {
   "cell_type": "markdown",
   "metadata": {},
   "source": [
    "I'm going to hope that the neighbouring edges are unique as there are about $2^9$ of them, accounting for reversals, so I'm not going to search through different permutations of rotations etc."
   ]
  },
  {
   "cell_type": "code",
   "execution_count": 70,
   "metadata": {},
   "outputs": [],
   "source": [
    "def orient_tiles(tiles, square):\n",
    "    sea = {}\n",
    "    top_left = tiles[square[(0, 0)]]\n",
    "    neighbour = tiles[square[(1, 0)]]\n",
    "    lower_neighbour = tiles[square[(0, 1)]]\n",
    "    c = itertools.count(1)\n",
    "    # Orient these three correctly, then the rest\n",
    "    # will follow\n",
    "    for t1, t2, t3 in itertools.product(\n",
    "        flips_and_rotates(top_left), \n",
    "        flips_and_rotates(neighbour),\n",
    "        flips_and_rotates(lower_neighbour)\n",
    "    ):\n",
    "        if east_edge(t1) == west_edge(t2) and south_edge(t1) == north_edge(t3):\n",
    "            sea[(0, 0)] = t1\n",
    "            sea[(1, 0)] = t2\n",
    "            break\n",
    "            \n",
    "    # print(f'Sea is {sea}')\n",
    "    \n",
    "    d = max(x for x, _ in square) + 1\n",
    "    for x in range(2, d):\n",
    "        tile_1 = sea[(x - 1, 0)]\n",
    "        tile_2 = tiles[square[(x, 0)]]\n",
    "        \n",
    "        for t in flips_and_rotates(tile_2):\n",
    "            if east_edge(tile_1) == west_edge(t):\n",
    "                sea[(x, 0)] = t\n",
    "                break\n",
    "                \n",
    "    for y in range(1, d):\n",
    "        for x in range(d):\n",
    "            tile_1 = sea[(x, y - 1)]\n",
    "            tile_2 = tiles[square[(x, y)]]\n",
    "        \n",
    "            for t in flips_and_rotates(tile_2):\n",
    "                if south_edge(tile_1) == north_edge(t):\n",
    "                    sea[(x, y)] = t    \n",
    "            \n",
    "    return sea"
   ]
  },
  {
   "cell_type": "code",
   "execution_count": 71,
   "metadata": {},
   "outputs": [],
   "source": [
    "def remove_edges(orient):\n",
    "    result = {}\n",
    "    for k, v in orient.items():\n",
    "        result[k] = pvector([line[1:-1] for line in v[1:-1]])\n",
    "    return result\n",
    "\n",
    "\n",
    "def create_image(trimmed):\n",
    "    d = max(x for x, _ in trimmed) + 1\n",
    "    n = len(trimmed[(0, 0)][0])\n",
    "    result = pvector()\n",
    "    \n",
    "    for x in range(d):\n",
    "        for i in range(n):\n",
    "            result = result.append(''.join(reduce(operator.add, (trimmed[(y, x)][i] for y in range(d)))))\n",
    "            \n",
    "    return result\n"
   ]
  },
  {
   "cell_type": "code",
   "execution_count": 72,
   "metadata": {},
   "outputs": [
    {
     "name": "stdout",
     "output_type": "stream",
     "text": [
      "..................#.\n",
      "#....##....##....###\n",
      ".#..#..#..#..#..#...\n"
     ]
    }
   ],
   "source": [
    "SEA_MONSTER = '''                  # \n",
    "#    ##    ##    ###\n",
    " #  #  #  #  #  #   '''.replace(' ', '.')\n",
    "\n",
    "print(SEA_MONSTER)"
   ]
  },
  {
   "cell_type": "code",
   "execution_count": 73,
   "metadata": {},
   "outputs": [],
   "source": [
    "def find_sea_monsters(image):\n",
    "    d = len(image)\n",
    "    sea_monster_length = len(SEA_MONSTER.split()[0])\n",
    "    sea_monster_res = [re.compile(line) for line in SEA_MONSTER.split()]\n",
    "    # print(sea_monster_res)\n",
    "    sea_monsters = 0\n",
    "    \n",
    "    for x in range(d - sea_monster_length):\n",
    "        for y in range(d - 3):\n",
    "            there_is_a_sea_monster = True\n",
    "            for i in range(3):\n",
    "#                 print(y, x, i)\n",
    "#                 print(sea_monster_res[i])\n",
    "#                 print(image[y + i][x:x + sea_monster_length])\n",
    "#                 print(re.match(sea_monster_res[i], image[y + i][x:x + sea_monster_length]))\n",
    "                if not re.match(sea_monster_res[i], image[y + i][x:x + sea_monster_length]):\n",
    "                    there_is_a_sea_monster = False\n",
    "                    \n",
    "            if there_is_a_sea_monster:    \n",
    "                sea_monsters += 1\n",
    "                \n",
    "    return sea_monsters"
   ]
  },
  {
   "cell_type": "code",
   "execution_count": 82,
   "metadata": {},
   "outputs": [],
   "source": [
    "def part_2(tiles):\n",
    "    g = generate_graph(tiles)\n",
    "    #print(g)\n",
    "    square = map_square(g)\n",
    "    #print(square)\n",
    "    orient = orient_tiles(tiles, square)\n",
    "    trimmed = remove_edges(orient)\n",
    "    image = create_image(trimmed)\n",
    "    seamonsters = sum(\n",
    "        find_sea_monsters(transform) \n",
    "        for transform in flips_and_rotates(image)\n",
    "    )\n",
    "    return ''.join(image).count('#') - seamonsters * SEA_MONSTER.count('#')"
   ]
  },
  {
   "cell_type": "code",
   "execution_count": 83,
   "metadata": {},
   "outputs": [
    {
     "data": {
      "text/plain": [
       "273"
      ]
     },
     "execution_count": 83,
     "metadata": {},
     "output_type": "execute_result"
    }
   ],
   "source": [
    "part_2(test_tiles)"
   ]
  },
  {
   "cell_type": "code",
   "execution_count": 84,
   "metadata": {},
   "outputs": [
    {
     "data": {
      "text/plain": [
       "2118"
      ]
     },
     "execution_count": 84,
     "metadata": {},
     "output_type": "execute_result"
    }
   ],
   "source": [
    "part_2(tiles)"
   ]
  },
  {
   "cell_type": "markdown",
   "metadata": {},
   "source": [
    "AT LAST. \n",
    "\n",
    "I must never again get this far into the weeds with one of these problems. What a waste of time."
   ]
  },
  {
   "cell_type": "code",
   "execution_count": null,
   "metadata": {},
   "outputs": [],
   "source": []
  }
 ],
 "metadata": {
  "kernelspec": {
   "display_name": "Python 3",
   "language": "python",
   "name": "python3"
  },
  "language_info": {
   "codemirror_mode": {
    "name": "ipython",
    "version": 3
   },
   "file_extension": ".py",
   "mimetype": "text/x-python",
   "name": "python",
   "nbconvert_exporter": "python",
   "pygments_lexer": "ipython3",
   "version": "3.8.5"
  }
 },
 "nbformat": 4,
 "nbformat_minor": 4
}
