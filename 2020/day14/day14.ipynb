{
 "cells": [
  {
   "cell_type": "markdown",
   "metadata": {},
   "source": [
    "# Day 14\n",
    "## Part 1"
   ]
  },
  {
   "cell_type": "code",
   "execution_count": 2,
   "metadata": {},
   "outputs": [],
   "source": [
    "import parse\n",
    "from collections import defaultdict"
   ]
  },
  {
   "cell_type": "markdown",
   "metadata": {},
   "source": [
    "Use bitwise operators to apply the mask. Split the mask into two, one with the specified 1s and zeroes everywhere else - bitwise `or` with the value to apply this; and one with the specifies zeroes and 1s everywhere else, bitwise `and` with the value to apply this."
   ]
  },
  {
   "cell_type": "code",
   "execution_count": 23,
   "metadata": {},
   "outputs": [],
   "source": [
    "def part_1(data):\n",
    "    memory = defaultdict(int)\n",
    "    for line in data:\n",
    "        line = line.strip()\n",
    "        if (p := parse.parse('mask = {mask}', line)):\n",
    "            mask = p['mask']\n",
    "            mask_0 = sum(\n",
    "                2 ** (len(mask) - 1 - i) \n",
    "                for i, n in enumerate(mask)\n",
    "                if n != \"0\"\n",
    "            )            \n",
    "            mask_1 = sum(\n",
    "                2 ** (len(mask) - 1 - i) \n",
    "                for i, n in enumerate(mask)\n",
    "                if n == '1'\n",
    "            )\n",
    "        elif (p := parse.parse('mem[{mem:d}] = {value:d}', line)):\n",
    "            memory[p['mem']] = (p['value'] | mask_1) & mask_0\n",
    "            \n",
    "    return sum(memory.values())"
   ]
  },
  {
   "cell_type": "code",
   "execution_count": 24,
   "metadata": {},
   "outputs": [],
   "source": [
    "test_data = '''mask = XXXXXXXXXXXXXXXXXXXXXXXXXXXXX1XXXX0X\n",
    "mem[8] = 11\n",
    "mem[7] = 101\n",
    "mem[8] = 0'''.splitlines()\n",
    "\n",
    "assert part_1(test_data) == 165"
   ]
  },
  {
   "cell_type": "code",
   "execution_count": 25,
   "metadata": {},
   "outputs": [
    {
     "data": {
      "text/plain": [
       "15514035145260"
      ]
     },
     "execution_count": 25,
     "metadata": {},
     "output_type": "execute_result"
    }
   ],
   "source": [
    "data = open('input').read().strip().splitlines()\n",
    "part_1(data)"
   ]
  },
  {
   "cell_type": "markdown",
   "metadata": {},
   "source": [
    "## Part 2\n",
    "\n",
    "What are the maximum number of combinations from a mask?"
   ]
  },
  {
   "cell_type": "code",
   "execution_count": 30,
   "metadata": {},
   "outputs": [
    {
     "data": {
      "text/plain": [
       "512"
      ]
     },
     "execution_count": 30,
     "metadata": {},
     "output_type": "execute_result"
    }
   ],
   "source": [
    "2**max(line.count('X') for line in data)"
   ]
  },
  {
   "cell_type": "markdown",
   "metadata": {},
   "source": [
    "That looks tractable to brute force."
   ]
  },
  {
   "cell_type": "code",
   "execution_count": 91,
   "metadata": {},
   "outputs": [],
   "source": [
    "import itertools\n",
    "\n",
    "def part_2(data):\n",
    "    memory = defaultdict(int)\n",
    "    for line in data:\n",
    "        line = line.strip()\n",
    "        if (p := parse.parse('mask = {mask}', line)):\n",
    "            mask = p['mask']\n",
    "            mask_1 = sum(\n",
    "                2 ** (len(mask) - 1 - i) \n",
    "                for i, n in enumerate(mask)\n",
    "                if n == '1'\n",
    "            )\n",
    "            mask_x = [\n",
    "                len(mask) - 1 - i \n",
    "                for i, n in enumerate(mask)\n",
    "                if n == 'X'\n",
    "            ]\n",
    "        elif (p := parse.parse('mem[{mem:d}] = {value:d}', line)):\n",
    "            memory_address = (p['mem'] | mask_1)\n",
    "            for floating_mask in itertools.product([0, 1], repeat=len(mask_x)):\n",
    "                floating_zeroes = 2 ** 36 - 1\n",
    "                floating_ones = 0\n",
    "                for i, b in zip(mask_x, floating_mask):\n",
    "                    if b == 0:\n",
    "                        floating_zeroes -= 2 ** i\n",
    "                    else:\n",
    "                        floating_ones += 2 ** i\n",
    "                memory[(memory_address | floating_ones) & floating_zeroes] = p['value']\n",
    "    return sum(memory.values())\n",
    "            "
   ]
  },
  {
   "cell_type": "code",
   "execution_count": 92,
   "metadata": {},
   "outputs": [
    {
     "data": {
      "text/plain": [
       "208"
      ]
     },
     "execution_count": 92,
     "metadata": {},
     "output_type": "execute_result"
    }
   ],
   "source": [
    "test_data_2 = '''mask = 000000000000000000000000000000X1001X\n",
    "mem[42] = 100\n",
    "mask = 00000000000000000000000000000000X0XX\n",
    "mem[26] = 1'''.splitlines()\n",
    "\n",
    "part_2(test_data_2)"
   ]
  },
  {
   "cell_type": "code",
   "execution_count": 94,
   "metadata": {},
   "outputs": [
    {
     "data": {
      "text/plain": [
       "3926790061594"
      ]
     },
     "execution_count": 94,
     "metadata": {},
     "output_type": "execute_result"
    }
   ],
   "source": [
    "part_2(data)"
   ]
  },
  {
   "cell_type": "code",
   "execution_count": 95,
   "metadata": {},
   "outputs": [
    {
     "name": "stdout",
     "output_type": "stream",
     "text": [
      "488 ms ± 27 ms per loop (mean ± std. dev. of 7 runs, 1 loop each)\n"
     ]
    }
   ],
   "source": [
    "%%timeit \n",
    "part_2(data)"
   ]
  },
  {
   "cell_type": "code",
   "execution_count": null,
   "metadata": {},
   "outputs": [],
   "source": []
  }
 ],
 "metadata": {
  "kernelspec": {
   "display_name": "Python 3",
   "language": "python",
   "name": "python3"
  },
  "language_info": {
   "codemirror_mode": {
    "name": "ipython",
    "version": 3
   },
   "file_extension": ".py",
   "mimetype": "text/x-python",
   "name": "python",
   "nbconvert_exporter": "python",
   "pygments_lexer": "ipython3",
   "version": "3.8.5"
  }
 },
 "nbformat": 4,
 "nbformat_minor": 4
}
