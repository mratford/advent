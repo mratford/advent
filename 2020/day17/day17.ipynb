{
 "cells": [
  {
   "cell_type": "markdown",
   "metadata": {},
   "source": [
    "# Day 17\n",
    "## Part 1\n",
    "\n",
    "Represent the active cubes as a set of coordinates."
   ]
  },
  {
   "cell_type": "code",
   "execution_count": 1,
   "metadata": {},
   "outputs": [
    {
     "data": {
      "text/plain": [
       "112"
      ]
     },
     "execution_count": 1,
     "metadata": {},
     "output_type": "execute_result"
    }
   ],
   "source": [
    "import itertools\n",
    "\n",
    "\n",
    "DIRECTIONS = {\n",
    "    (x, y, z) for x, y, z in itertools.product([0, 1, -1], repeat=3)\n",
    "} - {(0, 0, 0)}\n",
    "\n",
    "\n",
    "def parse_data(s):\n",
    "    return {\n",
    "        (x, y, 0)\n",
    "        for y, row in enumerate(s.strip().splitlines())\n",
    "        for x, c in enumerate(row)\n",
    "        if c == '#'\n",
    "    }\n",
    "\n",
    "\n",
    "def neighbours(coord):\n",
    "    x, y, z = coord\n",
    "    return {\n",
    "        (x + dx, y + dy, z + dz)\n",
    "        for dx, dy, dz in DIRECTIONS\n",
    "    }\n",
    "\n",
    "\n",
    "def cycle(active):\n",
    "    new_active = set()\n",
    "    # Need to check all the neighbours of active cubes\n",
    "    to_check = set()\n",
    "    \n",
    "    for coord in active:\n",
    "        nbrs = neighbours(coord)\n",
    "        to_check |= nbrs\n",
    "        if 2 <= len(nbrs & active) <= 3:\n",
    "            new_active.add(coord)\n",
    "            \n",
    "    for coord in to_check - active:\n",
    "        if 3 == len(neighbours(coord) & active):\n",
    "            new_active.add(coord)\n",
    "            \n",
    "    return new_active\n",
    "\n",
    "\n",
    "def print_state(state):\n",
    "    xs, ys, zs = zip(*state)\n",
    "    for z in range(min(zs), max(zs) + 1):\n",
    "        print(f'z={z}')\n",
    "        for y in range(min(ys), max(ys) + 1):\n",
    "            print(''.join([\n",
    "                '#' if (x, y, z) in state else '.'\n",
    "                for x in range(min(xs), max(xs) + 1)\n",
    "            ]))\n",
    "        print\n",
    "\n",
    "\n",
    "def part_1(state, debug=False):\n",
    "    if debug:\n",
    "        print_state(state)\n",
    "        print()\n",
    "    for i in range(6):\n",
    "        state = cycle(state)\n",
    "        if debug:\n",
    "            print(f'Cycle {i}')\n",
    "            print_state(state)\n",
    "            print()\n",
    "    return len(state)\n",
    "\n",
    "\n",
    "test_data = parse_data('''.#.\n",
    "..#\n",
    "###''')\n",
    "\n",
    "part_1(test_data, debug=False)"
   ]
  },
  {
   "cell_type": "code",
   "execution_count": 2,
   "metadata": {},
   "outputs": [
    {
     "data": {
      "text/plain": [
       "384"
      ]
     },
     "execution_count": 2,
     "metadata": {},
     "output_type": "execute_result"
    }
   ],
   "source": [
    "data = parse_data(open('input').read().strip())\n",
    "part_1(data)"
   ]
  },
  {
   "cell_type": "markdown",
   "metadata": {},
   "source": [
    "## Part 2\n",
    "\n",
    "Just copy and paste, adding a dimension."
   ]
  },
  {
   "cell_type": "code",
   "execution_count": 3,
   "metadata": {},
   "outputs": [
    {
     "data": {
      "text/plain": [
       "848"
      ]
     },
     "execution_count": 3,
     "metadata": {},
     "output_type": "execute_result"
    }
   ],
   "source": [
    "import itertools\n",
    "\n",
    "\n",
    "DIRECTIONS = {\n",
    "    (x, y, z, w) for x, y, z, w in itertools.product([0, 1, -1], repeat=4)\n",
    "} - {(0, 0, 0, 0)}\n",
    "\n",
    "\n",
    "def parse_data(s):\n",
    "    return {\n",
    "        (x, y, 0, 0)\n",
    "        for y, row in enumerate(s.strip().splitlines())\n",
    "        for x, c in enumerate(row)\n",
    "        if c == '#'\n",
    "    }\n",
    "\n",
    "\n",
    "def neighbours(coord):\n",
    "    x, y, z, w = coord\n",
    "    return {\n",
    "        (x + dx, y + dy, z + dz, w + dw)\n",
    "        for dx, dy, dz, dw in DIRECTIONS\n",
    "    }\n",
    "\n",
    "\n",
    "def cycle(active):\n",
    "    new_active = set()\n",
    "    to_check = set()\n",
    "    \n",
    "    for coord in active:\n",
    "        nbrs = neighbours(coord)\n",
    "        to_check |= nbrs\n",
    "        if 2 <= len(nbrs & active) <= 3:\n",
    "            new_active.add(coord)\n",
    "            \n",
    "    for coord in to_check - active:\n",
    "        if 3 == len(neighbours(coord) & active):\n",
    "            new_active.add(coord)\n",
    "            \n",
    "    return new_active\n",
    "\n",
    "\n",
    "def print_state(state):\n",
    "    xs, ys, zs, ws = zip(*state)\n",
    "    for w in sorted(ws):\n",
    "        for z in sorted(zs):\n",
    "            print(f'z={z}, w={w}')\n",
    "            for y in range(min(ys), max(ys) + 1):\n",
    "                print(''.join([\n",
    "                    '#' if (x, y, z) in state else '.'\n",
    "                    for x in range(min(xs), max(xs) + 1)\n",
    "                ]))\n",
    "            print\n",
    "\n",
    "\n",
    "def part_2(state, debug=False):\n",
    "    if debug:\n",
    "        print_state(state)\n",
    "        print()\n",
    "    for i in range(6):\n",
    "        state = cycle(state)\n",
    "        if debug:\n",
    "            print(f'Cycle {i}')\n",
    "            print_state(state)\n",
    "            print()\n",
    "    return len(state)\n",
    "\n",
    "\n",
    "test_data = parse_data('''.#.\n",
    "..#\n",
    "###''')\n",
    "\n",
    "part_2(test_data, debug=False)"
   ]
  },
  {
   "cell_type": "code",
   "execution_count": 4,
   "metadata": {},
   "outputs": [],
   "source": [
    "data = parse_data(open('input').read().strip())"
   ]
  },
  {
   "cell_type": "code",
   "execution_count": 5,
   "metadata": {},
   "outputs": [
    {
     "name": "stdout",
     "output_type": "stream",
     "text": [
      "CPU times: user 1.92 s, sys: 13.4 ms, total: 1.94 s\n",
      "Wall time: 1.94 s\n"
     ]
    },
    {
     "data": {
      "text/plain": [
       "2012"
      ]
     },
     "execution_count": 5,
     "metadata": {},
     "output_type": "execute_result"
    }
   ],
   "source": [
    "%time part_2(data)"
   ]
  },
  {
   "cell_type": "code",
   "execution_count": null,
   "metadata": {},
   "outputs": [],
   "source": []
  }
 ],
 "metadata": {
  "kernelspec": {
   "display_name": "Python 3",
   "language": "python",
   "name": "python3"
  },
  "language_info": {
   "codemirror_mode": {
    "name": "ipython",
    "version": 3
   },
   "file_extension": ".py",
   "mimetype": "text/x-python",
   "name": "python",
   "nbconvert_exporter": "python",
   "pygments_lexer": "ipython3",
   "version": "3.9.0"
  }
 },
 "nbformat": 4,
 "nbformat_minor": 4
}
