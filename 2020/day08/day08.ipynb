{
 "cells": [
  {
   "cell_type": "code",
   "execution_count": 34,
   "metadata": {},
   "outputs": [],
   "source": [
    "from collections import namedtuple\n",
    "\n",
    "OpCall = namedtuple('OpCall', 'op param')\n",
    "\n",
    "class Console:\n",
    "    def __init__(self, program: str):\n",
    "        self.acc = 0\n",
    "        self.ptr = 0\n",
    "        self.code = []\n",
    "        \n",
    "        for line in program.splitlines():\n",
    "            op, param = line.strip().split()\n",
    "            self.code.append(OpCall(op, int(param)))\n",
    "            \n",
    "            \n",
    "    def nop(self, param):\n",
    "        self.ptr += 1\n",
    "    \n",
    "    \n",
    "    def acc_op(self, param):\n",
    "        self.acc += param\n",
    "        self.ptr += 1\n",
    "\n",
    "        \n",
    "    def jmp_op(self, param):\n",
    "        self.ptr += param    \n",
    "        \n",
    "        \n",
    "    def run_until_repeat(self):\n",
    "        seen_ptrs = set()\n",
    "\n",
    "        while self.ptr not in seen_ptrs:\n",
    "            seen_ptrs.add(self.ptr)\n",
    "            op, param = self.code[self.ptr]\n",
    "            \n",
    "            if op == 'nop':\n",
    "                self.nop(param)\n",
    "            elif op == 'acc':\n",
    "                self.acc_op(param)\n",
    "            elif op == 'jmp':\n",
    "                self.jmp_op(param)\n",
    "                \n",
    "        return self.acc\n",
    "    \n",
    "    \n",
    "    # For Part 2\n",
    "    # Return an empty list if there's a loop, otherwise a list \n",
    "    # containing the accumulator (in case the acc is zero, will \n",
    "    # want to test for truthiness)\n",
    "    def run(self):\n",
    "        self.reset()\n",
    "        seen_ptrs = set()\n",
    "\n",
    "        while self.ptr not in seen_ptrs:\n",
    "            if self.ptr < 0 or self.ptr >= len(self.code):\n",
    "                return [self.acc]\n",
    "            \n",
    "            seen_ptrs.add(self.ptr)\n",
    "            op, param = self.code[self.ptr]\n",
    "            \n",
    "            if op == 'nop':\n",
    "                self.nop(param)\n",
    "            elif op == 'acc':\n",
    "                self.acc_op(param)\n",
    "            elif op == 'jmp':\n",
    "                self.jmp_op(param)\n",
    "                \n",
    "        return []\n",
    "    \n",
    "    \n",
    "    def swap_op(self, i):\n",
    "        op, param = self.code[i]\n",
    "        if op == 'nop':\n",
    "            op = 'jmp'\n",
    "        elif op == 'jmp':\n",
    "            op = 'nop'\n",
    "        self.code[i] = OpCall(op, param)\n",
    "        \n",
    "        \n",
    "    def find_glitch(self):\n",
    "        for i in range(len(code)):\n",
    "            if self.code[i].op in ('nop', 'jmp'):\n",
    "                self.swap_op(i)\n",
    "                result = self.run()\n",
    "                self.swap_op(i)\n",
    "                if result:\n",
    "                    return result[0]\n",
    "                \n",
    "                \n",
    "    def reset(self):\n",
    "        self.acc = 0\n",
    "        self.ptr = 0\n",
    "        \n",
    "                 \n",
    "test_code = '''nop +0\n",
    "acc +1\n",
    "jmp +4\n",
    "acc +3\n",
    "jmp -3\n",
    "acc -99\n",
    "acc +1\n",
    "jmp -4\n",
    "acc +6'''\n",
    "\n",
    "assert Console(test_code).run_until_repeat() == 5"
   ]
  },
  {
   "cell_type": "code",
   "execution_count": 35,
   "metadata": {},
   "outputs": [
    {
     "data": {
      "text/plain": [
       "1818"
      ]
     },
     "execution_count": 35,
     "metadata": {},
     "output_type": "execute_result"
    }
   ],
   "source": [
    "code = open('input').read()\n",
    "Console(code).run_until_repeat()"
   ]
  },
  {
   "cell_type": "markdown",
   "metadata": {},
   "source": [
    "## Part 2"
   ]
  },
  {
   "cell_type": "code",
   "execution_count": 36,
   "metadata": {},
   "outputs": [],
   "source": [
    "assert Console(test_code).find_glitch() == 8"
   ]
  },
  {
   "cell_type": "code",
   "execution_count": 38,
   "metadata": {},
   "outputs": [
    {
     "data": {
      "text/plain": [
       "631"
      ]
     },
     "execution_count": 38,
     "metadata": {},
     "output_type": "execute_result"
    }
   ],
   "source": [
    "Console(code).find_glitch()"
   ]
  },
  {
   "cell_type": "code",
   "execution_count": null,
   "metadata": {},
   "outputs": [],
   "source": []
  }
 ],
 "metadata": {
  "kernelspec": {
   "display_name": "Python 3",
   "language": "python",
   "name": "python3"
  },
  "language_info": {
   "codemirror_mode": {
    "name": "ipython",
    "version": 3
   },
   "file_extension": ".py",
   "mimetype": "text/x-python",
   "name": "python",
   "nbconvert_exporter": "python",
   "pygments_lexer": "ipython3",
   "version": "3.8.5"
  }
 },
 "nbformat": 4,
 "nbformat_minor": 4
}
