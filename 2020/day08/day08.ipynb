{
 "cells": [
  {
   "cell_type": "code",
   "execution_count": 22,
   "metadata": {},
   "outputs": [],
   "source": [
    "from collections import namedtuple\n",
    "\n",
    "OpCall = namedtuple('OpCall', 'op param')\n",
    "\n",
    "class Console:\n",
    "    def __init__(self, program: str):\n",
    "        self.acc = 0\n",
    "        self.ptr = 0\n",
    "        self.code = []\n",
    "        \n",
    "        for line in program.splitlines():\n",
    "            op, param = line.strip().split()\n",
    "            self.code.append(OpCall(op, int(param)))\n",
    "            \n",
    "            \n",
    "    def nop(self, param):\n",
    "        self.ptr += 1\n",
    "    \n",
    "    \n",
    "    def acc_op(self, param):\n",
    "        self.acc += param\n",
    "        self.ptr += 1\n",
    "\n",
    "        \n",
    "    def jmp_op(self, param):\n",
    "        self.ptr += param    \n",
    "        \n",
    "        \n",
    "    def run_until_repeat(self):\n",
    "        seen_ptrs = set()\n",
    "\n",
    "        while self.ptr not in seen_ptrs:\n",
    "            seen_ptrs.add(self.ptr)\n",
    "            op, param = self.code[self.ptr]\n",
    "            \n",
    "            if op == 'nop':\n",
    "                self.nop(param)\n",
    "            elif op == 'acc':\n",
    "                self.acc_op(param)\n",
    "            elif op == 'jmp':\n",
    "                self.jmp_op(param)\n",
    "                \n",
    "        return self.acc\n",
    "            \n",
    "            \n",
    "test_code = '''nop +0\n",
    "acc +1\n",
    "jmp +4\n",
    "acc +3\n",
    "jmp -3\n",
    "acc -99\n",
    "acc +1\n",
    "jmp -4\n",
    "acc +6'''\n",
    "\n",
    "assert Console(test_code).run_until_repeat() == 5"
   ]
  },
  {
   "cell_type": "code",
   "execution_count": 24,
   "metadata": {},
   "outputs": [
    {
     "data": {
      "text/plain": [
       "1818"
      ]
     },
     "execution_count": 24,
     "metadata": {},
     "output_type": "execute_result"
    }
   ],
   "source": [
    "code = open('input').read()\n",
    "Console(code).run_until_repeat()"
   ]
  },
  {
   "cell_type": "markdown",
   "metadata": {},
   "source": [
    "## Part 2\n",
    "\n",
    "Looks straightforwardish but I'll leave it until later."
   ]
  },
  {
   "cell_type": "code",
   "execution_count": null,
   "metadata": {},
   "outputs": [],
   "source": []
  }
 ],
 "metadata": {
  "kernelspec": {
   "display_name": "Python 3",
   "language": "python",
   "name": "python3"
  },
  "language_info": {
   "codemirror_mode": {
    "name": "ipython",
    "version": 3
   },
   "file_extension": ".py",
   "mimetype": "text/x-python",
   "name": "python",
   "nbconvert_exporter": "python",
   "pygments_lexer": "ipython3",
   "version": "3.8.5"
  }
 },
 "nbformat": 4,
 "nbformat_minor": 4
}
