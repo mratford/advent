{
 "cells": [
  {
   "cell_type": "markdown",
   "metadata": {},
   "source": [
    "# Day 24\n",
    "## Part 1\n",
    "\n",
    "Use cube coordinates for ease - https://www.redblobgames.com/grids/hexagons/#coordinates."
   ]
  },
  {
   "cell_type": "code",
   "execution_count": 7,
   "metadata": {},
   "outputs": [],
   "source": [
    "DIRECTIONS = {\n",
    "    'e': (1, -1, 0),\n",
    "    'w': (-1, 1, 0),\n",
    "    'ne': (1, 0, -1),\n",
    "    'sw': (-1, 0, 1),\n",
    "    'nw': (0, 1, -1),\n",
    "    'se': (0, -1, 1)\n",
    "}\n",
    "\n",
    "\n",
    "def which_tile(line):\n",
    "    x, y, z = (0, 0, 0)\n",
    "    p = 0\n",
    "    \n",
    "    while p < len(line):\n",
    "        d = line[p]\n",
    "        if d in 'ns':\n",
    "            d += line[p + 1]\n",
    "            p += 1\n",
    "        p += 1\n",
    "        dx, dy, dz = DIRECTIONS[d]\n",
    "        x, y, z = x + dx, y + dy, z + dz\n",
    "        \n",
    "    return (x, y, z)\n",
    "\n",
    "\n",
    "def part_1(data):\n",
    "    flipped = set()\n",
    "    \n",
    "    for line in data.strip().splitlines():\n",
    "        tile = which_tile(line)\n",
    "        \n",
    "        if tile in flipped:\n",
    "            flipped.discard(tile)\n",
    "        else:\n",
    "            flipped.add(tile)\n",
    "            \n",
    "    return len(flipped)"
   ]
  },
  {
   "cell_type": "code",
   "execution_count": 8,
   "metadata": {},
   "outputs": [],
   "source": [
    "test_data = '''sesenwnenenewseeswwswswwnenewsewsw\n",
    "neeenesenwnwwswnenewnwwsewnenwseswesw\n",
    "seswneswswsenwwnwse\n",
    "nwnwneseeswswnenewneswwnewseswneseene\n",
    "swweswneswnenwsewnwneneseenw\n",
    "eesenwseswswnenwswnwnwsewwnwsene\n",
    "sewnenenenesenwsewnenwwwse\n",
    "wenwwweseeeweswwwnwwe\n",
    "wsweesenenewnwwnwsenewsenwwsesesenwne\n",
    "neeswseenwwswnwswswnw\n",
    "nenwswwsewswnenenewsenwsenwnesesenew\n",
    "enewnwewneswsewnwswenweswnenwsenwsw\n",
    "sweneswneswneneenwnewenewwneswswnese\n",
    "swwesenesewenwneswnwwneseswwne\n",
    "enesenwswwswneneswsenwnewswseenwsese\n",
    "wnwnesenesenenwwnenwsewesewsesesew\n",
    "nenewswnwewswnenesenwnesewesw\n",
    "eneswnwswnwsenenwnwnwwseeswneewsenese\n",
    "neswnwewnwnwseenwseesewsenwsweewe\n",
    "wseweeenwnesenwwwswnew'''\n",
    "\n",
    "assert part_1(test_data) == 10"
   ]
  },
  {
   "cell_type": "code",
   "execution_count": 9,
   "metadata": {},
   "outputs": [
    {
     "data": {
      "text/plain": [
       "459"
      ]
     },
     "execution_count": 9,
     "metadata": {},
     "output_type": "execute_result"
    }
   ],
   "source": [
    "data = open('input').read()\n",
    "part_1(data)"
   ]
  },
  {
   "cell_type": "markdown",
   "metadata": {},
   "source": [
    "## Part 2"
   ]
  },
  {
   "cell_type": "code",
   "execution_count": 10,
   "metadata": {},
   "outputs": [],
   "source": [
    "def neighbours(tiles):\n",
    "    nbrs = set()\n",
    "    \n",
    "    for x, y, z in tiles:\n",
    "        for dx, dy, dz in DIRECTIONS.values():\n",
    "            nbrs.add((x + dx, y + dy, z + dz))\n",
    "            \n",
    "    return nbrs\n",
    "\n",
    "\n",
    "def starting_black_tiles(data):\n",
    "    flipped = set()\n",
    "    \n",
    "    for line in data.strip().splitlines():\n",
    "        tile = which_tile(line)\n",
    "        \n",
    "        if tile in flipped:\n",
    "            flipped.discard(tile)\n",
    "        else:\n",
    "            flipped.add(tile)\n",
    "            \n",
    "    return flipped\n",
    "\n",
    "\n",
    "def one_day(black_tiles):\n",
    "    white_tiles = neighbours(black_tiles) - black_tiles\n",
    "    new_black_tiles = black_tiles.copy()\n",
    "    # Flip black tiles to white\n",
    "    new_black_tiles -= {\n",
    "        tile\n",
    "        for tile in black_tiles\n",
    "        if not (0 < len(neighbours({tile}) & black_tiles) < 3)\n",
    "    }\n",
    "    # Flip white tiles to black\n",
    "    new_black_tiles |= {\n",
    "        tile\n",
    "        for tile in white_tiles\n",
    "        if len(neighbours({tile}) & black_tiles) == 2\n",
    "    }\n",
    "    \n",
    "    return new_black_tiles"
   ]
  },
  {
   "cell_type": "code",
   "execution_count": 13,
   "metadata": {},
   "outputs": [
    {
     "name": "stdout",
     "output_type": "stream",
     "text": [
      "1 15\n",
      "2 12\n",
      "3 25\n",
      "4 14\n",
      "5 23\n",
      "6 28\n",
      "7 41\n",
      "8 37\n",
      "9 49\n",
      "10 37\n",
      "20 132\n",
      "30 259\n",
      "40 406\n",
      "50 566\n",
      "60 788\n",
      "70 1106\n",
      "80 1373\n",
      "90 1844\n",
      "100 2208\n"
     ]
    }
   ],
   "source": [
    "ts = starting_black_tiles(test_data)\n",
    "for i in range(1, 11):\n",
    "    ts = one_day(ts)\n",
    "    print(i, len(ts))\n",
    "for i in range(11, 101):\n",
    "    ts = one_day(ts)\n",
    "    if i % 10 == 0:\n",
    "        print(i, len(ts))\n",
    "    "
   ]
  },
  {
   "cell_type": "code",
   "execution_count": 14,
   "metadata": {},
   "outputs": [
    {
     "name": "stdout",
     "output_type": "stream",
     "text": [
      "1 304\n",
      "2 339\n",
      "3 413\n",
      "4 416\n",
      "5 406\n",
      "6 463\n",
      "7 445\n",
      "8 473\n",
      "9 486\n",
      "10 541\n",
      "20 788\n",
      "30 1100\n",
      "40 1419\n",
      "50 1768\n",
      "60 2089\n",
      "70 2593\n",
      "80 3198\n",
      "90 3561\n",
      "100 4150\n"
     ]
    }
   ],
   "source": [
    "ts = starting_black_tiles(data)\n",
    "for i in range(1, 11):\n",
    "    ts = one_day(ts)\n",
    "    print(i, len(ts))\n",
    "for i in range(11, 101):\n",
    "    ts = one_day(ts)\n",
    "    if i % 10 == 0:\n",
    "        print(i, len(ts))"
   ]
  },
  {
   "cell_type": "code",
   "execution_count": null,
   "metadata": {},
   "outputs": [],
   "source": []
  }
 ],
 "metadata": {
  "kernelspec": {
   "display_name": "Python 3",
   "language": "python",
   "name": "python3"
  },
  "language_info": {
   "codemirror_mode": {
    "name": "ipython",
    "version": 3
   },
   "file_extension": ".py",
   "mimetype": "text/x-python",
   "name": "python",
   "nbconvert_exporter": "python",
   "pygments_lexer": "ipython3",
   "version": "3.9.0"
  }
 },
 "nbformat": 4,
 "nbformat_minor": 4
}
