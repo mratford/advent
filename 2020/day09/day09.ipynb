{
 "cells": [
  {
   "cell_type": "markdown",
   "metadata": {},
   "source": [
    "# Day 9\n",
    "## Part 1\n",
    "\n",
    "Use the more efficient sort and iteratively sum from the outside to find the two numbers whose sum is equal to the target."
   ]
  },
  {
   "cell_type": "code",
   "execution_count": 11,
   "metadata": {},
   "outputs": [],
   "source": [
    "def parse_data(s):\n",
    "    return [int(x) for x in s.strip().splitlines()]\n",
    "\n",
    "\n",
    "def validate(preamble, number):\n",
    "    preamble = sorted(preamble)\n",
    "    start = 0\n",
    "    end = len(preamble) - 1\n",
    "    \n",
    "    while start < end:\n",
    "        ends_sum = preamble[start] + preamble[end]\n",
    "        if ends_sum == number:\n",
    "            return True\n",
    "        elif ends_sum < number:\n",
    "            start += 1\n",
    "        else:\n",
    "            end -= 1\n",
    "            \n",
    "    return False\n",
    "\n",
    "\n",
    "def first_invalid_number(data, preamble_size=25):\n",
    "    for i, n in enumerate(data[preamble_size:]):\n",
    "        if not validate(data[i:i+preamble_size], n):\n",
    "            return n\n",
    "    return False\n",
    "\n",
    "\n",
    "test_data = parse_data('''35\n",
    "20\n",
    "15\n",
    "25\n",
    "47\n",
    "40\n",
    "62\n",
    "55\n",
    "65\n",
    "95\n",
    "102\n",
    "117\n",
    "150\n",
    "182\n",
    "127\n",
    "219\n",
    "299\n",
    "277\n",
    "309\n",
    "576''')\n",
    "\n",
    "assert first_invalid_number(test_data, 5) == 127"
   ]
  },
  {
   "cell_type": "code",
   "execution_count": 12,
   "metadata": {},
   "outputs": [
    {
     "data": {
      "text/plain": [
       "127"
      ]
     },
     "execution_count": 12,
     "metadata": {},
     "output_type": "execute_result"
    }
   ],
   "source": [
    "first_invalid_number(test_data, 5)"
   ]
  },
  {
   "cell_type": "code",
   "execution_count": 16,
   "metadata": {},
   "outputs": [
    {
     "data": {
      "text/plain": [
       "556543474"
      ]
     },
     "execution_count": 16,
     "metadata": {},
     "output_type": "execute_result"
    }
   ],
   "source": [
    "data = parse_data(open('input').read())\n",
    "first_invalid_number(data)"
   ]
  },
  {
   "cell_type": "markdown",
   "metadata": {},
   "source": [
    "## Part 2\n",
    "\n",
    "Similar approach. Start with a window of only the first number. Increase the size on the right hand side while the sum is too small. If the sum is equal, return. If the sum is too big, reduce the window on the left hand side until it's too small or equal and iterate. "
   ]
  },
  {
   "cell_type": "code",
   "execution_count": 18,
   "metadata": {},
   "outputs": [
    {
     "data": {
      "text/plain": [
       "[15, 25, 47, 40]"
      ]
     },
     "execution_count": 18,
     "metadata": {},
     "output_type": "execute_result"
    }
   ],
   "source": [
    "def find_contiguous_sum(numbers, target):\n",
    "    start = 0\n",
    "    end = 1\n",
    "    \n",
    "    while start < end and end <= len(numbers):\n",
    "        contiguous_numbers = numbers[start:end]\n",
    "        sum_contig = sum(contiguous_numbers)\n",
    "        if sum_contig == target:\n",
    "            return contiguous_numbers\n",
    "        elif sum_contig < target:\n",
    "            end += 1\n",
    "        else:\n",
    "            start += 1\n",
    "            \n",
    "    return None\n",
    "\n",
    "\n",
    "find_contiguous_sum(test_data, 127)"
   ]
  },
  {
   "cell_type": "code",
   "execution_count": 21,
   "metadata": {},
   "outputs": [
    {
     "data": {
      "text/plain": [
       "[22907470,\n",
       " 20542576,\n",
       " 24737774,\n",
       " 28258048,\n",
       " 31101792,\n",
       " 29555250,\n",
       " 23686920,\n",
       " 30838921,\n",
       " 41081155,\n",
       " 55553796,\n",
       " 27946212,\n",
       " 40564576,\n",
       " 30243212,\n",
       " 33246774,\n",
       " 38831342,\n",
       " 32716929,\n",
       " 44730727]"
      ]
     },
     "execution_count": 21,
     "metadata": {},
     "output_type": "execute_result"
    }
   ],
   "source": [
    "(c := find_contiguous_sum(data, 556543474))"
   ]
  },
  {
   "cell_type": "code",
   "execution_count": 25,
   "metadata": {},
   "outputs": [
    {
     "data": {
      "text/plain": [
       "1141218076418496"
      ]
     },
     "execution_count": 25,
     "metadata": {},
     "output_type": "execute_result"
    }
   ],
   "source": [
    "min(c) * max(c)"
   ]
  },
  {
   "cell_type": "markdown",
   "metadata": {},
   "source": [
    "Maybe read the question properly."
   ]
  },
  {
   "cell_type": "code",
   "execution_count": 26,
   "metadata": {},
   "outputs": [
    {
     "data": {
      "text/plain": [
       "76096372"
      ]
     },
     "execution_count": 26,
     "metadata": {},
     "output_type": "execute_result"
    }
   ],
   "source": [
    "min(c) + max(c)"
   ]
  },
  {
   "cell_type": "markdown",
   "metadata": {},
   "source": [
    "### Post mortem\n",
    "\n",
    "Summing each run is a bit inefficient, just add or remove the number as necessary."
   ]
  },
  {
   "cell_type": "code",
   "execution_count": 27,
   "metadata": {},
   "outputs": [
    {
     "name": "stdout",
     "output_type": "stream",
     "text": [
      "3.07 ms ± 266 µs per loop (mean ± std. dev. of 7 runs, 100 loops each)\n"
     ]
    }
   ],
   "source": [
    "%%timeit\n",
    "(c := find_contiguous_sum(data, 556543474))\n",
    "min(c) + max(c)"
   ]
  },
  {
   "cell_type": "code",
   "execution_count": 29,
   "metadata": {},
   "outputs": [
    {
     "data": {
      "text/plain": [
       "[15, 25, 47, 40]"
      ]
     },
     "execution_count": 29,
     "metadata": {},
     "output_type": "execute_result"
    }
   ],
   "source": [
    "def find_contiguous_sum_optimised(numbers, target):\n",
    "    start = 0\n",
    "    end = 1\n",
    "    sum_contig = numbers[0]\n",
    "    \n",
    "    while start < end and end <= len(numbers):\n",
    "        if sum_contig == target:\n",
    "            return numbers[start:end]\n",
    "        elif sum_contig < target:\n",
    "            sum_contig += numbers[end]\n",
    "            end += 1\n",
    "        else:\n",
    "            sum_contig -= numbers[start]\n",
    "            start += 1\n",
    "            \n",
    "    return None\n",
    "\n",
    "\n",
    "find_contiguous_sum_optimised(test_data, 127)"
   ]
  },
  {
   "cell_type": "code",
   "execution_count": 30,
   "metadata": {},
   "outputs": [
    {
     "data": {
      "text/plain": [
       "76096372"
      ]
     },
     "execution_count": 30,
     "metadata": {},
     "output_type": "execute_result"
    }
   ],
   "source": [
    "(c := find_contiguous_sum_optimised(data, 556543474))\n",
    "min(c) + max(c)"
   ]
  },
  {
   "cell_type": "code",
   "execution_count": 31,
   "metadata": {},
   "outputs": [
    {
     "name": "stdout",
     "output_type": "stream",
     "text": [
      "293 µs ± 8.72 µs per loop (mean ± std. dev. of 7 runs, 1000 loops each)\n"
     ]
    }
   ],
   "source": [
    "%%timeit\n",
    "(c := find_contiguous_sum_optimised(data, 556543474))\n",
    "min(c) + max(c)"
   ]
  },
  {
   "cell_type": "code",
   "execution_count": null,
   "metadata": {},
   "outputs": [],
   "source": []
  }
 ],
 "metadata": {
  "kernelspec": {
   "display_name": "Python 3",
   "language": "python",
   "name": "python3"
  },
  "language_info": {
   "codemirror_mode": {
    "name": "ipython",
    "version": 3
   },
   "file_extension": ".py",
   "mimetype": "text/x-python",
   "name": "python",
   "nbconvert_exporter": "python",
   "pygments_lexer": "ipython3",
   "version": "3.8.5"
  }
 },
 "nbformat": 4,
 "nbformat_minor": 4
}
