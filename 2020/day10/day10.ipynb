{
 "cells": [
  {
   "cell_type": "markdown",
   "metadata": {},
   "source": [
    "# Day 10 \n",
    "## Part 1\n",
    "\n",
    "The question is a bit confusing but I think I just need to sort, get the differences between values, and count the 1s and 3."
   ]
  },
  {
   "cell_type": "code",
   "execution_count": 10,
   "metadata": {},
   "outputs": [],
   "source": [
    "def parse_data(s):\n",
    "    return [int(x) for x in s.splitlines()]\n",
    "\n",
    "def diffs(data):\n",
    "    sorted_data = sorted(data)\n",
    "    joltages = [0] + sorted_data +[sorted_data[-1] + 3]\n",
    "    return[(y - x) for x, y in zip(joltages[:-1], joltages[1:])]\n",
    "\n",
    "def part_1(data):\n",
    "    ds = diffs(data)\n",
    "    return ds.count(1) * ds.count(3)\n",
    "\n",
    "test_data = parse_data('''16\n",
    "10\n",
    "15\n",
    "5\n",
    "1\n",
    "11\n",
    "7\n",
    "19\n",
    "6\n",
    "12\n",
    "4''')\n",
    "\n",
    "assert part_1(test_data) == 35"
   ]
  },
  {
   "cell_type": "code",
   "execution_count": 11,
   "metadata": {},
   "outputs": [
    {
     "data": {
      "text/plain": [
       "35"
      ]
     },
     "execution_count": 11,
     "metadata": {},
     "output_type": "execute_result"
    }
   ],
   "source": [
    "part_1(test_data) "
   ]
  },
  {
   "cell_type": "code",
   "execution_count": 13,
   "metadata": {},
   "outputs": [],
   "source": [
    "test_data_2 = parse_data('''28\n",
    "33\n",
    "18\n",
    "42\n",
    "31\n",
    "14\n",
    "46\n",
    "20\n",
    "48\n",
    "47\n",
    "24\n",
    "23\n",
    "49\n",
    "45\n",
    "19\n",
    "38\n",
    "39\n",
    "11\n",
    "1\n",
    "32\n",
    "25\n",
    "35\n",
    "8\n",
    "17\n",
    "7\n",
    "9\n",
    "4\n",
    "2\n",
    "34\n",
    "10\n",
    "3''')\n",
    "\n",
    "assert part_1(test_data_2) == 220"
   ]
  },
  {
   "cell_type": "code",
   "execution_count": 15,
   "metadata": {},
   "outputs": [
    {
     "data": {
      "text/plain": [
       "2376"
      ]
     },
     "execution_count": 15,
     "metadata": {},
     "output_type": "execute_result"
    }
   ],
   "source": [
    "data = parse_data(open('input').read().strip())\n",
    "part_1(data)"
   ]
  },
  {
   "cell_type": "markdown",
   "metadata": {},
   "source": [
    "## Part 2\n",
    "Draw a directed graph with nodes as adapters and edges linking to the next compatible adapters. Depth first search and count the number of times we get to the end."
   ]
  },
  {
   "cell_type": "code",
   "execution_count": 23,
   "metadata": {},
   "outputs": [],
   "source": [
    "def part_2(data):\n",
    "    end = max(data) + 3\n",
    "    joltages = data + [0, end]\n",
    "    graph = {\n",
    "        adapter: [j for j in joltages if 1 <= j - adapter <= 3]\n",
    "        for adapter in joltages\n",
    "    }\n",
    "    result = 0\n",
    "    \n",
    "    # DFS\n",
    "    search = [0]\n",
    "    while search:\n",
    "        adapter = search.pop()\n",
    "        if adapter == end:\n",
    "            result += 1\n",
    "        else:\n",
    "            search.extend(graph[adapter])\n",
    "            \n",
    "    return result\n",
    "\n",
    "assert part_2(test_data) == 8"
   ]
  },
  {
   "cell_type": "code",
   "execution_count": 24,
   "metadata": {},
   "outputs": [],
   "source": [
    "assert part_2(test_data_2) == 19208"
   ]
  },
  {
   "cell_type": "markdown",
   "metadata": {},
   "source": [
    "`part_2(data)` is taking too long. \n",
    "\n",
    "Some adapters will have to be in every sequence, i.e. the ones where the minimum diff in joltages to the adapter plus the maximum diff in joltages from the adapter is more than three. Calculate the number of combinations between these and multiple them together.\n",
    "\n",
    "So partition the list of joltages into lists where each end has to be in the sequence, then run a DFS on each partition to get the number of combinations for that partition, and finally multiply the lot together."
   ]
  },
  {
   "cell_type": "code",
   "execution_count": 44,
   "metadata": {},
   "outputs": [],
   "source": [
    "def partition_joltages(joltages):\n",
    "    joltages = sorted(joltages)\n",
    "    last_partition = 0\n",
    "    result = []\n",
    "    for i, joltage in enumerate(joltages[1:-1]):\n",
    "        # Will this adapter always be in the path?\n",
    "        if (joltage - joltages[i - 1]) + (joltages[i + 1] - joltage) > 3:\n",
    "            result.append(joltages[last_partition:i + 1])\n",
    "            last_partition = i\n",
    "    return(result + [joltages[last_partition:]])\n"
   ]
  },
  {
   "cell_type": "code",
   "execution_count": 56,
   "metadata": {},
   "outputs": [],
   "source": [
    "import math\n",
    "\n",
    "def dfs(nodes):\n",
    "    start = min(nodes)\n",
    "    end = max(nodes)\n",
    "    graph = {\n",
    "        node: [n for n in nodes if 1 <= n - node <= 3]\n",
    "        for node in nodes\n",
    "    }\n",
    "    \n",
    "    result = 0\n",
    "    search = [start]\n",
    "    while search:\n",
    "        node = search.pop()\n",
    "        if node == end:\n",
    "            result += 1\n",
    "        else:\n",
    "            search.extend(graph[node])\n",
    "            \n",
    "    return result    \n",
    "    \n",
    "\n",
    "def part_2(data):\n",
    "    partitions = partition_joltages(data + [0, max(data) + 3])\n",
    "    \n",
    "    return math.prod(dfs(p) for p in partitions)"
   ]
  },
  {
   "cell_type": "code",
   "execution_count": 57,
   "metadata": {},
   "outputs": [],
   "source": [
    "assert part_2(test_data) == 8"
   ]
  },
  {
   "cell_type": "code",
   "execution_count": 58,
   "metadata": {},
   "outputs": [],
   "source": [
    "assert part_2(test_data_2) == 19208"
   ]
  },
  {
   "cell_type": "code",
   "execution_count": 59,
   "metadata": {},
   "outputs": [
    {
     "data": {
      "text/plain": [
       "129586085429248"
      ]
     },
     "execution_count": 59,
     "metadata": {},
     "output_type": "execute_result"
    }
   ],
   "source": [
    "part_2(data)"
   ]
  },
  {
   "cell_type": "markdown",
   "metadata": {},
   "source": [
    "This could be optimised further. Each partition is effectively a list of deltas, and the results could be at least cached or even potentially calculated without searching in a way I haven't thought of."
   ]
  },
  {
   "cell_type": "code",
   "execution_count": null,
   "metadata": {},
   "outputs": [],
   "source": []
  }
 ],
 "metadata": {
  "kernelspec": {
   "display_name": "Python 3",
   "language": "python",
   "name": "python3"
  },
  "language_info": {
   "codemirror_mode": {
    "name": "ipython",
    "version": 3
   },
   "file_extension": ".py",
   "mimetype": "text/x-python",
   "name": "python",
   "nbconvert_exporter": "python",
   "pygments_lexer": "ipython3",
   "version": "3.8.5"
  }
 },
 "nbformat": 4,
 "nbformat_minor": 4
}
