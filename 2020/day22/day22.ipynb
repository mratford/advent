{
 "cells": [
  {
   "cell_type": "markdown",
   "metadata": {},
   "source": [
    "# Day 22\n",
    "## Part 1"
   ]
  },
  {
   "cell_type": "code",
   "execution_count": 1,
   "metadata": {},
   "outputs": [],
   "source": [
    "from collections import deque\n",
    "from itertools import count, islice\n",
    "from pyrsistent import pvector, pdeque\n",
    "\n",
    "\n",
    "def parse_data(s):\n",
    "    decks = s.split('\\n\\n')\n",
    "    result = pvector()\n",
    "    for deck in decks:\n",
    "        result = result.append(pdeque(int(x) for x in deck.strip().splitlines()[1:]))\n",
    "    return result"
   ]
  },
  {
   "cell_type": "code",
   "execution_count": 2,
   "metadata": {},
   "outputs": [],
   "source": [
    "def game_round(decks):\n",
    "    if decks[0][0] > decks[1][0]:\n",
    "        winner = 0\n",
    "        loser = 1\n",
    "    else:\n",
    "        winner = 1\n",
    "        loser = 0\n",
    "        \n",
    "    decks = (\n",
    "        decks.set(winner, (\n",
    "            decks[winner]\n",
    "            .append(decks[winner][0])\n",
    "            .append(decks[loser][0])\n",
    "            .popleft()))\n",
    "        .set(loser, decks[loser].popleft())) \n",
    "    \n",
    "    return decks\n",
    "\n",
    "\n",
    "def game(decks):\n",
    "    while all(decks):\n",
    "        decks = game_round(decks)\n",
    "        \n",
    "    return decks\n",
    "\n",
    "\n",
    "def score(decks):\n",
    "    if decks[0]:\n",
    "        winner = 0\n",
    "    else:\n",
    "        winner = 1\n",
    "        \n",
    "    return sum(x * y for x, y in zip(count(1), reversed(decks[winner])))\n",
    "\n",
    "\n",
    "def part_1(decks):\n",
    "    return score(game(decks))"
   ]
  },
  {
   "cell_type": "code",
   "execution_count": 3,
   "metadata": {},
   "outputs": [],
   "source": [
    "test_decks = parse_data('''Player 1:\n",
    "9\n",
    "2\n",
    "6\n",
    "3\n",
    "1\n",
    "\n",
    "Player 2:\n",
    "5\n",
    "8\n",
    "4\n",
    "7\n",
    "10\n",
    "''')\n",
    "\n",
    "assert part_1(test_decks) == 306"
   ]
  },
  {
   "cell_type": "code",
   "execution_count": 4,
   "metadata": {},
   "outputs": [
    {
     "data": {
      "text/plain": [
       "31269"
      ]
     },
     "execution_count": 4,
     "metadata": {},
     "output_type": "execute_result"
    }
   ],
   "source": [
    "decks = parse_data(open('input').read())\n",
    "part_1(decks)"
   ]
  },
  {
   "cell_type": "markdown",
   "metadata": {},
   "source": [
    "## Part 2"
   ]
  },
  {
   "cell_type": "code",
   "execution_count": 5,
   "metadata": {},
   "outputs": [],
   "source": [
    "def recursive_combat(decks):\n",
    "    memory = set()\n",
    "    \n",
    "    while all(decks):\n",
    "        if decks in memory:\n",
    "            return (decks, 0)\n",
    "        else:\n",
    "            memory.add(decks)\n",
    "\n",
    "        if decks[0][0] < len(decks[0]) and decks[1][0] < len(decks[1]):\n",
    "            _, winner = recursive_combat(\n",
    "                pvector([\n",
    "                    pdeque(islice(decks[0], 1, decks[0][0] + 1)),\n",
    "                    pdeque(islice(decks[1], 1, decks[1][0] + 1))\n",
    "                ])\n",
    "            )\n",
    "            loser = 1 if winner == 0 else 0\n",
    "        elif decks[0][0] > decks[1][0]:\n",
    "            winner = 0\n",
    "            loser = 1\n",
    "        else:\n",
    "            winner = 1\n",
    "            loser = 0\n",
    "            \n",
    "        decks = (\n",
    "            decks.set(winner, (\n",
    "                decks[winner]\n",
    "                .append(decks[winner][0])\n",
    "                .append(decks[loser][0])\n",
    "                .popleft()))\n",
    "            .set(loser, decks[loser].popleft())) \n",
    "\n",
    "\n",
    "    if decks[0]:\n",
    "        return (decks, 0)\n",
    "    else:\n",
    "        return (decks, 1)\n",
    "    \n",
    "    \n",
    "def part_2(decks):\n",
    "    decks, winner = recursive_combat(decks)\n",
    "    return sum(x * y for x, y in zip(count(1), reversed(decks[winner])))\n",
    "\n"
   ]
  },
  {
   "cell_type": "code",
   "execution_count": 6,
   "metadata": {},
   "outputs": [],
   "source": [
    "assert part_2(test_decks) == 291"
   ]
  },
  {
   "cell_type": "code",
   "execution_count": 7,
   "metadata": {},
   "outputs": [
    {
     "data": {
      "text/plain": [
       "105"
      ]
     },
     "execution_count": 7,
     "metadata": {},
     "output_type": "execute_result"
    }
   ],
   "source": [
    "looping_decks = parse_data('''Player 1:\n",
    "43\n",
    "19\n",
    "\n",
    "Player 2:\n",
    "2\n",
    "29\n",
    "14''')\n",
    "\n",
    "part_2(looping_decks)"
   ]
  },
  {
   "cell_type": "code",
   "execution_count": 8,
   "metadata": {},
   "outputs": [
    {
     "name": "stdout",
     "output_type": "stream",
     "text": [
      "CPU times: user 1min 36s, sys: 13.2 ms, total: 1min 36s\n",
      "Wall time: 1min 36s\n"
     ]
    },
    {
     "data": {
      "text/plain": [
       "31151"
      ]
     },
     "execution_count": 8,
     "metadata": {},
     "output_type": "execute_result"
    }
   ],
   "source": [
    "%time part_2(decks)"
   ]
  },
  {
   "cell_type": "markdown",
   "metadata": {},
   "source": [
    "I switched to using `pyrsistent` for part 2 so I could check the memory, though I'm not sure that was a good idea, I seem to recall it performing poorly for other card based problems. I'm not changing it now, though."
   ]
  },
  {
   "cell_type": "code",
   "execution_count": null,
   "metadata": {},
   "outputs": [],
   "source": []
  }
 ],
 "metadata": {
  "kernelspec": {
   "display_name": "Python 3",
   "language": "python",
   "name": "python3"
  },
  "language_info": {
   "codemirror_mode": {
    "name": "ipython",
    "version": 3
   },
   "file_extension": ".py",
   "mimetype": "text/x-python",
   "name": "python",
   "nbconvert_exporter": "python",
   "pygments_lexer": "ipython3",
   "version": "3.8.5"
  }
 },
 "nbformat": 4,
 "nbformat_minor": 4
}
