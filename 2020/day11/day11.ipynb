{
 "cells": [
  {
   "cell_type": "markdown",
   "metadata": {},
   "source": [
    "# Day 11\n",
    "## Part 1"
   ]
  },
  {
   "cell_type": "code",
   "execution_count": 1,
   "metadata": {},
   "outputs": [],
   "source": [
    "import itertools\n",
    "\n",
    "\n",
    "DIRECTIONS = {(dr, dc) for dr, dc in itertools.product((0, 1, -1), repeat=2)} - {(0, 0)}\n",
    "\n",
    "\n",
    "def parse_data(s):\n",
    "    return [list(cs) for cs in s.strip().splitlines()]\n",
    "\n",
    "\n",
    "def print_data(data):\n",
    "    for row in data:\n",
    "        print(''.join(row))\n",
    "    print()\n",
    "     \n",
    "    \n",
    "def get_coordinate(data, row, col):\n",
    "    if 0 <= row < len(data) and 0 <= col < len(data[0]):\n",
    "        return data[row][col]\n",
    "    else:\n",
    "        return '.'\n",
    "        \n",
    "        \n",
    "def new_state_of_coordinate(data, row, col):\n",
    "    c = get_coordinate(data, row, col)\n",
    "    nbrs = [get_coordinate(data, row + dr, col + dc) \n",
    "            for dr, dc in DIRECTIONS]\n",
    "    if c == '#' and sum(1 for n in nbrs if n == '#') >= 4:\n",
    "        return 'L'\n",
    "    elif c == 'L' and all(x != '#' for x in nbrs):\n",
    "        return '#'\n",
    "    else:\n",
    "        return c\n",
    "    \n",
    "    \n",
    "def seating_round(data):\n",
    "    return [[new_state_of_coordinate(data, row, col) for col, _ in enumerate(line)]\n",
    "            for row, line in enumerate(data)]"
   ]
  },
  {
   "cell_type": "code",
   "execution_count": 2,
   "metadata": {},
   "outputs": [
    {
     "name": "stdout",
     "output_type": "stream",
     "text": [
      "L.LL.LL.LL\n",
      "LLLLLLL.LL\n",
      "L.L.L..L..\n",
      "LLLL.LL.LL\n",
      "L.LL.LL.LL\n",
      "L.LLLLL.LL\n",
      "..L.L.....\n",
      "LLLLLLLLLL\n",
      "L.LLLLLL.L\n",
      "L.LLLLL.LL\n",
      "\n"
     ]
    }
   ],
   "source": [
    "test_data = parse_data('''L.LL.LL.LL\n",
    "LLLLLLL.LL\n",
    "L.L.L..L..\n",
    "LLLL.LL.LL\n",
    "L.LL.LL.LL\n",
    "L.LLLLL.LL\n",
    "..L.L.....\n",
    "LLLLLLLLLL\n",
    "L.LLLLLL.L\n",
    "L.LLLLL.LL\n",
    "''')\n",
    "\n",
    "print_data(test_data)"
   ]
  },
  {
   "cell_type": "code",
   "execution_count": 3,
   "metadata": {},
   "outputs": [
    {
     "name": "stdout",
     "output_type": "stream",
     "text": [
      "L.LL.LL.LL\n",
      "LLLLLLL.LL\n",
      "L.L.L..L..\n",
      "LLLL.LL.LL\n",
      "L.LL.LL.LL\n",
      "L.LLLLL.LL\n",
      "..L.L.....\n",
      "LLLLLLLLLL\n",
      "L.LLLLLL.L\n",
      "L.LLLLL.LL\n",
      "\n",
      "Round 1\n",
      "#.##.##.##\n",
      "#######.##\n",
      "#.#.#..#..\n",
      "####.##.##\n",
      "#.##.##.##\n",
      "#.#####.##\n",
      "..#.#.....\n",
      "##########\n",
      "#.######.#\n",
      "#.#####.##\n",
      "\n",
      "Round 2\n",
      "#.LL.L#.##\n",
      "#LLLLLL.L#\n",
      "L.L.L..L..\n",
      "#LLL.LL.L#\n",
      "#.LL.LL.LL\n",
      "#.LLLL#.##\n",
      "..L.L.....\n",
      "#LLLLLLLL#\n",
      "#.LLLLLL.L\n",
      "#.#LLLL.##\n",
      "\n",
      "Round 3\n",
      "#.##.L#.##\n",
      "#L###LL.L#\n",
      "L.#.#..#..\n",
      "#L##.##.L#\n",
      "#.##.LL.LL\n",
      "#.###L#.##\n",
      "..#.#.....\n",
      "#L######L#\n",
      "#.LL###L.L\n",
      "#.#L###.##\n",
      "\n",
      "Round 4\n",
      "#.#L.L#.##\n",
      "#LLL#LL.L#\n",
      "L.L.L..#..\n",
      "#LLL.##.L#\n",
      "#.LL.LL.LL\n",
      "#.LL#L#.##\n",
      "..L.L.....\n",
      "#L#LLLL#L#\n",
      "#.LLLLLL.L\n",
      "#.#L#L#.##\n",
      "\n",
      "Round 5\n",
      "#.#L.L#.##\n",
      "#LLL#LL.L#\n",
      "L.#.L..#..\n",
      "#L##.##.L#\n",
      "#.#L.LL.LL\n",
      "#.#L#L#.##\n",
      "..L.L.....\n",
      "#L#L##L#L#\n",
      "#.LLLLLL.L\n",
      "#.#L#L#.##\n",
      "\n",
      "Round 6\n",
      "#.#L.L#.##\n",
      "#LLL#LL.L#\n",
      "L.#.L..#..\n",
      "#L##.##.L#\n",
      "#.#L.LL.LL\n",
      "#.#L#L#.##\n",
      "..L.L.....\n",
      "#L#L##L#L#\n",
      "#.LLLLLL.L\n",
      "#.#L#L#.##\n",
      "\n"
     ]
    },
    {
     "data": {
      "text/plain": [
       "[['#', '.', '#', 'L', '.', 'L', '#', '.', '#', '#'],\n",
       " ['#', 'L', 'L', 'L', '#', 'L', 'L', '.', 'L', '#'],\n",
       " ['L', '.', '#', '.', 'L', '.', '.', '#', '.', '.'],\n",
       " ['#', 'L', '#', '#', '.', '#', '#', '.', 'L', '#'],\n",
       " ['#', '.', '#', 'L', '.', 'L', 'L', '.', 'L', 'L'],\n",
       " ['#', '.', '#', 'L', '#', 'L', '#', '.', '#', '#'],\n",
       " ['.', '.', 'L', '.', 'L', '.', '.', '.', '.', '.'],\n",
       " ['#', 'L', '#', 'L', '#', '#', 'L', '#', 'L', '#'],\n",
       " ['#', '.', 'L', 'L', 'L', 'L', 'L', 'L', '.', 'L'],\n",
       " ['#', '.', '#', 'L', '#', 'L', '#', '.', '#', '#']]"
      ]
     },
     "execution_count": 3,
     "metadata": {},
     "output_type": "execute_result"
    }
   ],
   "source": [
    "def run_until_stable(data, debug=False):\n",
    "    if debug:\n",
    "        print_data(data)\n",
    "    \n",
    "    n = 0\n",
    "    while True:\n",
    "        new_data = seating_round(data)\n",
    "        if debug:\n",
    "            print(f'Round {(n := n + 1)}')\n",
    "            print_data(new_data)\n",
    "        if new_data == data:\n",
    "            return new_data\n",
    "        else:\n",
    "            data = new_data\n",
    "        \n",
    "    \n",
    "run_until_stable(test_data, debug=True)"
   ]
  },
  {
   "cell_type": "code",
   "execution_count": 4,
   "metadata": {},
   "outputs": [],
   "source": [
    "def part_1(data):\n",
    "    return sum(\n",
    "        1\n",
    "        for x in itertools.chain.from_iterable(run_until_stable(data))\n",
    "        if x == '#'\n",
    "    )\n",
    "\n",
    "assert part_1(test_data) == 37"
   ]
  },
  {
   "cell_type": "code",
   "execution_count": 5,
   "metadata": {},
   "outputs": [],
   "source": [
    "data = parse_data(open('input').read())"
   ]
  },
  {
   "cell_type": "code",
   "execution_count": 6,
   "metadata": {},
   "outputs": [
    {
     "data": {
      "text/plain": [
       "2211"
      ]
     },
     "execution_count": 6,
     "metadata": {},
     "output_type": "execute_result"
    }
   ],
   "source": [
    "part_1(data)"
   ]
  },
  {
   "cell_type": "code",
   "execution_count": 7,
   "metadata": {},
   "outputs": [
    {
     "name": "stdout",
     "output_type": "stream",
     "text": [
      "6.25 s ± 63.8 ms per loop (mean ± std. dev. of 7 runs, 1 loop each)\n"
     ]
    }
   ],
   "source": [
    "%%timeit\n",
    "part_1(data)"
   ]
  },
  {
   "cell_type": "markdown",
   "metadata": {},
   "source": [
    "That is very slow. I might have to rethink this.\n",
    "\n",
    "## Part 2\n",
    "\n",
    "My rethink involves downloading pypy once homebrew has sorted itself out."
   ]
  },
  {
   "cell_type": "code",
   "execution_count": 21,
   "metadata": {},
   "outputs": [],
   "source": [
    "# Use a generator of zero or one values to find\n",
    "# the next seat (empty or full) in the specified\n",
    "# direction\n",
    "def next_visible_seat(data, row, col, dr, dc):\n",
    "    m = 1\n",
    "    while (\n",
    "        0 <= (r := row + m * dr) < len(data) \n",
    "        and 0 <= (c := col + m * dc) < len(data[0])\n",
    "    ):\n",
    "        if data[r][c] in ('L', '#'):\n",
    "            yield data[r][c]\n",
    "            return\n",
    "        m += 1\n",
    "\n",
    "        \n",
    "def visible_seats(data, row, col):\n",
    "    for dr, dc in DIRECTIONS:\n",
    "        yield from next_visible_seat(data, row, col, dr, dc)\n",
    "        \n",
    "    \n",
    "def new_state_of_coordinate_2(data, row, col):\n",
    "    c = get_coordinate(data, row, col)\n",
    "    nbrs = list(visible_seats(data, row, col))\n",
    "    if c == '#' and sum(1 for n in nbrs if n == '#') >= 5:\n",
    "        return 'L'\n",
    "    elif c == 'L' and all(x != '#' for x in nbrs):\n",
    "        return '#'\n",
    "    else:\n",
    "        return c\n",
    "    \n",
    "    \n",
    "def seating_round_2(data):\n",
    "    return [[new_state_of_coordinate_2(data, row, col) for col, _ in enumerate(line)]\n",
    "            for row, line in enumerate(data)]\n",
    "\n",
    "\n",
    "def run_until_stable_2(data, debug=False):\n",
    "    if debug:\n",
    "        print_data(data)\n",
    "    \n",
    "    n = 0\n",
    "    while True:\n",
    "        new_data = seating_round_2(data)\n",
    "        if debug:\n",
    "            print(f'Round {(n := n + 1)}')\n",
    "            print_data(new_data)\n",
    "        if new_data == data:\n",
    "            return new_data\n",
    "        else:\n",
    "            data = new_data"
   ]
  },
  {
   "cell_type": "code",
   "execution_count": 22,
   "metadata": {},
   "outputs": [
    {
     "name": "stdout",
     "output_type": "stream",
     "text": [
      "L.LL.LL.LL\n",
      "LLLLLLL.LL\n",
      "L.L.L..L..\n",
      "LLLL.LL.LL\n",
      "L.LL.LL.LL\n",
      "L.LLLLL.LL\n",
      "..L.L.....\n",
      "LLLLLLLLLL\n",
      "L.LLLLLL.L\n",
      "L.LLLLL.LL\n",
      "\n",
      "Round 1\n",
      "#.##.##.##\n",
      "#######.##\n",
      "#.#.#..#..\n",
      "####.##.##\n",
      "#.##.##.##\n",
      "#.#####.##\n",
      "..#.#.....\n",
      "##########\n",
      "#.######.#\n",
      "#.#####.##\n",
      "\n",
      "Round 2\n",
      "#.LL.LL.L#\n",
      "#LLLLLL.LL\n",
      "L.L.L..L..\n",
      "LLLL.LL.LL\n",
      "L.LL.LL.LL\n",
      "L.LLLLL.LL\n",
      "..L.L.....\n",
      "LLLLLLLLL#\n",
      "#.LLLLLL.L\n",
      "#.LLLLL.L#\n",
      "\n",
      "Round 3\n",
      "#.L#.##.L#\n",
      "#L#####.LL\n",
      "L.#.#..#..\n",
      "##L#.##.##\n",
      "#.##.#L.##\n",
      "#.#####.#L\n",
      "..#.#.....\n",
      "LLL####LL#\n",
      "#.L#####.L\n",
      "#.L####.L#\n",
      "\n",
      "Round 4\n",
      "#.L#.L#.L#\n",
      "#LLLLLL.LL\n",
      "L.L.L..#..\n",
      "##LL.LL.L#\n",
      "L.LL.LL.L#\n",
      "#.LLLLL.LL\n",
      "..L.L.....\n",
      "LLLLLLLLL#\n",
      "#.LLLLL#.L\n",
      "#.L#LL#.L#\n",
      "\n",
      "Round 5\n",
      "#.L#.L#.L#\n",
      "#LLLLLL.LL\n",
      "L.L.L..#..\n",
      "##L#.#L.L#\n",
      "L.L#.#L.L#\n",
      "#.L####.LL\n",
      "..#.#.....\n",
      "LLL###LLL#\n",
      "#.LLLLL#.L\n",
      "#.L#LL#.L#\n",
      "\n",
      "Round 6\n",
      "#.L#.L#.L#\n",
      "#LLLLLL.LL\n",
      "L.L.L..#..\n",
      "##L#.#L.L#\n",
      "L.L#.LL.L#\n",
      "#.LLLL#.LL\n",
      "..#.L.....\n",
      "LLL###LLL#\n",
      "#.LLLLL#.L\n",
      "#.L#LL#.L#\n",
      "\n",
      "Round 7\n",
      "#.L#.L#.L#\n",
      "#LLLLLL.LL\n",
      "L.L.L..#..\n",
      "##L#.#L.L#\n",
      "L.L#.LL.L#\n",
      "#.LLLL#.LL\n",
      "..#.L.....\n",
      "LLL###LLL#\n",
      "#.LLLLL#.L\n",
      "#.L#LL#.L#\n",
      "\n"
     ]
    },
    {
     "data": {
      "text/plain": [
       "[['#', '.', 'L', '#', '.', 'L', '#', '.', 'L', '#'],\n",
       " ['#', 'L', 'L', 'L', 'L', 'L', 'L', '.', 'L', 'L'],\n",
       " ['L', '.', 'L', '.', 'L', '.', '.', '#', '.', '.'],\n",
       " ['#', '#', 'L', '#', '.', '#', 'L', '.', 'L', '#'],\n",
       " ['L', '.', 'L', '#', '.', 'L', 'L', '.', 'L', '#'],\n",
       " ['#', '.', 'L', 'L', 'L', 'L', '#', '.', 'L', 'L'],\n",
       " ['.', '.', '#', '.', 'L', '.', '.', '.', '.', '.'],\n",
       " ['L', 'L', 'L', '#', '#', '#', 'L', 'L', 'L', '#'],\n",
       " ['#', '.', 'L', 'L', 'L', 'L', 'L', '#', '.', 'L'],\n",
       " ['#', '.', 'L', '#', 'L', 'L', '#', '.', 'L', '#']]"
      ]
     },
     "execution_count": 22,
     "metadata": {},
     "output_type": "execute_result"
    }
   ],
   "source": [
    "run_until_stable_2(test_data, debug=True)"
   ]
  },
  {
   "cell_type": "code",
   "execution_count": 23,
   "metadata": {},
   "outputs": [],
   "source": [
    "def part_2(data):\n",
    "    return sum(\n",
    "        1\n",
    "        for x in itertools.chain.from_iterable(run_until_stable_2(data))\n",
    "        if x == '#'\n",
    "    )\n",
    "\n",
    "assert part_2(test_data) == 26"
   ]
  },
  {
   "cell_type": "code",
   "execution_count": 24,
   "metadata": {},
   "outputs": [
    {
     "data": {
      "text/plain": [
       "1995"
      ]
     },
     "execution_count": 24,
     "metadata": {},
     "output_type": "execute_result"
    }
   ],
   "source": [
    "part_2(data)"
   ]
  },
  {
   "cell_type": "code",
   "execution_count": 25,
   "metadata": {},
   "outputs": [
    {
     "name": "stdout",
     "output_type": "stream",
     "text": [
      "8.12 s ± 570 ms per loop (mean ± std. dev. of 7 runs, 1 loop each)\n"
     ]
    }
   ],
   "source": [
    "%%timeit\n",
    "part_2(data)"
   ]
  },
  {
   "cell_type": "markdown",
   "metadata": {},
   "source": [
    "### Appendix\n",
    "#### Debugging for posterity\n",
    "\n",
    "That's wrong. It's frustrating when the test passes but the input fails. Let's have a look at the other examples."
   ]
  },
  {
   "cell_type": "code",
   "execution_count": 12,
   "metadata": {},
   "outputs": [
    {
     "data": {
      "text/plain": [
       "['#', '#', '#', '#', '#', '#', '#', '#']"
      ]
     },
     "execution_count": 12,
     "metadata": {},
     "output_type": "execute_result"
    }
   ],
   "source": [
    "test_data_2 = parse_data('''.......#.\n",
    "...#.....\n",
    ".#.......\n",
    ".........\n",
    "..#L....#\n",
    "....#....\n",
    ".........\n",
    "#........\n",
    "...#.....''')\n",
    "\n",
    "list(visible_seats(test_data_2, 4, 3))"
   ]
  },
  {
   "cell_type": "code",
   "execution_count": 13,
   "metadata": {},
   "outputs": [
    {
     "data": {
      "text/plain": [
       "[]"
      ]
     },
     "execution_count": 13,
     "metadata": {},
     "output_type": "execute_result"
    }
   ],
   "source": [
    "test_data_3 = parse_data('''.............\n",
    ".L.L.#.#.#.#.\n",
    ".............\n",
    "''')\n",
    "\n",
    "list(visible_seats(test_data_3, 1, 1))"
   ]
  },
  {
   "cell_type": "code",
   "execution_count": 14,
   "metadata": {},
   "outputs": [
    {
     "data": {
      "text/plain": [
       "[]"
      ]
     },
     "execution_count": 14,
     "metadata": {},
     "output_type": "execute_result"
    }
   ],
   "source": [
    "test_data_4 = parse_data('''.##.##.\n",
    "#.#.#.#\n",
    "##...##\n",
    "...L...\n",
    "##...##\n",
    "#.#.#.#\n",
    ".##.##.''')\n",
    "\n",
    "list(visible_seats(test_data_4, 3, 3))"
   ]
  },
  {
   "cell_type": "markdown",
   "metadata": {},
   "source": [
    "They look ok.\n",
    "\n",
    "What does the final state look like?"
   ]
  },
  {
   "cell_type": "code",
   "execution_count": 20,
   "metadata": {},
   "outputs": [
    {
     "name": "stdout",
     "output_type": "stream",
     "text": [
      "#L#L#L#L.#L#L.#L#L#L#L#.L#L#L#..L.#L#L#.L#L#L.##L#L#.L#L#L#L#L#L#L#.L#L#L#L#L#L#L#.L.#L#L######\n",
      "LLLLLLLLLLLLL.LLLLLLLLL.#LLLLLL#L.LL.LLLLLLLL.LLLLLL.LLLLL.LLLLLLLL.LLLLLLLL.LLLL.L#LLLLLL#####\n",
      "#L#L#L#L.#L#L.#L#L#L#L#.LL#L#LLLL#L#L#L#.L#LL.##L#L#.LL#L#L.#L#L#L#.LL#L#L#L.L#L#LLL.#L#L######\n",
      "LLLLLLLL.LLLLLLLLLLLLLL.#LLLLL#LL.LLLLL.LLLL#.LLLLLL.#LLLL.LLLLLLLL.#LLLLLL#.LLLLL##.LLLLL#####\n",
      "#L#L#L#L.#L#L.#L#L#L#L#LLL#L#LLL#.L#L#L.#L#LL.##L#L#.L#L#L#L#L#L#L#.LLL#L#LL.L#L#LLL.#L#L######\n",
      "LLLLLLLL..LLLL.LLLLLLLLL#L#LLL#.L.#LLLLLLLLL#.L#LLLL.LLLLLLLLLLLLLLLL#LLL#L#.LLLLL##.LLLLL#####\n",
      "...L..#L#.L...........#....LL........#L#....L..L.......#L#L#.L#.....LL.LL...L..L#L.L......#....\n",
      "#L#L#LLL.L#L#..LL#L#L#LLL#L#L#L#L.LLLLL.L#L##LL##LL#L#LLLL.L#LLL#L#L#L#L#L#L#L#LLLLL.#L#L#.####\n",
      "LLLLLL#LLLLL#.L#LLLLLLL#LLLLLLLLL.#L#L#.LLLLLLLLLLLL.LLL#L.LLL#LLLL.LLLLLLLLLLLL#L##.LLLLL#####\n",
      "#L#L#LLL.#LLLLLLL#L#L#L.L#L#L#L#L.LLLLL.#L#L#L#L#L#L.L#LLL.#.LLLL#L.L#L#L#L#.L#LLLLLL#L#L######\n",
      "LLLLLL#L.LL#..L#LLLLLLLLL.LLLLLLL.#L#.L.LLLLL.LLLLLL.LLLLL.#L#L#LL#.LLLLLLLLLLLL#L##.LLLLL#####\n",
      "#L#L#LLL.#LLL.LLL#L#L#L.#L#L#L#L#.LLLLL.#L#L#LL##L#L#L#L#..LLLLLLLL.L#L#L#L#.L#LLLLLL#L#L######\n",
      "LLLLLL#L.LL#L#L#LLLLLLL..LLLLLLLL.#L#L#.LLLLL.#LLLLL.LLLLL.#L#L#L#L#LLLLLLLL.LLL#L##.LLLLL#####\n",
      "..#L.......L.L..L.#L......#.L....L...L...#.L........L.....#......LL...L#.LL.#........L#L.##....\n",
      "#LLL#LL#LL#L#.LL#LLL#L#.LLLL#L#L#.LLLLL.LLL#L.LLL#L#.L#L#L.L#L#LL#LL#LLLL#.L.L.#LLLL.LL#LL#####\n",
      "LL#LLLLL.#LLL..#LL#LLLL.#L#LLLLLLL#L#L#.L#LLL.#LLLLL.LLLL#LLLLL#L#L.LL#.LLL#.LLLL#L#.LLLL######\n",
      "#LLL#L#L.LL##.LLLLLL#L#LLLLL#L#L#.LLLLL.#LL#LLL.##L#.L#LLL.#L#LLLL..#LLL#LLLL#L#LLLL.#L#LL#####\n",
      "LL#LLLLL.#LLLL#L#L#LLLLL#L#L#LLLL.#L#L#.L.LLL#LLL#LL.L#L#L.LLL#L#LL.#L#L#L#L.#L#L#L#.LLLL######\n",
      ".L..L#L...L.#LL..L..#....L....L#..LL...L#..L#LL.L.....L.#...........LL........L....L.#...L..##.\n",
      "#LL#LLL#.L#LLLL#L#L#LLL.L#L#L#L#L#L#L#L.LL#LL.###L#L.#LLLL.#L#L#LLL.L#L#L#LL#L#L#L##.LLLL######\n",
      "LL#LL#LLLLLL#.LLLLLLL#L#LLLLLLLLL.LLLLL#LLL.#.LLLLLLLLL#L#.LL#L#L#L#LLLLLLLLLLLLLLLLLL.#LL#####\n",
      "#LLL#LLL#L#LL.#L#L#L#LLLL.#L#L#L#.L#L#L.L#LLLL#LL#L#L#LLLLL#LLLLLLL.L#L#L#L#.L#L#L#L.#L#L######\n",
      "LL#LL.#L.LLL##LLLLLLLL#L#LLLLLLLL.#LLL..LLL#L.LLLLLL.LL#L#.L#L#L#L#LLLLLLLLL.LLLLLL#.LLLLL#####\n",
      "#LLL#LLL.#.LLLLL#L#L#LLLLL#L#L#L#.LL#L#.##LLL#L##L#L.#LLLL.LLLLLLLL.#L#L#L#L.#L#L#.L.#L#L######\n",
      "LL#LLL#L.L.#L.#.LLLLLL#.LLLLLLLLL.#LLL#.LLL#L.LLLLL#LLL#L#.L#L#L#L#LLLLLLLLLLLLLLL##.LLLLL#.###\n",
      "#.LL#LLLL#LLL.LL#L#L#LL.##L#L#LL#.LL#LLLL#LLL.#.LLLLL#LLLL.LLLLLLLL.#L#L#L#L#L#L#LLLL#L#L######\n",
      "LL#LLL#L#LL#L.#LLLLLLL#L.LLLLLLLL.#L#L#LLLL##LLLL#.LL#L#L#.L#L#L#L#.LLLLL.LL.LLLL#L#LLLLLL#####\n",
      ".LL.#....L.L..LL..#..L..#L.L...#.....L...#L......LL#...L...LL....L.L.......#.....L...L.#......#\n",
      "#L#LLLL#LL#L#L#L#LLL#LL.LL.#L#LLL.LLLLL.L.LL..LL.#LL.L#L#L.L.#L#LLL#L#LLL#LL.L#L#L#L.LLLL######\n",
      "LLLL#LLL.#LLL.LLLL#LLL#.L#LLLLL##L#L#L#L#.##L.L#L#L#.LLLLL.LLLLLL#LLLLL#.LL#LLLL.LLL.#L#LL#####\n",
      "#L#LLL#L.LLL#.LL#LLL#L#.LLL#L#LLLLLLLLLL#LLLL#LLLLLL.#L#L#L#L#L#LLL#L#LLL#LL.#L#.L##.LLLL###.##\n",
      "LLLL#L.L#L#LL.#LLL#LLL..L.LLLLL#L.#L#L#.LL#LL.L#L#L#.LLLLL.L.LLLL#L.LLL#LLL#.LLLLLLLL#L#LL#####\n",
      "#L#LLLLLLLLL..LL#LL.#LL.L#L#L#LLLLL.LLL.#LLL#.L#LLLL.##L#L.LL#L#LLL.L#LLL#LL.##L#L##.LLLL##.###\n",
      "LLLL#L#L.#.L..#LLL#LLL#.LLLLLLL#L.L#L#L.LL#LL.LLL.#...LLLL.#LLLL.##.LLL#LLL#.LLLLLLL.#L#LL#####\n",
      "#L#LLLLLLLLL#.LL#LLL#LLL##L.L#LLL#L.LLL.#LLL#.L##LLLLLLL#L.#L#L#LLL.#LLLL#LL.#L#L#L#LLLLL######\n",
      "LLLL#L#L.#L#L.#LLL#LLL#.LLL#LLL#L.LL#L#.LL#LLLLLLL#L#L#LLLLLLLLL.L#.LL#LLLL#.LLLLLLL.L#L.L#####\n",
      "#LLL#LLL.LLLL.LL#LLL#LLL##LLLL#LLL#LLLL.#LLL#L#L#LLLLLLL#L#L#L#L#LL.#LLL##.LL.L#L#L#.L#L#######\n",
      "L.#..L...#L.L..L..L..L.#.L..#......................L...L..LLLL..LL#L..#L....#...LL..L.....#....\n",
      "#LLLLL#L#LL#L#L#L#L#L#L.LL#LLLL#L.L#L#L.LLL#L.L#L#LL.#L#LL.#L#L.#LLLLLLLLLLL.L#L#L#L.#LLL######\n",
      "LL#L#LLL.L#LL.L#L.LLLLLL#L#L#L#LL#.LLLL.#L#LL.LL.#L#L#..L#.LLL#LLLL.#L#L#L##.LLLLLLL.#L#LL#####\n",
      "#LLLLL#LLLLLL..LLL#.L#..L.LLLLLLLLL#L##.LLLL#.#LLLLL.L#LLLL#LLLL#L#LLLLLLLLL.#LL#L#L.LLLL.#####\n",
      "LL#L#LLL.#L#L.#L#L#L#LL#L#L#L#L#L.LL.#L.#L#LLLLL#L#L#LLLL#LLL#LLLLL.L#L#L#L#.L#.LLLL##L#L######\n",
      "#LLLLL##LLLLLLLLLLLL#L#.L#LLLLLLL.#LLL#LLLLL.##LLLLLLLL#LL.#L#L#L#L#LL.LLLLL.LLL#L#L.LLLLL#####\n",
      "LL.L#...L...L#.LL#...L...LL.#L..#.L.#...L.#.......L..#..L.#LL..LL...#L#L#..L..#L..#.....L...##.\n",
      "#L#LLLLL.#L#L#L#L#L#L#L..L#.L.#LL.#LLLL.LL#LLLLLL#L#.L#L#..L#L#L#L#.LLLLLL#L.LLLLLLL.#L#L######\n",
      "#L#L#L#L.LL.LLL#.LL#LLLL#LLLL#LLL#LL#LL.#LLL#L##L.LL.L.LL#.LLL#LLLLLL#L##L#L.##L#L#..LLLLL#####\n",
      "LLLLLLLL.#LLL.LLLL.LL#L##L##L#L#LL#LL.##LL##LLL.LL#L.#L#LL.##LLL#L#.LLLLLLLLL##LLLLL.L##LL#####\n",
      "#L#L#L#L.LL#L.#L#L#LLLL.LLLLLLLL#LLL#LL.LLLLLLLLL#LL#L.#L#.LLL#LLLL.#L#L#.L#.LLLLLL#.LLLL######\n",
      "LLLLLLLL#LLLL.LLLLLL#LL.#L#L#L#LL.#LLL#L#L#L#.L#LLL#.LLLLL.L#LL.L##.LLLLLLLL.##L#L#L.#L#LL#####\n",
      "#L#L#L#L.#L#L#L#L#.LLL#.LLLLLLLL#.LL#LLLLLLLLLLLL#LL.#L#L#.LLLL#LLL.L#L#L#L#.LLLLLLLLLL.L######\n",
      "LLLLLLLLLLLLLLLLLLLL#LLL#L#L#L#LL.#LLL#L#L#L#.L#LLL#LLLLLL.#L#LLLL#.LLLLLLLL.#L#L.#L.#LLLL#####\n",
      "#L#L#L#L#L#L#.LL#L#L#L#..LLLLLLL#L#L#LLLLLLLL.LLL#L.L#L.##.LLLLL#LL.L#L.#L#LLLLLLLLLLLL#L######\n",
      "L.L................L..L.L.#L..L..L..L.#..L.L#LL..........L..#L.LL.#...LL...L....#...L#..L.#.#.#\n",
      ".#LLL#LLLLL#L.L#L#L#L#LL#L#L##L#L.L#LLL.#L#LL.###L#L.LLLL#.LLL#L#LL.LLL#L#LL.##L#L##.LLLLL#.###\n",
      ".LL#LLL#L#LLL.L.LLLLLL#.LLLLLLLL.#LL#L#.LLLL#.LLLL.L.#L#L#LL##.LLL#.L#L#LLL#LLLLLLLLLLL#L######\n",
      "#LLLL#L#.L#LL.#L#L#L#LL.#L#L#L#LL.#LLLL.#L#L..L#L#L#LLLLLL.LLLL#L#L.#.LLL#LL.##L#L#L.#LLLL#####\n",
      "LL#LLLLLLLLL#.LLLLLLL.LLLLLLLLLL#.LL#L#.LLLLL.LLLLLL.L#L#L#L#LLLLLL.LLL#LLL#.LLLLLLL#LL#L######\n",
      "#LLL.L#L#L#.L..L#L#L##L.#L#L#L#LL.LLLLLL#L#L#.#L#LL#.LLLLL.LLL#.L#L#LL.LL#LL.##L#L#LLL#LLL#####\n",
      "LL#L#LLLLLL.L.#LLLLLLLL.LLLLLLLL#L#L#L#LLLLLL.LL.LLL.#L#L#.L#LLLL.L.L#L#LLL#.LLLLLLL#LL.L######\n",
      "#LLLLL#L#L#L#.LL#L#L##L.#L#L#L#LL.LLLLL.#L##L.L#L##L#L.#LL.LLL#L#L#LLLLLL#LL.#L#L#LL.L##LL#####\n",
      "LL#L#LLL..LLLL#LLLLLLLL.LLLLLLLLL#L#L#L.LLLLL.LLLLLL.LLLL#.L#LLLLLL.##L#LLL#.LLLLLL#.LLLL######\n",
      "#LLLLL#L.L#L#.L#L#L#L#L.#L#LL#L#L.LLL#L#LL#L#.#L#L#L.L#L#L.LLL#L#L#.LLLLL#LL.L.#L#LL.L#L#L#####\n",
      "L..#L...L...L...L.LL..LL......LL..#L....#.L...........L.L...#....LL.#L.#..LL....L..L.........##\n",
      "#.LLL#L#L#L#L.LL#L#L#L#.LLLL#L#L#LLL#L#LLLL#L.LLL#LLL#L#L#.LLLLLL#LLLL#LLLL#.LLL#L#L.#L#L######\n",
      "LL#LLLLL.LLLLL#LLLLLLLL.#L#LLLLLL.#LLL##L#LLL.#LLLL#.LLLLL.LLL#L#L.L#.LLL#LL.L#LLLLL.#L#LL#####\n",
      "#LLL#L#.L#.L#.L#L#L#LL#.LLLL#L#L#LLL.LL.LLL#L.LL#L#L.#L#L#LL#LLLLL#LLLL#LLL#LLLLL#L#.LLLL######\n",
      "LL#LLLLL.LLLL.LLLLLLLLL.#L#LLLLLLL#L#L#.L#LLL.#LLLLLLLLLLL.#L.#L#LL.##LLL#LL.#L#LLLLL#L#LL#..##\n",
      "#LLL#L#LLL#L#L#L#L#L#L#LLLLL#L#L#.LLLLL.LLL#..LL#L#L.#L#L#.LL#L.#L#.LLL#LLL#L.LLL#L#LLLLL###.##\n",
      "LL#LLLLL#LLLLLLLLLLLLLL.#L#LLLLLL.#L#L#.L#LLL.#LLLLL.LLLLLL#LLLLLLL.##LLL#LLLLL#LLLLL#L#LL#####\n",
      "#LL#LL#L.L#L#.#L#L#L#L#.LL#L#L#L#LLL#LL.L.L#L.LL#L#L.L#LL#.LL#L##L#.LLL#LLL#L#LLL#L#.LLLL######\n",
      ".L.LL..L...L........L.......L.....#.L.L....L......L.LL......#...LL.L.LLLL...LLL.L...L..#.L###..\n",
      "LL##L#L#.LL#L#L#L#L#LLL#L#L#L#L#L.LLL#L.#L#L#L#LL#L#L#LLLLLLLLLL#LL.##L#L#.L.#L#LLLL##LLL######\n",
      "#.LLLLLL.#LLLLLLLLL#L#L.L#LLLLLLL#L#.L#LLLLLL.LL#.L.L.L#LL#L#L#LLL#.LLLLLLL#.LLLL#L#LLLLLL##.##\n",
      "LL##L#L#LLL#L#L#L#LLLLL.LLL#L#L#L..L#LL.#LL#L#L#.L#L#LLLL#.LLLLL#LL.##LL#L#L.#L#LLLL.#L#L######\n",
      "#.LLLLLLL#LLLLLLLLL#L#L.#.LLLLLLL.#LLL#.L#L#..LLLLLL.L#L.L.L#L#LLL#.LLL#LLLLLLLLL#L#.LLLL.#####\n",
      "LL##L#L#.LL#L.#LL#LLL.LLL#L#L#L#L.LL#LLLLLLLLL##L#L#.LLL##.LLLLL#LL.##LLL#L#.L#L#.LL.#L#LL.####\n",
      "#LLLLLLL.#LLL.L#LLL#LLL#LLLLLLLLL.#LLL#.LL#L#.LLLLLL.L#LLLL#L#LLLL#.LLL#LLLL.LLLLL.L.LLLL##.###\n",
      "L#L#L#L#LL.#L#LLL#LLL#L.L#L#L#L#L.LL#L#.#LLLL..#L#L#.LLL##.LL.L#L#L.#L#LL#L#.L#L#LLL.L#L#L#####\n",
      "....LLL.#...LL.#.LL#LLL...L........L.L...#.L.#..L....L#..LL.#..LL...L.L.LLL.L#...LL..#.L..##...\n",
      "#L#L#L#LLLLL#.LLL#LLL#L.LL#L.LLL#..LL#L#L#LLL.LL#LLL.LLLL#.LLL#L#L#.L#L#L#LL.L.#L#L#.LL#L######\n",
      "LLLLLLLL..#L#L#LLLL#LLL.#LLL#L#LL.##LLL.LLL#L.##LLL#.LL#LL.##LLLLLL.LLLLLL.#LLLLLLLLL#LLLL#####\n",
      "#L#L#L#L#.LLL.LL#LLLL#L.LL#LLLLL#.LLL#L..#LLL.LLL#LLL#LLL#.LLL#L#L#.L#L#LLLL.#L#L#L#.L.#L######\n",
      "LLLLLLLL.#L#L#LLLL#LLLL.#LLL#L#LL.#LLL#.LLLL..L#LLL#.LL#LL.#LLLLLLLLLLLLL#L#.LLLLLLL.#LLLL###.#\n",
      "#L#L#L#.LLLL..#L#.L#L#LLLL#LLLLL#LLL#LL.#L#L#..LL#LL.L#.L#.LL#L#L#L.L#L#LLLLL#L#L#L#.LL#L######\n",
      "LL#.LLLL.#LL#LLLLLLLLLL.#LLL#L#LLL#LLLL.LLLLL.##LLL#LLLLLLLL#LLLLLL#.LLLL#L#.LLLLLLLL#LLLL#####\n",
      "#.L#.L#L.L#LL.#L#L#L#L#.LL#LLLL#L.L#L#L.#L#.L.LLL#LLL#L#L#LLLL#L#L#LL#L#L.LL.#L#L#L#.LL#L##.###\n",
      "LLLLLLLLLL.LL.LLLLLLLLL.#LLLL#LLL#LLLLL.LLLLLL#LLLL#LLLLLLL#LLLLLLL.LLLLLLL#LLLLLLLL.#LLLL##.##\n",
      "#L#L#L#L.#L#L.#L#L#L#L#.L#L#LLL#L.L#L#L.#L#L#.L.#L#L.#L#L#.LL#L#L#L#LL#L#L#L.#L#.L#LLLL#L######\n",
      "LLLLLLLL.LLLL.LLLLLLLLLLLLLL.#LLL.LLLLLLLLLLL.LLLLLLLLLLLL.LLLLLLLL.LLLLLLLL.LLLLLLL.#.LLL##.##\n",
      "#L#L#L#L.#L#L.#L#L#L#L#.L#L#L.#L#L#L#L#.L#L#L.L#L#L#L#L#L#.L#L#L#L#.L#L#L#L#L#L#L#L#.#L#L######\n",
      "\n"
     ]
    }
   ],
   "source": [
    "print_data(run_until_stable_2(data))"
   ]
  },
  {
   "cell_type": "markdown",
   "metadata": {},
   "source": [
    "Well that's obviously wrong. Is it checking the ones on the right?\n",
    "\n",
    "No, it wasn't. In `next_visible_seat` `len(data)` was being used as the rightmost bound rather than `len(data[0])`."
   ]
  },
  {
   "cell_type": "markdown",
   "metadata": {},
   "source": [
    "#### Animated!"
   ]
  },
  {
   "cell_type": "code",
   "execution_count": 31,
   "metadata": {},
   "outputs": [
    {
     "name": "stdout",
     "output_type": "stream",
     "text": [
      "Round 85\n",
      "#L#L#L#L.#L#L.#L#L#L#L#.L#L#L#..L.#L#L#.L#L#L.#L#L#L.#L#L#L#L#L#L#L.#L#L#L#L#L#L#L.#.L#L#L#L#L#\n",
      "LLLLLLLLLLLLL.LLLLLLLLL.#LLLLLL#L.LL.LLLLLLLL.LLLLL#.LLLLL.LLLLLLL#.LLLLLLLL.LLLL.LLLLLLLLLLLLL\n",
      "#L#L#L#L.#L#L.#L#L#L#L#.LL#L#LLLL#L#L#L#.L#LL.#L##LL.##L#LL.#L#L#LL.#L#L#L#L.#L#L#L#.L#L#L#L#L#\n",
      "LLLLLLLL.LLLLLLLLLLLLLL.#LLLLL#LL.LLLLL.LLLL#.LLLLL#.LLLLL.LLLLLLL#.LLLLLLL#.LLLLLLL.LLLLLLLLLL\n",
      "#L#L#L#L.#L#L.#L#L#L#L#LLL#L#LLL#.L#L#L.#L#LL.#L##LL.##L#L#L#L#L#LL.##L#L#LL.#L#L#L#.L#L#L#L#L#\n",
      "LLLLLLLL..LLLL.LLLLLLLLL#L#LLL#.L.#LLLLLLLLL#.LLLLL#.LLLLLLLLL#L#L#LLLLLL#L#.LLLLLLL.LLLLLLLLLL\n",
      "...L..#L#.L...........#....LL........#L#....L..#.......L#LL#.LL.....#L.#L...L..#L#.L......#....\n",
      "#L#L#LLL.L#L#..LL#L#L#LLL#L#L#L#L.LLLLL.L#L#L#LLLLLL#L#LL#.LL#L#L#LLLLLLLLLLL#LLLLLL.#LL#L.L#L#\n",
      "LLLLLL#LLLLL#.L#LLLLLLL#LLLLLLLLL.#L#L#.LLLLLLL#L##L.LL#LL.#LLLLLLL.L#L#L#L#LLL#L#L#.LLLLLLLLLL\n",
      "#L#L#LLL.#LLLLLLL#L#L#L.L#L#L#L#L.LLLLL.#L#L#LLLLLLL.#LLL#.L.L#L#L#.LLLLLLLL.#LLLLLLLL#L#L#L#L#\n",
      "LLLLLL#L.LL#..L#LLLLLLLLL.LLLLLLL.#L#.L.LLLLL.##L#L#.L#LLL.##LLLLLL.L#L#L#L#LLL#L#L#.LLLLLLLLLL\n",
      "#L#L#LLL.#LLL.LLL#L#L#L.#L#L#L#L#.LLLLL.#L#L#LLLL#LLLLLL#..LLL#L#L#.LLLLLLLL.#LLLLLLLL#L#L#L#L#\n",
      "LLLLLL#L.LL#L#L#LLLLLLL..LLLLLLLL.#L#L#.LLLLL.##LLL#.L#LLL.##LLLLLLL#L#LL#L#.LL#L#L#.LLLLLLLLLL\n",
      "..#L.......L.L..L.#L......#.L....L...L...#.L........#.....L......L#...LL.LL.#........L#L.L#....\n",
      "#LLL#LL#LL#L#.LL#LLL#L#.LLLL#L#L#.LLLLL.LLL#L.LLLL#L.#L#L#.LLL#L#LL#LL#L##.L.L.L#L#L.LLL#LLL#L#\n",
      "LL#LLLLL.#LLL..#LL#LLLL.#L#LLLLLLL#L#L#.L#LLL.#L#L#L.LLLLLLL#LLLLLL.LLL.LLL#.L#LLLLL.#LLLL#LLLL\n",
      "#LLL#L#L.LL##.LLLLLL#L#LLLLL#L#L#.LLLLL.#LL#LLL.#LLL.#L#L#.LL#L#L#..L#L#L#LLLLLL#L#L.#L#LLLL#L#\n",
      "LL#LLLLL.#LLLL#L#L#LLLLL#L#L#LLLL.#L#L#.L.LLL#LLLL##.LLLLL.#LLLLLLL.LLL#L#L#.L#LLLLL.LLLL##LLLL\n",
      ".L..L#L...L.#LL..L..#....L....L#..LL...L#..L#LL.L.....#.L...........#L........L....L.#...L..#L.\n",
      "#LL#LLL#.L#LLLL#L#L#LLL.L#L#L#L#L#L#L#L.LL#LL.##LLLL.L#L#L.LL#L#L#L.#L#L#L#LLLL#L#L#.L#L#LLLLL#\n",
      "LL#LL#LLLLLL#.LLLLLLL#L#LLLLLLLLL.LLLLL#LLL.#.LLL#L#LLLLLL.#LLLLLLLLLLLLLLLLL#LLLLLL#L.L#L#L#LL\n",
      "#LLL#LLL#L#LL.#L#L#L#LLLL.#L#L#L#.L#L#L.L#LLLL#LLLLLLL#L##LLL#L#L#L.#L#L#L##.LLL#L#L.LLLLLLLLL#\n",
      "LL#LL.#L.LLL##LLLLLLLL#L#LLLLLLLL.#LLL..LLL#L.LL##L#.LLLLL.#LLLLLL#LLLLLLLLL.##LLLLL.L#L#L#L#LL\n",
      "#LLL#LLL.#.LLLLL#L#L#LLLLL#L#L#L#.LL#L#.##LLL#LLLLLL.#L#L#.LLL#L#LL.#L#L#L##.LLL#L.#.LLLLLLLLL#\n",
      "LL#LLL#L.L.#L.#.LLLLLL#.LLLLLLLLL.#LLL#.LLL#L.L#L#L#LLLLLL.##LLLLL#LLLLLLLLLLL#LLLLL.#L#L#L.#LL\n",
      "#.LL#LLLL#LLL.LL#L#L#LL.##L#L#LL#.LL#LLLL#LLL.#.LLLLL#L#L#.LLL#L#LL.#L#L#L#L#LLL#L#LLLLLLL#LLL#\n",
      "LL#LLL#L#LL#L.#LLLLLLL#L.LLLLLLLL.#L#L#LLLL##LLL#L.#LLLLLL.##LLLLL#.LLLLL.LL.L#LLL#L#L#L#L#L#LL\n",
      ".LL.#....L.L..LL..#..L..#L.L...#.....L...#L......#LL...#...LL....L.L.......#.....L...L.L......#\n",
      "#L#LLLL#LL#L#L#L#LLL#LL.LL.#L#LLL.LLLLL.L.LL..L#.LL#.LLLLL.#.#LL#LL#L#LLL#LL.#LLL#LL.#L#L#L#LLL\n",
      "LLLL#LLL.#LLL.LLLL#LLL#.L#LLLLL##L#L#L#L#.##L.LLL#LL.#L#L#.LLLLLL#LLLLL#.L#LLLL#.LL#.LLLLLLL#L#\n",
      "#L#LLL#L.LLL#.LL#LLL#L#.LLL#L#LLLLLLLLLL#LLLL#L#LLL#.LLLLLL#L#L#LLL#L#LL#LLL.#LL.#LL.##L#L#L.LL\n",
      "LLLL#L.L#L#LL.#LLL#LLL..L.LLLLL#L.#L#L#.LL#LL.LLL#LL.##L##.L.LLLL#L.LLLLL#L#.LL#LLL#LLLLLLLLLL#\n",
      "#L#LLLLLLLLL..LL#LL.#LL.L#L#L#LLLLL.LLL.#LLL#.L#LLL#.LLLLL.L#LL#LL#.L#L#LLLL.#LLL#LL.#L#L#L.#LL\n",
      "LLLL#L#L.#.L..#LLL#LLL#.LLLLLLL#L.L#L#L.LL#LL.#LL.L...L#L#.LLLLL.LL.LLLLL#L#.LL#LLL#.LLLLL#LLL#\n",
      "#L#LLLLLLLLL#.LL#LLL#LLL##L.L#LLL#L.LLL.#LLL#.LL##LL#LLLLL.L#L#L#LL.L#L#LLLL.#LLL#LLLL##LLLL#LL\n",
      "LLLL#L#L.#L#L.#LLL#LLL#.LLL#LLL#L.LL#L#.LL#LLL#LLLLLLL#L#L#LLLLL.L#.LLLLL#L#.LL#LLL#.LLL.#LLLL#\n",
      "#LLL#LLL.LLLL.LL#LLL#LLL##LLLL#LLL#LLLL.#LLL#LLL#L#L#L#LLLLL#L#LLLL.##LLLL.L#.LLL#LL.#L#LLL#LLL\n",
      "L.#..L...#L.L..L..L..L.#.L..#......................L...L..#LLL..#L#L..L#....L...LL..L.....L....\n",
      "#LLLLL#L#LL#L#L#L#L#L#L.LL#LLLL#L.L#L#L.LLL#L.L#L#L#.#LL#L.L#L#.LLLLLLLLL#LL.#LL#L#L.L#L#L#L#L#\n",
      "LL#L#LLL.L#LL.L#L.LLLLLL#L#L#L#LL#.LLLL.#L#LL.LL.LLLL#..L#.LLLLL#L#.L#L#LLL#.LLLLLL#.LLLLLLLLLL\n",
      "#LLLLL#LLLLLL..LLL#.L#..L.LLLLLLLLL#L##.LLLL#.LL#LL#.LL#LLL##L#LLLLLLLLLL#LL.#L#L#LL.#L#L.#L#L#\n",
      "LL#L#LLL.#L#L.#L#L#L#LL#L#L#L#L#L.LL.#L.#L#LLL#LLLLLL#LLL#LLLLLL#L#.L#L#LLL#.LL.LLL#LLLL#LLLLLL\n",
      "#LLLLL##LLLLLLLLLLLL#L#.L#LLLLLLL.#LLL#LLLLL.LLL##L#LLL#LL.L#L#LLLLLLL.LL#LL.L#L#LLL.L#LLL#L#L#\n",
      "LL.L#...L...L#.LL#...L...LL.#L..#.L.#...L.#.......L..L..#.LLL..#L...#L#LL..L..LL..#.....L...LL.\n",
      "#L#LLLLL.#L#L#L#L#L#L#L..L#.L.#LL.#LLLL.LL#L#LLLLLLL.L#LL..#L#LLL##.LL#L#L#L.##L#LLL.#L#L#LL#LL\n",
      "#L#L#L#L.LL.LLL#.LL#LLLL#LLLL#LLL#LL#LL.#LLLLL###.##.L.#L#.LL#LLLLL##LLLLLLL.#LLLL#..LLLLL#LLL#\n",
      "LLLLLLLL.#LLL.LLLL.LL#L##L##L#L#LL#LL.##LL##LL#.LLLL.#L#LL.#LLL#L#L.LL#LLL#LL#L#LLLL.L#L#LLLLLL\n",
      "#L#L#L#L.LL#L.#L#L#LLLL.LLLLLLLL#LLL#LL.LLLL#LLL#LLLLL.LL#.LLLL#LLL.#L#L#.LL.#LLL#L#.L#LLL#L#L#\n",
      "LLLLLLLL#LLLL.LLLLLL#LL.#L#L#L#LL.#LLL#L#L#LL.#LLL##.L##LL.#L#L.LL#.LLLLLL#L.LL#LLLL.LLL#LLLLLL\n",
      "#L#L#L#L.#L#L#L#L#.LLL#.LLLLLLLL#.LL#LLLLLLL#LLL#LLL.#LLL#.LLLLL#LL.#L#LLLLL.L#LLL#L#L#.LL#L#L#\n",
      "LLLLLLLLLLLLLLLLLLLL#LLL#L#L#L#LL.#LLL#L#L#LL.#LLL#L#LL#LL.L#L#LLL#.LLLL#L#L.LLL#.LL.LLL#LLLLLL\n",
      "#L#L#L#L#L#L#.LL#L#L#L#..LLLLLLL#L#L#LLLLLL#L.LL#L#.#L#.L#.L#LLL#LL.L##.LLLL#L#LLLL#L#L#LLL#LL#\n",
      "L.L................L..L.L.#L..L..L..L.#..L.LLL#..........#..LL.LL.#...LL...#....L...LL..L.#.L.L\n",
      ".#LLL#LLLLL#L.L#L#L#L#LL#L#L##L#L.L#LLL.#L#L#.LLLLL#.LLLLL.L#L#L#LL.#L#L##LL.#L#L#LL.L#L#LL.#L#\n",
      ".LL#LLL#L#LLL.L.LLLLLL#.LLLLLLLL.#LL#L#.LLLLL.#L#L.L.L#L#L#LLL.LLL#.LLLLLLL#LLLLLLL##LLLLLLLLLL\n",
      "#LLLL#L#.L#LL.#L#L#L#LL.#L#L#L#LL.#LLLL.#L#L..LLLL##LLLLLL.L#LLL#LL.#.L#L#LL.#L#L#LL.L#L#L#L#L#\n",
      "LL#LLLLLLLLL#.LLLLLLL.LLLLLLLLLL#.LL#L#.LLLLL.#L#LLL.#L#L#LLLL#LLL#.LLLLLLL#.LLLLLL#LLLLLLLLLLL\n",
      "#LLL.L#L#L#.L..L#L#L##L.#L#L#L#LL.LLLLLL#L#L#.LLLLL#.LLLLL.#L#L.#LLL#L.#L#LL.#L#L#LLL#LL#L#L#L#\n",
      "LL#L#LLLLLL.L.#LLLLLLLL.LLLLLLLL#L#L#L#LLLLLL.#L.#LL.#L#L#.LLLLLL.L.LLLLLLL#.LLLLLL#LLL.LLLLLLL\n",
      "#LLLLL#L#L#L#.LL#L#L##L.#L#L#L#LL.LLLLL.#L#L#.LLLLLLLL.#LL.L#L#L#LL#L#L#L#LL.#L#L#LL.##L#L#L#L#\n",
      "LL#L#LLL..LLLL#LLLLLLLL.LLLLLLLLL#L#L#L.LLLLL.#LL#L#.LLLL#.LLLLLLL#.LLLLLLLL.LLLLLL#.LLLLLLLLLL\n",
      "#LLLLL#L.L#L#.L#L#L#L#L.#L#LL#L#L.LLL#L#LL#L#.L#LLLL.L#L#L.L#L#L#LL.#L#L#LL#.L.#L#LL.L#L#L#L#L#\n",
      "L..#L...L...L...L.LL..LL......LL..#L....#.L...........L.L...#....L#.LL.L..LL....L..#.........LL\n",
      "#.LLL#L#L#L#L.LL#L#L#L#.LLLL#L#L#LLL#L#LLLLLL.#L##LLL#L#L#.LLLLLLLLLL#L#L#L#.L#L#LLL.#L#LLLLLL#\n",
      "LL#LLLLL.LLLLL#LLLLLLLL.#L#LLLLLL.#LLL##L#L#L.LLLLL#.LLLLL.L#L#L#L.L#.LLLLLL.LLL#L#L.LLLLL#L#LL\n",
      "#LLL#L#.L#.L#.L#L#L#LL#.LLLL#L#L#LLL.LL.LLLLL.#L##LL.#L#L#LLLLLLLL#LLL#L#L#L#L#LLLLL.L#L#LLLLL#\n",
      "LL#LLLLL.LLLL.LLLLLLLLL.#L#LLLLLLL#L#L#.L#L#L.LLLLL#LLLLLL.#L.#L#LL.#LLLLLLL.LLL#L#L#LLLLL#..LL\n",
      "#LLL#L#LLL#L#L#L#L#L#L#LLLLL#L#L#.LLLLL.LLL#..L#L#LL.#L#L#.LL#L.#L#.LL#LL#L#L.#LLLLLLL#L#LLL.L#\n",
      "LL#LLLLL#LLLLLLLLLLLLLL.#L#LLLLLL.#L#L#.L#LLL.LLLLL#.LLLLLL#LLLLLLL.#LLL#LLLLLLL#L#L#LLLLL#L#LL\n",
      "#LL#LL#L.L#L#.#L#L#L#L#.LL#L#L#L#LLL#LL.L.L#L.L#L#LL.L#LL#.LL#L##L#.LL#LLL#L#L#LLLLL.L#L#LLLLL#\n",
      ".L.LL..L...L........L.......L.....#.L.L....L......L.LL......#...LL.L.LLL#...LLL.#...L..L.L#L#..\n",
      "LL##L#L#.LL#L#L#L#L#LLL#L#L#L#L#L.LLL#L.#L#L#L#L#LL#L#LLLL#LLLLL#LL.#L#LLL.#.L#LLL##L#L#LLLLLLL\n",
      "#.LLLLLL.#LLLLLLLLL#L#L.L#LLLLLLL#L#.L#LLLLLL.LLL.#.L.L#LLLL#L#LLL#.LLLL#LLL.L#L#LLLLLLLL#L#.L#\n",
      "LL##L#L#LLL#L#L#L#LLLLL.LLL#L#L#L..L#LL.#L#LL#L#.LLL#LLLL#.LLLLL#LL.#L#LLLL#.LLLLL#L.#L#LLLLLLL\n",
      "#.LLLLLLL#LLLLLLLLL#L#L.#.LLLLLLL.#LLL#.LLL#..LLL#LL.L#L.L.##L#LLL#.LLLLL#LLLL#L#LLL.LLLL.#L#L#\n",
      "LL##L#L#.LL#L.#LL#LLL.LLL#L#L#L#L.LL#LLLL#LLLLL#LLL#.LLL##.LLLLL#LL.##L#LLL#.LLLL.#L.#L#L#.L#LL\n",
      "#LLLLLLL.#LLL.L#LLL#LLL#LLLLLLLLL.#LLL#.LLLL#.LLL#LL.L#LLLL#L#LLLL#.LLLLL#LL.LL#LL.L.#LLLLL.LL#\n",
      "L#L#L#L#LL.#L#LLL#LLL#L.L#L#L#L#L.LL#L#.#L#L#..#LLL#.LLL##.LL.L#L#L.#LL#LLL#.L#LL#LL.LL#L#L#L#L\n",
      "....LLL.#...LL.#.LL#LLL...L........L.L...L.L.L..#....L#..LL.#..LL...L.L.L#L.L#...LL..#.L..LL...\n",
      "#L#L#L#LLLLL#.LLL#LLL#L.LL#L.LLL#..LL#L#L#L#L.#L##LL.LLLL#.LLL#L#LL.##LLLLL#.L.#L#L#.LLL#LLL#L#\n",
      "LLLLLLLL..#L#L#LLLL#LLL.#LLL#L#LL.##LLL.LLLLL.LLLLL#.LL#LL.#L#LLLL#.LLL#L#.LL#LLLLLLL#LLLL#L#LL\n",
      "#L#L#L#L#.LLL.LL#LLLL#L.LL#LLLLL#.LLL#L..#L#L.#L##LLL#LLL#.LLLL#L#L.#L#LLLLL.#L#L#L#.L.L#LLLLL#\n",
      "LLLLLLLL.#L#L#LLLL#LLLL.#LLL#L#LL.#LLL#.LLLL..LLLLL#.LL#LL.L#LLLLLLLLLLL#L#L.LLLLLLL.L#LLL#LL.L\n",
      "#L#L#L#.LLLL..#L#.L#L#LLLL#LLLLL#LLL#LL.#L#LL..#L#LL.L#.L#.LLL#L#L#.L#L#LLLL#L#L#L##.LLL#LLL#L#\n",
      "LL#.LLLL.#LL#LLLLLLLLLL.#LLL#L#LLL#LLLL.LLLL#.LLLLL#LLLLLLLL#LLLLLLL.LLLL#L#.LLLLLLLL#LLLL#LLLL\n",
      "#.L#.L#L.L#LL.#L#L#L#L#.LL#LLLL#L.L#L#L.#L#.L.#L##LLL#L#L#LLLL#L#L#L#L#L#.LL.L#L#L#L.#L#L#L.#L#\n",
      "LLLLLLLLLL.LL.LLLLLLLLL.#LLLL#LLL#LLLLL.LLLL#LLLLLL#LLLLLLL#LLLLLLL.LLLLLLL#LLLLLLLL.LLLLLLL.LL\n",
      "#L#L#L#L.#L#L.#L#L#L#L#.L#L#LLL#L.L#L#L.#L#LL.#.L##L.#L#L#.LL#L#L#L#LL#L#L#L.#L#.L#L#LL#L#L#LL#\n",
      "LLLLLLLL.LLLL.LLLLLLLLLLLLLL.#LLL.LLLLLLLLLLL.LLLLLLLLLLLL.LLLLLLLL.LLLLLLLL.LLLLLLL.L.LLLLL.LL\n",
      "#L#L#L#L.#L#L.#L#L#L#L#.L#L#L.#L#L#L#L#.L#L#L.#L##L#L#L#L#.L#L#L#L#.L#L#L#L#L#L#L#L#.L#L#L#L#L#\n",
      "\n"
     ]
    },
    {
     "data": {
      "text/plain": [
       "1995"
      ]
     },
     "execution_count": 31,
     "metadata": {},
     "output_type": "execute_result"
    }
   ],
   "source": [
    "from IPython.display import clear_output\n",
    "\n",
    "def run_until_stable_2(data, debug=True):\n",
    "    if debug:\n",
    "        print_data(data)\n",
    "    \n",
    "    n = 0\n",
    "    while True:\n",
    "        new_data = seating_round_2(data)\n",
    "        if debug:\n",
    "            clear_output(wait=True)\n",
    "            print(f'Round {(n := n + 1)}')\n",
    "            print_data(new_data)\n",
    "        if new_data == data:\n",
    "            return new_data\n",
    "        else:\n",
    "            data = new_data\n",
    "            \n",
    "part_2(data)"
   ]
  },
  {
   "cell_type": "code",
   "execution_count": null,
   "metadata": {},
   "outputs": [],
   "source": []
  }
 ],
 "metadata": {
  "kernelspec": {
   "display_name": "Python 3",
   "language": "python",
   "name": "python3"
  },
  "language_info": {
   "codemirror_mode": {
    "name": "ipython",
    "version": 3
   },
   "file_extension": ".py",
   "mimetype": "text/x-python",
   "name": "python",
   "nbconvert_exporter": "python",
   "pygments_lexer": "ipython3",
   "version": "3.8.5"
  }
 },
 "nbformat": 4,
 "nbformat_minor": 4
}
