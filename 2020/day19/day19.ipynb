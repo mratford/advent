{
 "cells": [
  {
   "cell_type": "markdown",
   "metadata": {},
   "source": [
    "# Day 19\n",
    "## Part 1\n",
    "\n",
    "Create a regular expression."
   ]
  },
  {
   "cell_type": "code",
   "execution_count": 45,
   "metadata": {},
   "outputs": [],
   "source": [
    "import re\n",
    "from functools import lru_cache\n",
    "# Import hashable dictionary for caching\n",
    "from pyrsistent import pmap\n",
    "\n",
    "\n",
    "def parse_data(data):\n",
    "    rules, messages = data.split('\\n\\n')\n",
    "    return (parse_rules(rules.splitlines()), messages.strip().splitlines())\n",
    "\n",
    "\n",
    "def parse_rules(lines):\n",
    "    rules = {}\n",
    "    for line in lines:\n",
    "        k, v = line.split(': ')\n",
    "        rules[k] = v\n",
    "    return pmap(rules)\n",
    "\n",
    "\n",
    "@lru_cache(maxsize=None)\n",
    "def rule_regex(rules, n):\n",
    "    if rules[n][0] == '\"':\n",
    "        return rules[n][1]\n",
    "    else:\n",
    "        alternates = rules[n].split(' | ')\n",
    "        alt_regexes = [\n",
    "            ''.join(rule_regex(rules, x) for x in alt.split())\n",
    "            for alt in alternates\n",
    "        ]\n",
    "        if len(alt_regexes) == 1:\n",
    "            return alt_regexes[0]\n",
    "        else:\n",
    "            return f\"({'|'.join(alt_regexes)})\"\n",
    "    \n",
    "    \n",
    "def part_1(data):\n",
    "    rules, messages = parse_data(data)\n",
    "    rule = rule_regex(rules, \"0\")\n",
    "    print(rule)\n",
    "    regex = re.compile(rule)\n",
    "    return sum(1 for m in messages if re.fullmatch(regex, m))"
   ]
  },
  {
   "cell_type": "code",
   "execution_count": 46,
   "metadata": {},
   "outputs": [
    {
     "name": "stdout",
     "output_type": "stream",
     "text": [
      "a((aa|bb)(ab|ba)|(ab|ba)(aa|bb))b\n"
     ]
    },
    {
     "data": {
      "text/plain": [
       "2"
      ]
     },
     "execution_count": 46,
     "metadata": {},
     "output_type": "execute_result"
    }
   ],
   "source": [
    "test_data = '''0: 4 1 5\n",
    "1: 2 3 | 3 2\n",
    "2: 4 4 | 5 5\n",
    "3: 4 5 | 5 4\n",
    "4: \"a\"\n",
    "5: \"b\"\n",
    "\n",
    "ababbb\n",
    "bababa\n",
    "abbbab\n",
    "aaabbb\n",
    "aaaabbb\n",
    "'''\n",
    "\n",
    "part_1(test_data)"
   ]
  },
  {
   "cell_type": "code",
   "execution_count": 47,
   "metadata": {},
   "outputs": [
    {
     "name": "stdout",
     "output_type": "stream",
     "text": [
      "((b((a(a((b|a)(b|a)a|abb)|b(b(bb|ab)|abb))|b((aaa|(ba|bb)b)a|(aab|b(a(b|a)|ba))b))a|(a(b((a(b|a)|ba)b|(bb|ab)a)|a((a(b|a)|bb)a|(ab|aa)b))|b(a(b(ab|aa)|aba)|b(b(a(b|a)|bb)|a(ba|bb))))b)|a(b(((a(b|a)|ba)aa|(b(bb|aa)|aab)b)a|(((bb|aa)a|aab)a|((a(b|a)|ba)b|(ba|ab)a)b)b)|a((abaa|b((bb|aa)a|aab))b|(a(a(bb|ab)|bab)|b((a(b|a)|ba)b|aba))a)))b|((b(a((b(ba|bb)|a(ba|(b|a)b))b|((ba|(b|a)b)a|(ba|bb)b)a)|b(a((bb|(b|a)a)a|(a(b|a)|ba)b)|b((a(b|a)|ba)b|(ba|bb)a)))|a(a((a(ba|bb)|b(ba|ab))b|((bb|aa)a|bbb)a)|b(((bb|ab)b|(bb|aa)a)b|((bb|(b|a)a)a|(bb|aa)b)a)))b|((b(a(bbb|a(ba|(b|a)b))|b((bb|aa)b|bba))|a((a(bb|ab)|b(ba|(b|a)b))b|((ab|aa)b|(a(b|a)|ba)a)a))a|(a(((ab|aa)b|(bb|ab)a)b|aaaa)|b(((ba|(b|a)b)a|(ba|bb)b)a|((ab|aa)b|(b|a)(b|a)a)b))b)a)a)((b((a(a((b|a)(b|a)a|abb)|b(b(bb|ab)|abb))|b((aaa|(ba|bb)b)a|(aab|b(a(b|a)|ba))b))a|(a(b((a(b|a)|ba)b|(bb|ab)a)|a((a(b|a)|bb)a|(ab|aa)b))|b(a(b(ab|aa)|aba)|b(b(a(b|a)|bb)|a(ba|bb))))b)|a(b(((a(b|a)|ba)aa|(b(bb|aa)|aab)b)a|(((bb|aa)a|aab)a|((a(b|a)|ba)b|(ba|ab)a)b)b)|a((abaa|b((bb|aa)a|aab))b|(a(a(bb|ab)|bab)|b((a(b|a)|ba)b|aba))a)))b|((b(a((b(ba|bb)|a(ba|(b|a)b))b|((ba|(b|a)b)a|(ba|bb)b)a)|b(a((bb|(b|a)a)a|(a(b|a)|ba)b)|b((a(b|a)|ba)b|(ba|bb)a)))|a(a((a(ba|bb)|b(ba|ab))b|((bb|aa)a|bbb)a)|b(((bb|ab)b|(bb|aa)a)b|((bb|(b|a)a)a|(bb|aa)b)a)))b|((b(a(bbb|a(ba|(b|a)b))|b((bb|aa)b|bba))|a((a(bb|ab)|b(ba|(b|a)b))b|((ab|aa)b|(a(b|a)|ba)a)a))a|(a(((ab|aa)b|(bb|ab)a)b|aaaa)|b(((ba|(b|a)b)a|(ba|bb)b)a|((ab|aa)b|(b|a)(b|a)a)b))b)a)a)(((a(a(a((b|a)(b|a)a|bbb)|b((bb|(b|a)a)a|bbb))|b((a(bb|ab)|b(ba|(b|a)b))a|(b(ba|ab)|a(bb|(b|a)a))b))|b(a(b((b|a)(b|a)a|aab)|a(b(bb|ab)|aab))|b(((ba|(b|a)b)a|(ab|aa)b)a|((ab|aa)a|(bb|ab)b)b)))a|(a(b((b(a(b|a)|bb)|a(ba|bb))a|((bb|aa)a|bbb)b)|a(b(b(a(b|a)|bb)|a(ba|bb))|a((b|a)(b|a)b|(a(b|a)|bb)a)))|b(a((a(ba|bb)|bbb)b|(ba|(b|a)b)aa)|b(b((bb|aa)a|aab)|a(b(ba|bb)|a(a(b|a)|bb)))))b)b|((((a(a(b|a)|ba)a|b(aba|b(ba|ab)))b|((b(b|a)(b|a)|abb)a|(a(ba|bb)|b(ba|ab))b)a)a|((b(aaa|(ab|aa)b)|a(b(b|a)(b|a)|a(ba|(b|a)b)))a|(a(b(a(b|a)|bb)|aaa)|bb(bb|ab))b)b)a|((((b(bb|aa)|aab)a|(ab|aa)ab)a|(((a(b|a)|bb)b|(bb|(b|a)a)a)a|(a(b|a)|ba)ab)b)a|(b((aba|(ba|bb)b)b|(ab|aa)aa)|a(b(b(ab|aa)|a(ba|ab))|a(b(bb|aa)|a(ab|aa))))b)b)a)\n"
     ]
    },
    {
     "data": {
      "text/plain": [
       "210"
      ]
     },
     "execution_count": 47,
     "metadata": {},
     "output_type": "execute_result"
    }
   ],
   "source": [
    "data = open('input').read()\n",
    "part_1(data)"
   ]
  },
  {
   "cell_type": "markdown",
   "metadata": {},
   "source": [
    "## Part 2\n",
    "\n",
    "The loops means that the elements are repeated any number of times. I'm afraid I'm going to be lazy and hardcode this."
   ]
  },
  {
   "cell_type": "code",
   "execution_count": 72,
   "metadata": {},
   "outputs": [],
   "source": [
    "@lru_cache(maxsize=None)\n",
    "def rule_regex_2(rules, n):\n",
    "    if rules[n][0] == '\"':\n",
    "        return rules[n][1]\n",
    "    elif n == '8':\n",
    "        return f'({rule_regex_2(rules, \"42\")})+'\n",
    "    elif n == '11':\n",
    "        # Need to match 42 31, 42 42 31 31, 42 42 42 31 31 31 etc\n",
    "        # I can't find a way of doing this within a regular\n",
    "        # expression so...\n",
    "        alt_regexes = [\n",
    "            f'(({rule_regex_2(rules, \"42\")}){{{i}}}({rule_regex_2(rules, \"31\")}){{{i}}})'\n",
    "            for i in range(1, 11)\n",
    "        ]\n",
    "        return f\"({'|'.join(alt_regexes)})\"\n",
    "    else:\n",
    "        alternates = rules[n].split(' | ')\n",
    "        alt_regexes = [\n",
    "            ''.join(rule_regex_2(rules, x) for x in alt.split())\n",
    "            for alt in alternates\n",
    "        ]\n",
    "        if len(alt_regexes) == 1:\n",
    "            return alt_regexes[0]\n",
    "        else:\n",
    "            return f\"({'|'.join(alt_regexes)})\"\n",
    "    \n",
    "    \n",
    "def part_2(data):\n",
    "    rules, messages = parse_data(data)\n",
    "    rule = rule_regex_2(rules, \"0\")\n",
    "    print(rule)\n",
    "    regex = re.compile(rule)\n",
    "    return sum(1 for m in messages if re.fullmatch(regex, m))"
   ]
  },
  {
   "cell_type": "code",
   "execution_count": 73,
   "metadata": {},
   "outputs": [
    {
     "name": "stdout",
     "output_type": "stream",
     "text": [
      "((b(a(bb|ab)|b(a|b)(a|b))|a(bbb|a(bb|a(a|b))))b|(((aa|ab)a|bbb)b|((a|b)a|bb)aa)a)((b(a(bb|ab)|b(a|b)(a|b))|a(bbb|a(bb|a(a|b))))b|(((aa|ab)a|bbb)b|((a|b)a|bb)aa)a)(b(b(aba|baa)|a(b(ab|(a|b)a)|a(ba|ab)))|a(b((ab|(a|b)a)b|((a|b)a|bb)a)|a(bab|(ba|bb)a)))\n"
     ]
    },
    {
     "data": {
      "text/plain": [
       "3"
      ]
     },
     "execution_count": 73,
     "metadata": {},
     "output_type": "execute_result"
    }
   ],
   "source": [
    "test_data_2 = '''42: 9 14 | 10 1\n",
    "9: 14 27 | 1 26\n",
    "10: 23 14 | 28 1\n",
    "1: \"a\"\n",
    "11: 42 31\n",
    "5: 1 14 | 15 1\n",
    "19: 14 1 | 14 14\n",
    "12: 24 14 | 19 1\n",
    "16: 15 1 | 14 14\n",
    "31: 14 17 | 1 13\n",
    "6: 14 14 | 1 14\n",
    "2: 1 24 | 14 4\n",
    "0: 8 11\n",
    "13: 14 3 | 1 12\n",
    "15: 1 | 14\n",
    "17: 14 2 | 1 7\n",
    "23: 25 1 | 22 14\n",
    "28: 16 1\n",
    "4: 1 1\n",
    "20: 14 14 | 1 15\n",
    "3: 5 14 | 16 1\n",
    "27: 1 6 | 14 18\n",
    "14: \"b\"\n",
    "21: 14 1 | 1 14\n",
    "25: 1 1 | 1 14\n",
    "22: 14 14\n",
    "8: 42\n",
    "26: 14 22 | 1 20\n",
    "18: 15 15\n",
    "7: 14 5 | 1 21\n",
    "24: 14 1\n",
    "\n",
    "abbbbbabbbaaaababbaabbbbabababbbabbbbbbabaaaa\n",
    "bbabbbbaabaabba\n",
    "babbbbaabbbbbabbbbbbaabaaabaaa\n",
    "aaabbbbbbaaaabaababaabababbabaaabbababababaaa\n",
    "bbbbbbbaaaabbbbaaabbabaaa\n",
    "bbbababbbbaaaaaaaabbababaaababaabab\n",
    "ababaaaaaabaaab\n",
    "ababaaaaabbbaba\n",
    "baabbaaaabbaaaababbaababb\n",
    "abbbbabbbbaaaababbbbbbaaaababb\n",
    "aaaaabbaabaaaaababaa\n",
    "aaaabbaaaabbaaa\n",
    "aaaabbaabbaaaaaaabbbabbbaaabbaabaaa\n",
    "babaaabbbaaabaababbaabababaaab\n",
    "aabbbbbaabbbaaaaaabbbbbababaaaaabbaaabba'''\n",
    "\n",
    "part_1(test_data_2)"
   ]
  },
  {
   "cell_type": "code",
   "execution_count": 74,
   "metadata": {},
   "outputs": [
    {
     "name": "stdout",
     "output_type": "stream",
     "text": [
      "(((b(a(bb|ab)|b(a|b)(a|b))|a(bbb|a(bb|a(a|b))))b|(((aa|ab)a|bbb)b|((a|b)a|bb)aa)a))+(((((b(a(bb|ab)|b(a|b)(a|b))|a(bbb|a(bb|a(a|b))))b|(((aa|ab)a|bbb)b|((a|b)a|bb)aa)a)){1}((b(b(aba|baa)|a(b(ab|(a|b)a)|a(ba|ab)))|a(b((ab|(a|b)a)b|((a|b)a|bb)a)|a(bab|(ba|bb)a)))){1})|((((b(a(bb|ab)|b(a|b)(a|b))|a(bbb|a(bb|a(a|b))))b|(((aa|ab)a|bbb)b|((a|b)a|bb)aa)a)){2}((b(b(aba|baa)|a(b(ab|(a|b)a)|a(ba|ab)))|a(b((ab|(a|b)a)b|((a|b)a|bb)a)|a(bab|(ba|bb)a)))){2})|((((b(a(bb|ab)|b(a|b)(a|b))|a(bbb|a(bb|a(a|b))))b|(((aa|ab)a|bbb)b|((a|b)a|bb)aa)a)){3}((b(b(aba|baa)|a(b(ab|(a|b)a)|a(ba|ab)))|a(b((ab|(a|b)a)b|((a|b)a|bb)a)|a(bab|(ba|bb)a)))){3})|((((b(a(bb|ab)|b(a|b)(a|b))|a(bbb|a(bb|a(a|b))))b|(((aa|ab)a|bbb)b|((a|b)a|bb)aa)a)){4}((b(b(aba|baa)|a(b(ab|(a|b)a)|a(ba|ab)))|a(b((ab|(a|b)a)b|((a|b)a|bb)a)|a(bab|(ba|bb)a)))){4})|((((b(a(bb|ab)|b(a|b)(a|b))|a(bbb|a(bb|a(a|b))))b|(((aa|ab)a|bbb)b|((a|b)a|bb)aa)a)){5}((b(b(aba|baa)|a(b(ab|(a|b)a)|a(ba|ab)))|a(b((ab|(a|b)a)b|((a|b)a|bb)a)|a(bab|(ba|bb)a)))){5})|((((b(a(bb|ab)|b(a|b)(a|b))|a(bbb|a(bb|a(a|b))))b|(((aa|ab)a|bbb)b|((a|b)a|bb)aa)a)){6}((b(b(aba|baa)|a(b(ab|(a|b)a)|a(ba|ab)))|a(b((ab|(a|b)a)b|((a|b)a|bb)a)|a(bab|(ba|bb)a)))){6})|((((b(a(bb|ab)|b(a|b)(a|b))|a(bbb|a(bb|a(a|b))))b|(((aa|ab)a|bbb)b|((a|b)a|bb)aa)a)){7}((b(b(aba|baa)|a(b(ab|(a|b)a)|a(ba|ab)))|a(b((ab|(a|b)a)b|((a|b)a|bb)a)|a(bab|(ba|bb)a)))){7})|((((b(a(bb|ab)|b(a|b)(a|b))|a(bbb|a(bb|a(a|b))))b|(((aa|ab)a|bbb)b|((a|b)a|bb)aa)a)){8}((b(b(aba|baa)|a(b(ab|(a|b)a)|a(ba|ab)))|a(b((ab|(a|b)a)b|((a|b)a|bb)a)|a(bab|(ba|bb)a)))){8})|((((b(a(bb|ab)|b(a|b)(a|b))|a(bbb|a(bb|a(a|b))))b|(((aa|ab)a|bbb)b|((a|b)a|bb)aa)a)){9}((b(b(aba|baa)|a(b(ab|(a|b)a)|a(ba|ab)))|a(b((ab|(a|b)a)b|((a|b)a|bb)a)|a(bab|(ba|bb)a)))){9})|((((b(a(bb|ab)|b(a|b)(a|b))|a(bbb|a(bb|a(a|b))))b|(((aa|ab)a|bbb)b|((a|b)a|bb)aa)a)){10}((b(b(aba|baa)|a(b(ab|(a|b)a)|a(ba|ab)))|a(b((ab|(a|b)a)b|((a|b)a|bb)a)|a(bab|(ba|bb)a)))){10}))\n"
     ]
    },
    {
     "data": {
      "text/plain": [
       "12"
      ]
     },
     "execution_count": 74,
     "metadata": {},
     "output_type": "execute_result"
    }
   ],
   "source": [
    "test_data_3 = '''42: 9 14 | 10 1\n",
    "9: 14 27 | 1 26\n",
    "10: 23 14 | 28 1\n",
    "1: \"a\"\n",
    "11: 42 31 | 42 11 31\n",
    "5: 1 14 | 15 1\n",
    "19: 14 1 | 14 14\n",
    "12: 24 14 | 19 1\n",
    "16: 15 1 | 14 14\n",
    "31: 14 17 | 1 13\n",
    "6: 14 14 | 1 14\n",
    "2: 1 24 | 14 4\n",
    "0: 8 11\n",
    "13: 14 3 | 1 12\n",
    "15: 1 | 14\n",
    "17: 14 2 | 1 7\n",
    "23: 25 1 | 22 14\n",
    "28: 16 1\n",
    "4: 1 1\n",
    "20: 14 14 | 1 15\n",
    "3: 5 14 | 16 1\n",
    "27: 1 6 | 14 18\n",
    "14: \"b\"\n",
    "21: 14 1 | 1 14\n",
    "25: 1 1 | 1 14\n",
    "22: 14 14\n",
    "8: 42 | 42 8\n",
    "26: 14 22 | 1 20\n",
    "18: 15 15\n",
    "7: 14 5 | 1 21\n",
    "24: 14 1\n",
    "\n",
    "abbbbbabbbaaaababbaabbbbabababbbabbbbbbabaaaa\n",
    "bbabbbbaabaabba\n",
    "babbbbaabbbbbabbbbbbaabaaabaaa\n",
    "aaabbbbbbaaaabaababaabababbabaaabbababababaaa\n",
    "bbbbbbbaaaabbbbaaabbabaaa\n",
    "bbbababbbbaaaaaaaabbababaaababaabab\n",
    "ababaaaaaabaaab\n",
    "ababaaaaabbbaba\n",
    "baabbaaaabbaaaababbaababb\n",
    "abbbbabbbbaaaababbbbbbaaaababb\n",
    "aaaaabbaabaaaaababaa\n",
    "aaaabbaaaabbaaa\n",
    "aaaabbaabbaaaaaaabbbabbbaaabbaabaaa\n",
    "babaaabbbaaabaababbaabababaaab\n",
    "aabbbbbaabbbaaaaaabbbbbababaaaaabbaaabba'''\n",
    "\n",
    "part_2(test_data_3)"
   ]
  },
  {
   "cell_type": "code",
   "execution_count": 75,
   "metadata": {},
   "outputs": [
    {
     "name": "stdout",
     "output_type": "stream",
     "text": [
      "(((b((a(a((b|a)(b|a)a|abb)|b(b(bb|ab)|abb))|b((aaa|(ba|bb)b)a|(aab|b(a(b|a)|ba))b))a|(a(b((a(b|a)|ba)b|(bb|ab)a)|a((a(b|a)|bb)a|(ab|aa)b))|b(a(b(ab|aa)|aba)|b(b(a(b|a)|bb)|a(ba|bb))))b)|a(b(((a(b|a)|ba)aa|(b(bb|aa)|aab)b)a|(((bb|aa)a|aab)a|((a(b|a)|ba)b|(ba|ab)a)b)b)|a((abaa|b((bb|aa)a|aab))b|(a(a(bb|ab)|bab)|b((a(b|a)|ba)b|aba))a)))b|((b(a((b(ba|bb)|a(ba|(b|a)b))b|((ba|(b|a)b)a|(ba|bb)b)a)|b(a((bb|(b|a)a)a|(a(b|a)|ba)b)|b((a(b|a)|ba)b|(ba|bb)a)))|a(a((a(ba|bb)|b(ba|ab))b|((bb|aa)a|bbb)a)|b(((bb|ab)b|(bb|aa)a)b|((bb|(b|a)a)a|(bb|aa)b)a)))b|((b(a(bbb|a(ba|(b|a)b))|b((bb|aa)b|bba))|a((a(bb|ab)|b(ba|(b|a)b))b|((ab|aa)b|(a(b|a)|ba)a)a))a|(a(((ab|aa)b|(bb|ab)a)b|aaaa)|b(((ba|(b|a)b)a|(ba|bb)b)a|((ab|aa)b|(b|a)(b|a)a)b))b)a)a))+(((((b((a(a((b|a)(b|a)a|abb)|b(b(bb|ab)|abb))|b((aaa|(ba|bb)b)a|(aab|b(a(b|a)|ba))b))a|(a(b((a(b|a)|ba)b|(bb|ab)a)|a((a(b|a)|bb)a|(ab|aa)b))|b(a(b(ab|aa)|aba)|b(b(a(b|a)|bb)|a(ba|bb))))b)|a(b(((a(b|a)|ba)aa|(b(bb|aa)|aab)b)a|(((bb|aa)a|aab)a|((a(b|a)|ba)b|(ba|ab)a)b)b)|a((abaa|b((bb|aa)a|aab))b|(a(a(bb|ab)|bab)|b((a(b|a)|ba)b|aba))a)))b|((b(a((b(ba|bb)|a(ba|(b|a)b))b|((ba|(b|a)b)a|(ba|bb)b)a)|b(a((bb|(b|a)a)a|(a(b|a)|ba)b)|b((a(b|a)|ba)b|(ba|bb)a)))|a(a((a(ba|bb)|b(ba|ab))b|((bb|aa)a|bbb)a)|b(((bb|ab)b|(bb|aa)a)b|((bb|(b|a)a)a|(bb|aa)b)a)))b|((b(a(bbb|a(ba|(b|a)b))|b((bb|aa)b|bba))|a((a(bb|ab)|b(ba|(b|a)b))b|((ab|aa)b|(a(b|a)|ba)a)a))a|(a(((ab|aa)b|(bb|ab)a)b|aaaa)|b(((ba|(b|a)b)a|(ba|bb)b)a|((ab|aa)b|(b|a)(b|a)a)b))b)a)a)){1}((((a(a(a((b|a)(b|a)a|bbb)|b((bb|(b|a)a)a|bbb))|b((a(bb|ab)|b(ba|(b|a)b))a|(b(ba|ab)|a(bb|(b|a)a))b))|b(a(b((b|a)(b|a)a|aab)|a(b(bb|ab)|aab))|b(((ba|(b|a)b)a|(ab|aa)b)a|((ab|aa)a|(bb|ab)b)b)))a|(a(b((b(a(b|a)|bb)|a(ba|bb))a|((bb|aa)a|bbb)b)|a(b(b(a(b|a)|bb)|a(ba|bb))|a((b|a)(b|a)b|(a(b|a)|bb)a)))|b(a((a(ba|bb)|bbb)b|(ba|(b|a)b)aa)|b(b((bb|aa)a|aab)|a(b(ba|bb)|a(a(b|a)|bb)))))b)b|((((a(a(b|a)|ba)a|b(aba|b(ba|ab)))b|((b(b|a)(b|a)|abb)a|(a(ba|bb)|b(ba|ab))b)a)a|((b(aaa|(ab|aa)b)|a(b(b|a)(b|a)|a(ba|(b|a)b)))a|(a(b(a(b|a)|bb)|aaa)|bb(bb|ab))b)b)a|((((b(bb|aa)|aab)a|(ab|aa)ab)a|(((a(b|a)|bb)b|(bb|(b|a)a)a)a|(a(b|a)|ba)ab)b)a|(b((aba|(ba|bb)b)b|(ab|aa)aa)|a(b(b(ab|aa)|a(ba|ab))|a(b(bb|aa)|a(ab|aa))))b)b)a)){1})|((((b((a(a((b|a)(b|a)a|abb)|b(b(bb|ab)|abb))|b((aaa|(ba|bb)b)a|(aab|b(a(b|a)|ba))b))a|(a(b((a(b|a)|ba)b|(bb|ab)a)|a((a(b|a)|bb)a|(ab|aa)b))|b(a(b(ab|aa)|aba)|b(b(a(b|a)|bb)|a(ba|bb))))b)|a(b(((a(b|a)|ba)aa|(b(bb|aa)|aab)b)a|(((bb|aa)a|aab)a|((a(b|a)|ba)b|(ba|ab)a)b)b)|a((abaa|b((bb|aa)a|aab))b|(a(a(bb|ab)|bab)|b((a(b|a)|ba)b|aba))a)))b|((b(a((b(ba|bb)|a(ba|(b|a)b))b|((ba|(b|a)b)a|(ba|bb)b)a)|b(a((bb|(b|a)a)a|(a(b|a)|ba)b)|b((a(b|a)|ba)b|(ba|bb)a)))|a(a((a(ba|bb)|b(ba|ab))b|((bb|aa)a|bbb)a)|b(((bb|ab)b|(bb|aa)a)b|((bb|(b|a)a)a|(bb|aa)b)a)))b|((b(a(bbb|a(ba|(b|a)b))|b((bb|aa)b|bba))|a((a(bb|ab)|b(ba|(b|a)b))b|((ab|aa)b|(a(b|a)|ba)a)a))a|(a(((ab|aa)b|(bb|ab)a)b|aaaa)|b(((ba|(b|a)b)a|(ba|bb)b)a|((ab|aa)b|(b|a)(b|a)a)b))b)a)a)){2}((((a(a(a((b|a)(b|a)a|bbb)|b((bb|(b|a)a)a|bbb))|b((a(bb|ab)|b(ba|(b|a)b))a|(b(ba|ab)|a(bb|(b|a)a))b))|b(a(b((b|a)(b|a)a|aab)|a(b(bb|ab)|aab))|b(((ba|(b|a)b)a|(ab|aa)b)a|((ab|aa)a|(bb|ab)b)b)))a|(a(b((b(a(b|a)|bb)|a(ba|bb))a|((bb|aa)a|bbb)b)|a(b(b(a(b|a)|bb)|a(ba|bb))|a((b|a)(b|a)b|(a(b|a)|bb)a)))|b(a((a(ba|bb)|bbb)b|(ba|(b|a)b)aa)|b(b((bb|aa)a|aab)|a(b(ba|bb)|a(a(b|a)|bb)))))b)b|((((a(a(b|a)|ba)a|b(aba|b(ba|ab)))b|((b(b|a)(b|a)|abb)a|(a(ba|bb)|b(ba|ab))b)a)a|((b(aaa|(ab|aa)b)|a(b(b|a)(b|a)|a(ba|(b|a)b)))a|(a(b(a(b|a)|bb)|aaa)|bb(bb|ab))b)b)a|((((b(bb|aa)|aab)a|(ab|aa)ab)a|(((a(b|a)|bb)b|(bb|(b|a)a)a)a|(a(b|a)|ba)ab)b)a|(b((aba|(ba|bb)b)b|(ab|aa)aa)|a(b(b(ab|aa)|a(ba|ab))|a(b(bb|aa)|a(ab|aa))))b)b)a)){2})|((((b((a(a((b|a)(b|a)a|abb)|b(b(bb|ab)|abb))|b((aaa|(ba|bb)b)a|(aab|b(a(b|a)|ba))b))a|(a(b((a(b|a)|ba)b|(bb|ab)a)|a((a(b|a)|bb)a|(ab|aa)b))|b(a(b(ab|aa)|aba)|b(b(a(b|a)|bb)|a(ba|bb))))b)|a(b(((a(b|a)|ba)aa|(b(bb|aa)|aab)b)a|(((bb|aa)a|aab)a|((a(b|a)|ba)b|(ba|ab)a)b)b)|a((abaa|b((bb|aa)a|aab))b|(a(a(bb|ab)|bab)|b((a(b|a)|ba)b|aba))a)))b|((b(a((b(ba|bb)|a(ba|(b|a)b))b|((ba|(b|a)b)a|(ba|bb)b)a)|b(a((bb|(b|a)a)a|(a(b|a)|ba)b)|b((a(b|a)|ba)b|(ba|bb)a)))|a(a((a(ba|bb)|b(ba|ab))b|((bb|aa)a|bbb)a)|b(((bb|ab)b|(bb|aa)a)b|((bb|(b|a)a)a|(bb|aa)b)a)))b|((b(a(bbb|a(ba|(b|a)b))|b((bb|aa)b|bba))|a((a(bb|ab)|b(ba|(b|a)b))b|((ab|aa)b|(a(b|a)|ba)a)a))a|(a(((ab|aa)b|(bb|ab)a)b|aaaa)|b(((ba|(b|a)b)a|(ba|bb)b)a|((ab|aa)b|(b|a)(b|a)a)b))b)a)a)){3}((((a(a(a((b|a)(b|a)a|bbb)|b((bb|(b|a)a)a|bbb))|b((a(bb|ab)|b(ba|(b|a)b))a|(b(ba|ab)|a(bb|(b|a)a))b))|b(a(b((b|a)(b|a)a|aab)|a(b(bb|ab)|aab))|b(((ba|(b|a)b)a|(ab|aa)b)a|((ab|aa)a|(bb|ab)b)b)))a|(a(b((b(a(b|a)|bb)|a(ba|bb))a|((bb|aa)a|bbb)b)|a(b(b(a(b|a)|bb)|a(ba|bb))|a((b|a)(b|a)b|(a(b|a)|bb)a)))|b(a((a(ba|bb)|bbb)b|(ba|(b|a)b)aa)|b(b((bb|aa)a|aab)|a(b(ba|bb)|a(a(b|a)|bb)))))b)b|((((a(a(b|a)|ba)a|b(aba|b(ba|ab)))b|((b(b|a)(b|a)|abb)a|(a(ba|bb)|b(ba|ab))b)a)a|((b(aaa|(ab|aa)b)|a(b(b|a)(b|a)|a(ba|(b|a)b)))a|(a(b(a(b|a)|bb)|aaa)|bb(bb|ab))b)b)a|((((b(bb|aa)|aab)a|(ab|aa)ab)a|(((a(b|a)|bb)b|(bb|(b|a)a)a)a|(a(b|a)|ba)ab)b)a|(b((aba|(ba|bb)b)b|(ab|aa)aa)|a(b(b(ab|aa)|a(ba|ab))|a(b(bb|aa)|a(ab|aa))))b)b)a)){3})|((((b((a(a((b|a)(b|a)a|abb)|b(b(bb|ab)|abb))|b((aaa|(ba|bb)b)a|(aab|b(a(b|a)|ba))b))a|(a(b((a(b|a)|ba)b|(bb|ab)a)|a((a(b|a)|bb)a|(ab|aa)b))|b(a(b(ab|aa)|aba)|b(b(a(b|a)|bb)|a(ba|bb))))b)|a(b(((a(b|a)|ba)aa|(b(bb|aa)|aab)b)a|(((bb|aa)a|aab)a|((a(b|a)|ba)b|(ba|ab)a)b)b)|a((abaa|b((bb|aa)a|aab))b|(a(a(bb|ab)|bab)|b((a(b|a)|ba)b|aba))a)))b|((b(a((b(ba|bb)|a(ba|(b|a)b))b|((ba|(b|a)b)a|(ba|bb)b)a)|b(a((bb|(b|a)a)a|(a(b|a)|ba)b)|b((a(b|a)|ba)b|(ba|bb)a)))|a(a((a(ba|bb)|b(ba|ab))b|((bb|aa)a|bbb)a)|b(((bb|ab)b|(bb|aa)a)b|((bb|(b|a)a)a|(bb|aa)b)a)))b|((b(a(bbb|a(ba|(b|a)b))|b((bb|aa)b|bba))|a((a(bb|ab)|b(ba|(b|a)b))b|((ab|aa)b|(a(b|a)|ba)a)a))a|(a(((ab|aa)b|(bb|ab)a)b|aaaa)|b(((ba|(b|a)b)a|(ba|bb)b)a|((ab|aa)b|(b|a)(b|a)a)b))b)a)a)){4}((((a(a(a((b|a)(b|a)a|bbb)|b((bb|(b|a)a)a|bbb))|b((a(bb|ab)|b(ba|(b|a)b))a|(b(ba|ab)|a(bb|(b|a)a))b))|b(a(b((b|a)(b|a)a|aab)|a(b(bb|ab)|aab))|b(((ba|(b|a)b)a|(ab|aa)b)a|((ab|aa)a|(bb|ab)b)b)))a|(a(b((b(a(b|a)|bb)|a(ba|bb))a|((bb|aa)a|bbb)b)|a(b(b(a(b|a)|bb)|a(ba|bb))|a((b|a)(b|a)b|(a(b|a)|bb)a)))|b(a((a(ba|bb)|bbb)b|(ba|(b|a)b)aa)|b(b((bb|aa)a|aab)|a(b(ba|bb)|a(a(b|a)|bb)))))b)b|((((a(a(b|a)|ba)a|b(aba|b(ba|ab)))b|((b(b|a)(b|a)|abb)a|(a(ba|bb)|b(ba|ab))b)a)a|((b(aaa|(ab|aa)b)|a(b(b|a)(b|a)|a(ba|(b|a)b)))a|(a(b(a(b|a)|bb)|aaa)|bb(bb|ab))b)b)a|((((b(bb|aa)|aab)a|(ab|aa)ab)a|(((a(b|a)|bb)b|(bb|(b|a)a)a)a|(a(b|a)|ba)ab)b)a|(b((aba|(ba|bb)b)b|(ab|aa)aa)|a(b(b(ab|aa)|a(ba|ab))|a(b(bb|aa)|a(ab|aa))))b)b)a)){4})|((((b((a(a((b|a)(b|a)a|abb)|b(b(bb|ab)|abb))|b((aaa|(ba|bb)b)a|(aab|b(a(b|a)|ba))b))a|(a(b((a(b|a)|ba)b|(bb|ab)a)|a((a(b|a)|bb)a|(ab|aa)b))|b(a(b(ab|aa)|aba)|b(b(a(b|a)|bb)|a(ba|bb))))b)|a(b(((a(b|a)|ba)aa|(b(bb|aa)|aab)b)a|(((bb|aa)a|aab)a|((a(b|a)|ba)b|(ba|ab)a)b)b)|a((abaa|b((bb|aa)a|aab))b|(a(a(bb|ab)|bab)|b((a(b|a)|ba)b|aba))a)))b|((b(a((b(ba|bb)|a(ba|(b|a)b))b|((ba|(b|a)b)a|(ba|bb)b)a)|b(a((bb|(b|a)a)a|(a(b|a)|ba)b)|b((a(b|a)|ba)b|(ba|bb)a)))|a(a((a(ba|bb)|b(ba|ab))b|((bb|aa)a|bbb)a)|b(((bb|ab)b|(bb|aa)a)b|((bb|(b|a)a)a|(bb|aa)b)a)))b|((b(a(bbb|a(ba|(b|a)b))|b((bb|aa)b|bba))|a((a(bb|ab)|b(ba|(b|a)b))b|((ab|aa)b|(a(b|a)|ba)a)a))a|(a(((ab|aa)b|(bb|ab)a)b|aaaa)|b(((ba|(b|a)b)a|(ba|bb)b)a|((ab|aa)b|(b|a)(b|a)a)b))b)a)a)){5}((((a(a(a((b|a)(b|a)a|bbb)|b((bb|(b|a)a)a|bbb))|b((a(bb|ab)|b(ba|(b|a)b))a|(b(ba|ab)|a(bb|(b|a)a))b))|b(a(b((b|a)(b|a)a|aab)|a(b(bb|ab)|aab))|b(((ba|(b|a)b)a|(ab|aa)b)a|((ab|aa)a|(bb|ab)b)b)))a|(a(b((b(a(b|a)|bb)|a(ba|bb))a|((bb|aa)a|bbb)b)|a(b(b(a(b|a)|bb)|a(ba|bb))|a((b|a)(b|a)b|(a(b|a)|bb)a)))|b(a((a(ba|bb)|bbb)b|(ba|(b|a)b)aa)|b(b((bb|aa)a|aab)|a(b(ba|bb)|a(a(b|a)|bb)))))b)b|((((a(a(b|a)|ba)a|b(aba|b(ba|ab)))b|((b(b|a)(b|a)|abb)a|(a(ba|bb)|b(ba|ab))b)a)a|((b(aaa|(ab|aa)b)|a(b(b|a)(b|a)|a(ba|(b|a)b)))a|(a(b(a(b|a)|bb)|aaa)|bb(bb|ab))b)b)a|((((b(bb|aa)|aab)a|(ab|aa)ab)a|(((a(b|a)|bb)b|(bb|(b|a)a)a)a|(a(b|a)|ba)ab)b)a|(b((aba|(ba|bb)b)b|(ab|aa)aa)|a(b(b(ab|aa)|a(ba|ab))|a(b(bb|aa)|a(ab|aa))))b)b)a)){5})|((((b((a(a((b|a)(b|a)a|abb)|b(b(bb|ab)|abb))|b((aaa|(ba|bb)b)a|(aab|b(a(b|a)|ba))b))a|(a(b((a(b|a)|ba)b|(bb|ab)a)|a((a(b|a)|bb)a|(ab|aa)b))|b(a(b(ab|aa)|aba)|b(b(a(b|a)|bb)|a(ba|bb))))b)|a(b(((a(b|a)|ba)aa|(b(bb|aa)|aab)b)a|(((bb|aa)a|aab)a|((a(b|a)|ba)b|(ba|ab)a)b)b)|a((abaa|b((bb|aa)a|aab))b|(a(a(bb|ab)|bab)|b((a(b|a)|ba)b|aba))a)))b|((b(a((b(ba|bb)|a(ba|(b|a)b))b|((ba|(b|a)b)a|(ba|bb)b)a)|b(a((bb|(b|a)a)a|(a(b|a)|ba)b)|b((a(b|a)|ba)b|(ba|bb)a)))|a(a((a(ba|bb)|b(ba|ab))b|((bb|aa)a|bbb)a)|b(((bb|ab)b|(bb|aa)a)b|((bb|(b|a)a)a|(bb|aa)b)a)))b|((b(a(bbb|a(ba|(b|a)b))|b((bb|aa)b|bba))|a((a(bb|ab)|b(ba|(b|a)b))b|((ab|aa)b|(a(b|a)|ba)a)a))a|(a(((ab|aa)b|(bb|ab)a)b|aaaa)|b(((ba|(b|a)b)a|(ba|bb)b)a|((ab|aa)b|(b|a)(b|a)a)b))b)a)a)){6}((((a(a(a((b|a)(b|a)a|bbb)|b((bb|(b|a)a)a|bbb))|b((a(bb|ab)|b(ba|(b|a)b))a|(b(ba|ab)|a(bb|(b|a)a))b))|b(a(b((b|a)(b|a)a|aab)|a(b(bb|ab)|aab))|b(((ba|(b|a)b)a|(ab|aa)b)a|((ab|aa)a|(bb|ab)b)b)))a|(a(b((b(a(b|a)|bb)|a(ba|bb))a|((bb|aa)a|bbb)b)|a(b(b(a(b|a)|bb)|a(ba|bb))|a((b|a)(b|a)b|(a(b|a)|bb)a)))|b(a((a(ba|bb)|bbb)b|(ba|(b|a)b)aa)|b(b((bb|aa)a|aab)|a(b(ba|bb)|a(a(b|a)|bb)))))b)b|((((a(a(b|a)|ba)a|b(aba|b(ba|ab)))b|((b(b|a)(b|a)|abb)a|(a(ba|bb)|b(ba|ab))b)a)a|((b(aaa|(ab|aa)b)|a(b(b|a)(b|a)|a(ba|(b|a)b)))a|(a(b(a(b|a)|bb)|aaa)|bb(bb|ab))b)b)a|((((b(bb|aa)|aab)a|(ab|aa)ab)a|(((a(b|a)|bb)b|(bb|(b|a)a)a)a|(a(b|a)|ba)ab)b)a|(b((aba|(ba|bb)b)b|(ab|aa)aa)|a(b(b(ab|aa)|a(ba|ab))|a(b(bb|aa)|a(ab|aa))))b)b)a)){6})|((((b((a(a((b|a)(b|a)a|abb)|b(b(bb|ab)|abb))|b((aaa|(ba|bb)b)a|(aab|b(a(b|a)|ba))b))a|(a(b((a(b|a)|ba)b|(bb|ab)a)|a((a(b|a)|bb)a|(ab|aa)b))|b(a(b(ab|aa)|aba)|b(b(a(b|a)|bb)|a(ba|bb))))b)|a(b(((a(b|a)|ba)aa|(b(bb|aa)|aab)b)a|(((bb|aa)a|aab)a|((a(b|a)|ba)b|(ba|ab)a)b)b)|a((abaa|b((bb|aa)a|aab))b|(a(a(bb|ab)|bab)|b((a(b|a)|ba)b|aba))a)))b|((b(a((b(ba|bb)|a(ba|(b|a)b))b|((ba|(b|a)b)a|(ba|bb)b)a)|b(a((bb|(b|a)a)a|(a(b|a)|ba)b)|b((a(b|a)|ba)b|(ba|bb)a)))|a(a((a(ba|bb)|b(ba|ab))b|((bb|aa)a|bbb)a)|b(((bb|ab)b|(bb|aa)a)b|((bb|(b|a)a)a|(bb|aa)b)a)))b|((b(a(bbb|a(ba|(b|a)b))|b((bb|aa)b|bba))|a((a(bb|ab)|b(ba|(b|a)b))b|((ab|aa)b|(a(b|a)|ba)a)a))a|(a(((ab|aa)b|(bb|ab)a)b|aaaa)|b(((ba|(b|a)b)a|(ba|bb)b)a|((ab|aa)b|(b|a)(b|a)a)b))b)a)a)){7}((((a(a(a((b|a)(b|a)a|bbb)|b((bb|(b|a)a)a|bbb))|b((a(bb|ab)|b(ba|(b|a)b))a|(b(ba|ab)|a(bb|(b|a)a))b))|b(a(b((b|a)(b|a)a|aab)|a(b(bb|ab)|aab))|b(((ba|(b|a)b)a|(ab|aa)b)a|((ab|aa)a|(bb|ab)b)b)))a|(a(b((b(a(b|a)|bb)|a(ba|bb))a|((bb|aa)a|bbb)b)|a(b(b(a(b|a)|bb)|a(ba|bb))|a((b|a)(b|a)b|(a(b|a)|bb)a)))|b(a((a(ba|bb)|bbb)b|(ba|(b|a)b)aa)|b(b((bb|aa)a|aab)|a(b(ba|bb)|a(a(b|a)|bb)))))b)b|((((a(a(b|a)|ba)a|b(aba|b(ba|ab)))b|((b(b|a)(b|a)|abb)a|(a(ba|bb)|b(ba|ab))b)a)a|((b(aaa|(ab|aa)b)|a(b(b|a)(b|a)|a(ba|(b|a)b)))a|(a(b(a(b|a)|bb)|aaa)|bb(bb|ab))b)b)a|((((b(bb|aa)|aab)a|(ab|aa)ab)a|(((a(b|a)|bb)b|(bb|(b|a)a)a)a|(a(b|a)|ba)ab)b)a|(b((aba|(ba|bb)b)b|(ab|aa)aa)|a(b(b(ab|aa)|a(ba|ab))|a(b(bb|aa)|a(ab|aa))))b)b)a)){7})|((((b((a(a((b|a)(b|a)a|abb)|b(b(bb|ab)|abb))|b((aaa|(ba|bb)b)a|(aab|b(a(b|a)|ba))b))a|(a(b((a(b|a)|ba)b|(bb|ab)a)|a((a(b|a)|bb)a|(ab|aa)b))|b(a(b(ab|aa)|aba)|b(b(a(b|a)|bb)|a(ba|bb))))b)|a(b(((a(b|a)|ba)aa|(b(bb|aa)|aab)b)a|(((bb|aa)a|aab)a|((a(b|a)|ba)b|(ba|ab)a)b)b)|a((abaa|b((bb|aa)a|aab))b|(a(a(bb|ab)|bab)|b((a(b|a)|ba)b|aba))a)))b|((b(a((b(ba|bb)|a(ba|(b|a)b))b|((ba|(b|a)b)a|(ba|bb)b)a)|b(a((bb|(b|a)a)a|(a(b|a)|ba)b)|b((a(b|a)|ba)b|(ba|bb)a)))|a(a((a(ba|bb)|b(ba|ab))b|((bb|aa)a|bbb)a)|b(((bb|ab)b|(bb|aa)a)b|((bb|(b|a)a)a|(bb|aa)b)a)))b|((b(a(bbb|a(ba|(b|a)b))|b((bb|aa)b|bba))|a((a(bb|ab)|b(ba|(b|a)b))b|((ab|aa)b|(a(b|a)|ba)a)a))a|(a(((ab|aa)b|(bb|ab)a)b|aaaa)|b(((ba|(b|a)b)a|(ba|bb)b)a|((ab|aa)b|(b|a)(b|a)a)b))b)a)a)){8}((((a(a(a((b|a)(b|a)a|bbb)|b((bb|(b|a)a)a|bbb))|b((a(bb|ab)|b(ba|(b|a)b))a|(b(ba|ab)|a(bb|(b|a)a))b))|b(a(b((b|a)(b|a)a|aab)|a(b(bb|ab)|aab))|b(((ba|(b|a)b)a|(ab|aa)b)a|((ab|aa)a|(bb|ab)b)b)))a|(a(b((b(a(b|a)|bb)|a(ba|bb))a|((bb|aa)a|bbb)b)|a(b(b(a(b|a)|bb)|a(ba|bb))|a((b|a)(b|a)b|(a(b|a)|bb)a)))|b(a((a(ba|bb)|bbb)b|(ba|(b|a)b)aa)|b(b((bb|aa)a|aab)|a(b(ba|bb)|a(a(b|a)|bb)))))b)b|((((a(a(b|a)|ba)a|b(aba|b(ba|ab)))b|((b(b|a)(b|a)|abb)a|(a(ba|bb)|b(ba|ab))b)a)a|((b(aaa|(ab|aa)b)|a(b(b|a)(b|a)|a(ba|(b|a)b)))a|(a(b(a(b|a)|bb)|aaa)|bb(bb|ab))b)b)a|((((b(bb|aa)|aab)a|(ab|aa)ab)a|(((a(b|a)|bb)b|(bb|(b|a)a)a)a|(a(b|a)|ba)ab)b)a|(b((aba|(ba|bb)b)b|(ab|aa)aa)|a(b(b(ab|aa)|a(ba|ab))|a(b(bb|aa)|a(ab|aa))))b)b)a)){8})|((((b((a(a((b|a)(b|a)a|abb)|b(b(bb|ab)|abb))|b((aaa|(ba|bb)b)a|(aab|b(a(b|a)|ba))b))a|(a(b((a(b|a)|ba)b|(bb|ab)a)|a((a(b|a)|bb)a|(ab|aa)b))|b(a(b(ab|aa)|aba)|b(b(a(b|a)|bb)|a(ba|bb))))b)|a(b(((a(b|a)|ba)aa|(b(bb|aa)|aab)b)a|(((bb|aa)a|aab)a|((a(b|a)|ba)b|(ba|ab)a)b)b)|a((abaa|b((bb|aa)a|aab))b|(a(a(bb|ab)|bab)|b((a(b|a)|ba)b|aba))a)))b|((b(a((b(ba|bb)|a(ba|(b|a)b))b|((ba|(b|a)b)a|(ba|bb)b)a)|b(a((bb|(b|a)a)a|(a(b|a)|ba)b)|b((a(b|a)|ba)b|(ba|bb)a)))|a(a((a(ba|bb)|b(ba|ab))b|((bb|aa)a|bbb)a)|b(((bb|ab)b|(bb|aa)a)b|((bb|(b|a)a)a|(bb|aa)b)a)))b|((b(a(bbb|a(ba|(b|a)b))|b((bb|aa)b|bba))|a((a(bb|ab)|b(ba|(b|a)b))b|((ab|aa)b|(a(b|a)|ba)a)a))a|(a(((ab|aa)b|(bb|ab)a)b|aaaa)|b(((ba|(b|a)b)a|(ba|bb)b)a|((ab|aa)b|(b|a)(b|a)a)b))b)a)a)){9}((((a(a(a((b|a)(b|a)a|bbb)|b((bb|(b|a)a)a|bbb))|b((a(bb|ab)|b(ba|(b|a)b))a|(b(ba|ab)|a(bb|(b|a)a))b))|b(a(b((b|a)(b|a)a|aab)|a(b(bb|ab)|aab))|b(((ba|(b|a)b)a|(ab|aa)b)a|((ab|aa)a|(bb|ab)b)b)))a|(a(b((b(a(b|a)|bb)|a(ba|bb))a|((bb|aa)a|bbb)b)|a(b(b(a(b|a)|bb)|a(ba|bb))|a((b|a)(b|a)b|(a(b|a)|bb)a)))|b(a((a(ba|bb)|bbb)b|(ba|(b|a)b)aa)|b(b((bb|aa)a|aab)|a(b(ba|bb)|a(a(b|a)|bb)))))b)b|((((a(a(b|a)|ba)a|b(aba|b(ba|ab)))b|((b(b|a)(b|a)|abb)a|(a(ba|bb)|b(ba|ab))b)a)a|((b(aaa|(ab|aa)b)|a(b(b|a)(b|a)|a(ba|(b|a)b)))a|(a(b(a(b|a)|bb)|aaa)|bb(bb|ab))b)b)a|((((b(bb|aa)|aab)a|(ab|aa)ab)a|(((a(b|a)|bb)b|(bb|(b|a)a)a)a|(a(b|a)|ba)ab)b)a|(b((aba|(ba|bb)b)b|(ab|aa)aa)|a(b(b(ab|aa)|a(ba|ab))|a(b(bb|aa)|a(ab|aa))))b)b)a)){9})|((((b((a(a((b|a)(b|a)a|abb)|b(b(bb|ab)|abb))|b((aaa|(ba|bb)b)a|(aab|b(a(b|a)|ba))b))a|(a(b((a(b|a)|ba)b|(bb|ab)a)|a((a(b|a)|bb)a|(ab|aa)b))|b(a(b(ab|aa)|aba)|b(b(a(b|a)|bb)|a(ba|bb))))b)|a(b(((a(b|a)|ba)aa|(b(bb|aa)|aab)b)a|(((bb|aa)a|aab)a|((a(b|a)|ba)b|(ba|ab)a)b)b)|a((abaa|b((bb|aa)a|aab))b|(a(a(bb|ab)|bab)|b((a(b|a)|ba)b|aba))a)))b|((b(a((b(ba|bb)|a(ba|(b|a)b))b|((ba|(b|a)b)a|(ba|bb)b)a)|b(a((bb|(b|a)a)a|(a(b|a)|ba)b)|b((a(b|a)|ba)b|(ba|bb)a)))|a(a((a(ba|bb)|b(ba|ab))b|((bb|aa)a|bbb)a)|b(((bb|ab)b|(bb|aa)a)b|((bb|(b|a)a)a|(bb|aa)b)a)))b|((b(a(bbb|a(ba|(b|a)b))|b((bb|aa)b|bba))|a((a(bb|ab)|b(ba|(b|a)b))b|((ab|aa)b|(a(b|a)|ba)a)a))a|(a(((ab|aa)b|(bb|ab)a)b|aaaa)|b(((ba|(b|a)b)a|(ba|bb)b)a|((ab|aa)b|(b|a)(b|a)a)b))b)a)a)){10}((((a(a(a((b|a)(b|a)a|bbb)|b((bb|(b|a)a)a|bbb))|b((a(bb|ab)|b(ba|(b|a)b))a|(b(ba|ab)|a(bb|(b|a)a))b))|b(a(b((b|a)(b|a)a|aab)|a(b(bb|ab)|aab))|b(((ba|(b|a)b)a|(ab|aa)b)a|((ab|aa)a|(bb|ab)b)b)))a|(a(b((b(a(b|a)|bb)|a(ba|bb))a|((bb|aa)a|bbb)b)|a(b(b(a(b|a)|bb)|a(ba|bb))|a((b|a)(b|a)b|(a(b|a)|bb)a)))|b(a((a(ba|bb)|bbb)b|(ba|(b|a)b)aa)|b(b((bb|aa)a|aab)|a(b(ba|bb)|a(a(b|a)|bb)))))b)b|((((a(a(b|a)|ba)a|b(aba|b(ba|ab)))b|((b(b|a)(b|a)|abb)a|(a(ba|bb)|b(ba|ab))b)a)a|((b(aaa|(ab|aa)b)|a(b(b|a)(b|a)|a(ba|(b|a)b)))a|(a(b(a(b|a)|bb)|aaa)|bb(bb|ab))b)b)a|((((b(bb|aa)|aab)a|(ab|aa)ab)a|(((a(b|a)|bb)b|(bb|(b|a)a)a)a|(a(b|a)|ba)ab)b)a|(b((aba|(ba|bb)b)b|(ab|aa)aa)|a(b(b(ab|aa)|a(ba|ab))|a(b(bb|aa)|a(ab|aa))))b)b)a)){10}))\n"
     ]
    },
    {
     "data": {
      "text/plain": [
       "422"
      ]
     },
     "execution_count": 75,
     "metadata": {},
     "output_type": "execute_result"
    }
   ],
   "source": [
    "data_2 = open('input2').read()\n",
    "part_2(data_2)"
   ]
  },
  {
   "cell_type": "markdown",
   "metadata": {},
   "source": [
    "That was hard work. I'm debugging regular expressions on the first day of a fortnight off work, I need to rethink my life."
   ]
  },
  {
   "cell_type": "code",
   "execution_count": null,
   "metadata": {},
   "outputs": [],
   "source": []
  }
 ],
 "metadata": {
  "kernelspec": {
   "display_name": "Python 3",
   "language": "python",
   "name": "python3"
  },
  "language_info": {
   "codemirror_mode": {
    "name": "ipython",
    "version": 3
   },
   "file_extension": ".py",
   "mimetype": "text/x-python",
   "name": "python",
   "nbconvert_exporter": "python",
   "pygments_lexer": "ipython3",
   "version": "3.8.5"
  }
 },
 "nbformat": 4,
 "nbformat_minor": 4
}
