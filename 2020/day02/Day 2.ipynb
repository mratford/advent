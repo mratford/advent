{
 "cells": [
  {
   "cell_type": "markdown",
   "metadata": {},
   "source": [
    "# Day 2\n",
    "## Part 1"
   ]
  },
  {
   "cell_type": "code",
   "execution_count": 1,
   "metadata": {},
   "outputs": [],
   "source": [
    "from collections import Counter, namedtuple\n",
    "import re"
   ]
  },
  {
   "cell_type": "code",
   "execution_count": 2,
   "metadata": {},
   "outputs": [],
   "source": [
    "PasswordPolicy = namedtuple('Password', 'lower_bound upper_bound policy_char password')\n",
    "\n",
    "def parse_data(s):\n",
    "    for line in s.splitlines():\n",
    "        m = re.match('(\\d+)-(\\d+) ([a-z]): ([a-z]+)', line)\n",
    "        yield PasswordPolicy(int(m.group(1)), int(m.group(2)), m.group(3), m.group(4))"
   ]
  },
  {
   "cell_type": "code",
   "execution_count": 3,
   "metadata": {},
   "outputs": [
    {
     "data": {
      "text/plain": [
       "[Password(lower_bound=1, upper_bound=3, policy_char='a', password='abcde'),\n",
       " Password(lower_bound=1, upper_bound=3, policy_char='b', password='cdefg'),\n",
       " Password(lower_bound=2, upper_bound=9, policy_char='c', password='ccccccccc')]"
      ]
     },
     "execution_count": 3,
     "metadata": {},
     "output_type": "execute_result"
    }
   ],
   "source": [
    "test_data = '''1-3 a: abcde\n",
    "1-3 b: cdefg\n",
    "2-9 c: ccccccccc'''\n",
    "\n",
    "list(parse_data(test_data))"
   ]
  },
  {
   "cell_type": "code",
   "execution_count": 8,
   "metadata": {},
   "outputs": [],
   "source": [
    "def valid_password(p):\n",
    "    count = Counter(p.password)[p.policy_char]\n",
    "    return p.lower_bound <= count <= p.upper_bound\n",
    "\n",
    "def part_1(s):\n",
    "    return sum(1 for p in parse_data(s) if valid_password(p))\n",
    "\n",
    "assert part_1(test_data) == 2"
   ]
  },
  {
   "cell_type": "code",
   "execution_count": 9,
   "metadata": {},
   "outputs": [
    {
     "data": {
      "text/plain": [
       "636"
      ]
     },
     "execution_count": 9,
     "metadata": {},
     "output_type": "execute_result"
    }
   ],
   "source": [
    "data = open('input', 'r').read()\n",
    "part_1(data)"
   ]
  },
  {
   "cell_type": "markdown",
   "metadata": {},
   "source": [
    "## Part 2"
   ]
  },
  {
   "cell_type": "code",
   "execution_count": 10,
   "metadata": {},
   "outputs": [],
   "source": [
    "def valid_password_2(p):\n",
    "    return ((p.password[p.lower_bound - 1] == p.policy_char)\n",
    "            ^ (p.password[p.upper_bound - 1] == p.policy_char))\n",
    "\n",
    "def part_2(s):\n",
    "    return sum(1 for p in parse_data(s) if valid_password_2(p))\n",
    "\n",
    "assert part_2(test_data) == 1"
   ]
  },
  {
   "cell_type": "code",
   "execution_count": 11,
   "metadata": {},
   "outputs": [
    {
     "data": {
      "text/plain": [
       "588"
      ]
     },
     "execution_count": 11,
     "metadata": {},
     "output_type": "execute_result"
    }
   ],
   "source": [
    "part_2(data)"
   ]
  },
  {
   "cell_type": "code",
   "execution_count": null,
   "metadata": {},
   "outputs": [],
   "source": []
  }
 ],
 "metadata": {
  "kernelspec": {
   "display_name": "Python 3",
   "language": "python",
   "name": "python3"
  },
  "language_info": {
   "codemirror_mode": {
    "name": "ipython",
    "version": 3
   },
   "file_extension": ".py",
   "mimetype": "text/x-python",
   "name": "python",
   "nbconvert_exporter": "python",
   "pygments_lexer": "ipython3",
   "version": "3.8.5"
  }
 },
 "nbformat": 4,
 "nbformat_minor": 4
}
