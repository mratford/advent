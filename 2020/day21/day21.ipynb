{
 "cells": [
  {
   "cell_type": "markdown",
   "metadata": {},
   "source": [
    "# Day 21\n",
    "## Part 1\n",
    "One of those where understanding the question is the main challenge. "
   ]
  },
  {
   "cell_type": "code",
   "execution_count": 1,
   "metadata": {},
   "outputs": [],
   "source": [
    "import parse\n",
    "from collections import namedtuple, Counter\n",
    "import itertools\n",
    "\n",
    "\n",
    "Ingredients = namedtuple('Ingredients', 'ingredients allergens')\n",
    "\n",
    "\n",
    "def parse_data(s):\n",
    "    ingredients = []\n",
    "    for line in s.strip().splitlines():\n",
    "        p = parse.parse('{ingredients} (contains {allergens})', line)\n",
    "        ingredients.append(\n",
    "            Ingredients(set(p['ingredients'].split()), \n",
    "                        set(p['allergens'].split(', ')))\n",
    "        )\n",
    "    return ingredients"
   ]
  },
  {
   "cell_type": "code",
   "execution_count": 2,
   "metadata": {},
   "outputs": [],
   "source": [
    "test_data = parse_data('''mxmxvkd kfcds sqjhc nhms (contains dairy, fish)\n",
    "trh fvjkl sbzzf mxmxvkd (contains dairy)\n",
    "sqjhc fvjkl (contains soy)\n",
    "sqjhc mxmxvkd sbzzf (contains fish)\n",
    "''')"
   ]
  },
  {
   "cell_type": "code",
   "execution_count": 3,
   "metadata": {},
   "outputs": [
    {
     "data": {
      "text/plain": [
       "[Ingredients(ingredients={'mxmxvkd', 'sqjhc', 'kfcds', 'nhms'}, allergens={'dairy', 'fish'}),\n",
       " Ingredients(ingredients={'fvjkl', 'trh', 'mxmxvkd', 'sbzzf'}, allergens={'dairy'}),\n",
       " Ingredients(ingredients={'fvjkl', 'sqjhc'}, allergens={'soy'}),\n",
       " Ingredients(ingredients={'mxmxvkd', 'sqjhc', 'sbzzf'}, allergens={'fish'})]"
      ]
     },
     "execution_count": 3,
     "metadata": {},
     "output_type": "execute_result"
    }
   ],
   "source": [
    "test_data"
   ]
  },
  {
   "cell_type": "code",
   "execution_count": 4,
   "metadata": {},
   "outputs": [],
   "source": [
    "def allergen_candidates(ingredients):\n",
    "    allergens = {}\n",
    "    for i in ingredients:\n",
    "        for a in i.allergens:\n",
    "            if a in allergens:\n",
    "                allergens[a] = allergens[a] & i.ingredients\n",
    "            else:\n",
    "                allergens[a] = i.ingredients\n",
    "                \n",
    "    return allergens"
   ]
  },
  {
   "cell_type": "code",
   "execution_count": 5,
   "metadata": {},
   "outputs": [
    {
     "data": {
      "text/plain": [
       "{'dairy': {'mxmxvkd'}, 'fish': {'mxmxvkd', 'sqjhc'}, 'soy': {'fvjkl', 'sqjhc'}}"
      ]
     },
     "execution_count": 5,
     "metadata": {},
     "output_type": "execute_result"
    }
   ],
   "source": [
    "allergen_candidates(test_data)"
   ]
  },
  {
   "cell_type": "code",
   "execution_count": 6,
   "metadata": {},
   "outputs": [],
   "source": [
    "def part_1(ingredients):\n",
    "    possible_allergens = set.union(*allergen_candidates(ingredients).values())\n",
    "    all_ingredients = Counter(itertools.chain.from_iterable(i.ingredients for i in ingredients))\n",
    "    return sum(all_ingredients[i] for i in all_ingredients if i not in possible_allergens)\n"
   ]
  },
  {
   "cell_type": "code",
   "execution_count": 7,
   "metadata": {},
   "outputs": [
    {
     "data": {
      "text/plain": [
       "5"
      ]
     },
     "execution_count": 7,
     "metadata": {},
     "output_type": "execute_result"
    }
   ],
   "source": [
    "part_1(test_data)"
   ]
  },
  {
   "cell_type": "code",
   "execution_count": 8,
   "metadata": {},
   "outputs": [],
   "source": [
    "ingredients = parse_data(open('input').read())"
   ]
  },
  {
   "cell_type": "code",
   "execution_count": 9,
   "metadata": {},
   "outputs": [
    {
     "data": {
      "text/plain": [
       "2072"
      ]
     },
     "execution_count": 9,
     "metadata": {},
     "output_type": "execute_result"
    }
   ],
   "source": [
    "part_1(ingredients)"
   ]
  },
  {
   "cell_type": "markdown",
   "metadata": {},
   "source": [
    "## Part 2\n",
    "\n",
    "Following Ben Lavelle's method of using bipartite graph matching for day 16."
   ]
  },
  {
   "cell_type": "code",
   "execution_count": 10,
   "metadata": {},
   "outputs": [],
   "source": [
    "import networkx as nx\n",
    "\n",
    "def part_2(ingredients):\n",
    "    possible_allergens = allergen_candidates(ingredients)\n",
    "    B = nx.DiGraph()\n",
    "    B.add_nodes_from(possible_allergens.keys(), bipartite=0)\n",
    "    B.add_nodes_from(set.union(*possible_allergens.values()), bipartite=1)\n",
    "    for a in possible_allergens:\n",
    "        for i in possible_allergens[a]:\n",
    "            B.add_edge(a, i)\n",
    "    m = nx.bipartite.maximum_matching(B)\n",
    "    return ','.join(m[a] for a in sorted(possible_allergens))"
   ]
  },
  {
   "cell_type": "code",
   "execution_count": 11,
   "metadata": {},
   "outputs": [
    {
     "data": {
      "text/plain": [
       "'mxmxvkd,sqjhc,fvjkl'"
      ]
     },
     "execution_count": 11,
     "metadata": {},
     "output_type": "execute_result"
    }
   ],
   "source": [
    "part_2(test_data)"
   ]
  },
  {
   "cell_type": "code",
   "execution_count": 12,
   "metadata": {},
   "outputs": [
    {
     "data": {
      "text/plain": [
       "'fdsfpg,jmvxx,lkv,cbzcgvc,kfgln,pqqks,pqrvc,lclnj'"
      ]
     },
     "execution_count": 12,
     "metadata": {},
     "output_type": "execute_result"
    }
   ],
   "source": [
    "part_2(ingredients)"
   ]
  },
  {
   "cell_type": "code",
   "execution_count": null,
   "metadata": {},
   "outputs": [],
   "source": []
  }
 ],
 "metadata": {
  "kernelspec": {
   "display_name": "Python 3",
   "language": "python",
   "name": "python3"
  },
  "language_info": {
   "codemirror_mode": {
    "name": "ipython",
    "version": 3
   },
   "file_extension": ".py",
   "mimetype": "text/x-python",
   "name": "python",
   "nbconvert_exporter": "python",
   "pygments_lexer": "ipython3",
   "version": "3.8.5"
  }
 },
 "nbformat": 4,
 "nbformat_minor": 4
}
