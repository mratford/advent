{
 "cells": [
  {
   "cell_type": "markdown",
   "metadata": {},
   "source": [
    "# Day 16\n",
    "## Part 1"
   ]
  },
  {
   "cell_type": "code",
   "execution_count": 24,
   "metadata": {},
   "outputs": [
    {
     "data": {
      "text/plain": [
       "Tickets(fields={'class': {1, 2, 3, 5, 6, 7}, 'row': {6, 7, 8, 9, 10, 11, 33, 34, 35, 36, 37, 38, 39, 40, 41, 42, 43, 44}, 'seat': {13, 14, 15, 16, 17, 18, 19, 20, 21, 22, 23, 24, 25, 26, 27, 28, 29, 30, 31, 32, 33, 34, 35, 36, 37, 38, 39, 40, 45, 46, 47, 48, 49, 50}}, my_ticket=[7, 1, 14], nearby_tickets=[[7, 3, 47], [40, 4, 50], [55, 2, 20], [38, 6, 12]])"
      ]
     },
     "execution_count": 24,
     "metadata": {},
     "output_type": "execute_result"
    }
   ],
   "source": [
    "from collections import namedtuple, defaultdict\n",
    "from parse import parse\n",
    "import itertools\n",
    "\n",
    "Tickets = namedtuple('Tickets', 'fields my_ticket nearby_tickets')\n",
    "    \n",
    "    \n",
    "def parse_data(s):\n",
    "    fields = {}\n",
    "    nearby_tickets = []\n",
    "    \n",
    "    parsing_others = False\n",
    "    \n",
    "    for line in s:\n",
    "        line = line.strip()\n",
    "        if line == 'your ticket:':\n",
    "            pass\n",
    "        elif line == 'nearby tickets:':\n",
    "            parsing_others = True\n",
    "        elif (p := parse('{field}: {a:d}-{b:d} or {c:d}-{d:d}', line)):\n",
    "            fields[p['field']] = set(range(p['a'], p['b'] + 1)) | set(range(p['c'], p['d'] + 1))\n",
    "        elif line and not parsing_others:\n",
    "            my_ticket = [int(x) for x in line.split(',')]\n",
    "        elif line:\n",
    "            nearby_tickets.append([int(x) for x in line.split(',')])\n",
    "            \n",
    "    return Tickets(fields, my_ticket, nearby_tickets)\n",
    "\n",
    "\n",
    "test_string = '''class: 1-3 or 5-7\n",
    "row: 6-11 or 33-44\n",
    "seat: 13-40 or 45-50\n",
    "\n",
    "your ticket:\n",
    "7,1,14\n",
    "\n",
    "nearby tickets:\n",
    "7,3,47\n",
    "40,4,50\n",
    "55,2,20\n",
    "38,6,12'''.splitlines()\n",
    "\n",
    "test_tickets = parse_data(test_string)\n",
    "test_tickets"
   ]
  },
  {
   "cell_type": "code",
   "execution_count": 21,
   "metadata": {},
   "outputs": [],
   "source": [
    "def part_1(tickets):\n",
    "    all_fields = set.union(*tickets.fields.values())\n",
    "    return sum(\n",
    "        x\n",
    "        for x in itertools.chain.from_iterable(tickets.nearby_tickets)\n",
    "        if x not in all_fields\n",
    "    )\n",
    "\n",
    "assert part_1(test_tickets) == 71"
   ]
  },
  {
   "cell_type": "code",
   "execution_count": 23,
   "metadata": {},
   "outputs": [
    {
     "data": {
      "text/plain": [
       "25788"
      ]
     },
     "execution_count": 23,
     "metadata": {},
     "output_type": "execute_result"
    }
   ],
   "source": [
    "tickets = parse_data(open('input').read().strip().splitlines())\n",
    "part_1(tickets)"
   ]
  },
  {
   "cell_type": "markdown",
   "metadata": {},
   "source": [
    "## Part 2"
   ]
  },
  {
   "cell_type": "code",
   "execution_count": 31,
   "metadata": {},
   "outputs": [
    {
     "data": {
      "text/plain": [
       "{'class': 1, 'seat': 14, 'row': 7}"
      ]
     },
     "execution_count": 31,
     "metadata": {},
     "output_type": "execute_result"
    }
   ],
   "source": [
    "def solve(tickets):\n",
    "    # First find the valid tickets\n",
    "    all_fields = set.union(*tickets.fields.values())\n",
    "    valid_tickets = [\n",
    "        t for t in tickets.nearby_tickets\n",
    "        if all(f in all_fields for f in t)\n",
    "    ] + [tickets.my_ticket]\n",
    "    \n",
    "    # The possible fields for a column will be the fields where\n",
    "    # all tickets' column are in the fields' range\n",
    "    possible_fields = defaultdict(set)\n",
    "    solution = {}\n",
    "    n = len(valid_tickets[0])\n",
    "    # Find the possible fields for the first ticket\n",
    "    for i, v in enumerate(valid_tickets[0]):\n",
    "        possible_fields[i] = {\n",
    "            k for k in tickets.fields\n",
    "            if v in tickets.fields[k]\n",
    "        }\n",
    "    # then do a set intersection with the rest\n",
    "    # to find the possibles for all\n",
    "    for t in valid_tickets[1:]:\n",
    "        for i, v in enumerate(t):\n",
    "            possible_fields[i] &= {\n",
    "                k for k in tickets.fields\n",
    "                if v in tickets.fields[k]\n",
    "            }\n",
    "    \n",
    "    # While the solution is incomplete\n",
    "    while len(solution) < n:\n",
    "        for i in possible_fields:\n",
    "            # Is there a column with only 1 possible field?\n",
    "            # Then add that to the solution and remove it\n",
    "            # from other possible fields.\n",
    "            if len(possible_fields[i]) == 1:\n",
    "                solution[i] = possible_fields[i].pop()\n",
    "                for j in possible_fields:\n",
    "                    possible_fields[j].discard(solution[i])\n",
    "                    \n",
    "    return {\n",
    "        solution[k]: tickets.my_ticket[k]\n",
    "        for k in solution\n",
    "    }\n",
    "\n",
    "\n",
    "solve(test_tickets)"
   ]
  },
  {
   "cell_type": "code",
   "execution_count": 32,
   "metadata": {},
   "outputs": [
    {
     "data": {
      "text/plain": [
       "{'row': 11, 'class': 12, 'seat': 13}"
      ]
     },
     "execution_count": 32,
     "metadata": {},
     "output_type": "execute_result"
    }
   ],
   "source": [
    "test_tickets_2 = parse_data('''class: 0-1 or 4-19\n",
    "row: 0-5 or 8-19\n",
    "seat: 0-13 or 16-19\n",
    "\n",
    "your ticket:\n",
    "11,12,13\n",
    "\n",
    "nearby tickets:\n",
    "3,9,18\n",
    "15,1,5\n",
    "5,14,9\n",
    "'''.splitlines())\n",
    "\n",
    "solve(test_tickets_2)"
   ]
  },
  {
   "cell_type": "code",
   "execution_count": 33,
   "metadata": {},
   "outputs": [
    {
     "data": {
      "text/plain": [
       "{'zone': 131,\n",
       " 'route': 59,\n",
       " 'wagon': 157,\n",
       " 'row': 149,\n",
       " 'duration': 71,\n",
       " 'departure platform': 61,\n",
       " 'departure station': 89,\n",
       " 'departure date': 167,\n",
       " 'departure time': 139,\n",
       " 'departure location': 179,\n",
       " 'departure track': 173,\n",
       " 'seat': 137,\n",
       " 'arrival station': 79,\n",
       " 'type': 109,\n",
       " 'price': 73,\n",
       " 'class': 53,\n",
       " 'arrival location': 151,\n",
       " 'arrival platform': 83,\n",
       " 'train': 67,\n",
       " 'arrival track': 163}"
      ]
     },
     "execution_count": 33,
     "metadata": {},
     "output_type": "execute_result"
    }
   ],
   "source": [
    "solve(tickets)"
   ]
  },
  {
   "cell_type": "code",
   "execution_count": 34,
   "metadata": {},
   "outputs": [
    {
     "data": {
      "text/plain": [
       "3902565915559"
      ]
     },
     "execution_count": 34,
     "metadata": {},
     "output_type": "execute_result"
    }
   ],
   "source": [
    "import math\n",
    "\n",
    "ticket = solve(tickets)\n",
    "math.prod(\n",
    "    ticket[f]\n",
    "    for f in ticket\n",
    "    if f.startswith('departure')\n",
    ")"
   ]
  },
  {
   "cell_type": "code",
   "execution_count": null,
   "metadata": {},
   "outputs": [],
   "source": []
  }
 ],
 "metadata": {
  "kernelspec": {
   "display_name": "Python 3",
   "language": "python",
   "name": "python3"
  },
  "language_info": {
   "codemirror_mode": {
    "name": "ipython",
    "version": 3
   },
   "file_extension": ".py",
   "mimetype": "text/x-python",
   "name": "python",
   "nbconvert_exporter": "python",
   "pygments_lexer": "ipython3",
   "version": "3.9.0"
  }
 },
 "nbformat": 4,
 "nbformat_minor": 4
}
