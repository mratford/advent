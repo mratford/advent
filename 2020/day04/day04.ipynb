{
 "cells": [
  {
   "cell_type": "markdown",
   "metadata": {},
   "source": [
    "# Day 4\n",
    "# Part 1\n",
    "\n",
    "Parse the data by first hacking the input into an easily splittable format and turning it into a list of dictionaries."
   ]
  },
  {
   "cell_type": "code",
   "execution_count": 1,
   "metadata": {},
   "outputs": [],
   "source": [
    "def hack_input(s):\n",
    "    return s.replace('\\n\\n', ',').replace('\\n', ' ')\n",
    "\n",
    "def parse_data(s):\n",
    "    passports = []\n",
    "    \n",
    "    for passport in hack_input(s).split(','):\n",
    "        d = {}\n",
    "        for entry in passport.split(' '):\n",
    "            k, v = entry.split(':')\n",
    "            d[k] = v\n",
    "        passports.append(d)\n",
    "        \n",
    "    return passports"
   ]
  },
  {
   "cell_type": "code",
   "execution_count": 2,
   "metadata": {},
   "outputs": [
    {
     "data": {
      "text/plain": [
       "'ecl:gry pid:860033327 eyr:2020 hcl:#fffffd byr:1937 iyr:2017 cid:147 hgt:183cm,iyr:2013 ecl:amb cid:350 eyr:2023 pid:028048884 hcl:#cfa07d byr:1929,hcl:#ae17e1 iyr:2013 eyr:2024 ecl:brn pid:760753108 byr:1931 hgt:179cm,hcl:#cfa07d eyr:2025 pid:166559648 iyr:2011 ecl:brn hgt:59in'"
      ]
     },
     "execution_count": 2,
     "metadata": {},
     "output_type": "execute_result"
    }
   ],
   "source": [
    "test_data = '''ecl:gry pid:860033327 eyr:2020 hcl:#fffffd\n",
    "byr:1937 iyr:2017 cid:147 hgt:183cm\n",
    "\n",
    "iyr:2013 ecl:amb cid:350 eyr:2023 pid:028048884\n",
    "hcl:#cfa07d byr:1929\n",
    "\n",
    "hcl:#ae17e1 iyr:2013\n",
    "eyr:2024\n",
    "ecl:brn pid:760753108 byr:1931\n",
    "hgt:179cm\n",
    "\n",
    "hcl:#cfa07d eyr:2025 pid:166559648\n",
    "iyr:2011 ecl:brn hgt:59in'''\n",
    "\n",
    "hack_input(test_data)"
   ]
  },
  {
   "cell_type": "code",
   "execution_count": 3,
   "metadata": {},
   "outputs": [
    {
     "data": {
      "text/plain": [
       "[{'ecl': 'gry',\n",
       "  'pid': '860033327',\n",
       "  'eyr': '2020',\n",
       "  'hcl': '#fffffd',\n",
       "  'byr': '1937',\n",
       "  'iyr': '2017',\n",
       "  'cid': '147',\n",
       "  'hgt': '183cm'},\n",
       " {'iyr': '2013',\n",
       "  'ecl': 'amb',\n",
       "  'cid': '350',\n",
       "  'eyr': '2023',\n",
       "  'pid': '028048884',\n",
       "  'hcl': '#cfa07d',\n",
       "  'byr': '1929'},\n",
       " {'hcl': '#ae17e1',\n",
       "  'iyr': '2013',\n",
       "  'eyr': '2024',\n",
       "  'ecl': 'brn',\n",
       "  'pid': '760753108',\n",
       "  'byr': '1931',\n",
       "  'hgt': '179cm'},\n",
       " {'hcl': '#cfa07d',\n",
       "  'eyr': '2025',\n",
       "  'pid': '166559648',\n",
       "  'iyr': '2011',\n",
       "  'ecl': 'brn',\n",
       "  'hgt': '59in'}]"
      ]
     },
     "execution_count": 3,
     "metadata": {},
     "output_type": "execute_result"
    }
   ],
   "source": [
    "test_passports = parse_data(test_data)\n",
    "test_passports"
   ]
  },
  {
   "cell_type": "markdown",
   "metadata": {},
   "source": [
    "A valid password needs the seven specified fields."
   ]
  },
  {
   "cell_type": "code",
   "execution_count": 4,
   "metadata": {},
   "outputs": [
    {
     "data": {
      "text/plain": [
       "[True, False, True, False]"
      ]
     },
     "execution_count": 4,
     "metadata": {},
     "output_type": "execute_result"
    }
   ],
   "source": [
    "def valid_passport(p):\n",
    "    return {'byr', 'iyr', 'eyr', 'hgt', 'hcl', 'ecl', 'pid'} - set(p) == set()\n",
    "\n",
    "[valid_passport(p) for p in test_passports]"
   ]
  },
  {
   "cell_type": "code",
   "execution_count": 5,
   "metadata": {},
   "outputs": [],
   "source": [
    "def part_1(passports):\n",
    "    return sum(1 for p in passports if valid_passport(p))\n",
    "\n",
    "assert part_1(test_passports) == 2"
   ]
  },
  {
   "cell_type": "code",
   "execution_count": 7,
   "metadata": {},
   "outputs": [],
   "source": [
    "passports = parse_data(open('input').read().strip())"
   ]
  },
  {
   "cell_type": "code",
   "execution_count": 8,
   "metadata": {},
   "outputs": [
    {
     "data": {
      "text/plain": [
       "239"
      ]
     },
     "execution_count": 8,
     "metadata": {},
     "output_type": "execute_result"
    }
   ],
   "source": [
    "part_1(passports)"
   ]
  },
  {
   "cell_type": "markdown",
   "metadata": {},
   "source": [
    "## Part 2\n",
    "\n",
    "Plod through the rules."
   ]
  },
  {
   "cell_type": "code",
   "execution_count": 27,
   "metadata": {},
   "outputs": [],
   "source": [
    "import re\n",
    "\n",
    "def valid_data(p):\n",
    "    try:\n",
    "        return all([\n",
    "            1920 <= int(p['byr']) <= 2002,\n",
    "            2010 <= int(p['iyr']) <= 2020,\n",
    "            2020 <= int(p['eyr']) <= 2030,\n",
    "            ((p['hgt'][-2:] == 'cm' and 150 <= int(p['hgt'][:-2]) <= 193) \n",
    "             or (p['hgt'][-2:] == 'in' and 59 <= int(p['hgt'][:-2]) <= 76)),\n",
    "            re.fullmatch('#[0-9a-f]{6}', p['hcl']),\n",
    "            p['ecl'] in ['amb', 'blu', 'brn', 'gry', 'grn', 'hzl', 'oth'],\n",
    "            re.fullmatch('\\d{9}', p['pid'])\n",
    "        ])\n",
    "    # Handle int conversion and lookup failures\n",
    "    # (this isn't particularly robust)\n",
    "    except:\n",
    "        return False"
   ]
  },
  {
   "cell_type": "markdown",
   "metadata": {},
   "source": [
    "These should all be invalid passports."
   ]
  },
  {
   "cell_type": "code",
   "execution_count": 28,
   "metadata": {},
   "outputs": [],
   "source": [
    "test_passports_2 = parse_data('''eyr:1972 cid:100\n",
    "hcl:#18171d ecl:amb hgt:170 pid:186cm iyr:2018 byr:1926\n",
    "\n",
    "iyr:2019\n",
    "hcl:#602927 eyr:1967 hgt:170cm\n",
    "ecl:grn pid:012533040 byr:1946\n",
    "\n",
    "hcl:dab227 iyr:2012\n",
    "ecl:brn hgt:182cm pid:021572410 eyr:2020 byr:1992 cid:277\n",
    "\n",
    "hgt:59cm ecl:zzz\n",
    "eyr:2038 hcl:74454a iyr:2023\n",
    "pid:3556412378 byr:2007''')\n",
    "\n",
    "assert not any(valid_data(p) for p in test_passports_2)"
   ]
  },
  {
   "cell_type": "markdown",
   "metadata": {},
   "source": [
    "These should all be valid."
   ]
  },
  {
   "cell_type": "code",
   "execution_count": 29,
   "metadata": {},
   "outputs": [],
   "source": [
    "test_passports_3 = parse_data('''pid:087499704 hgt:74in ecl:grn iyr:2012 eyr:2030 byr:1980\n",
    "hcl:#623a2f\n",
    "\n",
    "eyr:2029 ecl:blu cid:129 byr:1989\n",
    "iyr:2014 pid:896056539 hcl:#a97842 hgt:165cm\n",
    "\n",
    "hcl:#888785\n",
    "hgt:164cm byr:2001 iyr:2015 cid:88\n",
    "pid:545766238 ecl:hzl\n",
    "eyr:2022\n",
    "\n",
    "iyr:2010 hgt:158cm hcl:#b6652a ecl:blu byr:1944 eyr:2021 pid:093154719''')\n",
    "\n",
    "assert all(valid_data(p) for p in test_passports_3)"
   ]
  },
  {
   "cell_type": "code",
   "execution_count": 25,
   "metadata": {},
   "outputs": [],
   "source": [
    "def part_2(passports):\n",
    "    return sum(1 for p in passports if valid_data(p))"
   ]
  },
  {
   "cell_type": "code",
   "execution_count": 26,
   "metadata": {},
   "outputs": [
    {
     "data": {
      "text/plain": [
       "188"
      ]
     },
     "execution_count": 26,
     "metadata": {},
     "output_type": "execute_result"
    }
   ],
   "source": [
    "part_2(passports)"
   ]
  },
  {
   "cell_type": "code",
   "execution_count": null,
   "metadata": {},
   "outputs": [],
   "source": []
  }
 ],
 "metadata": {
  "kernelspec": {
   "display_name": "Python 3",
   "language": "python",
   "name": "python3"
  },
  "language_info": {
   "codemirror_mode": {
    "name": "ipython",
    "version": 3
   },
   "file_extension": ".py",
   "mimetype": "text/x-python",
   "name": "python",
   "nbconvert_exporter": "python",
   "pygments_lexer": "ipython3",
   "version": "3.8.5"
  }
 },
 "nbformat": 4,
 "nbformat_minor": 4
}
