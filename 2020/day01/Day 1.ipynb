{
 "cells": [
  {
   "cell_type": "markdown",
   "metadata": {},
   "source": [
    "# Day 1\n",
    "## Part 1\n",
    "\n",
    "Let's start with an obnoxious cocktail of `itertools` and a generator comprehension."
   ]
  },
  {
   "cell_type": "code",
   "execution_count": 2,
   "metadata": {},
   "outputs": [],
   "source": [
    "import itertools\n",
    "\n",
    "def part_1(numbers):\n",
    "    # Only want the first number from the comprehension\n",
    "    return next(\n",
    "        # Get the multiple\n",
    "        x * y\n",
    "        # of the pair of distinct numbers \n",
    "        for x, y in itertools.combinations(numbers, 2)\n",
    "        # whose sum is 2020\n",
    "        if x + y == 2020\n",
    "    )"
   ]
  },
  {
   "cell_type": "code",
   "execution_count": 3,
   "metadata": {},
   "outputs": [],
   "source": [
    "def parse_data(s):\n",
    "    return [int(x) for x in s.splitlines()]"
   ]
  },
  {
   "cell_type": "code",
   "execution_count": 4,
   "metadata": {},
   "outputs": [
    {
     "data": {
      "text/plain": [
       "[1721, 979, 366, 299, 675, 1456]"
      ]
     },
     "execution_count": 4,
     "metadata": {},
     "output_type": "execute_result"
    }
   ],
   "source": [
    "test_string = '''1721\n",
    "979\n",
    "366\n",
    "299\n",
    "675\n",
    "1456'''\n",
    "test_data = parse_data(test_string)\n",
    "test_data"
   ]
  },
  {
   "cell_type": "code",
   "execution_count": 5,
   "metadata": {},
   "outputs": [],
   "source": [
    "assert part_1(test_data) == 514579"
   ]
  },
  {
   "cell_type": "code",
   "execution_count": 6,
   "metadata": {},
   "outputs": [
    {
     "data": {
      "text/plain": [
       "703131"
      ]
     },
     "execution_count": 6,
     "metadata": {},
     "output_type": "execute_result"
    }
   ],
   "source": [
    "data = parse_data(open('input', 'r').read())\n",
    "part_1(data)"
   ]
  },
  {
   "cell_type": "markdown",
   "metadata": {},
   "source": [
    "## Part 2\n",
    "\n",
    "Generalising the answer to part 1 with an early Functional Programming Modules full house, which has made me happy. "
   ]
  },
  {
   "cell_type": "code",
   "execution_count": 7,
   "metadata": {},
   "outputs": [],
   "source": [
    "import functools, operator\n",
    "\n",
    "def part_2(numbers, n=2):\n",
    "    # Only want the first number from the comprehension\n",
    "    return next(\n",
    "        # Get the multiple        \n",
    "        functools.reduce(operator.mul, xs, 1)\n",
    "        # of the n numbers\n",
    "        for xs in itertools.combinations(numbers, n)\n",
    "        # whose sum is 2020\n",
    "        if sum(xs) == 2020\n",
    "    )"
   ]
  },
  {
   "cell_type": "code",
   "execution_count": 8,
   "metadata": {},
   "outputs": [
    {
     "data": {
      "text/plain": [
       "703131"
      ]
     },
     "execution_count": 8,
     "metadata": {},
     "output_type": "execute_result"
    }
   ],
   "source": [
    "part_2(data)"
   ]
  },
  {
   "cell_type": "code",
   "execution_count": 9,
   "metadata": {},
   "outputs": [
    {
     "data": {
      "text/plain": [
       "272423970"
      ]
     },
     "execution_count": 9,
     "metadata": {},
     "output_type": "execute_result"
    }
   ],
   "source": [
    "part_2(data, 3)"
   ]
  },
  {
   "cell_type": "markdown",
   "metadata": {},
   "source": [
    "## Appendix\n",
    "\n",
    "Let's see how much quicker https://en.wikipedia.org/wiki/3SUM is."
   ]
  },
  {
   "cell_type": "code",
   "execution_count": 10,
   "metadata": {},
   "outputs": [
    {
     "name": "stdout",
     "output_type": "stream",
     "text": [
      "133 ms ± 3.11 ms per loop (mean ± std. dev. of 7 runs, 10 loops each)\n"
     ]
    }
   ],
   "source": [
    "%%timeit\n",
    "\n",
    "part_2(data, 3)"
   ]
  },
  {
   "cell_type": "code",
   "execution_count": 22,
   "metadata": {},
   "outputs": [],
   "source": [
    "import fractions\n",
    "\n",
    "def threesum(numbers, n=2020):\n",
    "    s = sorted(n - fractions.Fraction(2020, 3) for n in numbers)\n",
    "    n = len(s)\n",
    "    for i in range(n - 1):\n",
    "        a = s[i]\n",
    "        start = i + 1\n",
    "        end = n - 1\n",
    "        \n",
    "        while start < end:\n",
    "            b = s[start]\n",
    "            c = s[end]\n",
    "            if (a + b + c) == 0:\n",
    "                return (\n",
    "                    functools.reduce(\n",
    "                        operator.mul, \n",
    "                        (x + fractions.Fraction(2020, 3) for x in (a, b, c)), \n",
    "                        1)\n",
    "                    .numerator\n",
    "                )\n",
    "            elif a + b + c > 0:\n",
    "                end = end - 1\n",
    "            else:\n",
    "                start = start + 1"
   ]
  },
  {
   "cell_type": "code",
   "execution_count": 24,
   "metadata": {},
   "outputs": [
    {
     "name": "stdout",
     "output_type": "stream",
     "text": [
      "9 ms ± 94.6 µs per loop (mean ± std. dev. of 7 runs, 100 loops each)\n"
     ]
    }
   ],
   "source": [
    "%%timeit\n",
    "\n",
    "threesum(data)"
   ]
  },
  {
   "cell_type": "markdown",
   "metadata": {},
   "source": [
    "Quite a bit."
   ]
  },
  {
   "cell_type": "code",
   "execution_count": null,
   "metadata": {},
   "outputs": [],
   "source": []
  }
 ],
 "metadata": {
  "kernelspec": {
   "display_name": "Python 3",
   "language": "python",
   "name": "python3"
  },
  "language_info": {
   "codemirror_mode": {
    "name": "ipython",
    "version": 3
   },
   "file_extension": ".py",
   "mimetype": "text/x-python",
   "name": "python",
   "nbconvert_exporter": "python",
   "pygments_lexer": "ipython3",
   "version": "3.8.5"
  }
 },
 "nbformat": 4,
 "nbformat_minor": 4
}
