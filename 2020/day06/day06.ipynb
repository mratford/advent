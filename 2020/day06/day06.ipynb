{
 "cells": [
  {
   "cell_type": "markdown",
   "metadata": {},
   "source": [
    "# Day 06\n",
    "## Part 1"
   ]
  },
  {
   "cell_type": "code",
   "execution_count": 1,
   "metadata": {},
   "outputs": [],
   "source": [
    "def parse_data(s):\n",
    "    groups = [group.split('\\n') for group in s.split('\\n\\n')]\n",
    "    return [\n",
    "        [set(responses) for responses in group]\n",
    "        for group in groups\n",
    "    ]"
   ]
  },
  {
   "cell_type": "code",
   "execution_count": 2,
   "metadata": {},
   "outputs": [
    {
     "data": {
      "text/plain": [
       "[[{'a', 'b', 'c'}],\n",
       " [{'a'}, {'b'}, {'c'}],\n",
       " [{'a', 'b'}, {'a', 'c'}],\n",
       " [{'a'}, {'a'}, {'a'}, {'a'}],\n",
       " [{'b'}]]"
      ]
     },
     "execution_count": 2,
     "metadata": {},
     "output_type": "execute_result"
    }
   ],
   "source": [
    "test_input = '''abc\n",
    "\n",
    "a\n",
    "b\n",
    "c\n",
    "\n",
    "ab\n",
    "ac\n",
    "\n",
    "a\n",
    "a\n",
    "a\n",
    "a\n",
    "\n",
    "b'''\n",
    "\n",
    "test_data = parse_data(test_input)\n",
    "test_data"
   ]
  },
  {
   "cell_type": "code",
   "execution_count": 3,
   "metadata": {},
   "outputs": [],
   "source": [
    "def all_responses(data):\n",
    "    return [set().union(*group) for group in data]"
   ]
  },
  {
   "cell_type": "code",
   "execution_count": 4,
   "metadata": {},
   "outputs": [
    {
     "data": {
      "text/plain": [
       "[{'a', 'b', 'c'}, {'a', 'b', 'c'}, {'a', 'b', 'c'}, {'a'}, {'b'}]"
      ]
     },
     "execution_count": 4,
     "metadata": {},
     "output_type": "execute_result"
    }
   ],
   "source": [
    "all_responses(test_data)"
   ]
  },
  {
   "cell_type": "code",
   "execution_count": 5,
   "metadata": {},
   "outputs": [],
   "source": [
    "def part_1(data):\n",
    "    return sum(len(xs) for xs in all_responses(data))\n",
    "    \n",
    "assert part_1(test_data) == 11"
   ]
  },
  {
   "cell_type": "code",
   "execution_count": 7,
   "metadata": {},
   "outputs": [
    {
     "data": {
      "text/plain": [
       "6947"
      ]
     },
     "execution_count": 7,
     "metadata": {},
     "output_type": "execute_result"
    }
   ],
   "source": [
    "data = parse_data(open('input').read())\n",
    "part_1(data)"
   ]
  },
  {
   "cell_type": "markdown",
   "metadata": {},
   "source": [
    "## Part 2"
   ]
  },
  {
   "cell_type": "code",
   "execution_count": 10,
   "metadata": {},
   "outputs": [],
   "source": [
    "def all_common_responses(data):\n",
    "    return [group[0].intersection(*group[1:]) for group in data]\n",
    "\n",
    "def part_2(data):\n",
    "    return sum(len(xs) for xs in all_common_responses(data))\n",
    "\n",
    "assert part_2(test_data) == 6"
   ]
  },
  {
   "cell_type": "code",
   "execution_count": 11,
   "metadata": {},
   "outputs": [
    {
     "data": {
      "text/plain": [
       "3393"
      ]
     },
     "execution_count": 11,
     "metadata": {},
     "output_type": "execute_result"
    }
   ],
   "source": [
    "part_2(data)"
   ]
  },
  {
   "cell_type": "markdown",
   "metadata": {},
   "source": [
    "Hmm, that's wrong."
   ]
  },
  {
   "cell_type": "markdown",
   "metadata": {},
   "source": [
    "```list(zip(data, all_common_responses(data), [len(xs) for xs in all_common_responses(data)]))```\n",
    "\n",
    "gives\n",
    "\n",
    "```...\n",
    " ([{'b', 'n', 'q', 'x', 'y'},\n",
    "   {'c', 'n', 'p', 's', 'x', 'y'},\n",
    "   {'f', 'g', 'h', 'k', 'l', 'y'}],\n",
    "  {'y'},\n",
    "  1),\n",
    " ([{'c', 'h', 'i', 'm', 'n', 'o', 'q', 'u'},\n",
    "   {'c', 'h', 'i', 'm', 'o'},\n",
    "   {'c', 'h', 'i', 'm', 'o', 's', 'w'},\n",
    "   set()],\n",
    "  set(),\n",
    "  0)]\n",
    "```\n",
    "\n",
    "at the end of the data."
   ]
  },
  {
   "cell_type": "code",
   "execution_count": 22,
   "metadata": {},
   "outputs": [
    {
     "data": {
      "text/plain": [
       "[[{'c', 'h', 'i', 'm', 'n', 'o', 'q', 'u'},\n",
       "  {'c', 'h', 'i', 'm', 'o'},\n",
       "  {'c', 'h', 'i', 'm', 'o', 's', 'w'}]]"
      ]
     },
     "execution_count": 22,
     "metadata": {},
     "output_type": "execute_result"
    }
   ],
   "source": [
    "debug = parse_data('''mhqunico\n",
    "mchio\n",
    "hciwosm''')\n",
    "debug"
   ]
  },
  {
   "cell_type": "code",
   "execution_count": 23,
   "metadata": {},
   "outputs": [
    {
     "data": {
      "text/plain": [
       "5"
      ]
     },
     "execution_count": 23,
     "metadata": {},
     "output_type": "execute_result"
    }
   ],
   "source": [
    "part_2(debug)"
   ]
  },
  {
   "cell_type": "markdown",
   "metadata": {},
   "source": [
    "Oh, hang on."
   ]
  },
  {
   "cell_type": "code",
   "execution_count": 24,
   "metadata": {},
   "outputs": [
    {
     "data": {
      "text/plain": [
       "3398"
      ]
     },
     "execution_count": 24,
     "metadata": {},
     "output_type": "execute_result"
    }
   ],
   "source": [
    "data = parse_data(open('input').read().strip())\n",
    "\n",
    "part_2(data)"
   ]
  },
  {
   "cell_type": "markdown",
   "metadata": {},
   "source": [
    "I hadn't stripped the newline at the end of the file which created a spurious empty set."
   ]
  },
  {
   "cell_type": "code",
   "execution_count": null,
   "metadata": {},
   "outputs": [],
   "source": []
  }
 ],
 "metadata": {
  "kernelspec": {
   "display_name": "Python 3",
   "language": "python",
   "name": "python3"
  },
  "language_info": {
   "codemirror_mode": {
    "name": "ipython",
    "version": 3
   },
   "file_extension": ".py",
   "mimetype": "text/x-python",
   "name": "python",
   "nbconvert_exporter": "python",
   "pygments_lexer": "ipython3",
   "version": "3.8.5"
  }
 },
 "nbformat": 4,
 "nbformat_minor": 4
}
