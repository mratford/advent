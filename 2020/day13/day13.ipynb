{
 "cells": [
  {
   "cell_type": "markdown",
   "metadata": {},
   "source": [
    "# Day 13\n",
    "# Part 1"
   ]
  },
  {
   "cell_type": "code",
   "execution_count": 84,
   "metadata": {},
   "outputs": [],
   "source": [
    "from collections import namedtuple\n",
    "import math\n",
    "\n",
    "\n",
    "Timetable = namedtuple('Timetable', 'timestamp bus_ids')\n",
    "\n",
    "\n",
    "def parse_data(s):\n",
    "    lines = s.strip().splitlines()\n",
    "    return Timetable(int(lines[0]), [int(bus_id) for bus_id in lines[1].split(',') if bus_id != 'x'])"
   ]
  },
  {
   "cell_type": "code",
   "execution_count": 85,
   "metadata": {},
   "outputs": [
    {
     "data": {
      "text/plain": [
       "Timetable(timestamp=939, bus_ids=[7, 13, 59, 31, 19])"
      ]
     },
     "execution_count": 85,
     "metadata": {},
     "output_type": "execute_result"
    }
   ],
   "source": [
    "test_data = parse_data('''939\n",
    "7,13,x,x,59,x,31,19\n",
    "''')\n",
    "\n",
    "test_data"
   ]
  },
  {
   "cell_type": "markdown",
   "metadata": {},
   "source": [
    "Divide the timestamp by the bus id, round it up, multiply by the bus id to get the first timestamp you can get that bus. Then get the minimum of those and calculate the answer."
   ]
  },
  {
   "cell_type": "code",
   "execution_count": 86,
   "metadata": {},
   "outputs": [],
   "source": [
    "def part_1(data):\n",
    "    earliest_time, earliest_bus = min(\n",
    "        (math.ceil(data.timestamp / bus_id) * bus_id - data.timestamp, bus_id)\n",
    "        for bus_id in data.bus_ids\n",
    "    )\n",
    "    return earliest_time * earliest_bus"
   ]
  },
  {
   "cell_type": "code",
   "execution_count": 87,
   "metadata": {},
   "outputs": [],
   "source": [
    "assert part_1(test_data) == 295"
   ]
  },
  {
   "cell_type": "code",
   "execution_count": 88,
   "metadata": {},
   "outputs": [
    {
     "data": {
      "text/plain": [
       "2305"
      ]
     },
     "execution_count": 88,
     "metadata": {},
     "output_type": "execute_result"
    }
   ],
   "source": [
    "data = parse_data(open('input').read())\n",
    "part_1(data)"
   ]
  },
  {
   "cell_type": "markdown",
   "metadata": {},
   "source": [
    "## Part 2"
   ]
  },
  {
   "cell_type": "code",
   "execution_count": 89,
   "metadata": {},
   "outputs": [],
   "source": [
    "def parse_data_2(s):\n",
    "    lines = s.strip().splitlines()\n",
    "    return {\n",
    "        (i, int(bus_id))\n",
    "        for i, bus_id in enumerate(lines[1].split(','))\n",
    "        if bus_id != 'x'\n",
    "    }"
   ]
  },
  {
   "cell_type": "code",
   "execution_count": 90,
   "metadata": {},
   "outputs": [
    {
     "data": {
      "text/plain": [
       "{(0, 7), (1, 13), (4, 59), (6, 31), (7, 19)}"
      ]
     },
     "execution_count": 90,
     "metadata": {},
     "output_type": "execute_result"
    }
   ],
   "source": [
    "test_data_2 = parse_data_2('''939\n",
    "7,13,x,x,59,x,31,19\n",
    "''')\n",
    "\n",
    "test_data_2"
   ]
  },
  {
   "cell_type": "markdown",
   "metadata": {},
   "source": [
    "I can't think of a mathematically clever way of doing this, so loop using the largest bus id and hope that it doesn't take too long."
   ]
  },
  {
   "cell_type": "code",
   "execution_count": 91,
   "metadata": {},
   "outputs": [],
   "source": [
    "import itertools\n",
    "\n",
    "\n",
    "def part_2(data):\n",
    "    t_delta, bus_id = max(data, key=lambda x: x[1])\n",
    "    # Make it marginally faster as we don't have to check the\n",
    "    # bus_id above\n",
    "    checks = data - {(t_delta, bus_id)}\n",
    "    timestamps = (bus_id * i - t_delta for i in itertools.count(1))\n",
    "    \n",
    "    for t in timestamps:\n",
    "        if all(\n",
    "            (t + t_delta) % bus == 0\n",
    "            for t_delta, bus in checks\n",
    "        ):\n",
    "            return t\n",
    "        \n",
    "        \n",
    "assert part_2(test_data_2) == 1068781"
   ]
  },
  {
   "cell_type": "code",
   "execution_count": 92,
   "metadata": {},
   "outputs": [],
   "source": [
    "data_2 = parse_data_2(open('input').read())"
   ]
  },
  {
   "cell_type": "code",
   "execution_count": 124,
   "metadata": {},
   "outputs": [],
   "source": [
    "# Don't run this\n",
    "# part_2(data_2)"
   ]
  },
  {
   "cell_type": "markdown",
   "metadata": {},
   "source": [
    "Hopefully that will finish by tomorrow."
   ]
  },
  {
   "cell_type": "markdown",
   "metadata": {},
   "source": [
    "Perhaps not, though I'll leave it running in pypy, just in case (edit: it finished after twelve hours).\n",
    "```\n",
    "(advent) [mike@marge day13]$ time pypy3 day13_part2.py \n",
    "552612234243498\n",
    "\n",
    "real\t730m52.797s\n",
    "user\t730m14.714s\n",
    "sys\t0m2.002s\n",
    "```\n",
    "\n",
    "Just looking at two buses at a time, are the coinciding timestamps regular?"
   ]
  },
  {
   "cell_type": "code",
   "execution_count": 93,
   "metadata": {},
   "outputs": [
    {
     "name": "stdout",
     "output_type": "stream",
     "text": [
      "77\n",
      "168\n",
      "259\n",
      "350\n",
      "441\n",
      "532\n",
      "623\n",
      "714\n",
      "805\n",
      "896\n"
     ]
    }
   ],
   "source": [
    "def valid_timestamps(bus_id_a, t_delta_a, bus_id_b, t_delta_b):\n",
    "    timestamps = (bus_id_a * i - t_delta_a for i in itertools.count(1))\n",
    "    for t in timestamps:\n",
    "        if (t + t_delta_b) % bus_id_b == 0:\n",
    "            yield t\n",
    "            \n",
    "for t in itertools.islice(valid_timestamps(7, 0, 13, 1), 10):\n",
    "    print(t)"
   ]
  },
  {
   "cell_type": "markdown",
   "metadata": {},
   "source": [
    "Yes, as they're primes, as all the ids seem to be. These two buses can be combined into one with an id of 91 (the multiple of the two ids as they're prime) and a time delta of $91-77=14$. Let's try doing that for all the buses."
   ]
  },
  {
   "cell_type": "code",
   "execution_count": 116,
   "metadata": {},
   "outputs": [],
   "source": [
    "import functools\n",
    "\n",
    "# use (time delta, id) tuple to represent the buses\n",
    "def combine_buses(bus_a, bus_b):\n",
    "    time_delta_a, bus_id_a = bus_a\n",
    "    time_delta_b, bus_id_b = bus_b    \n",
    "    vt = valid_timestamps(bus_id_a, time_delta_a, bus_id_b, time_delta_b)\n",
    "    bus_id = bus_id_a * bus_id_b\n",
    "    time_delta = bus_id - next(vt)\n",
    "    return (time_delta, bus_id)\n",
    "\n",
    "def part_2_opt(data):\n",
    "    time_delta, big_bus_id = functools.reduce(combine_buses, data)\n",
    "    return big_bus_id - time_delta\n",
    "\n",
    "def part_2_debug(data):\n",
    "    data = list(data)\n",
    "    next_bus = combine_buses(data[0], data[1])\n",
    "    print(f'{data[0]} and {data[1]} combine to make {next_bus}')\n",
    "    for bus in data[2:]:\n",
    "        print(f'{next_bus} and {bus} combine to make {(next_bus := combine_buses(next_bus, bus))}')\n",
    "    return next_bus"
   ]
  },
  {
   "cell_type": "code",
   "execution_count": 117,
   "metadata": {},
   "outputs": [
    {
     "data": {
      "text/plain": [
       "1068781"
      ]
     },
     "execution_count": 117,
     "metadata": {},
     "output_type": "execute_result"
    }
   ],
   "source": [
    "part_2_opt(test_data_2)"
   ]
  },
  {
   "cell_type": "code",
   "execution_count": 96,
   "metadata": {},
   "outputs": [
    {
     "data": {
      "text/plain": [
       "11169"
      ]
     },
     "execution_count": 96,
     "metadata": {},
     "output_type": "execute_result"
    }
   ],
   "source": [
    "6970 + 4199"
   ]
  },
  {
   "cell_type": "code",
   "execution_count": 110,
   "metadata": {},
   "outputs": [
    {
     "name": "stdout",
     "output_type": "stream",
     "text": [
      "(4, 5) and (0, 2) combine to make (4, 10)\n",
      "(4, 10) and (1, 3) combine to make (4, 30)\n"
     ]
    },
    {
     "data": {
      "text/plain": [
       "(4, 30)"
      ]
     },
     "execution_count": 110,
     "metadata": {},
     "output_type": "execute_result"
    }
   ],
   "source": [
    "easy_data = parse_data_2('''-1\n",
    "2,3,x,x,5''')\n",
    "\n",
    "part_2_debug(easy_data)"
   ]
  },
  {
   "cell_type": "code",
   "execution_count": 118,
   "metadata": {},
   "outputs": [
    {
     "data": {
      "text/plain": [
       "26"
      ]
     },
     "execution_count": 118,
     "metadata": {},
     "output_type": "execute_result"
    }
   ],
   "source": [
    "part_2(easy_data)"
   ]
  },
  {
   "cell_type": "code",
   "execution_count": 119,
   "metadata": {},
   "outputs": [
    {
     "data": {
      "text/plain": [
       "26"
      ]
     },
     "execution_count": 119,
     "metadata": {},
     "output_type": "execute_result"
    }
   ],
   "source": [
    "part_2_opt(easy_data)"
   ]
  },
  {
   "cell_type": "code",
   "execution_count": 121,
   "metadata": {},
   "outputs": [
    {
     "data": {
      "text/plain": [
       "552612234243498"
      ]
     },
     "execution_count": 121,
     "metadata": {},
     "output_type": "execute_result"
    }
   ],
   "source": [
    "part_2_opt(data_2)"
   ]
  },
  {
   "cell_type": "code",
   "execution_count": 122,
   "metadata": {},
   "outputs": [
    {
     "name": "stdout",
     "output_type": "stream",
     "text": [
      "79.6 µs ± 939 ns per loop (mean ± std. dev. of 7 runs, 10000 loops each)\n"
     ]
    }
   ],
   "source": [
    "%%timeit\n",
    "part_2_opt(data_2)"
   ]
  },
  {
   "cell_type": "code",
   "execution_count": null,
   "metadata": {},
   "outputs": [],
   "source": []
  }
 ],
 "metadata": {
  "kernelspec": {
   "display_name": "Python 3",
   "language": "python",
   "name": "python3"
  },
  "language_info": {
   "codemirror_mode": {
    "name": "ipython",
    "version": 3
   },
   "file_extension": ".py",
   "mimetype": "text/x-python",
   "name": "python",
   "nbconvert_exporter": "python",
   "pygments_lexer": "ipython3",
   "version": "3.8.5"
  }
 },
 "nbformat": 4,
 "nbformat_minor": 4
}
