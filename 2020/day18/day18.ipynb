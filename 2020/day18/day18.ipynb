{
 "cells": [
  {
   "cell_type": "markdown",
   "metadata": {},
   "source": [
    "# Day 18\n",
    "## Part 1\n",
    "\n",
    "I was getting into a right mess doing this properly so decided to change `-`, an operator with equal precedence to `+`, into multiplication and then hack the string. "
   ]
  },
  {
   "cell_type": "code",
   "execution_count": 37,
   "metadata": {},
   "outputs": [
    {
     "data": {
      "text/plain": [
       "'((Number(2) + Number(4) - Number(9)) - (Number(6) + Number(9) - Number(8) + Number(6)) + Number(6)) + Number(2) + Number(4) - Number(2)'"
      ]
     },
     "execution_count": 37,
     "metadata": {},
     "output_type": "execute_result"
    }
   ],
   "source": [
    "from dataclasses import dataclass\n",
    "import re\n",
    "\n",
    "@dataclass\n",
    "class Number:\n",
    "    n: int\n",
    "        \n",
    "    def __add__(self, other):\n",
    "        return Number(self.n + other.n)\n",
    "    def __sub__(self, other):\n",
    "        return Number(self.n * other.n)\n",
    "    \n",
    "\n",
    "def hack_line(line):\n",
    "    s = line.replace('*', '-')\n",
    "    s = re.sub('\\d+', lambda m: f'Number({m.group(0)})', s)\n",
    "    return s\n",
    "\n",
    "hack_line('((2 + 4 * 9) * (6 + 9 * 8 + 6) + 6) + 2 + 4 * 2')"
   ]
  },
  {
   "cell_type": "code",
   "execution_count": 38,
   "metadata": {},
   "outputs": [
    {
     "data": {
      "text/plain": [
       "Number(n=13632)"
      ]
     },
     "execution_count": 38,
     "metadata": {},
     "output_type": "execute_result"
    }
   ],
   "source": [
    "eval(_)"
   ]
  },
  {
   "cell_type": "code",
   "execution_count": 42,
   "metadata": {},
   "outputs": [
    {
     "data": {
      "text/plain": [
       "9535936849815"
      ]
     },
     "execution_count": 42,
     "metadata": {},
     "output_type": "execute_result"
    }
   ],
   "source": [
    "data = open('input').read().strip().splitlines()\n",
    "\n",
    "sum(eval(hack_line(line)).n for line in data)"
   ]
  },
  {
   "cell_type": "markdown",
   "metadata": {},
   "source": [
    "## Part 2\n",
    "\n",
    "Similar idea but switch addition and multiplication around."
   ]
  },
  {
   "cell_type": "code",
   "execution_count": 54,
   "metadata": {},
   "outputs": [],
   "source": [
    "@dataclass\n",
    "class Number:\n",
    "    n: int\n",
    "        \n",
    "    def __add__(self, other):\n",
    "        return Number(self.n * other.n)\n",
    "    def __mul__(self, other):\n",
    "        return Number(self.n + other.n)\n",
    "    \n",
    "\n",
    "def hack_line(line):    \n",
    "    s = line.translate(str.maketrans('*+', '+*'))\n",
    "    s = re.sub('\\d+', lambda m: f'Number({m.group(0)})', s)\n",
    "    return s\n"
   ]
  },
  {
   "cell_type": "code",
   "execution_count": 55,
   "metadata": {},
   "outputs": [
    {
     "data": {
      "text/plain": [
       "472171581333710"
      ]
     },
     "execution_count": 55,
     "metadata": {},
     "output_type": "execute_result"
    }
   ],
   "source": [
    "sum(eval(hack_line(line)).n for line in data)"
   ]
  },
  {
   "cell_type": "markdown",
   "metadata": {},
   "source": [
    "I can't decide if I'm proud of this or not. I might come back and do this properly."
   ]
  },
  {
   "cell_type": "code",
   "execution_count": null,
   "metadata": {},
   "outputs": [],
   "source": []
  }
 ],
 "metadata": {
  "kernelspec": {
   "display_name": "Python 3",
   "language": "python",
   "name": "python3"
  },
  "language_info": {
   "codemirror_mode": {
    "name": "ipython",
    "version": 3
   },
   "file_extension": ".py",
   "mimetype": "text/x-python",
   "name": "python",
   "nbconvert_exporter": "python",
   "pygments_lexer": "ipython3",
   "version": "3.8.5"
  }
 },
 "nbformat": 4,
 "nbformat_minor": 4
}
