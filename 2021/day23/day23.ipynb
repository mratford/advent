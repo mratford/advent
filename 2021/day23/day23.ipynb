{
 "cells": [
  {
   "cell_type": "markdown",
   "id": "554c3003",
   "metadata": {},
   "source": [
    "# Day 23\n",
    "## Part 1"
   ]
  },
  {
   "cell_type": "code",
   "execution_count": 10,
   "id": "39461610",
   "metadata": {},
   "outputs": [
    {
     "data": {
      "text/plain": [
       "pmap({'D1': 'D', 'A2': 'A', 'C2': 'C', 'D2': 'A', 'C1': 'B', 'B1': 'C', 'B2': 'D', 'A1': 'B'})"
      ]
     },
     "execution_count": 10,
     "metadata": {},
     "output_type": "execute_result"
    }
   ],
   "source": [
    "from collections import defaultdict, namedtuple\n",
    "import pyrsistent as pyr\n",
    "\n",
    "Edge = namedtuple('Edge', 'neighbour, length')\n",
    "\n",
    "def create_graph():\n",
    "    g = defaultdict(list)\n",
    "    top_row = [1,2,4,6,8,10,11]\n",
    "    for i in range(len(top_row) - 1):\n",
    "        g[str(top_row[i])].append(Edge(str(top_row[i + 1]), top_row[i + 1] - top_row[i]))\n",
    "        g[str(top_row[i + 1])].append(Edge(str(top_row[i]), top_row[i + 1] - top_row[i]))\n",
    "    for xs, y in [\n",
    "        ((\"2\", \"4\"), \"A1\"),\n",
    "        ((\"4\", \"6\"), \"B1\"),\n",
    "        ((\"6\", \"8\"), \"C1\"),\n",
    "        ((\"8\", \"10\"), \"D1\")\n",
    "    ]:\n",
    "        for x in xs:\n",
    "            g[x].append(Edge(y, 2))\n",
    "            g[y].append(Edge(x, 2))\n",
    "    for c in \"ABCD\":\n",
    "        g[f\"{c}1\"].append(Edge(f\"{c}2\", 1))\n",
    "        g[f\"{c}2\"].append(Edge(f\"{c}1\", 1))\n",
    "    return g\n",
    "\n",
    "def parse_data(s):\n",
    "    lines = s.strip().splitlines()\n",
    "    room_locations = {\n",
    "        \"A1\": (2, 3),\n",
    "        \"A2\": (3, 3),\n",
    "        \"B1\": (2, 5),\n",
    "        \"B2\": (3, 5),\n",
    "        \"C1\": (2, 7),\n",
    "        \"C2\": (3, 7),\n",
    "        \"D1\": (2, 9),\n",
    "        \"D2\": (3, 9)\n",
    "    }\n",
    "    burrow = pyr.pmap()\n",
    "    for room in room_locations:\n",
    "        row, col = room_locations[room]\n",
    "        burrow = burrow.set(room, lines[row][col])\n",
    "    return burrow\n",
    "\n",
    "test_data = parse_data('''\n",
    "#############\n",
    "#...........#\n",
    "###B#C#B#D###\n",
    "  #A#D#C#A#\n",
    "  #########\n",
    "''')\n",
    "\n",
    "test_data"
   ]
  },
  {
   "cell_type": "code",
   "execution_count": null,
   "id": "3e081687",
   "metadata": {},
   "outputs": [],
   "source": []
  }
 ],
 "metadata": {
  "kernelspec": {
   "display_name": "Python 3 (ipykernel)",
   "language": "python",
   "name": "python3"
  },
  "language_info": {
   "codemirror_mode": {
    "name": "ipython",
    "version": 3
   },
   "file_extension": ".py",
   "mimetype": "text/x-python",
   "name": "python",
   "nbconvert_exporter": "python",
   "pygments_lexer": "ipython3",
   "version": "3.9.9"
  }
 },
 "nbformat": 4,
 "nbformat_minor": 5
}
