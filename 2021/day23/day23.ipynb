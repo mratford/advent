{
 "cells": [
  {
   "cell_type": "markdown",
   "id": "554c3003",
   "metadata": {},
   "source": [
    "# Day 23\n",
    "## Part 1\n",
    "\n",
    "Please don't read this code, it's a mess.\n",
    "\n",
    "Try Dijkstra's algorithm with amphipod movement rules and a couple of optimisations. Use pyrsistent where it's needed, i.e. in the set of seen states, but only then as using it universally slows things down. "
   ]
  },
  {
   "cell_type": "code",
   "execution_count": 1,
   "id": "39461610",
   "metadata": {},
   "outputs": [
    {
     "data": {
      "text/plain": [
       "{'A1': 'B',\n",
       " 'A2': 'A',\n",
       " 'B1': 'C',\n",
       " 'B2': 'D',\n",
       " 'C1': 'B',\n",
       " 'C2': 'C',\n",
       " 'D1': 'D',\n",
       " 'D2': 'A'}"
      ]
     },
     "execution_count": 1,
     "metadata": {},
     "output_type": "execute_result"
    }
   ],
   "source": [
    "from collections import defaultdict, namedtuple\n",
    "import pyrsistent as pyr\n",
    "from heapq import heapify, heappop, heappush\n",
    "\n",
    "Edge = namedtuple('Edge', 'neighbour, length')\n",
    "\n",
    "def create_graph():\n",
    "    g = defaultdict(list)\n",
    "    top_row = [1,2,4,6,8,10,11]\n",
    "    for i in range(len(top_row) - 1):\n",
    "        g[str(top_row[i])].append(Edge(str(top_row[i + 1]), top_row[i + 1] - top_row[i]))\n",
    "        g[str(top_row[i + 1])].append(Edge(str(top_row[i]), top_row[i + 1] - top_row[i]))\n",
    "    for xs, y in [\n",
    "        ((\"2\", \"4\"), \"A1\"),\n",
    "        ((\"4\", \"6\"), \"B1\"),\n",
    "        ((\"6\", \"8\"), \"C1\"),\n",
    "        ((\"8\", \"10\"), \"D1\")\n",
    "    ]:\n",
    "        for x in xs:\n",
    "            g[x].append(Edge(y, 2))\n",
    "            g[y].append(Edge(x, 2))\n",
    "    for c in \"ABCD\":\n",
    "        g[f\"{c}1\"].append(Edge(f\"{c}2\", 1))\n",
    "        g[f\"{c}2\"].append(Edge(f\"{c}1\", 1))\n",
    "    return g\n",
    "\n",
    "def parse_data(s):\n",
    "    lines = s.strip().splitlines()\n",
    "    room_locations = {\n",
    "        \"A1\": (2, 3),\n",
    "        \"A2\": (3, 3),\n",
    "        \"B1\": (2, 5),\n",
    "        \"B2\": (3, 5),\n",
    "        \"C1\": (2, 7),\n",
    "        \"C2\": (3, 7),\n",
    "        \"D1\": (2, 9),\n",
    "        \"D2\": (3, 9)\n",
    "    }\n",
    "    burrow = {}\n",
    "    for room in room_locations:\n",
    "        row, col = room_locations[room]\n",
    "        burrow[room] = lines[row][col]\n",
    "    return burrow\n",
    "\n",
    "test_data = parse_data('''\n",
    "#############\n",
    "#...........#\n",
    "###B#C#B#D###\n",
    "  #A#D#C#A#\n",
    "  #########\n",
    "''')\n",
    "\n",
    "test_data"
   ]
  },
  {
   "cell_type": "code",
   "execution_count": 2,
   "id": "3e081687",
   "metadata": {},
   "outputs": [],
   "source": [
    "from functools import total_ordering\n",
    "from dataclasses import dataclass\n",
    "\n",
    "@total_ordering\n",
    "@dataclass\n",
    "class Burrow:\n",
    "    energy: int\n",
    "    positions: dict\n",
    "        \n",
    "    def __eq__(self, other):\n",
    "        return self.energy == other.energy\n",
    "    \n",
    "    def __lt__(self, other):\n",
    "        return self.energy < other.energy \n",
    "    \n",
    "    def __iter__(self):\n",
    "        return iter((self.energy, self.positions))\n",
    "    \n",
    "\n",
    "def possible_path(node, graph, positions):\n",
    "    # All possible paths, whether or not they are legitimate\n",
    "    paths = []\n",
    "    seen = set()\n",
    "    to_see = [(0, node)]\n",
    "    amphipod = positions[node]\n",
    "    energy_per_step = {'A': 1, 'B': 10, 'C': 100, 'D': 1000}[amphipod] \n",
    "    while to_see:\n",
    "        energy_so_far, this_node = heappop(to_see)\n",
    "        if this_node not in seen:\n",
    "            seen.add(this_node)\n",
    "            for edge in graph[this_node]:\n",
    "                if edge.neighbour not in positions and edge.neighbour not in seen:\n",
    "                    paths.append((edge.neighbour, energy_so_far + edge.length * energy_per_step))\n",
    "                    heappush(to_see, (energy_so_far + edge.length * energy_per_step, edge.neighbour))\n",
    "              \n",
    "    # Which paths are legitimate?\n",
    "    for next_node, energy in paths:\n",
    "        node_is_hallway = node.isdigit()\n",
    "        next_node_is_hallway = next_node.isdigit()\n",
    "        amphipods_room = next_node[0] == amphipod\n",
    "        amphipods_room_clear = all(\n",
    "            positions.get(f'{amphipod}{c}', amphipod) == amphipod\n",
    "            for c in '12'\n",
    "        )\n",
    "        already_in_final_room = node[0] == amphipod\n",
    "        end_of_amphipods_room = next_node == max([f'{amphipod}{c}' for c in '12'\n",
    "                                                  if f'{amphipod}{c}' not in positions],\n",
    "                                                 default = None)\n",
    "        legit = False\n",
    "        if not node_is_hallway and next_node_is_hallway:\n",
    "            legit = True\n",
    "        if amphipods_room and amphipods_room_clear and end_of_amphipods_room:\n",
    "            legit = True\n",
    "        if already_in_final_room and amphipods_room_clear and next_node_is_hallway:\n",
    "            legit = False\n",
    "        if legit:\n",
    "            yield next_node, energy\n",
    "            \n",
    "\n",
    "def finished(positions):\n",
    "    return all(\n",
    "        p[0] == positions[p] for p in positions\n",
    "    )\n",
    "\n",
    "def part_1(graph, positions):\n",
    "    queue = [(0, positions)]\n",
    "    seen = set()\n",
    "    while queue:\n",
    "        energy_so_far, pos_so_far = heappop(queue)\n",
    "        if pyr.pmap(pos_so_far) not in seen:\n",
    "            seen.add(pyr.pmap(pos_so_far))\n",
    "            if finished(pos_so_far):\n",
    "                return energy_so_far\n",
    "            for node in pos_so_far:\n",
    "                amphipod = pos_so_far[node]\n",
    "                for next_node, next_energy in possible_path(node, graph, pos_so_far):\n",
    "                    next_pos = pos_so_far.copy()\n",
    "                    del next_pos[node]\n",
    "                    next_pos[next_node] = amphipod\n",
    "                    if pyr.pmap(next_pos) not in seen:\n",
    "                        heappush(\n",
    "                            queue,\n",
    "                            Burrow(energy_so_far + next_energy,\n",
    "                                   next_pos)\n",
    "                        )\n",
    "\n",
    "graph = create_graph()"
   ]
  },
  {
   "cell_type": "code",
   "execution_count": 3,
   "id": "780eec17",
   "metadata": {},
   "outputs": [
    {
     "data": {
      "text/plain": [
       "12521"
      ]
     },
     "execution_count": 3,
     "metadata": {},
     "output_type": "execute_result"
    }
   ],
   "source": [
    "part_1(graph, test_data)"
   ]
  },
  {
   "cell_type": "code",
   "execution_count": 4,
   "id": "fef55fcc",
   "metadata": {},
   "outputs": [
    {
     "name": "stdout",
     "output_type": "stream",
     "text": [
      "14.5 s ± 365 ms per loop (mean ± std. dev. of 7 runs, 1 loop each)\n"
     ]
    }
   ],
   "source": [
    "%%timeit \n",
    "part_1(graph, test_data)"
   ]
  },
  {
   "cell_type": "code",
   "execution_count": 5,
   "id": "eb6965a3",
   "metadata": {},
   "outputs": [
    {
     "data": {
      "text/plain": [
       "18051"
      ]
     },
     "execution_count": 5,
     "metadata": {},
     "output_type": "execute_result"
    }
   ],
   "source": [
    "data = parse_data(open('input', 'r').read())\n",
    "part_1(graph, data)"
   ]
  },
  {
   "cell_type": "markdown",
   "id": "e4fba966",
   "metadata": {},
   "source": [
    "## Part 2\n",
    "That's already a bit slow so use an A* algorithm with a heuristic of the minimum energy needed for each amphipod not in a clean room to reach the clean room.\n",
    "\n",
    "First generalise the graph."
   ]
  },
  {
   "cell_type": "code",
   "execution_count": 39,
   "id": "88c1a274",
   "metadata": {},
   "outputs": [
    {
     "data": {
      "text/plain": [
       "{'A1': 'B',\n",
       " 'A2': 'D',\n",
       " 'A3': 'D',\n",
       " 'A4': 'A',\n",
       " 'B1': 'C',\n",
       " 'B2': 'C',\n",
       " 'B3': 'B',\n",
       " 'B4': 'D',\n",
       " 'C1': 'B',\n",
       " 'C2': 'B',\n",
       " 'C3': 'A',\n",
       " 'C4': 'C',\n",
       " 'D1': 'D',\n",
       " 'D2': 'A',\n",
       " 'D3': 'C',\n",
       " 'D4': 'A'}"
      ]
     },
     "execution_count": 39,
     "metadata": {},
     "output_type": "execute_result"
    }
   ],
   "source": [
    "def create_graph(room_size=2):\n",
    "    g = defaultdict(list)\n",
    "\n",
    "    top_row = [1,2,4,6,8,10,11]\n",
    "    for i in range(len(top_row) - 1):\n",
    "        g[str(top_row[i])].append(Edge(str(top_row[i + 1]), top_row[i + 1] - top_row[i]))\n",
    "        g[str(top_row[i + 1])].append(Edge(str(top_row[i]), top_row[i + 1] - top_row[i]))\n",
    "\n",
    "    for xs, y in [\n",
    "        ((\"2\", \"4\"), \"A1\"),\n",
    "        ((\"4\", \"6\"), \"B1\"),\n",
    "        ((\"6\", \"8\"), \"C1\"),\n",
    "        ((\"8\", \"10\"), \"D1\")\n",
    "    ]:\n",
    "        for x in xs:\n",
    "            g[x].append(Edge(y, 2))\n",
    "            g[y].append(Edge(x, 2))\n",
    "\n",
    "    for i in range(1, room_size):\n",
    "        for c in \"ABCD\":\n",
    "            g[f\"{c}{i}\"].append(Edge(f\"{c}{i + 1}\", 1))\n",
    "            g[f\"{c}{i + 1}\"].append(Edge(f\"{c}{i}\", 1))\n",
    "            \n",
    "    return g\n",
    "\n",
    "\n",
    "def parse_data_2(s):\n",
    "    lines = s.strip().splitlines()\n",
    "    lines = lines[:3] + [\"  #D#C#B#A#\", \"  #D#B#A#C#\"] + lines[3:]\n",
    "    room_length = len(lines) - 3\n",
    "    room_locations = {}\n",
    "\n",
    "    for letter, col in zip('ABCD', range(3, 10, 2)):\n",
    "        for i in range(1, room_length + 1):\n",
    "            row = 1 + i\n",
    "            room_locations[f'{letter}{i}'] = (row, col)\n",
    "\n",
    "    burrow = {}\n",
    "    for room in room_locations:\n",
    "        row, col = room_locations[room]\n",
    "        burrow[room] = lines[row][col]\n",
    "    return burrow\n",
    "\n",
    "\n",
    "test_data_2 = parse_data_2('''\n",
    "#############\n",
    "#...........#\n",
    "###B#C#B#D###\n",
    "  #A#D#C#A#\n",
    "  #########\n",
    "''')\n",
    "\n",
    "test_data_2"
   ]
  },
  {
   "cell_type": "markdown",
   "id": "975a3812",
   "metadata": {},
   "source": [
    "Generalise the `possible_path` function."
   ]
  },
  {
   "cell_type": "code",
   "execution_count": 7,
   "id": "22fec1bb",
   "metadata": {},
   "outputs": [],
   "source": [
    "def possible_path(node, graph, positions):\n",
    "    # All possible paths, whether or not they are legitimate\n",
    "    paths = []\n",
    "    seen = set()\n",
    "    to_see = [(0, node)]\n",
    "    amphipod = positions[node]\n",
    "    energy_per_step = {'A': 1, 'B': 10, 'C': 100, 'D': 1000}[amphipod] \n",
    "    while to_see:\n",
    "        energy_so_far, this_node = heappop(to_see)\n",
    "        if this_node not in seen:\n",
    "            seen.add(this_node)\n",
    "            for edge in graph[this_node]:\n",
    "                if edge.neighbour not in positions and edge.neighbour not in seen:\n",
    "                    paths.append((edge.neighbour, energy_so_far + edge.length * energy_per_step))\n",
    "                    heappush(to_see, (energy_so_far + edge.length * energy_per_step, edge.neighbour))\n",
    "\n",
    "    # Which paths are legitimate?\n",
    "    room_numbers = ''.join(n[1] for n in graph if n[0] == 'A')\n",
    "    for next_node, energy in paths:\n",
    "        node_is_hallway = node.isdigit()\n",
    "        next_node_is_hallway = next_node.isdigit()\n",
    "        amphipods_room = next_node[0] == amphipod\n",
    "        amphipods_room_clear = all(\n",
    "            positions.get(f'{amphipod}{c}', amphipod) == amphipod\n",
    "            for c in room_numbers\n",
    "        )\n",
    "        already_in_final_room = node[0] == amphipod\n",
    "        end_of_amphipods_room = next_node == max([f'{amphipod}{c}' for c in room_numbers\n",
    "                                                  if f'{amphipod}{c}' not in positions],\n",
    "                                                 default = None)\n",
    "        legit = False\n",
    "        if not node_is_hallway and next_node_is_hallway:\n",
    "            legit = True\n",
    "        if amphipods_room and amphipods_room_clear and end_of_amphipods_room:\n",
    "            legit = True\n",
    "        if already_in_final_room and amphipods_room_clear and next_node_is_hallway:\n",
    "            legit = False\n",
    "        if legit:\n",
    "            yield next_node, energy"
   ]
  },
  {
   "cell_type": "markdown",
   "id": "f00f4007",
   "metadata": {},
   "source": [
    "Test they're still working."
   ]
  },
  {
   "cell_type": "code",
   "execution_count": 8,
   "id": "d1042a2c",
   "metadata": {},
   "outputs": [
    {
     "data": {
      "text/plain": [
       "12521"
      ]
     },
     "execution_count": 8,
     "metadata": {},
     "output_type": "execute_result"
    }
   ],
   "source": [
    "graph = create_graph()\n",
    "part_1(graph, test_data)"
   ]
  },
  {
   "cell_type": "markdown",
   "id": "d121079b",
   "metadata": {},
   "source": [
    "For the heuristic function we'll need a matrix of the distance between points, which is kept within a closure."
   ]
  },
  {
   "cell_type": "code",
   "execution_count": 54,
   "id": "050033f4",
   "metadata": {},
   "outputs": [],
   "source": [
    "from collections import deque\n",
    "\n",
    "def heuristic(graph):\n",
    "    m = {}\n",
    "    for n in graph:\n",
    "        seen = set()\n",
    "        queue = deque([(n, 0)])\n",
    "        while queue:\n",
    "            this_node, length = queue.popleft()\n",
    "            if this_node not in seen:\n",
    "                seen.add(this_node)\n",
    "                m[n, this_node] = length\n",
    "                for next_node, l in graph[this_node]:\n",
    "                    queue.append((next_node, length + l))\n",
    "    energy_per_step = {'A': 1, 'B': 10, 'C': 100, 'D': 1000}\n",
    "\n",
    "    def h(positions):\n",
    "        min_length = 0\n",
    "        for p in positions:\n",
    "            amphipod = positions[p]\n",
    "            if amphipod != p[0]:\n",
    "                min_length += m[(p, f'{amphipod}{1}')] * energy_per_step[amphipod]\n",
    "        # Count the additional steps if more than one amphipod of each type \n",
    "        # is outside the room\n",
    "        for a in 'ABCD':\n",
    "            n = len([positions[p] \n",
    "                     for p in positions \n",
    "                     if positions[p] == a and p[0] != positions[p]])\n",
    "            min_length += energy_per_step[a] * n * (n - 1) // 2\n",
    "        return min_length\n",
    "    \n",
    "    return h\n",
    "\n",
    "\n",
    "def min_energy(graph, positions):\n",
    "    h = heuristic(graph)\n",
    "    queue = [(h(positions), (0, positions))]\n",
    "    seen = set()\n",
    "    while queue:\n",
    "        _, (energy_so_far, pos_so_far) = heappop(queue)\n",
    "        if pyr.pmap(pos_so_far) not in seen:\n",
    "            seen.add(pyr.pmap(pos_so_far))\n",
    "            if finished(pos_so_far):\n",
    "                return energy_so_far\n",
    "            for node in pos_so_far:\n",
    "                amphipod = pos_so_far[node]\n",
    "                for next_node, next_energy in possible_path(node, graph, pos_so_far):\n",
    "                    next_pos = pos_so_far.copy()\n",
    "                    del next_pos[node]\n",
    "                    next_pos[next_node] = amphipod\n",
    "                    if pyr.pmap(next_pos) not in seen:\n",
    "                        heappush(\n",
    "                            queue,\n",
    "                            (\n",
    "                                energy_so_far + next_energy + h(next_pos),\n",
    "                                Burrow(energy_so_far + next_energy,\n",
    "                                       next_pos)\n",
    "                            )\n",
    "                        )\n",
    "\n",
    "                        \n",
    "def part_1_opt(positions):\n",
    "    return min_energy(create_graph(), positions)"
   ]
  },
  {
   "cell_type": "code",
   "execution_count": 55,
   "id": "1f387492",
   "metadata": {},
   "outputs": [
    {
     "data": {
      "text/plain": [
       "12521"
      ]
     },
     "execution_count": 55,
     "metadata": {},
     "output_type": "execute_result"
    }
   ],
   "source": [
    "part_1_opt(test_data)"
   ]
  },
  {
   "cell_type": "markdown",
   "id": "c4416973",
   "metadata": {},
   "source": [
    "Correct, and quite a bit quicker."
   ]
  },
  {
   "cell_type": "code",
   "execution_count": 56,
   "id": "3770e469",
   "metadata": {},
   "outputs": [
    {
     "name": "stdout",
     "output_type": "stream",
     "text": [
      "1.07 s ± 30.6 ms per loop (mean ± std. dev. of 7 runs, 1 loop each)\n"
     ]
    }
   ],
   "source": [
    "%%timeit \n",
    "part_1_opt(test_data)"
   ]
  },
  {
   "cell_type": "code",
   "execution_count": 57,
   "id": "44cf5652",
   "metadata": {},
   "outputs": [
    {
     "data": {
      "text/plain": [
       "44169"
      ]
     },
     "execution_count": 57,
     "metadata": {},
     "output_type": "execute_result"
    }
   ],
   "source": [
    "def part_2(positions):\n",
    "    return min_energy(create_graph(4), positions)\n",
    "\n",
    "part_2(test_data_2)"
   ]
  },
  {
   "cell_type": "markdown",
   "id": "c7fae725",
   "metadata": {},
   "source": [
    "Correct on the test data, though quite slow."
   ]
  },
  {
   "cell_type": "code",
   "execution_count": 63,
   "id": "e3230c77",
   "metadata": {},
   "outputs": [
    {
     "name": "stdout",
     "output_type": "stream",
     "text": [
      "44 s ± 1.06 s per loop (mean ± std. dev. of 7 runs, 1 loop each)\n"
     ]
    }
   ],
   "source": [
    "%%timeit\n",
    "part_2(test_data_2)"
   ]
  },
  {
   "cell_type": "code",
   "execution_count": 58,
   "id": "e27da6eb",
   "metadata": {},
   "outputs": [],
   "source": [
    "data_2 = parse_data_2(open('input', 'r').read())"
   ]
  },
  {
   "cell_type": "code",
   "execution_count": 59,
   "id": "6e5ac11e",
   "metadata": {},
   "outputs": [
    {
     "data": {
      "text/plain": [
       "22495"
      ]
     },
     "execution_count": 59,
     "metadata": {},
     "output_type": "execute_result"
    }
   ],
   "source": [
    "part_2(data)"
   ]
  },
  {
   "cell_type": "markdown",
   "id": "46937403",
   "metadata": {},
   "source": [
    "But incorrect on the actual data for at least the third time this year. Nnngh. "
   ]
  },
  {
   "cell_type": "code",
   "execution_count": null,
   "id": "a36b77de",
   "metadata": {},
   "outputs": [],
   "source": []
  }
 ],
 "metadata": {
  "kernelspec": {
   "display_name": "Python 3 (ipykernel)",
   "language": "python",
   "name": "python3"
  },
  "language_info": {
   "codemirror_mode": {
    "name": "ipython",
    "version": 3
   },
   "file_extension": ".py",
   "mimetype": "text/x-python",
   "name": "python",
   "nbconvert_exporter": "python",
   "pygments_lexer": "ipython3",
   "version": "3.9.9"
  }
 },
 "nbformat": 4,
 "nbformat_minor": 5
}
