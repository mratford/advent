{
 "cells": [
  {
   "cell_type": "markdown",
   "id": "554c3003",
   "metadata": {},
   "source": [
    "# Day 23\n",
    "## Part 1"
   ]
  },
  {
   "cell_type": "code",
   "execution_count": 1,
   "id": "39461610",
   "metadata": {},
   "outputs": [
    {
     "data": {
      "text/plain": [
       "{'A1': 'B',\n",
       " 'A2': 'A',\n",
       " 'B1': 'C',\n",
       " 'B2': 'D',\n",
       " 'C1': 'B',\n",
       " 'C2': 'C',\n",
       " 'D1': 'D',\n",
       " 'D2': 'A'}"
      ]
     },
     "execution_count": 1,
     "metadata": {},
     "output_type": "execute_result"
    }
   ],
   "source": [
    "from collections import defaultdict, namedtuple\n",
    "import pyrsistent as pyr\n",
    "from heapq import heapify, heappop, heappush\n",
    "\n",
    "Edge = namedtuple('Edge', 'neighbour, length')\n",
    "\n",
    "def create_graph():\n",
    "    g = defaultdict(list)\n",
    "    top_row = [1,2,4,6,8,10,11]\n",
    "    for i in range(len(top_row) - 1):\n",
    "        g[str(top_row[i])].append(Edge(str(top_row[i + 1]), top_row[i + 1] - top_row[i]))\n",
    "        g[str(top_row[i + 1])].append(Edge(str(top_row[i]), top_row[i + 1] - top_row[i]))\n",
    "    for xs, y in [\n",
    "        ((\"2\", \"4\"), \"A1\"),\n",
    "        ((\"4\", \"6\"), \"B1\"),\n",
    "        ((\"6\", \"8\"), \"C1\"),\n",
    "        ((\"8\", \"10\"), \"D1\")\n",
    "    ]:\n",
    "        for x in xs:\n",
    "            g[x].append(Edge(y, 2))\n",
    "            g[y].append(Edge(x, 2))\n",
    "    for c in \"ABCD\":\n",
    "        g[f\"{c}1\"].append(Edge(f\"{c}2\", 1))\n",
    "        g[f\"{c}2\"].append(Edge(f\"{c}1\", 1))\n",
    "    return g\n",
    "\n",
    "def parse_data(s):\n",
    "    lines = s.strip().splitlines()\n",
    "    room_locations = {\n",
    "        \"A1\": (2, 3),\n",
    "        \"A2\": (3, 3),\n",
    "        \"B1\": (2, 5),\n",
    "        \"B2\": (3, 5),\n",
    "        \"C1\": (2, 7),\n",
    "        \"C2\": (3, 7),\n",
    "        \"D1\": (2, 9),\n",
    "        \"D2\": (3, 9)\n",
    "    }\n",
    "    burrow = {}\n",
    "    for room in room_locations:\n",
    "        row, col = room_locations[room]\n",
    "        burrow[room] = lines[row][col]\n",
    "    return burrow\n",
    "\n",
    "test_data = parse_data('''\n",
    "#############\n",
    "#...........#\n",
    "###B#C#B#D###\n",
    "  #A#D#C#A#\n",
    "  #########\n",
    "''')\n",
    "\n",
    "test_data"
   ]
  },
  {
   "cell_type": "code",
   "execution_count": 7,
   "id": "3e081687",
   "metadata": {},
   "outputs": [],
   "source": [
    "from functools import total_ordering\n",
    "from dataclasses import dataclass\n",
    "\n",
    "@total_ordering\n",
    "@dataclass\n",
    "class Burrow:\n",
    "    energy: int\n",
    "    positions: dict\n",
    "        \n",
    "    def __eq__(self, other):\n",
    "        return self.energy == other.energy\n",
    "    \n",
    "    def __lt__(self, other):\n",
    "        return self.energy < other.energy \n",
    "    \n",
    "    def __iter__(self):\n",
    "        return iter((self.energy, self.positions))\n",
    "    \n",
    "\n",
    "def possible_path(node, graph, positions):\n",
    "    # All possible paths, whether or not they are legitimate\n",
    "    paths = []\n",
    "    seen = set()\n",
    "    to_see = [(0, node)]\n",
    "    amphipod = positions[node]\n",
    "    energy_per_step = {'A': 1, 'B': 10, 'C': 100, 'D': 1000}[amphipod] \n",
    "    while to_see:\n",
    "        energy_so_far, this_node = heappop(to_see)\n",
    "        if this_node not in seen:\n",
    "            seen.add(this_node)\n",
    "            for edge in graph[this_node]:\n",
    "                if edge.neighbour not in positions and edge.neighbour not in seen:\n",
    "                    paths.append((edge.neighbour, energy_so_far + edge.length * energy_per_step))\n",
    "                    heappush(to_see, (energy_so_far + edge.length * energy_per_step, edge.neighbour))\n",
    "              \n",
    "    # Which paths are legitimate?\n",
    "    for next_node, energy in paths:\n",
    "        node_is_hallway = node.isdigit()\n",
    "        next_node_is_hallway = next_node.isdigit()\n",
    "        amphipods_room = next_node[0] == amphipod\n",
    "        amphipods_room_clear = all(\n",
    "            positions.get(f'{amphipod}{c}', amphipod) == amphipod\n",
    "            for c in '12'\n",
    "        )\n",
    "        already_in_final_room = node[0] == amphipod\n",
    "        legit = False\n",
    "        if not node_is_hallway and next_node_is_hallway:\n",
    "            legit = True\n",
    "        if amphipods_room and amphipods_room_clear:\n",
    "            legit = True\n",
    "        if already_in_final_room and amphipods_room_clear and next_node_is_hallway:\n",
    "            legit = False\n",
    "        if legit:\n",
    "            yield next_node, energy\n",
    "            \n",
    "\n",
    "def finished(positions):\n",
    "    return all(\n",
    "        p[0] == positions[p] for p in positions\n",
    "    )\n",
    "\n",
    "def part_1(graph, positions):\n",
    "    queue = [(0, positions)]\n",
    "    seen = set()\n",
    "    while queue:\n",
    "        energy_so_far, pos_so_far = heappop(queue)\n",
    "        if pyr.pmap(pos_so_far) not in seen:\n",
    "            seen.add(pyr.pmap(pos_so_far))\n",
    "            if finished(pos_so_far):\n",
    "                return energy_so_far\n",
    "            for node in pos_so_far:\n",
    "                amphipod = pos_so_far[node]\n",
    "                for next_node, next_energy in possible_path(node, graph, pos_so_far):\n",
    "                    next_pos = pos_so_far.copy()\n",
    "                    del next_pos[node]\n",
    "                    next_pos[next_node] = amphipod\n",
    "                    if pyr.pmap(next_pos) not in seen:\n",
    "                        heappush(\n",
    "                            queue,\n",
    "                            Burrow(energy_so_far + next_energy,\n",
    "                                   next_pos)\n",
    "                        )\n",
    "\n",
    "graph = create_graph()"
   ]
  },
  {
   "cell_type": "code",
   "execution_count": 9,
   "id": "780eec17",
   "metadata": {},
   "outputs": [
    {
     "data": {
      "text/plain": [
       "12521"
      ]
     },
     "execution_count": 9,
     "metadata": {},
     "output_type": "execute_result"
    }
   ],
   "source": [
    "part_1(graph, test_data)"
   ]
  },
  {
   "cell_type": "code",
   "execution_count": null,
   "id": "fef55fcc",
   "metadata": {},
   "outputs": [],
   "source": []
  }
 ],
 "metadata": {
  "kernelspec": {
   "display_name": "Python 3 (ipykernel)",
   "language": "python",
   "name": "python3"
  },
  "language_info": {
   "codemirror_mode": {
    "name": "ipython",
    "version": 3
   },
   "file_extension": ".py",
   "mimetype": "text/x-python",
   "name": "python",
   "nbconvert_exporter": "python",
   "pygments_lexer": "ipython3",
   "version": "3.10.1"
  }
 },
 "nbformat": 4,
 "nbformat_minor": 5
}
