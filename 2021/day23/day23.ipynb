{
 "cells": [
  {
   "cell_type": "markdown",
   "id": "554c3003",
   "metadata": {},
   "source": [
    "# Day 23\n",
    "## Part 1"
   ]
  },
  {
   "cell_type": "code",
   "execution_count": 11,
   "id": "39461610",
   "metadata": {},
   "outputs": [
    {
     "data": {
      "text/plain": [
       "pmap({'A1': 'B', 'B1': 'C', 'A2': 'A', 'D2': 'A', 'D1': 'D', 'B2': 'D', 'C2': 'C', 'C1': 'B'})"
      ]
     },
     "execution_count": 11,
     "metadata": {},
     "output_type": "execute_result"
    }
   ],
   "source": [
    "from collections import defaultdict, namedtuple\n",
    "import pyrsistent as pyr\n",
    "from heapq import heapify, heappop, heappush\n",
    "\n",
    "Edge = namedtuple('Edge', 'neighbour, length')\n",
    "\n",
    "def create_graph():\n",
    "    g = defaultdict(list)\n",
    "    top_row = [1,2,4,6,8,10,11]\n",
    "    for i in range(len(top_row) - 1):\n",
    "        g[str(top_row[i])].append(Edge(str(top_row[i + 1]), top_row[i + 1] - top_row[i]))\n",
    "        g[str(top_row[i + 1])].append(Edge(str(top_row[i]), top_row[i + 1] - top_row[i]))\n",
    "    for xs, y in [\n",
    "        ((\"2\", \"4\"), \"A1\"),\n",
    "        ((\"4\", \"6\"), \"B1\"),\n",
    "        ((\"6\", \"8\"), \"C1\"),\n",
    "        ((\"8\", \"10\"), \"D1\")\n",
    "    ]:\n",
    "        for x in xs:\n",
    "            g[x].append(Edge(y, 2))\n",
    "            g[y].append(Edge(x, 2))\n",
    "    for c in \"ABCD\":\n",
    "        g[f\"{c}1\"].append(Edge(f\"{c}2\", 1))\n",
    "        g[f\"{c}2\"].append(Edge(f\"{c}1\", 1))\n",
    "    return g\n",
    "\n",
    "def parse_data(s):\n",
    "    lines = s.strip().splitlines()\n",
    "    room_locations = {\n",
    "        \"A1\": (2, 3),\n",
    "        \"A2\": (3, 3),\n",
    "        \"B1\": (2, 5),\n",
    "        \"B2\": (3, 5),\n",
    "        \"C1\": (2, 7),\n",
    "        \"C2\": (3, 7),\n",
    "        \"D1\": (2, 9),\n",
    "        \"D2\": (3, 9)\n",
    "    }\n",
    "    burrow = pyr.pmap()\n",
    "    for room in room_locations:\n",
    "        row, col = room_locations[room]\n",
    "        burrow = burrow.set(room, lines[row][col])\n",
    "    return burrow\n",
    "\n",
    "test_data = parse_data('''\n",
    "#############\n",
    "#...........#\n",
    "###B#C#B#D###\n",
    "  #A#D#C#A#\n",
    "  #########\n",
    "''')\n",
    "\n",
    "test_data"
   ]
  },
  {
   "cell_type": "code",
   "execution_count": 58,
   "id": "3e081687",
   "metadata": {},
   "outputs": [
    {
     "ename": "TypeError",
     "evalue": "PMaps are not orderable",
     "output_type": "error",
     "traceback": [
      "\u001b[0;31m---------------------------------------------------------------------------\u001b[0m",
      "\u001b[0;31mTypeError\u001b[0m                                 Traceback (most recent call last)",
      "\u001b[0;32m/tmp/ipykernel_168184/2468132680.py\u001b[0m in \u001b[0;36m<module>\u001b[0;34m\u001b[0m\n\u001b[1;32m     52\u001b[0m                 )\n\u001b[1;32m     53\u001b[0m \u001b[0;34m\u001b[0m\u001b[0m\n\u001b[0;32m---> 54\u001b[0;31m \u001b[0mpart_1\u001b[0m\u001b[0;34m(\u001b[0m\u001b[0mgraph\u001b[0m\u001b[0;34m,\u001b[0m \u001b[0mtest_data\u001b[0m\u001b[0;34m)\u001b[0m\u001b[0;34m\u001b[0m\u001b[0;34m\u001b[0m\u001b[0m\n\u001b[0m",
      "\u001b[0;32m/tmp/ipykernel_168184/2468132680.py\u001b[0m in \u001b[0;36mpart_1\u001b[0;34m(graph, positions)\u001b[0m\n\u001b[1;32m     46\u001b[0m             \u001b[0mamphipod\u001b[0m \u001b[0;34m=\u001b[0m \u001b[0mpositions\u001b[0m\u001b[0;34m[\u001b[0m\u001b[0mnode\u001b[0m\u001b[0;34m]\u001b[0m\u001b[0;34m\u001b[0m\u001b[0;34m\u001b[0m\u001b[0m\n\u001b[1;32m     47\u001b[0m             \u001b[0;32mfor\u001b[0m \u001b[0mnext_node\u001b[0m\u001b[0;34m,\u001b[0m \u001b[0mnext_energy\u001b[0m \u001b[0;32min\u001b[0m \u001b[0mpossible_path\u001b[0m\u001b[0;34m(\u001b[0m\u001b[0mnode\u001b[0m\u001b[0;34m,\u001b[0m \u001b[0mgraph\u001b[0m\u001b[0;34m,\u001b[0m \u001b[0mpos_so_far\u001b[0m\u001b[0;34m)\u001b[0m\u001b[0;34m:\u001b[0m\u001b[0;34m\u001b[0m\u001b[0;34m\u001b[0m\u001b[0m\n\u001b[0;32m---> 48\u001b[0;31m                 heappush(\n\u001b[0m\u001b[1;32m     49\u001b[0m                     \u001b[0mqueue\u001b[0m\u001b[0;34m,\u001b[0m\u001b[0;34m\u001b[0m\u001b[0;34m\u001b[0m\u001b[0m\n\u001b[1;32m     50\u001b[0m                     (energy_so_far + next_energy,\n",
      "\u001b[0;32m/usr/lib/python3.9/site-packages/pyrsistent/_pmap.py\u001b[0m in \u001b[0;36m__lt__\u001b[0;34m(self, other)\u001b[0m\n\u001b[1;32m    151\u001b[0m \u001b[0;34m\u001b[0m\u001b[0m\n\u001b[1;32m    152\u001b[0m     \u001b[0;32mdef\u001b[0m \u001b[0m__lt__\u001b[0m\u001b[0;34m(\u001b[0m\u001b[0mself\u001b[0m\u001b[0;34m,\u001b[0m \u001b[0mother\u001b[0m\u001b[0;34m)\u001b[0m\u001b[0;34m:\u001b[0m\u001b[0;34m\u001b[0m\u001b[0;34m\u001b[0m\u001b[0m\n\u001b[0;32m--> 153\u001b[0;31m         \u001b[0;32mraise\u001b[0m \u001b[0mTypeError\u001b[0m\u001b[0;34m(\u001b[0m\u001b[0;34m'PMaps are not orderable'\u001b[0m\u001b[0;34m)\u001b[0m\u001b[0;34m\u001b[0m\u001b[0;34m\u001b[0m\u001b[0m\n\u001b[0m\u001b[1;32m    154\u001b[0m \u001b[0;34m\u001b[0m\u001b[0m\n\u001b[1;32m    155\u001b[0m     \u001b[0m__le__\u001b[0m \u001b[0;34m=\u001b[0m \u001b[0m__lt__\u001b[0m\u001b[0;34m\u001b[0m\u001b[0;34m\u001b[0m\u001b[0m\n",
      "\u001b[0;31mTypeError\u001b[0m: PMaps are not orderable"
     ]
    }
   ],
   "source": [
    "def possible_path(node, graph, positions):\n",
    "    # All possible paths, whether or not they are legitimate\n",
    "    paths = []\n",
    "    seen = set()\n",
    "    to_see = [(0, node)]\n",
    "    amphipod = positions[node]\n",
    "    energy_per_step = {'A': 1, 'B': 10, 'C': 100, 'D': 1000}[amphipod] \n",
    "    while to_see:\n",
    "        energy_so_far, this_node = heappop(to_see)\n",
    "        seen.add(this_node)\n",
    "        for edge in graph[this_node]:\n",
    "            if edge.neighbour not in positions and edge.neighbour not in seen:\n",
    "                paths.append((edge.neighbour, energy_so_far + edge.length * energy_per_step))\n",
    "                heappush(to_see, (energy_so_far + edge.length * energy_per_step, edge.neighbour))\n",
    "              \n",
    "    # Which paths are legitimate?\n",
    "    for next_node, energy in paths:\n",
    "        node_is_hallway = node.isdigit()\n",
    "        next_node_is_hallway = next_node.isdigit()\n",
    "        amphipods_room = next_node[0] == amphipod\n",
    "        amphipods_room_clear = all(\n",
    "            positions.get(f'{amphipod}{c}', amphipod) == amphipod\n",
    "            for c in '12'\n",
    "        )\n",
    "        legit = False\n",
    "        if not node_is_hallway and next_node_is_hallway:\n",
    "            legit = True\n",
    "        if amphipods_room and amphipods_room_clear:\n",
    "            legit = True\n",
    "        if legit:\n",
    "            yield next_node, energy\n",
    "            \n",
    "\n",
    "def finished(positions):\n",
    "    return all(\n",
    "        p[0] == positions[p] for p in positions\n",
    "    )\n",
    "\n",
    "def part_1(graph, positions):\n",
    "    queue = [(0, positions)]\n",
    "    while queue:\n",
    "        energy_so_far, pos_so_far = heappop(queue)\n",
    "        if finished(positions):\n",
    "            return energy_so_far\n",
    "        for node in pos_so_far:\n",
    "            amphipod = positions[node]\n",
    "            for next_node, next_energy in possible_path(node, graph, pos_so_far):\n",
    "                heappush(\n",
    "                    queue,\n",
    "                    (energy_so_far + next_energy,\n",
    "                     pos_so_far.discard(node).set(next_node, amphipod))\n",
    "                )\n",
    "                \n",
    "part_1(graph, test_data)"
   ]
  },
  {
   "cell_type": "code",
   "execution_count": 52,
   "id": "780eec17",
   "metadata": {},
   "outputs": [
    {
     "name": "stdout",
     "output_type": "stream",
     "text": [
      "('2', 20)\n",
      "('4', 20)\n",
      "('1', 30)\n",
      "('4', 40)\n",
      "('6', 40)\n",
      "('6', 60)\n",
      "('8', 60)\n",
      "('8', 80)\n",
      "('10', 80)\n",
      "('11', 90)\n"
     ]
    }
   ],
   "source": []
  },
  {
   "cell_type": "code",
   "execution_count": 8,
   "id": "117fc8ee",
   "metadata": {},
   "outputs": [
    {
     "data": {
      "text/plain": [
       "True"
      ]
     },
     "execution_count": 8,
     "metadata": {},
     "output_type": "execute_result"
    }
   ],
   "source": [
    "'11'.isdigit()"
   ]
  },
  {
   "cell_type": "code",
   "execution_count": 46,
   "id": "af17aed3",
   "metadata": {},
   "outputs": [
    {
     "data": {
      "text/plain": [
       "[('1', True),\n",
       " ('2', True),\n",
       " ('4', True),\n",
       " ('6', True),\n",
       " ('8', True),\n",
       " ('10', True),\n",
       " ('11', True),\n",
       " ('A1', False),\n",
       " ('B1', False),\n",
       " ('C1', False),\n",
       " ('D1', False),\n",
       " ('A2', False),\n",
       " ('B2', False),\n",
       " ('C2', False),\n",
       " ('D2', False)]"
      ]
     },
     "execution_count": 46,
     "metadata": {},
     "output_type": "execute_result"
    }
   ],
   "source": [
    "[(x, x.isdigit()) for x in graph]"
   ]
  },
  {
   "cell_type": "code",
   "execution_count": 55,
   "id": "dcc4b1d2",
   "metadata": {},
   "outputs": [],
   "source": [
    "x = heapify([1])"
   ]
  },
  {
   "cell_type": "code",
   "execution_count": 56,
   "id": "a6f4a365",
   "metadata": {},
   "outputs": [],
   "source": [
    "x"
   ]
  },
  {
   "cell_type": "code",
   "execution_count": null,
   "id": "fef55fcc",
   "metadata": {},
   "outputs": [],
   "source": []
  }
 ],
 "metadata": {
  "kernelspec": {
   "display_name": "Python 3 (ipykernel)",
   "language": "python",
   "name": "python3"
  },
  "language_info": {
   "codemirror_mode": {
    "name": "ipython",
    "version": 3
   },
   "file_extension": ".py",
   "mimetype": "text/x-python",
   "name": "python",
   "nbconvert_exporter": "python",
   "pygments_lexer": "ipython3",
   "version": "3.9.9"
  }
 },
 "nbformat": 4,
 "nbformat_minor": 5
}
