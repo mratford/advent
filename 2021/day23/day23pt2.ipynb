{
 "cells": [
  {
   "cell_type": "markdown",
   "id": "4d8741ac",
   "metadata": {},
   "source": [
    "# Day 23 part 2\n",
    "The code's a mess in the other notebook and close to undebuggable, so let's try a rewrite."
   ]
  },
  {
   "cell_type": "code",
   "execution_count": 30,
   "id": "dc14ef19",
   "metadata": {},
   "outputs": [],
   "source": [
    "from functools import total_ordering\n",
    "from typing import List, Dict, Tuple, Union\n",
    "from dataclasses import dataclass\n",
    "from enum import Enum\n",
    "\n",
    "\n",
    "@dataclass\n",
    "class InvalidMoveError(Exception):\n",
    "    self.message: str\n",
    "\n",
    "\n",
    "class Amphipod(Enum):\n",
    "    A = 1\n",
    "    B = 10\n",
    "    C = 100\n",
    "    D = 1000\n",
    "    \n",
    "    \n",
    "ROOM_COLUMN = {a: c for a, c in zip(Amphipod, (3, 5, 7, 9))}\n",
    "\n",
    "    \n",
    "class BurrowMap:\n",
    "    def __init__(self, size_of_rooms: int = 2):\n",
    "        self.size_of_rooms: int = size_of_rooms\n",
    "        self.hallway: List[int] = [1, 2, 4, 6, 8, 10, 11]\n",
    "        self.rooms: Dict[Amphipod, List[int]] = {a: list(range(1, size_of_rooms + 1)) for a in Amphipod}\n",
    "        \n",
    "    def path_length(hallway_pos: int, amphipod_room: Amphipod, amphipod_room_pos: int) -> int:\n",
    "        return abs(hallway_pos - ROOM_COLUMN[amphipod_room]) + amphipod_room_pos\n",
    "\n",
    "    \n",
    "@total_ordering\n",
    "class BurrowState:\n",
    "    burrow_map: Union[BurrowMap, None] = None\n",
    "    \n",
    "    def __init__(\n",
    "        self, \n",
    "        hallway: Dict[int, Amphipod], \n",
    "        rooms: Dict[Tuple[Amphipod, int], Amphipod], \n",
    "        energy_used: int = 0,\n",
    "        room_length: Union[int, None] = None\n",
    "    ):\n",
    "        self.hallway: Dict[int, Amphipod] = hallway\n",
    "        self.rooms: Dict[Tuple[Amphipod, int], Amphipod] = rooms\n",
    "        self.energy_used: int = energy_used\n",
    "        if room_length is not None:\n",
    "            burrow_map = BurrowMap(room_length)\n",
    "\n",
    "            \n",
    "    @classmethod    \n",
    "    def parse(cls, position_string: str) -> BurrowState:\n",
    "        lines = position_string.strip().splitlines()\n",
    "        room_length = len(lines) - 3\n",
    "        rooms = {}\n",
    "        \n",
    "        for a, c in ROOM_COLUMN.items():\n",
    "            for i in range(1, room_length + 1):\n",
    "                row = 1 + i\n",
    "                rooms[(a, i)] = Amphipod[lines[row][c]]\n",
    "                \n",
    "        return cls({}, rooms, 0, room_length)\n",
    "    \n",
    "    \n",
    "    def clean_room(self, amphipod: Amphipod) -> bool:\n",
    "        return all(rooms[(a, i)] == a for a, i in self.rooms if a == amphipod)\n",
    "    \n",
    "    \n",
    "    def finished(self) -> bool:\n",
    "        return not hallway and all(rooms[(a, i)] == a for a, i in self.rooms)\n",
    "        \n",
    "        \n",
    "    def __eq__(self, other: BurrowState) -> bool:\n",
    "        self.energy_used == other.energy_used\n",
    "\n",
    "        \n",
    "    def __lt__(self, other: BurrowState) -> bool:\n",
    "        self.energy_used < other.energy_used\n",
    "\n",
    "        \n",
    "    def move_from_room(room_location, hallway_location):\n",
    "        amphipod, i = room_location\n",
    "        if clean_room(amphipod):\n",
    "            raise InvalidMoveError(\"Can't move amphipod from clean room\")\n",
    "        "
   ]
  },
  {
   "cell_type": "code",
   "execution_count": 31,
   "id": "133a2398",
   "metadata": {},
   "outputs": [
    {
     "data": {
      "text/plain": [
       "<__main__.BurrowState at 0x7fc5805aab80>"
      ]
     },
     "execution_count": 31,
     "metadata": {},
     "output_type": "execute_result"
    }
   ],
   "source": [
    "BurrowState.parse('''\n",
    "#############\n",
    "#...........#\n",
    "###B#C#B#D###\n",
    "  #A#D#C#A#\n",
    "  #########\n",
    "''')"
   ]
  },
  {
   "cell_type": "code",
   "execution_count": 32,
   "id": "f394808e",
   "metadata": {},
   "outputs": [
    {
     "data": {
      "text/plain": [
       "{(<Amphipod.A: 1>, 1): <Amphipod.B: 10>,\n",
       " (<Amphipod.A: 1>, 2): <Amphipod.A: 1>,\n",
       " (<Amphipod.B: 10>, 1): <Amphipod.C: 100>,\n",
       " (<Amphipod.B: 10>, 2): <Amphipod.D: 1000>,\n",
       " (<Amphipod.C: 100>, 1): <Amphipod.B: 10>,\n",
       " (<Amphipod.C: 100>, 2): <Amphipod.C: 100>,\n",
       " (<Amphipod.D: 1000>, 1): <Amphipod.D: 1000>,\n",
       " (<Amphipod.D: 1000>, 2): <Amphipod.A: 1>}"
      ]
     },
     "execution_count": 32,
     "metadata": {},
     "output_type": "execute_result"
    }
   ],
   "source": [
    "_.rooms"
   ]
  },
  {
   "cell_type": "code",
   "execution_count": 9,
   "id": "01eb1df5",
   "metadata": {},
   "outputs": [
    {
     "name": "stdout",
     "output_type": "stream",
     "text": [
      "Amphipod.A\n",
      "Amphipod.B\n",
      "Amphipod.C\n",
      "Amphipod.D\n"
     ]
    }
   ],
   "source": [
    "for a in Amphipod:\n",
    "    print(a)"
   ]
  },
  {
   "cell_type": "code",
   "execution_count": 25,
   "id": "14ddc14b",
   "metadata": {},
   "outputs": [
    {
     "data": {
      "text/plain": [
       "True"
      ]
     },
     "execution_count": 25,
     "metadata": {},
     "output_type": "execute_result"
    }
   ],
   "source": [
    "not {}"
   ]
  },
  {
   "cell_type": "code",
   "execution_count": null,
   "id": "0e5cf01d",
   "metadata": {},
   "outputs": [],
   "source": []
  }
 ],
 "metadata": {
  "kernelspec": {
   "display_name": "Python 3 (ipykernel)",
   "language": "python",
   "name": "python3"
  },
  "language_info": {
   "codemirror_mode": {
    "name": "ipython",
    "version": 3
   },
   "file_extension": ".py",
   "mimetype": "text/x-python",
   "name": "python",
   "nbconvert_exporter": "python",
   "pygments_lexer": "ipython3",
   "version": "3.9.9"
  }
 },
 "nbformat": 4,
 "nbformat_minor": 5
}
