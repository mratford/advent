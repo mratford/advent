{
 "cells": [
  {
   "cell_type": "markdown",
   "id": "554c3003",
   "metadata": {},
   "source": [
    "# Day 1\n",
    "## Part 1"
   ]
  },
  {
   "cell_type": "code",
   "execution_count": 1,
   "id": "39461610",
   "metadata": {},
   "outputs": [],
   "source": [
    "def parse_data(s):\n",
    "    return [int(x) for x in s.splitlines()]\n",
    "\n",
    "\n",
    "def part_1(data):\n",
    "    return sum(\n",
    "        x > y for x, y in zip(data[1:], data)\n",
    "    )"
   ]
  },
  {
   "cell_type": "code",
   "execution_count": 2,
   "id": "5471da6d",
   "metadata": {},
   "outputs": [],
   "source": [
    "test_data = parse_data('''199\n",
    "200\n",
    "208\n",
    "210\n",
    "200\n",
    "207\n",
    "240\n",
    "269\n",
    "260\n",
    "263''')\n",
    "\n",
    "assert part_1(test_data) == 7"
   ]
  },
  {
   "cell_type": "code",
   "execution_count": 3,
   "id": "9e3f32e2",
   "metadata": {},
   "outputs": [
    {
     "data": {
      "text/plain": [
       "1602"
      ]
     },
     "execution_count": 3,
     "metadata": {},
     "output_type": "execute_result"
    }
   ],
   "source": [
    "data = parse_data(open('input', 'r').read())\n",
    "\n",
    "part_1(data)"
   ]
  },
  {
   "cell_type": "markdown",
   "id": "82809ef8",
   "metadata": {},
   "source": [
    "## Part 2"
   ]
  },
  {
   "cell_type": "code",
   "execution_count": 4,
   "id": "ef50ed74",
   "metadata": {},
   "outputs": [],
   "source": [
    "def part_2(data):\n",
    "    windowed = [sum((x, y, z)) for x, y, z in zip(data, data[1:], data[2:])]\n",
    "    return part_1(windowed)"
   ]
  },
  {
   "cell_type": "code",
   "execution_count": 5,
   "id": "ac5a9977",
   "metadata": {},
   "outputs": [],
   "source": [
    "assert part_2(test_data) == 5"
   ]
  },
  {
   "cell_type": "code",
   "execution_count": 6,
   "id": "14df4cc9",
   "metadata": {},
   "outputs": [
    {
     "data": {
      "text/plain": [
       "1633"
      ]
     },
     "execution_count": 6,
     "metadata": {},
     "output_type": "execute_result"
    }
   ],
   "source": [
    "part_2(data)"
   ]
  },
  {
   "cell_type": "code",
   "execution_count": null,
   "id": "5589955c",
   "metadata": {},
   "outputs": [],
   "source": []
  }
 ],
 "metadata": {
  "kernelspec": {
   "display_name": "Python 3 (ipykernel)",
   "language": "python",
   "name": "python3"
  },
  "language_info": {
   "codemirror_mode": {
    "name": "ipython",
    "version": 3
   },
   "file_extension": ".py",
   "mimetype": "text/x-python",
   "name": "python",
   "nbconvert_exporter": "python",
   "pygments_lexer": "ipython3",
   "version": "3.9.9"
  }
 },
 "nbformat": 4,
 "nbformat_minor": 5
}
