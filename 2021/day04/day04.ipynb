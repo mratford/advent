{
 "cells": [
  {
   "cell_type": "markdown",
   "id": "554c3003",
   "metadata": {},
   "source": [
    "# Day 4\n",
    "## Part 1\n",
    "Let's try this with numpy as it will make the column and row manipulation easier."
   ]
  },
  {
   "cell_type": "code",
   "execution_count": 22,
   "id": "39461610",
   "metadata": {},
   "outputs": [],
   "source": [
    "import numpy as np\n",
    "\n",
    "def parse_data(s):\n",
    "    lines = s.splitlines()\n",
    "    bingo_numbers = np.array([int(x) for x in lines[0].split(',')])\n",
    "    card_numbers = [int(x) for x in ' '.join(lines[1:]).split()]\n",
    "    bingo_cards = [np.array(card_numbers[i:i+25]).reshape(5, 5) \n",
    "                   for i in range(0, len(card_numbers), 25)]\n",
    "    return bingo_numbers, bingo_cards\n",
    "\n",
    "test_string = '''7,4,9,5,11,17,23,2,0,14,21,24,10,16,13,6,15,25,12,22,18,20,8,19,3,26,1\n",
    "\n",
    "22 13 17 11  0\n",
    " 8  2 23  4 24\n",
    "21  9 14 16  7\n",
    " 6 10  3 18  5\n",
    " 1 12 20 15 19\n",
    "\n",
    " 3 15  0  2 22\n",
    " 9 18 13 17  5\n",
    "19  8  7 25 23\n",
    "20 11 10 24  4\n",
    "14 21 16 12  6\n",
    "\n",
    "14 21 17 24  4\n",
    "10 16 15  9 19\n",
    "18  8 23 26 20\n",
    "22 11 13  6  5\n",
    " 2  0 12  3  7\n",
    "'''\n",
    "\n",
    "test_bingo_numbers, test_bingo_cards = parse_data(test_string)"
   ]
  },
  {
   "cell_type": "code",
   "execution_count": 23,
   "id": "bef5c57c",
   "metadata": {},
   "outputs": [],
   "source": [
    "def bingo(card, numbers):\n",
    "    # There's probably a whizzy numpy way to make this shorter\n",
    "    if (any(np.isin(card[i], numbers).all() for i in range(5)) \n",
    "            or any(np.isin(card[:, i], numbers).all() for i in range(5))):\n",
    "        print('Bingo!')\n",
    "        return np.setdiff1d(card.reshape(25), numbers).sum() * numbers[-1]\n",
    "    else:\n",
    "        return False"
   ]
  },
  {
   "cell_type": "code",
   "execution_count": 24,
   "id": "e610b855",
   "metadata": {},
   "outputs": [],
   "source": [
    "def part_1(numbers, cards):\n",
    "    for i in range(5, len(numbers)):\n",
    "        for card in cards:\n",
    "            if x := bingo(card, numbers[0:i]):\n",
    "                return x"
   ]
  },
  {
   "cell_type": "code",
   "execution_count": 25,
   "id": "ce26d25a",
   "metadata": {},
   "outputs": [
    {
     "name": "stdout",
     "output_type": "stream",
     "text": [
      "Bingo!\n"
     ]
    },
    {
     "data": {
      "text/plain": [
       "4512"
      ]
     },
     "execution_count": 25,
     "metadata": {},
     "output_type": "execute_result"
    }
   ],
   "source": [
    "part_1(test_bingo_numbers, test_bingo_cards)"
   ]
  },
  {
   "cell_type": "code",
   "execution_count": 26,
   "id": "92b165c2",
   "metadata": {},
   "outputs": [
    {
     "name": "stdout",
     "output_type": "stream",
     "text": [
      "Bingo!\n"
     ]
    },
    {
     "data": {
      "text/plain": [
       "63552"
      ]
     },
     "execution_count": 26,
     "metadata": {},
     "output_type": "execute_result"
    }
   ],
   "source": [
    "data = parse_data(open('input', 'r').read())\n",
    "part_1(*data)"
   ]
  },
  {
   "cell_type": "markdown",
   "id": "9420d5cc",
   "metadata": {},
   "source": [
    "## Part 2"
   ]
  },
  {
   "cell_type": "code",
   "execution_count": 27,
   "id": "8c417247",
   "metadata": {},
   "outputs": [],
   "source": [
    "def part_2(numbers, cards):\n",
    "    cards = cards[:]\n",
    "    while cards:\n",
    "        for i in range(5, len(numbers)):\n",
    "            for j, card in enumerate(cards):\n",
    "                if x := bingo(card, numbers[0:i]):\n",
    "                    last_bingo = x\n",
    "                    del cards[j]\n",
    "    return last_bingo"
   ]
  },
  {
   "cell_type": "code",
   "execution_count": 30,
   "id": "905a2f5f",
   "metadata": {},
   "outputs": [
    {
     "name": "stdout",
     "output_type": "stream",
     "text": [
      "Bingo!\n",
      "Bingo!\n",
      "Bingo!\n"
     ]
    }
   ],
   "source": [
    "assert part_2(test_bingo_numbers, test_bingo_cards) == 1924"
   ]
  },
  {
   "cell_type": "code",
   "execution_count": 31,
   "id": "11d1e824",
   "metadata": {},
   "outputs": [
    {
     "name": "stdout",
     "output_type": "stream",
     "text": [
      "Bingo!\n",
      "Bingo!\n",
      "Bingo!\n",
      "Bingo!\n",
      "Bingo!\n",
      "Bingo!\n",
      "Bingo!\n",
      "Bingo!\n",
      "Bingo!\n",
      "Bingo!\n",
      "Bingo!\n",
      "Bingo!\n",
      "Bingo!\n",
      "Bingo!\n",
      "Bingo!\n",
      "Bingo!\n",
      "Bingo!\n",
      "Bingo!\n",
      "Bingo!\n",
      "Bingo!\n",
      "Bingo!\n",
      "Bingo!\n",
      "Bingo!\n",
      "Bingo!\n",
      "Bingo!\n",
      "Bingo!\n",
      "Bingo!\n",
      "Bingo!\n",
      "Bingo!\n",
      "Bingo!\n",
      "Bingo!\n",
      "Bingo!\n",
      "Bingo!\n",
      "Bingo!\n",
      "Bingo!\n",
      "Bingo!\n",
      "Bingo!\n",
      "Bingo!\n",
      "Bingo!\n",
      "Bingo!\n",
      "Bingo!\n",
      "Bingo!\n",
      "Bingo!\n",
      "Bingo!\n",
      "Bingo!\n",
      "Bingo!\n",
      "Bingo!\n",
      "Bingo!\n",
      "Bingo!\n",
      "Bingo!\n",
      "Bingo!\n",
      "Bingo!\n",
      "Bingo!\n",
      "Bingo!\n",
      "Bingo!\n",
      "Bingo!\n",
      "Bingo!\n",
      "Bingo!\n",
      "Bingo!\n",
      "Bingo!\n",
      "Bingo!\n",
      "Bingo!\n",
      "Bingo!\n",
      "Bingo!\n",
      "Bingo!\n",
      "Bingo!\n",
      "Bingo!\n",
      "Bingo!\n",
      "Bingo!\n",
      "Bingo!\n",
      "Bingo!\n",
      "Bingo!\n",
      "Bingo!\n",
      "Bingo!\n",
      "Bingo!\n",
      "Bingo!\n",
      "Bingo!\n",
      "Bingo!\n",
      "Bingo!\n",
      "Bingo!\n",
      "Bingo!\n",
      "Bingo!\n",
      "Bingo!\n",
      "Bingo!\n",
      "Bingo!\n",
      "Bingo!\n",
      "Bingo!\n",
      "Bingo!\n",
      "Bingo!\n",
      "Bingo!\n",
      "Bingo!\n",
      "Bingo!\n",
      "Bingo!\n",
      "Bingo!\n",
      "Bingo!\n",
      "Bingo!\n",
      "Bingo!\n",
      "Bingo!\n",
      "Bingo!\n",
      "Bingo!\n"
     ]
    },
    {
     "data": {
      "text/plain": [
       "9020"
      ]
     },
     "execution_count": 31,
     "metadata": {},
     "output_type": "execute_result"
    }
   ],
   "source": [
    "part_2(*data)"
   ]
  },
  {
   "cell_type": "markdown",
   "id": "865d8a71",
   "metadata": {},
   "source": [
    "Miraculously I've managed to slow down my code using numpy, a set based approach would have been much quicker but would have needed a bit more coding overhead."
   ]
  },
  {
   "cell_type": "code",
   "execution_count": null,
   "id": "713cfc4a",
   "metadata": {},
   "outputs": [],
   "source": []
  }
 ],
 "metadata": {
  "kernelspec": {
   "display_name": "Python 3 (ipykernel)",
   "language": "python",
   "name": "python3"
  },
  "language_info": {
   "codemirror_mode": {
    "name": "ipython",
    "version": 3
   },
   "file_extension": ".py",
   "mimetype": "text/x-python",
   "name": "python",
   "nbconvert_exporter": "python",
   "pygments_lexer": "ipython3",
   "version": "3.9.9"
  }
 },
 "nbformat": 4,
 "nbformat_minor": 5
}
