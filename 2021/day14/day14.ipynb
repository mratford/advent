{
 "cells": [
  {
   "cell_type": "markdown",
   "id": "554c3003",
   "metadata": {},
   "source": [
    "# Day 14\n",
    "## Part 1\n",
    "Don't bother creating the string, just create a running counter of characters and depth first search."
   ]
  },
  {
   "cell_type": "code",
   "execution_count": 4,
   "id": "39461610",
   "metadata": {},
   "outputs": [
    {
     "data": {
      "text/plain": [
       "('NNCB',\n",
       " {('C', 'H'): 'B',\n",
       "  ('H', 'H'): 'N',\n",
       "  ('C', 'B'): 'H',\n",
       "  ('N', 'H'): 'C',\n",
       "  ('H', 'B'): 'C',\n",
       "  ('H', 'C'): 'B',\n",
       "  ('H', 'N'): 'C',\n",
       "  ('N', 'N'): 'C',\n",
       "  ('B', 'H'): 'H',\n",
       "  ('N', 'C'): 'B',\n",
       "  ('N', 'B'): 'B',\n",
       "  ('B', 'N'): 'B',\n",
       "  ('B', 'B'): 'N',\n",
       "  ('B', 'C'): 'B',\n",
       "  ('C', 'C'): 'N',\n",
       "  ('C', 'N'): 'C'})"
      ]
     },
     "execution_count": 4,
     "metadata": {},
     "output_type": "execute_result"
    }
   ],
   "source": [
    "from collections import Counter\n",
    "\n",
    "def parse_data(s):\n",
    "    lines = s.strip().splitlines()\n",
    "    template = lines[0].strip()\n",
    "    insertions = {}\n",
    "    for line in lines[2:]:\n",
    "        xs, y = line.strip().split(' -> ')\n",
    "        insertions[tuple(xs)] = y\n",
    "    return template, insertions\n",
    "\n",
    "test_string = '''\n",
    "NNCB\n",
    "\n",
    "CH -> B\n",
    "HH -> N\n",
    "CB -> H\n",
    "NH -> C\n",
    "HB -> C\n",
    "HC -> B\n",
    "HN -> C\n",
    "NN -> C\n",
    "BH -> H\n",
    "NC -> B\n",
    "NB -> B\n",
    "BN -> B\n",
    "BB -> N\n",
    "BC -> B\n",
    "CC -> N\n",
    "CN -> C\n",
    "'''\n",
    "\n",
    "test_data = parse_data(test_string)\n",
    "test_data"
   ]
  },
  {
   "cell_type": "code",
   "execution_count": 10,
   "id": "12d382dd",
   "metadata": {},
   "outputs": [],
   "source": [
    "def count_elements(steps, template, insertions):\n",
    "    counts = Counter(template)\n",
    "    stack = [(x, y, steps) for x, y in zip(template, template[1:])]\n",
    "    while stack:\n",
    "        x, y, n = stack.pop()\n",
    "        insert = insertions[(x, y)]\n",
    "        counts[insert] += 1\n",
    "        if n > 1:\n",
    "            stack.append((x, insert, n - 1))\n",
    "            stack.append((insert, y, n - 1))\n",
    "    return counts"
   ]
  },
  {
   "cell_type": "code",
   "execution_count": 11,
   "id": "f73b00ef",
   "metadata": {},
   "outputs": [
    {
     "data": {
      "text/plain": [
       "Counter({'N': 865, 'C': 298, 'B': 1749, 'H': 161})"
      ]
     },
     "execution_count": 11,
     "metadata": {},
     "output_type": "execute_result"
    }
   ],
   "source": [
    "count_elements(10, *test_data)"
   ]
  },
  {
   "cell_type": "code",
   "execution_count": 14,
   "id": "93b5bcb0",
   "metadata": {},
   "outputs": [],
   "source": [
    "def part_1(template, insertions):\n",
    "    counts = count_elements(10, template, insertions)\n",
    "    return max(counts.values()) - min(counts.values())\n",
    "\n",
    "assert part_1(*test_data) == 1588"
   ]
  },
  {
   "cell_type": "code",
   "execution_count": 15,
   "id": "79fc8594",
   "metadata": {},
   "outputs": [
    {
     "data": {
      "text/plain": [
       "2851"
      ]
     },
     "execution_count": 15,
     "metadata": {},
     "output_type": "execute_result"
    }
   ],
   "source": [
    "data = parse_data(open('input', 'r').read())\n",
    "part_1(*data)"
   ]
  },
  {
   "cell_type": "code",
   "execution_count": 13,
   "id": "93d7dc34",
   "metadata": {},
   "outputs": [
    {
     "data": {
      "text/plain": [
       "2"
      ]
     },
     "execution_count": 13,
     "metadata": {},
     "output_type": "execute_result"
    }
   ],
   "source": [
    "max(c.values())"
   ]
  },
  {
   "cell_type": "markdown",
   "id": "44f1b8d5",
   "metadata": {},
   "source": [
    "## Part 2\n",
    "OK, that's going to take quite a while. However there's only a limited number of pairs of characters, so it should be possible to speed things up by caching the results. Could try `functools.lru_cache` and recursion but instead create a dictionary of counts, starting with a count of each pair with one step remaining, then from that deduce the count for each pair of characters with two steps remaining, and so on. "
   ]
  },
  {
   "cell_type": "code",
   "execution_count": 34,
   "id": "dc1fd3dd",
   "metadata": {},
   "outputs": [
    {
     "data": {
      "text/plain": [
       "Counter({'C': 298, 'B': 1749, 'N': 865, 'H': 161})"
      ]
     },
     "execution_count": 34,
     "metadata": {},
     "output_type": "execute_result"
    }
   ],
   "source": [
    "from collections import defaultdict\n",
    "from functools import reduce\n",
    "from operator import add\n",
    "\n",
    "def count_elements(steps, template, insertions):\n",
    "    reverse_insertions = defaultdict(list)\n",
    "    for k, v in insertions.items():\n",
    "        reverse_insertions[v].append(k)\n",
    "    counts_to = {}\n",
    "    for x, y in insertions:\n",
    "        insert = insertions[(x, y)]\n",
    "        counts_to[(x, y, 1)] = Counter(insert)\n",
    "    for i in range(2, steps + 1):\n",
    "        for insert in reverse_insertions:\n",
    "            for x, y in reverse_insertions[insert]:\n",
    "                counts_to[(x, y, i)] = (\n",
    "                    Counter(insert) + counts_to[(x, insert, i - 1)] \n",
    "                    + counts_to[(insert, y, i - 1)]\n",
    "                )\n",
    "    return reduce(add, (counts_to[(x, y, steps)] for x, y in zip(template, template[1:])), Counter()) + Counter(template)\n",
    "\n",
    "def part_2(template, insertions):\n",
    "    counts = count_elements(40, template, insertions)\n",
    "    return max(counts.values()) - min(counts.values())\n",
    "\n",
    "assert part_1(*test_data) == 1588"
   ]
  },
  {
   "cell_type": "code",
   "execution_count": 35,
   "id": "025c9e22",
   "metadata": {},
   "outputs": [
    {
     "data": {
      "text/plain": [
       "10002813279337"
      ]
     },
     "execution_count": 35,
     "metadata": {},
     "output_type": "execute_result"
    }
   ],
   "source": [
    "part_2(*data)"
   ]
  },
  {
   "cell_type": "code",
   "execution_count": null,
   "id": "0ce697e4",
   "metadata": {},
   "outputs": [],
   "source": []
  }
 ],
 "metadata": {
  "kernelspec": {
   "display_name": "Python 3 (ipykernel)",
   "language": "python",
   "name": "python3"
  },
  "language_info": {
   "codemirror_mode": {
    "name": "ipython",
    "version": 3
   },
   "file_extension": ".py",
   "mimetype": "text/x-python",
   "name": "python",
   "nbconvert_exporter": "python",
   "pygments_lexer": "ipython3",
   "version": "3.10.1"
  }
 },
 "nbformat": 4,
 "nbformat_minor": 5
}
