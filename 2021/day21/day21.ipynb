{
 "cells": [
  {
   "cell_type": "markdown",
   "id": "554c3003",
   "metadata": {},
   "source": [
    "# Day 21\n",
    "## Part 1"
   ]
  },
  {
   "cell_type": "code",
   "execution_count": 7,
   "id": "39461610",
   "metadata": {},
   "outputs": [],
   "source": [
    "def die():\n",
    "    while True:\n",
    "        yield from range(1, 101)\n",
    "        \n",
    "def rolls():\n",
    "    d = die()\n",
    "    while True:\n",
    "        yield next(d) + next(d) + next(d)\n",
    "        \n",
    "def move(p, n):\n",
    "    return (p - 1 + n) % 10 + 1\n",
    "\n",
    "def part_1(player1, player2):\n",
    "    r = rolls()\n",
    "    n_rolls = 0\n",
    "    scores = [0, 0]\n",
    "    positions = [player1, player2]\n",
    "    while True:\n",
    "        for i in range(2):\n",
    "            positions[i] = move(positions[i], next(r))\n",
    "            scores[i] += positions[i]\n",
    "            n_rolls += 3\n",
    "            if scores[i] >= 1000:\n",
    "                return scores[0 if i else 1] * n_rolls\n",
    "            \n",
    "assert part_1(4, 8) == 739785"
   ]
  },
  {
   "cell_type": "code",
   "execution_count": 8,
   "id": "46d9be09",
   "metadata": {},
   "outputs": [
    {
     "data": {
      "text/plain": [
       "512442"
      ]
     },
     "execution_count": 8,
     "metadata": {},
     "output_type": "execute_result"
    }
   ],
   "source": [
    "part_1(8, 9)"
   ]
  },
  {
   "cell_type": "markdown",
   "id": "4dc18ff2",
   "metadata": {},
   "source": [
    "## Part 2\n",
    "Ha ha! I thought part 1 was a bit easy for day 21."
   ]
  },
  {
   "cell_type": "code",
   "execution_count": null,
   "id": "fbdf7884",
   "metadata": {},
   "outputs": [],
   "source": []
  }
 ],
 "metadata": {
  "kernelspec": {
   "display_name": "Python 3 (ipykernel)",
   "language": "python",
   "name": "python3"
  },
  "language_info": {
   "codemirror_mode": {
    "name": "ipython",
    "version": 3
   },
   "file_extension": ".py",
   "mimetype": "text/x-python",
   "name": "python",
   "nbconvert_exporter": "python",
   "pygments_lexer": "ipython3",
   "version": "3.10.1"
  }
 },
 "nbformat": 4,
 "nbformat_minor": 5
}
