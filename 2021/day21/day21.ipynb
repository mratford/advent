{
 "cells": [
  {
   "cell_type": "markdown",
   "id": "554c3003",
   "metadata": {},
   "source": [
    "# Day 21\n",
    "## Part 1"
   ]
  },
  {
   "cell_type": "code",
   "execution_count": 43,
   "id": "39461610",
   "metadata": {},
   "outputs": [],
   "source": [
    "def die():\n",
    "    while True:\n",
    "        yield from range(1, 101)\n",
    "        \n",
    "def rolls():\n",
    "    d = die()\n",
    "    while True:\n",
    "        yield next(d) + next(d) + next(d)\n",
    "        \n",
    "def move(p, n):\n",
    "    return (p - 1 + n) % 10 + 1\n",
    "\n",
    "def part_1(player1, player2):\n",
    "    r = rolls()\n",
    "    n_rolls = 0\n",
    "    scores = [0, 0]\n",
    "    positions = [player1, player2]\n",
    "    while True:\n",
    "        for i in range(2):\n",
    "            positions[i] = move(positions[i], next(r))\n",
    "            scores[i] += positions[i]\n",
    "            n_rolls += 3\n",
    "            if scores[i] >= 1000:\n",
    "                return scores[0 if i else 1] * n_rolls\n",
    "            \n",
    "assert part_1(4, 8) == 739785"
   ]
  },
  {
   "cell_type": "code",
   "execution_count": 44,
   "id": "46d9be09",
   "metadata": {},
   "outputs": [
    {
     "data": {
      "text/plain": [
       "512442"
      ]
     },
     "execution_count": 44,
     "metadata": {},
     "output_type": "execute_result"
    }
   ],
   "source": [
    "part_1(8, 9)"
   ]
  },
  {
   "cell_type": "markdown",
   "id": "4dc18ff2",
   "metadata": {},
   "source": [
    "## Part 2\n",
    "Ha ha! I thought part 1 was a bit easy for day 21.\n",
    "\n",
    "OK, thinking about it, there are only a limited number of states, representing\n",
    "- player 1's position (10 possibilities)\n",
    "- player 2's position (10)\n",
    "- player 1's score (21)\n",
    "- player 2's score (21)\n",
    "- whose turn it is (2)\n",
    "\n",
    "which is 80 odd thousand - a lot, but tractable. Try a cached recursive solution and see if that falls over.\n",
    "\n",
    "The die is rolled three times, rather than simulate that keep a total of how often each total occurs."
   ]
  },
  {
   "cell_type": "code",
   "execution_count": 45,
   "id": "205a28aa",
   "metadata": {},
   "outputs": [
    {
     "data": {
      "text/plain": [
       "Counter({3: 1, 4: 3, 5: 6, 6: 7, 7: 6, 8: 3, 9: 1})"
      ]
     },
     "execution_count": 45,
     "metadata": {},
     "output_type": "execute_result"
    }
   ],
   "source": [
    "from collections import Counter\n",
    "from functools import cache\n",
    "import itertools\n",
    "\n",
    "possible_rolls = Counter(sum(ds) for ds in itertools.product(range(1, 4), repeat=3))\n",
    "possible_rolls"
   ]
  },
  {
   "cell_type": "code",
   "execution_count": 46,
   "id": "fbdf7884",
   "metadata": {},
   "outputs": [],
   "source": [
    "@cache\n",
    "def multiverse(p1, p2, s1, s2, turn):\n",
    "    player1_wins = 0\n",
    "    player2_wins = 0\n",
    "    for roll in possible_rolls:\n",
    "        if turn == 1:\n",
    "            p = move(p1, roll)\n",
    "            if s1 + p >= 21:\n",
    "                player1_wins += possible_rolls[roll]\n",
    "            else: \n",
    "                ws = multiverse(p, p2, s1 + p, s2, 2)\n",
    "                player1_wins += ws[0] * possible_rolls[roll]\n",
    "                player2_wins += ws[1] * possible_rolls[roll]\n",
    "        elif turn == 2:\n",
    "            p = move(p2, roll)\n",
    "            if s2 + p >= 21:\n",
    "                player2_wins += possible_rolls[roll]\n",
    "            else: \n",
    "                ws = multiverse(p1, p, s1, s2 + p, 1)\n",
    "                player1_wins += ws[0] * possible_rolls[roll]\n",
    "                player2_wins += ws[1] * possible_rolls[roll]\n",
    "    return (player1_wins, player2_wins)"
   ]
  },
  {
   "cell_type": "code",
   "execution_count": 47,
   "id": "7660dccc",
   "metadata": {},
   "outputs": [
    {
     "data": {
      "text/plain": [
       "(444356092776315, 341960390180808)"
      ]
     },
     "execution_count": 47,
     "metadata": {},
     "output_type": "execute_result"
    }
   ],
   "source": [
    "multiverse(4, 8, 0, 0, 1)"
   ]
  },
  {
   "cell_type": "code",
   "execution_count": 48,
   "id": "13d76186",
   "metadata": {},
   "outputs": [
    {
     "data": {
      "text/plain": [
       "(346642902541848, 262939886779945)"
      ]
     },
     "execution_count": 48,
     "metadata": {},
     "output_type": "execute_result"
    }
   ],
   "source": [
    "multiverse(8, 9, 0, 0, 1)"
   ]
  },
  {
   "cell_type": "code",
   "execution_count": 49,
   "id": "429bf37b",
   "metadata": {},
   "outputs": [
    {
     "data": {
      "text/plain": [
       "346642902541848"
      ]
     },
     "execution_count": 49,
     "metadata": {},
     "output_type": "execute_result"
    }
   ],
   "source": [
    "max(_)"
   ]
  },
  {
   "cell_type": "code",
   "execution_count": 50,
   "id": "fec5beab",
   "metadata": {},
   "outputs": [
    {
     "name": "stdout",
     "output_type": "stream",
     "text": [
      "182 ns ± 5.95 ns per loop (mean ± std. dev. of 7 runs, 10000000 loops each)\n"
     ]
    }
   ],
   "source": [
    "%%timeit \n",
    "multiverse(8, 9, 0, 0, 1)"
   ]
  },
  {
   "cell_type": "code",
   "execution_count": null,
   "id": "11fb1183",
   "metadata": {},
   "outputs": [],
   "source": []
  }
 ],
 "metadata": {
  "kernelspec": {
   "display_name": "Python 3 (ipykernel)",
   "language": "python",
   "name": "python3"
  },
  "language_info": {
   "codemirror_mode": {
    "name": "ipython",
    "version": 3
   },
   "file_extension": ".py",
   "mimetype": "text/x-python",
   "name": "python",
   "nbconvert_exporter": "python",
   "pygments_lexer": "ipython3",
   "version": "3.10.1"
  }
 },
 "nbformat": 4,
 "nbformat_minor": 5
}
