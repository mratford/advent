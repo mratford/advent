{
 "cells": [
  {
   "cell_type": "markdown",
   "id": "554c3003",
   "metadata": {},
   "source": [
    "# Day 9\n",
    "## Part 1"
   ]
  },
  {
   "cell_type": "code",
   "execution_count": 8,
   "id": "39461610",
   "metadata": {},
   "outputs": [],
   "source": [
    "def parse_data(s):\n",
    "    return [[int(x) for x in row.strip()]\n",
    "            for row in s.strip().splitlines()]\n",
    "\n",
    "test_string = '''2199943210\n",
    "3987894921\n",
    "9856789892\n",
    "8767896789\n",
    "9899965678\n",
    "'''\n",
    "\n",
    "test_data = parse_data(test_string)\n",
    "\n",
    "def neighbours(row, column, grid):\n",
    "    max_row = len(grid) - 1\n",
    "    max_col = len(grid[0]) - 1\n",
    "    for dr in (-1, 1):\n",
    "        if 0 <= row + dr <= max_row:\n",
    "            yield (row + dr, column)\n",
    "    for dc in (-1, 1):\n",
    "        if 0 <= column + dc <= max_col:\n",
    "            yield (row, column + dc)\n",
    "                \n",
    "def sinks(grid):\n",
    "    for r in range(len(grid)):\n",
    "        for c in range(len(grid[0])):\n",
    "            if all(grid[r][c] < grid[nr][nc] \n",
    "                   for nr, nc in neighbours(r, c, grid)):\n",
    "                yield (r, c)\n",
    "                \n",
    "def part_1(grid):\n",
    "    return sum(1 + grid[r][c] for r, c in sinks(grid))\n",
    "\n",
    "assert part_1(test_data) == 15"
   ]
  },
  {
   "cell_type": "code",
   "execution_count": 9,
   "id": "7de2c68c",
   "metadata": {},
   "outputs": [
    {
     "data": {
      "text/plain": [
       "417"
      ]
     },
     "execution_count": 9,
     "metadata": {},
     "output_type": "execute_result"
    }
   ],
   "source": [
    "data = parse_data(open('input', 'r').read())\n",
    "part_1(data)"
   ]
  },
  {
   "cell_type": "code",
   "execution_count": 6,
   "id": "8319b67d",
   "metadata": {},
   "outputs": [
    {
     "data": {
      "text/plain": [
       "[(0, 0), (0, 1), (0, 6), (0, 9), (2, 2), (4, 6)]"
      ]
     },
     "execution_count": 6,
     "metadata": {},
     "output_type": "execute_result"
    }
   ],
   "source": [
    "list(sinks(test_data))"
   ]
  },
  {
   "cell_type": "code",
   "execution_count": 7,
   "id": "3aff1354",
   "metadata": {},
   "outputs": [
    {
     "data": {
      "text/plain": [
       "[(1, 1)]"
      ]
     },
     "execution_count": 7,
     "metadata": {},
     "output_type": "execute_result"
    }
   ],
   "source": [
    "list(neighbours(0, 0, test_data))"
   ]
  },
  {
   "cell_type": "markdown",
   "id": "47a7dcb1",
   "metadata": {},
   "source": [
    "## Part 2\n",
    "\n",
    "Generate basin from depth first search stopping when a peak is hit."
   ]
  },
  {
   "cell_type": "code",
   "execution_count": 29,
   "id": "e5fa24dd",
   "metadata": {},
   "outputs": [],
   "source": [
    "import math\n",
    "\n",
    "def basin(r, c, grid):\n",
    "    yield (r, c)\n",
    "    visited = {(r, c)}\n",
    "    to_visit = set(neighbours(r, c, grid))\n",
    "    \n",
    "    while to_visit:\n",
    "        r, c = to_visit.pop()\n",
    "        # Check if there's a higher neighbour for\n",
    "        # downward flow\n",
    "        nbrs = set((nr, nc) for nr, nc in neighbours(r, c, grid) \n",
    "                   if grid[nr][nc] > grid[r][c])\n",
    "        if nbrs:\n",
    "            yield (r, c)\n",
    "            visited.add((r, c))\n",
    "            to_visit |= nbrs - visited\n",
    "                \n",
    "def part_2(data):\n",
    "    basins = [len(list(basin(r, c, data))) for r, c in sinks(data)]\n",
    "    return math.prod(sorted(basins)[-3:])\n",
    "\n",
    "assert part_2(test_data) == 1134"
   ]
  },
  {
   "cell_type": "code",
   "execution_count": 30,
   "id": "6c4317ce",
   "metadata": {},
   "outputs": [
    {
     "data": {
      "text/plain": [
       "1072512"
      ]
     },
     "execution_count": 30,
     "metadata": {},
     "output_type": "execute_result"
    }
   ],
   "source": [
    "part_2(data)"
   ]
  },
  {
   "cell_type": "markdown",
   "id": "cee27319",
   "metadata": {},
   "source": [
    "Wrong, it's frustrating when the test data passes but the input fails. \n",
    "\n",
    "What happens if you ignore flow and bound the basins with `9`s?"
   ]
  },
  {
   "cell_type": "code",
   "execution_count": 34,
   "id": "2a8cef90",
   "metadata": {},
   "outputs": [],
   "source": [
    "def basin(r, c, grid):\n",
    "    yield (r, c)\n",
    "    visited = {(r, c)}\n",
    "    to_visit = set(neighbours(r, c, grid))\n",
    "    \n",
    "    while to_visit:\n",
    "        r, c = to_visit.pop()\n",
    "        nbrs = set(neighbours(r, c, grid))\n",
    "        if grid[r][c] != 9:\n",
    "            yield (r, c)\n",
    "            visited.add((r, c))\n",
    "            to_visit |= nbrs - visited"
   ]
  },
  {
   "cell_type": "code",
   "execution_count": 35,
   "id": "98a829d1",
   "metadata": {},
   "outputs": [
    {
     "data": {
      "text/plain": [
       "1134"
      ]
     },
     "execution_count": 35,
     "metadata": {},
     "output_type": "execute_result"
    }
   ],
   "source": [
    "part_2(test_data)"
   ]
  },
  {
   "cell_type": "code",
   "execution_count": 36,
   "id": "01277fb7",
   "metadata": {},
   "outputs": [
    {
     "data": {
      "text/plain": [
       "1148965"
      ]
     },
     "execution_count": 36,
     "metadata": {},
     "output_type": "execute_result"
    }
   ],
   "source": [
    "part_2(data)"
   ]
  },
  {
   "cell_type": "markdown",
   "id": "8670a603",
   "metadata": {},
   "source": [
    "That's the \"right\" answer, though I'd dispute that given the problem statement.\n",
    "\n",
    "e.g. I took `97876549` to be two basins, separated by a peak at `8`, but that's wrong, apparently."
   ]
  },
  {
   "cell_type": "code",
   "execution_count": null,
   "id": "567b8fd7",
   "metadata": {},
   "outputs": [],
   "source": []
  }
 ],
 "metadata": {
  "kernelspec": {
   "display_name": "Python 3 (ipykernel)",
   "language": "python",
   "name": "python3"
  },
  "language_info": {
   "codemirror_mode": {
    "name": "ipython",
    "version": 3
   },
   "file_extension": ".py",
   "mimetype": "text/x-python",
   "name": "python",
   "nbconvert_exporter": "python",
   "pygments_lexer": "ipython3",
   "version": "3.9.9"
  }
 },
 "nbformat": 4,
 "nbformat_minor": 5
}
