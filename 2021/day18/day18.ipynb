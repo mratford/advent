{
 "cells": [
  {
   "cell_type": "markdown",
   "id": "554c3003",
   "metadata": {},
   "source": [
    "# Day 18\n",
    "## Part 1\n",
    "Represent the snail numbers as a list of depth/value pairs. A probably more robust representation would involve a binary tree that tracks leaves to the left and right but this is easier, if a bit hairy in terms of list mutability; the data needs to be copied otherwise it gets changed in place. "
   ]
  },
  {
   "cell_type": "code",
   "execution_count": 1,
   "id": "39461610",
   "metadata": {},
   "outputs": [
    {
     "data": {
      "text/plain": [
       "[SnailLeaf(depth=4, value=0),\n",
       " SnailLeaf(depth=4, value=9),\n",
       " SnailLeaf(depth=3, value=2),\n",
       " SnailLeaf(depth=2, value=3),\n",
       " SnailLeaf(depth=1, value=4)]"
      ]
     },
     "execution_count": 1,
     "metadata": {},
     "output_type": "execute_result"
    }
   ],
   "source": [
    "from collections import namedtuple\n",
    "import math\n",
    "\n",
    "SnailLeaf = namedtuple('SnailLeaf', 'depth value')\n",
    "\n",
    "\n",
    "def parse_line(line):\n",
    "    snailnumber = []\n",
    "    depth = 0\n",
    "    for c in line.strip():\n",
    "        if c == '[': \n",
    "            depth += 1\n",
    "        elif c == ']':\n",
    "            depth -= 1\n",
    "        elif c != ',':\n",
    "            snailnumber.append(SnailLeaf(depth, int(c)))\n",
    "    return snailnumber\n",
    "  \n",
    "\n",
    "def parse_data(s):\n",
    "    snailnumbers = []\n",
    "    for line in s.strip().splitlines():\n",
    "        snailnumbers.append(parse_line(line))\n",
    "    return snailnumbers\n",
    "\n",
    "\n",
    "def reduce(sn):\n",
    "    while True:\n",
    "        still_exploding = True\n",
    "        while still_exploding:\n",
    "            still_exploding = False\n",
    "            for i, (d, v) in enumerate(sn):\n",
    "                if d == 5:\n",
    "                    still_exploding = True\n",
    "                    if i > 0:\n",
    "                        sn[i - 1] = SnailLeaf(sn[i - 1].depth, sn[i - 1].value + sn[i].value)\n",
    "                    if i + 2 < len(sn):\n",
    "                        sn[i + 2] = SnailLeaf(sn[i + 2].depth, sn[i + 1].value + sn[i + 2].value)\n",
    "                    sn[i] = SnailLeaf(4, 0)\n",
    "                    del sn[i + 1]\n",
    "        split = False\n",
    "        for i, (d, v) in enumerate(sn):\n",
    "            if v > 9:\n",
    "                split = True\n",
    "                old = sn[i]\n",
    "                sn[i] = SnailLeaf(old.depth + 1, math.floor(old.value / 2))\n",
    "                new_leaf = [SnailLeaf(old.depth + 1, math.ceil(old.value / 2))]\n",
    "                sn = sn[:i + 1] + new_leaf + sn[i + 1:]\n",
    "                break\n",
    "        if not split:\n",
    "            return sn\n",
    "        \n",
    "        \n",
    "reduce(parse_line('[[[[[9,8],1],2],3],4]'))"
   ]
  },
  {
   "cell_type": "code",
   "execution_count": 2,
   "id": "ad1841c0",
   "metadata": {},
   "outputs": [
    {
     "data": {
      "text/plain": [
       "[SnailLeaf(depth=2, value=3),\n",
       " SnailLeaf(depth=3, value=2),\n",
       " SnailLeaf(depth=4, value=8),\n",
       " SnailLeaf(depth=4, value=0),\n",
       " SnailLeaf(depth=2, value=9),\n",
       " SnailLeaf(depth=3, value=5),\n",
       " SnailLeaf(depth=4, value=7),\n",
       " SnailLeaf(depth=4, value=0)]"
      ]
     },
     "execution_count": 2,
     "metadata": {},
     "output_type": "execute_result"
    }
   ],
   "source": [
    "reduce(parse_line('[[3,[2,[1,[7,3]]]],[6,[5,[4,[3,2]]]]]'))"
   ]
  },
  {
   "cell_type": "code",
   "execution_count": 3,
   "id": "9a090afc",
   "metadata": {},
   "outputs": [
    {
     "data": {
      "text/plain": [
       "[SnailLeaf(depth=4, value=0),\n",
       " SnailLeaf(depth=4, value=7),\n",
       " SnailLeaf(depth=3, value=4),\n",
       " SnailLeaf(depth=4, value=7),\n",
       " SnailLeaf(depth=4, value=8),\n",
       " SnailLeaf(depth=4, value=6),\n",
       " SnailLeaf(depth=4, value=0),\n",
       " SnailLeaf(depth=2, value=8),\n",
       " SnailLeaf(depth=2, value=1)]"
      ]
     },
     "execution_count": 3,
     "metadata": {},
     "output_type": "execute_result"
    }
   ],
   "source": [
    "def add(sn1, sn2):\n",
    "    sn = [SnailLeaf(d + 1, v) for d, v in sn1 + sn2]\n",
    "    return reduce(sn)\n",
    "\n",
    "add(parse_line('[[[[4,3],4],4],[7,[[8,4],9]]]'), parse_line('[1,1]'))"
   ]
  },
  {
   "cell_type": "code",
   "execution_count": 4,
   "id": "f854a44c",
   "metadata": {},
   "outputs": [
    {
     "data": {
      "text/plain": [
       "3488"
      ]
     },
     "execution_count": 4,
     "metadata": {},
     "output_type": "execute_result"
    }
   ],
   "source": [
    "def magnitude(sn):\n",
    "    while len(sn) > 1:\n",
    "        max_depth = max(l.depth for l in sn)\n",
    "        for i, (d, v) in enumerate(sn):\n",
    "            if d == max_depth:\n",
    "                sn[i] = SnailLeaf(d - 1, v * 3 + sn[i + 1].value * 2)\n",
    "                del sn[i + 1]\n",
    "    return sn[0].value\n",
    "\n",
    "magnitude(parse_line('[[[[8,7],[7,7]],[[8,6],[7,7]]],[[[0,7],[6,6]],[8,7]]]'))"
   ]
  },
  {
   "cell_type": "code",
   "execution_count": 5,
   "id": "513e2f0a",
   "metadata": {},
   "outputs": [],
   "source": [
    "import functools\n",
    "\n",
    "def part_1(data):\n",
    "    return magnitude(functools.reduce(add, (x.copy() for x in data)))"
   ]
  },
  {
   "cell_type": "code",
   "execution_count": 6,
   "id": "e84f4765",
   "metadata": {},
   "outputs": [],
   "source": [
    "test_data = parse_data('''\n",
    "[[[0,[5,8]],[[1,7],[9,6]]],[[4,[1,2]],[[1,4],2]]]\n",
    "[[[5,[2,8]],4],[5,[[9,9],0]]]\n",
    "[6,[[[6,2],[5,6]],[[7,6],[4,7]]]]\n",
    "[[[6,[0,7]],[0,9]],[4,[9,[9,0]]]]\n",
    "[[[7,[6,4]],[3,[1,3]]],[[[5,5],1],9]]\n",
    "[[6,[[7,3],[3,2]]],[[[3,8],[5,7]],4]]\n",
    "[[[[5,4],[7,7]],8],[[8,3],8]]\n",
    "[[9,3],[[9,9],[6,[4,9]]]]\n",
    "[[2,[[7,7],7]],[[5,8],[[9,3],[0,2]]]]\n",
    "[[[[5,2],5],[8,[3,7]]],[[5,[7,5]],[4,4]]]\n",
    "''')\n",
    "\n",
    "assert part_1(test_data)== 4140"
   ]
  },
  {
   "cell_type": "code",
   "execution_count": 7,
   "id": "0be9ada3",
   "metadata": {},
   "outputs": [
    {
     "data": {
      "text/plain": [
       "3892"
      ]
     },
     "execution_count": 7,
     "metadata": {},
     "output_type": "execute_result"
    }
   ],
   "source": [
    "data = parse_data(open('input', 'r').read())\n",
    "part_1(data)"
   ]
  },
  {
   "cell_type": "markdown",
   "id": "ea39a2c1",
   "metadata": {},
   "source": [
    "## Part 2"
   ]
  },
  {
   "cell_type": "code",
   "execution_count": 8,
   "id": "6957b032",
   "metadata": {},
   "outputs": [],
   "source": [
    "import itertools\n",
    "\n",
    "def part_2(data):\n",
    "    return max(magnitude(add(x.copy(), y.copy())) for x, y in itertools.permutations(data, 2))    "
   ]
  },
  {
   "cell_type": "code",
   "execution_count": 9,
   "id": "262962ef",
   "metadata": {},
   "outputs": [],
   "source": [
    "assert part_2(test_data) == 3993"
   ]
  },
  {
   "cell_type": "code",
   "execution_count": 10,
   "id": "b86fe381",
   "metadata": {},
   "outputs": [
    {
     "data": {
      "text/plain": [
       "4909"
      ]
     },
     "execution_count": 10,
     "metadata": {},
     "output_type": "execute_result"
    }
   ],
   "source": [
    "part_2(data)"
   ]
  },
  {
   "cell_type": "code",
   "execution_count": null,
   "id": "ca061b1b",
   "metadata": {},
   "outputs": [],
   "source": []
  }
 ],
 "metadata": {
  "kernelspec": {
   "display_name": "Python 3 (ipykernel)",
   "language": "python",
   "name": "python3"
  },
  "language_info": {
   "codemirror_mode": {
    "name": "ipython",
    "version": 3
   },
   "file_extension": ".py",
   "mimetype": "text/x-python",
   "name": "python",
   "nbconvert_exporter": "python",
   "pygments_lexer": "ipython3",
   "version": "3.9.9"
  }
 },
 "nbformat": 4,
 "nbformat_minor": 5
}
