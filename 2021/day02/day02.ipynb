{
 "cells": [
  {
   "cell_type": "markdown",
   "id": "554c3003",
   "metadata": {},
   "source": [
    "# Day 2\n",
    "## Part 1"
   ]
  },
  {
   "cell_type": "code",
   "execution_count": 1,
   "id": "39461610",
   "metadata": {},
   "outputs": [
    {
     "data": {
      "text/plain": [
       "[('forward', 5),\n",
       " ('down', 5),\n",
       " ('forward', 8),\n",
       " ('up', 3),\n",
       " ('down', 8),\n",
       " ('forward', 2)]"
      ]
     },
     "execution_count": 1,
     "metadata": {},
     "output_type": "execute_result"
    }
   ],
   "source": [
    "def parse_data(s):\n",
    "    parsed = []\n",
    "    for line in s.splitlines():\n",
    "        fields = line.split()\n",
    "        parsed.append((fields[0], int(fields[1])))\n",
    "    return parsed\n",
    "\n",
    "test_string = '''forward 5\n",
    "down 5\n",
    "forward 8\n",
    "up 3\n",
    "down 8\n",
    "forward 2'''\n",
    "\n",
    "test_data = parse_data(test_string)\n",
    "test_data"
   ]
  },
  {
   "cell_type": "code",
   "execution_count": 2,
   "id": "61333d9e",
   "metadata": {},
   "outputs": [],
   "source": [
    "def part_1(data):\n",
    "    return ((sum(d for direction, d in data if direction == 'down') -\n",
    "             sum(d for direction, d in data if direction == 'up')) *\n",
    "             sum(d for direction, d in data if direction == 'forward'))\n",
    "\n",
    "assert part_1(test_data) == 150"
   ]
  },
  {
   "cell_type": "code",
   "execution_count": 3,
   "id": "09e237c4",
   "metadata": {},
   "outputs": [
    {
     "data": {
      "text/plain": [
       "1636725"
      ]
     },
     "execution_count": 3,
     "metadata": {},
     "output_type": "execute_result"
    }
   ],
   "source": [
    "data = parse_data(open('input', 'r').read())\n",
    "part_1(data)"
   ]
  },
  {
   "cell_type": "markdown",
   "id": "34965a88",
   "metadata": {},
   "source": [
    "## Part 2"
   ]
  },
  {
   "cell_type": "code",
   "execution_count": 4,
   "id": "22decd04",
   "metadata": {},
   "outputs": [],
   "source": [
    "def part_2(data):\n",
    "    horizontal = 0\n",
    "    depth = 0\n",
    "    aim = 0\n",
    "    \n",
    "    for direction, d in data:\n",
    "        if direction == 'down':\n",
    "            aim += d\n",
    "        elif direction == 'up':\n",
    "            aim -= d\n",
    "        else:\n",
    "            horizontal += d\n",
    "            depth += aim * d\n",
    "            \n",
    "    return horizontal * depth\n",
    "\n",
    "assert part_2(test_data) == 900"
   ]
  },
  {
   "cell_type": "code",
   "execution_count": 5,
   "id": "27fea310",
   "metadata": {},
   "outputs": [
    {
     "data": {
      "text/plain": [
       "1872757425"
      ]
     },
     "execution_count": 5,
     "metadata": {},
     "output_type": "execute_result"
    }
   ],
   "source": [
    "part_2(data)"
   ]
  },
  {
   "cell_type": "code",
   "execution_count": null,
   "id": "fe554a41",
   "metadata": {},
   "outputs": [],
   "source": []
  }
 ],
 "metadata": {
  "kernelspec": {
   "display_name": "Python 3 (ipykernel)",
   "language": "python",
   "name": "python3"
  },
  "language_info": {
   "codemirror_mode": {
    "name": "ipython",
    "version": 3
   },
   "file_extension": ".py",
   "mimetype": "text/x-python",
   "name": "python",
   "nbconvert_exporter": "python",
   "pygments_lexer": "ipython3",
   "version": "3.9.9"
  }
 },
 "nbformat": 4,
 "nbformat_minor": 5
}
