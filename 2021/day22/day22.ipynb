{
 "cells": [
  {
   "cell_type": "markdown",
   "id": "554c3003",
   "metadata": {},
   "source": [
    "# Day 22\n",
    "## Part 1\n",
    "For each pair of overlapping cuboids remove the overlapping section from one of them. "
   ]
  },
  {
   "cell_type": "code",
   "execution_count": 4,
   "id": "39461610",
   "metadata": {},
   "outputs": [],
   "source": [
    "import parse\n",
    "from collections import namedtuple\n",
    "\n",
    "Cuboid = namedtuple(\"Cuboid\", \"switch, min_x, max_x, min_y, max_y, min_z, max_z\")\n",
    "\n",
    "def parse_data(s):\n",
    "    cuboids = []\n",
    "    for line in s.strip().splitlines():\n",
    "        cuboids.append(Cuboid(*parse.parse(\"{} x={:d}..{:d},y={:d}..{:d},z={:d}..{:d}\", line).fixed))\n",
    "    return cuboids"
   ]
  },
  {
   "cell_type": "code",
   "execution_count": 5,
   "id": "0b5c9efa",
   "metadata": {},
   "outputs": [
    {
     "data": {
      "text/plain": [
       "[Cuboid(switch='on', min_x=-20, max_x=26, min_y=-36, max_y=17, min_z=-47, max_z=7),\n",
       " Cuboid(switch='on', min_x=-20, max_x=33, min_y=-21, max_y=23, min_z=-26, max_z=28),\n",
       " Cuboid(switch='on', min_x=-22, max_x=28, min_y=-29, max_y=23, min_z=-38, max_z=16),\n",
       " Cuboid(switch='on', min_x=-46, max_x=7, min_y=-6, max_y=46, min_z=-50, max_z=-1),\n",
       " Cuboid(switch='on', min_x=-49, max_x=1, min_y=-3, max_y=46, min_z=-24, max_z=28),\n",
       " Cuboid(switch='on', min_x=2, max_x=47, min_y=-22, max_y=22, min_z=-23, max_z=27),\n",
       " Cuboid(switch='on', min_x=-27, max_x=23, min_y=-28, max_y=26, min_z=-21, max_z=29),\n",
       " Cuboid(switch='on', min_x=-39, max_x=5, min_y=-6, max_y=47, min_z=-3, max_z=44),\n",
       " Cuboid(switch='on', min_x=-30, max_x=21, min_y=-8, max_y=43, min_z=-13, max_z=34),\n",
       " Cuboid(switch='on', min_x=-22, max_x=26, min_y=-27, max_y=20, min_z=-29, max_z=19),\n",
       " Cuboid(switch='off', min_x=-48, max_x=-32, min_y=26, max_y=41, min_z=-47, max_z=-37),\n",
       " Cuboid(switch='on', min_x=-12, max_x=35, min_y=6, max_y=50, min_z=-50, max_z=-2),\n",
       " Cuboid(switch='off', min_x=-48, max_x=-32, min_y=-32, max_y=-16, min_z=-15, max_z=-5),\n",
       " Cuboid(switch='on', min_x=-18, max_x=26, min_y=-33, max_y=15, min_z=-7, max_z=46),\n",
       " Cuboid(switch='off', min_x=-40, max_x=-22, min_y=-38, max_y=-28, min_z=23, max_z=41),\n",
       " Cuboid(switch='on', min_x=-16, max_x=35, min_y=-41, max_y=10, min_z=-47, max_z=6),\n",
       " Cuboid(switch='off', min_x=-32, max_x=-23, min_y=11, max_y=30, min_z=-14, max_z=3),\n",
       " Cuboid(switch='on', min_x=-49, max_x=-5, min_y=-3, max_y=45, min_z=-29, max_z=18),\n",
       " Cuboid(switch='off', min_x=18, max_x=30, min_y=-20, max_y=-8, min_z=-3, max_z=13),\n",
       " Cuboid(switch='on', min_x=-41, max_x=9, min_y=-7, max_y=43, min_z=-33, max_z=15),\n",
       " Cuboid(switch='on', min_x=-54112, max_x=-39298, min_y=-85059, max_y=-49293, min_z=-27449, max_z=7877),\n",
       " Cuboid(switch='on', min_x=967, max_x=23432, min_y=45373, max_y=81175, min_z=27513, max_z=53682)]"
      ]
     },
     "execution_count": 5,
     "metadata": {},
     "output_type": "execute_result"
    }
   ],
   "source": [
    "test_string = '''\n",
    "on x=-20..26,y=-36..17,z=-47..7\n",
    "on x=-20..33,y=-21..23,z=-26..28\n",
    "on x=-22..28,y=-29..23,z=-38..16\n",
    "on x=-46..7,y=-6..46,z=-50..-1\n",
    "on x=-49..1,y=-3..46,z=-24..28\n",
    "on x=2..47,y=-22..22,z=-23..27\n",
    "on x=-27..23,y=-28..26,z=-21..29\n",
    "on x=-39..5,y=-6..47,z=-3..44\n",
    "on x=-30..21,y=-8..43,z=-13..34\n",
    "on x=-22..26,y=-27..20,z=-29..19\n",
    "off x=-48..-32,y=26..41,z=-47..-37\n",
    "on x=-12..35,y=6..50,z=-50..-2\n",
    "off x=-48..-32,y=-32..-16,z=-15..-5\n",
    "on x=-18..26,y=-33..15,z=-7..46\n",
    "off x=-40..-22,y=-38..-28,z=23..41\n",
    "on x=-16..35,y=-41..10,z=-47..6\n",
    "off x=-32..-23,y=11..30,z=-14..3\n",
    "on x=-49..-5,y=-3..45,z=-29..18\n",
    "off x=18..30,y=-20..-8,z=-3..13\n",
    "on x=-41..9,y=-7..43,z=-33..15\n",
    "on x=-54112..-39298,y=-85059..-49293,z=-27449..7877\n",
    "on x=967..23432,y=45373..81175,z=27513..53682\n",
    "'''\n",
    "\n",
    "test_data = parse_data(test_string)\n",
    "test_data"
   ]
  },
  {
   "cell_type": "code",
   "execution_count": 10,
   "id": "09c62833",
   "metadata": {},
   "outputs": [],
   "source": [
    "def overlap(c1, c2):\n",
    "    min_x = max(c1.min_x, c2.min_x)\n",
    "    max_x = min(c1.max_x, c2.max_x)\n",
    "    min_y = max(c1.min_y, c2.min_y)\n",
    "    max_y = min(c1.max_y, c2.max_y)    \n",
    "    min_z = max(c1.min_z, c2.min_z)\n",
    "    max_z = min(c1.max_z, c2.max_z)\n",
    "    if min_x <= max_x and min_y <= max_y and min_z <= max_z:\n",
    "        return (min_x, max_x, min_y, max_y, min_z, max_z)\n",
    "    return None\n",
    "\n",
    "def volume(c):\n",
    "    return (c.max_x + 1 - c. min_x) * (c.max_y + 1 - c.min_y) * (c.max_z + 1 - c.min_z)\n",
    "\n",
    "def lit_cubes(data):\n",
    "    cuboids = []\n",
    "    for cuboid in data:\n",
    "        new_cuboids = []\n",
    "        if cuboid.switch == 'on':\n",
    "            new_cuboids.append(cuboid)\n",
    "        for c in cuboids:\n",
    "            if o := overlap(cuboid, c):\n",
    "                min_x, max_x, min_y, max_y, min_z, max_z = o\n",
    "                if min_x > c.min_x:\n",
    "                    new_cuboids.append(Cuboid('on', c.min_x, min_x - 1, c.min_y, c.max_y, c.min_z, c.max_z))\n",
    "                if max_x < c.max_x:\n",
    "                    new_cuboids.append(Cuboid('on', max_x + 1, c.max_x, c.min_y, c.max_y, c.min_z, c.max_z))\n",
    "                if min_y > c.min_y:\n",
    "                    new_cuboids.append(Cuboid('on', min_x, max_x, c.min_y, min_y - 1, c.min_z, c.max_z))\n",
    "                if max_y < c.max_y:\n",
    "                    new_cuboids.append(Cuboid('on', min_x, max_x, max_y + 1, c.max_y, c.min_z, c.max_z))\n",
    "                if min_z > c.min_z:\n",
    "                    new_cuboids.append(Cuboid('on', min_x, max_x, min_y, max_y, c.min_z, min_z - 1))\n",
    "                if max_z < c.max_z:\n",
    "                    new_cuboids.append(Cuboid('on', min_x, max_x, min_y, max_y, max_z + 1, c.max_z))\n",
    "            else:\n",
    "                new_cuboids.append(c)\n",
    "                \n",
    "        cuboids = new_cuboids\n",
    "    return cuboids\n",
    "\n",
    "\n",
    "def part_1(data):\n",
    "    cuboids = [c for c in data if -50 <= c.min_x <= 50]\n",
    "    return sum(volume(c) for c in lit_cubes(cuboids))\n",
    "\n",
    "assert part_1(test_data) == 590784"
   ]
  },
  {
   "cell_type": "code",
   "execution_count": 11,
   "id": "68d57014",
   "metadata": {},
   "outputs": [
    {
     "data": {
      "text/plain": [
       "580810"
      ]
     },
     "execution_count": 11,
     "metadata": {},
     "output_type": "execute_result"
    }
   ],
   "source": [
    "data = parse_data(open('input', 'r').read())\n",
    "part_1(data)"
   ]
  },
  {
   "cell_type": "markdown",
   "id": "dbb5dd1c",
   "metadata": {},
   "source": [
    "## Part 2"
   ]
  },
  {
   "cell_type": "code",
   "execution_count": 12,
   "id": "1e5898bc",
   "metadata": {},
   "outputs": [
    {
     "data": {
      "text/plain": [
       "1265621119006734"
      ]
     },
     "execution_count": 12,
     "metadata": {},
     "output_type": "execute_result"
    }
   ],
   "source": [
    "def part_2(data):\n",
    "    return sum(volume(c) for c in lit_cubes(data))\n",
    "\n",
    "part_2(data)"
   ]
  },
  {
   "cell_type": "code",
   "execution_count": null,
   "id": "0ce66bd5",
   "metadata": {},
   "outputs": [],
   "source": []
  }
 ],
 "metadata": {
  "kernelspec": {
   "display_name": "Python 3 (ipykernel)",
   "language": "python",
   "name": "python3"
  },
  "language_info": {
   "codemirror_mode": {
    "name": "ipython",
    "version": 3
   },
   "file_extension": ".py",
   "mimetype": "text/x-python",
   "name": "python",
   "nbconvert_exporter": "python",
   "pygments_lexer": "ipython3",
   "version": "3.9.9"
  }
 },
 "nbformat": 4,
 "nbformat_minor": 5
}
