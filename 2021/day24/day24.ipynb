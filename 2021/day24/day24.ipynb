{
 "cells": [
  {
   "cell_type": "markdown",
   "id": "554c3003",
   "metadata": {},
   "source": [
    "# Day 24\n",
    "## Part 1\n",
    "Manual compilation time. Each section of code takes a digit into `w` and is then one of two forms. Either\n",
    "```\n",
    "inp w\n",
    "mul x 0\n",
    "add x z\n",
    "mod x 26 # set x to z mod 26\n",
    "div z 1  # do nothing\n",
    "add x 10 # set x to z mod 26 + 10\n",
    "eql x w  # set x to 0, as 1 <= w <= 9\n",
    "eql x 0  # set x to 1\n",
    "mul y 0\n",
    "add y 25\n",
    "mul y x\n",
    "add y 1  # set y to 26\n",
    "mul z y  # multiply z by 26\n",
    "mul y 0\n",
    "add y w\n",
    "add y 2\n",
    "mul y x\n",
    "add z y  # add w + 2 to z\n",
    "```\n",
    "or\n",
    "```\n",
    "inp w\n",
    "mul x 0\n",
    "add x z\n",
    "mod x 26 # set x to z mod 26\n",
    "div z 26 # set z to z/26 - x is now the remainder\n",
    "add x -7 # subtract 7 from x\n",
    "eql x w  # check if x is equal to w\n",
    "eql x 0  # if it is set x to 0 else 1\n",
    "mul y 0\n",
    "add y 25\n",
    "mul y x  \n",
    "add y 1  # set y to 25x + 1 i.e. 1 or 26\n",
    "mul z y  # multiply z by y\n",
    "mul y 0  \n",
    "add y w\n",
    "add y 3  # set y to w + 3\n",
    "mul y x  # multiply by x\n",
    "add z y  # add to z\n",
    "```\n",
    "The first form can be seen as pushing a number onto a stack using modular arithmetic (modulo 26) and the second pops it. So if we only had these chunks of code, `z` would be `w1` (the first input character) + 2. We want `w1 + 2 - 7 == w2` so `x` is zero and does not add anything to `z` at the end. Therefore the highest value that would apply to is `w1 == 9` and `w2 == 4`.\n",
    "\n",
    "In general, for push/pop pairs, we want to find the maximum `w1` and `w2` so that `w1 + a == w2 + b`, where a is the value added in the 16th line of the first block, and b is the value subtracted in the 6th line of the second block. "
   ]
  },
  {
   "cell_type": "code",
   "execution_count": 2,
   "id": "39461610",
   "metadata": {},
   "outputs": [
    {
     "data": {
      "text/plain": [
       "['add x 10',\n",
       " 'add x 15',\n",
       " 'add x 14',\n",
       " 'add x 15',\n",
       " 'add x -8',\n",
       " 'add x 10',\n",
       " 'add x -16',\n",
       " 'add x -4',\n",
       " 'add x 11',\n",
       " 'add x -3',\n",
       " 'add x 12',\n",
       " 'add x -7',\n",
       " 'add x -15',\n",
       " 'add x -7']"
      ]
     },
     "execution_count": 2,
     "metadata": {},
     "output_type": "execute_result"
    }
   ],
   "source": [
    "code = open('input', 'r').read().splitlines()\n",
    "code[5::18]"
   ]
  },
  {
   "cell_type": "code",
   "execution_count": 4,
   "id": "bd62076f",
   "metadata": {},
   "outputs": [],
   "source": [
    "pop_values = [int(line.split()[2]) for line in code[5::18]]\n",
    "push_values = [int(line.split()[2]) for line in code[15::18]]"
   ]
  },
  {
   "cell_type": "code",
   "execution_count": 5,
   "id": "5c9eb25a",
   "metadata": {},
   "outputs": [
    {
     "data": {
      "text/plain": [
       "[10, 15, 14, 15, -8, 10, -16, -4, 11, -3, 12, -7, -15, -7]"
      ]
     },
     "execution_count": 5,
     "metadata": {},
     "output_type": "execute_result"
    }
   ],
   "source": [
    "pop_values"
   ]
  },
  {
   "cell_type": "code",
   "execution_count": 6,
   "id": "5c618eb2",
   "metadata": {},
   "outputs": [
    {
     "data": {
      "text/plain": [
       "[2, 16, 9, 0, 1, 12, 6, 6, 3, 5, 9, 3, 2, 3]"
      ]
     },
     "execution_count": 6,
     "metadata": {},
     "output_type": "execute_result"
    }
   ],
   "source": [
    "push_values"
   ]
  },
  {
   "cell_type": "markdown",
   "id": "b0ab6f05",
   "metadata": {},
   "source": [
    "Get the value of interest depending on whether or not it is a pop or push operation."
   ]
  },
  {
   "cell_type": "code",
   "execution_count": 7,
   "id": "05d984cc",
   "metadata": {},
   "outputs": [],
   "source": [
    "values = [pop if pop < 0 else push for pop, push in zip(pop_values, push_values)]"
   ]
  },
  {
   "cell_type": "code",
   "execution_count": 8,
   "id": "51c22473",
   "metadata": {},
   "outputs": [
    {
     "data": {
      "text/plain": [
       "[2, 16, 9, 0, -8, 12, -16, -4, 3, -3, 9, -7, -15, -7]"
      ]
     },
     "execution_count": 8,
     "metadata": {},
     "output_type": "execute_result"
    }
   ],
   "source": [
    "values"
   ]
  },
  {
   "cell_type": "code",
   "execution_count": 9,
   "id": "895aebc7",
   "metadata": {},
   "outputs": [
    {
     "data": {
      "text/plain": [
       "(9, 4)"
      ]
     },
     "execution_count": 9,
     "metadata": {},
     "output_type": "execute_result"
    }
   ],
   "source": [
    "def highest_ws(a, b):\n",
    "    if a > b:\n",
    "        return (9 + b - a, 9)\n",
    "    else:\n",
    "        return (9, 9 + a - b)\n",
    "    \n",
    "highest_ws(2, 7)"
   ]
  },
  {
   "cell_type": "markdown",
   "id": "5d4ee1d6",
   "metadata": {},
   "source": [
    "There has to be a better way of reconstructing the number than a dictionary where the keys are the index to the position of the digit in the number but I can't think of it right now."
   ]
  },
  {
   "cell_type": "code",
   "execution_count": 19,
   "id": "18059eba",
   "metadata": {},
   "outputs": [],
   "source": [
    "n = {}\n",
    "stack = []\n",
    "\n",
    "for i, x in enumerate(values):\n",
    "    if x >= 0:\n",
    "        stack.append((x, i))\n",
    "    else:\n",
    "        a, j = stack.pop()\n",
    "        w1, w2 = highest_ws(a, -x)\n",
    "        n[j] = w1\n",
    "        n[i] = w2"
   ]
  },
  {
   "cell_type": "code",
   "execution_count": 20,
   "id": "88632ee4",
   "metadata": {},
   "outputs": [
    {
     "data": {
      "text/plain": [
       "{3: 9,\n",
       " 4: 1,\n",
       " 5: 9,\n",
       " 6: 5,\n",
       " 2: 4,\n",
       " 7: 9,\n",
       " 8: 9,\n",
       " 9: 9,\n",
       " 10: 7,\n",
       " 11: 9,\n",
       " 1: 8,\n",
       " 12: 9,\n",
       " 0: 9,\n",
       " 13: 4}"
      ]
     },
     "execution_count": 20,
     "metadata": {},
     "output_type": "execute_result"
    }
   ],
   "source": [
    "n"
   ]
  },
  {
   "cell_type": "code",
   "execution_count": 21,
   "id": "1f730a71",
   "metadata": {},
   "outputs": [
    {
     "data": {
      "text/plain": [
       "'98491959997994'"
      ]
     },
     "execution_count": 21,
     "metadata": {},
     "output_type": "execute_result"
    }
   ],
   "source": [
    "''.join(str(n[i]) for i in range(len(n)))"
   ]
  },
  {
   "cell_type": "markdown",
   "id": "c9918655",
   "metadata": {},
   "source": [
    "## Part 2"
   ]
  },
  {
   "cell_type": "code",
   "execution_count": 22,
   "id": "f09b5a61",
   "metadata": {},
   "outputs": [
    {
     "data": {
      "text/plain": [
       "(6, 1)"
      ]
     },
     "execution_count": 22,
     "metadata": {},
     "output_type": "execute_result"
    }
   ],
   "source": [
    "def lowest_ws(a, b):\n",
    "    if a > b:\n",
    "        return (1, 1 + a - b)\n",
    "    else:\n",
    "        return (1 + b - a, 1)\n",
    "    \n",
    "lowest_ws(2, 7)"
   ]
  },
  {
   "cell_type": "code",
   "execution_count": 23,
   "id": "fda45513",
   "metadata": {},
   "outputs": [],
   "source": [
    "n = {}\n",
    "stack = []\n",
    "\n",
    "for i, x in enumerate(values):\n",
    "    if x >= 0:\n",
    "        stack.append((x, i))\n",
    "    else:\n",
    "        a, j = stack.pop()\n",
    "        w1, w2 = lowest_ws(a, -x)\n",
    "        n[j] = w1\n",
    "        n[i] = w2"
   ]
  },
  {
   "cell_type": "code",
   "execution_count": 24,
   "id": "e3fa6cbe",
   "metadata": {},
   "outputs": [
    {
     "data": {
      "text/plain": [
       "'61191516111321'"
      ]
     },
     "execution_count": 24,
     "metadata": {},
     "output_type": "execute_result"
    }
   ],
   "source": [
    "''.join(str(n[i]) for i in range(len(n)))"
   ]
  },
  {
   "cell_type": "code",
   "execution_count": null,
   "id": "d99da8d9",
   "metadata": {},
   "outputs": [],
   "source": [
    "def run(s):\n",
    "    answer = []\n",
    "    reg = {'x': 0, 'y': 0, 'z': 0}\n",
    "    code_blocks = s.split('inp w\\n')\n",
    "    for block in code_blocks:\n",
    "        for line in block.strip().splitlines():\n",
    "            fields = line.split()\n",
    "            if fields[0] == 'add':\n",
    "                reg[fields[1]] = "
   ]
  }
 ],
 "metadata": {
  "kernelspec": {
   "display_name": "Python 3 (ipykernel)",
   "language": "python",
   "name": "python3"
  },
  "language_info": {
   "codemirror_mode": {
    "name": "ipython",
    "version": 3
   },
   "file_extension": ".py",
   "mimetype": "text/x-python",
   "name": "python",
   "nbconvert_exporter": "python",
   "pygments_lexer": "ipython3",
   "version": "3.9.9"
  }
 },
 "nbformat": 4,
 "nbformat_minor": 5
}
