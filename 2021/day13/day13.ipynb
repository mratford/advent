{
 "cells": [
  {
   "cell_type": "markdown",
   "id": "554c3003",
   "metadata": {},
   "source": [
    "# Day 13\n",
    "## Part 1"
   ]
  },
  {
   "cell_type": "code",
   "execution_count": 1,
   "id": "39461610",
   "metadata": {},
   "outputs": [
    {
     "data": {
      "text/plain": [
       "({(0, 3),\n",
       "  (0, 13),\n",
       "  (0, 14),\n",
       "  (1, 10),\n",
       "  (2, 14),\n",
       "  (3, 0),\n",
       "  (3, 4),\n",
       "  (4, 1),\n",
       "  (4, 11),\n",
       "  (6, 0),\n",
       "  (6, 10),\n",
       "  (6, 12),\n",
       "  (8, 4),\n",
       "  (8, 10),\n",
       "  (9, 0),\n",
       "  (9, 10),\n",
       "  (10, 4),\n",
       "  (10, 12)},\n",
       " [('y', 7), ('x', 5)])"
      ]
     },
     "execution_count": 1,
     "metadata": {},
     "output_type": "execute_result"
    }
   ],
   "source": [
    "import parse\n",
    "\n",
    "def parse_data(s):\n",
    "    dots = set()\n",
    "    folds = []\n",
    "    for line in s.strip().splitlines():\n",
    "        if r := parse.parse(\"{x:d},{y:d}\", line.strip()):\n",
    "            dots.add((r['x'], r['y']))\n",
    "        elif r:= parse.parse(\"fold along {axis}={fold:d}\", line.strip()):\n",
    "            folds.append((r['axis'], r['fold']))\n",
    "    return dots, folds\n",
    "            \n",
    "\n",
    "test_string = '''\n",
    "6,10\n",
    "0,14\n",
    "9,10\n",
    "0,3\n",
    "10,4\n",
    "4,11\n",
    "6,0\n",
    "6,12\n",
    "4,1\n",
    "0,13\n",
    "10,12\n",
    "3,4\n",
    "3,0\n",
    "8,4\n",
    "1,10\n",
    "2,14\n",
    "8,10\n",
    "9,0\n",
    "\n",
    "fold along y=7\n",
    "fold along x=5\n",
    "'''\n",
    "\n",
    "test_data = parse_data(test_string)\n",
    "test_data"
   ]
  },
  {
   "cell_type": "markdown",
   "id": "0e474f2d",
   "metadata": {},
   "source": [
    "Writing three lines where two will do because I've installed Python 3.10."
   ]
  },
  {
   "cell_type": "code",
   "execution_count": 2,
   "id": "c8ad5ade",
   "metadata": {},
   "outputs": [],
   "source": [
    "def reposition(p, fold):\n",
    "    return p if p < fold else 2 * fold - p\n",
    "\n",
    "def fold(dots, axis, fold):\n",
    "    match axis:\n",
    "        case \"x\":\n",
    "            return {(reposition(x, fold), y) for x, y in dots}\n",
    "        case \"y\":\n",
    "            return {(x, reposition(y, fold)) for x, y in dots}\n",
    "        \n",
    "def part_1(dots, folds):\n",
    "    return len(fold(dots, *folds[0]))\n",
    "\n",
    "assert part_1(*test_data) == 17"
   ]
  },
  {
   "cell_type": "code",
   "execution_count": 3,
   "id": "d006b26c",
   "metadata": {},
   "outputs": [
    {
     "data": {
      "text/plain": [
       "712"
      ]
     },
     "execution_count": 3,
     "metadata": {},
     "output_type": "execute_result"
    }
   ],
   "source": [
    "data = parse_data(open('input', 'r').read())\n",
    "part_1(*data)"
   ]
  },
  {
   "cell_type": "markdown",
   "id": "a66d77e2",
   "metadata": {},
   "source": [
    "## Part 2\n",
    "\n",
    "So obnoxious, both reducing and using nested comprehensions."
   ]
  },
  {
   "cell_type": "code",
   "execution_count": 4,
   "id": "f54ae6c7",
   "metadata": {},
   "outputs": [
    {
     "name": "stdout",
     "output_type": "stream",
     "text": [
      "#####\n",
      "#...#\n",
      "#...#\n",
      "#...#\n",
      "#####\n"
     ]
    }
   ],
   "source": [
    "from functools import reduce\n",
    "\n",
    "def part_2(dots, folds):\n",
    "    dots = reduce(lambda d, f: fold(d, *f), folds, dots)\n",
    "    max_x = max(x for x, _ in dots)\n",
    "    max_y = max(y for _, y in dots)\n",
    "    return '\\n'.join(''.join('#' if (x, y) in dots else '.' \n",
    "                             for x in range(max_x + 1)) \n",
    "                     for y in range(max_y + 1))\n",
    "\n",
    "print(part_2(*test_data))"
   ]
  },
  {
   "cell_type": "code",
   "execution_count": 5,
   "id": "8545bff1",
   "metadata": {},
   "outputs": [
    {
     "name": "stdout",
     "output_type": "stream",
     "text": [
      "###..#....#..#.####...##.###....##.####\n",
      "#..#.#....#..#.#.......#.#..#....#.#...\n",
      "###..#....####.###.....#.#..#....#.###.\n",
      "#..#.#....#..#.#.......#.###.....#.#...\n",
      "#..#.#....#..#.#....#..#.#....#..#.#...\n",
      "###..####.#..#.#.....##..#.....##..#...\n"
     ]
    }
   ],
   "source": [
    "print(part_2(*data))"
   ]
  },
  {
   "cell_type": "code",
   "execution_count": null,
   "id": "b182ca70",
   "metadata": {},
   "outputs": [],
   "source": []
  }
 ],
 "metadata": {
  "kernelspec": {
   "display_name": "Python 3 (ipykernel)",
   "language": "python",
   "name": "python3"
  },
  "language_info": {
   "codemirror_mode": {
    "name": "ipython",
    "version": 3
   },
   "file_extension": ".py",
   "mimetype": "text/x-python",
   "name": "python",
   "nbconvert_exporter": "python",
   "pygments_lexer": "ipython3",
   "version": "3.10.1"
  }
 },
 "nbformat": 4,
 "nbformat_minor": 5
}
