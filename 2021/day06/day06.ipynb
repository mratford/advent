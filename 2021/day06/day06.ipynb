{
 "cells": [
  {
   "cell_type": "markdown",
   "id": "554c3003",
   "metadata": {},
   "source": [
    "# Day 6\n",
    "## Part 1\n",
    "The \"exponential\" in the project description gives a hint of where we're going here. Let's try keeping a dictionary of fish counts and see how far that gets us, which means roughly `10 * number of days` calculations which hopefully won't be too bad if the latter is reasonable for Part 2."
   ]
  },
  {
   "cell_type": "code",
   "execution_count": 5,
   "id": "39461610",
   "metadata": {},
   "outputs": [],
   "source": [
    "from collections import defaultdict\n",
    "\n",
    "def parse_data(s):\n",
    "    fish = [int(x) for x in s.split(',')]\n",
    "    d = defaultdict(int)\n",
    "    for f in fish:\n",
    "        d[f] += 1\n",
    "    return d\n",
    "        \n",
    "        \n",
    "def generations(fish_dict, days=80):\n",
    "    for _ in range(days):\n",
    "        new_dict = defaultdict(int)\n",
    "        for i in range(1, 9):\n",
    "            new_dict[i-1] = fish_dict[i]\n",
    "        new_dict[8] = fish_dict[0]\n",
    "        new_dict[6] += fish_dict[0]\n",
    "        fish_dict = new_dict\n",
    "    return fish_dict\n",
    "\n",
    "\n",
    "def part_one(fish):\n",
    "    return sum(generations(fish).values())\n",
    "\n",
    "\n",
    "test_string = '3,4,3,1,2'\n",
    "test_data = parse_data(test_string)\n",
    "assert part_one(test_data) == 5934"
   ]
  },
  {
   "cell_type": "code",
   "execution_count": 7,
   "id": "66341b3b",
   "metadata": {},
   "outputs": [
    {
     "data": {
      "text/plain": [
       "365862"
      ]
     },
     "execution_count": 7,
     "metadata": {},
     "output_type": "execute_result"
    }
   ],
   "source": [
    "data = parse_data(open('input', 'r').read())\n",
    "part_one(data)"
   ]
  },
  {
   "cell_type": "markdown",
   "id": "4ec43f12",
   "metadata": {},
   "source": [
    "## Part 2\n",
    "Less fiendish than I expected."
   ]
  },
  {
   "cell_type": "code",
   "execution_count": 9,
   "id": "6850370e",
   "metadata": {},
   "outputs": [],
   "source": [
    "def part_two(fish):\n",
    "    return sum(generations(fish, days=256).values())\n",
    "\n",
    "assert part_two(test_data) == 26984457539"
   ]
  },
  {
   "cell_type": "code",
   "execution_count": 10,
   "id": "16f6a43b",
   "metadata": {},
   "outputs": [
    {
     "data": {
      "text/plain": [
       "1653250886439"
      ]
     },
     "execution_count": 10,
     "metadata": {},
     "output_type": "execute_result"
    }
   ],
   "source": [
    "part_two(data)"
   ]
  },
  {
   "cell_type": "code",
   "execution_count": null,
   "id": "26f3e3d0",
   "metadata": {},
   "outputs": [],
   "source": []
  }
 ],
 "metadata": {
  "kernelspec": {
   "display_name": "Python 3 (ipykernel)",
   "language": "python",
   "name": "python3"
  },
  "language_info": {
   "codemirror_mode": {
    "name": "ipython",
    "version": 3
   },
   "file_extension": ".py",
   "mimetype": "text/x-python",
   "name": "python",
   "nbconvert_exporter": "python",
   "pygments_lexer": "ipython3",
   "version": "3.9.9"
  }
 },
 "nbformat": 4,
 "nbformat_minor": 5
}
