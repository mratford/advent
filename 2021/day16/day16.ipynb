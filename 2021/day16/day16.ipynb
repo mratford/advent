{
 "cells": [
  {
   "cell_type": "markdown",
   "id": "554c3003",
   "metadata": {},
   "source": [
    "# Day 16\n",
    "## Part 1\n",
    "I'm so ill that I'm using classes and inheritance. Really not thinking straight.\n",
    "\n",
    "This is really the sort of problem that demands more robustness than it's worth implementing for a run-once solution."
   ]
  },
  {
   "cell_type": "code",
   "execution_count": 1,
   "id": "39461610",
   "metadata": {},
   "outputs": [],
   "source": [
    "from dataclasses import dataclass, field\n",
    "from typing import List\n",
    "\n",
    "\n",
    "@dataclass \n",
    "class Packet:\n",
    "    version: int\n",
    "    type_id: int\n",
    "    \n",
    "    def version_sum(self):\n",
    "        return self.version\n",
    "    \n",
    "    \n",
    "@dataclass\n",
    "class LiteralPacket(Packet):\n",
    "    value: int\n",
    "        \n",
    "        \n",
    "@dataclass\n",
    "class OperatorPacket(Packet):\n",
    "    subpackets: List[Packet] = field(default_factory=list)\n",
    "        \n",
    "    def version_sum(self):\n",
    "        return self.version + sum(sp.version_sum() for sp in self.subpackets)"
   ]
  },
  {
   "cell_type": "markdown",
   "id": "de1d596a",
   "metadata": {},
   "source": [
    "Define a cod-bitstream class rather than keeping track of a pointer to the current character. The gotcha here is when you need to read in packets up to a certain bit length, so define functions to deal with consumed bit counts.   "
   ]
  },
  {
   "cell_type": "code",
   "execution_count": 2,
   "id": "ccb8ebfa",
   "metadata": {},
   "outputs": [
    {
     "data": {
      "text/plain": [
       "LiteralPacket(version=6, type_id=4, value=2021)"
      ]
     },
     "execution_count": 2,
     "metadata": {},
     "output_type": "execute_result"
    }
   ],
   "source": [
    "@dataclass\n",
    "class Bitstream:\n",
    "    b: str\n",
    "    i: int = 0\n",
    "        \n",
    "    def read(self, n):\n",
    "        x = int(self.b[self.i:self.i + n], 2)\n",
    "        self.i += n\n",
    "        return x\n",
    "    \n",
    "    def count_start(self):\n",
    "        return self.i\n",
    "        \n",
    "    def count(self, count_start):\n",
    "        return self.i - count_start\n",
    "\n",
    "\n",
    "class PacketParser:\n",
    "    def __init__(self, hex_string):\n",
    "        self.b = Bitstream(''.join([f'{int(c, 16):04b}' \n",
    "                                    for c in hex_string]))\n",
    "        self.packet = self.read_packet()\n",
    "    \n",
    "    def read_packet(self):\n",
    "        version = self.b.read(3)\n",
    "        type_id = self.b.read(3)\n",
    "\n",
    "        if type_id == 4:\n",
    "            val = 0\n",
    "            reading_value = self.b.read(1)\n",
    "            val = self.b.read(4)\n",
    "            while reading_value:\n",
    "                reading_value = self.b.read(1)   \n",
    "                val = val * 16 + self.b.read(4)\n",
    "            return LiteralPacket(version, type_id, val)\n",
    "        else:\n",
    "            packet = OperatorPacket(version, type_id)\n",
    "            length_type = self.b.read(1)\n",
    "            if length_type == 0:\n",
    "                length = self.b.read(15)\n",
    "                count_start = self.b.count_start()\n",
    "                while self.b.count(count_start) < length:\n",
    "                    subpacket = self.read_packet()\n",
    "                    packet.subpackets.append(subpacket)\n",
    "            elif length_type == 1:\n",
    "                length = self.b.read(11)\n",
    "                for _ in range(length):\n",
    "                    subpacket = self.read_packet()\n",
    "                    packet.subpackets.append(subpacket)\n",
    "            return packet\n",
    "        \n",
    "        \n",
    "def parse_data(s):\n",
    "    return PacketParser(s).packet\n",
    "    \n",
    "parse_data('D2FE28')"
   ]
  },
  {
   "cell_type": "code",
   "execution_count": 3,
   "id": "d4d6bb62",
   "metadata": {},
   "outputs": [
    {
     "data": {
      "text/plain": [
       "OperatorPacket(version=1, type_id=6, subpackets=[LiteralPacket(version=6, type_id=4, value=10), LiteralPacket(version=2, type_id=4, value=20)])"
      ]
     },
     "execution_count": 3,
     "metadata": {},
     "output_type": "execute_result"
    }
   ],
   "source": [
    "PacketParser('38006F45291200').packet"
   ]
  },
  {
   "cell_type": "code",
   "execution_count": 4,
   "id": "24f51af9",
   "metadata": {},
   "outputs": [
    {
     "data": {
      "text/plain": [
       "OperatorPacket(version=7, type_id=3, subpackets=[LiteralPacket(version=2, type_id=4, value=1), LiteralPacket(version=4, type_id=4, value=2), LiteralPacket(version=1, type_id=4, value=3)])"
      ]
     },
     "execution_count": 4,
     "metadata": {},
     "output_type": "execute_result"
    }
   ],
   "source": [
    "PacketParser('EE00D40C823060').packet"
   ]
  },
  {
   "cell_type": "code",
   "execution_count": 5,
   "id": "0bdf6c34",
   "metadata": {},
   "outputs": [
    {
     "data": {
      "text/plain": [
       "OperatorPacket(version=4, type_id=2, subpackets=[OperatorPacket(version=1, type_id=2, subpackets=[OperatorPacket(version=5, type_id=2, subpackets=[LiteralPacket(version=6, type_id=4, value=15)])])])"
      ]
     },
     "execution_count": 5,
     "metadata": {},
     "output_type": "execute_result"
    }
   ],
   "source": [
    "def part_1(data):\n",
    "    return data.version_sum()\n",
    "\n",
    "p = parse_data('8A004A801A8002F478')\n",
    "p"
   ]
  },
  {
   "cell_type": "code",
   "execution_count": 6,
   "id": "cedb4289",
   "metadata": {},
   "outputs": [],
   "source": [
    "assert part_1(p) == 16"
   ]
  },
  {
   "cell_type": "code",
   "execution_count": 7,
   "id": "1197391a",
   "metadata": {},
   "outputs": [
    {
     "data": {
      "text/plain": [
       "OperatorPacket(version=3, type_id=0, subpackets=[OperatorPacket(version=0, type_id=0, subpackets=[LiteralPacket(version=0, type_id=4, value=10), LiteralPacket(version=5, type_id=4, value=11)]), OperatorPacket(version=1, type_id=0, subpackets=[LiteralPacket(version=0, type_id=4, value=12), LiteralPacket(version=3, type_id=4, value=13)])])"
      ]
     },
     "execution_count": 7,
     "metadata": {},
     "output_type": "execute_result"
    }
   ],
   "source": [
    "q = parse_data('620080001611562C8802118E34')\n",
    "q"
   ]
  },
  {
   "cell_type": "code",
   "execution_count": 8,
   "id": "e0661c68",
   "metadata": {},
   "outputs": [
    {
     "data": {
      "text/plain": [
       "OperatorPacket(version=6, type_id=0, subpackets=[OperatorPacket(version=0, type_id=0, subpackets=[LiteralPacket(version=0, type_id=4, value=10), LiteralPacket(version=6, type_id=4, value=11)]), OperatorPacket(version=4, type_id=0, subpackets=[LiteralPacket(version=7, type_id=4, value=12), LiteralPacket(version=0, type_id=4, value=13)])])"
      ]
     },
     "execution_count": 8,
     "metadata": {},
     "output_type": "execute_result"
    }
   ],
   "source": [
    "r = parse_data('C0015000016115A2E0802F182340')\n",
    "r"
   ]
  },
  {
   "cell_type": "code",
   "execution_count": 9,
   "id": "03da5629",
   "metadata": {},
   "outputs": [],
   "source": [
    "assert part_1(q) == 12"
   ]
  },
  {
   "cell_type": "code",
   "execution_count": 10,
   "id": "7e22c5f3",
   "metadata": {},
   "outputs": [],
   "source": [
    "assert part_1(r) == 23"
   ]
  },
  {
   "cell_type": "code",
   "execution_count": 11,
   "id": "48e65e6d",
   "metadata": {},
   "outputs": [],
   "source": [
    "data = parse_data(open('input', 'r').read().strip())"
   ]
  },
  {
   "cell_type": "code",
   "execution_count": 12,
   "id": "652fe88e",
   "metadata": {},
   "outputs": [
    {
     "data": {
      "text/plain": [
       "891"
      ]
     },
     "execution_count": 12,
     "metadata": {},
     "output_type": "execute_result"
    }
   ],
   "source": [
    "part_1(data)"
   ]
  },
  {
   "cell_type": "markdown",
   "id": "fb675fde",
   "metadata": {},
   "source": [
    "## Part 2\n",
    "\n",
    "If I'd known that this was coming I would probably have just implemented a tree rather than the class above. Never mind, add an additional calculation function to the packet classes."
   ]
  },
  {
   "cell_type": "code",
   "execution_count": 13,
   "id": "a8d1e3f0",
   "metadata": {},
   "outputs": [],
   "source": [
    "import math\n",
    "\n",
    "\n",
    "@dataclass \n",
    "class Packet:\n",
    "    version: int\n",
    "    type_id: int\n",
    "    \n",
    "    def version_sum(self):\n",
    "        return self.version\n",
    "    \n",
    "    def calculation(self):\n",
    "        pass\n",
    "    \n",
    "    \n",
    "@dataclass\n",
    "class LiteralPacket(Packet):\n",
    "    value: int\n",
    "        \n",
    "    def calculation(self):\n",
    "        return(self.value)\n",
    "        \n",
    "        \n",
    "@dataclass\n",
    "class OperatorPacket(Packet):\n",
    "    subpackets: List[Packet] = field(default_factory=list)\n",
    "        \n",
    "    def version_sum(self):\n",
    "        return self.version + sum(sp.version_sum() for sp in self.subpackets)\n",
    "    \n",
    "    def calculation(self):\n",
    "        fd = {\n",
    "            0: sum,\n",
    "            1: math.prod,\n",
    "            2: min,\n",
    "            3: max,\n",
    "            5: lambda xs: 1 if xs[0] > xs[1] else 0,\n",
    "            6: lambda xs: 1 if xs[0] < xs[1] else 0,\n",
    "            7: lambda xs: 1 if xs[0] == xs[1] else 0\n",
    "        }\n",
    "        f = fd[self.type_id]\n",
    "        return f([sp.calculation() for sp in self.subpackets])\n",
    "    \n",
    "def part_2(data):\n",
    "    return data.calculation()"
   ]
  },
  {
   "cell_type": "code",
   "execution_count": 14,
   "id": "502d2084",
   "metadata": {},
   "outputs": [
    {
     "data": {
      "text/plain": [
       "3"
      ]
     },
     "execution_count": 14,
     "metadata": {},
     "output_type": "execute_result"
    }
   ],
   "source": [
    "PacketParser('C200B40A82').packet.calculation()"
   ]
  },
  {
   "cell_type": "code",
   "execution_count": 15,
   "id": "e77c8f08",
   "metadata": {},
   "outputs": [
    {
     "data": {
      "text/plain": [
       "1"
      ]
     },
     "execution_count": 15,
     "metadata": {},
     "output_type": "execute_result"
    }
   ],
   "source": [
    "PacketParser('9C0141080250320F1802104A08').packet.calculation()"
   ]
  },
  {
   "cell_type": "code",
   "execution_count": 16,
   "id": "483566fe",
   "metadata": {},
   "outputs": [
    {
     "data": {
      "text/plain": [
       "673042777597"
      ]
     },
     "execution_count": 16,
     "metadata": {},
     "output_type": "execute_result"
    }
   ],
   "source": [
    "data = parse_data(open('input', 'r').read().strip())\n",
    "part_2(data)"
   ]
  },
  {
   "cell_type": "code",
   "execution_count": null,
   "id": "48dc4137",
   "metadata": {},
   "outputs": [],
   "source": []
  }
 ],
 "metadata": {
  "kernelspec": {
   "display_name": "Python 3 (ipykernel)",
   "language": "python",
   "name": "python3"
  },
  "language_info": {
   "codemirror_mode": {
    "name": "ipython",
    "version": 3
   },
   "file_extension": ".py",
   "mimetype": "text/x-python",
   "name": "python",
   "nbconvert_exporter": "python",
   "pygments_lexer": "ipython3",
   "version": "3.10.1"
  }
 },
 "nbformat": 4,
 "nbformat_minor": 5
}
