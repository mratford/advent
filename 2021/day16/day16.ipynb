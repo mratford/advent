{
 "cells": [
  {
   "cell_type": "markdown",
   "id": "554c3003",
   "metadata": {},
   "source": [
    "# Day 16\n",
    "## Part 1"
   ]
  },
  {
   "cell_type": "code",
   "execution_count": 65,
   "id": "39461610",
   "metadata": {},
   "outputs": [],
   "source": [
    "from dataclasses import dataclass, field\n",
    "from typing import List\n",
    "\n",
    "\n",
    "@dataclass \n",
    "class Packet:\n",
    "    version: int\n",
    "    type_id: int\n",
    "    \n",
    "    def version_sum(self):\n",
    "        return self.version\n",
    "    \n",
    "    \n",
    "@dataclass\n",
    "class LiteralPacket(Packet):\n",
    "    value: int\n",
    "        \n",
    "        \n",
    "@dataclass\n",
    "class OperatorPacket(Packet):\n",
    "    subpackets: List[Packet] = field(default_factory=list)\n",
    "        \n",
    "    def version_sum(self):\n",
    "        return self.version + sum(sp.version_sum() for sp in self.subpackets)"
   ]
  },
  {
   "cell_type": "code",
   "execution_count": 66,
   "id": "ccb8ebfa",
   "metadata": {},
   "outputs": [
    {
     "data": {
      "text/plain": [
       "LiteralPacket(version=6, type_id=4, value=2021)"
      ]
     },
     "execution_count": 66,
     "metadata": {},
     "output_type": "execute_result"
    }
   ],
   "source": [
    "def hex_to_bin(s):\n",
    "    return ''.join([f'{int(c, 16):04b}' for c in s])\n",
    "\n",
    "def read_packet(b, i=0):\n",
    "    version = int(b[i:i + 3], 2)\n",
    "    type_id = int(b[i + 3:i + 6], 2)\n",
    "    \n",
    "    if type_id == 4:\n",
    "        bval = ''\n",
    "        i += 6\n",
    "        reading_value = b[i]\n",
    "        while reading_value:\n",
    "            bval = bval + b[i + 1: i + 5]\n",
    "            reading_value = b[i] == '1'\n",
    "            i += 5\n",
    "        return LiteralPacket(version, type_id, int(bval, 2)), i\n",
    "    else:\n",
    "        packet = OperatorPacket(version, type_id)\n",
    "        length_type = b[i + 6]\n",
    "        if length_type == '0':\n",
    "            length = int(b[i + 7:i + 22], 2)\n",
    "            i += 22\n",
    "            end = 22 + length\n",
    "            while i < end:\n",
    "                subpacket, i = read_packet(b, i)\n",
    "                packet.subpackets.append(subpacket)\n",
    "        elif length_type == '1':\n",
    "            length = int(b[i + 7:i + 18], 2)\n",
    "            i += 18\n",
    "            for _ in range(length):\n",
    "                subpacket, i = read_packet(b, i)\n",
    "                packet.subpackets.append(subpacket)\n",
    "        return packet, i\n",
    "    \n",
    "def parse_data(s):\n",
    "    return read_packet(hex_to_bin(s))[0]\n",
    "\n",
    "parse_data('D2FE28')"
   ]
  },
  {
   "cell_type": "code",
   "execution_count": 67,
   "id": "d4d6bb62",
   "metadata": {},
   "outputs": [
    {
     "data": {
      "text/plain": [
       "OperatorPacket(version=1, type_id=6, subpackets=[LiteralPacket(version=6, type_id=4, value=10), LiteralPacket(version=2, type_id=4, value=20)])"
      ]
     },
     "execution_count": 67,
     "metadata": {},
     "output_type": "execute_result"
    }
   ],
   "source": [
    "parse_data('38006F45291200')"
   ]
  },
  {
   "cell_type": "code",
   "execution_count": 68,
   "id": "24f51af9",
   "metadata": {},
   "outputs": [
    {
     "data": {
      "text/plain": [
       "OperatorPacket(version=7, type_id=3, subpackets=[LiteralPacket(version=2, type_id=4, value=1), LiteralPacket(version=4, type_id=4, value=2), LiteralPacket(version=1, type_id=4, value=3)])"
      ]
     },
     "execution_count": 68,
     "metadata": {},
     "output_type": "execute_result"
    }
   ],
   "source": [
    "parse_data('EE00D40C823060')"
   ]
  },
  {
   "cell_type": "code",
   "execution_count": 69,
   "id": "0bdf6c34",
   "metadata": {},
   "outputs": [
    {
     "data": {
      "text/plain": [
       "OperatorPacket(version=4, type_id=2, subpackets=[OperatorPacket(version=1, type_id=2, subpackets=[OperatorPacket(version=5, type_id=2, subpackets=[])])])"
      ]
     },
     "execution_count": 69,
     "metadata": {},
     "output_type": "execute_result"
    }
   ],
   "source": [
    "def part_1(data):\n",
    "    return data.version_sum()\n",
    "\n",
    "p = parse_data('8A004A801A8002F478')\n",
    "p"
   ]
  },
  {
   "cell_type": "code",
   "execution_count": 70,
   "id": "cedb4289",
   "metadata": {},
   "outputs": [
    {
     "data": {
      "text/plain": [
       "10"
      ]
     },
     "execution_count": 70,
     "metadata": {},
     "output_type": "execute_result"
    }
   ],
   "source": [
    "part_1(p)"
   ]
  },
  {
   "cell_type": "code",
   "execution_count": 71,
   "id": "1197391a",
   "metadata": {},
   "outputs": [
    {
     "data": {
      "text/plain": [
       "OperatorPacket(version=3, type_id=0, subpackets=[OperatorPacket(version=0, type_id=0, subpackets=[LiteralPacket(version=0, type_id=4, value=10)]), LiteralPacket(version=5, type_id=4, value=11)])"
      ]
     },
     "execution_count": 71,
     "metadata": {},
     "output_type": "execute_result"
    }
   ],
   "source": [
    "q = parse_data('620080001611562C8802118E34')\n",
    "q"
   ]
  },
  {
   "cell_type": "code",
   "execution_count": 72,
   "id": "e0661c68",
   "metadata": {},
   "outputs": [
    {
     "data": {
      "text/plain": [
       "OperatorPacket(version=6, type_id=0, subpackets=[OperatorPacket(version=0, type_id=0, subpackets=[]), LiteralPacket(version=0, type_id=4, value=10), LiteralPacket(version=6, type_id=4, value=11), OperatorPacket(version=4, type_id=0, subpackets=[LiteralPacket(version=7, type_id=4, value=12), LiteralPacket(version=0, type_id=4, value=13)])])"
      ]
     },
     "execution_count": 72,
     "metadata": {},
     "output_type": "execute_result"
    }
   ],
   "source": [
    "r = parse_data('C0015000016115A2E0802F182340')\n",
    "r"
   ]
  },
  {
   "cell_type": "code",
   "execution_count": 73,
   "id": "03da5629",
   "metadata": {},
   "outputs": [
    {
     "data": {
      "text/plain": [
       "8"
      ]
     },
     "execution_count": 73,
     "metadata": {},
     "output_type": "execute_result"
    }
   ],
   "source": [
    "part_1(q)"
   ]
  },
  {
   "cell_type": "code",
   "execution_count": 74,
   "id": "7e22c5f3",
   "metadata": {},
   "outputs": [
    {
     "data": {
      "text/plain": [
       "23"
      ]
     },
     "execution_count": 74,
     "metadata": {},
     "output_type": "execute_result"
    }
   ],
   "source": [
    "part_1(r)"
   ]
  },
  {
   "cell_type": "code",
   "execution_count": null,
   "id": "48e65e6d",
   "metadata": {},
   "outputs": [],
   "source": []
  }
 ],
 "metadata": {
  "kernelspec": {
   "display_name": "Python 3 (ipykernel)",
   "language": "python",
   "name": "python3"
  },
  "language_info": {
   "codemirror_mode": {
    "name": "ipython",
    "version": 3
   },
   "file_extension": ".py",
   "mimetype": "text/x-python",
   "name": "python",
   "nbconvert_exporter": "python",
   "pygments_lexer": "ipython3",
   "version": "3.9.9"
  }
 },
 "nbformat": 4,
 "nbformat_minor": 5
}
