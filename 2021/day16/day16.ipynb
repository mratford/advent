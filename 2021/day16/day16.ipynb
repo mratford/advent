{
 "cells": [
  {
   "cell_type": "markdown",
   "id": "554c3003",
   "metadata": {},
   "source": [
    "# Day 16\n",
    "## Part 1"
   ]
  },
  {
   "cell_type": "code",
   "execution_count": 2,
   "id": "39461610",
   "metadata": {},
   "outputs": [],
   "source": [
    "from dataclasses import dataclass, field\n",
    "from typing import List\n",
    "\n",
    "\n",
    "@dataclass \n",
    "class Packet:\n",
    "    version: int\n",
    "    type_id: int\n",
    "    \n",
    "    def version_sum(self):\n",
    "        return self.version\n",
    "    \n",
    "    \n",
    "@dataclass\n",
    "class LiteralPacket(Packet):\n",
    "    value: int\n",
    "        \n",
    "        \n",
    "@dataclass\n",
    "class OperatorPacket(Packet):\n",
    "    subpackets: List[Packet] = field(default_factory=list)\n",
    "        \n",
    "    def version_sum(self):\n",
    "        return self.version + sum(sp.version_sum() for sp in self.subpackets)"
   ]
  },
  {
   "cell_type": "code",
   "execution_count": 25,
   "id": "ccb8ebfa",
   "metadata": {},
   "outputs": [
    {
     "data": {
      "text/plain": [
       "LiteralPacket(version=6, type_id=4, value=2021)"
      ]
     },
     "execution_count": 25,
     "metadata": {},
     "output_type": "execute_result"
    }
   ],
   "source": [
    "@dataclass\n",
    "class Bitstream:\n",
    "    b: str\n",
    "    i: int = 0\n",
    "        \n",
    "    def read(self, n):\n",
    "        x = int(self.b[self.i:self.i + n], 2)\n",
    "        self.i += n\n",
    "        return x\n",
    "\n",
    "\n",
    "class PacketParser:\n",
    "    def __init__(self, hex_string):\n",
    "        self.b = Bitstream(''.join([f'{int(c, 16):04b}' \n",
    "                                    for c in hex_string]))\n",
    "        self.packet = self.read_packet()\n",
    "    \n",
    "    def read_packet(self):\n",
    "        version = self.b.read(3)\n",
    "        type_id = self.b.read(3)\n",
    "\n",
    "        if type_id == 4:\n",
    "            val = 0\n",
    "            reading_value = self.b.read(1)\n",
    "            val = self.b.read(4)\n",
    "            while reading_value:\n",
    "                reading_value = self.b.read(1)   \n",
    "                val = val * 16 + self.b.read(4)\n",
    "            return LiteralPacket(version, type_id, val)\n",
    "        else:\n",
    "            packet = OperatorPacket(version, type_id)\n",
    "            length_type = self.b.read(1)\n",
    "            if length_type == 0:\n",
    "                length = self.b.read(15)\n",
    "                end = self.b.i + length\n",
    "                while self.b.i < end:\n",
    "                    subpacket = self.read_packet()\n",
    "                    packet.subpackets.append(subpacket)\n",
    "            elif length_type == 1:\n",
    "                length = self.b.read(11)\n",
    "                for _ in range(length):\n",
    "                    subpacket = self.read_packet()\n",
    "                    packet.subpackets.append(subpacket)\n",
    "            return packet\n",
    "        \n",
    "        \n",
    "def parse_data(s):\n",
    "    return PacketParser(s).packet\n",
    "    \n",
    "parse_data('D2FE28')"
   ]
  },
  {
   "cell_type": "code",
   "execution_count": 28,
   "id": "d4d6bb62",
   "metadata": {},
   "outputs": [
    {
     "data": {
      "text/plain": [
       "OperatorPacket(version=1, type_id=6, subpackets=[LiteralPacket(version=6, type_id=4, value=10), LiteralPacket(version=2, type_id=4, value=20)])"
      ]
     },
     "execution_count": 28,
     "metadata": {},
     "output_type": "execute_result"
    }
   ],
   "source": [
    "PacketParser('38006F45291200').packet"
   ]
  },
  {
   "cell_type": "code",
   "execution_count": 29,
   "id": "24f51af9",
   "metadata": {},
   "outputs": [
    {
     "data": {
      "text/plain": [
       "OperatorPacket(version=7, type_id=3, subpackets=[LiteralPacket(version=2, type_id=4, value=1), LiteralPacket(version=4, type_id=4, value=2), LiteralPacket(version=1, type_id=4, value=3)])"
      ]
     },
     "execution_count": 29,
     "metadata": {},
     "output_type": "execute_result"
    }
   ],
   "source": [
    "PacketParser('EE00D40C823060').packet"
   ]
  },
  {
   "cell_type": "code",
   "execution_count": 30,
   "id": "0bdf6c34",
   "metadata": {},
   "outputs": [
    {
     "data": {
      "text/plain": [
       "OperatorPacket(version=4, type_id=2, subpackets=[OperatorPacket(version=1, type_id=2, subpackets=[OperatorPacket(version=5, type_id=2, subpackets=[LiteralPacket(version=6, type_id=4, value=15)])])])"
      ]
     },
     "execution_count": 30,
     "metadata": {},
     "output_type": "execute_result"
    }
   ],
   "source": [
    "def part_1(data):\n",
    "    return data.version_sum()\n",
    "\n",
    "p = parse_data('8A004A801A8002F478')\n",
    "p"
   ]
  },
  {
   "cell_type": "code",
   "execution_count": 32,
   "id": "cedb4289",
   "metadata": {},
   "outputs": [],
   "source": [
    "assert part_1(p) == 16"
   ]
  },
  {
   "cell_type": "code",
   "execution_count": 33,
   "id": "1197391a",
   "metadata": {},
   "outputs": [
    {
     "data": {
      "text/plain": [
       "OperatorPacket(version=3, type_id=0, subpackets=[OperatorPacket(version=0, type_id=0, subpackets=[LiteralPacket(version=0, type_id=4, value=10), LiteralPacket(version=5, type_id=4, value=11)]), OperatorPacket(version=1, type_id=0, subpackets=[LiteralPacket(version=0, type_id=4, value=12), LiteralPacket(version=3, type_id=4, value=13)])])"
      ]
     },
     "execution_count": 33,
     "metadata": {},
     "output_type": "execute_result"
    }
   ],
   "source": [
    "q = parse_data('620080001611562C8802118E34')\n",
    "q"
   ]
  },
  {
   "cell_type": "code",
   "execution_count": 34,
   "id": "e0661c68",
   "metadata": {},
   "outputs": [
    {
     "data": {
      "text/plain": [
       "OperatorPacket(version=6, type_id=0, subpackets=[OperatorPacket(version=0, type_id=0, subpackets=[LiteralPacket(version=0, type_id=4, value=10), LiteralPacket(version=6, type_id=4, value=11)]), OperatorPacket(version=4, type_id=0, subpackets=[LiteralPacket(version=7, type_id=4, value=12), LiteralPacket(version=0, type_id=4, value=13)])])"
      ]
     },
     "execution_count": 34,
     "metadata": {},
     "output_type": "execute_result"
    }
   ],
   "source": [
    "r = parse_data('C0015000016115A2E0802F182340')\n",
    "r"
   ]
  },
  {
   "cell_type": "code",
   "execution_count": 35,
   "id": "03da5629",
   "metadata": {},
   "outputs": [],
   "source": [
    "assert part_1(q) == 12"
   ]
  },
  {
   "cell_type": "code",
   "execution_count": 36,
   "id": "7e22c5f3",
   "metadata": {},
   "outputs": [],
   "source": [
    "assert part_1(r) == 23"
   ]
  },
  {
   "cell_type": "code",
   "execution_count": 39,
   "id": "48e65e6d",
   "metadata": {},
   "outputs": [],
   "source": [
    "data = parse_data(open('input', 'r').read().strip())"
   ]
  },
  {
   "cell_type": "code",
   "execution_count": 40,
   "id": "652fe88e",
   "metadata": {},
   "outputs": [
    {
     "data": {
      "text/plain": [
       "891"
      ]
     },
     "execution_count": 40,
     "metadata": {},
     "output_type": "execute_result"
    }
   ],
   "source": [
    "part_1(data)"
   ]
  },
  {
   "cell_type": "code",
   "execution_count": 41,
   "id": "3caf1058",
   "metadata": {},
   "outputs": [
    {
     "data": {
      "text/plain": [
       "OperatorPacket(version=5, type_id=0, subpackets=[LiteralPacket(version=6, type_id=4, value=1523), OperatorPacket(version=3, type_id=1, subpackets=[OperatorPacket(version=2, type_id=3, subpackets=[OperatorPacket(version=3, type_id=2, subpackets=[OperatorPacket(version=1, type_id=1, subpackets=[OperatorPacket(version=7, type_id=0, subpackets=[OperatorPacket(version=0, type_id=1, subpackets=[OperatorPacket(version=2, type_id=2, subpackets=[OperatorPacket(version=7, type_id=2, subpackets=[OperatorPacket(version=0, type_id=3, subpackets=[OperatorPacket(version=4, type_id=1, subpackets=[OperatorPacket(version=3, type_id=2, subpackets=[OperatorPacket(version=4, type_id=1, subpackets=[OperatorPacket(version=1, type_id=3, subpackets=[OperatorPacket(version=6, type_id=3, subpackets=[OperatorPacket(version=3, type_id=3, subpackets=[OperatorPacket(version=4, type_id=3, subpackets=[OperatorPacket(version=5, type_id=2, subpackets=[OperatorPacket(version=5, type_id=3, subpackets=[OperatorPacket(version=3, type_id=3, subpackets=[OperatorPacket(version=5, type_id=2, subpackets=[LiteralPacket(version=0, type_id=4, value=131893)])])])])])])])])])])])])])])])])])])])]), OperatorPacket(version=2, type_id=0, subpackets=[LiteralPacket(version=0, type_id=4, value=4006), LiteralPacket(version=0, type_id=4, value=1033), LiteralPacket(version=4, type_id=4, value=540), LiteralPacket(version=2, type_id=4, value=1), LiteralPacket(version=2, type_id=4, value=35584)]), OperatorPacket(version=7, type_id=1, subpackets=[LiteralPacket(version=1, type_id=4, value=56324), OperatorPacket(version=5, type_id=6, subpackets=[OperatorPacket(version=6, type_id=0, subpackets=[LiteralPacket(version=0, type_id=4, value=13), LiteralPacket(version=4, type_id=4, value=7), LiteralPacket(version=6, type_id=4, value=2)]), OperatorPacket(version=0, type_id=0, subpackets=[LiteralPacket(version=3, type_id=4, value=7), LiteralPacket(version=6, type_id=4, value=2), LiteralPacket(version=4, type_id=4, value=4)])])]), OperatorPacket(version=3, type_id=1, subpackets=[OperatorPacket(version=2, type_id=5, subpackets=[LiteralPacket(version=2, type_id=4, value=249), LiteralPacket(version=2, type_id=4, value=176157)]), LiteralPacket(version=2, type_id=4, value=14910404)]), OperatorPacket(version=2, type_id=2, subpackets=[LiteralPacket(version=1, type_id=4, value=481503), LiteralPacket(version=5, type_id=4, value=15), LiteralPacket(version=1, type_id=4, value=9), LiteralPacket(version=4, type_id=4, value=44445), LiteralPacket(version=3, type_id=4, value=165)]), OperatorPacket(version=6, type_id=1, subpackets=[OperatorPacket(version=1, type_id=5, subpackets=[OperatorPacket(version=3, type_id=0, subpackets=[LiteralPacket(version=4, type_id=4, value=3), LiteralPacket(version=5, type_id=4, value=3), LiteralPacket(version=5, type_id=4, value=12)]), OperatorPacket(version=7, type_id=0, subpackets=[LiteralPacket(version=0, type_id=4, value=12), LiteralPacket(version=5, type_id=4, value=2), LiteralPacket(version=2, type_id=4, value=10)])]), LiteralPacket(version=2, type_id=4, value=1403)]), OperatorPacket(version=1, type_id=1, subpackets=[LiteralPacket(version=2, type_id=4, value=3334), OperatorPacket(version=1, type_id=7, subpackets=[LiteralPacket(version=3, type_id=4, value=67095040), LiteralPacket(version=7, type_id=4, value=67095040)])]), OperatorPacket(version=3, type_id=2, subpackets=[LiteralPacket(version=2, type_id=4, value=3320)]), OperatorPacket(version=2, type_id=1, subpackets=[OperatorPacket(version=0, type_id=7, subpackets=[LiteralPacket(version=3, type_id=4, value=204), LiteralPacket(version=5, type_id=4, value=11096013)]), LiteralPacket(version=6, type_id=4, value=7743727)]), LiteralPacket(version=6, type_id=4, value=20239), OperatorPacket(version=5, type_id=0, subpackets=[LiteralPacket(version=1, type_id=4, value=224308069), LiteralPacket(version=4, type_id=4, value=420), LiteralPacket(version=0, type_id=4, value=6), LiteralPacket(version=4, type_id=4, value=4034)]), OperatorPacket(version=4, type_id=3, subpackets=[LiteralPacket(version=7, type_id=4, value=198), LiteralPacket(version=7, type_id=4, value=242)]), LiteralPacket(version=1, type_id=4, value=43111), OperatorPacket(version=3, type_id=1, subpackets=[OperatorPacket(version=1, type_id=5, subpackets=[LiteralPacket(version=5, type_id=4, value=3637), LiteralPacket(version=3, type_id=4, value=297)]), LiteralPacket(version=5, type_id=4, value=44214)]), OperatorPacket(version=3, type_id=2, subpackets=[LiteralPacket(version=3, type_id=4, value=962509), LiteralPacket(version=1, type_id=4, value=884741), LiteralPacket(version=1, type_id=4, value=2503515474)]), LiteralPacket(version=3, type_id=4, value=8), OperatorPacket(version=2, type_id=1, subpackets=[OperatorPacket(version=7, type_id=6, subpackets=[LiteralPacket(version=0, type_id=4, value=211), LiteralPacket(version=3, type_id=4, value=10160023)]), LiteralPacket(version=0, type_id=4, value=28285)]), OperatorPacket(version=3, type_id=1, subpackets=[LiteralPacket(version=4, type_id=4, value=143), LiteralPacket(version=1, type_id=4, value=87), LiteralPacket(version=6, type_id=4, value=3)]), OperatorPacket(version=2, type_id=1, subpackets=[LiteralPacket(version=0, type_id=4, value=96), LiteralPacket(version=1, type_id=4, value=62)]), OperatorPacket(version=5, type_id=1, subpackets=[LiteralPacket(version=5, type_id=4, value=74), OperatorPacket(version=1, type_id=5, subpackets=[LiteralPacket(version=1, type_id=4, value=16404), LiteralPacket(version=0, type_id=4, value=44402)])]), OperatorPacket(version=3, type_id=1, subpackets=[LiteralPacket(version=0, type_id=4, value=52), LiteralPacket(version=3, type_id=4, value=48), LiteralPacket(version=6, type_id=4, value=175), LiteralPacket(version=1, type_id=4, value=136)]), OperatorPacket(version=2, type_id=0, subpackets=[LiteralPacket(version=3, type_id=4, value=46442)]), OperatorPacket(version=4, type_id=1, subpackets=[LiteralPacket(version=1, type_id=4, value=135), OperatorPacket(version=1, type_id=7, subpackets=[LiteralPacket(version=6, type_id=4, value=5674074), LiteralPacket(version=3, type_id=4, value=214)])]), OperatorPacket(version=0, type_id=1, subpackets=[LiteralPacket(version=1, type_id=4, value=725), OperatorPacket(version=3, type_id=5, subpackets=[LiteralPacket(version=6, type_id=4, value=873), LiteralPacket(version=5, type_id=4, value=873)])]), OperatorPacket(version=7, type_id=1, subpackets=[LiteralPacket(version=0, type_id=4, value=160), LiteralPacket(version=2, type_id=4, value=74), LiteralPacket(version=3, type_id=4, value=129), LiteralPacket(version=7, type_id=4, value=112), LiteralPacket(version=6, type_id=4, value=150)]), LiteralPacket(version=7, type_id=4, value=54994177), OperatorPacket(version=7, type_id=2, subpackets=[LiteralPacket(version=6, type_id=4, value=52056), LiteralPacket(version=0, type_id=4, value=29), LiteralPacket(version=5, type_id=4, value=41807), LiteralPacket(version=2, type_id=4, value=61065)]), OperatorPacket(version=1, type_id=0, subpackets=[LiteralPacket(version=0, type_id=4, value=124), LiteralPacket(version=7, type_id=4, value=14)]), OperatorPacket(version=5, type_id=1, subpackets=[OperatorPacket(version=5, type_id=6, subpackets=[LiteralPacket(version=4, type_id=4, value=955630), LiteralPacket(version=6, type_id=4, value=454)]), LiteralPacket(version=3, type_id=4, value=16718570)]), OperatorPacket(version=0, type_id=0, subpackets=[OperatorPacket(version=2, type_id=1, subpackets=[LiteralPacket(version=5, type_id=4, value=6), LiteralPacket(version=1, type_id=4, value=2), LiteralPacket(version=1, type_id=4, value=6)]), OperatorPacket(version=7, type_id=1, subpackets=[LiteralPacket(version=6, type_id=4, value=11), LiteralPacket(version=7, type_id=4, value=12), LiteralPacket(version=7, type_id=4, value=12)]), OperatorPacket(version=7, type_id=1, subpackets=[LiteralPacket(version=1, type_id=4, value=14), LiteralPacket(version=5, type_id=4, value=12), LiteralPacket(version=3, type_id=4, value=11)])]), OperatorPacket(version=1, type_id=1, subpackets=[OperatorPacket(version=7, type_id=5, subpackets=[LiteralPacket(version=0, type_id=4, value=5193129486), LiteralPacket(version=1, type_id=4, value=5193129486)]), LiteralPacket(version=1, type_id=4, value=16434805)]), OperatorPacket(version=3, type_id=0, subpackets=[LiteralPacket(version=5, type_id=4, value=13), LiteralPacket(version=3, type_id=4, value=678747), LiteralPacket(version=4, type_id=4, value=14641100)]), LiteralPacket(version=1, type_id=4, value=3456327), OperatorPacket(version=4, type_id=3, subpackets=[LiteralPacket(version=2, type_id=4, value=95930845), LiteralPacket(version=7, type_id=4, value=2707), LiteralPacket(version=0, type_id=4, value=46937), LiteralPacket(version=1, type_id=4, value=7)]), OperatorPacket(version=5, type_id=3, subpackets=[LiteralPacket(version=7, type_id=4, value=37092)]), OperatorPacket(version=5, type_id=3, subpackets=[LiteralPacket(version=6, type_id=4, value=645991575330), LiteralPacket(version=2, type_id=4, value=1808), LiteralPacket(version=0, type_id=4, value=512624), LiteralPacket(version=5, type_id=4, value=12), LiteralPacket(version=2, type_id=4, value=1505)]), OperatorPacket(version=0, type_id=1, subpackets=[LiteralPacket(version=4, type_id=4, value=51)]), OperatorPacket(version=7, type_id=2, subpackets=[LiteralPacket(version=4, type_id=4, value=2), LiteralPacket(version=7, type_id=4, value=10525708498)]), LiteralPacket(version=1, type_id=4, value=232), OperatorPacket(version=3, type_id=1, subpackets=[LiteralPacket(version=6, type_id=4, value=536200221), OperatorPacket(version=3, type_id=6, subpackets=[LiteralPacket(version=1, type_id=4, value=51282786), LiteralPacket(version=1, type_id=4, value=753216)])]), OperatorPacket(version=3, type_id=1, subpackets=[OperatorPacket(version=4, type_id=5, subpackets=[OperatorPacket(version=5, type_id=0, subpackets=[LiteralPacket(version=0, type_id=4, value=5), LiteralPacket(version=7, type_id=4, value=3), LiteralPacket(version=0, type_id=4, value=15)]), OperatorPacket(version=2, type_id=0, subpackets=[LiteralPacket(version=5, type_id=4, value=4), LiteralPacket(version=6, type_id=4, value=11), LiteralPacket(version=6, type_id=4, value=5)])]), LiteralPacket(version=7, type_id=4, value=6799801)]), OperatorPacket(version=1, type_id=1, subpackets=[OperatorPacket(version=7, type_id=6, subpackets=[LiteralPacket(version=3, type_id=4, value=26738628777), LiteralPacket(version=6, type_id=4, value=26738628777)]), LiteralPacket(version=7, type_id=4, value=153312376)]), OperatorPacket(version=0, type_id=1, subpackets=[LiteralPacket(version=3, type_id=4, value=49096), OperatorPacket(version=7, type_id=6, subpackets=[LiteralPacket(version=0, type_id=4, value=24266), LiteralPacket(version=1, type_id=4, value=24266)])]), OperatorPacket(version=6, type_id=1, subpackets=[OperatorPacket(version=5, type_id=6, subpackets=[LiteralPacket(version=0, type_id=4, value=60), LiteralPacket(version=4, type_id=4, value=511)]), LiteralPacket(version=5, type_id=4, value=3)]), LiteralPacket(version=5, type_id=4, value=10), OperatorPacket(version=2, type_id=1, subpackets=[LiteralPacket(version=6, type_id=4, value=199), OperatorPacket(version=4, type_id=6, subpackets=[OperatorPacket(version=3, type_id=0, subpackets=[LiteralPacket(version=1, type_id=4, value=11), LiteralPacket(version=3, type_id=4, value=15), LiteralPacket(version=7, type_id=4, value=4)]), OperatorPacket(version=5, type_id=0, subpackets=[LiteralPacket(version=4, type_id=4, value=9), LiteralPacket(version=6, type_id=4, value=9), LiteralPacket(version=3, type_id=4, value=5)])])]), OperatorPacket(version=1, type_id=3, subpackets=[LiteralPacket(version=1, type_id=4, value=768890584), LiteralPacket(version=6, type_id=4, value=152), LiteralPacket(version=4, type_id=4, value=1848336)]), LiteralPacket(version=6, type_id=4, value=163), OperatorPacket(version=4, type_id=1, subpackets=[LiteralPacket(version=0, type_id=4, value=161102949), OperatorPacket(version=2, type_id=5, subpackets=[LiteralPacket(version=7, type_id=4, value=229), LiteralPacket(version=3, type_id=4, value=222)])]), OperatorPacket(version=4, type_id=1, subpackets=[OperatorPacket(version=6, type_id=0, subpackets=[LiteralPacket(version=1, type_id=4, value=4), LiteralPacket(version=2, type_id=4, value=6), LiteralPacket(version=6, type_id=4, value=14)]), OperatorPacket(version=7, type_id=0, subpackets=[LiteralPacket(version=2, type_id=4, value=4), LiteralPacket(version=6, type_id=4, value=4), LiteralPacket(version=7, type_id=4, value=5)]), OperatorPacket(version=5, type_id=0, subpackets=[LiteralPacket(version=3, type_id=4, value=10), LiteralPacket(version=5, type_id=4, value=8), LiteralPacket(version=1, type_id=4, value=12)])]), OperatorPacket(version=0, type_id=1, subpackets=[LiteralPacket(version=3, type_id=4, value=120), OperatorPacket(version=1, type_id=7, subpackets=[OperatorPacket(version=3, type_id=0, subpackets=[LiteralPacket(version=0, type_id=4, value=2), LiteralPacket(version=3, type_id=4, value=5), LiteralPacket(version=0, type_id=4, value=2)]), OperatorPacket(version=5, type_id=0, subpackets=[LiteralPacket(version=0, type_id=4, value=15), LiteralPacket(version=4, type_id=4, value=13), LiteralPacket(version=1, type_id=4, value=2)])])]), LiteralPacket(version=0, type_id=4, value=11)])"
      ]
     },
     "execution_count": 41,
     "metadata": {},
     "output_type": "execute_result"
    }
   ],
   "source": [
    "data"
   ]
  },
  {
   "cell_type": "code",
   "execution_count": null,
   "id": "a8d1e3f0",
   "metadata": {},
   "outputs": [],
   "source": []
  }
 ],
 "metadata": {
  "kernelspec": {
   "display_name": "Python 3 (ipykernel)",
   "language": "python",
   "name": "python3"
  },
  "language_info": {
   "codemirror_mode": {
    "name": "ipython",
    "version": 3
   },
   "file_extension": ".py",
   "mimetype": "text/x-python",
   "name": "python",
   "nbconvert_exporter": "python",
   "pygments_lexer": "ipython3",
   "version": "3.9.9"
  }
 },
 "nbformat": 4,
 "nbformat_minor": 5
}
