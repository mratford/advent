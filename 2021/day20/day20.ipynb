{
 "cells": [
  {
   "cell_type": "markdown",
   "id": "554c3003",
   "metadata": {},
   "source": [
    "# Day 20\n",
    "## Part 1"
   ]
  },
  {
   "cell_type": "code",
   "execution_count": 8,
   "id": "39461610",
   "metadata": {},
   "outputs": [
    {
     "name": "stdout",
     "output_type": "stream",
     "text": [
      "#..#.\n",
      "#....\n",
      "##..#\n",
      "..#..\n",
      "..###\n",
      "\n"
     ]
    }
   ],
   "source": [
    "def parse_data(s):\n",
    "    algorithm, image = s.strip().split('\\n\\n')\n",
    "    \n",
    "    algorithm = ''.join(algorithm.strip().splitlines())\n",
    "    \n",
    "    image_lit = set()\n",
    "    for row, line in enumerate(image.splitlines()):\n",
    "        for col, c in enumerate(line.strip()):\n",
    "            if c == '#':\n",
    "                image_lit.add((row, col))\n",
    "                \n",
    "    return algorithm, image_lit\n",
    "\n",
    "\n",
    "def square(row, col):\n",
    "    for dr in (-1, 0, 1):\n",
    "        for dc in (-1, 0, 1):\n",
    "            yield (row + dr, col + dc)\n",
    "            \n",
    "            \n",
    "def step(algorithm, image):\n",
    "    locations_to_check = set()\n",
    "    for row, col in image:\n",
    "        locations_to_check |= set(square(row, col))\n",
    "    new_image = set()\n",
    "    for row, col in locations_to_check:\n",
    "        binary = ''.join('1' if (r, c) in image else '0'\n",
    "                         for r, c in square(row, col))\n",
    "        if algorithm[int(binary, 2)] == '#':\n",
    "            new_image.add((row, col))\n",
    "    return new_image\n",
    "\n",
    "\n",
    "def print_image(image):\n",
    "    min_row = min(row for row, _ in image)\n",
    "    max_row = max(row for row, _ in image)\n",
    "    min_col = min(col for _, col in image)\n",
    "    max_col = max(col for _, col in image)\n",
    "    s = ''\n",
    "    for r in range(min_row, max_row + 1):\n",
    "        for c in range(min_col, max_col + 1):\n",
    "            s += '#' if (r, c) in image else '.'\n",
    "        s += '\\n'\n",
    "    print(s)\n",
    "\n",
    "\n",
    "def part_1(algorithm, image):\n",
    "    for _ in range(2):\n",
    "        image = step(algorithm, image)\n",
    "    return len(image)\n",
    "\n",
    "\n",
    "test_string = '''\n",
    "..#.#..#####.#.#.#.###.##.....###.##.#..###.####..#####..#....#..#..##..##\n",
    "#..######.###...####..#..#####..##..#.#####...##.#.#..#.##..#.#......#.###\n",
    ".######.###.####...#.##.##..#..#..#####.....#.#....###..#.##......#.....#.\n",
    ".#..#..##..#...##.######.####.####.#.#...#.......#..#.#.#...####.##.#.....\n",
    ".#..#...##.#.##..#...##.#.##..###.#......#.#.......#.#.#.####.###.##...#..\n",
    "...####.#..#..#.##.#....##..#.####....##...##..#...#......#.#.......#.....\n",
    "..##..####..#...#.#.#...##..#.#..###..#####........#..####......#..#\n",
    "\n",
    "#..#.\n",
    "#....\n",
    "##..#\n",
    "..#..\n",
    "..###\n",
    "'''\n",
    "test_data = parse_data(test_string)\n",
    "test_alg, test_img = test_data\n",
    "\n",
    "print_image(test_img)"
   ]
  },
  {
   "cell_type": "code",
   "execution_count": 4,
   "id": "2f3c016f",
   "metadata": {},
   "outputs": [
    {
     "name": "stdout",
     "output_type": "stream",
     "text": [
      ".##.##.\n",
      "#..#.#.\n",
      "##.#..#\n",
      "####..#\n",
      ".#..##.\n",
      "..##..#\n",
      "...#.#.\n",
      "\n"
     ]
    }
   ],
   "source": [
    "new_image = step(test_alg, test_img)\n",
    "print_image(new_image)"
   ]
  },
  {
   "cell_type": "code",
   "execution_count": 6,
   "id": "ed261281",
   "metadata": {},
   "outputs": [
    {
     "name": "stdout",
     "output_type": "stream",
     "text": [
      ".......#.\n",
      ".#..#.#..\n",
      "#.#...###\n",
      "#...##.#.\n",
      "#.....#.#\n",
      ".#.#####.\n",
      "..#.#####\n",
      "...##.##.\n",
      "....###..\n",
      "\n"
     ]
    }
   ],
   "source": [
    "new_image = step(test_alg, new_image)\n",
    "print_image(new_image)"
   ]
  },
  {
   "cell_type": "code",
   "execution_count": 7,
   "id": "bcd0af49",
   "metadata": {},
   "outputs": [],
   "source": [
    "assert part_1(*test_data) == 35"
   ]
  },
  {
   "cell_type": "code",
   "execution_count": 9,
   "id": "2d87213a",
   "metadata": {},
   "outputs": [
    {
     "data": {
      "text/plain": [
       "5243"
      ]
     },
     "execution_count": 9,
     "metadata": {},
     "output_type": "execute_result"
    }
   ],
   "source": [
    "data = parse_data(open('input', 'r').read())\n",
    "part_1(*data)"
   ]
  },
  {
   "cell_type": "markdown",
   "id": "ebb9aef3",
   "metadata": {},
   "source": [
    "It's turning on the lights when there's nothing around, i.e. for the real input `algorithm[0] == '#'`. A single step is meaningless as there are infinite lights. Let's try again."
   ]
  },
  {
   "cell_type": "code",
   "execution_count": 14,
   "id": "90d6ab18",
   "metadata": {},
   "outputs": [
    {
     "data": {
      "text/plain": [
       "35"
      ]
     },
     "execution_count": 14,
     "metadata": {},
     "output_type": "execute_result"
    }
   ],
   "source": [
    "def step(algorithm, image):\n",
    "    min_row = min(row for row, _ in image)\n",
    "    max_row = max(row for row, _ in image)\n",
    "    min_col = min(col for _, col in image)\n",
    "    max_col = max(col for _, col in image)\n",
    "\n",
    "    new_image = set()\n",
    "    for row in range(min_row - 1, max_row + 2):\n",
    "        for col in range(min_col - 1, max_col + 2):\n",
    "            binary = ''.join('1' if (r, c) in image else '0'\n",
    "                             for r, c in square(row, col))\n",
    "            if algorithm[int(binary, 2)] == '#':\n",
    "                new_image.add((row, col))\n",
    "    return new_image\n",
    "\n",
    "\n",
    "def two_step(algorithm, image):\n",
    "    # Step 1\n",
    "    new_image = step(algorithm, image)\n",
    "    min_row = min(row for row, _ in new_image)\n",
    "    max_row = max(row for row, _ in new_image)\n",
    "    min_col = min(col for _, col in new_image)\n",
    "    max_col = max(col for _, col in new_image)\n",
    "    \n",
    "    # Draw a border of lights around the image\n",
    "    for d in range(1, 4):\n",
    "        new_image |= {(min_row - d, c) for c in range(min_col - 3, max_col + 4)}\n",
    "        new_image |= {(max_row + d, c) for c in range(min_col - 3, max_col + 4)}\n",
    "        new_image |= {(r, min_col - d) for r in range(min_row - 3, max_row + 4)}\n",
    "        new_image |= {(r, max_col + d) for r in range(min_row - 3, max_row + 4)}\n",
    "        \n",
    "    new_image = step(algorithm, new_image)\n",
    "    \n",
    "    # Remove the border, allowing for an expansion of one in each direction\n",
    "    return {(r, c) for r, c in new_image\n",
    "            if min_row - 1 <= r <= max_row + 1\n",
    "            and min_col - 1 <= c <= max_col + 1}\n",
    "\n",
    "\n",
    "def part_1(algorithm, image):\n",
    "    if algorithm[0] == '#':\n",
    "        image = two_step(algorithm, image)\n",
    "    else:\n",
    "        for _ in range(2):\n",
    "            image = step(algorithm, image)\n",
    "    return len(image)\n",
    "\n",
    "\n",
    "part_1(*test_data)"
   ]
  },
  {
   "cell_type": "code",
   "execution_count": 15,
   "id": "41012f00",
   "metadata": {},
   "outputs": [
    {
     "data": {
      "text/plain": [
       "5486"
      ]
     },
     "execution_count": 15,
     "metadata": {},
     "output_type": "execute_result"
    }
   ],
   "source": [
    "part_1(*data)"
   ]
  },
  {
   "cell_type": "markdown",
   "id": "503f97e8",
   "metadata": {},
   "source": [
    "## Part 2"
   ]
  },
  {
   "cell_type": "code",
   "execution_count": 16,
   "id": "85eb7d81",
   "metadata": {},
   "outputs": [],
   "source": [
    "def part_2(algorithm, image):\n",
    "    if algorithm[0] == '#':\n",
    "        for _ in range(25):\n",
    "            image = two_step(algorithm, image)\n",
    "    else:\n",
    "        for _ in range(50):\n",
    "            image = step(algorithm, image)\n",
    "    return len(image)\n",
    "\n",
    "assert part_2(*test_data) == 3351"
   ]
  },
  {
   "cell_type": "code",
   "execution_count": 17,
   "id": "89a7856c",
   "metadata": {},
   "outputs": [
    {
     "data": {
      "text/plain": [
       "20210"
      ]
     },
     "execution_count": 17,
     "metadata": {},
     "output_type": "execute_result"
    }
   ],
   "source": [
    "part_2(*data)"
   ]
  },
  {
   "cell_type": "code",
   "execution_count": 19,
   "id": "ac17e3aa",
   "metadata": {},
   "outputs": [
    {
     "name": "stdout",
     "output_type": "stream",
     "text": [
      "6.96 s ± 498 ms per loop (mean ± std. dev. of 7 runs, 1 loop each)\n"
     ]
    }
   ],
   "source": [
    "%%timeit \n",
    "\n",
    "part_2(*data)"
   ]
  },
  {
   "cell_type": "code",
   "execution_count": null,
   "id": "461f4db3",
   "metadata": {},
   "outputs": [],
   "source": []
  }
 ],
 "metadata": {
  "kernelspec": {
   "display_name": "Python 3 (ipykernel)",
   "language": "python",
   "name": "python3"
  },
  "language_info": {
   "codemirror_mode": {
    "name": "ipython",
    "version": 3
   },
   "file_extension": ".py",
   "mimetype": "text/x-python",
   "name": "python",
   "nbconvert_exporter": "python",
   "pygments_lexer": "ipython3",
   "version": "3.10.1"
  }
 },
 "nbformat": 4,
 "nbformat_minor": 5
}
