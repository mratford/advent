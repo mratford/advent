{
 "cells": [
  {
   "cell_type": "markdown",
   "id": "554c3003",
   "metadata": {},
   "source": [
    "# Day 8\n",
    "## Part 1\n",
    "We're obviously going to have to decode everything so let's get that out of the way.\n",
    "\n",
    "Find the signal letters each number has in common with the numbers with a unique amount of signal letters.\n",
    "```\n",
    "1: 2 letters\n",
    "4: 4 letters\n",
    "7: 3 letters\n",
    "8: 7 letters\n",
    "2: 5 letters, 1 of the same letters as 1, 2 of the same as 4, 2 of 7\n",
    "3: 5 letters, 2 of 1, 3 of 4, 3 of 7\n",
    "5: 5 letters, 1 of 1, 3 of 4, 2 of 7\n",
    "6: 6 letters, 1 of 1, 3 of 4, 2 of 7\n",
    "9: 6 letters, 2 of 1, 4 of 4, 3 of 7\n",
    "0: 6 letters, 2 of 1, 3 of 4, 3 of 7 \n",
    "```\n",
    "\n",
    "Represent the signals as frozensets as the letters are in a random order plus it would be handy if they're hashable."
   ]
  },
  {
   "cell_type": "code",
   "execution_count": 28,
   "id": "39461610",
   "metadata": {},
   "outputs": [],
   "source": [
    "def parse_data(s):\n",
    "    result = []\n",
    "    for line in s.strip().splitlines():\n",
    "        signals, digits = line.split('|')\n",
    "        result.append(([frozenset(x.strip()) for x in signals.split()],\n",
    "                       [frozenset(x.strip()) for x in digits.split()]))\n",
    "    return result\n",
    "        \n",
    "test_string = '''be cfbegad cbdgef fgaecd cgeb fdcge agebfd fecdb fabcd edb | fdgacbe cefdb cefbgd gcbe\n",
    "edbfga begcd cbg gc gcadebf fbgde acbgfd abcde gfcbed gfec | fcgedb cgb dgebacf gc\n",
    "fgaebd cg bdaec gdafb agbcfd gdcbef bgcad gfac gcb cdgabef | cg cg fdcagb cbg\n",
    "fbegcd cbd adcefb dageb afcb bc aefdc ecdab fgdeca fcdbega | efabcd cedba gadfec cb\n",
    "aecbfdg fbg gf bafeg dbefa fcge gcbea fcaegb dgceab fcbdga | gecf egdcabf bgf bfgea\n",
    "fgeab ca afcebg bdacfeg cfaedg gcfdb baec bfadeg bafgc acf | gebdcfa ecba ca fadegcb\n",
    "dbcfg fgd bdegcaf fgec aegbdf ecdfab fbedc dacgb gdcebf gf | cefg dcbef fcge gbcadfe\n",
    "bdfegc cbegaf gecbf dfcage bdacg ed bedf ced adcbefg gebcd | ed bcgafe cdgba cbgef\n",
    "egadfb cdbfeg cegd fecab cgb gbdefca cg fgcdab egfdb bfceg | gbdfcae bgc cg cgb\n",
    "gcafb gcf dcaebfg ecagb gf abcdeg gaef cafbge fdbac fegbdc | fgae cfgab fg bagce\n",
    "'''\n",
    "\n",
    "test_data = parse_data(test_string)\n",
    "\n",
    "def decode(signals, digits):\n",
    "    numbers = {}\n",
    "    wires = {}\n",
    "    for i, n in [(1, 2), (4, 4), (7, 3), (8, 7)]: \n",
    "        wires[i] = {x for x in signals if len(x) == n}.pop()\n",
    "        numbers[wires[i]] = i\n",
    "    for i, n, x1, x4, x7 in [\n",
    "        (2, 5, 1, 2, 2),\n",
    "        (3, 5, 2, 3, 3),\n",
    "        (5, 5, 1, 3, 2),\n",
    "        (6, 6, 1, 3, 2),\n",
    "        (9, 6, 2, 4, 3),\n",
    "        (0, 6, 2, 3, 3)\n",
    "    ]:\n",
    "        wires[i] = {\n",
    "            x for x in signals\n",
    "            if len(x) == n\n",
    "            and len(wires[1] & x) == x1\n",
    "            and len(wires[4] & x) == x4\n",
    "            and len(wires[7] & x) == x7\n",
    "        }.pop()\n",
    "        numbers[wires[i]] = i\n",
    "    return [numbers[d] for d in digits]\n",
    "\n",
    "\n",
    "def decode_all(data):\n",
    "    return [decode(*xs) for xs in data]\n",
    "\n",
    "\n",
    "def part_1(data):\n",
    "    return sum(\n",
    "        len([d for d in decoded if d in [1, 4, 7, 8]])\n",
    "        for decoded in decode_all(data)\n",
    "    )"
   ]
  },
  {
   "cell_type": "code",
   "execution_count": 29,
   "id": "91ab036a",
   "metadata": {},
   "outputs": [],
   "source": [
    "assert part_1(test_data) == 26"
   ]
  },
  {
   "cell_type": "code",
   "execution_count": 30,
   "id": "5cbc4333",
   "metadata": {},
   "outputs": [
    {
     "data": {
      "text/plain": [
       "479"
      ]
     },
     "execution_count": 30,
     "metadata": {},
     "output_type": "execute_result"
    }
   ],
   "source": [
    "data = parse_data(open('input', 'r').read())\n",
    "part_1(data)"
   ]
  },
  {
   "cell_type": "markdown",
   "id": "acd0ca98",
   "metadata": {},
   "source": [
    "## Part 2"
   ]
  },
  {
   "cell_type": "code",
   "execution_count": 32,
   "id": "e8ad27b5",
   "metadata": {},
   "outputs": [],
   "source": [
    "def get_number(numbers):\n",
    "    return int(''.join([str(x) for x in numbers]))\n",
    "\n",
    "def part_2(data):\n",
    "    return sum(get_number(decoded) for decoded in decode_all(data))\n",
    "\n",
    "assert part_2(test_data) == 61229"
   ]
  },
  {
   "cell_type": "code",
   "execution_count": 33,
   "id": "768a9a1e",
   "metadata": {},
   "outputs": [
    {
     "data": {
      "text/plain": [
       "1041746"
      ]
     },
     "execution_count": 33,
     "metadata": {},
     "output_type": "execute_result"
    }
   ],
   "source": [
    "part_2(data)"
   ]
  },
  {
   "cell_type": "markdown",
   "id": "00d86cf0",
   "metadata": {},
   "source": [
    "That was tedious."
   ]
  },
  {
   "cell_type": "code",
   "execution_count": null,
   "id": "db1bff59",
   "metadata": {},
   "outputs": [],
   "source": []
  }
 ],
 "metadata": {
  "kernelspec": {
   "display_name": "Python 3 (ipykernel)",
   "language": "python",
   "name": "python3"
  },
  "language_info": {
   "codemirror_mode": {
    "name": "ipython",
    "version": 3
   },
   "file_extension": ".py",
   "mimetype": "text/x-python",
   "name": "python",
   "nbconvert_exporter": "python",
   "pygments_lexer": "ipython3",
   "version": "3.9.9"
  }
 },
 "nbformat": 4,
 "nbformat_minor": 5
}
