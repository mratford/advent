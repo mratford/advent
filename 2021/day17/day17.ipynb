{
 "cells": [
  {
   "cell_type": "markdown",
   "id": "554c3003",
   "metadata": {},
   "source": [
    "# Day 17\n",
    "## Part 1"
   ]
  },
  {
   "cell_type": "code",
   "execution_count": 5,
   "id": "39461610",
   "metadata": {},
   "outputs": [
    {
     "data": {
      "text/plain": [
       "{'min_x': 20, 'max_x': 30, 'min_y': -10, 'max_y': -5}"
      ]
     },
     "execution_count": 5,
     "metadata": {},
     "output_type": "execute_result"
    }
   ],
   "source": [
    "import parse\n",
    "\n",
    "def parse_data(s):\n",
    "    return parse.parse('target area: x={min_x:d}..{max_x:d}, y={min_y:d}..{max_y:d}', s).named\n",
    "\n",
    "test_data = parse_data('target area: x=20..30, y=-10..-5')\n",
    "test_data"
   ]
  },
  {
   "cell_type": "markdown",
   "id": "c1a97ce9",
   "metadata": {},
   "source": [
    "Assume that as $x$ will get to $0$ and stay there, $y$ will continue rising and fall while $x$ is constant.\n",
    "\n",
    "$x$ and $y$ are independent, so find the initial velocities of $x$ that reach 0 between `min_x` and `max_x` and how many steps it takes them to do so. An initial velocity of $v_x$ will reach 0 after $v_x$ steps and will have an $x$ coordinate of $v_x(v_x+1)/2$, so the bounds for the velocities are given by $n^2 + n - 2x_{min}=0$ and $n^2 + n - 2x_{max}=0$. Solving the polynomials gives the following."
   ]
  },
  {
   "cell_type": "code",
   "execution_count": 21,
   "id": "910245da",
   "metadata": {},
   "outputs": [],
   "source": [
    "import math\n",
    "\n",
    "def possible_x_velocities(min_x, max_x):\n",
    "    return math.ceil((-1 + math.sqrt(1 + 8 * min_x)) / 2), math.floor((-1 + math.sqrt(1 + 8 * max_x)) / 2)\n",
    "    "
   ]
  },
  {
   "cell_type": "code",
   "execution_count": 30,
   "id": "1472ae10",
   "metadata": {},
   "outputs": [
    {
     "data": {
      "text/plain": [
       "(6, 7)"
      ]
     },
     "execution_count": 30,
     "metadata": {},
     "output_type": "execute_result"
    }
   ],
   "source": [
    "possible_x_velocities(20, 30)"
   ]
  },
  {
   "cell_type": "markdown",
   "id": "73347431",
   "metadata": {},
   "source": [
    "I've just realised we don't really care what $v_x$ is. Never mind.\n",
    "\n",
    "A starting $y$ velocity of $v_y$ means $y$ reach its apex $v_y(v_y+1)/2$ after $v_y$ steps, and then takes another $v_y$ steps to return to 0, where it has a velocity of $-v_y$. \n",
    "\n",
    "Oh hang on, we then need to work out the highest value of $v_y$ such that its next step $-v_y-1$ is within the target area, which is 9 for the example above, and $9(9+1)/2 = 45$.\n",
    "\n",
    "My data is `target area: x=111..161, y=-154..-101`, so"
   ]
  },
  {
   "cell_type": "code",
   "execution_count": 27,
   "id": "3319492e",
   "metadata": {},
   "outputs": [
    {
     "data": {
      "text/plain": [
       "11781"
      ]
     },
     "execution_count": 27,
     "metadata": {},
     "output_type": "execute_result"
    }
   ],
   "source": [
    "153*154//2"
   ]
  },
  {
   "cell_type": "markdown",
   "id": "f5c23f89",
   "metadata": {},
   "source": [
    "is the answer."
   ]
  },
  {
   "cell_type": "markdown",
   "id": "ef5367ed",
   "metadata": {},
   "source": [
    "## Part 2"
   ]
  },
  {
   "cell_type": "markdown",
   "id": "e154774b",
   "metadata": {},
   "source": [
    "Now need to find the number of pairs of velocities that land in the target at any point. For each number of steps count the number of initial $v_x$s and the number of initial $v_y$s that are in the target at that point, and multiply them together as they're independent. \n",
    "\n",
    "Possible values of $v_x$ are bound by the minimum value returned by the `possible_x_velocities` function - it's actually useful! - and $x_{max}$. \n",
    "\n",
    "$v_y$ is bound between $y_{min}$ and $-y_{min}-1$.\n",
    "\n",
    "The $x$ values bounded by the `possible_x_velocities` function will always be there, so adjustments need to be made for that."
   ]
  },
  {
   "cell_type": "code",
   "execution_count": 60,
   "id": "418c068b",
   "metadata": {},
   "outputs": [],
   "source": [
    "from collections import defaultdict\n",
    "from itertools import product\n",
    "\n",
    "def part_2(data):\n",
    "    min_x, max_x, min_y, max_y = data['min_x'], data['max_x'], data['min_y'], data['max_y']\n",
    "    n_steps_xs = defaultdict(set)\n",
    "    static_xs = possible_x_velocities(min_x, max_x)\n",
    "    for vx in range(static_xs[0], max_x + 1):\n",
    "        x = 0\n",
    "        v = vx\n",
    "        n = 0\n",
    "        while x < max_x and v > 0:\n",
    "            x += v\n",
    "            v -= 1\n",
    "            n += 1\n",
    "            if min_x <= x <= max_x:\n",
    "                n_steps_xs[n].add(vx)\n",
    "    \n",
    "    n_steps_ys = defaultdict(set)\n",
    "    for vy in range(min_y, -min_y):\n",
    "        y = 0\n",
    "        v = vy\n",
    "        n = 0\n",
    "        while y > min_y:\n",
    "            y += v\n",
    "            v -= 1\n",
    "            n += 1\n",
    "            if min_y <= y <= max_y:\n",
    "                n_steps_ys[n].add(vy)\n",
    "                \n",
    "    for vx in static_xs:\n",
    "        for n in n_steps_ys:\n",
    "            if n > vx:\n",
    "                n_steps_xs[n].add(vx)\n",
    "\n",
    "    velocities = set()\n",
    "    for n in n_steps_ys:\n",
    "        for vx, vy in product(n_steps_xs[n], n_steps_ys[n]):\n",
    "            velocities.add((vx, vy))\n",
    "\n",
    "    return len(velocities)\n",
    "\n",
    "assert part_2(test_data) == 112"
   ]
  },
  {
   "cell_type": "code",
   "execution_count": 61,
   "id": "c2aa6e36",
   "metadata": {},
   "outputs": [
    {
     "data": {
      "text/plain": [
       "4403"
      ]
     },
     "execution_count": 61,
     "metadata": {},
     "output_type": "execute_result"
    }
   ],
   "source": [
    "data = parse_data('target area: x=111..161, y=-154..-101')\n",
    "part_2(data)"
   ]
  },
  {
   "cell_type": "markdown",
   "id": "4e6e9041",
   "metadata": {},
   "source": [
    "Another one where the test data passes but the real data doesn't.\n",
    "\n",
    "Try brute-forcing both at once."
   ]
  },
  {
   "cell_type": "code",
   "execution_count": 73,
   "id": "21a42ad6",
   "metadata": {},
   "outputs": [],
   "source": [
    "def part_2(data):\n",
    "    min_x, max_x, min_y, max_y = data['min_x'], data['max_x'], data['min_y'], data['max_y']\n",
    "    n_velocities = 0\n",
    "    static_xs = possible_x_velocities(min_x, max_x)\n",
    "    for vx in range(static_xs[0], max_x + 1):\n",
    "        for vy in range(min_y, -min_y):\n",
    "            x = 0\n",
    "            y = 0\n",
    "            v_x = vx\n",
    "            v_y = vy\n",
    "            while x <= max_x and y >= min_y:\n",
    "                if x >= min_x and y <= max_y:\n",
    "                    n_velocities += 1\n",
    "                    break\n",
    "                x += v_x\n",
    "                if v_x > 0:\n",
    "                    v_x -= 1\n",
    "                y += v_y\n",
    "                v_y -= 1\n",
    "\n",
    "    return n_velocities\n",
    "\n",
    "assert part_2(test_data) == 112"
   ]
  },
  {
   "cell_type": "code",
   "execution_count": 74,
   "id": "842386e0",
   "metadata": {},
   "outputs": [
    {
     "data": {
      "text/plain": [
       "4531"
      ]
     },
     "execution_count": 74,
     "metadata": {},
     "output_type": "execute_result"
    }
   ],
   "source": [
    "part_2(data)"
   ]
  },
  {
   "cell_type": "markdown",
   "id": "14e8adc1",
   "metadata": {},
   "source": [
    "That's correct and ran quickly, I was trying to be too clever and made a mistake somewhere. (Solved: see post-mortem.)"
   ]
  },
  {
   "cell_type": "code",
   "execution_count": 83,
   "id": "255e982f",
   "metadata": {},
   "outputs": [
    {
     "name": "stdout",
     "output_type": "stream",
     "text": [
      "28.1 ms ± 202 µs per loop (mean ± std. dev. of 7 runs, 10 loops each)\n"
     ]
    }
   ],
   "source": [
    "%%timeit\n",
    "part_2(data)"
   ]
  },
  {
   "cell_type": "markdown",
   "id": "7050b77c",
   "metadata": {},
   "source": [
    "### Post-mortem debugging"
   ]
  },
  {
   "cell_type": "code",
   "execution_count": 84,
   "id": "d7c960da",
   "metadata": {},
   "outputs": [
    {
     "data": {
      "text/plain": [
       "{(16, 2),\n",
       " (16, 3),\n",
       " (16, 4),\n",
       " (16, 5),\n",
       " (16, 6),\n",
       " (16, 7),\n",
       " (16, 8),\n",
       " (16, 9),\n",
       " (16, 10),\n",
       " (16, 11),\n",
       " (16, 12),\n",
       " (16, 13),\n",
       " (16, 14),\n",
       " (16, 15),\n",
       " (16, 16),\n",
       " (16, 17),\n",
       " (16, 18),\n",
       " (16, 19),\n",
       " (16, 20),\n",
       " (16, 21),\n",
       " (16, 22),\n",
       " (16, 23),\n",
       " (16, 24),\n",
       " (16, 25),\n",
       " (16, 26),\n",
       " (16, 27),\n",
       " (16, 28),\n",
       " (16, 29),\n",
       " (16, 30),\n",
       " (16, 31),\n",
       " (16, 32),\n",
       " (16, 33),\n",
       " (16, 34),\n",
       " (16, 35),\n",
       " (16, 36),\n",
       " (16, 37),\n",
       " (16, 38),\n",
       " (16, 39),\n",
       " (16, 40),\n",
       " (16, 41),\n",
       " (16, 42),\n",
       " (16, 43),\n",
       " (16, 44),\n",
       " (16, 45),\n",
       " (16, 46),\n",
       " (16, 47),\n",
       " (16, 48),\n",
       " (16, 49),\n",
       " (16, 50),\n",
       " (16, 51),\n",
       " (16, 52),\n",
       " (16, 53),\n",
       " (16, 54),\n",
       " (16, 55),\n",
       " (16, 56),\n",
       " (16, 57),\n",
       " (16, 58),\n",
       " (16, 59),\n",
       " (16, 60),\n",
       " (16, 61),\n",
       " (16, 62),\n",
       " (16, 63),\n",
       " (16, 64),\n",
       " (16, 65),\n",
       " (16, 66),\n",
       " (16, 67),\n",
       " (16, 68),\n",
       " (16, 69),\n",
       " (16, 70),\n",
       " (16, 71),\n",
       " (16, 72),\n",
       " (16, 73),\n",
       " (16, 74),\n",
       " (16, 75),\n",
       " (16, 100),\n",
       " (16, 101),\n",
       " (16, 102),\n",
       " (16, 103),\n",
       " (16, 104),\n",
       " (16, 105),\n",
       " (16, 106),\n",
       " (16, 107),\n",
       " (16, 108),\n",
       " (16, 109),\n",
       " (16, 110),\n",
       " (16, 111),\n",
       " (16, 112),\n",
       " (16, 113),\n",
       " (16, 114),\n",
       " (16, 115),\n",
       " (16, 116),\n",
       " (16, 117),\n",
       " (16, 118),\n",
       " (16, 119),\n",
       " (16, 120),\n",
       " (16, 121),\n",
       " (16, 122),\n",
       " (16, 123),\n",
       " (16, 124),\n",
       " (16, 125),\n",
       " (16, 126),\n",
       " (16, 127),\n",
       " (16, 128),\n",
       " (16, 129),\n",
       " (16, 130),\n",
       " (16, 131),\n",
       " (16, 132),\n",
       " (16, 133),\n",
       " (16, 134),\n",
       " (16, 135),\n",
       " (16, 136),\n",
       " (16, 137),\n",
       " (16, 138),\n",
       " (16, 139),\n",
       " (16, 140),\n",
       " (16, 141),\n",
       " (16, 142),\n",
       " (16, 143),\n",
       " (16, 144),\n",
       " (16, 145),\n",
       " (16, 146),\n",
       " (16, 147),\n",
       " (16, 148),\n",
       " (16, 149),\n",
       " (16, 150),\n",
       " (16, 151),\n",
       " (16, 152),\n",
       " (16, 153)}"
      ]
     },
     "execution_count": 84,
     "metadata": {},
     "output_type": "execute_result"
    }
   ],
   "source": [
    "def part_2_a(data):\n",
    "    min_x, max_x, min_y, max_y = data['min_x'], data['max_x'], data['min_y'], data['max_y']\n",
    "    n_steps_xs = defaultdict(set)\n",
    "    static_xs = possible_x_velocities(min_x, max_x)\n",
    "    for vx in range(static_xs[0], max_x + 1):\n",
    "        x = 0\n",
    "        v = vx\n",
    "        n = 0\n",
    "        while x < max_x and v > 0:\n",
    "            x += v\n",
    "            v -= 1\n",
    "            n += 1\n",
    "            if min_x <= x <= max_x:\n",
    "                n_steps_xs[n].add(vx)\n",
    "    \n",
    "    n_steps_ys = defaultdict(set)\n",
    "    for vy in range(min_y, -min_y):\n",
    "        y = 0\n",
    "        v = vy\n",
    "        n = 0\n",
    "        while y > min_y:\n",
    "            y += v\n",
    "            v -= 1\n",
    "            n += 1\n",
    "            if min_y <= y <= max_y:\n",
    "                n_steps_ys[n].add(vy)\n",
    "                \n",
    "    for vx in static_xs:\n",
    "        for n in n_steps_ys:\n",
    "            if n > vx:\n",
    "                n_steps_xs[n].add(vx)\n",
    "\n",
    "    velocities = set()\n",
    "    for n in n_steps_ys:\n",
    "        for vx, vy in product(n_steps_xs[n], n_steps_ys[n]):\n",
    "            velocities.add((vx, vy))\n",
    "\n",
    "    return velocities\n",
    "\n",
    "def part_2_b(data):\n",
    "    min_x, max_x, min_y, max_y = data['min_x'], data['max_x'], data['min_y'], data['max_y']\n",
    "    velocities = set()\n",
    "    static_xs = possible_x_velocities(min_x, max_x)\n",
    "    for vx in range(static_xs[0], max_x + 1):\n",
    "        for vy in range(min_y, -min_y):\n",
    "            x = 0\n",
    "            y = 0\n",
    "            v_x = vx\n",
    "            v_y = vy\n",
    "            while x <= max_x and y >= min_y:\n",
    "                if x >= min_x and y <= max_y:\n",
    "                    velocities.add((vx, vy))\n",
    "                    break\n",
    "                x += v_x\n",
    "                if v_x > 0:\n",
    "                    v_x -= 1\n",
    "                y += v_y\n",
    "                v_y -= 1\n",
    "\n",
    "    return velocities\n",
    "\n",
    "part_2_b(data) - part_2_a(data)"
   ]
  },
  {
   "cell_type": "code",
   "execution_count": 82,
   "id": "9bfe906a",
   "metadata": {},
   "outputs": [
    {
     "data": {
      "text/plain": [
       "(15, 17)"
      ]
     },
     "execution_count": 82,
     "metadata": {},
     "output_type": "execute_result"
    }
   ],
   "source": [
    "possible_x_velocities(111, 161)"
   ]
  },
  {
   "cell_type": "markdown",
   "id": "27475002",
   "metadata": {},
   "source": [
    "Ah, I should be using a range."
   ]
  },
  {
   "cell_type": "code",
   "execution_count": 85,
   "id": "95122c9a",
   "metadata": {},
   "outputs": [],
   "source": [
    "def part_2(data):\n",
    "    min_x, max_x, min_y, max_y = data['min_x'], data['max_x'], data['min_y'], data['max_y']\n",
    "    n_steps_xs = defaultdict(set)\n",
    "    static_xs = possible_x_velocities(min_x, max_x)\n",
    "    for vx in range(static_xs[0], max_x + 1):\n",
    "        x = 0\n",
    "        v = vx\n",
    "        n = 0\n",
    "        while x < max_x and v > 0:\n",
    "            x += v\n",
    "            v -= 1\n",
    "            n += 1\n",
    "            if min_x <= x <= max_x:\n",
    "                n_steps_xs[n].add(vx)\n",
    "    \n",
    "    n_steps_ys = defaultdict(set)\n",
    "    for vy in range(min_y, -min_y):\n",
    "        y = 0\n",
    "        v = vy\n",
    "        n = 0\n",
    "        while y > min_y:\n",
    "            y += v\n",
    "            v -= 1\n",
    "            n += 1\n",
    "            if min_y <= y <= max_y:\n",
    "                n_steps_ys[n].add(vy)\n",
    "                \n",
    "    for vx in range(static_xs[0], static_xs[1] + 1):\n",
    "        for n in n_steps_ys:\n",
    "            if n > vx:\n",
    "                n_steps_xs[n].add(vx)\n",
    "\n",
    "    velocities = set()\n",
    "    for n in n_steps_ys:\n",
    "        for vx, vy in product(n_steps_xs[n], n_steps_ys[n]):\n",
    "            velocities.add((vx, vy))\n",
    "\n",
    "    return len(velocities)\n",
    "\n",
    "assert part_2(test_data) == 112"
   ]
  },
  {
   "cell_type": "code",
   "execution_count": 86,
   "id": "9185b5fb",
   "metadata": {},
   "outputs": [
    {
     "data": {
      "text/plain": [
       "4531"
      ]
     },
     "execution_count": 86,
     "metadata": {},
     "output_type": "execute_result"
    }
   ],
   "source": [
    "part_2(data)"
   ]
  },
  {
   "cell_type": "code",
   "execution_count": 87,
   "id": "2762deea",
   "metadata": {},
   "outputs": [
    {
     "name": "stdout",
     "output_type": "stream",
     "text": [
      "3.1 ms ± 15.3 µs per loop (mean ± std. dev. of 7 runs, 100 loops each)\n"
     ]
    }
   ],
   "source": [
    "%%timeit\n",
    "part_2(data)"
   ]
  },
  {
   "cell_type": "markdown",
   "id": "a7f4512b",
   "metadata": {},
   "source": [
    "Quite a bit faster."
   ]
  },
  {
   "cell_type": "code",
   "execution_count": null,
   "id": "19a3472c",
   "metadata": {},
   "outputs": [],
   "source": []
  }
 ],
 "metadata": {
  "kernelspec": {
   "display_name": "Python 3 (ipykernel)",
   "language": "python",
   "name": "python3"
  },
  "language_info": {
   "codemirror_mode": {
    "name": "ipython",
    "version": 3
   },
   "file_extension": ".py",
   "mimetype": "text/x-python",
   "name": "python",
   "nbconvert_exporter": "python",
   "pygments_lexer": "ipython3",
   "version": "3.9.9"
  }
 },
 "nbformat": 4,
 "nbformat_minor": 5
}
