{
 "cells": [
  {
   "cell_type": "markdown",
   "id": "554c3003",
   "metadata": {},
   "source": [
    "# Day 17\n",
    "## Part 1"
   ]
  },
  {
   "cell_type": "code",
   "execution_count": 5,
   "id": "39461610",
   "metadata": {},
   "outputs": [
    {
     "data": {
      "text/plain": [
       "{'min_x': 20, 'max_x': 30, 'min_y': -10, 'max_y': -5}"
      ]
     },
     "execution_count": 5,
     "metadata": {},
     "output_type": "execute_result"
    }
   ],
   "source": [
    "import parse\n",
    "\n",
    "def parse_data(s):\n",
    "    return parse.parse('target area: x={min_x:d}..{max_x:d}, y={min_y:d}..{max_y:d}', s).named\n",
    "\n",
    "test_data = parse_data('target area: x=20..30, y=-10..-5')\n",
    "test_data"
   ]
  },
  {
   "cell_type": "markdown",
   "id": "91cd4b68",
   "metadata": {},
   "source": [
    "Assume that as $x$ will get to $0$ and stay there, $y$ will continue rising and fall while $x$ is constant.\n",
    "\n",
    "$x$ and $y$ are independent, so find the initial velocities of $x$ that reach 0 between `min_x` and `max_x` and how many steps it takes them to do so. An initial velocity of $v_x$ will reach 0 after $v_x$ steps and will have an $x$ coordinate of $v_x(v_x+1)/2$, so the bounds for the velocities are given by $n^2 + n - 2x_{min}=0$ and $n^2 + n - 2x_{max}=0$. Solving the polynomials gives the following."
   ]
  },
  {
   "cell_type": "code",
   "execution_count": 21,
   "id": "5e4f56f9",
   "metadata": {},
   "outputs": [],
   "source": [
    "import math\n",
    "\n",
    "def possible_x_velocities(min_x, max_x):\n",
    "    return math.ceil((-1 + math.sqrt(1 + 8 * min_x)) / 2), math.floor((-1 + math.sqrt(1 + 8 * max_x)) / 2)\n",
    "    "
   ]
  },
  {
   "cell_type": "code",
   "execution_count": 30,
   "id": "a7c00b9c",
   "metadata": {},
   "outputs": [
    {
     "data": {
      "text/plain": [
       "(6, 7)"
      ]
     },
     "execution_count": 30,
     "metadata": {},
     "output_type": "execute_result"
    }
   ],
   "source": [
    "possible_x_velocities(20, 30)"
   ]
  },
  {
   "cell_type": "markdown",
   "id": "2b035a98",
   "metadata": {},
   "source": [
    "I've just realised we don't really care what $v_x$ is. Never mind.\n",
    "\n",
    "A starting $y$ velocity of $v_y$ means $y$ reach its apex $v_y(v_y+1)/2$ after $v_y$ steps, and then takes another $v_y$ steps to return to 0, where it has a velocity of $-y_v$. \n",
    "\n",
    "Oh hang on, we then need to work out the highest value of $v_y$ such that its next step $-v_y-1$ is within the target area, which is 9 for the example above, and $9(9+1)/2 = 45$.\n",
    "\n",
    "My data is `target area: x=111..161, y=-154..-101`, so"
   ]
  },
  {
   "cell_type": "code",
   "execution_count": 27,
   "id": "d1c9c30a",
   "metadata": {},
   "outputs": [
    {
     "data": {
      "text/plain": [
       "11781"
      ]
     },
     "execution_count": 27,
     "metadata": {},
     "output_type": "execute_result"
    }
   ],
   "source": [
    "153*154//2"
   ]
  },
  {
   "cell_type": "markdown",
   "id": "e1e16fb6",
   "metadata": {},
   "source": [
    "is the answer."
   ]
  },
  {
   "cell_type": "markdown",
   "id": "a21236dd",
   "metadata": {},
   "source": [
    "## Part 2"
   ]
  },
  {
   "cell_type": "markdown",
   "id": "b5a24699",
   "metadata": {},
   "source": [
    "Now need to find the number of pairs of velocities that land in the target at any point. For each number of steps count the number of initial $v_x$s and the number of initial $v_y$s that are in the target at that point, and multiply them together as they're independent. \n",
    "\n",
    "Possible values of $v_x$ are bound by the minimum value returned by the `possible_x_velocities` function - it's actually useful! - and $x_{max}$. $v_y$ is bound between $y_{min}$ and $-y_{min}-1$, with a gap in the middle that I can't be bothered working out.\n",
    "\n",
    "The $x$ values bounded by the `possible_x_velocities` function will always be there, so adjustments need to be made for that."
   ]
  },
  {
   "cell_type": "code",
   "execution_count": 41,
   "id": "8247a93e",
   "metadata": {},
   "outputs": [],
   "source": [
    "from collections import defaultdict\n",
    "from itertools import product\n",
    "\n",
    "def part_2(data):\n",
    "    min_x, max_x, min_y, max_y = data['min_x'], data['max_x'], data['min_y'], data['max_y']\n",
    "    n_steps_xs = defaultdict(set)\n",
    "    static_xs = possible_x_velocities(min_x, max_x)\n",
    "    for vx in range(static_xs[0], max_x + 1):\n",
    "        x = 0\n",
    "        v = vx\n",
    "        n = 0\n",
    "        while x < max_x and v > 0:\n",
    "            x += v\n",
    "            v -= 1\n",
    "            n += 1\n",
    "            if min_x <= x <= max_x:\n",
    "                n_steps_xs[n].add(vx)\n",
    "    \n",
    "    n_steps_ys = defaultdict(set)\n",
    "    for vy in range(min_y, -min_y):\n",
    "        y = 0\n",
    "        v = vy\n",
    "        n = 0\n",
    "        while y > min_y:\n",
    "            y += v\n",
    "            v -= 1\n",
    "            n += 1\n",
    "            if min_y <= y <= max_y:\n",
    "                n_steps_ys[n].add(vy)\n",
    "                \n",
    "    for vx in static_xs:\n",
    "        for n in n_steps_ys:\n",
    "            if n > vx:\n",
    "                n_steps_xs[n].add(vx)\n",
    "\n",
    "    velocities = set()\n",
    "    for n in n_steps_ys:\n",
    "        for vx, vy in product(n_steps_xs[n], n_steps_ys[n]):\n",
    "            velocities.add((vx, vy))\n",
    "\n",
    "    return len(velocities)\n",
    "\n",
    "assert part_2(test_data) == 112"
   ]
  },
  {
   "cell_type": "code",
   "execution_count": 42,
   "id": "d6296c90",
   "metadata": {},
   "outputs": [
    {
     "data": {
      "text/plain": [
       "4403"
      ]
     },
     "execution_count": 42,
     "metadata": {},
     "output_type": "execute_result"
    }
   ],
   "source": [
    "data = parse_data('target area: x=111..161, y=-154..-101')\n",
    "part_2(data)"
   ]
  },
  {
   "cell_type": "markdown",
   "id": "e5733a97",
   "metadata": {},
   "source": [
    "Another one where the test data passes but the real data doesn't."
   ]
  },
  {
   "cell_type": "code",
   "execution_count": null,
   "id": "b393cd1a",
   "metadata": {},
   "outputs": [],
   "source": []
  }
 ],
 "metadata": {
  "kernelspec": {
   "display_name": "Python 3 (ipykernel)",
   "language": "python",
   "name": "python3"
  },
  "language_info": {
   "codemirror_mode": {
    "name": "ipython",
    "version": 3
   },
   "file_extension": ".py",
   "mimetype": "text/x-python",
   "name": "python",
   "nbconvert_exporter": "python",
   "pygments_lexer": "ipython3",
   "version": "3.9.9"
  }
 },
 "nbformat": 4,
 "nbformat_minor": 5
}
