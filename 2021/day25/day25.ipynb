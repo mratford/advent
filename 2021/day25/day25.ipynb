{
 "cells": [
  {
   "cell_type": "markdown",
   "id": "554c3003",
   "metadata": {},
   "source": [
    "# Day 25\n",
    "## Part 1"
   ]
  },
  {
   "cell_type": "code",
   "execution_count": 1,
   "id": "39461610",
   "metadata": {},
   "outputs": [],
   "source": [
    "from copy import deepcopy\n",
    "\n",
    "def parse_data(s):\n",
    "    return [[c for c in line] for line in s.strip().splitlines()]\n",
    "\n",
    "def part_1(data):\n",
    "    steps = 0\n",
    "    still_moving = True\n",
    "    len_row = len(data)\n",
    "    len_col = len(data[0])\n",
    "    while still_moving:\n",
    "#         print(steps)\n",
    "#         print('\\n'.join([''.join(line) for line in data]))\n",
    "        new_map = deepcopy(data)\n",
    "        still_moving = False\n",
    "        for r in range(len_row):\n",
    "            for c in range(len_col):\n",
    "                if data[r][c] == '>' and data[r][(c + 1) % len_col] == '.':\n",
    "                    new_map[r][c] = '.'\n",
    "                    new_map[r][(c + 1) % len_col] = '>'\n",
    "                    still_moving = True\n",
    "        data = deepcopy(new_map)\n",
    "        for r in range(len_row):\n",
    "            for c in range(len_col):\n",
    "                if data[r][c] == 'v' and data[(r + 1) % len_row][c] == '.':\n",
    "                    new_map[r][c] = '.'\n",
    "                    new_map[(r + 1) % len_row][c] = 'v'\n",
    "                    still_moving = True\n",
    "        data = deepcopy(new_map)\n",
    "        steps += 1\n",
    "    return steps\n",
    "\n",
    "test_data = parse_data('''\n",
    "v...>>.vv>\n",
    ".vv>>.vv..\n",
    ">>.>v>...v\n",
    ">>v>>.>.v.\n",
    "v>v.vv.v..\n",
    ">.>>..v...\n",
    ".vv..>.>v.\n",
    "v.v..>>v.v\n",
    "....v..v.>\n",
    "''')"
   ]
  },
  {
   "cell_type": "code",
   "execution_count": 2,
   "id": "8ef8e670",
   "metadata": {},
   "outputs": [
    {
     "data": {
      "text/plain": [
       "58"
      ]
     },
     "execution_count": 2,
     "metadata": {},
     "output_type": "execute_result"
    }
   ],
   "source": [
    "part_1(test_data)"
   ]
  },
  {
   "cell_type": "code",
   "execution_count": 3,
   "id": "7decd7f3",
   "metadata": {},
   "outputs": [
    {
     "data": {
      "text/plain": [
       "528"
      ]
     },
     "execution_count": 3,
     "metadata": {},
     "output_type": "execute_result"
    }
   ],
   "source": [
    "data = parse_data(open('input', 'r').read())\n",
    "part_1(data)"
   ]
  },
  {
   "cell_type": "code",
   "execution_count": null,
   "id": "8b5628e2",
   "metadata": {},
   "outputs": [],
   "source": []
  }
 ],
 "metadata": {
  "kernelspec": {
   "display_name": "Python 3 (ipykernel)",
   "language": "python",
   "name": "python3"
  },
  "language_info": {
   "codemirror_mode": {
    "name": "ipython",
    "version": 3
   },
   "file_extension": ".py",
   "mimetype": "text/x-python",
   "name": "python",
   "nbconvert_exporter": "python",
   "pygments_lexer": "ipython3",
   "version": "3.10.1"
  }
 },
 "nbformat": 4,
 "nbformat_minor": 5
}
