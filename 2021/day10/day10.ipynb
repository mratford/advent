{
 "cells": [
  {
   "cell_type": "markdown",
   "id": "554c3003",
   "metadata": {},
   "source": [
    "# Day 10\n",
    "## Part 1\n",
    "Keep a stack of expected parentheses and stop when not matched."
   ]
  },
  {
   "cell_type": "code",
   "execution_count": 3,
   "id": "39461610",
   "metadata": {},
   "outputs": [],
   "source": [
    "def parse_data(s):\n",
    "    return [line.strip() for line in s.strip().splitlines()]\n",
    "\n",
    "\n",
    "def process_line(line):\n",
    "    parentheses = {\n",
    "        '(': ')',\n",
    "        '[': ']',\n",
    "        '{': '}',\n",
    "        '<': '>'\n",
    "    }\n",
    "    penalties = {\n",
    "        ')': 3,\n",
    "        ']': 57,\n",
    "        '}': 1197,\n",
    "        '>': 25137\n",
    "    }\n",
    "    stack = []\n",
    "    for c in line:\n",
    "        if c in parentheses:\n",
    "            stack.append(parentheses[c])\n",
    "        else:\n",
    "            if c != stack.pop():\n",
    "                return penalties[c]\n",
    "    return 0\n",
    "\n",
    "\n",
    "def part_1(data):\n",
    "    return sum(process_line(line) for line in data)\n",
    "\n",
    "\n",
    "test_string = '''[({(<(())[]>[[{[]{<()<>>\n",
    "[(()[<>])]({[<{<<[]>>(\n",
    "{([(<{}[<>[]}>{[]{[(<()>\n",
    "(((({<>}<{<{<>}{[]{[]{}\n",
    "[[<[([]))<([[{}[[()]]]\n",
    "[{[{({}]{}}([{[{{{}}([]\n",
    "{<[[]]>}<{[{[{[]{()[[[]\n",
    "[<(<(<(<{}))><([]([]()\n",
    "<{([([[(<>()){}]>(<<{{\n",
    "<{([{{}}[<[[[<>{}]]]>[]]\n",
    "'''\n",
    "test_data = parse_data(test_string)\n",
    "assert part_1(test_data) == 26397"
   ]
  },
  {
   "cell_type": "code",
   "execution_count": 5,
   "id": "e61a02c7",
   "metadata": {},
   "outputs": [
    {
     "data": {
      "text/plain": [
       "392043"
      ]
     },
     "execution_count": 5,
     "metadata": {},
     "output_type": "execute_result"
    }
   ],
   "source": [
    "data = parse_data(open('input', 'r').read())\n",
    "part_1(data)"
   ]
  },
  {
   "cell_type": "markdown",
   "id": "81c173a8",
   "metadata": {},
   "source": [
    "## Part 2\n",
    "Keep popping the remaining stack, calculating the scores as we go."
   ]
  },
  {
   "cell_type": "code",
   "execution_count": 12,
   "id": "657651c6",
   "metadata": {},
   "outputs": [],
   "source": [
    "import statistics\n",
    "\n",
    "def score_line(line):\n",
    "    parentheses = {\n",
    "        '(': ')',\n",
    "        '[': ']',\n",
    "        '{': '}',\n",
    "        '<': '>'\n",
    "    }\n",
    "    penalties = {\n",
    "        ')': 3,\n",
    "        ']': 57,\n",
    "        '}': 1197,\n",
    "        '>': 25137\n",
    "    }\n",
    "    scores = {\n",
    "        ')': 1,\n",
    "        ']': 2,\n",
    "        '}': 3,\n",
    "        '>': 4\n",
    "    }\n",
    "    stack = []\n",
    "    for c in line:\n",
    "        if c in parentheses:\n",
    "            stack.append(parentheses[c])\n",
    "        else:\n",
    "            if c != stack.pop():\n",
    "                return 0\n",
    "    score = 0\n",
    "    while stack:\n",
    "        c = stack.pop()\n",
    "        score *= 5\n",
    "        score += scores[c]\n",
    "    return score\n",
    "\n",
    "def part_2(data):\n",
    "    scores = [score_line(line) for line in data]\n",
    "    return statistics.median(score for score in scores if score > 0)\n",
    "\n",
    "assert part_2(test_data) == 288957"
   ]
  },
  {
   "cell_type": "code",
   "execution_count": 13,
   "id": "cd64097e",
   "metadata": {},
   "outputs": [
    {
     "data": {
      "text/plain": [
       "1605968119"
      ]
     },
     "execution_count": 13,
     "metadata": {},
     "output_type": "execute_result"
    }
   ],
   "source": [
    "part_2(data)"
   ]
  }
 ],
 "metadata": {
  "kernelspec": {
   "display_name": "Python 3 (ipykernel)",
   "language": "python",
   "name": "python3"
  },
  "language_info": {
   "codemirror_mode": {
    "name": "ipython",
    "version": 3
   },
   "file_extension": ".py",
   "mimetype": "text/x-python",
   "name": "python",
   "nbconvert_exporter": "python",
   "pygments_lexer": "ipython3",
   "version": "3.9.9"
  }
 },
 "nbformat": 4,
 "nbformat_minor": 5
}
