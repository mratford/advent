{
 "cells": [
  {
   "cell_type": "markdown",
   "id": "554c3003",
   "metadata": {},
   "source": [
    "# Day 11\n",
    "## Part 1\n",
    "Use a class as there's a bit of state to keep track of and it will be useful to pretty print for debugging. "
   ]
  },
  {
   "cell_type": "code",
   "execution_count": 1,
   "id": "39461610",
   "metadata": {},
   "outputs": [
    {
     "data": {
      "text/plain": [
       "5483143223\n",
       "2745854711\n",
       "5264556173\n",
       "6141336146\n",
       "6357385478\n",
       "4167524645\n",
       "2176841721\n",
       "6882881134\n",
       "4846848554\n",
       "5283751526"
      ]
     },
     "execution_count": 1,
     "metadata": {},
     "output_type": "execute_result"
    }
   ],
   "source": [
    "import numpy as np\n",
    "\n",
    "class Cavern:\n",
    "    def __init__(self, data_string):\n",
    "        self.grid = np.array([[int(c) for c in line.strip()] \n",
    "                             for line in data_string.strip().splitlines()])\n",
    "        self.steps = 0\n",
    "        self.flashes = 0\n",
    "        self.n_row, self.n_col = len(self.grid), len(self.grid[0])\n",
    "        \n",
    "        \n",
    "    def __repr__(self):\n",
    "        return '\\n'.join(''.join(str(n) for n in row) for row in self.grid) + '\\n'\n",
    "\n",
    "    \n",
    "    def __str__(self):\n",
    "        repr = ''\n",
    "        if self.steps == 0:\n",
    "            repr += 'Before any steps:\\n'\n",
    "        else:\n",
    "            repr += f'After step {self.steps}:\\n'\n",
    "        repr += self.__repr__()\n",
    "        return repr\n",
    "\n",
    "    \n",
    "    def step(self, n=1):\n",
    "        for _ in range(n):\n",
    "            # Add 1 to every octopus\n",
    "            self.grid += 1\n",
    "            # Track the octopi yet to flash\n",
    "            to_flash = set()\n",
    "            # ... and the octopi already flashed\n",
    "            flashed = set()\n",
    "            # Add any new ready-to-flash octopi to the unflashed octopi and remove any\n",
    "            # that have flashed.\n",
    "            while to_flash := to_flash | set(zip(*np.nonzero(self.grid > 9))) - flashed:\n",
    "                # Process one octopus at a time\n",
    "                row, col = to_flash.pop()\n",
    "                # Add one to all octopi in the surrounding square\n",
    "                self.grid[max(row - 1, 0):min(row + 2, self.n_row),\n",
    "                          max(col - 1, 0):min(col + 2, self.n_col)] += 1\n",
    "                # Mark the centre octopus as flashed\n",
    "                flashed.add((row, col))\n",
    "                \n",
    "            # Count the octopi flashing at this step\n",
    "            self.flashes += (self.grid > 9).sum()\n",
    "            # and reset their energy\n",
    "            self.grid[self.grid > 9] = 0\n",
    "            self.steps += 1\n",
    "            \n",
    "        return self          \n",
    "    \n",
    "    \n",
    "test_string = '''\n",
    "5483143223\n",
    "2745854711\n",
    "5264556173\n",
    "6141336146\n",
    "6357385478\n",
    "4167524645\n",
    "2176841721\n",
    "6882881134\n",
    "4846848554\n",
    "5283751526\n",
    "'''\n",
    "\n",
    "Cavern(test_string)"
   ]
  },
  {
   "cell_type": "code",
   "execution_count": 2,
   "id": "8753bfc6",
   "metadata": {},
   "outputs": [
    {
     "name": "stdout",
     "output_type": "stream",
     "text": [
      "Before any steps:\n",
      "5483143223\n",
      "2745854711\n",
      "5264556173\n",
      "6141336146\n",
      "6357385478\n",
      "4167524645\n",
      "2176841721\n",
      "6882881134\n",
      "4846848554\n",
      "5283751526\n",
      "\n",
      "After step 1:\n",
      "6594254334\n",
      "3856965822\n",
      "6375667284\n",
      "7252447257\n",
      "7468496589\n",
      "5278635756\n",
      "3287952832\n",
      "7993992245\n",
      "5957959665\n",
      "6394862637\n",
      "\n",
      "After step 2:\n",
      "8807476555\n",
      "5089087054\n",
      "8597889608\n",
      "8485769600\n",
      "8700908800\n",
      "6600088989\n",
      "6800005943\n",
      "0000007456\n",
      "9000000876\n",
      "8700006848\n",
      "\n",
      "After step 3:\n",
      "0050900866\n",
      "8500800575\n",
      "9900000039\n",
      "9700000041\n",
      "9935080063\n",
      "7712300000\n",
      "7911250009\n",
      "2211130000\n",
      "0421125000\n",
      "0021119000\n",
      "\n",
      "After step 4:\n",
      "2263031977\n",
      "0923031697\n",
      "0032221150\n",
      "0041111163\n",
      "0076191174\n",
      "0053411122\n",
      "0042361120\n",
      "5532241122\n",
      "1532247211\n",
      "1132230211\n",
      "\n",
      "After step 5:\n",
      "4484144000\n",
      "2044144000\n",
      "2253333493\n",
      "1152333274\n",
      "1187303285\n",
      "1164633233\n",
      "1153472231\n",
      "6643352233\n",
      "2643358322\n",
      "2243341322\n",
      "\n",
      "After step 6:\n",
      "5595255111\n",
      "3155255222\n",
      "3364444605\n",
      "2263444496\n",
      "2298414396\n",
      "2275744344\n",
      "2264583342\n",
      "7754463344\n",
      "3754469433\n",
      "3354452433\n",
      "\n",
      "After step 7:\n",
      "6707366222\n",
      "4377366333\n",
      "4475555827\n",
      "3496655709\n",
      "3500625609\n",
      "3509955566\n",
      "3486694453\n",
      "8865585555\n",
      "4865580644\n",
      "4465574644\n",
      "\n",
      "After step 8:\n",
      "7818477333\n",
      "5488477444\n",
      "5697666949\n",
      "4608766830\n",
      "4734946730\n",
      "4740097688\n",
      "6900007564\n",
      "0000009666\n",
      "8000004755\n",
      "6800007755\n",
      "\n",
      "After step 9:\n",
      "9060000644\n",
      "7800000976\n",
      "6900000080\n",
      "5840000082\n",
      "5858000093\n",
      "6962400000\n",
      "8021250009\n",
      "2221130009\n",
      "9111128097\n",
      "7911119976\n",
      "\n",
      "After step 10:\n",
      "0481112976\n",
      "0031112009\n",
      "0041112504\n",
      "0081111406\n",
      "0099111306\n",
      "0093511233\n",
      "0442361130\n",
      "5532252350\n",
      "0532250600\n",
      "0032240000\n",
      "\n"
     ]
    }
   ],
   "source": [
    "c = Cavern(test_string)\n",
    "print(c)\n",
    "for _ in range(10):\n",
    "    c.step(1)\n",
    "    print(c)"
   ]
  },
  {
   "cell_type": "markdown",
   "id": "5efcb374",
   "metadata": {},
   "source": [
    "That looks ok."
   ]
  },
  {
   "cell_type": "code",
   "execution_count": 3,
   "id": "666e6628",
   "metadata": {},
   "outputs": [],
   "source": [
    "def part_1(data_string):\n",
    "    return Cavern(data_string).step(100).flashes\n",
    "\n",
    "assert part_1(test_string) == 1656"
   ]
  },
  {
   "cell_type": "code",
   "execution_count": 4,
   "id": "22cb57a0",
   "metadata": {},
   "outputs": [
    {
     "data": {
      "text/plain": [
       "1675"
      ]
     },
     "execution_count": 4,
     "metadata": {},
     "output_type": "execute_result"
    }
   ],
   "source": [
    "data = open('input', 'r').read()\n",
    "\n",
    "part_1(data)"
   ]
  },
  {
   "cell_type": "markdown",
   "id": "9d3a96fb",
   "metadata": {},
   "source": [
    "## Part 2"
   ]
  },
  {
   "cell_type": "code",
   "execution_count": 5,
   "id": "7e60d7dc",
   "metadata": {},
   "outputs": [],
   "source": [
    "def part_2(data_string):\n",
    "    cavern = Cavern(data_string)\n",
    "    # If all energy is zero this check will fail\n",
    "    while cavern.grid.any():\n",
    "        cavern.step()\n",
    "    return cavern.steps\n",
    "\n",
    "assert part_2(test_string) == 195"
   ]
  },
  {
   "cell_type": "code",
   "execution_count": 6,
   "id": "45c0c403",
   "metadata": {},
   "outputs": [
    {
     "data": {
      "text/plain": [
       "515"
      ]
     },
     "execution_count": 6,
     "metadata": {},
     "output_type": "execute_result"
    }
   ],
   "source": [
    "part_2(data)"
   ]
  },
  {
   "cell_type": "code",
   "execution_count": null,
   "id": "a02cab78",
   "metadata": {},
   "outputs": [],
   "source": []
  }
 ],
 "metadata": {
  "kernelspec": {
   "display_name": "Python 3 (ipykernel)",
   "language": "python",
   "name": "python3"
  },
  "language_info": {
   "codemirror_mode": {
    "name": "ipython",
    "version": 3
   },
   "file_extension": ".py",
   "mimetype": "text/x-python",
   "name": "python",
   "nbconvert_exporter": "python",
   "pygments_lexer": "ipython3",
   "version": "3.9.9"
  }
 },
 "nbformat": 4,
 "nbformat_minor": 5
}
