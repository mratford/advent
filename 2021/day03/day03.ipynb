{
 "cells": [
  {
   "cell_type": "markdown",
   "id": "554c3003",
   "metadata": {},
   "source": [
    "# Day 3\n",
    "## Part 1"
   ]
  },
  {
   "cell_type": "code",
   "execution_count": 1,
   "id": "39461610",
   "metadata": {},
   "outputs": [
    {
     "data": {
      "text/plain": [
       "['00100',\n",
       " '11110',\n",
       " '10110',\n",
       " '10111',\n",
       " '10101',\n",
       " '01111',\n",
       " '00111',\n",
       " '11100',\n",
       " '10000',\n",
       " '11001',\n",
       " '00010',\n",
       " '01010']"
      ]
     },
     "execution_count": 1,
     "metadata": {},
     "output_type": "execute_result"
    }
   ],
   "source": [
    "def parse_data(s):\n",
    "    return s.splitlines()\n",
    "\n",
    "test_string = '''00100\n",
    "11110\n",
    "10110\n",
    "10111\n",
    "10101\n",
    "01111\n",
    "00111\n",
    "11100\n",
    "10000\n",
    "11001\n",
    "00010\n",
    "01010'''\n",
    "\n",
    "test_data = parse_data(test_string)\n",
    "test_data"
   ]
  },
  {
   "cell_type": "markdown",
   "id": "71b2ae61",
   "metadata": {},
   "source": [
    "Use Counter and the `zip(*xs)` trick to get a count of the most common elements in each column."
   ]
  },
  {
   "cell_type": "code",
   "execution_count": 2,
   "id": "fa66a4cd",
   "metadata": {},
   "outputs": [
    {
     "data": {
      "text/plain": [
       "[[('1', 7), ('0', 5)],\n",
       " [('0', 7), ('1', 5)],\n",
       " [('1', 8), ('0', 4)],\n",
       " [('1', 7), ('0', 5)],\n",
       " [('0', 7), ('1', 5)]]"
      ]
     },
     "execution_count": 2,
     "metadata": {},
     "output_type": "execute_result"
    }
   ],
   "source": [
    "from collections import Counter\n",
    "\n",
    "[Counter(column).most_common() for column in zip(*test_data)]"
   ]
  },
  {
   "cell_type": "code",
   "execution_count": 3,
   "id": "0e32d983",
   "metadata": {},
   "outputs": [],
   "source": [
    "def part_1(data):\n",
    "    counts = [Counter(column).most_common() for column in zip(*data)]\n",
    "    gamma = int(''.join([x[0][0] for x in counts]), 2)\n",
    "    epsilon = int(''.join([x[1][0] for x in counts]), 2)\n",
    "    return gamma * epsilon\n",
    "\n",
    "assert part_1(test_data) == 198"
   ]
  },
  {
   "cell_type": "code",
   "execution_count": 4,
   "id": "5460054e",
   "metadata": {},
   "outputs": [
    {
     "data": {
      "text/plain": [
       "4160394"
      ]
     },
     "execution_count": 4,
     "metadata": {},
     "output_type": "execute_result"
    }
   ],
   "source": [
    "data = parse_data(open('input', 'r').read())\n",
    "\n",
    "part_1(data)"
   ]
  },
  {
   "cell_type": "markdown",
   "id": "51afd52b",
   "metadata": {},
   "source": [
    "## Part 2"
   ]
  },
  {
   "cell_type": "code",
   "execution_count": 5,
   "id": "cacd8537",
   "metadata": {},
   "outputs": [],
   "source": [
    "def oxygen_generator_rating(data):\n",
    "    # Go through the columns left to right\n",
    "    for i in range(len(data)):\n",
    "        # Count the bits\n",
    "        counts = Counter(x[i] for x in data)\n",
    "        \n",
    "        # Find the most common, defaulting to one on a tie\n",
    "        most_common_bit = '0' if counts['0'] > counts['1'] else '1'\n",
    "            \n",
    "        # Keep the data with that bit in the column\n",
    "        data = [x for x in data if x[i] == most_common_bit]\n",
    "        # If there's only one left then that's\n",
    "        # the answer\n",
    "        if len(data) == 1:\n",
    "            return(int(''.join(data), 2))\n",
    "        \n",
    "assert oxygen_generator_rating(test_data) == 23"
   ]
  },
  {
   "cell_type": "code",
   "execution_count": 6,
   "id": "edd1734f",
   "metadata": {},
   "outputs": [],
   "source": [
    "def co2_scrubber_rating(data):\n",
    "    for i in range(len(data)):\n",
    "        counts = Counter(x[i] for x in data)\n",
    "        \n",
    "        least_common_bit = '1' if counts['1'] < counts['0'] else '0'\n",
    "        \n",
    "        data = [x for x in data if x[i] == least_common_bit]\n",
    "        if len(data) == 1:\n",
    "            return(int(''.join(data), 2))\n",
    "        \n",
    "assert co2_scrubber_rating(test_data) == 10"
   ]
  },
  {
   "cell_type": "code",
   "execution_count": 7,
   "id": "f6b9d94a",
   "metadata": {},
   "outputs": [
    {
     "data": {
      "text/plain": [
       "4125600"
      ]
     },
     "execution_count": 7,
     "metadata": {},
     "output_type": "execute_result"
    }
   ],
   "source": [
    "def part_2(data):\n",
    "    return oxygen_generator_rating(data) * co2_scrubber_rating(data)\n",
    "\n",
    "part_2(data)"
   ]
  },
  {
   "cell_type": "code",
   "execution_count": null,
   "id": "eeab5e4d",
   "metadata": {},
   "outputs": [],
   "source": []
  }
 ],
 "metadata": {
  "kernelspec": {
   "display_name": "Python 3 (ipykernel)",
   "language": "python",
   "name": "python3"
  },
  "language_info": {
   "codemirror_mode": {
    "name": "ipython",
    "version": 3
   },
   "file_extension": ".py",
   "mimetype": "text/x-python",
   "name": "python",
   "nbconvert_exporter": "python",
   "pygments_lexer": "ipython3",
   "version": "3.9.8"
  }
 },
 "nbformat": 4,
 "nbformat_minor": 5
}
