{
 "cells": [
  {
   "cell_type": "markdown",
   "id": "554c3003",
   "metadata": {},
   "source": [
    "# Day 7\n",
    "## Part 1\n",
    "The most efficient position will be the median, as any position either side means that fuel efficiency can be improved for more crabs than it will decline. "
   ]
  },
  {
   "cell_type": "code",
   "execution_count": 1,
   "id": "39461610",
   "metadata": {},
   "outputs": [],
   "source": [
    "import numpy as np\n",
    "\n",
    "def parse_data(s):\n",
    "    return np.array([int(x) for x in s.split(',')])\n",
    "\n",
    "def part_1(data):\n",
    "    p = np.median(data)\n",
    "    return int(np.sum(np.abs(data - p)))"
   ]
  },
  {
   "cell_type": "code",
   "execution_count": 2,
   "id": "ed7edd20",
   "metadata": {},
   "outputs": [],
   "source": [
    "test_string = '16,1,2,0,4,2,7,1,2,14'\n",
    "test_data = parse_data(test_string)\n",
    "assert part_1(test_data) == 37"
   ]
  },
  {
   "cell_type": "code",
   "execution_count": 3,
   "id": "8720ad22",
   "metadata": {},
   "outputs": [
    {
     "data": {
      "text/plain": [
       "343605"
      ]
     },
     "execution_count": 3,
     "metadata": {},
     "output_type": "execute_result"
    }
   ],
   "source": [
    "data = parse_data(open('input', 'r').read())\n",
    "part_1(data)"
   ]
  },
  {
   "cell_type": "markdown",
   "id": "fa55f9ff",
   "metadata": {},
   "source": [
    "## Part 2\n",
    "The fuel costs are now triangular numbers 1, 3, 6, 10, 15 so the fuel cost of distance $d$ is $d(d+1)/2$. I'm not sure if there's a way of calculating this without brute forcing it but at least the calculations are vectorised."
   ]
  },
  {
   "cell_type": "code",
   "execution_count": 4,
   "id": "56db175b",
   "metadata": {},
   "outputs": [],
   "source": [
    "def triangular(n):\n",
    "    return n * (n + 1) / 2\n",
    "\n",
    "def fuel_cost(crabs, point):\n",
    "    return int(np.sum(triangular(np.abs(crabs - point))))\n",
    "\n",
    "assert fuel_cost(test_data, 5) == 168"
   ]
  },
  {
   "cell_type": "code",
   "execution_count": 5,
   "id": "ec029db2",
   "metadata": {},
   "outputs": [],
   "source": [
    "def part_2(data):\n",
    "    return min(fuel_cost(data, p) for p in range(np.min(data), np.max(data) + 1))\n",
    "\n",
    "assert part_2(test_data) == 168"
   ]
  },
  {
   "cell_type": "code",
   "execution_count": 6,
   "id": "69a35490",
   "metadata": {},
   "outputs": [
    {
     "data": {
      "text/plain": [
       "96744904"
      ]
     },
     "execution_count": 6,
     "metadata": {},
     "output_type": "execute_result"
    }
   ],
   "source": [
    "part_2(data)"
   ]
  },
  {
   "cell_type": "markdown",
   "id": "7c0dae6c",
   "metadata": {},
   "source": [
    "That was pretty quick in the end."
   ]
  },
  {
   "cell_type": "code",
   "execution_count": null,
   "id": "2067897f",
   "metadata": {},
   "outputs": [],
   "source": []
  }
 ],
 "metadata": {
  "kernelspec": {
   "display_name": "Python 3 (ipykernel)",
   "language": "python",
   "name": "python3"
  },
  "language_info": {
   "codemirror_mode": {
    "name": "ipython",
    "version": 3
   },
   "file_extension": ".py",
   "mimetype": "text/x-python",
   "name": "python",
   "nbconvert_exporter": "python",
   "pygments_lexer": "ipython3",
   "version": "3.9.9"
  }
 },
 "nbformat": 4,
 "nbformat_minor": 5
}
