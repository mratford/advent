{
 "cells": [
  {
   "cell_type": "markdown",
   "id": "554c3003",
   "metadata": {},
   "source": [
    "# Day 19\n",
    "## Part 1\n",
    "~~I'm not bothering with this one.~~ Ok, the single empty day is nagging at me. Let's take this one slowly and not spend entire days debugging it.\n",
    "\n",
    "The idea is for each scanner to calculate the absolute differences on each axis between each detected pair of beacons, forming a matrix of three differences for each pair. Represent this as a graph. Then, for rach pair of scanners, calculate the overlapping distances. The pair of scanners with the highest number of mutual distances can combine their beacon maps into one by manipulating the axes of one to match the other. Repeat until their is only one beacon map left.\n",
    "\n",
    "Parse the scanners as lists of three-coordinate tuples."
   ]
  },
  {
   "cell_type": "code",
   "execution_count": 13,
   "id": "39461610",
   "metadata": {},
   "outputs": [],
   "source": [
    "import parse\n",
    "\n",
    "def parse_data(s):\n",
    "    scanners = []\n",
    "    for block in s.strip().split('\\n\\n'):\n",
    "        scanner = []\n",
    "        for line in block.splitlines():\n",
    "            if r := parse.parse('{x:d},{y:d},{z:d}', line):\n",
    "                scanner.append((r['x'], r['y'], r['z']))\n",
    "        scanners.append(scanner)\n",
    "    return scanners\n",
    "\n",
    "test_data = parse_data(open('test_input', 'r').read())\n",
    "data = parse_data(open('input', 'r').read())"
   ]
  },
  {
   "cell_type": "markdown",
   "id": "8b09edbe",
   "metadata": {},
   "source": [
    "Record the distance between each scanner's observations as a set of absolute differences in each coordinate direction, which will allow comparison with other scanners' coordinate systems."
   ]
  },
  {
   "cell_type": "code",
   "execution_count": 5,
   "id": "d6967ced",
   "metadata": {},
   "outputs": [],
   "source": [
    "import itertools\n",
    "import networkx as nx\n",
    "\n",
    "def beacon_map(scanner):\n",
    "    distances = nx.Graph()\n",
    "    for (i, (x_i, y_i, z_i)), (j, (x_j, y_j, z_j)) in itertools.combinations(enumerate(scanner), 2):\n",
    "        distance = frozenset([abs(d) for d in [x_i - x_j, y_i - y_j, z_i - z_j]])\n",
    "        distances.add_edge(i, j, distance=distance)\n",
    "        distances.nodes[i]['coordinate'] = (x_i, y_i, z_i)\n",
    "        distances.nodes[j]['coordinate'] = (x_j, y_j, z_j)\n",
    "    return distances\n",
    "\n",
    "test_beacon_distances = [beacon_map(x) for x in test_data]\n",
    "beacon_distances = [beacon_map(x) for x in data]"
   ]
  },
  {
   "cell_type": "markdown",
   "id": "449375be",
   "metadata": {},
   "source": [
    "Put each of the distances into a set for each scanner."
   ]
  },
  {
   "cell_type": "code",
   "execution_count": 6,
   "id": "2b2c4070",
   "metadata": {},
   "outputs": [],
   "source": [
    "def distances_in_graphs(beacon_maps):\n",
    "    result = []\n",
    "    for b in beacon_maps:\n",
    "        result.append({b.edges[i, j]['distance'] for i, j in b.edges})\n",
    "    return result\n",
    "\n",
    "test_set_distances = distances_in_graphs(test_beacon_distances)\n",
    "set_distances = distances_in_graphs(beacon_distances)"
   ]
  },
  {
   "cell_type": "markdown",
   "id": "f8b187ec",
   "metadata": {},
   "source": [
    "Count the mutual distances between them."
   ]
  },
  {
   "cell_type": "code",
   "execution_count": 7,
   "id": "14b691b4",
   "metadata": {},
   "outputs": [],
   "source": [
    "def count_mutual_distances(set_distances):\n",
    "    result = []\n",
    "    for (i, sdi), (j, sdj) in itertools.combinations(enumerate(set_distances), 2):\n",
    "        result.append((i, j, len(sdi & sdj)))\n",
    "    return(result)\n",
    "\n",
    "test_mutual_distances = count_mutual_distances(test_set_distances)\n",
    "mutual_distances = count_mutual_distances(set_distances)"
   ]
  },
  {
   "cell_type": "markdown",
   "id": "75a967df",
   "metadata": {},
   "source": [
    "Find the ids of the scanners with the highest number of mutual distances."
   ]
  },
  {
   "cell_type": "code",
   "execution_count": 11,
   "id": "bd152250",
   "metadata": {},
   "outputs": [],
   "source": [
    "def most_overlapping_scanner_pair(mutual_distances):\n",
    "    i, j, _ = max(mutual_distances, key=lambda x: x[2])\n",
    "    return i, j\n",
    "    \n",
    "test_most_overlapping = most_overlapping_scanner_pair(test_mutual_distances)\n",
    "most_overlapping = most_overlapping_scanner_pair(mutual_distances)"
   ]
  },
  {
   "cell_type": "code",
   "execution_count": 10,
   "id": "ea119a52",
   "metadata": {},
   "outputs": [
    {
     "data": {
      "text/plain": [
       "[(0, 1, 66),\n",
       " (0, 2, 3),\n",
       " (0, 3, 0),\n",
       " (0, 4, 15),\n",
       " (1, 2, 15),\n",
       " (1, 3, 66),\n",
       " (1, 4, 66),\n",
       " (2, 3, 3),\n",
       " (2, 4, 66),\n",
       " (3, 4, 15)]"
      ]
     },
     "execution_count": 10,
     "metadata": {},
     "output_type": "execute_result"
    }
   ],
   "source": [
    "def distance_index(beacons):\n",
    "    return {beacons.edges[edge]['distance']: edge \n",
    "            for edge in beacons.edges}\n",
    "\n",
    "def match_distances(beacons_1, beacons_2):\n",
    "    distances_1 = distance_index(beacons_1)\n",
    "    distances_2 = distance_index(becaons_2)\n",
    "    common_distances = \n",
    "    \n",
    "    "
   ]
  },
  {
   "cell_type": "code",
   "execution_count": 12,
   "id": "4bfa72d3",
   "metadata": {},
   "outputs": [
    {
     "data": {
      "text/plain": [
       "(0, 1)"
      ]
     },
     "execution_count": 12,
     "metadata": {},
     "output_type": "execute_result"
    }
   ],
   "source": [
    "test_most_overlapping"
   ]
  },
  {
   "cell_type": "code",
   "execution_count": 20,
   "id": "68121606",
   "metadata": {},
   "outputs": [
    {
     "data": {
      "text/plain": [
       "{'distance': frozenset({55, 124, 1310})}"
      ]
     },
     "execution_count": 20,
     "metadata": {},
     "output_type": "execute_result"
    }
   ],
   "source": [
    "test_beacon_distances[0].edges[(0,1)]"
   ]
  },
  {
   "cell_type": "code",
   "execution_count": 21,
   "id": "87c30317",
   "metadata": {},
   "outputs": [
    {
     "data": {
      "text/plain": [
       "{1: 2, 2: 3, 3: 4}"
      ]
     },
     "execution_count": 21,
     "metadata": {},
     "output_type": "execute_result"
    }
   ],
   "source": [
    "d1 = {1:2, 2:3}\n",
    "d2 = {1:2, 3:4}\n",
    "d1 | d2"
   ]
  },
  {
   "cell_type": "code",
   "execution_count": null,
   "id": "5cecd024",
   "metadata": {},
   "outputs": [],
   "source": []
  }
 ],
 "metadata": {
  "kernelspec": {
   "display_name": "Python 3 (ipykernel)",
   "language": "python",
   "name": "python3"
  },
  "language_info": {
   "codemirror_mode": {
    "name": "ipython",
    "version": 3
   },
   "file_extension": ".py",
   "mimetype": "text/x-python",
   "name": "python",
   "nbconvert_exporter": "python",
   "pygments_lexer": "ipython3",
   "version": "3.10.2"
  }
 },
 "nbformat": 4,
 "nbformat_minor": 5
}
