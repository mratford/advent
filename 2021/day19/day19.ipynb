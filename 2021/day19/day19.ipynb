{
 "cells": [
  {
   "cell_type": "markdown",
   "id": "554c3003",
   "metadata": {},
   "source": [
    "# Day 19\n",
    "## Part 1\n",
    "~~I'm not bothering with this one.~~ Ok, the single empty day is nagging at me. Let's take this one slowly and not spend entire days debugging it.\n",
    "\n",
    "The idea is for each scanner to calculate the absolute differences on each axis between each detected pair of beacons, forming a matrix of three differences for each pair. Represent this as a graph. Then, for each pair of scanners, calculate the overlapping distances. The pair of scanners with the highest number of mutual distances can combine their beacon maps into one by manipulating the axes of one to match the other. Repeat until their is only one beacon map left.\n",
    "\n",
    "Parse the scanners as lists of three-coordinate tuples."
   ]
  },
  {
   "cell_type": "code",
   "execution_count": 1,
   "id": "39461610",
   "metadata": {},
   "outputs": [],
   "source": [
    "import parse\n",
    "import itertools\n",
    "import networkx as nx\n",
    "from collections import Counter\n",
    "from itertools import count\n",
    "\n",
    "def parse_data(s):\n",
    "    scanners = []\n",
    "    for block in s.strip().split('\\n\\n'):\n",
    "        scanner = []\n",
    "        for line in block.splitlines():\n",
    "            if r := parse.parse('{x:d},{y:d},{z:d}', line):\n",
    "                scanner.append((r['x'], r['y'], r['z']))\n",
    "        scanners.append(scanner)\n",
    "    return scanners\n",
    "\n",
    "test_data = parse_data(open('test_input', 'r').read())\n",
    "data = parse_data(open('input', 'r').read())"
   ]
  },
  {
   "cell_type": "markdown",
   "id": "8b09edbe",
   "metadata": {},
   "source": [
    "Record the distance between each scanner's observations as a set of absolute differences in each coordinate direction, which will allow comparison with other scanners' coordinate systems."
   ]
  },
  {
   "cell_type": "code",
   "execution_count": 2,
   "id": "d6967ced",
   "metadata": {},
   "outputs": [],
   "source": [
    "def beacon_map(scanner):\n",
    "    distances = nx.Graph()\n",
    "    for (i, (x_i, y_i, z_i)), (j, (x_j, y_j, z_j)) in itertools.combinations(enumerate(scanner), 2):\n",
    "        distance = frozenset([abs(d) for d in [x_i - x_j, y_i - y_j, z_i - z_j]])\n",
    "        distances.add_edge(i, j, distance=distance)\n",
    "        distances.nodes[i]['coordinate'] = (x_i, y_i, z_i)\n",
    "        distances.nodes[j]['coordinate'] = (x_j, y_j, z_j)\n",
    "    return distances\n",
    "\n",
    "test_beacon_distances = [beacon_map(x) for x in test_data]\n",
    "beacon_distances = [beacon_map(x) for x in data]"
   ]
  },
  {
   "cell_type": "markdown",
   "id": "449375be",
   "metadata": {},
   "source": [
    "Put each of the distances into a set for each scanner."
   ]
  },
  {
   "cell_type": "code",
   "execution_count": 3,
   "id": "2b2c4070",
   "metadata": {},
   "outputs": [],
   "source": [
    "def distances_in_graphs(beacon_maps):\n",
    "    result = []\n",
    "    for b in beacon_maps:\n",
    "        result.append({b.edges[i, j]['distance'] for i, j in b.edges})\n",
    "    return result\n",
    "\n",
    "test_set_distances = distances_in_graphs(test_beacon_distances)\n",
    "set_distances = distances_in_graphs(beacon_distances)"
   ]
  },
  {
   "cell_type": "markdown",
   "id": "f8b187ec",
   "metadata": {},
   "source": [
    "Count the mutual distances between them."
   ]
  },
  {
   "cell_type": "code",
   "execution_count": 4,
   "id": "14b691b4",
   "metadata": {},
   "outputs": [],
   "source": [
    "def count_mutual_distances(set_distances):\n",
    "    result = []\n",
    "    for (i, sdi), (j, sdj) in itertools.combinations(enumerate(set_distances), 2):\n",
    "        result.append((i, j, len(sdi & sdj)))\n",
    "    return(result)\n",
    "\n",
    "test_mutual_distances = count_mutual_distances(test_set_distances)\n",
    "mutual_distances = count_mutual_distances(set_distances)"
   ]
  },
  {
   "cell_type": "markdown",
   "id": "75a967df",
   "metadata": {},
   "source": [
    "Find the ids of the scanners with the highest number of mutual distances."
   ]
  },
  {
   "cell_type": "code",
   "execution_count": 5,
   "id": "bd152250",
   "metadata": {},
   "outputs": [
    {
     "data": {
      "text/plain": [
       "(0, 1)"
      ]
     },
     "execution_count": 5,
     "metadata": {},
     "output_type": "execute_result"
    }
   ],
   "source": [
    "def most_overlapping_scanner_pair(mutual_distances):\n",
    "    i, j, _ = max(mutual_distances, key=lambda x: x[2])\n",
    "    return i, j\n",
    "    \n",
    "test_most_overlapping = most_overlapping_scanner_pair(test_mutual_distances)\n",
    "test_most_overlapping"
   ]
  },
  {
   "cell_type": "markdown",
   "id": "49ed2c76",
   "metadata": {},
   "source": [
    "For these scanners find the distances from each beacon to other beacons. Then compare between the two sets to match nodes."
   ]
  },
  {
   "cell_type": "code",
   "execution_count": 6,
   "id": "4bfa72d3",
   "metadata": {},
   "outputs": [],
   "source": [
    "def common_distances(beacons_1, beacons_2):\n",
    "    return ({beacons_1.edges[edge]['distance'] for edge in beacons_1.edges}\n",
    "            & {beacons_2.edges[edge]['distance'] for edge in beacons_2.edges})\n",
    "\n",
    "def node_distances(beacons, distances):\n",
    "    return {\n",
    "        node: {\n",
    "            beacons[node][nbr]['distance'] \n",
    "            for nbr in beacons[node]\n",
    "            if beacons[node][nbr]['distance'] in distances\n",
    "        } \n",
    "        for node in beacons\n",
    "    }\n",
    "\n",
    "test_common_distances = common_distances(test_beacon_distances[0], test_beacon_distances[1])\n",
    "test_node_distances_0 = node_distances(test_beacon_distances[0], test_common_distances)\n",
    "test_node_distances_1 = node_distances(test_beacon_distances[1], test_common_distances)"
   ]
  },
  {
   "cell_type": "markdown",
   "id": "68999ccd",
   "metadata": {},
   "source": [
    "The node distances can then be matched to determine which beacons are the same within the different coordinate systems."
   ]
  },
  {
   "cell_type": "code",
   "execution_count": 7,
   "id": "5cecd024",
   "metadata": {},
   "outputs": [],
   "source": [
    "def match_nodes(node_distances_1, node_distances_2):\n",
    "    possible_matches = []\n",
    "    for node_1, node_2 in itertools.product(node_distances_1, node_distances_2):\n",
    "        overlap = node_distances_1[node_1] & node_distances_2[node_2]\n",
    "        if len(overlap) > 1: \n",
    "            possible_matches.append(((node_1, node_2), len(overlap)))\n",
    "    return sorted(possible_matches, key=lambda x: x[1], reverse=True)"
   ]
  },
  {
   "cell_type": "code",
   "execution_count": 8,
   "id": "31e6e482",
   "metadata": {},
   "outputs": [
    {
     "data": {
      "text/plain": [
       "[((0, 3), 11),\n",
       " ((1, 8), 11),\n",
       " ((3, 12), 11),\n",
       " ((4, 1), 11),\n",
       " ((5, 24), 11),\n",
       " ((6, 18), 11),\n",
       " ((7, 10), 11),\n",
       " ((9, 0), 11),\n",
       " ((12, 2), 11),\n",
       " ((14, 5), 11),\n",
       " ((19, 15), 11),\n",
       " ((24, 19), 11)]"
      ]
     },
     "execution_count": 8,
     "metadata": {},
     "output_type": "execute_result"
    }
   ],
   "source": [
    "test_matched_nodes = match_nodes(test_node_distances_0, test_node_distances_1)\n",
    "test_matched_nodes"
   ]
  },
  {
   "cell_type": "markdown",
   "id": "684d2484",
   "metadata": {},
   "source": [
    "Find a pair of nodes with unambiguous manhattan distances, i.e. the absolute distance on each axis is unique. "
   ]
  },
  {
   "cell_type": "code",
   "execution_count": 9,
   "id": "63048f9c",
   "metadata": {},
   "outputs": [
    {
     "data": {
      "text/plain": [
       "(0, 1)"
      ]
     },
     "execution_count": 9,
     "metadata": {},
     "output_type": "execute_result"
    }
   ],
   "source": [
    "def find_unambiguous_matches(beacons, matched_nodes):\n",
    "    first = matched_nodes[0][0][0]\n",
    "    for i in range(1, len(matched_nodes)):\n",
    "        second = matched_nodes[i][0][0]\n",
    "        # set will have three elements if all distinct\n",
    "        if len(beacons[first][second]['distance']) == 3:\n",
    "            return (0, i)\n",
    "        \n",
    "find_unambiguous_matches(test_beacon_distances[0], test_matched_nodes)"
   ]
  },
  {
   "cell_type": "markdown",
   "id": "5fd92a35",
   "metadata": {},
   "source": [
    "The tricky bit. For matching pairs of manhattan distances align each axis and indicate if the sign of the difference differs. Then each coordinate for the second set of beaconds can be transformed to the coordinate system of the first."
   ]
  },
  {
   "cell_type": "code",
   "execution_count": 10,
   "id": "0e5d871e",
   "metadata": {},
   "outputs": [],
   "source": [
    "def manhattan_by_axis(coord_1, coord_2):\n",
    "    return tuple(coord_1[i] - coord_2[i] for i in range(3))\n",
    "\n",
    "def calc_transform(coord_11, coord_12, coord_21, coord_22):\n",
    "    diff_1 = manhattan_by_axis(coord_11, coord_12)\n",
    "    diff_2 = manhattan_by_axis(coord_21, coord_22)\n",
    "    axis_match = {}\n",
    "    sign_match = {}\n",
    "    for i, j in itertools.product(range(3), repeat=2):\n",
    "        if abs(diff_1[i]) == abs(diff_2[j]):\n",
    "            axis_match[j] = i\n",
    "            if diff_1[i] == diff_2[j]:\n",
    "                sign_match[j] = 1\n",
    "            else:\n",
    "                sign_match[j] = -1\n",
    "    offset = [(coord_11[axis_match[j]] - coord_21[j]) for j in range(3)]\n",
    "    origin_1 = tuple(coord_11[axis_match[j]] for j in range(3))\n",
    "    origin_2 = coord_21\n",
    "    return axis_match, sign_match, origin_1, origin_2\n",
    "\n",
    "def transform(coord, axis_match, sign_match, origin_1, origin_2):\n",
    "    transformed = {axis_match[i]: (coord[i] - origin_2[i]) * sign_match[i] + origin_1[i] for i in range(3)}\n",
    "    return tuple(transformed[i] for i in range(3))"
   ]
  },
  {
   "cell_type": "code",
   "execution_count": 11,
   "id": "0feb7d93",
   "metadata": {},
   "outputs": [
    {
     "data": {
      "text/plain": [
       "({0: 0, 1: 1, 2: 2}, {0: -1, 1: 1, 2: -1}, (404, -588, -901), (-336, 658, 858))"
      ]
     },
     "execution_count": 11,
     "metadata": {},
     "output_type": "execute_result"
    }
   ],
   "source": [
    "ct = calc_transform((404, -588, -901), (528, -643, 409), (-336, 658, 858), (-460, 603, -452))\n",
    "ct"
   ]
  },
  {
   "cell_type": "code",
   "execution_count": 12,
   "id": "56829492",
   "metadata": {},
   "outputs": [
    {
     "data": {
      "text/plain": [
       "(404, -588, -901)"
      ]
     },
     "execution_count": 12,
     "metadata": {},
     "output_type": "execute_result"
    }
   ],
   "source": [
    "transform((-336, 658, 858), *ct)"
   ]
  },
  {
   "cell_type": "code",
   "execution_count": 13,
   "id": "b7fba01f",
   "metadata": {},
   "outputs": [
    {
     "data": {
      "text/plain": [
       "(528, -643, 409)"
      ]
     },
     "execution_count": 13,
     "metadata": {},
     "output_type": "execute_result"
    }
   ],
   "source": [
    "transform((-460, 603, -452), *ct)"
   ]
  },
  {
   "cell_type": "code",
   "execution_count": 14,
   "id": "f40c651f",
   "metadata": {},
   "outputs": [
    {
     "data": {
      "text/plain": [
       "(-447, -329, 318)"
      ]
     },
     "execution_count": 14,
     "metadata": {},
     "output_type": "execute_result"
    }
   ],
   "source": [
    "transform((515,917,-361), *ct)"
   ]
  },
  {
   "cell_type": "markdown",
   "id": "4a190ae7",
   "metadata": {},
   "source": [
    "Putting it all together, repeatedly transform pairs of coordinate systems of scanner readings into one until only one is left."
   ]
  },
  {
   "cell_type": "code",
   "execution_count": 15,
   "id": "a1a07e50",
   "metadata": {},
   "outputs": [],
   "source": [
    "def create_system(data):\n",
    "    beacon_distances = [beacon_map(x) for x in data]\n",
    "    while len(beacon_distances) > 1:\n",
    "        set_distances = distances_in_graphs(beacon_distances)\n",
    "        mutual_distances = count_mutual_distances(set_distances)\n",
    "        i, j = most_overlapping_scanner_pair(mutual_distances)\n",
    "        cds = common_distances(beacon_distances[i], beacon_distances[j])\n",
    "        node_distances_i = node_distances(beacon_distances[i], cds)\n",
    "        node_distances_j = node_distances(beacon_distances[j], cds)\n",
    "        \n",
    "        matched_nodes = match_nodes(node_distances_i, node_distances_j)\n",
    "        first, second = find_unambiguous_matches(beacon_distances[i], matched_nodes)\n",
    "        coord_i1 = beacon_distances[i].nodes[matched_nodes[first][0][0]]['coordinate']\n",
    "        coord_i2 = beacon_distances[i].nodes[matched_nodes[second][0][0]]['coordinate']\n",
    "        coord_j1 = beacon_distances[j].nodes[matched_nodes[first][0][1]]['coordinate']\n",
    "        coord_j2 = beacon_distances[j].nodes[matched_nodes[second][0][1]]['coordinate']\n",
    "        \n",
    "        ct = calc_transform(coord_i1, coord_i2, coord_j1, coord_j2)\n",
    "        # Should really have used the coordinate as the node's label, I've left this for \n",
    "        # so long I can't remember why I didn't\n",
    "        existing_nodes = list(beacon_distances[i].nodes)\n",
    "        existing_coords = {\n",
    "            beacon_distances[i].nodes[n]['coordinate']\n",
    "            for n in existing_nodes\n",
    "        }\n",
    "        new_node_indices = count(max(existing_nodes) + 1)\n",
    "        for new_node_index, n in zip(new_node_indices, beacon_distances[j].nodes):\n",
    "            coord = beacon_distances[j].nodes[n]['coordinate']\n",
    "            transformed_coord = transform(coord, *ct)\n",
    "            \n",
    "            if transformed_coord not in existing_coords:\n",
    "                current_nodes = list(beacon_distances[i].nodes)\n",
    "                for n_i in current_nodes:\n",
    "                    coord_i = beacon_distances[i].nodes[n_i]['coordinate']\n",
    "                    distance = frozenset([abs(coord_i[x] - transformed_coord[x]) for x in range(3)])\n",
    "                    beacon_distances[i].add_edge(n_i, new_node_index, distance=distance)\n",
    "                    beacon_distances[i].nodes[new_node_index]['coordinate'] = transformed_coord\n",
    "        del beacon_distances[j]\n",
    "        \n",
    "    return beacon_distances[0]"
   ]
  },
  {
   "cell_type": "code",
   "execution_count": 16,
   "id": "08f4de52",
   "metadata": {},
   "outputs": [],
   "source": [
    "test_system = create_system(test_data)"
   ]
  },
  {
   "cell_type": "code",
   "execution_count": 17,
   "id": "ae4b82b4",
   "metadata": {},
   "outputs": [
    {
     "data": {
      "text/plain": [
       "79"
      ]
     },
     "execution_count": 17,
     "metadata": {},
     "output_type": "execute_result"
    }
   ],
   "source": [
    "len(test_system.nodes)"
   ]
  },
  {
   "cell_type": "code",
   "execution_count": 18,
   "id": "3275c02b",
   "metadata": {},
   "outputs": [
    {
     "data": {
      "text/plain": [
       "306"
      ]
     },
     "execution_count": 18,
     "metadata": {},
     "output_type": "execute_result"
    }
   ],
   "source": [
    "system = create_system(data)\n",
    "len(system.nodes)"
   ]
  },
  {
   "cell_type": "markdown",
   "id": "1e99a6a4",
   "metadata": {},
   "source": [
    "## Part 2\n",
    "\n",
    "Change some of the previous code so that it always chooses the first scanner and transforms other coordinates into that system. The transformation of (0, 0, 0) for each set of coordinate system is then the positions of the other scanners relative to the first."
   ]
  },
  {
   "cell_type": "code",
   "execution_count": 19,
   "id": "a657b858",
   "metadata": {},
   "outputs": [],
   "source": [
    "def most_overlapping_scanner_pair(mutual_distances):\n",
    "    i, j, _ = max(((i, j, d) for i, j, d in mutual_distances if i == 0), key=lambda x: x[2])\n",
    "    return i, j\n",
    "\n",
    "def find_scanners(data):\n",
    "    beacon_distances = [beacon_map(x) for x in data]\n",
    "    scanners = [(0, 0, 0)]\n",
    "    while len(beacon_distances) > 1:\n",
    "        set_distances = distances_in_graphs(beacon_distances)\n",
    "        mutual_distances = count_mutual_distances(set_distances)\n",
    "        i, j = most_overlapping_scanner_pair(mutual_distances)\n",
    "        cds = common_distances(beacon_distances[i], beacon_distances[j])\n",
    "        node_distances_i = node_distances(beacon_distances[i], cds)\n",
    "        node_distances_j = node_distances(beacon_distances[j], cds)\n",
    "        \n",
    "        matched_nodes = match_nodes(node_distances_i, node_distances_j)\n",
    "        first, second = find_unambiguous_matches(beacon_distances[i], matched_nodes)\n",
    "        coord_i1 = beacon_distances[i].nodes[matched_nodes[first][0][0]]['coordinate']\n",
    "        coord_i2 = beacon_distances[i].nodes[matched_nodes[second][0][0]]['coordinate']\n",
    "        coord_j1 = beacon_distances[j].nodes[matched_nodes[first][0][1]]['coordinate']\n",
    "        coord_j2 = beacon_distances[j].nodes[matched_nodes[second][0][1]]['coordinate']\n",
    "        \n",
    "        ct = calc_transform(coord_i1, coord_i2, coord_j1, coord_j2)\n",
    "        # Should really have used the coordinate as the node's label, I've left this for \n",
    "        # so long I can't remember why I didn't\n",
    "        existing_nodes = list(beacon_distances[i].nodes)\n",
    "        existing_coords = {\n",
    "            beacon_distances[i].nodes[n]['coordinate']\n",
    "            for n in existing_nodes\n",
    "        }\n",
    "        if i == 0:\n",
    "            scanners.append(transform((0, 0, 0), *ct))\n",
    "        new_node_indices = count(max(existing_nodes) + 1)\n",
    "        for new_node_index, n in zip(new_node_indices, beacon_distances[j].nodes):\n",
    "            coord = beacon_distances[j].nodes[n]['coordinate']\n",
    "            transformed_coord = transform(coord, *ct)\n",
    "            \n",
    "            if transformed_coord not in existing_coords:\n",
    "                current_nodes = list(beacon_distances[i].nodes)\n",
    "                for n_i in current_nodes:\n",
    "                    coord_i = beacon_distances[i].nodes[n_i]['coordinate']\n",
    "                    distance = frozenset([abs(coord_i[x] - transformed_coord[x]) for x in range(3)])\n",
    "                    beacon_distances[i].add_edge(n_i, new_node_index, distance=distance)\n",
    "                    beacon_distances[i].nodes[new_node_index]['coordinate'] = transformed_coord\n",
    "        del beacon_distances[j]\n",
    "        \n",
    "    return scanners"
   ]
  },
  {
   "cell_type": "code",
   "execution_count": 20,
   "id": "a29ee96a",
   "metadata": {},
   "outputs": [],
   "source": [
    "test_scanners = find_scanners(test_data)"
   ]
  },
  {
   "cell_type": "code",
   "execution_count": 21,
   "id": "dede6333",
   "metadata": {},
   "outputs": [
    {
     "data": {
      "text/plain": [
       "[(0, 0, 0),\n",
       " (68, -1246, -43),\n",
       " (-92, -2380, -20),\n",
       " (-20, -1133, 1061),\n",
       " (1105, -1205, 1229)]"
      ]
     },
     "execution_count": 21,
     "metadata": {},
     "output_type": "execute_result"
    }
   ],
   "source": [
    "test_scanners"
   ]
  },
  {
   "cell_type": "code",
   "execution_count": 22,
   "id": "08a04e4a",
   "metadata": {},
   "outputs": [],
   "source": [
    "def manhattan(c1, c2):\n",
    "    return sum(abs(x) for x in manhattan_by_axis(c1, c2))\n",
    "\n",
    "def part_2(scanners):\n",
    "    return max(manhattan(x, y) for x, y in itertools.combinations(scanners, 2))"
   ]
  },
  {
   "cell_type": "code",
   "execution_count": 23,
   "id": "fe1aba64",
   "metadata": {},
   "outputs": [
    {
     "data": {
      "text/plain": [
       "3621"
      ]
     },
     "execution_count": 23,
     "metadata": {},
     "output_type": "execute_result"
    }
   ],
   "source": [
    "part_2(test_scanners)"
   ]
  },
  {
   "cell_type": "code",
   "execution_count": 24,
   "id": "55a34013",
   "metadata": {},
   "outputs": [
    {
     "data": {
      "text/plain": [
       "9764"
      ]
     },
     "execution_count": 24,
     "metadata": {},
     "output_type": "execute_result"
    }
   ],
   "source": [
    "scanners = find_scanners(data)\n",
    "part_2(scanners)"
   ]
  },
  {
   "cell_type": "code",
   "execution_count": null,
   "id": "a8c30ca9",
   "metadata": {},
   "outputs": [],
   "source": []
  }
 ],
 "metadata": {
  "kernelspec": {
   "display_name": "Python 3 (ipykernel)",
   "language": "python",
   "name": "python3"
  },
  "language_info": {
   "codemirror_mode": {
    "name": "ipython",
    "version": 3
   },
   "file_extension": ".py",
   "mimetype": "text/x-python",
   "name": "python",
   "nbconvert_exporter": "python",
   "pygments_lexer": "ipython3",
   "version": "3.10.4"
  }
 },
 "nbformat": 4,
 "nbformat_minor": 5
}
