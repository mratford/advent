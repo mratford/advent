{
 "cells": [
  {
   "cell_type": "markdown",
   "id": "554c3003",
   "metadata": {},
   "source": [
    "# Day 19\n",
    "## Part 1\n",
    "~~I'm not bothering with this one.~~ Ok, the single empty day is nagging at me. Let's take this one slowly and not spend entire days debugging it.\n",
    "\n",
    "The idea is for each scanner to calculate the absolute differences on each axis between each detected pair of beacons, forming a matrix of three differences for each pair. Represent this as a graph. Then, for rach pair of scanners, calculate the overlapping distances. The pair of scanners with the highest number of mutual distances can combine their beacon maps into one by manipulating the axes of one to match the other. Repeat until their is only one beacon map left.\n",
    "\n",
    "Parse the scanners as lists of three-coordinate tuples."
   ]
  },
  {
   "cell_type": "code",
   "execution_count": 40,
   "id": "39461610",
   "metadata": {},
   "outputs": [],
   "source": [
    "import parse\n",
    "import itertools\n",
    "import networkx as nx\n",
    "from collections import Counter\n",
    "from itertools import count\n",
    "\n",
    "def parse_data(s):\n",
    "    scanners = []\n",
    "    for block in s.strip().split('\\n\\n'):\n",
    "        scanner = []\n",
    "        for line in block.splitlines():\n",
    "            if r := parse.parse('{x:d},{y:d},{z:d}', line):\n",
    "                scanner.append((r['x'], r['y'], r['z']))\n",
    "        scanners.append(scanner)\n",
    "    return scanners\n",
    "\n",
    "test_data = parse_data(open('test_input', 'r').read())\n",
    "data = parse_data(open('input', 'r').read())"
   ]
  },
  {
   "cell_type": "markdown",
   "id": "8b09edbe",
   "metadata": {},
   "source": [
    "Record the distance between each scanner's observations as a set of absolute differences in each coordinate direction, which will allow comparison with other scanners' coordinate systems."
   ]
  },
  {
   "cell_type": "code",
   "execution_count": 39,
   "id": "d6967ced",
   "metadata": {},
   "outputs": [],
   "source": [
    "def beacon_map(scanner):\n",
    "    distances = nx.Graph()\n",
    "    for (i, (x_i, y_i, z_i)), (j, (x_j, y_j, z_j)) in itertools.combinations(enumerate(scanner), 2):\n",
    "        distance = frozenset([abs(d) for d in [x_i - x_j, y_i - y_j, z_i - z_j]])\n",
    "        distances.add_edge(i, j, distance=distance)\n",
    "        distances.nodes[i]['coordinate'] = (x_i, y_i, z_i)\n",
    "        distances.nodes[j]['coordinate'] = (x_j, y_j, z_j)\n",
    "    return distances\n",
    "\n",
    "test_beacon_distances = [beacon_map(x) for x in test_data]\n",
    "beacon_distances = [beacon_map(x) for x in data]"
   ]
  },
  {
   "cell_type": "markdown",
   "id": "449375be",
   "metadata": {},
   "source": [
    "Put each of the distances into a set for each scanner."
   ]
  },
  {
   "cell_type": "code",
   "execution_count": 20,
   "id": "2b2c4070",
   "metadata": {},
   "outputs": [],
   "source": [
    "def distances_in_graphs(beacon_maps):\n",
    "    result = []\n",
    "    for b in beacon_maps:\n",
    "        result.append({b.edges[i, j]['distance'] for i, j in b.edges})\n",
    "    return result\n",
    "\n",
    "test_set_distances = distances_in_graphs(test_beacon_distances)\n",
    "set_distances = distances_in_graphs(beacon_distances)"
   ]
  },
  {
   "cell_type": "markdown",
   "id": "f8b187ec",
   "metadata": {},
   "source": [
    "Count the mutual distances between them."
   ]
  },
  {
   "cell_type": "code",
   "execution_count": 4,
   "id": "14b691b4",
   "metadata": {},
   "outputs": [],
   "source": [
    "def count_mutual_distances(set_distances):\n",
    "    result = []\n",
    "    for (i, sdi), (j, sdj) in itertools.combinations(enumerate(set_distances), 2):\n",
    "        result.append((i, j, len(sdi & sdj)))\n",
    "    return(result)\n",
    "\n",
    "test_mutual_distances = count_mutual_distances(test_set_distances)\n",
    "mutual_distances = count_mutual_distances(set_distances)"
   ]
  },
  {
   "cell_type": "markdown",
   "id": "75a967df",
   "metadata": {},
   "source": [
    "Find the ids of the scanners with the highest number of mutual distances."
   ]
  },
  {
   "cell_type": "code",
   "execution_count": 5,
   "id": "bd152250",
   "metadata": {},
   "outputs": [
    {
     "data": {
      "text/plain": [
       "(0, 1)"
      ]
     },
     "execution_count": 5,
     "metadata": {},
     "output_type": "execute_result"
    }
   ],
   "source": [
    "def most_overlapping_scanner_pair(mutual_distances):\n",
    "    i, j, _ = max(mutual_distances, key=lambda x: x[2])\n",
    "    return i, j\n",
    "    \n",
    "test_most_overlapping = most_overlapping_scanner_pair(test_mutual_distances)\n",
    "test_most_overlapping"
   ]
  },
  {
   "cell_type": "markdown",
   "id": "49ed2c76",
   "metadata": {},
   "source": [
    "For these scanners find the distances from each beacon to other beacons. Then compare between the two sets to match nodes."
   ]
  },
  {
   "cell_type": "code",
   "execution_count": 6,
   "id": "4bfa72d3",
   "metadata": {},
   "outputs": [],
   "source": [
    "def common_distances(beacons_1, beacons_2):\n",
    "    return ({beacons_1.edges[edge]['distance'] for edge in beacons_1.edges}\n",
    "            & {beacons_2.edges[edge]['distance'] for edge in beacons_2.edges})\n",
    "\n",
    "def node_distances(beacons, distances):\n",
    "    return {\n",
    "        node: {\n",
    "            beacons[node][nbr]['distance'] \n",
    "            for nbr in beacons[node]\n",
    "            if beacons[node][nbr]['distance'] in distances\n",
    "        } \n",
    "        for node in beacons\n",
    "    }\n",
    "\n",
    "test_common_distances = common_distances(test_beacon_distances[0], test_beacon_distances[1])\n",
    "test_node_distances_0 = node_distances(test_beacon_distances[0], test_common_distances)\n",
    "test_node_distances_1 = node_distances(test_beacon_distances[1], test_common_distances)"
   ]
  },
  {
   "cell_type": "markdown",
   "id": "68999ccd",
   "metadata": {},
   "source": [
    "The node distances can then be matched to determine which beacons are the same within the different coordinate systems."
   ]
  },
  {
   "cell_type": "code",
   "execution_count": 7,
   "id": "5cecd024",
   "metadata": {},
   "outputs": [],
   "source": [
    "def match_nodes(node_distances_1, node_distances_2):\n",
    "    possible_matches = []\n",
    "    for node_1, node_2 in itertools.product(node_distances_1, node_distances_2):\n",
    "        overlap = node_distances_1[node_1] & node_distances_2[node_2]\n",
    "        if len(overlap) > 1: \n",
    "            possible_matches.append(((node_1, node_2), len(overlap)))\n",
    "    return sorted(possible_matches, key=lambda x: x[1], reverse=True)"
   ]
  },
  {
   "cell_type": "code",
   "execution_count": 18,
   "id": "31e6e482",
   "metadata": {},
   "outputs": [
    {
     "data": {
      "text/plain": [
       "[((0, 3), 11),\n",
       " ((1, 8), 11),\n",
       " ((3, 12), 11),\n",
       " ((4, 1), 11),\n",
       " ((5, 24), 11),\n",
       " ((6, 18), 11),\n",
       " ((7, 10), 11),\n",
       " ((9, 0), 11),\n",
       " ((12, 2), 11),\n",
       " ((14, 5), 11),\n",
       " ((19, 15), 11),\n",
       " ((24, 19), 11)]"
      ]
     },
     "execution_count": 18,
     "metadata": {},
     "output_type": "execute_result"
    }
   ],
   "source": [
    "test_matched_nodes = match_nodes(test_node_distances_0, test_node_distances_1)\n",
    "test_matched_nodes"
   ]
  },
  {
   "cell_type": "markdown",
   "id": "684d2484",
   "metadata": {},
   "source": [
    "Find a pair of nodes with unambiguous manhattan distances, i.e. the absolute distance on each axis is unique. "
   ]
  },
  {
   "cell_type": "code",
   "execution_count": 9,
   "id": "63048f9c",
   "metadata": {},
   "outputs": [
    {
     "data": {
      "text/plain": [
       "(0, 1)"
      ]
     },
     "execution_count": 9,
     "metadata": {},
     "output_type": "execute_result"
    }
   ],
   "source": [
    "def find_unambiguous_matches(beacons, matched_nodes):\n",
    "    first = matched_nodes[0][0][0]\n",
    "    for i in range(1, len(matched_nodes)):\n",
    "        second = matched_nodes[i][0][0]\n",
    "        # set will have three elements if all distinct\n",
    "        if len(beacons[first][second]['distance']) == 3:\n",
    "            return (first, second)\n",
    "        \n",
    "find_unambiguous_matches(test_beacon_distances[0], test_matched_nodes)"
   ]
  },
  {
   "cell_type": "code",
   "execution_count": 10,
   "id": "ba59b677",
   "metadata": {},
   "outputs": [
    {
     "data": {
      "text/plain": [
       "frozenset({14, 87, 108})"
      ]
     },
     "execution_count": 10,
     "metadata": {},
     "output_type": "execute_result"
    }
   ],
   "source": [
    "test_beacon_distances[0][0][3]['distance']"
   ]
  },
  {
   "cell_type": "code",
   "execution_count": 33,
   "id": "7bb5d32e",
   "metadata": {},
   "outputs": [
    {
     "data": {
      "text/plain": [
       "0"
      ]
     },
     "execution_count": 33,
     "metadata": {},
     "output_type": "execute_result"
    }
   ],
   "source": [
    "test_matched_nodes[0][0][0]"
   ]
  },
  {
   "cell_type": "code",
   "execution_count": 29,
   "id": "9daef111",
   "metadata": {},
   "outputs": [
    {
     "data": {
      "text/plain": [
       "{'coordinate': (404, -588, -901)}"
      ]
     },
     "execution_count": 29,
     "metadata": {},
     "output_type": "execute_result"
    }
   ],
   "source": [
    "test_beacon_distances[0].nodes[0]"
   ]
  },
  {
   "cell_type": "code",
   "execution_count": 12,
   "id": "0e5d871e",
   "metadata": {},
   "outputs": [],
   "source": [
    "def manhattan_by_axis(coord_1, coord_2):\n",
    "    return tuple(coord_1[i] - coord_2[i] for i in range(3))\n",
    "\n",
    "def calc_transform(coord_11, coord_12, coord_21, coord_22):\n",
    "    diff_1 = manhattan_by_axis(coord_11, coord_12)\n",
    "    diff_2 = manhattan_by_axis(coord_21, coord_22)\n",
    "    axis_match = {}\n",
    "    sign_match = {}\n",
    "    for i, j in itertools.product(range(3), repeat=2):\n",
    "        if abs(diff_1[i]) == abs(diff_2[j]):\n",
    "            axis_match[j] = i\n",
    "            if diff_1[i] == diff_2[j]:\n",
    "                sign_match[j] = 1\n",
    "            else:\n",
    "                sign_match[j] = -1\n",
    "    offset = [(coord_11[axis_match[j]] - coord_21[j]) for j in range(3)]\n",
    "    return axis_match, sign_match, offset\n",
    "\n",
    "def transform(coord, axis_match, sign_match, offset):\n",
    "    transformed = {axis_match[i]: (coord[i] + offset[i]) * sign_match[i] for i in range(3)}\n",
    "    return tuple(transformed[i] for i in range(3))"
   ]
  },
  {
   "cell_type": "code",
   "execution_count": 13,
   "id": "a4659a8d",
   "metadata": {},
   "outputs": [
    {
     "data": {
      "text/plain": [
       "({1: 0, 0: 1, 2: 2}, {1: -1, 0: 1, 2: 1}, [2, -5, 0])"
      ]
     },
     "execution_count": 13,
     "metadata": {},
     "output_type": "execute_result"
    }
   ],
   "source": [
    "ct = calc_transform((0, 2, 0), (4, 1, 0), (0, 5, 0), (-1, 1, 0))\n",
    "ct"
   ]
  },
  {
   "cell_type": "markdown",
   "id": "06ce5a9f",
   "metadata": {},
   "source": [
    "Should be (3, 3, 0)."
   ]
  },
  {
   "cell_type": "code",
   "execution_count": 14,
   "id": "91e2bce0",
   "metadata": {},
   "outputs": [
    {
     "data": {
      "text/plain": [
       "(3, 3, 0)"
      ]
     },
     "execution_count": 14,
     "metadata": {},
     "output_type": "execute_result"
    }
   ],
   "source": [
    "transform((1, 2, 0), *ct)"
   ]
  },
  {
   "cell_type": "code",
   "execution_count": 112,
   "id": "a1a07e50",
   "metadata": {},
   "outputs": [],
   "source": [
    "def create_system(data):\n",
    "    beacon_distances = [beacon_map(x) for x in data]\n",
    "    while len(beacon_distances) > 1:\n",
    "        set_distances = distances_in_graphs(beacon_distances)\n",
    "        mutual_distances = count_mutual_distances(set_distances)\n",
    "        i, j = most_overlapping_scanner_pair(mutual_distances)\n",
    "        cds = common_distances(beacon_distances[i], beacon_distances[j])\n",
    "        node_distances_i = node_distances(beacon_distances[i], cds)\n",
    "        node_distances_j = node_distances(beacon_distances[j], cds)\n",
    "        \n",
    "        matched_nodes = match_nodes(node_distances_i, node_distances_j)\n",
    "        first, second = find_unambiguous_matches(beacon_distances[i], matched_nodes)\n",
    "        print(len(beacon_distances[i].nodes))\n",
    "        coord_i1 = beacon_distances[i].nodes[matched_nodes[first][0][0]]['coordinate']\n",
    "        coord_i2 = beacon_distances[i].nodes[matched_nodes[second][0][0]]['coordinate']\n",
    "        coord_j1 = beacon_distances[j].nodes[matched_nodes[first][0][1]]['coordinate']\n",
    "        coord_j2 = beacon_distances[j].nodes[matched_nodes[second][0][1]]['coordinate']\n",
    "        \n",
    "        ct = calc_transform(coord_i1, coord_i2, coord_j1, coord_j2)\n",
    "        print(ct)\n",
    "        print(transform((686,422,578), *ct))\n",
    "        print(transform((-618,-824,-621), *ct))\n",
    "        # Should really have used the coordinate as the node's label, I've left this for \n",
    "        # so long I can't remember why I didn't\n",
    "        existing_coords = {\n",
    "            beacon_distances[i].nodes[n]['coordinate']\n",
    "            for n in beacon_distances[i].nodes\n",
    "        }\n",
    "        print(existing_coords)\n",
    "        for new_node_index, n in zip(count(len(existing_coords)), beacon_distances[j].nodes):\n",
    "            coord = beacon_distances[j].nodes[n]['coordinate']\n",
    "            transformed_coord = transform(coord, *ct)\n",
    "\n",
    "            if transformed_coord not in existing_coords:\n",
    "                existing_nodes = list(beacon_distances[i].nodes)\n",
    "                for n_i in existing_nodes:\n",
    "                    coord_i = beacon_distances[i].nodes[n_i]['coordinate']\n",
    "                    distance = frozenset([abs(coord_i[x] - transformed_coord[x]) for x in range(3)])\n",
    "                    beacon_distances[i].add_edge(n_i, new_node_index, distance=distance)\n",
    "                    beacon_distances[i].nodes[new_node_index]['coordinate'] = transformed_coord\n",
    "        del beacon_distances[j]\n",
    "        \n",
    "    return beacon_distances"
   ]
  },
  {
   "cell_type": "code",
   "execution_count": 113,
   "id": "08f4de52",
   "metadata": {},
   "outputs": [
    {
     "name": "stdout",
     "output_type": "stream",
     "text": [
      "25\n",
      "({0: 0, 1: 1, 2: 2}, {0: -1, 1: 1, 2: -1}, [740, -1246, -1759])\n",
      "(-1426, -824, 1181)\n",
      "(-122, -2070, 2380)\n",
      "{(390, -675, -793), (-345, -311, 381), (-689, 845, -530), (443, 580, 662), (564, 392, -477), (-789, 900, -551), (553, 345, -567), (474, 580, 667), (528, -643, 409), (-485, -357, 347), (-537, -823, -458), (459, -707, 401), (-661, -816, -575), (7, -33, -71), (-838, 591, 734), (-892, 524, 684), (-618, -824, -621), (404, -588, -901), (544, -627, -890), (-584, 868, -557), (-876, 649, 763), (-447, -329, 318), (455, 729, 728), (630, 319, -379), (423, -701, 434)}\n",
      "50\n"
     ]
    },
    {
     "ename": "IndexError",
     "evalue": "list index out of range",
     "output_type": "error",
     "traceback": [
      "\u001b[0;31m---------------------------------------------------------------------------\u001b[0m",
      "\u001b[0;31mIndexError\u001b[0m                                Traceback (most recent call last)",
      "\u001b[0;32m/tmp/ipykernel_362640/3361478895.py\u001b[0m in \u001b[0;36m<module>\u001b[0;34m\u001b[0m\n\u001b[0;32m----> 1\u001b[0;31m \u001b[0mcreate_system\u001b[0m\u001b[0;34m(\u001b[0m\u001b[0mtest_data\u001b[0m\u001b[0;34m)\u001b[0m\u001b[0;34m\u001b[0m\u001b[0;34m\u001b[0m\u001b[0m\n\u001b[0m",
      "\u001b[0;32m/tmp/ipykernel_362640/994499977.py\u001b[0m in \u001b[0;36mcreate_system\u001b[0;34m(data)\u001b[0m\n\u001b[1;32m     12\u001b[0m         \u001b[0mfirst\u001b[0m\u001b[0;34m,\u001b[0m \u001b[0msecond\u001b[0m \u001b[0;34m=\u001b[0m \u001b[0mfind_unambiguous_matches\u001b[0m\u001b[0;34m(\u001b[0m\u001b[0mbeacon_distances\u001b[0m\u001b[0;34m[\u001b[0m\u001b[0mi\u001b[0m\u001b[0;34m]\u001b[0m\u001b[0;34m,\u001b[0m \u001b[0mmatched_nodes\u001b[0m\u001b[0;34m)\u001b[0m\u001b[0;34m\u001b[0m\u001b[0;34m\u001b[0m\u001b[0m\n\u001b[1;32m     13\u001b[0m         \u001b[0mprint\u001b[0m\u001b[0;34m(\u001b[0m\u001b[0mlen\u001b[0m\u001b[0;34m(\u001b[0m\u001b[0mbeacon_distances\u001b[0m\u001b[0;34m[\u001b[0m\u001b[0mi\u001b[0m\u001b[0;34m]\u001b[0m\u001b[0;34m.\u001b[0m\u001b[0mnodes\u001b[0m\u001b[0;34m)\u001b[0m\u001b[0;34m)\u001b[0m\u001b[0;34m\u001b[0m\u001b[0;34m\u001b[0m\u001b[0m\n\u001b[0;32m---> 14\u001b[0;31m         \u001b[0mcoord_i1\u001b[0m \u001b[0;34m=\u001b[0m \u001b[0mbeacon_distances\u001b[0m\u001b[0;34m[\u001b[0m\u001b[0mi\u001b[0m\u001b[0;34m]\u001b[0m\u001b[0;34m.\u001b[0m\u001b[0mnodes\u001b[0m\u001b[0;34m[\u001b[0m\u001b[0mmatched_nodes\u001b[0m\u001b[0;34m[\u001b[0m\u001b[0mfirst\u001b[0m\u001b[0;34m]\u001b[0m\u001b[0;34m[\u001b[0m\u001b[0;36m0\u001b[0m\u001b[0;34m]\u001b[0m\u001b[0;34m[\u001b[0m\u001b[0;36m0\u001b[0m\u001b[0;34m]\u001b[0m\u001b[0;34m]\u001b[0m\u001b[0;34m[\u001b[0m\u001b[0;34m'coordinate'\u001b[0m\u001b[0;34m]\u001b[0m\u001b[0;34m\u001b[0m\u001b[0;34m\u001b[0m\u001b[0m\n\u001b[0m\u001b[1;32m     15\u001b[0m         \u001b[0mcoord_i2\u001b[0m \u001b[0;34m=\u001b[0m \u001b[0mbeacon_distances\u001b[0m\u001b[0;34m[\u001b[0m\u001b[0mi\u001b[0m\u001b[0;34m]\u001b[0m\u001b[0;34m.\u001b[0m\u001b[0mnodes\u001b[0m\u001b[0;34m[\u001b[0m\u001b[0mmatched_nodes\u001b[0m\u001b[0;34m[\u001b[0m\u001b[0msecond\u001b[0m\u001b[0;34m]\u001b[0m\u001b[0;34m[\u001b[0m\u001b[0;36m0\u001b[0m\u001b[0;34m]\u001b[0m\u001b[0;34m[\u001b[0m\u001b[0;36m0\u001b[0m\u001b[0;34m]\u001b[0m\u001b[0;34m]\u001b[0m\u001b[0;34m[\u001b[0m\u001b[0;34m'coordinate'\u001b[0m\u001b[0;34m]\u001b[0m\u001b[0;34m\u001b[0m\u001b[0;34m\u001b[0m\u001b[0m\n\u001b[1;32m     16\u001b[0m         \u001b[0mcoord_j1\u001b[0m \u001b[0;34m=\u001b[0m \u001b[0mbeacon_distances\u001b[0m\u001b[0;34m[\u001b[0m\u001b[0mj\u001b[0m\u001b[0;34m]\u001b[0m\u001b[0;34m.\u001b[0m\u001b[0mnodes\u001b[0m\u001b[0;34m[\u001b[0m\u001b[0mmatched_nodes\u001b[0m\u001b[0;34m[\u001b[0m\u001b[0mfirst\u001b[0m\u001b[0;34m]\u001b[0m\u001b[0;34m[\u001b[0m\u001b[0;36m0\u001b[0m\u001b[0;34m]\u001b[0m\u001b[0;34m[\u001b[0m\u001b[0;36m1\u001b[0m\u001b[0;34m]\u001b[0m\u001b[0;34m]\u001b[0m\u001b[0;34m[\u001b[0m\u001b[0;34m'coordinate'\u001b[0m\u001b[0;34m]\u001b[0m\u001b[0;34m\u001b[0m\u001b[0;34m\u001b[0m\u001b[0m\n",
      "\u001b[0;31mIndexError\u001b[0m: list index out of range"
     ]
    }
   ],
   "source": [
    "create_system(test_data)"
   ]
  },
  {
   "cell_type": "code",
   "execution_count": 103,
   "id": "ae4b82b4",
   "metadata": {},
   "outputs": [
    {
     "data": {
      "text/plain": [
       "[[(404, -588, -901),\n",
       "  (528, -643, 409),\n",
       "  (-838, 591, 734),\n",
       "  (390, -675, -793),\n",
       "  (-537, -823, -458),\n",
       "  (-485, -357, 347),\n",
       "  (-345, -311, 381),\n",
       "  (-661, -816, -575),\n",
       "  (-876, 649, 763),\n",
       "  (-618, -824, -621),\n",
       "  (553, 345, -567),\n",
       "  (474, 580, 667),\n",
       "  (-447, -329, 318),\n",
       "  (-584, 868, -557),\n",
       "  (544, -627, -890),\n",
       "  (564, 392, -477),\n",
       "  (455, 729, 728),\n",
       "  (-892, 524, 684),\n",
       "  (-689, 845, -530),\n",
       "  (423, -701, 434),\n",
       "  (7, -33, -71),\n",
       "  (630, 319, -379),\n",
       "  (443, 580, 662),\n",
       "  (-789, 900, -551),\n",
       "  (459, -707, 401)],\n",
       " [(686, 422, 578),\n",
       "  (605, 423, 415),\n",
       "  (515, 917, -361),\n",
       "  (-336, 658, 858),\n",
       "  (95, 138, 22),\n",
       "  (-476, 619, 847),\n",
       "  (-340, -569, -846),\n",
       "  (567, -361, 727),\n",
       "  (-460, 603, -452),\n",
       "  (669, -402, 600),\n",
       "  (729, 430, 532),\n",
       "  (-500, -761, 534),\n",
       "  (-322, 571, 750),\n",
       "  (-466, -666, -811),\n",
       "  (-429, -592, 574),\n",
       "  (-355, 545, -477),\n",
       "  (703, -491, -529),\n",
       "  (-328, -685, 520),\n",
       "  (413, 935, -424),\n",
       "  (-391, 539, -444),\n",
       "  (586, -435, 557),\n",
       "  (-364, -763, -893),\n",
       "  (807, -499, -711),\n",
       "  (755, -354, -619),\n",
       "  (553, 889, -390)],\n",
       " [(649, 640, 665),\n",
       "  (682, -795, 504),\n",
       "  (-784, 533, -524),\n",
       "  (-644, 584, -595),\n",
       "  (-588, -843, 648),\n",
       "  (-30, 6, 44),\n",
       "  (-674, 560, 763),\n",
       "  (500, 723, -460),\n",
       "  (609, 671, -379),\n",
       "  (-555, -800, 653),\n",
       "  (-675, -892, -343),\n",
       "  (697, -426, -610),\n",
       "  (578, 704, 681),\n",
       "  (493, 664, -388),\n",
       "  (-671, -858, 530),\n",
       "  (-667, 343, 800),\n",
       "  (571, -461, -707),\n",
       "  (-138, -166, 112),\n",
       "  (-889, 563, -600),\n",
       "  (646, -828, 498),\n",
       "  (640, 759, 510),\n",
       "  (-630, 509, 768),\n",
       "  (-681, -892, -333),\n",
       "  (673, -379, -804),\n",
       "  (-742, -814, -386),\n",
       "  (577, -820, 562)],\n",
       " [(-589, 542, 597),\n",
       "  (605, -692, 669),\n",
       "  (-500, 565, -823),\n",
       "  (-660, 373, 557),\n",
       "  (-458, -679, -417),\n",
       "  (-488, 449, 543),\n",
       "  (-626, 468, -788),\n",
       "  (338, -750, -386),\n",
       "  (528, -832, -391),\n",
       "  (562, -778, 733),\n",
       "  (-938, -730, 414),\n",
       "  (543, 643, -506),\n",
       "  (-524, 371, -870),\n",
       "  (407, 773, 750),\n",
       "  (-104, 29, 83),\n",
       "  (378, -903, -323),\n",
       "  (-778, -728, 485),\n",
       "  (426, 699, 580),\n",
       "  (-438, -605, -362),\n",
       "  (-469, -447, -387),\n",
       "  (509, 732, 623),\n",
       "  (647, 635, -688),\n",
       "  (-868, -804, 481),\n",
       "  (614, -800, 639),\n",
       "  (595, 780, -596)],\n",
       " [(727, 592, 562),\n",
       "  (-293, -554, 779),\n",
       "  (441, 611, -461),\n",
       "  (-714, 465, -776),\n",
       "  (-743, 427, -804),\n",
       "  (-660, -479, -426),\n",
       "  (832, -632, 460),\n",
       "  (927, -485, -438),\n",
       "  (408, 393, -506),\n",
       "  (466, 436, -512),\n",
       "  (110, 16, 151),\n",
       "  (-258, -428, 682),\n",
       "  (-393, 719, 612),\n",
       "  (-211, -452, 876),\n",
       "  (808, -476, -593),\n",
       "  (-575, 615, 604),\n",
       "  (-485, 667, 467),\n",
       "  (-680, 325, -822),\n",
       "  (-627, -443, -432),\n",
       "  (872, -547, -609),\n",
       "  (833, 512, 582),\n",
       "  (807, 604, 487),\n",
       "  (839, -516, 451),\n",
       "  (891, -625, 532),\n",
       "  (-652, -548, -490),\n",
       "  (30, -46, -14)]]"
      ]
     },
     "execution_count": 103,
     "metadata": {},
     "output_type": "execute_result"
    }
   ],
   "source": [
    "test_data"
   ]
  },
  {
   "cell_type": "code",
   "execution_count": 41,
   "id": "77ef9bbf",
   "metadata": {},
   "outputs": [
    {
     "data": {
      "text/plain": [
       "3"
      ]
     },
     "execution_count": 41,
     "metadata": {},
     "output_type": "execute_result"
    }
   ],
   "source": [
    "c = count(3)\n",
    "next(c)"
   ]
  },
  {
   "cell_type": "code",
   "execution_count": 42,
   "id": "be094f69",
   "metadata": {},
   "outputs": [
    {
     "data": {
      "text/plain": [
       "4"
      ]
     },
     "execution_count": 42,
     "metadata": {},
     "output_type": "execute_result"
    }
   ],
   "source": [
    "next(c)"
   ]
  },
  {
   "cell_type": "code",
   "execution_count": 43,
   "id": "ac142a3f",
   "metadata": {},
   "outputs": [
    {
     "ename": "NameError",
     "evalue": "name 'random' is not defined",
     "output_type": "error",
     "traceback": [
      "\u001b[0;31m---------------------------------------------------------------------------\u001b[0m",
      "\u001b[0;31mNameError\u001b[0m                                 Traceback (most recent call last)",
      "\u001b[0;32m/tmp/ipykernel_362640/1959765497.py\u001b[0m in \u001b[0;36m<module>\u001b[0;34m\u001b[0m\n\u001b[0;32m----> 1\u001b[0;31m \u001b[0mrandom\u001b[0m\u001b[0;34m(\u001b[0m\u001b[0;36m40\u001b[0m\u001b[0;34m)\u001b[0m\u001b[0;34m\u001b[0m\u001b[0;34m\u001b[0m\u001b[0m\n\u001b[0m",
      "\u001b[0;31mNameError\u001b[0m: name 'random' is not defined"
     ]
    }
   ],
   "source": [
    "random(40)"
   ]
  },
  {
   "cell_type": "code",
   "execution_count": null,
   "id": "3275c02b",
   "metadata": {},
   "outputs": [],
   "source": []
  }
 ],
 "metadata": {
  "kernelspec": {
   "display_name": "Python 3 (ipykernel)",
   "language": "python",
   "name": "python3"
  },
  "language_info": {
   "codemirror_mode": {
    "name": "ipython",
    "version": 3
   },
   "file_extension": ".py",
   "mimetype": "text/x-python",
   "name": "python",
   "nbconvert_exporter": "python",
   "pygments_lexer": "ipython3",
   "version": "3.10.2"
  }
 },
 "nbformat": 4,
 "nbformat_minor": 5
}
