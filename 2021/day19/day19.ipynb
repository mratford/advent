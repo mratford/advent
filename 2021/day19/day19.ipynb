{
 "cells": [
  {
   "cell_type": "markdown",
   "id": "554c3003",
   "metadata": {},
   "source": [
    "# Day 19\n",
    "## Part 1\n",
    "~~I'm not bothering with this one.~~ Ok, the single empty day is nagging at me. Let's take this one slowly and not spend entire days debugging it.\n",
    "\n",
    "Parse the scanners as lists of three-coordinate tuples."
   ]
  },
  {
   "cell_type": "code",
   "execution_count": 1,
   "id": "39461610",
   "metadata": {},
   "outputs": [],
   "source": [
    "import parse\n",
    "\n",
    "def parse_data(s):\n",
    "    scanners = []\n",
    "    for block in s.strip().split('\\n\\n'):\n",
    "        scanner = []\n",
    "        for line in block.splitlines():\n",
    "            if r := parse.parse('{x:d},{y:d},{z:d}', line):\n",
    "                scanner.append((r['x'], r['y'], r['z']))\n",
    "        scanners.append(scanner)\n",
    "    return scanners\n",
    "\n",
    "test_data = parse_data(open('test_input', 'r').read())\n",
    "data = parse_data(open('input', 'r').read())"
   ]
  },
  {
   "cell_type": "markdown",
   "id": "8b09edbe",
   "metadata": {},
   "source": [
    "Record the distance between each scanner's observations as a set of absolute differences in each coordinate direction, which will allow comparison with other scanners' coordinate systems."
   ]
  },
  {
   "cell_type": "code",
   "execution_count": 8,
   "id": "d6967ced",
   "metadata": {},
   "outputs": [],
   "source": [
    "import itertools\n",
    "import networkx as nx\n",
    "\n",
    "def beacon_distance(scanner):\n",
    "    distances = nx.Graph()\n",
    "    for (i, (x_i, y_i, z_i)), (j, (x_j, y_j, z_j)) in itertools.combinations(enumerate(scanner), 2):\n",
    "        distance = frozenset([abs(d) for d in [x_i - x_j, y_i - y_j, z_i - z_j]])\n",
    "        distances.add_edge(i, j, distance=distance)\n",
    "    return distances\n",
    "\n",
    "beacon_distances = [beacon_distance(x) for x in test_data]"
   ]
  },
  {
   "cell_type": "code",
   "execution_count": 14,
   "id": "2b2c4070",
   "metadata": {},
   "outputs": [
    {
     "data": {
      "text/plain": [
       "{'distance': frozenset({55, 124, 1310})}"
      ]
     },
     "execution_count": 14,
     "metadata": {},
     "output_type": "execute_result"
    }
   ],
   "source": [
    "beacon_distances[0][0][1]"
   ]
  },
  {
   "cell_type": "code",
   "execution_count": 15,
   "id": "14b691b4",
   "metadata": {},
   "outputs": [
    {
     "data": {
      "text/plain": [
       "{'distance': frozenset({55, 124, 1310})}"
      ]
     },
     "execution_count": 15,
     "metadata": {},
     "output_type": "execute_result"
    }
   ],
   "source": [
    "beacon_distances[0][1][0]"
   ]
  },
  {
   "cell_type": "code",
   "execution_count": null,
   "id": "bd152250",
   "metadata": {},
   "outputs": [],
   "source": []
  }
 ],
 "metadata": {
  "kernelspec": {
   "display_name": "Python 3 (ipykernel)",
   "language": "python",
   "name": "python3"
  },
  "language_info": {
   "codemirror_mode": {
    "name": "ipython",
    "version": 3
   },
   "file_extension": ".py",
   "mimetype": "text/x-python",
   "name": "python",
   "nbconvert_exporter": "python",
   "pygments_lexer": "ipython3",
   "version": "3.10.1"
  }
 },
 "nbformat": 4,
 "nbformat_minor": 5
}
