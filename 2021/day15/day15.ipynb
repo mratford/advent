{
 "cells": [
  {
   "cell_type": "markdown",
   "id": "554c3003",
   "metadata": {},
   "source": [
    "# Day 15\n",
    "## Part 1"
   ]
  },
  {
   "cell_type": "code",
   "execution_count": 13,
   "id": "39461610",
   "metadata": {},
   "outputs": [],
   "source": [
    "import networkx as nx\n",
    "\n",
    "\n",
    "def parse_data(s):\n",
    "    grid = [[int(c) for c in row.strip()] for row in s.strip().splitlines()]\n",
    "    G = nx.DiGraph()\n",
    "    max_col = len(grid) - 1\n",
    "    max_row = len(grid[0]) - 1\n",
    "    for r in range(max_col + 1):\n",
    "        for c in range(max_row + 1):\n",
    "            for dr in (-1, 1):\n",
    "                if 0 <= r + dr <= max_row:\n",
    "                    G.add_edge((r, c), (r + dr, c), weight=grid[r + dr][c])\n",
    "                    G.add_edge((r + dr, c), (r, c), weight=grid[r][c])\n",
    "            for dc in (-1, 1):\n",
    "                if 0 <= c + dc <= max_col:\n",
    "                    G.add_edge((r, c), (r, c + dc), weight=grid[r][c + dc])\n",
    "                    G.add_edge((r, c + dc), (r, c), weight=grid[r][c])\n",
    "    return G\n",
    "\n",
    "\n",
    "def part_1(data):\n",
    "    coords = [(r, c) for r, c in data.nodes]\n",
    "    max_row = max(r for r, _ in coords)\n",
    "    max_col = max(c for _, c in coords)\n",
    "    return nx.dijkstra_path_length(data, (0, 0), (max_row, max_col))\n",
    "\n",
    "\n",
    "test_string = '''\n",
    "1163751742\n",
    "1381373672\n",
    "2136511328\n",
    "3694931569\n",
    "7463417111\n",
    "1319128137\n",
    "1359912421\n",
    "3125421639\n",
    "1293138521\n",
    "2311944581\n",
    "'''\n",
    "\n",
    "test_data = parse_data(test_string)\n",
    "assert part_1(test_data) == 40"
   ]
  },
  {
   "cell_type": "code",
   "execution_count": 15,
   "id": "357a8248",
   "metadata": {},
   "outputs": [
    {
     "data": {
      "text/plain": [
       "656"
      ]
     },
     "execution_count": 15,
     "metadata": {},
     "output_type": "execute_result"
    }
   ],
   "source": [
    "data = parse_data(open('input', 'r').read())\n",
    "part_1(data)"
   ]
  },
  {
   "cell_type": "markdown",
   "id": "73f903aa",
   "metadata": {},
   "source": [
    "## Part 2"
   ]
  },
  {
   "cell_type": "code",
   "execution_count": 52,
   "id": "bbfe4eb1",
   "metadata": {},
   "outputs": [],
   "source": [
    "import numpy as np\n",
    "\n",
    "def parse_data_2(s):\n",
    "    grid = np.array([[int(c) for c in row.strip()] for row in s.strip().splitlines()])\n",
    "    # So we can use base 9\n",
    "    grid = grid - 1\n",
    "    for g in [np.mod(grid + i, 9) for i in range(1, 5)]:\n",
    "        grid = np.hstack((grid, g))\n",
    "    for row in [np.mod(grid + i, 9) for i in range(1, 5)]:\n",
    "        grid = np.vstack((grid, row))\n",
    "    # Return to 1 to 9 numbering\n",
    "    grid = grid + 1\n",
    "    G = nx.DiGraph()\n",
    "    len_col, len_row = grid.shape\n",
    "    for r in range(len_col):\n",
    "        for c in range(len_row):\n",
    "            for dr in (-1, 1):\n",
    "                if 0 <= r + dr < len_row:\n",
    "                    G.add_edge((r, c), (r + dr, c), weight=grid[r + dr, c])\n",
    "                    G.add_edge((r + dr, c), (r, c), weight=grid[r, c])\n",
    "            for dc in (-1, 1):\n",
    "                if 0 <= c + dc < len_col:\n",
    "                    G.add_edge((r, c), (r, c + dc), weight=grid[r, c + dc])\n",
    "                    G.add_edge((r, c + dc), (r, c), weight=grid[r, c])\n",
    "    return G\n",
    "\n",
    "test_data_2 = parse_data_2(test_string)\n",
    "assert part_1(test_data_2) == 315"
   ]
  },
  {
   "cell_type": "code",
   "execution_count": 53,
   "id": "2b2d21d0",
   "metadata": {},
   "outputs": [
    {
     "data": {
      "text/plain": [
       "2979"
      ]
     },
     "execution_count": 53,
     "metadata": {},
     "output_type": "execute_result"
    }
   ],
   "source": [
    "data_2 = parse_data_2(open('input', 'r').read())\n",
    "part_1(data_2)"
   ]
  },
  {
   "cell_type": "code",
   "execution_count": null,
   "id": "01815016",
   "metadata": {},
   "outputs": [],
   "source": []
  }
 ],
 "metadata": {
  "kernelspec": {
   "display_name": "Python 3 (ipykernel)",
   "language": "python",
   "name": "python3"
  },
  "language_info": {
   "codemirror_mode": {
    "name": "ipython",
    "version": 3
   },
   "file_extension": ".py",
   "mimetype": "text/x-python",
   "name": "python",
   "nbconvert_exporter": "python",
   "pygments_lexer": "ipython3",
   "version": "3.9.9"
  }
 },
 "nbformat": 4,
 "nbformat_minor": 5
}
