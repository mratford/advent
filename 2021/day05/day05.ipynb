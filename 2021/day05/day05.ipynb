{
 "cells": [
  {
   "cell_type": "markdown",
   "id": "554c3003",
   "metadata": {},
   "source": [
    "# Day 5\n",
    "## Part 1"
   ]
  },
  {
   "cell_type": "code",
   "execution_count": 32,
   "id": "39461610",
   "metadata": {},
   "outputs": [
    {
     "data": {
      "text/plain": [
       "[((0, 9), (5, 9)),\n",
       " ((8, 0), (0, 8)),\n",
       " ((9, 4), (3, 4)),\n",
       " ((2, 2), (2, 1)),\n",
       " ((7, 0), (7, 4)),\n",
       " ((6, 4), (2, 0)),\n",
       " ((0, 9), (2, 9)),\n",
       " ((3, 4), (1, 4)),\n",
       " ((0, 0), (8, 8)),\n",
       " ((5, 5), (8, 2))]"
      ]
     },
     "execution_count": 32,
     "metadata": {},
     "output_type": "execute_result"
    }
   ],
   "source": [
    "import parse\n",
    "\n",
    "def parse_data(s):\n",
    "    parsed = []\n",
    "    for line in s.splitlines():\n",
    "        p = parse.parse('{x1:d},{y1:d} -> {x2:d},{y2:d}', line)\n",
    "        parsed.append(((p['x1'], p['y1']), (p['x2'], p['y2'])))\n",
    "    return parsed\n",
    "\n",
    "test_string = '''0,9 -> 5,9\n",
    "8,0 -> 0,8\n",
    "9,4 -> 3,4\n",
    "2,2 -> 2,1\n",
    "7,0 -> 7,4\n",
    "6,4 -> 2,0\n",
    "0,9 -> 2,9\n",
    "3,4 -> 1,4\n",
    "0,0 -> 8,8\n",
    "5,5 -> 8,2'''\n",
    "\n",
    "test_data = parse_data(test_string)\n",
    "test_data"
   ]
  },
  {
   "cell_type": "code",
   "execution_count": 33,
   "id": "f5018883",
   "metadata": {},
   "outputs": [],
   "source": [
    "import collections\n",
    "\n",
    "def points_between(p1, p2):\n",
    "    x1, y1 = p1\n",
    "    x2, y2 = p2\n",
    "    if x1 == x2:\n",
    "        for y in range(min(y1, y2), max(y1, y2) + 1):\n",
    "            yield (x1, y)\n",
    "    elif y1 == y2:\n",
    "        for x in range(min(x1, x2), max(x1, x2) + 1):\n",
    "            yield (x, y1)\n",
    "            \n",
    "def count_points(data):\n",
    "    all_points = []\n",
    "    for p1, p2 in data:\n",
    "        for p in points_between(p1, p2):\n",
    "            all_points.append(p)\n",
    "    return collections.Counter(all_points)\n",
    "    \n",
    "\n",
    "def intersections(count):\n",
    "    return [(p, n) for p, n in count.items() if n > 1]\n",
    "\n",
    "def part_1(data):\n",
    "    return len(intersections(count_points(data)))\n",
    "\n",
    "assert part_1(test_data)"
   ]
  },
  {
   "cell_type": "code",
   "execution_count": 34,
   "id": "a07f6b51",
   "metadata": {},
   "outputs": [
    {
     "data": {
      "text/plain": [
       "8060"
      ]
     },
     "execution_count": 34,
     "metadata": {},
     "output_type": "execute_result"
    }
   ],
   "source": [
    "data = parse_data(open('input', 'r').read())\n",
    "part_1(data)"
   ]
  },
  {
   "cell_type": "markdown",
   "id": "bf7347f0",
   "metadata": {},
   "source": [
    "## Part 2\n",
    "\n",
    "Redefine the points_between function to include diagonals."
   ]
  },
  {
   "cell_type": "code",
   "execution_count": 37,
   "id": "916675c2",
   "metadata": {},
   "outputs": [],
   "source": [
    "def points_between(p1, p2):\n",
    "    x1, y1 = p1\n",
    "    x2, y2 = p2\n",
    "    dx = 0 if x1 == x2 else abs(x2 - x1) / (x2 - x1)\n",
    "    dy = 0 if y1 == y2 else abs(y2 - y1) / (y2 - y1)\n",
    "    x, y = x1, y1\n",
    "    while True:\n",
    "        yield (x, y)\n",
    "        if x == x2 and y == y2:\n",
    "            break\n",
    "        x += dx\n",
    "        y += dy\n",
    "            \n",
    "assert part_1(test_data) == 12"
   ]
  },
  {
   "cell_type": "code",
   "execution_count": 38,
   "id": "c898b243",
   "metadata": {},
   "outputs": [
    {
     "data": {
      "text/plain": [
       "21577"
      ]
     },
     "execution_count": 38,
     "metadata": {},
     "output_type": "execute_result"
    }
   ],
   "source": [
    "part_1(data)"
   ]
  },
  {
   "cell_type": "code",
   "execution_count": null,
   "id": "786d3360",
   "metadata": {},
   "outputs": [],
   "source": []
  }
 ],
 "metadata": {
  "kernelspec": {
   "display_name": "Python 3 (ipykernel)",
   "language": "python",
   "name": "python3"
  },
  "language_info": {
   "codemirror_mode": {
    "name": "ipython",
    "version": 3
   },
   "file_extension": ".py",
   "mimetype": "text/x-python",
   "name": "python",
   "nbconvert_exporter": "python",
   "pygments_lexer": "ipython3",
   "version": "3.9.7"
  }
 },
 "nbformat": 4,
 "nbformat_minor": 5
}
