{
 "cells": [
  {
   "cell_type": "markdown",
   "id": "554c3003",
   "metadata": {},
   "source": [
    "# Day 12\n",
    "## Part 1\n",
    "Use [pyrsistent](https://pyrsistent.readthedocs.io/en/latest/)'s hashable vectors to check the paths."
   ]
  },
  {
   "cell_type": "code",
   "execution_count": 20,
   "id": "39461610",
   "metadata": {},
   "outputs": [
    {
     "data": {
      "text/plain": [
       "defaultdict(list,\n",
       "            {'dc': ['end', 'start', 'HN', 'LN', 'kj'],\n",
       "             'end': ['dc', 'HN'],\n",
       "             'HN': ['start', 'dc', 'end', 'kj'],\n",
       "             'start': ['HN', 'kj', 'dc'],\n",
       "             'kj': ['start', 'sa', 'HN', 'dc'],\n",
       "             'LN': ['dc'],\n",
       "             'sa': ['kj']})"
      ]
     },
     "execution_count": 20,
     "metadata": {},
     "output_type": "execute_result"
    }
   ],
   "source": [
    "from pyrsistent import pvector\n",
    "from collections import defaultdict\n",
    "\n",
    "def parse_data(s):\n",
    "    data = defaultdict(list)\n",
    "    for line in s.strip().splitlines():\n",
    "        fields = line.split('-')\n",
    "        data[fields[0].strip()].append(fields[1].strip())\n",
    "        data[fields[1].strip()].append(fields[0].strip())\n",
    "    return data\n",
    "    \n",
    "test_string = '''dc-end\n",
    "HN-start\n",
    "start-kj\n",
    "dc-start\n",
    "dc-HN\n",
    "LN-dc\n",
    "HN-end\n",
    "kj-sa\n",
    "kj-HN\n",
    "kj-dc\n",
    "'''\n",
    "\n",
    "test_data = parse_data(test_string)\n",
    "test_data"
   ]
  },
  {
   "cell_type": "code",
   "execution_count": 22,
   "id": "f42a4962",
   "metadata": {},
   "outputs": [],
   "source": [
    "def part_1(data):\n",
    "    complete_paths = set()\n",
    "    incomplete_paths = {pvector(['start', link]) for link in data['start']}\n",
    "    while incomplete_paths:\n",
    "        p = incomplete_paths.pop()\n",
    "        for next_node in data[p[-1]]:\n",
    "            if not (next_node.islower() and next_node in p):\n",
    "                if next_node == 'end':\n",
    "                    complete_paths.add(p.append('end'))\n",
    "                else:\n",
    "                    incomplete_paths.add(p.append(next_node))\n",
    "    return len(complete_paths)\n",
    "\n",
    "assert part_1(test_data) == 19"
   ]
  },
  {
   "cell_type": "code",
   "execution_count": 24,
   "id": "05469d93",
   "metadata": {},
   "outputs": [],
   "source": [
    "test_data_2 = parse_data('''\n",
    "fs-end\n",
    "he-DX\n",
    "fs-he\n",
    "start-DX\n",
    "pj-DX\n",
    "end-zg\n",
    "zg-sl\n",
    "zg-pj\n",
    "pj-he\n",
    "RW-he\n",
    "fs-DX\n",
    "pj-RW\n",
    "zg-RW\n",
    "start-pj\n",
    "he-WI\n",
    "zg-he\n",
    "pj-fs\n",
    "start-RW\n",
    "''')\n",
    "\n",
    "assert part_1(test_data_2) == 226"
   ]
  },
  {
   "cell_type": "code",
   "execution_count": 25,
   "id": "c5317550",
   "metadata": {},
   "outputs": [
    {
     "data": {
      "text/plain": [
       "4749"
      ]
     },
     "execution_count": 25,
     "metadata": {},
     "output_type": "execute_result"
    }
   ],
   "source": [
    "data = parse_data(open('input', 'r').read())\n",
    "part_1(data)"
   ]
  },
  {
   "cell_type": "markdown",
   "id": "40a26130",
   "metadata": {},
   "source": [
    "## Part 2\n",
    "\n",
    "The requirement that only one small cave can be visited at most twice makes things a bit fiddly. "
   ]
  },
  {
   "cell_type": "code",
   "execution_count": 71,
   "id": "9278fdfe",
   "metadata": {},
   "outputs": [],
   "source": [
    "def valid_path(path):\n",
    "    latest_node = path[-1]\n",
    "    if path.count('start') > 1:\n",
    "        return False\n",
    "    elif latest_node.islower() and path.count(latest_node) > 2:\n",
    "        return False\n",
    "    else:\n",
    "        previous_lcase_counts = {path[:-1].count(n) for n in set(path[:-1]) if n.islower()}\n",
    "        return not(\n",
    "            latest_node.islower() \n",
    "            and path.count(latest_node) > 1 \n",
    "            and any(c > 1 for c in previous_lcase_counts)\n",
    "        )\n",
    "\n",
    "def part_2(data):\n",
    "    complete_paths = set()\n",
    "    incomplete_paths = {pvector(['start', link]) for link in data['start']}\n",
    "    # visited_paths = set()\n",
    "    while incomplete_paths:\n",
    "        p = incomplete_paths.pop()\n",
    "        for next_node in data[p[-1]]:\n",
    "            incomplete_path = p.append(next_node)\n",
    "            if next_node == 'end':\n",
    "                complete_paths.add(incomplete_path)\n",
    "            elif valid_path(incomplete_path): # and incomplete_path not in visited_paths:\n",
    "                incomplete_paths.add(incomplete_path)\n",
    "                #visited_paths.add(incomplete_path)\n",
    "    return len(complete_paths)\n",
    "\n",
    "assert part_2(test_data) == 103"
   ]
  },
  {
   "cell_type": "code",
   "execution_count": 72,
   "id": "8eda5b14",
   "metadata": {},
   "outputs": [
    {
     "data": {
      "text/plain": [
       "123054"
      ]
     },
     "execution_count": 72,
     "metadata": {},
     "output_type": "execute_result"
    }
   ],
   "source": [
    "part_2(data)\n"
   ]
  },
  {
   "cell_type": "markdown",
   "id": "1980f3c2",
   "metadata": {},
   "source": [
    "That was tortuous and the code's really slow, for some reason."
   ]
  },
  {
   "cell_type": "code",
   "execution_count": 69,
   "id": "49f3e1c0",
   "metadata": {},
   "outputs": [
    {
     "name": "stdout",
     "output_type": "stream",
     "text": [
      "4.09 s ± 26.3 ms per loop (mean ± std. dev. of 7 runs, 1 loop each)\n"
     ]
    }
   ],
   "source": [
    "%%timeit\n",
    "\n",
    "part_2(data)"
   ]
  },
  {
   "cell_type": "code",
   "execution_count": null,
   "id": "23b7ae0f",
   "metadata": {},
   "outputs": [],
   "source": []
  }
 ],
 "metadata": {
  "kernelspec": {
   "display_name": "Python 3 (ipykernel)",
   "language": "python",
   "name": "python3"
  },
  "language_info": {
   "codemirror_mode": {
    "name": "ipython",
    "version": 3
   },
   "file_extension": ".py",
   "mimetype": "text/x-python",
   "name": "python",
   "nbconvert_exporter": "python",
   "pygments_lexer": "ipython3",
   "version": "3.9.9"
  }
 },
 "nbformat": 4,
 "nbformat_minor": 5
}
