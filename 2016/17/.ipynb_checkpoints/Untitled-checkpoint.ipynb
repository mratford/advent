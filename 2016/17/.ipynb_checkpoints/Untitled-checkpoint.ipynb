{
 "cells": [
  {
   "cell_type": "code",
   "execution_count": 15,
   "metadata": {
    "collapsed": false
   },
   "outputs": [
    {
     "name": "stdout",
     "output_type": "stream",
     "text": [
      "((0, 0), '') [((0, 1), 'D'), ((1, 0), 'R')]\n",
      "((0, 1), 'D') [((0, 0), 'DU'), ((0, 2), 'DD'), ((1, 1), 'DR')]\n",
      "((0, 2), 'DD') [((1, 2), 'DDR')]\n",
      "((1, 0), 'R') []\n",
      "((1, 1), 'DR') [((2, 1), 'DRR')]\n",
      "((1, 2), 'DDR') [((1, 1), 'DDRU'), ((1, 3), 'DDRD'), ((0, 2), 'DDRL'), ((2, 2), 'DDRR')]\n",
      "((1, 3), 'DDRD') [((1, 2), 'DDRDU'), ((0, 3), 'DDRDL')]\n",
      "((2, 1), 'DRR') [((2, 0), 'DRRU')]\n",
      "((2, 2), 'DDRR') [((2, 3), 'DDRRD'), ((3, 2), 'DDRRR')]\n",
      "((2, 3), 'DDRRD') []\n",
      "((3, 2), 'DDRRR') [((3, 3), 'DDRRRD')]\n",
      "DDRRRD\n"
     ]
    }
   ],
   "source": [
    "import hashlib\n",
    "from heapq import heappop, heappush\n",
    "\n",
    "\n",
    "passcode = 'ihgpwlah'\n",
    "\n",
    "\n",
    "def astar(start_state, move_function, distance_function):\n",
    "    states = [(distance_function(start_state), start_state)]\n",
    "    paths = {start_state: None}\n",
    "    path_lengths = {start_state: 0}\n",
    "    while states:\n",
    "        _, best = heappop(states)\n",
    "        for s in move_function(best):\n",
    "            d = distance_function(s)\n",
    "            pl = path_lengths[best] + 1\n",
    "            if s not in path_lengths or path_lengths[s] > pl:\n",
    "                path_lengths[s] = pl\n",
    "                paths[s] = best\n",
    "                heappush(states, (d + pl, s))\n",
    "                if d == 0:\n",
    "                    return get_path(paths, s)\n",
    "    return paths\n",
    "\n",
    "def get_path(paths, state):\n",
    "    if state is None:\n",
    "        return []\n",
    "    else:\n",
    "        return get_path(paths, paths[state]) + [state]\n",
    "            \n",
    "\n",
    "directions = {'U': (0, -1), 'D': (0, 1), 'L': (-1, 0), 'R': (1, 0)}\n",
    "valid_coords = {0, 1, 2, 3}\n",
    "\n",
    "\n",
    "def unlocked_doors(path):\n",
    "    h = hashlib.md5((passcode + path).encode('utf-8')).hexdigest()\n",
    "    return [d for i, d in enumerate('UDLR') if h[i] in 'bcdef']\n",
    "\n",
    "\n",
    "def valid_moves(state):\n",
    "    result = []\n",
    "    (x, y), path = state\n",
    "    for d in unlocked_doors(path):\n",
    "        dx, dy = directions[d]\n",
    "        new_x, new_y = x + dx, y + dy\n",
    "        if new_x in valid_coords and new_y in valid_coords:\n",
    "            result.append(((new_x, new_y), path + d))\n",
    "    print(state, result)\n",
    "    return result\n",
    "\n",
    "def distance(state):\n",
    "    (x, y), _ = state\n",
    "    return (3 - x) + (3 - y)\n",
    "\n",
    "start_state = ((0, 0), '')\n",
    "result = astar(start_state, valid_moves, distance)\n",
    "if result:\n",
    "    print(result[-1][1])\n"
   ]
  },
  {
   "cell_type": "code",
   "execution_count": 7,
   "metadata": {
    "collapsed": false
   },
   "outputs": [
    {
     "data": {
      "text/plain": [
       "['D']"
      ]
     },
     "execution_count": 7,
     "metadata": {},
     "output_type": "execute_result"
    }
   ],
   "source": [
    "unlocked_doors('DDRRR')"
   ]
  },
  {
   "cell_type": "code",
   "execution_count": null,
   "metadata": {
    "collapsed": true
   },
   "outputs": [],
   "source": []
  }
 ],
 "metadata": {
  "anaconda-cloud": {},
  "kernelspec": {
   "display_name": "Python [conda root]",
   "language": "python",
   "name": "conda-root-py"
  },
  "language_info": {
   "codemirror_mode": {
    "name": "ipython",
    "version": 3
   },
   "file_extension": ".py",
   "mimetype": "text/x-python",
   "name": "python",
   "nbconvert_exporter": "python",
   "pygments_lexer": "ipython3",
   "version": "3.5.2"
  }
 },
 "nbformat": 4,
 "nbformat_minor": 1
}
