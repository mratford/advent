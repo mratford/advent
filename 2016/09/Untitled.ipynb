{
 "cells": [
  {
   "cell_type": "code",
   "execution_count": 11,
   "metadata": {
    "collapsed": true
   },
   "outputs": [],
   "source": [
    "import re\n",
    "\n",
    "with open('input', 'rt') as f:\n",
    "    compressed = f.read().rstrip()\n",
    "\n",
    "def uncompress(string):\n",
    "    print(string)\n",
    "    i = 0\n",
    "    uncompressed_length = 0\n",
    "    while i < len(string):\n",
    "        marker = re.match(r'\\((\\d+)x(\\d+)\\)', string[i:])\n",
    "        if marker:\n",
    "            length = int(marker.group(1))\n",
    "            repetitions = int(marker.group(2))\n",
    "            print(length, repetitions)\n",
    "            p = marker.end()\n",
    "            uncompressed_length += repetitions * \\\n",
    "              uncompress(string[i + p: i + p + length])\n",
    "            i = i + p + length\n",
    "        elif string[i].isspace():\n",
    "            i += 1\n",
    "        else:\n",
    "            uncompressed_length += 1\n",
    "            i += 1\n",
    "    return uncompressed_length\n"
   ]
  },
  {
   "cell_type": "code",
   "execution_count": 12,
   "metadata": {
    "collapsed": false
   },
   "outputs": [
    {
     "name": "stdout",
     "output_type": "stream",
     "text": [
      "(13x2)two(5x7)seven\n",
      "13 2\n",
      "two(5x7)seven\n",
      "5 7\n",
      "seven\n"
     ]
    },
    {
     "data": {
      "text/plain": [
       "76"
      ]
     },
     "execution_count": 12,
     "metadata": {},
     "output_type": "execute_result"
    }
   ],
   "source": [
    "uncompress(\"(13x2)two(5x7)seven\")"
   ]
  },
  {
   "cell_type": "code",
   "execution_count": 13,
   "metadata": {
    "collapsed": false
   },
   "outputs": [
    {
     "name": "stdout",
     "output_type": "stream",
     "text": [
      "(25x3)(3x3)ABC(2x3)XY(5x2)PQRSTX(18x9)(3x2)TWO(5x7)SEVEN\n",
      "25 3\n",
      "(3x3)ABC(2x3)XY(5x2)PQRST\n",
      "3 3\n",
      "ABC\n",
      "2 3\n",
      "XY\n",
      "5 2\n",
      "PQRST\n",
      "18 9\n",
      "(3x2)TWO(5x7)SEVEN\n",
      "3 2\n",
      "TWO\n",
      "5 7\n",
      "SEVEN\n",
      "445\n"
     ]
    }
   ],
   "source": [
    "print(uncompress(\"(25x3)(3x3)ABC(2x3)XY(5x2)PQRSTX(18x9)(3x2)TWO(5x7)SEVEN\"))"
   ]
  },
  {
   "cell_type": "code",
   "execution_count": 6,
   "metadata": {
    "collapsed": false
   },
   "outputs": [
    {
     "name": "stdout",
     "output_type": "stream",
     "text": [
      "188\n"
     ]
    }
   ],
   "source": [
    "print(uncompress(\"(3x3)ABC(2x3)XY(5x2)PQRSTX(18x9)(3x2)TWO(5x7)SEVEN\"))"
   ]
  },
  {
   "cell_type": "code",
   "execution_count": null,
   "metadata": {
    "collapsed": true
   },
   "outputs": [],
   "source": []
  }
 ],
 "metadata": {
  "anaconda-cloud": {},
  "kernelspec": {
   "display_name": "Python [conda root]",
   "language": "python",
   "name": "conda-root-py"
  },
  "language_info": {
   "codemirror_mode": {
    "name": "ipython",
    "version": 3
   },
   "file_extension": ".py",
   "mimetype": "text/x-python",
   "name": "python",
   "nbconvert_exporter": "python",
   "pygments_lexer": "ipython3",
   "version": "3.5.2"
  }
 },
 "nbformat": 4,
 "nbformat_minor": 1
}
