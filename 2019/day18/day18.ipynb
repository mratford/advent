{
 "cells": [
  {
   "cell_type": "markdown",
   "metadata": {},
   "source": [
    "# Day 18\n",
    "## Part 1\n",
    "\n",
    "Doing a complete breadth first search looks like it might be intractable, so first create a graph of the shortest distance from each point of interest to each other point that's accessible without passing through another door or key.  "
   ]
  },
  {
   "cell_type": "code",
   "execution_count": 75,
   "metadata": {},
   "outputs": [],
   "source": [
    "from collections import defaultdict, deque\n",
    "\n",
    "def draw_graph(vault):\n",
    "    def bfs(row, col):\n",
    "        seen = {(row, col)}\n",
    "        search = deque([(row, col, 0)])\n",
    "        accessible_points = {}\n",
    "        \n",
    "        while search:\n",
    "            r, c, steps = search.popleft()\n",
    "            \n",
    "            for dr, dc in [(0, 1), (1, 0), (0, -1), (-1, 0)]:\n",
    "                new_r = r + dr\n",
    "                new_c = c + dc\n",
    "                pos = vault[new_r][new_c]\n",
    "                if (new_r, new_c) not in seen:\n",
    "                    if pos in '.@':\n",
    "                        search.append((new_r, new_c, steps + 1))\n",
    "                        seen.add((new_r, new_c))\n",
    "                    elif pos != '#':\n",
    "                        accessible_points[pos] = steps + 1\n",
    "                        \n",
    "        return accessible_points\n",
    "    \n",
    "    return {\n",
    "        vault[r][c]: bfs(r, c)\n",
    "        for r, row in enumerate(vault)\n",
    "        for c, pos in enumerate(row)\n",
    "        if pos not in '#.'\n",
    "    }"
   ]
  },
  {
   "cell_type": "code",
   "execution_count": 76,
   "metadata": {},
   "outputs": [
    {
     "data": {
      "text/plain": [
       "{'b': {'A': 2}, 'A': {'b': 2, 'a': 4}, '@': {'a': 2, 'A': 2}, 'a': {'A': 4}}"
      ]
     },
     "execution_count": 76,
     "metadata": {},
     "output_type": "execute_result"
    }
   ],
   "source": [
    "test_vault_1 = '''#########\n",
    "#b.A.@.a#\n",
    "#########'''.splitlines()\n",
    "\n",
    "draw_graph(test_vault_1)"
   ]
  },
  {
   "cell_type": "code",
   "execution_count": 77,
   "metadata": {},
   "outputs": [
    {
     "data": {
      "text/plain": [
       "{'f': {'D': 2},\n",
       " 'D': {'E': 2, 'f': 2},\n",
       " 'E': {'e': 2, 'D': 2},\n",
       " 'e': {'C': 2, 'E': 2},\n",
       " 'C': {'b': 2, 'e': 2},\n",
       " 'b': {'A': 2, 'C': 2},\n",
       " 'A': {'b': 2, 'a': 4},\n",
       " '@': {'a': 2, 'A': 2},\n",
       " 'a': {'B': 2, 'A': 4},\n",
       " 'B': {'c': 2, 'a': 2},\n",
       " 'c': {'B': 2, 'd': 24},\n",
       " 'd': {'c': 24}}"
      ]
     },
     "execution_count": 77,
     "metadata": {},
     "output_type": "execute_result"
    }
   ],
   "source": [
    "test_vault_2 = '''########################\n",
    "#f.D.E.e.C.b.A.@.a.B.c.#\n",
    "######################.#\n",
    "#d.....................#\n",
    "########################\n",
    "'''.splitlines()\n",
    "\n",
    "draw_graph(test_vault_2)"
   ]
  },
  {
   "cell_type": "markdown",
   "metadata": {},
   "source": [
    "Now do an exhaustive search on these graphs to find the shortest legitimate path, where the doors are unlocked. Select the shortest path so far at each point, and prune any branches longer than the best found so far. "
   ]
  },
  {
   "cell_type": "code",
   "execution_count": 78,
   "metadata": {},
   "outputs": [],
   "source": [
    "import heapq\n",
    "import math\n",
    "from collections import namedtuple\n",
    "from pyrsistent import pset\n",
    "\n",
    "def collect_keys(graph):\n",
    "    all_keys = {k for k in graph if k.islower()}\n",
    "    shortest_path = math.inf\n",
    "    seen = {}\n",
    "    \n",
    "    # Each search state is a tuple of the number of\n",
    "    # steps taken, the node we're at, and the keys\n",
    "    # collected\n",
    "    search = [(0, '@', pset())]\n",
    "    \n",
    "    while search:\n",
    "        steps, node, keys = heapq.heappop(search)\n",
    "        \n",
    "        for next_node in graph[node]:\n",
    "            # Update the length of the path taken\n",
    "            new_steps = steps + graph[node][next_node]\n",
    "            \n",
    "            if new_steps < shortest_path:\n",
    "                if next_node.islower():\n",
    "                    new_keys = keys.add(next_node)\n",
    "                    # Have we found all the keys?\n",
    "                    if len(new_keys) == len(all_keys):\n",
    "                        shortest_path = new_steps\n",
    "                    else:\n",
    "                        # Check there isn't a shorter way to get here\n",
    "                        # with these keys\n",
    "                        if seen.get((next_node, new_keys), math.inf) > new_steps:\n",
    "                            seen[(next_node, new_keys)] = new_steps\n",
    "                            heapq.heappush(search, (new_steps, next_node, new_keys))\n",
    "                elif next_node.lower() in keys:\n",
    "                    if seen.get((next_node, keys), math.inf) > new_steps:\n",
    "                        seen[(next_node, keys)] = new_steps\n",
    "                        heapq.heappush(search, (new_steps, next_node, keys))\n",
    "                    \n",
    "    return shortest_path\n",
    "    \n",
    "\n",
    "def part_1(vault):\n",
    "    return collect_keys(draw_graph(vault))\n",
    "\n",
    "\n",
    "assert part_1(test_vault_1) == 8"
   ]
  },
  {
   "cell_type": "code",
   "execution_count": 79,
   "metadata": {},
   "outputs": [],
   "source": [
    "assert part_1(test_vault_2) == 86"
   ]
  },
  {
   "cell_type": "code",
   "execution_count": 80,
   "metadata": {},
   "outputs": [],
   "source": [
    "test_vault_3 = '''########################\n",
    "#...............b.C.D.f#\n",
    "#.######################\n",
    "#.....@.a.B.c.d.A.e.F.g#\n",
    "########################'''.splitlines()\n",
    "\n",
    "assert part_1(test_vault_3) == 132"
   ]
  },
  {
   "cell_type": "code",
   "execution_count": 81,
   "metadata": {},
   "outputs": [],
   "source": [
    "test_vault_4 = '''#################\n",
    "#i.G..c...e..H.p#\n",
    "########.########\n",
    "#j.A..b...f..D.o#\n",
    "########@########\n",
    "#k.E..a...g..B.n#\n",
    "########.########\n",
    "#l.F..d...h..C.m#\n",
    "#################'''.splitlines()\n",
    "\n",
    "assert part_1(test_vault_4) == 136"
   ]
  },
  {
   "cell_type": "markdown",
   "metadata": {},
   "source": [
    "That had a good think about things."
   ]
  },
  {
   "cell_type": "code",
   "execution_count": 82,
   "metadata": {},
   "outputs": [],
   "source": [
    "test_vault_5 = '''########################\n",
    "#@..............ac.GI.b#\n",
    "###d#e#f################\n",
    "###A#B#C################\n",
    "###g#h#i################\n",
    "########################\n",
    "'''.splitlines()\n",
    "\n",
    "assert part_1(test_vault_5) == 81"
   ]
  },
  {
   "cell_type": "code",
   "execution_count": 83,
   "metadata": {},
   "outputs": [],
   "source": [
    "vault = open('input').read().splitlines()"
   ]
  },
  {
   "cell_type": "code",
   "execution_count": 84,
   "metadata": {},
   "outputs": [
    {
     "data": {
      "text/plain": [
       "4590"
      ]
     },
     "execution_count": 84,
     "metadata": {},
     "output_type": "execute_result"
    }
   ],
   "source": [
    "part_1(vault)"
   ]
  },
  {
   "cell_type": "markdown",
   "metadata": {},
   "source": [
    "## Part 2\n",
    "\n",
    "Let's leave this for now."
   ]
  },
  {
   "cell_type": "code",
   "execution_count": null,
   "metadata": {},
   "outputs": [],
   "source": []
  }
 ],
 "metadata": {
  "kernelspec": {
   "display_name": "Python 3",
   "language": "python",
   "name": "python3"
  },
  "language_info": {
   "codemirror_mode": {
    "name": "ipython",
    "version": 3
   },
   "file_extension": ".py",
   "mimetype": "text/x-python",
   "name": "python",
   "nbconvert_exporter": "python",
   "pygments_lexer": "ipython3",
   "version": "3.8.5"
  }
 },
 "nbformat": 4,
 "nbformat_minor": 4
}
