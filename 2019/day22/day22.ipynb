{
 "cells": [
  {
   "cell_type": "code",
   "execution_count": null,
   "metadata": {},
   "outputs": [],
   "source": [
    "import parse\n",
    "from collections import deque\n",
    "from copy import deepcopy\n",
    "import itertools\n",
    "\n",
    "def deck(n):\n",
    "    return deque(range(n))\n",
    "\n",
    "def part_1(shuffle, cards):\n",
    "    # I'd prefer to use pyrsistent but it's incredibly slow here\n",
    "    cards = deepcopy(cards)\n",
    "    n = len(cards)\n",
    "\n",
    "    for line in shuffle:\n",
    "        line = line.strip()\n",
    "        \n",
    "        if line == 'deal into new stack':\n",
    "            cards.reverse()\n",
    "        elif r := parse.parse('cut {cut:d}', line):\n",
    "            cards.rotate(-r['cut'])\n",
    "        elif r := parse.parse('deal with increment {incr:d}', line):\n",
    "            new_cards = [-1] * n\n",
    "            for i in range(n):\n",
    "                new_cards[(i * r['incr']) % n] = cards[i]\n",
    "            cards = deque(new_cards)\n",
    "        else:\n",
    "            print('Unparsed line', line)\n",
    "            \n",
    "    return cards"
   ]
  },
  {
   "cell_type": "code",
   "execution_count": 2,
   "metadata": {},
   "outputs": [
    {
     "data": {
      "text/plain": [
       "deque([9, 8, 7, 6, 5, 4, 3, 2, 1, 0])"
      ]
     },
     "execution_count": 2,
     "metadata": {},
     "output_type": "execute_result"
    }
   ],
   "source": [
    "test_deck = deck(10)\n",
    "\n",
    "part_1(['deal into new stack'], test_deck)"
   ]
  },
  {
   "cell_type": "code",
   "execution_count": 3,
   "metadata": {},
   "outputs": [
    {
     "data": {
      "text/plain": [
       "deque([3, 4, 5, 6, 7, 8, 9, 0, 1, 2])"
      ]
     },
     "execution_count": 3,
     "metadata": {},
     "output_type": "execute_result"
    }
   ],
   "source": [
    "part_1(['cut 3'], test_deck)"
   ]
  },
  {
   "cell_type": "code",
   "execution_count": 4,
   "metadata": {},
   "outputs": [
    {
     "data": {
      "text/plain": [
       "deque([6, 7, 8, 9, 0, 1, 2, 3, 4, 5])"
      ]
     },
     "execution_count": 4,
     "metadata": {},
     "output_type": "execute_result"
    }
   ],
   "source": [
    "part_1(['cut -4'], test_deck)"
   ]
  },
  {
   "cell_type": "code",
   "execution_count": 5,
   "metadata": {},
   "outputs": [
    {
     "data": {
      "text/plain": [
       "deque([0, 7, 4, 1, 8, 5, 2, 9, 6, 3])"
      ]
     },
     "execution_count": 5,
     "metadata": {},
     "output_type": "execute_result"
    }
   ],
   "source": [
    "part_1(['deal with increment 3'], test_deck)"
   ]
  },
  {
   "cell_type": "code",
   "execution_count": 6,
   "metadata": {},
   "outputs": [
    {
     "data": {
      "text/plain": [
       "deque([9, 2, 5, 8, 1, 4, 7, 0, 3, 6])"
      ]
     },
     "execution_count": 6,
     "metadata": {},
     "output_type": "execute_result"
    }
   ],
   "source": [
    "test_shuffle = '''deal into new stack\n",
    "cut -2\n",
    "deal with increment 7\n",
    "cut 8\n",
    "cut -4\n",
    "deal with increment 7\n",
    "cut 3\n",
    "deal with increment 9\n",
    "deal with increment 3\n",
    "cut -1'''.splitlines()\n",
    "\n",
    "part_1(test_shuffle, test_deck)"
   ]
  },
  {
   "cell_type": "code",
   "execution_count": 7,
   "metadata": {},
   "outputs": [],
   "source": [
    "shuffle = open('input').read().strip().splitlines()\n",
    "full_deck = deck(10007)"
   ]
  },
  {
   "cell_type": "code",
   "execution_count": 8,
   "metadata": {},
   "outputs": [
    {
     "data": {
      "text/plain": [
       "9093"
      ]
     },
     "execution_count": 8,
     "metadata": {},
     "output_type": "execute_result"
    }
   ],
   "source": [
    "part_1(shuffle, full_deck)[2019]"
   ]
  },
  {
   "cell_type": "markdown",
   "metadata": {},
   "source": [
    "Wrong. Hmm.\n",
    "\n",
    "OFFFS. After a large amount of fruitless debugging it turns out I was answering the wrong question."
   ]
  },
  {
   "cell_type": "code",
   "execution_count": 9,
   "metadata": {},
   "outputs": [
    {
     "data": {
      "text/plain": [
       "4649"
      ]
     },
     "execution_count": 9,
     "metadata": {},
     "output_type": "execute_result"
    }
   ],
   "source": [
    "part_1(shuffle, full_deck).index(2019)"
   ]
  },
  {
   "cell_type": "markdown",
   "metadata": {},
   "source": [
    "## Part 2\n",
    "\n",
    "Right, I'm going to have to do some modular arithmetic. Is the size of the deck prime?"
   ]
  },
  {
   "cell_type": "code",
   "execution_count": 10,
   "metadata": {},
   "outputs": [],
   "source": [
    "deck_size = 119315717514047"
   ]
  },
  {
   "cell_type": "code",
   "execution_count": 11,
   "metadata": {},
   "outputs": [
    {
     "data": {
      "text/plain": [
       "10923173.417741155"
      ]
     },
     "execution_count": 11,
     "metadata": {},
     "output_type": "execute_result"
    }
   ],
   "source": [
    "import math\n",
    "\n",
    "math.sqrt(deck_size)"
   ]
  },
  {
   "cell_type": "code",
   "execution_count": 12,
   "metadata": {},
   "outputs": [
    {
     "data": {
      "text/plain": [
       "[]"
      ]
     },
     "execution_count": 12,
     "metadata": {},
     "output_type": "execute_result"
    }
   ],
   "source": [
    "[n for n in range(2, int(_)) if n % deck_size == 0]"
   ]
  },
  {
   "cell_type": "markdown",
   "metadata": {},
   "source": [
    "Yes it is.\n",
    "\n",
    "Rewrite part 1 as a function $ptr = (ax+b) \\mod{m}$, where $m$ is the size of the deck, $x$ the original position, and $ptr$ the landing position."
   ]
  },
  {
   "cell_type": "code",
   "execution_count": 13,
   "metadata": {},
   "outputs": [],
   "source": [
    "def find_a_b(shuffle, deck_length):\n",
    "    a = 1\n",
    "    b = 0\n",
    "    \n",
    "    for line in shuffle:\n",
    "        line = line.strip()\n",
    "\n",
    "        if line == 'deal into new stack':\n",
    "            a = -a\n",
    "            b = -b - 1\n",
    "        elif r := parse.parse('cut {cut:d}', line):\n",
    "            b = b - r['cut']\n",
    "        elif r := parse.parse('deal with increment {incr:d}', line):\n",
    "            a = a * r['incr']\n",
    "            b = b * r['incr']\n",
    "        else:\n",
    "            print('Unparsed line', line)\n",
    "\n",
    "    return (a % deck_length, b % deck_length)\n",
    "\n",
    "\n",
    "def part_1_v2(shuffle, deck_length):\n",
    "    a, b = find_a_b(shuffle, deck_length)\n",
    "    \n",
    "    shuffled = [-1] * deck_length\n",
    "    for x in range(deck_length):\n",
    "        shuffled[(a * x + b) % deck_length] = x\n",
    "        \n",
    "    return shuffled"
   ]
  },
  {
   "cell_type": "code",
   "execution_count": 14,
   "metadata": {},
   "outputs": [
    {
     "data": {
      "text/plain": [
       "[9, 8, 7, 6, 5, 4, 3, 2, 1, 0]"
      ]
     },
     "execution_count": 14,
     "metadata": {},
     "output_type": "execute_result"
    }
   ],
   "source": [
    "part_1_v2(['deal into new stack'], 10)"
   ]
  },
  {
   "cell_type": "code",
   "execution_count": 15,
   "metadata": {},
   "outputs": [
    {
     "data": {
      "text/plain": [
       "[3, 4, 5, 6, 7, 8, 9, 0, 1, 2]"
      ]
     },
     "execution_count": 15,
     "metadata": {},
     "output_type": "execute_result"
    }
   ],
   "source": [
    "part_1_v2(['cut 3'], 10)"
   ]
  },
  {
   "cell_type": "code",
   "execution_count": 16,
   "metadata": {},
   "outputs": [
    {
     "data": {
      "text/plain": [
       "[6, 7, 8, 9, 0, 1, 2, 3, 4, 5]"
      ]
     },
     "execution_count": 16,
     "metadata": {},
     "output_type": "execute_result"
    }
   ],
   "source": [
    "part_1_v2(['cut -4'], 10)"
   ]
  },
  {
   "cell_type": "code",
   "execution_count": 17,
   "metadata": {},
   "outputs": [
    {
     "data": {
      "text/plain": [
       "[0, 7, 4, 1, 8, 5, 2, 9, 6, 3]"
      ]
     },
     "execution_count": 17,
     "metadata": {},
     "output_type": "execute_result"
    }
   ],
   "source": [
    "part_1_v2(['deal with increment 3'], 10)"
   ]
  },
  {
   "cell_type": "code",
   "execution_count": 18,
   "metadata": {},
   "outputs": [
    {
     "data": {
      "text/plain": [
       "[9, 2, 5, 8, 1, 4, 7, 0, 3, 6]"
      ]
     },
     "execution_count": 18,
     "metadata": {},
     "output_type": "execute_result"
    }
   ],
   "source": [
    "part_1_v2(test_shuffle, 10)"
   ]
  },
  {
   "cell_type": "code",
   "execution_count": 19,
   "metadata": {},
   "outputs": [
    {
     "data": {
      "text/plain": [
       "4649"
      ]
     },
     "execution_count": 19,
     "metadata": {},
     "output_type": "execute_result"
    }
   ],
   "source": [
    "part_1_v2(shuffle, 10007).index(2019)"
   ]
  },
  {
   "cell_type": "code",
   "execution_count": 20,
   "metadata": {},
   "outputs": [],
   "source": [
    "p = 10007\n",
    "a, b = find_a_b(shuffle, p)"
   ]
  },
  {
   "cell_type": "code",
   "execution_count": 21,
   "metadata": {},
   "outputs": [
    {
     "data": {
      "text/plain": [
       "(9520, 7216)"
      ]
     },
     "execution_count": 21,
     "metadata": {},
     "output_type": "execute_result"
    }
   ],
   "source": [
    "a, b"
   ]
  },
  {
   "cell_type": "markdown",
   "metadata": {},
   "source": [
    "But we need to find the inverse of this $x = (ptr - b)/a \\mod m$. The inverse of $a$ modulo $p$ is"
   ]
  },
  {
   "cell_type": "code",
   "execution_count": 22,
   "metadata": {},
   "outputs": [
    {
     "data": {
      "text/plain": [
       "4685"
      ]
     },
     "execution_count": 22,
     "metadata": {},
     "output_type": "execute_result"
    }
   ],
   "source": [
    "a_inv = pow(a, -1, 10007)\n",
    "a_inv"
   ]
  },
  {
   "cell_type": "code",
   "execution_count": 23,
   "metadata": {},
   "outputs": [
    {
     "data": {
      "text/plain": [
       "1"
      ]
     },
     "execution_count": 23,
     "metadata": {},
     "output_type": "execute_result"
    }
   ],
   "source": [
    "a_inv * a % p"
   ]
  },
  {
   "cell_type": "code",
   "execution_count": 24,
   "metadata": {},
   "outputs": [
    {
     "data": {
      "text/plain": [
       "2019"
      ]
     },
     "execution_count": 24,
     "metadata": {},
     "output_type": "execute_result"
    }
   ],
   "source": [
    "(4649 - b) * a_inv % p"
   ]
  },
  {
   "cell_type": "markdown",
   "metadata": {},
   "source": [
    "That looks good.\n",
    "\n",
    "But we need to apply this $n=101741582076661$ times, i.e.\n",
    "\n",
    "$ax + b$\n",
    "\n",
    "\n",
    "$a(ax + b) + b = a^2x + ab + b$\n",
    "\n",
    "$a(a^2x + ab + b) + b = a^3x + a^2b + ab + b$\n",
    "\n",
    "etc, which are geometric progressions if we ignore the $x$ factor. So\n",
    "\n",
    "$a^nx + a^{n-1}b + a^{n-2}b + \\ldots$\n",
    "\n",
    "becomes\n",
    "\n",
    "$a^nx + b(1-a^n)/(1-a)$"
   ]
  },
  {
   "cell_type": "code",
   "execution_count": 25,
   "metadata": {},
   "outputs": [
    {
     "data": {
      "text/plain": [
       "(6871724559536, 20103085772277)"
      ]
     },
     "execution_count": 25,
     "metadata": {},
     "output_type": "execute_result"
    }
   ],
   "source": [
    "n = 101741582076661\n",
    "p = 119315717514047\n",
    "a, b = find_a_b(shuffle, p)\n",
    "a, b"
   ]
  },
  {
   "cell_type": "markdown",
   "metadata": {},
   "source": [
    "We then get a new $a$"
   ]
  },
  {
   "cell_type": "code",
   "execution_count": 26,
   "metadata": {},
   "outputs": [
    {
     "data": {
      "text/plain": [
       "99744112723525"
      ]
     },
     "execution_count": 26,
     "metadata": {},
     "output_type": "execute_result"
    }
   ],
   "source": [
    "multi_a = a^n\n",
    "multi_a"
   ]
  },
  {
   "cell_type": "markdown",
   "metadata": {},
   "source": [
    "and $b$"
   ]
  },
  {
   "cell_type": "code",
   "execution_count": 27,
   "metadata": {},
   "outputs": [
    {
     "data": {
      "text/plain": [
       "84191803482951"
      ]
     },
     "execution_count": 27,
     "metadata": {},
     "output_type": "execute_result"
    }
   ],
   "source": [
    "multi_b = b * (1 - a^n) * pow(a, -1, p) % p\n",
    "multi_b"
   ]
  },
  {
   "cell_type": "code",
   "execution_count": 28,
   "metadata": {},
   "outputs": [
    {
     "data": {
      "text/plain": [
       "17373296509610"
      ]
     },
     "execution_count": 28,
     "metadata": {},
     "output_type": "execute_result"
    }
   ],
   "source": [
    "multi_a_inv = pow(a, -1, p)\n",
    "(2020 - multi_b) * multi_a_inv % p"
   ]
  },
  {
   "cell_type": "markdown",
   "metadata": {},
   "source": [
    "Wrong."
   ]
  },
  {
   "cell_type": "code",
   "execution_count": null,
   "metadata": {},
   "outputs": [],
   "source": []
  }
 ],
 "metadata": {
  "kernelspec": {
   "display_name": "Python 3",
   "language": "python",
   "name": "python3"
  },
  "language_info": {
   "codemirror_mode": {
    "name": "ipython",
    "version": 3
   },
   "file_extension": ".py",
   "mimetype": "text/x-python",
   "name": "python",
   "nbconvert_exporter": "python",
   "pygments_lexer": "ipython3",
   "version": "3.8.5"
  }
 },
 "nbformat": 4,
 "nbformat_minor": 4
}
