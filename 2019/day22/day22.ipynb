{
 "cells": [
  {
   "cell_type": "code",
   "execution_count": 284,
   "metadata": {},
   "outputs": [],
   "source": [
    "import parse\n",
    "from collections import deque\n",
    "from copy import deepcopy\n",
    "import itertools\n",
    "\n",
    "def deck(n):\n",
    "    return deque(range(n))\n",
    "\n",
    "def part_1(shuffle, cards):\n",
    "    # I'd prefer to use pyrsistent but it's incredibly slow here\n",
    "    cards = deepcopy(cards)\n",
    "    n = len(cards)\n",
    "\n",
    "    for line in shuffle:\n",
    "        line = line.strip()\n",
    "        \n",
    "        if line == 'deal into new stack':\n",
    "            cards.reverse()\n",
    "        elif r := parse.parse('cut {cut:d}', line):\n",
    "            cards.rotate(-r['cut'])\n",
    "        elif r := parse.parse('deal with increment {incr:d}', line):\n",
    "            new_cards = [-1] * n\n",
    "            for i in range(n):\n",
    "                new_cards[(i * r['incr']) % n] = cards[i]\n",
    "            cards = deque(new_cards)\n",
    "        else:\n",
    "            print('Unparsed line', line)\n",
    "            \n",
    "    return cards"
   ]
  },
  {
   "cell_type": "code",
   "execution_count": 285,
   "metadata": {},
   "outputs": [
    {
     "data": {
      "text/plain": [
       "deque([9, 8, 7, 6, 5, 4, 3, 2, 1, 0])"
      ]
     },
     "execution_count": 285,
     "metadata": {},
     "output_type": "execute_result"
    }
   ],
   "source": [
    "test_deck = deck(10)\n",
    "\n",
    "part_1(['deal into new stack'], test_deck)"
   ]
  },
  {
   "cell_type": "code",
   "execution_count": 286,
   "metadata": {},
   "outputs": [
    {
     "data": {
      "text/plain": [
       "deque([3, 4, 5, 6, 7, 8, 9, 0, 1, 2])"
      ]
     },
     "execution_count": 286,
     "metadata": {},
     "output_type": "execute_result"
    }
   ],
   "source": [
    "part_1(['cut 3'], test_deck)"
   ]
  },
  {
   "cell_type": "code",
   "execution_count": 287,
   "metadata": {},
   "outputs": [
    {
     "data": {
      "text/plain": [
       "deque([6, 7, 8, 9, 0, 1, 2, 3, 4, 5])"
      ]
     },
     "execution_count": 287,
     "metadata": {},
     "output_type": "execute_result"
    }
   ],
   "source": [
    "part_1(['cut -4'], test_deck)"
   ]
  },
  {
   "cell_type": "code",
   "execution_count": 288,
   "metadata": {},
   "outputs": [
    {
     "data": {
      "text/plain": [
       "deque([0, 7, 4, 1, 8, 5, 2, 9, 6, 3])"
      ]
     },
     "execution_count": 288,
     "metadata": {},
     "output_type": "execute_result"
    }
   ],
   "source": [
    "part_1(['deal with increment 3'], test_deck)"
   ]
  },
  {
   "cell_type": "code",
   "execution_count": 289,
   "metadata": {},
   "outputs": [
    {
     "data": {
      "text/plain": [
       "deque([9, 2, 5, 8, 1, 4, 7, 0, 3, 6])"
      ]
     },
     "execution_count": 289,
     "metadata": {},
     "output_type": "execute_result"
    }
   ],
   "source": [
    "test_shuffle = '''deal into new stack\n",
    "cut -2\n",
    "deal with increment 7\n",
    "cut 8\n",
    "cut -4\n",
    "deal with increment 7\n",
    "cut 3\n",
    "deal with increment 9\n",
    "deal with increment 3\n",
    "cut -1'''.splitlines()\n",
    "\n",
    "part_1(test_shuffle, test_deck)"
   ]
  },
  {
   "cell_type": "code",
   "execution_count": 290,
   "metadata": {},
   "outputs": [],
   "source": [
    "shuffle = open('input')\n",
    "full_deck = deck(10007)"
   ]
  },
  {
   "cell_type": "code",
   "execution_count": 247,
   "metadata": {},
   "outputs": [
    {
     "data": {
      "text/plain": [
       "9093"
      ]
     },
     "execution_count": 247,
     "metadata": {},
     "output_type": "execute_result"
    }
   ],
   "source": [
    "part_1(shuffle, full_deck)[2019]"
   ]
  },
  {
   "cell_type": "markdown",
   "metadata": {},
   "source": [
    "Wrong. Hmm.\n",
    "\n",
    "(after a large amount of fruitless debugging)"
   ]
  },
  {
   "cell_type": "code",
   "execution_count": 291,
   "metadata": {},
   "outputs": [
    {
     "data": {
      "text/plain": [
       "4649"
      ]
     },
     "execution_count": 291,
     "metadata": {},
     "output_type": "execute_result"
    }
   ],
   "source": [
    "part_1(shuffle, full_deck).index(2019)"
   ]
  },
  {
   "cell_type": "markdown",
   "metadata": {},
   "source": [
    "OFFFS.\n",
    "\n",
    "## Part 2\n",
    "\n",
    "This will require some thought."
   ]
  },
  {
   "cell_type": "code",
   "execution_count": null,
   "metadata": {},
   "outputs": [],
   "source": []
  }
 ],
 "metadata": {
  "kernelspec": {
   "display_name": "Python 3",
   "language": "python",
   "name": "python3"
  },
  "language_info": {
   "codemirror_mode": {
    "name": "ipython",
    "version": 3
   },
   "file_extension": ".py",
   "mimetype": "text/x-python",
   "name": "python",
   "nbconvert_exporter": "python",
   "pygments_lexer": "ipython3",
   "version": "3.8.5"
  }
 },
 "nbformat": 4,
 "nbformat_minor": 4
}
