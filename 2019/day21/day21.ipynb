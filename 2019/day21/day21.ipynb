{
 "cells": [
  {
   "cell_type": "markdown",
   "metadata": {},
   "source": [
    "# Day 21\n",
    "## Part 1"
   ]
  },
  {
   "cell_type": "code",
   "execution_count": 4,
   "metadata": {},
   "outputs": [],
   "source": [
    "from intcode import Intcode\n",
    "from pyrsistent import pvector\n",
    "\n",
    "program = Intcode(open('input').read().strip())"
   ]
  },
  {
   "cell_type": "code",
   "execution_count": 18,
   "metadata": {},
   "outputs": [
    {
     "name": "stdout",
     "output_type": "stream",
     "text": [
      "Input instructions:\n",
      "\n",
      "Walking...\n",
      "\n",
      "\n",
      "Didn't make it across:\n",
      "\n",
      ".................\n",
      ".................\n",
      "@................\n",
      "#####.###########\n",
      "\n",
      ".................\n",
      ".................\n",
      ".@...............\n",
      "#####.###########\n",
      "\n",
      ".................\n",
      ".................\n",
      "..@..............\n",
      "#####.###########\n",
      "\n",
      ".................\n",
      ".................\n",
      "...@.............\n",
      "#####.###########\n",
      "\n",
      ".................\n",
      ".................\n",
      "....@............\n",
      "#####.###########\n",
      "\n",
      ".................\n",
      ".................\n",
      ".................\n",
      "#####@###########\n",
      "\n",
      "\n"
     ]
    }
   ],
   "source": [
    "def run_springcode(program, springcode):\n",
    "    return program.reset().run(\n",
    "        pvector([ord(c) for c in springcode])\n",
    "    )\n",
    "\n",
    "def draw_result(result):\n",
    "    return ''.join(chr(c) for c in result)\n",
    "\n",
    "test_program ='''NOT A J\n",
    "NOT B T\n",
    "AND T J\n",
    "NOT C T\n",
    "AND T J\n",
    "AND D J\n",
    "WALK\n",
    "'''\n",
    "\n",
    "print(draw_result(run_springcode(program, test_program)))"
   ]
  },
  {
   "cell_type": "code",
   "execution_count": 19,
   "metadata": {},
   "outputs": [
    {
     "name": "stdout",
     "output_type": "stream",
     "text": [
      "Input instructions:\n",
      "\n",
      "Walking...\n",
      "\n",
      "\n",
      "Didn't make it across:\n",
      "\n",
      ".................\n",
      ".................\n",
      "@................\n",
      "#####.###########\n",
      "\n",
      ".................\n",
      ".................\n",
      ".@...............\n",
      "#####.###########\n",
      "\n",
      ".................\n",
      "..@..............\n",
      ".................\n",
      "#####.###########\n",
      "\n",
      "...@.............\n",
      ".................\n",
      ".................\n",
      "#####.###########\n",
      "\n",
      ".................\n",
      "....@............\n",
      ".................\n",
      "#####.###########\n",
      "\n",
      ".................\n",
      ".................\n",
      ".....@...........\n",
      "#####.###########\n",
      "\n",
      ".................\n",
      ".................\n",
      ".................\n",
      "#####@###########\n",
      "\n",
      "\n"
     ]
    }
   ],
   "source": [
    "test_program_2 = '''NOT D J\n",
    "WALK\n",
    "'''\n",
    "\n",
    "print(draw_result(run_springcode(program, test_program_2)))"
   ]
  },
  {
   "cell_type": "markdown",
   "metadata": {},
   "source": [
    "Jump if there is a hole two or three spaces away and ground four spaces away. Also jump anyway if there's a hole right in front of you."
   ]
  },
  {
   "cell_type": "code",
   "execution_count": 34,
   "metadata": {},
   "outputs": [
    {
     "data": {
      "text/plain": [
       "19359533"
      ]
     },
     "execution_count": 34,
     "metadata": {},
     "output_type": "execute_result"
    }
   ],
   "source": [
    "springcode = '''NOT B J\n",
    "AND D J\n",
    "NOT C T\n",
    "AND D T\n",
    "OR T J\n",
    "NOT A T\n",
    "OR T J\n",
    "WALK\n",
    "'''\n",
    "\n",
    "run_springcode(program, springcode)[-1]"
   ]
  },
  {
   "cell_type": "markdown",
   "metadata": {},
   "source": [
    "## Part 2\n",
    "Is there any reason why the previous code won't work?"
   ]
  },
  {
   "cell_type": "code",
   "execution_count": 39,
   "metadata": {},
   "outputs": [
    {
     "data": {
      "text/plain": [
       "10"
      ]
     },
     "execution_count": 39,
     "metadata": {},
     "output_type": "execute_result"
    }
   ],
   "source": [
    "springcode_2 = '''NOT B J\n",
    "AND D J\n",
    "NOT C T\n",
    "AND D T\n",
    "OR T J\n",
    "NOT A T\n",
    "OR T J\n",
    "RUN\n",
    "'''\n",
    "\n",
    "run_springcode(program, springcode_2)[-1]"
   ]
  },
  {
   "cell_type": "markdown",
   "metadata": {},
   "source": [
    "Balls."
   ]
  },
  {
   "cell_type": "code",
   "execution_count": 40,
   "metadata": {},
   "outputs": [
    {
     "name": "stdout",
     "output_type": "stream",
     "text": [
      "Input instructions:\n",
      "\n",
      "Running...\n",
      "\n",
      "\n",
      "Didn't make it across:\n",
      "\n",
      ".................\n",
      ".................\n",
      "@................\n",
      "#####.#.##..#.###\n",
      "\n",
      ".................\n",
      ".................\n",
      ".@...............\n",
      "#####.#.##..#.###\n",
      "\n",
      ".................\n",
      ".................\n",
      "..@..............\n",
      "#####.#.##..#.###\n",
      "\n",
      ".................\n",
      "...@.............\n",
      ".................\n",
      "#####.#.##..#.###\n",
      "\n",
      "....@............\n",
      ".................\n",
      ".................\n",
      "#####.#.##..#.###\n",
      "\n",
      ".................\n",
      ".....@...........\n",
      ".................\n",
      "#####.#.##..#.###\n",
      "\n",
      ".................\n",
      ".................\n",
      "......@..........\n",
      "#####.#.##..#.###\n",
      "\n",
      ".................\n",
      ".......@.........\n",
      ".................\n",
      "#####.#.##..#.###\n",
      "\n",
      "........@........\n",
      ".................\n",
      ".................\n",
      "#####.#.##..#.###\n",
      "\n",
      ".................\n",
      ".........@.......\n",
      ".................\n",
      "#####.#.##..#.###\n",
      "\n",
      ".................\n",
      ".................\n",
      "..........@......\n",
      "#####.#.##..#.###\n",
      "\n",
      ".................\n",
      ".................\n",
      ".................\n",
      "#####.#.##@.#.###\n",
      "\n",
      "\n"
     ]
    }
   ],
   "source": [
    "print(draw_result(run_springcode(program, springcode_2)))"
   ]
  },
  {
   "cell_type": "markdown",
   "metadata": {},
   "source": [
    "OK, now check if the droid will be able to jump again using the extended registers."
   ]
  },
  {
   "cell_type": "code",
   "execution_count": 41,
   "metadata": {},
   "outputs": [
    {
     "data": {
      "text/plain": [
       "1140310551"
      ]
     },
     "execution_count": 41,
     "metadata": {},
     "output_type": "execute_result"
    }
   ],
   "source": [
    "springcode_2 = '''NOT B J\n",
    "AND D J\n",
    "AND H J\n",
    "NOT C T\n",
    "AND D T\n",
    "AND H T\n",
    "OR T J\n",
    "NOT A T\n",
    "OR T J\n",
    "RUN\n",
    "'''\n",
    "\n",
    "run_springcode(program, springcode_2)[-1]"
   ]
  },
  {
   "cell_type": "code",
   "execution_count": null,
   "metadata": {},
   "outputs": [],
   "source": []
  }
 ],
 "metadata": {
  "kernelspec": {
   "display_name": "Python 3",
   "language": "python",
   "name": "python3"
  },
  "language_info": {
   "codemirror_mode": {
    "name": "ipython",
    "version": 3
   },
   "file_extension": ".py",
   "mimetype": "text/x-python",
   "name": "python",
   "nbconvert_exporter": "python",
   "pygments_lexer": "ipython3",
   "version": "3.8.5"
  }
 },
 "nbformat": 4,
 "nbformat_minor": 4
}
