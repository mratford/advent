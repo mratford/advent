{
 "cells": [
  {
   "cell_type": "markdown",
   "metadata": {},
   "source": [
    "# Day 20\n",
    "## Part 1"
   ]
  },
  {
   "cell_type": "markdown",
   "metadata": {},
   "source": [
    "The biggest problem with this is going to be parsing the input. Turn it into a big graph with a node at each coordinate and an edge to each neighbour. Look for portals, track them, and add edges to the graph. Then do a breadth first search from AA to ZZ."
   ]
  },
  {
   "cell_type": "code",
   "execution_count": 30,
   "metadata": {},
   "outputs": [],
   "source": [
    "from collections import defaultdict, deque\n",
    "import itertools\n",
    "\n",
    "\n",
    "def parse_data(s):\n",
    "    graph = defaultdict(list)\n",
    "    portals = defaultdict(list)\n",
    "    maze = s.splitlines()\n",
    "    \n",
    "    for row, line in enumerate(maze):\n",
    "        for col, c in enumerate(line):\n",
    "            if c == '.':\n",
    "                for dr, dc in [(1, 0), (-1, 0), (0, 1), (0, -1)]:\n",
    "                    nbr = maze[row + dr][col + dc]\n",
    "                    if nbr == '.':\n",
    "                        graph[(row, col)].append((row + dr, col + dc))\n",
    "                    elif nbr.isalpha():\n",
    "                        # Get the next letter of the portal\n",
    "                        portal = nbr + maze[row + 2 * dr][col + 2 * dc]\n",
    "                        # Reverse if going north or west\n",
    "                        if dr == -1 or dc == -1:\n",
    "                            portal = ''.join(reversed(portal))\n",
    "                        portals[portal].append((row, col))\n",
    "\n",
    "    for portal in portals:\n",
    "        if len(portals[portal]) > 1:\n",
    "            for coord1, coord2 in itertools.permutations(portals[portal], 2):\n",
    "                graph[coord1].append(coord2)\n",
    "                \n",
    "    return (graph, portals['AA'][0], portals['ZZ'][0])"
   ]
  },
  {
   "cell_type": "code",
   "execution_count": 31,
   "metadata": {},
   "outputs": [
    {
     "data": {
      "text/plain": [
       "(defaultdict(list,\n",
       "             {(3, 9): [(4, 9)],\n",
       "              (4, 9): [(5, 9), (3, 9), (4, 10)],\n",
       "              (4, 10): [(4, 11), (4, 9)],\n",
       "              (4, 11): [(4, 12), (4, 10)],\n",
       "              (4, 12): [(4, 13), (4, 11)],\n",
       "              (4, 13): [(4, 14), (4, 12)],\n",
       "              (4, 14): [(4, 15), (4, 13)],\n",
       "              (4, 15): [(4, 16), (4, 14)],\n",
       "              (4, 16): [(4, 17), (4, 15)],\n",
       "              (4, 17): [(5, 17), (4, 16)],\n",
       "              (5, 9): [(6, 9), (4, 9)],\n",
       "              (5, 17): [(6, 17), (4, 17)],\n",
       "              (6, 9): [(7, 9), (5, 9)],\n",
       "              (6, 17): [(7, 17), (5, 17)],\n",
       "              (7, 9): [(6, 9), (9, 2)],\n",
       "              (7, 17): [(8, 17), (6, 17)],\n",
       "              (8, 17): [(9, 17), (7, 17)],\n",
       "              (9, 2): [(9, 3), (7, 9)],\n",
       "              (9, 3): [(9, 4), (9, 2)],\n",
       "              (9, 4): [(10, 4), (9, 3)],\n",
       "              (9, 17): [(10, 17), (8, 17)],\n",
       "              (10, 4): [(11, 4), (9, 4)],\n",
       "              (10, 17): [(11, 17), (9, 17)],\n",
       "              (11, 4): [(10, 4), (11, 5)],\n",
       "              (11, 5): [(11, 6), (11, 4)],\n",
       "              (11, 6): [(11, 5), (14, 2)],\n",
       "              (11, 17): [(12, 17), (10, 17)],\n",
       "              (12, 17): [(13, 17), (11, 17)],\n",
       "              (13, 11): [(14, 11), (16, 2)],\n",
       "              (13, 17): [(14, 17), (12, 17)],\n",
       "              (14, 2): [(14, 3), (11, 6)],\n",
       "              (14, 3): [(15, 3), (14, 2)],\n",
       "              (14, 11): [(13, 11), (14, 12)],\n",
       "              (14, 12): [(14, 13), (14, 11)],\n",
       "              (14, 13): [(15, 13), (14, 12)],\n",
       "              (14, 17): [(15, 17), (13, 17)],\n",
       "              (15, 3): [(16, 3), (14, 3)],\n",
       "              (15, 13): [(16, 13), (14, 13)],\n",
       "              (15, 17): [(16, 17), (14, 17)],\n",
       "              (16, 2): [(16, 3), (13, 11)],\n",
       "              (16, 3): [(15, 3), (16, 2)],\n",
       "              (16, 13): [(17, 13), (15, 13), (16, 14)],\n",
       "              (16, 14): [(16, 15), (16, 13)],\n",
       "              (16, 15): [(16, 16), (16, 14)],\n",
       "              (16, 16): [(16, 17), (16, 15)],\n",
       "              (16, 17): [(15, 17), (16, 16)],\n",
       "              (17, 13): [(16, 13)]}),\n",
       " (3, 9),\n",
       " (17, 13))"
      ]
     },
     "execution_count": 31,
     "metadata": {},
     "output_type": "execute_result"
    }
   ],
   "source": [
    "test_maze_1 = ('''\n",
    "         A           \n",
    "         A           \n",
    "  #######.#########  \n",
    "  #######.........#  \n",
    "  #######.#######.#  \n",
    "  #######.#######.#  \n",
    "  #######.#######.#  \n",
    "  #####  B    ###.#  \n",
    "BC...##  C    ###.#  \n",
    "  ##.##       ###.#  \n",
    "  ##...DE  F  ###.#  \n",
    "  #####    G  ###.#  \n",
    "  #########.#####.#  \n",
    "DE..#######...###.#  \n",
    "  #.#########.###.#  \n",
    "FG..#########.....#  \n",
    "  ###########.#####  \n",
    "             Z       \n",
    "             Z       ''')\n",
    "\n",
    "parse_data(test_maze_1)"
   ]
  },
  {
   "cell_type": "code",
   "execution_count": 40,
   "metadata": {},
   "outputs": [],
   "source": [
    "def part_1(s):\n",
    "    graph, start, end = parse_data(s)\n",
    "    search = deque([(start, 0)])\n",
    "    seen = {start}\n",
    "    \n",
    "    while search:\n",
    "        node, steps_taken = search.popleft()\n",
    "        for nbr in graph[node]:\n",
    "            if nbr not in seen:\n",
    "                if nbr == end:\n",
    "                    return steps_taken + 1\n",
    "                else:\n",
    "                    seen.add(nbr)\n",
    "                    search.append((nbr, steps_taken + 1))"
   ]
  },
  {
   "cell_type": "code",
   "execution_count": 41,
   "metadata": {},
   "outputs": [
    {
     "name": "stdout",
     "output_type": "stream",
     "text": [
      "CPU times: user 329 µs, sys: 20 µs, total: 349 µs\n",
      "Wall time: 371 µs\n"
     ]
    }
   ],
   "source": [
    "%time assert part_1(test_maze_1) == 23"
   ]
  },
  {
   "cell_type": "markdown",
   "metadata": {},
   "source": [
    "~That's a bit slow but never mind.~ I wasn't testing to see if the node had been seen before. "
   ]
  },
  {
   "cell_type": "code",
   "execution_count": 42,
   "metadata": {},
   "outputs": [],
   "source": [
    "test_maze_2 = '''\n",
    "\n",
    "                   A               \n",
    "                   A               \n",
    "  #################.#############  \n",
    "  #.#...#...................#.#.#  \n",
    "  #.#.#.###.###.###.#########.#.#  \n",
    "  #.#.#.......#...#.....#.#.#...#  \n",
    "  #.#########.###.#####.#.#.###.#  \n",
    "  #.............#.#.....#.......#  \n",
    "  ###.###########.###.#####.#.#.#  \n",
    "  #.....#        A   C    #.#.#.#  \n",
    "  #######        S   P    #####.#  \n",
    "  #.#...#                 #......VT\n",
    "  #.#.#.#                 #.#####  \n",
    "  #...#.#               YN....#.#  \n",
    "  #.###.#                 #####.#  \n",
    "DI....#.#                 #.....#  \n",
    "  #####.#                 #.###.#  \n",
    "ZZ......#               QG....#..AS\n",
    "  ###.###                 #######  \n",
    "JO..#.#.#                 #.....#  \n",
    "  #.#.#.#                 ###.#.#  \n",
    "  #...#..DI             BU....#..LF\n",
    "  #####.#                 #.#####  \n",
    "YN......#               VT..#....QG\n",
    "  #.###.#                 #.###.#  \n",
    "  #.#...#                 #.....#  \n",
    "  ###.###    J L     J    #.#.###  \n",
    "  #.....#    O F     P    #.#...#  \n",
    "  #.###.#####.#.#####.#####.###.#  \n",
    "  #...#.#.#...#.....#.....#.#...#  \n",
    "  #.#####.###.###.#.#.#########.#  \n",
    "  #...#.#.....#...#.#.#.#.....#.#  \n",
    "  #.###.#####.###.###.#.#.#######  \n",
    "  #.#.........#...#.............#  \n",
    "  #########.###.###.#############  \n",
    "           B   J   C               \n",
    "           U   P   P               \n",
    "'''\n",
    "\n",
    "assert part_1(test_maze_2) == 58"
   ]
  },
  {
   "cell_type": "code",
   "execution_count": 49,
   "metadata": {},
   "outputs": [],
   "source": [
    "maze = open('input').read()"
   ]
  },
  {
   "cell_type": "code",
   "execution_count": 50,
   "metadata": {},
   "outputs": [
    {
     "data": {
      "text/plain": [
       "608"
      ]
     },
     "execution_count": 50,
     "metadata": {},
     "output_type": "execute_result"
    }
   ],
   "source": [
    "part_1(maze)"
   ]
  },
  {
   "cell_type": "markdown",
   "metadata": {},
   "source": [
    "## Part 2\n",
    "\n",
    "I'm going to have to reparse the data to detect the outer wall. Let's just put it all into one big function, there's too much to keep track of to pass as return values and parameters. I should create a data structure really."
   ]
  },
  {
   "cell_type": "code",
   "execution_count": 69,
   "metadata": {},
   "outputs": [],
   "source": [
    "def part_2(s):\n",
    "    graph = defaultdict(list)\n",
    "    portals = defaultdict(list)\n",
    "    maze = s.splitlines()\n",
    "    \n",
    "    wall_coords = [\n",
    "        (row, col) \n",
    "        for row, line in enumerate(maze)\n",
    "        for col, c in enumerate(line)\n",
    "        if c == '#'\n",
    "    ]\n",
    "    row_bounds = (min(row for row, _ in wall_coords), \n",
    "                  max(row for row, _ in wall_coords))\n",
    "    col_bounds = (min(col for _, col in wall_coords), \n",
    "                  max(col for _, col in wall_coords))\n",
    "    \n",
    "    for row, line in enumerate(maze):\n",
    "        for col, c in enumerate(line):\n",
    "            if c == '.':\n",
    "                for dr, dc in [(1, 0), (-1, 0), (0, 1), (0, -1)]:\n",
    "                    nbr = maze[row + dr][col + dc]\n",
    "                    if nbr == '.':\n",
    "                        # Each edge is now associated with a neighbour's position\n",
    "                        # and a change in the maze level, which is zero when\n",
    "                        # moving from dot to dot.\n",
    "                        graph[(row, col)].append((row + dr, col + dc, 0))\n",
    "                    elif nbr.isalpha():\n",
    "                        # Get the next letter of the portal\n",
    "                        portal = nbr + maze[row + 2 * dr][col + 2 * dc]\n",
    "                        # Reverse if going north or west\n",
    "                        if dr == -1 or dc == -1:\n",
    "                            portal = ''.join(reversed(portal))\n",
    "                        portals[portal].append((row, col))\n",
    "\n",
    "    labels = defaultdict(str)\n",
    "    for portal in portals:\n",
    "        if len(portals[portal]) > 1:\n",
    "            for coord1, coord2 in itertools.permutations(portals[portal], 2):\n",
    "                r1, c1 = coord1\n",
    "                r2, c2 = coord2\n",
    "                # If a portal is on the outer wall go to the outermost level\n",
    "                if r1 in row_bounds or c1 in col_bounds:\n",
    "                    graph[(r1, c1)].append((r2, c2, -1))\n",
    "                # otherwise go in a level\n",
    "                else:\n",
    "                    graph[(r1, c1)].append((r2, c2, 1))\n",
    "        for coord in portals[portal]:\n",
    "            labels[coord] = portal\n",
    "            \n",
    "    start = portals['AA'][0]\n",
    "    start_r, start_c = start\n",
    "    end = portals['ZZ'][0]\n",
    "    search = deque([((start_r, start_c, 0), 0, 1)])\n",
    "    seen = {start}\n",
    "    \n",
    "    while search:\n",
    "        node, steps_taken, level = search.popleft()\n",
    "        r, c, _ = node\n",
    "        for nbr in graph[(r, c)]:\n",
    "            row, col, dlevel = nbr\n",
    "            if (row, col, level + dlevel) not in seen:\n",
    "                if (row, col) == end and level == 1:\n",
    "                    return steps_taken + 1\n",
    "                elif (next_level := level + dlevel) > 0:\n",
    "                    seen.add((row, col, next_level))\n",
    "                    search.append((nbr, steps_taken + 1, next_level))                "
   ]
  },
  {
   "cell_type": "code",
   "execution_count": 70,
   "metadata": {},
   "outputs": [],
   "source": [
    "assert part_2(test_maze_1) == 26"
   ]
  },
  {
   "cell_type": "code",
   "execution_count": 71,
   "metadata": {},
   "outputs": [],
   "source": [
    "test_maze_3 = '''             Z L X W       C                 \n",
    "             Z P Q B       K                 \n",
    "  ###########.#.#.#.#######.###############  \n",
    "  #...#.......#.#.......#.#.......#.#.#...#  \n",
    "  ###.#.#.#.#.#.#.#.###.#.#.#######.#.#.###  \n",
    "  #.#...#.#.#...#.#.#...#...#...#.#.......#  \n",
    "  #.###.#######.###.###.#.###.###.#.#######  \n",
    "  #...#.......#.#...#...#.............#...#  \n",
    "  #.#########.#######.#.#######.#######.###  \n",
    "  #...#.#    F       R I       Z    #.#.#.#  \n",
    "  #.###.#    D       E C       H    #.#.#.#  \n",
    "  #.#...#                           #...#.#  \n",
    "  #.###.#                           #.###.#  \n",
    "  #.#....OA                       WB..#.#..ZH\n",
    "  #.###.#                           #.#.#.#  \n",
    "CJ......#                           #.....#  \n",
    "  #######                           #######  \n",
    "  #.#....CK                         #......IC\n",
    "  #.###.#                           #.###.#  \n",
    "  #.....#                           #...#.#  \n",
    "  ###.###                           #.#.#.#  \n",
    "XF....#.#                         RF..#.#.#  \n",
    "  #####.#                           #######  \n",
    "  #......CJ                       NM..#...#  \n",
    "  ###.#.#                           #.###.#  \n",
    "RE....#.#                           #......RF\n",
    "  ###.###        X   X       L      #.#.#.#  \n",
    "  #.....#        F   Q       P      #.#.#.#  \n",
    "  ###.###########.###.#######.#########.###  \n",
    "  #.....#...#.....#.......#...#.....#.#...#  \n",
    "  #####.#.###.#######.#######.###.###.#.#.#  \n",
    "  #.......#.......#.#.#.#.#...#...#...#.#.#  \n",
    "  #####.###.#####.#.#.#.#.###.###.#.###.###  \n",
    "  #.......#.....#.#...#...............#...#  \n",
    "  #############.#.#.###.###################  \n",
    "               A O F   N                     \n",
    "               A A D   M                     '''\n",
    "\n",
    "assert part_2(test_maze_3) == 396"
   ]
  },
  {
   "cell_type": "code",
   "execution_count": 72,
   "metadata": {},
   "outputs": [
    {
     "data": {
      "text/plain": [
       "6706"
      ]
     },
     "execution_count": 72,
     "metadata": {},
     "output_type": "execute_result"
    }
   ],
   "source": [
    "part_2(maze)"
   ]
  },
  {
   "cell_type": "markdown",
   "metadata": {},
   "source": [
    "Good grief, that horrendous mess actually worked."
   ]
  },
  {
   "cell_type": "code",
   "execution_count": null,
   "metadata": {},
   "outputs": [],
   "source": []
  }
 ],
 "metadata": {
  "kernelspec": {
   "display_name": "Python 3",
   "language": "python",
   "name": "python3"
  },
  "language_info": {
   "codemirror_mode": {
    "name": "ipython",
    "version": 3
   },
   "file_extension": ".py",
   "mimetype": "text/x-python",
   "name": "python",
   "nbconvert_exporter": "python",
   "pygments_lexer": "ipython3",
   "version": "3.8.5"
  }
 },
 "nbformat": 4,
 "nbformat_minor": 4
}
