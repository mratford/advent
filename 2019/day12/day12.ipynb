{
 "cells": [
  {
   "cell_type": "markdown",
   "metadata": {},
   "source": [
    "### Day 12\n",
    "\n",
    "It might be easier to debug this one with a notebook."
   ]
  },
  {
   "cell_type": "code",
   "execution_count": 1,
   "metadata": {},
   "outputs": [],
   "source": [
    "from collections import namedtuple\n",
    "from pyrsistent import pvector\n",
    "import itertools as iter\n",
    "import operator as op\n",
    "\n",
    "\n",
    "Vector = namedtuple('Vector', 'x y z')\n",
    "Moon = namedtuple('Moon', 'position velocity')\n",
    "\n",
    "\n",
    "def vmap(f, *args):\n",
    "    'Element-wise map for Vectors'\n",
    "    return Vector(f(*[v.x for v in args]), \n",
    "                  f(*[v.y for v in args]),\n",
    "                  f(*[v.z for v in args]))\n",
    "\n",
    "\n",
    "def parse_moons(s):\n",
    "    result = pvector()\n",
    "    \n",
    "    for line in s.strip().splitlines():\n",
    "        position = Vector(*[int(x.split('=')[1]) for x in line.strip().strip('<>').split(',')])\n",
    "        velocity = Vector(0, 0, 0)\n",
    "        result = result.append(Moon(position, velocity))\n",
    "        \n",
    "    return result"
   ]
  },
  {
   "cell_type": "code",
   "execution_count": 2,
   "metadata": {},
   "outputs": [
    {
     "data": {
      "text/plain": [
       "pvector([Moon(position=Vector(x=-1, y=0, z=2), velocity=Vector(x=0, y=0, z=0)), Moon(position=Vector(x=2, y=-10, z=-7), velocity=Vector(x=0, y=0, z=0)), Moon(position=Vector(x=4, y=-8, z=8), velocity=Vector(x=0, y=0, z=0)), Moon(position=Vector(x=3, y=5, z=-1), velocity=Vector(x=0, y=0, z=0))])"
      ]
     },
     "execution_count": 2,
     "metadata": {},
     "output_type": "execute_result"
    }
   ],
   "source": [
    "test_input = '''<x=-1, y=0, z=2>\n",
    "<x=2, y=-10, z=-7>\n",
    "<x=4, y=-8, z=8>\n",
    "<x=3, y=5, z=-1>'''\n",
    "\n",
    "test_system = parse_moons(test_input)\n",
    "test_system"
   ]
  },
  {
   "cell_type": "code",
   "execution_count": 3,
   "metadata": {},
   "outputs": [],
   "source": [
    "def unit_sign(x):\n",
    "    if x == 0: \n",
    "        return 0\n",
    "    elif x < 0:\n",
    "        return -1\n",
    "    else:\n",
    "        return 1\n",
    "\n",
    "    \n",
    "def simulate(system):\n",
    "    # For each non-matching pair in either direction\n",
    "    for i, j in iter.permutations(range(len(system)), 2):\n",
    "        # Difference between moons' positions\n",
    "        d = vmap(op.sub, system[j].position, system[i].position)\n",
    "        # Difference changed to unit values or zero\n",
    "        unit_d = vmap(unit_sign, d)\n",
    "        # Add to the velocity\n",
    "        new_velocity = vmap(op.add, system[i].velocity, unit_d)\n",
    "        system = system.set(i, system[i]._replace(velocity=new_velocity))\n",
    "        \n",
    "    # Update each moon with its new position\n",
    "    for i, moon in enumerate(system):\n",
    "        system = system.set(i, Moon(vmap(op.add, moon.position, moon.velocity), \n",
    "                                    moon.velocity))\n",
    "    \n",
    "    return system\n",
    "\n",
    "\n",
    "def print_system(system):\n",
    "    for moon in system:\n",
    "        print(f'pos=<x={moon.position.x}, y={moon.position.y}, z={moon.position.z}>, '\n",
    "              f'vel=<x={moon.velocity.x}, y={moon.velocity.y}, z={moon.velocity.z}>')"
   ]
  },
  {
   "cell_type": "code",
   "execution_count": 4,
   "metadata": {},
   "outputs": [
    {
     "name": "stdout",
     "output_type": "stream",
     "text": [
      "After 0 steps:\n",
      "pos=<x=-1, y=0, z=2>, vel=<x=0, y=0, z=0>\n",
      "pos=<x=2, y=-10, z=-7>, vel=<x=0, y=0, z=0>\n",
      "pos=<x=4, y=-8, z=8>, vel=<x=0, y=0, z=0>\n",
      "pos=<x=3, y=5, z=-1>, vel=<x=0, y=0, z=0>\n",
      "\n",
      "After 1 steps:\n",
      "pos=<x=2, y=-1, z=1>, vel=<x=3, y=-1, z=-1>\n",
      "pos=<x=3, y=-7, z=-4>, vel=<x=1, y=3, z=3>\n",
      "pos=<x=1, y=-7, z=5>, vel=<x=-3, y=1, z=-3>\n",
      "pos=<x=2, y=2, z=0>, vel=<x=-1, y=-3, z=1>\n",
      "\n",
      "After 2 steps:\n",
      "pos=<x=5, y=-3, z=-1>, vel=<x=3, y=-2, z=-2>\n",
      "pos=<x=1, y=-2, z=2>, vel=<x=-2, y=5, z=6>\n",
      "pos=<x=1, y=-4, z=-1>, vel=<x=0, y=3, z=-6>\n",
      "pos=<x=1, y=-4, z=2>, vel=<x=-1, y=-6, z=2>\n",
      "\n",
      "After 3 steps:\n",
      "pos=<x=5, y=-6, z=-1>, vel=<x=0, y=-3, z=0>\n",
      "pos=<x=0, y=0, z=6>, vel=<x=-1, y=2, z=4>\n",
      "pos=<x=2, y=1, z=-5>, vel=<x=1, y=5, z=-4>\n",
      "pos=<x=1, y=-8, z=2>, vel=<x=0, y=-4, z=0>\n",
      "\n",
      "After 4 steps:\n",
      "pos=<x=2, y=-8, z=0>, vel=<x=-3, y=-2, z=1>\n",
      "pos=<x=2, y=1, z=7>, vel=<x=2, y=1, z=1>\n",
      "pos=<x=2, y=3, z=-6>, vel=<x=0, y=2, z=-1>\n",
      "pos=<x=2, y=-9, z=1>, vel=<x=1, y=-1, z=-1>\n",
      "\n",
      "After 5 steps:\n",
      "pos=<x=-1, y=-9, z=2>, vel=<x=-3, y=-1, z=2>\n",
      "pos=<x=4, y=1, z=5>, vel=<x=2, y=0, z=-2>\n",
      "pos=<x=2, y=2, z=-4>, vel=<x=0, y=-1, z=2>\n",
      "pos=<x=3, y=-7, z=-1>, vel=<x=1, y=2, z=-2>\n",
      "\n",
      "After 6 steps:\n",
      "pos=<x=-1, y=-7, z=3>, vel=<x=0, y=2, z=1>\n",
      "pos=<x=3, y=0, z=0>, vel=<x=-1, y=-1, z=-5>\n",
      "pos=<x=3, y=-2, z=1>, vel=<x=1, y=-4, z=5>\n",
      "pos=<x=3, y=-4, z=-2>, vel=<x=0, y=3, z=-1>\n",
      "\n",
      "After 7 steps:\n",
      "pos=<x=2, y=-2, z=1>, vel=<x=3, y=5, z=-2>\n",
      "pos=<x=1, y=-4, z=-4>, vel=<x=-2, y=-4, z=-4>\n",
      "pos=<x=3, y=-7, z=5>, vel=<x=0, y=-5, z=4>\n",
      "pos=<x=2, y=0, z=0>, vel=<x=-1, y=4, z=2>\n",
      "\n",
      "After 8 steps:\n",
      "pos=<x=5, y=2, z=-2>, vel=<x=3, y=4, z=-3>\n",
      "pos=<x=2, y=-7, z=-5>, vel=<x=1, y=-3, z=-1>\n",
      "pos=<x=0, y=-9, z=6>, vel=<x=-3, y=-2, z=1>\n",
      "pos=<x=1, y=1, z=3>, vel=<x=-1, y=1, z=3>\n",
      "\n",
      "After 9 steps:\n",
      "pos=<x=5, y=3, z=-4>, vel=<x=0, y=1, z=-2>\n",
      "pos=<x=2, y=-9, z=-3>, vel=<x=0, y=-2, z=2>\n",
      "pos=<x=0, y=-8, z=4>, vel=<x=0, y=1, z=-2>\n",
      "pos=<x=1, y=1, z=5>, vel=<x=0, y=0, z=2>\n",
      "\n",
      "After 10 steps:\n",
      "pos=<x=2, y=1, z=-3>, vel=<x=-3, y=-2, z=1>\n",
      "pos=<x=1, y=-8, z=0>, vel=<x=-1, y=1, z=3>\n",
      "pos=<x=3, y=-6, z=1>, vel=<x=3, y=2, z=-3>\n",
      "pos=<x=2, y=0, z=4>, vel=<x=1, y=-1, z=-1>\n",
      "\n"
     ]
    }
   ],
   "source": [
    "ts = test_system\n",
    "\n",
    "for i in range(11):\n",
    "    print(f'After {i} steps:')\n",
    "    print_system(ts)\n",
    "    print()\n",
    "    \n",
    "    ts = simulate(ts)"
   ]
  },
  {
   "cell_type": "code",
   "execution_count": 5,
   "metadata": {},
   "outputs": [],
   "source": [
    "def potential_energy(moon):\n",
    "    return (sum(abs(x) for x in moon.position)\n",
    "            * sum(abs(x) for x in moon.velocity))\n",
    "\n",
    "\n",
    "def total_energy(system):\n",
    "    return sum(potential_energy(moon) for moon in system)\n",
    "\n",
    "\n",
    "def run_n(f, x, n):\n",
    "    while n > 0:\n",
    "        x = f(x)\n",
    "        n -= 1\n",
    "        \n",
    "    return x"
   ]
  },
  {
   "cell_type": "code",
   "execution_count": 6,
   "metadata": {},
   "outputs": [
    {
     "data": {
      "text/plain": [
       "179"
      ]
     },
     "execution_count": 6,
     "metadata": {},
     "output_type": "execute_result"
    }
   ],
   "source": [
    "total_energy(run_n(simulate, test_system, 10))"
   ]
  },
  {
   "cell_type": "code",
   "execution_count": 7,
   "metadata": {},
   "outputs": [
    {
     "data": {
      "text/plain": [
       "1940"
      ]
     },
     "execution_count": 7,
     "metadata": {},
     "output_type": "execute_result"
    }
   ],
   "source": [
    "test_input_2 = '''<x=-8, y=-10, z=0>\n",
    "<x=5, y=5, z=10>\n",
    "<x=2, y=-7, z=3>\n",
    "<x=9, y=-8, z=-3>'''\n",
    "\n",
    "test_system_2 = parse_moons(test_input_2)\n",
    "\n",
    "total_energy(run_n(simulate, test_system_2, 100))"
   ]
  },
  {
   "cell_type": "code",
   "execution_count": 24,
   "metadata": {},
   "outputs": [
    {
     "data": {
      "text/plain": [
       "14809"
      ]
     },
     "execution_count": 24,
     "metadata": {},
     "output_type": "execute_result"
    }
   ],
   "source": [
    "system = parse_moons(open('input', 'r').read())\n",
    "\n",
    "total_energy(run_n(simulate, system, 1000))"
   ]
  },
  {
   "cell_type": "markdown",
   "metadata": {},
   "source": [
    "#### Part 2\n",
    "\n",
    "The $x$, $y$ and $z$ components are independent, so note where they cycle."
   ]
  },
  {
   "cell_type": "code",
   "execution_count": 16,
   "metadata": {},
   "outputs": [],
   "source": [
    "def vmap1D(f, *args):\n",
    "    return f(*args)\n",
    "\n",
    "\n",
    "def simulate1D(system):\n",
    "    # For each non-matching pair in either direction\n",
    "    for i, j in iter.permutations(range(len(system)), 2):\n",
    "        # Difference between moons' positions\n",
    "        d = vmap1D(op.sub, system[j].position, system[i].position)\n",
    "        # Difference changed to unit values or zero\n",
    "        unit_d = vmap1D(unit_sign, d)\n",
    "        # Add to the velocity\n",
    "        new_velocity = vmap1D(op.add, system[i].velocity, unit_d)\n",
    "        system = system.set(i, system[i]._replace(velocity=new_velocity))\n",
    "        \n",
    "    # Update each moon with its new position\n",
    "    for i, moon in enumerate(system):\n",
    "        system = system.set(i, Moon(vmap1D(op.add, moon.position, moon.velocity), \n",
    "                                    moon.velocity))\n",
    "    \n",
    "    return system\n",
    "\n",
    "\n",
    "def find_cycle1D(system_dim):\n",
    "    seen = {system_dim: 0}\n",
    "    t = 0\n",
    "    while True:\n",
    "        t += 1\n",
    "        system_dim = simulate1D(system_dim)\n",
    "        if system_dim in seen:\n",
    "            return (seen[system_dim], t)\n",
    "        seen[system_dim] = t\n",
    "\n",
    "        \n",
    "def find_cycles(system):\n",
    "    system_x = pvector(Moon(moon.position.x, moon.velocity.x) for moon in system)\n",
    "    system_y = pvector(Moon(moon.position.y, moon.velocity.y) for moon in system)\n",
    "    system_z = pvector(Moon(moon.position.z, moon.velocity.z) for moon in system)\n",
    "    return (find_cycle1D(system_x), find_cycle1D(system_y), find_cycle1D(system_z))"
   ]
  },
  {
   "cell_type": "code",
   "execution_count": 17,
   "metadata": {},
   "outputs": [
    {
     "data": {
      "text/plain": [
       "((0, 18), (0, 28), (0, 44))"
      ]
     },
     "execution_count": 17,
     "metadata": {},
     "output_type": "execute_result"
    }
   ],
   "source": [
    "find_cycles(test_system)"
   ]
  },
  {
   "cell_type": "markdown",
   "metadata": {},
   "source": [
    "These start at zero, which would make things easier. Do they all start at zero?"
   ]
  },
  {
   "cell_type": "code",
   "execution_count": 19,
   "metadata": {},
   "outputs": [
    {
     "data": {
      "text/plain": [
       "((0, 2028), (0, 5898), (0, 4702))"
      ]
     },
     "execution_count": 19,
     "metadata": {},
     "output_type": "execute_result"
    }
   ],
   "source": [
    "find_cycles(test_system_2)"
   ]
  },
  {
   "cell_type": "code",
   "execution_count": 20,
   "metadata": {},
   "outputs": [
    {
     "data": {
      "text/plain": [
       "((0, 167624), (0, 231614), (0, 116328))"
      ]
     },
     "execution_count": 20,
     "metadata": {},
     "output_type": "execute_result"
    }
   ],
   "source": [
    "find_cycles(system)"
   ]
  },
  {
   "cell_type": "markdown",
   "metadata": {},
   "source": [
    "Yes. Assuming that's always the case, which I think it might be as they'll need to loop back to get to where they were, then find the least common multiple of the cycles."
   ]
  },
  {
   "cell_type": "code",
   "execution_count": 35,
   "metadata": {},
   "outputs": [
    {
     "data": {
      "text/plain": [
       "2772"
      ]
     },
     "execution_count": 35,
     "metadata": {},
     "output_type": "execute_result"
    }
   ],
   "source": [
    "import math\n",
    "from functools import reduce\n",
    "\n",
    "\n",
    "def find_system_cycle(system):\n",
    "    cycles = find_cycles(system)\n",
    "    assert all(x[0] == 0 for x in cycles)\n",
    "    loop_ends = [x[1] for x in cycles]\n",
    "    return reduce(lambda x, y: x * y // math.gcd(x, y), loop_ends)\n",
    "    \n",
    "\n",
    "\n",
    "find_system_cycle(test_system)"
   ]
  },
  {
   "cell_type": "code",
   "execution_count": 37,
   "metadata": {},
   "outputs": [
    {
     "data": {
      "text/plain": [
       "4686774924"
      ]
     },
     "execution_count": 37,
     "metadata": {},
     "output_type": "execute_result"
    }
   ],
   "source": [
    "find_system_cycle(test_system_2)"
   ]
  },
  {
   "cell_type": "code",
   "execution_count": 39,
   "metadata": {},
   "outputs": [
    {
     "name": "stdout",
     "output_type": "stream",
     "text": [
      "CPU times: user 19.3 s, sys: 216 ms, total: 19.5 s\n",
      "Wall time: 19.6 s\n"
     ]
    },
    {
     "data": {
      "text/plain": [
       "282270365571288"
      ]
     },
     "execution_count": 39,
     "metadata": {},
     "output_type": "execute_result"
    }
   ],
   "source": [
    "%%time\n",
    "\n",
    "find_system_cycle(system)"
   ]
  },
  {
   "cell_type": "code",
   "execution_count": null,
   "metadata": {},
   "outputs": [],
   "source": []
  }
 ],
 "metadata": {
  "kernelspec": {
   "display_name": "Python 3",
   "language": "python",
   "name": "python3"
  },
  "language_info": {
   "codemirror_mode": {
    "name": "ipython",
    "version": 3
   },
   "file_extension": ".py",
   "mimetype": "text/x-python",
   "name": "python",
   "nbconvert_exporter": "python",
   "pygments_lexer": "ipython3",
   "version": "3.8.0"
  }
 },
 "nbformat": 4,
 "nbformat_minor": 2
}
