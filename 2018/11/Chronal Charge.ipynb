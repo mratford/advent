{
 "cells": [
  {
   "cell_type": "markdown",
   "metadata": {},
   "source": [
    "## Day 11: Chronal Charge\n",
    "\n",
    "https://adventofcode.com/2018/day/11\n",
    "\n",
    "### Part 1\n",
    "\n",
    "Following the recipe on the packet."
   ]
  },
  {
   "cell_type": "code",
   "execution_count": 1,
   "metadata": {},
   "outputs": [],
   "source": [
    "def hundreds_digit(x):\n",
    "    return (x - (x // 1000) * 1000) // 100\n",
    "\n",
    "\n",
    "def power_level(x, y, serial):\n",
    "    rack_id = x + 10\n",
    "    power_level = (rack_id * y + serial) * rack_id\n",
    "    return(hundreds_digit(power_level)) - 5\n",
    "\n",
    "\n",
    "assert power_level(3, 5, 8) == 4\n",
    "assert power_level(122, 79, 57) == -5\n",
    "assert power_level(217, 196, 39) == 0\n",
    "assert power_level(101, 153, 71) == 4"
   ]
  },
  {
   "cell_type": "code",
   "execution_count": 2,
   "metadata": {},
   "outputs": [],
   "source": [
    "from itertools import product\n",
    "\n",
    "\n",
    "def grid(serial_number):\n",
    "    g = {}\n",
    "\n",
    "    for x in range(1, 301):\n",
    "        for y in range(1, 301):\n",
    "            g[(x, y)] = power_level(x, y, serial_number)\n",
    "\n",
    "    return g\n",
    "\n",
    "\n",
    "def n_by_n_coords(x, y, n=3):\n",
    "    return product(range(x, x + n), range(y, y + n))\n",
    "            \n",
    "\n",
    "def most_powerful_square(grid):\n",
    "    squares = product(range(1, 299), range(1, 299))\n",
    "    \n",
    "    return max(squares,\n",
    "               key=lambda sq: sum(grid[p] \n",
    "                                  for p in n_by_n_coords(sq[0], sq[1])))"
   ]
  },
  {
   "cell_type": "code",
   "execution_count": 3,
   "metadata": {},
   "outputs": [],
   "source": [
    "assert most_powerful_square(grid(18)) == (33, 45)\n",
    "assert most_powerful_square(grid(42)) == (21, 61)"
   ]
  },
  {
   "cell_type": "code",
   "execution_count": 4,
   "metadata": {
    "scrolled": true
   },
   "outputs": [
    {
     "name": "stdout",
     "output_type": "stream",
     "text": [
      "CPU times: user 289 ms, sys: 0 ns, total: 289 ms\n",
      "Wall time: 288 ms\n"
     ]
    },
    {
     "data": {
      "text/plain": [
       "(245, 14)"
      ]
     },
     "execution_count": 4,
     "metadata": {},
     "output_type": "execute_result"
    }
   ],
   "source": [
    "%time most_powerful_square(grid(9810))"
   ]
  },
  {
   "cell_type": "markdown",
   "metadata": {},
   "source": [
    "### Part 2\n",
    "\n",
    "That took some thinking about, though using itertools rather than nested `for`s halved the time. Thinking about the next part, using `numpy` would have been easier in the first place. Brute force again."
   ]
  },
  {
   "cell_type": "code",
   "execution_count": 5,
   "metadata": {},
   "outputs": [
    {
     "data": {
      "text/plain": [
       "array([[-2, -4,  4,  4,  4],\n",
       "       [-4,  4,  4,  4, -5],\n",
       "       [ 4,  3,  3,  4, -4],\n",
       "       [ 1,  1,  2,  4, -3]])"
      ]
     },
     "execution_count": 5,
     "metadata": {},
     "output_type": "execute_result"
    }
   ],
   "source": [
    "import numpy as np\n",
    "\n",
    "\n",
    "# Define a 301x301 grid for convenience\n",
    "def grid_np(serial_number):\n",
    "    return np.array([[power_level(x, y, serial_number) \n",
    "                      for y in range(301)] \n",
    "                     for x in range(301)])\n",
    "\n",
    "\n",
    "# Need to transpose to make the visualisation equivalent\n",
    "# to the one in the problem statement\n",
    "grid_np(18)[32:37, 44:48].T"
   ]
  },
  {
   "cell_type": "code",
   "execution_count": 6,
   "metadata": {},
   "outputs": [
    {
     "data": {
      "text/plain": [
       "(29, 33, 45)"
      ]
     },
     "execution_count": 6,
     "metadata": {},
     "output_type": "execute_result"
    }
   ],
   "source": [
    "def most_powerful_square_np(grid):\n",
    "    return max((grid[x:x+3, y:y+3].sum(), x, y) \n",
    "                for x, y in product(range(1, 299), range(1, 299)))\n",
    "\n",
    "most_powerful_square_np(grid_np(18))"
   ]
  },
  {
   "cell_type": "code",
   "execution_count": 7,
   "metadata": {},
   "outputs": [
    {
     "name": "stdout",
     "output_type": "stream",
     "text": [
      "CPU times: user 285 ms, sys: 0 ns, total: 285 ms\n",
      "Wall time: 286 ms\n"
     ]
    },
    {
     "data": {
      "text/plain": [
       "(245, 14)"
      ]
     },
     "execution_count": 7,
     "metadata": {},
     "output_type": "execute_result"
    }
   ],
   "source": [
    "%time most_powerful_square(grid(9810))"
   ]
  },
  {
   "cell_type": "markdown",
   "metadata": {},
   "source": [
    "Surprisingly that makes no difference."
   ]
  },
  {
   "cell_type": "code",
   "execution_count": 8,
   "metadata": {},
   "outputs": [],
   "source": [
    "def most_powerful_square_of_all_np(grid):\n",
    "    maxes = []\n",
    "    return max(max((grid[x:(x+n), y:(y+n)].sum(), x, y, n) \n",
    "                    for x, y in product(range(1, 302 - n), range(1, 302 - n)))\n",
    "               for n in range(1, 301))[1:]"
   ]
  },
  {
   "cell_type": "markdown",
   "metadata": {},
   "source": [
    "Debugging this took so long that I switched to pypy.\n",
    "\n",
    "```\n",
    "$ time pypy3 chronal_change.py \n",
    "(235, 206, 13)\n",
    "\n",
    "real\t5m59.088s\n",
    "user\t5m57.292s\n",
    "sys\t0m1.181s\n",
    "```"
   ]
  },
  {
   "cell_type": "markdown",
   "metadata": {},
   "source": [
    "### Post-mortem\n",
    "\n",
    "Apparently I should have been using a [summed-area table](https://en.wikipedia.org/wiki/Summed-area_table). That's pretty smart, let's give it a go."
   ]
  },
  {
   "cell_type": "code",
   "execution_count": 9,
   "metadata": {},
   "outputs": [],
   "source": [
    "from collections import defaultdict\n",
    "\n",
    "def mpsoa_quick(grid):\n",
    "    sat = defaultdict(int)\n",
    "    for x in range(1, 301):\n",
    "        for y in range(1, 301):\n",
    "            sat[(x, y)] = grid[(x, y)] + sat[(x - 1, y)] \\\n",
    "                + sat[(x, y - 1)] - sat[(x - 1, y - 1)]\n",
    "        \n",
    "    def area_power(x, y, n):\n",
    "        return sat[(x + n - 1, y + n - 1)] \\\n",
    "                + sat[(x - 1), (y - 1)] \\\n",
    "                - sat[(x + n - 1, y - 1)] \\\n",
    "                - sat[(x - 1, y + n - 1)]\n",
    "                \n",
    "    return max(max((area_power(x, y, n), x, y, n) \n",
    "                   for x, y in product(range(1, 302 - n), \n",
    "                                       range(1, 302 - n)))\n",
    "               for n in range(1, 301))[1:]"
   ]
  },
  {
   "cell_type": "code",
   "execution_count": 10,
   "metadata": {},
   "outputs": [
    {
     "name": "stdout",
     "output_type": "stream",
     "text": [
      "CPU times: user 9.73 s, sys: 10.8 ms, total: 9.74 s\n",
      "Wall time: 9.79 s\n"
     ]
    },
    {
     "data": {
      "text/plain": [
       "(90, 269, 16)"
      ]
     },
     "execution_count": 10,
     "metadata": {},
     "output_type": "execute_result"
    }
   ],
   "source": [
    "%time mpsoa_quick(grid(18))"
   ]
  },
  {
   "cell_type": "code",
   "execution_count": 11,
   "metadata": {},
   "outputs": [
    {
     "name": "stdout",
     "output_type": "stream",
     "text": [
      "CPU times: user 9.69 s, sys: 24 ms, total: 9.71 s\n",
      "Wall time: 9.71 s\n"
     ]
    },
    {
     "data": {
      "text/plain": [
       "(235, 206, 13)"
      ]
     },
     "execution_count": 11,
     "metadata": {},
     "output_type": "execute_result"
    }
   ],
   "source": [
    "%time mpsoa_quick(grid(9810))"
   ]
  },
  {
   "cell_type": "markdown",
   "metadata": {},
   "source": [
    "That's better."
   ]
  },
  {
   "cell_type": "code",
   "execution_count": null,
   "metadata": {},
   "outputs": [],
   "source": []
  }
 ],
 "metadata": {
  "kernelspec": {
   "display_name": "Python [default]",
   "language": "python",
   "name": "python3"
  },
  "language_info": {
   "codemirror_mode": {
    "name": "ipython",
    "version": 3
   },
   "file_extension": ".py",
   "mimetype": "text/x-python",
   "name": "python",
   "nbconvert_exporter": "python",
   "pygments_lexer": "ipython3",
   "version": "3.6.4"
  }
 },
 "nbformat": 4,
 "nbformat_minor": 2
}
