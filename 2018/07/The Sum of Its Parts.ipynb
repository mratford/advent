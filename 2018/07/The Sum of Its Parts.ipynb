{
 "cells": [
  {
   "cell_type": "markdown",
   "metadata": {},
   "source": [
    "## Day 7: The Sum of Its Parts\n",
    "\n",
    "https://adventofcode.com/2018/day/7\n",
    "\n",
    "### Part 1\n",
    "\n",
    "Put the alphabetically first step that has no dependencies at the start of the sequence. Repeat until finished. Let `networkx` do the hefty lifting. (This needs version 2+ of `networkx`.)"
   ]
  },
  {
   "cell_type": "code",
   "execution_count": 1,
   "metadata": {},
   "outputs": [],
   "source": [
    "from parse import parse\n",
    "import networkx as nx\n",
    "\n",
    "\n",
    "# instructions are tuples (x, y) where x must be\n",
    "# sequenced before y\n",
    "def parse_instructions(strings):\n",
    "    return [parse('Step {} must be finished before step {} can begin.', s).fixed \n",
    "            for s in strings]\n",
    "\n",
    "\n",
    "def sequence_steps(instructions):\n",
    "    dependencies = nx.DiGraph()\n",
    "    dependencies.add_edges_from(instructions)\n",
    "    \n",
    "    sequence = ''\n",
    "    \n",
    "    while dependencies:\n",
    "        next_step = min([n for n, d in dependencies.in_degree if d == 0])\n",
    "        sequence += next_step\n",
    "        dependencies.remove_node(next_step)\n",
    "    \n",
    "    return sequence"
   ]
  },
  {
   "cell_type": "code",
   "execution_count": 2,
   "metadata": {},
   "outputs": [
    {
     "data": {
      "text/plain": [
       "[('C', 'A'),\n",
       " ('C', 'F'),\n",
       " ('A', 'B'),\n",
       " ('A', 'D'),\n",
       " ('B', 'E'),\n",
       " ('D', 'E'),\n",
       " ('F', 'E')]"
      ]
     },
     "execution_count": 2,
     "metadata": {},
     "output_type": "execute_result"
    }
   ],
   "source": [
    "test_input = '''Step C must be finished before step A can begin.\n",
    "Step C must be finished before step F can begin.\n",
    "Step A must be finished before step B can begin.\n",
    "Step A must be finished before step D can begin.\n",
    "Step B must be finished before step E can begin.\n",
    "Step D must be finished before step E can begin.\n",
    "Step F must be finished before step E can begin.'''.splitlines()\n",
    "\n",
    "test_instructions = parse_instructions(test_input)\n",
    "test_instructions"
   ]
  },
  {
   "cell_type": "code",
   "execution_count": 3,
   "metadata": {},
   "outputs": [
    {
     "data": {
      "text/plain": [
       "'CABDFE'"
      ]
     },
     "execution_count": 3,
     "metadata": {},
     "output_type": "execute_result"
    }
   ],
   "source": [
    "sequence_steps(test_instructions)"
   ]
  },
  {
   "cell_type": "code",
   "execution_count": 4,
   "metadata": {},
   "outputs": [
    {
     "data": {
      "text/plain": [
       "'BCADPVTJFZNRWXHEKSQLUYGMIO'"
      ]
     },
     "execution_count": 4,
     "metadata": {},
     "output_type": "execute_result"
    }
   ],
   "source": [
    "instructions = parse_instructions(open('input', 'r'))\n",
    "\n",
    "sequence_steps(instructions)"
   ]
  },
  {
   "cell_type": "code",
   "execution_count": null,
   "metadata": {
    "collapsed": true
   },
   "outputs": [],
   "source": []
  }
 ],
 "metadata": {
  "kernelspec": {
   "display_name": "Python 3",
   "language": "python",
   "name": "python3"
  },
  "language_info": {
   "codemirror_mode": {
    "name": "ipython",
    "version": 3
   },
   "file_extension": ".py",
   "mimetype": "text/x-python",
   "name": "python",
   "nbconvert_exporter": "python",
   "pygments_lexer": "ipython3",
   "version": "3.6.1"
  }
 },
 "nbformat": 4,
 "nbformat_minor": 2
}
