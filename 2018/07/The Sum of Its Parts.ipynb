{
 "cells": [
  {
   "cell_type": "markdown",
   "metadata": {},
   "source": [
    "## Day 7: The Sum of Its Parts\n",
    "\n",
    "https://adventofcode.com/2018/day/7\n",
    "\n",
    "### Part 1\n",
    "\n",
    "Put the alphabetically first step that has no dependencies at the start of the sequence. Repeat until finished. Let `networkx` do the hefty lifting. (This needs version 2+ of `networkx`.)"
   ]
  },
  {
   "cell_type": "code",
   "execution_count": 1,
   "metadata": {},
   "outputs": [],
   "source": [
    "from parse import parse\n",
    "import networkx as nx\n",
    "\n",
    "\n",
    "# instructions are tuples (x, y) where x must be\n",
    "# sequenced before y\n",
    "def parse_instructions(strings):\n",
    "    return [parse('Step {} must be finished before step {} can begin.', s).fixed \n",
    "            for s in strings]\n",
    "\n",
    "\n",
    "def sequence_steps(instructions):\n",
    "    dependencies = nx.DiGraph()\n",
    "    dependencies.add_edges_from(instructions)\n",
    "    \n",
    "    sequence = ''\n",
    "    \n",
    "    while dependencies:\n",
    "        next_step = min([n for n, d in dependencies.in_degree if d == 0])\n",
    "        sequence += next_step\n",
    "        dependencies.remove_node(next_step)\n",
    "    \n",
    "    return sequence"
   ]
  },
  {
   "cell_type": "code",
   "execution_count": 2,
   "metadata": {},
   "outputs": [
    {
     "data": {
      "text/plain": [
       "[('C', 'A'),\n",
       " ('C', 'F'),\n",
       " ('A', 'B'),\n",
       " ('A', 'D'),\n",
       " ('B', 'E'),\n",
       " ('D', 'E'),\n",
       " ('F', 'E')]"
      ]
     },
     "execution_count": 2,
     "metadata": {},
     "output_type": "execute_result"
    }
   ],
   "source": [
    "test_input = '''Step C must be finished before step A can begin.\n",
    "Step C must be finished before step F can begin.\n",
    "Step A must be finished before step B can begin.\n",
    "Step A must be finished before step D can begin.\n",
    "Step B must be finished before step E can begin.\n",
    "Step D must be finished before step E can begin.\n",
    "Step F must be finished before step E can begin.'''.splitlines()\n",
    "\n",
    "test_instructions = parse_instructions(test_input)\n",
    "test_instructions"
   ]
  },
  {
   "cell_type": "code",
   "execution_count": 3,
   "metadata": {},
   "outputs": [
    {
     "data": {
      "text/plain": [
       "'CABDFE'"
      ]
     },
     "execution_count": 3,
     "metadata": {},
     "output_type": "execute_result"
    }
   ],
   "source": [
    "sequence_steps(test_instructions)"
   ]
  },
  {
   "cell_type": "code",
   "execution_count": 4,
   "metadata": {},
   "outputs": [
    {
     "data": {
      "text/plain": [
       "'BCADPVTJFZNRWXHEKSQLUYGMIO'"
      ]
     },
     "execution_count": 4,
     "metadata": {},
     "output_type": "execute_result"
    }
   ],
   "source": [
    "instructions = parse_instructions(open('input', 'r'))\n",
    "\n",
    "sequence_steps(instructions)"
   ]
  },
  {
   "cell_type": "markdown",
   "metadata": {
    "collapsed": true
   },
   "source": [
    "### Part 2\n",
    "\n",
    "This is possibly the first problem where Microsoft Project is the best tool for the job."
   ]
  },
  {
   "cell_type": "code",
   "execution_count": 5,
   "metadata": {},
   "outputs": [],
   "source": [
    "import itertools\n",
    "\n",
    "\n",
    "def project_estimate(instructions, n_workers, step_duration_minimum = 60):\n",
    "    \n",
    "    def task_length(task):\n",
    "        return ord(task) - ord('A') + step_duration_minimum + 1\n",
    "\n",
    "    dependencies = nx.DiGraph()\n",
    "    dependencies.add_edges_from(instructions)\n",
    "    \n",
    "    # Dictionary of tasks with time left to complete\n",
    "    running_tasks = {}\n",
    "    \n",
    "    for time_taken in itertools.count():\n",
    "    \n",
    "        # Remove finished tasks from dependencies and \n",
    "        # free the workers \n",
    "        finished_tasks = [t for t in running_tasks \n",
    "                          if running_tasks[t] == 0]\n",
    "        for task in finished_tasks:\n",
    "            dependencies.remove_node(task)\n",
    "            del running_tasks[task]\n",
    "            \n",
    "        # What tasks have no further dependencies?    \n",
    "        open_tasks = [n for n, d in dependencies.in_degree \n",
    "                      if d == 0 and n not in running_tasks]\n",
    "        \n",
    "        # If there's nothing more to be done then the time \n",
    "        # taken is the result\n",
    "        if not open_tasks and not running_tasks:\n",
    "            return time_taken\n",
    "        \n",
    "        # Is there anything to do and anyone free to do it?\n",
    "        while open_tasks and len(running_tasks) < n_workers:\n",
    "            next_task = open_tasks.pop()\n",
    "            running_tasks[next_task] = task_length(next_task)\n",
    "            \n",
    "        for task in running_tasks:\n",
    "            running_tasks[task] -= 1\n",
    "    "
   ]
  },
  {
   "cell_type": "code",
   "execution_count": 6,
   "metadata": {},
   "outputs": [],
   "source": [
    "assert project_estimate(test_instructions, 2, 0) == 15"
   ]
  },
  {
   "cell_type": "code",
   "execution_count": 7,
   "metadata": {},
   "outputs": [
    {
     "data": {
      "text/plain": [
       "973"
      ]
     },
     "execution_count": 7,
     "metadata": {},
     "output_type": "execute_result"
    }
   ],
   "source": [
    "project_estimate(instructions, 5)"
   ]
  },
  {
   "cell_type": "code",
   "execution_count": null,
   "metadata": {},
   "outputs": [],
   "source": []
  }
 ],
 "metadata": {
  "kernelspec": {
   "display_name": "Python [default]",
   "language": "python",
   "name": "python3"
  },
  "language_info": {
   "codemirror_mode": {
    "name": "ipython",
    "version": 3
   },
   "file_extension": ".py",
   "mimetype": "text/x-python",
   "name": "python",
   "nbconvert_exporter": "python",
   "pygments_lexer": "ipython3",
   "version": "3.6.4"
  }
 },
 "nbformat": 4,
 "nbformat_minor": 2
}
