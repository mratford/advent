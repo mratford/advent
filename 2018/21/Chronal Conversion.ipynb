{
 "cells": [
  {
   "cell_type": "markdown",
   "metadata": {},
   "source": [
    "## Day 21: Chronal Conversion\n",
    "\n",
    "https://adventofcode.com/2018/day/21\n",
    "\n",
    "### Part 1\n",
    "\n",
    "Convert the instructions to Python to see what's going on."
   ]
  },
  {
   "cell_type": "code",
   "execution_count": 1,
   "metadata": {},
   "outputs": [
    {
     "name": "stdout",
     "output_type": "stream",
     "text": [
      "# 00 seti 123 0 1\n",
      "# 01 bani 1 456 1\n",
      "# 02 eqri 1 72 1\n",
      "# 03 addr 1 4 4\n",
      "# 04 seti 0 0 4\n",
      "# 05 seti 0 3 1\n",
      "# 06 bori 1 65536 5\n",
      "# 07 seti 8586263 3 1\n",
      "# 08 bani 5 255 2\n",
      "# 09 addr 1 2 1\n",
      "# 10 bani 1 16777215 1\n",
      "# 11 muli 1 65899 1\n",
      "# 12 bani 1 16777215 1\n",
      "# 13 gtir 256 5 2\n",
      "# 14 addr 2 4 4\n",
      "# 15 addi 4 1 4\n",
      "# 16 seti 27 8 4\n",
      "# 17 seti 0 1 2\n",
      "# 18 addi 2 1 3\n",
      "# 19 muli 3 256 3\n",
      "# 20 gtrr 3 5 3\n",
      "# 21 addr 3 4 4\n",
      "# 22 addi 4 1 4\n",
      "# 23 seti 25 8 4\n",
      "# 24 addi 2 1 2\n",
      "# 25 seti 17 7 4\n",
      "# 26 setr 2 0 5\n",
      "# 27 seti 7 8 4\n",
      "# 28 eqrr 1 0 2\n",
      "# 29 addr 2 4 4\n",
      "# 30 seti 5 4 4\n"
     ]
    }
   ],
   "source": [
    "for i, line in enumerate(open('input').readlines()[1:]):\n",
    "    print(f'# {i:02d} {line.rstrip()}')"
   ]
  },
  {
   "cell_type": "code",
   "execution_count": 2,
   "metadata": {},
   "outputs": [],
   "source": [
    "r = [0, 0, 0, 0, 0, 0]\n",
    "ip = 0 # use instead of r[4]\n",
    "\n",
    "\n",
    "# 00 seti 123 0 1\n",
    "r[1] = 123\n",
    "# 01 bani 1 456 1\n",
    "r[1] = r[1] & 456\n",
    "# 02 eqri 1 72 1\n",
    "r[1] = 1 if r[1] == 72 else 0\n",
    "# 03 addr 1 4 4\n",
    "ip = ip + r[1] # GOTO ?\n",
    "# 04 seti 0 0 4\n",
    "ip = 0 # GOTO 0\n",
    "# 05 seti 0 3 1\n",
    "r[1] = 0\n",
    "# 06 bori 1 65536 5\n",
    "r[5] = r[1] | 65536\n",
    "# 07 seti 8586263 3 1\n",
    "r[1] = 8586263\n",
    "# 08 bani 5 255 2\n",
    "r[2] = r[5] & 255\n",
    "# 09 addr 1 2 1\n",
    "r[1] += r[2]\n",
    "# 10 bani 1 16777215 1\n",
    "r[1] = r[1] & 16777215\n",
    "# 11 muli 1 65899 1\n",
    "r[1] = r[1] * 65899\n",
    "# 12 bani 1 16777215 1\n",
    "r[1] = r[1] & 16777215\n",
    "# 13 gtir 256 5 2\n",
    "r[2] = 1 if 256 > r[5] else 0\n",
    "# 14 addr 2 4 4\n",
    "ip = ip + r[2] # GOTO ?\n",
    "# 15 addi 4 1 4\n",
    "ip = ip + 4 # GOTO 19\n",
    "# 16 seti 27 8 4\n",
    "ip = 27 # GOTO 28\n",
    "# 17 seti 0 1 2\n",
    "r[2] = 0\n",
    "# 18 addi 2 1 3\n",
    "r[3] = r[2] + 1\n",
    "# 19 muli 3 256 3\n",
    "r[3] = r[3] * 256\n",
    "# 20 gtrr 3 5 3\n",
    "r[3] = 1 if r[3] > r[5] else 0\n",
    "# 21 addr 3 4 4\n",
    "ip = ip + r[3] # GOTO ?\n",
    "# 22 addi 4 1 4\n",
    "ip = ip + 1 # GOTO 24\n",
    "# 23 seti 25 8 4\n",
    "ip = 25 # GOTO 26\n",
    "# 24 addi 2 1 2\n",
    "r[2] += 1\n",
    "# 25 seti 17 7 4\n",
    "ip = 17 # GOTO 18\n",
    "# 26 setr 2 0 5\n",
    "r[5] = r[2]\n",
    "# 27 seti 7 8 4\n",
    "ip = 7 # GOTO 8\n",
    "# 28 eqrr 1 0 2\n",
    "r[2] = 1 if r[1] == r[0] else 0\n",
    "# 29 addr 2 4 4\n",
    "ip = ip + r[2] # END if r[2] > 0\n",
    "# 30 seti 5 4 4\n",
    "ip = 5 # GOTO 6"
   ]
  },
  {
   "cell_type": "code",
   "execution_count": 3,
   "metadata": {},
   "outputs": [
    {
     "data": {
      "text/plain": [
       "'0b10000000000000000'"
      ]
     },
     "execution_count": 3,
     "metadata": {},
     "output_type": "execute_result"
    }
   ],
   "source": [
    "bin(65536)"
   ]
  },
  {
   "cell_type": "code",
   "execution_count": 4,
   "metadata": {},
   "outputs": [
    {
     "data": {
      "text/plain": [
       "'0b111111111111111111111111'"
      ]
     },
     "execution_count": 4,
     "metadata": {},
     "output_type": "execute_result"
    }
   ],
   "source": [
    "bin(16777215)"
   ]
  },
  {
   "cell_type": "code",
   "execution_count": 5,
   "metadata": {},
   "outputs": [
    {
     "data": {
      "text/plain": [
       "'0b10000000101101011'"
      ]
     },
     "execution_count": 5,
     "metadata": {},
     "output_type": "execute_result"
    }
   ],
   "source": [
    "bin(65899)"
   ]
  },
  {
   "cell_type": "code",
   "execution_count": 6,
   "metadata": {},
   "outputs": [
    {
     "data": {
      "text/plain": [
       "'0b100000110000010000010111'"
      ]
     },
     "execution_count": 6,
     "metadata": {},
     "output_type": "execute_result"
    }
   ],
   "source": [
    "bin(8586263)"
   ]
  },
  {
   "cell_type": "code",
   "execution_count": 7,
   "metadata": {},
   "outputs": [
    {
     "data": {
      "text/plain": [
       "72"
      ]
     },
     "execution_count": 7,
     "metadata": {},
     "output_type": "execute_result"
    }
   ],
   "source": [
    "123 & 456"
   ]
  },
  {
   "cell_type": "code",
   "execution_count": 8,
   "metadata": {},
   "outputs": [],
   "source": [
    "def f(r0):\n",
    "    r = [r0, 0, 0, 0, 0, 0]\n",
    "\n",
    "    # 01-04, appears to be a red herring\n",
    "    r[1] = 1\n",
    "    # 05 seti 0 3 1\n",
    "    r[1] = 0\n",
    "    \n",
    "    while True:\n",
    "        # 06 bori 1 65536 5\n",
    "        r[5] = r[1] | 65536\n",
    "        # 07 seti 8586263 3 1\n",
    "        r[1] = 8586263\n",
    "        # 08 bani 5 255 2\n",
    "        r[2] = r[5] & 255\n",
    "        # 09 addr 1 2 1\n",
    "        r[1] += r[2]\n",
    "        # 10 bani 1 16777215 1\n",
    "        r[1] = r[1] & 16777215\n",
    "        # 11 muli 1 65899 1\n",
    "        r[1] = r[1] * 65899\n",
    "        # 12 bani 1 16777215 1\n",
    "        r[1] = r[1] & 16777215\n",
    "        # 13 gtir 256 5 2\n",
    "        while r[5] >= 256:\n",
    "#             # 17 seti 0 1 2\n",
    "#             # never executed?\n",
    "#             # r[2] = 0\n",
    "            # 20 gtrr 3 5 3\n",
    "            r[3] = 1 if r[3] > r[5] else 0\n",
    "            # 21 addr 3 4 4\n",
    "            # ip = ip + r[3] # GOTO ?\n",
    "            # 22 addi 4 1 4\n",
    "            if r[3] == 0:\n",
    "#                 ip = ip + 1 # GOTO 24\n",
    "#             # 23 seti 25 8 4\n",
    "#                 if r[3] == 1:\n",
    "#             ip = 25 # GOTO 26\n",
    "                # 24 addi 2 1 2\n",
    "                r[2] += 1\n",
    "                # 25 seti 17 7 4\n",
    "                # ip = 17 # GOTO 18\n",
    "                # 18 addi 2 1 3\n",
    "                r[3] = r[2] + 1\n",
    "                # 19 muli 3 256 3\n",
    "                r[3] = r[3] * 256\n",
    "            # 26 setr 2 0 5\n",
    "            r[5] = r[2]\n",
    "            # 27 seti 7 8 4\n",
    "            # ip = 7 # GOTO 8\n",
    "        # 28 eqrr 1 0 2\n",
    "        r[2] = 1 if r[1] == r[0] else 0\n",
    "        if r[1] == r[0]:\n",
    "            return r"
   ]
  },
  {
   "cell_type": "markdown",
   "metadata": {},
   "source": [
    "I'm finding that fiddly, boring and prone to error, let's just run it and see where the endless loop is. Keep a set of all line/state pairs. If there's a repeat then an infinite loop is detected and the program stopped."
   ]
  },
  {
   "cell_type": "code",
   "execution_count": 9,
   "metadata": {},
   "outputs": [],
   "source": [
    "from pyrsistent import pvector, pmap, pset\n",
    "import operator as op\n",
    "from parse import parse\n",
    "from collections import defaultdict\n",
    "\n",
    "\n",
    "def opr(f):\n",
    "    def fr(registers, a, b, c):\n",
    "        return registers.set(c, f(registers[a], registers[b]))\n",
    "    \n",
    "    return fr\n",
    "\n",
    "\n",
    "def opi(f):\n",
    "    def fi(registers, a, b, c):\n",
    "        return registers.set(c, f(registers[a], b))\n",
    "    \n",
    "    return fi\n",
    "\n",
    "\n",
    "addr = opr(op.add)\n",
    "addi = opi(op.add)\n",
    "mulr = opr(op.mul)\n",
    "muli = opi(op.mul)\n",
    "\n",
    "banr = opr(op.and_)\n",
    "bani = opi(op.and_)\n",
    "borr = opr(op.or_)\n",
    "bori = opi(op.or_)\n",
    "\n",
    "def setr(r, a, b, c):\n",
    "    return r.set(c, r[a])\n",
    "def seti(r, a, b, c):\n",
    "    return r.set(c, a)\n",
    "\n",
    "def gtir(r, a, b, c):\n",
    "    return r.set(c, 1 if a > r[b] else 0)\n",
    "def gtri(r, a, b, c):\n",
    "    return r.set(c, 1 if r[a] > b else 0)\n",
    "def gtrr(r, a, b, c):\n",
    "    return r.set(c, 1 if r[a] > r[b] else 0)\n",
    "\n",
    "def eqir(r, a, b, c):\n",
    "    return r.set(c, 1 if a == r[b] else 0)\n",
    "def eqri(r, a, b, c):\n",
    "    return r.set(c, 1 if r[a] == b else 0)\n",
    "def eqrr(r, a, b, c):\n",
    "    return r.set(c, 1 if r[a] == r[b] else 0)\n",
    "\n",
    "\n",
    "opstrings = 'addr addi mulr muli banr bani borr bori setr seti gtir gtrr eqir eqri eqrr'.split(' ')\n",
    "opcodes = pmap({op: eval(op) for op in opstrings})\n",
    "\n",
    "\n",
    "def parse_program(program_data):\n",
    "    lines = program_data.rstrip().splitlines()\n",
    "    program = pvector()\n",
    "    ip = parse('#ip {ip:d}', lines[0])['ip']\n",
    "    \n",
    "    for line in lines[1:]:\n",
    "        opstring, a, b, c = parse('{} {:d} {:d} {:d}', line)\n",
    "        program = program.append((opcodes[opstring], a, b, c))\n",
    "        \n",
    "    return ip, program\n",
    "\n",
    "\n",
    "def run(ip, registers, program, debug=False):\n",
    "    while True:\n",
    "        if registers[ip] < 0 or registers[ip] >= len(program):\n",
    "            return registers.set(ip, registers[ip] - 1)\n",
    "\n",
    "        opcode, a, b, c = program[registers[ip]]\n",
    "        registers = opcode(registers, a, b, c)\n",
    "        registers = registers.set(ip, registers[ip] + 1)\n",
    "        \n",
    "        if debug:\n",
    "            print(registers)\n",
    "            \n",
    "            \n",
    "def find_infinite_loop(ip, registers, program, debug=False):\n",
    "    states = pset()\n",
    "    \n",
    "    while True:\n",
    "        if registers[ip] < 0 or registers[ip] >= len(program):\n",
    "            return (True, registers.set(ip, registers[ip] - 1))\n",
    "        \n",
    "        if registers in states:\n",
    "            return (False, registers)\n",
    "        else:\n",
    "            states = states.add(registers)\n",
    "\n",
    "        opcode, a, b, c = program[registers[ip]]\n",
    "        registers = opcode(registers, a, b, c)\n",
    "        registers = registers.set(ip, registers[ip] + 1)\n",
    "        \n",
    "        if debug:\n",
    "            print(registers)"
   ]
  },
  {
   "cell_type": "code",
   "execution_count": 10,
   "metadata": {},
   "outputs": [],
   "source": [
    "ip, program = parse_program(open('input', 'r').read())"
   ]
  },
  {
   "cell_type": "code",
   "execution_count": 11,
   "metadata": {},
   "outputs": [],
   "source": [
    "registers = pvector([0, 0, 0, 0, 0, 0])\n",
    "# i = find_infinite_loop(ip, registers, program, debug=True)\n",
    "# for n in range(1000):\n",
    "#     print(n, next(i))"
   ]
  },
  {
   "cell_type": "markdown",
   "metadata": {},
   "source": [
    "That was taking too long to run. Inspecting the code showed a loop between lines 18 and 25 that added 1 to register 2 until its value + 1 multiplied by 256 was greater than the value of the fifth register. Change line 17 in the program to shortcut this process."
   ]
  },
  {
   "cell_type": "code",
   "execution_count": 12,
   "metadata": {},
   "outputs": [],
   "source": [
    "import math\n",
    "\n",
    "def set_r2(r, a, b, c):\n",
    "    return r.set(2, math.floor(r[5] / 256))\n",
    "\n",
    "optimised = program.set(17, (set_r2, 0, 0, 0))"
   ]
  },
  {
   "cell_type": "code",
   "execution_count": 13,
   "metadata": {},
   "outputs": [],
   "source": [
    "registers = pvector([0, 0, 0, 0, 0, 0])\n",
    "# i = find_infinite_loop(ip, registers, optimised, debug=True)\n",
    "# for n in range(1000):\n",
    "#     print(n, next(i))"
   ]
  },
  {
   "cell_type": "code",
   "execution_count": 14,
   "metadata": {},
   "outputs": [
    {
     "name": "stdout",
     "output_type": "stream",
     "text": [
      "CPU times: user 38.8 s, sys: 117 ms, total: 38.9 s\n",
      "Wall time: 39 s\n"
     ]
    },
    {
     "data": {
      "text/plain": [
       "(False, pvector([0, 14833070, 0, 1, 7, 14898606]))"
      ]
     },
     "execution_count": 14,
     "metadata": {},
     "output_type": "execute_result"
    }
   ],
   "source": [
    "%time find_infinite_loop(ip, registers, optimised)"
   ]
  },
  {
   "cell_type": "markdown",
   "metadata": {},
   "source": [
    "That takes too long to iterate through. The program exits when register 1 and register 0 have equal values, this is checked in line 28. Output all values of register 1 that would have halted the program."
   ]
  },
  {
   "cell_type": "code",
   "execution_count": 15,
   "metadata": {},
   "outputs": [],
   "source": [
    "def cheat(ip, registers, program, debug=False):\n",
    "    states = pset()\n",
    "    halters = pvector()\n",
    "    \n",
    "    while True:\n",
    "        if registers[ip] < 0 or registers[ip] >= len(program):\n",
    "            return (True, registers.set(ip, registers[ip] - 1))\n",
    "        \n",
    "        if registers[ip] == 28:\n",
    "            halters = halters.append(registers[1])\n",
    "        \n",
    "        if registers in states:\n",
    "            return (False, halters)\n",
    "        else:\n",
    "            states = states.add(registers)\n",
    "\n",
    "        opcode, a, b, c = program[registers[ip]]\n",
    "        registers = opcode(registers, a, b, c)\n",
    "        registers = registers.set(ip, registers[ip] + 1)\n",
    "        \n",
    "        if debug:\n",
    "            print(registers)"
   ]
  },
  {
   "cell_type": "code",
   "execution_count": 16,
   "metadata": {},
   "outputs": [],
   "source": [
    "finished, halters = cheat(ip, registers, optimised)"
   ]
  },
  {
   "cell_type": "code",
   "execution_count": 17,
   "metadata": {},
   "outputs": [
    {
     "data": {
      "text/plain": [
       "2341"
      ]
     },
     "execution_count": 17,
     "metadata": {},
     "output_type": "execute_result"
    }
   ],
   "source": [
    "min(halters)"
   ]
  },
  {
   "cell_type": "markdown",
   "metadata": {},
   "source": [
    "That's the wrong answer. The problem description is confusing, is it asking for the first value checked (i.e. the fewest instructions)?"
   ]
  },
  {
   "cell_type": "code",
   "execution_count": 18,
   "metadata": {},
   "outputs": [
    {
     "data": {
      "text/plain": [
       "5970144"
      ]
     },
     "execution_count": 18,
     "metadata": {},
     "output_type": "execute_result"
    }
   ],
   "source": [
    "halters[0]"
   ]
  },
  {
   "cell_type": "markdown",
   "metadata": {},
   "source": [
    "Yes.\n",
    "\n",
    "### Part 2"
   ]
  },
  {
   "cell_type": "code",
   "execution_count": 19,
   "metadata": {},
   "outputs": [
    {
     "data": {
      "text/plain": [
       "14833070"
      ]
     },
     "execution_count": 19,
     "metadata": {},
     "output_type": "execute_result"
    }
   ],
   "source": [
    "halters[-1]"
   ]
  },
  {
   "cell_type": "markdown",
   "metadata": {},
   "source": [
    "That's wrong. Are there repeated halting values?"
   ]
  },
  {
   "cell_type": "code",
   "execution_count": 20,
   "metadata": {},
   "outputs": [
    {
     "data": {
      "text/plain": [
       "False"
      ]
     },
     "execution_count": 20,
     "metadata": {},
     "output_type": "execute_result"
    }
   ],
   "source": [
    "len(halters) == len(pset(halters))"
   ]
  },
  {
   "cell_type": "markdown",
   "metadata": {},
   "source": [
    "There are. Change the code to only add them once."
   ]
  },
  {
   "cell_type": "code",
   "execution_count": 21,
   "metadata": {},
   "outputs": [],
   "source": [
    "def cheat(ip, registers, program, debug=False):\n",
    "    states = pset()\n",
    "    halters = pvector()\n",
    "    \n",
    "    while True:\n",
    "        if registers[ip] < 0 or registers[ip] >= len(program):\n",
    "            return (True, registers.set(ip, registers[ip] - 1))\n",
    "        \n",
    "        if registers[ip] == 28 and registers[1] not in halters:\n",
    "            halters = halters.append(registers[1])\n",
    "        \n",
    "        if registers in states:\n",
    "            return (False, halters)\n",
    "        else:\n",
    "            states = states.add(registers)\n",
    "\n",
    "        opcode, a, b, c = program[registers[ip]]\n",
    "        registers = opcode(registers, a, b, c)\n",
    "        registers = registers.set(ip, registers[ip] + 1)\n",
    "        \n",
    "        if debug:\n",
    "            print(registers)"
   ]
  },
  {
   "cell_type": "code",
   "execution_count": 22,
   "metadata": {},
   "outputs": [],
   "source": [
    "finished, halters = cheat(ip, registers, optimised)"
   ]
  },
  {
   "cell_type": "code",
   "execution_count": 23,
   "metadata": {},
   "outputs": [
    {
     "data": {
      "text/plain": [
       "13943296"
      ]
     },
     "execution_count": 23,
     "metadata": {},
     "output_type": "execute_result"
    }
   ],
   "source": [
    "halters[-1]"
   ]
  },
  {
   "cell_type": "markdown",
   "metadata": {},
   "source": [
    "I have absolutely no idea what this program is doing."
   ]
  }
 ],
 "metadata": {
  "kernelspec": {
   "display_name": "Python [default]",
   "language": "python",
   "name": "python3"
  },
  "language_info": {
   "codemirror_mode": {
    "name": "ipython",
    "version": 3
   },
   "file_extension": ".py",
   "mimetype": "text/x-python",
   "name": "python",
   "nbconvert_exporter": "python",
   "pygments_lexer": "ipython3",
   "version": "3.6.7"
  }
 },
 "nbformat": 4,
 "nbformat_minor": 2
}
