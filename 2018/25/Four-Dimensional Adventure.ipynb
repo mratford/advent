{
 "cells": [
  {
   "cell_type": "markdown",
   "metadata": {},
   "source": [
    "## Day 25: Four-Dimensional Adventure\n",
    "\n",
    "https://adventofcode.com/2018/day/25\n",
    "\n",
    "### Part 1"
   ]
  },
  {
   "cell_type": "code",
   "execution_count": 1,
   "metadata": {},
   "outputs": [],
   "source": [
    "import networkx as nx\n",
    "\n",
    "\n",
    "def manhattan_distance(p1, p2):\n",
    "    return sum(abs(p - q) for p, q in zip(p1, p2))\n",
    "\n",
    "\n",
    "def parse_stars(data):\n",
    "    stars = nx.Graph()\n",
    "    \n",
    "    for line in data:\n",
    "        star = tuple(int(x) for x in line.split(','))\n",
    "        other_stars = list(stars.nodes)\n",
    "        for star_2 in other_stars:\n",
    "            if manhattan_distance(star, star_2) <= 3:\n",
    "                stars.add_edge(star, star_2)\n",
    "        stars.add_node(star)\n",
    "    \n",
    "    return stars\n",
    "\n",
    "\n",
    "def constellations(stars):\n",
    "    return len(list(nx.connected_components(stars)))"
   ]
  },
  {
   "cell_type": "code",
   "execution_count": 2,
   "metadata": {},
   "outputs": [
    {
     "data": {
      "text/plain": [
       "2"
      ]
     },
     "execution_count": 2,
     "metadata": {},
     "output_type": "execute_result"
    }
   ],
   "source": [
    "test_data = ''' 0,0,0,0\n",
    " 3,0,0,0\n",
    " 0,3,0,0\n",
    " 0,0,3,0\n",
    " 0,0,0,3\n",
    " 0,0,0,6\n",
    " 9,0,0,0\n",
    "12,0,0,0'''.splitlines()\n",
    "\n",
    "constellations(parse_stars(test_data))"
   ]
  },
  {
   "cell_type": "code",
   "execution_count": 3,
   "metadata": {},
   "outputs": [
    {
     "data": {
      "text/plain": [
       "331"
      ]
     },
     "execution_count": 3,
     "metadata": {},
     "output_type": "execute_result"
    }
   ],
   "source": [
    "constellations(parse_stars(open('input', 'r')))"
   ]
  },
  {
   "cell_type": "markdown",
   "metadata": {},
   "source": [
    "### Part 2\n",
    "\n",
    "There is no part 2. \n",
    "\n",
    "It was a bit painful this year, I doubt I'll be back next time."
   ]
  },
  {
   "cell_type": "code",
   "execution_count": null,
   "metadata": {},
   "outputs": [],
   "source": []
  }
 ],
 "metadata": {
  "kernelspec": {
   "display_name": "Python [default]",
   "language": "python",
   "name": "python3"
  },
  "language_info": {
   "codemirror_mode": {
    "name": "ipython",
    "version": 3
   },
   "file_extension": ".py",
   "mimetype": "text/x-python",
   "name": "python",
   "nbconvert_exporter": "python",
   "pygments_lexer": "ipython3",
   "version": "3.6.7"
  }
 },
 "nbformat": 4,
 "nbformat_minor": 2
}
