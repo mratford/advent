{
 "cells": [
  {
   "cell_type": "markdown",
   "metadata": {},
   "source": [
    "## Day 3: No Matter How You Slice It\n",
    "\n",
    "https://adventofcode.com/2018/day/3\n",
    "\n",
    "### Part 1\n",
    "\n",
    "This year's parsing library is..."
   ]
  },
  {
   "cell_type": "code",
   "execution_count": 1,
   "metadata": {},
   "outputs": [],
   "source": [
    "import parse\n",
    "from collections import namedtuple, Counter\n",
    "\n",
    "Claim = namedtuple(\"Claim\", \"id x y dx dy\")\n",
    "\n",
    "parse_claim_compiled = parse.compile('#{} @ {:d},{:d}: {:d}x{:d}')\n",
    "def parse_claim(s):\n",
    "    return Claim(*parse_claim_compiled.parse(s))"
   ]
  },
  {
   "cell_type": "markdown",
   "metadata": {},
   "source": [
    "That seems relatively readable and painless. Now load the test case."
   ]
  },
  {
   "cell_type": "code",
   "execution_count": 2,
   "metadata": {},
   "outputs": [
    {
     "data": {
      "text/plain": [
       "[Claim(id='1', x=1, y=3, dx=4, dy=4),\n",
       " Claim(id='2', x=3, y=1, dx=4, dy=4),\n",
       " Claim(id='3', x=5, y=5, dx=2, dy=2)]"
      ]
     },
     "execution_count": 2,
     "metadata": {},
     "output_type": "execute_result"
    }
   ],
   "source": [
    "test_string = '''#1 @ 1,3: 4x4\n",
    "#2 @ 3,1: 4x4\n",
    "#3 @ 5,5: 2x2\n",
    "\n",
    "'''\n",
    "\n",
    "test_claims = [parse_claim(s) for s in test_string.strip().splitlines()]\n",
    "test_claims"
   ]
  },
  {
   "cell_type": "markdown",
   "metadata": {},
   "source": [
    "Generate the square inches each claim covers."
   ]
  },
  {
   "cell_type": "code",
   "execution_count": 3,
   "metadata": {},
   "outputs": [
    {
     "data": {
      "text/plain": [
       "[(1, 3),\n",
       " (1, 4),\n",
       " (1, 5),\n",
       " (1, 6),\n",
       " (2, 3),\n",
       " (2, 4),\n",
       " (2, 5),\n",
       " (2, 6),\n",
       " (3, 3),\n",
       " (3, 4),\n",
       " (3, 5),\n",
       " (3, 6),\n",
       " (4, 3),\n",
       " (4, 4),\n",
       " (4, 5),\n",
       " (4, 6)]"
      ]
     },
     "execution_count": 3,
     "metadata": {},
     "output_type": "execute_result"
    }
   ],
   "source": [
    "def square_inches(claim):\n",
    "    for x in range(claim.x, claim.x + claim.dx):\n",
    "        for y in range(claim.y, claim.y + claim.dy):\n",
    "            yield (x, y)\n",
    "            \n",
    "list(square_inches(test_claims[0]))"
   ]
  },
  {
   "cell_type": "markdown",
   "metadata": {},
   "source": [
    "Count the number of times each square inch is covered by a claim."
   ]
  },
  {
   "cell_type": "code",
   "execution_count": 4,
   "metadata": {},
   "outputs": [],
   "source": [
    "def overlapping_inches(claims):\n",
    "    c = Counter()\n",
    "    \n",
    "    for claim in claims:\n",
    "        c.update(square_inches(claim))\n",
    "        \n",
    "    return sum(1 for count in c.values() if count > 1)"
   ]
  },
  {
   "cell_type": "markdown",
   "metadata": {},
   "source": [
    "Check on the test data."
   ]
  },
  {
   "cell_type": "code",
   "execution_count": 5,
   "metadata": {},
   "outputs": [],
   "source": [
    "assert overlapping_inches(test_claims) == 4"
   ]
  },
  {
   "cell_type": "code",
   "execution_count": 6,
   "metadata": {},
   "outputs": [
    {
     "data": {
      "text/plain": [
       "105047"
      ]
     },
     "execution_count": 6,
     "metadata": {},
     "output_type": "execute_result"
    }
   ],
   "source": [
    "claims = [parse_claim(s) for s in open('input', 'r')]\n",
    "\n",
    "overlapping_inches(claims)"
   ]
  },
  {
   "cell_type": "markdown",
   "metadata": {},
   "source": [
    "### Part 2\n",
    "\n",
    "Count the number of times each square inch is covered by a claim then yield any claims whose square inches are all covered once."
   ]
  },
  {
   "cell_type": "code",
   "execution_count": 7,
   "metadata": {},
   "outputs": [],
   "source": [
    "def non_overlapping_claims(claims):\n",
    "    c = Counter()\n",
    "    \n",
    "    for claim in claims:\n",
    "        c.update(square_inches(claim))\n",
    "        \n",
    "    for claim in claims:\n",
    "        if all(c[sq_i] == 1 for sq_i in square_inches(claim)):\n",
    "            yield claim"
   ]
  },
  {
   "cell_type": "code",
   "execution_count": 8,
   "metadata": {},
   "outputs": [
    {
     "data": {
      "text/plain": [
       "Claim(id='3', x=5, y=5, dx=2, dy=2)"
      ]
     },
     "execution_count": 8,
     "metadata": {},
     "output_type": "execute_result"
    }
   ],
   "source": [
    "next(non_overlapping_claims(test_claims))"
   ]
  },
  {
   "cell_type": "code",
   "execution_count": 9,
   "metadata": {},
   "outputs": [
    {
     "data": {
      "text/plain": [
       "Claim(id='658', x=773, y=237, dx=16, dy=27)"
      ]
     },
     "execution_count": 9,
     "metadata": {},
     "output_type": "execute_result"
    }
   ],
   "source": [
    "next(non_overlapping_claims(claims))"
   ]
  },
  {
   "cell_type": "code",
   "execution_count": null,
   "metadata": {},
   "outputs": [],
   "source": []
  }
 ],
 "metadata": {
  "kernelspec": {
   "display_name": "Python 3",
   "language": "python",
   "name": "python3"
  },
  "language_info": {
   "codemirror_mode": {
    "name": "ipython",
    "version": 3
   },
   "file_extension": ".py",
   "mimetype": "text/x-python",
   "name": "python",
   "nbconvert_exporter": "python",
   "pygments_lexer": "ipython3",
   "version": "3.7.1"
  }
 },
 "nbformat": 4,
 "nbformat_minor": 2
}
