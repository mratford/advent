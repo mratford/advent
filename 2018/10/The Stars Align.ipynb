{
 "cells": [
  {
   "cell_type": "markdown",
   "metadata": {},
   "source": [
    "## Day 10: The Stars Align\n",
    "\n",
    "https://adventofcode.com/2018/day/10\n",
    "    \n",
    "### Part 1\n",
    "\n",
    "I exclaimed a message when I read that but I doubt it's the answer.\n",
    "\n",
    "Let's assume that the message will appear when the coordinates are close together, so roughly when the area of the rectangle bounded by the minimum and maximum $x$ and $y$ is at a minimum. The head of the data is\n",
    "```\n",
    "position=<-30052,  -9918> velocity=< 3,  1>\n",
    "position=< 20349, -50260> velocity=<-2,  5>\n",
    "position=< 40505, -40169> velocity=<-4,  4>\n",
    "position=< 30444,  50599> velocity=<-3, -5>\n",
    "position=< 40549, -50259> velocity=<-4,  5>\n",
    "```\n",
    "which means the minimum will be after roughly 10,000 seconds.\n",
    "\n",
    "(Note to self: revise `numpy`.)"
   ]
  },
  {
   "cell_type": "code",
   "execution_count": 1,
   "metadata": {},
   "outputs": [],
   "source": [
    "import parse\n",
    "import numpy as np\n",
    "from collections import namedtuple\n",
    "\n",
    "\n",
    "Point = namedtuple('Point', 'x y')\n",
    "\n",
    "\n",
    "def add_points(p1, p2):\n",
    "    return Point(p1.x + p2.x, p1.y + p2.y)\n",
    "\n",
    "\n",
    "def scalar_mult(p, n):\n",
    "    return Point(p.x * n, p.y * n)\n",
    "\n",
    "\n",
    "def parse_sky(sky):\n",
    "    points = []\n",
    "    velocity = []\n",
    "    \n",
    "    p = parse.compile('position=<{:>d},{:>d}> velocity=<{:>d},{:>d}>')\n",
    "    \n",
    "    for star in sky:\n",
    "        x, y, dx, dy = p.parse(star).fixed\n",
    "        points.append(Point(x, y))\n",
    "        velocity.append(Point(dx, dy))\n",
    "        \n",
    "    return(points, velocity)"
   ]
  },
  {
   "cell_type": "markdown",
   "metadata": {},
   "source": [
    "Read in the data."
   ]
  },
  {
   "cell_type": "code",
   "execution_count": 2,
   "metadata": {},
   "outputs": [],
   "source": [
    "test_p, test_v = parse_sky('''position=< 9,  1> velocity=< 0,  2>\n",
    "position=< 7,  0> velocity=<-1,  0>\n",
    "position=< 3, -2> velocity=<-1,  1>\n",
    "position=< 6, 10> velocity=<-2, -1>\n",
    "position=< 2, -4> velocity=< 2,  2>\n",
    "position=<-6, 10> velocity=< 2, -2>\n",
    "position=< 1,  8> velocity=< 1, -1>\n",
    "position=< 1,  7> velocity=< 1,  0>\n",
    "position=<-3, 11> velocity=< 1, -2>\n",
    "position=< 7,  6> velocity=<-1, -1>\n",
    "position=<-2,  3> velocity=< 1,  0>\n",
    "position=<-4,  3> velocity=< 2,  0>\n",
    "position=<10, -3> velocity=<-1,  1>\n",
    "position=< 5, 11> velocity=< 1, -2>\n",
    "position=< 4,  7> velocity=< 0, -1>\n",
    "position=< 8, -2> velocity=< 0,  1>\n",
    "position=<15,  0> velocity=<-2,  0>\n",
    "position=< 1,  6> velocity=< 1,  0>\n",
    "position=< 8,  9> velocity=< 0, -1>\n",
    "position=< 3,  3> velocity=<-1,  1>\n",
    "position=< 0,  5> velocity=< 0, -1>\n",
    "position=<-2,  2> velocity=< 2,  0>\n",
    "position=< 5, -2> velocity=< 1,  2>\n",
    "position=< 1,  4> velocity=< 2,  1>\n",
    "position=<-2,  7> velocity=< 2, -2>\n",
    "position=< 3,  6> velocity=<-1, -1>\n",
    "position=< 5,  0> velocity=< 1,  0>\n",
    "position=<-6,  0> velocity=< 2,  0>\n",
    "position=< 5,  9> velocity=< 1, -2>\n",
    "position=<14,  7> velocity=<-2,  0>\n",
    "position=<-3,  6> velocity=< 2, -1>'''.splitlines())\n",
    "\n",
    "positions, velocity = parse_sky(open('input', 'r'))"
   ]
  },
  {
   "cell_type": "markdown",
   "metadata": {},
   "source": [
    "Define some useful functions and check the test data."
   ]
  },
  {
   "cell_type": "code",
   "execution_count": 3,
   "metadata": {},
   "outputs": [
    {
     "name": "stdout",
     "output_type": "stream",
     "text": [
      "#...#..###\n",
      "#...#...#.\n",
      "#...#...#.\n",
      "#####...#.\n",
      "#...#...#.\n",
      "#...#...#.\n",
      "#...#...#.\n",
      "#...#..###\n",
      "\n"
     ]
    }
   ],
   "source": [
    "def grid(ps):\n",
    "    min_x = min(p.x for p in ps)\n",
    "    max_x = max(p.x for p in ps)\n",
    "    min_y = min(p.y for p in ps)\n",
    "    max_y = max(p.y for p in ps)\n",
    "    \n",
    "    return (min_x, max_x, min_y, max_y)\n",
    "\n",
    "\n",
    "def grid_size(ps):\n",
    "    min_x, max_x, min_y, max_y = grid(ps)\n",
    "    \n",
    "    return (max_x - min_x) * (max_y - min_y)\n",
    "\n",
    "\n",
    "def grid_output(ps):\n",
    "    min_x, max_x, min_y, max_y = grid(ps)\n",
    "    \n",
    "    output = ''\n",
    "    for y in range(min_y, max_y + 1):\n",
    "        for x in range(min_x, max_x + 1):\n",
    "            if Point(x, y) in ps:\n",
    "                output += '#'\n",
    "            else:\n",
    "                output += '.'\n",
    "        output += '\\n'\n",
    "            \n",
    "    return output\n",
    "\n",
    "\n",
    "def after_n_seconds(ps, vs, n):\n",
    "    return [add_points(p, scalar_mult(v, n))\n",
    "            for p, v in zip(ps, vs)]\n",
    "\n",
    "\n",
    "print(grid_output(after_n_seconds(test_p, test_v, 3)))"
   ]
  },
  {
   "cell_type": "markdown",
   "metadata": {},
   "source": [
    "Find the time with the minimum grid size with brute force (this is where I might regret not using numpy)."
   ]
  },
  {
   "cell_type": "code",
   "execution_count": 4,
   "metadata": {},
   "outputs": [
    {
     "name": "stdout",
     "output_type": "stream",
     "text": [
      "CPU times: user 1.75 s, sys: 9.44 ms, total: 1.76 s\n",
      "Wall time: 1.77 s\n"
     ]
    },
    {
     "data": {
      "text/plain": [
       "10086"
      ]
     },
     "execution_count": 4,
     "metadata": {},
     "output_type": "execute_result"
    }
   ],
   "source": [
    "%time min(range(9000, 11000), key=lambda n: grid_size(after_n_seconds(positions, velocity, n)))"
   ]
  },
  {
   "cell_type": "markdown",
   "metadata": {},
   "source": [
    "That's not too bad. Is that when the message appears?"
   ]
  },
  {
   "cell_type": "code",
   "execution_count": 5,
   "metadata": {},
   "outputs": [
    {
     "name": "stdout",
     "output_type": "stream",
     "text": [
      ".####...######....##....#....#..######..#....#..#....#.....###\n",
      "#....#..#........#..#...##...#..#.......#....#..#...#.......#.\n",
      "#.......#.......#....#..##...#..#.......#....#..#..#........#.\n",
      "#.......#.......#....#..#.#..#..#.......#....#..#.#.........#.\n",
      "#.......#####...#....#..#.#..#..#####...######..##..........#.\n",
      "#..###..#.......######..#..#.#..#.......#....#..##..........#.\n",
      "#....#..#.......#....#..#..#.#..#.......#....#..#.#.........#.\n",
      "#....#..#.......#....#..#...##..#.......#....#..#..#....#...#.\n",
      "#...##..#.......#....#..#...##..#.......#....#..#...#...#...#.\n",
      ".###.#..#.......#....#..#....#..######..#....#..#....#...###..\n",
      "\n"
     ]
    }
   ],
   "source": [
    "print(grid_output(after_n_seconds(positions, velocity, 10086)))"
   ]
  },
  {
   "cell_type": "markdown",
   "metadata": {},
   "source": [
    "It is.\n",
    "\n",
    "### Part 2\n",
    "\n",
    "Hurrah! Already done."
   ]
  },
  {
   "cell_type": "code",
   "execution_count": null,
   "metadata": {},
   "outputs": [],
   "source": []
  }
 ],
 "metadata": {
  "kernelspec": {
   "display_name": "Python 3",
   "language": "python",
   "name": "python3"
  },
  "language_info": {
   "codemirror_mode": {
    "name": "ipython",
    "version": 3
   },
   "file_extension": ".py",
   "mimetype": "text/x-python",
   "name": "python",
   "nbconvert_exporter": "python",
   "pygments_lexer": "ipython3",
   "version": "3.7.1"
  }
 },
 "nbformat": 4,
 "nbformat_minor": 2
}
