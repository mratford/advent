{
 "cells": [
  {
   "cell_type": "markdown",
   "metadata": {},
   "source": [
    "## Day 17: Reservoir Research\n",
    "\n",
    "https://adventofcode.com/2018/day/17\n",
    "\n",
    "### Part 1\n",
    "\n",
    "This looks potentially frustrating.\n",
    "\n",
    "I can't think of a clever approach so let's try following the instructions. Represent the reservoir as a `defaultdict`, with coordinates as keys, `'#'` as clay, `'|'` as flowing water, `'~'` as settled water and `'.'` as sand, the default.\n",
    "\n",
    "Maintain a list of flowing water to process. While the list exists take a square of flowing water.\n",
    "\n",
    "If the square below the flowing water is empty, if it is within the reservoir bounds mark the square as flowing water and add it to the stack. \n",
    "\n",
    "If the square below the flowing water is flowing water, do nothing.\n",
    "\n",
    "If the square below the flowing water is settled water or clay, then it gets complicated. Go left and right while the squares are empty and the squares below are settled water or clay. If both left and right hit clay before being unsupported, set all the squares between left and right to settled water and add the square above the original square to the processing list. Otherwise set all the squares between left and right to flowing; set whichever ends don't hit clay to the processing list.\n",
    "\n",
    "When the processing list is empty count the number of squares assigned to water.\n",
    "\n",
    "\n",
    "I'll follow standard Advent of Code software engineering procedure and write one massive function and debug with `print` statements.\n",
    "\n",
    "First parse the input."
   ]
  },
  {
   "cell_type": "code",
   "execution_count": 1,
   "metadata": {},
   "outputs": [],
   "source": [
    "from parse import parse\n",
    "from collections import defaultdict\n",
    "\n",
    "\n",
    "def parse_reservoir(input):\n",
    "    reservoir = defaultdict(lambda: '.')\n",
    "    \n",
    "    for line in input:\n",
    "        variable, a, _, b1, b2 = parse('{}={:d}, {}={:d}..{:d}', line).fixed\n",
    "        \n",
    "        if variable == 'x':\n",
    "            for y in range(b1, b2 + 1):\n",
    "                reservoir[(a, y)] = '#'\n",
    "        else: \n",
    "            for x in range(b1, b2 + 1):\n",
    "                reservoir[(x, a)] = '#'\n",
    "                \n",
    "    return reservoir\n",
    "\n",
    "\n",
    "def print_reservoir(reservoir):\n",
    "    xs, ys = zip(*reservoir)\n",
    "    \n",
    "    for y in range(min(ys), max(ys) + 1):\n",
    "        line = ''\n",
    "        \n",
    "        for x in range(min(xs), max(xs) + 1):\n",
    "            line = line + reservoir[(x, y)]\n",
    "            \n",
    "        print(line)\n"
   ]
  },
  {
   "cell_type": "code",
   "execution_count": 2,
   "metadata": {},
   "outputs": [
    {
     "name": "stdout",
     "output_type": "stream",
     "text": [
      "...........#\n",
      "#..#.......#\n",
      "#..#..#.....\n",
      "#..#..#.....\n",
      "#.....#.....\n",
      "#.....#.....\n",
      "#######.....\n",
      "............\n",
      "............\n",
      "...#.....#..\n",
      "...#.....#..\n",
      "...#.....#..\n",
      "...#######..\n"
     ]
    }
   ],
   "source": [
    "test_input = '''x=495, y=2..7\n",
    "y=7, x=495..501\n",
    "x=501, y=3..7\n",
    "x=498, y=2..4\n",
    "x=506, y=1..2\n",
    "x=498, y=10..13\n",
    "x=504, y=10..13\n",
    "y=13, x=498..504'''.splitlines()\n",
    "        \n",
    "test_reservoir = parse_reservoir(test_input)\n",
    "\n",
    "print_reservoir(test_reservoir)"
   ]
  },
  {
   "cell_type": "code",
   "execution_count": 34,
   "metadata": {
    "collapsed": true
   },
   "outputs": [],
   "source": [
    "from itertools import count\n",
    "from copy import deepcopy\n",
    "\n",
    "\n",
    "def flow(reservoir):\n",
    "    reservoir = deepcopy(reservoir)\n",
    "    \n",
    "    min_y = min(y for _, y in reservoir)\n",
    "    max_y = max(y for _, y in reservoir)\n",
    "    \n",
    "    reservoir[(500, min_y)] = '|'\n",
    "    processing = [(500, min_y)]\n",
    "    \n",
    "    while processing:\n",
    "        x, y = processing.pop()\n",
    "        \n",
    "        if y + 1 <= max_y and y >= min_y:  \n",
    "            # If there's nothing below, go down\n",
    "            if reservoir[(x, y + 1)] == '.':\n",
    "                reservoir[(x, y + 1)] = '|'\n",
    "                processing.append((x, y + 1))\n",
    "                \n",
    "            # Otherwise flow left and right\n",
    "            elif reservoir[(x, y + 1)] in '~#':\n",
    "                # Go left until unsupported or hit clay\n",
    "                left = next(a for a in count(x - 1, -1)\n",
    "                            if reservoir[(a, y)] == '#' \n",
    "                            or reservoir[(a, y + 1)] not in '~#')\n",
    "                \n",
    "                # Ditto for right\n",
    "                right = next(a for a in count(x + 1)\n",
    "                            if reservoir[(a, y)] == '#' \n",
    "                             or reservoir[(a, y + 1)] not in '~#')\n",
    "\n",
    "                # If clay either side then the water is settled\n",
    "                if reservoir[(left, y)] == '#' and reservoir[(right, y)] == '#':\n",
    "                    for a in range(left + 1, right):\n",
    "                        reservoir[(a, y)] = '~'                        \n",
    "                    processing.append((x, y - 1))\n",
    "                    \n",
    "                # Otherwise water flows to the sides and drops down\n",
    "                # if there isn't a clay wall\n",
    "                else:\n",
    "                    for a in range(left + 1, right):\n",
    "                        reservoir[(a, y)] = '|'\n",
    "\n",
    "                    if reservoir[(left, y)] == '.':\n",
    "                        reservoir[(left, y)] = '|'\n",
    "                        processing.append((left, y))\n",
    "\n",
    "                    if reservoir[(right, y)] == '.':\n",
    "                        reservoir[(right, y)] = '|'\n",
    "                        processing.append((right, y))\n",
    "                    \n",
    "    return reservoir"
   ]
  },
  {
   "cell_type": "code",
   "execution_count": 35,
   "metadata": {},
   "outputs": [
    {
     "name": "stdout",
     "output_type": "stream",
     "text": [
      ".....|.....#\n",
      "#..#||||...#\n",
      "#..#~~#|....\n",
      "#..#~~#|....\n",
      "#~~~~~#|....\n",
      "#~~~~~#|....\n",
      "#######|....\n",
      ".......|....\n",
      "..|||||||||.\n",
      "..|#~~~~~#|.\n",
      "..|#~~~~~#|.\n",
      "..|#~~~~~#|.\n",
      "..|#######|.\n"
     ]
    }
   ],
   "source": [
    "print_reservoir(flow(test_reservoir))"
   ]
  },
  {
   "cell_type": "markdown",
   "metadata": {},
   "source": [
    "That actually looks right."
   ]
  },
  {
   "cell_type": "code",
   "execution_count": 36,
   "metadata": {},
   "outputs": [],
   "source": [
    "def count_water(reservoir):\n",
    "    return sum(1 if x in '~|' else 0 for x in reservoir.values())\n",
    "\n",
    "assert count_water(flow(test_reservoir)) == 57"
   ]
  },
  {
   "cell_type": "code",
   "execution_count": 37,
   "metadata": {},
   "outputs": [
    {
     "name": "stdout",
     "output_type": "stream",
     "text": [
      "CPU times: user 280 ms, sys: 0 ns, total: 280 ms\n",
      "Wall time: 280 ms\n"
     ]
    },
    {
     "data": {
      "text/plain": [
       "27331"
      ]
     },
     "execution_count": 37,
     "metadata": {},
     "output_type": "execute_result"
    }
   ],
   "source": [
    "reservoir = parse_reservoir(open('input', 'r'))\n",
    "\n",
    "%time count_water(flow(reservoir))"
   ]
  },
  {
   "cell_type": "markdown",
   "metadata": {},
   "source": [
    "That was surprisingly painless.\n",
    "\n",
    "### Part 2\n",
    "\n",
    "Only a minor change needed here."
   ]
  },
  {
   "cell_type": "code",
   "execution_count": 41,
   "metadata": {},
   "outputs": [],
   "source": [
    "def count_settled_water(reservoir):\n",
    "    return sum(1 if x == '~' else 0 for x in reservoir.values())\n",
    "\n",
    "assert count_settled_water(flow(test_reservoir)) == 29"
   ]
  },
  {
   "cell_type": "code",
   "execution_count": 42,
   "metadata": {},
   "outputs": [
    {
     "data": {
      "text/plain": [
       "22245"
      ]
     },
     "execution_count": 42,
     "metadata": {},
     "output_type": "execute_result"
    }
   ],
   "source": [
    "count_settled_water(flow(reservoir))"
   ]
  },
  {
   "cell_type": "code",
   "execution_count": null,
   "metadata": {
    "collapsed": true
   },
   "outputs": [],
   "source": []
  }
 ],
 "metadata": {
  "kernelspec": {
   "display_name": "Python 3",
   "language": "python",
   "name": "python3"
  },
  "language_info": {
   "codemirror_mode": {
    "name": "ipython",
    "version": 3
   },
   "file_extension": ".py",
   "mimetype": "text/x-python",
   "name": "python",
   "nbconvert_exporter": "python",
   "pygments_lexer": "ipython3",
   "version": "3.6.1"
  }
 },
 "nbformat": 4,
 "nbformat_minor": 2
}
