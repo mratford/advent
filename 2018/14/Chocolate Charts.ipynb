{
 "cells": [
  {
   "cell_type": "markdown",
   "metadata": {},
   "source": [
    "## Day 14: Chocolate Charts\n",
    "\n",
    "https://adventofcode.com/2018/day/14\n",
    "\n",
    "### Part 1\n",
    "\n",
    "The hardest part of this is understanding the question."
   ]
  },
  {
   "cell_type": "code",
   "execution_count": 1,
   "metadata": {
    "collapsed": true
   },
   "outputs": [],
   "source": [
    "import array\n",
    "\n",
    "\n",
    "def answer(n_recipes):\n",
    "    scores = array.array('i', [3,7])\n",
    "    elf_1 = 0\n",
    "    elf_2 = 1\n",
    "    \n",
    "    while len(scores) < n_recipes + 10:\n",
    "        sum_scores = scores[elf_1] + scores[elf_2]\n",
    "        \n",
    "        if sum_scores >= 10:\n",
    "            scores.append(1)\n",
    "            scores.append(sum_scores - 10)\n",
    "        else:\n",
    "            scores.append(sum_scores)\n",
    "\n",
    "        elf_1 = (elf_1 + 1 + scores[elf_1]) % len(scores)\n",
    "        elf_2 = (elf_2 + 1 + scores[elf_2]) % len(scores)\n",
    "        \n",
    "    return ''.join(str(x) for x in scores[n_recipes:n_recipes + 10])"
   ]
  },
  {
   "cell_type": "code",
   "execution_count": 2,
   "metadata": {},
   "outputs": [
    {
     "data": {
      "text/plain": [
       "('0124515891', '1589167792', '5941429882')"
      ]
     },
     "execution_count": 2,
     "metadata": {},
     "output_type": "execute_result"
    }
   ],
   "source": [
    "answer(5), answer(10), answer(2018)"
   ]
  },
  {
   "cell_type": "code",
   "execution_count": 3,
   "metadata": {},
   "outputs": [
    {
     "data": {
      "text/plain": [
       "'8610321414'"
      ]
     },
     "execution_count": 3,
     "metadata": {},
     "output_type": "execute_result"
    }
   ],
   "source": [
    "answer(607331)"
   ]
  },
  {
   "cell_type": "markdown",
   "metadata": {},
   "source": [
    "### Part 2\n",
    "\n",
    "Change the production of scores to a generator and check for the subsequence. "
   ]
  },
  {
   "cell_type": "code",
   "execution_count": 4,
   "metadata": {},
   "outputs": [],
   "source": [
    "from collections import deque\n",
    "from itertools import islice\n",
    "\n",
    "\n",
    "def gen_scores():\n",
    "    scores = array.array('i', [3,7])\n",
    "    yield 3\n",
    "    yield 7\n",
    "    elf_1 = 0\n",
    "    elf_2 = 1\n",
    "    \n",
    "    while True:\n",
    "        sum_scores = scores[elf_1] + scores[elf_2]\n",
    "        \n",
    "        if sum_scores >= 10:\n",
    "            scores.append(1)\n",
    "            yield 1\n",
    "            scores.append(sum_scores - 10)\n",
    "            yield sum_scores - 10\n",
    "        else:\n",
    "            scores.append(sum_scores)\n",
    "            yield sum_scores\n",
    "\n",
    "        elf_1 = (elf_1 + 1 + scores[elf_1]) % len(scores)\n",
    "        elf_2 = (elf_2 + 1 + scores[elf_2]) % len(scores)\n",
    "        \n",
    "        \n",
    "def answer_2(score_seq_string):\n",
    "    score_seq = deque([int(c) for c in score_seq_string])\n",
    "    n = len(score_seq)\n",
    "    \n",
    "    scores = gen_scores()\n",
    "    \n",
    "    last_n = deque(islice(scores, n))\n",
    "    n_previous_recipes = 0\n",
    "    \n",
    "    while last_n != score_seq:\n",
    "        last_n.popleft()\n",
    "        last_n.append(next(scores))\n",
    "        n_previous_recipes += 1\n",
    "        \n",
    "    return n_previous_recipes\n",
    "    \n"
   ]
  },
  {
   "cell_type": "code",
   "execution_count": 5,
   "metadata": {},
   "outputs": [
    {
     "data": {
      "text/plain": [
       "(9, 2018)"
      ]
     },
     "execution_count": 5,
     "metadata": {},
     "output_type": "execute_result"
    }
   ],
   "source": [
    "answer_2('51589'), answer_2('59414')"
   ]
  },
  {
   "cell_type": "code",
   "execution_count": 6,
   "metadata": {},
   "outputs": [
    {
     "name": "stdout",
     "output_type": "stream",
     "text": [
      "CPU times: user 30.5 s, sys: 43.8 ms, total: 30.5 s\n",
      "Wall time: 30.5 s\n"
     ]
    },
    {
     "data": {
      "text/plain": [
       "20258123"
      ]
     },
     "execution_count": 6,
     "metadata": {},
     "output_type": "execute_result"
    }
   ],
   "source": [
    "%time answer_2('607331')"
   ]
  },
  {
   "cell_type": "markdown",
   "metadata": {},
   "source": [
    "Slow but it will do for now."
   ]
  },
  {
   "cell_type": "code",
   "execution_count": null,
   "metadata": {
    "collapsed": true
   },
   "outputs": [],
   "source": []
  }
 ],
 "metadata": {
  "kernelspec": {
   "display_name": "Python 3",
   "language": "python",
   "name": "python3"
  },
  "language_info": {
   "codemirror_mode": {
    "name": "ipython",
    "version": 3
   },
   "file_extension": ".py",
   "mimetype": "text/x-python",
   "name": "python",
   "nbconvert_exporter": "python",
   "pygments_lexer": "ipython3",
   "version": "3.6.1"
  }
 },
 "nbformat": 4,
 "nbformat_minor": 2
}
