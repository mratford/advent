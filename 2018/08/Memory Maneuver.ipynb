{
 "cells": [
  {
   "cell_type": "markdown",
   "metadata": {},
   "source": [
    "## Day 8: Memory Maneuver\n",
    "\n",
    "https://adventofcode.com/2018/day/8\n",
    "\n",
    "### Part 1\n",
    "\n",
    "Maintain a stack of nodes so that the top of the stack contains the number of children to be processed and the size of the metadata. (A much shorter recursive version hit the recursion limit.)"
   ]
  },
  {
   "cell_type": "code",
   "execution_count": 1,
   "metadata": {},
   "outputs": [],
   "source": [
    "import itertools\n",
    "\n",
    "\n",
    "def sum_metadata(license):\n",
    "    # Use an iterable as we're taking each field one at a time\n",
    "    license_iter = iter(license)\n",
    "    parent_stack = [(next(license_iter), next(license_iter))]\n",
    "    sum = 0\n",
    "    \n",
    "    while parent_stack:\n",
    "        children, metadata = parent_stack.pop()\n",
    "\n",
    "        # Have we processed the children?\n",
    "        if children == 0:\n",
    "            for m in range(metadata):\n",
    "                sum += next(license_iter)\n",
    "        else:\n",
    "            parent_stack.append((children - 1, metadata))\n",
    "            parent_stack.append((next(license_iter), next(license_iter)))\n",
    "                \n",
    "    return sum"
   ]
  },
  {
   "cell_type": "code",
   "execution_count": 2,
   "metadata": {},
   "outputs": [
    {
     "data": {
      "text/plain": [
       "138"
      ]
     },
     "execution_count": 2,
     "metadata": {},
     "output_type": "execute_result"
    }
   ],
   "source": [
    "def parse_input(s):\n",
    "    return [int(x) for x in s.split()]\n",
    "\n",
    "test_license = parse_input('2 3 0 3 10 11 12 1 1 0 1 99 2 1 1 2')\n",
    "sum_metadata(test_license)"
   ]
  },
  {
   "cell_type": "code",
   "execution_count": 3,
   "metadata": {},
   "outputs": [
    {
     "data": {
      "text/plain": [
       "35852"
      ]
     },
     "execution_count": 3,
     "metadata": {},
     "output_type": "execute_result"
    }
   ],
   "source": [
    "license = parse_input(open('input', 'r').read())\n",
    "sum_metadata(license)"
   ]
  },
  {
   "cell_type": "markdown",
   "metadata": {},
   "source": [
    "### Part 2 \n",
    "\n"
   ]
  },
  {
   "cell_type": "code",
   "execution_count": null,
   "metadata": {
    "collapsed": true
   },
   "outputs": [],
   "source": []
  }
 ],
 "metadata": {
  "kernelspec": {
   "display_name": "Python 3",
   "language": "python",
   "name": "python3"
  },
  "language_info": {
   "codemirror_mode": {
    "name": "ipython",
    "version": 3
   },
   "file_extension": ".py",
   "mimetype": "text/x-python",
   "name": "python",
   "nbconvert_exporter": "python",
   "pygments_lexer": "ipython3",
   "version": "3.6.1"
  }
 },
 "nbformat": 4,
 "nbformat_minor": 2
}
