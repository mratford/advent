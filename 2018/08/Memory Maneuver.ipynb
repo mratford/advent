{
 "cells": [
  {
   "cell_type": "markdown",
   "metadata": {},
   "source": [
    "## Day 8: Memory Maneuver\n",
    "\n",
    "https://adventofcode.com/2018/day/8\n",
    "\n",
    "### Part 1\n",
    "\n",
    "Maintain a stack of nodes so that the top of the stack contains the number of children to be processed and the size of the metadata. (A much shorter recursive version hit the recursion limit. **Update** The reddit solutions thread has loads of recursive solutions so mine most likely had a bug.)"
   ]
  },
  {
   "cell_type": "code",
   "execution_count": 1,
   "metadata": {},
   "outputs": [],
   "source": [
    "import itertools\n",
    "\n",
    "\n",
    "def sum_metadata(license):\n",
    "    # Use an iterable as we're taking each field one at a time\n",
    "    license_iter = iter(license)\n",
    "    # Add the number of children and size of metadata of the top node\n",
    "    parent_stack = [(next(license_iter), next(license_iter))]\n",
    "    sum = 0\n",
    "    \n",
    "    while parent_stack:\n",
    "        children, metadata = parent_stack.pop()\n",
    "\n",
    "        # Have we processed the children?\n",
    "        if children == 0:\n",
    "            # If so add the metadata to the result\n",
    "            for _ in range(metadata):\n",
    "                sum += next(license_iter)\n",
    "        else:\n",
    "            # Otherwise return the parent to the stack and add the next child\n",
    "            parent_stack.append((children - 1, metadata))\n",
    "            parent_stack.append((next(license_iter), next(license_iter)))\n",
    "                \n",
    "    return sum"
   ]
  },
  {
   "cell_type": "code",
   "execution_count": 2,
   "metadata": {},
   "outputs": [
    {
     "data": {
      "text/plain": [
       "138"
      ]
     },
     "execution_count": 2,
     "metadata": {},
     "output_type": "execute_result"
    }
   ],
   "source": [
    "def parse_input(s):\n",
    "    return [int(x) for x in s.split()]\n",
    "\n",
    "test_license = parse_input('2 3 0 3 10 11 12 1 1 0 1 99 2 1 1 2')\n",
    "sum_metadata(test_license)"
   ]
  },
  {
   "cell_type": "code",
   "execution_count": 3,
   "metadata": {},
   "outputs": [
    {
     "data": {
      "text/plain": [
       "35852"
      ]
     },
     "execution_count": 3,
     "metadata": {},
     "output_type": "execute_result"
    }
   ],
   "source": [
    "license = parse_input(open('input', 'r').read())\n",
    "sum_metadata(license)"
   ]
  },
  {
   "cell_type": "markdown",
   "metadata": {},
   "source": [
    "### Part 2 \n",
    "\n",
    "Copy the previous answer but also maintain a list of the children's values at each node."
   ]
  },
  {
   "cell_type": "code",
   "execution_count": 4,
   "metadata": {},
   "outputs": [],
   "source": [
    "def node_value(license):\n",
    "    license_iter = iter(license)\n",
    "   \n",
    "    children, metadata = next(license_iter), next(license_iter)\n",
    "    # Just in case the top node doesn't have children\n",
    "    if children == 0:\n",
    "        return sum(next(license_iter) for i in range(metadata))\n",
    "    parent_stack = [(children, metadata, [])]\n",
    "    \n",
    "    while parent_stack:\n",
    "        \n",
    "        children, metadata, child_values = parent_stack.pop()\n",
    "\n",
    "        # Have we processed the children?\n",
    "        if children == 0:\n",
    "            value = 0\n",
    "            \n",
    "            # Sum the values of the children specified\n",
    "            # in the metadata to get the value\n",
    "            for _ in range(metadata):\n",
    "                child_index = next(license_iter) - 1\n",
    "                \n",
    "                if 0 <= child_index < len(child_values):\n",
    "                    value += child_values[child_index]\n",
    "                    \n",
    "            # Is this the top node? If so return it's value   \n",
    "            if not parent_stack:\n",
    "                return value\n",
    "            # otherwise add the value to the parent's list of\n",
    "            # children's values\n",
    "            parent_stack[-1][2].append(value)\n",
    "                \n",
    "        else:\n",
    "            # A new child is processed so put the parent back \n",
    "            # maintaining count of children yet to process\n",
    "            parent_stack.append((children - 1, metadata, child_values))\n",
    "            \n",
    "            children, metadata = next(license_iter), next(license_iter)\n",
    "            \n",
    "            # If this child has no children of it's own...\n",
    "            if children == 0:\n",
    "                # ... then add the sum of the metadata to the parent's list\n",
    "                # of children's values\n",
    "                parent_stack[-1][2].append(sum(next(license_iter) \n",
    "                                               for m in range(metadata)))\n",
    "            else: \n",
    "                # ... otherwise the child is a parent\n",
    "                parent_stack.append((children, metadata, []))"
   ]
  },
  {
   "cell_type": "code",
   "execution_count": 5,
   "metadata": {},
   "outputs": [],
   "source": [
    "assert node_value(test_license) == 66"
   ]
  },
  {
   "cell_type": "code",
   "execution_count": 6,
   "metadata": {},
   "outputs": [
    {
     "data": {
      "text/plain": [
       "33422"
      ]
     },
     "execution_count": 6,
     "metadata": {},
     "output_type": "execute_result"
    }
   ],
   "source": [
    "node_value(license)"
   ]
  },
  {
   "cell_type": "markdown",
   "metadata": {},
   "source": [
    "I suspect Haskell would be a good choice here for someone who hasn't forgotten how to use it."
   ]
  },
  {
   "cell_type": "code",
   "execution_count": null,
   "metadata": {},
   "outputs": [],
   "source": []
  }
 ],
 "metadata": {
  "kernelspec": {
   "display_name": "Python [default]",
   "language": "python",
   "name": "python3"
  },
  "language_info": {
   "codemirror_mode": {
    "name": "ipython",
    "version": 3
   },
   "file_extension": ".py",
   "mimetype": "text/x-python",
   "name": "python",
   "nbconvert_exporter": "python",
   "pygments_lexer": "ipython3",
   "version": "3.6.4"
  }
 },
 "nbformat": 4,
 "nbformat_minor": 2
}
