{
 "cells": [
  {
   "cell_type": "markdown",
   "metadata": {},
   "source": [
    "## Day 12: Subterranean Sustainability\n",
    "\n",
    "https://adventofcode.com/2018/day/12\n",
    "\n",
    "### Part 1\n",
    "\n",
    "Represent the rules as a set. Members of the set are a set of offsets to the index of the current plan that indicate a plant will grow in the next generation. Each generation is represented by a set of indices to pots containing plants. "
   ]
  },
  {
   "cell_type": "code",
   "execution_count": 1,
   "metadata": {},
   "outputs": [],
   "source": [
    "from parse import parse\n",
    "\n",
    "\n",
    "def parse_pots(pots_data):\n",
    "    pots_string = parse('initial state: {pots}', pots_data)['pots']\n",
    "    return {i for i, x in enumerate(pots_string) if x == '#'}\n",
    "    \n",
    "\n",
    "def parse_rules(rules_data):    \n",
    "    rules = set([])\n",
    "    \n",
    "    for line in rules_data:\n",
    "        rule = parse('{state} => {outcome}', line)\n",
    "        \n",
    "        # If the outcome of a state is a plant then add\n",
    "        # the offsets to the index of the current plant\n",
    "        # that contain plants in that state\n",
    "        if rule['outcome'] == '#':\n",
    "            rules.add(frozenset(i - 2 \n",
    "                                for i, x in enumerate(rule['state']) \n",
    "                                if x == '#'))\n",
    "        \n",
    "    return rules\n",
    "\n",
    "\n",
    "def parse_input(data):\n",
    "    lines = [line.strip() for line in data.splitlines()]\n",
    "    return (parse_pots(lines[0]), parse_rules(lines[2:]))"
   ]
  },
  {
   "cell_type": "code",
   "execution_count": 2,
   "metadata": {},
   "outputs": [],
   "source": [
    "test_pots, test_rules = parse_input('''initial state: #..#.#..##......###...###\n",
    "\n",
    "...## => #\n",
    "..#.. => #\n",
    ".#... => #\n",
    ".#.#. => #\n",
    ".#.## => #\n",
    ".##.. => #\n",
    ".#### => #\n",
    "#.#.# => #\n",
    "#.### => #\n",
    "##.#. => #\n",
    "##.## => #\n",
    "###.. => #\n",
    "###.# => #\n",
    "####. => #''')"
   ]
  },
  {
   "cell_type": "code",
   "execution_count": 3,
   "metadata": {},
   "outputs": [
    {
     "data": {
      "text/plain": [
       "({0, 3, 5, 8, 9, 16, 17, 18, 22, 23, 24},\n",
       " {frozenset({-1, 1}),\n",
       "  frozenset({1, 2}),\n",
       "  frozenset({-1}),\n",
       "  frozenset({-1, 1, 2}),\n",
       "  frozenset({-2, -1, 1}),\n",
       "  frozenset({-2, -1, 1, 2}),\n",
       "  frozenset({0}),\n",
       "  frozenset({-1, 0, 1, 2}),\n",
       "  frozenset({-2, 0, 1, 2}),\n",
       "  frozenset({-1, 0}),\n",
       "  frozenset({-2, -1, 0}),\n",
       "  frozenset({-2, -1, 0, 2}),\n",
       "  frozenset({-2, -1, 0, 1}),\n",
       "  frozenset({-2, 0, 2})})"
      ]
     },
     "execution_count": 3,
     "metadata": {},
     "output_type": "execute_result"
    }
   ],
   "source": [
    "test_pots, test_rules"
   ]
  },
  {
   "cell_type": "code",
   "execution_count": 4,
   "metadata": {},
   "outputs": [],
   "source": [
    "def generation(rules, pots):\n",
    "    new_state = set([])\n",
    "    \n",
    "    # Need to consider pots two positions either side of current pots\n",
    "    for pot_i in range(min(pots) - 2, max(pots) + 3):\n",
    "        offsets = frozenset(i for i in range(-2, 3) if pot_i + i in pots)\n",
    "        if offsets in rules:\n",
    "            new_state.add(pot_i)\n",
    "            \n",
    "    return new_state\n",
    "\n",
    "\n",
    "def generations(rules, pots, n):\n",
    "    for _ in range(n):\n",
    "        pots = generation(rules, pots)\n",
    "    return pots\n",
    "\n",
    "\n",
    "def answer(rules, pots, n=20):\n",
    "    return sum(generations(rules, pots, n))"
   ]
  },
  {
   "cell_type": "code",
   "execution_count": 5,
   "metadata": {},
   "outputs": [
    {
     "data": {
      "text/plain": [
       "325"
      ]
     },
     "execution_count": 5,
     "metadata": {},
     "output_type": "execute_result"
    }
   ],
   "source": [
    "answer(test_rules, test_pots)"
   ]
  },
  {
   "cell_type": "code",
   "execution_count": 6,
   "metadata": {},
   "outputs": [
    {
     "data": {
      "text/plain": [
       "3472"
      ]
     },
     "execution_count": 6,
     "metadata": {},
     "output_type": "execute_result"
    }
   ],
   "source": [
    "pots, rules = parse_input(open('input', 'r').read())\n",
    "\n",
    "answer(rules, pots)"
   ]
  },
  {
   "cell_type": "markdown",
   "metadata": {},
   "source": [
    "### Part 2\n",
    "\n",
    "Hopefully this will loop."
   ]
  },
  {
   "cell_type": "code",
   "execution_count": 7,
   "metadata": {},
   "outputs": [],
   "source": [
    "from itertools import count\n",
    "\n",
    "\n",
    "def first_loop(rules, pots):\n",
    "    seen = {frozenset(pots): 0}\n",
    "    for i in count(1):\n",
    "        pots = frozenset(generation(rules, pots))\n",
    "        if pots in seen:\n",
    "            return (i, seen[pots])\n",
    "        seen[pots] = i\n",
    "        \n",
    "## Don't run this        \n",
    "# first_loop(rules, pots)"
   ]
  },
  {
   "cell_type": "markdown",
   "metadata": {},
   "source": [
    "It doesn't look like it, and it's chewing memory. Let's see if the pattern loops with an offset."
   ]
  },
  {
   "cell_type": "code",
   "execution_count": 8,
   "metadata": {},
   "outputs": [
    {
     "data": {
      "text/plain": [
       "'#..#.#..##......###...###'"
      ]
     },
     "execution_count": 8,
     "metadata": {},
     "output_type": "execute_result"
    }
   ],
   "source": [
    "def pots_string(pots):\n",
    "    return ''.join('#' if i in pots else '.' for i in range(min(pots), max(pots) + 1))\n",
    "    \n",
    "    \n",
    "pots_string(test_pots)"
   ]
  },
  {
   "cell_type": "code",
   "execution_count": 9,
   "metadata": {},
   "outputs": [],
   "source": [
    "def first_looped_pattern(rules, pots):\n",
    "    seen = { pots_string(pots): 0 }\n",
    "    for i in count(1):\n",
    "        pots = frozenset(generation(rules, pots))\n",
    "        s = pots_string(pots)\n",
    "        if s in seen:\n",
    "            return (pots, seen[s], i)\n",
    "        seen[s] = (pots, i)\n",
    "        \n",
    "        \n",
    "next_seen_pots, first_seen, next_seen_time = first_looped_pattern(rules, pots)\n",
    "first_seen_pots, first_seen_time = first_seen"
   ]
  },
  {
   "cell_type": "markdown",
   "metadata": {},
   "source": [
    "What's the offset?"
   ]
  },
  {
   "cell_type": "code",
   "execution_count": 10,
   "metadata": {},
   "outputs": [
    {
     "data": {
      "text/plain": [
       "(48, 49)"
      ]
     },
     "execution_count": 10,
     "metadata": {},
     "output_type": "execute_result"
    }
   ],
   "source": [
    "min(first_seen_pots), min(next_seen_pots) "
   ]
  },
  {
   "cell_type": "markdown",
   "metadata": {},
   "source": [
    "Just one. How long does it take to loop patterns?"
   ]
  },
  {
   "cell_type": "code",
   "execution_count": 11,
   "metadata": {},
   "outputs": [
    {
     "data": {
      "text/plain": [
       "(108, 109)"
      ]
     },
     "execution_count": 11,
     "metadata": {},
     "output_type": "execute_result"
    }
   ],
   "source": [
    "first_seen_time, next_seen_time"
   ]
  },
  {
   "cell_type": "markdown",
   "metadata": {},
   "source": [
    "Just one second, which means the pattern of plants is moving forward one second at a time."
   ]
  },
  {
   "cell_type": "code",
   "execution_count": 12,
   "metadata": {},
   "outputs": [],
   "source": [
    "fifty_billion = 50000000000\n",
    "\n",
    "fifty_billionth_pots = (pot + fifty_billion - 108 for pot in first_seen_pots)"
   ]
  },
  {
   "cell_type": "code",
   "execution_count": 13,
   "metadata": {},
   "outputs": [
    {
     "data": {
      "text/plain": [
       "2600000000919"
      ]
     },
     "execution_count": 13,
     "metadata": {},
     "output_type": "execute_result"
    }
   ],
   "source": [
    "sum(fifty_billionth_pots)"
   ]
  },
  {
   "cell_type": "code",
   "execution_count": null,
   "metadata": {},
   "outputs": [],
   "source": []
  }
 ],
 "metadata": {
  "kernelspec": {
   "display_name": "Python 3",
   "language": "python",
   "name": "python3"
  },
  "language_info": {
   "codemirror_mode": {
    "name": "ipython",
    "version": 3
   },
   "file_extension": ".py",
   "mimetype": "text/x-python",
   "name": "python",
   "nbconvert_exporter": "python",
   "pygments_lexer": "ipython3",
   "version": "3.7.1"
  }
 },
 "nbformat": 4,
 "nbformat_minor": 2
}
