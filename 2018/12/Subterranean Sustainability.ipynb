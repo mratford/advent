{
 "cells": [
  {
   "cell_type": "markdown",
   "metadata": {},
   "source": [
    "## Day 12: Subterranean Sustainability\n",
    "\n",
    "https://adventofcode.com/2018/day/12\n",
    "\n",
    "### Part 1\n",
    "\n",
    "Represent the rules as a set. Members of the set are a set of offsets to the index of the current plan that indicate a plant will grow in the next generation. Each generation is represented by a set of indices to pots containing plants. "
   ]
  },
  {
   "cell_type": "code",
   "execution_count": 1,
   "metadata": {},
   "outputs": [],
   "source": [
    "from parse import parse\n",
    "\n",
    "\n",
    "def parse_pots(pots_data):\n",
    "    pots_string = parse('initial state: {pots}', pots_data)['pots']\n",
    "    return {i for i, x in enumerate(pots_string) if x == '#'}\n",
    "    \n",
    "\n",
    "def parse_rules(rules_data):    \n",
    "    rules = set([])\n",
    "    \n",
    "    for line in rules_data:\n",
    "        rule = parse('{state} => {outcome}', line)\n",
    "        \n",
    "        # If the outcome of a state is a plant then add\n",
    "        # the offsets to the index of the current plant\n",
    "        # that contain plants in that state\n",
    "        if rule['outcome'] == '#':\n",
    "            rules.add(frozenset(i - 2 \n",
    "                                for i, x in enumerate(rule['state']) \n",
    "                                if x == '#'))\n",
    "        \n",
    "    return rules\n",
    "\n",
    "\n",
    "def parse_input(data):\n",
    "    lines = [line.strip() for line in data.splitlines()]\n",
    "    return (parse_pots(lines[0]), parse_rules(lines[2:]))"
   ]
  },
  {
   "cell_type": "code",
   "execution_count": 2,
   "metadata": {},
   "outputs": [],
   "source": [
    "test_pots, test_rules = parse_input('''initial state: #..#.#..##......###...###\n",
    "\n",
    "...## => #\n",
    "..#.. => #\n",
    ".#... => #\n",
    ".#.#. => #\n",
    ".#.## => #\n",
    ".##.. => #\n",
    ".#### => #\n",
    "#.#.# => #\n",
    "#.### => #\n",
    "##.#. => #\n",
    "##.## => #\n",
    "###.. => #\n",
    "###.# => #\n",
    "####. => #''')"
   ]
  },
  {
   "cell_type": "code",
   "execution_count": 3,
   "metadata": {},
   "outputs": [
    {
     "data": {
      "text/plain": [
       "({0, 3, 5, 8, 9, 16, 17, 18, 22, 23, 24},\n",
       " {frozenset({-1}),\n",
       "  frozenset({-2, -1, 1}),\n",
       "  frozenset({0}),\n",
       "  frozenset({-1, 0}),\n",
       "  frozenset({-2, -1, 0}),\n",
       "  frozenset({-2, -1, 0, 1}),\n",
       "  frozenset({1, 2}),\n",
       "  frozenset({-2, 0, 2}),\n",
       "  frozenset({-1, 1}),\n",
       "  frozenset({-1, 1, 2}),\n",
       "  frozenset({-1, 0, 1, 2}),\n",
       "  frozenset({-2, 0, 1, 2}),\n",
       "  frozenset({-2, -1, 0, 2}),\n",
       "  frozenset({-2, -1, 1, 2})})"
      ]
     },
     "execution_count": 3,
     "metadata": {},
     "output_type": "execute_result"
    }
   ],
   "source": [
    "test_pots, test_rules"
   ]
  },
  {
   "cell_type": "code",
   "execution_count": 4,
   "metadata": {
    "collapsed": true
   },
   "outputs": [],
   "source": [
    "def generation(rules, pots):\n",
    "    new_state = set([])\n",
    "    \n",
    "    # Need to consider pots two positions either side of current pots\n",
    "    for pot_i in range(min(pots) - 2, max(pots) + 3):\n",
    "        offsets = frozenset(i for i in range(-2, 3) if pot_i + i in pots)\n",
    "        if offsets in rules:\n",
    "            new_state.add(pot_i)\n",
    "            \n",
    "    return new_state\n",
    "\n",
    "\n",
    "def generations(rules, pots, n):\n",
    "    for _ in range(n):\n",
    "        pots = generation(rules, pots)\n",
    "    return pots\n",
    "\n",
    "\n",
    "def answer(rules, pots, n=20):\n",
    "    return sum(generations(rules, pots, n))"
   ]
  },
  {
   "cell_type": "code",
   "execution_count": 5,
   "metadata": {},
   "outputs": [
    {
     "data": {
      "text/plain": [
       "325"
      ]
     },
     "execution_count": 5,
     "metadata": {},
     "output_type": "execute_result"
    }
   ],
   "source": [
    "answer(test_rules, test_pots)"
   ]
  },
  {
   "cell_type": "code",
   "execution_count": 6,
   "metadata": {},
   "outputs": [
    {
     "data": {
      "text/plain": [
       "3472"
      ]
     },
     "execution_count": 6,
     "metadata": {},
     "output_type": "execute_result"
    }
   ],
   "source": [
    "pots, rules = parse_input(open('input', 'r').read())\n",
    "\n",
    "answer(rules, pots)"
   ]
  },
  {
   "cell_type": "markdown",
   "metadata": {},
   "source": [
    "### Part 2\n",
    "\n",
    "Hopefully this will loop."
   ]
  },
  {
   "cell_type": "code",
   "execution_count": 9,
   "metadata": {},
   "outputs": [],
   "source": [
    "from itertools import count\n",
    "\n",
    "\n",
    "def first_loop(rules, pots):\n",
    "    seen = {frozenset(pots): 0}\n",
    "    for i in count(1):\n",
    "        pots = frozenset(generation(rules, pots))\n",
    "        if pots in seen:\n",
    "            return (i, seen[pots])\n",
    "        seen[pots] = i\n",
    "        \n",
    "        \n",
    "# first_loop(rules, pots)"
   ]
  },
  {
   "cell_type": "markdown",
   "metadata": {},
   "source": [
    "It doesn't look like it, and it's chewing memory. I'"
   ]
  },
  {
   "cell_type": "code",
   "execution_count": null,
   "metadata": {
    "collapsed": true
   },
   "outputs": [],
   "source": []
  }
 ],
 "metadata": {
  "kernelspec": {
   "display_name": "Python 3",
   "language": "python",
   "name": "python3"
  },
  "language_info": {
   "codemirror_mode": {
    "name": "ipython",
    "version": 3
   },
   "file_extension": ".py",
   "mimetype": "text/x-python",
   "name": "python",
   "nbconvert_exporter": "python",
   "pygments_lexer": "ipython3",
   "version": "3.6.1"
  }
 },
 "nbformat": 4,
 "nbformat_minor": 2
}
