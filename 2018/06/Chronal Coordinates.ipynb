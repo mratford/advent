{
 "cells": [
  {
   "cell_type": "markdown",
   "metadata": {},
   "source": [
    "## Day 6: Chronal Coordinates\n",
    "\n",
    "https://adventofcode.com/2018/day/6\n",
    "\n",
    "### Part 1\n",
    "\n",
    "Let's do some data exploration first."
   ]
  },
  {
   "cell_type": "code",
   "execution_count": 1,
   "metadata": {},
   "outputs": [],
   "source": [
    "from parse import parse\n",
    "from collections import namedtuple, Counter\n",
    "import itertools\n",
    "\n",
    "Point = namedtuple('Point', 'x y')\n",
    "\n",
    "def parse_points(strings):\n",
    "    return [Point(*parse('{:d}, {:d}', s)) for s in strings]\n",
    "                  \n",
    "dangers = parse_points(open('input', 'r'))\n",
    "\n",
    "min_x = min(c.x for c in dangers)\n",
    "max_x = max(c.x for c in dangers)\n",
    "min_y = min(c.y for c in dangers)\n",
    "max_y = max(c.y for c in dangers)\n",
    "\n",
    "len(dangers), min_x, max_x, min_y, max_y"
   ]
  },
  {
   "cell_type": "markdown",
   "metadata": {},
   "source": [
    "That's fifty coordinates on an approximately 200 by 200 grid, which looks tractable to an unclever approach.\n",
    "\n",
    "For every point in the grid within the minimum and maximum bounds find the nearest neighbouring danger point. Any point on the edge of the grid will be part of an infinite area because \\[elegant proof omitted for lack of space\\], so these areas can be disregarded. All other areas are finitely bounded within the grid so count how many points are in each area and determine the maximum size.\n",
    "\n",
    "Define a function that produces all points a given Manhattan distance from a given point."
   ]
  },
  {
   "cell_type": "code",
   "execution_count": 2,
   "metadata": {},
   "outputs": [],
   "source": [
    "def manhattan_circle(centre, distance):\n",
    "    for dx in range(-distance, distance + 1):\n",
    "        for dy in set((distance - abs(dx), abs(dx) - distance)):\n",
    "            yield Point(centre.x + dx, centre.y + dy)\n",
    "            \n",
    "for d in range(3):\n",
    "    print(list(manhattan_circle(Point(0, 0), d))) \n",
    "print(list(manhattan_circle(Point(5, -10), 2)))"
   ]
  },
  {
   "cell_type": "code",
   "execution_count": 3,
   "metadata": {},
   "outputs": [],
   "source": [
    "def biggest_area(points):\n",
    "    # Will be searching the coordinates a lot so use a hashed set\n",
    "    dangers = set(points)\n",
    "    \n",
    "    min_x = min(c.x for c in dangers)\n",
    "    max_x = max(c.x for c in dangers)\n",
    "    min_y = min(c.y for c in dangers)\n",
    "    max_y = max(c.y for c in dangers)\n",
    "    \n",
    "    # Generate boundary of grid\n",
    "    def boundary():\n",
    "        for x in range(min_x, max_x + 1):\n",
    "            yield Point(x, min_y)\n",
    "            yield Point(x, max_y)\n",
    "        for y in range(min_y + 1, max_y):\n",
    "            yield Point(min_x, y)\n",
    "            yield Point(max_x, y)\n",
    "\n",
    "    # Dictionary where the key is a point and the value is the nearest danger\n",
    "    # (omit the point if two or more dangers are equally distant)\n",
    "    nearest_danger = {}\n",
    "    \n",
    "    for x in range(min_x, max_x + 1):\n",
    "        for y in range(min_y, max_y + 1):\n",
    "            p = Point(x, y)\n",
    "            ever_increasing_circles = (manhattan_circle(p, d) \n",
    "                                       for d in itertools.count())\n",
    "            dangers_in_circles = (set(c) & set(dangers) \n",
    "                                  for c in ever_increasing_circles)\n",
    "            nearest_dangers = list(next(ds for ds in dangers_in_circles if ds))\n",
    "            \n",
    "            # Make sure there's a unique nearest neighbour\n",
    "            if len(nearest_dangers) == 1:\n",
    "                nearest_danger[p] = nearest_dangers[0]\n",
    "            \n",
    "    infinite_dangers = {nearest_danger[p] \n",
    "                        for p in boundary() \n",
    "                        if p in nearest_danger}\n",
    "    area_sizes = Counter(p for p in nearest_danger.values() \n",
    "                         if p not in infinite_dangers)\n",
    "    return area_sizes.most_common(1)[0][1]"
   ]
  },
  {
   "cell_type": "code",
   "execution_count": 4,
   "metadata": {},
   "outputs": [
    {
     "data": {
      "text/plain": [
       "[Point(x=1, y=1),\n",
       " Point(x=1, y=6),\n",
       " Point(x=8, y=3),\n",
       " Point(x=3, y=4),\n",
       " Point(x=5, y=5),\n",
       " Point(x=8, y=9)]"
      ]
     },
     "execution_count": 4,
     "metadata": {},
     "output_type": "execute_result"
    }
   ],
   "source": [
    "test_dangers = parse_points('''1, 1\n",
    "1, 6\n",
    "8, 3\n",
    "3, 4\n",
    "5, 5\n",
    "8, 9'''.splitlines())\n",
    "\n",
    "test_dangers"
   ]
  },
  {
   "cell_type": "code",
   "execution_count": 5,
   "metadata": {},
   "outputs": [],
   "source": [
    "assert biggest_area(test_dangers) == 17"
   ]
  },
  {
   "cell_type": "code",
   "execution_count": 6,
   "metadata": {},
   "outputs": [
    {
     "name": "stdout",
     "output_type": "stream",
     "text": [
      "CPU times: user 3min 56s, sys: 524 ms, total: 3min 57s\n",
      "Wall time: 3min 57s\n"
     ]
    },
    {
     "data": {
      "text/plain": [
       "4233"
      ]
     },
     "execution_count": 6,
     "metadata": {},
     "output_type": "execute_result"
    }
   ],
   "source": [
    "%time biggest_area(dangers)"
   ]
  },
  {
   "cell_type": "markdown",
   "metadata": {},
   "source": [
    "That gave me time to consider that the points are sparse enough that it would be quicker to measure the distance to every potential danger from each point. Oh well.\n",
    "\n",
    "### Part 2\n",
    "\n",
    "And guess what I have to do now."
   ]
  },
  {
   "cell_type": "code",
   "execution_count": 7,
   "metadata": {},
   "outputs": [],
   "source": [
    "def manhattan_distance(p1, p2):\n",
    "    return abs(p1.x - p2.x) + abs(p1.y - p2.y)\n",
    "\n",
    "def safe_areas(points, threshold):\n",
    "    min_x = min(c.x for c in points)\n",
    "    max_x = max(c.x for c in points)\n",
    "    min_y = min(c.y for c in points)\n",
    "    max_y = max(c.y for c in points)\n",
    "    \n",
    "    def distance_sum(p):\n",
    "        return sum(manhattan_distance(p, q) for q in points)\n",
    "\n",
    "    safe_points = 0\n",
    "    \n",
    "    for x in range(min_x, max_x + 1):\n",
    "        for y in range(min_y, max_y + 1):\n",
    "            if distance_sum(Point(x, y)) < threshold:\n",
    "                safe_points += 1\n",
    "\n",
    "    return safe_points\n",
    "\n",
    "assert safe_areas(test_dangers, 32) == 16"
   ]
  },
  {
   "cell_type": "code",
   "execution_count": 8,
   "metadata": {},
   "outputs": [
    {
     "name": "stdout",
     "output_type": "stream",
     "text": [
      "CPU times: user 2.29 s, sys: 0 ns, total: 2.29 s\n",
      "Wall time: 2.29 s\n"
     ]
    },
    {
     "data": {
      "text/plain": [
       "45290"
      ]
     },
     "execution_count": 8,
     "metadata": {},
     "output_type": "execute_result"
    }
   ],
   "source": [
    "%time safe_areas(dangers, 10000)"
   ]
  },
  {
   "cell_type": "markdown",
   "metadata": {},
   "source": [
    "A deep sigh right there. Can I be bothered to rewrite Part 1? "
   ]
  },
  {
   "cell_type": "code",
   "execution_count": null,
   "metadata": {},
   "outputs": [],
   "source": []
  }
 ],
 "metadata": {
  "kernelspec": {
   "display_name": "Python [default]",
   "language": "python",
   "name": "python3"
  },
  "language_info": {
   "codemirror_mode": {
    "name": "ipython",
    "version": 3
   },
   "file_extension": ".py",
   "mimetype": "text/x-python",
   "name": "python",
   "nbconvert_exporter": "python",
   "pygments_lexer": "ipython3",
   "version": "3.6.4"
  }
 },
 "nbformat": 4,
 "nbformat_minor": 2
}
