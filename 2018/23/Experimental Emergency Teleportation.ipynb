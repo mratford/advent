{
 "cells": [
  {
   "cell_type": "markdown",
   "metadata": {},
   "source": [
    "## Day 23: Experimental Emergency Teleportation\n",
    "\n",
    "https://adventofcode.com/2018/day/23\n",
    "\n",
    "### Part 1"
   ]
  },
  {
   "cell_type": "code",
   "execution_count": 3,
   "metadata": {},
   "outputs": [],
   "source": [
    "from parse import parse\n",
    "\n",
    "\n",
    "def parse_nanobots(data):\n",
    "    nanobots = {}\n",
    "    \n",
    "    for line in data:\n",
    "        x, y, z, r = parse('pos=<{:d},{:d},{:d}>, r={:d}', line)\n",
    "        nanobots[(x, y, z)] = r\n",
    "        \n",
    "    return nanobots\n",
    "\n",
    "\n",
    "def manhattan_distance(p1, p2):\n",
    "    return sum(abs(p - q) for p, q in zip(p1, p2))\n",
    "\n",
    "\n",
    "def number_in_range_of_most_powerful(nanobots):\n",
    "    most_powerful = max(nanobots, key=lambda k: nanobots[k])\n",
    "    return sum(1 for nb in nanobots\n",
    "               if manhattan_distance(most_powerful, nb) <= nanobots[most_powerful])\n",
    "\n",
    "\n",
    "test_data = '''pos=<0,0,0>, r=4\n",
    "pos=<1,0,0>, r=1\n",
    "pos=<4,0,0>, r=3\n",
    "pos=<0,2,0>, r=1\n",
    "pos=<0,5,0>, r=3\n",
    "pos=<0,0,3>, r=1\n",
    "pos=<1,1,1>, r=1\n",
    "pos=<1,1,2>, r=1\n",
    "pos=<1,3,1>, r=1'''.splitlines()\n",
    "\n",
    "test_nanobots = parse_nanobots(test_data)\n",
    "assert number_in_range_of_most_powerful(test_nanobots) == 7"
   ]
  },
  {
   "cell_type": "code",
   "execution_count": 4,
   "metadata": {},
   "outputs": [
    {
     "data": {
      "text/plain": [
       "889"
      ]
     },
     "execution_count": 4,
     "metadata": {},
     "output_type": "execute_result"
    }
   ],
   "source": [
    "nanobots = parse_nanobots(open('input', 'r'))\n",
    "number_in_range_of_most_powerful(nanobots)"
   ]
  },
  {
   "cell_type": "markdown",
   "metadata": {},
   "source": [
    "### Part 2\n",
    "\n",
    "Hmm, need a think about this one."
   ]
  }
 ],
 "metadata": {
  "kernelspec": {
   "display_name": "Python 3",
   "language": "python",
   "name": "python3"
  },
  "language_info": {
   "codemirror_mode": {
    "name": "ipython",
    "version": 3
   },
   "file_extension": ".py",
   "mimetype": "text/x-python",
   "name": "python",
   "nbconvert_exporter": "python",
   "pygments_lexer": "ipython3",
   "version": "3.6.1"
  }
 },
 "nbformat": 4,
 "nbformat_minor": 2
}
