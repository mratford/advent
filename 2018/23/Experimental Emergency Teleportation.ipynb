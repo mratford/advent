{
 "cells": [
  {
   "cell_type": "markdown",
   "metadata": {},
   "source": [
    "## Day 23: Experimental Emergency Teleportation\n",
    "\n",
    "https://adventofcode.com/2018/day/23\n",
    "\n",
    "### Part 1"
   ]
  },
  {
   "cell_type": "code",
   "execution_count": 1,
   "metadata": {},
   "outputs": [],
   "source": [
    "from parse import parse\n",
    "\n",
    "\n",
    "def parse_nanobots(data):\n",
    "    nanobots = {}\n",
    "    \n",
    "    for line in data:\n",
    "        x, y, z, r = parse('pos=<{:d},{:d},{:d}>, r={:d}', line)\n",
    "        nanobots[(x, y, z)] = r\n",
    "        \n",
    "    return nanobots\n",
    "\n",
    "\n",
    "def manhattan_distance(p1, p2):\n",
    "    return sum(abs(p - q) for p, q in zip(p1, p2))\n",
    "\n",
    "\n",
    "def number_in_range_of_most_powerful(nanobots):\n",
    "    most_powerful = max(nanobots, key=lambda k: nanobots[k])\n",
    "    return sum(1 for nb in nanobots\n",
    "               if manhattan_distance(most_powerful, nb) <= nanobots[most_powerful])\n",
    "\n",
    "\n",
    "test_data = '''pos=<0,0,0>, r=4\n",
    "pos=<1,0,0>, r=1\n",
    "pos=<4,0,0>, r=3\n",
    "pos=<0,2,0>, r=1\n",
    "pos=<0,5,0>, r=3\n",
    "pos=<0,0,3>, r=1\n",
    "pos=<1,1,1>, r=1\n",
    "pos=<1,1,2>, r=1\n",
    "pos=<1,3,1>, r=1'''.splitlines()\n",
    "\n",
    "test_nanobots = parse_nanobots(test_data)\n",
    "assert number_in_range_of_most_powerful(test_nanobots) == 7"
   ]
  },
  {
   "cell_type": "code",
   "execution_count": 2,
   "metadata": {},
   "outputs": [
    {
     "data": {
      "text/plain": [
       "889"
      ]
     },
     "execution_count": 2,
     "metadata": {},
     "output_type": "execute_result"
    }
   ],
   "source": [
    "nanobots = parse_nanobots(open('input', 'r'))\n",
    "number_in_range_of_most_powerful(nanobots)"
   ]
  },
  {
   "cell_type": "markdown",
   "metadata": {},
   "source": [
    "That's straightforward.\n",
    "\n",
    "### Part 2\n",
    "\n",
    "Hmm, this isn't, need to have a bit of a think.\n",
    "\n",
    "#### Some time later\n",
    "\n",
    "OK, this is tricky. The number of possible coordinates is enormous, far too large for any brute force approach, but I can't think of an analytical approach. We need an exact solution, so I'll try a directed brute force. Whether this will run in an acceptable time without running out of memory will depend on the distribution of maxima, if they're concentrated in one place then it should be OK but if they're regularly distributed through space then it could get stuck.\n",
    "\n",
    "Start with a cube large enough to include every nanobot. Iteratively select the cube in range of the most nanobots and split into eight smaller cubes. Continue until the cube in range of the most nanobots only has one coordinate. \n",
    "\n",
    "As the width of the cube is halved at each stage the initial cube needs to have a width that is a power of two."
   ]
  },
  {
   "cell_type": "code",
   "execution_count": 3,
   "metadata": {},
   "outputs": [],
   "source": [
    "import math\n",
    "\n",
    "def initial_cube(nanobots):\n",
    "    xyzs = list(zip(*nanobots))\n",
    "    ranges = [max(xs) - min(xs) for xs in xyzs]\n",
    "    mins = [min(xs) for xs in xyzs]\n",
    "    corner = tuple(mn for mn in mins)\n",
    "    actual_width = max(ranges)\n",
    "    width = 2 ** math.ceil(math.log(actual_width, 2))\n",
    "    return (corner, width)"
   ]
  },
  {
   "cell_type": "code",
   "execution_count": 4,
   "metadata": {},
   "outputs": [
    {
     "data": {
      "text/plain": [
       "((0, 0, 0), 8)"
      ]
     },
     "execution_count": 4,
     "metadata": {},
     "output_type": "execute_result"
    }
   ],
   "source": [
    "test_cube_1 = initial_cube(test_nanobots)\n",
    "test_cube_1"
   ]
  },
  {
   "cell_type": "code",
   "execution_count": 5,
   "metadata": {},
   "outputs": [
    {
     "data": {
      "text/plain": [
       "[((0, 0, 0), 4),\n",
       " ((0, 0, 4), 4),\n",
       " ((0, 4, 0), 4),\n",
       " ((0, 4, 4), 4),\n",
       " ((4, 0, 0), 4),\n",
       " ((4, 0, 4), 4),\n",
       " ((4, 4, 0), 4),\n",
       " ((4, 4, 4), 4)]"
      ]
     },
     "execution_count": 5,
     "metadata": {},
     "output_type": "execute_result"
    }
   ],
   "source": [
    "def split_cube(cube):\n",
    "    (x, y, z), width = cube\n",
    "    result = []\n",
    "\n",
    "    new_width = width // 2\n",
    "    for dx in (0, new_width):\n",
    "        for dy in (0, new_width):\n",
    "            for dz in (0, new_width):\n",
    "                result.append(((x + dx, y + dy, z + dz), new_width))\n",
    "                \n",
    "    return result\n",
    "\n",
    "test_cubes_2 = split_cube(test_cube_1)\n",
    "test_cubes_2"
   ]
  },
  {
   "cell_type": "code",
   "execution_count": 6,
   "metadata": {},
   "outputs": [
    {
     "data": {
      "text/plain": [
       "[((0, 4, 0), 2),\n",
       " ((0, 4, 2), 2),\n",
       " ((0, 6, 0), 2),\n",
       " ((0, 6, 2), 2),\n",
       " ((2, 4, 0), 2),\n",
       " ((2, 4, 2), 2),\n",
       " ((2, 6, 0), 2),\n",
       " ((2, 6, 2), 2)]"
      ]
     },
     "execution_count": 6,
     "metadata": {},
     "output_type": "execute_result"
    }
   ],
   "source": [
    "split_cube(test_cubes_2[2])"
   ]
  },
  {
   "cell_type": "markdown",
   "metadata": {},
   "source": [
    "Use a priority queue of cubes, ordered by the number of nanobots in range to ensure we get the correct solution, then width so we don't waste time on larger cubes when there's a possible answer in the queue, then Manhattan distance from the origin to match the specification of the problem."
   ]
  },
  {
   "cell_type": "code",
   "execution_count": 7,
   "metadata": {},
   "outputs": [],
   "source": [
    "from heapq import heappop, heappush, heapify\n",
    "\n",
    "\n",
    "ORIGIN = (0, 0, 0)\n",
    "\n",
    "\n",
    "def nearest_in_range(x, min_x, max_x):\n",
    "    if x < min_x:\n",
    "        return min_x\n",
    "    elif x > max_x:\n",
    "        return max_x\n",
    "    else:\n",
    "        return x\n",
    "\n",
    "\n",
    "def nanobots_in_range(cube, nanobots):\n",
    "    corner, width = cube\n",
    "    far_corner = [i + width - 1 for i in corner]\n",
    "    number_in_range = 0\n",
    "    \n",
    "    for n in nanobots:\n",
    "        nearest_point = [nearest_in_range(*xs) \n",
    "                         for xs in zip(n, corner, far_corner)]\n",
    "        if manhattan_distance(nearest_point, n) <= nanobots[n]:\n",
    "            number_in_range += 1\n",
    "            \n",
    "    return number_in_range\n",
    "        \n",
    "\n",
    "def best_coordinate(nanobots):\n",
    "    start = initial_cube(nanobots)\n",
    "    \n",
    "    # Sorted queue by number of nanobots in range with\n",
    "    # proximity to origin as a tie-break\n",
    "    search = [(-nanobots_in_range(start, nanobots),\n",
    "               start[1],\n",
    "               manhattan_distance(start[0], ORIGIN),\n",
    "               start)]\n",
    "    \n",
    "    while search:\n",
    "        n, w, m, current_cube = heappop(search)\n",
    "                    \n",
    "        coordinates, width = current_cube\n",
    "        \n",
    "        if w == 1:\n",
    "            return (m, coordinates, -n)\n",
    "               \n",
    "        for next_cube in split_cube(current_cube):\n",
    "            bots_in_range = nanobots_in_range(next_cube, nanobots)\n",
    "            if bots_in_range > 0:\n",
    "                heappush(search, (-bots_in_range, next_cube[1],\n",
    "                                  manhattan_distance(next_cube[0], ORIGIN),\n",
    "                                  next_cube))\n",
    "            \n",
    "    return None"
   ]
  },
  {
   "cell_type": "code",
   "execution_count": 8,
   "metadata": {
    "scrolled": true
   },
   "outputs": [
    {
     "name": "stdout",
     "output_type": "stream",
     "text": [
      "CPU times: user 891 µs, sys: 138 µs, total: 1.03 ms\n",
      "Wall time: 1.03 ms\n"
     ]
    },
    {
     "data": {
      "text/plain": [
       "(36, (12, 12, 12), 5)"
      ]
     },
     "execution_count": 8,
     "metadata": {},
     "output_type": "execute_result"
    }
   ],
   "source": [
    "test_data_2 = '''pos=<10,12,12>, r=2\n",
    "pos=<12,14,12>, r=2\n",
    "pos=<16,12,12>, r=4\n",
    "pos=<14,14,14>, r=6\n",
    "pos=<50,50,50>, r=200\n",
    "pos=<10,10,10>, r=5'''.splitlines()\n",
    "\n",
    "test_nanobots_2 = parse_nanobots(test_data_2)\n",
    "%time best_coordinate(test_nanobots_2)"
   ]
  },
  {
   "cell_type": "markdown",
   "metadata": {},
   "source": [
    "That matches the test data."
   ]
  },
  {
   "cell_type": "code",
   "execution_count": 9,
   "metadata": {},
   "outputs": [
    {
     "name": "stdout",
     "output_type": "stream",
     "text": [
      "CPU times: user 1.17 s, sys: 2.44 ms, total: 1.17 s\n",
      "Wall time: 1.18 s\n"
     ]
    },
    {
     "data": {
      "text/plain": [
       "(160646364, (56721513, 49483609, 54441242), 977)"
      ]
     },
     "execution_count": 9,
     "metadata": {},
     "output_type": "execute_result"
    }
   ],
   "source": [
    "%time best_coordinate(nanobots)"
   ]
  },
  {
   "cell_type": "markdown",
   "metadata": {},
   "source": [
    "That is considerably quicker than I was expecting, the problem data looks like it was constructed to be friendly to stupid approaches."
   ]
  },
  {
   "cell_type": "code",
   "execution_count": null,
   "metadata": {},
   "outputs": [],
   "source": []
  }
 ],
 "metadata": {
  "kernelspec": {
   "display_name": "Python [default]",
   "language": "python",
   "name": "python3"
  },
  "language_info": {
   "codemirror_mode": {
    "name": "ipython",
    "version": 3
   },
   "file_extension": ".py",
   "mimetype": "text/x-python",
   "name": "python",
   "nbconvert_exporter": "python",
   "pygments_lexer": "ipython3",
   "version": "3.6.7"
  }
 },
 "nbformat": 4,
 "nbformat_minor": 2
}
