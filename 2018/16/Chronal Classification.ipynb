{
 "cells": [
  {
   "cell_type": "markdown",
   "metadata": {},
   "source": [
    "## Day 16: Chronal Classification\n",
    "\n",
    "https://adventofcode.com/2018/day/16\n",
    "\n",
    "### Part 1"
   ]
  },
  {
   "cell_type": "code",
   "execution_count": 32,
   "metadata": {},
   "outputs": [],
   "source": [
    "from pyrsistent import pvector, pmap, pset\n",
    "import operator as op\n",
    "from parse import parse\n",
    "\n",
    "\n",
    "def opr(f):\n",
    "    def fr(registers, a, b, c):\n",
    "        return registers.set(c, f(registers[a], registers[b]))\n",
    "    \n",
    "    return fr\n",
    "\n",
    "\n",
    "def opi(f):\n",
    "    def fi(registers, a, b, c):\n",
    "        return registers.set(c, f(registers[a], b))\n",
    "    \n",
    "    return fi\n",
    "\n",
    "\n",
    "addr = opr(op.add)\n",
    "addi = opi(op.add)\n",
    "mulr = opr(op.mul)\n",
    "muli = opi(op.mul)\n",
    "\n",
    "banr = opr(op.and_)\n",
    "bani = opi(op.and_)\n",
    "borr = opr(op.or_)\n",
    "bori = opi(op.or_)\n",
    "\n",
    "def setr(r, a, b, c):\n",
    "    return r.set(c, r[a])\n",
    "def seti(r, a, b, c):\n",
    "    return r.set(c, a)\n",
    "\n",
    "def gtir(r, a, b, c):\n",
    "    return r.set(c, 1 if a > r[b] else 0)\n",
    "def gtri(r, a, b, c):\n",
    "    return r.set(c, 1 if r[a] > b else 0)\n",
    "def gtrr(r, a, b, c):\n",
    "    return r.set(c, 1 if r[a] > r[b] else 0)\n",
    "\n",
    "def eqir(r, a, b, c):\n",
    "    return r.set(c, 1 if a == r[b] else 0)\n",
    "def eqri(r, a, b, c):\n",
    "    return r.set(c, 1 if r[a] == b else 0)\n",
    "def eqrr(r, a, b, c):\n",
    "    return r.set(c, 1 if r[a] == r[b] else 0)\n",
    "\n",
    "\n",
    "opcodes = pvector([addr, addi, mulr, muli, banr, bani, \n",
    "                   borr, bori, setr, seti, gtir, gtri,\n",
    "                   gtrr, eqir, eqri, eqrr])\n",
    "\n",
    "\n",
    "def matches(before, after, a, b, c, opcode):\n",
    "    try:\n",
    "        return opcode(before, a, b, c) == after\n",
    "    except:\n",
    "        return False\n",
    "\n",
    "def num_matches(before, after, a, b, c):\n",
    "    return sum(1 if matches(before, after, a, b, c, opcode) else 0\n",
    "               for opcode in opcodes)\n",
    "\n",
    "\n",
    "assert num_matches(pvector([3, 2, 1, 1]), \n",
    "                   pvector([3, 2, 2, 1]), 2, 1, 2) == 3"
   ]
  },
  {
   "cell_type": "code",
   "execution_count": 33,
   "metadata": {},
   "outputs": [
    {
     "data": {
      "text/plain": [
       "612"
      ]
     },
     "execution_count": 33,
     "metadata": {},
     "output_type": "execute_result"
    }
   ],
   "source": [
    "lines = open('input_1', 'r').readlines()\n",
    "\n",
    "n = 0\n",
    "\n",
    "for i in range(0, len(lines), 4):\n",
    "    before = pvector(parse('Before: [{:d}, {:d}, {:d}, {:d}]', lines[i]).fixed)\n",
    "    _, a, b, c = parse('{:d} {:d} {:d} {:d}', lines[i + 1]).fixed\n",
    "    after = pvector(parse('After:  [{:d}, {:d}, {:d}, {:d}]', lines[i + 2]).fixed)\n",
    "    if num_matches(before, after, a, b, c) >= 3:\n",
    "        n += 1\n",
    "        \n",
    "n"
   ]
  },
  {
   "cell_type": "markdown",
   "metadata": {},
   "source": [
    "### Part 2\n",
    "\n",
    "Let's see if each operation appears as the only possibility in at least one example."
   ]
  },
  {
   "cell_type": "code",
   "execution_count": 34,
   "metadata": {},
   "outputs": [
    {
     "data": {
      "text/plain": [
       "pmap({4: <function eqrr at 0x7f2ffc04c488>})"
      ]
     },
     "execution_count": 34,
     "metadata": {},
     "output_type": "execute_result"
    }
   ],
   "source": [
    "def op_matches(before, after, a, b, c):\n",
    "    return [opcode for opcode in opcodes \n",
    "            if opcode(before, a, b, c) == after]\n",
    "\n",
    "op_index = pmap()\n",
    "\n",
    "for i in range(0, len(lines), 4):\n",
    "    before = pvector(parse('Before: [{:d}, {:d}, {:d}, {:d}]', lines[i]).fixed)\n",
    "    op_i, a, b, c = parse('{:d} {:d} {:d} {:d}', lines[i + 1]).fixed\n",
    "    after = pvector(parse('After:  [{:d}, {:d}, {:d}, {:d}]', lines[i + 2]).fixed)\n",
    "    matches = op_matches(before, after, a, b, c)\n",
    "    if len(matches) == 1:\n",
    "        op_index = op_index.set(op_i, matches[0])\n",
    "\n",
    "op_index"
   ]
  },
  {
   "cell_type": "markdown",
   "metadata": {},
   "source": [
    "No. How many of each are there as possibilities for each op index?"
   ]
  },
  {
   "cell_type": "code",
   "execution_count": 56,
   "metadata": {},
   "outputs": [
    {
     "data": {
      "text/plain": [
       "defaultdict(<function pyrsistent._pset.pset>,\n",
       "            {0: pset([<function opr.<locals>.fr at 0x7f2feeb11e18>, <function opi.<locals>.fi at 0x7f2feeb11048>, <function eqir at 0x7f2feeb11f28>, <function gtri at 0x7f2feeb11950>, <function opi.<locals>.fi at 0x7f2feeb11598>, <function setr at 0x7f2feeb117b8>, <function seti at 0x7f2feeb119d8>, <function opr.<locals>.fr at 0x7f2feeb11bf8>]),\n",
       "             1: pset([<function gtir at 0x7f2feeb11620>, <function eqrr at 0x7f2ffc04c488>, <function opi.<locals>.fi at 0x7f2feeb116a8>, <function eqri at 0x7f2ffc04cf28>, <function eqir at 0x7f2feeb11f28>, <function gtri at 0x7f2feeb11950>, <function gtrr at 0x7f2feeb11378>, <function opr.<locals>.fr at 0x7f2feeb11bf8>]),\n",
       "             2: pset([<function gtir at 0x7f2feeb11620>, <function eqrr at 0x7f2ffc04c488>, <function eqri at 0x7f2ffc04cf28>, <function eqir at 0x7f2feeb11f28>, <function gtri at 0x7f2feeb11950>, <function gtrr at 0x7f2feeb11378>]),\n",
       "             3: pset([<function opr.<locals>.fr at 0x7f2feeb11e18>, <function opi.<locals>.fi at 0x7f2feeb116a8>, <function setr at 0x7f2feeb117b8>, <function seti at 0x7f2feeb119d8>, <function opr.<locals>.fr at 0x7f2feeb11bf8>]),\n",
       "             4: pset([<function eqrr at 0x7f2ffc04c488>]),\n",
       "             5: pset([<function opr.<locals>.fr at 0x7f2feeb11e18>, <function opi.<locals>.fi at 0x7f2feeb11048>, <function opi.<locals>.fi at 0x7f2feeb116a8>, <function setr at 0x7f2feeb117b8>, <function seti at 0x7f2feeb119d8>, <function opr.<locals>.fr at 0x7f2feeb11bf8>]),\n",
       "             6: pset([<function eqir at 0x7f2feeb11f28>, <function gtri at 0x7f2feeb11950>, <function eqri at 0x7f2ffc04cf28>, <function gtrr at 0x7f2feeb11378>]),\n",
       "             7: pset([<function gtir at 0x7f2feeb11620>, <function setr at 0x7f2feeb117b8>]),\n",
       "             8: pset([<function gtir at 0x7f2feeb11620>, <function opr.<locals>.fr at 0x7f2feeb11840>, <function opi.<locals>.fi at 0x7f2feeb11048>, <function eqrr at 0x7f2ffc04c488>, <function opi.<locals>.fi at 0x7f2feeb116a8>, <function opi.<locals>.fi at 0x7f2feeb11ae8>, <function eqir at 0x7f2feeb11f28>, <function eqri at 0x7f2ffc04cf28>, <function gtri at 0x7f2feeb11950>, <function gtrr at 0x7f2feeb11378>, <function opi.<locals>.fi at 0x7f2feeb11598>, <function setr at 0x7f2feeb117b8>, <function seti at 0x7f2feeb119d8>, <function opr.<locals>.fr at 0x7f2feeb11bf8>]),\n",
       "             9: pset([<function gtir at 0x7f2feeb11620>, <function eqrr at 0x7f2ffc04c488>, <function opi.<locals>.fi at 0x7f2feeb116a8>, <function eqri at 0x7f2ffc04cf28>, <function eqir at 0x7f2feeb11f28>, <function gtri at 0x7f2feeb11950>, <function gtrr at 0x7f2feeb11378>, <function seti at 0x7f2feeb119d8>, <function opr.<locals>.fr at 0x7f2feeb11bf8>]),\n",
       "             10: pset([<function gtir at 0x7f2feeb11620>, <function eqrr at 0x7f2ffc04c488>, <function eqri at 0x7f2ffc04cf28>, <function eqir at 0x7f2feeb11f28>, <function gtri at 0x7f2feeb11950>, <function gtrr at 0x7f2feeb11378>, <function opr.<locals>.fr at 0x7f2feeb11bf8>]),\n",
       "             11: pset([<function eqrr at 0x7f2ffc04c488>, <function gtri at 0x7f2feeb11950>]),\n",
       "             12: pset([<function eqrr at 0x7f2ffc04c488>, <function eqir at 0x7f2feeb11f28>, <function gtri at 0x7f2feeb11950>]),\n",
       "             13: pset([<function eqrr at 0x7f2ffc04c488>, <function eqir at 0x7f2feeb11f28>, <function eqri at 0x7f2ffc04cf28>]),\n",
       "             14: pset([<function opr.<locals>.fr at 0x7f2feeb11e18>, <function gtir at 0x7f2feeb11620>, <function opr.<locals>.fr at 0x7f2feeb11840>, <function opi.<locals>.fi at 0x7f2feeb11048>, <function opr.<locals>.fr at 0x7f2ffc126ea0>, <function opi.<locals>.fi at 0x7f2feeb116a8>, <function opi.<locals>.fi at 0x7f2feeb11ae8>, <function gtri at 0x7f2feeb11950>, <function gtrr at 0x7f2feeb11378>, <function opi.<locals>.fi at 0x7f2feeb11598>, <function setr at 0x7f2feeb117b8>, <function seti at 0x7f2feeb119d8>, <function opr.<locals>.fr at 0x7f2feeb11bf8>]),\n",
       "             15: pset([<function opr.<locals>.fr at 0x7f2feeb11e18>, <function opr.<locals>.fr at 0x7f2feeb11840>, <function opi.<locals>.fi at 0x7f2feeb11048>, <function eqrr at 0x7f2ffc04c488>, <function eqir at 0x7f2feeb11f28>, <function gtri at 0x7f2feeb11950>, <function opi.<locals>.fi at 0x7f2feeb11598>, <function setr at 0x7f2feeb117b8>, <function seti at 0x7f2feeb119d8>, <function opr.<locals>.fr at 0x7f2feeb11bf8>])})"
      ]
     },
     "execution_count": 56,
     "metadata": {},
     "output_type": "execute_result"
    }
   ],
   "source": [
    "from collections import defaultdict\n",
    "\n",
    "op_index_poss = defaultdict(pset)\n",
    "\n",
    "for i in range(0, len(lines), 4):\n",
    "    before = pvector(parse('Before: [{:d}, {:d}, {:d}, {:d}]', lines[i]).fixed)\n",
    "    op_i, a, b, c = parse('{:d} {:d} {:d} {:d}', lines[i + 1]).fixed\n",
    "    after = pvector(parse('After:  [{:d}, {:d}, {:d}, {:d}]', lines[i + 2]).fixed)\n",
    "    op_index_poss[op_i] = op_index_poss[op_i] | pset(op_matches(before, after, a, b, c))\n",
    "\n",
    "op_index_poss"
   ]
  },
  {
   "cell_type": "markdown",
   "metadata": {},
   "source": [
    "Ok, it looks like we might be able to work one by one. When there is only one possibility, assign that and remove it from the other possibilities. Repeat until hopefully all opcodes are assigned."
   ]
  },
  {
   "cell_type": "code",
   "execution_count": 57,
   "metadata": {},
   "outputs": [
    {
     "data": {
      "text/plain": [
       "pmap({0: <function opi.<locals>.fi at 0x7f2feeb11598>, 1: <function opi.<locals>.fi at 0x7f2feeb116a8>, 2: <function gtir at 0x7f2feeb11620>, 3: <function opr.<locals>.fr at 0x7f2feeb11e18>, 4: <function eqrr at 0x7f2ffc04c488>, 5: <function opi.<locals>.fi at 0x7f2feeb11048>, 6: <function gtrr at 0x7f2feeb11378>, 7: <function setr at 0x7f2feeb117b8>, 8: <function opi.<locals>.fi at 0x7f2feeb11ae8>, 9: <function seti at 0x7f2feeb119d8>, 10: <function opr.<locals>.fr at 0x7f2feeb11bf8>, 11: <function gtri at 0x7f2feeb11950>, 12: <function eqir at 0x7f2feeb11f28>, 13: <function eqri at 0x7f2ffc04cf28>, 14: <function opr.<locals>.fr at 0x7f2ffc126ea0>, 15: <function opr.<locals>.fr at 0x7f2feeb11840>})"
      ]
     },
     "execution_count": 57,
     "metadata": {},
     "output_type": "execute_result"
    }
   ],
   "source": [
    "op_index_poss = defaultdict(pset)\n",
    "\n",
    "for i in range(0, len(lines), 4):\n",
    "    before = pvector(parse('Before: [{:d}, {:d}, {:d}, {:d}]', lines[i]).fixed)\n",
    "    op_i, a, b, c = parse('{:d} {:d} {:d} {:d}', lines[i + 1]).fixed\n",
    "    after = pvector(parse('After:  [{:d}, {:d}, {:d}, {:d}]', lines[i + 2]).fixed)\n",
    "    op_index_poss[op_i] = op_index_poss[op_i] | pset(op_matches(before, after, a, b, c))\n",
    "\n",
    "op_index = pmap()\n",
    "\n",
    "found = pset()\n",
    "while op_index_poss:\n",
    "    for i in list(op_index_poss.keys()):\n",
    "        op_index_poss[i] = op_index_poss[i] - found\n",
    "        if len(op_index_poss[i]) == 1:\n",
    "            opcode = next(iter(op_index_poss[i]))\n",
    "            found = found.add(opcode)\n",
    "            op_index = op_index.set(i, opcode)\n",
    "            del op_index_poss[i]\n",
    "            \n",
    "op_index            "
   ]
  },
  {
   "cell_type": "markdown",
   "metadata": {},
   "source": [
    "Yes they are. Now run the program."
   ]
  },
  {
   "cell_type": "code",
   "execution_count": 61,
   "metadata": {},
   "outputs": [
    {
     "data": {
      "text/plain": [
       "485"
      ]
     },
     "execution_count": 61,
     "metadata": {},
     "output_type": "execute_result"
    }
   ],
   "source": [
    "register = pvector([0, 0, 0, 0])\n",
    "\n",
    "for line in open('input_2', 'r'):\n",
    "    op_i, a, b, c = [int(x) for x in line.split()]\n",
    "    register = op_index[op_i](register, a, b, c)\n",
    "    \n",
    "register[0]"
   ]
  },
  {
   "cell_type": "code",
   "execution_count": null,
   "metadata": {
    "collapsed": true
   },
   "outputs": [],
   "source": []
  }
 ],
 "metadata": {
  "kernelspec": {
   "display_name": "Python 3",
   "language": "python",
   "name": "python3"
  },
  "language_info": {
   "codemirror_mode": {
    "name": "ipython",
    "version": 3
   },
   "file_extension": ".py",
   "mimetype": "text/x-python",
   "name": "python",
   "nbconvert_exporter": "python",
   "pygments_lexer": "ipython3",
   "version": "3.6.1"
  }
 },
 "nbformat": 4,
 "nbformat_minor": 2
}
