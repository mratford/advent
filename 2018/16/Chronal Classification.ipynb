{
 "cells": [
  {
   "cell_type": "markdown",
   "metadata": {},
   "source": [
    "## Day 16: Chronal Classification\n",
    "\n",
    "https://adventofcode.com/2018/day/16\n",
    "\n",
    "### Part 1"
   ]
  },
  {
   "cell_type": "code",
   "execution_count": 4,
   "metadata": {},
   "outputs": [],
   "source": [
    "from pyrsistent import pvector\n",
    "import operator as op\n",
    "from parse import parse\n",
    "\n",
    "\n",
    "def opr(f):\n",
    "    def fr(registers, a, b, c):\n",
    "        return registers.set(c, f(registers[a], registers[b]))\n",
    "    \n",
    "    return fr\n",
    "\n",
    "\n",
    "def opi(f):\n",
    "    def fi(registers, a, b, c):\n",
    "        return registers.set(c, f(registers[a], b))\n",
    "    \n",
    "    return fi\n",
    "\n",
    "\n",
    "addr = opr(op.add)\n",
    "addi = opi(op.add)\n",
    "mulr = opr(op.mul)\n",
    "muli = opi(op.mul)\n",
    "\n",
    "banr = opr(op.and_)\n",
    "bani = opi(op.and_)\n",
    "borr = opr(op.or_)\n",
    "bori = opi(op.or_)\n",
    "\n",
    "def setr(r, a, b, c):\n",
    "    return r.set(c, r[a])\n",
    "def seti(r, a, b, c):\n",
    "    return r.set(c, a)\n",
    "\n",
    "def gtir(r, a, b, c):\n",
    "    return r.set(c, 1 if a > r[b] else 0)\n",
    "def gtri(r, a, b, c):\n",
    "    return r.set(c, 1 if r[a] > b else 0)\n",
    "def gtrr(r, a, b, c):\n",
    "    return r.set(c, 1 if r[a] > r[b] else 0)\n",
    "\n",
    "def eqir(r, a, b, c):\n",
    "    return r.set(c, 1 if a == r[b] else 0)\n",
    "def eqri(r, a, b, c):\n",
    "    return r.set(c, 1 if r[a] == b else 0)\n",
    "def eqrr(r, a, b, c):\n",
    "    return r.set(c, 1 if r[a] == r[b] else 0)\n",
    "\n",
    "\n",
    "opcodes = pvector([addr, addi, mulr, muli, banr, bani, \n",
    "                   borr, bori, setr, seti, gtir, gtri,\n",
    "                   gtrr, eqir, eqri, eqrr])\n",
    "\n",
    "\n",
    "def matches(before, after, a, b, c, opcode):\n",
    "    try:\n",
    "        return opcode(before, a, b, c) == after\n",
    "    except:\n",
    "        return False\n",
    "\n",
    "def num_matches(before, after, a, b, c):\n",
    "    return sum(1 if matches(before, after, a, b, c, opcode) else 0\n",
    "               for opcode in opcodes)\n",
    "\n",
    "\n",
    "assert num_matches(pvector([3, 2, 1, 1]), \n",
    "                   pvector([3, 2, 2, 1]), 2, 1, 2) == 3"
   ]
  },
  {
   "cell_type": "code",
   "execution_count": 21,
   "metadata": {},
   "outputs": [
    {
     "data": {
      "text/plain": [
       "612"
      ]
     },
     "execution_count": 21,
     "metadata": {},
     "output_type": "execute_result"
    }
   ],
   "source": [
    "from itertools import islice\n",
    "\n",
    "lines = open('input_1', 'r').readlines()\n",
    "\n",
    "n = 0\n",
    "\n",
    "for i in range(0, len(lines), 4):\n",
    "    before = pvector(parse('Before: [{:d}, {:d}, {:d}, {:d}]', lines[i]).fixed)\n",
    "    _, a, b, c = parse('{:d} {:d} {:d} {:d}', lines[i + 1]).fixed\n",
    "    after = pvector(parse('After:  [{:d}, {:d}, {:d}, {:d}]', lines[i + 2]).fixed)\n",
    "    if num_matches(before, after, a, b, c) >= 3:\n",
    "        n += 1\n",
    "        \n",
    "n"
   ]
  },
  {
   "cell_type": "markdown",
   "metadata": {},
   "source": [
    "### Part 2\n",
    "\n"
   ]
  },
  {
   "cell_type": "code",
   "execution_count": null,
   "metadata": {},
   "outputs": [],
   "source": []
  }
 ],
 "metadata": {
  "kernelspec": {
   "display_name": "Python 3",
   "language": "python",
   "name": "python3"
  },
  "language_info": {
   "codemirror_mode": {
    "name": "ipython",
    "version": 3
   },
   "file_extension": ".py",
   "mimetype": "text/x-python",
   "name": "python",
   "nbconvert_exporter": "python",
   "pygments_lexer": "ipython3",
   "version": "3.7.1"
  }
 },
 "nbformat": 4,
 "nbformat_minor": 2
}
