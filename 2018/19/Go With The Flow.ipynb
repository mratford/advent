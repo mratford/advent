{
 "cells": [
  {
   "cell_type": "markdown",
   "metadata": {},
   "source": [
    "## Day 19: Go With The Flow\n",
    "\n",
    "https://adventofcode.com/2018/day/19\n",
    "\n",
    "### Part 1\n",
    "\n",
    "Functions copied from [Day 16](https://github.com/mratford/advent/blob/master/2018/16/Chronal%20Classification.ipynb)."
   ]
  },
  {
   "cell_type": "code",
   "execution_count": 20,
   "metadata": {},
   "outputs": [],
   "source": [
    "from pyrsistent import pvector, pmap, pset\n",
    "import operator as op\n",
    "from parse import parse\n",
    "\n",
    "\n",
    "def opr(f):\n",
    "    def fr(registers, a, b, c):\n",
    "        return registers.set(c, f(registers[a], registers[b]))\n",
    "    \n",
    "    return fr\n",
    "\n",
    "\n",
    "def opi(f):\n",
    "    def fi(registers, a, b, c):\n",
    "        return registers.set(c, f(registers[a], b))\n",
    "    \n",
    "    return fi\n",
    "\n",
    "\n",
    "addr = opr(op.add)\n",
    "addi = opi(op.add)\n",
    "mulr = opr(op.mul)\n",
    "muli = opi(op.mul)\n",
    "\n",
    "banr = opr(op.and_)\n",
    "bani = opi(op.and_)\n",
    "borr = opr(op.or_)\n",
    "bori = opi(op.or_)\n",
    "\n",
    "def setr(r, a, b, c):\n",
    "    return r.set(c, r[a])\n",
    "def seti(r, a, b, c):\n",
    "    return r.set(c, a)\n",
    "\n",
    "def gtir(r, a, b, c):\n",
    "    return r.set(c, 1 if a > r[b] else 0)\n",
    "def gtri(r, a, b, c):\n",
    "    return r.set(c, 1 if r[a] > b else 0)\n",
    "def gtrr(r, a, b, c):\n",
    "    return r.set(c, 1 if r[a] > r[b] else 0)\n",
    "\n",
    "def eqir(r, a, b, c):\n",
    "    return r.set(c, 1 if a == r[b] else 0)\n",
    "def eqri(r, a, b, c):\n",
    "    return r.set(c, 1 if r[a] == b else 0)\n",
    "def eqrr(r, a, b, c):\n",
    "    return r.set(c, 1 if r[a] == r[b] else 0)"
   ]
  },
  {
   "cell_type": "markdown",
   "metadata": {},
   "source": [
    "I'm not sure if I've ever used `eval` before."
   ]
  },
  {
   "cell_type": "code",
   "execution_count": 21,
   "metadata": {},
   "outputs": [],
   "source": [
    "opstrings = 'addr addi mulr muli banr bani borr bori setr seti gtir gtrr eqir eqri eqrr'.split(' ')\n",
    "opcodes = pmap({op: eval(op) for op in opstrings})"
   ]
  },
  {
   "cell_type": "code",
   "execution_count": 22,
   "metadata": {},
   "outputs": [],
   "source": [
    "def parse_program(program_data):\n",
    "    lines = program_data.rstrip().splitlines()\n",
    "    program = pvector()\n",
    "    ip = parse('#ip {ip:d}', lines[0])['ip']\n",
    "    \n",
    "    for line in lines[1:]:\n",
    "        opstring, a, b, c = parse('{} {:d} {:d} {:d}', line)\n",
    "        program = program.append((opcodes[opstring], a, b, c))\n",
    "        \n",
    "    return ip, program\n",
    "\n",
    "\n",
    "def run(ip, registers, program, debug=False):\n",
    "    while True:\n",
    "        if registers[ip] < 0 or registers[ip] >= len(program):\n",
    "            return registers.set(ip, registers[ip] - 1)\n",
    "\n",
    "        opcode, a, b, c = program[registers[ip]]\n",
    "        registers = opcode(registers, a, b, c)\n",
    "        registers = registers.set(ip, registers[ip] + 1)\n",
    "        \n",
    "        if debug:\n",
    "            print(registers)"
   ]
  },
  {
   "cell_type": "code",
   "execution_count": 23,
   "metadata": {},
   "outputs": [
    {
     "name": "stdout",
     "output_type": "stream",
     "text": [
      "pvector([1, 5, 0, 0, 0, 0])\n",
      "pvector([2, 5, 6, 0, 0, 0])\n",
      "pvector([4, 5, 6, 0, 0, 0])\n",
      "pvector([6, 5, 6, 0, 0, 0])\n",
      "pvector([7, 5, 6, 0, 0, 9])\n"
     ]
    },
    {
     "data": {
      "text/plain": [
       "pvector([6, 5, 6, 0, 0, 9])"
      ]
     },
     "execution_count": 23,
     "metadata": {},
     "output_type": "execute_result"
    }
   ],
   "source": [
    "test_data = '''#ip 0\n",
    "seti 5 0 1\n",
    "seti 6 0 2\n",
    "addi 0 1 0\n",
    "addr 1 2 3\n",
    "setr 1 0 0\n",
    "seti 8 0 4\n",
    "seti 9 0 5'''\n",
    "test_ip, test_program = parse_program(test_data)\n",
    "\n",
    "initial_registers = pvector([0, 0, 0, 0, 0, 0])\n",
    "run(test_ip, initial_registers, test_program, debug=True)"
   ]
  },
  {
   "cell_type": "code",
   "execution_count": 24,
   "metadata": {},
   "outputs": [],
   "source": [
    "data = open('input', 'r').read()\n",
    "ip, program = parse_program(data)"
   ]
  },
  {
   "cell_type": "code",
   "execution_count": 25,
   "metadata": {},
   "outputs": [
    {
     "name": "stdout",
     "output_type": "stream",
     "text": [
      "CPU times: user 7.55 s, sys: 0 ns, total: 7.55 s\n",
      "Wall time: 7.55 s\n"
     ]
    },
    {
     "data": {
      "text/plain": [
       "pvector([1500, 998, 999, 1, 999, 256])"
      ]
     },
     "execution_count": 25,
     "metadata": {},
     "output_type": "execute_result"
    }
   ],
   "source": [
    "%time run(ip, initial_registers, program)"
   ]
  },
  {
   "cell_type": "markdown",
   "metadata": {},
   "source": [
    "1500 is the answer.\n",
    "\n",
    "### Part 2\n",
    "\n",
    "This is probably going to take a long time, but I'm off to the pub. If it hasn't finished by tomorrow morning then I'll rethink my approach."
   ]
  },
  {
   "cell_type": "code",
   "execution_count": 47,
   "metadata": {},
   "outputs": [
    {
     "ename": "KeyboardInterrupt",
     "evalue": "",
     "output_type": "error",
     "traceback": [
      "\u001b[0;31m---------------------------------------------------------------------------\u001b[0m",
      "\u001b[0;31mKeyboardInterrupt\u001b[0m                         Traceback (most recent call last)",
      "\u001b[0;32m<timed eval>\u001b[0m in \u001b[0;36m<module>\u001b[0;34m()\u001b[0m\n",
      "\u001b[0;32m<ipython-input-43-f68e1e11b75d>\u001b[0m in \u001b[0;36mrun\u001b[0;34m(ip, registers, program, debug)\u001b[0m\n\u001b[1;32m     13\u001b[0m \u001b[0;32mdef\u001b[0m \u001b[0mrun\u001b[0m\u001b[0;34m(\u001b[0m\u001b[0mip\u001b[0m\u001b[0;34m,\u001b[0m \u001b[0mregisters\u001b[0m\u001b[0;34m,\u001b[0m \u001b[0mprogram\u001b[0m\u001b[0;34m,\u001b[0m \u001b[0mdebug\u001b[0m\u001b[0;34m=\u001b[0m\u001b[0;32mFalse\u001b[0m\u001b[0;34m)\u001b[0m\u001b[0;34m:\u001b[0m\u001b[0;34m\u001b[0m\u001b[0m\n\u001b[1;32m     14\u001b[0m     \u001b[0;32mwhile\u001b[0m \u001b[0;32mTrue\u001b[0m\u001b[0;34m:\u001b[0m\u001b[0;34m\u001b[0m\u001b[0m\n\u001b[0;32m---> 15\u001b[0;31m         \u001b[0;32mif\u001b[0m \u001b[0mregisters\u001b[0m\u001b[0;34m[\u001b[0m\u001b[0mip\u001b[0m\u001b[0;34m]\u001b[0m \u001b[0;34m<\u001b[0m \u001b[0;36m0\u001b[0m \u001b[0;32mor\u001b[0m \u001b[0mregisters\u001b[0m\u001b[0;34m[\u001b[0m\u001b[0mip\u001b[0m\u001b[0;34m]\u001b[0m \u001b[0;34m>=\u001b[0m \u001b[0mlen\u001b[0m\u001b[0;34m(\u001b[0m\u001b[0mprogram\u001b[0m\u001b[0;34m)\u001b[0m\u001b[0;34m:\u001b[0m\u001b[0;34m\u001b[0m\u001b[0m\n\u001b[0m\u001b[1;32m     16\u001b[0m             \u001b[0;32mreturn\u001b[0m \u001b[0mregisters\u001b[0m\u001b[0;34m.\u001b[0m\u001b[0mset\u001b[0m\u001b[0;34m(\u001b[0m\u001b[0mip\u001b[0m\u001b[0;34m,\u001b[0m \u001b[0mregisters\u001b[0m\u001b[0;34m[\u001b[0m\u001b[0mip\u001b[0m\u001b[0;34m]\u001b[0m \u001b[0;34m-\u001b[0m \u001b[0;36m1\u001b[0m\u001b[0;34m)\u001b[0m\u001b[0;34m\u001b[0m\u001b[0m\n\u001b[1;32m     17\u001b[0m \u001b[0;34m\u001b[0m\u001b[0m\n",
      "\u001b[0;31mKeyboardInterrupt\u001b[0m: "
     ]
    }
   ],
   "source": [
    "# %time run(ip, initial_registers.set(0, 1), program)"
   ]
  },
  {
   "cell_type": "markdown",
   "metadata": {},
   "source": [
    "That hasn't stopped, let's have a look at what it's doing. First add line numbers so we can see what the instruction pointer is pointing at."
   ]
  },
  {
   "cell_type": "code",
   "execution_count": 51,
   "metadata": {},
   "outputs": [
    {
     "name": "stdout",
     "output_type": "stream",
     "text": [
      "# 00 addi 5 16 5\n",
      "# 01 seti 1 1 4\n",
      "# 02 seti 1 8 2\n",
      "# 03 mulr 4 2 3\n",
      "# 04 eqrr 3 1 3\n",
      "# 05 addr 3 5 5\n",
      "# 06 addi 5 1 5\n",
      "# 07 addr 4 0 0\n",
      "# 08 addi 2 1 2\n",
      "# 09 gtrr 2 1 3\n",
      "# 10 addr 5 3 5\n",
      "# 11 seti 2 6 5\n",
      "# 12 addi 4 1 4\n",
      "# 13 gtrr 4 1 3\n",
      "# 14 addr 3 5 5\n",
      "# 15 seti 1 4 5\n",
      "# 16 mulr 5 5 5\n",
      "# 17 addi 1 2 1\n",
      "# 18 mulr 1 1 1\n",
      "# 19 mulr 5 1 1\n",
      "# 20 muli 1 11 1\n",
      "# 21 addi 3 7 3\n",
      "# 22 mulr 3 5 3\n",
      "# 23 addi 3 8 3\n",
      "# 24 addr 1 3 1\n",
      "# 25 addr 5 0 5\n",
      "# 26 seti 0 9 5\n",
      "# 27 setr 5 8 3\n",
      "# 28 mulr 3 5 3\n",
      "# 29 addr 5 3 3\n",
      "# 30 mulr 5 3 3\n",
      "# 31 muli 3 14 3\n",
      "# 32 mulr 3 5 3\n",
      "# 33 addr 1 3 1\n",
      "# 34 seti 0 4 0\n",
      "# 35 seti 0 3 5\n"
     ]
    }
   ],
   "source": [
    "for i, line in enumerate(open('input').readlines()[1:]):\n",
    "    print(f'# {i:02d} {line.rstrip()}')"
   ]
  },
  {
   "cell_type": "markdown",
   "metadata": {},
   "source": [
    "Now translate it to python by hand. This doesn't do anything as the control flow isn't working."
   ]
  },
  {
   "cell_type": "code",
   "execution_count": 52,
   "metadata": {},
   "outputs": [],
   "source": [
    "r = [1, 0, 0, 0, 0, 0]\n",
    "\n",
    "# The instruction pointer is stored in register 5\n",
    "# I'll use a variable ip so it's clear where the\n",
    "# control flow is\n",
    "\n",
    "ip = 0\n",
    "\n",
    "# 00 addi 5 16 5\n",
    "ip = ip + 16 # GOTO 17\n",
    "# 01 seti 1 1 4\n",
    "r[4] = 1\n",
    "# 02 seti 1 8 2\n",
    "r[2] = 1\n",
    "# 03 mulr 4 2 3\n",
    "r[3] = r[4] * r[2]\n",
    "# 04 eqrr 3 1 3\n",
    "if r[3] == r[1]:\n",
    "    r[3] = 1\n",
    "else:\n",
    "    r[3] = 0\n",
    "# 05 addr 3 5 5\n",
    "ip = ip + r[3]\n",
    "# 06 addi 5 1 5\n",
    "ip = ip + 1 # GOTO 8\n",
    "# 07 addr 4 0 0\n",
    "r[0] = r[4] + r[0]\n",
    "# 08 addi 2 1 2\n",
    "r[2] = r[2] + 1\n",
    "# 09 gtrr 2 1 3\n",
    "if r[2] > r[1]:\n",
    "    r[3] = 1\n",
    "else:\n",
    "    r[3] = 0\n",
    "# 10 addr 5 3 5\n",
    "ip = ip + r[3] \n",
    "# 11 seti 2 6 5\n",
    "ip = 2\n",
    "# 12 addi 4 1 4\n",
    "r[4] = r[4] + 1\n",
    "# 13 gtrr 4 1 3\n",
    "if r[4] > r[1]:\n",
    "    r[3] = 1\n",
    "else:\n",
    "    r[3] = 0\n",
    "# 14 addr 3 5 5\n",
    "ip = ip + r[3] # GOTO ?\n",
    "# 15 seti 1 4 5\n",
    "ip = 1 # GOTO 1\n",
    "# 16 mulr 5 5 5\n",
    "ip = ip * ip # ????\n",
    "# 17 addi 1 2 1\n",
    "r[1] = r[1] + 2\n",
    "# 18 mulr 1 1 1\n",
    "r[1] = r[1] * r[1]\n",
    "# 19 mulr 5 1 1\n",
    "r[1] = ip * r[1]\n",
    "# 20 muli 1 11 1\n",
    "r[1] = r[1] * 11\n",
    "# 21 addi 3 7 3\n",
    "r[3] = r[3] + 7\n",
    "# 22 mulr 3 5 3\n",
    "r[3] = r[3] * ip\n",
    "# 23 addi 3 8 3\n",
    "r[3] = r[3] + 8\n",
    "# 24 addr 1 3 1\n",
    "r[1] = r[3] + r[1]\n",
    "# 25 addr 5 0 5\n",
    "ip = ip + r[0]\n",
    "# 26 seti 0 9 5\n",
    "ip = 0 # GOTO 0\n",
    "# 27 setr 5 8 3\n",
    "r[3] = ip\n",
    "# 28 mulr 3 5 3\n",
    "r[3] = r[3] * ip\n",
    "# 29 addr 5 3 3\n",
    "r[3] = r[3] + ip\n",
    "# 30 mulr 5 3 3\n",
    "r[3] = r[3] * ip\n",
    "# 31 muli 3 14 3\n",
    "r[3] = r[3] * 14\n",
    "# 32 mulr 3 5 3\n",
    "r[3] = r[3] * ip\n",
    "# 33 addr 1 3 1\n",
    "r[1] = r[1] + r[3]\n",
    "# 34 seti 0 4 0\n",
    "r[0] = 0\n",
    "# 35 seti 0 3 5\n",
    "ip = 0 # GOTO 1"
   ]
  },
  {
   "cell_type": "markdown",
   "metadata": {},
   "source": [
    "Remove `ip` as appropriate, replacing with the line number in equations or working out the control flow if it's being set.\n",
    "\n",
    "```\n",
    "r = [1, 0, 0, 0, 0, 0]\n",
    "\n",
    "# 01\n",
    "for r4 in range(1, r[1] + 1)\n",
    "    for r2 in range(1, r[1] + 1):\n",
    "        r[3] = r4 * r2\n",
    "    # 04 eqrr 3 1 3\n",
    "        if r[3] == r[1]:\n",
    "    # 07 addr 4 0 0\n",
    "            r[0] = r[0] + r4\n",
    "# 16 mulr 5 5 5\n",
    "# GOTO 256 i.e. end\n",
    "\n",
    "# START HERE\n",
    "# 17-20\n",
    "r[1] = ((r[1] + 2) ** 2) * 19 * 11\n",
    "# 21-24\n",
    "r[3] = (r[3] + 7) * 22 + 8 \n",
    "r[1] = r[1] + r[3]\n",
    "if r[0] = 0:\n",
    "    # GOTO 1\n",
    "\n",
    "\n",
    "# 27 setr 5 8 3\n",
    "r[3] = 27\n",
    "# 28 mulr 3 5 3\n",
    "r[3] = r[3] * 28\n",
    "# 29 addr 5 3 3\n",
    "r[3] = r[3] + 29\n",
    "# 30 mulr 5 3 3\n",
    "r[3] = r[3] * 30\n",
    "# 31 muli 3 14 3\n",
    "r[3] = r[3] * 14\n",
    "# 32 mulr 3 5 3\n",
    "r[3] = r[3] * 32\n",
    "# 33 addr 1 3 1\n",
    "r[1] = r[1] + r[3]\n",
    "# 34 seti 0 4 0\n",
    "r[0] = 0\n",
    "# 35 seti 0 3 5\n",
    "# GOTO 1\n",
    "```\n",
    "\n",
    "The program starts at line 17 and sets registers 1 and 3, in this case to `4 * 19 * 11` and `7 * 22 + 8 + 4 * 19 * 11`. Then if register 0 is 0 the program jumps to the loop at line 1 and then exits, otherwise it performs more calculations on registers 1 and 3 to make them larger numbers before jumping to the loop. So restructuring the program as a function on the initial value in register 0, returning the final value in register 0, gives"
   ]
  },
  {
   "cell_type": "code",
   "execution_count": 16,
   "metadata": {},
   "outputs": [],
   "source": [
    "def run_2(r0):\n",
    "    r1, r2, r3, r4, r5 = 0, 0, 0, 0, 0\n",
    "\n",
    "    r1 = ((r1 + 2) ** 2) * 19 * 11\n",
    "    # 21-24\n",
    "    r3 = (r3 + 7) * 22 + 8\n",
    "    r1 = r1 + r3\n",
    "    \n",
    "    if r0 != 0:\n",
    "        # 27 setr 5 8 3\n",
    "        r3 = 27\n",
    "        # 28 mulr 3 5 3\n",
    "        r3 = r3 * 28\n",
    "        # 29 addr 5 3 3\n",
    "        r3 = r3 + 29\n",
    "        # 30 mulr 5 3 3\n",
    "        r3 = r3 * 30\n",
    "        # 31 muli 3 14 3\n",
    "        r3 = r3 * 14\n",
    "        # 32 mulr 3 5 3\n",
    "        r3 = r3 * 32\n",
    "        # 33 addr 1 3 1\n",
    "        r1 = r1 + r3\n",
    "        # 34 seti 0 4 0\n",
    "        r0 = 0\n",
    "        # 35 seti 0 3 5\n",
    "\n",
    "    for r4 in range(1, r1 + 1):\n",
    "        for r2 in range(1, r1 + 1):\n",
    "            r3 = r4 * r2\n",
    "            \n",
    "            if r3 == r1:\n",
    "                r0 = r0 + r4\n",
    "    \n",
    "    return r0\n",
    "\n",
    "\n",
    "assert run_2(0) == 1500"
   ]
  },
  {
   "cell_type": "markdown",
   "metadata": {},
   "source": [
    "The final value of r0 is the sum of all numbers which are a factor, not necessarily prime, of r1. (Wasn't there one last year that was pretty much the same but with jumps rather than instruction pointers?) Let's try to speed the code up a bit."
   ]
  },
  {
   "cell_type": "code",
   "execution_count": 28,
   "metadata": {},
   "outputs": [
    {
     "name": "stdout",
     "output_type": "stream",
     "text": [
      "CPU times: user 56 µs, sys: 1 µs, total: 57 µs\n",
      "Wall time: 58.4 µs\n"
     ]
    },
    {
     "data": {
      "text/plain": [
       "1500"
      ]
     },
     "execution_count": 28,
     "metadata": {},
     "output_type": "execute_result"
    }
   ],
   "source": [
    "import math\n",
    "\n",
    "def run_2(r0):\n",
    "    r1, r2, r3, r4, r5 = 0, 0, 0, 0, 0\n",
    "\n",
    "    r1 = ((r1 + 2) ** 2) * 19 * 11\n",
    "    # 21-24\n",
    "    r3 = (r3 + 7) * 22 + 8\n",
    "    r1 = r1 + r3\n",
    "    \n",
    "    if r0 != 0:\n",
    "        # 27 setr 5 8 3\n",
    "        r3 = 27\n",
    "        # 28 mulr 3 5 3\n",
    "        r3 = r3 * 28\n",
    "        # 29 addr 5 3 3\n",
    "        r3 = r3 + 29\n",
    "        # 30 mulr 5 3 3\n",
    "        r3 = r3 * 30\n",
    "        # 31 muli 3 14 3\n",
    "        r3 = r3 * 14\n",
    "        # 32 mulr 3 5 3\n",
    "        r3 = r3 * 32\n",
    "        # 33 addr 1 3 1\n",
    "        r1 = r1 + r3\n",
    "        # 34 seti 0 4 0\n",
    "        r0 = 0\n",
    "        # 35 seti 0 3 5\n",
    "\n",
    "    for r4 in range(1, r1 + 1):\n",
    "        if r1 % r4 == 0:\n",
    "            r0 = r0 + r4\n",
    "    \n",
    "    return r0\n",
    "                    \n",
    "                    \n",
    "%time run_2(0)"
   ]
  },
  {
   "cell_type": "markdown",
   "metadata": {},
   "source": [
    "That's down from 7.5 seconds so it looks hopeful. Try with register 0 set to 1."
   ]
  },
  {
   "cell_type": "code",
   "execution_count": 29,
   "metadata": {},
   "outputs": [
    {
     "name": "stdout",
     "output_type": "stream",
     "text": [
      "CPU times: user 598 ms, sys: 0 ns, total: 598 ms\n",
      "Wall time: 597 ms\n"
     ]
    },
    {
     "data": {
      "text/plain": [
       "18869760"
      ]
     },
     "execution_count": 29,
     "metadata": {},
     "output_type": "execute_result"
    }
   ],
   "source": [
    "%time run_2(1)"
   ]
  }
 ],
 "metadata": {
  "kernelspec": {
   "display_name": "Python [default]",
   "language": "python",
   "name": "python3"
  },
  "language_info": {
   "codemirror_mode": {
    "name": "ipython",
    "version": 3
   },
   "file_extension": ".py",
   "mimetype": "text/x-python",
   "name": "python",
   "nbconvert_exporter": "python",
   "pygments_lexer": "ipython3",
   "version": "3.6.4"
  }
 },
 "nbformat": 4,
 "nbformat_minor": 2
}
