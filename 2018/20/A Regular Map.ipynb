{
 "cells": [
  {
   "cell_type": "markdown",
   "metadata": {},
   "source": [
    "## Day 20: A Regular Map\n",
    "\n",
    "https://adventofcode.com/2018/day/20\n",
    "\n",
    "### Part 1\n",
    "\n",
    "I can't think of a way of generating the paths from the regex directly, so run through each possibility, drawing the map, and then do a breadth first search until the last room is found.\n",
    "\n",
    "Do this a character at a time. The map is represented as a graph, with rooms as nodes. Maintain a set of processing nodes, the possible rooms reached at the current character. Branches are tracked with a stack.\n",
    "\n",
    "If the next character is a direction that direction is applied to the processing nodes and the joining edges are added to the graph.\n",
    "\n",
    "If the next character is an opening bracket then the path branches so add the processing nodes to the stack as the root of the branches, together with an empty set which will become the set of all leaves of the branch, all possible final rooms in the branches' paths.\n",
    "\n",
    "Continue going through the rooms until the branch ends, either with a bar `|` or a closing bracket. The set of processing nodes is then added to the set of the branches' leaves. \n",
    "\n",
    "If the current character is a bar the branches's root becomes the processing nodes again and  then continues working through the new branch's directions.\n",
    "\n",
    "Otherwise there's a closing bracket and these branches are dealt with. The top of the stack is removed and the processing nodes are set to the leaves of the branches. "
   ]
  },
  {
   "cell_type": "code",
   "execution_count": 1,
   "metadata": {},
   "outputs": [],
   "source": [
    "import networkx as nx\n",
    "\n",
    "\n",
    "def next_room(current_room, direction):\n",
    "    x, y = current_room\n",
    "    \n",
    "    if direction == 'N':\n",
    "        return (x, y + 1)\n",
    "    elif direction == 'S':\n",
    "        return (x, y - 1)\n",
    "    elif direction == 'W':\n",
    "        return (x - 1, y)\n",
    "    elif direction == 'E':\n",
    "        return (x + 1, y)\n",
    "    else:\n",
    "        print(current_room, direction)\n",
    "    \n",
    "    \n",
    "def draw_map(regex):\n",
    "    facility = nx.Graph()\n",
    "    processing = {(0,0)}\n",
    "    stack = []\n",
    "    \n",
    "    for c in regex[1:-1]:\n",
    "        if c == '(':\n",
    "            stack.append([processing, set()])\n",
    "        elif c in '|)':\n",
    "            stack[-1][1] |= processing\n",
    "            if c == '|':\n",
    "                processing = stack[-1][0]\n",
    "            elif c == ')':\n",
    "                processing = stack[-1][1]\n",
    "                stack.pop()\n",
    "        else:\n",
    "            next_rooms = {(this_room, next_room(this_room, c))\n",
    "                          for this_room in processing}\n",
    "            for a, b in next_rooms:\n",
    "                facility.add_edge(a, b)\n",
    "            processing = {x for _, x in next_rooms}\n",
    "            \n",
    "    return facility"
   ]
  },
  {
   "cell_type": "markdown",
   "metadata": {},
   "source": [
    "That's shorter and less fiddly than I was expecting. Does it work?"
   ]
  },
  {
   "cell_type": "code",
   "execution_count": 2,
   "metadata": {
    "scrolled": true
   },
   "outputs": [
    {
     "data": {
      "text/plain": [
       "EdgeView([((0, 0), (1, 0)), ((1, 0), (1, 1)), ((1, 1), (0, 1)), ((0, 1), (-1, 1)), ((-1, 1), (-2, 1)), ((-2, 1), (-2, 2)), ((-2, 1), (-2, 0)), ((-2, 2), (-1, 2)), ((-1, 2), (0, 2)), ((0, 2), (1, 2)), ((-2, 0), (-2, -1)), ((-2, -1), (-1, -1)), ((-1, -1), (0, -1)), ((-1, -1), (-1, 0)), ((0, -1), (1, -1))])"
      ]
     },
     "execution_count": 2,
     "metadata": {},
     "output_type": "execute_result"
    }
   ],
   "source": [
    "test_facility = draw_map('^ENWWW(NEEE|SSE(EE|N))$')\n",
    "test_facility.edges"
   ]
  },
  {
   "cell_type": "markdown",
   "metadata": {},
   "source": [
    "It appears so.\n",
    "\n",
    "There's probably something in NetworkX that will find the furthest shortest path but the algorithm is simple enough so hand knit it. This is a form of BFS, where at each increasing depth of search all of the nodes adjacent to those at the previous depth are added. The set of nodes discovered in the last iteration together with their depth are returned."
   ]
  },
  {
   "cell_type": "code",
   "execution_count": 3,
   "metadata": {},
   "outputs": [],
   "source": [
    "def furthest_rooms(facility):\n",
    "    seen = set([(0,0)])\n",
    "    last_seen = set([(0,0)])\n",
    "    n = 0\n",
    "\n",
    "    while True:\n",
    "        next_seen = set().union(*[list(facility.neighbors(r)) \n",
    "                                  for r in last_seen]) - seen\n",
    "        if not next_seen: \n",
    "            return n, last_seen\n",
    "        \n",
    "        n += 1\n",
    "        seen |= next_seen\n",
    "        last_seen = next_seen"
   ]
  },
  {
   "cell_type": "code",
   "execution_count": 4,
   "metadata": {},
   "outputs": [
    {
     "data": {
      "text/plain": [
       "(10, {(1, -1)})"
      ]
     },
     "execution_count": 4,
     "metadata": {},
     "output_type": "execute_result"
    }
   ],
   "source": [
    "furthest_rooms(test_facility)"
   ]
  },
  {
   "cell_type": "markdown",
   "metadata": {},
   "source": [
    "That's the right answer for the first example, let's try the rest."
   ]
  },
  {
   "cell_type": "code",
   "execution_count": 5,
   "metadata": {},
   "outputs": [
    {
     "name": "stdout",
     "output_type": "stream",
     "text": [
      "(3, {(0, 1)})\n",
      "(10, {(1, -1)})\n",
      "(18, {(2, 2)})\n",
      "(23, {(-1, 2)})\n",
      "(31, {(0, -1), (-3, 0), (3, -2)})\n"
     ]
    }
   ],
   "source": [
    "test_cases = [\n",
    "    '^WNE$',\n",
    "    '^ENWWW(NEEE|SSE(EE|N))$',\n",
    "    '^ENNWSWW(NEWS|)SSSEEN(WNSE|)EE(SWEN|)NNN$',\n",
    "    '^ESSWWN(E|NNENN(EESS(WNSE|)SSS|WWWSSSSE(SW|NNNE)))$',\n",
    "    '^WSSEESWWWNW(S|NENNEEEENN(ESSSSW(NWSW|SSEN)|WSWWN(E|WWS(E|SS))))$'\n",
    "]\n",
    "\n",
    "for re in test_cases:\n",
    "    print(furthest_rooms(draw_map(re)))"
   ]
  },
  {
   "cell_type": "markdown",
   "metadata": {},
   "source": [
    "Splendid. Now for the rather lengthy input."
   ]
  },
  {
   "cell_type": "code",
   "execution_count": 6,
   "metadata": {},
   "outputs": [
    {
     "name": "stdout",
     "output_type": "stream",
     "text": [
      "CPU times: user 129 ms, sys: 8.04 ms, total: 137 ms\n",
      "Wall time: 136 ms\n",
      "CPU times: user 25.9 ms, sys: 0 ns, total: 25.9 ms\n",
      "Wall time: 25.8 ms\n"
     ]
    },
    {
     "data": {
      "text/plain": [
       "(3151, {(-30, 5), (-28, 7)})"
      ]
     },
     "execution_count": 6,
     "metadata": {},
     "output_type": "execute_result"
    }
   ],
   "source": [
    "%time facility = draw_map(open('input', 'r').read().strip())\n",
    "%time furthest_rooms(facility)"
   ]
  },
  {
   "cell_type": "markdown",
   "metadata": {},
   "source": [
    "Blimey, right first time and fairly nippy with it. It turns out that going off and thinking about these problems and writing the algorithm down before implementing it makes the code much easier. Who knew? (I had a similar experience with [Day 17](https://github.com/mratford/advent/blob/master/2018/17/Reservoir%20Research.ipynb).)"
   ]
  },
  {
   "cell_type": "markdown",
   "metadata": {},
   "source": [
    "### Part 2\n",
    "\n",
    "A small change to the search function will suffice."
   ]
  },
  {
   "cell_type": "code",
   "execution_count": 7,
   "metadata": {
    "collapsed": true
   },
   "outputs": [],
   "source": [
    "def thousand_doors(facility):\n",
    "    seen = set([(0,0)])\n",
    "    last_seen = set([(0,0)])\n",
    "    n = 0\n",
    "    answer = 0\n",
    "\n",
    "    while True:\n",
    "        next_seen = set().union(*[list(facility.neighbors(r)) \n",
    "                                  for r in last_seen]) - seen\n",
    "        if not next_seen: \n",
    "            return answer\n",
    "        \n",
    "        n += 1\n",
    "        seen |= next_seen\n",
    "        last_seen = next_seen\n",
    "        if n >= 1000:\n",
    "            answer += len(next_seen)"
   ]
  },
  {
   "cell_type": "code",
   "execution_count": 8,
   "metadata": {},
   "outputs": [
    {
     "data": {
      "text/plain": [
       "8784"
      ]
     },
     "execution_count": 8,
     "metadata": {},
     "output_type": "execute_result"
    }
   ],
   "source": [
    "thousand_doors(facility)"
   ]
  },
  {
   "cell_type": "markdown",
   "metadata": {},
   "source": [
    "I'm five days behind so Merry Christmas!"
   ]
  },
  {
   "cell_type": "code",
   "execution_count": null,
   "metadata": {
    "collapsed": true
   },
   "outputs": [],
   "source": []
  }
 ],
 "metadata": {
  "kernelspec": {
   "display_name": "Python 3",
   "language": "python",
   "name": "python3"
  },
  "language_info": {
   "codemirror_mode": {
    "name": "ipython",
    "version": 3
   },
   "file_extension": ".py",
   "mimetype": "text/x-python",
   "name": "python",
   "nbconvert_exporter": "python",
   "pygments_lexer": "ipython3",
   "version": "3.6.1"
  }
 },
 "nbformat": 4,
 "nbformat_minor": 2
}
