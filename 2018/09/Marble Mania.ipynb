{
 "cells": [
  {
   "cell_type": "markdown",
   "metadata": {},
   "source": [
    "## Day 9: Marble Mania\n",
    "\n",
    "https://adventofcode.com/2018/day/9\n",
    "\n",
    "### Part 1\n",
    "\n",
    "Good old `deque`."
   ]
  },
  {
   "cell_type": "code",
   "execution_count": 1,
   "metadata": {},
   "outputs": [],
   "source": [
    "from collections import deque\n",
    "\n",
    "\n",
    "def game(players, highest_marble, display_game=False):\n",
    "    circle = deque([0])\n",
    "    scores = [0 for _ in range(players)]\n",
    "    current_player = 0\n",
    "    \n",
    "    for marble in range(1, highest_marble + 1):\n",
    "        if marble % 23 == 0:\n",
    "            scores[current_player] += marble\n",
    "            circle.rotate(7)\n",
    "            scores[current_player] += circle.popleft()\n",
    "        else:\n",
    "            circle.rotate(-2)\n",
    "            circle.appendleft(marble)\n",
    "            \n",
    "        current_player = (current_player + 1) % players \n",
    "            \n",
    "        if display_game:\n",
    "            print(circle)\n",
    "            \n",
    "    return max(scores)    "
   ]
  },
  {
   "cell_type": "code",
   "execution_count": 2,
   "metadata": {},
   "outputs": [
    {
     "name": "stdout",
     "output_type": "stream",
     "text": [
      "deque([1, 0])\n",
      "deque([2, 1, 0])\n",
      "deque([3, 0, 2, 1])\n",
      "deque([4, 2, 1, 3, 0])\n",
      "deque([5, 1, 3, 0, 4, 2])\n",
      "deque([6, 3, 0, 4, 2, 5, 1])\n",
      "deque([7, 0, 4, 2, 5, 1, 6, 3])\n",
      "deque([8, 4, 2, 5, 1, 6, 3, 7, 0])\n",
      "deque([9, 2, 5, 1, 6, 3, 7, 0, 8, 4])\n",
      "deque([10, 5, 1, 6, 3, 7, 0, 8, 4, 9, 2])\n",
      "deque([11, 1, 6, 3, 7, 0, 8, 4, 9, 2, 10, 5])\n",
      "deque([12, 6, 3, 7, 0, 8, 4, 9, 2, 10, 5, 11, 1])\n",
      "deque([13, 3, 7, 0, 8, 4, 9, 2, 10, 5, 11, 1, 12, 6])\n",
      "deque([14, 7, 0, 8, 4, 9, 2, 10, 5, 11, 1, 12, 6, 13, 3])\n",
      "deque([15, 0, 8, 4, 9, 2, 10, 5, 11, 1, 12, 6, 13, 3, 14, 7])\n",
      "deque([16, 8, 4, 9, 2, 10, 5, 11, 1, 12, 6, 13, 3, 14, 7, 15, 0])\n",
      "deque([17, 4, 9, 2, 10, 5, 11, 1, 12, 6, 13, 3, 14, 7, 15, 0, 16, 8])\n",
      "deque([18, 9, 2, 10, 5, 11, 1, 12, 6, 13, 3, 14, 7, 15, 0, 16, 8, 17, 4])\n",
      "deque([19, 2, 10, 5, 11, 1, 12, 6, 13, 3, 14, 7, 15, 0, 16, 8, 17, 4, 18, 9])\n",
      "deque([20, 10, 5, 11, 1, 12, 6, 13, 3, 14, 7, 15, 0, 16, 8, 17, 4, 18, 9, 19, 2])\n",
      "deque([21, 5, 11, 1, 12, 6, 13, 3, 14, 7, 15, 0, 16, 8, 17, 4, 18, 9, 19, 2, 20, 10])\n",
      "deque([22, 11, 1, 12, 6, 13, 3, 14, 7, 15, 0, 16, 8, 17, 4, 18, 9, 19, 2, 20, 10, 21, 5])\n",
      "deque([19, 2, 20, 10, 21, 5, 22, 11, 1, 12, 6, 13, 3, 14, 7, 15, 0, 16, 8, 17, 4, 18])\n",
      "deque([24, 20, 10, 21, 5, 22, 11, 1, 12, 6, 13, 3, 14, 7, 15, 0, 16, 8, 17, 4, 18, 19, 2])\n",
      "deque([25, 10, 21, 5, 22, 11, 1, 12, 6, 13, 3, 14, 7, 15, 0, 16, 8, 17, 4, 18, 19, 2, 24, 20])\n"
     ]
    },
    {
     "data": {
      "text/plain": [
       "32"
      ]
     },
     "execution_count": 2,
     "metadata": {},
     "output_type": "execute_result"
    }
   ],
   "source": [
    "game(9, 25, display_game=True)"
   ]
  },
  {
   "cell_type": "markdown",
   "metadata": {},
   "source": [
    "That looks OK. Try on the rest of the test data."
   ]
  },
  {
   "cell_type": "code",
   "execution_count": 3,
   "metadata": {},
   "outputs": [],
   "source": [
    "#    10 players; last marble is worth 1618 points: high score is 8317\n",
    "assert game(10, 1618) == 8317\n",
    "#    13 players; last marble is worth 7999 points: high score is 146373\n",
    "assert game(13, 7999) == 146373\n",
    "#    17 players; last marble is worth 1104 points: high score is 2764\n",
    "assert game(17, 1104) == 2764\n",
    "#    21 players; last marble is worth 6111 points: high score is 54718\n",
    "assert game(21, 6111) == 54718\n",
    "#    30 players; last marble is worth 5807 points: high score is 37305"
   ]
  },
  {
   "cell_type": "markdown",
   "metadata": {},
   "source": [
    "The puzzle scenario is \"403 players; last marble is worth 71920 points\"."
   ]
  },
  {
   "cell_type": "code",
   "execution_count": 4,
   "metadata": {},
   "outputs": [
    {
     "data": {
      "text/plain": [
       "439089"
      ]
     },
     "execution_count": 4,
     "metadata": {},
     "output_type": "execute_result"
    }
   ],
   "source": [
    "game(403, 71920)"
   ]
  },
  {
   "cell_type": "markdown",
   "metadata": {},
   "source": [
    "### Part 2"
   ]
  },
  {
   "cell_type": "code",
   "execution_count": 5,
   "metadata": {},
   "outputs": [
    {
     "name": "stdout",
     "output_type": "stream",
     "text": [
      "CPU times: user 3.55 s, sys: 120 ms, total: 3.67 s\n",
      "Wall time: 3.67 s\n"
     ]
    },
    {
     "data": {
      "text/plain": [
       "3668541094"
      ]
     },
     "execution_count": 5,
     "metadata": {},
     "output_type": "execute_result"
    }
   ],
   "source": [
    "%time game(403, 7192000)"
   ]
  },
  {
   "cell_type": "code",
   "execution_count": null,
   "metadata": {
    "collapsed": true
   },
   "outputs": [],
   "source": []
  }
 ],
 "metadata": {
  "kernelspec": {
   "display_name": "Python 3",
   "language": "python",
   "name": "python3"
  },
  "language_info": {
   "codemirror_mode": {
    "name": "ipython",
    "version": 3
   },
   "file_extension": ".py",
   "mimetype": "text/x-python",
   "name": "python",
   "nbconvert_exporter": "python",
   "pygments_lexer": "ipython3",
   "version": "3.6.1"
  }
 },
 "nbformat": 4,
 "nbformat_minor": 2
}
