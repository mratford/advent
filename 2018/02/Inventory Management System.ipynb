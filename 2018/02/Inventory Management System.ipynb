{
 "cells": [
  {
   "cell_type": "markdown",
   "metadata": {},
   "source": [
    "## Day 2: Inventory Management System\n",
    "\n",
    "https://adventofcode.com/2018/day/2\n",
    "\n",
    "### Part 1\n",
    "\n",
    "Use `Counter` to count the number of times of each letter appears in an id. As it's a subclass of dictionary use `values` to check if any letter has appeared exactly two or three times.  "
   ]
  },
  {
   "cell_type": "code",
   "execution_count": 1,
   "metadata": {},
   "outputs": [],
   "source": [
    "from collections import Counter\n",
    "\n",
    "def checksum(ids):\n",
    "    # Track the number of times any id has a letter\n",
    "    # appearing exactly two or three times\n",
    "    twos = 0\n",
    "    threes = 0\n",
    "    \n",
    "    for id in ids:\n",
    "        \n",
    "        # Count the number of times each letter appears\n",
    "        count = Counter(id)\n",
    "        \n",
    "        # Do any appear twice?\n",
    "        if 2 in count.values():\n",
    "            twos += 1\n",
    "        # ... or thrice?\n",
    "        if 3 in count.values():\n",
    "            threes += 1\n",
    "            \n",
    "    return twos * threes"
   ]
  },
  {
   "cell_type": "markdown",
   "metadata": {},
   "source": [
    "Check with the test data, which I embarrassingly failed to do yesterday."
   ]
  },
  {
   "cell_type": "code",
   "execution_count": 2,
   "metadata": {},
   "outputs": [],
   "source": [
    "test_ids = [\n",
    "    'abcdef',\n",
    "    'bababc',\n",
    "    'abbcde',\n",
    "    'abcccd',\n",
    "    'aabcdd',\n",
    "    'abcdee',\n",
    "    'ababab'\n",
    "]\n",
    "\n",
    "assert checksum(test_ids) == 12"
   ]
  },
  {
   "cell_type": "markdown",
   "metadata": {},
   "source": [
    "That looks OK."
   ]
  },
  {
   "cell_type": "code",
   "execution_count": 3,
   "metadata": {},
   "outputs": [
    {
     "data": {
      "text/plain": [
       "5928"
      ]
     },
     "execution_count": 3,
     "metadata": {},
     "output_type": "execute_result"
    }
   ],
   "source": [
    "ids = [id.strip() for id in open('input', 'r')]\n",
    "\n",
    "checksum(ids)"
   ]
  },
  {
   "cell_type": "markdown",
   "metadata": {},
   "source": [
    "It appears so.\n",
    "\n",
    "### Part 2\n",
    "\n",
    "Define a function to count the number of differing elements in the same position \n",
    "of two sequences."
   ]
  },
  {
   "cell_type": "code",
   "execution_count": 4,
   "metadata": {},
   "outputs": [],
   "source": [
    "def n_differ(xs, ys):\n",
    "    return sum(1 for x, y in zip(xs, ys) if x != y)\n",
    "    \n",
    "assert n_differ('abcde', 'axcye') == 2\n",
    "assert n_differ('fghij', 'fguij') == 1"
   ]
  },
  {
   "cell_type": "markdown",
   "metadata": {},
   "source": [
    "From a sequence of pairs of sequences find all those differing by a single character."
   ]
  },
  {
   "cell_type": "code",
   "execution_count": 5,
   "metadata": {},
   "outputs": [
    {
     "data": {
      "text/plain": [
       "('fghij', 'fguij')"
      ]
     },
     "execution_count": 5,
     "metadata": {},
     "output_type": "execute_result"
    }
   ],
   "source": [
    "def differ_by_one(xys):\n",
    "    yield from ((x, y) for x, y in xys if n_differ(x, y) == 1)\n",
    "\n",
    "next(differ_by_one([('abcde', 'axcye'), ('fghij', 'fguij')]))"
   ]
  },
  {
   "cell_type": "markdown",
   "metadata": {},
   "source": [
    "Find the common characters in matching positions from two strings."
   ]
  },
  {
   "cell_type": "code",
   "execution_count": 6,
   "metadata": {},
   "outputs": [],
   "source": [
    "def matching(xs, ys):\n",
    "    yield from (x for x, y in zip(xs, ys) if x == y)\n",
    "    \n",
    "def matching_characters(s1, s2):\n",
    "    return ''.join(list(matching(s1, s2)))\n",
    "    \n",
    "assert matching_characters('fghij', 'fguij') == 'fgij'"
   ]
  },
  {
   "cell_type": "markdown",
   "metadata": {},
   "source": [
    "Find the first pair of boxes from all possible pairs that differ by one character and give the remaining characters."
   ]
  },
  {
   "cell_type": "code",
   "execution_count": 7,
   "metadata": {},
   "outputs": [],
   "source": [
    "from itertools import combinations\n",
    "\n",
    "def find_boxes(ids):\n",
    "    try:\n",
    "        return next(matching_characters(id1, id2)\n",
    "                    for id1, id2 in differ_by_one(combinations(ids, 2)))\n",
    "    except StopIteration:\n",
    "        return None"
   ]
  },
  {
   "cell_type": "code",
   "execution_count": 8,
   "metadata": {},
   "outputs": [],
   "source": [
    "test_ids_part2 = '''abcde\n",
    "fghij\n",
    "klmno\n",
    "pqrst\n",
    "fguij\n",
    "axcye\n",
    "wvxyz'''.split()\n",
    "\n",
    "assert find_boxes(test_ids_part2) == 'fgij'"
   ]
  },
  {
   "cell_type": "markdown",
   "metadata": {},
   "source": [
    "It seems to work on the test data."
   ]
  },
  {
   "cell_type": "code",
   "execution_count": 9,
   "metadata": {},
   "outputs": [
    {
     "data": {
      "text/plain": [
       "'bqlporuexkwzyabnmgjqctvfs'"
      ]
     },
     "execution_count": 9,
     "metadata": {},
     "output_type": "execute_result"
    }
   ],
   "source": [
    "find_boxes(ids)"
   ]
  },
  {
   "cell_type": "markdown",
   "metadata": {},
   "source": [
    "That passes, jolly good."
   ]
  },
  {
   "cell_type": "code",
   "execution_count": null,
   "metadata": {},
   "outputs": [],
   "source": []
  }
 ],
 "metadata": {
  "kernelspec": {
   "display_name": "Python [conda env:anaconda3]",
   "language": "python",
   "name": "conda-env-anaconda3-py"
  },
  "language_info": {
   "codemirror_mode": {
    "name": "ipython",
    "version": 3
   },
   "file_extension": ".py",
   "mimetype": "text/x-python",
   "name": "python",
   "nbconvert_exporter": "python",
   "pygments_lexer": "ipython3",
   "version": "3.6.4"
  }
 },
 "nbformat": 4,
 "nbformat_minor": 2
}
