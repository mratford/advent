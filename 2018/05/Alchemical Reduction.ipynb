{
 "cells": [
  {
   "cell_type": "markdown",
   "metadata": {},
   "source": [
    "## Day 5: Alchemical Reduction\n",
    "\n",
    "https://adventofcode.com/2018/day/5\n",
    "\n",
    "### Part 1\n",
    "\n",
    "Keep two double ended queues for the front and back of the polymer, starting with the front being the first element of the polymer and the back the rest. If the back of the front and the front of the back react then remove both, otherwise move the front of the back to the back of the front. The fully reacted polymer will be the front when there is no back. I trust this is clear."
   ]
  },
  {
   "cell_type": "code",
   "execution_count": 6,
   "metadata": {},
   "outputs": [],
   "source": [
    "from collections import deque\n",
    "\n",
    "\n",
    "def same_type_opposite_polarity(x, y):\n",
    "    return x != y and x.lower() == y.lower()\n",
    "\n",
    "\n",
    "def react(polarity):\n",
    "    front = deque(polarity[:1])\n",
    "    back = deque(polarity[1:])\n",
    "    \n",
    "    while back:\n",
    "        if same_type_opposite_polarity(front[-1], back[0]):\n",
    "            front.pop()\n",
    "            back.popleft()\n",
    "            \n",
    "            # Make sure the front isn't fully depleted\n",
    "            if not front and back:\n",
    "                front.append(back.popleft())\n",
    "                \n",
    "        else:\n",
    "            front.append(back.popleft())\n",
    "            \n",
    "    return ''.join(front)"
   ]
  },
  {
   "cell_type": "code",
   "execution_count": 8,
   "metadata": {},
   "outputs": [],
   "source": [
    "assert react('aA') == ''\n",
    "assert react('abBA') == ''\n",
    "assert react('abAB') == 'abAB'\n",
    "assert react('dabAcCaCBAcCcaDA') == 'dabCBAcaDA'"
   ]
  },
  {
   "cell_type": "code",
   "execution_count": 11,
   "metadata": {},
   "outputs": [
    {
     "data": {
      "text/plain": [
       "9060"
      ]
     },
     "execution_count": 11,
     "metadata": {},
     "output_type": "execute_result"
    }
   ],
   "source": [
    "input_polymer = open('input', 'r').read().strip()\n",
    "\n",
    "len(react(input_polymer))"
   ]
  },
  {
   "cell_type": "markdown",
   "metadata": {},
   "source": [
    "### Part 2"
   ]
  },
  {
   "cell_type": "code",
   "execution_count": 16,
   "metadata": {},
   "outputs": [],
   "source": [
    "import string\n",
    "\n",
    "def shortest_polymer(polymer):\n",
    "    \n",
    "    # Pairs of upper and lower case letters (a, A), (b, B) etc\n",
    "    exclusions = zip(string.ascii_lowercase, string.ascii_uppercase)\n",
    "    \n",
    "    # 26 polymers, one for each letter of the alphabet being excluded\n",
    "    remaining_polymers = (''.join(c for c in polymer if c not in exclusion) for exclusion in exclusions)\n",
    "    \n",
    "    reactions = (react(p) for p in remaining_polymers)\n",
    "    \n",
    "    return min(len(r) for r in reactions)"
   ]
  },
  {
   "cell_type": "code",
   "execution_count": 17,
   "metadata": {},
   "outputs": [],
   "source": [
    "assert shortest_polymer('dabAcCaCBAcCcaDA') == 4"
   ]
  },
  {
   "cell_type": "code",
   "execution_count": 18,
   "metadata": {},
   "outputs": [
    {
     "data": {
      "text/plain": [
       "6310"
      ]
     },
     "execution_count": 18,
     "metadata": {},
     "output_type": "execute_result"
    }
   ],
   "source": [
    "shortest_polymer(input_polymer)"
   ]
  },
  {
   "cell_type": "markdown",
   "metadata": {},
   "source": [
    "My computer had a brief think about that, using regular expressions might be quicker."
   ]
  },
  {
   "cell_type": "code",
   "execution_count": 19,
   "metadata": {},
   "outputs": [
    {
     "name": "stdout",
     "output_type": "stream",
     "text": [
      "676 ms ± 1.82 ms per loop (mean ± std. dev. of 7 runs, 1 loop each)\n"
     ]
    }
   ],
   "source": [
    "%timeit shortest_polymer(input_polymer)"
   ]
  },
  {
   "cell_type": "markdown",
   "metadata": {},
   "source": [
    "Finished before breakfast. Victory!"
   ]
  },
  {
   "cell_type": "code",
   "execution_count": null,
   "metadata": {},
   "outputs": [],
   "source": []
  }
 ],
 "metadata": {
  "kernelspec": {
   "display_name": "Python [default]",
   "language": "python",
   "name": "python3"
  },
  "language_info": {
   "codemirror_mode": {
    "name": "ipython",
    "version": 3
   },
   "file_extension": ".py",
   "mimetype": "text/x-python",
   "name": "python",
   "nbconvert_exporter": "python",
   "pygments_lexer": "ipython3",
   "version": "3.6.4"
  }
 },
 "nbformat": 4,
 "nbformat_minor": 2
}
