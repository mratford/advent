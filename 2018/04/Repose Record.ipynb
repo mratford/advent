{
 "cells": [
  {
   "cell_type": "markdown",
   "metadata": {},
   "source": [
    "## Day 4: Repose Record\n",
    "\n",
    "https://adventofcode.com/2018/day/4\n",
    "\n",
    "### Part 1\n",
    "\n",
    "The chosen statistical method has its shortcomings. \n",
    "\n",
    "First sort the records by date and time."
   ]
  },
  {
   "cell_type": "code",
   "execution_count": 1,
   "metadata": {},
   "outputs": [],
   "source": [
    "import parse\n",
    "from datetime import datetime\n",
    "from collections import defaultdict, Counter, namedtuple\n",
    "\n",
    "def parse_records(input):\n",
    "    parsed = [parse.parse('[{date}] {event}', record.strip()) \n",
    "              for record in input]\n",
    "    records = sorted((datetime.strptime(record['date'], '%Y-%m-%d %H:%M'), record['event']) for record in parsed)\n",
    "    return records"
   ]
  },
  {
   "cell_type": "code",
   "execution_count": 2,
   "metadata": {},
   "outputs": [
    {
     "data": {
      "text/plain": [
       "[(datetime.datetime(1518, 11, 1, 0, 0), 'Guard #10 begins shift'),\n",
       " (datetime.datetime(1518, 11, 1, 0, 5), 'falls asleep'),\n",
       " (datetime.datetime(1518, 11, 1, 0, 25), 'wakes up'),\n",
       " (datetime.datetime(1518, 11, 1, 0, 30), 'falls asleep'),\n",
       " (datetime.datetime(1518, 11, 1, 0, 55), 'wakes up')]"
      ]
     },
     "execution_count": 2,
     "metadata": {},
     "output_type": "execute_result"
    }
   ],
   "source": [
    "test_data = '''[1518-11-01 00:00] Guard #10 begins shift\n",
    "[1518-11-01 00:05] falls asleep\n",
    "[1518-11-01 00:25] wakes up\n",
    "[1518-11-01 00:30] falls asleep\n",
    "[1518-11-01 00:55] wakes up\n",
    "[1518-11-01 23:58] Guard #99 begins shift\n",
    "[1518-11-02 00:40] falls asleep\n",
    "[1518-11-02 00:50] wakes up\n",
    "[1518-11-03 00:05] Guard #10 begins shift\n",
    "[1518-11-03 00:24] falls asleep\n",
    "[1518-11-03 00:29] wakes up\n",
    "[1518-11-04 00:02] Guard #99 begins shift\n",
    "[1518-11-04 00:36] falls asleep\n",
    "[1518-11-04 00:46] wakes up\n",
    "[1518-11-05 00:03] Guard #99 begins shift\n",
    "[1518-11-05 00:45] falls asleep\n",
    "[1518-11-05 00:55] wakes up'''.splitlines()\n",
    "\n",
    "test_records = parse_records(test_data)\n",
    "test_records[:5]"
   ]
  },
  {
   "cell_type": "code",
   "execution_count": 3,
   "metadata": {},
   "outputs": [
    {
     "data": {
      "text/plain": [
       "[(datetime.datetime(1518, 2, 3, 0, 3), 'Guard #691 begins shift'),\n",
       " (datetime.datetime(1518, 2, 3, 0, 12), 'falls asleep'),\n",
       " (datetime.datetime(1518, 2, 3, 0, 28), 'wakes up'),\n",
       " (datetime.datetime(1518, 2, 3, 0, 43), 'falls asleep'),\n",
       " (datetime.datetime(1518, 2, 3, 0, 55), 'wakes up')]"
      ]
     },
     "execution_count": 3,
     "metadata": {},
     "output_type": "execute_result"
    }
   ],
   "source": [
    "input_records = parse_records(open('input', 'r'))\n",
    "input_records[:5]"
   ]
  },
  {
   "cell_type": "markdown",
   "metadata": {},
   "source": [
    "Count how often each guard is asleep for each minute of the hour."
   ]
  },
  {
   "cell_type": "code",
   "execution_count": 4,
   "metadata": {},
   "outputs": [],
   "source": [
    "def count_minutes(sorted_records):\n",
    "    minutes_count = defaultdict(Counter)\n",
    "    guard_on_duty = None\n",
    "    fell_asleep = None\n",
    "    \n",
    "    for date, event in sorted_records:\n",
    "        if event == \"falls asleep\":\n",
    "            fell_asleep = date.minute\n",
    "        elif event == \"wakes up\":\n",
    "            minutes_count[guard_on_duty].update(range(fell_asleep, date.minute))\n",
    "        else: \n",
    "            guard_on_duty = parse.parse('Guard #{guard:d} begins shift', event)['guard']\n",
    "        \n",
    "    return minutes_count\n",
    "\n",
    "test_count = count_minutes(test_records)\n",
    "assert test_count[10][24] == 2"
   ]
  },
  {
   "cell_type": "markdown",
   "metadata": {},
   "source": [
    "Rigorous testing there.\n",
    "\n",
    "This is fiddly. The sleepiest guard is the one with the highest total count of minutes asleep, and the sleepiest minute is the one the sleepiest guard most frequently slept through."
   ]
  },
  {
   "cell_type": "code",
   "execution_count": 5,
   "metadata": {},
   "outputs": [],
   "source": [
    "def answer(minutes_count):\n",
    "    sleepiest_guard = max(minutes_count, \n",
    "                          key=lambda guard: sum(minutes_count[guard].values()))\n",
    "    sleepiest_minute = max(minutes_count[sleepiest_guard], \n",
    "                           key=lambda minute: minutes_count[sleepiest_guard][minute])\n",
    "    return sleepiest_guard * sleepiest_minute\n",
    "\n",
    "assert answer(count_minutes(test_records)) == 240"
   ]
  },
  {
   "cell_type": "code",
   "execution_count": 6,
   "metadata": {},
   "outputs": [
    {
     "data": {
      "text/plain": [
       "104764"
      ]
     },
     "execution_count": 6,
     "metadata": {},
     "output_type": "execute_result"
    }
   ],
   "source": [
    "input_count = count_minutes(input_records)\n",
    "\n",
    "answer(input_count)"
   ]
  },
  {
   "cell_type": "markdown",
   "metadata": {},
   "source": [
    "### Part 2\n",
    "\n",
    "Even more fiddly. Find the sleepiest minute for each guard, keeping track of how sleepy they were so we can then find the sleepiest minute among those minutes, plus keeping track of which guard it was so we can calculate the answer. This isn't very elegant."
   ]
  },
  {
   "cell_type": "code",
   "execution_count": 7,
   "metadata": {},
   "outputs": [],
   "source": [
    "RegularSleep = namedtuple(\"RegularSleep\", \"frequency guard minute\")\n",
    "\n",
    "def answer_2(minutes_count):\n",
    "    sleepiest_minutes = []\n",
    "    \n",
    "    for guard in minutes_count:\n",
    "        sleepiest_minute = max(minutes_count[guard], \n",
    "                               key=lambda minute: minutes_count[guard][minute])\n",
    "        sleepiest_minutes.append(RegularSleep(minutes_count[guard][sleepiest_minute],\n",
    "                                              guard,\n",
    "                                              sleepiest_minute))\n",
    "        \n",
    "    most_regular_sleeper = max(sleepiest_minutes)\n",
    "    return most_regular_sleeper.guard * most_regular_sleeper.minute\n",
    "\n",
    "assert answer_2(count_minutes(test_records)) == 4455"
   ]
  },
  {
   "cell_type": "code",
   "execution_count": 8,
   "metadata": {},
   "outputs": [
    {
     "data": {
      "text/plain": [
       "128617"
      ]
     },
     "execution_count": 8,
     "metadata": {},
     "output_type": "execute_result"
    }
   ],
   "source": [
    "answer_2(count_minutes(input_records))"
   ]
  },
  {
   "cell_type": "code",
   "execution_count": null,
   "metadata": {},
   "outputs": [],
   "source": []
  }
 ],
 "metadata": {
  "kernelspec": {
   "display_name": "Python [default]",
   "language": "python",
   "name": "python3"
  },
  "language_info": {
   "codemirror_mode": {
    "name": "ipython",
    "version": 3
   },
   "file_extension": ".py",
   "mimetype": "text/x-python",
   "name": "python",
   "nbconvert_exporter": "python",
   "pygments_lexer": "ipython3",
   "version": "3.6.4"
  }
 },
 "nbformat": 4,
 "nbformat_minor": 2
}
