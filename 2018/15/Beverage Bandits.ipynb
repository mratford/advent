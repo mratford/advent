{
 "cells": [
  {
   "cell_type": "markdown",
   "metadata": {},
   "source": [
    "## Day 15: Beverage Bandits\n",
    "\n",
    "https://adventofcode.com/2018/day/15\n",
    "\n",
    "### Part 1"
   ]
  },
  {
   "cell_type": "code",
   "execution_count": 31,
   "metadata": {},
   "outputs": [
    {
     "name": "stdout",
     "output_type": "stream",
     "text": [
      "#######\n",
      "#.G...#   G(200)\n",
      "#...EG#   E(200), G(200)\n",
      "#.#.#G#   G(200)\n",
      "#..G#E#   G(200), E(200)\n",
      "#.....#\n",
      "#######\n",
      "\n"
     ]
    }
   ],
   "source": [
    "from collections import namedtuple\n",
    "import networkx as nx\n",
    "\n",
    "\n",
    "State = namedtuple('State', 'cave units')\n",
    "Unit = namedtuple('Unit', 'is_elf health attack')\n",
    "\n",
    "\n",
    "def parse_cave(cave_data):\n",
    "    cave = nx.Graph()\n",
    "    units = {}\n",
    "    \n",
    "    for row, line in enumerate(cave_data):\n",
    "        for column, c in enumerate(line.rstrip()):\n",
    "            if c != '#':\n",
    "                cave.add_node((row, column))\n",
    "                \n",
    "                if c != '.':\n",
    "                    units[(row, column)] = Unit(c == 'E', 200, 3)\n",
    "    \n",
    "    # Link neighbouring squares\n",
    "    for row, column in cave.nodes:\n",
    "        for dr in (-1, 1):\n",
    "            for dc in (-1, 1):\n",
    "                if (row + dr, column + dc) in cave.nodes:\n",
    "                    cave.add_edge((row, column), (row + dr, column + dc))\n",
    "                    \n",
    "    return State(cave, units)\n",
    "\n",
    "\n",
    "def cave_map(state):\n",
    "    cave, units = state\n",
    "    \n",
    "    output = ''\n",
    "    \n",
    "    rs, cs = zip(*cave.nodes)\n",
    "    \n",
    "    for row in range(min(rs) - 1, max(rs) + 2):\n",
    "        units_in_row = []\n",
    "        for col in range(min(cs) - 1, max(rs) + 2):\n",
    "            pos = (row, col)\n",
    "            \n",
    "            if pos in cave.nodes:\n",
    "                if pos in units:\n",
    "                    output += 'E' if units[pos].is_elf else 'G'\n",
    "                    units_in_row.append(units[pos])\n",
    "                else:\n",
    "                    output += '.'\n",
    "            else:\n",
    "                output += '#'\n",
    "                \n",
    "        if units_in_row:\n",
    "            output += '   ' + ', '.join(f\"{'E' if u.is_elf else 'G'}({u.health})\"\n",
    "                                        for u in units_in_row)\n",
    "        output += '\\n'\n",
    "        \n",
    "    return output\n",
    "                \n",
    "    \n",
    "test_data = '''#######   \n",
    "#.G...#\n",
    "#...EG#\n",
    "#.#.#G#\n",
    "#..G#E#\n",
    "#.....#   \n",
    "#######'''.splitlines()\n",
    "\n",
    "test_state = parse_cave(test_data)\n",
    "print(cave_map(test_state))"
   ]
  },
  {
   "cell_type": "code",
   "execution_count": 32,
   "metadata": {},
   "outputs": [],
   "source": [
    "def are_enemies(unit1, unit2):\n",
    "    return unit1.is_elf != unit.is_elf\n",
    "\n",
    "\n",
    "def next_position(state, unit):\n",
    "    cave, units = state\n",
    "    other_unit_positions = {u.position for u in units} - {unit.position}\n",
    "    enemy_ranges = set().union(set(state.cave.neighbours[units[u].position])\n",
    "                               for u in units \n",
    "                               if are_enemies(units, units[u]))\n",
    "    print(enemy_ranges)\n",
    "    "
   ]
  },
  {
   "cell_type": "code",
   "execution_count": 33,
   "metadata": {},
   "outputs": [
    {
     "data": {
      "text/plain": [
       "{(1, 2): Unit(is_elf=False, health=200, attack=3),\n",
       " (2, 4): Unit(is_elf=True, health=200, attack=3),\n",
       " (2, 5): Unit(is_elf=False, health=200, attack=3),\n",
       " (3, 5): Unit(is_elf=False, health=200, attack=3),\n",
       " (4, 3): Unit(is_elf=False, health=200, attack=3),\n",
       " (4, 5): Unit(is_elf=True, health=200, attack=3)}"
      ]
     },
     "execution_count": 33,
     "metadata": {},
     "output_type": "execute_result"
    }
   ],
   "source": [
    "test_state.units"
   ]
  },
  {
   "cell_type": "code",
   "execution_count": null,
   "metadata": {},
   "outputs": [],
   "source": []
  },
  {
   "cell_type": "code",
   "execution_count": null,
   "metadata": {},
   "outputs": [],
   "source": []
  }
 ],
 "metadata": {
  "kernelspec": {
   "display_name": "Python [default]",
   "language": "python",
   "name": "python3"
  },
  "language_info": {
   "codemirror_mode": {
    "name": "ipython",
    "version": 3
   },
   "file_extension": ".py",
   "mimetype": "text/x-python",
   "name": "python",
   "nbconvert_exporter": "python",
   "pygments_lexer": "ipython3",
   "version": "3.6.4"
  }
 },
 "nbformat": 4,
 "nbformat_minor": 2
}
