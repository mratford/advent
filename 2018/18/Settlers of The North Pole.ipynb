{
 "cells": [
  {
   "cell_type": "markdown",
   "metadata": {},
   "source": [
    "## Day 18: Settlers of The North Pole\n",
    "\n",
    "https://adventofcode.com/2018/day/18\n",
    "\n",
    "### Part 1\n",
    "\n",
    "Another case of following the instructions. "
   ]
  },
  {
   "cell_type": "code",
   "execution_count": 1,
   "metadata": {},
   "outputs": [
    {
     "name": "stdout",
     "output_type": "stream",
     "text": [
      ".#.#...|#.\n",
      ".....#|##|\n",
      ".|..|...#.\n",
      "..|#.....#\n",
      "#.#|||#|#|\n",
      "...#.||...\n",
      ".|....|...\n",
      "||...#|.#|\n",
      "|.||||..|.\n",
      "...#.|..|.\n"
     ]
    }
   ],
   "source": [
    "from collections import defaultdict, Counter\n",
    "from pyrsistent import pmap\n",
    "\n",
    "\n",
    "def adjacent(xy):\n",
    "    x, y = xy\n",
    "    \n",
    "    for dx in range(-1, 2):\n",
    "        for dy in range(-1, 2):\n",
    "            if dx != 0 or dy != 0:\n",
    "                yield (x + dx, y + dy)\n",
    "                \n",
    "                \n",
    "def next_acre(acres, xy):\n",
    "    c = Counter(acres[n] for n in adjacent(xy) if n in acres)\n",
    "    \n",
    "    if acres[xy] == '.' and c['|'] >= 3:\n",
    "        return '|'\n",
    "    elif acres[xy] == '|' and c['#'] >= 3:\n",
    "        return '#'\n",
    "    elif acres[xy] == '#' and (c['|'] < 1 or c['#'] < 1):\n",
    "        return '.'\n",
    "    else:\n",
    "        return acres[xy]\n",
    "    \n",
    "\n",
    "def minute(acres):\n",
    "    return pmap({xy: next_acre(acres, xy) for xy in acres})\n",
    "\n",
    "\n",
    "def n_minutes(acres, n):\n",
    "    for _ in range(n):\n",
    "        acres = minute(acres)\n",
    "        \n",
    "    return acres\n",
    "\n",
    "\n",
    "def parse_acres(acres_data):\n",
    "    acres = pmap()\n",
    "    \n",
    "    for y, line in enumerate(acres_data):\n",
    "        for x, c in enumerate(line.rstrip()):\n",
    "            acres = acres.set((x, y), c)\n",
    "            \n",
    "    return acres\n",
    "\n",
    "\n",
    "def print_acres(acres):\n",
    "    xs, ys = zip(*acres)\n",
    "    \n",
    "    for y in range(min(ys), max(ys) + 1):\n",
    "        line = ''\n",
    "        \n",
    "        for x in range(min(xs), max(xs) + 1):\n",
    "            line += acres[(x, y)]\n",
    "            \n",
    "        print(line)\n",
    "            \n",
    "            \n",
    "test_acres = parse_acres('''.#.#...|#.\n",
    ".....#|##|\n",
    ".|..|...#.\n",
    "..|#.....#\n",
    "#.#|||#|#|\n",
    "...#.||...\n",
    ".|....|...\n",
    "||...#|.#|\n",
    "|.||||..|.\n",
    "...#.|..|.'''.splitlines())\n",
    "\n",
    "print_acres(test_acres)"
   ]
  },
  {
   "cell_type": "code",
   "execution_count": 2,
   "metadata": {},
   "outputs": [
    {
     "name": "stdout",
     "output_type": "stream",
     "text": [
      "After 1 minutes:\n",
      ".......##.\n",
      "......|###\n",
      ".|..|...#.\n",
      "..|#||...#\n",
      "..##||.|#|\n",
      "...#||||..\n",
      "||...|||..\n",
      "|||||.||.|\n",
      "||||||||||\n",
      "....||..|.\n",
      "After 2 minutes:\n",
      ".......#..\n",
      "......|#..\n",
      ".|.|||....\n",
      "..##|||..#\n",
      "..###|||#|\n",
      "...#|||||.\n",
      "|||||||||.\n",
      "||||||||||\n",
      "||||||||||\n",
      ".|||||||||\n",
      "After 3 minutes:\n",
      ".......#..\n",
      "....|||#..\n",
      ".|.||||...\n",
      "..###|||.#\n",
      "...##|||#|\n",
      ".||##|||||\n",
      "||||||||||\n",
      "||||||||||\n",
      "||||||||||\n",
      "||||||||||\n",
      "After 4 minutes:\n",
      ".....|.#..\n",
      "...||||#..\n",
      ".|.#||||..\n",
      "..###||||#\n",
      "...###||#|\n",
      "|||##|||||\n",
      "||||||||||\n",
      "||||||||||\n",
      "||||||||||\n",
      "||||||||||\n",
      "After 5 minutes:\n",
      "....|||#..\n",
      "...||||#..\n",
      ".|.##||||.\n",
      "..####|||#\n",
      ".|.###||#|\n",
      "|||###||||\n",
      "||||||||||\n",
      "||||||||||\n",
      "||||||||||\n",
      "||||||||||\n",
      "After 6 minutes:\n",
      "...||||#..\n",
      "...||||#..\n",
      ".|.###|||.\n",
      "..#.##|||#\n",
      "|||#.##|#|\n",
      "|||###||||\n",
      "||||#|||||\n",
      "||||||||||\n",
      "||||||||||\n",
      "||||||||||\n",
      "After 7 minutes:\n",
      "...||||#..\n",
      "..||#|##..\n",
      ".|.####||.\n",
      "||#..##||#\n",
      "||##.##|#|\n",
      "|||####|||\n",
      "|||###||||\n",
      "||||||||||\n",
      "||||||||||\n",
      "||||||||||\n",
      "After 8 minutes:\n",
      "..||||##..\n",
      "..|#####..\n",
      "|||#####|.\n",
      "||#...##|#\n",
      "||##..###|\n",
      "||##.###||\n",
      "|||####|||\n",
      "||||#|||||\n",
      "||||||||||\n",
      "||||||||||\n",
      "After 9 minutes:\n",
      "..||###...\n",
      ".||#####..\n",
      "||##...##.\n",
      "||#....###\n",
      "|##....##|\n",
      "||##..###|\n",
      "||######||\n",
      "|||###||||\n",
      "||||||||||\n",
      "||||||||||\n",
      "After 10 minutes:\n",
      ".||##.....\n",
      "||###.....\n",
      "||##......\n",
      "|##.....##\n",
      "|##.....##\n",
      "|##....##|\n",
      "||##.####|\n",
      "||#####|||\n",
      "||||#|||||\n",
      "||||||||||\n"
     ]
    }
   ],
   "source": [
    "a = test_acres\n",
    "for n in range(1, 11):\n",
    "    a = minute(a)\n",
    "    print(f'After {n} minutes:')\n",
    "    print_acres(a)"
   ]
  },
  {
   "cell_type": "code",
   "execution_count": 3,
   "metadata": {},
   "outputs": [
    {
     "data": {
      "text/plain": [
       "Counter({'|': 37, '#': 31, '.': 32})"
      ]
     },
     "execution_count": 3,
     "metadata": {},
     "output_type": "execute_result"
    }
   ],
   "source": [
    "Counter(a.values())"
   ]
  },
  {
   "cell_type": "code",
   "execution_count": 4,
   "metadata": {},
   "outputs": [
    {
     "data": {
      "text/plain": [
       "Counter({'.': 894, '|': 1096, '#': 510})"
      ]
     },
     "execution_count": 4,
     "metadata": {},
     "output_type": "execute_result"
    }
   ],
   "source": [
    "Counter(n_minutes(parse_acres(open('input', 'r')), 10).values())"
   ]
  },
  {
   "cell_type": "code",
   "execution_count": 5,
   "metadata": {},
   "outputs": [
    {
     "data": {
      "text/plain": [
       "558960"
      ]
     },
     "execution_count": 5,
     "metadata": {},
     "output_type": "execute_result"
    }
   ],
   "source": [
    "1096*510"
   ]
  }
 ],
 "metadata": {
  "kernelspec": {
   "display_name": "Python 3",
   "language": "python",
   "name": "python3"
  },
  "language_info": {
   "codemirror_mode": {
    "name": "ipython",
    "version": 3
   },
   "file_extension": ".py",
   "mimetype": "text/x-python",
   "name": "python",
   "nbconvert_exporter": "python",
   "pygments_lexer": "ipython3",
   "version": "3.7.1"
  }
 },
 "nbformat": 4,
 "nbformat_minor": 2
}
