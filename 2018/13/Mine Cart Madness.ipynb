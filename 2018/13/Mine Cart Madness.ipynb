{
 "cells": [
  {
   "cell_type": "markdown",
   "metadata": {},
   "source": [
    "## Day 13: Mine Cart Madness\n",
    "\n",
    "https://adventofcode.com/2018/day/13\n",
    "\n",
    "### Part 1\n",
    "\n",
    "Use complex numbers for coordinates as they're hashable and support addition."
   ]
  },
  {
   "cell_type": "code",
   "execution_count": 11,
   "metadata": {},
   "outputs": [],
   "source": [
    "def x(c): \n",
    "    return c.real\n",
    "def y(c):\n",
    "    return c.imag\n",
    "\n",
    "UP = complex(0, -1)\n",
    "DOWN = complex(0, 1)\n",
    "LEFT = complex(-1, 0)\n",
    "RIGHT = complex(1, 0)\n",
    "\n",
    "cart_directions = {'<': LEFT, '>': RIGHT, '^': UP, 'v': DOWN}\n",
    "\n",
    "def parse_mine(mine_data):\n",
    "    mine = {}\n",
    "    carts = {}\n",
    "    for y, row in enumerate(mine_date):\n",
    "        for x, c in enumerate(row):\n",
    "            if c != ' ':\n",
    "                mine[complex(x, y)] = c.translate(str.maketrans('<>^v', '--||'))\n",
    "                if c in '<>^v':\n",
    "                    carts[complex(x, y)] = cart_directions[c]\n",
    "                    "
   ]
  },
  {
   "cell_type": "code",
   "execution_count": null,
   "metadata": {},
   "outputs": [],
   "source": []
  }
 ],
 "metadata": {
  "kernelspec": {
   "display_name": "Python 3",
   "language": "python",
   "name": "python3"
  },
  "language_info": {
   "codemirror_mode": {
    "name": "ipython",
    "version": 3
   },
   "file_extension": ".py",
   "mimetype": "text/x-python",
   "name": "python",
   "nbconvert_exporter": "python",
   "pygments_lexer": "ipython3",
   "version": "3.7.1"
  }
 },
 "nbformat": 4,
 "nbformat_minor": 2
}
