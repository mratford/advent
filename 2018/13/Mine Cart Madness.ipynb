{
 "cells": [
  {
   "cell_type": "markdown",
   "metadata": {},
   "source": [
    "## Day 13: Mine Cart Madness\n",
    "\n",
    "https://adventofcode.com/2018/day/13\n",
    "\n",
    "### Part 1\n",
    "\n",
    "Use complex numbers for coordinates as they're hashable and support addition."
   ]
  },
  {
   "cell_type": "code",
   "execution_count": 1,
   "metadata": {},
   "outputs": [],
   "source": [
    "from itertools import cycle, count\n",
    "import copy\n",
    "\n",
    "\n",
    "class Cart:\n",
    "    def __init__(self, position, direction, next_turn):\n",
    "        self.position = position\n",
    "        self.direction = direction\n",
    "        self.next_turn = next_turn\n",
    "\n",
    "        \n",
    "def coordinate(c):\n",
    "    return(c.real, c.imag)\n",
    "\n",
    "\n",
    "UP = complex(0, -1)\n",
    "DOWN = complex(0, 1)\n",
    "LEFT = complex(-1, 0)\n",
    "RIGHT = complex(1, 0)\n",
    "\n",
    "\n",
    "turn_left = dict(zip((UP, RIGHT, DOWN, LEFT), \n",
    "                     (LEFT, UP, RIGHT, DOWN)))\n",
    "straight_on = dict(zip((UP, RIGHT, DOWN, LEFT),\n",
    "                       (UP, RIGHT, DOWN, LEFT)))\n",
    "turn_right = dict(zip((LEFT, UP, RIGHT, DOWN),\n",
    "                      (UP, RIGHT, DOWN, LEFT)))\n",
    "\n",
    "corner = {'\\\\': {LEFT: UP, UP: LEFT, DOWN: RIGHT, RIGHT: DOWN},\n",
    "          '/': {LEFT: DOWN, DOWN: LEFT, UP: RIGHT, RIGHT: UP}}                      \n",
    "\n",
    "cart_directions = {'<': LEFT, '>': RIGHT, '^': UP, 'v': DOWN}\n",
    "\n",
    "\n",
    "def parse_mine(mine_data):\n",
    "    cart_ids = count(1)\n",
    "    mine = {}\n",
    "    carts = {}\n",
    "    for y, row in enumerate(mine_data):\n",
    "        for x, c in enumerate(row.rstrip()):\n",
    "            if c != ' ':\n",
    "                mine[complex(x, y)] = c.translate(str.maketrans('<>^v', '--||'))\n",
    "                if c in '<>^v':\n",
    "                    cart_id = next(cart_ids)\n",
    "                    carts[cart_id] =  Cart(complex(x, y), \n",
    "                                           cart_directions[c],\n",
    "                                           cycle((turn_left, straight_on, turn_right)))\n",
    "    return (mine, carts)\n",
    "\n",
    "\n",
    "def next_crash(mine, carts):\n",
    "    carts = copy.deepcopy(carts)\n",
    "    for tick in count(1):\n",
    "        # sorting coordinates puts the carts in order of movement\n",
    "        for cart in sorted(carts, key=lambda c: coordinate(carts[c].position)):\n",
    "            direction = carts[cart].direction\n",
    "            tile = mine[carts[cart].position]\n",
    "            if tile in corner:\n",
    "                direction = corner[tile][direction]\n",
    "            elif tile == '+':\n",
    "                direction = next(carts[cart].next_turn)[direction]\n",
    "            new_position = carts[cart].position + direction\n",
    "            if new_position in (carts[c].position for c in carts):\n",
    "                return coordinate(new_position)\n",
    "            carts[cart].position = new_position\n",
    "            carts[cart].direction = direction"
   ]
  },
  {
   "cell_type": "code",
   "execution_count": 2,
   "metadata": {},
   "outputs": [],
   "source": [
    "test_data = r'''/->-\\        \n",
    "|   |  /----\\\n",
    "| /-+--+-\\  |\n",
    "| | |  | v  |\n",
    "\\-+-/  \\-+--/\n",
    "  \\------/   '''.splitlines()\n",
    "\n",
    "test_mine, test_carts = parse_mine(test_data)"
   ]
  },
  {
   "cell_type": "code",
   "execution_count": 3,
   "metadata": {},
   "outputs": [
    {
     "data": {
      "text/plain": [
       "(7.0, 3.0)"
      ]
     },
     "execution_count": 3,
     "metadata": {},
     "output_type": "execute_result"
    }
   ],
   "source": [
    "next_crash(test_mine, test_carts)"
   ]
  },
  {
   "cell_type": "code",
   "execution_count": 4,
   "metadata": {},
   "outputs": [
    {
     "data": {
      "text/plain": [
       "(48.0, 20.0)"
      ]
     },
     "execution_count": 4,
     "metadata": {},
     "output_type": "execute_result"
    }
   ],
   "source": [
    "mine, carts = parse_mine(open('input', 'r'))\n",
    "\n",
    "next_crash(mine, carts)"
   ]
  },
  {
   "cell_type": "markdown",
   "metadata": {},
   "source": [
    "Blimey, right first time. Perhaps I should write more hacky inelegant code after going to the pub.\n",
    "\n",
    "### Part 2"
   ]
  },
  {
   "cell_type": "code",
   "execution_count": 5,
   "metadata": {},
   "outputs": [],
   "source": [
    "def lone_survivor(mine, carts):\n",
    "    carts = copy.deepcopy(carts)\n",
    "    for tick in count(1):\n",
    "        if len(carts) == 1:\n",
    "            return coordinate(next(iter(carts.values())).position)\n",
    "        # sorting coordinates puts the carts in order of movement\n",
    "        for cart in sorted(carts, key=lambda c: coordinate(carts[c].position)):\n",
    "            if cart in carts:\n",
    "                direction = carts[cart].direction\n",
    "                tile = mine[carts[cart].position]\n",
    "                if tile in corner:\n",
    "                    direction = corner[tile][direction]\n",
    "                elif tile == '+':\n",
    "                    direction = next(carts[cart].next_turn)[direction]\n",
    "                new_position = carts[cart].position + direction\n",
    "                crash = [c for c in carts if carts[c].position == new_position]\n",
    "                if crash:\n",
    "                    del carts[crash[0]]\n",
    "                    del carts[cart]\n",
    "                else:\n",
    "                    carts[cart].position = new_position\n",
    "                    carts[cart].direction = direction"
   ]
  },
  {
   "cell_type": "code",
   "execution_count": 6,
   "metadata": {},
   "outputs": [],
   "source": [
    "test_data2 = r'''/>-<\\  \n",
    "|   |  \n",
    "| /<+-\\\n",
    "| | | v\n",
    "\\>+</ |\n",
    "  |   ^\n",
    "  \\<->/'''.splitlines()\n",
    "\n",
    "test_mine2, test_carts2 = parse_mine(test_data2)"
   ]
  },
  {
   "cell_type": "code",
   "execution_count": 7,
   "metadata": {},
   "outputs": [
    {
     "data": {
      "text/plain": [
       "(6.0, 4.0)"
      ]
     },
     "execution_count": 7,
     "metadata": {},
     "output_type": "execute_result"
    }
   ],
   "source": [
    "lone_survivor(test_mine2, test_carts2)"
   ]
  },
  {
   "cell_type": "code",
   "execution_count": 8,
   "metadata": {},
   "outputs": [
    {
     "data": {
      "text/plain": [
       "(59.0, 64.0)"
      ]
     },
     "execution_count": 8,
     "metadata": {},
     "output_type": "execute_result"
    }
   ],
   "source": [
    "lone_survivor(mine, carts)"
   ]
  },
  {
   "cell_type": "markdown",
   "metadata": {},
   "source": [
    "### Post-mortem\n",
    "\n",
    "The above is actually bugged. It's sorting by column then row when it should be sorting by row then column. Here's a correct version."
   ]
  },
  {
   "cell_type": "code",
   "execution_count": 11,
   "metadata": {},
   "outputs": [
    {
     "data": {
      "text/plain": [
       "(48.0, 20.0)"
      ]
     },
     "execution_count": 11,
     "metadata": {},
     "output_type": "execute_result"
    }
   ],
   "source": [
    "def next_crash(mine, carts):\n",
    "    carts = copy.deepcopy(carts)\n",
    "    for tick in count(1):\n",
    "        # sorting coordinates puts the carts in order of movement\n",
    "        for cart in sorted(carts, key=lambda c: (coordinate(carts[c].position)[1], \n",
    "                                                 coordinate(carts[c].position)[0])):\n",
    "            direction = carts[cart].direction\n",
    "            tile = mine[carts[cart].position]\n",
    "            if tile in corner:\n",
    "                direction = corner[tile][direction]\n",
    "            elif tile == '+':\n",
    "                direction = next(carts[cart].next_turn)[direction]\n",
    "            new_position = carts[cart].position + direction\n",
    "            if new_position in (carts[c].position for c in carts):\n",
    "                return coordinate(new_position)\n",
    "            carts[cart].position = new_position\n",
    "            carts[cart].direction = direction\n",
    "                    \n",
    "next_crash(mine, carts)"
   ]
  },
  {
   "cell_type": "code",
   "execution_count": 12,
   "metadata": {},
   "outputs": [
    {
     "data": {
      "text/plain": [
       "(59.0, 64.0)"
      ]
     },
     "execution_count": 12,
     "metadata": {},
     "output_type": "execute_result"
    }
   ],
   "source": [
    "def lone_survivor(mine, carts):\n",
    "    carts = copy.deepcopy(carts)\n",
    "    for tick in count(1):\n",
    "        if len(carts) == 1:\n",
    "            return coordinate(next(iter(carts.values())).position)\n",
    "        # sorting coordinates puts the carts in order of movement\n",
    "        for cart in sorted(carts, key=lambda c: (coordinate(carts[c].position)[1], \n",
    "                                                 coordinate(carts[c].position)[0])):\n",
    "            if cart in carts:\n",
    "                direction = carts[cart].direction\n",
    "                tile = mine[carts[cart].position]\n",
    "                if tile in corner:\n",
    "                    direction = corner[tile][direction]\n",
    "                elif tile == '+':\n",
    "                    direction = next(carts[cart].next_turn)[direction]\n",
    "                new_position = carts[cart].position + direction\n",
    "                crash = [c for c in carts if carts[c].position == new_position]\n",
    "                if crash:\n",
    "                    del carts[crash[0]]\n",
    "                    del carts[cart]\n",
    "                else:\n",
    "                    carts[cart].position = new_position\n",
    "                    carts[cart].direction = direction\n",
    "                    \n",
    "                    \n",
    "lone_survivor(mine, carts)"
   ]
  },
  {
   "cell_type": "code",
   "execution_count": null,
   "metadata": {},
   "outputs": [],
   "source": []
  }
 ],
 "metadata": {
  "kernelspec": {
   "display_name": "Python [default]",
   "language": "python",
   "name": "python3"
  },
  "language_info": {
   "codemirror_mode": {
    "name": "ipython",
    "version": 3
   },
   "file_extension": ".py",
   "mimetype": "text/x-python",
   "name": "python",
   "nbconvert_exporter": "python",
   "pygments_lexer": "ipython3",
   "version": "3.6.4"
  }
 },
 "nbformat": 4,
 "nbformat_minor": 2
}
