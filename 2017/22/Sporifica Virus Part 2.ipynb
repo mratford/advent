{
 "cells": [
  {
   "cell_type": "markdown",
   "metadata": {},
   "source": [
    "## Day 22: Sporifica Virus\n",
    "\n",
    "http://adventofcode.com/2017/day/22\n",
    "\n",
    "### Part 2\n",
    "\n",
    "The whole solution needs adjusting so I'm starting a new notebook to avoid confusion."
   ]
  },
  {
   "cell_type": "code",
   "execution_count": 5,
   "metadata": {},
   "outputs": [],
   "source": [
    "from collections import namedtuple\n",
    "from pyrsistent import pdeque, pset\n",
    "\n",
    "\n",
    "State = namedtuple('State', 'weakened infected flagged virus_p virus_d total_infections')\n",
    "\n",
    "\n",
    "def initialise(data):\n",
    "    def up(p): return (p[0]-1, p[1])\n",
    "    def right(p): return (p[0], p[1]+1)\n",
    "    def down(p): return (p[0]+1, p[1])\n",
    "    def left(p): return (p[0], p[1]-1)\n",
    "\n",
    "    weakened = pset()\n",
    "    infected = pset({(r, c) \n",
    "                     for r, row in enumerate(data) \n",
    "                     for c, ch in enumerate(row) \n",
    "                     if ch == '#'})\n",
    "    flagged = pset()\n",
    "    \n",
    "    virus_position = (len(data) // 2, len(data[0]) // 2)\n",
    "    virus_direction = pdeque([up, right, down, left])\n",
    "    \n",
    "    return State(weakened, infected, flagged, virus_position, virus_direction, 0)\n",
    "\n",
    "\n",
    "def move(state):\n",
    "    weakened, infected, flagged, v_p, v_d, infections = state\n",
    "    \n",
    "    if v_p in infected:\n",
    "        # turn right\n",
    "        v_d = v_d.rotate(-1)\n",
    "        # flag\n",
    "        infected = infected.remove(v_p)\n",
    "        flagged = flagged.add(v_p)\n",
    "    elif v_p in weakened:\n",
    "        # infect\n",
    "        weakened = weakened.remove(v_p)\n",
    "        infected = infected.add(v_p)\n",
    "        infections = infections + 1\n",
    "    elif v_p in flagged:\n",
    "        # turn around\n",
    "        v_d = v_d.rotate(2)\n",
    "        # clean\n",
    "        flagged = flagged.remove(v_p)\n",
    "    else: # clean\n",
    "        # turn left\n",
    "        v_d = v_d.rotate(1)\n",
    "        # weaken\n",
    "        weakened = weakened.add(v_p)\n",
    "        \n",
    "    \n",
    "    # move - left is the leftmost i.e. current direction\n",
    "    v_p = v_d.left(v_p)\n",
    "    \n",
    "    return State(weakened, infected, flagged, v_p, v_d, infections)\n",
    "\n",
    "\n",
    "def run_n(data, n):\n",
    "    s = initialise(data)\n",
    "    \n",
    "    for _ in range(n):\n",
    "        s = move(s)\n",
    "        \n",
    "    return s"
   ]
  },
  {
   "cell_type": "code",
   "execution_count": 10,
   "metadata": {},
   "outputs": [
    {
     "data": {
      "text/plain": [
       "State(weakened=pset([(-1, 4), (-1, 1), (2, -4), (-2, 0), (-1, 3), (2, 2), (2, -2), (-1, 2), (2, 1), (2, 3), (0, 4), (1, -4), (-2, -1), (0, -2), (1, 0), (4, -1), (4, 0)]), infected=pset([(0, 0), (-1, 0), (3, 0), (2, -1), (3, -1), (1, 1), (-1, -1), (0, -1), (0, 2)]), flagged=pset([(0, 1), (1, 2), (2, -3), (1, 3), (2, 0), (1, -3), (1, -2)]), virus_p=(2, 0), virus_d=pdeque([<function initialise.<locals>.up at 0x7fd8aab50510>, <function initialise.<locals>.right at 0x7fd8aab50598>, <function initialise.<locals>.down at 0x7fd8aab50620>, <function initialise.<locals>.left at 0x7fd8aab506a8>]), total_infections=26)"
      ]
     },
     "execution_count": 10,
     "metadata": {},
     "output_type": "execute_result"
    }
   ],
   "source": [
    "test_data = '''..#\n",
    "#..\n",
    "...'''.splitlines()\n",
    "\n",
    "run_n(test_data, 100)"
   ]
  },
  {
   "cell_type": "code",
   "execution_count": 11,
   "metadata": {},
   "outputs": [
    {
     "name": "stdout",
     "output_type": "stream",
     "text": [
      "CPU times: user 5min 35s, sys: 136 ms, total: 5min 35s\n",
      "Wall time: 5min 35s\n"
     ]
    }
   ],
   "source": [
    "%time test_final_state = run_n(test_data, 10000000)"
   ]
  },
  {
   "cell_type": "markdown",
   "metadata": {},
   "source": [
    "That's quite long but not intolerable. With pypy3\n",
    "\n",
    "```bash\n",
    "$ time pypy3 sporifica_virus.py \n",
    "2512059\n",
    "\n",
    "real\t1m5.641s\n",
    "user\t1m5.395s\n",
    "sys\t0m0.052s\n",
    "```"
   ]
  },
  {
   "cell_type": "code",
   "execution_count": null,
   "metadata": {},
   "outputs": [],
   "source": [
    "Pretty straightforward today."
   ]
  }
 ],
 "metadata": {
  "kernelspec": {
   "display_name": "Python [conda root]",
   "language": "python",
   "name": "conda-root-py"
  },
  "language_info": {
   "codemirror_mode": {
    "name": "ipython",
    "version": 3
   },
   "file_extension": ".py",
   "mimetype": "text/x-python",
   "name": "python",
   "nbconvert_exporter": "python",
   "pygments_lexer": "ipython3",
   "version": "3.5.4"
  }
 },
 "nbformat": 4,
 "nbformat_minor": 2
}
