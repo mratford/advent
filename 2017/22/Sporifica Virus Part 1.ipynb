{
 "cells": [
  {
   "cell_type": "markdown",
   "metadata": {},
   "source": [
    "## Day 22: Sporifica Virus\n",
    "\n",
    "http://adventofcode.com/2017/day/22\n",
    "\n",
    "### Part 1\n",
    "\n",
    "This looks worryingly straightforward.\n",
    "\n",
    "Don't represent the grid as a whole, instead keep row-column coordinates of infected nodes. State will be infected nodes, virus position, virus direction and the number of nodes infected. "
   ]
  },
  {
   "cell_type": "code",
   "execution_count": 5,
   "metadata": {},
   "outputs": [],
   "source": [
    "from collections import namedtuple\n",
    "from pyrsistent import pdeque, pset\n",
    "\n",
    "\n",
    "State = namedtuple('State', 'infected virus_p virus_d total_infections')\n",
    "\n",
    "\n",
    "def initialise(data):\n",
    "    def up(p): return (p[0]-1, p[1])\n",
    "    def right(p): return (p[0], p[1]+1)\n",
    "    def down(p): return (p[0]+1, p[1])\n",
    "    def left(p): return (p[0], p[1]-1)\n",
    "\n",
    "    infected = pset({(r, c) \n",
    "                     for r, row in enumerate(data) \n",
    "                     for c, ch in enumerate(row) \n",
    "                     if ch == '#'})\n",
    "    \n",
    "    \n",
    "    virus_position = (len(data) // 2, len(data[0]) // 2)\n",
    "    virus_direction = pdeque([up, right, down, left])\n",
    "    \n",
    "    return State(infected, virus_position, virus_direction, 0)\n",
    "\n",
    "\n",
    "def move(state):\n",
    "    infected, v_p, v_d, infections = state\n",
    "    \n",
    "    if v_p in infected:\n",
    "        # turn right\n",
    "        v_d = v_d.rotate(-1)\n",
    "        # disinfect\n",
    "        infected = infected.remove(v_p)\n",
    "    else:\n",
    "        # turn left\n",
    "        v_d = v_d.rotate(1)\n",
    "        # infect\n",
    "        infected = infected.add(v_p)\n",
    "        infections = infections + 1\n",
    "    \n",
    "    # move - left is the leftmost i.e. current direction\n",
    "    v_p = v_d.left(v_p)\n",
    "    \n",
    "    return State(infected, v_p, v_d, infections)\n",
    "\n",
    "\n",
    "def run_n(data, n):\n",
    "    s = initialise(data)\n",
    "    \n",
    "    for _ in range(n):\n",
    "        s = move(s)\n",
    "        \n",
    "    return s"
   ]
  },
  {
   "cell_type": "code",
   "execution_count": 6,
   "metadata": {},
   "outputs": [
    {
     "data": {
      "text/plain": [
       "State(infected=pset([(0, 1), (-2, 1), (-1, 0), (2, 2), (1, 4), (-3, 2), (0, 5), (2, 3), (-1, 5), (0, -1), (-2, 4), (1, -1), (-3, 3), (1, 1)]), virus_p=(0, 2), virus_d=pdeque([<function initialise.<locals>.up at 0x7f5e40175730>, <function initialise.<locals>.right at 0x7f5e401757b8>, <function initialise.<locals>.down at 0x7f5e40175840>, <function initialise.<locals>.left at 0x7f5e4010f048>]), total_infections=41)"
      ]
     },
     "execution_count": 6,
     "metadata": {},
     "output_type": "execute_result"
    }
   ],
   "source": [
    "test_data = '''..#\n",
    "#..\n",
    "...'''.splitlines()\n",
    "\n",
    "run_n(test_data, 70)"
   ]
  },
  {
   "cell_type": "code",
   "execution_count": 9,
   "metadata": {},
   "outputs": [
    {
     "data": {
      "text/plain": [
       "5587"
      ]
     },
     "execution_count": 9,
     "metadata": {},
     "output_type": "execute_result"
    }
   ],
   "source": [
    "run_n(test_data, 10000).total_infections"
   ]
  },
  {
   "cell_type": "markdown",
   "metadata": {},
   "source": [
    "Straightforward so far, but I had to clean the input of its last newline as it meant the starting position was a row ahead of where it should be. I could make the initialise function more robust, but not right now. "
   ]
  },
  {
   "cell_type": "code",
   "execution_count": 15,
   "metadata": {},
   "outputs": [
    {
     "data": {
      "text/plain": [
       "5246"
      ]
     },
     "execution_count": 15,
     "metadata": {},
     "output_type": "execute_result"
    }
   ],
   "source": [
    "with open('input', 'r') as f:\n",
    "    problem_data = open('input', 'r').read().strip().splitlines()\n",
    "\n",
    "run_n(problem_data, 10000).total_infections"
   ]
  }
 ],
 "metadata": {
  "kernelspec": {
   "display_name": "Python [conda root]",
   "language": "python",
   "name": "conda-root-py"
  },
  "language_info": {
   "codemirror_mode": {
    "name": "ipython",
    "version": 3
   },
   "file_extension": ".py",
   "mimetype": "text/x-python",
   "name": "python",
   "nbconvert_exporter": "python",
   "pygments_lexer": "ipython3",
   "version": "3.5.4"
  }
 },
 "nbformat": 4,
 "nbformat_minor": 2
}
