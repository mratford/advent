{
 "cells": [
  {
   "cell_type": "markdown",
   "metadata": {},
   "source": [
    "## Day 22: Sporifica Virus\n",
    "\n",
    "http://adventofcode.com/2017/day/22\n",
    "\n",
    "### Post-mortem\n",
    "\n",
    "Let's amend this to use mutable data structures."
   ]
  },
  {
   "cell_type": "code",
   "execution_count": 10,
   "metadata": {},
   "outputs": [],
   "source": [
    "from collections import namedtuple, deque\n",
    "\n",
    "\n",
    "State = namedtuple('State', 'weakened infected flagged virus_p virus_d total_infections')\n",
    "\n",
    "\n",
    "def initialise(data):\n",
    "    def up(p): return (p[0]-1, p[1])\n",
    "    def right(p): return (p[0], p[1]+1)\n",
    "    def down(p): return (p[0]+1, p[1])\n",
    "    def left(p): return (p[0], p[1]-1)\n",
    "\n",
    "    weakened = set()\n",
    "    infected = set({(r, c) \n",
    "                    for r, row in enumerate(data) \n",
    "                    for c, ch in enumerate(row) \n",
    "                    if ch == '#'})\n",
    "    flagged = set()\n",
    "    \n",
    "    virus_position = (len(data) // 2, len(data[0]) // 2)\n",
    "    virus_direction = deque([up, right, down, left])\n",
    "    \n",
    "    return State(weakened, infected, flagged, virus_position, virus_direction, 0)\n",
    "\n",
    "\n",
    "def move(state):\n",
    "    weakened, infected, flagged, v_p, v_d, infections = state\n",
    "    \n",
    "    if v_p in infected:\n",
    "        # turn right\n",
    "        v_d.rotate(-1)\n",
    "        # flag\n",
    "        infected.remove(v_p)\n",
    "        flagged.add(v_p)\n",
    "    elif v_p in weakened:\n",
    "        # infect\n",
    "        weakened.remove(v_p)\n",
    "        infected.add(v_p)\n",
    "        infections += 1\n",
    "    elif v_p in flagged:\n",
    "        # turn around\n",
    "        v_d.rotate(2)\n",
    "        # clean\n",
    "        flagged.remove(v_p)\n",
    "    else: # clean\n",
    "        # turn left\n",
    "        v_d.rotate(1)\n",
    "        # weaken\n",
    "        weakened.add(v_p)\n",
    "        \n",
    "    v_p = v_d[0](v_p)\n",
    "    \n",
    "    return State(weakened, infected, flagged, v_p, v_d, infections)\n",
    "\n",
    "\n",
    "def run_n(data, n):\n",
    "    s = initialise(data)\n",
    "    \n",
    "    for _ in range(n):\n",
    "        s = move(s)\n",
    "        \n",
    "    return s"
   ]
  },
  {
   "cell_type": "code",
   "execution_count": 11,
   "metadata": {},
   "outputs": [
    {
     "data": {
      "text/plain": [
       "State(weakened={(-2, 0), (2, -4), (2, 1), (0, -2), (4, -1), (4, 0), (-1, 1), (2, 2), (0, 4), (-2, -1), (2, -2), (-1, 2), (2, 3), (1, -4), (1, 0), (-1, 3), (-1, 4)}, infected={(0, 0), (-1, 0), (3, 0), (0, 2), (2, -1), (3, -1), (-1, -1), (0, -1), (1, 1)}, flagged={(1, 2), (0, 1), (2, 0), (1, 3), (2, -3), (1, -2), (1, -3)}, virus_p=(2, 0), virus_d=deque([<function initialise.<locals>.up at 0x7f151090b2f0>, <function initialise.<locals>.right at 0x7f151090b400>, <function initialise.<locals>.down at 0x7f151090b378>, <function initialise.<locals>.left at 0x7f151090b0d0>]), total_infections=26)"
      ]
     },
     "execution_count": 11,
     "metadata": {},
     "output_type": "execute_result"
    }
   ],
   "source": [
    "test_data = '''..#\n",
    "#..\n",
    "...'''.splitlines()\n",
    "\n",
    "run_n(test_data, 100)"
   ]
  },
  {
   "cell_type": "code",
   "execution_count": 12,
   "metadata": {},
   "outputs": [
    {
     "name": "stdout",
     "output_type": "stream",
     "text": [
      "CPU times: user 15.6 s, sys: 2.69 ms, total: 15.6 s\n",
      "Wall time: 15.6 s\n"
     ]
    }
   ],
   "source": [
    "%time test_final_state = run_n(test_data, 10000000)"
   ]
  },
  {
   "cell_type": "markdown",
   "metadata": {},
   "source": [
    "That's compared to five and a half minutes with pyrsistent's persistent immutable structures.\n",
    "\n",
    "With pypy the immutable version ran in just over a minute.\n",
    "\n",
    "```bash\n",
    "$ time pypy3 sporifica_virus.py \n",
    "2512059\n",
    "\n",
    "real\t0m3.538s\n",
    "user\t0m3.526s\n",
    "sys\t0m0.012s\n",
    "```"
   ]
  },
  {
   "cell_type": "code",
   "execution_count": null,
   "metadata": {},
   "outputs": [],
   "source": []
  }
 ],
 "metadata": {
  "kernelspec": {
   "display_name": "Python [conda root]",
   "language": "python",
   "name": "conda-root-py"
  },
  "language_info": {
   "codemirror_mode": {
    "name": "ipython",
    "version": 3
   },
   "file_extension": ".py",
   "mimetype": "text/x-python",
   "name": "python",
   "nbconvert_exporter": "python",
   "pygments_lexer": "ipython3",
   "version": "3.5.4"
  }
 },
 "nbformat": 4,
 "nbformat_minor": 2
}
