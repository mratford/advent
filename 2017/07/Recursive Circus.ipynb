{
 "cells": [
  {
   "cell_type": "markdown",
   "metadata": {},
   "source": [
    "## Day 7: Recursive Circus\n",
    "\n",
    "http://adventofcode.com/2017/day/7\n",
    "\n",
    "### Part 1\n",
    "\n",
    "First sort out which disks are carrying which other disks. Record the weight as well, that's likely to be useful. The Haskellish parsing code is a bit over the top but I find it easier to read than nested split statements with hacks to remove punctuation or, worse, a regular expression."
   ]
  },
  {
   "cell_type": "code",
   "execution_count": 1,
   "metadata": {},
   "outputs": [
    {
     "data": {
      "text/plain": [
       "('fwft', Disk(weight=72, subtowers=['ktlj', 'cntj', 'xhth']))"
      ]
     },
     "execution_count": 1,
     "metadata": {},
     "output_type": "execute_result"
    }
   ],
   "source": [
    "import parsy\n",
    "from collections import namedtuple\n",
    "\n",
    "Disk = namedtuple('Disk', 'weight subtowers')\n",
    "\n",
    "chew_whitespace = lambda p: parsy.whitespace.optional() >> p << parsy.whitespace.optional()\n",
    "bracketed = lambda p: parsy.string('(') >> p << parsy.string(')')\n",
    "comma = parsy.string(',')\n",
    "arrow = parsy.string('->')\n",
    "number = parsy.digit.at_least(1).concat().map(int)\n",
    "# It's not specified but I'm assuming the names are alphanumerical\n",
    "p_name = (parsy.letter | parsy.digit).at_least(1).concat()\n",
    "p_weight = chew_whitespace(bracketed(number))\n",
    "p_subtowers = chew_whitespace(arrow).optional() >> p_name.sep_by(chew_whitespace(comma))\n",
    "\n",
    "@parsy.generate\n",
    "def p_disk():\n",
    "    disk_name = yield p_name\n",
    "    weight = yield p_weight\n",
    "    subtowers = yield p_subtowers\n",
    "    return (disk_name, Disk(weight, subtowers))\n",
    "\n",
    "p_disk.parse('fwft (72) -> ktlj, cntj, xhth')"
   ]
  },
  {
   "cell_type": "code",
   "execution_count": 2,
   "metadata": {},
   "outputs": [
    {
     "data": {
      "text/plain": [
       "('pbga', Disk(weight=66, subtowers=[]))"
      ]
     },
     "execution_count": 2,
     "metadata": {},
     "output_type": "execute_result"
    }
   ],
   "source": [
    "p_disk.parse('pbga (66)')"
   ]
  },
  {
   "cell_type": "markdown",
   "metadata": {},
   "source": [
    "Looks OK."
   ]
  },
  {
   "cell_type": "code",
   "execution_count": 3,
   "metadata": {},
   "outputs": [],
   "source": [
    "with open('input', 'r') as f:\n",
    "    disks = {name: disk for name, disk in (p_disk.parse(line.strip()) for line in f)}"
   ]
  },
  {
   "cell_type": "markdown",
   "metadata": {},
   "source": [
    "The bottom disk is the one which isn't contained in a subtower of another disk."
   ]
  },
  {
   "cell_type": "code",
   "execution_count": 4,
   "metadata": {},
   "outputs": [
    {
     "data": {
      "text/plain": [
       "{'dgoocsw'}"
      ]
     },
     "execution_count": 4,
     "metadata": {},
     "output_type": "execute_result"
    }
   ],
   "source": [
    "set(disks) - set().union(*[set(disks[d].subtowers) for d in disks])"
   ]
  },
  {
   "cell_type": "markdown",
   "metadata": {},
   "source": [
    "### Part 2\n",
    "\n",
    "To find the unbalancing disk, we need to calculate the total weight of the subtowers on each disk. This can be done dynamically by starting at the top and working down the levels.\n",
    "\n",
    "First build a stack from the bottom disk up. Then going from the top level down calculate the total weight at each disk, this way the weights for the subtowers will already have been calculated. When a disk has subtowers with differing weights, the subtower with the different weight to the others is the unbalanced disk that needs its weight correcting."
   ]
  },
  {
   "cell_type": "code",
   "execution_count": 5,
   "metadata": {},
   "outputs": [
    {
     "name": "stdout",
     "output_type": "stream",
     "text": [
      "1275\n"
     ]
    }
   ],
   "source": [
    "from collections import deque\n",
    "from collections import defaultdict\n",
    "\n",
    "disk_stack = []\n",
    "disks_to_add = deque(['dgoocsw'])\n",
    "\n",
    "while disks_to_add:\n",
    "    d = disks_to_add.popleft()\n",
    "    disks_to_add.extend(disks[d].subtowers)\n",
    "    disk_stack.append(d)\n",
    "\n",
    "def all_equal(collection):\n",
    "    l = list(collection)\n",
    "    return not l or all(x == l[0] for x in l[1:])\n",
    "\n",
    "subtower_weights = {}\n",
    "\n",
    "while disk_stack:\n",
    "    d = disk_stack.pop()\n",
    "    weights_at_d = {st: subtower_weights[st] for st in disks[d].subtowers}\n",
    "    \n",
    "    # Are all subtowers balanced?\n",
    "    if all_equal(weights_at_d.values()):\n",
    "    # If so, calculate the total weight at this disk.\n",
    "        subtower_weights[d] = disks[d].weight + sum(weights_at_d.values())\n",
    "    else:\n",
    "    # Otherwise find the subtower with a different weight from the others.\n",
    "    # (I'll assume there are more than two otherwise the solution won't be unique.)\n",
    "        weight_instances = defaultdict(list)\n",
    "        for st in weights_at_d:\n",
    "            weight_instances[subtower_weights[st]].append(st)\n",
    "        wrong_weight = min(weight_instances, key=lambda k: len(weight_instances[k]))\n",
    "        wrong_disk = weight_instances[wrong_weight][0]\n",
    "        right_weight = max(weight_instances, key=lambda k: len(weight_instances[k]))\n",
    "        weight_correction = right_weight - wrong_weight\n",
    "        corrected_weight = disks[wrong_disk].weight + weight_correction\n",
    "        print(corrected_weight)\n",
    "        break"
   ]
  },
  {
   "cell_type": "markdown",
   "metadata": {},
   "source": [
    "Right answer, but horribly inelegant code. "
   ]
  }
 ],
 "metadata": {
  "kernelspec": {
   "display_name": "Python [default]",
   "language": "python",
   "name": "python3"
  },
  "language_info": {
   "codemirror_mode": {
    "name": "ipython",
    "version": 3
   },
   "file_extension": ".py",
   "mimetype": "text/x-python",
   "name": "python",
   "nbconvert_exporter": "python",
   "pygments_lexer": "ipython3",
   "version": "3.5.4"
  }
 },
 "nbformat": 4,
 "nbformat_minor": 2
}
