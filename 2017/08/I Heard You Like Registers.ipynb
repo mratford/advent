{
 "cells": [
  {
   "cell_type": "markdown",
   "metadata": {},
   "source": [
    "## Day 8: I Heard You Like Registers\n",
    "\n",
    "http://adventofcode.com/2017/day/8\n",
    "\n",
    "### Part 1\n",
    "\n",
    "```python\n",
    "documentation_level = FRIDAY_NIGHT```"
   ]
  },
  {
   "cell_type": "code",
   "execution_count": 12,
   "metadata": {},
   "outputs": [],
   "source": [
    "import operator as op\n",
    "from collections import defaultdict\n",
    "\n",
    "comparison_operators = {'<': op.lt,\n",
    "                        '<=': op.le,\n",
    "                        '==': op.eq,\n",
    "                        '!=': op.ne,\n",
    "                        '>': op.gt,\n",
    "                        '>=': op.ge}\n",
    "\n",
    "def process_instructions(instructions, initial_registers={}):\n",
    "    registers = defaultdict(int, initial_registers)\n",
    "    for instruction in instructions:\n",
    "        fields = instruction.strip().split()\n",
    "        incr_register, cmp_register = fields[0], fields[4]\n",
    "        increment = int(fields[2]) if fields[1] == 'inc' else -int(fields[2])\n",
    "        cmp_op = comparison_operators[fields[5]]\n",
    "        cmp_to = int(fields[6])\n",
    "        \n",
    "        if cmp_op(registers[cmp_register], cmp_to):\n",
    "            registers[incr_register] += increment\n",
    "            \n",
    "    return registers"
   ]
  },
  {
   "cell_type": "code",
   "execution_count": 15,
   "metadata": {},
   "outputs": [
    {
     "data": {
      "text/plain": [
       "defaultdict(int, {'a': 1, 'b': 0, 'c': -10})"
      ]
     },
     "execution_count": 15,
     "metadata": {},
     "output_type": "execute_result"
    }
   ],
   "source": [
    "test_instructions = '''b inc 5 if a > 1\n",
    "a inc 1 if b < 5\n",
    "c dec -10 if a >= 1\n",
    "c inc -20 if c == 10'''\n",
    "\n",
    "process_instructions(test_instructions.splitlines())"
   ]
  },
  {
   "cell_type": "code",
   "execution_count": 20,
   "metadata": {},
   "outputs": [
    {
     "data": {
      "text/plain": [
       "6828"
      ]
     },
     "execution_count": 20,
     "metadata": {},
     "output_type": "execute_result"
    }
   ],
   "source": [
    "with open('input', 'r') as f:\n",
    "    registers = process_instructions(f)\n",
    "\n",
    "max(registers.values())"
   ]
  },
  {
   "cell_type": "markdown",
   "metadata": {},
   "source": [
    "### Part 2\n",
    "\n",
    "We need to access interim results so let's change things slightly."
   ]
  },
  {
   "cell_type": "code",
   "execution_count": 30,
   "metadata": {},
   "outputs": [],
   "source": [
    "import math\n",
    "\n",
    "# Would like to find the maximum of an empty sequence\n",
    "def maxdefault(xs, default=-math.inf):\n",
    "    try:\n",
    "        return max(xs)\n",
    "    except ValueError:\n",
    "        return default\n",
    "\n",
    "def process_instruction(instruction, starting_registers):\n",
    "    registers = defaultdict(int, starting_registers)\n",
    "    fields = instruction.strip().split()\n",
    "    incr_register, cmp_register = fields[0], fields[4]\n",
    "    increment = int(fields[2]) if fields[1] == 'inc' else -int(fields[2])\n",
    "    cmp_op = comparison_operators[fields[5]]\n",
    "    cmp_to = int(fields[6])\n",
    "        \n",
    "    if cmp_op(registers[cmp_register], cmp_to):\n",
    "        registers[incr_register] += increment\n",
    "\n",
    "    return registers\n",
    "\n",
    "def process_instructions(instructions, initial_registers={}):\n",
    "    registers = defaultdict(int, initial_registers)\n",
    "    yield registers\n",
    "    \n",
    "    for instruction in instructions:\n",
    "        registers = process_instruction(instruction, registers)\n",
    "        yield registers\n",
    "                \n",
    "def highest_value(instructions):\n",
    "    return max(maxdefault(registers.values(), 0) for registers in process_instructions(instructions))"
   ]
  },
  {
   "cell_type": "code",
   "execution_count": 31,
   "metadata": {},
   "outputs": [
    {
     "data": {
      "text/plain": [
       "10"
      ]
     },
     "execution_count": 31,
     "metadata": {},
     "output_type": "execute_result"
    }
   ],
   "source": [
    "highest_value(test_instructions.splitlines())"
   ]
  },
  {
   "cell_type": "code",
   "execution_count": 32,
   "metadata": {},
   "outputs": [
    {
     "data": {
      "text/plain": [
       "7234"
      ]
     },
     "execution_count": 32,
     "metadata": {},
     "output_type": "execute_result"
    }
   ],
   "source": [
    "with open('input', 'r') as f:\n",
    "    result = highest_value(f)\n",
    "    \n",
    "result"
   ]
  },
  {
   "cell_type": "code",
   "execution_count": null,
   "metadata": {},
   "outputs": [],
   "source": []
  }
 ],
 "metadata": {
  "kernelspec": {
   "display_name": "Python [conda root]",
   "language": "python",
   "name": "conda-root-py"
  },
  "language_info": {
   "codemirror_mode": {
    "name": "ipython",
    "version": 3
   },
   "file_extension": ".py",
   "mimetype": "text/x-python",
   "name": "python",
   "nbconvert_exporter": "python",
   "pygments_lexer": "ipython3",
   "version": "3.5.4"
  }
 },
 "nbformat": 4,
 "nbformat_minor": 2
}
