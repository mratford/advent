{
 "cells": [
  {
   "cell_type": "markdown",
   "metadata": {},
   "source": [
    "## Day 3: Spiral Memory\n",
    "\n",
    "http://adventofcode.com/2017/day/3\n",
    "\n",
    "### Part 1\n",
    "\n",
    "We're asked to find the Manhattan distance from a positive integer to 1 in the infinite spiral format below.\n",
    "\n",
    "`17  16  15  14  13\n",
    "18   5   4   3  12\n",
    "19   6   1   2  11\n",
    "20   7   8   9  10\n",
    "21  22  23---> ...`\n",
    "\n",
    "Use standard coordinates with 1 at the origin, (0, 0), and derive the coordinates of the number.  The first thing to note is that the bottom right corners of each layer of the spiral are squares of successive odd numbers. 1 is at (0, 0), 9 at (1, -1), 25 at (2, -2) and so on. So find the lowest odd number above the square root of the number in question and we can find the layer. Then work backwards round the spiral from the squared odd number."
   ]
  },
  {
   "cell_type": "code",
   "execution_count": 1,
   "metadata": {
    "collapsed": true
   },
   "outputs": [],
   "source": [
    "import math\n",
    "import numpy as np\n",
    "\n",
    "def odd_ceil(x):\n",
    "    ceil_x = math.ceil(x)\n",
    "    if ceil_x % 2 == 0:\n",
    "        ceil_x += 1\n",
    "    return ceil_x\n",
    "\n",
    "def spiral_coordinate(x):\n",
    "    odd_above_sqrt = odd_ceil(math.sqrt(x))\n",
    "    layer = odd_above_sqrt // 2\n",
    "    \n",
    "    # Start at the bottom right\n",
    "    coord = np.array([layer, -layer])\n",
    "    n_at_coord = odd_above_sqrt ** 2\n",
    "    \n",
    "    # Reverse around the spiral until reaching x\n",
    "    for direction in [np.array(v) for v in [(-1, 0), (0, 1), (1, 0), (0, -1)]]:\n",
    "        steps = min(layer * 2, n_at_coord - x)\n",
    "        n_at_coord -= steps\n",
    "        coord += direction * steps\n",
    "        \n",
    "    return tuple(coord)\n",
    "\n",
    "def spiral_manhattan_from_1(x):\n",
    "    c = spiral_coordinate(x)\n",
    "    return abs(c[0]) + abs(c[1])"
   ]
  },
  {
   "cell_type": "code",
   "execution_count": 2,
   "metadata": {},
   "outputs": [],
   "source": [
    "assert spiral_manhattan_from_1(1) == 0\n",
    "assert spiral_manhattan_from_1(12) == 3\n",
    "assert spiral_manhattan_from_1(23) == 2\n",
    "assert spiral_manhattan_from_1(1024) == 31"
   ]
  },
  {
   "cell_type": "code",
   "execution_count": 3,
   "metadata": {},
   "outputs": [
    {
     "data": {
      "text/plain": [
       "326"
      ]
     },
     "execution_count": 3,
     "metadata": {},
     "output_type": "execute_result"
    }
   ],
   "source": [
    "INPUT = 361527\n",
    "\n",
    "spiral_manhattan_from_1(INPUT)"
   ]
  },
  {
   "cell_type": "markdown",
   "metadata": {},
   "source": [
    "### Part 2\n",
    "\n",
    "We now need to build the spiral from 1 at the origin by summing adjacent values in all directions, including diagonals. The above approach to Part 1 turns out to be an advantage as the `spiral_coordinate` function can be used to build a dictionary relatively easily.\n",
    "\n",
    "See if you can spot this year's first hack around unhashable mutable data structures."
   ]
  },
  {
   "cell_type": "code",
   "execution_count": 4,
   "metadata": {
    "collapsed": true
   },
   "outputs": [],
   "source": [
    "from itertools import count\n",
    "\n",
    "def first_value_larger(x):\n",
    "    spiral = {(0, 0):1}\n",
    "    \n",
    "    for n in count(2):\n",
    "        spiral[spiral_coordinate(n)] = \\\n",
    "            sum(spiral.get(tuple(np.array(spiral_coordinate(n)) + direction), 0) \n",
    "                for direction in [np.array(v) for v in [(-1, 0), (0, 1), (1, 0), (0, -1),\n",
    "                                                        (-1, -1), (-1, 1), (1, -1), (1, 1)]])\n",
    "        if spiral[spiral_coordinate(n)] > x:\n",
    "            return spiral[spiral_coordinate(n)]"
   ]
  },
  {
   "cell_type": "code",
   "execution_count": 5,
   "metadata": {},
   "outputs": [
    {
     "data": {
      "text/plain": [
       "363010"
      ]
     },
     "execution_count": 5,
     "metadata": {},
     "output_type": "execute_result"
    }
   ],
   "source": [
    "first_value_larger(INPUT)"
   ]
  }
 ],
 "metadata": {
  "kernelspec": {
   "display_name": "Python [conda root]",
   "language": "python",
   "name": "conda-root-py"
  },
  "language_info": {
   "codemirror_mode": {
    "name": "ipython",
    "version": 3
   },
   "file_extension": ".py",
   "mimetype": "text/x-python",
   "name": "python",
   "nbconvert_exporter": "python",
   "pygments_lexer": "ipython3",
   "version": "3.5.4"
  }
 },
 "nbformat": 4,
 "nbformat_minor": 2
}
