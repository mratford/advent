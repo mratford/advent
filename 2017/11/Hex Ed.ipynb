{
 "cells": [
  {
   "cell_type": "markdown",
   "metadata": {},
   "source": [
    "## Day 11: Hex Ed\n",
    "\n",
    "http://adventofcode.com/2017/day/11\n",
    "\n",
    "### Part 1\n",
    "\n",
    "Use the cube coordinates described here;\n",
    "\n",
    "https://www.redblobgames.com/grids/hexagons/#coordinates-cube"
   ]
  },
  {
   "cell_type": "code",
   "execution_count": 1,
   "metadata": {},
   "outputs": [],
   "source": [
    "from collections import namedtuple\n",
    "\n",
    "HexPoint = namedtuple('HexPoint', 'x y z')\n",
    "\n",
    "directions = {'ne': HexPoint(-1, 1, 0),\n",
    "              'n': HexPoint(0, 1, -1),\n",
    "              'nw': HexPoint(1, 0, -1),\n",
    "              'sw':HexPoint(1, -1, 0),\n",
    "              's': HexPoint(0, -1, 1),\n",
    "              'se':HexPoint(-1,  0, 1)}\n",
    "\n",
    "def add_hex_points(x, y):\n",
    "    return HexPoint(*[x_c + y_c for x_c, y_c in zip(x, y)])"
   ]
  },
  {
   "cell_type": "markdown",
   "metadata": {},
   "source": [
    "As we're starting from the origin the final point is the sum of the steps.\n",
    "\n",
    "The chosen coordinate system has the nice property that the sum of the absolute values of the coordinates of a point is twice the number of steps to get there from the origin."
   ]
  },
  {
   "cell_type": "code",
   "execution_count": 2,
   "metadata": {},
   "outputs": [
    {
     "data": {
      "text/plain": [
       "3"
      ]
     },
     "execution_count": 2,
     "metadata": {},
     "output_type": "execute_result"
    }
   ],
   "source": [
    "from functools import reduce\n",
    "\n",
    "def final_point(steps):\n",
    "    return reduce(add_hex_points, (directions[step] for step in steps.split(',')))\n",
    "\n",
    "def length(hex_point):\n",
    "    return sum(abs(x) for x in hex_point) // 2\n",
    "\n",
    "def steps_back(steps):\n",
    "    return length(final_point(steps))\n",
    "    \n",
    "steps_back('se,sw,se,sw,sw')"
   ]
  },
  {
   "cell_type": "code",
   "execution_count": 3,
   "metadata": {},
   "outputs": [
    {
     "data": {
      "text/plain": [
       "698"
      ]
     },
     "execution_count": 3,
     "metadata": {},
     "output_type": "execute_result"
    }
   ],
   "source": [
    "with open('input', 'r') as f:\n",
    "    steps = f.read().strip()\n",
    "    \n",
    "steps_back(steps)"
   ]
  },
  {
   "cell_type": "markdown",
   "metadata": {},
   "source": [
    "### Part 2\n",
    "\n",
    "Generate all interim steps and find the maximum length from the origin."
   ]
  },
  {
   "cell_type": "code",
   "execution_count": 4,
   "metadata": {},
   "outputs": [
    {
     "data": {
      "text/plain": [
       "1435"
      ]
     },
     "execution_count": 4,
     "metadata": {},
     "output_type": "execute_result"
    }
   ],
   "source": [
    "def all_steps(steps):\n",
    "    position = HexPoint(0, 0, 0)\n",
    "    yield position\n",
    "    \n",
    "    for s in steps.split(','):\n",
    "        position = add_hex_points(position, directions[s])\n",
    "        yield position\n",
    "        \n",
    "max(length(p) for p in all_steps(steps))"
   ]
  }
 ],
 "metadata": {
  "kernelspec": {
   "display_name": "Python [conda root]",
   "language": "python",
   "name": "conda-root-py"
  },
  "language_info": {
   "codemirror_mode": {
    "name": "ipython",
    "version": 3
   },
   "file_extension": ".py",
   "mimetype": "text/x-python",
   "name": "python",
   "nbconvert_exporter": "python",
   "pygments_lexer": "ipython3",
   "version": "3.5.4"
  }
 },
 "nbformat": 4,
 "nbformat_minor": 2
}
