{
 "cells": [
  {
   "cell_type": "markdown",
   "metadata": {},
   "source": [
    "## Day 5: A Maze of Twisty Trampolines, All Alike\n",
    "\n",
    "http://adventofcode.com/2017/day/5\n",
    "\n",
    "### Part 1\n",
    "\n",
    "This is pretty much a case of doing what it says on the tin."
   ]
  },
  {
   "cell_type": "code",
   "execution_count": 1,
   "metadata": {},
   "outputs": [],
   "source": [
    "def run(instructions):\n",
    "    state = instructions.copy()\n",
    "    pointer = 0\n",
    "    cpu_cycles = 0\n",
    "    \n",
    "    while 0 <= pointer <  len(state):\n",
    "        next_instruction = pointer + state[pointer]\n",
    "        state[pointer] += 1\n",
    "        cpu_cycles += 1\n",
    "        pointer = next_instruction\n",
    "        \n",
    "    return cpu_cycles"
   ]
  },
  {
   "cell_type": "code",
   "execution_count": 2,
   "metadata": {},
   "outputs": [],
   "source": [
    "test_instructions = [0, 3, 0, 1, -3]\n",
    "\n",
    "assert run([0, 3, 0, 1, -3]) == 5"
   ]
  },
  {
   "cell_type": "code",
   "execution_count": 3,
   "metadata": {},
   "outputs": [
    {
     "name": "stdout",
     "output_type": "stream",
     "text": [
      "CPU times: user 95 ms, sys: 109 µs, total: 95.1 ms\n",
      "Wall time: 94.8 ms\n"
     ]
    },
    {
     "data": {
      "text/plain": [
       "315613"
      ]
     },
     "execution_count": 3,
     "metadata": {},
     "output_type": "execute_result"
    }
   ],
   "source": [
    "with open('input', 'r') as f:\n",
    "    instructions = [int(line) for line in f]\n",
    "    \n",
    "%time run(instructions)"
   ]
  },
  {
   "cell_type": "markdown",
   "metadata": {},
   "source": [
    "### Part 2"
   ]
  },
  {
   "cell_type": "code",
   "execution_count": 4,
   "metadata": {},
   "outputs": [],
   "source": [
    "def strange_run(instructions):\n",
    "    state = instructions.copy()\n",
    "    pointer = 0\n",
    "    cpu_cycles = 0\n",
    "    \n",
    "    while 0 <= pointer <  len(state):\n",
    "        next_instruction = pointer + state[pointer]\n",
    "        \n",
    "        if state[pointer] >= 3:\n",
    "            state[pointer] -= 1\n",
    "        else:\n",
    "            state[pointer] += 1\n",
    "            \n",
    "        cpu_cycles += 1\n",
    "        pointer = next_instruction\n",
    "        \n",
    "    return cpu_cycles"
   ]
  },
  {
   "cell_type": "code",
   "execution_count": 7,
   "metadata": {},
   "outputs": [],
   "source": [
    "assert strange_run(test_instructions) == 10"
   ]
  },
  {
   "cell_type": "code",
   "execution_count": 6,
   "metadata": {},
   "outputs": [
    {
     "name": "stdout",
     "output_type": "stream",
     "text": [
      "CPU times: user 7.19 s, sys: 713 µs, total: 7.19 s\n",
      "Wall time: 7.19 s\n"
     ]
    },
    {
     "data": {
      "text/plain": [
       "22570529"
      ]
     },
     "execution_count": 6,
     "metadata": {},
     "output_type": "execute_result"
    }
   ],
   "source": [
    "%time strange_run(instructions)"
   ]
  },
  {
   "cell_type": "markdown",
   "metadata": {},
   "source": [
    "It had a good think about that one, maybe I should too. Or just use pypy.\n",
    "\n",
    "```bash\n",
    "$ time pypy3 Day05.py \n",
    "22570529\n",
    "\n",
    "real\t0m0.169s\n",
    "user\t0m0.161s\n",
    "sys\t0m0.008s```\n",
    "\n",
    "That's better."
   ]
  }
 ],
 "metadata": {
  "kernelspec": {
   "display_name": "Python [conda root]",
   "language": "python",
   "name": "conda-root-py"
  },
  "language_info": {
   "codemirror_mode": {
    "name": "ipython",
    "version": 3
   },
   "file_extension": ".py",
   "mimetype": "text/x-python",
   "name": "python",
   "nbconvert_exporter": "python",
   "pygments_lexer": "ipython3",
   "version": "3.5.4"
  }
 },
 "nbformat": 4,
 "nbformat_minor": 2
}
