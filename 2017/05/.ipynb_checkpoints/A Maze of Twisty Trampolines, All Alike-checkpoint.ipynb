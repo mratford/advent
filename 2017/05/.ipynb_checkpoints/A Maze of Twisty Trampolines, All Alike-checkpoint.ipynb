{
 "cells": [
  {
   "cell_type": "markdown",
   "metadata": {},
   "source": [
    "## Day 5: A Maze of Twisty Trampolines, All Alike\n",
    "\n",
    "http://adventofcode.com/2017/day/5\n",
    "\n",
    "### Part 1\n",
    "\n",
    "This is pretty much a case of doing what it says on the tin."
   ]
  },
  {
   "cell_type": "code",
   "execution_count": 25,
   "metadata": {},
   "outputs": [],
   "source": [
    "def run(instructions):\n",
    "    state = instructions.copy()\n",
    "    pointer = 0\n",
    "    cpu_cycles = 0\n",
    "    \n",
    "    while 0 <= pointer <  len(state):\n",
    "        next_instruction = pointer + state[pointer]\n",
    "        state[pointer] += 1\n",
    "        cpu_cycles += 1\n",
    "        pointer = next_instruction\n",
    "        \n",
    "    return cpu_cycles"
   ]
  },
  {
   "cell_type": "code",
   "execution_count": 26,
   "metadata": {},
   "outputs": [],
   "source": [
    "test_instructions = [0, 3, 0, 1, -3]\n",
    "\n",
    "assert run([0, 3, 0, 1, -3]) == 5"
   ]
  },
  {
   "cell_type": "code",
   "execution_count": 27,
   "metadata": {},
   "outputs": [
    {
     "data": {
      "text/plain": [
       "315613"
      ]
     },
     "execution_count": 27,
     "metadata": {},
     "output_type": "execute_result"
    }
   ],
   "source": [
    "with open('input', 'r') as f:\n",
    "    instructions = [int(line) for line in f]\n",
    "    \n",
    "run(instructions)"
   ]
  },
  {
   "cell_type": "markdown",
   "metadata": {},
   "source": [
    "### Part 2"
   ]
  },
  {
   "cell_type": "code",
   "execution_count": 28,
   "metadata": {},
   "outputs": [],
   "source": [
    "def strange_run(instructions):\n",
    "    state = instructions.copy()\n",
    "    pointer = 0\n",
    "    cpu_cycles = 0\n",
    "    \n",
    "    while 0 <= pointer <  len(state):\n",
    "        next_instruction = pointer + state[pointer]\n",
    "        \n",
    "        if state[pointer] >= 3:\n",
    "            state[pointer] -= 1\n",
    "        else:\n",
    "            state[pointer] += 1\n",
    "            \n",
    "        cpu_cycles += 1\n",
    "        pointer = next_instruction\n",
    "        \n",
    "    return cpu_cycles"
   ]
  },
  {
   "cell_type": "code",
   "execution_count": 29,
   "metadata": {},
   "outputs": [
    {
     "data": {
      "text/plain": [
       "10"
      ]
     },
     "execution_count": 29,
     "metadata": {},
     "output_type": "execute_result"
    }
   ],
   "source": [
    "strange_run(test_instructions)"
   ]
  },
  {
   "cell_type": "code",
   "execution_count": null,
   "metadata": {},
   "outputs": [],
   "source": []
  }
 ],
 "metadata": {
  "kernelspec": {
   "display_name": "Python [conda root]",
   "language": "python",
   "name": "conda-root-py"
  },
  "language_info": {
   "codemirror_mode": {
    "name": "ipython",
    "version": 3
   },
   "file_extension": ".py",
   "mimetype": "text/x-python",
   "name": "python",
   "nbconvert_exporter": "python",
   "pygments_lexer": "ipython3",
   "version": "3.5.4"
  }
 },
 "nbformat": 4,
 "nbformat_minor": 2
}
