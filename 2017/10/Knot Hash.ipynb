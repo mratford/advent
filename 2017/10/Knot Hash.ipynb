{
 "cells": [
  {
   "cell_type": "markdown",
   "metadata": {},
   "source": [
    "## Day 10: Knot Hash\n",
    "\n",
    "http://adventofcode.com/2017/day/10\n",
    "\n",
    "### Part 1\n",
    "\n",
    "Circular lists again, it's probably time to define some utility functions. And it's probably time to stop using mutable data structures (unless they're really convenient)."
   ]
  },
  {
   "cell_type": "code",
   "execution_count": 1,
   "metadata": {},
   "outputs": [],
   "source": [
    "from itertools import cycle, islice\n",
    "from pyrsistent import pvector \n",
    "\n",
    "def cget(v, i):\n",
    "    return v[i % len(v)]\n",
    "\n",
    "def cset(v, i, val):\n",
    "    return v.set(i % len(v), val)\n",
    "\n",
    "def cslice(v, start, stop):\n",
    "    # This starts getting slow for large numbers,\n",
    "    # so minimise the number of cycles produced.\n",
    "    length = stop - start\n",
    "    start = start % len(v)\n",
    "    return islice(cycle(v), start, start + length)"
   ]
  },
  {
   "cell_type": "code",
   "execution_count": 2,
   "metadata": {},
   "outputs": [],
   "source": [
    "def knot_step(string, length, current):\n",
    "    r = reversed(pvector(cslice(string, current, current + length)))\n",
    "    result = pvector(string)\n",
    "    for i, c in zip(range(current, current + length), r):\n",
    "        result = cset(result, i, c)\n",
    "    return result\n",
    "\n",
    "def knot(string, lengths):\n",
    "    current = 0\n",
    "    skip = 0\n",
    "    \n",
    "    for length in lengths:\n",
    "        string = knot_step(string, length, current)\n",
    "        current = current + length + skip\n",
    "        skip += 1\n",
    "        \n",
    "    return string"
   ]
  },
  {
   "cell_type": "code",
   "execution_count": 3,
   "metadata": {},
   "outputs": [
    {
     "data": {
      "text/plain": [
       "pvector([3, 4, 2, 1, 0])"
      ]
     },
     "execution_count": 3,
     "metadata": {},
     "output_type": "execute_result"
    }
   ],
   "source": [
    "test_lengths = [3, 4, 1, 5, 0]\n",
    "test_string = pvector(range(5))\n",
    "\n",
    "knot(test_string, test_lengths)"
   ]
  },
  {
   "cell_type": "markdown",
   "metadata": {},
   "source": [
    "Jolly good."
   ]
  },
  {
   "cell_type": "code",
   "execution_count": 4,
   "metadata": {},
   "outputs": [
    {
     "data": {
      "text/plain": [
       "15990"
      ]
     },
     "execution_count": 4,
     "metadata": {},
     "output_type": "execute_result"
    }
   ],
   "source": [
    "input_lengths = (int(x) for x in open('input', 'r').read().split(','))\n",
    "input_string = pvector(range(256))\n",
    "\n",
    "x = knot(input_string, input_lengths)\n",
    "x[0] * x[1]"
   ]
  },
  {
   "cell_type": "markdown",
   "metadata": {},
   "source": [
    "### Part 2\n",
    "\n",
    "This gives the wrong answer. I might come back to it.\n",
    "\n",
    "First convert to ascii and add the extra specified."
   ]
  },
  {
   "cell_type": "code",
   "execution_count": 5,
   "metadata": {},
   "outputs": [],
   "source": [
    "def ascii_codes(xs):\n",
    "    return [ord(x) for x in xs]\n",
    "\n",
    "def length_sequence(s):\n",
    "    return ascii_codes(s) + [17, 31, 73, 47, 23]\n",
    "\n",
    "assert length_sequence('1,2,3') == [49,44,50,44,51,17,31,73,47,23]"
   ]
  },
  {
   "cell_type": "markdown",
   "metadata": {},
   "source": [
    "Amend the knot function so that it takes a number of rounds."
   ]
  },
  {
   "cell_type": "code",
   "execution_count": 6,
   "metadata": {},
   "outputs": [],
   "source": [
    "def knot(string, lengths, rounds=1):\n",
    "    current = 0\n",
    "    skip = 0\n",
    "    \n",
    "    for i in range(rounds):\n",
    "        for length in lengths:\n",
    "            string = knot_step(string, length, current)\n",
    "            current = current + length + skip\n",
    "            skip += 1\n",
    "        \n",
    "    return string"
   ]
  },
  {
   "cell_type": "markdown",
   "metadata": {},
   "source": [
    "Splits a sequence into equal-sized lengths."
   ]
  },
  {
   "cell_type": "code",
   "execution_count": 7,
   "metadata": {},
   "outputs": [
    {
     "data": {
      "text/plain": [
       "[pvector([0, 1, 2, 3, 4, 5, 6, 7, 8, 9, 10, 11, 12, 13, 14, 15]),\n",
       " pvector([16, 17, 18, 19, 20, 21, 22, 23, 24, 25, 26, 27, 28, 29, 30, 31]),\n",
       " pvector([32, 33, 34, 35, 36, 37, 38, 39, 40, 41, 42, 43, 44, 45, 46, 47]),\n",
       " pvector([48, 49, 50, 51, 52, 53, 54, 55, 56, 57, 58, 59, 60, 61, 62, 63]),\n",
       " pvector([64, 65, 66, 67, 68, 69, 70, 71, 72, 73, 74, 75, 76, 77, 78, 79]),\n",
       " pvector([80, 81, 82, 83, 84, 85, 86, 87, 88, 89, 90, 91, 92, 93, 94, 95]),\n",
       " pvector([96, 97, 98, 99, 100, 101, 102, 103, 104, 105, 106, 107, 108, 109, 110, 111]),\n",
       " pvector([112, 113, 114, 115, 116, 117, 118, 119, 120, 121, 122, 123, 124, 125, 126, 127]),\n",
       " pvector([128, 129, 130, 131, 132, 133, 134, 135, 136, 137, 138, 139, 140, 141, 142, 143]),\n",
       " pvector([144, 145, 146, 147, 148, 149, 150, 151, 152, 153, 154, 155, 156, 157, 158, 159]),\n",
       " pvector([160, 161, 162, 163, 164, 165, 166, 167, 168, 169, 170, 171, 172, 173, 174, 175]),\n",
       " pvector([176, 177, 178, 179, 180, 181, 182, 183, 184, 185, 186, 187, 188, 189, 190, 191]),\n",
       " pvector([192, 193, 194, 195, 196, 197, 198, 199, 200, 201, 202, 203, 204, 205, 206, 207]),\n",
       " pvector([208, 209, 210, 211, 212, 213, 214, 215, 216, 217, 218, 219, 220, 221, 222, 223]),\n",
       " pvector([224, 225, 226, 227, 228, 229, 230, 231, 232, 233, 234, 235, 236, 237, 238, 239]),\n",
       " pvector([240, 241, 242, 243, 244, 245, 246, 247, 248, 249, 250, 251, 252, 253, 254, 255])]"
      ]
     },
     "execution_count": 7,
     "metadata": {},
     "output_type": "execute_result"
    }
   ],
   "source": [
    "def split_by_length(xs, length):\n",
    "    for i in range(0, len(xs), length):\n",
    "        yield xs[i:i+length]\n",
    "        \n",
    "list(split_by_length(pvector(range(256)), 16))"
   ]
  },
  {
   "cell_type": "markdown",
   "metadata": {},
   "source": [
    "Bitwise XOR each subsequence."
   ]
  },
  {
   "cell_type": "code",
   "execution_count": 8,
   "metadata": {},
   "outputs": [],
   "source": [
    "from functools import reduce\n",
    "import operator\n",
    "\n",
    "def dense_hash(sparse_hash):\n",
    "    for xs in split_by_length(sparse_hash, 16):\n",
    "        yield reduce(operator.xor, xs)"
   ]
  },
  {
   "cell_type": "markdown",
   "metadata": {},
   "source": [
    "It took me quite a long time to realise I needed to zero-pad the hexadecimals."
   ]
  },
  {
   "cell_type": "code",
   "execution_count": 9,
   "metadata": {},
   "outputs": [],
   "source": [
    "def knot_hash(xs):\n",
    "    return ''.join((['%02x' % x for x in dense_hash(knot(pvector(range(256)), length_sequence(xs), 64))]))"
   ]
  },
  {
   "cell_type": "code",
   "execution_count": 10,
   "metadata": {},
   "outputs": [],
   "source": [
    "with open('input', 'r') as f:\n",
    "    input_lengths = f.read().strip()"
   ]
  },
  {
   "cell_type": "code",
   "execution_count": 11,
   "metadata": {},
   "outputs": [],
   "source": [
    "assert knot_hash('') == 'a2582a3a0e66e6e86e3812dcb672a272'"
   ]
  },
  {
   "cell_type": "code",
   "execution_count": 12,
   "metadata": {},
   "outputs": [
    {
     "data": {
      "text/plain": [
       "'90adb097dd55dea8305c900372258ac6'"
      ]
     },
     "execution_count": 12,
     "metadata": {},
     "output_type": "execute_result"
    }
   ],
   "source": [
    "knot_hash(input_lengths)"
   ]
  },
  {
   "cell_type": "markdown",
   "metadata": {},
   "source": [
    "At last. "
   ]
  }
 ],
 "metadata": {
  "kernelspec": {
   "display_name": "Python [conda root]",
   "language": "python",
   "name": "conda-root-py"
  },
  "language_info": {
   "codemirror_mode": {
    "name": "ipython",
    "version": 3
   },
   "file_extension": ".py",
   "mimetype": "text/x-python",
   "name": "python",
   "nbconvert_exporter": "python",
   "pygments_lexer": "ipython3",
   "version": "3.5.4"
  }
 },
 "nbformat": 4,
 "nbformat_minor": 2
}
