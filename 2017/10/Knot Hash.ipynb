{
 "cells": [
  {
   "cell_type": "markdown",
   "metadata": {},
   "source": [
    "## Day 10: Knot Hash\n",
    "\n",
    "http://adventofcode.com/2017/day/10\n",
    "\n",
    "### Part 1\n",
    "\n",
    "Circular lists again, it's probably time to define some utility functions. And it's probably time to stop using mutable data structures (unless they're really convenient)."
   ]
  },
  {
   "cell_type": "code",
   "execution_count": 1,
   "metadata": {},
   "outputs": [],
   "source": [
    "from itertools import cycle, islice\n",
    "from pyrsistent import pvector \n",
    "\n",
    "def cget(v, i):\n",
    "    return v[i % len(v)]\n",
    "\n",
    "def cset(v, i, val):\n",
    "    return v.set(i % len(v), val)\n",
    "\n",
    "def cslice(v, start, stop):\n",
    "    return islice(cycle(v), start, stop)"
   ]
  },
  {
   "cell_type": "code",
   "execution_count": 2,
   "metadata": {},
   "outputs": [],
   "source": [
    "def knot_step(string, length, current):\n",
    "    r = reversed(pvector(cslice(string, current, current + length)))\n",
    "    result = pvector(string)\n",
    "    for i, c in zip(range(current, current + length), r):\n",
    "        result = cset(result, i, c)\n",
    "    return result\n",
    "\n",
    "def knot(string, lengths):\n",
    "    current = 0\n",
    "    skip = 0\n",
    "    \n",
    "    for length in lengths:\n",
    "        string = knot_step(string, length, current)\n",
    "        current = current + length + skip\n",
    "        skip += 1\n",
    "        \n",
    "    return string"
   ]
  },
  {
   "cell_type": "code",
   "execution_count": 3,
   "metadata": {},
   "outputs": [
    {
     "data": {
      "text/plain": [
       "pvector([3, 4, 2, 1, 0])"
      ]
     },
     "execution_count": 3,
     "metadata": {},
     "output_type": "execute_result"
    }
   ],
   "source": [
    "test_lengths = [3, 4, 1, 5, 0]\n",
    "test_string = pvector(range(5))\n",
    "\n",
    "knot(test_string, test_lengths)"
   ]
  },
  {
   "cell_type": "markdown",
   "metadata": {},
   "source": [
    "Jolly good."
   ]
  },
  {
   "cell_type": "code",
   "execution_count": 4,
   "metadata": {},
   "outputs": [
    {
     "data": {
      "text/plain": [
       "15990"
      ]
     },
     "execution_count": 4,
     "metadata": {},
     "output_type": "execute_result"
    }
   ],
   "source": [
    "input_lengths = (int(x) for x in open('input', 'r').read().split(','))\n",
    "input_string = pvector(range(256))\n",
    "\n",
    "x = knot(input_string, input_lengths)\n",
    "x[0] * x[1]"
   ]
  },
  {
   "cell_type": "markdown",
   "metadata": {},
   "source": [
    "### Part 2\n",
    "\n",
    "Good grief. I'll come back to this one."
   ]
  },
  {
   "cell_type": "code",
   "execution_count": null,
   "metadata": {},
   "outputs": [],
   "source": []
  }
 ],
 "metadata": {
  "kernelspec": {
   "display_name": "Python [conda root]",
   "language": "python",
   "name": "conda-root-py"
  },
  "language_info": {
   "codemirror_mode": {
    "name": "ipython",
    "version": 3
   },
   "file_extension": ".py",
   "mimetype": "text/x-python",
   "name": "python",
   "nbconvert_exporter": "python",
   "pygments_lexer": "ipython3",
   "version": "3.5.4"
  }
 },
 "nbformat": 4,
 "nbformat_minor": 2
}
