{
 "cells": [
  {
   "cell_type": "markdown",
   "metadata": {},
   "source": [
    "## Day 20: Particle Swarm\n",
    "    \n",
    "http://adventofcode.com/2017/day/20\n",
    "\n",
    "### Part 1\n",
    "\n",
    "The answer here is the particle with the smallest acceleration magnitude. If two particles with different accelerations start from completely arbitrary finite locations and velocities, then at some point the particle with the higher acceleration will have higher velocity and continue to have higher velocity, so then at some possibly later point will be diverging further and faster from the origin. \n",
    "\n",
    "The input format is a bit awkward, so I've used Emacs to turn it into csv."
   ]
  },
  {
   "cell_type": "code",
   "execution_count": 1,
   "metadata": {},
   "outputs": [
    {
     "data": {
      "text/plain": [
       "array([[ -717, -4557,  2578],\n",
       "       [  153,    21,    30],\n",
       "       [   -8,     8,    -7]])"
      ]
     },
     "execution_count": 1,
     "metadata": {},
     "output_type": "execute_result"
    }
   ],
   "source": [
    "import numpy as np\n",
    "\n",
    "def split_by_length(xs, length):\n",
    "    l_xs = list(xs)\n",
    "    return [l_xs[i:i+length] for i in range(0, len(l_xs), length)]\n",
    "\n",
    "        \n",
    "with open('input.csv') as f:\n",
    "    particles = [np.array(v) for v in [split_by_length(map(int, line.strip().split(',')), 3) \n",
    "                                       for line in f]]\n",
    "    \n",
    "particles[0]"
   ]
  },
  {
   "cell_type": "markdown",
   "metadata": {},
   "source": [
    "Using Manhattan vectors is a bit odd, but I can't see why it wouldn't work for this. The particle having acceleration with the largest Manhattan magnitude will still move further away than others when using Manhattan distance as a measure of distance."
   ]
  },
  {
   "cell_type": "code",
   "execution_count": 2,
   "metadata": {},
   "outputs": [
    {
     "data": {
      "text/plain": [
       "23"
      ]
     },
     "execution_count": 2,
     "metadata": {},
     "output_type": "execute_result"
    }
   ],
   "source": [
    "def manhattan_magnitude(v):\n",
    "    return sum(abs(v_i) for v_i in v)\n",
    "\n",
    "def acceleration_magnitude(p):\n",
    "    return manhattan_magnitude(p[2])\n",
    "\n",
    "acceleration_magnitude(particles[0])"
   ]
  },
  {
   "cell_type": "code",
   "execution_count": 3,
   "metadata": {},
   "outputs": [
    {
     "data": {
      "text/plain": [
       "115"
      ]
     },
     "execution_count": 3,
     "metadata": {},
     "output_type": "execute_result"
    }
   ],
   "source": [
    "min(range(len(particles)), key=lambda i: acceleration_magnitude(particles[i]))"
   ]
  },
  {
   "cell_type": "code",
   "execution_count": 4,
   "metadata": {},
   "outputs": [
    {
     "data": {
      "text/plain": [
       "array([[-129, 1190, -665],\n",
       "       [   3,  -82,   41],\n",
       "       [   1,    0,    1]])"
      ]
     },
     "execution_count": 4,
     "metadata": {},
     "output_type": "execute_result"
    }
   ],
   "source": [
    "particles[115]"
   ]
  },
  {
   "cell_type": "markdown",
   "metadata": {},
   "source": [
    "That looks small, let's give it a go.\n",
    "\n",
    "It's the wrong answer. What am I missing? "
   ]
  },
  {
   "cell_type": "code",
   "execution_count": 5,
   "metadata": {},
   "outputs": [
    {
     "name": "stdout",
     "output_type": "stream",
     "text": [
      "[[-129 1190 -665]\n",
      " [   3  -82   41]\n",
      " [   1    0    1]]\n",
      "[[  528 -1788 -1536]\n",
      " [    3    77    65]\n",
      " [   -2     0     0]]\n",
      "[[  692  -175 -1125]\n",
      " [  -38    19    49]\n",
      " [    0    -1     1]]\n",
      "[[  409   864 -1345]\n",
      " [    1   -28    32]\n",
      " [   -1     0     1]]\n",
      "[[-1085  -561  1531]\n",
      " [   41    -8   -56]\n",
      " [    0     2     0]]\n",
      "[[1119 -358 -696]\n",
      " [ -83   20   46]\n",
      " [   2    0   -1]]\n",
      "[[-940 1847 1177]\n",
      " [  45  -71  -30]\n",
      " [   0   -1   -2]]\n",
      "[[ 1720   726 -1414]\n",
      " [  -33   -28    64]\n",
      " [   -2     0    -1]]\n",
      "[[ -932   143 -1423]\n",
      " [   50   -10   107]\n",
      " [    1     0    -2]]\n",
      "[[-2370  3605   -22]\n",
      " [   91  -112    15]\n",
      " [    0    -2    -1]]\n"
     ]
    }
   ],
   "source": [
    "for p in sorted(particles, key=acceleration_magnitude)[:10]:\n",
    "    print(p)"
   ]
  },
  {
   "cell_type": "markdown",
   "metadata": {},
   "source": [
    "Of course, I need to distinguish between particles with the same acceleration. For two particles with the same acceleration one with a velocity that minimises the disruption to the acceleration will travel furthest. This can be measured by the magnitude of the acceleration added to the original velocity.\n",
    "\n",
    "<i>Slightly</i> more formally, if $p_t$ is the position at time zero, $v_t$ the velocity, and $a$ the constant acceleration, then\n",
    "\\begin{array}{lllll}\n",
    "p_0 & = & p_0 & \\\\\n",
    "p_1 & = & p_0 + (v_0 + a) & = & p_0 + v_0 + a \\\\\n",
    "p_2 & = & p_0 + (v_0 + a) + (v_0 + 2a) & = & p_0 + 2v_0 + 3a \\\\\n",
    "p_3 & = & p_0 + (v_0 + a) + (v_0 + 2a) & = & p_0 + 3v_0 + 6a \\\\\n",
    "& \\vdots \\\\\n",
    "p_t & = & p_0 + t.v_0 + \\frac{t(t+1)}{2}a\n",
    "\\end{array}\n",
    "The coefficient of $a$ is $\\frac{t+1}{2}$ larger than that of $v_0$, so as $t$ becomes sufficiently large the acceleration value dominates, however small it is, and the initial velocity determines which will have travelled further amongst particles with equal acceleration. "
   ]
  },
  {
   "cell_type": "code",
   "execution_count": 6,
   "metadata": {},
   "outputs": [
    {
     "data": {
      "text/plain": [
       "344"
      ]
     },
     "execution_count": 6,
     "metadata": {},
     "output_type": "execute_result"
    }
   ],
   "source": [
    "def velocity_magnitude(p):\n",
    "    return manhattan_magnitude(p[1])\n",
    "\n",
    "min(range(len(particles)), \n",
    "    key= lambda i: (acceleration_magnitude(particles[i]), \n",
    "                    manhattan_magnitude(particles[i][2] + particles[i][1])))"
   ]
  },
  {
   "cell_type": "code",
   "execution_count": 7,
   "metadata": {},
   "outputs": [
    {
     "data": {
      "text/plain": [
       "array([[  409,   864, -1345],\n",
       "       [    1,   -28,    32],\n",
       "       [   -1,     0,     1]])"
      ]
     },
     "execution_count": 7,
     "metadata": {},
     "output_type": "execute_result"
    }
   ],
   "source": [
    "particles[344]"
   ]
  },
  {
   "cell_type": "markdown",
   "metadata": {},
   "source": [
    "That's the right answer.\n",
    "\n",
    "### Part 2\n",
    "\n",
    "For each pair of particles find a positive integer $t$ such that\n",
    "$$ p_{i0} + t.v_{i0} + \\frac{t(t+1)}{2}a_i = p_{j1} + t.v_{j1} + \\frac{t(t+1)}{2}a_j $$\n",
    "\n",
    "I'm not sure I'll have time for this today."
   ]
  },
  {
   "cell_type": "code",
   "execution_count": null,
   "metadata": {},
   "outputs": [],
   "source": []
  }
 ],
 "metadata": {
  "kernelspec": {
   "display_name": "Python [conda root]",
   "language": "python",
   "name": "conda-root-py"
  },
  "language_info": {
   "codemirror_mode": {
    "name": "ipython",
    "version": 3
   },
   "file_extension": ".py",
   "mimetype": "text/x-python",
   "name": "python",
   "nbconvert_exporter": "python",
   "pygments_lexer": "ipython3",
   "version": "3.5.4"
  }
 },
 "nbformat": 4,
 "nbformat_minor": 2
}
