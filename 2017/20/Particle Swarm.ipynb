{
 "cells": [
  {
   "cell_type": "markdown",
   "metadata": {},
   "source": [
    "## Day 20: Particle Swarm\n",
    "    \n",
    "http://adventofcode.com/2017/day/20\n",
    "\n",
    "### Part 1\n",
    "\n",
    "The answer here is the particle with the smallest acceleration magnitude. If two particles with different accelerations start from completely arbitrary finite locations and velocities, then at some point the particle with the higher acceleration will have higher velocity and continue to have higher velocity, so then at some possibly later point will be diverging further and faster from the origin. \n",
    "\n",
    "The input format is a bit awkward, so I've used Emacs to turn it into csv."
   ]
  },
  {
   "cell_type": "code",
   "execution_count": 9,
   "metadata": {},
   "outputs": [
    {
     "data": {
      "text/plain": [
       "[[-717, -4557, 2578], [153, 21, 30], [-8, 8, -7]]"
      ]
     },
     "execution_count": 9,
     "metadata": {},
     "output_type": "execute_result"
    }
   ],
   "source": [
    "def split_by_length(xs, length):\n",
    "    l_xs = list(xs)\n",
    "    return [l_xs[i:i+length] for i in range(0, len(l_xs), length)]\n",
    "\n",
    "        \n",
    "with open('input.csv') as f:\n",
    "    particles = [split_by_length(map(int, line.strip().split(',')), 3) \n",
    "                 for line in f]\n",
    "    \n",
    "particles[0]"
   ]
  },
  {
   "cell_type": "markdown",
   "metadata": {},
   "source": [
    "Using Manhattan vectors is a bit odd, but I can't see why it wouldn't work for this. The particle having acceleration with the largest Manhattan magnitude will still move further away than others when using Manhattan distance as a measure of distance."
   ]
  },
  {
   "cell_type": "code",
   "execution_count": 17,
   "metadata": {},
   "outputs": [
    {
     "data": {
      "text/plain": [
       "23"
      ]
     },
     "execution_count": 17,
     "metadata": {},
     "output_type": "execute_result"
    }
   ],
   "source": [
    "def manhattan_magnitude(v):\n",
    "    return sum(abs(v_i) for v_i in v)\n",
    "\n",
    "def acceleration_magnitude(p):\n",
    "    return manhattan_magnitude(p[2])\n",
    "\n",
    "acceleration_magnitude(particles[0])"
   ]
  },
  {
   "cell_type": "code",
   "execution_count": 18,
   "metadata": {},
   "outputs": [
    {
     "data": {
      "text/plain": [
       "115"
      ]
     },
     "execution_count": 18,
     "metadata": {},
     "output_type": "execute_result"
    }
   ],
   "source": [
    "min(range(len(particles)), key=lambda i: acceleration_magnitude(particles[i]))"
   ]
  },
  {
   "cell_type": "code",
   "execution_count": 19,
   "metadata": {},
   "outputs": [
    {
     "data": {
      "text/plain": [
       "[[-129, 1190, -665], [3, -82, 41], [1, 0, 1]]"
      ]
     },
     "execution_count": 19,
     "metadata": {},
     "output_type": "execute_result"
    }
   ],
   "source": [
    "particles[115]"
   ]
  },
  {
   "cell_type": "markdown",
   "metadata": {},
   "source": [
    "That looks small, let's give it a go.\n",
    "\n",
    "It's the wrong answer. What am I missing? It is quite early."
   ]
  },
  {
   "cell_type": "code",
   "execution_count": 21,
   "metadata": {},
   "outputs": [
    {
     "data": {
      "text/plain": [
       "[[[-129, 1190, -665], [3, -82, 41], [1, 0, 1]],\n",
       " [[528, -1788, -1536], [3, 77, 65], [-2, 0, 0]],\n",
       " [[692, -175, -1125], [-38, 19, 49], [0, -1, 1]],\n",
       " [[409, 864, -1345], [1, -28, 32], [-1, 0, 1]],\n",
       " [[-1085, -561, 1531], [41, -8, -56], [0, 2, 0]],\n",
       " [[1119, -358, -696], [-83, 20, 46], [2, 0, -1]],\n",
       " [[-940, 1847, 1177], [45, -71, -30], [0, -1, -2]],\n",
       " [[1720, 726, -1414], [-33, -28, 64], [-2, 0, -1]],\n",
       " [[-932, 143, -1423], [50, -10, 107], [1, 0, -2]],\n",
       " [[-2370, 3605, -22], [91, -112, 15], [0, -2, -1]]]"
      ]
     },
     "execution_count": 21,
     "metadata": {},
     "output_type": "execute_result"
    }
   ],
   "source": [
    "sorted(particles, key=acceleration_magnitude)[:10]"
   ]
  },
  {
   "cell_type": "markdown",
   "metadata": {},
   "source": [
    "Of course, I need to distinguish between particles with the same acceleration. Use velocity as the tie-break. For two particles with the same acceleration one with the higher initial velocity will always have a higher velocity and diverge further from the origin."
   ]
  },
  {
   "cell_type": "code",
   "execution_count": 23,
   "metadata": {},
   "outputs": [
    {
     "data": {
      "text/plain": [
       "344"
      ]
     },
     "execution_count": 23,
     "metadata": {},
     "output_type": "execute_result"
    }
   ],
   "source": [
    "def velocity_magnitude(p):\n",
    "    return manhattan_magnitude(p[1])\n",
    "\n",
    "min(range(len(particles)), \n",
    "    key= lambda i: (acceleration_magnitude(particles[i]), \n",
    "                    velocity_magnitude(particles[i])))"
   ]
  },
  {
   "cell_type": "code",
   "execution_count": 24,
   "metadata": {},
   "outputs": [
    {
     "data": {
      "text/plain": [
       "[[409, 864, -1345], [1, -28, 32], [-1, 0, 1]]"
      ]
     },
     "execution_count": 24,
     "metadata": {},
     "output_type": "execute_result"
    }
   ],
   "source": [
    "particles[344]"
   ]
  },
  {
   "cell_type": "code",
   "execution_count": null,
   "metadata": {},
   "outputs": [],
   "source": []
  }
 ],
 "metadata": {
  "kernelspec": {
   "display_name": "Python [conda root]",
   "language": "python",
   "name": "conda-root-py"
  },
  "language_info": {
   "codemirror_mode": {
    "name": "ipython",
    "version": 3
   },
   "file_extension": ".py",
   "mimetype": "text/x-python",
   "name": "python",
   "nbconvert_exporter": "python",
   "pygments_lexer": "ipython3",
   "version": "3.5.4"
  }
 },
 "nbformat": 4,
 "nbformat_minor": 2
}
