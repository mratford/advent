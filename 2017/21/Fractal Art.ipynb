{
 "cells": [
  {
   "cell_type": "markdown",
   "metadata": {},
   "source": [
    "## Day 21: Fractal Art\n",
    "\n",
    "http://adventofcode.com/2017/day/21\n",
    "\n",
    "### Part 1\n",
    "\n",
    "First create a big dictionary of transformations, including rotations and flips and flips of rotations. That should cover everything. `numpy` has a lot of this built in."
   ]
  },
  {
   "cell_type": "code",
   "execution_count": 1,
   "metadata": {},
   "outputs": [
    {
     "name": "stdout",
     "output_type": "stream",
     "text": [
      "##..\n",
      "#...\n",
      "....\n",
      "..#.\n"
     ]
    }
   ],
   "source": [
    "import numpy as np\n",
    "import math\n",
    "\n",
    "def read_pattern(p):\n",
    "    return '\\n'.join(p.split('/'))\n",
    "\n",
    "test_pattern = read_pattern('##../#.../..../..#.')\n",
    "\n",
    "print(test_pattern)"
   ]
  },
  {
   "cell_type": "code",
   "execution_count": 2,
   "metadata": {},
   "outputs": [
    {
     "data": {
      "text/plain": [
       "array([[1, 1, 0, 0],\n",
       "       [1, 0, 0, 0],\n",
       "       [0, 0, 0, 0],\n",
       "       [0, 0, 1, 0]])"
      ]
     },
     "execution_count": 2,
     "metadata": {},
     "output_type": "execute_result"
    }
   ],
   "source": [
    "def pattern_to_matrix(p):\n",
    "    return np.array([[1 if c == '#' else 0 for c in s] \n",
    "                      for s in p.splitlines()])\n",
    "\n",
    "pattern_to_matrix(test_pattern)"
   ]
  },
  {
   "cell_type": "code",
   "execution_count": 3,
   "metadata": {},
   "outputs": [
    {
     "name": "stdout",
     "output_type": "stream",
     "text": [
      "##..\n",
      "#...\n",
      "....\n",
      "..#.\n"
     ]
    }
   ],
   "source": [
    "def matrix_to_pattern(m):\n",
    "    return '\\n'.join([''.join(['#' if b == 1 else '.' for b in r]) \n",
    "                      for r in m.tolist()])\n",
    "\n",
    "print(matrix_to_pattern(pattern_to_matrix(test_pattern)))"
   ]
  },
  {
   "cell_type": "code",
   "execution_count": 4,
   "metadata": {},
   "outputs": [],
   "source": [
    "from functools import partial\n",
    "\n",
    "rotations = [lambda x: x, np.rot90, partial(np.rot90, k=2), partial(np.rot90, k=3)]\n",
    "flips = [lambda x: x, np.fliplr, np.flipud]"
   ]
  },
  {
   "cell_type": "code",
   "execution_count": 5,
   "metadata": {},
   "outputs": [
    {
     "name": "stdout",
     "output_type": "stream",
     "text": [
      "[[1 2 3]\n",
      " [4 5 6]\n",
      " [7 8 9]] \n",
      "\n",
      "[[3 2 1]\n",
      " [6 5 4]\n",
      " [9 8 7]] \n",
      "\n",
      "[[7 8 9]\n",
      " [4 5 6]\n",
      " [1 2 3]] \n",
      "\n",
      "[[3 6 9]\n",
      " [2 5 8]\n",
      " [1 4 7]] \n",
      "\n",
      "[[9 6 3]\n",
      " [8 5 2]\n",
      " [7 4 1]] \n",
      "\n",
      "[[1 4 7]\n",
      " [2 5 8]\n",
      " [3 6 9]] \n",
      "\n",
      "[[9 8 7]\n",
      " [6 5 4]\n",
      " [3 2 1]] \n",
      "\n",
      "[[7 8 9]\n",
      " [4 5 6]\n",
      " [1 2 3]] \n",
      "\n",
      "[[3 2 1]\n",
      " [6 5 4]\n",
      " [9 8 7]] \n",
      "\n",
      "[[7 4 1]\n",
      " [8 5 2]\n",
      " [9 6 3]] \n",
      "\n",
      "[[1 4 7]\n",
      " [2 5 8]\n",
      " [3 6 9]] \n",
      "\n",
      "[[9 6 3]\n",
      " [8 5 2]\n",
      " [7 4 1]] \n",
      "\n"
     ]
    }
   ],
   "source": [
    "test_3x3 = np.arange(1, 10)\n",
    "test_3x3.shape = (3, 3)\n",
    "\n",
    "for r in rotations:\n",
    "    for f in flips:\n",
    "        print(f(r(test_3x3)), '\\n')"
   ]
  },
  {
   "cell_type": "markdown",
   "metadata": {},
   "source": [
    "That's covered everything and then some, e.g. rotate 180 then flip left to right == rotate 0 then flip up to down. I'll just shovel everything into a set."
   ]
  },
  {
   "cell_type": "code",
   "execution_count": 6,
   "metadata": {},
   "outputs": [],
   "source": [
    "def transformations(pattern):\n",
    "    m = pattern_to_matrix(pattern)\n",
    "    return {matrix_to_pattern(f(r(m))) \n",
    "            for r in rotations for f in flips}"
   ]
  },
  {
   "cell_type": "code",
   "execution_count": 7,
   "metadata": {},
   "outputs": [
    {
     "name": "stdout",
     "output_type": "stream",
     "text": [
      "....\n",
      "...#\n",
      "#...\n",
      "##.. \n",
      "\n",
      "..#.\n",
      "....\n",
      "#...\n",
      "##.. \n",
      "\n",
      "##..\n",
      "#...\n",
      "....\n",
      "..#. \n",
      "\n",
      ".#..\n",
      "....\n",
      "...#\n",
      "..## \n",
      "\n",
      "....\n",
      "#...\n",
      "...#\n",
      "..## \n",
      "\n",
      "..##\n",
      "...#\n",
      "#...\n",
      ".... \n",
      "\n",
      "..##\n",
      "...#\n",
      "....\n",
      ".#.. \n",
      "\n",
      "##..\n",
      "#...\n",
      "...#\n",
      ".... \n",
      "\n"
     ]
    }
   ],
   "source": [
    "for p in transformations(test_pattern):\n",
    "    print(p, '\\n')"
   ]
  },
  {
   "cell_type": "code",
   "execution_count": 8,
   "metadata": {},
   "outputs": [
    {
     "data": {
      "text/plain": [
       "{'#.\\n..': '##.\\n#..\\n...',\n",
       " '.#\\n..': '##.\\n#..\\n...',\n",
       " '..\\n#.': '##.\\n#..\\n...',\n",
       " '..\\n.#': '##.\\n#..\\n...'}"
      ]
     },
     "execution_count": 8,
     "metadata": {},
     "output_type": "execute_result"
    }
   ],
   "source": [
    "def process_data_line(line):\n",
    "    k, v = line.strip().split(' => ')\n",
    "    key = read_pattern(k)\n",
    "    value = read_pattern(v)\n",
    "    \n",
    "    return {transformation: value for transformation in transformations(key)}\n",
    "\n",
    "test_data = '''../.# => ##./#../...\n",
    ".#./..#/### => #..#/..../..../#..#\n",
    "'''.splitlines()\n",
    "\n",
    "process_data_line(test_data[0])"
   ]
  },
  {
   "cell_type": "code",
   "execution_count": 9,
   "metadata": {},
   "outputs": [
    {
     "data": {
      "text/plain": [
       "{'###\\n#..\\n.#.': '#..#\\n....\\n....\\n#..#',\n",
       " '###\\n..#\\n.#.': '#..#\\n....\\n....\\n#..#',\n",
       " '##.\\n#.#\\n#..': '#..#\\n....\\n....\\n#..#',\n",
       " '#.\\n..': '##.\\n#..\\n...',\n",
       " '#..\\n#.#\\n##.': '#..#\\n....\\n....\\n#..#',\n",
       " '.#\\n..': '##.\\n#..\\n...',\n",
       " '.##\\n#.#\\n..#': '#..#\\n....\\n....\\n#..#',\n",
       " '.#.\\n#..\\n###': '#..#\\n....\\n....\\n#..#',\n",
       " '.#.\\n..#\\n###': '#..#\\n....\\n....\\n#..#',\n",
       " '..\\n#.': '##.\\n#..\\n...',\n",
       " '..\\n.#': '##.\\n#..\\n...',\n",
       " '..#\\n#.#\\n.##': '#..#\\n....\\n....\\n#..#'}"
      ]
     },
     "execution_count": 9,
     "metadata": {},
     "output_type": "execute_result"
    }
   ],
   "source": [
    "def build_dictionary(data):\n",
    "    dictionary = {}\n",
    "    \n",
    "    for line in data:\n",
    "        dictionary.update(process_data_line(line))\n",
    "        \n",
    "    return dictionary\n",
    "\n",
    "test_dictionary = build_dictionary(test_data)\n",
    "\n",
    "test_dictionary"
   ]
  },
  {
   "cell_type": "code",
   "execution_count": 10,
   "metadata": {},
   "outputs": [],
   "source": [
    "def enhance(book, pattern):\n",
    "    # Make one enhancement using the given rulebook\n",
    "    \n",
    "    length = len(pattern.splitlines()[0])\n",
    "    split_length = 2 if length % 2 == 0 else 3\n",
    "    # nxn subsquares\n",
    "    n = length // split_length\n",
    "    \n",
    "    \n",
    "    # Turn pattern into matrix and split into smaller squares \n",
    "    m = pattern_to_matrix(pattern)\n",
    "    split_matrix = [np.split(s, n, axis=1) for s in np.split(m, n)]\n",
    "    \n",
    "    \n",
    "    # The evolved squares            \n",
    "    enhancements = [[book[matrix_to_pattern(split_matrix[i][j])] \n",
    "                     for j in range(n)] \n",
    "                    for i in range(n)]\n",
    "    \n",
    "    \n",
    "    # Stitch them back together\n",
    "    rows = [np.concatenate([pattern_to_matrix(p) for p in enhancements[i]], axis=1) \n",
    "            for i in range(n)]\n",
    "    return matrix_to_pattern(np.concatenate(rows))"
   ]
  },
  {
   "cell_type": "markdown",
   "metadata": {},
   "source": [
    "No, that didn't work first time. On reflection I shouldn't have kept switching between numpy arrays and strings but I thought it would be useful for debugging and hashing."
   ]
  },
  {
   "cell_type": "code",
   "execution_count": 11,
   "metadata": {},
   "outputs": [
    {
     "name": "stdout",
     "output_type": "stream",
     "text": [
      "1\n",
      "#..#\n",
      "....\n",
      "....\n",
      "#..#\n",
      "2\n",
      "##.##.\n",
      "#..#..\n",
      "......\n",
      "##.##.\n",
      "#..#..\n",
      "......\n"
     ]
    }
   ],
   "source": [
    "starting_pattern = '''.#.\n",
    "..#\n",
    "###'''\n",
    "    \n",
    "p = starting_pattern\n",
    "for i in range(1, 3):\n",
    "    print(i)\n",
    "    p = enhance(test_dictionary, p)\n",
    "    print(p)"
   ]
  },
  {
   "cell_type": "markdown",
   "metadata": {},
   "source": [
    "That seems to be working."
   ]
  },
  {
   "cell_type": "code",
   "execution_count": 12,
   "metadata": {},
   "outputs": [
    {
     "name": "stdout",
     "output_type": "stream",
     "text": [
      "1\n",
      "#.##\n",
      "#.#.\n",
      "..#.\n",
      "..##\n",
      "2\n",
      "##.#.#\n",
      ".#....\n",
      "##...#\n",
      "#..#.#\n",
      "##....\n",
      ".....#\n",
      "3\n",
      "#.#..#..#\n",
      "....#..#.\n",
      "..#..#..#\n",
      "#.#..###.\n",
      "....#..#.\n",
      "..#..###.\n",
      "##.#....#\n",
      ".#.##..#.\n",
      "##......#\n",
      "4\n",
      ".#...###.###\n",
      "##...###.###\n",
      ".#..#.###.##\n",
      ".###.#...#..\n",
      ".#...###.#.#\n",
      "##...###.###\n",
      ".#..#.#####.\n",
      ".###.#...#.#\n",
      ".#.#.##..###\n",
      ".###.###.###\n",
      "###.....#.##\n",
      ".#.#.#.#.#..\n",
      "5\n",
      "#.##..##..#.##..#.\n",
      "...##..#.###.#.###\n",
      "..#...##....##....\n",
      "##.##...###...###.\n",
      ".#..#..##.#..##.#.\n",
      "##.##....##....##.\n",
      "#.##..##..#.##.#.#\n",
      "...##..#.###.#....\n",
      "..#...##....##...#\n",
      "##.##...###.#.#..#\n",
      ".#..#..##.#.....##\n",
      "##.##....##...#...\n",
      "##.#.###.#.###..#.\n",
      ".#.....#.....#.###\n",
      "##...###...###....\n",
      "#.#..#..#..#..###.\n",
      "....##.#..#..##.#.\n",
      "..#.....#..#...##.\n"
     ]
    }
   ],
   "source": [
    "with open('input', 'r') as f:\n",
    "    problem_book = build_dictionary(f.readlines())\n",
    "    \n",
    "p = starting_pattern\n",
    "for i in range(1, 6):\n",
    "    print(i)\n",
    "    p = enhance(problem_book, p)\n",
    "    print(p)"
   ]
  },
  {
   "cell_type": "code",
   "execution_count": 13,
   "metadata": {},
   "outputs": [
    {
     "data": {
      "text/plain": [
       "142"
      ]
     },
     "execution_count": 13,
     "metadata": {},
     "output_type": "execute_result"
    }
   ],
   "source": [
    "p.count('#')"
   ]
  },
  {
   "cell_type": "markdown",
   "metadata": {},
   "source": [
    "Phew.\n",
    "\n",
    "### Part 2"
   ]
  },
  {
   "cell_type": "code",
   "execution_count": 14,
   "metadata": {},
   "outputs": [
    {
     "name": "stdout",
     "output_type": "stream",
     "text": [
      "1\n",
      "2\n",
      "3\n",
      "4\n",
      "5\n",
      "6\n",
      "7\n",
      "8\n",
      "9\n",
      "10\n",
      "11\n",
      "12\n",
      "13\n",
      "14\n",
      "15\n",
      "16\n",
      "17\n",
      "18\n"
     ]
    }
   ],
   "source": [
    "p = starting_pattern\n",
    "for i in range(1, 19):\n",
    "    print(i)\n",
    "    p = enhance(problem_book, p)"
   ]
  },
  {
   "cell_type": "code",
   "execution_count": 15,
   "metadata": {},
   "outputs": [
    {
     "data": {
      "text/plain": [
       "1879071"
      ]
     },
     "execution_count": 15,
     "metadata": {},
     "output_type": "execute_result"
    }
   ],
   "source": [
    "p.count('#')"
   ]
  },
  {
   "cell_type": "code",
   "execution_count": null,
   "metadata": {},
   "outputs": [],
   "source": []
  }
 ],
 "metadata": {
  "kernelspec": {
   "display_name": "Python [conda root]",
   "language": "python",
   "name": "conda-root-py"
  },
  "language_info": {
   "codemirror_mode": {
    "name": "ipython",
    "version": 3
   },
   "file_extension": ".py",
   "mimetype": "text/x-python",
   "name": "python",
   "nbconvert_exporter": "python",
   "pygments_lexer": "ipython3",
   "version": "3.5.4"
  }
 },
 "nbformat": 4,
 "nbformat_minor": 2
}
