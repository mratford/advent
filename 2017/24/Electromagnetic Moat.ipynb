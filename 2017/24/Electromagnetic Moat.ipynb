{
 "cells": [
  {
   "cell_type": "markdown",
   "metadata": {},
   "source": [
    "## Day 24: Electromagnetic Moat\n",
    "\n",
    "http://adventofcode.com/2017/day/24\n",
    "\n",
    "### Part 1\n",
    "\n",
    "I'm not sure how much time I'll have for this over the next few days but this seems straightforward enough. Represent the ports as a dictionary with keys as the opening port; there will have to be two of them, each way. Use depth-first search to find the strongest bridge. Use persistent data structures judiciously to avoid annoying mutability bugs."
   ]
  },
  {
   "cell_type": "code",
   "execution_count": 1,
   "metadata": {},
   "outputs": [],
   "source": [
    "from pyrsistent import pvector, pmap\n",
    "from collections import defaultdict, deque\n",
    "\n",
    "def get_ports(data):\n",
    "    ports = defaultdict(pvector)\n",
    "    \n",
    "    for line in data.strip().splitlines():\n",
    "        x, y = [int(f) for f in line.split('/')]\n",
    "        ports[x] = ports[x].append(y)\n",
    "        ports[y] = ports[y].append(x)\n",
    "        \n",
    "    return pmap(ports)"
   ]
  },
  {
   "cell_type": "code",
   "execution_count": 2,
   "metadata": {},
   "outputs": [
    {
     "data": {
      "text/plain": [
       "pmap({0: pvector([2, 1]), 1: pvector([0, 10]), 2: pvector([0, 2, 2, 3]), 3: pvector([2, 4, 5]), 4: pvector([3]), 5: pvector([3]), 9: pvector([10]), 10: pvector([1, 9])})"
      ]
     },
     "execution_count": 2,
     "metadata": {},
     "output_type": "execute_result"
    }
   ],
   "source": [
    "test_data = '''0/2\n",
    "2/2\n",
    "2/3\n",
    "3/4\n",
    "3/5\n",
    "0/1\n",
    "10/1\n",
    "9/10'''\n",
    "\n",
    "test_ports = get_ports(test_data)\n",
    "test_ports"
   ]
  },
  {
   "cell_type": "code",
   "execution_count": 3,
   "metadata": {},
   "outputs": [],
   "source": [
    "def strongest_bridge(ports):\n",
    "    max_strength = -1\n",
    "    strongest_bridge = None\n",
    "    \n",
    "    # Consists of (bridge, remaining ports) tuples\n",
    "    # (the bridge is a pvector)\n",
    "    search_space = deque()\n",
    "    \n",
    "    for i, port_out in enumerate(ports[0]):\n",
    "        bridge = pvector([0, port_out])\n",
    "        if max_strength < sum(bridge):\n",
    "            strongest_bridge = bridge\n",
    "            max_strength = sum(bridge)\n",
    "        ports_to_search = ports.set(0, ports[0].delete(i)).set(port_out, ports[port_out].remove(0))\n",
    "        search_space.append((bridge, ports_to_search))\n",
    "    \n",
    "    while search_space:\n",
    "        bridge_so_far, ports_left = search_space.popleft()\n",
    "        \n",
    "        port_in = bridge_so_far[-1]\n",
    "        for i, port_out in enumerate(ports_left[port_in]):\n",
    "            bridge = bridge_so_far.append(port_in).append(port_out)\n",
    "            if max_strength < sum(bridge):\n",
    "                max_strength = sum(bridge)\n",
    "                strongest_bridge = bridge\n",
    "            # Actually this is a mess, using copy.deepcopy might be better\n",
    "            ports_to_search = ports_left.set(port_in, ports_left[port_in].delete(i))\n",
    "            ports_to_search = ports_to_search.set(port_out, ports_to_search[port_out].remove(port_in))\n",
    "            search_space.append((bridge, ports_to_search))\n",
    "            \n",
    "    return (max_strength, strongest_bridge)"
   ]
  },
  {
   "cell_type": "code",
   "execution_count": 4,
   "metadata": {},
   "outputs": [
    {
     "data": {
      "text/plain": [
       "(31, pvector([0, 1, 1, 10, 10, 9]))"
      ]
     },
     "execution_count": 4,
     "metadata": {},
     "output_type": "execute_result"
    }
   ],
   "source": [
    "strongest_bridge(test_ports)"
   ]
  },
  {
   "cell_type": "code",
   "execution_count": 5,
   "metadata": {},
   "outputs": [
    {
     "data": {
      "text/plain": [
       "pmap({0: pvector([47, 4, 29]), 1: pvector([8, 44, 18]), 2: pvector([5, 45]), 4: pvector([34, 32, 35, 0]), 5: pvector([12, 2]), 6: pvector([27]), 7: pvector([41, 11]), 8: pvector([28, 1, 38]), 9: pvector([24, 33, 10]), 10: pvector([28, 11, 32, 9]), 11: pvector([10, 7]), 12: pvector([35, 5]), 13: pvector([31, 26]), 14: pvector([48]), 16: pvector([19, 16, 16]), 18: pvector([1, 20, 39]), 19: pvector([16, 49, 32]), 20: pvector([29, 32, 18]), 23: pvector([37]), 24: pvector([9, 34]), 25: pvector([33]), 26: pvector([46, 13]), 27: pvector([6]), 28: pvector([10, 35, 8]), 29: pvector([20, 33, 0]), 30: pvector([37, 32]), 31: pvector([13, 37, 43]), 32: pvector([4, 30, 20, 10, 40, 37, 19]), 33: pvector([29, 9, 25, 33, 33]), 34: pvector([4, 24]), 35: pvector([12, 4, 28]), 36: pvector([38]), 37: pvector([23, 30, 31, 32]), 38: pvector([36, 8]), 39: pvector([44, 49, 18]), 40: pvector([32]), 41: pvector([48, 7]), 43: pvector([31]), 44: pvector([1, 39]), 45: pvector([47, 48, 45, 45, 2]), 46: pvector([26]), 47: pvector([45, 0]), 48: pvector([41, 14, 45]), 49: pvector([49, 49, 19, 39])})"
      ]
     },
     "execution_count": 5,
     "metadata": {},
     "output_type": "execute_result"
    }
   ],
   "source": [
    "with open('input', 'r') as f:\n",
    "    problem_data = f.read()\n",
    "    \n",
    "problem_ports = get_ports(problem_data)\n",
    "problem_ports"
   ]
  },
  {
   "cell_type": "code",
   "execution_count": 6,
   "metadata": {},
   "outputs": [
    {
     "name": "stdout",
     "output_type": "stream",
     "text": [
      "CPU times: user 1min 21s, sys: 323 ms, total: 1min 21s\n",
      "Wall time: 1min 21s\n"
     ]
    },
    {
     "data": {
      "text/plain": [
       "(1906,\n",
       " pvector([0, 47, 47, 45, 45, 45, 45, 48, 48, 41, 41, 7, 7, 11, 11, 10, 10, 32, 32, 30, 30, 37, 37, 32, 32, 20, 20, 18, 18, 1, 1, 44, 44, 39, 39, 49, 49, 49, 49, 19, 19, 32, 32, 4, 4, 34, 34, 24, 24, 9, 9, 33, 33, 33, 33, 29, 29, 0, 0, 4, 4, 35, 35, 28, 28, 8, 8, 38, 38, 36]))"
      ]
     },
     "execution_count": 6,
     "metadata": {},
     "output_type": "execute_result"
    }
   ],
   "source": [
    "%time strongest_bridge(problem_ports)"
   ]
  },
  {
   "cell_type": "markdown",
   "metadata": {},
   "source": [
    "### Part 2"
   ]
  },
  {
   "cell_type": "code",
   "execution_count": 7,
   "metadata": {},
   "outputs": [],
   "source": [
    "def longest_bridge(ports):\n",
    "    max_bridge = []\n",
    "    def longer_bridge(x, y):\n",
    "        return max(x, y, key=lambda b: (len(b), sum(b)))\n",
    "    \n",
    "    # Consists of (bridge, remaining ports) tuples\n",
    "    # (the bridge is a pvector)\n",
    "    search_space = deque()\n",
    "    \n",
    "    for i, port_out in enumerate(ports[0]):\n",
    "        bridge = pvector([0, port_out])\n",
    "        max_bridge = longer_bridge(bridge, max_bridge)\n",
    "        ports_to_search = ports.set(0, ports[0].delete(i)).set(port_out, ports[port_out].remove(0))\n",
    "        search_space.append((bridge, ports_to_search))\n",
    "    \n",
    "    while search_space:\n",
    "        bridge_so_far, ports_left = search_space.popleft()\n",
    "        \n",
    "        port_in = bridge_so_far[-1]\n",
    "        for i, port_out in enumerate(ports_left[port_in]):\n",
    "            bridge = bridge_so_far.append(port_in).append(port_out)\n",
    "            max_bridge = longer_bridge(bridge, max_bridge)\n",
    "            # Actually this is a mess, using copy.deepcopy might be better\n",
    "            ports_to_search = ports_left.set(port_in, ports_left[port_in].delete(i))\n",
    "            ports_to_search = ports_to_search.set(port_out, ports_to_search[port_out].remove(port_in))\n",
    "            search_space.append((bridge, ports_to_search))\n",
    "            \n",
    "    return (sum(max_bridge), len(max_bridge)//2, max_bridge)"
   ]
  },
  {
   "cell_type": "code",
   "execution_count": 8,
   "metadata": {},
   "outputs": [
    {
     "data": {
      "text/plain": [
       "(19, 4, pvector([0, 2, 2, 2, 2, 3, 3, 5]))"
      ]
     },
     "execution_count": 8,
     "metadata": {},
     "output_type": "execute_result"
    }
   ],
   "source": [
    "longest_bridge(test_ports)"
   ]
  },
  {
   "cell_type": "code",
   "execution_count": 9,
   "metadata": {},
   "outputs": [
    {
     "name": "stdout",
     "output_type": "stream",
     "text": [
      "CPU times: user 1min 31s, sys: 184 ms, total: 1min 31s\n",
      "Wall time: 1min 31s\n"
     ]
    },
    {
     "data": {
      "text/plain": [
       "(1824,\n",
       " 36,\n",
       " pvector([0, 4, 4, 35, 35, 12, 12, 5, 5, 2, 2, 45, 45, 45, 45, 48, 48, 41, 41, 7, 7, 11, 11, 10, 10, 28, 28, 8, 8, 1, 1, 44, 44, 39, 39, 49, 49, 49, 49, 19, 19, 32, 32, 20, 20, 29, 29, 33, 33, 33, 33, 9, 9, 24, 24, 34, 34, 4, 4, 32, 32, 30, 30, 37, 37, 31, 31, 13, 13, 26, 26, 46]))"
      ]
     },
     "execution_count": 9,
     "metadata": {},
     "output_type": "execute_result"
    }
   ],
   "source": [
    "%time longest_bridge(problem_ports)"
   ]
  },
  {
   "cell_type": "markdown",
   "metadata": {},
   "source": [
    "That'll do."
   ]
  },
  {
   "cell_type": "markdown",
   "metadata": {},
   "source": [
    "### Post-mortem\n",
    "\n",
    "The time taken in the solution above is unsatisfactory. Copying instead of using pyrsistent's data structures made things a lot worse, which is useful information."
   ]
  },
  {
   "cell_type": "code",
   "execution_count": 10,
   "metadata": {},
   "outputs": [],
   "source": [
    "def get_ports(data):\n",
    "    ports = defaultdict(set)\n",
    "    \n",
    "    for key, line in enumerate(data.strip().splitlines()):\n",
    "        x, y = [int(f) for f in line.split('/')]\n",
    "        port = (x, y, key)\n",
    "        ports[x].add(port)\n",
    "        ports[y].add(port)\n",
    "\n",
    "    return ports"
   ]
  },
  {
   "cell_type": "code",
   "execution_count": 11,
   "metadata": {},
   "outputs": [
    {
     "data": {
      "text/plain": [
       "defaultdict(set,\n",
       "            {0: {(0, 1, 5), (0, 2, 0)},\n",
       "             1: {(0, 1, 5), (10, 1, 6)},\n",
       "             2: {(0, 2, 0), (2, 2, 1), (2, 3, 2)},\n",
       "             3: {(2, 3, 2), (3, 4, 3), (3, 5, 4)},\n",
       "             4: {(3, 4, 3)},\n",
       "             5: {(3, 5, 4)},\n",
       "             9: {(9, 10, 7)},\n",
       "             10: {(9, 10, 7), (10, 1, 6)}})"
      ]
     },
     "execution_count": 11,
     "metadata": {},
     "output_type": "execute_result"
    }
   ],
   "source": [
    "test_components = get_ports(test_data)\n",
    "test_components"
   ]
  },
  {
   "cell_type": "code",
   "execution_count": 12,
   "metadata": {},
   "outputs": [
    {
     "data": {
      "text/plain": [
       "((0, 2, 0), (2, 2, 1), (2, 3, 2), (3, 5, 4))"
      ]
     },
     "execution_count": 12,
     "metadata": {},
     "output_type": "execute_result"
    }
   ],
   "source": [
    "def generate_bridges(components, source=0, components_used=set()):\n",
    "    for c in components[source] - components_used:\n",
    "        yield (c,)\n",
    "        port_out = c[1] if c[0] == source else c[0]\n",
    "        for b in generate_bridges(components, port_out, components_used | {c}):\n",
    "            yield (c,) + b\n",
    "            \n",
    "def strength(bridge):\n",
    "    return sum(b[0] + b[1] for b in bridge)\n",
    "\n",
    "max(generate_bridges(test_components, 0), key=lambda x: (len(x), strength(x)))"
   ]
  },
  {
   "cell_type": "code",
   "execution_count": 13,
   "metadata": {},
   "outputs": [],
   "source": [
    "with open('input', 'r') as f:\n",
    "    problem_data = f.read()\n",
    "    \n",
    "problem_components = get_ports(problem_data)"
   ]
  },
  {
   "cell_type": "code",
   "execution_count": 14,
   "metadata": {},
   "outputs": [
    {
     "name": "stdout",
     "output_type": "stream",
     "text": [
      "CPU times: user 7.22 s, sys: 64 ms, total: 7.28 s\n",
      "Wall time: 7.29 s\n"
     ]
    }
   ],
   "source": [
    "%time answer = max(generate_bridges(problem_components, 0), key=lambda x: (len(x), strength(x)))"
   ]
  },
  {
   "cell_type": "code",
   "execution_count": 15,
   "metadata": {},
   "outputs": [
    {
     "data": {
      "text/plain": [
       "1824"
      ]
     },
     "execution_count": 15,
     "metadata": {},
     "output_type": "execute_result"
    }
   ],
   "source": [
    "strength(answer)"
   ]
  },
  {
   "cell_type": "code",
   "execution_count": 16,
   "metadata": {},
   "outputs": [
    {
     "data": {
      "text/plain": [
       "{(0, 2, 0), (2, 2, 1), (2, 3, 2), (3, 5, 4)}"
      ]
     },
     "execution_count": 16,
     "metadata": {},
     "output_type": "execute_result"
    }
   ],
   "source": [
    "def generate_bridges(components, source=0, components_used=set()):\n",
    "    for c in components[source] - components_used:\n",
    "        components_now_used = components_used | {c}\n",
    "        yield components_now_used\n",
    "        port_out = c[1] if c[0] == source else c[0]\n",
    "        for b in generate_bridges(components, port_out, components_now_used):\n",
    "            yield b\n",
    "            \n",
    "def strength(bridge):\n",
    "    return sum(b[0] + b[1] for b in bridge)\n",
    "\n",
    "max(generate_bridges(test_components, 0), key=lambda x: (len(x), strength(x)))"
   ]
  },
  {
   "cell_type": "code",
   "execution_count": 17,
   "metadata": {},
   "outputs": [
    {
     "name": "stdout",
     "output_type": "stream",
     "text": [
      "CPU times: user 5.31 s, sys: 4 µs, total: 5.31 s\n",
      "Wall time: 5.31 s\n"
     ]
    }
   ],
   "source": [
    "%time answer = max(generate_bridges(problem_components, 0), key=lambda x: (len(x), strength(x)))"
   ]
  },
  {
   "cell_type": "code",
   "execution_count": 18,
   "metadata": {},
   "outputs": [
    {
     "data": {
      "text/plain": [
       "1824"
      ]
     },
     "execution_count": 18,
     "metadata": {},
     "output_type": "execute_result"
    }
   ],
   "source": [
    "strength(answer)"
   ]
  },
  {
   "cell_type": "code",
   "execution_count": 19,
   "metadata": {},
   "outputs": [],
   "source": [
    "from pyrsistent import pset\n",
    "\n",
    "\n",
    "def get_ports(data):\n",
    "    ports = defaultdict(pset)\n",
    "    \n",
    "    for key, line in enumerate(data.strip().splitlines()):\n",
    "        x, y = [int(f) for f in line.split('/')]\n",
    "        port = (x, y, key)\n",
    "        ports[x] = ports[x].add(port)\n",
    "        ports[y] = ports[y].add(port)\n",
    "\n",
    "    return ports\n",
    "\n",
    "\n",
    "def generate_bridges(components, source=0, components_used=pset()):\n",
    "    for c in components[source] - components_used:\n",
    "        components_now_used = components_used.add(c)\n",
    "        yield components_now_used\n",
    "        port_out = c[1] if c[0] == source else c[0]\n",
    "        for b in generate_bridges(components, port_out, components_now_used):\n",
    "            yield b"
   ]
  },
  {
   "cell_type": "code",
   "execution_count": 20,
   "metadata": {},
   "outputs": [
    {
     "data": {
      "text/plain": [
       "pset([(2, 2, 1), (0, 2, 0), (3, 5, 4), (2, 3, 2)])"
      ]
     },
     "execution_count": 20,
     "metadata": {},
     "output_type": "execute_result"
    }
   ],
   "source": [
    "test_components = get_ports(test_data)\n",
    "max(generate_bridges(test_components, 0), key=lambda x: (len(x), strength(x)))"
   ]
  },
  {
   "cell_type": "code",
   "execution_count": 21,
   "metadata": {},
   "outputs": [
    {
     "data": {
      "text/plain": [
       "19"
      ]
     },
     "execution_count": 21,
     "metadata": {},
     "output_type": "execute_result"
    }
   ],
   "source": [
    "strength(_)"
   ]
  },
  {
   "cell_type": "code",
   "execution_count": 22,
   "metadata": {},
   "outputs": [
    {
     "name": "stdout",
     "output_type": "stream",
     "text": [
      "CPU times: user 37.1 s, sys: 3.55 ms, total: 37.1 s\n",
      "Wall time: 37.3 s\n"
     ]
    },
    {
     "data": {
      "text/plain": [
       "pset([(45, 48, 25), (19, 32, 55), (29, 33, 30), (37, 31, 12), (2, 5, 31), (32, 30, 10), (45, 45, 28), (35, 4, 15), (10, 11, 21), (20, 29, 17), (41, 48, 8), (8, 1, 26), (12, 35, 6), (33, 33, 49), (9, 24, 23), (26, 46, 44), (10, 28, 14), (0, 4, 29), (32, 20, 18), (31, 13, 0), (8, 28, 24), (37, 30, 7), (7, 41, 13), (39, 44, 42), (32, 4, 5), (26, 13, 54), (11, 7, 33), (34, 24, 41), (12, 5, 11), (33, 9, 32), (49, 39, 52), (49, 49, 2), (2, 45, 37), (49, 19, 50), (34, 4, 1), (44, 1, 35)])"
      ]
     },
     "execution_count": 22,
     "metadata": {},
     "output_type": "execute_result"
    }
   ],
   "source": [
    "problem_components = get_ports(problem_data)\n",
    "%time max(generate_bridges(problem_components, 0), key=lambda x: (len(x), strength(x)))"
   ]
  },
  {
   "cell_type": "code",
   "execution_count": 23,
   "metadata": {},
   "outputs": [
    {
     "data": {
      "text/plain": [
       "1824"
      ]
     },
     "execution_count": 23,
     "metadata": {},
     "output_type": "execute_result"
    }
   ],
   "source": [
    "strength(_)"
   ]
  },
  {
   "cell_type": "code",
   "execution_count": null,
   "metadata": {},
   "outputs": [],
   "source": []
  }
 ],
 "metadata": {
  "kernelspec": {
   "display_name": "Python [conda root]",
   "language": "python",
   "name": "conda-root-py"
  },
  "language_info": {
   "codemirror_mode": {
    "name": "ipython",
    "version": 3
   },
   "file_extension": ".py",
   "mimetype": "text/x-python",
   "name": "python",
   "nbconvert_exporter": "python",
   "pygments_lexer": "ipython3",
   "version": "3.5.4"
  }
 },
 "nbformat": 4,
 "nbformat_minor": 2
}
