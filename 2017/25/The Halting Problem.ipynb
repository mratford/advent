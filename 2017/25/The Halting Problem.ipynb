{
 "cells": [
  {
   "cell_type": "markdown",
   "metadata": {},
   "source": [
    "## Day 25: The Halting Problem\n",
    "\n",
    "http://adventofcode.com/2017/day/25\n",
    "\n",
    "### Part 1\n",
    "\n",
    "I could parse the input with code but instead I'll search and replace in Emacs."
   ]
  },
  {
   "cell_type": "code",
   "execution_count": 3,
   "metadata": {},
   "outputs": [],
   "source": [
    "from collections import deque\n",
    "\n",
    "A, B, C, D, E, F = tuple(range(6))\n",
    "\n",
    "state = A\n",
    "tape = deque([0])\n",
    "p = 0\n",
    "\n",
    "for _ in range (12861455):\n",
    "    if p < 0:\n",
    "        tape.appendleft(0)\n",
    "        p = 0\n",
    "    elif p >= len(tape):\n",
    "        tape.append(0)\n",
    "\n",
    "    if state == A:\n",
    "        if tape[p] == 0:\n",
    "            tape[p] = 1\n",
    "            p += 1\n",
    "            state = B\n",
    "        elif tape[p] == 1:\n",
    "            tape[p] = 0\n",
    "            p -= 1\n",
    "            state = B\n",
    "\n",
    "    elif state == B:\n",
    "        if tape[p] == 0:\n",
    "            tape[p] = 1\n",
    "            p -= 1\n",
    "            state = C\n",
    "        elif tape[p] == 1:\n",
    "            tape[p] = 0\n",
    "            p += 1\n",
    "            state = E\n",
    "\n",
    "    elif state == C:\n",
    "        if tape[p] == 0:\n",
    "            tape[p] = 1\n",
    "            p += 1\n",
    "            state = E\n",
    "        elif tape[p] == 1:\n",
    "            tape[p] = 0\n",
    "            p -= 1\n",
    "            state = D\n",
    "\n",
    "    elif state == D:\n",
    "        if tape[p] == 0:\n",
    "            tape[p] = 1\n",
    "            p -= 1\n",
    "            state = A\n",
    "        elif tape[p] == 1:\n",
    "            tape[p] = 1\n",
    "            p -= 1\n",
    "            state = A\n",
    "\n",
    "    elif state == E:\n",
    "        if tape[p] == 0:\n",
    "            tape[p] = 0\n",
    "            p += 1\n",
    "            state = A\n",
    "        elif tape[p] == 1:\n",
    "            tape[p] = 0\n",
    "            p += 1\n",
    "            state = F\n",
    "\n",
    "    elif state == F:\n",
    "        if tape[p] == 0:\n",
    "            tape[p] = 1\n",
    "            p += 1\n",
    "            state = E\n",
    "        elif tape[p] == 1:\n",
    "            tape[p] = 1\n",
    "            p += 1\n",
    "            state = A\n"
   ]
  },
  {
   "cell_type": "code",
   "execution_count": 4,
   "metadata": {},
   "outputs": [
    {
     "data": {
      "text/plain": [
       "3578"
      ]
     },
     "execution_count": 4,
     "metadata": {},
     "output_type": "execute_result"
    }
   ],
   "source": [
    "sum(tape)"
   ]
  },
  {
   "cell_type": "markdown",
   "metadata": {},
   "source": [
    "All done!"
   ]
  },
  {
   "cell_type": "code",
   "execution_count": null,
   "metadata": {},
   "outputs": [],
   "source": []
  }
 ],
 "metadata": {
  "kernelspec": {
   "display_name": "Python [conda root]",
   "language": "python",
   "name": "conda-root-py"
  },
  "language_info": {
   "codemirror_mode": {
    "name": "ipython",
    "version": 3
   },
   "file_extension": ".py",
   "mimetype": "text/x-python",
   "name": "python",
   "nbconvert_exporter": "python",
   "pygments_lexer": "ipython3",
   "version": "3.5.4"
  }
 },
 "nbformat": 4,
 "nbformat_minor": 2
}
