{
 "cells": [
  {
   "cell_type": "markdown",
   "metadata": {},
   "source": [
    "## Day 15: Dueling Generators\n",
    "\n",
    "http://adventofcode.com/2017/day/15\n",
    "\n",
    "### Part 1\n",
    "\n",
    "Use generators to represent the generators."
   ]
  },
  {
   "cell_type": "code",
   "execution_count": 1,
   "metadata": {},
   "outputs": [],
   "source": [
    "import functools\n",
    "\n",
    "def generator(divisor, factor, start):\n",
    "    while True:\n",
    "        start = (start * factor) % divisor\n",
    "        yield start\n",
    "        \n",
    "dueling_generator = functools.partial(generator, 2147483647)"
   ]
  },
  {
   "cell_type": "markdown",
   "metadata": {},
   "source": [
    "Have a look at what's being produced using the test input."
   ]
  },
  {
   "cell_type": "code",
   "execution_count": 2,
   "metadata": {},
   "outputs": [
    {
     "name": "stdout",
     "output_type": "stream",
     "text": [
      "1092455 430625591\n",
      "1181022009 1233683848\n",
      "245556042 1431495498\n",
      "1744312007 137874439\n",
      "1352636452 285222916\n"
     ]
    }
   ],
   "source": [
    "import itertools\n",
    "\n",
    "test_generator_a = dueling_generator(16807, 65)\n",
    "test_generator_b = dueling_generator(48271, 8921)\n",
    "\n",
    "for a, b in itertools.islice(zip(test_generator_a, test_generator_b), 5):\n",
    "    print(a, b)"
   ]
  },
  {
   "cell_type": "markdown",
   "metadata": {},
   "source": [
    "That seems to be working.\n",
    "\n",
    "Now write a function to return the lowest 16 bits. Using bitwise operators rather than bin and slicing gives a decent speed up."
   ]
  },
  {
   "cell_type": "code",
   "execution_count": 3,
   "metadata": {},
   "outputs": [],
   "source": [
    "LOWEST_16_BITS_ON = 2**16 - 1\n",
    "\n",
    "def lowest_16_bits(x):\n",
    "    return x & LOWEST_16_BITS_ON"
   ]
  },
  {
   "cell_type": "markdown",
   "metadata": {},
   "source": [
    "Restart the generators, otherwise they'll be five values in."
   ]
  },
  {
   "cell_type": "code",
   "execution_count": 4,
   "metadata": {},
   "outputs": [
    {
     "name": "stdout",
     "output_type": "stream",
     "text": [
      "0b1010101101100111 0b1101001100110111 False\n",
      "0b1111011100111001 0b1000010110001000 False\n",
      "0b1110001101001010 0b1110001101001010 True\n",
      "0b1011011000111 0b1100110000000111 False\n",
      "0b1001100000100100 0b10100000000100 False\n"
     ]
    }
   ],
   "source": [
    "test_generator_a = dueling_generator(16807, 65)\n",
    "test_generator_b = dueling_generator(48271, 8921)\n",
    "\n",
    "for a, b in itertools.islice(zip(test_generator_a, test_generator_b), 5):\n",
    "    print(bin(lowest_16_bits(a)), bin(lowest_16_bits(b)), lowest_16_bits(a) == lowest_16_bits(b))"
   ]
  },
  {
   "cell_type": "markdown",
   "metadata": {},
   "source": [
    "That looks like it's doing what it should.\n",
    "\n",
    "Total the number of times the lowest 16 bits match for forty million comparisons."
   ]
  },
  {
   "cell_type": "code",
   "execution_count": 5,
   "metadata": {},
   "outputs": [],
   "source": [
    "def forty_million_duels(gen_a, gen_b):\n",
    "    return sum(1 for a, b in itertools.islice(zip(gen_a, gen_b), 40000000)\n",
    "               if lowest_16_bits(a) == lowest_16_bits(b))"
   ]
  },
  {
   "cell_type": "markdown",
   "metadata": {},
   "source": [
    "This is likely to take a while."
   ]
  },
  {
   "cell_type": "code",
   "execution_count": 6,
   "metadata": {},
   "outputs": [
    {
     "name": "stdout",
     "output_type": "stream",
     "text": [
      "CPU times: user 26.3 s, sys: 7.69 ms, total: 26.3 s\n",
      "Wall time: 26.3 s\n"
     ]
    },
    {
     "data": {
      "text/plain": [
       "588"
      ]
     },
     "execution_count": 6,
     "metadata": {},
     "output_type": "execute_result"
    }
   ],
   "source": [
    "test_generator_a = dueling_generator(16807, 65)\n",
    "test_generator_b = dueling_generator(48271, 8921)\n",
    "\n",
    "%time forty_million_duels(test_generator_a, test_generator_b)"
   ]
  },
  {
   "cell_type": "markdown",
   "metadata": {},
   "source": [
    "Yes, it does. The answer is right, though.\n",
    "\n",
    "<s>No speed up from pypy.</s> ~10x speed up from pypy when using bitwise operations. Parallelisation might help but for now get the answer for the problem input."
   ]
  },
  {
   "cell_type": "code",
   "execution_count": 7,
   "metadata": {},
   "outputs": [
    {
     "data": {
      "text/plain": [
       "597"
      ]
     },
     "execution_count": 7,
     "metadata": {},
     "output_type": "execute_result"
    }
   ],
   "source": [
    "generator_a = dueling_generator(16807, 516)\n",
    "generator_b = dueling_generator(48271, 190)\n",
    "\n",
    "forty_million_duels(generator_a, generator_b)"
   ]
  },
  {
   "cell_type": "markdown",
   "metadata": {},
   "source": [
    "### Part 2"
   ]
  },
  {
   "cell_type": "markdown",
   "metadata": {},
   "source": [
    "This isn't too bad, rewrite the generator to filter for multiples of the given factor and generalise the number of duels."
   ]
  },
  {
   "cell_type": "code",
   "execution_count": 8,
   "metadata": {},
   "outputs": [],
   "source": [
    "def fussy_generator(divisor, multiplier, start, factor):\n",
    "    while True:\n",
    "        start = (start * multiplier) % divisor\n",
    "        if start % factor == 0:\n",
    "            yield start\n",
    "        \n",
    "fussy_dueling_generator = functools.partial(fussy_generator, 2147483647)"
   ]
  },
  {
   "cell_type": "code",
   "execution_count": 9,
   "metadata": {},
   "outputs": [
    {
     "name": "stdout",
     "output_type": "stream",
     "text": [
      "1352636452 1233683848\n",
      "1992081072 862516352\n",
      "530830436 1159784568\n",
      "1980017072 1616057672\n",
      "740335192 412269392\n"
     ]
    }
   ],
   "source": [
    "test_generator_a = fussy_dueling_generator(16807, 65, 4)\n",
    "test_generator_b = fussy_dueling_generator(48271, 8921, 8)\n",
    "\n",
    "for a, b in itertools.islice(zip(test_generator_a, test_generator_b), 5):\n",
    "    print(a, b)"
   ]
  },
  {
   "cell_type": "code",
   "execution_count": 10,
   "metadata": {},
   "outputs": [],
   "source": [
    "def duels(gen_a, gen_b, number_of_duels):\n",
    "    return sum(1 for a, b in itertools.islice(zip(gen_a, gen_b), number_of_duels)\n",
    "               if lowest_16_bits(a) == lowest_16_bits(b))"
   ]
  },
  {
   "cell_type": "code",
   "execution_count": 11,
   "metadata": {},
   "outputs": [
    {
     "name": "stdout",
     "output_type": "stream",
     "text": [
      "CPU times: user 14 s, sys: 3 µs, total: 14 s\n",
      "Wall time: 14 s\n"
     ]
    },
    {
     "data": {
      "text/plain": [
       "309"
      ]
     },
     "execution_count": 11,
     "metadata": {},
     "output_type": "execute_result"
    }
   ],
   "source": [
    "test_generator_a = fussy_dueling_generator(16807, 65, 4)\n",
    "test_generator_b = fussy_dueling_generator(48271, 8921, 8)\n",
    "\n",
    "%time duels(test_generator_a, test_generator_b, 5000000)"
   ]
  },
  {
   "cell_type": "markdown",
   "metadata": {},
   "source": [
    "Looking good. The drop in time taken is presumably because the number of cycles has been eighthed while the proportion of values generator A produces is roughly a quarter. "
   ]
  },
  {
   "cell_type": "code",
   "execution_count": 13,
   "metadata": {},
   "outputs": [
    {
     "name": "stdout",
     "output_type": "stream",
     "text": [
      "CPU times: user 13.5 s, sys: 0 ns, total: 13.5 s\n",
      "Wall time: 13.5 s\n"
     ]
    },
    {
     "data": {
      "text/plain": [
       "303"
      ]
     },
     "execution_count": 13,
     "metadata": {},
     "output_type": "execute_result"
    }
   ],
   "source": [
    "generator_a = fussy_dueling_generator(16807, 516, 4)\n",
    "generator_b = fussy_dueling_generator(48271, 190, 8)\n",
    "\n",
    "%time duels(generator_a, generator_b, 5000000)"
   ]
  }
 ],
 "metadata": {
  "kernelspec": {
   "display_name": "Python [conda root]",
   "language": "python",
   "name": "conda-root-py"
  },
  "language_info": {
   "codemirror_mode": {
    "name": "ipython",
    "version": 3
   },
   "file_extension": ".py",
   "mimetype": "text/x-python",
   "name": "python",
   "nbconvert_exporter": "python",
   "pygments_lexer": "ipython3",
   "version": "3.5.4"
  }
 },
 "nbformat": 4,
 "nbformat_minor": 2
}
