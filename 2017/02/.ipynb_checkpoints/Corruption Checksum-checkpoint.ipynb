{
 "cells": [
  {
   "cell_type": "markdown",
   "metadata": {},
   "source": [
    "I hoped that waking up at ten past five with curry-induced insomnia meant a possibility of getting on the leaderboard. Not much chance of that, some people are solving this in less time than it takes me to open a jupyter notebook, let alone read the question. \n",
    "\n",
    "### Part 1 \n",
    "\n",
    "http://adventofcode.com/2017/day/2  \n",
    "\n",
    "Open a spreadsheet of integers,"
   ]
  },
  {
   "cell_type": "code",
   "execution_count": 1,
   "metadata": {},
   "outputs": [],
   "source": [
    "with open('input', 'r') as f:\n",
    "    input = (line.strip().split() for line in f)\n",
    "    rows = [[int(x) for x in line] for line in input]"
   ]
  },
  {
   "cell_type": "markdown",
   "metadata": {},
   "source": [
    "find the difference between the maximum and minimum values on each row, and sum to find the checksum."
   ]
  },
  {
   "cell_type": "code",
   "execution_count": 2,
   "metadata": {},
   "outputs": [
    {
     "data": {
      "text/plain": [
       "34581"
      ]
     },
     "execution_count": 2,
     "metadata": {},
     "output_type": "execute_result"
    }
   ],
   "source": [
    "sum(max(row) - min(row) for row in rows)"
   ]
  },
  {
   "cell_type": "markdown",
   "metadata": {},
   "source": [
    "### Part 2 \n",
    "\n",
    "Same spreadsheet, but this time find the unique pair of numbers on each row where one is a factor of the other and sum the divisions."
   ]
  },
  {
   "cell_type": "code",
   "execution_count": 3,
   "metadata": {},
   "outputs": [
    {
     "data": {
      "text/plain": [
       "214"
      ]
     },
     "execution_count": 3,
     "metadata": {},
     "output_type": "execute_result"
    }
   ],
   "source": [
    "from itertools import product\n",
    "\n",
    "checkdivs_by_row = (sum(x // y for x, y in product(row, row) if x != y and x % y == 0) \n",
    "                    for row in rows)\n",
    "sum(checkdivs_by_row)"
   ]
  },
  {
   "cell_type": "markdown",
   "metadata": {},
   "source": [
    "I should have used `itertools.combinations` on a sorted list but it was early."
   ]
  }
 ],
 "metadata": {
  "kernelspec": {
   "display_name": "Python [conda root]",
   "language": "python",
   "name": "conda-root-py"
  },
  "language_info": {
   "codemirror_mode": {
    "name": "ipython",
    "version": 3
   },
   "file_extension": ".py",
   "mimetype": "text/x-python",
   "name": "python",
   "nbconvert_exporter": "python",
   "pygments_lexer": "ipython3",
   "version": "3.5.4"
  }
 },
 "nbformat": 4,
 "nbformat_minor": 2
}
