{
 "cells": [
  {
   "cell_type": "markdown",
   "metadata": {},
   "source": [
    "## Day 9: Stream Processing\n",
    "\n",
    "http://adventofcode.com/2017/day/9\n",
    "\n",
    "### Part 1\n",
    "\n",
    "First get rid of all the irrelevant garbage. The exclamation marked garbage needs to be removed first so garbage or group tags aren't closed prematurely, then the rest can be dealt with. If the input is correctly formed the result is a string of comma separated groups or empty strings."
   ]
  },
  {
   "cell_type": "code",
   "execution_count": 1,
   "metadata": {},
   "outputs": [],
   "source": [
    "import parsy\n",
    "\n",
    "def not_char(c):\n",
    "    return parsy.regex(r'[^' + c + r']')\n",
    "    \n",
    "def remove_garbage(s):\n",
    "    # Remove garbage cancelled by \"!\"\n",
    "    s = ''.join(not_char('!').many().concat().sep_by(parsy.string('!') + parsy.any_char).parse(s))\n",
    "    \n",
    "    # Remove the rest of the garbage\n",
    "    garbage = parsy.string('<') + not_char('>').many().concat() + parsy.string('>')\n",
    "    s = ''.join(not_char('<').many().concat().sep_by(garbage).parse(s))\n",
    "    \n",
    "    return s"
   ]
  },
  {
   "cell_type": "code",
   "execution_count": 2,
   "metadata": {},
   "outputs": [
    {
     "data": {
      "text/plain": [
       "'{{},{},{},{}}'"
      ]
     },
     "execution_count": 2,
     "metadata": {},
     "output_type": "execute_result"
    }
   ],
   "source": [
    "remove_garbage('{{<ab>},{<ab>},{<ab>},{<ab>}}')"
   ]
  },
  {
   "cell_type": "code",
   "execution_count": 3,
   "metadata": {},
   "outputs": [
    {
     "data": {
      "text/plain": [
       "'{{}}'"
      ]
     },
     "execution_count": 3,
     "metadata": {},
     "output_type": "execute_result"
    }
   ],
   "source": [
    "remove_garbage('{{<a!>},{<a!>},{<a!>},{<ab>}}')"
   ]
  },
  {
   "cell_type": "markdown",
   "metadata": {},
   "source": [
    "The string should now be a tree of curly brackets, so keep note of which level we're on and add it to the final score. (The commas in the string can be ignored.)"
   ]
  },
  {
   "cell_type": "code",
   "execution_count": 4,
   "metadata": {},
   "outputs": [],
   "source": [
    "def score(s):\n",
    "    level = 0\n",
    "    final_score = 0\n",
    "    \n",
    "    for c in s:\n",
    "        if c == '{':\n",
    "            level += 1\n",
    "        elif c == '}':\n",
    "            final_score += level\n",
    "            level -= 1\n",
    "            \n",
    "    return final_score"
   ]
  },
  {
   "cell_type": "code",
   "execution_count": 5,
   "metadata": {},
   "outputs": [],
   "source": [
    "def result(s):\n",
    "    return score(remove_garbage(s))"
   ]
  },
  {
   "cell_type": "code",
   "execution_count": 6,
   "metadata": {},
   "outputs": [],
   "source": [
    "assert result('{}') == 1\n",
    "assert result('{{{}}}') == 6\n",
    "assert result('{{},{}}') == 5\n",
    "assert result('{{{},{},{{}}}}') == 16\n",
    "assert result('{<a>,<a>,<a>,<a>}') == 1\n",
    "assert result('{{<ab>},{<ab>},{<ab>},{<ab>}}') == 9\n",
    "assert result('{{<!!>},{<!!>},{<!!>},{<!!>}}') == 9\n",
    "assert result('{{<a!>},{<a!>},{<a!>},{<ab>}}') == 3"
   ]
  },
  {
   "cell_type": "code",
   "execution_count": 7,
   "metadata": {},
   "outputs": [
    {
     "data": {
      "text/plain": [
       "14190"
      ]
     },
     "execution_count": 7,
     "metadata": {},
     "output_type": "execute_result"
    }
   ],
   "source": [
    "with open('input', 'r') as f:\n",
    "    stream = f.read().strip()\n",
    "    \n",
    "result(stream)"
   ]
  },
  {
   "cell_type": "markdown",
   "metadata": {},
   "source": [
    "### Part 2\n",
    "\n",
    "Modify the `remove_garbage` function to total the number of uncancelled garbage characters.\n",
    "\n",
    "(The `>>` operator is \"parse the left side but don't include it in the result\" and `<<` \"parse the right side but don't include it in the result\".)"
   ]
  },
  {
   "cell_type": "code",
   "execution_count": 8,
   "metadata": {},
   "outputs": [],
   "source": [
    "def count_garbage(s):\n",
    "    # Remove garbage cancelled by \"!\"\n",
    "    s = ''.join(not_char('!').many().concat().sep_by(parsy.string('!') + parsy.any_char).parse(s))\n",
    "    \n",
    "    # Count the rest of the garbage\n",
    "    non_garbage = not_char('<').many()\n",
    "    garbage = parsy.string('<') >> not_char('>').many().map(len) << parsy.string('>')\n",
    "    return sum((non_garbage >> garbage.sep_by(non_garbage) << non_garbage).parse(s))"
   ]
  },
  {
   "cell_type": "code",
   "execution_count": 9,
   "metadata": {},
   "outputs": [
    {
     "data": {
      "text/plain": [
       "10"
      ]
     },
     "execution_count": 9,
     "metadata": {},
     "output_type": "execute_result"
    }
   ],
   "source": [
    "count_garbage('<{o\"i!a,<{i<a>')"
   ]
  },
  {
   "cell_type": "code",
   "execution_count": 10,
   "metadata": {},
   "outputs": [
    {
     "data": {
      "text/plain": [
       "7053"
      ]
     },
     "execution_count": 10,
     "metadata": {},
     "output_type": "execute_result"
    }
   ],
   "source": [
    "count_garbage(stream)"
   ]
  }
 ],
 "metadata": {
  "kernelspec": {
   "display_name": "Python [conda root]",
   "language": "python",
   "name": "conda-root-py"
  },
  "language_info": {
   "codemirror_mode": {
    "name": "ipython",
    "version": 3
   },
   "file_extension": ".py",
   "mimetype": "text/x-python",
   "name": "python",
   "nbconvert_exporter": "python",
   "pygments_lexer": "ipython3",
   "version": "3.5.4"
  }
 },
 "nbformat": 4,
 "nbformat_minor": 2
}
