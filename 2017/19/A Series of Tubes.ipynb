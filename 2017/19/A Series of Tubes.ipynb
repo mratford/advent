{
 "cells": [
  {
   "cell_type": "markdown",
   "metadata": {},
   "source": [
    "## Day 19: A Series of Tubes\n",
    "\n",
    "http://adventofcode.com/2017/day/19\n",
    "\n",
    "### Part 1\n",
    "\n",
    "OK, so we seem to keep going in the current direction until we hit a '+'. So retain state as a tuple of coordinate and direction. Use a generator to follow the path.\n",
    "\n",
    "`numpy` is massively over the top here but it saves on writing coordinate arithmetic functions."
   ]
  },
  {
   "cell_type": "code",
   "execution_count": 1,
   "metadata": {},
   "outputs": [],
   "source": [
    "import numpy as np\n",
    "\n",
    "\n",
    "DIRECTIONS = [np.array(d) for d in [(0, 1), (1, 0), (-1, 0), (0, -1)]]\n",
    "\n",
    "\n",
    "def map_square(map, coordinate):\n",
    "    try:\n",
    "        return map[coordinate[0]][coordinate[1]]\n",
    "    except IndexError:\n",
    "        return ' '\n",
    "\n",
    "\n",
    "def next_position(map, state):\n",
    "    coordinate, direction = state\n",
    "    next_coordinate = coordinate + direction\n",
    "    \n",
    "    if map_square(map, next_coordinate) == '+':\n",
    "        for d in DIRECTIONS:\n",
    "            # There should be only one direction pointing to a non-empty square\n",
    "            # that's not where we've just been.\n",
    "            if not np.array_equal(d, -direction) and map_square(map, next_coordinate + d) != ' ':\n",
    "                next_direction = d\n",
    "                break\n",
    "    else:\n",
    "        next_direction = direction\n",
    "                \n",
    "    return (next_coordinate, next_direction)\n",
    "\n",
    "\n",
    "def starting_position(map):\n",
    "    return np.array((0, map[0].index('|')))\n",
    "\n",
    "\n",
    "def follow_path(map):\n",
    "    p = starting_position(map)\n",
    "    d = np.array((1, 0))\n",
    "    \n",
    "    while map_square(map, p) != ' ':\n",
    "        yield p\n",
    "        p, d = next_position(map, (p, d))\n",
    "        \n",
    "        \n",
    "def squares_on_path(map):\n",
    "    for p in follow_path(map):\n",
    "        yield map_square(map, p)\n",
    "        \n",
    "        \n",
    "def letters_on_path(map):\n",
    "    return ''.join(c for c in squares_on_path(map) if c.isalpha())"
   ]
  },
  {
   "cell_type": "code",
   "execution_count": 2,
   "metadata": {},
   "outputs": [
    {
     "data": {
      "text/plain": [
       "'||A||+B-+|-|+--+C||+--+D+--|E----|---F'"
      ]
     },
     "execution_count": 2,
     "metadata": {},
     "output_type": "execute_result"
    }
   ],
   "source": [
    "test_map = '''     |          \n",
    "     |  +--+    \n",
    "     A  |  C    \n",
    " F---|----E|--+ \n",
    "     |  |  |  D \n",
    "     +B-+  +--+ \n",
    "\n",
    "'''.splitlines()\n",
    "\n",
    "''.join(squares_on_path(test_map))"
   ]
  },
  {
   "cell_type": "code",
   "execution_count": 3,
   "metadata": {},
   "outputs": [
    {
     "data": {
      "text/plain": [
       "'ABCDEF'"
      ]
     },
     "execution_count": 3,
     "metadata": {},
     "output_type": "execute_result"
    }
   ],
   "source": [
    "letters_on_path(test_map)"
   ]
  },
  {
   "cell_type": "code",
   "execution_count": 4,
   "metadata": {},
   "outputs": [
    {
     "data": {
      "text/plain": [
       "'BPDKCZWHGT'"
      ]
     },
     "execution_count": 4,
     "metadata": {},
     "output_type": "execute_result"
    }
   ],
   "source": [
    "with open('input', 'r') as f:\n",
    "    problem_map = f.readlines()\n",
    "    \n",
    "letters_on_path(problem_map)"
   ]
  },
  {
   "cell_type": "markdown",
   "metadata": {},
   "source": [
    "### Part 2\n",
    "\n",
    "Somewhat less time-consuming than yesterday's."
   ]
  },
  {
   "cell_type": "code",
   "execution_count": 5,
   "metadata": {},
   "outputs": [],
   "source": [
    "assert len(list(squares_on_path(test_map))) == 38"
   ]
  },
  {
   "cell_type": "code",
   "execution_count": 6,
   "metadata": {},
   "outputs": [
    {
     "data": {
      "text/plain": [
       "17728"
      ]
     },
     "execution_count": 6,
     "metadata": {},
     "output_type": "execute_result"
    }
   ],
   "source": [
    "len(list(squares_on_path(problem_map)))"
   ]
  },
  {
   "cell_type": "code",
   "execution_count": null,
   "metadata": {},
   "outputs": [],
   "source": []
  }
 ],
 "metadata": {
  "kernelspec": {
   "display_name": "Python [conda root]",
   "language": "python",
   "name": "conda-root-py"
  },
  "language_info": {
   "codemirror_mode": {
    "name": "ipython",
    "version": 3
   },
   "file_extension": ".py",
   "mimetype": "text/x-python",
   "name": "python",
   "nbconvert_exporter": "python",
   "pygments_lexer": "ipython3",
   "version": "3.5.4"
  }
 },
 "nbformat": 4,
 "nbformat_minor": 2
}
