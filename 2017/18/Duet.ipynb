{
 "cells": [
  {
   "cell_type": "markdown",
   "metadata": {},
   "source": [
    "## Day 18: Duet\n",
    "\n",
    "http://adventofcode.com/2017/day/18\n",
    "\n",
    "### Part 1\n",
    "\n",
    "This isn't going to be pretty. I can't think of a way to do this with proper functions without passing state around everywhere, so let's start by declaring a global variable and go downhill from there."
   ]
  },
  {
   "cell_type": "code",
   "execution_count": 35,
   "metadata": {},
   "outputs": [],
   "source": [
    "from collections import defaultdict\n",
    "\n",
    "registers = defaultdict(int)\n",
    "\n",
    "# Returns a number if it's a number or registers[x] otherwise\n",
    "def value(x):\n",
    "    # Sigh\n",
    "    return registers[x] if x.isalpha() else int(x)\n",
    "\n",
    "def run(commands):\n",
    "    last_sound = None\n",
    "    command_number = 0\n",
    "    \n",
    "    while(0 <= command_number < len(commands)):\n",
    "        #print(registers, commands[command_number])\n",
    "        fields = commands[command_number].split()\n",
    "        command_name = fields[0]\n",
    "        parameters = fields[1:]\n",
    "        \n",
    "        x = parameters[0]\n",
    "        if command_name == 'snd':\n",
    "            last_sound = registers[x]\n",
    "        elif command_name == 'rcv':\n",
    "            if last_sound != 0:\n",
    "                return last_sound\n",
    "        else:\n",
    "            y = parameters[1]\n",
    "            if command_name == 'set':\n",
    "                registers[x] = value(y)\n",
    "            elif command_name == 'add':\n",
    "                registers[x] += value(y)\n",
    "            elif command_name == 'mul':\n",
    "                registers[x] *= value(y)\n",
    "            elif command_name == 'mod':\n",
    "                registers[x] = registers[x] % value(y)  \n",
    "            elif command_name == 'jgz':\n",
    "                if value(x) > 0:\n",
    "                    command_number += value(y) - 1\n",
    "                    \n",
    "        command_number += 1"
   ]
  },
  {
   "cell_type": "code",
   "execution_count": 36,
   "metadata": {},
   "outputs": [
    {
     "data": {
      "text/plain": [
       "4"
      ]
     },
     "execution_count": 36,
     "metadata": {},
     "output_type": "execute_result"
    }
   ],
   "source": [
    "test_code = '''set a 1\n",
    "add a 2\n",
    "mul a a\n",
    "mod a 5\n",
    "snd a\n",
    "set a 0\n",
    "rcv a\n",
    "jgz a -1\n",
    "set a 1\n",
    "jgz a -2'''\n",
    "\n",
    "run(test_code.splitlines())"
   ]
  },
  {
   "cell_type": "markdown",
   "metadata": {},
   "source": [
    "That works, but the number's so small it could be luck."
   ]
  },
  {
   "cell_type": "code",
   "execution_count": 37,
   "metadata": {},
   "outputs": [
    {
     "name": "stdout",
     "output_type": "stream",
     "text": [
      "CPU times: user 1.63 ms, sys: 0 ns, total: 1.63 ms\n",
      "Wall time: 1.64 ms\n"
     ]
    },
    {
     "data": {
      "text/plain": [
       "3188"
      ]
     },
     "execution_count": 37,
     "metadata": {},
     "output_type": "execute_result"
    }
   ],
   "source": [
    "with open('input', 'r') as f:\n",
    "    input_code = f.readlines()\n",
    "    \n",
    "%time run(input_code)"
   ]
  },
  {
   "cell_type": "markdown",
   "metadata": {},
   "source": [
    "Yes, it was! The command line number wasn't being updated correctly.\n",
    "\n",
    "### Part 2"
   ]
  },
  {
   "cell_type": "code",
   "execution_count": null,
   "metadata": {},
   "outputs": [],
   "source": []
  }
 ],
 "metadata": {
  "kernelspec": {
   "display_name": "Python [conda root]",
   "language": "python",
   "name": "conda-root-py"
  },
  "language_info": {
   "codemirror_mode": {
    "name": "ipython",
    "version": 3
   },
   "file_extension": ".py",
   "mimetype": "text/x-python",
   "name": "python",
   "nbconvert_exporter": "python",
   "pygments_lexer": "ipython3",
   "version": "3.5.4"
  }
 },
 "nbformat": 4,
 "nbformat_minor": 2
}
