{
 "cells": [
  {
   "cell_type": "markdown",
   "metadata": {},
   "source": [
    "## Day 18: Duet\n",
    "\n",
    "http://adventofcode.com/2017/day/18\n",
    "\n",
    "### Part 1\n",
    "\n",
    "This isn't going to be pretty. I can't think of a way to do this with proper functions without passing state around everywhere, so let's just have one massive function."
   ]
  },
  {
   "cell_type": "code",
   "execution_count": 1,
   "metadata": {},
   "outputs": [],
   "source": [
    "from collections import defaultdict\n",
    "\n",
    "def run(commands):\n",
    "    registers = defaultdict(int)\n",
    "\n",
    "    # Returns a number if it's a number or registers[x] otherwise\n",
    "    def value(x):\n",
    "        return registers[x] if x.isalpha() else int(x)\n",
    "\n",
    "    last_sound = None\n",
    "    command_number = 0\n",
    "    \n",
    "    while(0 <= command_number < len(commands)):\n",
    "        #print(registers, commands[command_number])\n",
    "        fields = commands[command_number].split()\n",
    "        command_name = fields[0]\n",
    "        parameters = fields[1:]\n",
    "        \n",
    "        x = parameters[0]\n",
    "        if command_name == 'snd':\n",
    "            last_sound = registers[x]\n",
    "        elif command_name == 'rcv':\n",
    "            if last_sound != 0:\n",
    "                return last_sound\n",
    "        else:\n",
    "            y = parameters[1]\n",
    "            if command_name == 'set':\n",
    "                registers[x] = value(y)\n",
    "            elif command_name == 'add':\n",
    "                registers[x] += value(y)\n",
    "            elif command_name == 'mul':\n",
    "                registers[x] *= value(y)\n",
    "            elif command_name == 'mod':\n",
    "                registers[x] = registers[x] % value(y)  \n",
    "            elif command_name == 'jgz':\n",
    "                if value(x) > 0:\n",
    "                    command_number += value(y) - 1\n",
    "                    \n",
    "        command_number += 1"
   ]
  },
  {
   "cell_type": "code",
   "execution_count": 2,
   "metadata": {},
   "outputs": [
    {
     "data": {
      "text/plain": [
       "4"
      ]
     },
     "execution_count": 2,
     "metadata": {},
     "output_type": "execute_result"
    }
   ],
   "source": [
    "test_code = '''set a 1\n",
    "add a 2\n",
    "mul a a\n",
    "mod a 5\n",
    "snd a\n",
    "set a 0\n",
    "rcv a\n",
    "jgz a -1\n",
    "set a 1\n",
    "jgz a -2'''.splitlines()\n",
    "\n",
    "run(test_code)"
   ]
  },
  {
   "cell_type": "markdown",
   "metadata": {},
   "source": [
    "That works, but the number's so small it could be luck."
   ]
  },
  {
   "cell_type": "code",
   "execution_count": 3,
   "metadata": {},
   "outputs": [
    {
     "data": {
      "text/plain": [
       "3188"
      ]
     },
     "execution_count": 3,
     "metadata": {},
     "output_type": "execute_result"
    }
   ],
   "source": [
    "with open('input', 'r') as f:\n",
    "    input_code = f.readlines()\n",
    "    \n",
    "run(input_code)"
   ]
  },
  {
   "cell_type": "markdown",
   "metadata": {},
   "source": [
    "Yes, it was! The command line number wasn't being updated correctly.\n",
    "\n",
    "### Part 2\n",
    "\n",
    "Good grief, I'll need a think about this one. I might read up on asyncio. (Much later...) I think you might be able to do something with coroutines but there's only so much time I'm willing to spend on this, let's just hack something out. Look away now.\n",
    "\n",
    "This goes step by step for each line of the program, waiting if there are no sounds to receive."
   ]
  },
  {
   "cell_type": "code",
   "execution_count": 4,
   "metadata": {},
   "outputs": [],
   "source": [
    "from collections import deque\n",
    "\n",
    "def run_part_2(commands):\n",
    "    registers = [defaultdict(int, {'p': program_id}) for program_id in (0, 1)]\n",
    "    command_numbers = [0, 0]\n",
    "    waiting_sounds = [deque() for _ in (0, 1)]\n",
    "    waiting = [False, False]\n",
    "    num_sounds = [0, 0]\n",
    "\n",
    "    # Returns a number if it's a number or registers[p][x] otherwise\n",
    "    def value(x, p):\n",
    "        return registers[p][x] if x.isalpha() else int(x)\n",
    "    \n",
    "    def stopped():\n",
    "        return all(waiting) \\\n",
    "            or waiting[0] and not 0 <= command_numbers[1] < len(commands) \\\n",
    "            or waiting[1] and not 0 <= command_numbers[0] < len(commands)\n",
    "    \n",
    "    # Run while either program is still going\n",
    "    while not stopped():\n",
    "        for p in (0, 1):\n",
    "            if 0 <= command_numbers[p] < len(commands): \n",
    "                fields = commands[command_numbers[p]].split()\n",
    "                command_name = fields[0]\n",
    "                parameters = fields[1:]\n",
    "        \n",
    "                x = parameters[0]\n",
    "                if command_name == 'snd':\n",
    "                    waiting_sounds[p^1].append(value(x, p))\n",
    "                    num_sounds[p] += 1\n",
    "                elif command_name == 'rcv':\n",
    "                    if waiting_sounds[p]:\n",
    "                        registers[p][x] = waiting_sounds[p].popleft()\n",
    "                        # print(str(p) + \" received \" + str(registers[p][x]))\n",
    "                        waiting[p] = False\n",
    "                    else: \n",
    "                        waiting[p] = True\n",
    "                        command_numbers[p] -= 1\n",
    "                else:\n",
    "                    y = parameters[1]\n",
    "                    if command_name == 'set':\n",
    "                        registers[p][x] = value(y, p)\n",
    "                    elif command_name == 'add':\n",
    "                        registers[p][x] += value(y, p)\n",
    "                    elif command_name == 'mul':\n",
    "                        registers[p][x] *= value(y, p)\n",
    "                    elif command_name == 'mod':\n",
    "                        registers[p][x] = registers[p][x] % value(y, p)  \n",
    "                    elif command_name == 'jgz':\n",
    "                        if value(x, p) > 0:\n",
    "                            command_numbers[p] += value(y, p) - 1\n",
    "                    \n",
    "                command_numbers[p] += 1\n",
    "                \n",
    "    return num_sounds[1]\n",
    "        "
   ]
  },
  {
   "cell_type": "code",
   "execution_count": 5,
   "metadata": {},
   "outputs": [
    {
     "data": {
      "text/plain": [
       "3"
      ]
     },
     "execution_count": 5,
     "metadata": {},
     "output_type": "execute_result"
    }
   ],
   "source": [
    "test_code = '''snd 1\n",
    "snd 2\n",
    "snd p\n",
    "rcv a\n",
    "rcv b\n",
    "rcv c\n",
    "rcv d'''.splitlines()\n",
    "\n",
    "run_part_2(test_code)"
   ]
  },
  {
   "cell_type": "code",
   "execution_count": 6,
   "metadata": {},
   "outputs": [
    {
     "data": {
      "text/plain": [
       "7112"
      ]
     },
     "execution_count": 6,
     "metadata": {},
     "output_type": "execute_result"
    }
   ],
   "source": [
    "run_part_2(input_code)"
   ]
  },
  {
   "cell_type": "code",
   "execution_count": null,
   "metadata": {},
   "outputs": [],
   "source": []
  }
 ],
 "metadata": {
  "kernelspec": {
   "display_name": "Python [conda root]",
   "language": "python",
   "name": "conda-root-py"
  },
  "language_info": {
   "codemirror_mode": {
    "name": "ipython",
    "version": 3
   },
   "file_extension": ".py",
   "mimetype": "text/x-python",
   "name": "python",
   "nbconvert_exporter": "python",
   "pygments_lexer": "ipython3",
   "version": "3.5.4"
  }
 },
 "nbformat": 4,
 "nbformat_minor": 2
}
