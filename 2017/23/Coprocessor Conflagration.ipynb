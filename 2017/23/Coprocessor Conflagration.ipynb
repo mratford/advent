{
 "cells": [
  {
   "cell_type": "markdown",
   "metadata": {},
   "source": [
    "## Day 23: Coprocessor Conflagration\n",
    "\n",
    "http://adventofcode.com/2017/day/23\n",
    "\n",
    "### Part 1"
   ]
  },
  {
   "cell_type": "code",
   "execution_count": 1,
   "metadata": {},
   "outputs": [],
   "source": [
    "from collections import defaultdict\n",
    "\n",
    "def run(commands):\n",
    "    registers = defaultdict(int)\n",
    "    mul_invocations = 0\n",
    "\n",
    "    # Returns a number if it's a number or registers[x] otherwise\n",
    "    def value(x):\n",
    "        return registers[x] if x.isalpha() else int(x)\n",
    "\n",
    "    command_number = 0\n",
    "    \n",
    "    while(0 <= command_number < len(commands)):\n",
    "        fields = commands[command_number].split()\n",
    "        command_name = fields[0]\n",
    "        parameters = fields[1:]\n",
    "        \n",
    "        x, y = parameters[0], parameters[1]\n",
    "        if command_name == 'set':\n",
    "            registers[x] = value(y)\n",
    "        elif command_name == 'sub':\n",
    "            registers[x] -= value(y)\n",
    "        elif command_name == 'mul':\n",
    "            registers[x] *= value(y)\n",
    "            mul_invocations += 1\n",
    "        elif command_name == 'jnz':\n",
    "            if value(x) != 0:\n",
    "                command_number += value(y) - 1\n",
    "                    \n",
    "        command_number += 1\n",
    "        \n",
    "    return mul_invocations, registers['h'] # the latter added for Part 2"
   ]
  },
  {
   "cell_type": "markdown",
   "metadata": {},
   "source": [
    "Right, I'll set this going and head to Sainsbury's. Wish me luck."
   ]
  },
  {
   "cell_type": "code",
   "execution_count": 2,
   "metadata": {},
   "outputs": [
    {
     "name": "stdout",
     "output_type": "stream",
     "text": [
      "CPU times: user 82.7 ms, sys: 210 µs, total: 82.9 ms\n",
      "Wall time: 81.7 ms\n"
     ]
    }
   ],
   "source": [
    "with open('input', 'r') as f:\n",
    "    input_code = f.readlines()\n",
    "    \n",
    "%time answer = run(input_code)"
   ]
  },
  {
   "cell_type": "markdown",
   "metadata": {},
   "source": [
    "<s>That's never going to stop. There's most likely a slow long loop somewhere, let's see what it is.</s> Reading the question properly helped here."
   ]
  },
  {
   "cell_type": "code",
   "execution_count": 3,
   "metadata": {},
   "outputs": [
    {
     "data": {
      "text/plain": [
       "(8281, 1)"
      ]
     },
     "execution_count": 3,
     "metadata": {},
     "output_type": "execute_result"
    }
   ],
   "source": [
    "answer"
   ]
  },
  {
   "cell_type": "markdown",
   "metadata": {},
   "source": [
    "### Part 2\n",
    "\n",
    "I find it hard to work out what's going on with the quasi-assembler, so convert it to python and optimise, testing against the input for the first part each time. First add line numbers to the program and amend the `jnz` commands so they point to absolute rather than relative positions, which will make things easier to analyse."
   ]
  },
  {
   "cell_type": "code",
   "execution_count": 4,
   "metadata": {},
   "outputs": [
    {
     "name": "stdout",
     "output_type": "stream",
     "text": [
      "0 set b 93\n",
      "1 set c b\n",
      "2 jnz a 4\n",
      "3 jnz 1 8\n",
      "4 mul b 100\n",
      "5 sub b -100000\n",
      "6 set c b\n",
      "7 sub c -17000\n",
      "8 set f 1\n",
      "9 set d 2\n",
      "10 set e 2\n",
      "11 set g d\n",
      "12 mul g e\n",
      "13 sub g b\n",
      "14 jnz g 16\n",
      "15 set f 0\n",
      "16 sub e -1\n",
      "17 set g e\n",
      "18 sub g b\n",
      "19 jnz g 11\n",
      "20 sub d -1\n",
      "21 set g d\n",
      "22 sub g b\n",
      "23 jnz g 10\n",
      "24 jnz f 26\n",
      "25 sub h -1\n",
      "26 set g b\n",
      "27 sub g c\n",
      "28 jnz g 30\n",
      "29 jnz 1 32\n",
      "30 sub b -17\n",
      "31 jnz 1 8\n"
     ]
    }
   ],
   "source": [
    "def add_linenumbers_to(program):\n",
    "    result = []\n",
    "    \n",
    "    for line_number, line in enumerate(program):\n",
    "        fields = line.strip().split()\n",
    "        \n",
    "        if fields[0] == 'jnz':\n",
    "            fields[2] = str(line_number + int(fields[2]))\n",
    "            \n",
    "        result.append(' '.join([str(line_number)] + fields))\n",
    "        \n",
    "    return result\n",
    "\n",
    "debug_code = add_linenumbers_to(input_code)\n",
    "print('\\n'.join(debug_code))"
   ]
  },
  {
   "cell_type": "markdown",
   "metadata": {},
   "source": [
    "Human compilation first pass."
   ]
  },
  {
   "cell_type": "code",
   "execution_count": 5,
   "metadata": {},
   "outputs": [
    {
     "name": "stdout",
     "output_type": "stream",
     "text": [
      "8281 1\n"
     ]
    }
   ],
   "source": [
    "a = 0\n",
    "b = 93\n",
    "c = b\n",
    "h = 0\n",
    "\n",
    "multiplications = 0\n",
    "\n",
    "if a != 0: # The clause to make everything take ages\n",
    "    b = b * 100 + 100000\n",
    "    multiplications += 1\n",
    "    c = b + 17000\n",
    "\n",
    "while True: # 8 - 31\n",
    "    f = 1\n",
    "    d = 2\n",
    "\n",
    "    while d != b: # 10 - 23\n",
    "        e = 2\n",
    "\n",
    "        while e != b: # 11 - 19\n",
    "            g = d * e - b\n",
    "            multiplications += 1\n",
    "\n",
    "            if g == 0:\n",
    "                f = 0\n",
    "\n",
    "            e = e + 1\n",
    "\n",
    "        d = d + 1\n",
    "\n",
    "    if f == 0:\n",
    "        h = h + 1\n",
    "\n",
    "    g = b - c\n",
    "\n",
    "    if g == 0:\n",
    "        print(multiplications, h)\n",
    "        break\n",
    "\n",
    "    b = b + 17"
   ]
  },
  {
   "cell_type": "markdown",
   "metadata": {},
   "source": [
    "That works. Now optimise the inner loop. This increases `e` from 2 until `d * e == b`, when it sets `f` to `0`, which seems to be a flag that `d` is a factor of `b`. It then continues for `b - d*e` loops for no good reason.\n",
    "\n",
    "Aha. Lines 10-23 are working out if `b` is prime and increasing `h` if it has a factor. \n",
    "\n",
    "Human compilation -O1."
   ]
  },
  {
   "cell_type": "code",
   "execution_count": 6,
   "metadata": {},
   "outputs": [
    {
     "name": "stdout",
     "output_type": "stream",
     "text": [
      "8281 1\n"
     ]
    }
   ],
   "source": [
    "import math\n",
    "\n",
    "a = 0\n",
    "b = 93\n",
    "c = b\n",
    "g = 0\n",
    "h = 0\n",
    "\n",
    "multiplications = 0\n",
    "\n",
    "if a != 0: # The clause to make everything take ages\n",
    "    b = b * 100 + 100000\n",
    "    multiplications += 1\n",
    "    c = b + 17000\n",
    "\n",
    "while True: # 8 - 31\n",
    "    for d in range(2, math.floor(math.sqrt(b))):\n",
    "        if b % d == 0:\n",
    "            h = h + 1\n",
    "            break\n",
    "    multiplications += (b-2) ** 2\n",
    "    \n",
    "    g = b - c\n",
    "\n",
    "    if b == c:\n",
    "        print(multiplications, h)\n",
    "        break\n",
    "\n",
    "    b = b + 17"
   ]
  },
  {
   "cell_type": "markdown",
   "metadata": {},
   "source": [
    "OK, let's see what happens when `a` is set to 1."
   ]
  },
  {
   "cell_type": "code",
   "execution_count": 7,
   "metadata": {},
   "outputs": [
    {
     "name": "stdout",
     "output_type": "stream",
     "text": [
      "13914400804305 911\n"
     ]
    }
   ],
   "source": [
    "import math\n",
    "\n",
    "a = 1\n",
    "b = 93\n",
    "c = b\n",
    "g = 0\n",
    "h = 0\n",
    "\n",
    "multiplications = 0\n",
    "\n",
    "if a != 0: # The clause to make everything take ages\n",
    "    b = b * 100 + 100000\n",
    "    multiplications += 1\n",
    "    c = b + 17000\n",
    "\n",
    "while True: # 8 - 31\n",
    "    for d in range(2, math.floor(math.sqrt(b))):\n",
    "        if b % d == 0:\n",
    "            h = h + 1\n",
    "            break\n",
    "    multiplications += (b-2) ** 2\n",
    "    \n",
    "    g = b - c\n",
    "\n",
    "    if b == c:\n",
    "        print(multiplications, h)\n",
    "        break\n",
    "\n",
    "    b = b + 17"
   ]
  },
  {
   "cell_type": "markdown",
   "metadata": {},
   "source": [
    "That's correct."
   ]
  },
  {
   "cell_type": "code",
   "execution_count": 8,
   "metadata": {},
   "outputs": [
    {
     "data": {
      "text/plain": [
       "911"
      ]
     },
     "execution_count": 8,
     "metadata": {},
     "output_type": "execute_result"
    }
   ],
   "source": [
    "b = 9300 + 100000\n",
    "c = b + 17000\n",
    "\n",
    "sum(any(x % f == 0 for f in range(2, math.floor(math.sqrt(x)))) for x in range(b, c+1, 17))"
   ]
  },
  {
   "cell_type": "markdown",
   "metadata": {},
   "source": [
    "I'm not sure that's any easier to read than the assembly language. \n",
    "\n",
    "I enjoyed that one. "
   ]
  },
  {
   "cell_type": "code",
   "execution_count": null,
   "metadata": {},
   "outputs": [],
   "source": []
  }
 ],
 "metadata": {
  "kernelspec": {
   "display_name": "Python [conda root]",
   "language": "python",
   "name": "conda-root-py"
  },
  "language_info": {
   "codemirror_mode": {
    "name": "ipython",
    "version": 3
   },
   "file_extension": ".py",
   "mimetype": "text/x-python",
   "name": "python",
   "nbconvert_exporter": "python",
   "pygments_lexer": "ipython3",
   "version": "3.5.4"
  }
 },
 "nbformat": 4,
 "nbformat_minor": 2
}
