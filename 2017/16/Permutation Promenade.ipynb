{
 "cells": [
  {
   "cell_type": "markdown",
   "metadata": {},
   "source": [
    "## Day 16: Permutation Promenade\n",
    "\n",
    "http://adventofcode.com/2017/day/16\n",
    "\n",
    "### Part 1"
   ]
  },
  {
   "cell_type": "code",
   "execution_count": 72,
   "metadata": {},
   "outputs": [],
   "source": [
    "from pyrsistent import pvector, pmap\n",
    "\n",
    "def spin(sequence, x):\n",
    "    return sequence[len(sequence) - x:] + sequence[:len(sequence) - x]"
   ]
  },
  {
   "cell_type": "code",
   "execution_count": 73,
   "metadata": {},
   "outputs": [
    {
     "data": {
      "text/plain": [
       "pvector(['c', 'd', 'e', 'a', 'b'])"
      ]
     },
     "execution_count": 73,
     "metadata": {},
     "output_type": "execute_result"
    }
   ],
   "source": [
    "spin(pvector('abcde'), 3)"
   ]
  },
  {
   "cell_type": "code",
   "execution_count": 74,
   "metadata": {},
   "outputs": [],
   "source": [
    "def exchange(sequence, a, b):\n",
    "    result = sequence.set(a, sequence[b])\n",
    "    result = result.set(b, sequence[a])\n",
    "    return result"
   ]
  },
  {
   "cell_type": "code",
   "execution_count": 75,
   "metadata": {},
   "outputs": [
    {
     "data": {
      "text/plain": [
       "pvector(['a', 'd', 'c', 'b', 'e'])"
      ]
     },
     "execution_count": 75,
     "metadata": {},
     "output_type": "execute_result"
    }
   ],
   "source": [
    "exchange(pvector('abcde'), 1, 3)"
   ]
  },
  {
   "cell_type": "code",
   "execution_count": 76,
   "metadata": {},
   "outputs": [],
   "source": [
    "def partner(sequence, a, b):\n",
    "    a = sequence.index(a)\n",
    "    b = sequence.index(b)\n",
    "    return exchange(sequence, a, b)"
   ]
  },
  {
   "cell_type": "code",
   "execution_count": 77,
   "metadata": {},
   "outputs": [
    {
     "data": {
      "text/plain": [
       "pvector(['a', 'd', 'c', 'b', 'e'])"
      ]
     },
     "execution_count": 77,
     "metadata": {},
     "output_type": "execute_result"
    }
   ],
   "source": [
    "partner(pvector('abcde'), 'd', 'b')"
   ]
  },
  {
   "cell_type": "code",
   "execution_count": 78,
   "metadata": {},
   "outputs": [],
   "source": [
    "import functools\n",
    "\n",
    "def process_step(sequence, step):\n",
    "    command = step[0]\n",
    "    parameters = step[1:].split('/')\n",
    "        \n",
    "    if command == 's':\n",
    "        return spin(sequence, int(parameters[0]))\n",
    "    elif command == 'x':\n",
    "        return exchange(sequence, int(parameters[0]), int(parameters[1]))\n",
    "    elif command == 'p':\n",
    "        return partner(sequence, *parameters)\n",
    "        \n",
    "def process_steps(sequence, steps):\n",
    "    return functools.reduce(process_step, steps.strip().split(','), sequence)"
   ]
  },
  {
   "cell_type": "code",
   "execution_count": 79,
   "metadata": {},
   "outputs": [
    {
     "data": {
      "text/plain": [
       "'abcdefghijklmnop'"
      ]
     },
     "execution_count": 79,
     "metadata": {},
     "output_type": "execute_result"
    }
   ],
   "source": [
    "programs = pvector(chr(x) for x in range(ord('a'), ord('p') + 1))\n",
    "\n",
    "''.join(programs)"
   ]
  },
  {
   "cell_type": "code",
   "execution_count": 80,
   "metadata": {},
   "outputs": [
    {
     "data": {
      "text/plain": [
       "'hmefajngplkidocb'"
      ]
     },
     "execution_count": 80,
     "metadata": {},
     "output_type": "execute_result"
    }
   ],
   "source": [
    "with open('input', 'r') as f:\n",
    "    steps = f.read()\n",
    "\n",
    "part_1_answer = process_steps(programs, steps)\n",
    "\n",
    "''.join(part_1_answer)"
   ]
  },
  {
   "cell_type": "markdown",
   "metadata": {},
   "source": [
    "### Part 2\n",
    "\n",
    "Ha ha! I thought Part 1 was a bit too straightforward. The partner function makes this difficult to do analytically, so just start running and hope for a cycle."
   ]
  },
  {
   "cell_type": "code",
   "execution_count": 104,
   "metadata": {},
   "outputs": [],
   "source": [
    "import itertools\n",
    "\n",
    "def find_cycle(programs):\n",
    "    seen = pmap()\n",
    "    \n",
    "    for i in itertools.count():\n",
    "        programs = process_steps(programs, steps)\n",
    "        if programs in seen:\n",
    "            return (programs, i, seen)\n",
    "        else:\n",
    "            seen = seen.set(programs, i)"
   ]
  },
  {
   "cell_type": "code",
   "execution_count": 111,
   "metadata": {},
   "outputs": [],
   "source": [
    "programs = pvector(chr(x) for x in range(ord('a'), ord('p') + 1))\n",
    "\n",
    "programs, cycle_end, programs_seen = find_cycle(programs)"
   ]
  },
  {
   "cell_type": "markdown",
   "metadata": {},
   "source": [
    "That was remarkably quick, presumably by design. There is a cycle starting at the beginning and consisting of 48 steps."
   ]
  },
  {
   "cell_type": "code",
   "execution_count": 113,
   "metadata": {},
   "outputs": [
    {
     "data": {
      "text/plain": [
       "(0, 48)"
      ]
     },
     "execution_count": 113,
     "metadata": {},
     "output_type": "execute_result"
    }
   ],
   "source": [
    "cycle_start = programs_seen[programs]\n",
    "\n",
    "cycle_start, cycle_end"
   ]
  },
  {
   "cell_type": "markdown",
   "metadata": {},
   "source": [
    "The answer is the $1000000000 \\bmod 48$th step pro"
   ]
  },
  {
   "cell_type": "code",
   "execution_count": 114,
   "metadata": {},
   "outputs": [
    {
     "data": {
      "text/plain": [
       "16"
      ]
     },
     "execution_count": 114,
     "metadata": {},
     "output_type": "execute_result"
    }
   ],
   "source": [
    "1000000000 % 48"
   ]
  },
  {
   "cell_type": "code",
   "execution_count": 116,
   "metadata": {},
   "outputs": [
    {
     "data": {
      "text/plain": [
       "'fbidepghmjklcnoa'"
      ]
     },
     "execution_count": 116,
     "metadata": {},
     "output_type": "execute_result"
    }
   ],
   "source": [
    "''.join([p for p in programs_seen if programs_seen[p] == 15][0])"
   ]
  },
  {
   "cell_type": "code",
   "execution_count": null,
   "metadata": {},
   "outputs": [],
   "source": []
  }
 ],
 "metadata": {
  "kernelspec": {
   "display_name": "Python [conda root]",
   "language": "python",
   "name": "conda-root-py"
  },
  "language_info": {
   "codemirror_mode": {
    "name": "ipython",
    "version": 3
   },
   "file_extension": ".py",
   "mimetype": "text/x-python",
   "name": "python",
   "nbconvert_exporter": "python",
   "pygments_lexer": "ipython3",
   "version": "3.5.4"
  }
 },
 "nbformat": 4,
 "nbformat_minor": 2
}
