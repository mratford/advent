{
 "cells": [
  {
   "cell_type": "markdown",
   "metadata": {},
   "source": [
    "## Day 14: Disk Defragmentation\n",
    "\n",
    "http://adventofcode.com/2017/day/14\n",
    "\n",
    "### Part 1\n",
    "\n",
    "Reuse the code from <a href='https://github.com/mratford/advent/blob/master/2017/10/Knot%20Hash.ipynb'>Day 10</a> to calculate knot hashes."
   ]
  },
  {
   "cell_type": "code",
   "execution_count": 1,
   "metadata": {},
   "outputs": [],
   "source": [
    "from knot_hash import knot_hash"
   ]
  },
  {
   "cell_type": "code",
   "execution_count": 2,
   "metadata": {},
   "outputs": [],
   "source": [
    "def hash_to_binary(h):\n",
    "    return ''.join([bin(int(c, 16))[2:].zfill(4) for c in h])"
   ]
  },
  {
   "cell_type": "code",
   "execution_count": 3,
   "metadata": {},
   "outputs": [
    {
     "data": {
      "text/plain": [
       "'1010000011000010000000010111'"
      ]
     },
     "execution_count": 3,
     "metadata": {},
     "output_type": "execute_result"
    }
   ],
   "source": [
    "hash_to_binary('a0c2017')"
   ]
  },
  {
   "cell_type": "markdown",
   "metadata": {},
   "source": [
    "According to the problem statement this should be `'10100000110000100000000101110000'` but the input string would then have to end in a zero so let's plough on."
   ]
  },
  {
   "cell_type": "code",
   "execution_count": 4,
   "metadata": {},
   "outputs": [],
   "source": [
    "def keys(base_key, number=128):\n",
    "    for i in range(number):\n",
    "        yield base_key + '-' + str(i)\n",
    "        \n",
    "def bit_grid(key): \n",
    "    return [hash_to_binary(knot_hash(k)) for k in keys(key)]\n",
    "\n",
    "def squares(key):\n",
    "    return sum(int(c) for c in ''.join(bit_grid(key)))"
   ]
  },
  {
   "cell_type": "code",
   "execution_count": 5,
   "metadata": {},
   "outputs": [
    {
     "name": "stdout",
     "output_type": "stream",
     "text": [
      "CPU times: user 7.51 s, sys: 0 ns, total: 7.51 s\n",
      "Wall time: 7.51 s\n"
     ]
    }
   ],
   "source": [
    "%time assert squares('flqrgnkx') == 8108"
   ]
  },
  {
   "cell_type": "markdown",
   "metadata": {},
   "source": [
    "Too slow, but let's get the answer."
   ]
  },
  {
   "cell_type": "code",
   "execution_count": 6,
   "metadata": {},
   "outputs": [
    {
     "data": {
      "text/plain": [
       "8292"
      ]
     },
     "execution_count": 6,
     "metadata": {},
     "output_type": "execute_result"
    }
   ],
   "source": [
    "input_key = 'ugkiagan'\n",
    "\n",
    "squares(input_key)"
   ]
  },
  {
   "cell_type": "markdown",
   "metadata": {},
   "source": [
    "### Part 2\n",
    "\n",
    "Ooh, nice problem. Will come back to it when I have more time. Here's a utility function for now."
   ]
  },
  {
   "cell_type": "code",
   "execution_count": 7,
   "metadata": {},
   "outputs": [],
   "source": [
    "def neighbours(x, y, max_x=127, max_y=127):\n",
    "    for dx in (-1, 1):\n",
    "        for dy in (-1, 1):\n",
    "            if 0 <= x + dx < max_x and 0 <= y + dy < max_y:\n",
    "                yield (x + dx, y + dy)"
   ]
  },
  {
   "cell_type": "code",
   "execution_count": null,
   "metadata": {},
   "outputs": [],
   "source": []
  }
 ],
 "metadata": {
  "kernelspec": {
   "display_name": "Python [conda root]",
   "language": "python",
   "name": "conda-root-py"
  },
  "language_info": {
   "codemirror_mode": {
    "name": "ipython",
    "version": 3
   },
   "file_extension": ".py",
   "mimetype": "text/x-python",
   "name": "python",
   "nbconvert_exporter": "python",
   "pygments_lexer": "ipython3",
   "version": "3.5.4"
  }
 },
 "nbformat": 4,
 "nbformat_minor": 2
}
