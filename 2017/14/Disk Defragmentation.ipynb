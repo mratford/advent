{
 "cells": [
  {
   "cell_type": "markdown",
   "metadata": {},
   "source": [
    "## Day 14: Disk Defragmentation\n",
    "\n",
    "http://adventofcode.com/2017/day/14\n",
    "\n",
    "### Part 1\n",
    "\n",
    "This is reasonably straightforward, if a but fiddly. Reuse the code from <a href='https://github.com/mratford/advent/blob/master/2017/10/Knot%20Hash.ipynb'>Day 10</a> to calculate knot hashes."
   ]
  },
  {
   "cell_type": "code",
   "execution_count": 1,
   "metadata": {},
   "outputs": [],
   "source": [
    "from knot_hash import knot_hash"
   ]
  },
  {
   "cell_type": "code",
   "execution_count": 2,
   "metadata": {},
   "outputs": [],
   "source": [
    "def hash_to_binary(h):\n",
    "    return ''.join([bin(int(c, 16))[2:].zfill(4) for c in h])"
   ]
  },
  {
   "cell_type": "code",
   "execution_count": 3,
   "metadata": {},
   "outputs": [
    {
     "data": {
      "text/plain": [
       "'1010000011000010000000010111'"
      ]
     },
     "execution_count": 3,
     "metadata": {},
     "output_type": "execute_result"
    }
   ],
   "source": [
    "hash_to_binary('a0c2017')"
   ]
  },
  {
   "cell_type": "markdown",
   "metadata": {},
   "source": [
    "According to the problem statement this should be `'10100000110000100000000101110000'` but the input string would then have to end in a zero so let's plough on."
   ]
  },
  {
   "cell_type": "code",
   "execution_count": 4,
   "metadata": {},
   "outputs": [],
   "source": [
    "from pyrsistent import pvector\n",
    "\n",
    "def keys(base_key, number=128):\n",
    "    for i in range(number):\n",
    "        yield base_key + '-' + str(i)\n",
    "        \n",
    "def bit_grid(key): \n",
    "    return pvector(hash_to_binary(knot_hash(k)) for k in keys(key))\n",
    "\n",
    "def squares(key):\n",
    "    return sum(int(c) for c in ''.join(bit_grid(key)))"
   ]
  },
  {
   "cell_type": "code",
   "execution_count": 5,
   "metadata": {},
   "outputs": [
    {
     "name": "stdout",
     "output_type": "stream",
     "text": [
      "CPU times: user 7.73 s, sys: 56 µs, total: 7.73 s\n",
      "Wall time: 7.73 s\n"
     ]
    }
   ],
   "source": [
    "test_key = 'flqrgnkx'\n",
    "\n",
    "%time assert squares(test_key) == 8108"
   ]
  },
  {
   "cell_type": "markdown",
   "metadata": {},
   "source": [
    "Too slow, but let's get the answer."
   ]
  },
  {
   "cell_type": "code",
   "execution_count": 6,
   "metadata": {},
   "outputs": [
    {
     "data": {
      "text/plain": [
       "8292"
      ]
     },
     "execution_count": 6,
     "metadata": {},
     "output_type": "execute_result"
    }
   ],
   "source": [
    "input_key = 'ugkiagan'\n",
    "\n",
    "squares(input_key)"
   ]
  },
  {
   "cell_type": "markdown",
   "metadata": {},
   "source": [
    "### Part 2\n",
    "\n",
    "Ooh, nice problem. I'll come back to it when I have more time. Here's a utility function for now."
   ]
  },
  {
   "cell_type": "code",
   "execution_count": 7,
   "metadata": {},
   "outputs": [],
   "source": [
    "def neighbours(x, y, max_x=127, max_y=127):\n",
    "    for d in (-1, 1):\n",
    "        if 0 <= x + d <= max_x:\n",
    "            yield (x + d, y)\n",
    "        if 0 <= y + d <= max_y:\n",
    "            yield (x, y + d)"
   ]
  },
  {
   "cell_type": "markdown",
   "metadata": {},
   "source": [
    "Sudden realisation that NetworkX will simplify this."
   ]
  },
  {
   "cell_type": "code",
   "execution_count": 8,
   "metadata": {},
   "outputs": [],
   "source": [
    "import networkx as nx\n",
    "\n",
    "def active(bg, x, y):\n",
    "    return bg[y][x] == '1'\n",
    "\n",
    "def active_neighbours(bg, x, y, max_x=127, max_y=127):\n",
    "    for n_x, n_y in neighbours(x, y, max_x, max_y):\n",
    "        if active(bg, x, y) and active(bg, n_x, n_y):\n",
    "            yield (n_x, n_y)\n",
    "\n",
    "def bitgrid_to_graph(bg):\n",
    "    max_x = len(bg[0]) - 1\n",
    "    max_y = len(bg) - 1\n",
    "    \n",
    "    g = nx.Graph()\n",
    "    \n",
    "    for x in range(max_x + 1):\n",
    "        for y in range(max_y + 1):\n",
    "            if active(bg, x, y):\n",
    "                g.add_node((x, y))\n",
    "            for n_x, n_y in active_neighbours(bg, x, y, max_x, max_y):\n",
    "                g.add_edge((x, y), (n_x, n_y))\n",
    "                \n",
    "    return g       \n",
    "\n",
    "def number_of_regions(key):\n",
    "    bg = bit_grid(key)\n",
    "    g = bitgrid_to_graph(bg)\n",
    "    return nx.number_connected_components(g)"
   ]
  },
  {
   "cell_type": "markdown",
   "metadata": {},
   "source": [
    "That's pretty horrific."
   ]
  },
  {
   "cell_type": "code",
   "execution_count": 9,
   "metadata": {},
   "outputs": [],
   "source": [
    "assert number_of_regions(test_key) == 1242"
   ]
  },
  {
   "cell_type": "markdown",
   "metadata": {},
   "source": [
    "That took some debugging. I'll leave some of it here for posterity."
   ]
  },
  {
   "cell_type": "code",
   "execution_count": 10,
   "metadata": {},
   "outputs": [],
   "source": [
    "from collections import defaultdict\n",
    "\n",
    "def graph_to_bitgrid(g, max_x=127, max_y=127):\n",
    "    d = defaultdict(lambda: '0')\n",
    "\n",
    "    for x, y in g.nodes:\n",
    "        d[(x, y)] = '1'\n",
    "        \n",
    "    return [''.join(d[(x, y)] for x in range(max_x + 1)) for y in range(max_y + 1)]"
   ]
  },
  {
   "cell_type": "code",
   "execution_count": 12,
   "metadata": {},
   "outputs": [],
   "source": [
    "test_bg = bit_grid(test_key)\n",
    "\n",
    "bg_to_g_to_bg = graph_to_bitgrid(bitgrid_to_graph(test_bg))"
   ]
  },
  {
   "cell_type": "code",
   "execution_count": 13,
   "metadata": {},
   "outputs": [],
   "source": [
    "assert test_bg == bg_to_g_to_bg"
   ]
  },
  {
   "cell_type": "code",
   "execution_count": 14,
   "metadata": {},
   "outputs": [],
   "source": [
    "def diff_bg(bg1, bg2):\n",
    "    max_x = len(bg1[0]) - 1\n",
    "    max_y = len(bg1) - 1\n",
    "\n",
    "    for x in range(max_x + 1):\n",
    "        for y in range(max_y + 1):\n",
    "            if bg1[y][x] != bg2[y][x]:\n",
    "                print(x, y, bg1[y][x], bg2[y][x])"
   ]
  },
  {
   "cell_type": "code",
   "execution_count": 15,
   "metadata": {},
   "outputs": [],
   "source": [
    "diff_bg(test_bg, bg_to_g_to_bg)"
   ]
  },
  {
   "cell_type": "code",
   "execution_count": 16,
   "metadata": {},
   "outputs": [
    {
     "data": {
      "text/plain": [
       "1069"
      ]
     },
     "execution_count": 16,
     "metadata": {},
     "output_type": "execute_result"
    }
   ],
   "source": [
    "number_of_regions(input_key)"
   ]
  },
  {
   "cell_type": "code",
   "execution_count": null,
   "metadata": {},
   "outputs": [],
   "source": []
  }
 ],
 "metadata": {
  "kernelspec": {
   "display_name": "Python [conda root]",
   "language": "python",
   "name": "conda-root-py"
  },
  "language_info": {
   "codemirror_mode": {
    "name": "ipython",
    "version": 3
   },
   "file_extension": ".py",
   "mimetype": "text/x-python",
   "name": "python",
   "nbconvert_exporter": "python",
   "pygments_lexer": "ipython3",
   "version": "3.5.4"
  }
 },
 "nbformat": 4,
 "nbformat_minor": 2
}
