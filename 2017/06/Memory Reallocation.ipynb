{
 "cells": [
  {
   "cell_type": "markdown",
   "metadata": {},
   "source": [
    "## Day 6: Memory Reallocation\n",
    "\n",
    "http://adventofcode.com/2017/day/6\n",
    "\n",
    "### Part 1\n",
    "\n",
    "For each reallocation cycle find the position of the largest memory bank, and divide its blocks equally amongst all blocks with any remainder given to the banks positioned directly after the largest, wrapping to the first bank if necessary."
   ]
  },
  {
   "cell_type": "code",
   "execution_count": 21,
   "metadata": {},
   "outputs": [],
   "source": [
    "def reallocation(memory):\n",
    "    memory_size = len(memory)\n",
    "    \n",
    "    # The index of the largest memory value, earliest as tie-break\n",
    "    max_index = max(range(memory_size), key=lambda i: (memory[i], -i))\n",
    "    \n",
    "    # Create temporary mutable copy of memory\n",
    "    tmp = list(memory)\n",
    "    \n",
    "    # How many blocks to reallocate\n",
    "    to_reallocate = tmp[max_index]    \n",
    "    # Remove blocks from original position\n",
    "    tmp[max_index] = 0\n",
    "    \n",
    "    # div is the number of blocks every bank will receive\n",
    "    div = to_reallocate // memory_size\n",
    "    # The first mod banks after the reallocated position will \n",
    "    # receive an extra block\n",
    "    mod = to_reallocate % memory_size\n",
    "    # div * memory_size + mod == to_reallocate\n",
    "    \n",
    "    # This worked first time and therefore must be obvious and unworthy of comment\n",
    "    return tuple(tmp[i] + div + (1 if (i - 1 - max_index) % memory_size < mod else 0) \n",
    "                 for i in range(memory_size))"
   ]
  },
  {
   "cell_type": "code",
   "execution_count": 22,
   "metadata": {},
   "outputs": [],
   "source": [
    "test_memory = (0, 2, 7, 0)\n",
    "\n",
    "assert reallocation(test_memory) == (2, 4, 1, 2)"
   ]
  },
  {
   "cell_type": "markdown",
   "metadata": {},
   "source": [
    "Track previous block allocations and stop when one has already been seen. "
   ]
  },
  {
   "cell_type": "code",
   "execution_count": 23,
   "metadata": {},
   "outputs": [],
   "source": [
    "def detect_loop(memory):\n",
    "    memory_memory = set([memory])\n",
    "    cycles = 0\n",
    "    \n",
    "    while True:\n",
    "        memory = reallocation(memory)\n",
    "        cycles += 1\n",
    "        if memory in memory_memory:\n",
    "            return cycles\n",
    "        memory_memory.add(memory)"
   ]
  },
  {
   "cell_type": "code",
   "execution_count": 24,
   "metadata": {},
   "outputs": [],
   "source": [
    "assert detect_loop(test_memory) == 5"
   ]
  },
  {
   "cell_type": "code",
   "execution_count": 25,
   "metadata": {},
   "outputs": [
    {
     "data": {
      "text/plain": [
       "14029"
      ]
     },
     "execution_count": 25,
     "metadata": {},
     "output_type": "execute_result"
    }
   ],
   "source": [
    "with open('input', 'r') as f:\n",
    "    input_memory = tuple(int(s) for s in f.read().strip().split())\n",
    "    \n",
    "detect_loop(input_memory)"
   ]
  },
  {
   "cell_type": "markdown",
   "metadata": {},
   "source": [
    "### Part 2"
   ]
  },
  {
   "cell_type": "markdown",
   "metadata": {},
   "source": [
    "To find the size of the loop record how many cycles it took to reach the start of the loop."
   ]
  },
  {
   "cell_type": "code",
   "execution_count": 26,
   "metadata": {},
   "outputs": [],
   "source": [
    "def measure_loop(memory):\n",
    "    cycles = 0\n",
    "    memory_memory = {memory: cycles}\n",
    "    \n",
    "    while True:\n",
    "        memory = reallocation(memory)\n",
    "        cycles += 1\n",
    "        if memory in memory_memory:\n",
    "            return cycles - memory_memory[memory]\n",
    "        memory_memory[memory] = cycles"
   ]
  },
  {
   "cell_type": "code",
   "execution_count": 28,
   "metadata": {},
   "outputs": [],
   "source": [
    "assert measure_loop(test_memory) == 4"
   ]
  },
  {
   "cell_type": "code",
   "execution_count": 29,
   "metadata": {},
   "outputs": [
    {
     "data": {
      "text/plain": [
       "2765"
      ]
     },
     "execution_count": 29,
     "metadata": {},
     "output_type": "execute_result"
    }
   ],
   "source": [
    "measure_loop(input_memory)"
   ]
  }
 ],
 "metadata": {
  "kernelspec": {
   "display_name": "Python [conda root]",
   "language": "python",
   "name": "conda-root-py"
  },
  "language_info": {
   "codemirror_mode": {
    "name": "ipython",
    "version": 3
   },
   "file_extension": ".py",
   "mimetype": "text/x-python",
   "name": "python",
   "nbconvert_exporter": "python",
   "pygments_lexer": "ipython3",
   "version": "3.5.4"
  }
 },
 "nbformat": 4,
 "nbformat_minor": 2
}
