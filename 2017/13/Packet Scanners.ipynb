{
 "cells": [
  {
   "cell_type": "markdown",
   "metadata": {},
   "source": [
    "## Day 13: Packet Scanners\n",
    "\n",
    "http://adventofcode.com/2017/day/13\n",
    "\n",
    "### Part 1\n",
    "\n",
    "A security scanner with cycle length $c$ will be at $c \\bmod p$ steps through its cycle at picosecond $p$. The packet will reach depth $d$ at picosecond $d$, conveniently, and will clash if $c \\bmod d = 0$. \n",
    "\n",
    "If $r$ is the range then $$c = 2(r - 1) $$"
   ]
  },
  {
   "cell_type": "code",
   "execution_count": 1,
   "metadata": {},
   "outputs": [],
   "source": [
    "def cycle_length(r):\n",
    "    return 2 * (r - 1)"
   ]
  },
  {
   "cell_type": "markdown",
   "metadata": {},
   "source": [
    "Find the total of each layer severity, $d \\times r$, where the packet clashes with the firewall layer. "
   ]
  },
  {
   "cell_type": "code",
   "execution_count": 2,
   "metadata": {},
   "outputs": [],
   "source": [
    "def severity(firewall):\n",
    "    return sum([d * r for d, r in firewall if d % cycle_length(r) == 0])"
   ]
  },
  {
   "cell_type": "markdown",
   "metadata": {},
   "source": [
    "Representing the firewall as a list of tuples rather than a dictionary, as I originally did, gives a 6x speed up."
   ]
  },
  {
   "cell_type": "code",
   "execution_count": 3,
   "metadata": {},
   "outputs": [
    {
     "data": {
      "text/plain": [
       "[(0, 3), (1, 2), (4, 4), (6, 4)]"
      ]
     },
     "execution_count": 3,
     "metadata": {},
     "output_type": "execute_result"
    }
   ],
   "source": [
    "test_data = '''0: 3\n",
    "1: 2\n",
    "4: 4\n",
    "6: 4'''\n",
    "\n",
    "import parsy\n",
    "\n",
    "integer = parsy.digit.at_least(1).concat().map(int)\n",
    "\n",
    "def process_data(data):\n",
    "    parse_depth_range = parsy.seq(integer << parsy.string(': '), integer).combine(lambda d, r: (d, r))       \n",
    "    return [parse_depth_range.parse(line.strip()) for line in data]\n",
    "\n",
    "test_firewall = process_data(test_data.splitlines())\n",
    "test_firewall"
   ]
  },
  {
   "cell_type": "code",
   "execution_count": 4,
   "metadata": {},
   "outputs": [],
   "source": [
    "assert severity(test_firewall) == 24"
   ]
  },
  {
   "cell_type": "code",
   "execution_count": 5,
   "metadata": {},
   "outputs": [
    {
     "data": {
      "text/plain": [
       "3184"
      ]
     },
     "execution_count": 5,
     "metadata": {},
     "output_type": "execute_result"
    }
   ],
   "source": [
    "with open('input', 'r') as f:\n",
    "    input_firewall = process_data(f)\n",
    "    \n",
    "severity(input_firewall)"
   ]
  },
  {
   "cell_type": "markdown",
   "metadata": {},
   "source": [
    "### Part 2\n",
    "\n",
    "I can't think of a particularly smart way of doing this, so just brute force it."
   ]
  },
  {
   "cell_type": "code",
   "execution_count": 6,
   "metadata": {},
   "outputs": [],
   "source": [
    "import itertools\n",
    "\n",
    "def safe(firewall, delay):\n",
    "    return all((d + delay) % cycle_length(r) != 0 for d, r in firewall)\n",
    "\n",
    "def first_safe_delay(firewall):\n",
    "    return next(delay for delay in itertools.count() if safe(firewall, delay))"
   ]
  },
  {
   "cell_type": "code",
   "execution_count": 7,
   "metadata": {},
   "outputs": [],
   "source": [
    "assert first_safe_delay(test_firewall) == 10"
   ]
  },
  {
   "cell_type": "code",
   "execution_count": 8,
   "metadata": {},
   "outputs": [
    {
     "name": "stdout",
     "output_type": "stream",
     "text": [
      "CPU times: user 4.81 s, sys: 227 µs, total: 4.81 s\n",
      "Wall time: 4.82 s\n"
     ]
    },
    {
     "data": {
      "text/plain": [
       "3878062"
      ]
     },
     "execution_count": 8,
     "metadata": {},
     "output_type": "execute_result"
    }
   ],
   "source": [
    "%time first_safe_delay(input_firewall)"
   ]
  },
  {
   "cell_type": "markdown",
   "metadata": {},
   "source": [
    "A tenth of that with pypy."
   ]
  },
  {
   "cell_type": "code",
   "execution_count": null,
   "metadata": {},
   "outputs": [],
   "source": []
  }
 ],
 "metadata": {
  "kernelspec": {
   "display_name": "Python [conda root]",
   "language": "python",
   "name": "conda-root-py"
  },
  "language_info": {
   "codemirror_mode": {
    "name": "ipython",
    "version": 3
   },
   "file_extension": ".py",
   "mimetype": "text/x-python",
   "name": "python",
   "nbconvert_exporter": "python",
   "pygments_lexer": "ipython3",
   "version": "3.5.4"
  }
 },
 "nbformat": 4,
 "nbformat_minor": 2
}
